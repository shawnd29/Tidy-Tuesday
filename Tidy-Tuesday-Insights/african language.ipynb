{
 "cells": [
  {
   "cell_type": "markdown",
   "metadata": {},
   "source": [
    "2023-02-28 <br/>\n",
    "African Language Sentiment <br/>\n",
    "https://github.com/rfordatascience/tidytuesday/blob/master/data/2023/2023-02-28/readme.md"
   ]
  },
  {
   "cell_type": "markdown",
   "metadata": {},
   "source": [
    "Interactive Subplots with dropdown - Completed "
   ]
  },
  {
   "cell_type": "markdown",
   "metadata": {},
   "source": [
    "https://community.plotly.com/t/combining-multiple-subplots-with-drop-down-menu-buttons/49513 <br/>\n",
    "https://plotly.com/python/table-subplots/\n"
   ]
  },
  {
   "cell_type": "code",
   "execution_count": 1,
   "metadata": {},
   "outputs": [],
   "source": [
    "import pandas as pd\n",
    "import plotly.graph_objects as go\n",
    "import plotly.express as px\n",
    "import plotly.io as pio\n",
    "pio.renderers.default='jupyterlab'\n",
    "import os"
   ]
  },
  {
   "cell_type": "code",
   "execution_count": 2,
   "metadata": {},
   "outputs": [
    {
     "data": {
      "text/html": [
       "<div>\n",
       "<style scoped>\n",
       "    .dataframe tbody tr th:only-of-type {\n",
       "        vertical-align: middle;\n",
       "    }\n",
       "\n",
       "    .dataframe tbody tr th {\n",
       "        vertical-align: top;\n",
       "    }\n",
       "\n",
       "    .dataframe thead th {\n",
       "        text-align: right;\n",
       "    }\n",
       "</style>\n",
       "<table border=\"1\" class=\"dataframe\">\n",
       "  <thead>\n",
       "    <tr style=\"text-align: right;\">\n",
       "      <th></th>\n",
       "      <th>language_iso_code</th>\n",
       "      <th>tweet</th>\n",
       "      <th>label</th>\n",
       "      <th>intended_use</th>\n",
       "    </tr>\n",
       "  </thead>\n",
       "  <tbody>\n",
       "    <tr>\n",
       "      <th>0</th>\n",
       "      <td>amh</td>\n",
       "      <td>አማራ ክልል ፈልቶበታል ልኩን ማስገባት ነው!!! ሙስሊሞችን ጠልቶ 85% ...</td>\n",
       "      <td>negative</td>\n",
       "      <td>dev</td>\n",
       "    </tr>\n",
       "    <tr>\n",
       "      <th>1</th>\n",
       "      <td>amh</td>\n",
       "      <td>ሰውን አንገት በሚያስደፋ መልኩ ዝም ብሎ ሙድ መያዝ....ስልህ ያ ሰው ም...</td>\n",
       "      <td>negative</td>\n",
       "      <td>dev</td>\n",
       "    </tr>\n",
       "    <tr>\n",
       "      <th>2</th>\n",
       "      <td>amh</td>\n",
       "      <td>የቤት ውስጥ ጥቃት – ያለሰሚ – ያለተመልካች</td>\n",
       "      <td>negative</td>\n",
       "      <td>dev</td>\n",
       "    </tr>\n",
       "    <tr>\n",
       "      <th>3</th>\n",
       "      <td>amh</td>\n",
       "      <td>Ethiopia ወያኔን ለመጣል ምን ድርሻ ነበራችሁ ? ከወደቀ በኋላ ጉራ ...</td>\n",
       "      <td>negative</td>\n",
       "      <td>dev</td>\n",
       "    </tr>\n",
       "    <tr>\n",
       "      <th>4</th>\n",
       "      <td>amh</td>\n",
       "      <td>ኦሮሞ ምንም ቢማር ከብት ነዉ አያስተዉልም ጥንብ ዘረኛ ናቸዉ</td>\n",
       "      <td>negative</td>\n",
       "      <td>dev</td>\n",
       "    </tr>\n",
       "  </tbody>\n",
       "</table>\n",
       "</div>"
      ],
      "text/plain": [
       "  language_iso_code                                              tweet  \\\n",
       "0               amh  አማራ ክልል ፈልቶበታል ልኩን ማስገባት ነው!!! ሙስሊሞችን ጠልቶ 85% ...   \n",
       "1               amh  ሰውን አንገት በሚያስደፋ መልኩ ዝም ብሎ ሙድ መያዝ....ስልህ ያ ሰው ም...   \n",
       "2               amh                       የቤት ውስጥ ጥቃት – ያለሰሚ – ያለተመልካች   \n",
       "3               amh  Ethiopia ወያኔን ለመጣል ምን ድርሻ ነበራችሁ ? ከወደቀ በኋላ ጉራ ...   \n",
       "4               amh             ኦሮሞ ምንም ቢማር ከብት ነዉ አያስተዉልም ጥንብ ዘረኛ ናቸዉ   \n",
       "\n",
       "      label intended_use  \n",
       "0  negative          dev  \n",
       "1  negative          dev  \n",
       "2  negative          dev  \n",
       "3  negative          dev  \n",
       "4  negative          dev  "
      ]
     },
     "execution_count": 2,
     "metadata": {},
     "output_type": "execute_result"
    }
   ],
   "source": [
    "df= pd.read_csv(\"https://raw.githubusercontent.com/rfordatascience/tidytuesday/master/data/2023/2023-02-28/afrisenti.csv\")\n",
    "df.head()"
   ]
  },
  {
   "cell_type": "code",
   "execution_count": 3,
   "metadata": {},
   "outputs": [
    {
     "data": {
      "text/html": [
       "<div>\n",
       "<style scoped>\n",
       "    .dataframe tbody tr th:only-of-type {\n",
       "        vertical-align: middle;\n",
       "    }\n",
       "\n",
       "    .dataframe tbody tr th {\n",
       "        vertical-align: top;\n",
       "    }\n",
       "\n",
       "    .dataframe thead th {\n",
       "        text-align: right;\n",
       "    }\n",
       "</style>\n",
       "<table border=\"1\" class=\"dataframe\">\n",
       "  <thead>\n",
       "    <tr style=\"text-align: right;\">\n",
       "      <th></th>\n",
       "      <th>language_iso_code</th>\n",
       "      <th>country</th>\n",
       "    </tr>\n",
       "  </thead>\n",
       "  <tbody>\n",
       "    <tr>\n",
       "      <th>0</th>\n",
       "      <td>amh</td>\n",
       "      <td>Ethiopia</td>\n",
       "    </tr>\n",
       "    <tr>\n",
       "      <th>1</th>\n",
       "      <td>arq</td>\n",
       "      <td>Algeria</td>\n",
       "    </tr>\n",
       "    <tr>\n",
       "      <th>2</th>\n",
       "      <td>ary</td>\n",
       "      <td>Morocco</td>\n",
       "    </tr>\n",
       "    <tr>\n",
       "      <th>3</th>\n",
       "      <td>hau</td>\n",
       "      <td>Cameroon</td>\n",
       "    </tr>\n",
       "    <tr>\n",
       "      <th>4</th>\n",
       "      <td>hau</td>\n",
       "      <td>Ghana</td>\n",
       "    </tr>\n",
       "  </tbody>\n",
       "</table>\n",
       "</div>"
      ],
      "text/plain": [
       "  language_iso_code   country\n",
       "0               amh  Ethiopia\n",
       "1               arq   Algeria\n",
       "2               ary   Morocco\n",
       "3               hau  Cameroon\n",
       "4               hau     Ghana"
      ]
     },
     "execution_count": 3,
     "metadata": {},
     "output_type": "execute_result"
    }
   ],
   "source": [
    "df_language = pd.read_csv(\"https://raw.githubusercontent.com/rfordatascience/tidytuesday/master/data/2023/2023-02-28/language_countries.csv\")\n",
    "df_language.head()"
   ]
  },
  {
   "cell_type": "code",
   "execution_count": 4,
   "metadata": {},
   "outputs": [
    {
     "data": {
      "text/plain": [
       "hau      22152\n",
       "ibo      15715\n",
       "yor      15127\n",
       "pcm      10556\n",
       "amh       9480\n",
       "ary       9038\n",
       "pt-MZ     7492\n",
       "kin       5155\n",
       "twi       4818\n",
       "arq       3023\n",
       "swa       3011\n",
       "orm       2494\n",
       "tir       2398\n",
       "tso       1261\n",
       "Name: language_iso_code, dtype: int64"
      ]
     },
     "execution_count": 4,
     "metadata": {},
     "output_type": "execute_result"
    }
   ],
   "source": [
    "df.language_iso_code.value_counts()"
   ]
  },
  {
   "cell_type": "code",
   "execution_count": 5,
   "metadata": {},
   "outputs": [
    {
     "data": {
      "text/html": [
       "<div>\n",
       "<style scoped>\n",
       "    .dataframe tbody tr th:only-of-type {\n",
       "        vertical-align: middle;\n",
       "    }\n",
       "\n",
       "    .dataframe tbody tr th {\n",
       "        vertical-align: top;\n",
       "    }\n",
       "\n",
       "    .dataframe thead th {\n",
       "        text-align: right;\n",
       "    }\n",
       "</style>\n",
       "<table border=\"1\" class=\"dataframe\">\n",
       "  <thead>\n",
       "    <tr style=\"text-align: right;\">\n",
       "      <th></th>\n",
       "      <th>language_iso_code</th>\n",
       "      <th>label</th>\n",
       "      <th>totals</th>\n",
       "    </tr>\n",
       "  </thead>\n",
       "  <tbody>\n",
       "    <tr>\n",
       "      <th>0</th>\n",
       "      <td>amh</td>\n",
       "      <td>negative</td>\n",
       "      <td>3273</td>\n",
       "    </tr>\n",
       "    <tr>\n",
       "      <th>1</th>\n",
       "      <td>amh</td>\n",
       "      <td>neutral</td>\n",
       "      <td>4104</td>\n",
       "    </tr>\n",
       "    <tr>\n",
       "      <th>2</th>\n",
       "      <td>amh</td>\n",
       "      <td>positive</td>\n",
       "      <td>2103</td>\n",
       "    </tr>\n",
       "    <tr>\n",
       "      <th>3</th>\n",
       "      <td>arq</td>\n",
       "      <td>negative</td>\n",
       "      <td>1590</td>\n",
       "    </tr>\n",
       "    <tr>\n",
       "      <th>4</th>\n",
       "      <td>arq</td>\n",
       "      <td>neutral</td>\n",
       "      <td>582</td>\n",
       "    </tr>\n",
       "  </tbody>\n",
       "</table>\n",
       "</div>"
      ],
      "text/plain": [
       "  language_iso_code     label  totals\n",
       "0               amh  negative    3273\n",
       "1               amh   neutral    4104\n",
       "2               amh  positive    2103\n",
       "3               arq  negative    1590\n",
       "4               arq   neutral     582"
      ]
     },
     "execution_count": 5,
     "metadata": {},
     "output_type": "execute_result"
    }
   ],
   "source": [
    "# Get total counts\n",
    "df_sentiment_group = df.groupby([\"language_iso_code\",\"label\"]).agg(totals=(\"intended_use\",\"count\")).reset_index()\n",
    "df_sentiment_group.head()"
   ]
  },
  {
   "cell_type": "code",
   "execution_count": 6,
   "metadata": {},
   "outputs": [
    {
     "data": {
      "text/html": [
       "<div>\n",
       "<style scoped>\n",
       "    .dataframe tbody tr th:only-of-type {\n",
       "        vertical-align: middle;\n",
       "    }\n",
       "\n",
       "    .dataframe tbody tr th {\n",
       "        vertical-align: top;\n",
       "    }\n",
       "\n",
       "    .dataframe thead th {\n",
       "        text-align: right;\n",
       "    }\n",
       "</style>\n",
       "<table border=\"1\" class=\"dataframe\">\n",
       "  <thead>\n",
       "    <tr style=\"text-align: right;\">\n",
       "      <th></th>\n",
       "      <th>country</th>\n",
       "      <th>label</th>\n",
       "      <th>totals</th>\n",
       "    </tr>\n",
       "  </thead>\n",
       "  <tbody>\n",
       "    <tr>\n",
       "      <th>0</th>\n",
       "      <td>Ethiopia</td>\n",
       "      <td>negative</td>\n",
       "      <td>3273</td>\n",
       "    </tr>\n",
       "    <tr>\n",
       "      <th>1</th>\n",
       "      <td>Ethiopia</td>\n",
       "      <td>neutral</td>\n",
       "      <td>4104</td>\n",
       "    </tr>\n",
       "    <tr>\n",
       "      <th>2</th>\n",
       "      <td>Ethiopia</td>\n",
       "      <td>positive</td>\n",
       "      <td>2103</td>\n",
       "    </tr>\n",
       "    <tr>\n",
       "      <th>3</th>\n",
       "      <td>Algeria</td>\n",
       "      <td>negative</td>\n",
       "      <td>1590</td>\n",
       "    </tr>\n",
       "    <tr>\n",
       "      <th>4</th>\n",
       "      <td>Algeria</td>\n",
       "      <td>neutral</td>\n",
       "      <td>582</td>\n",
       "    </tr>\n",
       "  </tbody>\n",
       "</table>\n",
       "</div>"
      ],
      "text/plain": [
       "    country     label  totals\n",
       "0  Ethiopia  negative    3273\n",
       "1  Ethiopia   neutral    4104\n",
       "2  Ethiopia  positive    2103\n",
       "3   Algeria  negative    1590\n",
       "4   Algeria   neutral     582"
      ]
     },
     "execution_count": 6,
     "metadata": {},
     "output_type": "execute_result"
    }
   ],
   "source": [
    "df_sentiment_combined = df_sentiment_group.merge(df_language, how = 'inner', left_on=\"language_iso_code\", right_on=\"language_iso_code\")[[\"country\",\"label\",\"totals\"]]\n",
    "\n",
    "df_sentiment_combined.head()"
   ]
  },
  {
   "cell_type": "code",
   "execution_count": 7,
   "metadata": {},
   "outputs": [
    {
     "data": {
      "text/html": [
       "<div>\n",
       "<style scoped>\n",
       "    .dataframe tbody tr th:only-of-type {\n",
       "        vertical-align: middle;\n",
       "    }\n",
       "\n",
       "    .dataframe tbody tr th {\n",
       "        vertical-align: top;\n",
       "    }\n",
       "\n",
       "    .dataframe thead th {\n",
       "        text-align: right;\n",
       "    }\n",
       "</style>\n",
       "<table border=\"1\" class=\"dataframe\">\n",
       "  <thead>\n",
       "    <tr style=\"text-align: right;\">\n",
       "      <th></th>\n",
       "      <th>language_iso_code</th>\n",
       "      <th>tweet</th>\n",
       "      <th>label</th>\n",
       "      <th>intended_use</th>\n",
       "    </tr>\n",
       "  </thead>\n",
       "  <tbody>\n",
       "    <tr>\n",
       "      <th>0</th>\n",
       "      <td>amh</td>\n",
       "      <td>'@user ሸውራራ ነሽ (አቃቂር ለማውጣት ያህል ??)'</td>\n",
       "      <td>negative</td>\n",
       "      <td>test</td>\n",
       "    </tr>\n",
       "    <tr>\n",
       "      <th>1</th>\n",
       "      <td>amh</td>\n",
       "      <td>Arte በገናው ምድር በዚህ ሲያስተክዘን አመሸ</td>\n",
       "      <td>negative</td>\n",
       "      <td>train</td>\n",
       "    </tr>\n",
       "    <tr>\n",
       "      <th>2</th>\n",
       "      <td>amh</td>\n",
       "      <td>ሞጣ ላይ በተፈፀመው ሙስሊሞችን የማፅዳት ዘመቻ ከ300ሚ ብር በላይ የሚገ...</td>\n",
       "      <td>negative</td>\n",
       "      <td>train</td>\n",
       "    </tr>\n",
       "    <tr>\n",
       "      <th>3</th>\n",
       "      <td>amh</td>\n",
       "      <td>ነዚ ናይ ብልጽግና ፓርቲ ነገር ብኽመይ ትግልጽዎ? - ማንቲለ ዘሊላ ዘሊላ...</td>\n",
       "      <td>negative</td>\n",
       "      <td>train</td>\n",
       "    </tr>\n",
       "    <tr>\n",
       "      <th>4</th>\n",
       "      <td>amh</td>\n",
       "      <td>'ስለባህርዳሩ ስብሰባ የግል ዕይታ ምንም አዲስ ነገረ አደለም ለ4ኛ ጊዜ ...</td>\n",
       "      <td>negative</td>\n",
       "      <td>test</td>\n",
       "    </tr>\n",
       "  </tbody>\n",
       "</table>\n",
       "</div>"
      ],
      "text/plain": [
       "  language_iso_code                                              tweet  \\\n",
       "0               amh                '@user ሸውራራ ነሽ (አቃቂር ለማውጣት ያህል ??)'   \n",
       "1               amh                      Arte በገናው ምድር በዚህ ሲያስተክዘን አመሸ   \n",
       "2               amh  ሞጣ ላይ በተፈፀመው ሙስሊሞችን የማፅዳት ዘመቻ ከ300ሚ ብር በላይ የሚገ...   \n",
       "3               amh  ነዚ ናይ ብልጽግና ፓርቲ ነገር ብኽመይ ትግልጽዎ? - ማንቲለ ዘሊላ ዘሊላ...   \n",
       "4               amh  'ስለባህርዳሩ ስብሰባ የግል ዕይታ ምንም አዲስ ነገረ አደለም ለ4ኛ ጊዜ ...   \n",
       "\n",
       "      label intended_use  \n",
       "0  negative         test  \n",
       "1  negative        train  \n",
       "2  negative        train  \n",
       "3  negative        train  \n",
       "4  negative         test  "
      ]
     },
     "execution_count": 7,
     "metadata": {},
     "output_type": "execute_result"
    }
   ],
   "source": [
    "# Get 10 random samples for each language and sentiment\n",
    "df_language_samples = df.groupby([\"language_iso_code\",\"label\"]).apply(lambda x: x.sample(10)).reset_index(drop=True)\n",
    "df_language_samples.head()\n"
   ]
  },
  {
   "cell_type": "code",
   "execution_count": 8,
   "metadata": {},
   "outputs": [
    {
     "data": {
      "text/html": [
       "<div>\n",
       "<style scoped>\n",
       "    .dataframe tbody tr th:only-of-type {\n",
       "        vertical-align: middle;\n",
       "    }\n",
       "\n",
       "    .dataframe tbody tr th {\n",
       "        vertical-align: top;\n",
       "    }\n",
       "\n",
       "    .dataframe thead th {\n",
       "        text-align: right;\n",
       "    }\n",
       "</style>\n",
       "<table border=\"1\" class=\"dataframe\">\n",
       "  <thead>\n",
       "    <tr style=\"text-align: right;\">\n",
       "      <th></th>\n",
       "      <th>country</th>\n",
       "      <th>tweet</th>\n",
       "      <th>label</th>\n",
       "    </tr>\n",
       "  </thead>\n",
       "  <tbody>\n",
       "    <tr>\n",
       "      <th>0</th>\n",
       "      <td>Ethiopia</td>\n",
       "      <td>'@user ሸውራራ ነሽ (አቃቂር ለማውጣት ያህል ??)'</td>\n",
       "      <td>negative</td>\n",
       "    </tr>\n",
       "    <tr>\n",
       "      <th>1</th>\n",
       "      <td>Ethiopia</td>\n",
       "      <td>Arte በገናው ምድር በዚህ ሲያስተክዘን አመሸ</td>\n",
       "      <td>negative</td>\n",
       "    </tr>\n",
       "    <tr>\n",
       "      <th>2</th>\n",
       "      <td>Ethiopia</td>\n",
       "      <td>ሞጣ ላይ በተፈፀመው ሙስሊሞችን የማፅዳት ዘመቻ ከ300ሚ ብር በላይ የሚገ...</td>\n",
       "      <td>negative</td>\n",
       "    </tr>\n",
       "    <tr>\n",
       "      <th>3</th>\n",
       "      <td>Ethiopia</td>\n",
       "      <td>ነዚ ናይ ብልጽግና ፓርቲ ነገር ብኽመይ ትግልጽዎ? - ማንቲለ ዘሊላ ዘሊላ...</td>\n",
       "      <td>negative</td>\n",
       "    </tr>\n",
       "    <tr>\n",
       "      <th>4</th>\n",
       "      <td>Ethiopia</td>\n",
       "      <td>'ስለባህርዳሩ ስብሰባ የግል ዕይታ ምንም አዲስ ነገረ አደለም ለ4ኛ ጊዜ ...</td>\n",
       "      <td>negative</td>\n",
       "    </tr>\n",
       "  </tbody>\n",
       "</table>\n",
       "</div>"
      ],
      "text/plain": [
       "    country                                              tweet     label\n",
       "0  Ethiopia                '@user ሸውራራ ነሽ (አቃቂር ለማውጣት ያህል ??)'  negative\n",
       "1  Ethiopia                      Arte በገናው ምድር በዚህ ሲያስተክዘን አመሸ  negative\n",
       "2  Ethiopia  ሞጣ ላይ በተፈፀመው ሙስሊሞችን የማፅዳት ዘመቻ ከ300ሚ ብር በላይ የሚገ...  negative\n",
       "3  Ethiopia  ነዚ ናይ ብልጽግና ፓርቲ ነገር ብኽመይ ትግልጽዎ? - ማንቲለ ዘሊላ ዘሊላ...  negative\n",
       "4  Ethiopia  'ስለባህርዳሩ ስብሰባ የግል ዕይታ ምንም አዲስ ነገረ አደለም ለ4ኛ ጊዜ ...  negative"
      ]
     },
     "execution_count": 8,
     "metadata": {},
     "output_type": "execute_result"
    }
   ],
   "source": [
    "df_language_combined = df_language_samples.merge(df_language, how = 'inner', left_on=\"language_iso_code\", right_on=\"language_iso_code\")[[\"country\",\"tweet\",\"label\"]]\n",
    "\n",
    "df_language_combined.head()"
   ]
  },
  {
   "cell_type": "code",
   "execution_count": 9,
   "metadata": {},
   "outputs": [
    {
     "data": {
      "text/html": [
       "<div>\n",
       "<style scoped>\n",
       "    .dataframe tbody tr th:only-of-type {\n",
       "        vertical-align: middle;\n",
       "    }\n",
       "\n",
       "    .dataframe tbody tr th {\n",
       "        vertical-align: top;\n",
       "    }\n",
       "\n",
       "    .dataframe thead th {\n",
       "        text-align: right;\n",
       "    }\n",
       "</style>\n",
       "<table border=\"1\" class=\"dataframe\">\n",
       "  <thead>\n",
       "    <tr style=\"text-align: right;\">\n",
       "      <th></th>\n",
       "      <th>country</th>\n",
       "      <th>label</th>\n",
       "      <th>totals</th>\n",
       "    </tr>\n",
       "  </thead>\n",
       "  <tbody>\n",
       "    <tr>\n",
       "      <th>0</th>\n",
       "      <td>Ethiopia</td>\n",
       "      <td>negative</td>\n",
       "      <td>3273</td>\n",
       "    </tr>\n",
       "    <tr>\n",
       "      <th>1</th>\n",
       "      <td>Ethiopia</td>\n",
       "      <td>neutral</td>\n",
       "      <td>4104</td>\n",
       "    </tr>\n",
       "    <tr>\n",
       "      <th>2</th>\n",
       "      <td>Ethiopia</td>\n",
       "      <td>positive</td>\n",
       "      <td>2103</td>\n",
       "    </tr>\n",
       "    <tr>\n",
       "      <th>3</th>\n",
       "      <td>Algeria</td>\n",
       "      <td>negative</td>\n",
       "      <td>1590</td>\n",
       "    </tr>\n",
       "    <tr>\n",
       "      <th>4</th>\n",
       "      <td>Algeria</td>\n",
       "      <td>neutral</td>\n",
       "      <td>582</td>\n",
       "    </tr>\n",
       "  </tbody>\n",
       "</table>\n",
       "</div>"
      ],
      "text/plain": [
       "    country     label  totals\n",
       "0  Ethiopia  negative    3273\n",
       "1  Ethiopia   neutral    4104\n",
       "2  Ethiopia  positive    2103\n",
       "3   Algeria  negative    1590\n",
       "4   Algeria   neutral     582"
      ]
     },
     "execution_count": 9,
     "metadata": {},
     "output_type": "execute_result"
    }
   ],
   "source": [
    "df_sentiment_combined.head()"
   ]
  },
  {
   "cell_type": "code",
   "execution_count": 10,
   "metadata": {},
   "outputs": [
    {
     "data": {
      "text/plain": [
       "array(['negative', 'neutral', 'positive'], dtype=object)"
      ]
     },
     "execution_count": 10,
     "metadata": {},
     "output_type": "execute_result"
    }
   ],
   "source": [
    "df_sentiment_combined.label.unique()"
   ]
  },
  {
   "cell_type": "code",
   "execution_count": 11,
   "metadata": {},
   "outputs": [],
   "source": [
    "# For a single Country: \n",
    "\n",
    "df_sentiment_combined_subset = df_sentiment_combined.loc[df_sentiment_combined.country ==\"Nigeria\"]\n",
    "df_language_combined_subset= df_language_combined.loc[df_language_combined.country ==\"Nigeria\"]"
   ]
  },
  {
   "cell_type": "code",
   "execution_count": 12,
   "metadata": {},
   "outputs": [
    {
     "data": {
      "application/vnd.plotly.v1+json": {
       "config": {
        "plotlyServerURL": "https://plot.ly"
       },
       "data": [
        {
         "labels": [
          "negative",
          "neutral",
          "positive",
          "negative",
          "neutral",
          "positive",
          "negative",
          "neutral",
          "positive",
          "negative",
          "neutral",
          "positive"
         ],
         "marker": {
          "colors": [
           "red",
           "yellow",
           "green",
           "red",
           "yellow",
           "green",
           "red",
           "yellow",
           "green",
           "red",
           "yellow",
           "green"
          ]
         },
         "type": "pie",
         "values": [
          7226,
          7597,
          7329,
          4013,
          6940,
          4762,
          6380,
          524,
          3652,
          3296,
          5487,
          6344
         ]
        }
       ],
       "layout": {
        "template": {
         "data": {
          "bar": [
           {
            "error_x": {
             "color": "#2a3f5f"
            },
            "error_y": {
             "color": "#2a3f5f"
            },
            "marker": {
             "line": {
              "color": "#E5ECF6",
              "width": 0.5
             },
             "pattern": {
              "fillmode": "overlay",
              "size": 10,
              "solidity": 0.2
             }
            },
            "type": "bar"
           }
          ],
          "barpolar": [
           {
            "marker": {
             "line": {
              "color": "#E5ECF6",
              "width": 0.5
             },
             "pattern": {
              "fillmode": "overlay",
              "size": 10,
              "solidity": 0.2
             }
            },
            "type": "barpolar"
           }
          ],
          "carpet": [
           {
            "aaxis": {
             "endlinecolor": "#2a3f5f",
             "gridcolor": "white",
             "linecolor": "white",
             "minorgridcolor": "white",
             "startlinecolor": "#2a3f5f"
            },
            "baxis": {
             "endlinecolor": "#2a3f5f",
             "gridcolor": "white",
             "linecolor": "white",
             "minorgridcolor": "white",
             "startlinecolor": "#2a3f5f"
            },
            "type": "carpet"
           }
          ],
          "choropleth": [
           {
            "colorbar": {
             "outlinewidth": 0,
             "ticks": ""
            },
            "type": "choropleth"
           }
          ],
          "contour": [
           {
            "colorbar": {
             "outlinewidth": 0,
             "ticks": ""
            },
            "colorscale": [
             [
              0,
              "#0d0887"
             ],
             [
              0.1111111111111111,
              "#46039f"
             ],
             [
              0.2222222222222222,
              "#7201a8"
             ],
             [
              0.3333333333333333,
              "#9c179e"
             ],
             [
              0.4444444444444444,
              "#bd3786"
             ],
             [
              0.5555555555555556,
              "#d8576b"
             ],
             [
              0.6666666666666666,
              "#ed7953"
             ],
             [
              0.7777777777777778,
              "#fb9f3a"
             ],
             [
              0.8888888888888888,
              "#fdca26"
             ],
             [
              1,
              "#f0f921"
             ]
            ],
            "type": "contour"
           }
          ],
          "contourcarpet": [
           {
            "colorbar": {
             "outlinewidth": 0,
             "ticks": ""
            },
            "type": "contourcarpet"
           }
          ],
          "heatmap": [
           {
            "colorbar": {
             "outlinewidth": 0,
             "ticks": ""
            },
            "colorscale": [
             [
              0,
              "#0d0887"
             ],
             [
              0.1111111111111111,
              "#46039f"
             ],
             [
              0.2222222222222222,
              "#7201a8"
             ],
             [
              0.3333333333333333,
              "#9c179e"
             ],
             [
              0.4444444444444444,
              "#bd3786"
             ],
             [
              0.5555555555555556,
              "#d8576b"
             ],
             [
              0.6666666666666666,
              "#ed7953"
             ],
             [
              0.7777777777777778,
              "#fb9f3a"
             ],
             [
              0.8888888888888888,
              "#fdca26"
             ],
             [
              1,
              "#f0f921"
             ]
            ],
            "type": "heatmap"
           }
          ],
          "heatmapgl": [
           {
            "colorbar": {
             "outlinewidth": 0,
             "ticks": ""
            },
            "colorscale": [
             [
              0,
              "#0d0887"
             ],
             [
              0.1111111111111111,
              "#46039f"
             ],
             [
              0.2222222222222222,
              "#7201a8"
             ],
             [
              0.3333333333333333,
              "#9c179e"
             ],
             [
              0.4444444444444444,
              "#bd3786"
             ],
             [
              0.5555555555555556,
              "#d8576b"
             ],
             [
              0.6666666666666666,
              "#ed7953"
             ],
             [
              0.7777777777777778,
              "#fb9f3a"
             ],
             [
              0.8888888888888888,
              "#fdca26"
             ],
             [
              1,
              "#f0f921"
             ]
            ],
            "type": "heatmapgl"
           }
          ],
          "histogram": [
           {
            "marker": {
             "pattern": {
              "fillmode": "overlay",
              "size": 10,
              "solidity": 0.2
             }
            },
            "type": "histogram"
           }
          ],
          "histogram2d": [
           {
            "colorbar": {
             "outlinewidth": 0,
             "ticks": ""
            },
            "colorscale": [
             [
              0,
              "#0d0887"
             ],
             [
              0.1111111111111111,
              "#46039f"
             ],
             [
              0.2222222222222222,
              "#7201a8"
             ],
             [
              0.3333333333333333,
              "#9c179e"
             ],
             [
              0.4444444444444444,
              "#bd3786"
             ],
             [
              0.5555555555555556,
              "#d8576b"
             ],
             [
              0.6666666666666666,
              "#ed7953"
             ],
             [
              0.7777777777777778,
              "#fb9f3a"
             ],
             [
              0.8888888888888888,
              "#fdca26"
             ],
             [
              1,
              "#f0f921"
             ]
            ],
            "type": "histogram2d"
           }
          ],
          "histogram2dcontour": [
           {
            "colorbar": {
             "outlinewidth": 0,
             "ticks": ""
            },
            "colorscale": [
             [
              0,
              "#0d0887"
             ],
             [
              0.1111111111111111,
              "#46039f"
             ],
             [
              0.2222222222222222,
              "#7201a8"
             ],
             [
              0.3333333333333333,
              "#9c179e"
             ],
             [
              0.4444444444444444,
              "#bd3786"
             ],
             [
              0.5555555555555556,
              "#d8576b"
             ],
             [
              0.6666666666666666,
              "#ed7953"
             ],
             [
              0.7777777777777778,
              "#fb9f3a"
             ],
             [
              0.8888888888888888,
              "#fdca26"
             ],
             [
              1,
              "#f0f921"
             ]
            ],
            "type": "histogram2dcontour"
           }
          ],
          "mesh3d": [
           {
            "colorbar": {
             "outlinewidth": 0,
             "ticks": ""
            },
            "type": "mesh3d"
           }
          ],
          "parcoords": [
           {
            "line": {
             "colorbar": {
              "outlinewidth": 0,
              "ticks": ""
             }
            },
            "type": "parcoords"
           }
          ],
          "pie": [
           {
            "automargin": true,
            "type": "pie"
           }
          ],
          "scatter": [
           {
            "fillpattern": {
             "fillmode": "overlay",
             "size": 10,
             "solidity": 0.2
            },
            "type": "scatter"
           }
          ],
          "scatter3d": [
           {
            "line": {
             "colorbar": {
              "outlinewidth": 0,
              "ticks": ""
             }
            },
            "marker": {
             "colorbar": {
              "outlinewidth": 0,
              "ticks": ""
             }
            },
            "type": "scatter3d"
           }
          ],
          "scattercarpet": [
           {
            "marker": {
             "colorbar": {
              "outlinewidth": 0,
              "ticks": ""
             }
            },
            "type": "scattercarpet"
           }
          ],
          "scattergeo": [
           {
            "marker": {
             "colorbar": {
              "outlinewidth": 0,
              "ticks": ""
             }
            },
            "type": "scattergeo"
           }
          ],
          "scattergl": [
           {
            "marker": {
             "colorbar": {
              "outlinewidth": 0,
              "ticks": ""
             }
            },
            "type": "scattergl"
           }
          ],
          "scattermapbox": [
           {
            "marker": {
             "colorbar": {
              "outlinewidth": 0,
              "ticks": ""
             }
            },
            "type": "scattermapbox"
           }
          ],
          "scatterpolar": [
           {
            "marker": {
             "colorbar": {
              "outlinewidth": 0,
              "ticks": ""
             }
            },
            "type": "scatterpolar"
           }
          ],
          "scatterpolargl": [
           {
            "marker": {
             "colorbar": {
              "outlinewidth": 0,
              "ticks": ""
             }
            },
            "type": "scatterpolargl"
           }
          ],
          "scatterternary": [
           {
            "marker": {
             "colorbar": {
              "outlinewidth": 0,
              "ticks": ""
             }
            },
            "type": "scatterternary"
           }
          ],
          "surface": [
           {
            "colorbar": {
             "outlinewidth": 0,
             "ticks": ""
            },
            "colorscale": [
             [
              0,
              "#0d0887"
             ],
             [
              0.1111111111111111,
              "#46039f"
             ],
             [
              0.2222222222222222,
              "#7201a8"
             ],
             [
              0.3333333333333333,
              "#9c179e"
             ],
             [
              0.4444444444444444,
              "#bd3786"
             ],
             [
              0.5555555555555556,
              "#d8576b"
             ],
             [
              0.6666666666666666,
              "#ed7953"
             ],
             [
              0.7777777777777778,
              "#fb9f3a"
             ],
             [
              0.8888888888888888,
              "#fdca26"
             ],
             [
              1,
              "#f0f921"
             ]
            ],
            "type": "surface"
           }
          ],
          "table": [
           {
            "cells": {
             "fill": {
              "color": "#EBF0F8"
             },
             "line": {
              "color": "white"
             }
            },
            "header": {
             "fill": {
              "color": "#C8D4E3"
             },
             "line": {
              "color": "white"
             }
            },
            "type": "table"
           }
          ]
         },
         "layout": {
          "annotationdefaults": {
           "arrowcolor": "#2a3f5f",
           "arrowhead": 0,
           "arrowwidth": 1
          },
          "autotypenumbers": "strict",
          "coloraxis": {
           "colorbar": {
            "outlinewidth": 0,
            "ticks": ""
           }
          },
          "colorscale": {
           "diverging": [
            [
             0,
             "#8e0152"
            ],
            [
             0.1,
             "#c51b7d"
            ],
            [
             0.2,
             "#de77ae"
            ],
            [
             0.3,
             "#f1b6da"
            ],
            [
             0.4,
             "#fde0ef"
            ],
            [
             0.5,
             "#f7f7f7"
            ],
            [
             0.6,
             "#e6f5d0"
            ],
            [
             0.7,
             "#b8e186"
            ],
            [
             0.8,
             "#7fbc41"
            ],
            [
             0.9,
             "#4d9221"
            ],
            [
             1,
             "#276419"
            ]
           ],
           "sequential": [
            [
             0,
             "#0d0887"
            ],
            [
             0.1111111111111111,
             "#46039f"
            ],
            [
             0.2222222222222222,
             "#7201a8"
            ],
            [
             0.3333333333333333,
             "#9c179e"
            ],
            [
             0.4444444444444444,
             "#bd3786"
            ],
            [
             0.5555555555555556,
             "#d8576b"
            ],
            [
             0.6666666666666666,
             "#ed7953"
            ],
            [
             0.7777777777777778,
             "#fb9f3a"
            ],
            [
             0.8888888888888888,
             "#fdca26"
            ],
            [
             1,
             "#f0f921"
            ]
           ],
           "sequentialminus": [
            [
             0,
             "#0d0887"
            ],
            [
             0.1111111111111111,
             "#46039f"
            ],
            [
             0.2222222222222222,
             "#7201a8"
            ],
            [
             0.3333333333333333,
             "#9c179e"
            ],
            [
             0.4444444444444444,
             "#bd3786"
            ],
            [
             0.5555555555555556,
             "#d8576b"
            ],
            [
             0.6666666666666666,
             "#ed7953"
            ],
            [
             0.7777777777777778,
             "#fb9f3a"
            ],
            [
             0.8888888888888888,
             "#fdca26"
            ],
            [
             1,
             "#f0f921"
            ]
           ]
          },
          "colorway": [
           "#636efa",
           "#EF553B",
           "#00cc96",
           "#ab63fa",
           "#FFA15A",
           "#19d3f3",
           "#FF6692",
           "#B6E880",
           "#FF97FF",
           "#FECB52"
          ],
          "font": {
           "color": "#2a3f5f"
          },
          "geo": {
           "bgcolor": "white",
           "lakecolor": "white",
           "landcolor": "#E5ECF6",
           "showlakes": true,
           "showland": true,
           "subunitcolor": "white"
          },
          "hoverlabel": {
           "align": "left"
          },
          "hovermode": "closest",
          "mapbox": {
           "style": "light"
          },
          "paper_bgcolor": "white",
          "plot_bgcolor": "#E5ECF6",
          "polar": {
           "angularaxis": {
            "gridcolor": "white",
            "linecolor": "white",
            "ticks": ""
           },
           "bgcolor": "#E5ECF6",
           "radialaxis": {
            "gridcolor": "white",
            "linecolor": "white",
            "ticks": ""
           }
          },
          "scene": {
           "xaxis": {
            "backgroundcolor": "#E5ECF6",
            "gridcolor": "white",
            "gridwidth": 2,
            "linecolor": "white",
            "showbackground": true,
            "ticks": "",
            "zerolinecolor": "white"
           },
           "yaxis": {
            "backgroundcolor": "#E5ECF6",
            "gridcolor": "white",
            "gridwidth": 2,
            "linecolor": "white",
            "showbackground": true,
            "ticks": "",
            "zerolinecolor": "white"
           },
           "zaxis": {
            "backgroundcolor": "#E5ECF6",
            "gridcolor": "white",
            "gridwidth": 2,
            "linecolor": "white",
            "showbackground": true,
            "ticks": "",
            "zerolinecolor": "white"
           }
          },
          "shapedefaults": {
           "line": {
            "color": "#2a3f5f"
           }
          },
          "ternary": {
           "aaxis": {
            "gridcolor": "white",
            "linecolor": "white",
            "ticks": ""
           },
           "baxis": {
            "gridcolor": "white",
            "linecolor": "white",
            "ticks": ""
           },
           "bgcolor": "#E5ECF6",
           "caxis": {
            "gridcolor": "white",
            "linecolor": "white",
            "ticks": ""
           }
          },
          "title": {
           "x": 0.05
          },
          "xaxis": {
           "automargin": true,
           "gridcolor": "white",
           "linecolor": "white",
           "ticks": "",
           "title": {
            "standoff": 15
           },
           "zerolinecolor": "white",
           "zerolinewidth": 2
          },
          "yaxis": {
           "automargin": true,
           "gridcolor": "white",
           "linecolor": "white",
           "ticks": "",
           "title": {
            "standoff": 15
           },
           "zerolinecolor": "white",
           "zerolinewidth": 2
          }
         }
        }
       }
      }
     },
     "metadata": {},
     "output_type": "display_data"
    }
   ],
   "source": [
    "# Make pie chart \n",
    "map_dict={'negative':'red', 'neutral':'yellow', 'positive':'green'}\n",
    "\n",
    "fig = go.Figure()\n",
    "fig.add_trace(go.Pie(labels=df_sentiment_combined.loc[df_sentiment_combined.country ==\"Nigeria\"].label, values=df_sentiment_combined.loc[df_sentiment_combined.country ==\"Nigeria\"].totals,\n",
    "                 marker_colors = df_sentiment_combined.loc[df_sentiment_combined.country ==\"Nigeria\"].label.map(map_dict)))\n",
    "\n",
    "\n",
    "fig.show()"
   ]
  },
  {
   "cell_type": "code",
   "execution_count": 13,
   "metadata": {},
   "outputs": [
    {
     "data": {
      "image/png": "[encoded data removed]",
      "text/plain": [
       "<IPython.core.display.Image object>"
      ]
     },
     "execution_count": 13,
     "metadata": {},
     "output_type": "execute_result"
    }
   ],
   "source": [
    "# Display Output in production\n",
    "img_bytes = fig.to_image(format=\"png\")\n",
    "from IPython.display import Image\n",
    "Image(img_bytes)"
   ]
  },
  {
   "cell_type": "code",
   "execution_count": 14,
   "metadata": {},
   "outputs": [
    {
     "data": {
      "application/vnd.plotly.v1+json": {
       "config": {
        "plotlyServerURL": "https://plot.ly"
       },
       "data": [
        {
         "cells": {
          "align": "left",
          "fill": {
           "color": "lightcyan"
          },
          "line": {
           "color": "darkslategray"
          },
          "values": [
           [
            "Nigeria",
            "Nigeria",
            "Nigeria",
            "Nigeria",
            "Nigeria",
            "Nigeria",
            "Nigeria",
            "Nigeria",
            "Nigeria",
            "Nigeria",
            "Nigeria",
            "Nigeria",
            "Nigeria",
            "Nigeria",
            "Nigeria",
            "Nigeria",
            "Nigeria",
            "Nigeria",
            "Nigeria",
            "Nigeria",
            "Nigeria",
            "Nigeria",
            "Nigeria",
            "Nigeria",
            "Nigeria",
            "Nigeria",
            "Nigeria",
            "Nigeria",
            "Nigeria",
            "Nigeria",
            "Nigeria",
            "Nigeria",
            "Nigeria",
            "Nigeria",
            "Nigeria",
            "Nigeria",
            "Nigeria",
            "Nigeria",
            "Nigeria",
            "Nigeria",
            "Nigeria",
            "Nigeria",
            "Nigeria",
            "Nigeria",
            "Nigeria",
            "Nigeria",
            "Nigeria",
            "Nigeria",
            "Nigeria",
            "Nigeria",
            "Nigeria",
            "Nigeria",
            "Nigeria",
            "Nigeria",
            "Nigeria",
            "Nigeria",
            "Nigeria",
            "Nigeria",
            "Nigeria",
            "Nigeria",
            "Nigeria",
            "Nigeria",
            "Nigeria",
            "Nigeria",
            "Nigeria",
            "Nigeria",
            "Nigeria",
            "Nigeria",
            "Nigeria",
            "Nigeria",
            "Nigeria",
            "Nigeria",
            "Nigeria",
            "Nigeria",
            "Nigeria",
            "Nigeria",
            "Nigeria",
            "Nigeria",
            "Nigeria",
            "Nigeria",
            "Nigeria",
            "Nigeria",
            "Nigeria",
            "Nigeria",
            "Nigeria",
            "Nigeria",
            "Nigeria",
            "Nigeria",
            "Nigeria",
            "Nigeria",
            "Nigeria",
            "Nigeria",
            "Nigeria",
            "Nigeria",
            "Nigeria",
            "Nigeria",
            "Nigeria",
            "Nigeria",
            "Nigeria",
            "Nigeria",
            "Nigeria",
            "Nigeria",
            "Nigeria",
            "Nigeria",
            "Nigeria",
            "Nigeria",
            "Nigeria",
            "Nigeria",
            "Nigeria",
            "Nigeria",
            "Nigeria",
            "Nigeria",
            "Nigeria",
            "Nigeria",
            "Nigeria",
            "Nigeria",
            "Nigeria",
            "Nigeria",
            "Nigeria",
            "Nigeria"
           ],
           [
            "@user Nima nayi Allah wadai da kisan mutane 70 a jamhuriyar Nigar, sai me? 🙄",
            "@user Bashi Jali ya fara sana'a mtswwww!!! 😕😕",
            "@user @user Yoooo what are dey waiting for? Akaishi mna kar yasamu yafita wajeh, yaqi dawowa🙁",
            "gaskiya bbc hausa baku da aikin yi to mu ina ruwanmu da ita ta mutu ma meye damuwar mu",
            "@user Wllh Gaskiya dayace Mulkin Nigeria ya gagari Buhari Domin Babu fannin da aka samu ci gaba a Nigeria idan ka dubi matsalar tsaro da matsalar harkokin Yau da kullum, Tsadar Rayuwa Ga Rashin Wutar Lantarki, Ga Matsalar Kidnapping, Ga Matsalar Rashin Aikinyi🤔 Kai Wllh Ya Gazaaa😭😭",
            "@user Walla da shegen takan ball aka haiheshi baiji bai gani😂",
            "@user Ga ba wuta 😢😩😭",
            "@user Kwarankwasa Tabar Wawa Da Bashin Shadda,Wasukuma Ta Abaya Yasin😎😂",
            "@user 😅😅😅😅😅. Dan hegiya. Tunda ya bar baca Lalacewa kuma Yanzu Ya fara",
            "@user Bbc kuma fah munafikai ne 😂uban wa ta caccaka",
            "@user @user @user Kaima kasani ai😂",
            "mai mashara akoi ta amsin",
            "@user 🙆🙆 amma da niyya yayi wannan aika aika ko🙄🙄",
            "toh fa wai har yanzu ma akwai corona",
            "@user @user @user @user Yauwa inda gaske ne 😅",
            "@user Toh kuma me ya kawo tallar fuskar mace a wannan al'amarin?🙄",
            "@user Habawa Nidai nasan kwafan sunan'nan kukayi wallahi 😂",
            "@user Wai zaurawa kuma😂😂😂😂 samari dai. Aa Anty Layla saidai zurawan 😅",
            "gaskiya ne dogo sai da doguwa gajere sai da",
            "@user Kukasani ai ba Paris 🇮🇹 zatajeba kasani koh wudil zatata GI yasin 😂😂😂",
            "@user Allah yasa ba da uwar wani ba🙏",
            "allah yataimaka sarki allah yakaraja da nisan kwana mai mai martaba sarkin karaye",
            "@user Ciki da raino shima yayi kam.. fantastic 3 guys!!! Allah ya kara basira. Ina son directing dinka saboda akwai nisadi a ciki😎",
            "@user Ai kuwa da mun ci dariya kamar cikinmu ya yi ciwo 😂",
            "@user Babbar malamata ta firamare...malama kulu mai hijabi ❤️tananan kuma alhamdu lillah haryanzu ina tareda ita..wannan matar kirki e... from BIRNIN KEBBI",
            "@user Allah y kai haske kabarinsa alfarmar wannan wata mai alfarma🇳🇬🙏",
            "@user Kanawa sae uban Abba😹",
            "yaro ya fito babansa sak allah ya musu gafara baki daya",
            "@user Allah ya jikan rai , Allah yasa in tamu tazo mucika da imani 😂🙏🏾",
            "@user Kisha sha'anin duniya ce,babbar yarinya💋 son wani kin wanda yarasa.🔥🔥🔥🔥",
            "@user swears🤣 Ndi ara",
            "@user 😂😂😂😂😂. Nna eh ike gwụrụ",
            "i bụ ehhh ezigbo nsogbu",
            "@user ike gwurum Nwannem",
            "onwa ubochi umu asa gaa amapu gi isi eeh",
            "At your big age Kate! Otu a iha, ezigbo agbogho di ka gi! 😂😂 https://t.co/pl8jyq5WWa",
            "@user Taaah, mechie onu dia. Orugho my friend https://t.co/55i0M38cPs",
            "#Repost dancegathering with @user ・・・ #Instructor - Onye Ozuzu is a dance administrator,… https://t.co/NvLho6vZtN",
            "Gedoni onye ashi 🙄 #BBNajia",
            "echem si onwe ife ina eke",
            "@user @user Ala adighi mma bu uru ndi Nze!",
            "e ga egbu onye iga eso wey kwa ‍️",
            "Kedu onye nke oo! Obulu nke no na etiti, i gwa m ka m bia mee the needful. https://t.co/w06LLMoPmx",
            "@user @user @user @user Mens choro ebe ana eme ife ego 😌",
            "nna anaghi m ala nwoke nau",
            "ihe a bú ego ayọri ọ bụ ihe ọtịta si na mmiri nnu pụta aghụpụtasị a ya asaa ya gbaa ya na anwụ ego eme e ndị gboo jiri ya zụọ ahịa tupu ego wolomgbo a pụta kedụ ihe ana akpọ ya na bé ụnụ",
            "A babe kuo Ofuma, a gam edozili ya Onudu cholu ya Innoson jeep..A babe bulu onye mgbú, achiputalu ya slippers ya choro ya ego keke .....😂😂😂 Zoro is a whole moood #Mbada #Morningjog",
            "so ndi kwere android mezie gini",
            "@user Lol. Nne, amam e si nri ofuma. Oburo ile",
            "@user aligommanwu ona abu nnukwu azu ka ba nka, olaa na oke osimmiri.#osha",
            "@user Jisie nu ike https://t.co/cioiUu8bLp",
            "Jehovah idi egwu Jehovah Idi egwu #Praise #FARandMODE @user @user @user @user @user @user @user",
            "ozugbo nu nwanyi oma daalu",
            "Otito diri Chineke n'elu kasi elu n'uwa Udo diri mmadu ndi ihe ha n'aso Chukwu.",
            "asa onye life",
            "omalicha ada ndi igbo",
            "Onyem Chukwu goziwerem gi https://t.co/QR5iGUN71R",
            "sauce everywhere nne idi oku",
            "Chukwu goziwerem gi Nwoke Oma https://t.co/SDRNRIwL3T",
            "Kene Jehova n'ihi na ọ dinma. Happy Sunday ndị ọma twitter.. https://t.co/cM2CSwuYjj",
            "but dem dey collect gbas gbos na e no matter ore mi",
            "we be like men for this life wey no fit relate but the don die",
            "for us wey no sabi smile but dey sing nkor if you live me go dey",
            "just tell me amount make i pay those forest frsc are so full of themselves na so i no stop for one i flashed him on stopping me and he gave way the other that was seated just took upon himself to vex for matter wea no be him own come start dey para mtchwee",
            "my name is samipraise chatting from abeg help me with country na ja don had ooo still roaming",
            "i just want to wake up one morning go straight to aso rock demand to see the president greet him and give him better slap is it too much to ask after that anything way wan happen make e happen i be port harcourt boy wike na my governor",
            "ssa wey you dey yab nor dey reason you oooooooo",
            "i thought my area was alone in this please we no wan hear one grid get fault oooo abeg its december abi water don dry fro dam again ni",
            "some people wicked sha when dey won borrow money dem go behave like human being ok to return am now dey go turn animal turn u to enemy",
            "money wey i dey manage uba took a whole they took before abeg you people should comman explain to me why",
            "keypad dey press hin sef ‍️",
            "make it pm abeg i de sleep",
            "me sef dey think am oo",
            "e dey take full village to take care of pikin as usual go soon pop up untop wit me so pin i dey test u",
            "my guy dey de list o",
            "tell the truth but you go dey fear you crushing on hershoot your shot but you go dey fear you get your moneyspend itlive your best life but you go dey fear yes am talking to you i really need to meet this mr fear",
            "people im not friends with speaking pidgin withto me doesnt sit well with me funny that im here is even shorter than i don show",
            "im loyal i dey learn where you dey na",
            "na church i dey dey tweet",
            "money wey white dey take time to don",
            "i swear jide read pass me for that exam i was too confident like wetin baba wan set wey i no go sabi baba sly me",
            "its look like you just got ahold of this endearment e dey sweet you for belle well well sir",
            "if you be wetin you for do i sha pray the guy does the right thing which is making sure those girls are properly dealt with with the law shae una wan drag",
            "sings any pit wey dem dig for me i jump am pass",
            "yo its world photography day and all my guys are dropping their sweet sweet images yo photographers dey create abeg early morning i don choke with pictures ️️️ i love yall yes everyone of you ️",
            "i for like take pictures make we compete for senatorial post together buh my own agbada still deh tailor side and that guy don commot for naija",
            "just when i thought was a noshow for me my dream to chop life this december can now be a reality thanks to with the gt plus jolly fest chop life december is assured and for shikele money sef just check out the awesome packages in the combo",
            "he needs a strong vehicle to movecos apcna jeep wrangler them dey usepdp fit give am benz jeep",
            "please if you see where them de do giveaway abeg tag me e don red",
            "now wan cus wahala see also brodahshagi don fall in love please dj coppied help me wipe up his tears he seriously loves you",
            "#iroyin, #yoruba, Okanjua re o! Mose si mu ogogoro ku nitori egberun merin naira: Omokunrin… https://t.co/vZTwUApUVL",
            "Ṣé ẹ mọ̀ wípé àwọn èròjà tóyìnbó fi ńṣe ìpara àti ọṣẹ ìbóra wọ̀nyí ló ńfa jẹjẹrẹ orí àwọ̀? #arabibo #omoyoruba #yobamoodua #bleach",
            "a nílòo afárá olẹ́sẹ̀ ní èrò ọjà tó ń sọdá wọ ọkọ̀ ní ń fa súnkẹrẹ fàkẹrẹ ìrọ̀lẹ́",
            "ni ọmọọba bá wí fún olùkọ́ àgbà ags wípé àbí ẹ fẹ́ ṣíwọ́ sókè lu ọba ni",
            "olè ńlá ni europe lápọpọ̀ ìkokòó ni ẹran ẹlẹ́ran ló ma ń jí gbé",
            "RT @user: Erin ẹgàn-an Myanmar ń bẹ ń'nú ewu, àwọn adẹ́mìí légbodò kò jẹ́ kí wọn ó gbáyé, erin kan lọ́sẹ̀ kan ni wọ́n ń pa. https://t…",
            "Wọ́n pa ẹni méjì #APC #EkitiDecides2014 :(",
            "@user haha. Àdúrà tí ò dénú ni àwọn ènìyàn gbà fún un.",
            "bí ìbàdàn ti di ìgboro lẹ́yìn tí àwọn ológun tẹ̀dó sí tàán ojú aláìníìkanṣe ni àwọn ológun fi ń wo àwọn àgbẹ̀ ọ̀pọ̀lọpọ̀ ọ̀dọ́kùnrin ni wọ́n kọ́ ní ọ̀nà ogun jíjà iṣẹ́ àgbẹ̀ kò yẹ ọmọ tí a bí ire ẹrú àti àwọn tí wọ́n kó lójú ogun ló yẹ kó ma dáko",
            "Ọ̀gẹ̀dẹ̀ wo kòkó yè, ó wá di igi burúkú Ẹni tí à tọ́ dàgbà, to yè, lè padà mú ni ní èèyàn ibi Banana tree nursed the cocoa tree to maturity and, later becomes the bad tree A person that was nurtured into greatness, might turn around to tag you as evil",
            "àfòmọ́ ìbẹ̀rẹ̀ |a| àti mọ́fìmù àdádúró |lọ| ni a fi ṣẹ̀dá |àlọ| ṣẹ̀dá gbólóhùn mìíràn pẹ̀lú |a| àti |lọ|",
            "2. Ṣe ògbufọ̀ gbólóhùn ìsàlẹ̀ yìí sí èdè Yoòbá pọ́nbélé : #Ibeere #Yoruba #Ogbufo https://t.co/YmisFaYz6V",
            "òkúta abẹ́lẹ̀ tó ru jáde láti inú àpáta ńlá kan láyéàtijọ́ ni o irin ń bẹ nínú òkúta ọ̀hún",
            "ìrẹ̀sà wà ní ọ̀kẹ́ ẹgbẹ̀rún sí ìlàoòrùn ọ̀gbómọ̀ṣọ́ orísun ìmọ̀ yìí adegbite folaranmi adewuyi onipede kayode joseph igbon iresa ikoyi a prehistoric relationship till present time in historical research letter vol",
            "RT @user: Jọwọ dariji mi, Yoruba mi ko dara. Nwa fun awọn onijo lati jo Crypto Crawl fun aye lati win 200 #XRP. Fi fidio ranṣẹ…",
            "Ìlànà ẹbu náà ò gbẹ́yìn. Bẹ́ẹ̀ náà ni a tún máa ń ṣe àgbo ni àgùnmu, ẹ̀kọ ni a fi ń tì í sọ́hùn-ún. #AlayeOro #Yoruba #Egunje #Herb",
            "RT @user: Ọ̀ṣun, Ògùn, Ọbà, Ọya (odò ni wọ́n). Ọ̀pọ̀tọ́, àgbálùmọ́,... Ọọ̀ni, Àkárìgbò, Olú, Aláàfin... #idahunsiIbeere140318 #Yorub…",
            "ibi orí dá ni sì làá gbé ibi a gbé ẹ sẹ̀ lé lóyẹ kótọ̀ báse wáyé páàrí làári ìsẹbọ ni ìsoògùn ìdálú ni ìṣèlú awòràwọ̀ kòkan tìsẹ́ ibi orí ẹni yóò dé kòle sài mọ́ dẹ́bẹ̀ bẹ́ẹ̀ni kòsì ní kojá ibẹ̀ láíláí",
            "RT @user: Fífi àlejò sí ìyára tàbí ibi tí yóò forí lélẹ̀ sùn sí ni à ń pè ní 'SÍSỌ LỌ́JỌ̀'. Fún àpẹẹrẹ, bí mo bá ní \"\"\"\"\"\"\"\"nígbà tí mo lọ…",
            "Apa keji Ìdánwò Yorùbá News Alert: 👇 Bí ó bá dá apá kan ojú ẹni yí mọ, alakoso @user yóò fi káàdì ìpè elegberun méjì náírà sórí ẹ̀rọ ìléwo rẹ. Máa tẹle @user https://t.co/wEmN4Yl0ER",
            "Mó kí gbogbo yín o, ọmọ Oòduà gbogbo. Níbikíbi tí ẹ bá wà. Ẹkú bí ojú ọjọ́ ti rí o.",
            "Ọlọ́run Àìkú o pè mí láláàyè, modúpé o, ìyìn yẹ Ọ́, Ọlọ́run Ọba.",
            "RT @user: @user mo ki gbogbo omo ile kaaro ojiire pe aku osu tuntun, Osu baabaa ko ni ko wa mo eru lo. A oni ri ijamba oooo",
            "Àwọn ọ̀dọ́ péjọ̀ sí #Kenya fún àpérò ọlọ́dọọdún ọ̀dọ́ ilẹ̀ Afrika. Àjọ ò ní tú o! #DGtrends #AU",
            "otito ni e so maa mojuto apa ibeyen e se fun pipe akiyesi mi sii",
            "orun re làá sùn o",
            "ẹ ye pa oníròhìn iṣẹ wọn lọ ń ṣe",
            "Àgbà má rẹ̀ẹ́ ọmọdé jẹ. Ọmọdé má rìí àgbà fín. #AyajoOjoEwe",
            "Ire wa kò ní kọjáa wa",
            "Ọmọ #Nigeria ṣ'álàáfíà ni!"
           ],
           [
            "negative",
            "negative",
            "negative",
            "negative",
            "negative",
            "negative",
            "negative",
            "negative",
            "negative",
            "negative",
            "neutral",
            "neutral",
            "neutral",
            "neutral",
            "neutral",
            "neutral",
            "neutral",
            "neutral",
            "neutral",
            "neutral",
            "positive",
            "positive",
            "positive",
            "positive",
            "positive",
            "positive",
            "positive",
            "positive",
            "positive",
            "positive",
            "negative",
            "negative",
            "negative",
            "negative",
            "negative",
            "negative",
            "negative",
            "negative",
            "negative",
            "negative",
            "neutral",
            "neutral",
            "neutral",
            "neutral",
            "neutral",
            "neutral",
            "neutral",
            "neutral",
            "neutral",
            "neutral",
            "positive",
            "positive",
            "positive",
            "positive",
            "positive",
            "positive",
            "positive",
            "positive",
            "positive",
            "positive",
            "negative",
            "negative",
            "negative",
            "negative",
            "negative",
            "negative",
            "negative",
            "negative",
            "negative",
            "negative",
            "neutral",
            "neutral",
            "neutral",
            "neutral",
            "neutral",
            "neutral",
            "neutral",
            "neutral",
            "neutral",
            "neutral",
            "positive",
            "positive",
            "positive",
            "positive",
            "positive",
            "positive",
            "positive",
            "positive",
            "positive",
            "positive",
            "negative",
            "negative",
            "negative",
            "negative",
            "negative",
            "negative",
            "negative",
            "negative",
            "negative",
            "negative",
            "neutral",
            "neutral",
            "neutral",
            "neutral",
            "neutral",
            "neutral",
            "neutral",
            "neutral",
            "neutral",
            "neutral",
            "positive",
            "positive",
            "positive",
            "positive",
            "positive",
            "positive",
            "positive",
            "positive",
            "positive",
            "positive"
           ]
          ]
         },
         "header": {
          "align": "center",
          "fill": {
           "color": "lightskyblue"
          },
          "font": {
           "color": "black",
           "size": 12
          },
          "line": {
           "color": "darkslategray"
          },
          "values": [
           "country",
           "tweet",
           "label"
          ]
         },
         "type": "table"
        }
       ],
       "layout": {
        "template": {
         "data": {
          "bar": [
           {
            "error_x": {
             "color": "#2a3f5f"
            },
            "error_y": {
             "color": "#2a3f5f"
            },
            "marker": {
             "line": {
              "color": "#E5ECF6",
              "width": 0.5
             },
             "pattern": {
              "fillmode": "overlay",
              "size": 10,
              "solidity": 0.2
             }
            },
            "type": "bar"
           }
          ],
          "barpolar": [
           {
            "marker": {
             "line": {
              "color": "#E5ECF6",
              "width": 0.5
             },
             "pattern": {
              "fillmode": "overlay",
              "size": 10,
              "solidity": 0.2
             }
            },
            "type": "barpolar"
           }
          ],
          "carpet": [
           {
            "aaxis": {
             "endlinecolor": "#2a3f5f",
             "gridcolor": "white",
             "linecolor": "white",
             "minorgridcolor": "white",
             "startlinecolor": "#2a3f5f"
            },
            "baxis": {
             "endlinecolor": "#2a3f5f",
             "gridcolor": "white",
             "linecolor": "white",
             "minorgridcolor": "white",
             "startlinecolor": "#2a3f5f"
            },
            "type": "carpet"
           }
          ],
          "choropleth": [
           {
            "colorbar": {
             "outlinewidth": 0,
             "ticks": ""
            },
            "type": "choropleth"
           }
          ],
          "contour": [
           {
            "colorbar": {
             "outlinewidth": 0,
             "ticks": ""
            },
            "colorscale": [
             [
              0,
              "#0d0887"
             ],
             [
              0.1111111111111111,
              "#46039f"
             ],
             [
              0.2222222222222222,
              "#7201a8"
             ],
             [
              0.3333333333333333,
              "#9c179e"
             ],
             [
              0.4444444444444444,
              "#bd3786"
             ],
             [
              0.5555555555555556,
              "#d8576b"
             ],
             [
              0.6666666666666666,
              "#ed7953"
             ],
             [
              0.7777777777777778,
              "#fb9f3a"
             ],
             [
              0.8888888888888888,
              "#fdca26"
             ],
             [
              1,
              "#f0f921"
             ]
            ],
            "type": "contour"
           }
          ],
          "contourcarpet": [
           {
            "colorbar": {
             "outlinewidth": 0,
             "ticks": ""
            },
            "type": "contourcarpet"
           }
          ],
          "heatmap": [
           {
            "colorbar": {
             "outlinewidth": 0,
             "ticks": ""
            },
            "colorscale": [
             [
              0,
              "#0d0887"
             ],
             [
              0.1111111111111111,
              "#46039f"
             ],
             [
              0.2222222222222222,
              "#7201a8"
             ],
             [
              0.3333333333333333,
              "#9c179e"
             ],
             [
              0.4444444444444444,
              "#bd3786"
             ],
             [
              0.5555555555555556,
              "#d8576b"
             ],
             [
              0.6666666666666666,
              "#ed7953"
             ],
             [
              0.7777777777777778,
              "#fb9f3a"
             ],
             [
              0.8888888888888888,
              "#fdca26"
             ],
             [
              1,
              "#f0f921"
             ]
            ],
            "type": "heatmap"
           }
          ],
          "heatmapgl": [
           {
            "colorbar": {
             "outlinewidth": 0,
             "ticks": ""
            },
            "colorscale": [
             [
              0,
              "#0d0887"
             ],
             [
              0.1111111111111111,
              "#46039f"
             ],
             [
              0.2222222222222222,
              "#7201a8"
             ],
             [
              0.3333333333333333,
              "#9c179e"
             ],
             [
              0.4444444444444444,
              "#bd3786"
             ],
             [
              0.5555555555555556,
              "#d8576b"
             ],
             [
              0.6666666666666666,
              "#ed7953"
             ],
             [
              0.7777777777777778,
              "#fb9f3a"
             ],
             [
              0.8888888888888888,
              "#fdca26"
             ],
             [
              1,
              "#f0f921"
             ]
            ],
            "type": "heatmapgl"
           }
          ],
          "histogram": [
           {
            "marker": {
             "pattern": {
              "fillmode": "overlay",
              "size": 10,
              "solidity": 0.2
             }
            },
            "type": "histogram"
           }
          ],
          "histogram2d": [
           {
            "colorbar": {
             "outlinewidth": 0,
             "ticks": ""
            },
            "colorscale": [
             [
              0,
              "#0d0887"
             ],
             [
              0.1111111111111111,
              "#46039f"
             ],
             [
              0.2222222222222222,
              "#7201a8"
             ],
             [
              0.3333333333333333,
              "#9c179e"
             ],
             [
              0.4444444444444444,
              "#bd3786"
             ],
             [
              0.5555555555555556,
              "#d8576b"
             ],
             [
              0.6666666666666666,
              "#ed7953"
             ],
             [
              0.7777777777777778,
              "#fb9f3a"
             ],
             [
              0.8888888888888888,
              "#fdca26"
             ],
             [
              1,
              "#f0f921"
             ]
            ],
            "type": "histogram2d"
           }
          ],
          "histogram2dcontour": [
           {
            "colorbar": {
             "outlinewidth": 0,
             "ticks": ""
            },
            "colorscale": [
             [
              0,
              "#0d0887"
             ],
             [
              0.1111111111111111,
              "#46039f"
             ],
             [
              0.2222222222222222,
              "#7201a8"
             ],
             [
              0.3333333333333333,
              "#9c179e"
             ],
             [
              0.4444444444444444,
              "#bd3786"
             ],
             [
              0.5555555555555556,
              "#d8576b"
             ],
             [
              0.6666666666666666,
              "#ed7953"
             ],
             [
              0.7777777777777778,
              "#fb9f3a"
             ],
             [
              0.8888888888888888,
              "#fdca26"
             ],
             [
              1,
              "#f0f921"
             ]
            ],
            "type": "histogram2dcontour"
           }
          ],
          "mesh3d": [
           {
            "colorbar": {
             "outlinewidth": 0,
             "ticks": ""
            },
            "type": "mesh3d"
           }
          ],
          "parcoords": [
           {
            "line": {
             "colorbar": {
              "outlinewidth": 0,
              "ticks": ""
             }
            },
            "type": "parcoords"
           }
          ],
          "pie": [
           {
            "automargin": true,
            "type": "pie"
           }
          ],
          "scatter": [
           {
            "fillpattern": {
             "fillmode": "overlay",
             "size": 10,
             "solidity": 0.2
            },
            "type": "scatter"
           }
          ],
          "scatter3d": [
           {
            "line": {
             "colorbar": {
              "outlinewidth": 0,
              "ticks": ""
             }
            },
            "marker": {
             "colorbar": {
              "outlinewidth": 0,
              "ticks": ""
             }
            },
            "type": "scatter3d"
           }
          ],
          "scattercarpet": [
           {
            "marker": {
             "colorbar": {
              "outlinewidth": 0,
              "ticks": ""
             }
            },
            "type": "scattercarpet"
           }
          ],
          "scattergeo": [
           {
            "marker": {
             "colorbar": {
              "outlinewidth": 0,
              "ticks": ""
             }
            },
            "type": "scattergeo"
           }
          ],
          "scattergl": [
           {
            "marker": {
             "colorbar": {
              "outlinewidth": 0,
              "ticks": ""
             }
            },
            "type": "scattergl"
           }
          ],
          "scattermapbox": [
           {
            "marker": {
             "colorbar": {
              "outlinewidth": 0,
              "ticks": ""
             }
            },
            "type": "scattermapbox"
           }
          ],
          "scatterpolar": [
           {
            "marker": {
             "colorbar": {
              "outlinewidth": 0,
              "ticks": ""
             }
            },
            "type": "scatterpolar"
           }
          ],
          "scatterpolargl": [
           {
            "marker": {
             "colorbar": {
              "outlinewidth": 0,
              "ticks": ""
             }
            },
            "type": "scatterpolargl"
           }
          ],
          "scatterternary": [
           {
            "marker": {
             "colorbar": {
              "outlinewidth": 0,
              "ticks": ""
             }
            },
            "type": "scatterternary"
           }
          ],
          "surface": [
           {
            "colorbar": {
             "outlinewidth": 0,
             "ticks": ""
            },
            "colorscale": [
             [
              0,
              "#0d0887"
             ],
             [
              0.1111111111111111,
              "#46039f"
             ],
             [
              0.2222222222222222,
              "#7201a8"
             ],
             [
              0.3333333333333333,
              "#9c179e"
             ],
             [
              0.4444444444444444,
              "#bd3786"
             ],
             [
              0.5555555555555556,
              "#d8576b"
             ],
             [
              0.6666666666666666,
              "#ed7953"
             ],
             [
              0.7777777777777778,
              "#fb9f3a"
             ],
             [
              0.8888888888888888,
              "#fdca26"
             ],
             [
              1,
              "#f0f921"
             ]
            ],
            "type": "surface"
           }
          ],
          "table": [
           {
            "cells": {
             "fill": {
              "color": "#EBF0F8"
             },
             "line": {
              "color": "white"
             }
            },
            "header": {
             "fill": {
              "color": "#C8D4E3"
             },
             "line": {
              "color": "white"
             }
            },
            "type": "table"
           }
          ]
         },
         "layout": {
          "annotationdefaults": {
           "arrowcolor": "#2a3f5f",
           "arrowhead": 0,
           "arrowwidth": 1
          },
          "autotypenumbers": "strict",
          "coloraxis": {
           "colorbar": {
            "outlinewidth": 0,
            "ticks": ""
           }
          },
          "colorscale": {
           "diverging": [
            [
             0,
             "#8e0152"
            ],
            [
             0.1,
             "#c51b7d"
            ],
            [
             0.2,
             "#de77ae"
            ],
            [
             0.3,
             "#f1b6da"
            ],
            [
             0.4,
             "#fde0ef"
            ],
            [
             0.5,
             "#f7f7f7"
            ],
            [
             0.6,
             "#e6f5d0"
            ],
            [
             0.7,
             "#b8e186"
            ],
            [
             0.8,
             "#7fbc41"
            ],
            [
             0.9,
             "#4d9221"
            ],
            [
             1,
             "#276419"
            ]
           ],
           "sequential": [
            [
             0,
             "#0d0887"
            ],
            [
             0.1111111111111111,
             "#46039f"
            ],
            [
             0.2222222222222222,
             "#7201a8"
            ],
            [
             0.3333333333333333,
             "#9c179e"
            ],
            [
             0.4444444444444444,
             "#bd3786"
            ],
            [
             0.5555555555555556,
             "#d8576b"
            ],
            [
             0.6666666666666666,
             "#ed7953"
            ],
            [
             0.7777777777777778,
             "#fb9f3a"
            ],
            [
             0.8888888888888888,
             "#fdca26"
            ],
            [
             1,
             "#f0f921"
            ]
           ],
           "sequentialminus": [
            [
             0,
             "#0d0887"
            ],
            [
             0.1111111111111111,
             "#46039f"
            ],
            [
             0.2222222222222222,
             "#7201a8"
            ],
            [
             0.3333333333333333,
             "#9c179e"
            ],
            [
             0.4444444444444444,
             "#bd3786"
            ],
            [
             0.5555555555555556,
             "#d8576b"
            ],
            [
             0.6666666666666666,
             "#ed7953"
            ],
            [
             0.7777777777777778,
             "#fb9f3a"
            ],
            [
             0.8888888888888888,
             "#fdca26"
            ],
            [
             1,
             "#f0f921"
            ]
           ]
          },
          "colorway": [
           "#636efa",
           "#EF553B",
           "#00cc96",
           "#ab63fa",
           "#FFA15A",
           "#19d3f3",
           "#FF6692",
           "#B6E880",
           "#FF97FF",
           "#FECB52"
          ],
          "font": {
           "color": "#2a3f5f"
          },
          "geo": {
           "bgcolor": "white",
           "lakecolor": "white",
           "landcolor": "#E5ECF6",
           "showlakes": true,
           "showland": true,
           "subunitcolor": "white"
          },
          "hoverlabel": {
           "align": "left"
          },
          "hovermode": "closest",
          "mapbox": {
           "style": "light"
          },
          "paper_bgcolor": "white",
          "plot_bgcolor": "#E5ECF6",
          "polar": {
           "angularaxis": {
            "gridcolor": "white",
            "linecolor": "white",
            "ticks": ""
           },
           "bgcolor": "#E5ECF6",
           "radialaxis": {
            "gridcolor": "white",
            "linecolor": "white",
            "ticks": ""
           }
          },
          "scene": {
           "xaxis": {
            "backgroundcolor": "#E5ECF6",
            "gridcolor": "white",
            "gridwidth": 2,
            "linecolor": "white",
            "showbackground": true,
            "ticks": "",
            "zerolinecolor": "white"
           },
           "yaxis": {
            "backgroundcolor": "#E5ECF6",
            "gridcolor": "white",
            "gridwidth": 2,
            "linecolor": "white",
            "showbackground": true,
            "ticks": "",
            "zerolinecolor": "white"
           },
           "zaxis": {
            "backgroundcolor": "#E5ECF6",
            "gridcolor": "white",
            "gridwidth": 2,
            "linecolor": "white",
            "showbackground": true,
            "ticks": "",
            "zerolinecolor": "white"
           }
          },
          "shapedefaults": {
           "line": {
            "color": "#2a3f5f"
           }
          },
          "ternary": {
           "aaxis": {
            "gridcolor": "white",
            "linecolor": "white",
            "ticks": ""
           },
           "baxis": {
            "gridcolor": "white",
            "linecolor": "white",
            "ticks": ""
           },
           "bgcolor": "#E5ECF6",
           "caxis": {
            "gridcolor": "white",
            "linecolor": "white",
            "ticks": ""
           }
          },
          "title": {
           "x": 0.05
          },
          "xaxis": {
           "automargin": true,
           "gridcolor": "white",
           "linecolor": "white",
           "ticks": "",
           "title": {
            "standoff": 15
           },
           "zerolinecolor": "white",
           "zerolinewidth": 2
          },
          "yaxis": {
           "automargin": true,
           "gridcolor": "white",
           "linecolor": "white",
           "ticks": "",
           "title": {
            "standoff": 15
           },
           "zerolinecolor": "white",
           "zerolinewidth": 2
          }
         }
        }
       }
      }
     },
     "metadata": {},
     "output_type": "display_data"
    }
   ],
   "source": [
    "# Make the tabular data\n",
    "\n",
    "fig = go.Figure()\n",
    "fig.add_trace(go.Table(\n",
    "  header=dict(\n",
    "    values=[\"country\",\"tweet\",\"label\"],\n",
    "    line_color='darkslategray',\n",
    "    fill_color='lightskyblue',\n",
    "    align='center', font=dict(color='black', size=12)\n",
    "  ),\n",
    "\n",
    "  cells=dict(values=[df_language_combined.loc[df_language_combined.country ==\"Nigeria\"].country,df_language_combined.loc[df_language_combined.country ==\"Nigeria\"].tweet,df_language_combined.loc[df_language_combined.country ==\"Nigeria\"].label], \n",
    "               line_color='darkslategray',\n",
    "               fill_color='lightcyan',\n",
    "               align='left'))\n",
    ")\n",
    "\n",
    "fig.show()"
   ]
  },
  {
   "cell_type": "code",
   "execution_count": 15,
   "metadata": {},
   "outputs": [
    {
     "data": {
      "image/png": "[encoded data removed]",
      "text/plain": [
       "<IPython.core.display.Image object>"
      ]
     },
     "execution_count": 15,
     "metadata": {},
     "output_type": "execute_result"
    }
   ],
   "source": [
    "# Display Output in production\n",
    "img_bytes = fig.to_image(format=\"png\")\n",
    "from IPython.display import Image\n",
    "Image(img_bytes)"
   ]
  },
  {
   "cell_type": "code",
   "execution_count": 16,
   "metadata": {},
   "outputs": [
    {
     "data": {
      "application/vnd.plotly.v1+json": {
       "config": {
        "plotlyServerURL": "https://plot.ly"
       },
       "data": [
        {
         "domain": {
          "x": [
           0,
           1
          ],
          "y": [
           0.515,
           1
          ]
         },
         "labels": [
          "negative",
          "neutral",
          "positive",
          "negative",
          "neutral",
          "positive",
          "negative",
          "neutral",
          "positive",
          "negative",
          "neutral",
          "positive"
         ],
         "marker": {
          "colors": [
           "red",
           "yellow",
           "green",
           "red",
           "yellow",
           "green",
           "red",
           "yellow",
           "green",
           "red",
           "yellow",
           "green"
          ]
         },
         "type": "pie",
         "values": [
          7226,
          7597,
          7329,
          4013,
          6940,
          4762,
          6380,
          524,
          3652,
          3296,
          5487,
          6344
         ]
        },
        {
         "cells": {
          "align": "left",
          "fill": {
           "color": "lightcyan"
          },
          "line": {
           "color": "darkslategray"
          },
          "values": [
           [
            "Nigeria",
            "Nigeria",
            "Nigeria",
            "Nigeria",
            "Nigeria",
            "Nigeria",
            "Nigeria",
            "Nigeria",
            "Nigeria",
            "Nigeria",
            "Nigeria",
            "Nigeria",
            "Nigeria",
            "Nigeria",
            "Nigeria",
            "Nigeria",
            "Nigeria",
            "Nigeria",
            "Nigeria",
            "Nigeria",
            "Nigeria",
            "Nigeria",
            "Nigeria",
            "Nigeria",
            "Nigeria",
            "Nigeria",
            "Nigeria",
            "Nigeria",
            "Nigeria",
            "Nigeria",
            "Nigeria",
            "Nigeria",
            "Nigeria",
            "Nigeria",
            "Nigeria",
            "Nigeria",
            "Nigeria",
            "Nigeria",
            "Nigeria",
            "Nigeria",
            "Nigeria",
            "Nigeria",
            "Nigeria",
            "Nigeria",
            "Nigeria",
            "Nigeria",
            "Nigeria",
            "Nigeria",
            "Nigeria",
            "Nigeria",
            "Nigeria",
            "Nigeria",
            "Nigeria",
            "Nigeria",
            "Nigeria",
            "Nigeria",
            "Nigeria",
            "Nigeria",
            "Nigeria",
            "Nigeria",
            "Nigeria",
            "Nigeria",
            "Nigeria",
            "Nigeria",
            "Nigeria",
            "Nigeria",
            "Nigeria",
            "Nigeria",
            "Nigeria",
            "Nigeria",
            "Nigeria",
            "Nigeria",
            "Nigeria",
            "Nigeria",
            "Nigeria",
            "Nigeria",
            "Nigeria",
            "Nigeria",
            "Nigeria",
            "Nigeria",
            "Nigeria",
            "Nigeria",
            "Nigeria",
            "Nigeria",
            "Nigeria",
            "Nigeria",
            "Nigeria",
            "Nigeria",
            "Nigeria",
            "Nigeria",
            "Nigeria",
            "Nigeria",
            "Nigeria",
            "Nigeria",
            "Nigeria",
            "Nigeria",
            "Nigeria",
            "Nigeria",
            "Nigeria",
            "Nigeria",
            "Nigeria",
            "Nigeria",
            "Nigeria",
            "Nigeria",
            "Nigeria",
            "Nigeria",
            "Nigeria",
            "Nigeria",
            "Nigeria",
            "Nigeria",
            "Nigeria",
            "Nigeria",
            "Nigeria",
            "Nigeria",
            "Nigeria",
            "Nigeria",
            "Nigeria",
            "Nigeria",
            "Nigeria",
            "Nigeria"
           ],
           [
            "@user Nima nayi Allah wadai da kisan mutane 70 a jamhuriyar Nigar, sai me? 🙄",
            "@user Bashi Jali ya fara sana'a mtswwww!!! 😕😕",
            "@user @user Yoooo what are dey waiting for? Akaishi mna kar yasamu yafita wajeh, yaqi dawowa🙁",
            "gaskiya bbc hausa baku da aikin yi to mu ina ruwanmu da ita ta mutu ma meye damuwar mu",
            "@user Wllh Gaskiya dayace Mulkin Nigeria ya gagari Buhari Domin Babu fannin da aka samu ci gaba a Nigeria idan ka dubi matsalar tsaro da matsalar harkokin Yau da kullum, Tsadar Rayuwa Ga Rashin Wutar Lantarki, Ga Matsalar Kidnapping, Ga Matsalar Rashin Aikinyi🤔 Kai Wllh Ya Gazaaa😭😭",
            "@user Walla da shegen takan ball aka haiheshi baiji bai gani😂",
            "@user Ga ba wuta 😢😩😭",
            "@user Kwarankwasa Tabar Wawa Da Bashin Shadda,Wasukuma Ta Abaya Yasin😎😂",
            "@user 😅😅😅😅😅. Dan hegiya. Tunda ya bar baca Lalacewa kuma Yanzu Ya fara",
            "@user Bbc kuma fah munafikai ne 😂uban wa ta caccaka",
            "@user @user @user Kaima kasani ai😂",
            "mai mashara akoi ta amsin",
            "@user 🙆🙆 amma da niyya yayi wannan aika aika ko🙄🙄",
            "toh fa wai har yanzu ma akwai corona",
            "@user @user @user @user Yauwa inda gaske ne 😅",
            "@user Toh kuma me ya kawo tallar fuskar mace a wannan al'amarin?🙄",
            "@user Habawa Nidai nasan kwafan sunan'nan kukayi wallahi 😂",
            "@user Wai zaurawa kuma😂😂😂😂 samari dai. Aa Anty Layla saidai zurawan 😅",
            "gaskiya ne dogo sai da doguwa gajere sai da",
            "@user Kukasani ai ba Paris 🇮🇹 zatajeba kasani koh wudil zatata GI yasin 😂😂😂",
            "@user Allah yasa ba da uwar wani ba🙏",
            "allah yataimaka sarki allah yakaraja da nisan kwana mai mai martaba sarkin karaye",
            "@user Ciki da raino shima yayi kam.. fantastic 3 guys!!! Allah ya kara basira. Ina son directing dinka saboda akwai nisadi a ciki😎",
            "@user Ai kuwa da mun ci dariya kamar cikinmu ya yi ciwo 😂",
            "@user Babbar malamata ta firamare...malama kulu mai hijabi ❤️tananan kuma alhamdu lillah haryanzu ina tareda ita..wannan matar kirki e... from BIRNIN KEBBI",
            "@user Allah y kai haske kabarinsa alfarmar wannan wata mai alfarma🇳🇬🙏",
            "@user Kanawa sae uban Abba😹",
            "yaro ya fito babansa sak allah ya musu gafara baki daya",
            "@user Allah ya jikan rai , Allah yasa in tamu tazo mucika da imani 😂🙏🏾",
            "@user Kisha sha'anin duniya ce,babbar yarinya💋 son wani kin wanda yarasa.🔥🔥🔥🔥",
            "@user swears🤣 Ndi ara",
            "@user 😂😂😂😂😂. Nna eh ike gwụrụ",
            "i bụ ehhh ezigbo nsogbu",
            "@user ike gwurum Nwannem",
            "onwa ubochi umu asa gaa amapu gi isi eeh",
            "At your big age Kate! Otu a iha, ezigbo agbogho di ka gi! 😂😂 https://t.co/pl8jyq5WWa",
            "@user Taaah, mechie onu dia. Orugho my friend https://t.co/55i0M38cPs",
            "#Repost dancegathering with @user ・・・ #Instructor - Onye Ozuzu is a dance administrator,… https://t.co/NvLho6vZtN",
            "Gedoni onye ashi 🙄 #BBNajia",
            "echem si onwe ife ina eke",
            "@user @user Ala adighi mma bu uru ndi Nze!",
            "e ga egbu onye iga eso wey kwa ‍️",
            "Kedu onye nke oo! Obulu nke no na etiti, i gwa m ka m bia mee the needful. https://t.co/w06LLMoPmx",
            "@user @user @user @user Mens choro ebe ana eme ife ego 😌",
            "nna anaghi m ala nwoke nau",
            "ihe a bú ego ayọri ọ bụ ihe ọtịta si na mmiri nnu pụta aghụpụtasị a ya asaa ya gbaa ya na anwụ ego eme e ndị gboo jiri ya zụọ ahịa tupu ego wolomgbo a pụta kedụ ihe ana akpọ ya na bé ụnụ",
            "A babe kuo Ofuma, a gam edozili ya Onudu cholu ya Innoson jeep..A babe bulu onye mgbú, achiputalu ya slippers ya choro ya ego keke .....😂😂😂 Zoro is a whole moood #Mbada #Morningjog",
            "so ndi kwere android mezie gini",
            "@user Lol. Nne, amam e si nri ofuma. Oburo ile",
            "@user aligommanwu ona abu nnukwu azu ka ba nka, olaa na oke osimmiri.#osha",
            "@user Jisie nu ike https://t.co/cioiUu8bLp",
            "Jehovah idi egwu Jehovah Idi egwu #Praise #FARandMODE @user @user @user @user @user @user @user",
            "ozugbo nu nwanyi oma daalu",
            "Otito diri Chineke n'elu kasi elu n'uwa Udo diri mmadu ndi ihe ha n'aso Chukwu.",
            "asa onye life",
            "omalicha ada ndi igbo",
            "Onyem Chukwu goziwerem gi https://t.co/QR5iGUN71R",
            "sauce everywhere nne idi oku",
            "Chukwu goziwerem gi Nwoke Oma https://t.co/SDRNRIwL3T",
            "Kene Jehova n'ihi na ọ dinma. Happy Sunday ndị ọma twitter.. https://t.co/cM2CSwuYjj",
            "but dem dey collect gbas gbos na e no matter ore mi",
            "we be like men for this life wey no fit relate but the don die",
            "for us wey no sabi smile but dey sing nkor if you live me go dey",
            "just tell me amount make i pay those forest frsc are so full of themselves na so i no stop for one i flashed him on stopping me and he gave way the other that was seated just took upon himself to vex for matter wea no be him own come start dey para mtchwee",
            "my name is samipraise chatting from abeg help me with country na ja don had ooo still roaming",
            "i just want to wake up one morning go straight to aso rock demand to see the president greet him and give him better slap is it too much to ask after that anything way wan happen make e happen i be port harcourt boy wike na my governor",
            "ssa wey you dey yab nor dey reason you oooooooo",
            "i thought my area was alone in this please we no wan hear one grid get fault oooo abeg its december abi water don dry fro dam again ni",
            "some people wicked sha when dey won borrow money dem go behave like human being ok to return am now dey go turn animal turn u to enemy",
            "money wey i dey manage uba took a whole they took before abeg you people should comman explain to me why",
            "keypad dey press hin sef ‍️",
            "make it pm abeg i de sleep",
            "me sef dey think am oo",
            "e dey take full village to take care of pikin as usual go soon pop up untop wit me so pin i dey test u",
            "my guy dey de list o",
            "tell the truth but you go dey fear you crushing on hershoot your shot but you go dey fear you get your moneyspend itlive your best life but you go dey fear yes am talking to you i really need to meet this mr fear",
            "people im not friends with speaking pidgin withto me doesnt sit well with me funny that im here is even shorter than i don show",
            "im loyal i dey learn where you dey na",
            "na church i dey dey tweet",
            "money wey white dey take time to don",
            "i swear jide read pass me for that exam i was too confident like wetin baba wan set wey i no go sabi baba sly me",
            "its look like you just got ahold of this endearment e dey sweet you for belle well well sir",
            "if you be wetin you for do i sha pray the guy does the right thing which is making sure those girls are properly dealt with with the law shae una wan drag",
            "sings any pit wey dem dig for me i jump am pass",
            "yo its world photography day and all my guys are dropping their sweet sweet images yo photographers dey create abeg early morning i don choke with pictures ️️️ i love yall yes everyone of you ️",
            "i for like take pictures make we compete for senatorial post together buh my own agbada still deh tailor side and that guy don commot for naija",
            "just when i thought was a noshow for me my dream to chop life this december can now be a reality thanks to with the gt plus jolly fest chop life december is assured and for shikele money sef just check out the awesome packages in the combo",
            "he needs a strong vehicle to movecos apcna jeep wrangler them dey usepdp fit give am benz jeep",
            "please if you see where them de do giveaway abeg tag me e don red",
            "now wan cus wahala see also brodahshagi don fall in love please dj coppied help me wipe up his tears he seriously loves you",
            "#iroyin, #yoruba, Okanjua re o! Mose si mu ogogoro ku nitori egberun merin naira: Omokunrin… https://t.co/vZTwUApUVL",
            "Ṣé ẹ mọ̀ wípé àwọn èròjà tóyìnbó fi ńṣe ìpara àti ọṣẹ ìbóra wọ̀nyí ló ńfa jẹjẹrẹ orí àwọ̀? #arabibo #omoyoruba #yobamoodua #bleach",
            "a nílòo afárá olẹ́sẹ̀ ní èrò ọjà tó ń sọdá wọ ọkọ̀ ní ń fa súnkẹrẹ fàkẹrẹ ìrọ̀lẹ́",
            "ni ọmọọba bá wí fún olùkọ́ àgbà ags wípé àbí ẹ fẹ́ ṣíwọ́ sókè lu ọba ni",
            "olè ńlá ni europe lápọpọ̀ ìkokòó ni ẹran ẹlẹ́ran ló ma ń jí gbé",
            "RT @user: Erin ẹgàn-an Myanmar ń bẹ ń'nú ewu, àwọn adẹ́mìí légbodò kò jẹ́ kí wọn ó gbáyé, erin kan lọ́sẹ̀ kan ni wọ́n ń pa. https://t…",
            "Wọ́n pa ẹni méjì #APC #EkitiDecides2014 :(",
            "@user haha. Àdúrà tí ò dénú ni àwọn ènìyàn gbà fún un.",
            "bí ìbàdàn ti di ìgboro lẹ́yìn tí àwọn ológun tẹ̀dó sí tàán ojú aláìníìkanṣe ni àwọn ológun fi ń wo àwọn àgbẹ̀ ọ̀pọ̀lọpọ̀ ọ̀dọ́kùnrin ni wọ́n kọ́ ní ọ̀nà ogun jíjà iṣẹ́ àgbẹ̀ kò yẹ ọmọ tí a bí ire ẹrú àti àwọn tí wọ́n kó lójú ogun ló yẹ kó ma dáko",
            "Ọ̀gẹ̀dẹ̀ wo kòkó yè, ó wá di igi burúkú Ẹni tí à tọ́ dàgbà, to yè, lè padà mú ni ní èèyàn ibi Banana tree nursed the cocoa tree to maturity and, later becomes the bad tree A person that was nurtured into greatness, might turn around to tag you as evil",
            "àfòmọ́ ìbẹ̀rẹ̀ |a| àti mọ́fìmù àdádúró |lọ| ni a fi ṣẹ̀dá |àlọ| ṣẹ̀dá gbólóhùn mìíràn pẹ̀lú |a| àti |lọ|",
            "2. Ṣe ògbufọ̀ gbólóhùn ìsàlẹ̀ yìí sí èdè Yoòbá pọ́nbélé : #Ibeere #Yoruba #Ogbufo https://t.co/YmisFaYz6V",
            "òkúta abẹ́lẹ̀ tó ru jáde láti inú àpáta ńlá kan láyéàtijọ́ ni o irin ń bẹ nínú òkúta ọ̀hún",
            "ìrẹ̀sà wà ní ọ̀kẹ́ ẹgbẹ̀rún sí ìlàoòrùn ọ̀gbómọ̀ṣọ́ orísun ìmọ̀ yìí adegbite folaranmi adewuyi onipede kayode joseph igbon iresa ikoyi a prehistoric relationship till present time in historical research letter vol",
            "RT @user: Jọwọ dariji mi, Yoruba mi ko dara. Nwa fun awọn onijo lati jo Crypto Crawl fun aye lati win 200 #XRP. Fi fidio ranṣẹ…",
            "Ìlànà ẹbu náà ò gbẹ́yìn. Bẹ́ẹ̀ náà ni a tún máa ń ṣe àgbo ni àgùnmu, ẹ̀kọ ni a fi ń tì í sọ́hùn-ún. #AlayeOro #Yoruba #Egunje #Herb",
            "RT @user: Ọ̀ṣun, Ògùn, Ọbà, Ọya (odò ni wọ́n). Ọ̀pọ̀tọ́, àgbálùmọ́,... Ọọ̀ni, Àkárìgbò, Olú, Aláàfin... #idahunsiIbeere140318 #Yorub…",
            "ibi orí dá ni sì làá gbé ibi a gbé ẹ sẹ̀ lé lóyẹ kótọ̀ báse wáyé páàrí làári ìsẹbọ ni ìsoògùn ìdálú ni ìṣèlú awòràwọ̀ kòkan tìsẹ́ ibi orí ẹni yóò dé kòle sài mọ́ dẹ́bẹ̀ bẹ́ẹ̀ni kòsì ní kojá ibẹ̀ láíláí",
            "RT @user: Fífi àlejò sí ìyára tàbí ibi tí yóò forí lélẹ̀ sùn sí ni à ń pè ní 'SÍSỌ LỌ́JỌ̀'. Fún àpẹẹrẹ, bí mo bá ní \"\"\"\"\"\"\"\"nígbà tí mo lọ…",
            "Apa keji Ìdánwò Yorùbá News Alert: 👇 Bí ó bá dá apá kan ojú ẹni yí mọ, alakoso @user yóò fi káàdì ìpè elegberun méjì náírà sórí ẹ̀rọ ìléwo rẹ. Máa tẹle @user https://t.co/wEmN4Yl0ER",
            "Mó kí gbogbo yín o, ọmọ Oòduà gbogbo. Níbikíbi tí ẹ bá wà. Ẹkú bí ojú ọjọ́ ti rí o.",
            "Ọlọ́run Àìkú o pè mí láláàyè, modúpé o, ìyìn yẹ Ọ́, Ọlọ́run Ọba.",
            "RT @user: @user mo ki gbogbo omo ile kaaro ojiire pe aku osu tuntun, Osu baabaa ko ni ko wa mo eru lo. A oni ri ijamba oooo",
            "Àwọn ọ̀dọ́ péjọ̀ sí #Kenya fún àpérò ọlọ́dọọdún ọ̀dọ́ ilẹ̀ Afrika. Àjọ ò ní tú o! #DGtrends #AU",
            "otito ni e so maa mojuto apa ibeyen e se fun pipe akiyesi mi sii",
            "orun re làá sùn o",
            "ẹ ye pa oníròhìn iṣẹ wọn lọ ń ṣe",
            "Àgbà má rẹ̀ẹ́ ọmọdé jẹ. Ọmọdé má rìí àgbà fín. #AyajoOjoEwe",
            "Ire wa kò ní kọjáa wa",
            "Ọmọ #Nigeria ṣ'álàáfíà ni!"
           ],
           [
            "negative",
            "negative",
            "negative",
            "negative",
            "negative",
            "negative",
            "negative",
            "negative",
            "negative",
            "negative",
            "neutral",
            "neutral",
            "neutral",
            "neutral",
            "neutral",
            "neutral",
            "neutral",
            "neutral",
            "neutral",
            "neutral",
            "positive",
            "positive",
            "positive",
            "positive",
            "positive",
            "positive",
            "positive",
            "positive",
            "positive",
            "positive",
            "negative",
            "negative",
            "negative",
            "negative",
            "negative",
            "negative",
            "negative",
            "negative",
            "negative",
            "negative",
            "neutral",
            "neutral",
            "neutral",
            "neutral",
            "neutral",
            "neutral",
            "neutral",
            "neutral",
            "neutral",
            "neutral",
            "positive",
            "positive",
            "positive",
            "positive",
            "positive",
            "positive",
            "positive",
            "positive",
            "positive",
            "positive",
            "negative",
            "negative",
            "negative",
            "negative",
            "negative",
            "negative",
            "negative",
            "negative",
            "negative",
            "negative",
            "neutral",
            "neutral",
            "neutral",
            "neutral",
            "neutral",
            "neutral",
            "neutral",
            "neutral",
            "neutral",
            "neutral",
            "positive",
            "positive",
            "positive",
            "positive",
            "positive",
            "positive",
            "positive",
            "positive",
            "positive",
            "positive",
            "negative",
            "negative",
            "negative",
            "negative",
            "negative",
            "negative",
            "negative",
            "negative",
            "negative",
            "negative",
            "neutral",
            "neutral",
            "neutral",
            "neutral",
            "neutral",
            "neutral",
            "neutral",
            "neutral",
            "neutral",
            "neutral",
            "positive",
            "positive",
            "positive",
            "positive",
            "positive",
            "positive",
            "positive",
            "positive",
            "positive",
            "positive"
           ]
          ]
         },
         "domain": {
          "x": [
           0,
           1
          ],
          "y": [
           0,
           0.485
          ]
         },
         "header": {
          "align": "center",
          "fill": {
           "color": "lightskyblue"
          },
          "font": {
           "color": "black",
           "size": 12
          },
          "line": {
           "color": "darkslategray"
          },
          "values": [
           "country",
           "tweet",
           "label"
          ]
         },
         "type": "table"
        }
       ],
       "layout": {
        "height": 1500,
        "template": {
         "data": {
          "bar": [
           {
            "error_x": {
             "color": "#2a3f5f"
            },
            "error_y": {
             "color": "#2a3f5f"
            },
            "marker": {
             "line": {
              "color": "#E5ECF6",
              "width": 0.5
             },
             "pattern": {
              "fillmode": "overlay",
              "size": 10,
              "solidity": 0.2
             }
            },
            "type": "bar"
           }
          ],
          "barpolar": [
           {
            "marker": {
             "line": {
              "color": "#E5ECF6",
              "width": 0.5
             },
             "pattern": {
              "fillmode": "overlay",
              "size": 10,
              "solidity": 0.2
             }
            },
            "type": "barpolar"
           }
          ],
          "carpet": [
           {
            "aaxis": {
             "endlinecolor": "#2a3f5f",
             "gridcolor": "white",
             "linecolor": "white",
             "minorgridcolor": "white",
             "startlinecolor": "#2a3f5f"
            },
            "baxis": {
             "endlinecolor": "#2a3f5f",
             "gridcolor": "white",
             "linecolor": "white",
             "minorgridcolor": "white",
             "startlinecolor": "#2a3f5f"
            },
            "type": "carpet"
           }
          ],
          "choropleth": [
           {
            "colorbar": {
             "outlinewidth": 0,
             "ticks": ""
            },
            "type": "choropleth"
           }
          ],
          "contour": [
           {
            "colorbar": {
             "outlinewidth": 0,
             "ticks": ""
            },
            "colorscale": [
             [
              0,
              "#0d0887"
             ],
             [
              0.1111111111111111,
              "#46039f"
             ],
             [
              0.2222222222222222,
              "#7201a8"
             ],
             [
              0.3333333333333333,
              "#9c179e"
             ],
             [
              0.4444444444444444,
              "#bd3786"
             ],
             [
              0.5555555555555556,
              "#d8576b"
             ],
             [
              0.6666666666666666,
              "#ed7953"
             ],
             [
              0.7777777777777778,
              "#fb9f3a"
             ],
             [
              0.8888888888888888,
              "#fdca26"
             ],
             [
              1,
              "#f0f921"
             ]
            ],
            "type": "contour"
           }
          ],
          "contourcarpet": [
           {
            "colorbar": {
             "outlinewidth": 0,
             "ticks": ""
            },
            "type": "contourcarpet"
           }
          ],
          "heatmap": [
           {
            "colorbar": {
             "outlinewidth": 0,
             "ticks": ""
            },
            "colorscale": [
             [
              0,
              "#0d0887"
             ],
             [
              0.1111111111111111,
              "#46039f"
             ],
             [
              0.2222222222222222,
              "#7201a8"
             ],
             [
              0.3333333333333333,
              "#9c179e"
             ],
             [
              0.4444444444444444,
              "#bd3786"
             ],
             [
              0.5555555555555556,
              "#d8576b"
             ],
             [
              0.6666666666666666,
              "#ed7953"
             ],
             [
              0.7777777777777778,
              "#fb9f3a"
             ],
             [
              0.8888888888888888,
              "#fdca26"
             ],
             [
              1,
              "#f0f921"
             ]
            ],
            "type": "heatmap"
           }
          ],
          "heatmapgl": [
           {
            "colorbar": {
             "outlinewidth": 0,
             "ticks": ""
            },
            "colorscale": [
             [
              0,
              "#0d0887"
             ],
             [
              0.1111111111111111,
              "#46039f"
             ],
             [
              0.2222222222222222,
              "#7201a8"
             ],
             [
              0.3333333333333333,
              "#9c179e"
             ],
             [
              0.4444444444444444,
              "#bd3786"
             ],
             [
              0.5555555555555556,
              "#d8576b"
             ],
             [
              0.6666666666666666,
              "#ed7953"
             ],
             [
              0.7777777777777778,
              "#fb9f3a"
             ],
             [
              0.8888888888888888,
              "#fdca26"
             ],
             [
              1,
              "#f0f921"
             ]
            ],
            "type": "heatmapgl"
           }
          ],
          "histogram": [
           {
            "marker": {
             "pattern": {
              "fillmode": "overlay",
              "size": 10,
              "solidity": 0.2
             }
            },
            "type": "histogram"
           }
          ],
          "histogram2d": [
           {
            "colorbar": {
             "outlinewidth": 0,
             "ticks": ""
            },
            "colorscale": [
             [
              0,
              "#0d0887"
             ],
             [
              0.1111111111111111,
              "#46039f"
             ],
             [
              0.2222222222222222,
              "#7201a8"
             ],
             [
              0.3333333333333333,
              "#9c179e"
             ],
             [
              0.4444444444444444,
              "#bd3786"
             ],
             [
              0.5555555555555556,
              "#d8576b"
             ],
             [
              0.6666666666666666,
              "#ed7953"
             ],
             [
              0.7777777777777778,
              "#fb9f3a"
             ],
             [
              0.8888888888888888,
              "#fdca26"
             ],
             [
              1,
              "#f0f921"
             ]
            ],
            "type": "histogram2d"
           }
          ],
          "histogram2dcontour": [
           {
            "colorbar": {
             "outlinewidth": 0,
             "ticks": ""
            },
            "colorscale": [
             [
              0,
              "#0d0887"
             ],
             [
              0.1111111111111111,
              "#46039f"
             ],
             [
              0.2222222222222222,
              "#7201a8"
             ],
             [
              0.3333333333333333,
              "#9c179e"
             ],
             [
              0.4444444444444444,
              "#bd3786"
             ],
             [
              0.5555555555555556,
              "#d8576b"
             ],
             [
              0.6666666666666666,
              "#ed7953"
             ],
             [
              0.7777777777777778,
              "#fb9f3a"
             ],
             [
              0.8888888888888888,
              "#fdca26"
             ],
             [
              1,
              "#f0f921"
             ]
            ],
            "type": "histogram2dcontour"
           }
          ],
          "mesh3d": [
           {
            "colorbar": {
             "outlinewidth": 0,
             "ticks": ""
            },
            "type": "mesh3d"
           }
          ],
          "parcoords": [
           {
            "line": {
             "colorbar": {
              "outlinewidth": 0,
              "ticks": ""
             }
            },
            "type": "parcoords"
           }
          ],
          "pie": [
           {
            "automargin": true,
            "type": "pie"
           }
          ],
          "scatter": [
           {
            "fillpattern": {
             "fillmode": "overlay",
             "size": 10,
             "solidity": 0.2
            },
            "type": "scatter"
           }
          ],
          "scatter3d": [
           {
            "line": {
             "colorbar": {
              "outlinewidth": 0,
              "ticks": ""
             }
            },
            "marker": {
             "colorbar": {
              "outlinewidth": 0,
              "ticks": ""
             }
            },
            "type": "scatter3d"
           }
          ],
          "scattercarpet": [
           {
            "marker": {
             "colorbar": {
              "outlinewidth": 0,
              "ticks": ""
             }
            },
            "type": "scattercarpet"
           }
          ],
          "scattergeo": [
           {
            "marker": {
             "colorbar": {
              "outlinewidth": 0,
              "ticks": ""
             }
            },
            "type": "scattergeo"
           }
          ],
          "scattergl": [
           {
            "marker": {
             "colorbar": {
              "outlinewidth": 0,
              "ticks": ""
             }
            },
            "type": "scattergl"
           }
          ],
          "scattermapbox": [
           {
            "marker": {
             "colorbar": {
              "outlinewidth": 0,
              "ticks": ""
             }
            },
            "type": "scattermapbox"
           }
          ],
          "scatterpolar": [
           {
            "marker": {
             "colorbar": {
              "outlinewidth": 0,
              "ticks": ""
             }
            },
            "type": "scatterpolar"
           }
          ],
          "scatterpolargl": [
           {
            "marker": {
             "colorbar": {
              "outlinewidth": 0,
              "ticks": ""
             }
            },
            "type": "scatterpolargl"
           }
          ],
          "scatterternary": [
           {
            "marker": {
             "colorbar": {
              "outlinewidth": 0,
              "ticks": ""
             }
            },
            "type": "scatterternary"
           }
          ],
          "surface": [
           {
            "colorbar": {
             "outlinewidth": 0,
             "ticks": ""
            },
            "colorscale": [
             [
              0,
              "#0d0887"
             ],
             [
              0.1111111111111111,
              "#46039f"
             ],
             [
              0.2222222222222222,
              "#7201a8"
             ],
             [
              0.3333333333333333,
              "#9c179e"
             ],
             [
              0.4444444444444444,
              "#bd3786"
             ],
             [
              0.5555555555555556,
              "#d8576b"
             ],
             [
              0.6666666666666666,
              "#ed7953"
             ],
             [
              0.7777777777777778,
              "#fb9f3a"
             ],
             [
              0.8888888888888888,
              "#fdca26"
             ],
             [
              1,
              "#f0f921"
             ]
            ],
            "type": "surface"
           }
          ],
          "table": [
           {
            "cells": {
             "fill": {
              "color": "#EBF0F8"
             },
             "line": {
              "color": "white"
             }
            },
            "header": {
             "fill": {
              "color": "#C8D4E3"
             },
             "line": {
              "color": "white"
             }
            },
            "type": "table"
           }
          ]
         },
         "layout": {
          "annotationdefaults": {
           "arrowcolor": "#2a3f5f",
           "arrowhead": 0,
           "arrowwidth": 1
          },
          "autotypenumbers": "strict",
          "coloraxis": {
           "colorbar": {
            "outlinewidth": 0,
            "ticks": ""
           }
          },
          "colorscale": {
           "diverging": [
            [
             0,
             "#8e0152"
            ],
            [
             0.1,
             "#c51b7d"
            ],
            [
             0.2,
             "#de77ae"
            ],
            [
             0.3,
             "#f1b6da"
            ],
            [
             0.4,
             "#fde0ef"
            ],
            [
             0.5,
             "#f7f7f7"
            ],
            [
             0.6,
             "#e6f5d0"
            ],
            [
             0.7,
             "#b8e186"
            ],
            [
             0.8,
             "#7fbc41"
            ],
            [
             0.9,
             "#4d9221"
            ],
            [
             1,
             "#276419"
            ]
           ],
           "sequential": [
            [
             0,
             "#0d0887"
            ],
            [
             0.1111111111111111,
             "#46039f"
            ],
            [
             0.2222222222222222,
             "#7201a8"
            ],
            [
             0.3333333333333333,
             "#9c179e"
            ],
            [
             0.4444444444444444,
             "#bd3786"
            ],
            [
             0.5555555555555556,
             "#d8576b"
            ],
            [
             0.6666666666666666,
             "#ed7953"
            ],
            [
             0.7777777777777778,
             "#fb9f3a"
            ],
            [
             0.8888888888888888,
             "#fdca26"
            ],
            [
             1,
             "#f0f921"
            ]
           ],
           "sequentialminus": [
            [
             0,
             "#0d0887"
            ],
            [
             0.1111111111111111,
             "#46039f"
            ],
            [
             0.2222222222222222,
             "#7201a8"
            ],
            [
             0.3333333333333333,
             "#9c179e"
            ],
            [
             0.4444444444444444,
             "#bd3786"
            ],
            [
             0.5555555555555556,
             "#d8576b"
            ],
            [
             0.6666666666666666,
             "#ed7953"
            ],
            [
             0.7777777777777778,
             "#fb9f3a"
            ],
            [
             0.8888888888888888,
             "#fdca26"
            ],
            [
             1,
             "#f0f921"
            ]
           ]
          },
          "colorway": [
           "#636efa",
           "#EF553B",
           "#00cc96",
           "#ab63fa",
           "#FFA15A",
           "#19d3f3",
           "#FF6692",
           "#B6E880",
           "#FF97FF",
           "#FECB52"
          ],
          "font": {
           "color": "#2a3f5f"
          },
          "geo": {
           "bgcolor": "white",
           "lakecolor": "white",
           "landcolor": "#E5ECF6",
           "showlakes": true,
           "showland": true,
           "subunitcolor": "white"
          },
          "hoverlabel": {
           "align": "left"
          },
          "hovermode": "closest",
          "mapbox": {
           "style": "light"
          },
          "paper_bgcolor": "white",
          "plot_bgcolor": "#E5ECF6",
          "polar": {
           "angularaxis": {
            "gridcolor": "white",
            "linecolor": "white",
            "ticks": ""
           },
           "bgcolor": "#E5ECF6",
           "radialaxis": {
            "gridcolor": "white",
            "linecolor": "white",
            "ticks": ""
           }
          },
          "scene": {
           "xaxis": {
            "backgroundcolor": "#E5ECF6",
            "gridcolor": "white",
            "gridwidth": 2,
            "linecolor": "white",
            "showbackground": true,
            "ticks": "",
            "zerolinecolor": "white"
           },
           "yaxis": {
            "backgroundcolor": "#E5ECF6",
            "gridcolor": "white",
            "gridwidth": 2,
            "linecolor": "white",
            "showbackground": true,
            "ticks": "",
            "zerolinecolor": "white"
           },
           "zaxis": {
            "backgroundcolor": "#E5ECF6",
            "gridcolor": "white",
            "gridwidth": 2,
            "linecolor": "white",
            "showbackground": true,
            "ticks": "",
            "zerolinecolor": "white"
           }
          },
          "shapedefaults": {
           "line": {
            "color": "#2a3f5f"
           }
          },
          "ternary": {
           "aaxis": {
            "gridcolor": "white",
            "linecolor": "white",
            "ticks": ""
           },
           "baxis": {
            "gridcolor": "white",
            "linecolor": "white",
            "ticks": ""
           },
           "bgcolor": "#E5ECF6",
           "caxis": {
            "gridcolor": "white",
            "linecolor": "white",
            "ticks": ""
           }
          },
          "title": {
           "x": 0.05
          },
          "xaxis": {
           "automargin": true,
           "gridcolor": "white",
           "linecolor": "white",
           "ticks": "",
           "title": {
            "standoff": 15
           },
           "zerolinecolor": "white",
           "zerolinewidth": 2
          },
          "yaxis": {
           "automargin": true,
           "gridcolor": "white",
           "linecolor": "white",
           "ticks": "",
           "title": {
            "standoff": 15
           },
           "zerolinecolor": "white",
           "zerolinewidth": 2
          }
         }
        },
        "title": {
         "text": "Nigeria - Passion behind the Tweets"
        },
        "width": 800
       }
      }
     },
     "metadata": {},
     "output_type": "display_data"
    }
   ],
   "source": [
    "from plotly.subplots import make_subplots\n",
    "fig = make_subplots(\n",
    "    rows=2, cols=1,\n",
    "    shared_xaxes=True,\n",
    "    vertical_spacing=0.03,\n",
    "    specs=[[{\"type\": \"domain\"}],\n",
    "           [{\"type\": \"table\"}]]\n",
    ")\n",
    "\n",
    "fig.add_trace(go.Pie(labels=df_sentiment_combined.loc[df_sentiment_combined.country ==\"Nigeria\"].label, values=df_sentiment_combined.loc[df_sentiment_combined.country ==\"Nigeria\"].totals,\n",
    "                 marker_colors = df_sentiment_combined.loc[df_sentiment_combined.country ==\"Nigeria\"].label.map(map_dict))\n",
    "                 , row=1, col=1)\n",
    "\n",
    "fig.add_trace(go.Table(\n",
    "  header=dict(\n",
    "    values=[\"country\",\"tweet\",\"label\"],\n",
    "    line_color='darkslategray',\n",
    "    fill_color='lightskyblue',\n",
    "    align='center', font=dict(color='black', size=12)\n",
    "  ),\n",
    "\n",
    "  cells=dict(values=[df_language_combined.loc[df_language_combined.country ==\"Nigeria\"].country,df_language_combined.loc[df_language_combined.country ==\"Nigeria\"].tweet,df_language_combined.loc[df_language_combined.country ==\"Nigeria\"].label], \n",
    "               line_color='darkslategray',\n",
    "               fill_color='lightcyan',\n",
    "               align='left'))\n",
    ", row=2, col=1\n",
    ")\n",
    "fig.update_layout(width=800, height=1500, title_text=\"Nigeria - Passion behind the Tweets\")\n",
    "fig.show()"
   ]
  },
  {
   "cell_type": "code",
   "execution_count": 17,
   "metadata": {},
   "outputs": [
    {
     "data": {
      "image/png": "[encoded data removed]",
      "text/plain": [
       "<IPython.core.display.Image object>"
      ]
     },
     "execution_count": 17,
     "metadata": {},
     "output_type": "execute_result"
    }
   ],
   "source": [
    "# Display Output in production\n",
    "img_bytes = fig.to_image(format=\"png\")\n",
    "from IPython.display import Image\n",
    "Image(img_bytes)"
   ]
  },
  {
   "cell_type": "code",
   "execution_count": null,
   "metadata": {},
   "outputs": [
    {
     "data": {
      "application/vnd.plotly.v1+json": {
       "config": {
        "plotlyServerURL": "https://plot.ly"
       },
       "data": [
        {
         "domain": {
          "x": [
           0,
           1
          ],
          "y": [
           0.515,
           1
          ]
         },
         "labels": [
          "negative",
          "neutral",
          "positive",
          "negative",
          "neutral",
          "positive",
          "negative",
          "neutral",
          "positive"
         ],
         "marker": {
          "colors": [
           "red",
           "yellow",
           "green",
           "red",
           "yellow",
           "green",
           "red",
           "yellow",
           "green"
          ]
         },
         "type": "pie",
         "values": [
          3273,
          4104,
          2103,
          948,
          1023,
          523,
          1185,
          509,
          704
         ]
        },
        {
         "cells": {
          "align": "left",
          "fill": {
           "color": "lightcyan"
          },
          "line": {
           "color": "darkslategray"
          },
          "values": [
           [
            "Ethiopia",
            "Ethiopia",
            "Ethiopia",
            "Ethiopia",
            "Ethiopia",
            "Ethiopia",
            "Ethiopia",
            "Ethiopia",
            "Ethiopia",
            "Ethiopia",
            "Ethiopia",
            "Ethiopia",
            "Ethiopia",
            "Ethiopia",
            "Ethiopia",
            "Ethiopia",
            "Ethiopia",
            "Ethiopia",
            "Ethiopia",
            "Ethiopia",
            "Ethiopia",
            "Ethiopia",
            "Ethiopia",
            "Ethiopia",
            "Ethiopia",
            "Ethiopia",
            "Ethiopia",
            "Ethiopia",
            "Ethiopia",
            "Ethiopia",
            "Ethiopia",
            "Ethiopia",
            "Ethiopia",
            "Ethiopia",
            "Ethiopia",
            "Ethiopia",
            "Ethiopia",
            "Ethiopia",
            "Ethiopia",
            "Ethiopia",
            "Ethiopia",
            "Ethiopia",
            "Ethiopia",
            "Ethiopia",
            "Ethiopia",
            "Ethiopia",
            "Ethiopia",
            "Ethiopia",
            "Ethiopia",
            "Ethiopia",
            "Ethiopia",
            "Ethiopia",
            "Ethiopia",
            "Ethiopia",
            "Ethiopia",
            "Ethiopia",
            "Ethiopia",
            "Ethiopia",
            "Ethiopia",
            "Ethiopia",
            "Ethiopia",
            "Ethiopia",
            "Ethiopia",
            "Ethiopia",
            "Ethiopia",
            "Ethiopia",
            "Ethiopia",
            "Ethiopia",
            "Ethiopia",
            "Ethiopia",
            "Ethiopia",
            "Ethiopia",
            "Ethiopia",
            "Ethiopia",
            "Ethiopia",
            "Ethiopia",
            "Ethiopia",
            "Ethiopia",
            "Ethiopia",
            "Ethiopia",
            "Ethiopia",
            "Ethiopia",
            "Ethiopia",
            "Ethiopia",
            "Ethiopia",
            "Ethiopia",
            "Ethiopia",
            "Ethiopia",
            "Ethiopia",
            "Ethiopia"
           ],
           [
            "'@user ሸውራራ ነሽ (አቃቂር ለማውጣት ያህል ??)'",
            "Arte በገናው ምድር በዚህ ሲያስተክዘን አመሸ",
            "ሞጣ ላይ በተፈፀመው ሙስሊሞችን የማፅዳት ዘመቻ ከ300ሚ ብር በላይ የሚገመት ንብረት እንደወደመ ወደቦታው ያቀናው አጣሪ ኮሚቴ ይፋ አድርጓል።",
            "ነዚ ናይ ብልጽግና ፓርቲ ነገር ብኽመይ ትግልጽዎ? - ማንቲለ ዘሊላ ዘሊላ ናብ መሬታ - ቆልዓ ይጎይሞ ኣይቅድምን ብምስላ ትግርኛ ኣቢልኩም ግምትኩም ኣቕምጡ...",
            "'ስለባህርዳሩ ስብሰባ የግል ዕይታ ምንም አዲስ ነገረ አደለም ለ4ኛ ጊዜ የተባለ ነው ህወሓትን የሚያቆም ሀይል አልጠፋም፤በቂ ሀይል አለ ጥሪ የተደረገው ለአማራው ነው፤አማራና'",
            "የለም! የፓርቲው አቋምማ አቋማቸው ነው።በፓርቲው ውስጥ አንድ ሰው አንድ ድምጽ አይደል? ሌላው ነገር በፓርቲው በኩል ያለው አላፊነትና አገር አቀፍ በሆነ የስራ ምድብ ላይ ያለው ችግር…",
            "'@user @user ደደብ ሰዎች ችግራቸው ወይ አያውቁ ወይ አይጠይቁ ምድረ ቅዠታም ቲሽ!'",
            "'@user ይሄ ለአላማው ሳይሆን ለከራማው ያበደ የወያኔ ምሳሌ ነው።'",
            "'@user የአማራ ደሃ ገበሬን ቤት ገልብጦ ጨው ሳይቀር የሰረቀ፣ መሽከም ያልቻለውን ያቃጠለ፣ ከብት እርዶ በልቶ ያልቻለውን የገደለ፣እርሻ ላይ ያለ እህል ሳይቀር እያጨደ የ'",
            "ቦርኮ....ጥንብ ብቻ",
            "ግብፅ ባልተስማሙበት የድርቅ ትርጓሜ፤ የታላቁ የኅዳሴ ግድብ ውኃ አሞላልና አስተዳደር ላይ የሚያተኩረው አራተኛውና የመጨረሻው ቴክኒካዊ ድርድር በአዲስ አበባ ተጀመረ። የአሜሪካና የዓለም…",
            "በኢሰፖ: በብልፅግና እና በኢዜማ መካከል ያለው የአይዲዮሎጂ ልዩነት ምንድነው? | | | | | | | | | | | | | | | | | | | | | | | | | | | ምንም",
            "በጣም የሚያሳስቡንን ነገሮች አውቀውልናል ??",
            "እኛ ኢትዮጵዮውያን የራሳችን አዲስ አመት አለን የለንም ላሉት ከሆነ ጥሩ ነው ግን ዘርዘር አድርገው ለማን",
            "በፍጥነት ቀጣይ የትግል አቅጣጫውን ይፋ አድርገህ ወደ ብሄራዊ ትግል መግባት አለብህ፡፡ መካስ አለብህ፡፡ መሮጥ አለብህ፤ ግዜ የለም፡፡   6. በመጨረሻም ኮለኔል አብይ ምን ሊያደርግ…",
            "ምዕራብ ኦሮምያ ውስጥ በሚንቀሳቀሱ ሸማቂዎች ላይ መንግሥት ዕርምጃ እየወሰደ መሆኑን የኦሮምያ ክልል ብልፅግና ፓርቲ ህዝብ ግንኙነት ኃልፊ አቶ ታዬ ደንደአ ለቪኦኤ ገልፀዋል!  Link…",
            "ባህርዳር የማይነካውን ስትነካ እናቶችም ቤታቸው አይቀመጡም",
            "ወደ ጋምቤላ ብቅ በይ",
            "ኤችአይቪ በኢትዮጵያ ከሦስት ክልሎች ውጪ በወረርሽኝ ደረጃ ነው ያለው ። BBC Amharic",
            "ሁለት አይነት አገራቸው የሚወዱ ሰዎች   1. ጠላትን ወዳጅ በማድረግ ጠላቶች የማይፈልጉትን ሁሉ እርግፍ በማድረግ ሌላ ስብዕና መፍጠር  2. የተገነባ ማንነት ላይ ሳይደራደር አጠንክሮ…",
            "የቤተሰብዎ ደስታ በእጅዎት ነው!! በሉ ታሕታይ ዓዲ??????",
            "መልካም ዜና   ወደ ደቡብ አፍሪካ ለተጨማሪ የላብራቶሪ ምርመራ የተላኩት የአራቱ ተጠርጣሪዎች ውጤት ከኖቭል ኮሮና ቫይረስ ነፃ መሆናቸው ተረጋግጧል!  FMOH",
            "አሁን ገና ከአብን ቀጥሎ የብልጽግና መድሀኒት ተገኘለት...??????",
            "ወ/ሮ ሰናይት ነውረኛ ሴት መማር ትውልድ መግደል ከሆነ ባትፈጠሪ ይሻልሽ ነበር አንቺ ግን ወልደሽ ዘር ተክተሻል የሰው ልጆች ዘር ሳይተኩ እንዲጠፉ እየሰራሽ ባለሽው ወንጀል ፈጣሪ የስራሽን ይስጥሽ",
            "'@user @user የመጨረሻ አርምጃ ያሉትንም እግዚአብሔር ቀድሞ ገልብጦታል'",
            "ሸጌ (ብዙአየሁ) ላይ ደርሰናል ?? የአበበ ብርሃኔ  ምርጥ ስራ ??",
            "ለአዲስ አበባውያን መብት የሚታገለው ድርጅት",
            "ባህል አሸነፈ ሲባል ምን ማለት ነው?  ትንሽ ግር ስላለኝ ነው",
            "ማስታወስ ጥሩ ነው",
            "ኢትዮጵያዊው ወጣቱ ምሁር ከታላቅዋ የስልጣኔ ምድር ከአፋር የተገኘ  ሚልኒየም አዳራሽን በአፋን ኦሮሞ እያደመቀው ነው",
            "ብሓቂ ልቢ ይስብር ፀላእትና እቲ ዋና ዕላማኦም ቤትክርስታናት ምዕናውን ምጥፋእን እዩ ነይሩ ግን እግዚአብሔር ልዕሊ ኩሉ ስለዝኮነ ከምቲ ዝሓስብዎ አይኮነን ግን አብዚ ደርጃ እዚ",
            "@user @user @user @user @user Bar mootummaan dadhabee miti,caalaatti namni dhuma yaada jedhuun Lammaan hanga har'aatti garaa bal'atee jira.Bara technology ti barichi.",
            "#Inbox    #Debre_Markos_UniversityGuyyaa 12/04/2015 Halkan keessaa naannoo saa'atii sagalii Finxaaleyyiin faannoo ofiin jettan dormii barattoota tti ol seenuun ijoollee 3 cuubeen waranuun barataan tokko yemmuu du'u lamma du'aafi jireenya gidduu jiru. Amma hospital jiru.",
            "Ayii jedhe hacaaluun. Osoo qamar yusuf gaafas qarshi hamma haasayu san qabaatee, jaartoleen isa wajji gaa'eela diigdee hundi turte suni hundi sila dureeyyii hin taatu turtee?? Galgalaan salphachuudha kuni.",
            "Oromummaan kee yoomiifire sabaan kee oso boyu dache isaa irraa baqata ajefama oso jiru Oromoon 75% qabso mirga abbaa biyuuma godhamu  qarqara hin jiru.kanafi gantuf galtuun sabaa Oromooti taphate bara baraan.Hoogatoon Oromoo immoo agoof wallii nyaatu kan isaan nyaatu kan birati.",
            "Ummanni hedduun baqatee kan bineensi nyaate lakkoofsa hin qabu.Oromoon Oromummaa isaaf dhumaa jira!",
            "#    Walaahii bilaahii mootiin akkanaa Adunyaa irra hin jiruu . Abiyii arkkachuuf Ethiopianni carroomttee  duuba umrii dheertuu kadhadhaaf ani gamakoottiin .://www.facebook.com/100064845514191/posts/440041161500731/?flite=scwspnss&amp;mibextid=OF0ZnoewP5EtbOZi",
            "@user @user #WBO #Qeerroo duratti sobni nama hin baastu.  Magaalaatti qeerroo ajjeesuunis boji'amuurraa hin olchitu.  Bakka dhiiraatti dhiira tahanii ofi arguuf dhiiratti siquu qabda. Dhiiga dhangalayee booda dhiifama siif kanlaatu jiraachuu hinqabu.  Ilmaan oromoo diina faanaa oromoo nyaate",
            "Hidha laga abbayaa irraa wanti duubbatti nu deebisu hin jiru. Jabaadhaa yaa uummata itoophiyaa. Namni dubbii hin beekne akka fedhetti haa dubbatu. Nuti hojii keenya hanga galmaan geenyutti in hojjenna. URL",
            "Godinni Arsii Lixaa Deeggarsa Raayyaa Ittisa biyyaaf #korma_374 taasise!!=======#RIB=========Godina Arsii lixaatti Deeggarsa Raayyaa Ittisa biyyaa (RIB) #kormaaf_kormatu_mala jechuudhaan #korma_374 Qarshii 28,050,000tti tilmaamu taasise! URL URL",
            "Waanti Na Gaddisiise    Isati Na Sobde Osoo Hin Taane           Isa An Kana Booda         Sin Dhugoomsineedha. URL",
            "Maaliif jecha ajjeesuLubbuu kabajamtuuIsii rabbiin fileeIlma namaaf laatu.Isii lama hin ta'inTan deebitee hin dhufneDhimma baasuuf dhiisuuRabbiif maa hin dhiifne!!Ilma namaa dhiisiiHin du'in bineensiRakkattee isa deesseHarmeen maaliif boossi....✍✍✍✍✍✍✍Milk",
            "@user ከብቲ ! እዚ ዝአክል ህዝቢ አብ ስደት ተንብር ሃገር ዘሕብን ድዩ ዋላስ ዘሕፍር ? አብ መረበት ሃገሩ ተዝነብር እዚ ዐቕሚ ህዝቢ ክደይ መድመዐ ? ኤርትራ ብዘለዋ",
            "Fano Amhara-terroristerHumni fano Ahamara humna weerartuu fi humna saamicha qabeenya, lafaa  fi  ajjeechaa lubbuu qulqulloota irratti raawwataa jiruudha Qe'ee qulqulloota ibiddaan yaroo daaraa godhu  ilaala👇Fano Ahamara is terroriste URL",
            "Pirezidantiin Yuukireen Voloodimirii Zeleniskiin gaaffii US gargaarree Kiyeev keessa isin yaa baasnu jette fudhachuu diduu isaanii miidiyaaleen US gabaasan.Mr. Zeleniskiin, Waraanni asitti gaggeeffamaa jira. Ani meeshaa waraanaan barbaada malee, baqachiisanii na baasuu miti, URL",
            "Linkii asiin gadii banuun sagalee keenya adduuniyaat haa dhageesiffannuu Oromoo dirqama keenya haa baanuu WBOn wabii keenya.Gareen @user qoppeesitoonni sagantaa kanaa ulfaadhaa Link: 👉🏿 URL #OromoVoice URL",
            "Waaqayyo Abbaa keenya warra Dubbii Abbaa hordofanii fi Hojii Yesus irraa hojjetee bishaanii fi Hafuura irraa dhalatan hundaati kan Abbaa keenya hafuuraa fi dhugaadhaan waaqeffatu, Fedha Waaqayyoo Mootummaa Abbaa keessatti raawwachuudha.",
            "ህላዌ ዘይብሉ ናፅነት ንሓደ ህዝቢ ታዩ እዩ ? ድሕሪ ምህላው ዶ ኣይኮነን ናፅነት ? ጉዕዞ ህልውና ቃልሲ ናፅነት !",
            "@user @user ደርሆ ካብዚ ዝሐሸ ትፅሕትር! መጀመርታ ናይ ኢድ ፅሑፉ የስተኻኽል ለለስ ዝንግዕቲ ይብል ያዓኺ!",
            "Faannoon qaama biroo Oromiyaa lolu osoo hin taane, qaama mootummaa nu loludha.Lola WBO waliin taasisu keessatti milkii waan dhabeef mootummaan Faannoo fayyaadame deeggartoota WBO irratti waraana bansiise. Ragaan afaan Shimallisi.",
            "“Ani Ijjoollee baayyeen qaba. Ijjoolleen kiyyaa immoo #Oromo hunda” Abbaa Gada Agaa Xeenxanoo. Nagaan boqaadhu😭❤️ URL",
            "ቢንያም ግርማይ ኣብ ሻብዓይ መድረኽ ጂሮዲ ኢታሊ ሓሙሻይ ደረጃ ብምሓዝ 26 ነጥቢ ሓፊሱ via @user",
            "Abbaan Fardaa Ni Boona; Yoo Sittiingore Dheeysii Wanni Boonaniin Hojiidhaa Carraaqata Jabeessii!!Harargee Bahaa Aanaa Dadar Araddaa Burqaa Jaalalaatti hojiin misooma qamadii jallisii bonee haala kanaan Kunuunfamaa jira. Fayyaa dayaa jennaan!!! URL",
            "@user ገቼ ኣሜን ሓብሩ ኢንካዓ ኣብፅሐና ንሰራውትናን ንህዝብናን ናይ ሰላም ራህዋን ክኮነልና ንምነ ሩሑስ ሓዲሽ ዓመት ይግበርልና ይግበርልኩም",
            "Yoo itti beekan akka goota kanaati yoo itti wallalan akka hogganaa TPLF. Goota gaafa afrikaa jabaadhu RABBIIN si wajjin jiraa.? URL",
            "Waan isin nuuf jecha taatan waaqni abbaan dhugaa haa dubbatu malee ilmi namaa dubbatee waan fixu miti, galatoomaa✊🏾🙏🏾Imala milkiif kaayyoo isiniif haa ta'u #OromoVoice #OromoLiberationArmy URL",
            "ኣደይ ወላድተይ እንታይ ኾን ትበልዕ ትህሉ ኦ ፈጣሪና ስቓይና የሕጽረልና ??",
            "Yaa Rabbii badii keenya maalii? Yaa Rabbii nuuf dirmadhuu URL",
            "Gadi yaasi shirtuu keessoo badhaadhinaa teessee Abiyyiin maqaa balleessitu URL",
            "kan waadaa  gatanii irbbuu nyaatanii qabsoo keessaa harcaatan, kan garaaf jetanii ofi gurgurtanii nurattii hojeetan akkuma hinbri'uu seetee...jedhamu isiin mo'aamtaniittu. Warrii qabsoo keessatti wareegamtaan fi warrii ammaa diina hunkuuteessaa jirtaan mootaniittu! J.Marroo",
            "'ሐዚ ኣብ ዓብይ ወጥሪ ዝረከብ ከጁለ ሓሶት እናመሀዘ ስምዒት ህዝቢ ክኩርኩር ላሕ ይብል ኣሎ ። እዚ ድማ ኣንፃር ረብሓና ብምጥቃም ስልታዊ ይኩን ቴኪንካዊ መሓዛ ነፍርየሉ ዕድል ብኣወንታ ክሰርሓሉ ይግባእ። 2/'",
            "'ሓሶትን ስርቂን ዝባህሎም ሕስድንናን ዘይናትካ ምጥማትን ዝኣመሎም ነብሰ ምትሓትን ቅልውላው መንንነትን ዝጸገሞም ብዘይናቶም ዝምክሑ ነውራማት ሰረቅቲ ሕማም ቀርኒ ኣፍሪቃ ዝኾኑ ባራ'",
            "እንታይ’ዩ ከጋጥመካ ጉዳየይ ኣይኮነን ካብ ዘይትሰምዓኒ ቀጻሊ’ውን የጠንቅቐካ ኣይፈልጥን’የ ????",
            "'#ግፍዒ ኣብ ህዝብና!'",
            "ፍረ ቃልስና ደበስ ስውኣትና ዋጋ መስዋእትናን መጉዳእትና ናፅነትና እዩ! ሉዓላዊት ሃገረ ትግራይ ብቅልፅምና",
            "'ናይ በሓቂ!! ደም #ኤርትራዊ ከም ኣሰለት መጢጡ ወዲኡዎ። እቲ ዝገርም ግና ፣ ገና ህዝቢ ኤርትራ ኣይነቅሓሉን።'",
            "'ተጋሩ ብምኻኖም ጥራሕ ዕሸላትና ብጥሜትን ሳኣን መድሓኒትን ሞት ተፈሪድሎም ይረግፉ ኣለዉ ድምፂ ንኹኖም!'",
            "'ነዚ እዩ እውን ህወሓት ኣሻባሪ እንትበሃል ተጋሩ ንምጥፋእ ዝወፀት ሽርሒ ምዃና ብምርዳእን ኣብ ተጋሩ ዝህልዎ ሰዓቤን ብምግንዛብ ቐዲምና ንሕና እውን ህወሓት ኢና ዝበልና። BTW'",
            "'@user @user ሸዐበያ አንታይ ረብሓ አለካ አብ ዛዓለም በዘይካ ሰደተኛ ሞኻን'",
            "'ኣሕና ንፀንት ዘለና ብኢድ መራሕትና እዩ። ፈተኩም ፀላእኩም ናይ ሽዋ ሃንዛ እምበር ናይ ህዝቢ ትግራይ ደምን ንብዓትን ብትክክል ዝርድኦን ዝሓዝንን መራሒ የለን።'",
            "'@user Dose it matter ድፍእሲ ዘይብል ንሓተሎም ሰብ ዘይስአና እዚ ሓሚሙ ዶ ገለዶ እንታጉዱ'",
            "'ፃውዒት ንኹልኹም ተጋሩ ዲያስፖራ : US EU UK et al እቲ ገበነኛ ከሓዲ ብል(ፅ)ግና ሃገሩን ብውሻጠ ሰተታ ሒዙ ናብ ምዕራባውያን ፣ ሃገራት ዓረብ ፣ ሃገረት ኤስያን ኣብ'",
            "'@user @user @user @user @user ኣብ ዝሓለፈ ዓመት ነዚ ውድድር ብሓያል ብቅዓት ዝቀልጠ'",
            "'ባሕሪ የድልየና እዩ ዘይኮነስ እቲ ባሕሪ ናትናን ርስትናን እዩ ኢና ንበል ዘለና። ባሕሪ ደኣ ኣይኮነን ዶ ንሰብ ንዓሳ ውን የድልዮ!'",
            "'ብረትኩም ኣረክቡ? ወይ ጉድ ሓረስታይ ትግራይ ዘይረኽቦ ፀገም የለን:: ሓረስታይና ኸሞ ዋዛ ዶ:: ሚሳይል ደርቢኹም ዝሃደምኩም እናሃለኹምስ ንዓና ንሓረስቶት ክላሽ ኣረክቡ ክትብሉ'",
            "@user @user ስእሊ ኣልማዝ ????ዊት ዋዕሮ እንክሪኢ ንድሕሪት ኣብቲ ዝዓበኩሉ ሳሕል ቦታ ጽንዓተ ትመልሰኒ ከብደይ ሕቡጭቡጭ ይብለኒ ኣዒንተይ ንብዓተይ ክጸሮ",
            "ኣብ ዝሓለፈ ዓመት ናትናኤል ተስፋጼንን ኣማኑኤል ገብረእግዚብሄርን ኣብዚ ዙር ኣብ ዝተወዳደርሉ ናትናኤል ተስፋጼን ኣብ ቀዳማይቲ መድረኽ 9ይ ደረጃ ሒዙ ምስ ቀዳሞት ዓሰርተ ክዛዝም ከም ዝበቅዐ ይዝከር።",
            "'@user Correction: ናይ ሽም ስሕተት እዩ እምበር ምስ ሃፀይ ዮሃንስ ዝምድና ኣይብሎምን፣ ግን ብ ኣቡኡ ተምቤናዊ እዩ ዝብል ሓበሬታ ረኺበ ኣለኩ።??'",
            "'ATV: ጸረ-መጥቃዕቲ ጅግና ሰራዊት ትግራይ ክጻወር ዘይከኣለ ወራሪ ሰራዊት ኣቢይ ንከተማ ቆቦ ገዲፉዋ ከምዝሃደመ . via @user'",
            "'@user ጣብያ ባምባ ኣብ ወረዳ ሰሓርቲ ሳምረ እትርከብ እያ። መልዓሊኡ ካብ ሰለ (መስመር መቐለ ዓብይ ዓዲ ቅድሚ ጣብያ ኣግበ እትርከብ) የጭላ ሳመረ ዝተጉዓዘ ይመስለኒ።'",
            "'@user ጽልኢ ሕማም እዩ ፈውሲ የብሉን ብጽልኢ ዝተለኽፉ ምሕረት የውርደሎም'",
            "'@user @user ኤርትራውያን ኩሎም ይኩኑ ኣይኩኑ ይንኣሱ ይብዝሑ ብዘየገድስ ምክንያቱም ኢትዮጵያ ኮነት ኤርትራ እና ናይ ኣምሓራ ሓይሊ እቲ ኣሰቃቂ ገበን እን'",
            "'ትግራይ እንድሕር ትፎትይያ ወይ ትፈትዋ ተኾይንኻ ንውለድ ንብዛሕ ልወለድና ለ ተኽኢልና ደጊምና ደጋጊምና ንውለድ። ሃምቀልዲ አይንርአዮ ምስ ችግርና መሳ ልመሳ ኣርሒቅና ንሕሰብ አሓት ወኣሓት ??'",
            "'እንኳዕ ኣብፀሐና ንብረሃነ ትንሳኤ ንብዓት አዴታትና ዝሕበስሉ ስቃይ ህዝብና ዘብቀዑሉ ይገበረልና'",
            "'ሳላ ስርዓት ህግደፍ ዝተሳእነ የለን Asmara new normal ካሮሳ ታክሲ ተቀይሩ'",
            "'ንጋዓዝ ኣለና ንበፅሖ ብራኸ ስለ ዘለና እዩ !! ፈተና ዝፍተን ዘፅነዐ እዩ !! ደጊምና ከይንፍተን ሓድነት ተጋሩ ዝብሃል ኣሎ ካብ ውድቀት ዘድሕን ሕርያ ፅንዓት ምእንተ ትግራይ ንምስዋእ ትጋደል !! ንጋደል ??'",
            "'እንኳዕ አብፀሐና አብፀሐኩም ናብ ለካቲት አዴና አታ ጅግና ህዝቢይ ህዝቢይ ትግራይ ??'",
            "'@user @user @user @user ዋዕሮ ዓለም ቂናኖያ ብሰላም ዕረፊ ጽንዓት ንስድራቤትክን ብጾትክን ጅግና ኣይንብርንዩ ታሪኽዩ ዝውረስ ዓወት ንሓፋሽ'",
            "'ናይ ምብትታን ኣእምሮ ዘለዎ ንዘለኣለም ቅሳነት የብሉን፡፡ ምስ ነፍሱዩ ዝበኣስ፡፡ ምንጪ ሰላም ካብ ኣእምሮዩ ዝፍልፍል፡ዮሃና ንመላእ ህዝቢ ኤርትራ እንቛዕ ንመበል 31 ዓመተ ናጽነ'",
            "'@user @user @user @user @user @user @user ብሓቂ ካብ ሑሉፍና ክንማሃር ኣለና!'"
           ],
           [
            "negative",
            "negative",
            "negative",
            "negative",
            "negative",
            "negative",
            "negative",
            "negative",
            "negative",
            "negative",
            "neutral",
            "neutral",
            "neutral",
            "neutral",
            "neutral",
            "neutral",
            "neutral",
            "neutral",
            "neutral",
            "neutral",
            "positive",
            "positive",
            "positive",
            "positive",
            "positive",
            "positive",
            "positive",
            "positive",
            "positive",
            "positive",
            "negative",
            "negative",
            "negative",
            "negative",
            "negative",
            "negative",
            "negative",
            "negative",
            "negative",
            "negative",
            "neutral",
            "neutral",
            "neutral",
            "neutral",
            "neutral",
            "neutral",
            "neutral",
            "neutral",
            "neutral",
            "neutral",
            "positive",
            "positive",
            "positive",
            "positive",
            "positive",
            "positive",
            "positive",
            "positive",
            "positive",
            "positive",
            "negative",
            "negative",
            "negative",
            "negative",
            "negative",
            "negative",
            "negative",
            "negative",
            "negative",
            "negative",
            "neutral",
            "neutral",
            "neutral",
            "neutral",
            "neutral",
            "neutral",
            "neutral",
            "neutral",
            "neutral",
            "neutral",
            "positive",
            "positive",
            "positive",
            "positive",
            "positive",
            "positive",
            "positive",
            "positive",
            "positive",
            "positive"
           ]
          ]
         },
         "domain": {
          "x": [
           0,
           1
          ],
          "y": [
           0,
           0.485
          ]
         },
         "header": {
          "align": "center",
          "fill": {
           "color": "lightskyblue"
          },
          "font": {
           "color": "black",
           "size": 12
          },
          "line": {
           "color": "darkslategray"
          },
          "values": [
           "country",
           "tweet",
           "label"
          ]
         },
         "type": "table"
        },
        {
         "domain": {
          "x": [
           0,
           1
          ],
          "y": [
           0.515,
           1
          ]
         },
         "labels": [
          "negative",
          "neutral",
          "positive"
         ],
         "marker": {
          "colors": [
           "red",
           "yellow",
           "green"
          ]
         },
         "type": "pie",
         "values": [
          1590,
          582,
          851
         ],
         "visible": false
        },
        {
         "cells": {
          "align": "left",
          "fill": {
           "color": "lightcyan"
          },
          "line": {
           "color": "darkslategray"
          },
          "values": [
           [
            "Algeria",
            "Algeria",
            "Algeria",
            "Algeria",
            "Algeria",
            "Algeria",
            "Algeria",
            "Algeria",
            "Algeria",
            "Algeria",
            "Algeria",
            "Algeria",
            "Algeria",
            "Algeria",
            "Algeria",
            "Algeria",
            "Algeria",
            "Algeria",
            "Algeria",
            "Algeria",
            "Algeria",
            "Algeria",
            "Algeria",
            "Algeria",
            "Algeria",
            "Algeria",
            "Algeria",
            "Algeria",
            "Algeria",
            "Algeria"
           ],
           [
            "@user وعلاه يهدر بالفرونسي",
            "@user ههههههه علابالي تحبوا ذيب نصف الرجال تحبو يقولك ذكي و مغرور و وفي 😝",
            "@user @user @user رواح للبريفي علابالي قدام غاشي تبغي تبان",
            "بعد 12 يوم فقط سنقفز أكبر قفزة تاريخية من 2023 ميلادية إلى 2973 شيشناقية😄😄😄\\n\\nريسان تاع  العام... الغاشي راه دايرهم… @user",
            "@user @user اولا مانيش اخت راني اخ نقرأ في جامعة تخصص اقتصاد دولي وهادي ماهيش هدرة مقاهي هذا رآه واقع عايش… @user",
            "@user @user مينتقدوش ؟؟ قبل كنا نرقعولو و خلوه يخدم دك زاد عليها بزاف و تخشان راس مش مليح بزاف",
            "@user وعلاه محيتو التعازي لحطيتها الصباح وعلاه دايرين هكدا رايحين كامل تموتو اتقو الله واحد مايدوم في هذي الدنيا",
            "@user @user @user @user @user علابالي حتى بالاثبات تبقاو تعبدوه و لا فائدة ابد… @user",
            "اعتراف \\nانا لي وشمت اسم مدامتي في ذراعي امبعد هي تزوجت و انا راني لاصق ب اسمها 😧",
            "نسرق هداك البابور لي وراوه في 5 جويلية ونبقى نهوم فالبحر الابيض المتوسط نسرق السميد ونعاود نبيعو فالدزاير ، ولا نقو… @user",
            "@user @user @user @user ماكانش علابالي😶",
            "علابالي في كلش،انا برك ساكت و داير روحي معلاباليش 😉",
            "@user @user وعلاه انت متحدثة باسم الجزائر؟؟",
            "@user وعلاه الكلمة لي قريت خلاتني نكمل؟\\U0001f979",
            "🔥 | المباراة القادمة \\n🏆 | بطولة الرابطة الأولى( الجولة15 )\\n⚽️ |شبيبة القبائل 🆚شباب بلوزداد \\n🗓  |24/12/2022\\n⏰ |سا16:… @user",
            "@user زعما يعاود الوقت ونصبح عليك",
            "عشت حياتي كامل بصح جامي وليت انكوبل\\nلخطر علاباليLAFINEوقتاش تكمل🙂😉",
            "@user @user @user شكون تاني ؟ @user",
            "RT @user @user @user وعلاه عقرب يشدها هد الشيء لا اظن \\nانا تبنلي التحصين بالادعية والاذكار له فاعلية احسن \\nمجرد راي",
            "@user @user وعلاه عشانك في جيبه؟",
            "ياربييييي 😭😭😭ت تهبل سطيف تأمنو بالله اول مرة نشوفها هكذا \\nمكانش علابالي بلي هي شابة قدنهاك 😭😭😭\\nتقول بلاصة اوروبية ا… @user",
            "@user الله يشفيك ويكشف ضرك وكل مريض",
            "@user مسكين حنين بزا",
            "@user ايه راكي تخممي كيف تخرجيلنا قلوبنا بصحتك \\U0001fae4",
            "@user صباح النور والسرور من عاصمة الاوراس باتنة..",
            "@user انا نحب الجنوب فالربيع منعرف الناس وقتاش تحبو بصح انا الرلايات الداخلية و الجنوب عشقي فالربيع نحس راحة نفسية",
            "@user ههههه هههه هذا وين كملت لماعن\\nأنا علابالي بيه تاعي وحدي تأكدت اليوم 💪💪 يعرفني شاوية فحلة",
            "@user وقتاش يكون التغيير ان شاء الله في صالح الشعب",
            "@user @user من غير مزية خويا",
            "اكثر ناس كلاص هوما ناس الجي الفخونساز 🇨🇵 @user"
           ],
           [
            "negative",
            "negative",
            "negative",
            "negative",
            "negative",
            "negative",
            "negative",
            "negative",
            "negative",
            "negative",
            "neutral",
            "neutral",
            "neutral",
            "neutral",
            "neutral",
            "neutral",
            "neutral",
            "neutral",
            "neutral",
            "neutral",
            "positive",
            "positive",
            "positive",
            "positive",
            "positive",
            "positive",
            "positive",
            "positive",
            "positive",
            "positive"
           ]
          ]
         },
         "domain": {
          "x": [
           0,
           1
          ],
          "y": [
           0,
           0.485
          ]
         },
         "header": {
          "align": "center",
          "fill": {
           "color": "lightskyblue"
          },
          "font": {
           "color": "black",
           "size": 12
          },
          "line": {
           "color": "darkslategray"
          },
          "values": [
           "country",
           "tweet",
           "label"
          ]
         },
         "type": "table",
         "visible": false
        },
        {
         "domain": {
          "x": [
           0,
           1
          ],
          "y": [
           0.515,
           1
          ]
         },
         "labels": [
          "negative",
          "neutral",
          "positive"
         ],
         "marker": {
          "colors": [
           "red",
           "yellow",
           "green"
          ]
         },
         "type": "pie",
         "values": [
          2652,
          3317,
          3069
         ],
         "visible": false
        },
        {
         "cells": {
          "align": "left",
          "fill": {
           "color": "lightcyan"
          },
          "line": {
           "color": "darkslategray"
          },
          "values": [
           [
            "Morocco",
            "Morocco",
            "Morocco",
            "Morocco",
            "Morocco",
            "Morocco",
            "Morocco",
            "Morocco",
            "Morocco",
            "Morocco",
            "Morocco",
            "Morocco",
            "Morocco",
            "Morocco",
            "Morocco",
            "Morocco",
            "Morocco",
            "Morocco",
            "Morocco",
            "Morocco",
            "Morocco",
            "Morocco",
            "Morocco",
            "Morocco",
            "Morocco",
            "Morocco",
            "Morocco",
            "Morocco",
            "Morocco",
            "Morocco"
           ],
           [
            "الناس تربح الملايير وانتم ماذا تربحون'",
            "المغاربة تجذبهم الأوهام و دنيا و موسيقا ورقص أما حقوق إنسان مجرد كدبة الغرب على العرب فهم يخضعوننا بكلمات '",
            "اين هو ربط المسؤولية بالمحاسبة ؟ هذه المرة العشرين الذي تفلس فيه هذه القناة وتضخ فيها اموال الدولة بدون حسيب ولا رقيب '",
            "7akam layn3l pd li weldek",
            "قال (ص)(ٱرحموا من في الأرض يرحمكم من في السماء) أليس هؤلاء مغاربة من بني جلدتنا كانت الظروف الإجتماعية سببا لتشردهم ألم يكن الأولى تخصيص ميزانية لإيوائهم و إيجاد حلول لهم بدل إنفاق الأموال في المهراجانات\"\"\"\"\"\"\"\"موازين\"\"\"\"\"\"\"\" و الحفلات و كرة القدم ؟ثم هل وجدْنا حُلولا لهؤلاء المغاربة أوَّلاً قبل أن نستضيف الأفارقة؟'",
            "ana ra ntoma li mrdtoni ila ma3jbkomch chi tasarof ntjm3o o ngoloh liha f social media o manwdoch fitna binatna",
            "الفقر الفقر الفقر '",
            "هل إدخال السياسة في الذين هذا هو اﻹسﻻم الله إنعل لي ميحشم",
            "المغرب كلو زين ولكين الغلا والطمع ديار حالي'",
            "@user @user ........https://t.co/sJOnDagYqZ nakhjal ?? aha hada rah lmaghrib ya 3anza !! blad li mat7elmoch tweslo liha wa chokran",
            "@user @user 7it houma asslan mamdarbinch 3lach wach ali wla othmane",
            "رئيس اوكرانيا استدعى سفيرتو فالمغرب: كاينين اللي ما كيخدموش وباغيين غير يبقاو فبلايصهم,",
            "كيف كتبات “كود”..الحكومة: صفقة وزارة السياحة بـ390 مليون لي ربحو جوج مكاتب دراسات قانونية وها المهمة ديالهم,",
            "nonooo ina rifia raha sakna f rbat ghi aslha man nado w kathdr ac ihab darija normal",
            "بوكلاطة نائب الوكيل العام بفاس: البرلماني الفايق عرقل سير العدالة وإطلاقه فحالة سراح كيشكل خطر على مجريات الضوصي ديالو,",
            "wmachetch moughribi ysseb nassim just twanssa ysebou ihab pk mane3refchi law 3ala sout kan 3end ghada wmakhdatch",
            "الگيرا فاوكرانيا. واش كانت جرائم ضد الانسانية فپوتشا بعد اكتشاف قتلى مدنيين. اوكرانيا كتتهم موسكو.. وروسيا: صور كييف استفزاز جديد ما عندنا علاقة بيه,",
            "زعيمها يلاه خرج من الحبس.. الجوندارم فالدريوش طيحو عصابة كتشفر الديور والمحلات التجارية,",
            "9albi ra da39ato denya mo7al ghays7a7 wakha yedkhol la salle",
            "تقرير اقتصادي اسباني : مليلية كلات العصا مع السدان وتكاليف المعيشة تزادت ب 40 ٪,",
            "@user 3ardi 3liha ola y3raf 3lik mohim salmi 3lih 😂😂😂😂",
            "من المملكة العربية السعودية ضد الظلم",
            "كل النجاح والتوفيق إن شاء الله.. سيري بخطا هادئة. كوني انتي برقيكي ولا تتشبهي بأحد ولا بنمط'",
            "المغرب واحد واحنا مغاربة موحدين من طنجة لكويرة أن شاءالله بقيادة ملكنا المحبوب محمد السادس",
            "اتمنى ان ارى بلدي في المقدمة مادام لدينا خبراء محليين و ارادة ملكية لتشجيع الشباب. البتكوين قادم فلنستعد ومن بننضره ليسقط انما هو يحلم كما قال الكاتب سبق ان تمت محاولة منهه.'",
            "@user @user Kont ghanzalha ghda,ana wiyak jatna nafs lfikra,Ya RBI yirja3 lina saad daghya",
            "😅😅 dakchi alach meziane tmchi dir footing m3a 22h",
            "كل رئيس يمثل شعبه   وهؤلاء القوم من ذاك الرئيس من يكرهنا نكرهه  وتبا لهم حكومة وشعبا",
            "la ana sme3taha aktar mn 100 marra hhhhhhh",
            "بالتوفيق يا بطل يا راقي. حفظك الله يا فخر المغرب'"
           ],
           [
            "negative",
            "negative",
            "negative",
            "negative",
            "negative",
            "negative",
            "negative",
            "negative",
            "negative",
            "negative",
            "neutral",
            "neutral",
            "neutral",
            "neutral",
            "neutral",
            "neutral",
            "neutral",
            "neutral",
            "neutral",
            "neutral",
            "positive",
            "positive",
            "positive",
            "positive",
            "positive",
            "positive",
            "positive",
            "positive",
            "positive",
            "positive"
           ]
          ]
         },
         "domain": {
          "x": [
           0,
           1
          ],
          "y": [
           0,
           0.485
          ]
         },
         "header": {
          "align": "center",
          "fill": {
           "color": "lightskyblue"
          },
          "font": {
           "color": "black",
           "size": 12
          },
          "line": {
           "color": "darkslategray"
          },
          "values": [
           "country",
           "tweet",
           "label"
          ]
         },
         "type": "table",
         "visible": false
        },
        {
         "domain": {
          "x": [
           0,
           1
          ],
          "y": [
           0.515,
           1
          ]
         },
         "labels": [
          "negative",
          "neutral",
          "positive",
          "negative",
          "neutral",
          "positive"
         ],
         "marker": {
          "colors": [
           "red",
           "yellow",
           "green",
           "red",
           "yellow",
           "green"
          ]
         },
         "type": "pie",
         "values": [
          7226,
          7597,
          7329,
          6380,
          524,
          3652
         ],
         "visible": false
        },
        {
         "cells": {
          "align": "left",
          "fill": {
           "color": "lightcyan"
          },
          "line": {
           "color": "darkslategray"
          },
          "values": [
           [
            "Cameroon",
            "Cameroon",
            "Cameroon",
            "Cameroon",
            "Cameroon",
            "Cameroon",
            "Cameroon",
            "Cameroon",
            "Cameroon",
            "Cameroon",
            "Cameroon",
            "Cameroon",
            "Cameroon",
            "Cameroon",
            "Cameroon",
            "Cameroon",
            "Cameroon",
            "Cameroon",
            "Cameroon",
            "Cameroon",
            "Cameroon",
            "Cameroon",
            "Cameroon",
            "Cameroon",
            "Cameroon",
            "Cameroon",
            "Cameroon",
            "Cameroon",
            "Cameroon",
            "Cameroon",
            "Cameroon",
            "Cameroon",
            "Cameroon",
            "Cameroon",
            "Cameroon",
            "Cameroon",
            "Cameroon",
            "Cameroon",
            "Cameroon",
            "Cameroon",
            "Cameroon",
            "Cameroon",
            "Cameroon",
            "Cameroon",
            "Cameroon",
            "Cameroon",
            "Cameroon",
            "Cameroon",
            "Cameroon",
            "Cameroon",
            "Cameroon",
            "Cameroon",
            "Cameroon",
            "Cameroon",
            "Cameroon",
            "Cameroon",
            "Cameroon",
            "Cameroon",
            "Cameroon",
            "Cameroon"
           ],
           [
            "@user Nima nayi Allah wadai da kisan mutane 70 a jamhuriyar Nigar, sai me? 🙄",
            "@user Bashi Jali ya fara sana'a mtswwww!!! 😕😕",
            "@user @user Yoooo what are dey waiting for? Akaishi mna kar yasamu yafita wajeh, yaqi dawowa🙁",
            "gaskiya bbc hausa baku da aikin yi to mu ina ruwanmu da ita ta mutu ma meye damuwar mu",
            "@user Wllh Gaskiya dayace Mulkin Nigeria ya gagari Buhari Domin Babu fannin da aka samu ci gaba a Nigeria idan ka dubi matsalar tsaro da matsalar harkokin Yau da kullum, Tsadar Rayuwa Ga Rashin Wutar Lantarki, Ga Matsalar Kidnapping, Ga Matsalar Rashin Aikinyi🤔 Kai Wllh Ya Gazaaa😭😭",
            "@user Walla da shegen takan ball aka haiheshi baiji bai gani😂",
            "@user Ga ba wuta 😢😩😭",
            "@user Kwarankwasa Tabar Wawa Da Bashin Shadda,Wasukuma Ta Abaya Yasin😎😂",
            "@user 😅😅😅😅😅. Dan hegiya. Tunda ya bar baca Lalacewa kuma Yanzu Ya fara",
            "@user Bbc kuma fah munafikai ne 😂uban wa ta caccaka",
            "@user @user @user Kaima kasani ai😂",
            "mai mashara akoi ta amsin",
            "@user 🙆🙆 amma da niyya yayi wannan aika aika ko🙄🙄",
            "toh fa wai har yanzu ma akwai corona",
            "@user @user @user @user Yauwa inda gaske ne 😅",
            "@user Toh kuma me ya kawo tallar fuskar mace a wannan al'amarin?🙄",
            "@user Habawa Nidai nasan kwafan sunan'nan kukayi wallahi 😂",
            "@user Wai zaurawa kuma😂😂😂😂 samari dai. Aa Anty Layla saidai zurawan 😅",
            "gaskiya ne dogo sai da doguwa gajere sai da",
            "@user Kukasani ai ba Paris 🇮🇹 zatajeba kasani koh wudil zatata GI yasin 😂😂😂",
            "@user Allah yasa ba da uwar wani ba🙏",
            "allah yataimaka sarki allah yakaraja da nisan kwana mai mai martaba sarkin karaye",
            "@user Ciki da raino shima yayi kam.. fantastic 3 guys!!! Allah ya kara basira. Ina son directing dinka saboda akwai nisadi a ciki😎",
            "@user Ai kuwa da mun ci dariya kamar cikinmu ya yi ciwo 😂",
            "@user Babbar malamata ta firamare...malama kulu mai hijabi ❤️tananan kuma alhamdu lillah haryanzu ina tareda ita..wannan matar kirki e... from BIRNIN KEBBI",
            "@user Allah y kai haske kabarinsa alfarmar wannan wata mai alfarma🇳🇬🙏",
            "@user Kanawa sae uban Abba😹",
            "yaro ya fito babansa sak allah ya musu gafara baki daya",
            "@user Allah ya jikan rai , Allah yasa in tamu tazo mucika da imani 😂🙏🏾",
            "@user Kisha sha'anin duniya ce,babbar yarinya💋 son wani kin wanda yarasa.🔥🔥🔥🔥",
            "but dem dey collect gbas gbos na e no matter ore mi",
            "we be like men for this life wey no fit relate but the don die",
            "for us wey no sabi smile but dey sing nkor if you live me go dey",
            "just tell me amount make i pay those forest frsc are so full of themselves na so i no stop for one i flashed him on stopping me and he gave way the other that was seated just took upon himself to vex for matter wea no be him own come start dey para mtchwee",
            "my name is samipraise chatting from abeg help me with country na ja don had ooo still roaming",
            "i just want to wake up one morning go straight to aso rock demand to see the president greet him and give him better slap is it too much to ask after that anything way wan happen make e happen i be port harcourt boy wike na my governor",
            "ssa wey you dey yab nor dey reason you oooooooo",
            "i thought my area was alone in this please we no wan hear one grid get fault oooo abeg its december abi water don dry fro dam again ni",
            "some people wicked sha when dey won borrow money dem go behave like human being ok to return am now dey go turn animal turn u to enemy",
            "money wey i dey manage uba took a whole they took before abeg you people should comman explain to me why",
            "keypad dey press hin sef ‍️",
            "make it pm abeg i de sleep",
            "me sef dey think am oo",
            "e dey take full village to take care of pikin as usual go soon pop up untop wit me so pin i dey test u",
            "my guy dey de list o",
            "tell the truth but you go dey fear you crushing on hershoot your shot but you go dey fear you get your moneyspend itlive your best life but you go dey fear yes am talking to you i really need to meet this mr fear",
            "people im not friends with speaking pidgin withto me doesnt sit well with me funny that im here is even shorter than i don show",
            "im loyal i dey learn where you dey na",
            "na church i dey dey tweet",
            "money wey white dey take time to don",
            "i swear jide read pass me for that exam i was too confident like wetin baba wan set wey i no go sabi baba sly me",
            "its look like you just got ahold of this endearment e dey sweet you for belle well well sir",
            "if you be wetin you for do i sha pray the guy does the right thing which is making sure those girls are properly dealt with with the law shae una wan drag",
            "sings any pit wey dem dig for me i jump am pass",
            "yo its world photography day and all my guys are dropping their sweet sweet images yo photographers dey create abeg early morning i don choke with pictures ️️️ i love yall yes everyone of you ️",
            "i for like take pictures make we compete for senatorial post together buh my own agbada still deh tailor side and that guy don commot for naija",
            "just when i thought was a noshow for me my dream to chop life this december can now be a reality thanks to with the gt plus jolly fest chop life december is assured and for shikele money sef just check out the awesome packages in the combo",
            "he needs a strong vehicle to movecos apcna jeep wrangler them dey usepdp fit give am benz jeep",
            "please if you see where them de do giveaway abeg tag me e don red",
            "now wan cus wahala see also brodahshagi don fall in love please dj coppied help me wipe up his tears he seriously loves you"
           ],
           [
            "negative",
            "negative",
            "negative",
            "negative",
            "negative",
            "negative",
            "negative",
            "negative",
            "negative",
            "negative",
            "neutral",
            "neutral",
            "neutral",
            "neutral",
            "neutral",
            "neutral",
            "neutral",
            "neutral",
            "neutral",
            "neutral",
            "positive",
            "positive",
            "positive",
            "positive",
            "positive",
            "positive",
            "positive",
            "positive",
            "positive",
            "positive",
            "negative",
            "negative",
            "negative",
            "negative",
            "negative",
            "negative",
            "negative",
            "negative",
            "negative",
            "negative",
            "neutral",
            "neutral",
            "neutral",
            "neutral",
            "neutral",
            "neutral",
            "neutral",
            "neutral",
            "neutral",
            "neutral",
            "positive",
            "positive",
            "positive",
            "positive",
            "positive",
            "positive",
            "positive",
            "positive",
            "positive",
            "positive"
           ]
          ]
         },
         "domain": {
          "x": [
           0,
           1
          ],
          "y": [
           0,
           0.485
          ]
         },
         "header": {
          "align": "center",
          "fill": {
           "color": "lightskyblue"
          },
          "font": {
           "color": "black",
           "size": 12
          },
          "line": {
           "color": "darkslategray"
          },
          "values": [
           "country",
           "tweet",
           "label"
          ]
         },
         "type": "table",
         "visible": false
        },
        {
         "domain": {
          "x": [
           0,
           1
          ],
          "y": [
           0.515,
           1
          ]
         },
         "labels": [
          "negative",
          "neutral",
          "positive",
          "negative",
          "neutral",
          "positive",
          "negative",
          "neutral",
          "positive"
         ],
         "marker": {
          "colors": [
           "red",
           "yellow",
           "green",
           "red",
           "yellow",
           "green",
           "red",
           "yellow",
           "green"
          ]
         },
         "type": "pie",
         "values": [
          7226,
          7597,
          7329,
          6380,
          524,
          3652,
          1815,
          726,
          2277
         ],
         "visible": false
        },
        {
         "cells": {
          "align": "left",
          "fill": {
           "color": "lightcyan"
          },
          "line": {
           "color": "darkslategray"
          },
          "values": [
           [
            "Ghana",
            "Ghana",
            "Ghana",
            "Ghana",
            "Ghana",
            "Ghana",
            "Ghana",
            "Ghana",
            "Ghana",
            "Ghana",
            "Ghana",
            "Ghana",
            "Ghana",
            "Ghana",
            "Ghana",
            "Ghana",
            "Ghana",
            "Ghana",
            "Ghana",
            "Ghana",
            "Ghana",
            "Ghana",
            "Ghana",
            "Ghana",
            "Ghana",
            "Ghana",
            "Ghana",
            "Ghana",
            "Ghana",
            "Ghana",
            "Ghana",
            "Ghana",
            "Ghana",
            "Ghana",
            "Ghana",
            "Ghana",
            "Ghana",
            "Ghana",
            "Ghana",
            "Ghana",
            "Ghana",
            "Ghana",
            "Ghana",
            "Ghana",
            "Ghana",
            "Ghana",
            "Ghana",
            "Ghana",
            "Ghana",
            "Ghana",
            "Ghana",
            "Ghana",
            "Ghana",
            "Ghana",
            "Ghana",
            "Ghana",
            "Ghana",
            "Ghana",
            "Ghana",
            "Ghana",
            "Ghana",
            "Ghana",
            "Ghana",
            "Ghana",
            "Ghana",
            "Ghana",
            "Ghana",
            "Ghana",
            "Ghana",
            "Ghana",
            "Ghana",
            "Ghana",
            "Ghana",
            "Ghana",
            "Ghana",
            "Ghana",
            "Ghana",
            "Ghana",
            "Ghana",
            "Ghana",
            "Ghana",
            "Ghana",
            "Ghana",
            "Ghana",
            "Ghana",
            "Ghana",
            "Ghana",
            "Ghana",
            "Ghana",
            "Ghana"
           ],
           [
            "@user Nima nayi Allah wadai da kisan mutane 70 a jamhuriyar Nigar, sai me? 🙄",
            "@user Bashi Jali ya fara sana'a mtswwww!!! 😕😕",
            "@user @user Yoooo what are dey waiting for? Akaishi mna kar yasamu yafita wajeh, yaqi dawowa🙁",
            "gaskiya bbc hausa baku da aikin yi to mu ina ruwanmu da ita ta mutu ma meye damuwar mu",
            "@user Wllh Gaskiya dayace Mulkin Nigeria ya gagari Buhari Domin Babu fannin da aka samu ci gaba a Nigeria idan ka dubi matsalar tsaro da matsalar harkokin Yau da kullum, Tsadar Rayuwa Ga Rashin Wutar Lantarki, Ga Matsalar Kidnapping, Ga Matsalar Rashin Aikinyi🤔 Kai Wllh Ya Gazaaa😭😭",
            "@user Walla da shegen takan ball aka haiheshi baiji bai gani😂",
            "@user Ga ba wuta 😢😩😭",
            "@user Kwarankwasa Tabar Wawa Da Bashin Shadda,Wasukuma Ta Abaya Yasin😎😂",
            "@user 😅😅😅😅😅. Dan hegiya. Tunda ya bar baca Lalacewa kuma Yanzu Ya fara",
            "@user Bbc kuma fah munafikai ne 😂uban wa ta caccaka",
            "@user @user @user Kaima kasani ai😂",
            "mai mashara akoi ta amsin",
            "@user 🙆🙆 amma da niyya yayi wannan aika aika ko🙄🙄",
            "toh fa wai har yanzu ma akwai corona",
            "@user @user @user @user Yauwa inda gaske ne 😅",
            "@user Toh kuma me ya kawo tallar fuskar mace a wannan al'amarin?🙄",
            "@user Habawa Nidai nasan kwafan sunan'nan kukayi wallahi 😂",
            "@user Wai zaurawa kuma😂😂😂😂 samari dai. Aa Anty Layla saidai zurawan 😅",
            "gaskiya ne dogo sai da doguwa gajere sai da",
            "@user Kukasani ai ba Paris 🇮🇹 zatajeba kasani koh wudil zatata GI yasin 😂😂😂",
            "@user Allah yasa ba da uwar wani ba🙏",
            "allah yataimaka sarki allah yakaraja da nisan kwana mai mai martaba sarkin karaye",
            "@user Ciki da raino shima yayi kam.. fantastic 3 guys!!! Allah ya kara basira. Ina son directing dinka saboda akwai nisadi a ciki😎",
            "@user Ai kuwa da mun ci dariya kamar cikinmu ya yi ciwo 😂",
            "@user Babbar malamata ta firamare...malama kulu mai hijabi ❤️tananan kuma alhamdu lillah haryanzu ina tareda ita..wannan matar kirki e... from BIRNIN KEBBI",
            "@user Allah y kai haske kabarinsa alfarmar wannan wata mai alfarma🇳🇬🙏",
            "@user Kanawa sae uban Abba😹",
            "yaro ya fito babansa sak allah ya musu gafara baki daya",
            "@user Allah ya jikan rai , Allah yasa in tamu tazo mucika da imani 😂🙏🏾",
            "@user Kisha sha'anin duniya ce,babbar yarinya💋 son wani kin wanda yarasa.🔥🔥🔥🔥",
            "but dem dey collect gbas gbos na e no matter ore mi",
            "we be like men for this life wey no fit relate but the don die",
            "for us wey no sabi smile but dey sing nkor if you live me go dey",
            "just tell me amount make i pay those forest frsc are so full of themselves na so i no stop for one i flashed him on stopping me and he gave way the other that was seated just took upon himself to vex for matter wea no be him own come start dey para mtchwee",
            "my name is samipraise chatting from abeg help me with country na ja don had ooo still roaming",
            "i just want to wake up one morning go straight to aso rock demand to see the president greet him and give him better slap is it too much to ask after that anything way wan happen make e happen i be port harcourt boy wike na my governor",
            "ssa wey you dey yab nor dey reason you oooooooo",
            "i thought my area was alone in this please we no wan hear one grid get fault oooo abeg its december abi water don dry fro dam again ni",
            "some people wicked sha when dey won borrow money dem go behave like human being ok to return am now dey go turn animal turn u to enemy",
            "money wey i dey manage uba took a whole they took before abeg you people should comman explain to me why",
            "keypad dey press hin sef ‍️",
            "make it pm abeg i de sleep",
            "me sef dey think am oo",
            "e dey take full village to take care of pikin as usual go soon pop up untop wit me so pin i dey test u",
            "my guy dey de list o",
            "tell the truth but you go dey fear you crushing on hershoot your shot but you go dey fear you get your moneyspend itlive your best life but you go dey fear yes am talking to you i really need to meet this mr fear",
            "people im not friends with speaking pidgin withto me doesnt sit well with me funny that im here is even shorter than i don show",
            "im loyal i dey learn where you dey na",
            "na church i dey dey tweet",
            "money wey white dey take time to don",
            "i swear jide read pass me for that exam i was too confident like wetin baba wan set wey i no go sabi baba sly me",
            "its look like you just got ahold of this endearment e dey sweet you for belle well well sir",
            "if you be wetin you for do i sha pray the guy does the right thing which is making sure those girls are properly dealt with with the law shae una wan drag",
            "sings any pit wey dem dig for me i jump am pass",
            "yo its world photography day and all my guys are dropping their sweet sweet images yo photographers dey create abeg early morning i don choke with pictures ️️️ i love yall yes everyone of you ️",
            "i for like take pictures make we compete for senatorial post together buh my own agbada still deh tailor side and that guy don commot for naija",
            "just when i thought was a noshow for me my dream to chop life this december can now be a reality thanks to with the gt plus jolly fest chop life december is assured and for shikele money sef just check out the awesome packages in the combo",
            "he needs a strong vehicle to movecos apcna jeep wrangler them dey usepdp fit give am benz jeep",
            "please if you see where them de do giveaway abeg tag me e don red",
            "now wan cus wahala see also brodahshagi don fall in love please dj coppied help me wipe up his tears he seriously loves you",
            "oppong nkrumah daddy bawumia them reject me ooohow we go do am😟 bawumia",
            "its peace not your attention nsɛm no ahyɛ me so akyɛ",
            "wei nso monkor ka nkwasiasem",
            "😂 😂 me bo efu oo",
            "seisei de3 reverend father nso de ne ho agye mu bi ooo h3333 ewiase ehu oooo",
            "eeiii bla wo blɛ papa",
            "s3 eny3 nsem bi a anka ka nokware s33 chelsea nso y3 team mpo anaa 🙄 🤧🤧🤧 mu sore a dede hunu nkoaa ene mun3 🤣🤣🤣🤣🤣🤣🤣🤣",
            "nanka young gentleman nso de3 fa woho b3n team fooo saaa",
            "luck luck herh 😭😭😭😭 gyae kasa by heart no",
            "y3 te sika so 3na 3kom di y3n😂😂😂",
            "bet di y3 dodo nti mo nkyer3 y3 lotto twa🤣🤣🤣🤣🤣🤍🤍 got buzzzzzzz",
            "ooo aaaa eiii na yapn",
            "ey enti kote3 na ay3 tes3 gyidi kokoo sofo abaa no",
            "mr geppetto nti wo pɛ akyerɛ sɛn",
            "says me arsenal nni deɛ nka wo de kotoko yɛ dɛn🤣🤣🤣",
            "wo twitwi samena aaa 3ehro mba eyyyyyyyyyy brokenheart 🤣🤣🤣🤣🤣🤣🤣🤣🤣🤣🤣🤣🤣🤣🤣🤣🤣🤣🤣🤣",
            "hw3 wontumi mfa woho nni saa 😹",
            "eno bi u p3 oooh",
            "aden ne bo ay3 den anaa",
            "ah na emoom paaah😂😂😂😂",
            "akora n ho twa dodo ❤️",
            "kwame akwasi nti wo player no ka ho akwasi aane oo nanso ɔbɔ division 2 wɔ serbia kwame ɛnyɛ hwee me kraa me prayer ne bɔ division 3 wɔ india bisa yaw sɛ ɔde ne players no ka ho aa according to this is what happens at gfa 🤣🤣🤣",
            "sark wogyi pass na gyai good boy nsem nu 😂😂😂😂",
            "kwesi gyae saa na abaayewa no bɔ neho mmɔden yie ankasa",
            "ohwka na ka bio😂😂",
            "errea washing powder wei yɛ guy dodo the errea washing powder kits in dubai this 😹😹😹😹😹 is it from atebubu ohiayɛmɔbɔ market anaa kakabo fc ayɛ mɔbɔ dodo",
            "kofi obi de ne sika gye boakyewaa ooo come and see",
            "lol their loss ɛnneɛ fa hooki me dm erh 💉",
            "na weyi ɛna mo ɛnte ebi fa",
            "heerh so naa it is ooo hmmm"
           ],
           [
            "negative",
            "negative",
            "negative",
            "negative",
            "negative",
            "negative",
            "negative",
            "negative",
            "negative",
            "negative",
            "neutral",
            "neutral",
            "neutral",
            "neutral",
            "neutral",
            "neutral",
            "neutral",
            "neutral",
            "neutral",
            "neutral",
            "positive",
            "positive",
            "positive",
            "positive",
            "positive",
            "positive",
            "positive",
            "positive",
            "positive",
            "positive",
            "negative",
            "negative",
            "negative",
            "negative",
            "negative",
            "negative",
            "negative",
            "negative",
            "negative",
            "negative",
            "neutral",
            "neutral",
            "neutral",
            "neutral",
            "neutral",
            "neutral",
            "neutral",
            "neutral",
            "neutral",
            "neutral",
            "positive",
            "positive",
            "positive",
            "positive",
            "positive",
            "positive",
            "positive",
            "positive",
            "positive",
            "positive",
            "negative",
            "negative",
            "negative",
            "negative",
            "negative",
            "negative",
            "negative",
            "negative",
            "negative",
            "negative",
            "neutral",
            "neutral",
            "neutral",
            "neutral",
            "neutral",
            "neutral",
            "neutral",
            "neutral",
            "neutral",
            "neutral",
            "positive",
            "positive",
            "positive",
            "positive",
            "positive",
            "positive",
            "positive",
            "positive",
            "positive",
            "positive"
           ]
          ]
         },
         "domain": {
          "x": [
           0,
           1
          ],
          "y": [
           0,
           0.485
          ]
         },
         "header": {
          "align": "center",
          "fill": {
           "color": "lightskyblue"
          },
          "font": {
           "color": "black",
           "size": 12
          },
          "line": {
           "color": "darkslategray"
          },
          "values": [
           "country",
           "tweet",
           "label"
          ]
         },
         "type": "table",
         "visible": false
        },
        {
         "domain": {
          "x": [
           0,
           1
          ],
          "y": [
           0.515,
           1
          ]
         },
         "labels": [
          "negative",
          "neutral",
          "positive",
          "negative",
          "neutral",
          "positive",
          "negative",
          "neutral",
          "positive",
          "negative",
          "neutral",
          "positive"
         ],
         "marker": {
          "colors": [
           "red",
           "yellow",
           "green",
           "red",
           "yellow",
           "green",
           "red",
           "yellow",
           "green",
           "red",
           "yellow",
           "green"
          ]
         },
         "type": "pie",
         "values": [
          7226,
          7597,
          7329,
          4013,
          6940,
          4762,
          6380,
          524,
          3652,
          3296,
          5487,
          6344
         ],
         "visible": false
        },
        {
         "cells": {
          "align": "left",
          "fill": {
           "color": "lightcyan"
          },
          "line": {
           "color": "darkslategray"
          },
          "values": [
           [
            "Nigeria",
            "Nigeria",
            "Nigeria",
            "Nigeria",
            "Nigeria",
            "Nigeria",
            "Nigeria",
            "Nigeria",
            "Nigeria",
            "Nigeria",
            "Nigeria",
            "Nigeria",
            "Nigeria",
            "Nigeria",
            "Nigeria",
            "Nigeria",
            "Nigeria",
            "Nigeria",
            "Nigeria",
            "Nigeria",
            "Nigeria",
            "Nigeria",
            "Nigeria",
            "Nigeria",
            "Nigeria",
            "Nigeria",
            "Nigeria",
            "Nigeria",
            "Nigeria",
            "Nigeria",
            "Nigeria",
            "Nigeria",
            "Nigeria",
            "Nigeria",
            "Nigeria",
            "Nigeria",
            "Nigeria",
            "Nigeria",
            "Nigeria",
            "Nigeria",
            "Nigeria",
            "Nigeria",
            "Nigeria",
            "Nigeria",
            "Nigeria",
            "Nigeria",
            "Nigeria",
            "Nigeria",
            "Nigeria",
            "Nigeria",
            "Nigeria",
            "Nigeria",
            "Nigeria",
            "Nigeria",
            "Nigeria",
            "Nigeria",
            "Nigeria",
            "Nigeria",
            "Nigeria",
            "Nigeria",
            "Nigeria",
            "Nigeria",
            "Nigeria",
            "Nigeria",
            "Nigeria",
            "Nigeria",
            "Nigeria",
            "Nigeria",
            "Nigeria",
            "Nigeria",
            "Nigeria",
            "Nigeria",
            "Nigeria",
            "Nigeria",
            "Nigeria",
            "Nigeria",
            "Nigeria",
            "Nigeria",
            "Nigeria",
            "Nigeria",
            "Nigeria",
            "Nigeria",
            "Nigeria",
            "Nigeria",
            "Nigeria",
            "Nigeria",
            "Nigeria",
            "Nigeria",
            "Nigeria",
            "Nigeria",
            "Nigeria",
            "Nigeria",
            "Nigeria",
            "Nigeria",
            "Nigeria",
            "Nigeria",
            "Nigeria",
            "Nigeria",
            "Nigeria",
            "Nigeria",
            "Nigeria",
            "Nigeria",
            "Nigeria",
            "Nigeria",
            "Nigeria",
            "Nigeria",
            "Nigeria",
            "Nigeria",
            "Nigeria",
            "Nigeria",
            "Nigeria",
            "Nigeria",
            "Nigeria",
            "Nigeria",
            "Nigeria",
            "Nigeria",
            "Nigeria",
            "Nigeria",
            "Nigeria",
            "Nigeria"
           ],
           [
            "@user Nima nayi Allah wadai da kisan mutane 70 a jamhuriyar Nigar, sai me? 🙄",
            "@user Bashi Jali ya fara sana'a mtswwww!!! 😕😕",
            "@user @user Yoooo what are dey waiting for? Akaishi mna kar yasamu yafita wajeh, yaqi dawowa🙁",
            "gaskiya bbc hausa baku da aikin yi to mu ina ruwanmu da ita ta mutu ma meye damuwar mu",
            "@user Wllh Gaskiya dayace Mulkin Nigeria ya gagari Buhari Domin Babu fannin da aka samu ci gaba a Nigeria idan ka dubi matsalar tsaro da matsalar harkokin Yau da kullum, Tsadar Rayuwa Ga Rashin Wutar Lantarki, Ga Matsalar Kidnapping, Ga Matsalar Rashin Aikinyi🤔 Kai Wllh Ya Gazaaa😭😭",
            "@user Walla da shegen takan ball aka haiheshi baiji bai gani😂",
            "@user Ga ba wuta 😢😩😭",
            "@user Kwarankwasa Tabar Wawa Da Bashin Shadda,Wasukuma Ta Abaya Yasin😎😂",
            "@user 😅😅😅😅😅. Dan hegiya. Tunda ya bar baca Lalacewa kuma Yanzu Ya fara",
            "@user Bbc kuma fah munafikai ne 😂uban wa ta caccaka",
            "@user @user @user Kaima kasani ai😂",
            "mai mashara akoi ta amsin",
            "@user 🙆🙆 amma da niyya yayi wannan aika aika ko🙄🙄",
            "toh fa wai har yanzu ma akwai corona",
            "@user @user @user @user Yauwa inda gaske ne 😅",
            "@user Toh kuma me ya kawo tallar fuskar mace a wannan al'amarin?🙄",
            "@user Habawa Nidai nasan kwafan sunan'nan kukayi wallahi 😂",
            "@user Wai zaurawa kuma😂😂😂😂 samari dai. Aa Anty Layla saidai zurawan 😅",
            "gaskiya ne dogo sai da doguwa gajere sai da",
            "@user Kukasani ai ba Paris 🇮🇹 zatajeba kasani koh wudil zatata GI yasin 😂😂😂",
            "@user Allah yasa ba da uwar wani ba🙏",
            "allah yataimaka sarki allah yakaraja da nisan kwana mai mai martaba sarkin karaye",
            "@user Ciki da raino shima yayi kam.. fantastic 3 guys!!! Allah ya kara basira. Ina son directing dinka saboda akwai nisadi a ciki😎",
            "@user Ai kuwa da mun ci dariya kamar cikinmu ya yi ciwo 😂",
            "@user Babbar malamata ta firamare...malama kulu mai hijabi ❤️tananan kuma alhamdu lillah haryanzu ina tareda ita..wannan matar kirki e... from BIRNIN KEBBI",
            "@user Allah y kai haske kabarinsa alfarmar wannan wata mai alfarma🇳🇬🙏",
            "@user Kanawa sae uban Abba😹",
            "yaro ya fito babansa sak allah ya musu gafara baki daya",
            "@user Allah ya jikan rai , Allah yasa in tamu tazo mucika da imani 😂🙏🏾",
            "@user Kisha sha'anin duniya ce,babbar yarinya💋 son wani kin wanda yarasa.🔥🔥🔥🔥",
            "@user swears🤣 Ndi ara",
            "@user 😂😂😂😂😂. Nna eh ike gwụrụ",
            "i bụ ehhh ezigbo nsogbu",
            "@user ike gwurum Nwannem",
            "onwa ubochi umu asa gaa amapu gi isi eeh",
            "At your big age Kate! Otu a iha, ezigbo agbogho di ka gi! 😂😂 https://t.co/pl8jyq5WWa",
            "@user Taaah, mechie onu dia. Orugho my friend https://t.co/55i0M38cPs",
            "#Repost dancegathering with @user ・・・ #Instructor - Onye Ozuzu is a dance administrator,… https://t.co/NvLho6vZtN",
            "Gedoni onye ashi 🙄 #BBNajia",
            "echem si onwe ife ina eke",
            "@user @user Ala adighi mma bu uru ndi Nze!",
            "e ga egbu onye iga eso wey kwa ‍️",
            "Kedu onye nke oo! Obulu nke no na etiti, i gwa m ka m bia mee the needful. https://t.co/w06LLMoPmx",
            "@user @user @user @user Mens choro ebe ana eme ife ego 😌",
            "nna anaghi m ala nwoke nau",
            "ihe a bú ego ayọri ọ bụ ihe ọtịta si na mmiri nnu pụta aghụpụtasị a ya asaa ya gbaa ya na anwụ ego eme e ndị gboo jiri ya zụọ ahịa tupu ego wolomgbo a pụta kedụ ihe ana akpọ ya na bé ụnụ",
            "A babe kuo Ofuma, a gam edozili ya Onudu cholu ya Innoson jeep..A babe bulu onye mgbú, achiputalu ya slippers ya choro ya ego keke .....😂😂😂 Zoro is a whole moood #Mbada #Morningjog",
            "so ndi kwere android mezie gini",
            "@user Lol. Nne, amam e si nri ofuma. Oburo ile",
            "@user aligommanwu ona abu nnukwu azu ka ba nka, olaa na oke osimmiri.#osha",
            "@user Jisie nu ike https://t.co/cioiUu8bLp",
            "Jehovah idi egwu Jehovah Idi egwu #Praise #FARandMODE @user @user @user @user @user @user @user",
            "ozugbo nu nwanyi oma daalu",
            "Otito diri Chineke n'elu kasi elu n'uwa Udo diri mmadu ndi ihe ha n'aso Chukwu.",
            "asa onye life",
            "omalicha ada ndi igbo",
            "Onyem Chukwu goziwerem gi https://t.co/QR5iGUN71R",
            "sauce everywhere nne idi oku",
            "Chukwu goziwerem gi Nwoke Oma https://t.co/SDRNRIwL3T",
            "Kene Jehova n'ihi na ọ dinma. Happy Sunday ndị ọma twitter.. https://t.co/cM2CSwuYjj",
            "but dem dey collect gbas gbos na e no matter ore mi",
            "we be like men for this life wey no fit relate but the don die",
            "for us wey no sabi smile but dey sing nkor if you live me go dey",
            "just tell me amount make i pay those forest frsc are so full of themselves na so i no stop for one i flashed him on stopping me and he gave way the other that was seated just took upon himself to vex for matter wea no be him own come start dey para mtchwee",
            "my name is samipraise chatting from abeg help me with country na ja don had ooo still roaming",
            "i just want to wake up one morning go straight to aso rock demand to see the president greet him and give him better slap is it too much to ask after that anything way wan happen make e happen i be port harcourt boy wike na my governor",
            "ssa wey you dey yab nor dey reason you oooooooo",
            "i thought my area was alone in this please we no wan hear one grid get fault oooo abeg its december abi water don dry fro dam again ni",
            "some people wicked sha when dey won borrow money dem go behave like human being ok to return am now dey go turn animal turn u to enemy",
            "money wey i dey manage uba took a whole they took before abeg you people should comman explain to me why",
            "keypad dey press hin sef ‍️",
            "make it pm abeg i de sleep",
            "me sef dey think am oo",
            "e dey take full village to take care of pikin as usual go soon pop up untop wit me so pin i dey test u",
            "my guy dey de list o",
            "tell the truth but you go dey fear you crushing on hershoot your shot but you go dey fear you get your moneyspend itlive your best life but you go dey fear yes am talking to you i really need to meet this mr fear",
            "people im not friends with speaking pidgin withto me doesnt sit well with me funny that im here is even shorter than i don show",
            "im loyal i dey learn where you dey na",
            "na church i dey dey tweet",
            "money wey white dey take time to don",
            "i swear jide read pass me for that exam i was too confident like wetin baba wan set wey i no go sabi baba sly me",
            "its look like you just got ahold of this endearment e dey sweet you for belle well well sir",
            "if you be wetin you for do i sha pray the guy does the right thing which is making sure those girls are properly dealt with with the law shae una wan drag",
            "sings any pit wey dem dig for me i jump am pass",
            "yo its world photography day and all my guys are dropping their sweet sweet images yo photographers dey create abeg early morning i don choke with pictures ️️️ i love yall yes everyone of you ️",
            "i for like take pictures make we compete for senatorial post together buh my own agbada still deh tailor side and that guy don commot for naija",
            "just when i thought was a noshow for me my dream to chop life this december can now be a reality thanks to with the gt plus jolly fest chop life december is assured and for shikele money sef just check out the awesome packages in the combo",
            "he needs a strong vehicle to movecos apcna jeep wrangler them dey usepdp fit give am benz jeep",
            "please if you see where them de do giveaway abeg tag me e don red",
            "now wan cus wahala see also brodahshagi don fall in love please dj coppied help me wipe up his tears he seriously loves you",
            "#iroyin, #yoruba, Okanjua re o! Mose si mu ogogoro ku nitori egberun merin naira: Omokunrin… https://t.co/vZTwUApUVL",
            "Ṣé ẹ mọ̀ wípé àwọn èròjà tóyìnbó fi ńṣe ìpara àti ọṣẹ ìbóra wọ̀nyí ló ńfa jẹjẹrẹ orí àwọ̀? #arabibo #omoyoruba #yobamoodua #bleach",
            "a nílòo afárá olẹ́sẹ̀ ní èrò ọjà tó ń sọdá wọ ọkọ̀ ní ń fa súnkẹrẹ fàkẹrẹ ìrọ̀lẹ́",
            "ni ọmọọba bá wí fún olùkọ́ àgbà ags wípé àbí ẹ fẹ́ ṣíwọ́ sókè lu ọba ni",
            "olè ńlá ni europe lápọpọ̀ ìkokòó ni ẹran ẹlẹ́ran ló ma ń jí gbé",
            "RT @user: Erin ẹgàn-an Myanmar ń bẹ ń'nú ewu, àwọn adẹ́mìí légbodò kò jẹ́ kí wọn ó gbáyé, erin kan lọ́sẹ̀ kan ni wọ́n ń pa. https://t…",
            "Wọ́n pa ẹni méjì #APC #EkitiDecides2014 :(",
            "@user haha. Àdúrà tí ò dénú ni àwọn ènìyàn gbà fún un.",
            "bí ìbàdàn ti di ìgboro lẹ́yìn tí àwọn ológun tẹ̀dó sí tàán ojú aláìníìkanṣe ni àwọn ológun fi ń wo àwọn àgbẹ̀ ọ̀pọ̀lọpọ̀ ọ̀dọ́kùnrin ni wọ́n kọ́ ní ọ̀nà ogun jíjà iṣẹ́ àgbẹ̀ kò yẹ ọmọ tí a bí ire ẹrú àti àwọn tí wọ́n kó lójú ogun ló yẹ kó ma dáko",
            "Ọ̀gẹ̀dẹ̀ wo kòkó yè, ó wá di igi burúkú Ẹni tí à tọ́ dàgbà, to yè, lè padà mú ni ní èèyàn ibi Banana tree nursed the cocoa tree to maturity and, later becomes the bad tree A person that was nurtured into greatness, might turn around to tag you as evil",
            "àfòmọ́ ìbẹ̀rẹ̀ |a| àti mọ́fìmù àdádúró |lọ| ni a fi ṣẹ̀dá |àlọ| ṣẹ̀dá gbólóhùn mìíràn pẹ̀lú |a| àti |lọ|",
            "2. Ṣe ògbufọ̀ gbólóhùn ìsàlẹ̀ yìí sí èdè Yoòbá pọ́nbélé : #Ibeere #Yoruba #Ogbufo https://t.co/YmisFaYz6V",
            "òkúta abẹ́lẹ̀ tó ru jáde láti inú àpáta ńlá kan láyéàtijọ́ ni o irin ń bẹ nínú òkúta ọ̀hún",
            "ìrẹ̀sà wà ní ọ̀kẹ́ ẹgbẹ̀rún sí ìlàoòrùn ọ̀gbómọ̀ṣọ́ orísun ìmọ̀ yìí adegbite folaranmi adewuyi onipede kayode joseph igbon iresa ikoyi a prehistoric relationship till present time in historical research letter vol",
            "RT @user: Jọwọ dariji mi, Yoruba mi ko dara. Nwa fun awọn onijo lati jo Crypto Crawl fun aye lati win 200 #XRP. Fi fidio ranṣẹ…",
            "Ìlànà ẹbu náà ò gbẹ́yìn. Bẹ́ẹ̀ náà ni a tún máa ń ṣe àgbo ni àgùnmu, ẹ̀kọ ni a fi ń tì í sọ́hùn-ún. #AlayeOro #Yoruba #Egunje #Herb",
            "RT @user: Ọ̀ṣun, Ògùn, Ọbà, Ọya (odò ni wọ́n). Ọ̀pọ̀tọ́, àgbálùmọ́,... Ọọ̀ni, Àkárìgbò, Olú, Aláàfin... #idahunsiIbeere140318 #Yorub…",
            "ibi orí dá ni sì làá gbé ibi a gbé ẹ sẹ̀ lé lóyẹ kótọ̀ báse wáyé páàrí làári ìsẹbọ ni ìsoògùn ìdálú ni ìṣèlú awòràwọ̀ kòkan tìsẹ́ ibi orí ẹni yóò dé kòle sài mọ́ dẹ́bẹ̀ bẹ́ẹ̀ni kòsì ní kojá ibẹ̀ láíláí",
            "RT @user: Fífi àlejò sí ìyára tàbí ibi tí yóò forí lélẹ̀ sùn sí ni à ń pè ní 'SÍSỌ LỌ́JỌ̀'. Fún àpẹẹrẹ, bí mo bá ní \"\"\"\"\"\"\"\"nígbà tí mo lọ…",
            "Apa keji Ìdánwò Yorùbá News Alert: 👇 Bí ó bá dá apá kan ojú ẹni yí mọ, alakoso @user yóò fi káàdì ìpè elegberun méjì náírà sórí ẹ̀rọ ìléwo rẹ. Máa tẹle @user https://t.co/wEmN4Yl0ER",
            "Mó kí gbogbo yín o, ọmọ Oòduà gbogbo. Níbikíbi tí ẹ bá wà. Ẹkú bí ojú ọjọ́ ti rí o.",
            "Ọlọ́run Àìkú o pè mí láláàyè, modúpé o, ìyìn yẹ Ọ́, Ọlọ́run Ọba.",
            "RT @user: @user mo ki gbogbo omo ile kaaro ojiire pe aku osu tuntun, Osu baabaa ko ni ko wa mo eru lo. A oni ri ijamba oooo",
            "Àwọn ọ̀dọ́ péjọ̀ sí #Kenya fún àpérò ọlọ́dọọdún ọ̀dọ́ ilẹ̀ Afrika. Àjọ ò ní tú o! #DGtrends #AU",
            "otito ni e so maa mojuto apa ibeyen e se fun pipe akiyesi mi sii",
            "orun re làá sùn o",
            "ẹ ye pa oníròhìn iṣẹ wọn lọ ń ṣe",
            "Àgbà má rẹ̀ẹ́ ọmọdé jẹ. Ọmọdé má rìí àgbà fín. #AyajoOjoEwe",
            "Ire wa kò ní kọjáa wa",
            "Ọmọ #Nigeria ṣ'álàáfíà ni!"
           ],
           [
            "negative",
            "negative",
            "negative",
            "negative",
            "negative",
            "negative",
            "negative",
            "negative",
            "negative",
            "negative",
            "neutral",
            "neutral",
            "neutral",
            "neutral",
            "neutral",
            "neutral",
            "neutral",
            "neutral",
            "neutral",
            "neutral",
            "positive",
            "positive",
            "positive",
            "positive",
            "positive",
            "positive",
            "positive",
            "positive",
            "positive",
            "positive",
            "negative",
            "negative",
            "negative",
            "negative",
            "negative",
            "negative",
            "negative",
            "negative",
            "negative",
            "negative",
            "neutral",
            "neutral",
            "neutral",
            "neutral",
            "neutral",
            "neutral",
            "neutral",
            "neutral",
            "neutral",
            "neutral",
            "positive",
            "positive",
            "positive",
            "positive",
            "positive",
            "positive",
            "positive",
            "positive",
            "positive",
            "positive",
            "negative",
            "negative",
            "negative",
            "negative",
            "negative",
            "negative",
            "negative",
            "negative",
            "negative",
            "negative",
            "neutral",
            "neutral",
            "neutral",
            "neutral",
            "neutral",
            "neutral",
            "neutral",
            "neutral",
            "neutral",
            "neutral",
            "positive",
            "positive",
            "positive",
            "positive",
            "positive",
            "positive",
            "positive",
            "positive",
            "positive",
            "positive",
            "negative",
            "negative",
            "negative",
            "negative",
            "negative",
            "negative",
            "negative",
            "negative",
            "negative",
            "negative",
            "neutral",
            "neutral",
            "neutral",
            "neutral",
            "neutral",
            "neutral",
            "neutral",
            "neutral",
            "neutral",
            "neutral",
            "positive",
            "positive",
            "positive",
            "positive",
            "positive",
            "positive",
            "positive",
            "positive",
            "positive",
            "positive"
           ]
          ]
         },
         "domain": {
          "x": [
           0,
           1
          ],
          "y": [
           0,
           0.485
          ]
         },
         "header": {
          "align": "center",
          "fill": {
           "color": "lightskyblue"
          },
          "font": {
           "color": "black",
           "size": 12
          },
          "line": {
           "color": "darkslategray"
          },
          "values": [
           "country",
           "tweet",
           "label"
          ]
         },
         "type": "table",
         "visible": false
        },
        {
         "domain": {
          "x": [
           0,
           1
          ],
          "y": [
           0.515,
           1
          ]
         },
         "labels": [
          "negative",
          "neutral",
          "positive"
         ],
         "marker": {
          "colors": [
           "red",
           "yellow",
           "green"
          ]
         },
         "type": "pie",
         "values": [
          1788,
          1965,
          1402
         ],
         "visible": false
        },
        {
         "cells": {
          "align": "left",
          "fill": {
           "color": "lightcyan"
          },
          "line": {
           "color": "darkslategray"
          },
          "values": [
           [
            "Rwanda",
            "Rwanda",
            "Rwanda",
            "Rwanda",
            "Rwanda",
            "Rwanda",
            "Rwanda",
            "Rwanda",
            "Rwanda",
            "Rwanda",
            "Rwanda",
            "Rwanda",
            "Rwanda",
            "Rwanda",
            "Rwanda",
            "Rwanda",
            "Rwanda",
            "Rwanda",
            "Rwanda",
            "Rwanda",
            "Rwanda",
            "Rwanda",
            "Rwanda",
            "Rwanda",
            "Rwanda",
            "Rwanda",
            "Rwanda",
            "Rwanda",
            "Rwanda",
            "Rwanda"
           ],
           [
            "N'imyaka yose umaze waranze kubikora😪 https://t.co/AhlFS5DMx9",
            "Harya kunywa ni Iki ni ukunywa ukagenda ugwirirana. Oya rwose mureke kwiyandarika https://t.co/MNuH0GTBVv",
            "@user @user @user Nawe ntukozwa igikwe se?",
            "@user Ubwo se ntiyaba yarabivuze kera ubu akaba yumva zarahinduye imirishyo?",
            "Iyi nigga, Ubundi ifite uwuhe mudayimoni koko?😰😰#Jay wa cyera kweri yagiye he? #Drugs &amp; #Prison niyo mirongo yasimbuye #Umwami Uganje, #Akanyarirajisho n'izindi🤣🤣 https://t.co/aEvNwxj4oi",
            "@user Hoya ntiyarira keretse ubwo bamutereye ivi!😂",
            "@user Uwo kurara tugenda, bazubake comptoire muri free zone twinywere twisanzuye tubyina.",
            "@user @user @user Baza n'abakobwa aho bashyize Umutima w'abari. Ngo umutweep!! Ndumiwe koko!",
            "@user Icecekere umusa, hari nuwo nagiye gutereta ari mubi nziko ari bunyemere nawe arankatira😂😂😂😂😭😭😭😭",
            "Umutima umenetse, uruhare muri Jenoside: Mwamini Espérance yaturitse ararira (Video) | IGIHE https://t.co/tYai4p9NBk",
            "Ejo nasuye rwa ruganda bita UNITED GIN.@user https://t.co/VfXgTQtUNF",
            "@user @user @user @user @user @user @user @user @user @user Niba ntankanzata let's meet in DM 👌👌🤗🤗🤗",
            "@user @user @user Cappuccino y'icy'atanu mwana 🤣🤣🤣 ahubwo ngewe ndabona ngiye kuzajya ntungwa na cappuccino gusa",
            "Nyuma y’imyaka itatu akinira ikipe ya @user , umunya Liberia 🇱🇷, Herron Berian Scarla wakinaga mu kibuga hagati yatandukanye n’iyi kipe! https://t.co/EBpQu131bK",
            "@user @user Kandi Ari wowe wabinyigishije 🤣",
            "Ikaze mu makuru magufi ya Isango Star. Uyabagezaho ni Agahozo Peace REBA HANO LIVE: https://t.co/a2NYYwWrgF",
            "Kuki @user na @user bikwiye guhangana? Umusesenguzi w'ubukungu @user asanga Rayons Sports yagakwiye kuba ihangana na Kiyovu Sports... Umva uko abibona. #UrubugarwImikino https://t.co/DC9lPvcU3S",
            "@user @user Ubwo x mumusubije iki mubyukuri? nonese kwica amabwiriza ya covid bihuriyehe namande ya trafic ?",
            "@user @user Abahanga se RAB n'ibindi ntibisanzwe bihari kdi mu cyaro??🙄",
            "@user Ko yakubuze ngo umugire inama se!",
            "@user Woe wari unarenze ndaq",
            "#MATCHDAY Rwanda 🇷🇼 vs Mali 🇲🇱 President wa Mali Colonel Assimi Goita yifurije amahirwe masa ikipe y’igihugu mbere yo guhura na @user https://t.co/R6qOQ633CO",
            "WABA USHAKA KUREBA LA CASA DE PAPEL S5 YOSE UBU INGEZEHO NYANDIKIRA NYIGUHE KUBUNTU 0784878516 NOW",
            "@user Erega abantu bose sibumva vuba ariko gakegake bagenda babimenya humura",
            "@user Mhn URI serious se nkurangire umuntu ugukoraho ryake bro",
            "Indirimbo nziza cyane Munyakazi yaduhaye noneho ntababeshye yatumye nemera ko uyu muhanzi ari number Uno☝️ https://t.co/cZZ8QCQCKV",
            "Imana yumve amasengesho yawe, kandi utangire kubona ibyo wasengeye. Umunsi mwiza.",
            "Umuhanzi mwiza cyane Niyo Bosco agiye gushyira hanze indirimbo yitwa Ishyano abakunzi be kumbugankoranyambaga bakomeje kugaragaza ko bayinyotewe. https://t.co/GrwJzqghMb",
            "Ako ngo kwa Tayc Hari hari Inana zirenze?😩",
            "Nubwo imyanzuro ikakaye, ariko nshimishijwe nuko baduhaye Umunsi w'ejo wo kugaruka mu murwa😎🙌🙌🙌🙌, Ubwo nabajya muntara Bari munyungu https://t.co/1pYJf922bQ"
           ],
           [
            "negative",
            "negative",
            "negative",
            "negative",
            "negative",
            "negative",
            "negative",
            "negative",
            "negative",
            "negative",
            "neutral",
            "neutral",
            "neutral",
            "neutral",
            "neutral",
            "neutral",
            "neutral",
            "neutral",
            "neutral",
            "neutral",
            "positive",
            "positive",
            "positive",
            "positive",
            "positive",
            "positive",
            "positive",
            "positive",
            "positive",
            "positive"
           ]
          ]
         },
         "domain": {
          "x": [
           0,
           1
          ],
          "y": [
           0,
           0.485
          ]
         },
         "header": {
          "align": "center",
          "fill": {
           "color": "lightskyblue"
          },
          "font": {
           "color": "black",
           "size": 12
          },
          "line": {
           "color": "darkslategray"
          },
          "values": [
           "country",
           "tweet",
           "label"
          ]
         },
         "type": "table",
         "visible": false
        },
        {
         "domain": {
          "x": [
           0,
           1
          ],
          "y": [
           0.515,
           1
          ]
         },
         "labels": [
          "negative",
          "neutral",
          "positive",
          "negative",
          "neutral",
          "positive",
          "negative",
          "neutral",
          "positive"
         ],
         "marker": {
          "colors": [
           "red",
           "yellow",
           "green",
           "red",
           "yellow",
           "green",
           "red",
           "yellow",
           "green"
          ]
         },
         "type": "pie",
         "values": [
          1633,
          4379,
          1480,
          319,
          1784,
          908,
          446,
          214,
          601
         ],
         "visible": false
        },
        {
         "cells": {
          "align": "left",
          "fill": {
           "color": "lightcyan"
          },
          "line": {
           "color": "darkslategray"
          },
          "values": [
           [
            "Mozambique",
            "Mozambique",
            "Mozambique",
            "Mozambique",
            "Mozambique",
            "Mozambique",
            "Mozambique",
            "Mozambique",
            "Mozambique",
            "Mozambique",
            "Mozambique",
            "Mozambique",
            "Mozambique",
            "Mozambique",
            "Mozambique",
            "Mozambique",
            "Mozambique",
            "Mozambique",
            "Mozambique",
            "Mozambique",
            "Mozambique",
            "Mozambique",
            "Mozambique",
            "Mozambique",
            "Mozambique",
            "Mozambique",
            "Mozambique",
            "Mozambique",
            "Mozambique",
            "Mozambique",
            "Mozambique",
            "Mozambique",
            "Mozambique",
            "Mozambique",
            "Mozambique",
            "Mozambique",
            "Mozambique",
            "Mozambique",
            "Mozambique",
            "Mozambique",
            "Mozambique",
            "Mozambique",
            "Mozambique",
            "Mozambique",
            "Mozambique",
            "Mozambique",
            "Mozambique",
            "Mozambique",
            "Mozambique",
            "Mozambique",
            "Mozambique",
            "Mozambique",
            "Mozambique",
            "Mozambique",
            "Mozambique",
            "Mozambique",
            "Mozambique",
            "Mozambique",
            "Mozambique",
            "Mozambique",
            "Mozambique",
            "Mozambique",
            "Mozambique",
            "Mozambique",
            "Mozambique",
            "Mozambique",
            "Mozambique",
            "Mozambique",
            "Mozambique",
            "Mozambique",
            "Mozambique",
            "Mozambique",
            "Mozambique",
            "Mozambique",
            "Mozambique",
            "Mozambique",
            "Mozambique",
            "Mozambique",
            "Mozambique",
            "Mozambique",
            "Mozambique",
            "Mozambique",
            "Mozambique",
            "Mozambique",
            "Mozambique",
            "Mozambique",
            "Mozambique",
            "Mozambique",
            "Mozambique",
            "Mozambique"
           ],
           [
            "Esse ano quem contrair dívida comigo e ultrapassar o prazo de devolução, vai espalhar que eu não sou pessoa.",
            "@user @user Não faço essas coisas você me deu drogas para roubar 😂",
            "Depois ném mostram a cara, pra pelo menos ver quem é... 😭💔😂 https://t.co/xtNVvX8eu0",
            "Aquele discurso de \"\"\"\"ela é mãe e pai\"\"\"\" sendo que o pai ainda está vivo é mng ofensivo pá.",
            "Pedem coisas aos namorados que nem os próprios pais conseguem prover em toda vida deles. Coisificação do amor. E as especialistas em fazer isso são as \"\"\"\"casamenteiras\"\"\"\", que não possuem nem carácter para saber lidar com os pais, mas pedem a Deus um esposo para cuidar.",
            "Eu não consigo guardar 😭🙌🏾 https://t.co/tN1ozU1cxv",
            "@user @user Tem pessoas que não percebem que certos comentários deixam pessoas desconfortáveis e fora da sua zona de conforte sabe.",
            "Preciso parar de ser pontual, sempre chego antes de todos 😒.",
            "@user Esse vídeo é extremamente triste, mais triste ainda é a pessoa que filmou esse tempo todo e não se juntou a ele😭",
            "Já tenho uma vida de merda mesmo🤷🏽‍♂️ https://t.co/Nmmuwx8MkG",
            "INCM já percebi que não posso usar cartão de dono ihh! 😒",
            "@user Não sou o único 🤣🤣🤣! Dormi acordei e vi que ainda não havia terminado",
            "Entrou hoje no grupo e já quer remover old school 😹",
            "@user @user @user Antes de ler o nome do autor, pensei que o conteúdo tivesse sido publicado por uma mulher😩🤦.",
            "@user @user Vcs é que não querem, então não zanguem quando reclamarmos😂😂😂",
            "@user Afinal é esse teu segredo 😂😂😂 https://t.co/sS3fwEyqQY",
            "@user @user Nós que nem conhecemos vamos morrer na curiosidade. 😭🤣",
            "@user Apanhaste á mãe aqui,eu falo ihh🤧🤣🤣🤣🤣🤣🤣🤣 yoweee 😭😭",
            "Tarde Boa! Faz alguns anos que Deus me enviou a terra para iluminar a todos com a minha presença😇,e neste dia mais que especial de evidência a minha chegada ao mundo, palavras não bastam para me homenagear, eu sou uma obra preciosa que Deus criou e revestiu com muitas e https://t.co/NHSdzBnSgj",
            "Ok ok o nigga está a vir com força 👀 avançar ou ainda é pouco? https://t.co/fkWJP2uzsF",
            "Eu; FL; Logic; Reason... passamos bem o natal 🎄",
            "Procurei um amigo que pudesse então me compreender. Foi quando encontrei você. Para sempre vou agradecer a Deus, o melhor Ele me deu. Você é mais do que eu podia imaginar. # Bom #Dia https://t.co/n4SZptUKwd",
            "Disse ao meu irmão para engomar para mim e lhe pagaria 20mt Eu gerei emprego😌😌",
            "Boa Semana Á Todos 💪🏿 https://t.co/DBQF7Y2Q1f",
            "Assim esse mês, os homens prestam e são bonitos ne? 😁😁",
            "Feliz aniversário @user sua linda amiga de Jú 💋",
            "@user Não agradeceu bem😂😂mas okey... Tas top ❤️alta pic...",
            "Façam vínculos com pessoas simples, que tratam todo mundo com generosidade. Gente que não se importa com status. Gente que é feliz em sítios simples na esquina, gente leve, alegre na vida, cerque-se de pessoas que reparam no céu, e vibram por você sem querer nada em troca ✌🏾✌🏾",
            "Bom, agora posso desativar o alarme das 5hr😤 Modo férias ON 👌😍",
            "Alguem dê um troféu 🏆 a esse camarada 😂😂😂👌🏽👌🏽👌🏽👌🏽 https://t.co/SARi1jEV4s",
            "Nchi ya drama na matukio Ila hii kama ikidhihirika ni kweli basi ni kashfa kubwa sana kitaifa Mark my words Maswali ha",
            "DONALD TRUMP AJUTA KUTOIFUNGIA FACEBOOK NA TWITTER WAKATI WA UTAWALA WAKE Aliyekuwa Rais wa Marekani ameipongeza",
            "Nimetokea kwenye familia maskini sana na kibaya zaidi ilidharaulika sana tena kwa pande zote mbili yaani upande wa baba",
            "Mtu mmoja anayeshukiwa kuwa na virusi vya amewekwa chini ya uangalizi katika Hospitali ya Taifa ya Kenyatta baada",
            "Takriban watu 14 wamejeruhiwa baada ya mabehewa mawili ya treni ya abiria inayofanya safari kati ya stesheni na Pugu na stesheni kuu jijini dar es salaam kuacha njia ya reli na kuanguka Soma zaidi gtgt",
            "Kuna brother etu alitajiwa mazaga huko kaskazini mashariki hadi baadhi ya ndugu wa Mke wakainuka kumtetea Mmeona sab",
            "Mimi Sina maadui kwelilabda wao ndo wana uadui na mimiila me similiki adui",
            "JESHI la POLISI wamekuwa wa AJABU sana na WANAKERA  jana kupitia RPC wameniruhusu kufanya MKUTANO wa HADHARA kata",
            "Nyoka aina ya chatu ameingia katika gari la watalii kupitia magurudumu ya mbele ya gari hilo ambapo wageni waliokuwa wakitumia gari hilo wameonyesha kutokuwa na wasiwasi wowote Soma zaidi gtgt",
            "Mbona hivi vidonge vimeadimika hv kwann Maana wagojwa wa Ulcers wanapata tabu",
            "Tarehe 29 hadi 31 October wameandaa safari ya kutembelea LushotoTanga Tutakua huko kwa siku tatu gharama ni Tsh 260000 kwa mtu mmoja Gharama zinahusisha vitu vyote muhimu yan usafiri malazi chakula na utalii Fanya booking uungane nasi Piga namba 0672358189",
            "Kile tulichokuwa tunakisubiri sasa kimewadia kaa tayari leo saa 6 Mchana kwenye channel 103 SinemaZetu tutakuwa na mkuta",
            "Ewe mdau wa Sekta ya Sanaa na Utamaduniwahi kujisajili siku zimebaki chache kuelekea kufungwa kwa dirisha la usajili",
            "Kwa mujibu wa sheria ya nchi wachezaji wa kigeni ni lazima walipe kodi",
            "Habari Emanuel Ahsante kwa kuwasiliana nasi Naomba nikufahamishe kuwa tulikuwa na tatizo la kimtandao kwenye upande wa intanet mafundi wetu wamelifanyia kazi na sasa huduma ipo sawa tunaomba radhi kwa usumbufu uliyojitokeza SC",
            "Kama kawaida banda letu hugawa furaha Tupo Karume Hall banda namba 175",
            "Maneno ya hekima sana haya Kila mtu na safari yake",
            "Usisumbuke kujua salio lako la MB DK au bonus tafadhali piga namba zifuatazo kwa urahisi wa kujua salio mbalimbali ulilobaki nalo",
            "Askofu wa Jimbo Katoliki la Tanga Mhashamu Anthony Banzi akiwasha mishumaa 25 ikiwa ni sherehe yake ya Jubilee ya miaka 25 ya",
            "Mimi ni binti wa miaka 25 nilikuwa nafanya kazi kampuni flani nikakutana na mzee flani ambaye alikuja Kama mteja akawa in",
            "Ndoto zinatufanya tubaki kuwa vijanaa maono yanatufanya tuzidi kusonga mbele",
            "Bash Asante kwa kuwasiliana nasi kupitia ukurasa wetu uwe na siku njema",
            "Habari Tafadhali piga 14700 au 14800 chagua saizi yako siku wikimwezi au Halichachi kupata vifurushi vyetu vilivyoboreshwa zaidi sasa",
            "Tunashukuru kwa kutuletea yaani uwezo wa pesa zetu upo viganjani mwetu Tunaweza kulipa mitandaoni kuw",
            "Ushiriki wa Sekta binafsi katika uwekezaji huo umechangia kwa kiasi kikubwa na ukuaji wake umefikia asilimia 85 hadi mwezi march 2019 kutoka asilimia 65 mwezi march 2018 Bank of TanzaniaBoT  Monthly report March 2019",
            "KAZI YA BANDARI SIO KUHIFADHI MIZIGO ASEMA MCHALAGANYA Mkurugenzi Msaidizi wa Bandari ya Dar es Salaam Ahmed Mchalaganya amesema miongoni mwa majukumu ya bandari kuhifadhi mizigo si sehemu ya majukumu",
            "Habari Ahsante kwa kuwasiliana nasi Ndugu mteja ili kuendelea kutoa huduma bora zaidi tumepitia upya gharama zetu za M pesa na kufanya marekebisho",
            "Uvumilivu Ukizidi Ni Unyonge",
            "Watoto hawa yatima wa kituo cha Huruma Geita wamejitokeza kushiriki nami Kilimanjaro Challenge Against HIVAIDS leo",
            "Habari Mandela tunaomba ufike dukani kwetu kwa msaada zaidi",
            "@user muhaxi mbilo yamina ya vava hi Chiefs...eshh niri Khombomuni-Mozambique @user",
            "Yuh... Vá djula ku ih hlongola ka tiku ledzi... Ih dhlawileh https://t.co/vpH6wgZKdd",
            "U tsama u ui vona a mbongolo yi nga xidjana*? 🤔 Ih leyi Lani 😂😂 https://t.co/R3wBgvTXIc",
            "nitaku panhula hi xikwe xa tiro lá 😂😂 https://t.co/FiACRWQC5t",
            "@user hiii woh ni danissa bae",
            "Va khu ndzaveta u va khuma la https://t.co/tPpLJUXwiQ",
            "@user aha suca vc..famba uh ekhela .",
            "@user Angihambi nawe wathi ngimubi wena",
            "@user Hi ku pfinha, va hi sola",
            "@user mina vhahaxi nipfuke hi 3 nilamula anhipi la kamakhelwana loyi waxinuna angavhua nivusico a kaya na ayabale axirhangiso xa vaxisate🙈🙊 @user @user @user @user @user",
            "U ta famba https://t.co/Ojl3B2IQ01",
            "@user li fana ni nhwungue vow ngo gzula lani mussavene",
            "Lomu ni fambaka namuhla ni khanela xilandi 😂😎",
            "A macena má loukizzzy muzaia 🙂",
            "Teka Famba ou Gina https://t.co/PbDBohbSjE",
            "Ha uh ta ku hini? https://t.co/piWPd3pHfu",
            "Xa huTome hi Roda 🌕",
            "Vata i kuma ximuxueneee, vaku Magumba haleenooo...",
            "Todos escutamos mina ningué fambi yi lá 😂😂",
            "obuti wa hao yena a reng?\"",
            "@user @user A ni guenti 😹",
            "@user Hehehe ya maninge!!",
            "Mr Bow - Ni tafa na wena https://t.co/CKMvkau0OR",
            "Auxene... Moine ku pfuka",
            "dzixilela wena mufoto ho ini hi ku pfuka? https://t.co/EJZenJpY5R",
            "@user mina se lindivarrr mina aita navhela aku teka giyane nitsakisa hi xibelane niri kola a magude @user",
            "@user Hewa ya Oxygen 😎",
            "Ni lava male só💯🥰",
            "@user Ih swa hombe... Na mina ni kwatsi😎",
            "@user @user @user @user @user va tava 💪strong"
           ],
           [
            "negative",
            "negative",
            "negative",
            "negative",
            "negative",
            "negative",
            "negative",
            "negative",
            "negative",
            "negative",
            "neutral",
            "neutral",
            "neutral",
            "neutral",
            "neutral",
            "neutral",
            "neutral",
            "neutral",
            "neutral",
            "neutral",
            "positive",
            "positive",
            "positive",
            "positive",
            "positive",
            "positive",
            "positive",
            "positive",
            "positive",
            "positive",
            "negative",
            "negative",
            "negative",
            "negative",
            "negative",
            "negative",
            "negative",
            "negative",
            "negative",
            "negative",
            "neutral",
            "neutral",
            "neutral",
            "neutral",
            "neutral",
            "neutral",
            "neutral",
            "neutral",
            "neutral",
            "neutral",
            "positive",
            "positive",
            "positive",
            "positive",
            "positive",
            "positive",
            "positive",
            "positive",
            "positive",
            "positive",
            "negative",
            "negative",
            "negative",
            "negative",
            "negative",
            "negative",
            "negative",
            "negative",
            "negative",
            "negative",
            "neutral",
            "neutral",
            "neutral",
            "neutral",
            "neutral",
            "neutral",
            "neutral",
            "neutral",
            "neutral",
            "neutral",
            "positive",
            "positive",
            "positive",
            "positive",
            "positive",
            "positive",
            "positive",
            "positive",
            "positive",
            "positive"
           ]
          ]
         },
         "domain": {
          "x": [
           0,
           1
          ],
          "y": [
           0,
           0.485
          ]
         },
         "header": {
          "align": "center",
          "fill": {
           "color": "lightskyblue"
          },
          "font": {
           "color": "black",
           "size": 12
          },
          "line": {
           "color": "darkslategray"
          },
          "values": [
           "country",
           "tweet",
           "label"
          ]
         },
         "type": "table",
         "visible": false
        },
        {
         "domain": {
          "x": [
           0,
           1
          ],
          "y": [
           0.515,
           1
          ]
         },
         "labels": [
          "negative",
          "neutral",
          "positive"
         ],
         "marker": {
          "colors": [
           "red",
           "yellow",
           "green"
          ]
         },
         "type": "pie",
         "values": [
          319,
          1784,
          908
         ],
         "visible": false
        },
        {
         "cells": {
          "align": "left",
          "fill": {
           "color": "lightcyan"
          },
          "line": {
           "color": "darkslategray"
          },
          "values": [
           [
            "Kenya",
            "Kenya",
            "Kenya",
            "Kenya",
            "Kenya",
            "Kenya",
            "Kenya",
            "Kenya",
            "Kenya",
            "Kenya",
            "Kenya",
            "Kenya",
            "Kenya",
            "Kenya",
            "Kenya",
            "Kenya",
            "Kenya",
            "Kenya",
            "Kenya",
            "Kenya",
            "Kenya",
            "Kenya",
            "Kenya",
            "Kenya",
            "Kenya",
            "Kenya",
            "Kenya",
            "Kenya",
            "Kenya",
            "Kenya"
           ],
           [
            "Nchi ya drama na matukio Ila hii kama ikidhihirika ni kweli basi ni kashfa kubwa sana kitaifa Mark my words Maswali ha",
            "DONALD TRUMP AJUTA KUTOIFUNGIA FACEBOOK NA TWITTER WAKATI WA UTAWALA WAKE Aliyekuwa Rais wa Marekani ameipongeza",
            "Nimetokea kwenye familia maskini sana na kibaya zaidi ilidharaulika sana tena kwa pande zote mbili yaani upande wa baba",
            "Mtu mmoja anayeshukiwa kuwa na virusi vya amewekwa chini ya uangalizi katika Hospitali ya Taifa ya Kenyatta baada",
            "Takriban watu 14 wamejeruhiwa baada ya mabehewa mawili ya treni ya abiria inayofanya safari kati ya stesheni na Pugu na stesheni kuu jijini dar es salaam kuacha njia ya reli na kuanguka Soma zaidi gtgt",
            "Kuna brother etu alitajiwa mazaga huko kaskazini mashariki hadi baadhi ya ndugu wa Mke wakainuka kumtetea Mmeona sab",
            "Mimi Sina maadui kwelilabda wao ndo wana uadui na mimiila me similiki adui",
            "JESHI la POLISI wamekuwa wa AJABU sana na WANAKERA  jana kupitia RPC wameniruhusu kufanya MKUTANO wa HADHARA kata",
            "Nyoka aina ya chatu ameingia katika gari la watalii kupitia magurudumu ya mbele ya gari hilo ambapo wageni waliokuwa wakitumia gari hilo wameonyesha kutokuwa na wasiwasi wowote Soma zaidi gtgt",
            "Mbona hivi vidonge vimeadimika hv kwann Maana wagojwa wa Ulcers wanapata tabu",
            "Tarehe 29 hadi 31 October wameandaa safari ya kutembelea LushotoTanga Tutakua huko kwa siku tatu gharama ni Tsh 260000 kwa mtu mmoja Gharama zinahusisha vitu vyote muhimu yan usafiri malazi chakula na utalii Fanya booking uungane nasi Piga namba 0672358189",
            "Kile tulichokuwa tunakisubiri sasa kimewadia kaa tayari leo saa 6 Mchana kwenye channel 103 SinemaZetu tutakuwa na mkuta",
            "Ewe mdau wa Sekta ya Sanaa na Utamaduniwahi kujisajili siku zimebaki chache kuelekea kufungwa kwa dirisha la usajili",
            "Kwa mujibu wa sheria ya nchi wachezaji wa kigeni ni lazima walipe kodi",
            "Habari Emanuel Ahsante kwa kuwasiliana nasi Naomba nikufahamishe kuwa tulikuwa na tatizo la kimtandao kwenye upande wa intanet mafundi wetu wamelifanyia kazi na sasa huduma ipo sawa tunaomba radhi kwa usumbufu uliyojitokeza SC",
            "Kama kawaida banda letu hugawa furaha Tupo Karume Hall banda namba 175",
            "Maneno ya hekima sana haya Kila mtu na safari yake",
            "Usisumbuke kujua salio lako la MB DK au bonus tafadhali piga namba zifuatazo kwa urahisi wa kujua salio mbalimbali ulilobaki nalo",
            "Askofu wa Jimbo Katoliki la Tanga Mhashamu Anthony Banzi akiwasha mishumaa 25 ikiwa ni sherehe yake ya Jubilee ya miaka 25 ya",
            "Mimi ni binti wa miaka 25 nilikuwa nafanya kazi kampuni flani nikakutana na mzee flani ambaye alikuja Kama mteja akawa in",
            "Ndoto zinatufanya tubaki kuwa vijanaa maono yanatufanya tuzidi kusonga mbele",
            "Bash Asante kwa kuwasiliana nasi kupitia ukurasa wetu uwe na siku njema",
            "Habari Tafadhali piga 14700 au 14800 chagua saizi yako siku wikimwezi au Halichachi kupata vifurushi vyetu vilivyoboreshwa zaidi sasa",
            "Tunashukuru kwa kutuletea yaani uwezo wa pesa zetu upo viganjani mwetu Tunaweza kulipa mitandaoni kuw",
            "Ushiriki wa Sekta binafsi katika uwekezaji huo umechangia kwa kiasi kikubwa na ukuaji wake umefikia asilimia 85 hadi mwezi march 2019 kutoka asilimia 65 mwezi march 2018 Bank of TanzaniaBoT  Monthly report March 2019",
            "KAZI YA BANDARI SIO KUHIFADHI MIZIGO ASEMA MCHALAGANYA Mkurugenzi Msaidizi wa Bandari ya Dar es Salaam Ahmed Mchalaganya amesema miongoni mwa majukumu ya bandari kuhifadhi mizigo si sehemu ya majukumu",
            "Habari Ahsante kwa kuwasiliana nasi Ndugu mteja ili kuendelea kutoa huduma bora zaidi tumepitia upya gharama zetu za M pesa na kufanya marekebisho",
            "Uvumilivu Ukizidi Ni Unyonge",
            "Watoto hawa yatima wa kituo cha Huruma Geita wamejitokeza kushiriki nami Kilimanjaro Challenge Against HIVAIDS leo",
            "Habari Mandela tunaomba ufike dukani kwetu kwa msaada zaidi"
           ],
           [
            "negative",
            "negative",
            "negative",
            "negative",
            "negative",
            "negative",
            "negative",
            "negative",
            "negative",
            "negative",
            "neutral",
            "neutral",
            "neutral",
            "neutral",
            "neutral",
            "neutral",
            "neutral",
            "neutral",
            "neutral",
            "neutral",
            "positive",
            "positive",
            "positive",
            "positive",
            "positive",
            "positive",
            "positive",
            "positive",
            "positive",
            "positive"
           ]
          ]
         },
         "domain": {
          "x": [
           0,
           1
          ],
          "y": [
           0,
           0.485
          ]
         },
         "header": {
          "align": "center",
          "fill": {
           "color": "lightskyblue"
          },
          "font": {
           "color": "black",
           "size": 12
          },
          "line": {
           "color": "darkslategray"
          },
          "values": [
           "country",
           "tweet",
           "label"
          ]
         },
         "type": "table",
         "visible": false
        },
        {
         "domain": {
          "x": [
           0,
           1
          ],
          "y": [
           0.515,
           1
          ]
         },
         "labels": [
          "negative",
          "neutral",
          "positive"
         ],
         "marker": {
          "colors": [
           "red",
           "yellow",
           "green"
          ]
         },
         "type": "pie",
         "values": [
          319,
          1784,
          908
         ],
         "visible": false
        },
        {
         "cells": {
          "align": "left",
          "fill": {
           "color": "lightcyan"
          },
          "line": {
           "color": "darkslategray"
          },
          "values": [
           [
            "Tanzania",
            "Tanzania",
            "Tanzania",
            "Tanzania",
            "Tanzania",
            "Tanzania",
            "Tanzania",
            "Tanzania",
            "Tanzania",
            "Tanzania",
            "Tanzania",
            "Tanzania",
            "Tanzania",
            "Tanzania",
            "Tanzania",
            "Tanzania",
            "Tanzania",
            "Tanzania",
            "Tanzania",
            "Tanzania",
            "Tanzania",
            "Tanzania",
            "Tanzania",
            "Tanzania",
            "Tanzania",
            "Tanzania",
            "Tanzania",
            "Tanzania",
            "Tanzania",
            "Tanzania"
           ],
           [
            "Nchi ya drama na matukio Ila hii kama ikidhihirika ni kweli basi ni kashfa kubwa sana kitaifa Mark my words Maswali ha",
            "DONALD TRUMP AJUTA KUTOIFUNGIA FACEBOOK NA TWITTER WAKATI WA UTAWALA WAKE Aliyekuwa Rais wa Marekani ameipongeza",
            "Nimetokea kwenye familia maskini sana na kibaya zaidi ilidharaulika sana tena kwa pande zote mbili yaani upande wa baba",
            "Mtu mmoja anayeshukiwa kuwa na virusi vya amewekwa chini ya uangalizi katika Hospitali ya Taifa ya Kenyatta baada",
            "Takriban watu 14 wamejeruhiwa baada ya mabehewa mawili ya treni ya abiria inayofanya safari kati ya stesheni na Pugu na stesheni kuu jijini dar es salaam kuacha njia ya reli na kuanguka Soma zaidi gtgt",
            "Kuna brother etu alitajiwa mazaga huko kaskazini mashariki hadi baadhi ya ndugu wa Mke wakainuka kumtetea Mmeona sab",
            "Mimi Sina maadui kwelilabda wao ndo wana uadui na mimiila me similiki adui",
            "JESHI la POLISI wamekuwa wa AJABU sana na WANAKERA  jana kupitia RPC wameniruhusu kufanya MKUTANO wa HADHARA kata",
            "Nyoka aina ya chatu ameingia katika gari la watalii kupitia magurudumu ya mbele ya gari hilo ambapo wageni waliokuwa wakitumia gari hilo wameonyesha kutokuwa na wasiwasi wowote Soma zaidi gtgt",
            "Mbona hivi vidonge vimeadimika hv kwann Maana wagojwa wa Ulcers wanapata tabu",
            "Tarehe 29 hadi 31 October wameandaa safari ya kutembelea LushotoTanga Tutakua huko kwa siku tatu gharama ni Tsh 260000 kwa mtu mmoja Gharama zinahusisha vitu vyote muhimu yan usafiri malazi chakula na utalii Fanya booking uungane nasi Piga namba 0672358189",
            "Kile tulichokuwa tunakisubiri sasa kimewadia kaa tayari leo saa 6 Mchana kwenye channel 103 SinemaZetu tutakuwa na mkuta",
            "Ewe mdau wa Sekta ya Sanaa na Utamaduniwahi kujisajili siku zimebaki chache kuelekea kufungwa kwa dirisha la usajili",
            "Kwa mujibu wa sheria ya nchi wachezaji wa kigeni ni lazima walipe kodi",
            "Habari Emanuel Ahsante kwa kuwasiliana nasi Naomba nikufahamishe kuwa tulikuwa na tatizo la kimtandao kwenye upande wa intanet mafundi wetu wamelifanyia kazi na sasa huduma ipo sawa tunaomba radhi kwa usumbufu uliyojitokeza SC",
            "Kama kawaida banda letu hugawa furaha Tupo Karume Hall banda namba 175",
            "Maneno ya hekima sana haya Kila mtu na safari yake",
            "Usisumbuke kujua salio lako la MB DK au bonus tafadhali piga namba zifuatazo kwa urahisi wa kujua salio mbalimbali ulilobaki nalo",
            "Askofu wa Jimbo Katoliki la Tanga Mhashamu Anthony Banzi akiwasha mishumaa 25 ikiwa ni sherehe yake ya Jubilee ya miaka 25 ya",
            "Mimi ni binti wa miaka 25 nilikuwa nafanya kazi kampuni flani nikakutana na mzee flani ambaye alikuja Kama mteja akawa in",
            "Ndoto zinatufanya tubaki kuwa vijanaa maono yanatufanya tuzidi kusonga mbele",
            "Bash Asante kwa kuwasiliana nasi kupitia ukurasa wetu uwe na siku njema",
            "Habari Tafadhali piga 14700 au 14800 chagua saizi yako siku wikimwezi au Halichachi kupata vifurushi vyetu vilivyoboreshwa zaidi sasa",
            "Tunashukuru kwa kutuletea yaani uwezo wa pesa zetu upo viganjani mwetu Tunaweza kulipa mitandaoni kuw",
            "Ushiriki wa Sekta binafsi katika uwekezaji huo umechangia kwa kiasi kikubwa na ukuaji wake umefikia asilimia 85 hadi mwezi march 2019 kutoka asilimia 65 mwezi march 2018 Bank of TanzaniaBoT  Monthly report March 2019",
            "KAZI YA BANDARI SIO KUHIFADHI MIZIGO ASEMA MCHALAGANYA Mkurugenzi Msaidizi wa Bandari ya Dar es Salaam Ahmed Mchalaganya amesema miongoni mwa majukumu ya bandari kuhifadhi mizigo si sehemu ya majukumu",
            "Habari Ahsante kwa kuwasiliana nasi Ndugu mteja ili kuendelea kutoa huduma bora zaidi tumepitia upya gharama zetu za M pesa na kufanya marekebisho",
            "Uvumilivu Ukizidi Ni Unyonge",
            "Watoto hawa yatima wa kituo cha Huruma Geita wamejitokeza kushiriki nami Kilimanjaro Challenge Against HIVAIDS leo",
            "Habari Mandela tunaomba ufike dukani kwetu kwa msaada zaidi"
           ],
           [
            "negative",
            "negative",
            "negative",
            "negative",
            "negative",
            "negative",
            "negative",
            "negative",
            "negative",
            "negative",
            "neutral",
            "neutral",
            "neutral",
            "neutral",
            "neutral",
            "neutral",
            "neutral",
            "neutral",
            "neutral",
            "neutral",
            "positive",
            "positive",
            "positive",
            "positive",
            "positive",
            "positive",
            "positive",
            "positive",
            "positive",
            "positive"
           ]
          ]
         },
         "domain": {
          "x": [
           0,
           1
          ],
          "y": [
           0,
           0.485
          ]
         },
         "header": {
          "align": "center",
          "fill": {
           "color": "lightskyblue"
          },
          "font": {
           "color": "black",
           "size": 12
          },
          "line": {
           "color": "darkslategray"
          },
          "values": [
           "country",
           "tweet",
           "label"
          ]
         },
         "type": "table",
         "visible": false
        },
        {
         "domain": {
          "x": [
           0,
           1
          ],
          "y": [
           0.515,
           1
          ]
         },
         "labels": [
          "negative",
          "neutral",
          "positive"
         ],
         "marker": {
          "colors": [
           "red",
           "yellow",
           "green"
          ]
         },
         "type": "pie",
         "values": [
          446,
          214,
          601
         ],
         "visible": false
        },
        {
         "cells": {
          "align": "left",
          "fill": {
           "color": "lightcyan"
          },
          "line": {
           "color": "darkslategray"
          },
          "values": [
           [
            "Eswatini",
            "Eswatini",
            "Eswatini",
            "Eswatini",
            "Eswatini",
            "Eswatini",
            "Eswatini",
            "Eswatini",
            "Eswatini",
            "Eswatini",
            "Eswatini",
            "Eswatini",
            "Eswatini",
            "Eswatini",
            "Eswatini",
            "Eswatini",
            "Eswatini",
            "Eswatini",
            "Eswatini",
            "Eswatini",
            "Eswatini",
            "Eswatini",
            "Eswatini",
            "Eswatini",
            "Eswatini",
            "Eswatini",
            "Eswatini",
            "Eswatini",
            "Eswatini",
            "Eswatini"
           ],
           [
            "@user muhaxi mbilo yamina ya vava hi Chiefs...eshh niri Khombomuni-Mozambique @user",
            "Yuh... Vá djula ku ih hlongola ka tiku ledzi... Ih dhlawileh https://t.co/vpH6wgZKdd",
            "U tsama u ui vona a mbongolo yi nga xidjana*? 🤔 Ih leyi Lani 😂😂 https://t.co/R3wBgvTXIc",
            "nitaku panhula hi xikwe xa tiro lá 😂😂 https://t.co/FiACRWQC5t",
            "@user hiii woh ni danissa bae",
            "Va khu ndzaveta u va khuma la https://t.co/tPpLJUXwiQ",
            "@user aha suca vc..famba uh ekhela .",
            "@user Angihambi nawe wathi ngimubi wena",
            "@user Hi ku pfinha, va hi sola",
            "@user mina vhahaxi nipfuke hi 3 nilamula anhipi la kamakhelwana loyi waxinuna angavhua nivusico a kaya na ayabale axirhangiso xa vaxisate🙈🙊 @user @user @user @user @user",
            "U ta famba https://t.co/Ojl3B2IQ01",
            "@user li fana ni nhwungue vow ngo gzula lani mussavene",
            "Lomu ni fambaka namuhla ni khanela xilandi 😂😎",
            "A macena má loukizzzy muzaia 🙂",
            "Teka Famba ou Gina https://t.co/PbDBohbSjE",
            "Ha uh ta ku hini? https://t.co/piWPd3pHfu",
            "Xa huTome hi Roda 🌕",
            "Vata i kuma ximuxueneee, vaku Magumba haleenooo...",
            "Todos escutamos mina ningué fambi yi lá 😂😂",
            "obuti wa hao yena a reng?\"",
            "@user @user A ni guenti 😹",
            "@user Hehehe ya maninge!!",
            "Mr Bow - Ni tafa na wena https://t.co/CKMvkau0OR",
            "Auxene... Moine ku pfuka",
            "dzixilela wena mufoto ho ini hi ku pfuka? https://t.co/EJZenJpY5R",
            "@user mina se lindivarrr mina aita navhela aku teka giyane nitsakisa hi xibelane niri kola a magude @user",
            "@user Hewa ya Oxygen 😎",
            "Ni lava male só💯🥰",
            "@user Ih swa hombe... Na mina ni kwatsi😎",
            "@user @user @user @user @user va tava 💪strong"
           ],
           [
            "negative",
            "negative",
            "negative",
            "negative",
            "negative",
            "negative",
            "negative",
            "negative",
            "negative",
            "negative",
            "neutral",
            "neutral",
            "neutral",
            "neutral",
            "neutral",
            "neutral",
            "neutral",
            "neutral",
            "neutral",
            "neutral",
            "positive",
            "positive",
            "positive",
            "positive",
            "positive",
            "positive",
            "positive",
            "positive",
            "positive",
            "positive"
           ]
          ]
         },
         "domain": {
          "x": [
           0,
           1
          ],
          "y": [
           0,
           0.485
          ]
         },
         "header": {
          "align": "center",
          "fill": {
           "color": "lightskyblue"
          },
          "font": {
           "color": "black",
           "size": 12
          },
          "line": {
           "color": "darkslategray"
          },
          "values": [
           "country",
           "tweet",
           "label"
          ]
         },
         "type": "table",
         "visible": false
        },
        {
         "domain": {
          "x": [
           0,
           1
          ],
          "y": [
           0.515,
           1
          ]
         },
         "labels": [
          "negative",
          "neutral",
          "positive"
         ],
         "marker": {
          "colors": [
           "red",
           "yellow",
           "green"
          ]
         },
         "type": "pie",
         "values": [
          446,
          214,
          601
         ],
         "visible": false
        },
        {
         "cells": {
          "align": "left",
          "fill": {
           "color": "lightcyan"
          },
          "line": {
           "color": "darkslategray"
          },
          "values": [
           [
            "South Africa",
            "South Africa",
            "South Africa",
            "South Africa",
            "South Africa",
            "South Africa",
            "South Africa",
            "South Africa",
            "South Africa",
            "South Africa",
            "South Africa",
            "South Africa",
            "South Africa",
            "South Africa",
            "South Africa",
            "South Africa",
            "South Africa",
            "South Africa",
            "South Africa",
            "South Africa",
            "South Africa",
            "South Africa",
            "South Africa",
            "South Africa",
            "South Africa",
            "South Africa",
            "South Africa",
            "South Africa",
            "South Africa",
            "South Africa"
           ],
           [
            "@user muhaxi mbilo yamina ya vava hi Chiefs...eshh niri Khombomuni-Mozambique @user",
            "Yuh... Vá djula ku ih hlongola ka tiku ledzi... Ih dhlawileh https://t.co/vpH6wgZKdd",
            "U tsama u ui vona a mbongolo yi nga xidjana*? 🤔 Ih leyi Lani 😂😂 https://t.co/R3wBgvTXIc",
            "nitaku panhula hi xikwe xa tiro lá 😂😂 https://t.co/FiACRWQC5t",
            "@user hiii woh ni danissa bae",
            "Va khu ndzaveta u va khuma la https://t.co/tPpLJUXwiQ",
            "@user aha suca vc..famba uh ekhela .",
            "@user Angihambi nawe wathi ngimubi wena",
            "@user Hi ku pfinha, va hi sola",
            "@user mina vhahaxi nipfuke hi 3 nilamula anhipi la kamakhelwana loyi waxinuna angavhua nivusico a kaya na ayabale axirhangiso xa vaxisate🙈🙊 @user @user @user @user @user",
            "U ta famba https://t.co/Ojl3B2IQ01",
            "@user li fana ni nhwungue vow ngo gzula lani mussavene",
            "Lomu ni fambaka namuhla ni khanela xilandi 😂😎",
            "A macena má loukizzzy muzaia 🙂",
            "Teka Famba ou Gina https://t.co/PbDBohbSjE",
            "Ha uh ta ku hini? https://t.co/piWPd3pHfu",
            "Xa huTome hi Roda 🌕",
            "Vata i kuma ximuxueneee, vaku Magumba haleenooo...",
            "Todos escutamos mina ningué fambi yi lá 😂😂",
            "obuti wa hao yena a reng?\"",
            "@user @user A ni guenti 😹",
            "@user Hehehe ya maninge!!",
            "Mr Bow - Ni tafa na wena https://t.co/CKMvkau0OR",
            "Auxene... Moine ku pfuka",
            "dzixilela wena mufoto ho ini hi ku pfuka? https://t.co/EJZenJpY5R",
            "@user mina se lindivarrr mina aita navhela aku teka giyane nitsakisa hi xibelane niri kola a magude @user",
            "@user Hewa ya Oxygen 😎",
            "Ni lava male só💯🥰",
            "@user Ih swa hombe... Na mina ni kwatsi😎",
            "@user @user @user @user @user va tava 💪strong"
           ],
           [
            "negative",
            "negative",
            "negative",
            "negative",
            "negative",
            "negative",
            "negative",
            "negative",
            "negative",
            "negative",
            "neutral",
            "neutral",
            "neutral",
            "neutral",
            "neutral",
            "neutral",
            "neutral",
            "neutral",
            "neutral",
            "neutral",
            "positive",
            "positive",
            "positive",
            "positive",
            "positive",
            "positive",
            "positive",
            "positive",
            "positive",
            "positive"
           ]
          ]
         },
         "domain": {
          "x": [
           0,
           1
          ],
          "y": [
           0,
           0.485
          ]
         },
         "header": {
          "align": "center",
          "fill": {
           "color": "lightskyblue"
          },
          "font": {
           "color": "black",
           "size": 12
          },
          "line": {
           "color": "darkslategray"
          },
          "values": [
           "country",
           "tweet",
           "label"
          ]
         },
         "type": "table",
         "visible": false
        },
        {
         "domain": {
          "x": [
           0,
           1
          ],
          "y": [
           0.515,
           1
          ]
         },
         "labels": [
          "negative",
          "neutral",
          "positive"
         ],
         "marker": {
          "colors": [
           "red",
           "yellow",
           "green"
          ]
         },
         "type": "pie",
         "values": [
          446,
          214,
          601
         ],
         "visible": false
        },
        {
         "cells": {
          "align": "left",
          "fill": {
           "color": "lightcyan"
          },
          "line": {
           "color": "darkslategray"
          },
          "values": [
           [
            "Zimbabwe",
            "Zimbabwe",
            "Zimbabwe",
            "Zimbabwe",
            "Zimbabwe",
            "Zimbabwe",
            "Zimbabwe",
            "Zimbabwe",
            "Zimbabwe",
            "Zimbabwe",
            "Zimbabwe",
            "Zimbabwe",
            "Zimbabwe",
            "Zimbabwe",
            "Zimbabwe",
            "Zimbabwe",
            "Zimbabwe",
            "Zimbabwe",
            "Zimbabwe",
            "Zimbabwe",
            "Zimbabwe",
            "Zimbabwe",
            "Zimbabwe",
            "Zimbabwe",
            "Zimbabwe",
            "Zimbabwe",
            "Zimbabwe",
            "Zimbabwe",
            "Zimbabwe",
            "Zimbabwe"
           ],
           [
            "@user muhaxi mbilo yamina ya vava hi Chiefs...eshh niri Khombomuni-Mozambique @user",
            "Yuh... Vá djula ku ih hlongola ka tiku ledzi... Ih dhlawileh https://t.co/vpH6wgZKdd",
            "U tsama u ui vona a mbongolo yi nga xidjana*? 🤔 Ih leyi Lani 😂😂 https://t.co/R3wBgvTXIc",
            "nitaku panhula hi xikwe xa tiro lá 😂😂 https://t.co/FiACRWQC5t",
            "@user hiii woh ni danissa bae",
            "Va khu ndzaveta u va khuma la https://t.co/tPpLJUXwiQ",
            "@user aha suca vc..famba uh ekhela .",
            "@user Angihambi nawe wathi ngimubi wena",
            "@user Hi ku pfinha, va hi sola",
            "@user mina vhahaxi nipfuke hi 3 nilamula anhipi la kamakhelwana loyi waxinuna angavhua nivusico a kaya na ayabale axirhangiso xa vaxisate🙈🙊 @user @user @user @user @user",
            "U ta famba https://t.co/Ojl3B2IQ01",
            "@user li fana ni nhwungue vow ngo gzula lani mussavene",
            "Lomu ni fambaka namuhla ni khanela xilandi 😂😎",
            "A macena má loukizzzy muzaia 🙂",
            "Teka Famba ou Gina https://t.co/PbDBohbSjE",
            "Ha uh ta ku hini? https://t.co/piWPd3pHfu",
            "Xa huTome hi Roda 🌕",
            "Vata i kuma ximuxueneee, vaku Magumba haleenooo...",
            "Todos escutamos mina ningué fambi yi lá 😂😂",
            "obuti wa hao yena a reng?\"",
            "@user @user A ni guenti 😹",
            "@user Hehehe ya maninge!!",
            "Mr Bow - Ni tafa na wena https://t.co/CKMvkau0OR",
            "Auxene... Moine ku pfuka",
            "dzixilela wena mufoto ho ini hi ku pfuka? https://t.co/EJZenJpY5R",
            "@user mina se lindivarrr mina aita navhela aku teka giyane nitsakisa hi xibelane niri kola a magude @user",
            "@user Hewa ya Oxygen 😎",
            "Ni lava male só💯🥰",
            "@user Ih swa hombe... Na mina ni kwatsi😎",
            "@user @user @user @user @user va tava 💪strong"
           ],
           [
            "negative",
            "negative",
            "negative",
            "negative",
            "negative",
            "negative",
            "negative",
            "negative",
            "negative",
            "negative",
            "neutral",
            "neutral",
            "neutral",
            "neutral",
            "neutral",
            "neutral",
            "neutral",
            "neutral",
            "neutral",
            "neutral",
            "positive",
            "positive",
            "positive",
            "positive",
            "positive",
            "positive",
            "positive",
            "positive",
            "positive",
            "positive"
           ]
          ]
         },
         "domain": {
          "x": [
           0,
           1
          ],
          "y": [
           0,
           0.485
          ]
         },
         "header": {
          "align": "center",
          "fill": {
           "color": "lightskyblue"
          },
          "font": {
           "color": "black",
           "size": 12
          },
          "line": {
           "color": "darkslategray"
          },
          "values": [
           "country",
           "tweet",
           "label"
          ]
         },
         "type": "table",
         "visible": false
        }
       ],
       "layout": {
        "template": {
         "data": {
          "bar": [
           {
            "error_x": {
             "color": "#2a3f5f"
            },
            "error_y": {
             "color": "#2a3f5f"
            },
            "marker": {
             "line": {
              "color": "#E5ECF6",
              "width": 0.5
             },
             "pattern": {
              "fillmode": "overlay",
              "size": 10,
              "solidity": 0.2
             }
            },
            "type": "bar"
           }
          ],
          "barpolar": [
           {
            "marker": {
             "line": {
              "color": "#E5ECF6",
              "width": 0.5
             },
             "pattern": {
              "fillmode": "overlay",
              "size": 10,
              "solidity": 0.2
             }
            },
            "type": "barpolar"
           }
          ],
          "carpet": [
           {
            "aaxis": {
             "endlinecolor": "#2a3f5f",
             "gridcolor": "white",
             "linecolor": "white",
             "minorgridcolor": "white",
             "startlinecolor": "#2a3f5f"
            },
            "baxis": {
             "endlinecolor": "#2a3f5f",
             "gridcolor": "white",
             "linecolor": "white",
             "minorgridcolor": "white",
             "startlinecolor": "#2a3f5f"
            },
            "type": "carpet"
           }
          ],
          "choropleth": [
           {
            "colorbar": {
             "outlinewidth": 0,
             "ticks": ""
            },
            "type": "choropleth"
           }
          ],
          "contour": [
           {
            "colorbar": {
             "outlinewidth": 0,
             "ticks": ""
            },
            "colorscale": [
             [
              0,
              "#0d0887"
             ],
             [
              0.1111111111111111,
              "#46039f"
             ],
             [
              0.2222222222222222,
              "#7201a8"
             ],
             [
              0.3333333333333333,
              "#9c179e"
             ],
             [
              0.4444444444444444,
              "#bd3786"
             ],
             [
              0.5555555555555556,
              "#d8576b"
             ],
             [
              0.6666666666666666,
              "#ed7953"
             ],
             [
              0.7777777777777778,
              "#fb9f3a"
             ],
             [
              0.8888888888888888,
              "#fdca26"
             ],
             [
              1,
              "#f0f921"
             ]
            ],
            "type": "contour"
           }
          ],
          "contourcarpet": [
           {
            "colorbar": {
             "outlinewidth": 0,
             "ticks": ""
            },
            "type": "contourcarpet"
           }
          ],
          "heatmap": [
           {
            "colorbar": {
             "outlinewidth": 0,
             "ticks": ""
            },
            "colorscale": [
             [
              0,
              "#0d0887"
             ],
             [
              0.1111111111111111,
              "#46039f"
             ],
             [
              0.2222222222222222,
              "#7201a8"
             ],
             [
              0.3333333333333333,
              "#9c179e"
             ],
             [
              0.4444444444444444,
              "#bd3786"
             ],
             [
              0.5555555555555556,
              "#d8576b"
             ],
             [
              0.6666666666666666,
              "#ed7953"
             ],
             [
              0.7777777777777778,
              "#fb9f3a"
             ],
             [
              0.8888888888888888,
              "#fdca26"
             ],
             [
              1,
              "#f0f921"
             ]
            ],
            "type": "heatmap"
           }
          ],
          "heatmapgl": [
           {
            "colorbar": {
             "outlinewidth": 0,
             "ticks": ""
            },
            "colorscale": [
             [
              0,
              "#0d0887"
             ],
             [
              0.1111111111111111,
              "#46039f"
             ],
             [
              0.2222222222222222,
              "#7201a8"
             ],
             [
              0.3333333333333333,
              "#9c179e"
             ],
             [
              0.4444444444444444,
              "#bd3786"
             ],
             [
              0.5555555555555556,
              "#d8576b"
             ],
             [
              0.6666666666666666,
              "#ed7953"
             ],
             [
              0.7777777777777778,
              "#fb9f3a"
             ],
             [
              0.8888888888888888,
              "#fdca26"
             ],
             [
              1,
              "#f0f921"
             ]
            ],
            "type": "heatmapgl"
           }
          ],
          "histogram": [
           {
            "marker": {
             "pattern": {
              "fillmode": "overlay",
              "size": 10,
              "solidity": 0.2
             }
            },
            "type": "histogram"
           }
          ],
          "histogram2d": [
           {
            "colorbar": {
             "outlinewidth": 0,
             "ticks": ""
            },
            "colorscale": [
             [
              0,
              "#0d0887"
             ],
             [
              0.1111111111111111,
              "#46039f"
             ],
             [
              0.2222222222222222,
              "#7201a8"
             ],
             [
              0.3333333333333333,
              "#9c179e"
             ],
             [
              0.4444444444444444,
              "#bd3786"
             ],
             [
              0.5555555555555556,
              "#d8576b"
             ],
             [
              0.6666666666666666,
              "#ed7953"
             ],
             [
              0.7777777777777778,
              "#fb9f3a"
             ],
             [
              0.8888888888888888,
              "#fdca26"
             ],
             [
              1,
              "#f0f921"
             ]
            ],
            "type": "histogram2d"
           }
          ],
          "histogram2dcontour": [
           {
            "colorbar": {
             "outlinewidth": 0,
             "ticks": ""
            },
            "colorscale": [
             [
              0,
              "#0d0887"
             ],
             [
              0.1111111111111111,
              "#46039f"
             ],
             [
              0.2222222222222222,
              "#7201a8"
             ],
             [
              0.3333333333333333,
              "#9c179e"
             ],
             [
              0.4444444444444444,
              "#bd3786"
             ],
             [
              0.5555555555555556,
              "#d8576b"
             ],
             [
              0.6666666666666666,
              "#ed7953"
             ],
             [
              0.7777777777777778,
              "#fb9f3a"
             ],
             [
              0.8888888888888888,
              "#fdca26"
             ],
             [
              1,
              "#f0f921"
             ]
            ],
            "type": "histogram2dcontour"
           }
          ],
          "mesh3d": [
           {
            "colorbar": {
             "outlinewidth": 0,
             "ticks": ""
            },
            "type": "mesh3d"
           }
          ],
          "parcoords": [
           {
            "line": {
             "colorbar": {
              "outlinewidth": 0,
              "ticks": ""
             }
            },
            "type": "parcoords"
           }
          ],
          "pie": [
           {
            "automargin": true,
            "type": "pie"
           }
          ],
          "scatter": [
           {
            "fillpattern": {
             "fillmode": "overlay",
             "size": 10,
             "solidity": 0.2
            },
            "type": "scatter"
           }
          ],
          "scatter3d": [
           {
            "line": {
             "colorbar": {
              "outlinewidth": 0,
              "ticks": ""
             }
            },
            "marker": {
             "colorbar": {
              "outlinewidth": 0,
              "ticks": ""
             }
            },
            "type": "scatter3d"
           }
          ],
          "scattercarpet": [
           {
            "marker": {
             "colorbar": {
              "outlinewidth": 0,
              "ticks": ""
             }
            },
            "type": "scattercarpet"
           }
          ],
          "scattergeo": [
           {
            "marker": {
             "colorbar": {
              "outlinewidth": 0,
              "ticks": ""
             }
            },
            "type": "scattergeo"
           }
          ],
          "scattergl": [
           {
            "marker": {
             "colorbar": {
              "outlinewidth": 0,
              "ticks": ""
             }
            },
            "type": "scattergl"
           }
          ],
          "scattermapbox": [
           {
            "marker": {
             "colorbar": {
              "outlinewidth": 0,
              "ticks": ""
             }
            },
            "type": "scattermapbox"
           }
          ],
          "scatterpolar": [
           {
            "marker": {
             "colorbar": {
              "outlinewidth": 0,
              "ticks": ""
             }
            },
            "type": "scatterpolar"
           }
          ],
          "scatterpolargl": [
           {
            "marker": {
             "colorbar": {
              "outlinewidth": 0,
              "ticks": ""
             }
            },
            "type": "scatterpolargl"
           }
          ],
          "scatterternary": [
           {
            "marker": {
             "colorbar": {
              "outlinewidth": 0,
              "ticks": ""
             }
            },
            "type": "scatterternary"
           }
          ],
          "surface": [
           {
            "colorbar": {
             "outlinewidth": 0,
             "ticks": ""
            },
            "colorscale": [
             [
              0,
              "#0d0887"
             ],
             [
              0.1111111111111111,
              "#46039f"
             ],
             [
              0.2222222222222222,
              "#7201a8"
             ],
             [
              0.3333333333333333,
              "#9c179e"
             ],
             [
              0.4444444444444444,
              "#bd3786"
             ],
             [
              0.5555555555555556,
              "#d8576b"
             ],
             [
              0.6666666666666666,
              "#ed7953"
             ],
             [
              0.7777777777777778,
              "#fb9f3a"
             ],
             [
              0.8888888888888888,
              "#fdca26"
             ],
             [
              1,
              "#f0f921"
             ]
            ],
            "type": "surface"
           }
          ],
          "table": [
           {
            "cells": {
             "fill": {
              "color": "#EBF0F8"
             },
             "line": {
              "color": "white"
             }
            },
            "header": {
             "fill": {
              "color": "#C8D4E3"
             },
             "line": {
              "color": "white"
             }
            },
            "type": "table"
           }
          ]
         },
         "layout": {
          "annotationdefaults": {
           "arrowcolor": "#2a3f5f",
           "arrowhead": 0,
           "arrowwidth": 1
          },
          "autotypenumbers": "strict",
          "coloraxis": {
           "colorbar": {
            "outlinewidth": 0,
            "ticks": ""
           }
          },
          "colorscale": {
           "diverging": [
            [
             0,
             "#8e0152"
            ],
            [
             0.1,
             "#c51b7d"
            ],
            [
             0.2,
             "#de77ae"
            ],
            [
             0.3,
             "#f1b6da"
            ],
            [
             0.4,
             "#fde0ef"
            ],
            [
             0.5,
             "#f7f7f7"
            ],
            [
             0.6,
             "#e6f5d0"
            ],
            [
             0.7,
             "#b8e186"
            ],
            [
             0.8,
             "#7fbc41"
            ],
            [
             0.9,
             "#4d9221"
            ],
            [
             1,
             "#276419"
            ]
           ],
           "sequential": [
            [
             0,
             "#0d0887"
            ],
            [
             0.1111111111111111,
             "#46039f"
            ],
            [
             0.2222222222222222,
             "#7201a8"
            ],
            [
             0.3333333333333333,
             "#9c179e"
            ],
            [
             0.4444444444444444,
             "#bd3786"
            ],
            [
             0.5555555555555556,
             "#d8576b"
            ],
            [
             0.6666666666666666,
             "#ed7953"
            ],
            [
             0.7777777777777778,
             "#fb9f3a"
            ],
            [
             0.8888888888888888,
             "#fdca26"
            ],
            [
             1,
             "#f0f921"
            ]
           ],
           "sequentialminus": [
            [
             0,
             "#0d0887"
            ],
            [
             0.1111111111111111,
             "#46039f"
            ],
            [
             0.2222222222222222,
             "#7201a8"
            ],
            [
             0.3333333333333333,
             "#9c179e"
            ],
            [
             0.4444444444444444,
             "#bd3786"
            ],
            [
             0.5555555555555556,
             "#d8576b"
            ],
            [
             0.6666666666666666,
             "#ed7953"
            ],
            [
             0.7777777777777778,
             "#fb9f3a"
            ],
            [
             0.8888888888888888,
             "#fdca26"
            ],
            [
             1,
             "#f0f921"
            ]
           ]
          },
          "colorway": [
           "#636efa",
           "#EF553B",
           "#00cc96",
           "#ab63fa",
           "#FFA15A",
           "#19d3f3",
           "#FF6692",
           "#B6E880",
           "#FF97FF",
           "#FECB52"
          ],
          "font": {
           "color": "#2a3f5f"
          },
          "geo": {
           "bgcolor": "white",
           "lakecolor": "white",
           "landcolor": "#E5ECF6",
           "showlakes": true,
           "showland": true,
           "subunitcolor": "white"
          },
          "hoverlabel": {
           "align": "left"
          },
          "hovermode": "closest",
          "mapbox": {
           "style": "light"
          },
          "paper_bgcolor": "white",
          "plot_bgcolor": "#E5ECF6",
          "polar": {
           "angularaxis": {
            "gridcolor": "white",
            "linecolor": "white",
            "ticks": ""
           },
           "bgcolor": "#E5ECF6",
           "radialaxis": {
            "gridcolor": "white",
            "linecolor": "white",
            "ticks": ""
           }
          },
          "scene": {
           "xaxis": {
            "backgroundcolor": "#E5ECF6",
            "gridcolor": "white",
            "gridwidth": 2,
            "linecolor": "white",
            "showbackground": true,
            "ticks": "",
            "zerolinecolor": "white"
           },
           "yaxis": {
            "backgroundcolor": "#E5ECF6",
            "gridcolor": "white",
            "gridwidth": 2,
            "linecolor": "white",
            "showbackground": true,
            "ticks": "",
            "zerolinecolor": "white"
           },
           "zaxis": {
            "backgroundcolor": "#E5ECF6",
            "gridcolor": "white",
            "gridwidth": 2,
            "linecolor": "white",
            "showbackground": true,
            "ticks": "",
            "zerolinecolor": "white"
           }
          },
          "shapedefaults": {
           "line": {
            "color": "#2a3f5f"
           }
          },
          "ternary": {
           "aaxis": {
            "gridcolor": "white",
            "linecolor": "white",
            "ticks": ""
           },
           "baxis": {
            "gridcolor": "white",
            "linecolor": "white",
            "ticks": ""
           },
           "bgcolor": "#E5ECF6",
           "caxis": {
            "gridcolor": "white",
            "linecolor": "white",
            "ticks": ""
           }
          },
          "title": {
           "x": 0.05
          },
          "xaxis": {
           "automargin": true,
           "gridcolor": "white",
           "linecolor": "white",
           "ticks": "",
           "title": {
            "standoff": 15
           },
           "zerolinecolor": "white",
           "zerolinewidth": 2
          },
          "yaxis": {
           "automargin": true,
           "gridcolor": "white",
           "linecolor": "white",
           "ticks": "",
           "title": {
            "standoff": 15
           },
           "zerolinecolor": "white",
           "zerolinewidth": 2
          }
         }
        },
        "title": {
         "text": "Arfican Languages - Passion behind the Tweets"
        },
        "updatemenus": [
         {
          "active": 0,
          "buttons": [
           {
            "args": [
             {
              "showlegend": true,
              "title": "Ethiopia",
              "visible": [
               true,
               true,
               false,
               false,
               false,
               false,
               false,
               false,
               false,
               false,
               false,
               false,
               false,
               false,
               false,
               false,
               false,
               false,
               false,
               false,
               false,
               false,
               false,
               false,
               false,
               false
              ]
             }
            ],
            "label": "Ethiopia",
            "method": "restyle"
           },
           {
            "args": [
             {
              "showlegend": true,
              "title": "Algeria",
              "visible": [
               false,
               false,
               true,
               true,
               false,
               false,
               false,
               false,
               false,
               false,
               false,
               false,
               false,
               false,
               false,
               false,
               false,
               false,
               false,
               false,
               false,
               false,
               false,
               false,
               false,
               false
              ]
             }
            ],
            "label": "Algeria",
            "method": "restyle"
           },
           {
            "args": [
             {
              "showlegend": true,
              "title": "Morocco",
              "visible": [
               false,
               false,
               false,
               false,
               true,
               true,
               false,
               false,
               false,
               false,
               false,
               false,
               false,
               false,
               false,
               false,
               false,
               false,
               false,
               false,
               false,
               false,
               false,
               false,
               false,
               false
              ]
             }
            ],
            "label": "Morocco",
            "method": "restyle"
           },
           {
            "args": [
             {
              "showlegend": true,
              "title": "Cameroon",
              "visible": [
               false,
               false,
               false,
               false,
               false,
               false,
               true,
               true,
               false,
               false,
               false,
               false,
               false,
               false,
               false,
               false,
               false,
               false,
               false,
               false,
               false,
               false,
               false,
               false,
               false,
               false
              ]
             }
            ],
            "label": "Cameroon",
            "method": "restyle"
           },
           {
            "args": [
             {
              "showlegend": true,
              "title": "Ghana",
              "visible": [
               false,
               false,
               false,
               false,
               false,
               false,
               false,
               false,
               true,
               true,
               false,
               false,
               false,
               false,
               false,
               false,
               false,
               false,
               false,
               false,
               false,
               false,
               false,
               false,
               false,
               false
              ]
             }
            ],
            "label": "Ghana",
            "method": "restyle"
           },
           {
            "args": [
             {
              "showlegend": true,
              "title": "Nigeria",
              "visible": [
               false,
               false,
               false,
               false,
               false,
               false,
               false,
               false,
               false,
               false,
               true,
               true,
               false,
               false,
               false,
               false,
               false,
               false,
               false,
               false,
               false,
               false,
               false,
               false,
               false,
               false
              ]
             }
            ],
            "label": "Nigeria",
            "method": "restyle"
           },
           {
            "args": [
             {
              "showlegend": true,
              "title": "Rwanda",
              "visible": [
               false,
               false,
               false,
               false,
               false,
               false,
               false,
               false,
               false,
               false,
               false,
               false,
               true,
               true,
               false,
               false,
               false,
               false,
               false,
               false,
               false,
               false,
               false,
               false,
               false,
               false
              ]
             }
            ],
            "label": "Rwanda",
            "method": "restyle"
           },
           {
            "args": [
             {
              "showlegend": true,
              "title": "Mozambique",
              "visible": [
               false,
               false,
               false,
               false,
               false,
               false,
               false,
               false,
               false,
               false,
               false,
               false,
               false,
               false,
               true,
               true,
               false,
               false,
               false,
               false,
               false,
               false,
               false,
               false,
               false,
               false
              ]
             }
            ],
            "label": "Mozambique",
            "method": "restyle"
           },
           {
            "args": [
             {
              "showlegend": true,
              "title": "Kenya",
              "visible": [
               false,
               false,
               false,
               false,
               false,
               false,
               false,
               false,
               false,
               false,
               false,
               false,
               false,
               false,
               false,
               false,
               true,
               true,
               false,
               false,
               false,
               false,
               false,
               false,
               false,
               false
              ]
             }
            ],
            "label": "Kenya",
            "method": "restyle"
           },
           {
            "args": [
             {
              "showlegend": true,
              "title": "Tanzania",
              "visible": [
               false,
               false,
               false,
               false,
               false,
               false,
               false,
               false,
               false,
               false,
               false,
               false,
               false,
               false,
               false,
               false,
               false,
               false,
               true,
               true,
               false,
               false,
               false,
               false,
               false,
               false
              ]
             }
            ],
            "label": "Tanzania",
            "method": "restyle"
           },
           {
            "args": [
             {
              "showlegend": true,
              "title": "Eswatini",
              "visible": [
               false,
               false,
               false,
               false,
               false,
               false,
               false,
               false,
               false,
               false,
               false,
               false,
               false,
               false,
               false,
               false,
               false,
               false,
               false,
               false,
               true,
               true,
               false,
               false,
               false,
               false
              ]
             }
            ],
            "label": "Eswatini",
            "method": "restyle"
           },
           {
            "args": [
             {
              "showlegend": true,
              "title": "South Africa",
              "visible": [
               false,
               false,
               false,
               false,
               false,
               false,
               false,
               false,
               false,
               false,
               false,
               false,
               false,
               false,
               false,
               false,
               false,
               false,
               false,
               false,
               false,
               false,
               true,
               true,
               false,
               false
              ]
             }
            ],
            "label": "South Africa",
            "method": "restyle"
           },
           {
            "args": [
             {
              "showlegend": true,
              "title": "Zimbabwe",
              "visible": [
               false,
               false,
               false,
               false,
               false,
               false,
               false,
               false,
               false,
               false,
               false,
               false,
               false,
               false,
               false,
               false,
               false,
               false,
               false,
               false,
               false,
               false,
               false,
               false,
               true,
               true
              ]
             }
            ],
            "label": "Zimbabwe",
            "method": "restyle"
           }
          ]
         }
        ]
       }
      }
     },
     "metadata": {},
     "output_type": "display_data"
    }
   ],
   "source": [
    "# Making this interactive using dropdown menu \n",
    "\n",
    "\n",
    "fig = make_subplots(\n",
    "rows=2, cols=1,\n",
    "shared_xaxes=True,\n",
    "vertical_spacing=0.03,\n",
    "specs=[[{\"type\": \"domain\"}],\n",
    "        [{\"type\": \"table\"}]]\n",
    ")\n",
    "\n",
    "countries =  df_language_combined.country.unique()\n",
    "for country in countries: \n",
    "    \n",
    "    fig.add_trace(go.Pie(labels=df_sentiment_combined.loc[df_sentiment_combined.country ==country].label, values=df_sentiment_combined.loc[df_sentiment_combined.country ==country].totals,\n",
    "                marker_colors = df_sentiment_combined.loc[df_sentiment_combined.country ==country].label.map(map_dict))\n",
    "                , row=1, col=1)\n",
    "\n",
    "    fig.add_trace(go.Table(\n",
    "    header=dict(\n",
    "        values=[\"country\",\"tweet\",\"label\"],\n",
    "        line_color='darkslategray',\n",
    "        fill_color='lightskyblue',\n",
    "        align='center', font=dict(color='black', size=12)\n",
    "    ),\n",
    "\n",
    "    cells=dict(values=[df_language_combined.loc[df_language_combined.country == country].country,df_language_combined.loc[df_language_combined.country ==country].tweet,df_language_combined.loc[df_language_combined.country ==country].label], \n",
    "                line_color='darkslategray',\n",
    "                fill_color='lightcyan',\n",
    "                align='left'))\n",
    "    , row=2, col=1\n",
    "    )\n",
    "\n",
    "Ld=len(fig.data)\n",
    "Lc =len(countries)\n",
    "for k in range(2, Ld):\n",
    "    fig.update_traces(visible=False, selector = k)\n",
    "def create_layout_button(k, country):\n",
    "    \n",
    "    visibility= [False]*2*Lc\n",
    "    for tr in [2*k, 2*k+1]:\n",
    "        visibility[tr] =True\n",
    "    return dict(label = country,\n",
    "                method = 'restyle',\n",
    "                args = [{'visible': visibility,\n",
    "                            'title': country,\n",
    "                            'showlegend': True}])    \n",
    "\n",
    "\n",
    "fig.update_layout(\n",
    "    updatemenus=[go.layout.Updatemenu(\n",
    "        active = 0,\n",
    "        buttons = [create_layout_button(k, country) for k, country in enumerate(countries)]\n",
    "        )\n",
    "    ],\n",
    "    title_text=\"African Languages - Passion behind the Tweets\")\n",
    "\n",
    "fig.show()"
   ]
  },
  {
   "cell_type": "code",
   "execution_count": 19,
   "metadata": {},
   "outputs": [
    {
     "data": {
      "image/png": "[encoded data removed]",
      "text/plain": [
       "<IPython.core.display.Image object>"
      ]
     },
     "execution_count": 19,
     "metadata": {},
     "output_type": "execute_result"
    }
   ],
   "source": [
    "# Display Output in production\n",
    "img_bytes = fig.to_image(format=\"png\")\n",
    "from IPython.display import Image\n",
    "Image(img_bytes)"
   ]
  },
  {
   "cell_type": "code",
   "execution_count": null,
   "metadata": {},
   "outputs": [],
   "source": []
  }
 ],
 "metadata": {
  "kernelspec": {
   "display_name": "virtual_env",
   "language": "python",
   "name": "python3"
  },
  "language_info": {
   "codemirror_mode": {
    "name": "ipython",
    "version": 3
   },
   "file_extension": ".py",
   "mimetype": "text/x-python",
   "name": "python",
   "nbconvert_exporter": "python",
   "pygments_lexer": "ipython3",
   "version": "3.10.4"
  },
  "orig_nbformat": 4,
  "vscode": {
   "interpreter": {
    "hash": "687274526d4aa2e04447d7d070c6f665e4726a27c7a8a0088b2d1697dc8ad3d8"
   }
  }
 },
 "nbformat": 4,
 "nbformat_minor": 2
}
