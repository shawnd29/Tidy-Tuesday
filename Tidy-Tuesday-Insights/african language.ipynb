{
 "cells": [
  {
   "cell_type": "markdown",
   "metadata": {},
   "source": [
    "2023-02-28 <br/>\n",
    "African Language Sentiment <br/>\n",
    "https://github.com/rfordatascience/tidytuesday/blob/master/data/2023/2023-02-28/readme.md"
   ]
  },
  {
   "cell_type": "markdown",
   "metadata": {},
   "source": [
    "Interactive Subplots with dropdown - Completed "
   ]
  },
  {
   "cell_type": "markdown",
   "metadata": {},
   "source": [
    "https://community.plotly.com/t/combining-multiple-subplots-with-drop-down-menu-buttons/49513 <br/>\n",
    "https://plotly.com/python/table-subplots/\n"
   ]
  },
  {
   "cell_type": "code",
   "execution_count": 1,
   "metadata": {},
   "outputs": [],
   "source": [
    "import pandas as pd\n",
    "import plotly.graph_objects as go\n",
    "import plotly.express as px\n",
    "import plotly.io as pio\n",
    "pio.renderers.default='jupyterlab'\n",
    "import os"
   ]
  },
  {
   "cell_type": "code",
   "execution_count": 2,
   "metadata": {},
   "outputs": [
    {
     "data": {
      "text/html": [
       "<div>\n",
       "<style scoped>\n",
       "    .dataframe tbody tr th:only-of-type {\n",
       "        vertical-align: middle;\n",
       "    }\n",
       "\n",
       "    .dataframe tbody tr th {\n",
       "        vertical-align: top;\n",
       "    }\n",
       "\n",
       "    .dataframe thead th {\n",
       "        text-align: right;\n",
       "    }\n",
       "</style>\n",
       "<table border=\"1\" class=\"dataframe\">\n",
       "  <thead>\n",
       "    <tr style=\"text-align: right;\">\n",
       "      <th></th>\n",
       "      <th>language_iso_code</th>\n",
       "      <th>tweet</th>\n",
       "      <th>label</th>\n",
       "      <th>intended_use</th>\n",
       "    </tr>\n",
       "  </thead>\n",
       "  <tbody>\n",
       "    <tr>\n",
       "      <th>0</th>\n",
       "      <td>amh</td>\n",
       "      <td>አማራ ክልል ፈልቶበታል ልኩን ማስገባት ነው!!! ሙስሊሞችን ጠልቶ 85% ...</td>\n",
       "      <td>negative</td>\n",
       "      <td>dev</td>\n",
       "    </tr>\n",
       "    <tr>\n",
       "      <th>1</th>\n",
       "      <td>amh</td>\n",
       "      <td>ሰውን አንገት በሚያስደፋ መልኩ ዝም ብሎ ሙድ መያዝ....ስልህ ያ ሰው ም...</td>\n",
       "      <td>negative</td>\n",
       "      <td>dev</td>\n",
       "    </tr>\n",
       "    <tr>\n",
       "      <th>2</th>\n",
       "      <td>amh</td>\n",
       "      <td>የቤት ውስጥ ጥቃት – ያለሰሚ – ያለተመልካች</td>\n",
       "      <td>negative</td>\n",
       "      <td>dev</td>\n",
       "    </tr>\n",
       "    <tr>\n",
       "      <th>3</th>\n",
       "      <td>amh</td>\n",
       "      <td>Ethiopia ወያኔን ለመጣል ምን ድርሻ ነበራችሁ ? ከወደቀ በኋላ ጉራ ...</td>\n",
       "      <td>negative</td>\n",
       "      <td>dev</td>\n",
       "    </tr>\n",
       "    <tr>\n",
       "      <th>4</th>\n",
       "      <td>amh</td>\n",
       "      <td>ኦሮሞ ምንም ቢማር ከብት ነዉ አያስተዉልም ጥንብ ዘረኛ ናቸዉ</td>\n",
       "      <td>negative</td>\n",
       "      <td>dev</td>\n",
       "    </tr>\n",
       "  </tbody>\n",
       "</table>\n",
       "</div>"
      ],
      "text/plain": [
       "  language_iso_code                                              tweet  \\\n",
       "0               amh  አማራ ክልል ፈልቶበታል ልኩን ማስገባት ነው!!! ሙስሊሞችን ጠልቶ 85% ...   \n",
       "1               amh  ሰውን አንገት በሚያስደፋ መልኩ ዝም ብሎ ሙድ መያዝ....ስልህ ያ ሰው ም...   \n",
       "2               amh                       የቤት ውስጥ ጥቃት – ያለሰሚ – ያለተመልካች   \n",
       "3               amh  Ethiopia ወያኔን ለመጣል ምን ድርሻ ነበራችሁ ? ከወደቀ በኋላ ጉራ ...   \n",
       "4               amh             ኦሮሞ ምንም ቢማር ከብት ነዉ አያስተዉልም ጥንብ ዘረኛ ናቸዉ   \n",
       "\n",
       "      label intended_use  \n",
       "0  negative          dev  \n",
       "1  negative          dev  \n",
       "2  negative          dev  \n",
       "3  negative          dev  \n",
       "4  negative          dev  "
      ]
     },
     "execution_count": 2,
     "metadata": {},
     "output_type": "execute_result"
    }
   ],
   "source": [
    "df= pd.read_csv(\"https://raw.githubusercontent.com/rfordatascience/tidytuesday/master/data/2023/2023-02-28/afrisenti.csv\")\n",
    "df.head()"
   ]
  },
  {
   "cell_type": "code",
   "execution_count": 3,
   "metadata": {},
   "outputs": [
    {
     "data": {
      "text/html": [
       "<div>\n",
       "<style scoped>\n",
       "    .dataframe tbody tr th:only-of-type {\n",
       "        vertical-align: middle;\n",
       "    }\n",
       "\n",
       "    .dataframe tbody tr th {\n",
       "        vertical-align: top;\n",
       "    }\n",
       "\n",
       "    .dataframe thead th {\n",
       "        text-align: right;\n",
       "    }\n",
       "</style>\n",
       "<table border=\"1\" class=\"dataframe\">\n",
       "  <thead>\n",
       "    <tr style=\"text-align: right;\">\n",
       "      <th></th>\n",
       "      <th>language_iso_code</th>\n",
       "      <th>country</th>\n",
       "    </tr>\n",
       "  </thead>\n",
       "  <tbody>\n",
       "    <tr>\n",
       "      <th>0</th>\n",
       "      <td>amh</td>\n",
       "      <td>Ethiopia</td>\n",
       "    </tr>\n",
       "    <tr>\n",
       "      <th>1</th>\n",
       "      <td>arq</td>\n",
       "      <td>Algeria</td>\n",
       "    </tr>\n",
       "    <tr>\n",
       "      <th>2</th>\n",
       "      <td>ary</td>\n",
       "      <td>Morocco</td>\n",
       "    </tr>\n",
       "    <tr>\n",
       "      <th>3</th>\n",
       "      <td>hau</td>\n",
       "      <td>Cameroon</td>\n",
       "    </tr>\n",
       "    <tr>\n",
       "      <th>4</th>\n",
       "      <td>hau</td>\n",
       "      <td>Ghana</td>\n",
       "    </tr>\n",
       "  </tbody>\n",
       "</table>\n",
       "</div>"
      ],
      "text/plain": [
       "  language_iso_code   country\n",
       "0               amh  Ethiopia\n",
       "1               arq   Algeria\n",
       "2               ary   Morocco\n",
       "3               hau  Cameroon\n",
       "4               hau     Ghana"
      ]
     },
     "execution_count": 3,
     "metadata": {},
     "output_type": "execute_result"
    }
   ],
   "source": [
    "df_language = pd.read_csv(\"https://raw.githubusercontent.com/rfordatascience/tidytuesday/master/data/2023/2023-02-28/language_countries.csv\")\n",
    "df_language.head()"
   ]
  },
  {
   "cell_type": "code",
   "execution_count": 4,
   "metadata": {},
   "outputs": [
    {
     "data": {
      "text/plain": [
       "hau      22152\n",
       "ibo      15715\n",
       "yor      15127\n",
       "pcm      10556\n",
       "amh       9480\n",
       "ary       9038\n",
       "pt-MZ     7492\n",
       "kin       5155\n",
       "twi       4818\n",
       "arq       3023\n",
       "swa       3011\n",
       "orm       2494\n",
       "tir       2398\n",
       "tso       1261\n",
       "Name: language_iso_code, dtype: int64"
      ]
     },
     "execution_count": 4,
     "metadata": {},
     "output_type": "execute_result"
    }
   ],
   "source": [
    "df.language_iso_code.value_counts()"
   ]
  },
  {
   "cell_type": "code",
   "execution_count": 5,
   "metadata": {},
   "outputs": [
    {
     "data": {
      "text/html": [
       "<div>\n",
       "<style scoped>\n",
       "    .dataframe tbody tr th:only-of-type {\n",
       "        vertical-align: middle;\n",
       "    }\n",
       "\n",
       "    .dataframe tbody tr th {\n",
       "        vertical-align: top;\n",
       "    }\n",
       "\n",
       "    .dataframe thead th {\n",
       "        text-align: right;\n",
       "    }\n",
       "</style>\n",
       "<table border=\"1\" class=\"dataframe\">\n",
       "  <thead>\n",
       "    <tr style=\"text-align: right;\">\n",
       "      <th></th>\n",
       "      <th>language_iso_code</th>\n",
       "      <th>label</th>\n",
       "      <th>totals</th>\n",
       "    </tr>\n",
       "  </thead>\n",
       "  <tbody>\n",
       "    <tr>\n",
       "      <th>0</th>\n",
       "      <td>amh</td>\n",
       "      <td>negative</td>\n",
       "      <td>3273</td>\n",
       "    </tr>\n",
       "    <tr>\n",
       "      <th>1</th>\n",
       "      <td>amh</td>\n",
       "      <td>neutral</td>\n",
       "      <td>4104</td>\n",
       "    </tr>\n",
       "    <tr>\n",
       "      <th>2</th>\n",
       "      <td>amh</td>\n",
       "      <td>positive</td>\n",
       "      <td>2103</td>\n",
       "    </tr>\n",
       "    <tr>\n",
       "      <th>3</th>\n",
       "      <td>arq</td>\n",
       "      <td>negative</td>\n",
       "      <td>1590</td>\n",
       "    </tr>\n",
       "    <tr>\n",
       "      <th>4</th>\n",
       "      <td>arq</td>\n",
       "      <td>neutral</td>\n",
       "      <td>582</td>\n",
       "    </tr>\n",
       "  </tbody>\n",
       "</table>\n",
       "</div>"
      ],
      "text/plain": [
       "  language_iso_code     label  totals\n",
       "0               amh  negative    3273\n",
       "1               amh   neutral    4104\n",
       "2               amh  positive    2103\n",
       "3               arq  negative    1590\n",
       "4               arq   neutral     582"
      ]
     },
     "execution_count": 5,
     "metadata": {},
     "output_type": "execute_result"
    }
   ],
   "source": [
    "# Get total counts\n",
    "df_sentiment_group = df.groupby([\"language_iso_code\",\"label\"]).agg(totals=(\"intended_use\",\"count\")).reset_index()\n",
    "df_sentiment_group.head()"
   ]
  },
  {
   "cell_type": "code",
   "execution_count": 6,
   "metadata": {},
   "outputs": [
    {
     "data": {
      "text/html": [
       "<div>\n",
       "<style scoped>\n",
       "    .dataframe tbody tr th:only-of-type {\n",
       "        vertical-align: middle;\n",
       "    }\n",
       "\n",
       "    .dataframe tbody tr th {\n",
       "        vertical-align: top;\n",
       "    }\n",
       "\n",
       "    .dataframe thead th {\n",
       "        text-align: right;\n",
       "    }\n",
       "</style>\n",
       "<table border=\"1\" class=\"dataframe\">\n",
       "  <thead>\n",
       "    <tr style=\"text-align: right;\">\n",
       "      <th></th>\n",
       "      <th>country</th>\n",
       "      <th>label</th>\n",
       "      <th>totals</th>\n",
       "    </tr>\n",
       "  </thead>\n",
       "  <tbody>\n",
       "    <tr>\n",
       "      <th>0</th>\n",
       "      <td>Ethiopia</td>\n",
       "      <td>negative</td>\n",
       "      <td>3273</td>\n",
       "    </tr>\n",
       "    <tr>\n",
       "      <th>1</th>\n",
       "      <td>Ethiopia</td>\n",
       "      <td>neutral</td>\n",
       "      <td>4104</td>\n",
       "    </tr>\n",
       "    <tr>\n",
       "      <th>2</th>\n",
       "      <td>Ethiopia</td>\n",
       "      <td>positive</td>\n",
       "      <td>2103</td>\n",
       "    </tr>\n",
       "    <tr>\n",
       "      <th>3</th>\n",
       "      <td>Algeria</td>\n",
       "      <td>negative</td>\n",
       "      <td>1590</td>\n",
       "    </tr>\n",
       "    <tr>\n",
       "      <th>4</th>\n",
       "      <td>Algeria</td>\n",
       "      <td>neutral</td>\n",
       "      <td>582</td>\n",
       "    </tr>\n",
       "  </tbody>\n",
       "</table>\n",
       "</div>"
      ],
      "text/plain": [
       "    country     label  totals\n",
       "0  Ethiopia  negative    3273\n",
       "1  Ethiopia   neutral    4104\n",
       "2  Ethiopia  positive    2103\n",
       "3   Algeria  negative    1590\n",
       "4   Algeria   neutral     582"
      ]
     },
     "execution_count": 6,
     "metadata": {},
     "output_type": "execute_result"
    }
   ],
   "source": [
    "df_sentiment_combined = df_sentiment_group.merge(df_language, how = 'inner', left_on=\"language_iso_code\", right_on=\"language_iso_code\")[[\"country\",\"label\",\"totals\"]]\n",
    "\n",
    "df_sentiment_combined.head()"
   ]
  },
  {
   "cell_type": "code",
   "execution_count": 7,
   "metadata": {},
   "outputs": [
    {
     "data": {
      "text/html": [
       "<div>\n",
       "<style scoped>\n",
       "    .dataframe tbody tr th:only-of-type {\n",
       "        vertical-align: middle;\n",
       "    }\n",
       "\n",
       "    .dataframe tbody tr th {\n",
       "        vertical-align: top;\n",
       "    }\n",
       "\n",
       "    .dataframe thead th {\n",
       "        text-align: right;\n",
       "    }\n",
       "</style>\n",
       "<table border=\"1\" class=\"dataframe\">\n",
       "  <thead>\n",
       "    <tr style=\"text-align: right;\">\n",
       "      <th></th>\n",
       "      <th>language_iso_code</th>\n",
       "      <th>tweet</th>\n",
       "      <th>label</th>\n",
       "      <th>intended_use</th>\n",
       "    </tr>\n",
       "  </thead>\n",
       "  <tbody>\n",
       "    <tr>\n",
       "      <th>0</th>\n",
       "      <td>amh</td>\n",
       "      <td>'@user አንተ ደደብ ከደደቢት ይሁን ከተንቤን ዋሻ መከላከያ ጌቶችህን ...</td>\n",
       "      <td>negative</td>\n",
       "      <td>test</td>\n",
       "    </tr>\n",
       "    <tr>\n",
       "      <th>1</th>\n",
       "      <td>amh</td>\n",
       "      <td>'@user @user አን ቆርቆሮ እኛ ባቀናናት ሀገር አንተ ምን እንደምን...</td>\n",
       "      <td>negative</td>\n",
       "      <td>test</td>\n",
       "    </tr>\n",
       "    <tr>\n",
       "      <th>2</th>\n",
       "      <td>amh</td>\n",
       "      <td>በርግጥ አለ ማለት ነው:: ደሞ የራስ መተማመን ጥግ እኮ የሌለ ነው ???...</td>\n",
       "      <td>negative</td>\n",
       "      <td>dev</td>\n",
       "    </tr>\n",
       "    <tr>\n",
       "      <th>3</th>\n",
       "      <td>amh</td>\n",
       "      <td>'እነዚህ ምእራባዊያን ግን ለምንድን ነው የኢዮዽያን እውነት መቀበል ካልፈ...</td>\n",
       "      <td>negative</td>\n",
       "      <td>test</td>\n",
       "    </tr>\n",
       "    <tr>\n",
       "      <th>4</th>\n",
       "      <td>amh</td>\n",
       "      <td>ቖሻሻ ትግራይ ውስጥ ስንት መስጅድ እንዳለ ብታውቅ ታብድ ነበር:: ለማንኛ...</td>\n",
       "      <td>negative</td>\n",
       "      <td>train</td>\n",
       "    </tr>\n",
       "  </tbody>\n",
       "</table>\n",
       "</div>"
      ],
      "text/plain": [
       "  language_iso_code                                              tweet  \\\n",
       "0               amh  '@user አንተ ደደብ ከደደቢት ይሁን ከተንቤን ዋሻ መከላከያ ጌቶችህን ...   \n",
       "1               amh  '@user @user አን ቆርቆሮ እኛ ባቀናናት ሀገር አንተ ምን እንደምን...   \n",
       "2               amh  በርግጥ አለ ማለት ነው:: ደሞ የራስ መተማመን ጥግ እኮ የሌለ ነው ???...   \n",
       "3               amh  'እነዚህ ምእራባዊያን ግን ለምንድን ነው የኢዮዽያን እውነት መቀበል ካልፈ...   \n",
       "4               amh  ቖሻሻ ትግራይ ውስጥ ስንት መስጅድ እንዳለ ብታውቅ ታብድ ነበር:: ለማንኛ...   \n",
       "\n",
       "      label intended_use  \n",
       "0  negative         test  \n",
       "1  negative         test  \n",
       "2  negative          dev  \n",
       "3  negative         test  \n",
       "4  negative        train  "
      ]
     },
     "execution_count": 7,
     "metadata": {},
     "output_type": "execute_result"
    }
   ],
   "source": [
    "# Get 10 random samples for each language and sentiment\n",
    "df_language_samples = df.groupby([\"language_iso_code\",\"label\"]).apply(lambda x: x.sample(10)).reset_index(drop=True)\n",
    "df_language_samples.head()\n"
   ]
  },
  {
   "cell_type": "code",
   "execution_count": 8,
   "metadata": {},
   "outputs": [
    {
     "data": {
      "text/html": [
       "<div>\n",
       "<style scoped>\n",
       "    .dataframe tbody tr th:only-of-type {\n",
       "        vertical-align: middle;\n",
       "    }\n",
       "\n",
       "    .dataframe tbody tr th {\n",
       "        vertical-align: top;\n",
       "    }\n",
       "\n",
       "    .dataframe thead th {\n",
       "        text-align: right;\n",
       "    }\n",
       "</style>\n",
       "<table border=\"1\" class=\"dataframe\">\n",
       "  <thead>\n",
       "    <tr style=\"text-align: right;\">\n",
       "      <th></th>\n",
       "      <th>country</th>\n",
       "      <th>tweet</th>\n",
       "      <th>label</th>\n",
       "    </tr>\n",
       "  </thead>\n",
       "  <tbody>\n",
       "    <tr>\n",
       "      <th>0</th>\n",
       "      <td>Ethiopia</td>\n",
       "      <td>'@user አንተ ደደብ ከደደቢት ይሁን ከተንቤን ዋሻ መከላከያ ጌቶችህን ...</td>\n",
       "      <td>negative</td>\n",
       "    </tr>\n",
       "    <tr>\n",
       "      <th>1</th>\n",
       "      <td>Ethiopia</td>\n",
       "      <td>'@user @user አን ቆርቆሮ እኛ ባቀናናት ሀገር አንተ ምን እንደምን...</td>\n",
       "      <td>negative</td>\n",
       "    </tr>\n",
       "    <tr>\n",
       "      <th>2</th>\n",
       "      <td>Ethiopia</td>\n",
       "      <td>በርግጥ አለ ማለት ነው:: ደሞ የራስ መተማመን ጥግ እኮ የሌለ ነው ???...</td>\n",
       "      <td>negative</td>\n",
       "    </tr>\n",
       "    <tr>\n",
       "      <th>3</th>\n",
       "      <td>Ethiopia</td>\n",
       "      <td>'እነዚህ ምእራባዊያን ግን ለምንድን ነው የኢዮዽያን እውነት መቀበል ካልፈ...</td>\n",
       "      <td>negative</td>\n",
       "    </tr>\n",
       "    <tr>\n",
       "      <th>4</th>\n",
       "      <td>Ethiopia</td>\n",
       "      <td>ቖሻሻ ትግራይ ውስጥ ስንት መስጅድ እንዳለ ብታውቅ ታብድ ነበር:: ለማንኛ...</td>\n",
       "      <td>negative</td>\n",
       "    </tr>\n",
       "  </tbody>\n",
       "</table>\n",
       "</div>"
      ],
      "text/plain": [
       "    country                                              tweet     label\n",
       "0  Ethiopia  '@user አንተ ደደብ ከደደቢት ይሁን ከተንቤን ዋሻ መከላከያ ጌቶችህን ...  negative\n",
       "1  Ethiopia  '@user @user አን ቆርቆሮ እኛ ባቀናናት ሀገር አንተ ምን እንደምን...  negative\n",
       "2  Ethiopia  በርግጥ አለ ማለት ነው:: ደሞ የራስ መተማመን ጥግ እኮ የሌለ ነው ???...  negative\n",
       "3  Ethiopia  'እነዚህ ምእራባዊያን ግን ለምንድን ነው የኢዮዽያን እውነት መቀበል ካልፈ...  negative\n",
       "4  Ethiopia  ቖሻሻ ትግራይ ውስጥ ስንት መስጅድ እንዳለ ብታውቅ ታብድ ነበር:: ለማንኛ...  negative"
      ]
     },
     "execution_count": 8,
     "metadata": {},
     "output_type": "execute_result"
    }
   ],
   "source": [
    "df_language_combined = df_language_samples.merge(df_language, how = 'inner', left_on=\"language_iso_code\", right_on=\"language_iso_code\")[[\"country\",\"tweet\",\"label\"]]\n",
    "\n",
    "df_language_combined.head()"
   ]
  },
  {
   "cell_type": "code",
   "execution_count": 9,
   "metadata": {},
   "outputs": [
    {
     "data": {
      "text/html": [
       "<div>\n",
       "<style scoped>\n",
       "    .dataframe tbody tr th:only-of-type {\n",
       "        vertical-align: middle;\n",
       "    }\n",
       "\n",
       "    .dataframe tbody tr th {\n",
       "        vertical-align: top;\n",
       "    }\n",
       "\n",
       "    .dataframe thead th {\n",
       "        text-align: right;\n",
       "    }\n",
       "</style>\n",
       "<table border=\"1\" class=\"dataframe\">\n",
       "  <thead>\n",
       "    <tr style=\"text-align: right;\">\n",
       "      <th></th>\n",
       "      <th>country</th>\n",
       "      <th>label</th>\n",
       "      <th>totals</th>\n",
       "    </tr>\n",
       "  </thead>\n",
       "  <tbody>\n",
       "    <tr>\n",
       "      <th>0</th>\n",
       "      <td>Ethiopia</td>\n",
       "      <td>negative</td>\n",
       "      <td>3273</td>\n",
       "    </tr>\n",
       "    <tr>\n",
       "      <th>1</th>\n",
       "      <td>Ethiopia</td>\n",
       "      <td>neutral</td>\n",
       "      <td>4104</td>\n",
       "    </tr>\n",
       "    <tr>\n",
       "      <th>2</th>\n",
       "      <td>Ethiopia</td>\n",
       "      <td>positive</td>\n",
       "      <td>2103</td>\n",
       "    </tr>\n",
       "    <tr>\n",
       "      <th>3</th>\n",
       "      <td>Algeria</td>\n",
       "      <td>negative</td>\n",
       "      <td>1590</td>\n",
       "    </tr>\n",
       "    <tr>\n",
       "      <th>4</th>\n",
       "      <td>Algeria</td>\n",
       "      <td>neutral</td>\n",
       "      <td>582</td>\n",
       "    </tr>\n",
       "  </tbody>\n",
       "</table>\n",
       "</div>"
      ],
      "text/plain": [
       "    country     label  totals\n",
       "0  Ethiopia  negative    3273\n",
       "1  Ethiopia   neutral    4104\n",
       "2  Ethiopia  positive    2103\n",
       "3   Algeria  negative    1590\n",
       "4   Algeria   neutral     582"
      ]
     },
     "execution_count": 9,
     "metadata": {},
     "output_type": "execute_result"
    }
   ],
   "source": [
    "df_sentiment_combined.head()"
   ]
  },
  {
   "cell_type": "code",
   "execution_count": 10,
   "metadata": {},
   "outputs": [
    {
     "data": {
      "text/plain": [
       "array(['negative', 'neutral', 'positive'], dtype=object)"
      ]
     },
     "execution_count": 10,
     "metadata": {},
     "output_type": "execute_result"
    }
   ],
   "source": [
    "df_sentiment_combined.label.unique()"
   ]
  },
  {
   "cell_type": "code",
   "execution_count": 11,
   "metadata": {},
   "outputs": [],
   "source": [
    "# For a single Country: \n",
    "\n",
    "df_sentiment_combined_subset = df_sentiment_combined.loc[df_sentiment_combined.country ==\"Nigeria\"]\n",
    "df_language_combined_subset= df_language_combined.loc[df_language_combined.country ==\"Nigeria\"]"
   ]
  },
  {
   "cell_type": "code",
   "execution_count": 12,
   "metadata": {},
   "outputs": [
    {
     "data": {
      "application/vnd.plotly.v1+json": {
       "config": {
        "plotlyServerURL": "https://plot.ly"
       },
       "data": [
        {
         "labels": [
          "negative",
          "neutral",
          "positive",
          "negative",
          "neutral",
          "positive",
          "negative",
          "neutral",
          "positive",
          "negative",
          "neutral",
          "positive"
         ],
         "marker": {
          "colors": [
           "red",
           "yellow",
           "green",
           "red",
           "yellow",
           "green",
           "red",
           "yellow",
           "green",
           "red",
           "yellow",
           "green"
          ]
         },
         "type": "pie",
         "values": [
          7226,
          7597,
          7329,
          4013,
          6940,
          4762,
          6380,
          524,
          3652,
          3296,
          5487,
          6344
         ]
        }
       ],
       "layout": {
        "template": {
         "data": {
          "bar": [
           {
            "error_x": {
             "color": "#2a3f5f"
            },
            "error_y": {
             "color": "#2a3f5f"
            },
            "marker": {
             "line": {
              "color": "#E5ECF6",
              "width": 0.5
             },
             "pattern": {
              "fillmode": "overlay",
              "size": 10,
              "solidity": 0.2
             }
            },
            "type": "bar"
           }
          ],
          "barpolar": [
           {
            "marker": {
             "line": {
              "color": "#E5ECF6",
              "width": 0.5
             },
             "pattern": {
              "fillmode": "overlay",
              "size": 10,
              "solidity": 0.2
             }
            },
            "type": "barpolar"
           }
          ],
          "carpet": [
           {
            "aaxis": {
             "endlinecolor": "#2a3f5f",
             "gridcolor": "white",
             "linecolor": "white",
             "minorgridcolor": "white",
             "startlinecolor": "#2a3f5f"
            },
            "baxis": {
             "endlinecolor": "#2a3f5f",
             "gridcolor": "white",
             "linecolor": "white",
             "minorgridcolor": "white",
             "startlinecolor": "#2a3f5f"
            },
            "type": "carpet"
           }
          ],
          "choropleth": [
           {
            "colorbar": {
             "outlinewidth": 0,
             "ticks": ""
            },
            "type": "choropleth"
           }
          ],
          "contour": [
           {
            "colorbar": {
             "outlinewidth": 0,
             "ticks": ""
            },
            "colorscale": [
             [
              0,
              "#0d0887"
             ],
             [
              0.1111111111111111,
              "#46039f"
             ],
             [
              0.2222222222222222,
              "#7201a8"
             ],
             [
              0.3333333333333333,
              "#9c179e"
             ],
             [
              0.4444444444444444,
              "#bd3786"
             ],
             [
              0.5555555555555556,
              "#d8576b"
             ],
             [
              0.6666666666666666,
              "#ed7953"
             ],
             [
              0.7777777777777778,
              "#fb9f3a"
             ],
             [
              0.8888888888888888,
              "#fdca26"
             ],
             [
              1,
              "#f0f921"
             ]
            ],
            "type": "contour"
           }
          ],
          "contourcarpet": [
           {
            "colorbar": {
             "outlinewidth": 0,
             "ticks": ""
            },
            "type": "contourcarpet"
           }
          ],
          "heatmap": [
           {
            "colorbar": {
             "outlinewidth": 0,
             "ticks": ""
            },
            "colorscale": [
             [
              0,
              "#0d0887"
             ],
             [
              0.1111111111111111,
              "#46039f"
             ],
             [
              0.2222222222222222,
              "#7201a8"
             ],
             [
              0.3333333333333333,
              "#9c179e"
             ],
             [
              0.4444444444444444,
              "#bd3786"
             ],
             [
              0.5555555555555556,
              "#d8576b"
             ],
             [
              0.6666666666666666,
              "#ed7953"
             ],
             [
              0.7777777777777778,
              "#fb9f3a"
             ],
             [
              0.8888888888888888,
              "#fdca26"
             ],
             [
              1,
              "#f0f921"
             ]
            ],
            "type": "heatmap"
           }
          ],
          "heatmapgl": [
           {
            "colorbar": {
             "outlinewidth": 0,
             "ticks": ""
            },
            "colorscale": [
             [
              0,
              "#0d0887"
             ],
             [
              0.1111111111111111,
              "#46039f"
             ],
             [
              0.2222222222222222,
              "#7201a8"
             ],
             [
              0.3333333333333333,
              "#9c179e"
             ],
             [
              0.4444444444444444,
              "#bd3786"
             ],
             [
              0.5555555555555556,
              "#d8576b"
             ],
             [
              0.6666666666666666,
              "#ed7953"
             ],
             [
              0.7777777777777778,
              "#fb9f3a"
             ],
             [
              0.8888888888888888,
              "#fdca26"
             ],
             [
              1,
              "#f0f921"
             ]
            ],
            "type": "heatmapgl"
           }
          ],
          "histogram": [
           {
            "marker": {
             "pattern": {
              "fillmode": "overlay",
              "size": 10,
              "solidity": 0.2
             }
            },
            "type": "histogram"
           }
          ],
          "histogram2d": [
           {
            "colorbar": {
             "outlinewidth": 0,
             "ticks": ""
            },
            "colorscale": [
             [
              0,
              "#0d0887"
             ],
             [
              0.1111111111111111,
              "#46039f"
             ],
             [
              0.2222222222222222,
              "#7201a8"
             ],
             [
              0.3333333333333333,
              "#9c179e"
             ],
             [
              0.4444444444444444,
              "#bd3786"
             ],
             [
              0.5555555555555556,
              "#d8576b"
             ],
             [
              0.6666666666666666,
              "#ed7953"
             ],
             [
              0.7777777777777778,
              "#fb9f3a"
             ],
             [
              0.8888888888888888,
              "#fdca26"
             ],
             [
              1,
              "#f0f921"
             ]
            ],
            "type": "histogram2d"
           }
          ],
          "histogram2dcontour": [
           {
            "colorbar": {
             "outlinewidth": 0,
             "ticks": ""
            },
            "colorscale": [
             [
              0,
              "#0d0887"
             ],
             [
              0.1111111111111111,
              "#46039f"
             ],
             [
              0.2222222222222222,
              "#7201a8"
             ],
             [
              0.3333333333333333,
              "#9c179e"
             ],
             [
              0.4444444444444444,
              "#bd3786"
             ],
             [
              0.5555555555555556,
              "#d8576b"
             ],
             [
              0.6666666666666666,
              "#ed7953"
             ],
             [
              0.7777777777777778,
              "#fb9f3a"
             ],
             [
              0.8888888888888888,
              "#fdca26"
             ],
             [
              1,
              "#f0f921"
             ]
            ],
            "type": "histogram2dcontour"
           }
          ],
          "mesh3d": [
           {
            "colorbar": {
             "outlinewidth": 0,
             "ticks": ""
            },
            "type": "mesh3d"
           }
          ],
          "parcoords": [
           {
            "line": {
             "colorbar": {
              "outlinewidth": 0,
              "ticks": ""
             }
            },
            "type": "parcoords"
           }
          ],
          "pie": [
           {
            "automargin": true,
            "type": "pie"
           }
          ],
          "scatter": [
           {
            "fillpattern": {
             "fillmode": "overlay",
             "size": 10,
             "solidity": 0.2
            },
            "type": "scatter"
           }
          ],
          "scatter3d": [
           {
            "line": {
             "colorbar": {
              "outlinewidth": 0,
              "ticks": ""
             }
            },
            "marker": {
             "colorbar": {
              "outlinewidth": 0,
              "ticks": ""
             }
            },
            "type": "scatter3d"
           }
          ],
          "scattercarpet": [
           {
            "marker": {
             "colorbar": {
              "outlinewidth": 0,
              "ticks": ""
             }
            },
            "type": "scattercarpet"
           }
          ],
          "scattergeo": [
           {
            "marker": {
             "colorbar": {
              "outlinewidth": 0,
              "ticks": ""
             }
            },
            "type": "scattergeo"
           }
          ],
          "scattergl": [
           {
            "marker": {
             "colorbar": {
              "outlinewidth": 0,
              "ticks": ""
             }
            },
            "type": "scattergl"
           }
          ],
          "scattermapbox": [
           {
            "marker": {
             "colorbar": {
              "outlinewidth": 0,
              "ticks": ""
             }
            },
            "type": "scattermapbox"
           }
          ],
          "scatterpolar": [
           {
            "marker": {
             "colorbar": {
              "outlinewidth": 0,
              "ticks": ""
             }
            },
            "type": "scatterpolar"
           }
          ],
          "scatterpolargl": [
           {
            "marker": {
             "colorbar": {
              "outlinewidth": 0,
              "ticks": ""
             }
            },
            "type": "scatterpolargl"
           }
          ],
          "scatterternary": [
           {
            "marker": {
             "colorbar": {
              "outlinewidth": 0,
              "ticks": ""
             }
            },
            "type": "scatterternary"
           }
          ],
          "surface": [
           {
            "colorbar": {
             "outlinewidth": 0,
             "ticks": ""
            },
            "colorscale": [
             [
              0,
              "#0d0887"
             ],
             [
              0.1111111111111111,
              "#46039f"
             ],
             [
              0.2222222222222222,
              "#7201a8"
             ],
             [
              0.3333333333333333,
              "#9c179e"
             ],
             [
              0.4444444444444444,
              "#bd3786"
             ],
             [
              0.5555555555555556,
              "#d8576b"
             ],
             [
              0.6666666666666666,
              "#ed7953"
             ],
             [
              0.7777777777777778,
              "#fb9f3a"
             ],
             [
              0.8888888888888888,
              "#fdca26"
             ],
             [
              1,
              "#f0f921"
             ]
            ],
            "type": "surface"
           }
          ],
          "table": [
           {
            "cells": {
             "fill": {
              "color": "#EBF0F8"
             },
             "line": {
              "color": "white"
             }
            },
            "header": {
             "fill": {
              "color": "#C8D4E3"
             },
             "line": {
              "color": "white"
             }
            },
            "type": "table"
           }
          ]
         },
         "layout": {
          "annotationdefaults": {
           "arrowcolor": "#2a3f5f",
           "arrowhead": 0,
           "arrowwidth": 1
          },
          "autotypenumbers": "strict",
          "coloraxis": {
           "colorbar": {
            "outlinewidth": 0,
            "ticks": ""
           }
          },
          "colorscale": {
           "diverging": [
            [
             0,
             "#8e0152"
            ],
            [
             0.1,
             "#c51b7d"
            ],
            [
             0.2,
             "#de77ae"
            ],
            [
             0.3,
             "#f1b6da"
            ],
            [
             0.4,
             "#fde0ef"
            ],
            [
             0.5,
             "#f7f7f7"
            ],
            [
             0.6,
             "#e6f5d0"
            ],
            [
             0.7,
             "#b8e186"
            ],
            [
             0.8,
             "#7fbc41"
            ],
            [
             0.9,
             "#4d9221"
            ],
            [
             1,
             "#276419"
            ]
           ],
           "sequential": [
            [
             0,
             "#0d0887"
            ],
            [
             0.1111111111111111,
             "#46039f"
            ],
            [
             0.2222222222222222,
             "#7201a8"
            ],
            [
             0.3333333333333333,
             "#9c179e"
            ],
            [
             0.4444444444444444,
             "#bd3786"
            ],
            [
             0.5555555555555556,
             "#d8576b"
            ],
            [
             0.6666666666666666,
             "#ed7953"
            ],
            [
             0.7777777777777778,
             "#fb9f3a"
            ],
            [
             0.8888888888888888,
             "#fdca26"
            ],
            [
             1,
             "#f0f921"
            ]
           ],
           "sequentialminus": [
            [
             0,
             "#0d0887"
            ],
            [
             0.1111111111111111,
             "#46039f"
            ],
            [
             0.2222222222222222,
             "#7201a8"
            ],
            [
             0.3333333333333333,
             "#9c179e"
            ],
            [
             0.4444444444444444,
             "#bd3786"
            ],
            [
             0.5555555555555556,
             "#d8576b"
            ],
            [
             0.6666666666666666,
             "#ed7953"
            ],
            [
             0.7777777777777778,
             "#fb9f3a"
            ],
            [
             0.8888888888888888,
             "#fdca26"
            ],
            [
             1,
             "#f0f921"
            ]
           ]
          },
          "colorway": [
           "#636efa",
           "#EF553B",
           "#00cc96",
           "#ab63fa",
           "#FFA15A",
           "#19d3f3",
           "#FF6692",
           "#B6E880",
           "#FF97FF",
           "#FECB52"
          ],
          "font": {
           "color": "#2a3f5f"
          },
          "geo": {
           "bgcolor": "white",
           "lakecolor": "white",
           "landcolor": "#E5ECF6",
           "showlakes": true,
           "showland": true,
           "subunitcolor": "white"
          },
          "hoverlabel": {
           "align": "left"
          },
          "hovermode": "closest",
          "mapbox": {
           "style": "light"
          },
          "paper_bgcolor": "white",
          "plot_bgcolor": "#E5ECF6",
          "polar": {
           "angularaxis": {
            "gridcolor": "white",
            "linecolor": "white",
            "ticks": ""
           },
           "bgcolor": "#E5ECF6",
           "radialaxis": {
            "gridcolor": "white",
            "linecolor": "white",
            "ticks": ""
           }
          },
          "scene": {
           "xaxis": {
            "backgroundcolor": "#E5ECF6",
            "gridcolor": "white",
            "gridwidth": 2,
            "linecolor": "white",
            "showbackground": true,
            "ticks": "",
            "zerolinecolor": "white"
           },
           "yaxis": {
            "backgroundcolor": "#E5ECF6",
            "gridcolor": "white",
            "gridwidth": 2,
            "linecolor": "white",
            "showbackground": true,
            "ticks": "",
            "zerolinecolor": "white"
           },
           "zaxis": {
            "backgroundcolor": "#E5ECF6",
            "gridcolor": "white",
            "gridwidth": 2,
            "linecolor": "white",
            "showbackground": true,
            "ticks": "",
            "zerolinecolor": "white"
           }
          },
          "shapedefaults": {
           "line": {
            "color": "#2a3f5f"
           }
          },
          "ternary": {
           "aaxis": {
            "gridcolor": "white",
            "linecolor": "white",
            "ticks": ""
           },
           "baxis": {
            "gridcolor": "white",
            "linecolor": "white",
            "ticks": ""
           },
           "bgcolor": "#E5ECF6",
           "caxis": {
            "gridcolor": "white",
            "linecolor": "white",
            "ticks": ""
           }
          },
          "title": {
           "x": 0.05
          },
          "xaxis": {
           "automargin": true,
           "gridcolor": "white",
           "linecolor": "white",
           "ticks": "",
           "title": {
            "standoff": 15
           },
           "zerolinecolor": "white",
           "zerolinewidth": 2
          },
          "yaxis": {
           "automargin": true,
           "gridcolor": "white",
           "linecolor": "white",
           "ticks": "",
           "title": {
            "standoff": 15
           },
           "zerolinecolor": "white",
           "zerolinewidth": 2
          }
         }
        }
       }
      }
     },
     "metadata": {},
     "output_type": "display_data"
    }
   ],
   "source": [
    "# Make pie chart \n",
    "map_dict={'negative':'red', 'neutral':'yellow', 'positive':'green'}\n",
    "\n",
    "fig = go.Figure()\n",
    "fig.add_trace(go.Pie(labels=df_sentiment_combined.loc[df_sentiment_combined.country ==\"Nigeria\"].label, values=df_sentiment_combined.loc[df_sentiment_combined.country ==\"Nigeria\"].totals,\n",
    "                 marker_colors = df_sentiment_combined.loc[df_sentiment_combined.country ==\"Nigeria\"].label.map(map_dict)))\n",
    "\n",
    "\n",
    "fig.show()"
   ]
  },
  {
   "cell_type": "code",
   "execution_count": 13,
   "metadata": {},
   "outputs": [
    {
     "data": {
      "image/png": "[encoded data removed]",
      "text/plain": [
       "<IPython.core.display.Image object>"
      ]
     },
     "execution_count": 13,
     "metadata": {},
     "output_type": "execute_result"
    }
   ],
   "source": [
    "# Display Output in production\n",
    "img_bytes = fig.to_image(format=\"png\")\n",
    "from IPython.display import Image\n",
    "Image(img_bytes)"
   ]
  },
  {
   "cell_type": "code",
   "execution_count": 14,
   "metadata": {},
   "outputs": [
    {
     "data": {
      "application/vnd.plotly.v1+json": {
       "config": {
        "plotlyServerURL": "https://plot.ly"
       },
       "data": [
        {
         "cells": {
          "align": "left",
          "fill": {
           "color": "lightcyan"
          },
          "line": {
           "color": "darkslategray"
          },
          "values": [
           [
            "Nigeria",
            "Nigeria",
            "Nigeria",
            "Nigeria",
            "Nigeria",
            "Nigeria",
            "Nigeria",
            "Nigeria",
            "Nigeria",
            "Nigeria",
            "Nigeria",
            "Nigeria",
            "Nigeria",
            "Nigeria",
            "Nigeria",
            "Nigeria",
            "Nigeria",
            "Nigeria",
            "Nigeria",
            "Nigeria",
            "Nigeria",
            "Nigeria",
            "Nigeria",
            "Nigeria",
            "Nigeria",
            "Nigeria",
            "Nigeria",
            "Nigeria",
            "Nigeria",
            "Nigeria",
            "Nigeria",
            "Nigeria",
            "Nigeria",
            "Nigeria",
            "Nigeria",
            "Nigeria",
            "Nigeria",
            "Nigeria",
            "Nigeria",
            "Nigeria",
            "Nigeria",
            "Nigeria",
            "Nigeria",
            "Nigeria",
            "Nigeria",
            "Nigeria",
            "Nigeria",
            "Nigeria",
            "Nigeria",
            "Nigeria",
            "Nigeria",
            "Nigeria",
            "Nigeria",
            "Nigeria",
            "Nigeria",
            "Nigeria",
            "Nigeria",
            "Nigeria",
            "Nigeria",
            "Nigeria",
            "Nigeria",
            "Nigeria",
            "Nigeria",
            "Nigeria",
            "Nigeria",
            "Nigeria",
            "Nigeria",
            "Nigeria",
            "Nigeria",
            "Nigeria",
            "Nigeria",
            "Nigeria",
            "Nigeria",
            "Nigeria",
            "Nigeria",
            "Nigeria",
            "Nigeria",
            "Nigeria",
            "Nigeria",
            "Nigeria",
            "Nigeria",
            "Nigeria",
            "Nigeria",
            "Nigeria",
            "Nigeria",
            "Nigeria",
            "Nigeria",
            "Nigeria",
            "Nigeria",
            "Nigeria",
            "Nigeria",
            "Nigeria",
            "Nigeria",
            "Nigeria",
            "Nigeria",
            "Nigeria",
            "Nigeria",
            "Nigeria",
            "Nigeria",
            "Nigeria",
            "Nigeria",
            "Nigeria",
            "Nigeria",
            "Nigeria",
            "Nigeria",
            "Nigeria",
            "Nigeria",
            "Nigeria",
            "Nigeria",
            "Nigeria",
            "Nigeria",
            "Nigeria",
            "Nigeria",
            "Nigeria",
            "Nigeria",
            "Nigeria",
            "Nigeria",
            "Nigeria",
            "Nigeria",
            "Nigeria"
           ],
           [
            "@user Hmhmhm 🤔🤔 ban yardaba",
            "shiyasa naga hausawa duk makafi ne",
            "innalillahi wainna ilaihirrajiun el~rufai kaine da wannan maganar lallae kun bani mamaki muje zuwa akwai allah wlh bazaku taajin rayuwar duniya ba in har baku sauke nauyin alkawarin da kuka daukawa talakawa ba don tun wuri ku dawo garemu",
            "imagine years girl raped by persons over month ayam sorry to asked like how kidnapping dinta sukayi suka daureta daki over month kokuwa plz dan allah inason qarin haske",
            "@user Saboda sunsan babu cutar qarya ne... To meyasa zaku takura kansu 😅😅",
            "@user Duk sekunci buraubanku lahira badebaku bariba koh 🤪🤪🤪",
            "@user YDG wannan batun haka take 👬👪😖😟 ta shafi inda muke, musamman ma yara yan gudun hijira babu uwa babu uba, sai ta Allah rayuwan su😭😭",
            "wlh ko ni aka kai a makaranta guda zan iya kama mutun amma kaji wani aikin banza wai mutun",
            "@user @user Gaskiya kin daura Karen ki a rana wlhy... 🙄🙄🙄",
            "@user Ansace karfe 11 na dare amma kuma wai da uniform ajikinsu kai Ana shegiya a kasarnan!🤔🤔😄",
            "@user Yasin saina fada kayi aure😂😂😂",
            "@user Amma kowa zai iya karba Dollar 💵?",
            "@user @user @user @user @user @user @user @user @user @user @user Haba @user wannan tambaya haka kakar taje chan😂",
            "@user Yar Sambo tayi yawa ciki....😂😂😂",
            "@user Dan Allah in masarar tay dusa atemaka akawomana Masha dan malele ko danbu🙄😎",
            "@user Dan allah kiyi. Na tuna time dinda kika shigo kannywood self😂💔. Talk less of 10 years😂😂😉",
            "@user Wuka Bata fasa shi 🤣",
            "@user https://t.co/2nvwLp1cls 💰💰💰💰💰💰💰💰💰💰💰💰💰🤑🤑🤑🤑Your Referral Link is: https://t.co/wXgNMISsiy Registration 1500 ne 💰💰💰💰💰💰💰 *Zasu barma 500 aciki Kuma duk Wanda yayi register akasanka zasu baka 500 kan ko wane mutum datar su tana da sauki sosai*",
            "@user An yi masa ritaya dai 💀",
            "@user Bbu komai. Amman Ni anawa shawarar dazan baka shine: gwanda acigaba da gudanar da shirin a Arewa24 saboda mutane dayawa a tashar suke kallo. Inkuma akamayarsa wata tashar bakowa bane zaicigaba da kallo✨✨",
            "@user Babu shugaba da ya kai Baba Buhari gaskiya da tausayin talakawa, cigaba da gashi tsoho Dan Daura.😁🏃",
            "@user Shikenan, a sanina a tsarin musulunci idan mutun daya yace ya yafe tun shikenan a nan duniya, sai dai anzo lafira wannan tsakani da Allah.Allah yasa mu gane, ya qara karemu daga miyagun qaddarore.Ameen 🙏",
            "@user Kaii 😳 Allah yasa ba ziyarar gani da Ido yazo ba https://t.co/jochgAmNih",
            "allah ya kawo karshen wannan tashin hankali wlh gaba yan nijeriya wasun mu bama kyautawa yanz menen amfanin tashin hankali da zubar da jini kaico allah ya shiryemu",
            "@user Allah yasa muna cikin masu kai karshen 2021, itama. 🤗🤗👍",
            "toh mun godewa allah",
            "@user Masha Allahu, wannan cigaba Allah ta kara kawo mana irin shi, duk su karar da kansu🙏🙏🙏",
            "@user Sai a gyara idan anaso Allah yayi keeping naku safe 😂",
            "@user Allah yaji qansu da rahama🤲",
            "@user Yauwa bbchausa barka mu da Sha ruwa 🍉",
            "@user @user Mgbirigbo onye ntị ike 😂😂",
            "sis odikwa egwu ooo",
            "@user @user @user Ndi na ta anu madu 🏃",
            "@user Na how future take enter for verse 2 na ein mad pass ooh.. Dah \"\"\"\"Iberibe na-enye onye ara morale\"\"\"\"....dah line na bomb🎶🎶🎶🔥🔥🙌🙌🙌",
            "mu na gi gaebi love gi agbakalam isi oooooo on point festac",
            "@user Lol... Ihe nke a di egwu",
            "emeka gi na mrs trouble ‍️‍️‍️",
            "@user @user @user @user 🤣 🤣 🤣 Nna ehhh, ife nkea ọ diro gi egwu. All the bullets I'm firing na atụ na ogwe.",
            "@user N'ya dodoya na ọnụ amụ",
            "@user One Nigeria gbasaa gi azu ike😅😏",
            "@user Ndu wu onu nmiri (pigin igbo)",
            "@user @user Kai, try na... Ọ bụrụ godu naanị otu(just one)",
            "So @user is the issue??? You never see anything oh Maka ntiye Uku Na the away, Unu ga fuzi nwanyi Ocha part 2 Mgbada ebe Nile",
            "mu nke a‍️‍️",
            "ngwa pass oo",
            "@user @user Chai, nwa afo",
            "shebi it was celebs that were trending ur freedom hashtag ba continuemgbe o ga a da i mara na a naghi a gwa o chi nti na agha e su mgbada",
            "@user Aku ruo ulo amara ebe osi bia.....Ship to Naija",
            "okwa tata ka m ntiyere engagement ring ya na fridge nyem ohere ozo kam nhandluo obi gi with caution ️️",
            "Bia ka m yelu gi akwa and bread https://t.co/3U7Fwx0Agi",
            "@user Mazi, Omere ora 1 ! Udodiri gi, Biko mere m Ka imere ibem Ka Obi Di mu MMA. God bless you plenty. Amen.",
            "@user Nne biko jukwa ya nke oma😁",
            "@user @user @user @user Ka chukwu mezie okwu 🙏🏾🙏🏾",
            "@user @user A hurum gi na anya",
            "I bu chi mo o i bu chi ibu chi mo o onye m ji eme onu ehh \"\"🎤🎤🎤|||| One music",
            "Everyday, I thank God I was born into the Igbo tribe. Échichè ahụ n'enye anwuli ná óbị",
            "Aga mu ako ihe chukwu mere mu n'elu uwa, Ihunanya Chineke karisia solumtochukwu 🙌🙌🙌",
            "@user Daalu Onye Ezigbo",
            "@user Na chineke ka okukeme di.",
            "onye ibongejisi ike o",
            "dat even small some elderly ppl will jst come from no where nd blike my son am rushing to church can i please blah blahi will kuku let dem use out of my time b dem use ma destiny play ping pong its annoyning",
            "so we are almost done with how much did you save abi i should mind my business me sef wey dey tweet like this need money die",
            "this one don finish eba she con de serve hot looks if you dont geddifok",
            "so na wetin start the quarrel be that",
            "was dem don lock am who unlock am sef me i no dey see road again oh",
            "the amount of coconut water i have had in this life time i should be on a zero iq if according to my people e nor dey make pikin get sense some myth",
            "i nor even understandna she n person dey fight",
            "na who get sponsors dey go school na street i dey full time",
            "baba turn a whole contry to babe wey dem dey woo allow me to prove to you that boy if you dont you want to use us to collect extra sheet that you wont use they will waste your time they will prove to you carry your desire and go abeggi",
            "this one don wash hand comot for anything wey concern heavenly race",
            "na who dey alive dey apply for visa",
            "dis drama na na dey package am while na dey fund am you can listen via",
            "omo this one dey real if na you be the guy what next",
            "for and to take nigeria to the next level people are ready to cast their votes even with their bloods not ink as usual dem no dey buy integrity dem for buyam from dubai nah",
            "wetin e be na tell me",
            "sheybi na film na ‍️",
            "make messi con perform and win trophies make e collect th balon dor next year the tears go dey immense",
            "if dem born you for nigeria automatically life don dey ahead of if you come fall for poor family if you come be first born paddy take life jejena money dey make normal problem be like spiritual problem",
            "this was what a lady told a guy that they had planned to get married together o baba dey hustle big time and na only chop money baba still dey see though with good future sha but babe said he should be saving for marriage o and baba was like how",
            "e con be like say na final match dem play",
            "e better like that make you no dey resemble pregnant woman",
            "u people should pls stop acting dis way u don pass dis level of abusing each other relaxchill and continue chasing ur dreams pls",
            "chai see my friend️️️ pesin pikin",
            "wahala dey all dis world now n even nig is not left out ha ha banger keea",
            "their love i want my own simi this im serious o marriage don dey hungry me",
            "na person wey look face dey see gorgeous eyes",
            "abeg all of una wey dey do brazilian waxing how una dey take do am i wanted to die was legit crying i told dem to stop half way i wld use veet to remove d rest mi o le wa ku",
            "abeg incase una see masquerade wey dey over dance na me oooo i dey hustle my transport back to abuja",
            "we wan appreciate for all the work wey e do for manchester united years no be beans ️ we go miss am na leader one way",
            "bros nor b small thing oooo na so na to dey buy am small small win am ooo",
            "Ọrọ̀, owó, Ajé ni ọ̀kan gbòógì ọ̀darànmọràn tí ó dá ìṣòro tí ó wà nílẹ̀ yìí sílẹ̀. Àwọn aṣebi, olubi àti aríjẹ nídìí mọ̀dàrú tí ó di ipò ilé ayé mú ò náání àlàáfíà ara àti ìgbé ayé tó lẹ́tikẹ fún ọmọ aráyé, ìfẹ́ ara wọn nìkan ni wọ́n mọ́. Ayé ń rí rúdurùdu.",
            "Omoose gomina @user lu osise abe re lalubami l'Ondo - Alaroye",
            "Wọ́n pa ẹni méjì #APC #EkitiDecides2014 :(",
            "@user: @user - Femi fani Kayode ni\"\"\"\" o ní yẹ̀yẹ́ :)",
            "Olórí #Bokoharam #Shekau ní òun yóò ta àwọn ọmọdébìnrin tó wà ní àkàtà òun | #BringBackOurGirls",
            "ráńṣẹ́ sí àwọn ẹ̀gbá láti ti ọwọ́ ọmọ wọn bọ aṣọ kí wọ́n padà sí ìlú wọn ajá ní ń wí ẹran ní ń sọ̀rọ̀ ni àwọn ẹ̀gbá fi ọ̀rọ̀ ìjọba britain ṣìí àbùkù ò ní ilé ibikíbi nií ti ń dé bá ni lálejò ni ìjọba britain fi èsì ẹ̀gbá ṣe ní britain bá gbé",
            "Ìbọn t'ó wọ ìlú \"\"\"\"\"\"\"\"ẹ̀bá ọ̀dán\"\"\"\"\"\"\"\" ò ṣẹ̀hìn obìnrin alágídí yìí. Ní 1872, #IyalodeIbadan yá ọmọ ogun Ìbàdàn ní ìhámọ́ra ogun.",
            "awon onigbeseonijekujeoninakuna apa gbèsè orílẹ̀ tó kù díẹ̀ ká san tán láíyé ọbásanjọ́ ni wọ́n ti",
            "... a jẹ́ wípé ọ̀hún ò rọgbọ, tàbí iṣẹ́ náà ò mú èsì rere bọ̀. #Ejanbakan #AkanloEde #YorubaQnA #idahun #Ibeere @user",
            "@user @user Ẹ kilọ fun google koma yimi lohun pada mọ o.",
            "Onírè ńkọ́? Ta ni onírè? @user #Ibeere #yoruba",
            "oògùn eyín ọmọọwọ́ ọ̀kanòjọ̀kan ọ̀nà ni àwọn yorùbá fi máa ń wo ìrora eyín ọmọ ìkókó lára wọn ni a ti rí orí àdán",
            "àtẹ́lẹwọ́ book reading resumes tonight on zoom by pm nigerian time for facebook live ẹ darapọ̀ mọ́ wa",
            "7. Yàtọ̀ sí ìbẹ́ta, orúkọ àmútọ̀runwá wo ni à ń pe ọmọ mẹ́ta tí a bí papọ̀? #Ibeere #Yoruba #learnyoruba #language #speakyoruba #MotherTongueDay https://t.co/Al48MtWRYS",
            "Ajé; meaning -► Monday. Ajé -► money. Ajé -► god of wealth/money. Ajé; ẹran bíi ìka kékeré t'ó súyọ lára ìka ọmọńdirín. #InYoruba",
            "a ó gbo ewé ifin sínú igbá a ó fi ẹfun sí í obìnrin olóyún á máa mu ún ń wákàtí wákàtí",
            "B. Ìgèrè ni apẹ̀rẹ̀ tí a fi ń mú ẹja lódò. Ó yàtọ̀ sí àwọ̀n. https://t.co/V5kW5HX73O",
            "RT @user: ORÍKÌ ÒGÚN Ògún lákáayé, ọṣìn mọlẹ̀, Onílé kángun kàngun ọ̀run, Ò ní omi nílé, ó fi ẹ̀jẹ̀ wẹ̀, Ò ní aṣọ nílé, ó fi imò b…",
            "àkísà lògbà rí jàlàbíyà ni láyé ìgbà kan àmọ́ àbáyà tún ni wọ́n ń gba wèrèe rẹ̀ báyìí gbogbo rẹ̀ ṣá ló ń yà",
            "kí la nfi àgádágodo ṣe",
            "Ọ̀rẹ́ mi :) a kú òpin ọ̀sẹ̀. Iṣẹ́ á gbè wá, a ò ní ṣe ṣe ṣe. Ẹ kú iṣẹ́ o, á dára#Lagos#Ondo#OyoState#Ekiti#Ogun#Kwara",
            "mo ti ri o e se mo dupe",
            "èmi ni ìkòròdú ọmọ ọ̀gà ọmọ ẹ̀lúkú mẹdẹ́n mẹdẹ́n ọmọ ẹ̀lúkú mẹdẹ̀n mẹdẹ̀n ọmọ afínjú jẹ̀bú rè fọmọrẹ̀ japènà ̀bá",
            "RT @user: Ọlọ́run tó ńse'bẹ̀, kò tí ì kúrò ní ìdí ààrò. / God who is cooking the soup, has not left the kitchen. [Keep hope aliv…",
            "Bí o bá fẹ́ 🧠 ọpọlọ t'ó jí pépé, bí o bá fẹ́ kí iyè rẹ ó máa là gààrà ńgbà 'ogbo, rẹ ewé ẹ̀là sómi kí o máa mu ú. #Ewe #herbs #Yoruba https://t.co/r15lUtJQ4t",
            "Àsé ijó be lésè àwon \"\"\"\"\"\"\"\"super-excited-to-discuss-with-google's-CEO\"\"\"\"\"\"\"\" náà #TweetInYoruba https://t.co/5mRSCKqOgq",
            "@user Ọlọ́run ṣeun. Ara wá le o.",
            "Ìjàgbara. K'á jára wa gbà lọ́wọ́ọ ìdárú-dàápọ̀ ńlẹ̀ yìí. Kí a sọ fún un pé \"\"\"\"\"\"\"\"ó tó gẹ́!\"\"\"\"\"\"\"\" #Nigeria2015",
            "Èyí ga o, mo fẹ́ràn an rẹ̀. Ó mú mi rántí abúlé. Ẹ kú iṣẹ́ :) @user #Yoruba http://t.co/Eozz3wjVzo",
            "Onise iyanu,(Miracle worker) Onise ara,(Wonderful) Onise nla,(Great God) Mimo, Mimo, Mimo,(Holy! Holy! Holy) Oba t’o ninu mimo,(Righteous God) Oba alaya funfun,(Immaculate God) Not gonna lie.. praising God in #Yoruba sounds a lot more fun 😄 #CelestialWeekly #ProudlyCelestian"
           ],
           [
            "negative",
            "negative",
            "negative",
            "negative",
            "negative",
            "negative",
            "negative",
            "negative",
            "negative",
            "negative",
            "neutral",
            "neutral",
            "neutral",
            "neutral",
            "neutral",
            "neutral",
            "neutral",
            "neutral",
            "neutral",
            "neutral",
            "positive",
            "positive",
            "positive",
            "positive",
            "positive",
            "positive",
            "positive",
            "positive",
            "positive",
            "positive",
            "negative",
            "negative",
            "negative",
            "negative",
            "negative",
            "negative",
            "negative",
            "negative",
            "negative",
            "negative",
            "neutral",
            "neutral",
            "neutral",
            "neutral",
            "neutral",
            "neutral",
            "neutral",
            "neutral",
            "neutral",
            "neutral",
            "positive",
            "positive",
            "positive",
            "positive",
            "positive",
            "positive",
            "positive",
            "positive",
            "positive",
            "positive",
            "negative",
            "negative",
            "negative",
            "negative",
            "negative",
            "negative",
            "negative",
            "negative",
            "negative",
            "negative",
            "neutral",
            "neutral",
            "neutral",
            "neutral",
            "neutral",
            "neutral",
            "neutral",
            "neutral",
            "neutral",
            "neutral",
            "positive",
            "positive",
            "positive",
            "positive",
            "positive",
            "positive",
            "positive",
            "positive",
            "positive",
            "positive",
            "negative",
            "negative",
            "negative",
            "negative",
            "negative",
            "negative",
            "negative",
            "negative",
            "negative",
            "negative",
            "neutral",
            "neutral",
            "neutral",
            "neutral",
            "neutral",
            "neutral",
            "neutral",
            "neutral",
            "neutral",
            "neutral",
            "positive",
            "positive",
            "positive",
            "positive",
            "positive",
            "positive",
            "positive",
            "positive",
            "positive",
            "positive"
           ]
          ]
         },
         "header": {
          "align": "center",
          "fill": {
           "color": "lightskyblue"
          },
          "font": {
           "color": "black",
           "size": 12
          },
          "line": {
           "color": "darkslategray"
          },
          "values": [
           "country",
           "tweet",
           "label"
          ]
         },
         "type": "table"
        }
       ],
       "layout": {
        "template": {
         "data": {
          "bar": [
           {
            "error_x": {
             "color": "#2a3f5f"
            },
            "error_y": {
             "color": "#2a3f5f"
            },
            "marker": {
             "line": {
              "color": "#E5ECF6",
              "width": 0.5
             },
             "pattern": {
              "fillmode": "overlay",
              "size": 10,
              "solidity": 0.2
             }
            },
            "type": "bar"
           }
          ],
          "barpolar": [
           {
            "marker": {
             "line": {
              "color": "#E5ECF6",
              "width": 0.5
             },
             "pattern": {
              "fillmode": "overlay",
              "size": 10,
              "solidity": 0.2
             }
            },
            "type": "barpolar"
           }
          ],
          "carpet": [
           {
            "aaxis": {
             "endlinecolor": "#2a3f5f",
             "gridcolor": "white",
             "linecolor": "white",
             "minorgridcolor": "white",
             "startlinecolor": "#2a3f5f"
            },
            "baxis": {
             "endlinecolor": "#2a3f5f",
             "gridcolor": "white",
             "linecolor": "white",
             "minorgridcolor": "white",
             "startlinecolor": "#2a3f5f"
            },
            "type": "carpet"
           }
          ],
          "choropleth": [
           {
            "colorbar": {
             "outlinewidth": 0,
             "ticks": ""
            },
            "type": "choropleth"
           }
          ],
          "contour": [
           {
            "colorbar": {
             "outlinewidth": 0,
             "ticks": ""
            },
            "colorscale": [
             [
              0,
              "#0d0887"
             ],
             [
              0.1111111111111111,
              "#46039f"
             ],
             [
              0.2222222222222222,
              "#7201a8"
             ],
             [
              0.3333333333333333,
              "#9c179e"
             ],
             [
              0.4444444444444444,
              "#bd3786"
             ],
             [
              0.5555555555555556,
              "#d8576b"
             ],
             [
              0.6666666666666666,
              "#ed7953"
             ],
             [
              0.7777777777777778,
              "#fb9f3a"
             ],
             [
              0.8888888888888888,
              "#fdca26"
             ],
             [
              1,
              "#f0f921"
             ]
            ],
            "type": "contour"
           }
          ],
          "contourcarpet": [
           {
            "colorbar": {
             "outlinewidth": 0,
             "ticks": ""
            },
            "type": "contourcarpet"
           }
          ],
          "heatmap": [
           {
            "colorbar": {
             "outlinewidth": 0,
             "ticks": ""
            },
            "colorscale": [
             [
              0,
              "#0d0887"
             ],
             [
              0.1111111111111111,
              "#46039f"
             ],
             [
              0.2222222222222222,
              "#7201a8"
             ],
             [
              0.3333333333333333,
              "#9c179e"
             ],
             [
              0.4444444444444444,
              "#bd3786"
             ],
             [
              0.5555555555555556,
              "#d8576b"
             ],
             [
              0.6666666666666666,
              "#ed7953"
             ],
             [
              0.7777777777777778,
              "#fb9f3a"
             ],
             [
              0.8888888888888888,
              "#fdca26"
             ],
             [
              1,
              "#f0f921"
             ]
            ],
            "type": "heatmap"
           }
          ],
          "heatmapgl": [
           {
            "colorbar": {
             "outlinewidth": 0,
             "ticks": ""
            },
            "colorscale": [
             [
              0,
              "#0d0887"
             ],
             [
              0.1111111111111111,
              "#46039f"
             ],
             [
              0.2222222222222222,
              "#7201a8"
             ],
             [
              0.3333333333333333,
              "#9c179e"
             ],
             [
              0.4444444444444444,
              "#bd3786"
             ],
             [
              0.5555555555555556,
              "#d8576b"
             ],
             [
              0.6666666666666666,
              "#ed7953"
             ],
             [
              0.7777777777777778,
              "#fb9f3a"
             ],
             [
              0.8888888888888888,
              "#fdca26"
             ],
             [
              1,
              "#f0f921"
             ]
            ],
            "type": "heatmapgl"
           }
          ],
          "histogram": [
           {
            "marker": {
             "pattern": {
              "fillmode": "overlay",
              "size": 10,
              "solidity": 0.2
             }
            },
            "type": "histogram"
           }
          ],
          "histogram2d": [
           {
            "colorbar": {
             "outlinewidth": 0,
             "ticks": ""
            },
            "colorscale": [
             [
              0,
              "#0d0887"
             ],
             [
              0.1111111111111111,
              "#46039f"
             ],
             [
              0.2222222222222222,
              "#7201a8"
             ],
             [
              0.3333333333333333,
              "#9c179e"
             ],
             [
              0.4444444444444444,
              "#bd3786"
             ],
             [
              0.5555555555555556,
              "#d8576b"
             ],
             [
              0.6666666666666666,
              "#ed7953"
             ],
             [
              0.7777777777777778,
              "#fb9f3a"
             ],
             [
              0.8888888888888888,
              "#fdca26"
             ],
             [
              1,
              "#f0f921"
             ]
            ],
            "type": "histogram2d"
           }
          ],
          "histogram2dcontour": [
           {
            "colorbar": {
             "outlinewidth": 0,
             "ticks": ""
            },
            "colorscale": [
             [
              0,
              "#0d0887"
             ],
             [
              0.1111111111111111,
              "#46039f"
             ],
             [
              0.2222222222222222,
              "#7201a8"
             ],
             [
              0.3333333333333333,
              "#9c179e"
             ],
             [
              0.4444444444444444,
              "#bd3786"
             ],
             [
              0.5555555555555556,
              "#d8576b"
             ],
             [
              0.6666666666666666,
              "#ed7953"
             ],
             [
              0.7777777777777778,
              "#fb9f3a"
             ],
             [
              0.8888888888888888,
              "#fdca26"
             ],
             [
              1,
              "#f0f921"
             ]
            ],
            "type": "histogram2dcontour"
           }
          ],
          "mesh3d": [
           {
            "colorbar": {
             "outlinewidth": 0,
             "ticks": ""
            },
            "type": "mesh3d"
           }
          ],
          "parcoords": [
           {
            "line": {
             "colorbar": {
              "outlinewidth": 0,
              "ticks": ""
             }
            },
            "type": "parcoords"
           }
          ],
          "pie": [
           {
            "automargin": true,
            "type": "pie"
           }
          ],
          "scatter": [
           {
            "fillpattern": {
             "fillmode": "overlay",
             "size": 10,
             "solidity": 0.2
            },
            "type": "scatter"
           }
          ],
          "scatter3d": [
           {
            "line": {
             "colorbar": {
              "outlinewidth": 0,
              "ticks": ""
             }
            },
            "marker": {
             "colorbar": {
              "outlinewidth": 0,
              "ticks": ""
             }
            },
            "type": "scatter3d"
           }
          ],
          "scattercarpet": [
           {
            "marker": {
             "colorbar": {
              "outlinewidth": 0,
              "ticks": ""
             }
            },
            "type": "scattercarpet"
           }
          ],
          "scattergeo": [
           {
            "marker": {
             "colorbar": {
              "outlinewidth": 0,
              "ticks": ""
             }
            },
            "type": "scattergeo"
           }
          ],
          "scattergl": [
           {
            "marker": {
             "colorbar": {
              "outlinewidth": 0,
              "ticks": ""
             }
            },
            "type": "scattergl"
           }
          ],
          "scattermapbox": [
           {
            "marker": {
             "colorbar": {
              "outlinewidth": 0,
              "ticks": ""
             }
            },
            "type": "scattermapbox"
           }
          ],
          "scatterpolar": [
           {
            "marker": {
             "colorbar": {
              "outlinewidth": 0,
              "ticks": ""
             }
            },
            "type": "scatterpolar"
           }
          ],
          "scatterpolargl": [
           {
            "marker": {
             "colorbar": {
              "outlinewidth": 0,
              "ticks": ""
             }
            },
            "type": "scatterpolargl"
           }
          ],
          "scatterternary": [
           {
            "marker": {
             "colorbar": {
              "outlinewidth": 0,
              "ticks": ""
             }
            },
            "type": "scatterternary"
           }
          ],
          "surface": [
           {
            "colorbar": {
             "outlinewidth": 0,
             "ticks": ""
            },
            "colorscale": [
             [
              0,
              "#0d0887"
             ],
             [
              0.1111111111111111,
              "#46039f"
             ],
             [
              0.2222222222222222,
              "#7201a8"
             ],
             [
              0.3333333333333333,
              "#9c179e"
             ],
             [
              0.4444444444444444,
              "#bd3786"
             ],
             [
              0.5555555555555556,
              "#d8576b"
             ],
             [
              0.6666666666666666,
              "#ed7953"
             ],
             [
              0.7777777777777778,
              "#fb9f3a"
             ],
             [
              0.8888888888888888,
              "#fdca26"
             ],
             [
              1,
              "#f0f921"
             ]
            ],
            "type": "surface"
           }
          ],
          "table": [
           {
            "cells": {
             "fill": {
              "color": "#EBF0F8"
             },
             "line": {
              "color": "white"
             }
            },
            "header": {
             "fill": {
              "color": "#C8D4E3"
             },
             "line": {
              "color": "white"
             }
            },
            "type": "table"
           }
          ]
         },
         "layout": {
          "annotationdefaults": {
           "arrowcolor": "#2a3f5f",
           "arrowhead": 0,
           "arrowwidth": 1
          },
          "autotypenumbers": "strict",
          "coloraxis": {
           "colorbar": {
            "outlinewidth": 0,
            "ticks": ""
           }
          },
          "colorscale": {
           "diverging": [
            [
             0,
             "#8e0152"
            ],
            [
             0.1,
             "#c51b7d"
            ],
            [
             0.2,
             "#de77ae"
            ],
            [
             0.3,
             "#f1b6da"
            ],
            [
             0.4,
             "#fde0ef"
            ],
            [
             0.5,
             "#f7f7f7"
            ],
            [
             0.6,
             "#e6f5d0"
            ],
            [
             0.7,
             "#b8e186"
            ],
            [
             0.8,
             "#7fbc41"
            ],
            [
             0.9,
             "#4d9221"
            ],
            [
             1,
             "#276419"
            ]
           ],
           "sequential": [
            [
             0,
             "#0d0887"
            ],
            [
             0.1111111111111111,
             "#46039f"
            ],
            [
             0.2222222222222222,
             "#7201a8"
            ],
            [
             0.3333333333333333,
             "#9c179e"
            ],
            [
             0.4444444444444444,
             "#bd3786"
            ],
            [
             0.5555555555555556,
             "#d8576b"
            ],
            [
             0.6666666666666666,
             "#ed7953"
            ],
            [
             0.7777777777777778,
             "#fb9f3a"
            ],
            [
             0.8888888888888888,
             "#fdca26"
            ],
            [
             1,
             "#f0f921"
            ]
           ],
           "sequentialminus": [
            [
             0,
             "#0d0887"
            ],
            [
             0.1111111111111111,
             "#46039f"
            ],
            [
             0.2222222222222222,
             "#7201a8"
            ],
            [
             0.3333333333333333,
             "#9c179e"
            ],
            [
             0.4444444444444444,
             "#bd3786"
            ],
            [
             0.5555555555555556,
             "#d8576b"
            ],
            [
             0.6666666666666666,
             "#ed7953"
            ],
            [
             0.7777777777777778,
             "#fb9f3a"
            ],
            [
             0.8888888888888888,
             "#fdca26"
            ],
            [
             1,
             "#f0f921"
            ]
           ]
          },
          "colorway": [
           "#636efa",
           "#EF553B",
           "#00cc96",
           "#ab63fa",
           "#FFA15A",
           "#19d3f3",
           "#FF6692",
           "#B6E880",
           "#FF97FF",
           "#FECB52"
          ],
          "font": {
           "color": "#2a3f5f"
          },
          "geo": {
           "bgcolor": "white",
           "lakecolor": "white",
           "landcolor": "#E5ECF6",
           "showlakes": true,
           "showland": true,
           "subunitcolor": "white"
          },
          "hoverlabel": {
           "align": "left"
          },
          "hovermode": "closest",
          "mapbox": {
           "style": "light"
          },
          "paper_bgcolor": "white",
          "plot_bgcolor": "#E5ECF6",
          "polar": {
           "angularaxis": {
            "gridcolor": "white",
            "linecolor": "white",
            "ticks": ""
           },
           "bgcolor": "#E5ECF6",
           "radialaxis": {
            "gridcolor": "white",
            "linecolor": "white",
            "ticks": ""
           }
          },
          "scene": {
           "xaxis": {
            "backgroundcolor": "#E5ECF6",
            "gridcolor": "white",
            "gridwidth": 2,
            "linecolor": "white",
            "showbackground": true,
            "ticks": "",
            "zerolinecolor": "white"
           },
           "yaxis": {
            "backgroundcolor": "#E5ECF6",
            "gridcolor": "white",
            "gridwidth": 2,
            "linecolor": "white",
            "showbackground": true,
            "ticks": "",
            "zerolinecolor": "white"
           },
           "zaxis": {
            "backgroundcolor": "#E5ECF6",
            "gridcolor": "white",
            "gridwidth": 2,
            "linecolor": "white",
            "showbackground": true,
            "ticks": "",
            "zerolinecolor": "white"
           }
          },
          "shapedefaults": {
           "line": {
            "color": "#2a3f5f"
           }
          },
          "ternary": {
           "aaxis": {
            "gridcolor": "white",
            "linecolor": "white",
            "ticks": ""
           },
           "baxis": {
            "gridcolor": "white",
            "linecolor": "white",
            "ticks": ""
           },
           "bgcolor": "#E5ECF6",
           "caxis": {
            "gridcolor": "white",
            "linecolor": "white",
            "ticks": ""
           }
          },
          "title": {
           "x": 0.05
          },
          "xaxis": {
           "automargin": true,
           "gridcolor": "white",
           "linecolor": "white",
           "ticks": "",
           "title": {
            "standoff": 15
           },
           "zerolinecolor": "white",
           "zerolinewidth": 2
          },
          "yaxis": {
           "automargin": true,
           "gridcolor": "white",
           "linecolor": "white",
           "ticks": "",
           "title": {
            "standoff": 15
           },
           "zerolinecolor": "white",
           "zerolinewidth": 2
          }
         }
        }
       }
      }
     },
     "metadata": {},
     "output_type": "display_data"
    }
   ],
   "source": [
    "# Make the tabular data\n",
    "\n",
    "fig = go.Figure()\n",
    "fig.add_trace(go.Table(\n",
    "  header=dict(\n",
    "    values=[\"country\",\"tweet\",\"label\"],\n",
    "    line_color='darkslategray',\n",
    "    fill_color='lightskyblue',\n",
    "    align='center', font=dict(color='black', size=12)\n",
    "  ),\n",
    "\n",
    "  cells=dict(values=[df_language_combined.loc[df_language_combined.country ==\"Nigeria\"].country,df_language_combined.loc[df_language_combined.country ==\"Nigeria\"].tweet,df_language_combined.loc[df_language_combined.country ==\"Nigeria\"].label], \n",
    "               line_color='darkslategray',\n",
    "               fill_color='lightcyan',\n",
    "               align='left'))\n",
    ")\n",
    "\n",
    "fig.show()"
   ]
  },
  {
   "cell_type": "code",
   "execution_count": 15,
   "metadata": {},
   "outputs": [
    {
     "data": {
      "image/png": "[encoded data removed]",
      "text/plain": [
       "<IPython.core.display.Image object>"
      ]
     },
     "execution_count": 15,
     "metadata": {},
     "output_type": "execute_result"
    }
   ],
   "source": [
    "# Display Output in production\n",
    "img_bytes = fig.to_image(format=\"png\")\n",
    "from IPython.display import Image\n",
    "Image(img_bytes)"
   ]
  },
  {
   "cell_type": "code",
   "execution_count": 16,
   "metadata": {},
   "outputs": [
    {
     "data": {
      "application/vnd.plotly.v1+json": {
       "config": {
        "plotlyServerURL": "https://plot.ly"
       },
       "data": [
        {
         "domain": {
          "x": [
           0,
           1
          ],
          "y": [
           0.515,
           1
          ]
         },
         "labels": [
          "negative",
          "neutral",
          "positive",
          "negative",
          "neutral",
          "positive",
          "negative",
          "neutral",
          "positive",
          "negative",
          "neutral",
          "positive"
         ],
         "marker": {
          "colors": [
           "red",
           "yellow",
           "green",
           "red",
           "yellow",
           "green",
           "red",
           "yellow",
           "green",
           "red",
           "yellow",
           "green"
          ]
         },
         "type": "pie",
         "values": [
          7226,
          7597,
          7329,
          4013,
          6940,
          4762,
          6380,
          524,
          3652,
          3296,
          5487,
          6344
         ]
        },
        {
         "cells": {
          "align": "left",
          "fill": {
           "color": "lightcyan"
          },
          "line": {
           "color": "darkslategray"
          },
          "values": [
           [
            "Nigeria",
            "Nigeria",
            "Nigeria",
            "Nigeria",
            "Nigeria",
            "Nigeria",
            "Nigeria",
            "Nigeria",
            "Nigeria",
            "Nigeria",
            "Nigeria",
            "Nigeria",
            "Nigeria",
            "Nigeria",
            "Nigeria",
            "Nigeria",
            "Nigeria",
            "Nigeria",
            "Nigeria",
            "Nigeria",
            "Nigeria",
            "Nigeria",
            "Nigeria",
            "Nigeria",
            "Nigeria",
            "Nigeria",
            "Nigeria",
            "Nigeria",
            "Nigeria",
            "Nigeria",
            "Nigeria",
            "Nigeria",
            "Nigeria",
            "Nigeria",
            "Nigeria",
            "Nigeria",
            "Nigeria",
            "Nigeria",
            "Nigeria",
            "Nigeria",
            "Nigeria",
            "Nigeria",
            "Nigeria",
            "Nigeria",
            "Nigeria",
            "Nigeria",
            "Nigeria",
            "Nigeria",
            "Nigeria",
            "Nigeria",
            "Nigeria",
            "Nigeria",
            "Nigeria",
            "Nigeria",
            "Nigeria",
            "Nigeria",
            "Nigeria",
            "Nigeria",
            "Nigeria",
            "Nigeria",
            "Nigeria",
            "Nigeria",
            "Nigeria",
            "Nigeria",
            "Nigeria",
            "Nigeria",
            "Nigeria",
            "Nigeria",
            "Nigeria",
            "Nigeria",
            "Nigeria",
            "Nigeria",
            "Nigeria",
            "Nigeria",
            "Nigeria",
            "Nigeria",
            "Nigeria",
            "Nigeria",
            "Nigeria",
            "Nigeria",
            "Nigeria",
            "Nigeria",
            "Nigeria",
            "Nigeria",
            "Nigeria",
            "Nigeria",
            "Nigeria",
            "Nigeria",
            "Nigeria",
            "Nigeria",
            "Nigeria",
            "Nigeria",
            "Nigeria",
            "Nigeria",
            "Nigeria",
            "Nigeria",
            "Nigeria",
            "Nigeria",
            "Nigeria",
            "Nigeria",
            "Nigeria",
            "Nigeria",
            "Nigeria",
            "Nigeria",
            "Nigeria",
            "Nigeria",
            "Nigeria",
            "Nigeria",
            "Nigeria",
            "Nigeria",
            "Nigeria",
            "Nigeria",
            "Nigeria",
            "Nigeria",
            "Nigeria",
            "Nigeria",
            "Nigeria",
            "Nigeria",
            "Nigeria",
            "Nigeria"
           ],
           [
            "@user Hmhmhm 🤔🤔 ban yardaba",
            "shiyasa naga hausawa duk makafi ne",
            "innalillahi wainna ilaihirrajiun el~rufai kaine da wannan maganar lallae kun bani mamaki muje zuwa akwai allah wlh bazaku taajin rayuwar duniya ba in har baku sauke nauyin alkawarin da kuka daukawa talakawa ba don tun wuri ku dawo garemu",
            "imagine years girl raped by persons over month ayam sorry to asked like how kidnapping dinta sukayi suka daureta daki over month kokuwa plz dan allah inason qarin haske",
            "@user Saboda sunsan babu cutar qarya ne... To meyasa zaku takura kansu 😅😅",
            "@user Duk sekunci buraubanku lahira badebaku bariba koh 🤪🤪🤪",
            "@user YDG wannan batun haka take 👬👪😖😟 ta shafi inda muke, musamman ma yara yan gudun hijira babu uwa babu uba, sai ta Allah rayuwan su😭😭",
            "wlh ko ni aka kai a makaranta guda zan iya kama mutun amma kaji wani aikin banza wai mutun",
            "@user @user Gaskiya kin daura Karen ki a rana wlhy... 🙄🙄🙄",
            "@user Ansace karfe 11 na dare amma kuma wai da uniform ajikinsu kai Ana shegiya a kasarnan!🤔🤔😄",
            "@user Yasin saina fada kayi aure😂😂😂",
            "@user Amma kowa zai iya karba Dollar 💵?",
            "@user @user @user @user @user @user @user @user @user @user @user Haba @user wannan tambaya haka kakar taje chan😂",
            "@user Yar Sambo tayi yawa ciki....😂😂😂",
            "@user Dan Allah in masarar tay dusa atemaka akawomana Masha dan malele ko danbu🙄😎",
            "@user Dan allah kiyi. Na tuna time dinda kika shigo kannywood self😂💔. Talk less of 10 years😂😂😉",
            "@user Wuka Bata fasa shi 🤣",
            "@user https://t.co/2nvwLp1cls 💰💰💰💰💰💰💰💰💰💰💰💰💰🤑🤑🤑🤑Your Referral Link is: https://t.co/wXgNMISsiy Registration 1500 ne 💰💰💰💰💰💰💰 *Zasu barma 500 aciki Kuma duk Wanda yayi register akasanka zasu baka 500 kan ko wane mutum datar su tana da sauki sosai*",
            "@user An yi masa ritaya dai 💀",
            "@user Bbu komai. Amman Ni anawa shawarar dazan baka shine: gwanda acigaba da gudanar da shirin a Arewa24 saboda mutane dayawa a tashar suke kallo. Inkuma akamayarsa wata tashar bakowa bane zaicigaba da kallo✨✨",
            "@user Babu shugaba da ya kai Baba Buhari gaskiya da tausayin talakawa, cigaba da gashi tsoho Dan Daura.😁🏃",
            "@user Shikenan, a sanina a tsarin musulunci idan mutun daya yace ya yafe tun shikenan a nan duniya, sai dai anzo lafira wannan tsakani da Allah.Allah yasa mu gane, ya qara karemu daga miyagun qaddarore.Ameen 🙏",
            "@user Kaii 😳 Allah yasa ba ziyarar gani da Ido yazo ba https://t.co/jochgAmNih",
            "allah ya kawo karshen wannan tashin hankali wlh gaba yan nijeriya wasun mu bama kyautawa yanz menen amfanin tashin hankali da zubar da jini kaico allah ya shiryemu",
            "@user Allah yasa muna cikin masu kai karshen 2021, itama. 🤗🤗👍",
            "toh mun godewa allah",
            "@user Masha Allahu, wannan cigaba Allah ta kara kawo mana irin shi, duk su karar da kansu🙏🙏🙏",
            "@user Sai a gyara idan anaso Allah yayi keeping naku safe 😂",
            "@user Allah yaji qansu da rahama🤲",
            "@user Yauwa bbchausa barka mu da Sha ruwa 🍉",
            "@user @user Mgbirigbo onye ntị ike 😂😂",
            "sis odikwa egwu ooo",
            "@user @user @user Ndi na ta anu madu 🏃",
            "@user Na how future take enter for verse 2 na ein mad pass ooh.. Dah \"\"\"\"Iberibe na-enye onye ara morale\"\"\"\"....dah line na bomb🎶🎶🎶🔥🔥🙌🙌🙌",
            "mu na gi gaebi love gi agbakalam isi oooooo on point festac",
            "@user Lol... Ihe nke a di egwu",
            "emeka gi na mrs trouble ‍️‍️‍️",
            "@user @user @user @user 🤣 🤣 🤣 Nna ehhh, ife nkea ọ diro gi egwu. All the bullets I'm firing na atụ na ogwe.",
            "@user N'ya dodoya na ọnụ amụ",
            "@user One Nigeria gbasaa gi azu ike😅😏",
            "@user Ndu wu onu nmiri (pigin igbo)",
            "@user @user Kai, try na... Ọ bụrụ godu naanị otu(just one)",
            "So @user is the issue??? You never see anything oh Maka ntiye Uku Na the away, Unu ga fuzi nwanyi Ocha part 2 Mgbada ebe Nile",
            "mu nke a‍️‍️",
            "ngwa pass oo",
            "@user @user Chai, nwa afo",
            "shebi it was celebs that were trending ur freedom hashtag ba continuemgbe o ga a da i mara na a naghi a gwa o chi nti na agha e su mgbada",
            "@user Aku ruo ulo amara ebe osi bia.....Ship to Naija",
            "okwa tata ka m ntiyere engagement ring ya na fridge nyem ohere ozo kam nhandluo obi gi with caution ️️",
            "Bia ka m yelu gi akwa and bread https://t.co/3U7Fwx0Agi",
            "@user Mazi, Omere ora 1 ! Udodiri gi, Biko mere m Ka imere ibem Ka Obi Di mu MMA. God bless you plenty. Amen.",
            "@user Nne biko jukwa ya nke oma😁",
            "@user @user @user @user Ka chukwu mezie okwu 🙏🏾🙏🏾",
            "@user @user A hurum gi na anya",
            "I bu chi mo o i bu chi ibu chi mo o onye m ji eme onu ehh \"\"🎤🎤🎤|||| One music",
            "Everyday, I thank God I was born into the Igbo tribe. Échichè ahụ n'enye anwuli ná óbị",
            "Aga mu ako ihe chukwu mere mu n'elu uwa, Ihunanya Chineke karisia solumtochukwu 🙌🙌🙌",
            "@user Daalu Onye Ezigbo",
            "@user Na chineke ka okukeme di.",
            "onye ibongejisi ike o",
            "dat even small some elderly ppl will jst come from no where nd blike my son am rushing to church can i please blah blahi will kuku let dem use out of my time b dem use ma destiny play ping pong its annoyning",
            "so we are almost done with how much did you save abi i should mind my business me sef wey dey tweet like this need money die",
            "this one don finish eba she con de serve hot looks if you dont geddifok",
            "so na wetin start the quarrel be that",
            "was dem don lock am who unlock am sef me i no dey see road again oh",
            "the amount of coconut water i have had in this life time i should be on a zero iq if according to my people e nor dey make pikin get sense some myth",
            "i nor even understandna she n person dey fight",
            "na who get sponsors dey go school na street i dey full time",
            "baba turn a whole contry to babe wey dem dey woo allow me to prove to you that boy if you dont you want to use us to collect extra sheet that you wont use they will waste your time they will prove to you carry your desire and go abeggi",
            "this one don wash hand comot for anything wey concern heavenly race",
            "na who dey alive dey apply for visa",
            "dis drama na na dey package am while na dey fund am you can listen via",
            "omo this one dey real if na you be the guy what next",
            "for and to take nigeria to the next level people are ready to cast their votes even with their bloods not ink as usual dem no dey buy integrity dem for buyam from dubai nah",
            "wetin e be na tell me",
            "sheybi na film na ‍️",
            "make messi con perform and win trophies make e collect th balon dor next year the tears go dey immense",
            "if dem born you for nigeria automatically life don dey ahead of if you come fall for poor family if you come be first born paddy take life jejena money dey make normal problem be like spiritual problem",
            "this was what a lady told a guy that they had planned to get married together o baba dey hustle big time and na only chop money baba still dey see though with good future sha but babe said he should be saving for marriage o and baba was like how",
            "e con be like say na final match dem play",
            "e better like that make you no dey resemble pregnant woman",
            "u people should pls stop acting dis way u don pass dis level of abusing each other relaxchill and continue chasing ur dreams pls",
            "chai see my friend️️️ pesin pikin",
            "wahala dey all dis world now n even nig is not left out ha ha banger keea",
            "their love i want my own simi this im serious o marriage don dey hungry me",
            "na person wey look face dey see gorgeous eyes",
            "abeg all of una wey dey do brazilian waxing how una dey take do am i wanted to die was legit crying i told dem to stop half way i wld use veet to remove d rest mi o le wa ku",
            "abeg incase una see masquerade wey dey over dance na me oooo i dey hustle my transport back to abuja",
            "we wan appreciate for all the work wey e do for manchester united years no be beans ️ we go miss am na leader one way",
            "bros nor b small thing oooo na so na to dey buy am small small win am ooo",
            "Ọrọ̀, owó, Ajé ni ọ̀kan gbòógì ọ̀darànmọràn tí ó dá ìṣòro tí ó wà nílẹ̀ yìí sílẹ̀. Àwọn aṣebi, olubi àti aríjẹ nídìí mọ̀dàrú tí ó di ipò ilé ayé mú ò náání àlàáfíà ara àti ìgbé ayé tó lẹ́tikẹ fún ọmọ aráyé, ìfẹ́ ara wọn nìkan ni wọ́n mọ́. Ayé ń rí rúdurùdu.",
            "Omoose gomina @user lu osise abe re lalubami l'Ondo - Alaroye",
            "Wọ́n pa ẹni méjì #APC #EkitiDecides2014 :(",
            "@user: @user - Femi fani Kayode ni\"\"\"\" o ní yẹ̀yẹ́ :)",
            "Olórí #Bokoharam #Shekau ní òun yóò ta àwọn ọmọdébìnrin tó wà ní àkàtà òun | #BringBackOurGirls",
            "ráńṣẹ́ sí àwọn ẹ̀gbá láti ti ọwọ́ ọmọ wọn bọ aṣọ kí wọ́n padà sí ìlú wọn ajá ní ń wí ẹran ní ń sọ̀rọ̀ ni àwọn ẹ̀gbá fi ọ̀rọ̀ ìjọba britain ṣìí àbùkù ò ní ilé ibikíbi nií ti ń dé bá ni lálejò ni ìjọba britain fi èsì ẹ̀gbá ṣe ní britain bá gbé",
            "Ìbọn t'ó wọ ìlú \"\"\"\"\"\"\"\"ẹ̀bá ọ̀dán\"\"\"\"\"\"\"\" ò ṣẹ̀hìn obìnrin alágídí yìí. Ní 1872, #IyalodeIbadan yá ọmọ ogun Ìbàdàn ní ìhámọ́ra ogun.",
            "awon onigbeseonijekujeoninakuna apa gbèsè orílẹ̀ tó kù díẹ̀ ká san tán láíyé ọbásanjọ́ ni wọ́n ti",
            "... a jẹ́ wípé ọ̀hún ò rọgbọ, tàbí iṣẹ́ náà ò mú èsì rere bọ̀. #Ejanbakan #AkanloEde #YorubaQnA #idahun #Ibeere @user",
            "@user @user Ẹ kilọ fun google koma yimi lohun pada mọ o.",
            "Onírè ńkọ́? Ta ni onírè? @user #Ibeere #yoruba",
            "oògùn eyín ọmọọwọ́ ọ̀kanòjọ̀kan ọ̀nà ni àwọn yorùbá fi máa ń wo ìrora eyín ọmọ ìkókó lára wọn ni a ti rí orí àdán",
            "àtẹ́lẹwọ́ book reading resumes tonight on zoom by pm nigerian time for facebook live ẹ darapọ̀ mọ́ wa",
            "7. Yàtọ̀ sí ìbẹ́ta, orúkọ àmútọ̀runwá wo ni à ń pe ọmọ mẹ́ta tí a bí papọ̀? #Ibeere #Yoruba #learnyoruba #language #speakyoruba #MotherTongueDay https://t.co/Al48MtWRYS",
            "Ajé; meaning -► Monday. Ajé -► money. Ajé -► god of wealth/money. Ajé; ẹran bíi ìka kékeré t'ó súyọ lára ìka ọmọńdirín. #InYoruba",
            "a ó gbo ewé ifin sínú igbá a ó fi ẹfun sí í obìnrin olóyún á máa mu ún ń wákàtí wákàtí",
            "B. Ìgèrè ni apẹ̀rẹ̀ tí a fi ń mú ẹja lódò. Ó yàtọ̀ sí àwọ̀n. https://t.co/V5kW5HX73O",
            "RT @user: ORÍKÌ ÒGÚN Ògún lákáayé, ọṣìn mọlẹ̀, Onílé kángun kàngun ọ̀run, Ò ní omi nílé, ó fi ẹ̀jẹ̀ wẹ̀, Ò ní aṣọ nílé, ó fi imò b…",
            "àkísà lògbà rí jàlàbíyà ni láyé ìgbà kan àmọ́ àbáyà tún ni wọ́n ń gba wèrèe rẹ̀ báyìí gbogbo rẹ̀ ṣá ló ń yà",
            "kí la nfi àgádágodo ṣe",
            "Ọ̀rẹ́ mi :) a kú òpin ọ̀sẹ̀. Iṣẹ́ á gbè wá, a ò ní ṣe ṣe ṣe. Ẹ kú iṣẹ́ o, á dára#Lagos#Ondo#OyoState#Ekiti#Ogun#Kwara",
            "mo ti ri o e se mo dupe",
            "èmi ni ìkòròdú ọmọ ọ̀gà ọmọ ẹ̀lúkú mẹdẹ́n mẹdẹ́n ọmọ ẹ̀lúkú mẹdẹ̀n mẹdẹ̀n ọmọ afínjú jẹ̀bú rè fọmọrẹ̀ japènà ̀bá",
            "RT @user: Ọlọ́run tó ńse'bẹ̀, kò tí ì kúrò ní ìdí ààrò. / God who is cooking the soup, has not left the kitchen. [Keep hope aliv…",
            "Bí o bá fẹ́ 🧠 ọpọlọ t'ó jí pépé, bí o bá fẹ́ kí iyè rẹ ó máa là gààrà ńgbà 'ogbo, rẹ ewé ẹ̀là sómi kí o máa mu ú. #Ewe #herbs #Yoruba https://t.co/r15lUtJQ4t",
            "Àsé ijó be lésè àwon \"\"\"\"\"\"\"\"super-excited-to-discuss-with-google's-CEO\"\"\"\"\"\"\"\" náà #TweetInYoruba https://t.co/5mRSCKqOgq",
            "@user Ọlọ́run ṣeun. Ara wá le o.",
            "Ìjàgbara. K'á jára wa gbà lọ́wọ́ọ ìdárú-dàápọ̀ ńlẹ̀ yìí. Kí a sọ fún un pé \"\"\"\"\"\"\"\"ó tó gẹ́!\"\"\"\"\"\"\"\" #Nigeria2015",
            "Èyí ga o, mo fẹ́ràn an rẹ̀. Ó mú mi rántí abúlé. Ẹ kú iṣẹ́ :) @user #Yoruba http://t.co/Eozz3wjVzo",
            "Onise iyanu,(Miracle worker) Onise ara,(Wonderful) Onise nla,(Great God) Mimo, Mimo, Mimo,(Holy! Holy! Holy) Oba t’o ninu mimo,(Righteous God) Oba alaya funfun,(Immaculate God) Not gonna lie.. praising God in #Yoruba sounds a lot more fun 😄 #CelestialWeekly #ProudlyCelestian"
           ],
           [
            "negative",
            "negative",
            "negative",
            "negative",
            "negative",
            "negative",
            "negative",
            "negative",
            "negative",
            "negative",
            "neutral",
            "neutral",
            "neutral",
            "neutral",
            "neutral",
            "neutral",
            "neutral",
            "neutral",
            "neutral",
            "neutral",
            "positive",
            "positive",
            "positive",
            "positive",
            "positive",
            "positive",
            "positive",
            "positive",
            "positive",
            "positive",
            "negative",
            "negative",
            "negative",
            "negative",
            "negative",
            "negative",
            "negative",
            "negative",
            "negative",
            "negative",
            "neutral",
            "neutral",
            "neutral",
            "neutral",
            "neutral",
            "neutral",
            "neutral",
            "neutral",
            "neutral",
            "neutral",
            "positive",
            "positive",
            "positive",
            "positive",
            "positive",
            "positive",
            "positive",
            "positive",
            "positive",
            "positive",
            "negative",
            "negative",
            "negative",
            "negative",
            "negative",
            "negative",
            "negative",
            "negative",
            "negative",
            "negative",
            "neutral",
            "neutral",
            "neutral",
            "neutral",
            "neutral",
            "neutral",
            "neutral",
            "neutral",
            "neutral",
            "neutral",
            "positive",
            "positive",
            "positive",
            "positive",
            "positive",
            "positive",
            "positive",
            "positive",
            "positive",
            "positive",
            "negative",
            "negative",
            "negative",
            "negative",
            "negative",
            "negative",
            "negative",
            "negative",
            "negative",
            "negative",
            "neutral",
            "neutral",
            "neutral",
            "neutral",
            "neutral",
            "neutral",
            "neutral",
            "neutral",
            "neutral",
            "neutral",
            "positive",
            "positive",
            "positive",
            "positive",
            "positive",
            "positive",
            "positive",
            "positive",
            "positive",
            "positive"
           ]
          ]
         },
         "domain": {
          "x": [
           0,
           1
          ],
          "y": [
           0,
           0.485
          ]
         },
         "header": {
          "align": "center",
          "fill": {
           "color": "lightskyblue"
          },
          "font": {
           "color": "black",
           "size": 12
          },
          "line": {
           "color": "darkslategray"
          },
          "values": [
           "country",
           "tweet",
           "label"
          ]
         },
         "type": "table"
        }
       ],
       "layout": {
        "height": 1500,
        "template": {
         "data": {
          "bar": [
           {
            "error_x": {
             "color": "#2a3f5f"
            },
            "error_y": {
             "color": "#2a3f5f"
            },
            "marker": {
             "line": {
              "color": "#E5ECF6",
              "width": 0.5
             },
             "pattern": {
              "fillmode": "overlay",
              "size": 10,
              "solidity": 0.2
             }
            },
            "type": "bar"
           }
          ],
          "barpolar": [
           {
            "marker": {
             "line": {
              "color": "#E5ECF6",
              "width": 0.5
             },
             "pattern": {
              "fillmode": "overlay",
              "size": 10,
              "solidity": 0.2
             }
            },
            "type": "barpolar"
           }
          ],
          "carpet": [
           {
            "aaxis": {
             "endlinecolor": "#2a3f5f",
             "gridcolor": "white",
             "linecolor": "white",
             "minorgridcolor": "white",
             "startlinecolor": "#2a3f5f"
            },
            "baxis": {
             "endlinecolor": "#2a3f5f",
             "gridcolor": "white",
             "linecolor": "white",
             "minorgridcolor": "white",
             "startlinecolor": "#2a3f5f"
            },
            "type": "carpet"
           }
          ],
          "choropleth": [
           {
            "colorbar": {
             "outlinewidth": 0,
             "ticks": ""
            },
            "type": "choropleth"
           }
          ],
          "contour": [
           {
            "colorbar": {
             "outlinewidth": 0,
             "ticks": ""
            },
            "colorscale": [
             [
              0,
              "#0d0887"
             ],
             [
              0.1111111111111111,
              "#46039f"
             ],
             [
              0.2222222222222222,
              "#7201a8"
             ],
             [
              0.3333333333333333,
              "#9c179e"
             ],
             [
              0.4444444444444444,
              "#bd3786"
             ],
             [
              0.5555555555555556,
              "#d8576b"
             ],
             [
              0.6666666666666666,
              "#ed7953"
             ],
             [
              0.7777777777777778,
              "#fb9f3a"
             ],
             [
              0.8888888888888888,
              "#fdca26"
             ],
             [
              1,
              "#f0f921"
             ]
            ],
            "type": "contour"
           }
          ],
          "contourcarpet": [
           {
            "colorbar": {
             "outlinewidth": 0,
             "ticks": ""
            },
            "type": "contourcarpet"
           }
          ],
          "heatmap": [
           {
            "colorbar": {
             "outlinewidth": 0,
             "ticks": ""
            },
            "colorscale": [
             [
              0,
              "#0d0887"
             ],
             [
              0.1111111111111111,
              "#46039f"
             ],
             [
              0.2222222222222222,
              "#7201a8"
             ],
             [
              0.3333333333333333,
              "#9c179e"
             ],
             [
              0.4444444444444444,
              "#bd3786"
             ],
             [
              0.5555555555555556,
              "#d8576b"
             ],
             [
              0.6666666666666666,
              "#ed7953"
             ],
             [
              0.7777777777777778,
              "#fb9f3a"
             ],
             [
              0.8888888888888888,
              "#fdca26"
             ],
             [
              1,
              "#f0f921"
             ]
            ],
            "type": "heatmap"
           }
          ],
          "heatmapgl": [
           {
            "colorbar": {
             "outlinewidth": 0,
             "ticks": ""
            },
            "colorscale": [
             [
              0,
              "#0d0887"
             ],
             [
              0.1111111111111111,
              "#46039f"
             ],
             [
              0.2222222222222222,
              "#7201a8"
             ],
             [
              0.3333333333333333,
              "#9c179e"
             ],
             [
              0.4444444444444444,
              "#bd3786"
             ],
             [
              0.5555555555555556,
              "#d8576b"
             ],
             [
              0.6666666666666666,
              "#ed7953"
             ],
             [
              0.7777777777777778,
              "#fb9f3a"
             ],
             [
              0.8888888888888888,
              "#fdca26"
             ],
             [
              1,
              "#f0f921"
             ]
            ],
            "type": "heatmapgl"
           }
          ],
          "histogram": [
           {
            "marker": {
             "pattern": {
              "fillmode": "overlay",
              "size": 10,
              "solidity": 0.2
             }
            },
            "type": "histogram"
           }
          ],
          "histogram2d": [
           {
            "colorbar": {
             "outlinewidth": 0,
             "ticks": ""
            },
            "colorscale": [
             [
              0,
              "#0d0887"
             ],
             [
              0.1111111111111111,
              "#46039f"
             ],
             [
              0.2222222222222222,
              "#7201a8"
             ],
             [
              0.3333333333333333,
              "#9c179e"
             ],
             [
              0.4444444444444444,
              "#bd3786"
             ],
             [
              0.5555555555555556,
              "#d8576b"
             ],
             [
              0.6666666666666666,
              "#ed7953"
             ],
             [
              0.7777777777777778,
              "#fb9f3a"
             ],
             [
              0.8888888888888888,
              "#fdca26"
             ],
             [
              1,
              "#f0f921"
             ]
            ],
            "type": "histogram2d"
           }
          ],
          "histogram2dcontour": [
           {
            "colorbar": {
             "outlinewidth": 0,
             "ticks": ""
            },
            "colorscale": [
             [
              0,
              "#0d0887"
             ],
             [
              0.1111111111111111,
              "#46039f"
             ],
             [
              0.2222222222222222,
              "#7201a8"
             ],
             [
              0.3333333333333333,
              "#9c179e"
             ],
             [
              0.4444444444444444,
              "#bd3786"
             ],
             [
              0.5555555555555556,
              "#d8576b"
             ],
             [
              0.6666666666666666,
              "#ed7953"
             ],
             [
              0.7777777777777778,
              "#fb9f3a"
             ],
             [
              0.8888888888888888,
              "#fdca26"
             ],
             [
              1,
              "#f0f921"
             ]
            ],
            "type": "histogram2dcontour"
           }
          ],
          "mesh3d": [
           {
            "colorbar": {
             "outlinewidth": 0,
             "ticks": ""
            },
            "type": "mesh3d"
           }
          ],
          "parcoords": [
           {
            "line": {
             "colorbar": {
              "outlinewidth": 0,
              "ticks": ""
             }
            },
            "type": "parcoords"
           }
          ],
          "pie": [
           {
            "automargin": true,
            "type": "pie"
           }
          ],
          "scatter": [
           {
            "fillpattern": {
             "fillmode": "overlay",
             "size": 10,
             "solidity": 0.2
            },
            "type": "scatter"
           }
          ],
          "scatter3d": [
           {
            "line": {
             "colorbar": {
              "outlinewidth": 0,
              "ticks": ""
             }
            },
            "marker": {
             "colorbar": {
              "outlinewidth": 0,
              "ticks": ""
             }
            },
            "type": "scatter3d"
           }
          ],
          "scattercarpet": [
           {
            "marker": {
             "colorbar": {
              "outlinewidth": 0,
              "ticks": ""
             }
            },
            "type": "scattercarpet"
           }
          ],
          "scattergeo": [
           {
            "marker": {
             "colorbar": {
              "outlinewidth": 0,
              "ticks": ""
             }
            },
            "type": "scattergeo"
           }
          ],
          "scattergl": [
           {
            "marker": {
             "colorbar": {
              "outlinewidth": 0,
              "ticks": ""
             }
            },
            "type": "scattergl"
           }
          ],
          "scattermapbox": [
           {
            "marker": {
             "colorbar": {
              "outlinewidth": 0,
              "ticks": ""
             }
            },
            "type": "scattermapbox"
           }
          ],
          "scatterpolar": [
           {
            "marker": {
             "colorbar": {
              "outlinewidth": 0,
              "ticks": ""
             }
            },
            "type": "scatterpolar"
           }
          ],
          "scatterpolargl": [
           {
            "marker": {
             "colorbar": {
              "outlinewidth": 0,
              "ticks": ""
             }
            },
            "type": "scatterpolargl"
           }
          ],
          "scatterternary": [
           {
            "marker": {
             "colorbar": {
              "outlinewidth": 0,
              "ticks": ""
             }
            },
            "type": "scatterternary"
           }
          ],
          "surface": [
           {
            "colorbar": {
             "outlinewidth": 0,
             "ticks": ""
            },
            "colorscale": [
             [
              0,
              "#0d0887"
             ],
             [
              0.1111111111111111,
              "#46039f"
             ],
             [
              0.2222222222222222,
              "#7201a8"
             ],
             [
              0.3333333333333333,
              "#9c179e"
             ],
             [
              0.4444444444444444,
              "#bd3786"
             ],
             [
              0.5555555555555556,
              "#d8576b"
             ],
             [
              0.6666666666666666,
              "#ed7953"
             ],
             [
              0.7777777777777778,
              "#fb9f3a"
             ],
             [
              0.8888888888888888,
              "#fdca26"
             ],
             [
              1,
              "#f0f921"
             ]
            ],
            "type": "surface"
           }
          ],
          "table": [
           {
            "cells": {
             "fill": {
              "color": "#EBF0F8"
             },
             "line": {
              "color": "white"
             }
            },
            "header": {
             "fill": {
              "color": "#C8D4E3"
             },
             "line": {
              "color": "white"
             }
            },
            "type": "table"
           }
          ]
         },
         "layout": {
          "annotationdefaults": {
           "arrowcolor": "#2a3f5f",
           "arrowhead": 0,
           "arrowwidth": 1
          },
          "autotypenumbers": "strict",
          "coloraxis": {
           "colorbar": {
            "outlinewidth": 0,
            "ticks": ""
           }
          },
          "colorscale": {
           "diverging": [
            [
             0,
             "#8e0152"
            ],
            [
             0.1,
             "#c51b7d"
            ],
            [
             0.2,
             "#de77ae"
            ],
            [
             0.3,
             "#f1b6da"
            ],
            [
             0.4,
             "#fde0ef"
            ],
            [
             0.5,
             "#f7f7f7"
            ],
            [
             0.6,
             "#e6f5d0"
            ],
            [
             0.7,
             "#b8e186"
            ],
            [
             0.8,
             "#7fbc41"
            ],
            [
             0.9,
             "#4d9221"
            ],
            [
             1,
             "#276419"
            ]
           ],
           "sequential": [
            [
             0,
             "#0d0887"
            ],
            [
             0.1111111111111111,
             "#46039f"
            ],
            [
             0.2222222222222222,
             "#7201a8"
            ],
            [
             0.3333333333333333,
             "#9c179e"
            ],
            [
             0.4444444444444444,
             "#bd3786"
            ],
            [
             0.5555555555555556,
             "#d8576b"
            ],
            [
             0.6666666666666666,
             "#ed7953"
            ],
            [
             0.7777777777777778,
             "#fb9f3a"
            ],
            [
             0.8888888888888888,
             "#fdca26"
            ],
            [
             1,
             "#f0f921"
            ]
           ],
           "sequentialminus": [
            [
             0,
             "#0d0887"
            ],
            [
             0.1111111111111111,
             "#46039f"
            ],
            [
             0.2222222222222222,
             "#7201a8"
            ],
            [
             0.3333333333333333,
             "#9c179e"
            ],
            [
             0.4444444444444444,
             "#bd3786"
            ],
            [
             0.5555555555555556,
             "#d8576b"
            ],
            [
             0.6666666666666666,
             "#ed7953"
            ],
            [
             0.7777777777777778,
             "#fb9f3a"
            ],
            [
             0.8888888888888888,
             "#fdca26"
            ],
            [
             1,
             "#f0f921"
            ]
           ]
          },
          "colorway": [
           "#636efa",
           "#EF553B",
           "#00cc96",
           "#ab63fa",
           "#FFA15A",
           "#19d3f3",
           "#FF6692",
           "#B6E880",
           "#FF97FF",
           "#FECB52"
          ],
          "font": {
           "color": "#2a3f5f"
          },
          "geo": {
           "bgcolor": "white",
           "lakecolor": "white",
           "landcolor": "#E5ECF6",
           "showlakes": true,
           "showland": true,
           "subunitcolor": "white"
          },
          "hoverlabel": {
           "align": "left"
          },
          "hovermode": "closest",
          "mapbox": {
           "style": "light"
          },
          "paper_bgcolor": "white",
          "plot_bgcolor": "#E5ECF6",
          "polar": {
           "angularaxis": {
            "gridcolor": "white",
            "linecolor": "white",
            "ticks": ""
           },
           "bgcolor": "#E5ECF6",
           "radialaxis": {
            "gridcolor": "white",
            "linecolor": "white",
            "ticks": ""
           }
          },
          "scene": {
           "xaxis": {
            "backgroundcolor": "#E5ECF6",
            "gridcolor": "white",
            "gridwidth": 2,
            "linecolor": "white",
            "showbackground": true,
            "ticks": "",
            "zerolinecolor": "white"
           },
           "yaxis": {
            "backgroundcolor": "#E5ECF6",
            "gridcolor": "white",
            "gridwidth": 2,
            "linecolor": "white",
            "showbackground": true,
            "ticks": "",
            "zerolinecolor": "white"
           },
           "zaxis": {
            "backgroundcolor": "#E5ECF6",
            "gridcolor": "white",
            "gridwidth": 2,
            "linecolor": "white",
            "showbackground": true,
            "ticks": "",
            "zerolinecolor": "white"
           }
          },
          "shapedefaults": {
           "line": {
            "color": "#2a3f5f"
           }
          },
          "ternary": {
           "aaxis": {
            "gridcolor": "white",
            "linecolor": "white",
            "ticks": ""
           },
           "baxis": {
            "gridcolor": "white",
            "linecolor": "white",
            "ticks": ""
           },
           "bgcolor": "#E5ECF6",
           "caxis": {
            "gridcolor": "white",
            "linecolor": "white",
            "ticks": ""
           }
          },
          "title": {
           "x": 0.05
          },
          "xaxis": {
           "automargin": true,
           "gridcolor": "white",
           "linecolor": "white",
           "ticks": "",
           "title": {
            "standoff": 15
           },
           "zerolinecolor": "white",
           "zerolinewidth": 2
          },
          "yaxis": {
           "automargin": true,
           "gridcolor": "white",
           "linecolor": "white",
           "ticks": "",
           "title": {
            "standoff": 15
           },
           "zerolinecolor": "white",
           "zerolinewidth": 2
          }
         }
        },
        "title": {
         "text": "Nigeria - Passion behind the Tweets"
        },
        "width": 800
       }
      }
     },
     "metadata": {},
     "output_type": "display_data"
    }
   ],
   "source": [
    "from plotly.subplots import make_subplots\n",
    "fig = make_subplots(\n",
    "    rows=2, cols=1,\n",
    "    shared_xaxes=True,\n",
    "    vertical_spacing=0.03,\n",
    "    specs=[[{\"type\": \"domain\"}],\n",
    "           [{\"type\": \"table\"}]]\n",
    ")\n",
    "\n",
    "fig.add_trace(go.Pie(labels=df_sentiment_combined.loc[df_sentiment_combined.country ==\"Nigeria\"].label, values=df_sentiment_combined.loc[df_sentiment_combined.country ==\"Nigeria\"].totals,\n",
    "                 marker_colors = df_sentiment_combined.loc[df_sentiment_combined.country ==\"Nigeria\"].label.map(map_dict))\n",
    "                 , row=1, col=1)\n",
    "\n",
    "fig.add_trace(go.Table(\n",
    "  header=dict(\n",
    "    values=[\"country\",\"tweet\",\"label\"],\n",
    "    line_color='darkslategray',\n",
    "    fill_color='lightskyblue',\n",
    "    align='center', font=dict(color='black', size=12)\n",
    "  ),\n",
    "\n",
    "  cells=dict(values=[df_language_combined.loc[df_language_combined.country ==\"Nigeria\"].country,df_language_combined.loc[df_language_combined.country ==\"Nigeria\"].tweet,df_language_combined.loc[df_language_combined.country ==\"Nigeria\"].label], \n",
    "               line_color='darkslategray',\n",
    "               fill_color='lightcyan',\n",
    "               align='left'))\n",
    ", row=2, col=1\n",
    ")\n",
    "fig.update_layout(width=800, height=1500, title_text=\"Nigeria - Passion behind the Tweets\")\n",
    "fig.show()"
   ]
  },
  {
   "cell_type": "code",
   "execution_count": 17,
   "metadata": {},
   "outputs": [
    {
     "data": {
      "image/png": "[encoded data removed]",
      "text/plain": [
       "<IPython.core.display.Image object>"
      ]
     },
     "execution_count": 17,
     "metadata": {},
     "output_type": "execute_result"
    }
   ],
   "source": [
    "# Display Output in production\n",
    "img_bytes = fig.to_image(format=\"png\")\n",
    "from IPython.display import Image\n",
    "Image(img_bytes)"
   ]
  },
  {
   "cell_type": "code",
   "execution_count": 18,
   "metadata": {},
   "outputs": [
    {
     "data": {
      "application/vnd.plotly.v1+json": {
       "config": {
        "plotlyServerURL": "https://plot.ly"
       },
       "data": [
        {
         "domain": {
          "x": [
           0,
           1
          ],
          "y": [
           0.515,
           1
          ]
         },
         "labels": [
          "negative",
          "neutral",
          "positive",
          "negative",
          "neutral",
          "positive",
          "negative",
          "neutral",
          "positive"
         ],
         "marker": {
          "colors": [
           "red",
           "yellow",
           "green",
           "red",
           "yellow",
           "green",
           "red",
           "yellow",
           "green"
          ]
         },
         "type": "pie",
         "values": [
          3273,
          4104,
          2103,
          948,
          1023,
          523,
          1185,
          509,
          704
         ]
        },
        {
         "cells": {
          "align": "left",
          "fill": {
           "color": "lightcyan"
          },
          "line": {
           "color": "darkslategray"
          },
          "values": [
           [
            "Ethiopia",
            "Ethiopia",
            "Ethiopia",
            "Ethiopia",
            "Ethiopia",
            "Ethiopia",
            "Ethiopia",
            "Ethiopia",
            "Ethiopia",
            "Ethiopia",
            "Ethiopia",
            "Ethiopia",
            "Ethiopia",
            "Ethiopia",
            "Ethiopia",
            "Ethiopia",
            "Ethiopia",
            "Ethiopia",
            "Ethiopia",
            "Ethiopia",
            "Ethiopia",
            "Ethiopia",
            "Ethiopia",
            "Ethiopia",
            "Ethiopia",
            "Ethiopia",
            "Ethiopia",
            "Ethiopia",
            "Ethiopia",
            "Ethiopia",
            "Ethiopia",
            "Ethiopia",
            "Ethiopia",
            "Ethiopia",
            "Ethiopia",
            "Ethiopia",
            "Ethiopia",
            "Ethiopia",
            "Ethiopia",
            "Ethiopia",
            "Ethiopia",
            "Ethiopia",
            "Ethiopia",
            "Ethiopia",
            "Ethiopia",
            "Ethiopia",
            "Ethiopia",
            "Ethiopia",
            "Ethiopia",
            "Ethiopia",
            "Ethiopia",
            "Ethiopia",
            "Ethiopia",
            "Ethiopia",
            "Ethiopia",
            "Ethiopia",
            "Ethiopia",
            "Ethiopia",
            "Ethiopia",
            "Ethiopia",
            "Ethiopia",
            "Ethiopia",
            "Ethiopia",
            "Ethiopia",
            "Ethiopia",
            "Ethiopia",
            "Ethiopia",
            "Ethiopia",
            "Ethiopia",
            "Ethiopia",
            "Ethiopia",
            "Ethiopia",
            "Ethiopia",
            "Ethiopia",
            "Ethiopia",
            "Ethiopia",
            "Ethiopia",
            "Ethiopia",
            "Ethiopia",
            "Ethiopia",
            "Ethiopia",
            "Ethiopia",
            "Ethiopia",
            "Ethiopia",
            "Ethiopia",
            "Ethiopia",
            "Ethiopia",
            "Ethiopia",
            "Ethiopia",
            "Ethiopia"
           ],
           [
            "'@user አንተ ደደብ ከደደቢት ይሁን ከተንቤን ዋሻ መከላከያ ጌቶችህን ሲያወጣ አይተሀል አይደለም? አሁንም መልሶ ዋሻ ውስጥ ይጨመራችሁአል። አትጠራጠር። በቅርብ ቀን ታያለ'",
            "'@user @user አን ቆርቆሮ እኛ ባቀናናት ሀገር አንተ ምን እንደምንሆን አትነግረንም'",
            "በርግጥ አለ ማለት ነው:: ደሞ የራስ መተማመን ጥግ እኮ የሌለ ነው ?????♀️",
            "'እነዚህ ምእራባዊያን ግን ለምንድን ነው የኢዮዽያን እውነት መቀበል ካልፈለጉ ለምን በውሸት ሊከሱን ይንደፋደፋሉ ??? በቃ እውነታችንን መቀበል ካቃታቸው የውሸት ክሳቸውንም ሊይተው ይገባ ነበር ::#NoMoreTPLF'",
            "ቖሻሻ ትግራይ ውስጥ ስንት መስጅድ እንዳለ ብታውቅ ታብድ ነበር:: ለማንኛውም ጥንቆላ ድብትርና የሌለበት ንፁሕ ኦርቶዶክስ እና ኢስላም ትግራይ ውስጥ ነው ያለው::",
            "'ኢትዮጵያ አንገት ላይ እንዲጠመጠም ታቅዶ የተጻፈው አንቀጽ 39 አድፍጦ ቆይቶ ህወሃት አንገት ላይ ይጠመጠማል ብሎ ማን ገመተ? ፅድቅና ኩነኔ ቢኖርም ባይኖርም፣ ከክፋት ደግነት'",
            "ሰርድ ሃንድ ካድሬ እንላቸዋለን እነዚህኞቹን ደግሞ :) ለሰከንድ ሃንድነት የሚሆን እንኳን ንቃተ-ኅሊና የላቸውም።",
            "'በውሽት የኤርትራን መታወቅያ በማውጣት የኤርትራ ስድተኛ በመምሰል ብዙ የህወሓት አባላት ከኢትዮጵያ ውጭ በሚገኙ የስደተኛ ካንብ ውስጥ እንዳሉ ይነገራል ስለዚህ የሚመለከተው አካል ክትትልና እርምጃ ቢወሰድ ጥሩ ነው ።'",
            "ይሄ የችኮች ሴራ ነው ????",
            "የህወሓትን መሪዎች እና የትግራይ ህዝብን ግን ሳያደንቁ ማለፍ ከባድ ነው።   አብይ የሚባል የሰፈር ልጅ ይቺን አገርና ምስኪን ህዝቦቿን እንደሚያጠፋ ቀድመው አውቀውት ነበር።  For many of yo…",
            "ይፈራሉ?  እኔም አላጠቃህም። የምርምር ማስታወሻዎቹን እንደገና አነባለሁ።",
            "አዎ ልክ እንደወያኔ ዘመን እኮ ሆነ ?????♂️",
            "የሸሁ ንግግር በፌደራልእናበአድስ አበባ   ፖሊስ ድጋፍ አለው",
            "በአሁኑ ሰአት ምርጫ በማድረግም ይሁን ምርጫ በማዘግየት ያለባትን ፖለቲካዊ ችግር መፍታት የማትችል ብቸኛዋ የአለማችን ሀገር የኔዋ ኢትዮጵያ ትመስለኛለች ። ትስማማላቹ ወይስ አትስማሙም ?",
            "የሰይፉ ዋነኛ ሥራ ማዝናናት ነው- በጎ አድራጎት ድርጅት አይደለም የሚመራው። በግሉ ከማንም ዜጋ ያለነሰ እያደረገ ነው። አብይ “ማሳቅን” አቅልሎ ያየበት አይን ግን የንቀት ያስመስልበታል",
            "ወረኛ ነገር ነህ በቃ ትግልህ በውሸት የተመሰረተና በባዶ ሀሳብ የተመረኮዘ ነው። ልብ ካለህ ፖሊሲ ቀርጸህ ታገል!!",
            "አጠገብህ ያለውን ንካውና Abadulla for Minstry የሚል ሀሽታግ ክፈት በለው! እስራኤል ዳንሳ ሙድ",
            "ጌታ ሆይ ይሄን ህዝብ በቃ ጨክነህ ለነዚህ ቁጭ በሉዎች ተውከው ማለት ነው……..መምጣትክን ተውከው በቃ ማለት ነው……..ፖለቲካውም ሀይማኖቱም የቁጭ በሉዎች መጫዎቻ ይሁን…",
            "ለማንኛውም ሽመልስ አብዲሳ ካስመረቃቸው 10ሺ ወታደሮች ግማሾቹ መተሀራ ካምፕ ቀሪዎቹ አዲስ አበባ እንደሚመደቡ ሰምተናል",
            "ማለትም በተለይ በአሁኑ ወቀት አለማችንን እየተፈታተነው ካለው የሰው ሠራሽ እና የተፈጥሮ አደጋዎች በሚከሰት የከባቢ አየር መዛባት ለተለያዩ አደጋዎች እየተጋለጠች እና…",
            "የጊዜ ልዩነት እንጂ ሁሉም ሰው መሳቁ አይቀርም። Be Happy!!",
            "RIP TPLF and   RIP EPRDF (ወያኔ) እነዚህን ጨቃኝ ስሞች ተገላገልን! ከዚህ በሆላ በተግባርም ሰው ሆናችሁ እንደምታሳዩን ተስፋ እናደርጋለን!! ጠ/ሚ አቢይ",
            "የኢቲሳ እንበሳ ፣የወንጌል ገበሬ፣ሐዋርያው መነኩሴ  ጻድቁ አቡነ ተክለ ሃይማኖት በረከት ረድኤታቸው በምናምነው ላይ ይደርብን!        አሜን!",
            "'@user አንድ ነገር ልንገርዎት የምፈልገው Madam Secretary እያንዳንዱ ኢትዮጵያዌ ምን ያህል እንደሚለፎ እና ምን ያህል እየጣሩ እንደሆነ እንደሚያቅ እነደሆነ'",
            "ጥበብ ይናፍቀኝል፣ ተቻችሎ የሚኖር ሕዝብ ያስቀናኛል፣ ድንቁርና ያስፈራኛል፣ ጦርነት ያስጠላኛል --- ጋሽ ሎሬት ፀጋዬ ገብረ መድኅን",
            "እምየ ፥ጎንደር ፥ታሪካዊ ፥ ምድር ፥ እንግዳ፥ ተቀባይ ፥ህዝብ፥ ያለብሽ፥ከተማ ፥ሰላምሽ ፥ይባዛ። የኢትዮጵያ ቡና ደጋፊዎች  እናመሰግናለን የተከባራችሁ የአገራችን ተዎዳጅ ቡድን ደጋፊዎች??",
            "እውነት ነው",
            "'አርቲስት ቴዎድሮስ ተሾመ የኢትዮጵያን እውነት ከትናንት እስከ ዛሬ! ለኮንግረስ አባሏ ኬረን ባስ በጥለቀት ተንትኖ አቅርቧል። Thank You so mach Taddy We are proud'",
            "መንግስት የትኛውንም መንገድ ተጠቅሞ ባስቸኳይ የታገቱ ተማሪዎችን ነጻ እንዲያወጣቸው እንጠይቃለን።",
            "በአራት ውስጥ ላስቀምጥህ እና በጣም ጥሩ የሆነ ደስታን ልሰጥህ እፈልጋለሁ",
            "Minilik Oromiyaa gara Xoopiyaatti erga jijjiiree, Oromoon dhiigaa, fannifamaa, qalamaa, hidhamaa, ari’atamaa, #salpachaa fi beela’aa jira! Oromiyaa diina harkaa baafnu malee rakkoon Oromoo ittuma fufa! Kanaaf, WBO jabeessuun dirqama. URL #OromoIsStarving",
            "Guyyaa kaleessaa mana jireenya HD-ABO jaal Daawud Ibsaati warra waraana mootummaan mana hidhaatti darbataman . URL",
            "Filannoo itti aanu irratti dantaan sabaafi nageenyi biyyaa akka hin miidhamneefis, dhaabbileen siyaasaa Oromoo saffisaan agoobara takka jalatti deebi’uun (walitti baquunis, tumsa tolfachuun) tarsiimoo filannoofi bulchiinsaa bocachuun humna filannaa tahuun bahuu qabu~JM",
            "Humnooti Mootummaa Qabeenya Abbaa Gadaa Obbo Goobanaa Hoolaa cabsuun saamani – Qeerroo Bilisummaa Oromoo URL",
            "NAGEENYA.....Bu'uura waa hundaati. Qabeenya hundaa oliitiIfa xiqqaa guddaati.Kan hiyyeessaa fi dureessaati.KANAAF HUNDUU HAA TIKFANNU.BAKKA NAGAA OOLAA!",
            "Beelli amma Oromon itti dhuma jiru motummaa nama nyaata kanaan ta'e jedhame kan irrati hojetamedha. Qotee bulaa ajeesun, manasaa gubuun, masaasa manchaasun, lafasaa irra buqisun beela fiduf yoo hintaane maalifiree?. Oromoo dammaaqi. #HungerInOromia",
            "Minilik Oromiyaa gara Xoopiyaatti erga jijjiiree, Oromoon dhiigaa, fannifamaa, qalamaa, hidhamaa, ari’atamaa, salpachaa fi beela’aa jira! Oromiyaa diina harkaa baafnu malee rakkoon Oromoo ittuma fufa! Kanaaf, WBO jabeessuun dirqama. URL #OromoIsStarving",
            "@user Maarre aabbe,bara sana oromoota Tuulamaa yogguu gowwomsan san,Jalqaba Qeesiitu dhufa...lafa fudhata ___xaafii qotuuf,...fira isaa fidata! Gurbattii qawuxii qeesicha hin jaallanne tokkotu turte,fi gaafa namtichi dhufu aka wra kni lfa kaate hin simattu...ni aarti...",
            "@user @user 7.Ajandichi ajandaa dhaaba siyaasaa tokko qofa miti,MNA ni dhuunfata.8.Leeccalloo Oromiyaa humnaan weeraranii qabachuun fedhii dhokataa isaaniiti!9.Biyyattiin ni diigamti sodaa jedhu hin qaban,humnaan cunqursanii bulchuun ni danda'ama jedhu! URL",
            "ዘስደምም ታሪኽ ኤርትራውያን ተጋደልቲ፡ ሞት ናይቲ ሓደ ብሕሹኽታን ብውረወረን ካብ እሱርቤት ዒራዒሮ ክንገር ከሎ፡ ናይት ሓደ ግን ኣብ ኣስመራ ዝተገብረሉ ስነስርዓት ቀብሪ ዊሒድዎ",
            "እቲ ፃዕራም ጀግና ህዝበይ እናጠመየ ክርኢስ ከሕምም ካብዚኦምስ እንድዒዋ ካብ እምነትና",
            "Abdu kaayyoo essaa jirtuu sabbononii oromo URL",
            "Rakkoon Madda Furmaatati kanaf kaayyoo keenya irraati wareegamnaa!!Jecha @user",
            "Sagaggalummaan Siyaasaa mootummaa  Xoophiyaa kun naaf hin galuu .Uummanni  Oromoo godina Baalee jiran ,beelaan  dhumaa jiru.",
            "Qabsoon cubbuu miti, mirga,Mirga qofas miti dirqama uumamaatti.....",
            "Jaalala horachuuf gaarummaa hojjachuun nurra mala kana beeknee daandii jalalaa irra haa deemnu. URL",
            "#ምስ ጉጅለ ህግደፍ ዘይተባተኽኩም፡ የላ ተዐል ህና ተግባራት ጀነራላት ህግደፍ! #Alenamediatv #Eritrea #Ethiopia #Tigrai via @user",
            "@user Kana an warra seelii isaanii irra torban darbe falmii siyaasaa cimaa erga goone booda dhumaratti 'option' isaan qaban waraana kaasu akka ta'e natti himaniiru!",
            "ዓለም ናብ ዩክረይንን ሩስያን ኣብ ዘድሃበትሉ ግዘ ንሕና ደማ ዕማምና ከይንርስዕ ጥንቅቕ ንበል። ብሰብ-ሰራሕ ርሃብ ዝፅነት፣ ብድሮን ዝጭፍጨፍ፣ ብሰኣን ቀረብ መድሓኒት ዝሞት ህዝቢ ስ",
            "@user @user @user @user Boqqolloo irraa wanti hin hojjatmne jira jetteeti?Buddeena,Maraa,Marqaa,Daabboo,Qixxaa,Mooqa,...kkk   ...Kun hundi boqqolloo asheeta irraa haala addaan hojjatamu",
            "Biyyiis Abbaa qabdi alaabaniis Isa dhugaa Sana ta'uu qabdi Dhugaaniis bakkatti galuu qabdi. Abbaan dhugaas dhugaasaa argachuu qaba. Muramteetti.",
            "Sabni gabrummaa jala jiru beelaa fi lolaaf saaxilamuun isaa waanuma hin oolle. Beelaa fi lola Oromoo irratti adeemaa jiru xumura itti-godhuu kan danda’amu, Oromiyaa walaboomsuu fi bilisummaa saba Oromoo mirkaneessuu qofaani. WBO cinaa dhaabbadhaa! #OromoVoice #AidForOromia ####",
            "‘’Aduun sobaa yeroo dhiitu kiyyoon warreen shira xaxanii ni cita.’'Dr Abiyyi Ahimad.",
            "እንኳዕ ኣብፀሐኩም ኣብፀሐና ሰላም ራህዋን ቅሳነትን ንህዝብና #ቅዱስ ገብርኤል #ካቴድራል #መቐለ]",
            "@user @user weraratu xophiya 2 Cibraa Odaa adoollattibharka Kennataan qawwee fi hidhannoo waliinGuyyaa har'aa aanaa @user ganda @user daarreessuun meeshaalee hedduu bojiuun hedduu du'aaf madoon adabeera URL",
            "ስለ ትግራይን ህዝባን ጥዑም ብስራት እንሰምዐሉ ቀዳዊና ባሕቲ 1 ይግበረልና።",
            "Yaa oromoo ifbekaa namaa beekaa siyasaan akkanaa tatuu ummataa kenyaa dhumaa jira akkanaraa yoo walii yanee baredaa bilashitii rasasaa duratii deminaa siyasaan abbaa qabdii miskinii rabbii qabaa dhisaa",
            "Sabni toko malummaan isa yoo bade nibada. Finfiinneen fakenya gaari nuf taati. Oromoo,bilisummaa yo goonfachu baate, Finfiinneenumti siliqiimsite sihabashoomisiti. Ammas wanti adema jiru kanuma. Hamma yomiiti Oromon biyya abbaasarrati alaga kan ta'u? #StopHRAbusesAgainstOromo",
            "Godina kibbaa oromiyaa gujii  keessaatti hongeen garmalee hammachuurra kan ka'e ummaanni rakkoo hama keessaa jira. Aana Gumii eldallo,sabbaa boru,goro dola, liiban,Fi waadara...deegarsa hatatama barbaada. URL",
            "Imala badhaadhinaa milkeessuuf gama hundaan hojjetamaa jira.Mootummaan Naannoo Oromiyaa Wabii miidhaan nyaataa mirkaneessuu, Oomisha alaa galuu biyya keessatti oomishuun bakka buusuu,al ergee dabaluufi carraa hojii uumuu milkeessuuf tarkaanfiiwwan hedduu fudhachaa jira. URL URL",
            "'@user ከም ማሕበረሰብ እወ ትኽክል ኢኻ፣ ፀላእትና ከምዝኾኑ ንማንም ዝጠፍኦ ሓቂ ኣይኮነን፣ ከምኡ ኢና ድማ ንኣምን። ኣብ ሚድያን ፖለቲካዊ መግለፅን ግን ከምዚ ኢልካ ም'",
            "'@user @user @user እቲ ልዕሊ ኹሉ ዘሕዝን ሰውራ ኤርትራ ብሓደ ኣምሓራዊ ስሚዒት ዘለዎ ኢትዮጵያዊ ????ተመሪሑ ምእታው እዩ ::'",
            "'@user ህግደፍ ጥዑይ፥ ልውጢ ዝገብር ዝኮነ ከበርክት ስለዘይክእል፥ ብሽዳዶ ብሸበጥ ጽልኢን ባእስን ክዕቢ ይፍትን።'",
            "'@user ንዝነቅሐ አፍሪቃዊ መራሒ ዲክታተር አጠሚቕካ ምድኻም ምቕታል እዩ ነገሩ'",
            "@user ቃልስና መሪርን ሓጺርን እዩ ዓወትና ናይ ግድን እዩ ኣማራጺ ስለዘይብልና ነቲ ዝመጻና ሓይሊ ኣብ መሬት ትግራይ ድኹዒ ኽኸውን ግዲ እዩ በቲ ተገዲድና ናኣትዎ",
            "@user @user ጭብጢ ይሐዝካ!!ጉኑፍ ህግደፍ ደአ ባዕልና እንዲና.",
            "'@user @user ወይ እዚኦም ዘርከብ ህዝብና ኣብ ጭንቀት ኮይኑ ጠሙዩ ምግቢ እና ንደሊ ዝበለሲ መንግስቲ ንቅይረልካ እዋይ ህዝበይ ዝረከብካዬ መከራ ብህዝብ ትግራ'",
            "'ጭፍራ ወያነ ኣብ ልዕሊ #ኤርትራ ሱር ዝሰደደ ተጻብኦን ኣጀንዳን ኣለዎ እዚ ድማ ምጉባጥ ግዝኣታት ኤርትራ ስርዓት ለውጢን ምጥፋእ ኤርትራዊ ሃገራዊ መንነትን ዘጠቓልል እዩ፡ ነዞም መ'",
            "'@user ህዝባዊ ኢዩ ዶ ኣይበልካን ? ህዝባዊ ማለት ተራ ህዝቢ ትግራይ ኣብ ኲናት ክሳተፍ ማለት ዶ ኣይኮነን ? ኣብ ኲናት ዝተሳተፈ ዳኣ ይእሰር ይቁርመድ እወ። በርከ'",
            "'@user ምዕራባውያን ኣውሮጳውያን ወትሩ ኣብ ኣፍሪቃ ኽፉእ ሓሳብ ስለ ዝነበሮም ኪጽግኑ ዘይክእሉ ጕድኣት እዮም ኣውሪዱም።እተን ደርሁት ናብ ቤተን ይምለሳ ዝብል ጕዳ'",
            "'@user @user እታ ብየማን ካልኤይቲ ምልክት ዝገበርካላ እናስሓቀትኒ ነይራ'",
            "'ፕሮፌሽናላት ተቀዳደምቲ ኣባላት ሃገራዊት ጋንታ ኤርትራ ኣውስትራልያ ኣትዮም || እቲ ሕቶ ናይ ዝቀልጠፍካ ኣይኮነን . via @user'",
            "'ቃልስና ቃልሲ #ናፅነትን #ሓርነትን ዩ። ካብዚኣ ዝምብል እትብል ኣራእያ ዘለዎ አመራርሓ ብግዚኡ ተዝእለ ዝሐሸ እዩ። ሓርበኛታት ትግራይ ብፍላይ መናእሰይ #ሃገረ_ትግራይ ኢሎም ዮም'",
            "'ኢትዮ ቴሌኮም፡ ሲም ካርድ ንዘለዎ ሰብ ዕድል ልቓሕ ይፈጥር #Tigray'",
            "'እዚ ቦታ #ሕደግውረድ ይበሃል። ዓሚ መጋቢት ኣቆፃፅራ ግእዝ 2013 ብጀነራል ዘነበ ክፍለ ዝምራሕ ክ/ሰ ካብ ዝመርሖም ሓያል ውግእ እቲ ዝመረረን ን3 መዓልቲ ብዘይ ማይን ምግብን ዝ'",
            "'ወለዶ ትግራይ ንቕሓተ ሕሊንኡ ኣብ ምዕባይ፣ ንሕዝቡ ተሓላቒን ማእገርን ኣብ ምዃን፣ ከምኡውን ሓላፍነቱ ኣብ ምውፃእ እንታይ ግደ ክህልዎም ይግባእ?'",
            "#EritreaPrevails #EritreaPrevails 16th YPFDJ EURO Conference   ዋዕላ መንእሰያት ህግደፍ ኤዉረጳ ካብ 14-18 ሚያዚያ 2022 ????ወትሩ",
            "'@user @user እዝይ ምስሉይነት ኣይኮነን። እቲ ዘሎ ኩነታት እዩ።'",
            "ትግራይ ሕቶ? ካብ #WesternTigray ዝርከብ ምሕርቲ ሕርሻ ዝራእትን ሃፍቲ እንስሳን ዶ ብ humanitarian ትካቦ ትግራይ? ህዝቢ ምዕራብ ትግራይ ንምንታይ ክብተንን ብፀላትና",
            "'ትግራይ እያ ተበዲላ። ንናፅነት ኤርትራ ኣብ ናቕፋ ተጋሩ ተጋደልቲ ህወሓት እዮም ተሰዊኦም፤ ንህዝቢ ጎንደር ካብ ጭካነ መላኩ ተፈራ ፣ ተጋሩ ተጋደልቲ ህወሓት እዮም ኣድሒኖሞ፤ ንህዝ'",
            "'እንኳዕ ንወርሓዊ በዓል ቅዱስ ሚካኤል አብፀሐና። ናይ ቅዱስ ሚኪኤል ረድኤት አብ ኩላህና ይሕደር። ብረዲኤቱ ንህዝቢ ትግራይ ይራዳእ።'",
            "'@user @user @user There is also a middle ground . አብ ጫፍ ጸጋም ወይ አብ ጫፍ የማን ሒዝካ ፍታሕ የለን። እቲ ጽቡቁ አኪብካ አብቲ ዘራኽ'",
            "'@user እወ ሓቃ ብሓቂ ጅግና ጅግና ይወልድ ኤርትራ ሃገርና ንዘለኣለም ከቢራን ታሓፊራ ክትነብር እያ ሰላ ጀጋኑ ደቃ ዝኽርን ሞጎስን ንስዋአትና ዓወት ንሓፋሽ ው'",
            "'@user እግዛብሄር ኣቦይ ካብ ሰብስ መፍትሒ የብሉንዋ ኣታ ፀልማትን ብርሃን ዝፈጠርካ ምእንተ ህፃውንቲ ምሕረት ኣውርደልና ትግራይ ዓድና ፈጣሪይ ባርኸልና'",
            "'@user ኑራ ሓፍተይ እቲ ዓውት እካ ጽቡቅ እንተኾነ ንኤርትራ ሃገርና መንግስትናን ህዝብናን ዝኹርዕ ጽቡቅ እዩ፡ ተዘይኮይኑ ንረብሓ ምዕራባውያን ጉልበቱ ዘጥፍእ ኤርትራዊ ክህሉ የብሉን እየ ዝብል'",
            "'@user @user ካብኦም ተማሃሪ ርዝነት፡ ካርታ ናይ ዝሓወስካ ኣይኮነን። ሸንኮለል ኣይንበል። ዕርፊ ጥራይ ነጽንዕ።'",
            "'?? #TigrayIsSuffering on the ICs watch . ፈዳይ ሕነ-ተስፋ ህዝብኻ ሓደራ:ኣውግሓያ እዛ ኣለምስባ ረኣናያ::'",
            "'ብዛዕባ ጅግንነትን ቅያን መስተንክርን ቀዳሞትሞ ኣጆኻ ኣብ ዋጋ ዕዳጋ ኣየእትዎንየ።ዝኾነ ሰብ ከቋሽሾውን ሱቅ ኢሉ ዝርኢ ሕልና ኣይውንንን እየ።ቅያን መስተንክርን ቀደምና ግና መሕብኢ'",
            "'ዋይ ኣሕዋተይ ብበረካን ባዓድን ባ መናእሰይና ይውድኡ ኣለው ኣረ ኣምላኽ ምሕረትካ ላኣኽ መንግስተ ሰማይ የዋርስኩም ኣሕዋተይ ታይ ዓይነት ግዜ እዩ ???? ራጎን ጌሃርን ንዘለዉ ኣሓት'",
            "'@user @user እሞ እቲ ጠለባት ዶ ክንሰምዖ? እዚ ፍሉጥ ኢዩ:ረኺብካለይ ኣለኻ ማለትዩ። እስከ ጥዑም ኣስማዓኒ!'"
           ],
           [
            "negative",
            "negative",
            "negative",
            "negative",
            "negative",
            "negative",
            "negative",
            "negative",
            "negative",
            "negative",
            "neutral",
            "neutral",
            "neutral",
            "neutral",
            "neutral",
            "neutral",
            "neutral",
            "neutral",
            "neutral",
            "neutral",
            "positive",
            "positive",
            "positive",
            "positive",
            "positive",
            "positive",
            "positive",
            "positive",
            "positive",
            "positive",
            "negative",
            "negative",
            "negative",
            "negative",
            "negative",
            "negative",
            "negative",
            "negative",
            "negative",
            "negative",
            "neutral",
            "neutral",
            "neutral",
            "neutral",
            "neutral",
            "neutral",
            "neutral",
            "neutral",
            "neutral",
            "neutral",
            "positive",
            "positive",
            "positive",
            "positive",
            "positive",
            "positive",
            "positive",
            "positive",
            "positive",
            "positive",
            "negative",
            "negative",
            "negative",
            "negative",
            "negative",
            "negative",
            "negative",
            "negative",
            "negative",
            "negative",
            "neutral",
            "neutral",
            "neutral",
            "neutral",
            "neutral",
            "neutral",
            "neutral",
            "neutral",
            "neutral",
            "neutral",
            "positive",
            "positive",
            "positive",
            "positive",
            "positive",
            "positive",
            "positive",
            "positive",
            "positive",
            "positive"
           ]
          ]
         },
         "domain": {
          "x": [
           0,
           1
          ],
          "y": [
           0,
           0.485
          ]
         },
         "header": {
          "align": "center",
          "fill": {
           "color": "lightskyblue"
          },
          "font": {
           "color": "black",
           "size": 12
          },
          "line": {
           "color": "darkslategray"
          },
          "values": [
           "country",
           "tweet",
           "label"
          ]
         },
         "type": "table"
        },
        {
         "domain": {
          "x": [
           0,
           1
          ],
          "y": [
           0.515,
           1
          ]
         },
         "labels": [
          "negative",
          "neutral",
          "positive"
         ],
         "marker": {
          "colors": [
           "red",
           "yellow",
           "green"
          ]
         },
         "type": "pie",
         "values": [
          1590,
          582,
          851
         ],
         "visible": false
        },
        {
         "cells": {
          "align": "left",
          "fill": {
           "color": "lightcyan"
          },
          "line": {
           "color": "darkslategray"
          },
          "values": [
           [
            "Algeria",
            "Algeria",
            "Algeria",
            "Algeria",
            "Algeria",
            "Algeria",
            "Algeria",
            "Algeria",
            "Algeria",
            "Algeria",
            "Algeria",
            "Algeria",
            "Algeria",
            "Algeria",
            "Algeria",
            "Algeria",
            "Algeria",
            "Algeria",
            "Algeria",
            "Algeria",
            "Algeria",
            "Algeria",
            "Algeria",
            "Algeria",
            "Algeria",
            "Algeria",
            "Algeria",
            "Algeria",
            "Algeria",
            "Algeria"
           ],
           [
            "@user @user @user نسقسيك اخي شكون الارهابي الحقيقي لي ستغل اسم الاسلام و ستعمل ايات ق… @user",
            "جامي نصحني واحد و تأثرت دايما يكون تركيد تاعي وقتاش يبلع فمو",
            "@user اوي طيحيلهم برك 😂 امبعد خليهم هكك 😂😂😂",
            "@user واقيلا اثرت عليهم لغنية هي تصفار وتخضار من بكري يحبو الالوان😂😂😂😂",
            "مبعد نهار يتزوج يحب يدي وحدة خدامة باه تعاونو في المعيشة هه.. @user",
            "@user وعلاه ماتكونيش انت الي يفارق قبل ما يفارقك رفيقك 🤔🤔🤔",
            "بنادم يحكيلي في حاجة و انا علابالي بيه يكذب\\nوجهي: @user",
            "@user مزية قتلي اللجنة المنظمة نفهم كلش ههه",
            "@user ولاد الحركى يخرجو و يستقبلوه علابالي",
            "شريكه في الجريمة فاق ولو بصفة متأخرة وأنت وقتاش يا دغفة يا مدك 😀 @user",
            "@user @user @user @user غيرت من 5 رواتل زيت😏🤣🤣🤣 علابالي جامي لحقاتو هدية كيما هذي 😏😏",
            "@user @user هههههه راهو حظرني 😳وعلاش هو يوضحلي !؟",
            "@user ...ولا فكاهة ولا مزية",
            "@user زعما تقدري ديريها نتي",
            "@user تعرفش وقتاش تقال لكلام هذا؟ شكرا",
            "نهدر و نضحك معا ڨاع الناس بصح \\nعلابالي شكون الذيب و شكون الحبيب😶",
            "@user انا ما قلتش في الجزائر و علابالي بلي فيديو قديم .",
            "كي نكون نصلي أُمبعد نعفس على الخيمار(الحجاب): @user",
            "@user زعما الناس رايحين يقراوه صح؟",
            "شكون تسمع في rap dz ?❤️\\u200d🔥 @user",
            "@user عمل فيك مزية حتى ماتشوفش شخبطاته مايوجع قلبك",
            "@user مزية ماندخلهمش",
            "علابالي شدة و تزول ، بصح ثقيلة و الله",
            "ماقدرتش نرقد نضت ندوش على الخمسة تاع صباح مزية جات العين",
            "@user @user أنا حسبتك من هاذوك المراهقات لي يحشمو من لهجتهم ، مكنتش علابالي بلي راكي إنسانة متزوجة ومثقفة لهاذا نطلب سماح",
            "@user سامطة لكن ضحكت😭😭😭😭",
            "@user بصحتك والله العظيم لمصارني تكوروا وكرشي قرقرت ههه",
            "@user يبارك فيك \\nعلابالي اسمي نبيل جدا 😅😊\\nتسلم🌹",
            "@user خيار الناس انت معليش راكي معروضة مرحبا بيك خديجة",
            "@user يعيشك حبيبتي \\nعااادي\\nعلابالي ما تولهتيش برك\\nكل عام وانتي بخير ♥♥♥♥"
           ],
           [
            "negative",
            "negative",
            "negative",
            "negative",
            "negative",
            "negative",
            "negative",
            "negative",
            "negative",
            "negative",
            "neutral",
            "neutral",
            "neutral",
            "neutral",
            "neutral",
            "neutral",
            "neutral",
            "neutral",
            "neutral",
            "neutral",
            "positive",
            "positive",
            "positive",
            "positive",
            "positive",
            "positive",
            "positive",
            "positive",
            "positive",
            "positive"
           ]
          ]
         },
         "domain": {
          "x": [
           0,
           1
          ],
          "y": [
           0,
           0.485
          ]
         },
         "header": {
          "align": "center",
          "fill": {
           "color": "lightskyblue"
          },
          "font": {
           "color": "black",
           "size": 12
          },
          "line": {
           "color": "darkslategray"
          },
          "values": [
           "country",
           "tweet",
           "label"
          ]
         },
         "type": "table",
         "visible": false
        },
        {
         "domain": {
          "x": [
           0,
           1
          ],
          "y": [
           0.515,
           1
          ]
         },
         "labels": [
          "negative",
          "neutral",
          "positive"
         ],
         "marker": {
          "colors": [
           "red",
           "yellow",
           "green"
          ]
         },
         "type": "pie",
         "values": [
          2652,
          3317,
          3069
         ],
         "visible": false
        },
        {
         "cells": {
          "align": "left",
          "fill": {
           "color": "lightcyan"
          },
          "line": {
           "color": "darkslategray"
          },
          "values": [
           [
            "Morocco",
            "Morocco",
            "Morocco",
            "Morocco",
            "Morocco",
            "Morocco",
            "Morocco",
            "Morocco",
            "Morocco",
            "Morocco",
            "Morocco",
            "Morocco",
            "Morocco",
            "Morocco",
            "Morocco",
            "Morocco",
            "Morocco",
            "Morocco",
            "Morocco",
            "Morocco",
            "Morocco",
            "Morocco",
            "Morocco",
            "Morocco",
            "Morocco",
            "Morocco",
            "Morocco",
            "Morocco",
            "Morocco",
            "Morocco"
           ],
           [
            "الفقر والجوع والغلاء البطالة السبب الرئيسي في فاجعة الصويرة وغيرها'",
            "@user imad kolma ntalil kanjbrom hajmin 3lik hhhh",
            "#BAMA2016PlatinumEdition_IbtissamTiskat Wahed lbghl starac Knt 3atah ti9ar mais hadi 7mrat taygol btissam tl3at bzf nominé #IbtissamTiskat",
            "البطالة وانعدام الديمقراطية والقضاء والمنافسة الشريفة والمساواة في الحقوق والواجبات وتفشي رهيب الفوارق الطبقية هي التي تجعل الشباب كيفما كان مستواه الهروب الى أوروبا '",
            "أمريكا الشيطان المجرمه قتلة الاطفال كل هذا الدمار في بلداننا سببها هؤلاء الجرمين'",
            "شفت هاد \"\"شوف لخرا\"\" ما باين لهم غير البيجيدي ...  صفحة ديال ولاد ..... قولاً وفعلاً  تفوووووووو",
            "ولاتغطية الشمس بالغربال .فاجعة الصويرة تخفي من ورائها ملايين الصحايا من المغاربة الدين يتدورون جوعا.القفة كانت لصالح النساء دون الدكور .انها العنصرية . '",
            "تفو بنادم باقي جاهل ولكن صراحتاً هاد لولاد عجبوني فيها'",
            "awediii la flakher gharja3 lhadrtk chi kikarhk f chi ba9i ghir infollow ra 9rriiib inchalah",
            "تونس😢والله حشوما عليهم راس المسخ خارج من عندهم ما من المغرب العربي'",
            "lli bgha yechri taykhaless hadik jou9a dyal les labels",
            "mcha chaf profil dyala 3ad 3ala9 yak a khti mhm ana 9otlek cheno fhamt ou ntina kima bghiti tfehma fehma",
            "that moment mli chi be3louk fl7ouma ki goli 3emmi",
            "@user @user @user walah hit ba9a kan3ez douniaa goliha twa9ef ana kont 9oltha liha chhal hadii.....",
            "@user @user wayeah, f had le cas kibanli simido mzyan 3la bellerin",
            "@user tahet li f balii ..",
            "aji daba dmna alba9a2 wla mazal",
            "بونو تألق مع إشبيلية ضد سوسيداد وخا خسرات والنصيري لعب وقدم مستوى مزيان",
            "تفاصيل مواجهة دامية بين بوليس سيدي بنور ومتطرف هدد الناس بالجناوة وقاص بوليسي وها كيفاش طاح,",
            "rah khasha tnchr hit mam3rofach bzaf kima nta li bditi",
            "bghit n3raf rir min nti mkrahtch nkaml m3ak mais rani mazal khadam akhti merci bazzafff",
            "احلى تحية من العراق لأبو مكة العلم.. رافع راسنة والله.. كل الاحترام'",
            "sah hanan ljazayriyin yhabouha fans souhaila wlad bladna lmgharba li kaysabouha machi dzayriyin ou chokran lhobkom",
            "dmn anniv de mn bb",
            "شكرا لكل من يشجعني و انتظروا دائما الجديد'",
            "allah ywaf9ak wysahal 3lik ya rab",
            "مرحبا بك في بلد اجدادك٠عاش الملك محمد الساديس '",
            "صراحة هاد سيدة هي بقعة ضوء فالسياسة المغربية .",
            "hhhhh ana hadi chi 20 d9i9a bach chthaa 350 llahooma bariik",
            "fans salom l maghrebi kayhtafel b3id milad salom"
           ],
           [
            "negative",
            "negative",
            "negative",
            "negative",
            "negative",
            "negative",
            "negative",
            "negative",
            "negative",
            "negative",
            "neutral",
            "neutral",
            "neutral",
            "neutral",
            "neutral",
            "neutral",
            "neutral",
            "neutral",
            "neutral",
            "neutral",
            "positive",
            "positive",
            "positive",
            "positive",
            "positive",
            "positive",
            "positive",
            "positive",
            "positive",
            "positive"
           ]
          ]
         },
         "domain": {
          "x": [
           0,
           1
          ],
          "y": [
           0,
           0.485
          ]
         },
         "header": {
          "align": "center",
          "fill": {
           "color": "lightskyblue"
          },
          "font": {
           "color": "black",
           "size": 12
          },
          "line": {
           "color": "darkslategray"
          },
          "values": [
           "country",
           "tweet",
           "label"
          ]
         },
         "type": "table",
         "visible": false
        },
        {
         "domain": {
          "x": [
           0,
           1
          ],
          "y": [
           0.515,
           1
          ]
         },
         "labels": [
          "negative",
          "neutral",
          "positive",
          "negative",
          "neutral",
          "positive"
         ],
         "marker": {
          "colors": [
           "red",
           "yellow",
           "green",
           "red",
           "yellow",
           "green"
          ]
         },
         "type": "pie",
         "values": [
          7226,
          7597,
          7329,
          6380,
          524,
          3652
         ],
         "visible": false
        },
        {
         "cells": {
          "align": "left",
          "fill": {
           "color": "lightcyan"
          },
          "line": {
           "color": "darkslategray"
          },
          "values": [
           [
            "Cameroon",
            "Cameroon",
            "Cameroon",
            "Cameroon",
            "Cameroon",
            "Cameroon",
            "Cameroon",
            "Cameroon",
            "Cameroon",
            "Cameroon",
            "Cameroon",
            "Cameroon",
            "Cameroon",
            "Cameroon",
            "Cameroon",
            "Cameroon",
            "Cameroon",
            "Cameroon",
            "Cameroon",
            "Cameroon",
            "Cameroon",
            "Cameroon",
            "Cameroon",
            "Cameroon",
            "Cameroon",
            "Cameroon",
            "Cameroon",
            "Cameroon",
            "Cameroon",
            "Cameroon",
            "Cameroon",
            "Cameroon",
            "Cameroon",
            "Cameroon",
            "Cameroon",
            "Cameroon",
            "Cameroon",
            "Cameroon",
            "Cameroon",
            "Cameroon",
            "Cameroon",
            "Cameroon",
            "Cameroon",
            "Cameroon",
            "Cameroon",
            "Cameroon",
            "Cameroon",
            "Cameroon",
            "Cameroon",
            "Cameroon",
            "Cameroon",
            "Cameroon",
            "Cameroon",
            "Cameroon",
            "Cameroon",
            "Cameroon",
            "Cameroon",
            "Cameroon",
            "Cameroon",
            "Cameroon"
           ],
           [
            "@user Hmhmhm 🤔🤔 ban yardaba",
            "shiyasa naga hausawa duk makafi ne",
            "innalillahi wainna ilaihirrajiun el~rufai kaine da wannan maganar lallae kun bani mamaki muje zuwa akwai allah wlh bazaku taajin rayuwar duniya ba in har baku sauke nauyin alkawarin da kuka daukawa talakawa ba don tun wuri ku dawo garemu",
            "imagine years girl raped by persons over month ayam sorry to asked like how kidnapping dinta sukayi suka daureta daki over month kokuwa plz dan allah inason qarin haske",
            "@user Saboda sunsan babu cutar qarya ne... To meyasa zaku takura kansu 😅😅",
            "@user Duk sekunci buraubanku lahira badebaku bariba koh 🤪🤪🤪",
            "@user YDG wannan batun haka take 👬👪😖😟 ta shafi inda muke, musamman ma yara yan gudun hijira babu uwa babu uba, sai ta Allah rayuwan su😭😭",
            "wlh ko ni aka kai a makaranta guda zan iya kama mutun amma kaji wani aikin banza wai mutun",
            "@user @user Gaskiya kin daura Karen ki a rana wlhy... 🙄🙄🙄",
            "@user Ansace karfe 11 na dare amma kuma wai da uniform ajikinsu kai Ana shegiya a kasarnan!🤔🤔😄",
            "@user Yasin saina fada kayi aure😂😂😂",
            "@user Amma kowa zai iya karba Dollar 💵?",
            "@user @user @user @user @user @user @user @user @user @user @user Haba @user wannan tambaya haka kakar taje chan😂",
            "@user Yar Sambo tayi yawa ciki....😂😂😂",
            "@user Dan Allah in masarar tay dusa atemaka akawomana Masha dan malele ko danbu🙄😎",
            "@user Dan allah kiyi. Na tuna time dinda kika shigo kannywood self😂💔. Talk less of 10 years😂😂😉",
            "@user Wuka Bata fasa shi 🤣",
            "@user https://t.co/2nvwLp1cls 💰💰💰💰💰💰💰💰💰💰💰💰💰🤑🤑🤑🤑Your Referral Link is: https://t.co/wXgNMISsiy Registration 1500 ne 💰💰💰💰💰💰💰 *Zasu barma 500 aciki Kuma duk Wanda yayi register akasanka zasu baka 500 kan ko wane mutum datar su tana da sauki sosai*",
            "@user An yi masa ritaya dai 💀",
            "@user Bbu komai. Amman Ni anawa shawarar dazan baka shine: gwanda acigaba da gudanar da shirin a Arewa24 saboda mutane dayawa a tashar suke kallo. Inkuma akamayarsa wata tashar bakowa bane zaicigaba da kallo✨✨",
            "@user Babu shugaba da ya kai Baba Buhari gaskiya da tausayin talakawa, cigaba da gashi tsoho Dan Daura.😁🏃",
            "@user Shikenan, a sanina a tsarin musulunci idan mutun daya yace ya yafe tun shikenan a nan duniya, sai dai anzo lafira wannan tsakani da Allah.Allah yasa mu gane, ya qara karemu daga miyagun qaddarore.Ameen 🙏",
            "@user Kaii 😳 Allah yasa ba ziyarar gani da Ido yazo ba https://t.co/jochgAmNih",
            "allah ya kawo karshen wannan tashin hankali wlh gaba yan nijeriya wasun mu bama kyautawa yanz menen amfanin tashin hankali da zubar da jini kaico allah ya shiryemu",
            "@user Allah yasa muna cikin masu kai karshen 2021, itama. 🤗🤗👍",
            "toh mun godewa allah",
            "@user Masha Allahu, wannan cigaba Allah ta kara kawo mana irin shi, duk su karar da kansu🙏🙏🙏",
            "@user Sai a gyara idan anaso Allah yayi keeping naku safe 😂",
            "@user Allah yaji qansu da rahama🤲",
            "@user Yauwa bbchausa barka mu da Sha ruwa 🍉",
            "dat even small some elderly ppl will jst come from no where nd blike my son am rushing to church can i please blah blahi will kuku let dem use out of my time b dem use ma destiny play ping pong its annoyning",
            "so we are almost done with how much did you save abi i should mind my business me sef wey dey tweet like this need money die",
            "this one don finish eba she con de serve hot looks if you dont geddifok",
            "so na wetin start the quarrel be that",
            "was dem don lock am who unlock am sef me i no dey see road again oh",
            "the amount of coconut water i have had in this life time i should be on a zero iq if according to my people e nor dey make pikin get sense some myth",
            "i nor even understandna she n person dey fight",
            "na who get sponsors dey go school na street i dey full time",
            "baba turn a whole contry to babe wey dem dey woo allow me to prove to you that boy if you dont you want to use us to collect extra sheet that you wont use they will waste your time they will prove to you carry your desire and go abeggi",
            "this one don wash hand comot for anything wey concern heavenly race",
            "na who dey alive dey apply for visa",
            "dis drama na na dey package am while na dey fund am you can listen via",
            "omo this one dey real if na you be the guy what next",
            "for and to take nigeria to the next level people are ready to cast their votes even with their bloods not ink as usual dem no dey buy integrity dem for buyam from dubai nah",
            "wetin e be na tell me",
            "sheybi na film na ‍️",
            "make messi con perform and win trophies make e collect th balon dor next year the tears go dey immense",
            "if dem born you for nigeria automatically life don dey ahead of if you come fall for poor family if you come be first born paddy take life jejena money dey make normal problem be like spiritual problem",
            "this was what a lady told a guy that they had planned to get married together o baba dey hustle big time and na only chop money baba still dey see though with good future sha but babe said he should be saving for marriage o and baba was like how",
            "e con be like say na final match dem play",
            "e better like that make you no dey resemble pregnant woman",
            "u people should pls stop acting dis way u don pass dis level of abusing each other relaxchill and continue chasing ur dreams pls",
            "chai see my friend️️️ pesin pikin",
            "wahala dey all dis world now n even nig is not left out ha ha banger keea",
            "their love i want my own simi this im serious o marriage don dey hungry me",
            "na person wey look face dey see gorgeous eyes",
            "abeg all of una wey dey do brazilian waxing how una dey take do am i wanted to die was legit crying i told dem to stop half way i wld use veet to remove d rest mi o le wa ku",
            "abeg incase una see masquerade wey dey over dance na me oooo i dey hustle my transport back to abuja",
            "we wan appreciate for all the work wey e do for manchester united years no be beans ️ we go miss am na leader one way",
            "bros nor b small thing oooo na so na to dey buy am small small win am ooo"
           ],
           [
            "negative",
            "negative",
            "negative",
            "negative",
            "negative",
            "negative",
            "negative",
            "negative",
            "negative",
            "negative",
            "neutral",
            "neutral",
            "neutral",
            "neutral",
            "neutral",
            "neutral",
            "neutral",
            "neutral",
            "neutral",
            "neutral",
            "positive",
            "positive",
            "positive",
            "positive",
            "positive",
            "positive",
            "positive",
            "positive",
            "positive",
            "positive",
            "negative",
            "negative",
            "negative",
            "negative",
            "negative",
            "negative",
            "negative",
            "negative",
            "negative",
            "negative",
            "neutral",
            "neutral",
            "neutral",
            "neutral",
            "neutral",
            "neutral",
            "neutral",
            "neutral",
            "neutral",
            "neutral",
            "positive",
            "positive",
            "positive",
            "positive",
            "positive",
            "positive",
            "positive",
            "positive",
            "positive",
            "positive"
           ]
          ]
         },
         "domain": {
          "x": [
           0,
           1
          ],
          "y": [
           0,
           0.485
          ]
         },
         "header": {
          "align": "center",
          "fill": {
           "color": "lightskyblue"
          },
          "font": {
           "color": "black",
           "size": 12
          },
          "line": {
           "color": "darkslategray"
          },
          "values": [
           "country",
           "tweet",
           "label"
          ]
         },
         "type": "table",
         "visible": false
        },
        {
         "domain": {
          "x": [
           0,
           1
          ],
          "y": [
           0.515,
           1
          ]
         },
         "labels": [
          "negative",
          "neutral",
          "positive",
          "negative",
          "neutral",
          "positive",
          "negative",
          "neutral",
          "positive"
         ],
         "marker": {
          "colors": [
           "red",
           "yellow",
           "green",
           "red",
           "yellow",
           "green",
           "red",
           "yellow",
           "green"
          ]
         },
         "type": "pie",
         "values": [
          7226,
          7597,
          7329,
          6380,
          524,
          3652,
          1815,
          726,
          2277
         ],
         "visible": false
        },
        {
         "cells": {
          "align": "left",
          "fill": {
           "color": "lightcyan"
          },
          "line": {
           "color": "darkslategray"
          },
          "values": [
           [
            "Ghana",
            "Ghana",
            "Ghana",
            "Ghana",
            "Ghana",
            "Ghana",
            "Ghana",
            "Ghana",
            "Ghana",
            "Ghana",
            "Ghana",
            "Ghana",
            "Ghana",
            "Ghana",
            "Ghana",
            "Ghana",
            "Ghana",
            "Ghana",
            "Ghana",
            "Ghana",
            "Ghana",
            "Ghana",
            "Ghana",
            "Ghana",
            "Ghana",
            "Ghana",
            "Ghana",
            "Ghana",
            "Ghana",
            "Ghana",
            "Ghana",
            "Ghana",
            "Ghana",
            "Ghana",
            "Ghana",
            "Ghana",
            "Ghana",
            "Ghana",
            "Ghana",
            "Ghana",
            "Ghana",
            "Ghana",
            "Ghana",
            "Ghana",
            "Ghana",
            "Ghana",
            "Ghana",
            "Ghana",
            "Ghana",
            "Ghana",
            "Ghana",
            "Ghana",
            "Ghana",
            "Ghana",
            "Ghana",
            "Ghana",
            "Ghana",
            "Ghana",
            "Ghana",
            "Ghana",
            "Ghana",
            "Ghana",
            "Ghana",
            "Ghana",
            "Ghana",
            "Ghana",
            "Ghana",
            "Ghana",
            "Ghana",
            "Ghana",
            "Ghana",
            "Ghana",
            "Ghana",
            "Ghana",
            "Ghana",
            "Ghana",
            "Ghana",
            "Ghana",
            "Ghana",
            "Ghana",
            "Ghana",
            "Ghana",
            "Ghana",
            "Ghana",
            "Ghana",
            "Ghana",
            "Ghana",
            "Ghana",
            "Ghana",
            "Ghana"
           ],
           [
            "@user Hmhmhm 🤔🤔 ban yardaba",
            "shiyasa naga hausawa duk makafi ne",
            "innalillahi wainna ilaihirrajiun el~rufai kaine da wannan maganar lallae kun bani mamaki muje zuwa akwai allah wlh bazaku taajin rayuwar duniya ba in har baku sauke nauyin alkawarin da kuka daukawa talakawa ba don tun wuri ku dawo garemu",
            "imagine years girl raped by persons over month ayam sorry to asked like how kidnapping dinta sukayi suka daureta daki over month kokuwa plz dan allah inason qarin haske",
            "@user Saboda sunsan babu cutar qarya ne... To meyasa zaku takura kansu 😅😅",
            "@user Duk sekunci buraubanku lahira badebaku bariba koh 🤪🤪🤪",
            "@user YDG wannan batun haka take 👬👪😖😟 ta shafi inda muke, musamman ma yara yan gudun hijira babu uwa babu uba, sai ta Allah rayuwan su😭😭",
            "wlh ko ni aka kai a makaranta guda zan iya kama mutun amma kaji wani aikin banza wai mutun",
            "@user @user Gaskiya kin daura Karen ki a rana wlhy... 🙄🙄🙄",
            "@user Ansace karfe 11 na dare amma kuma wai da uniform ajikinsu kai Ana shegiya a kasarnan!🤔🤔😄",
            "@user Yasin saina fada kayi aure😂😂😂",
            "@user Amma kowa zai iya karba Dollar 💵?",
            "@user @user @user @user @user @user @user @user @user @user @user Haba @user wannan tambaya haka kakar taje chan😂",
            "@user Yar Sambo tayi yawa ciki....😂😂😂",
            "@user Dan Allah in masarar tay dusa atemaka akawomana Masha dan malele ko danbu🙄😎",
            "@user Dan allah kiyi. Na tuna time dinda kika shigo kannywood self😂💔. Talk less of 10 years😂😂😉",
            "@user Wuka Bata fasa shi 🤣",
            "@user https://t.co/2nvwLp1cls 💰💰💰💰💰💰💰💰💰💰💰💰💰🤑🤑🤑🤑Your Referral Link is: https://t.co/wXgNMISsiy Registration 1500 ne 💰💰💰💰💰💰💰 *Zasu barma 500 aciki Kuma duk Wanda yayi register akasanka zasu baka 500 kan ko wane mutum datar su tana da sauki sosai*",
            "@user An yi masa ritaya dai 💀",
            "@user Bbu komai. Amman Ni anawa shawarar dazan baka shine: gwanda acigaba da gudanar da shirin a Arewa24 saboda mutane dayawa a tashar suke kallo. Inkuma akamayarsa wata tashar bakowa bane zaicigaba da kallo✨✨",
            "@user Babu shugaba da ya kai Baba Buhari gaskiya da tausayin talakawa, cigaba da gashi tsoho Dan Daura.😁🏃",
            "@user Shikenan, a sanina a tsarin musulunci idan mutun daya yace ya yafe tun shikenan a nan duniya, sai dai anzo lafira wannan tsakani da Allah.Allah yasa mu gane, ya qara karemu daga miyagun qaddarore.Ameen 🙏",
            "@user Kaii 😳 Allah yasa ba ziyarar gani da Ido yazo ba https://t.co/jochgAmNih",
            "allah ya kawo karshen wannan tashin hankali wlh gaba yan nijeriya wasun mu bama kyautawa yanz menen amfanin tashin hankali da zubar da jini kaico allah ya shiryemu",
            "@user Allah yasa muna cikin masu kai karshen 2021, itama. 🤗🤗👍",
            "toh mun godewa allah",
            "@user Masha Allahu, wannan cigaba Allah ta kara kawo mana irin shi, duk su karar da kansu🙏🙏🙏",
            "@user Sai a gyara idan anaso Allah yayi keeping naku safe 😂",
            "@user Allah yaji qansu da rahama🤲",
            "@user Yauwa bbchausa barka mu da Sha ruwa 🍉",
            "dat even small some elderly ppl will jst come from no where nd blike my son am rushing to church can i please blah blahi will kuku let dem use out of my time b dem use ma destiny play ping pong its annoyning",
            "so we are almost done with how much did you save abi i should mind my business me sef wey dey tweet like this need money die",
            "this one don finish eba she con de serve hot looks if you dont geddifok",
            "so na wetin start the quarrel be that",
            "was dem don lock am who unlock am sef me i no dey see road again oh",
            "the amount of coconut water i have had in this life time i should be on a zero iq if according to my people e nor dey make pikin get sense some myth",
            "i nor even understandna she n person dey fight",
            "na who get sponsors dey go school na street i dey full time",
            "baba turn a whole contry to babe wey dem dey woo allow me to prove to you that boy if you dont you want to use us to collect extra sheet that you wont use they will waste your time they will prove to you carry your desire and go abeggi",
            "this one don wash hand comot for anything wey concern heavenly race",
            "na who dey alive dey apply for visa",
            "dis drama na na dey package am while na dey fund am you can listen via",
            "omo this one dey real if na you be the guy what next",
            "for and to take nigeria to the next level people are ready to cast their votes even with their bloods not ink as usual dem no dey buy integrity dem for buyam from dubai nah",
            "wetin e be na tell me",
            "sheybi na film na ‍️",
            "make messi con perform and win trophies make e collect th balon dor next year the tears go dey immense",
            "if dem born you for nigeria automatically life don dey ahead of if you come fall for poor family if you come be first born paddy take life jejena money dey make normal problem be like spiritual problem",
            "this was what a lady told a guy that they had planned to get married together o baba dey hustle big time and na only chop money baba still dey see though with good future sha but babe said he should be saving for marriage o and baba was like how",
            "e con be like say na final match dem play",
            "e better like that make you no dey resemble pregnant woman",
            "u people should pls stop acting dis way u don pass dis level of abusing each other relaxchill and continue chasing ur dreams pls",
            "chai see my friend️️️ pesin pikin",
            "wahala dey all dis world now n even nig is not left out ha ha banger keea",
            "their love i want my own simi this im serious o marriage don dey hungry me",
            "na person wey look face dey see gorgeous eyes",
            "abeg all of una wey dey do brazilian waxing how una dey take do am i wanted to die was legit crying i told dem to stop half way i wld use veet to remove d rest mi o le wa ku",
            "abeg incase una see masquerade wey dey over dance na me oooo i dey hustle my transport back to abuja",
            "we wan appreciate for all the work wey e do for manchester united years no be beans ️ we go miss am na leader one way",
            "bros nor b small thing oooo na so na to dey buy am small small win am ooo",
            "key soapakoa gyimi gyimi bi no",
            "yese adanse fumso dwa no agyigya sika nni kurom a nkurasefuo de beto fose",
            "abranti3 woda sori aa maweninda hor na gyai gyimie nu",
            "ahiafoɔ dating deɛ ntɔkwa hunu ne dede no dɔɔso dodo wo girl bisa wo 50 cedis kraa na wadwa ɛna wopɛ sika dodo ɛna wonyɛ wife material sika aboa na edi wahu sɛ kraman atɔ wig da😹😹😹",
            "ɛnyɛ kilmanjaro na mede atwedeɛ adi afroasaneɛ",
            "nana i beg b me busia eh na ma y3 shi",
            "wano y3 ya oo kwabena mereba wab3 so da ☹️🚶‍♀️🚶‍♀️🚶‍♀️🚶‍♀️",
            "akoa yi y3 jwon 🤣🤣🤣🤣🤣🤣🤣🤣",
            "hahahaaa wo y3 jon paaaaaaaaaaaa lol",
            "aden ben koraa nie eiii moaton saa ko ton forest",
            "e be me oo 😀",
            "baabi aa de nenam 😂😂😂😂😂",
            "na me ɛfa meho bɛn 😂😂😂",
            "organized bus wey dey carry freshers go campus k3k3 bi ghs 150 na uber koraa y3 sen",
            "mo ne the reason why a magya me wife nti mongya leggers no sh3",
            "me gua wo gua bi ne ho b3 dwiriw no",
            "chale me sef oooo",
            "wow mu aa 3nhy3 ma wonni mu nso aaa 3nt sini sleep",
            "eeeiii wo di asem b3ba ooo 😅",
            "peace paa deɛ daabi 😂",
            "3000 cedis nu y3benya wo hen",
            "congratulations bossu ma regards to naa ayɛma ✌🏿",
            "sɛ me tease na me nnwui a na ɛyɛ nyame sɛ apem atete agu ɔmo atete atɔ na mewɔ nkwa dea a ɛnneɛ aseda sɛ ɔno nyankopɔn nkoa",
            "wei deɛ ntakra nkoaa o",
            "wo taataa me ooh yoooo",
            "aban no mmoa yɛn yɛ find yɛn way a ɔse ɛyɛ illegal that lime by 🔥🔥",
            "yes attention kakra koti3 kakra sika kakra",
            "ei ewurade me too im fine o 😩😩",
            "don 3ha de3 y3 gyina mu pintinn s3 abele abaa no wo de3 to bra 😅😅😅",
            "wo kyer3w bece daben"
           ],
           [
            "negative",
            "negative",
            "negative",
            "negative",
            "negative",
            "negative",
            "negative",
            "negative",
            "negative",
            "negative",
            "neutral",
            "neutral",
            "neutral",
            "neutral",
            "neutral",
            "neutral",
            "neutral",
            "neutral",
            "neutral",
            "neutral",
            "positive",
            "positive",
            "positive",
            "positive",
            "positive",
            "positive",
            "positive",
            "positive",
            "positive",
            "positive",
            "negative",
            "negative",
            "negative",
            "negative",
            "negative",
            "negative",
            "negative",
            "negative",
            "negative",
            "negative",
            "neutral",
            "neutral",
            "neutral",
            "neutral",
            "neutral",
            "neutral",
            "neutral",
            "neutral",
            "neutral",
            "neutral",
            "positive",
            "positive",
            "positive",
            "positive",
            "positive",
            "positive",
            "positive",
            "positive",
            "positive",
            "positive",
            "negative",
            "negative",
            "negative",
            "negative",
            "negative",
            "negative",
            "negative",
            "negative",
            "negative",
            "negative",
            "neutral",
            "neutral",
            "neutral",
            "neutral",
            "neutral",
            "neutral",
            "neutral",
            "neutral",
            "neutral",
            "neutral",
            "positive",
            "positive",
            "positive",
            "positive",
            "positive",
            "positive",
            "positive",
            "positive",
            "positive",
            "positive"
           ]
          ]
         },
         "domain": {
          "x": [
           0,
           1
          ],
          "y": [
           0,
           0.485
          ]
         },
         "header": {
          "align": "center",
          "fill": {
           "color": "lightskyblue"
          },
          "font": {
           "color": "black",
           "size": 12
          },
          "line": {
           "color": "darkslategray"
          },
          "values": [
           "country",
           "tweet",
           "label"
          ]
         },
         "type": "table",
         "visible": false
        },
        {
         "domain": {
          "x": [
           0,
           1
          ],
          "y": [
           0.515,
           1
          ]
         },
         "labels": [
          "negative",
          "neutral",
          "positive",
          "negative",
          "neutral",
          "positive",
          "negative",
          "neutral",
          "positive",
          "negative",
          "neutral",
          "positive"
         ],
         "marker": {
          "colors": [
           "red",
           "yellow",
           "green",
           "red",
           "yellow",
           "green",
           "red",
           "yellow",
           "green",
           "red",
           "yellow",
           "green"
          ]
         },
         "type": "pie",
         "values": [
          7226,
          7597,
          7329,
          4013,
          6940,
          4762,
          6380,
          524,
          3652,
          3296,
          5487,
          6344
         ],
         "visible": false
        },
        {
         "cells": {
          "align": "left",
          "fill": {
           "color": "lightcyan"
          },
          "line": {
           "color": "darkslategray"
          },
          "values": [
           [
            "Nigeria",
            "Nigeria",
            "Nigeria",
            "Nigeria",
            "Nigeria",
            "Nigeria",
            "Nigeria",
            "Nigeria",
            "Nigeria",
            "Nigeria",
            "Nigeria",
            "Nigeria",
            "Nigeria",
            "Nigeria",
            "Nigeria",
            "Nigeria",
            "Nigeria",
            "Nigeria",
            "Nigeria",
            "Nigeria",
            "Nigeria",
            "Nigeria",
            "Nigeria",
            "Nigeria",
            "Nigeria",
            "Nigeria",
            "Nigeria",
            "Nigeria",
            "Nigeria",
            "Nigeria",
            "Nigeria",
            "Nigeria",
            "Nigeria",
            "Nigeria",
            "Nigeria",
            "Nigeria",
            "Nigeria",
            "Nigeria",
            "Nigeria",
            "Nigeria",
            "Nigeria",
            "Nigeria",
            "Nigeria",
            "Nigeria",
            "Nigeria",
            "Nigeria",
            "Nigeria",
            "Nigeria",
            "Nigeria",
            "Nigeria",
            "Nigeria",
            "Nigeria",
            "Nigeria",
            "Nigeria",
            "Nigeria",
            "Nigeria",
            "Nigeria",
            "Nigeria",
            "Nigeria",
            "Nigeria",
            "Nigeria",
            "Nigeria",
            "Nigeria",
            "Nigeria",
            "Nigeria",
            "Nigeria",
            "Nigeria",
            "Nigeria",
            "Nigeria",
            "Nigeria",
            "Nigeria",
            "Nigeria",
            "Nigeria",
            "Nigeria",
            "Nigeria",
            "Nigeria",
            "Nigeria",
            "Nigeria",
            "Nigeria",
            "Nigeria",
            "Nigeria",
            "Nigeria",
            "Nigeria",
            "Nigeria",
            "Nigeria",
            "Nigeria",
            "Nigeria",
            "Nigeria",
            "Nigeria",
            "Nigeria",
            "Nigeria",
            "Nigeria",
            "Nigeria",
            "Nigeria",
            "Nigeria",
            "Nigeria",
            "Nigeria",
            "Nigeria",
            "Nigeria",
            "Nigeria",
            "Nigeria",
            "Nigeria",
            "Nigeria",
            "Nigeria",
            "Nigeria",
            "Nigeria",
            "Nigeria",
            "Nigeria",
            "Nigeria",
            "Nigeria",
            "Nigeria",
            "Nigeria",
            "Nigeria",
            "Nigeria",
            "Nigeria",
            "Nigeria",
            "Nigeria",
            "Nigeria",
            "Nigeria",
            "Nigeria"
           ],
           [
            "@user Hmhmhm 🤔🤔 ban yardaba",
            "shiyasa naga hausawa duk makafi ne",
            "innalillahi wainna ilaihirrajiun el~rufai kaine da wannan maganar lallae kun bani mamaki muje zuwa akwai allah wlh bazaku taajin rayuwar duniya ba in har baku sauke nauyin alkawarin da kuka daukawa talakawa ba don tun wuri ku dawo garemu",
            "imagine years girl raped by persons over month ayam sorry to asked like how kidnapping dinta sukayi suka daureta daki over month kokuwa plz dan allah inason qarin haske",
            "@user Saboda sunsan babu cutar qarya ne... To meyasa zaku takura kansu 😅😅",
            "@user Duk sekunci buraubanku lahira badebaku bariba koh 🤪🤪🤪",
            "@user YDG wannan batun haka take 👬👪😖😟 ta shafi inda muke, musamman ma yara yan gudun hijira babu uwa babu uba, sai ta Allah rayuwan su😭😭",
            "wlh ko ni aka kai a makaranta guda zan iya kama mutun amma kaji wani aikin banza wai mutun",
            "@user @user Gaskiya kin daura Karen ki a rana wlhy... 🙄🙄🙄",
            "@user Ansace karfe 11 na dare amma kuma wai da uniform ajikinsu kai Ana shegiya a kasarnan!🤔🤔😄",
            "@user Yasin saina fada kayi aure😂😂😂",
            "@user Amma kowa zai iya karba Dollar 💵?",
            "@user @user @user @user @user @user @user @user @user @user @user Haba @user wannan tambaya haka kakar taje chan😂",
            "@user Yar Sambo tayi yawa ciki....😂😂😂",
            "@user Dan Allah in masarar tay dusa atemaka akawomana Masha dan malele ko danbu🙄😎",
            "@user Dan allah kiyi. Na tuna time dinda kika shigo kannywood self😂💔. Talk less of 10 years😂😂😉",
            "@user Wuka Bata fasa shi 🤣",
            "@user https://t.co/2nvwLp1cls 💰💰💰💰💰💰💰💰💰💰💰💰💰🤑🤑🤑🤑Your Referral Link is: https://t.co/wXgNMISsiy Registration 1500 ne 💰💰💰💰💰💰💰 *Zasu barma 500 aciki Kuma duk Wanda yayi register akasanka zasu baka 500 kan ko wane mutum datar su tana da sauki sosai*",
            "@user An yi masa ritaya dai 💀",
            "@user Bbu komai. Amman Ni anawa shawarar dazan baka shine: gwanda acigaba da gudanar da shirin a Arewa24 saboda mutane dayawa a tashar suke kallo. Inkuma akamayarsa wata tashar bakowa bane zaicigaba da kallo✨✨",
            "@user Babu shugaba da ya kai Baba Buhari gaskiya da tausayin talakawa, cigaba da gashi tsoho Dan Daura.😁🏃",
            "@user Shikenan, a sanina a tsarin musulunci idan mutun daya yace ya yafe tun shikenan a nan duniya, sai dai anzo lafira wannan tsakani da Allah.Allah yasa mu gane, ya qara karemu daga miyagun qaddarore.Ameen 🙏",
            "@user Kaii 😳 Allah yasa ba ziyarar gani da Ido yazo ba https://t.co/jochgAmNih",
            "allah ya kawo karshen wannan tashin hankali wlh gaba yan nijeriya wasun mu bama kyautawa yanz menen amfanin tashin hankali da zubar da jini kaico allah ya shiryemu",
            "@user Allah yasa muna cikin masu kai karshen 2021, itama. 🤗🤗👍",
            "toh mun godewa allah",
            "@user Masha Allahu, wannan cigaba Allah ta kara kawo mana irin shi, duk su karar da kansu🙏🙏🙏",
            "@user Sai a gyara idan anaso Allah yayi keeping naku safe 😂",
            "@user Allah yaji qansu da rahama🤲",
            "@user Yauwa bbchausa barka mu da Sha ruwa 🍉",
            "@user @user Mgbirigbo onye ntị ike 😂😂",
            "sis odikwa egwu ooo",
            "@user @user @user Ndi na ta anu madu 🏃",
            "@user Na how future take enter for verse 2 na ein mad pass ooh.. Dah \"\"\"\"Iberibe na-enye onye ara morale\"\"\"\"....dah line na bomb🎶🎶🎶🔥🔥🙌🙌🙌",
            "mu na gi gaebi love gi agbakalam isi oooooo on point festac",
            "@user Lol... Ihe nke a di egwu",
            "emeka gi na mrs trouble ‍️‍️‍️",
            "@user @user @user @user 🤣 🤣 🤣 Nna ehhh, ife nkea ọ diro gi egwu. All the bullets I'm firing na atụ na ogwe.",
            "@user N'ya dodoya na ọnụ amụ",
            "@user One Nigeria gbasaa gi azu ike😅😏",
            "@user Ndu wu onu nmiri (pigin igbo)",
            "@user @user Kai, try na... Ọ bụrụ godu naanị otu(just one)",
            "So @user is the issue??? You never see anything oh Maka ntiye Uku Na the away, Unu ga fuzi nwanyi Ocha part 2 Mgbada ebe Nile",
            "mu nke a‍️‍️",
            "ngwa pass oo",
            "@user @user Chai, nwa afo",
            "shebi it was celebs that were trending ur freedom hashtag ba continuemgbe o ga a da i mara na a naghi a gwa o chi nti na agha e su mgbada",
            "@user Aku ruo ulo amara ebe osi bia.....Ship to Naija",
            "okwa tata ka m ntiyere engagement ring ya na fridge nyem ohere ozo kam nhandluo obi gi with caution ️️",
            "Bia ka m yelu gi akwa and bread https://t.co/3U7Fwx0Agi",
            "@user Mazi, Omere ora 1 ! Udodiri gi, Biko mere m Ka imere ibem Ka Obi Di mu MMA. God bless you plenty. Amen.",
            "@user Nne biko jukwa ya nke oma😁",
            "@user @user @user @user Ka chukwu mezie okwu 🙏🏾🙏🏾",
            "@user @user A hurum gi na anya",
            "I bu chi mo o i bu chi ibu chi mo o onye m ji eme onu ehh \"\"🎤🎤🎤|||| One music",
            "Everyday, I thank God I was born into the Igbo tribe. Échichè ahụ n'enye anwuli ná óbị",
            "Aga mu ako ihe chukwu mere mu n'elu uwa, Ihunanya Chineke karisia solumtochukwu 🙌🙌🙌",
            "@user Daalu Onye Ezigbo",
            "@user Na chineke ka okukeme di.",
            "onye ibongejisi ike o",
            "dat even small some elderly ppl will jst come from no where nd blike my son am rushing to church can i please blah blahi will kuku let dem use out of my time b dem use ma destiny play ping pong its annoyning",
            "so we are almost done with how much did you save abi i should mind my business me sef wey dey tweet like this need money die",
            "this one don finish eba she con de serve hot looks if you dont geddifok",
            "so na wetin start the quarrel be that",
            "was dem don lock am who unlock am sef me i no dey see road again oh",
            "the amount of coconut water i have had in this life time i should be on a zero iq if according to my people e nor dey make pikin get sense some myth",
            "i nor even understandna she n person dey fight",
            "na who get sponsors dey go school na street i dey full time",
            "baba turn a whole contry to babe wey dem dey woo allow me to prove to you that boy if you dont you want to use us to collect extra sheet that you wont use they will waste your time they will prove to you carry your desire and go abeggi",
            "this one don wash hand comot for anything wey concern heavenly race",
            "na who dey alive dey apply for visa",
            "dis drama na na dey package am while na dey fund am you can listen via",
            "omo this one dey real if na you be the guy what next",
            "for and to take nigeria to the next level people are ready to cast their votes even with their bloods not ink as usual dem no dey buy integrity dem for buyam from dubai nah",
            "wetin e be na tell me",
            "sheybi na film na ‍️",
            "make messi con perform and win trophies make e collect th balon dor next year the tears go dey immense",
            "if dem born you for nigeria automatically life don dey ahead of if you come fall for poor family if you come be first born paddy take life jejena money dey make normal problem be like spiritual problem",
            "this was what a lady told a guy that they had planned to get married together o baba dey hustle big time and na only chop money baba still dey see though with good future sha but babe said he should be saving for marriage o and baba was like how",
            "e con be like say na final match dem play",
            "e better like that make you no dey resemble pregnant woman",
            "u people should pls stop acting dis way u don pass dis level of abusing each other relaxchill and continue chasing ur dreams pls",
            "chai see my friend️️️ pesin pikin",
            "wahala dey all dis world now n even nig is not left out ha ha banger keea",
            "their love i want my own simi this im serious o marriage don dey hungry me",
            "na person wey look face dey see gorgeous eyes",
            "abeg all of una wey dey do brazilian waxing how una dey take do am i wanted to die was legit crying i told dem to stop half way i wld use veet to remove d rest mi o le wa ku",
            "abeg incase una see masquerade wey dey over dance na me oooo i dey hustle my transport back to abuja",
            "we wan appreciate for all the work wey e do for manchester united years no be beans ️ we go miss am na leader one way",
            "bros nor b small thing oooo na so na to dey buy am small small win am ooo",
            "Ọrọ̀, owó, Ajé ni ọ̀kan gbòógì ọ̀darànmọràn tí ó dá ìṣòro tí ó wà nílẹ̀ yìí sílẹ̀. Àwọn aṣebi, olubi àti aríjẹ nídìí mọ̀dàrú tí ó di ipò ilé ayé mú ò náání àlàáfíà ara àti ìgbé ayé tó lẹ́tikẹ fún ọmọ aráyé, ìfẹ́ ara wọn nìkan ni wọ́n mọ́. Ayé ń rí rúdurùdu.",
            "Omoose gomina @user lu osise abe re lalubami l'Ondo - Alaroye",
            "Wọ́n pa ẹni méjì #APC #EkitiDecides2014 :(",
            "@user: @user - Femi fani Kayode ni\"\"\"\" o ní yẹ̀yẹ́ :)",
            "Olórí #Bokoharam #Shekau ní òun yóò ta àwọn ọmọdébìnrin tó wà ní àkàtà òun | #BringBackOurGirls",
            "ráńṣẹ́ sí àwọn ẹ̀gbá láti ti ọwọ́ ọmọ wọn bọ aṣọ kí wọ́n padà sí ìlú wọn ajá ní ń wí ẹran ní ń sọ̀rọ̀ ni àwọn ẹ̀gbá fi ọ̀rọ̀ ìjọba britain ṣìí àbùkù ò ní ilé ibikíbi nií ti ń dé bá ni lálejò ni ìjọba britain fi èsì ẹ̀gbá ṣe ní britain bá gbé",
            "Ìbọn t'ó wọ ìlú \"\"\"\"\"\"\"\"ẹ̀bá ọ̀dán\"\"\"\"\"\"\"\" ò ṣẹ̀hìn obìnrin alágídí yìí. Ní 1872, #IyalodeIbadan yá ọmọ ogun Ìbàdàn ní ìhámọ́ra ogun.",
            "awon onigbeseonijekujeoninakuna apa gbèsè orílẹ̀ tó kù díẹ̀ ká san tán láíyé ọbásanjọ́ ni wọ́n ti",
            "... a jẹ́ wípé ọ̀hún ò rọgbọ, tàbí iṣẹ́ náà ò mú èsì rere bọ̀. #Ejanbakan #AkanloEde #YorubaQnA #idahun #Ibeere @user",
            "@user @user Ẹ kilọ fun google koma yimi lohun pada mọ o.",
            "Onírè ńkọ́? Ta ni onírè? @user #Ibeere #yoruba",
            "oògùn eyín ọmọọwọ́ ọ̀kanòjọ̀kan ọ̀nà ni àwọn yorùbá fi máa ń wo ìrora eyín ọmọ ìkókó lára wọn ni a ti rí orí àdán",
            "àtẹ́lẹwọ́ book reading resumes tonight on zoom by pm nigerian time for facebook live ẹ darapọ̀ mọ́ wa",
            "7. Yàtọ̀ sí ìbẹ́ta, orúkọ àmútọ̀runwá wo ni à ń pe ọmọ mẹ́ta tí a bí papọ̀? #Ibeere #Yoruba #learnyoruba #language #speakyoruba #MotherTongueDay https://t.co/Al48MtWRYS",
            "Ajé; meaning -► Monday. Ajé -► money. Ajé -► god of wealth/money. Ajé; ẹran bíi ìka kékeré t'ó súyọ lára ìka ọmọńdirín. #InYoruba",
            "a ó gbo ewé ifin sínú igbá a ó fi ẹfun sí í obìnrin olóyún á máa mu ún ń wákàtí wákàtí",
            "B. Ìgèrè ni apẹ̀rẹ̀ tí a fi ń mú ẹja lódò. Ó yàtọ̀ sí àwọ̀n. https://t.co/V5kW5HX73O",
            "RT @user: ORÍKÌ ÒGÚN Ògún lákáayé, ọṣìn mọlẹ̀, Onílé kángun kàngun ọ̀run, Ò ní omi nílé, ó fi ẹ̀jẹ̀ wẹ̀, Ò ní aṣọ nílé, ó fi imò b…",
            "àkísà lògbà rí jàlàbíyà ni láyé ìgbà kan àmọ́ àbáyà tún ni wọ́n ń gba wèrèe rẹ̀ báyìí gbogbo rẹ̀ ṣá ló ń yà",
            "kí la nfi àgádágodo ṣe",
            "Ọ̀rẹ́ mi :) a kú òpin ọ̀sẹ̀. Iṣẹ́ á gbè wá, a ò ní ṣe ṣe ṣe. Ẹ kú iṣẹ́ o, á dára#Lagos#Ondo#OyoState#Ekiti#Ogun#Kwara",
            "mo ti ri o e se mo dupe",
            "èmi ni ìkòròdú ọmọ ọ̀gà ọmọ ẹ̀lúkú mẹdẹ́n mẹdẹ́n ọmọ ẹ̀lúkú mẹdẹ̀n mẹdẹ̀n ọmọ afínjú jẹ̀bú rè fọmọrẹ̀ japènà ̀bá",
            "RT @user: Ọlọ́run tó ńse'bẹ̀, kò tí ì kúrò ní ìdí ààrò. / God who is cooking the soup, has not left the kitchen. [Keep hope aliv…",
            "Bí o bá fẹ́ 🧠 ọpọlọ t'ó jí pépé, bí o bá fẹ́ kí iyè rẹ ó máa là gààrà ńgbà 'ogbo, rẹ ewé ẹ̀là sómi kí o máa mu ú. #Ewe #herbs #Yoruba https://t.co/r15lUtJQ4t",
            "Àsé ijó be lésè àwon \"\"\"\"\"\"\"\"super-excited-to-discuss-with-google's-CEO\"\"\"\"\"\"\"\" náà #TweetInYoruba https://t.co/5mRSCKqOgq",
            "@user Ọlọ́run ṣeun. Ara wá le o.",
            "Ìjàgbara. K'á jára wa gbà lọ́wọ́ọ ìdárú-dàápọ̀ ńlẹ̀ yìí. Kí a sọ fún un pé \"\"\"\"\"\"\"\"ó tó gẹ́!\"\"\"\"\"\"\"\" #Nigeria2015",
            "Èyí ga o, mo fẹ́ràn an rẹ̀. Ó mú mi rántí abúlé. Ẹ kú iṣẹ́ :) @user #Yoruba http://t.co/Eozz3wjVzo",
            "Onise iyanu,(Miracle worker) Onise ara,(Wonderful) Onise nla,(Great God) Mimo, Mimo, Mimo,(Holy! Holy! Holy) Oba t’o ninu mimo,(Righteous God) Oba alaya funfun,(Immaculate God) Not gonna lie.. praising God in #Yoruba sounds a lot more fun 😄 #CelestialWeekly #ProudlyCelestian"
           ],
           [
            "negative",
            "negative",
            "negative",
            "negative",
            "negative",
            "negative",
            "negative",
            "negative",
            "negative",
            "negative",
            "neutral",
            "neutral",
            "neutral",
            "neutral",
            "neutral",
            "neutral",
            "neutral",
            "neutral",
            "neutral",
            "neutral",
            "positive",
            "positive",
            "positive",
            "positive",
            "positive",
            "positive",
            "positive",
            "positive",
            "positive",
            "positive",
            "negative",
            "negative",
            "negative",
            "negative",
            "negative",
            "negative",
            "negative",
            "negative",
            "negative",
            "negative",
            "neutral",
            "neutral",
            "neutral",
            "neutral",
            "neutral",
            "neutral",
            "neutral",
            "neutral",
            "neutral",
            "neutral",
            "positive",
            "positive",
            "positive",
            "positive",
            "positive",
            "positive",
            "positive",
            "positive",
            "positive",
            "positive",
            "negative",
            "negative",
            "negative",
            "negative",
            "negative",
            "negative",
            "negative",
            "negative",
            "negative",
            "negative",
            "neutral",
            "neutral",
            "neutral",
            "neutral",
            "neutral",
            "neutral",
            "neutral",
            "neutral",
            "neutral",
            "neutral",
            "positive",
            "positive",
            "positive",
            "positive",
            "positive",
            "positive",
            "positive",
            "positive",
            "positive",
            "positive",
            "negative",
            "negative",
            "negative",
            "negative",
            "negative",
            "negative",
            "negative",
            "negative",
            "negative",
            "negative",
            "neutral",
            "neutral",
            "neutral",
            "neutral",
            "neutral",
            "neutral",
            "neutral",
            "neutral",
            "neutral",
            "neutral",
            "positive",
            "positive",
            "positive",
            "positive",
            "positive",
            "positive",
            "positive",
            "positive",
            "positive",
            "positive"
           ]
          ]
         },
         "domain": {
          "x": [
           0,
           1
          ],
          "y": [
           0,
           0.485
          ]
         },
         "header": {
          "align": "center",
          "fill": {
           "color": "lightskyblue"
          },
          "font": {
           "color": "black",
           "size": 12
          },
          "line": {
           "color": "darkslategray"
          },
          "values": [
           "country",
           "tweet",
           "label"
          ]
         },
         "type": "table",
         "visible": false
        },
        {
         "domain": {
          "x": [
           0,
           1
          ],
          "y": [
           0.515,
           1
          ]
         },
         "labels": [
          "negative",
          "neutral",
          "positive"
         ],
         "marker": {
          "colors": [
           "red",
           "yellow",
           "green"
          ]
         },
         "type": "pie",
         "values": [
          1788,
          1965,
          1402
         ],
         "visible": false
        },
        {
         "cells": {
          "align": "left",
          "fill": {
           "color": "lightcyan"
          },
          "line": {
           "color": "darkslategray"
          },
          "values": [
           [
            "Rwanda",
            "Rwanda",
            "Rwanda",
            "Rwanda",
            "Rwanda",
            "Rwanda",
            "Rwanda",
            "Rwanda",
            "Rwanda",
            "Rwanda",
            "Rwanda",
            "Rwanda",
            "Rwanda",
            "Rwanda",
            "Rwanda",
            "Rwanda",
            "Rwanda",
            "Rwanda",
            "Rwanda",
            "Rwanda",
            "Rwanda",
            "Rwanda",
            "Rwanda",
            "Rwanda",
            "Rwanda",
            "Rwanda",
            "Rwanda",
            "Rwanda",
            "Rwanda",
            "Rwanda"
           ],
           [
            "@user @user Dore ikinyoma Juno na wayz bakomeje kubeshya abanyarwanda impanvu simusiga z'uko ntarukundo bafiyanye byinshi mwabantumwe umuziki sicyintu https://t.co/C9OrUw22nR",
            "@user they are not OK ndakurahiye niba ntayo barareba 😉",
            "@user ndaq😅 nkajya ndeba ik muri freetim",
            "@user mama wa mukobwa wawe ntuzamende rwose 🤣 ibintu by' inkwano uzoroshye da 😂",
            "@user 20% byabanyarwanda bafite ibibazo byo mumutwe. Gute ikariso igurwa 600k",
            "Anyway I know this is offensive gusa.. gushyiraho dreads nta bwanwa mba mbona natazi😂😂",
            "@user Uravuze ngo abategetsi bose ni abanyagitugu?",
            "@user @user oya ntaribi wazanigaragabya nitujya gutoza mu nteko itegeko riturengera",
            "Ibigarasha ko mbona bifite umutima uhagaze kubera gufungura imipaka? @user tubwire uko zensitaye wangu 🤣🤣 @user @user @user @user @user @user @user https://t.co/zBl0Av13me",
            "@user @user @user Ok! Byaterwa nikosa nakoze. ari ubwa mbere nakwihagana! ark ubwa kabiri yojyeye , twahita dutandukana, Nkana mwishyura najye!😊😜",
            "Iyi gahunda ko ntayo mberutse byagenze gute ngo nisekere🤣🤣🤣 nimubwire umunsi inyuraraho @user @user https://t.co/C7TPo3vAJB",
            "@user @user Yaje kureba njye na Ngabire gusa...",
            "@user Ugendeye kuri ibyo bashoboraga no gushyiraho Minisiteri y'Abagore bikumvikana neza ko ishinzwe iterambere ry'abagore gusa.",
            ".@user iyo mukomeza ya mvugo isobanura ishusho, naho ishusho gusa si benshi bahita bayumva. Murakoze https://t.co/8g3sDW6kuy",
            "@user @user @user Wap bro. Pamella kuba yemera Ben byo ntitubigarukaho🔥🔥🔥🔥",
            "@user Komeza wirebere amakuru wa nshuti y'amakuru we 😂😂😂",
            "@user @user @user @user @user @user @user Ko mbona ibyansi muri kwifashisha birimo ubusa koko ? Cg ni ukwifotoza gusa , niba amata yarabuze muzaze @user tubahe ,zirakamwa",
            "@user Thank you ark nawe wibuke kunywa amazi mbere yo kuryama",
            "Abumva neza ni nde wumva ijambo rikuriki ngo « Koronavirusi mbona... https://t.co/S9Cw1JeyNj",
            "#Japan ingendo zahagaritswe zaba izo kubutaka ndetse nizo mukirere kubera #urubura rwinshi rwibasiye kiriya gihugu.",
            "Ifotora neza cyane, irambya umuriro, igaragara neza cyane Kandi tuyiguhera Ku biciro utasanga ahandi hose mu Rwanda. Nguhitiye mo #samsunggalaxya52 #phone #phonephotograpy https://t.co/ahnTC3lML6",
            "@user @user @user Byiza cyane!! Mwaduha amakuru cg link yo kwiyandikisha kw'abakandida bigenga bifuza kuzakora examens _Secondary Schools. Murakoze",
            "📻🎵🎼\"\"Yegera abantu bose bagahabwa ijambo, abayobozi n'abayoborwa tukajya inama. Radio nziza, Radio Rwanda, radio yacu, radio yawe hafi yawe.\"\"🎼🎵 #RBAHafiYawe #Amahumbezi https://t.co/EJvNiSEzoD",
            "@user @user @user muba mwaduteguriye amakuru numuranzi wumuziki mwiza ntagusinzira twitaramira kuri @user @user @user @user @user",
            "Ni byiza cyane gukangurira urubyiruko kwirinda ubwandu bushya. https://t.co/7rG9pYDn1O",
            "@user Philipe Mpayimana akaba abonye umwanya muri Leta rwose, amahirwe masa",
            "@user Gusa ahandi njya mbona ibyo mbasha kubona nkumva harimo inyurabwenge. Ntibanyikome nemera u Rwanda 😏",
            "Erega ni uko badashaka kwemera,genda #Rwanda uri nziza! Uzaze urebe,ni ukuri kw'Imana ruragendwa! #VisitRwanda https://t.co/Z2JqvQRJ6N",
            "Abaturage ba @user mu gikorwa cy Gutera igiti cyamahoro , Gusura iriba ryamahoro, Gusura inzu zisanywa zabatishoboye mu bukangurambaga bwo kurwanya #covid19 @user @user @user @user https://t.co/uBzYeP0riU",
            "Twirinde guha akato abafite ibibazo byo mu mutwe , duhagurukire kubageza ku nzego z'ubuvuzi. ~RBC"
           ],
           [
            "negative",
            "negative",
            "negative",
            "negative",
            "negative",
            "negative",
            "negative",
            "negative",
            "negative",
            "negative",
            "neutral",
            "neutral",
            "neutral",
            "neutral",
            "neutral",
            "neutral",
            "neutral",
            "neutral",
            "neutral",
            "neutral",
            "positive",
            "positive",
            "positive",
            "positive",
            "positive",
            "positive",
            "positive",
            "positive",
            "positive",
            "positive"
           ]
          ]
         },
         "domain": {
          "x": [
           0,
           1
          ],
          "y": [
           0,
           0.485
          ]
         },
         "header": {
          "align": "center",
          "fill": {
           "color": "lightskyblue"
          },
          "font": {
           "color": "black",
           "size": 12
          },
          "line": {
           "color": "darkslategray"
          },
          "values": [
           "country",
           "tweet",
           "label"
          ]
         },
         "type": "table",
         "visible": false
        },
        {
         "domain": {
          "x": [
           0,
           1
          ],
          "y": [
           0.515,
           1
          ]
         },
         "labels": [
          "negative",
          "neutral",
          "positive",
          "negative",
          "neutral",
          "positive",
          "negative",
          "neutral",
          "positive"
         ],
         "marker": {
          "colors": [
           "red",
           "yellow",
           "green",
           "red",
           "yellow",
           "green",
           "red",
           "yellow",
           "green"
          ]
         },
         "type": "pie",
         "values": [
          1633,
          4379,
          1480,
          319,
          1784,
          908,
          446,
          214,
          601
         ],
         "visible": false
        },
        {
         "cells": {
          "align": "left",
          "fill": {
           "color": "lightcyan"
          },
          "line": {
           "color": "darkslategray"
          },
          "values": [
           [
            "Mozambique",
            "Mozambique",
            "Mozambique",
            "Mozambique",
            "Mozambique",
            "Mozambique",
            "Mozambique",
            "Mozambique",
            "Mozambique",
            "Mozambique",
            "Mozambique",
            "Mozambique",
            "Mozambique",
            "Mozambique",
            "Mozambique",
            "Mozambique",
            "Mozambique",
            "Mozambique",
            "Mozambique",
            "Mozambique",
            "Mozambique",
            "Mozambique",
            "Mozambique",
            "Mozambique",
            "Mozambique",
            "Mozambique",
            "Mozambique",
            "Mozambique",
            "Mozambique",
            "Mozambique",
            "Mozambique",
            "Mozambique",
            "Mozambique",
            "Mozambique",
            "Mozambique",
            "Mozambique",
            "Mozambique",
            "Mozambique",
            "Mozambique",
            "Mozambique",
            "Mozambique",
            "Mozambique",
            "Mozambique",
            "Mozambique",
            "Mozambique",
            "Mozambique",
            "Mozambique",
            "Mozambique",
            "Mozambique",
            "Mozambique",
            "Mozambique",
            "Mozambique",
            "Mozambique",
            "Mozambique",
            "Mozambique",
            "Mozambique",
            "Mozambique",
            "Mozambique",
            "Mozambique",
            "Mozambique",
            "Mozambique",
            "Mozambique",
            "Mozambique",
            "Mozambique",
            "Mozambique",
            "Mozambique",
            "Mozambique",
            "Mozambique",
            "Mozambique",
            "Mozambique",
            "Mozambique",
            "Mozambique",
            "Mozambique",
            "Mozambique",
            "Mozambique",
            "Mozambique",
            "Mozambique",
            "Mozambique",
            "Mozambique",
            "Mozambique",
            "Mozambique",
            "Mozambique",
            "Mozambique",
            "Mozambique",
            "Mozambique",
            "Mozambique",
            "Mozambique",
            "Mozambique",
            "Mozambique",
            "Mozambique"
           ],
           [
            "Eu me rendo a imaginação das pessoas em criar factos em acidentes que não viram, heihei fala",
            "@user É tola, impreparada, uma vergonha. Tem a mania que é boa e depois faz estás vergonhas 😡",
            "Assim mesmo é normal levar uma semana pra abrir conta num banco? Ihh",
            "Futebol do \"\"\"\"Penchester Urinated\"\"\"\" também está podre. CR7 está ofuscar. Bruno Fernandes e Pogba estão com complexos. Rangnick é filho deles 3.",
            "Mentira iam lhe cancelar que nem no ano passado. https://t.co/EnfctTgZUw",
            "Ela teve coragem de aceitar ser enganada com esse moço ai gente😢😭 https://t.co/JaP32uZhFt",
            "@user Infelizmente não é o que temos visto na nossa geração. Ela vive o que o mundo lhe oferece. (Imoralidade, lascívia, prostituição,) tudo o que levanta a ira de DEUS #MozambiqueForJesus",
            "O Inferno É Para Aqueles Que Rejeitam O Chamado Ao *ARREPENDIMENTO* Que Ouvem: ''O JUÍZO DE DEUS ESTÁ VINDO CONTRA TODO TIPO DE PECADO, ARREPENDE-SE E SAIA DO PECADO SEXUAL... E Então Permanecem Nas Suas Vidas Como Se Nada Tivessem Escutado [Ezequiel 33:1-5] #SundaySuperWord",
            "Ir a festa e não ouvir rap é uma chatice , cadê igualdade de gênero musicais?",
            "Gostaria que me paquerassem. Só para saber como é... Deve ser chato rejeitar uma pessoa que nos quer bem 😕🤔",
            "A vida de Glorificação é muito maior em relação a está, ela tem que fazer você descartar e desprezar a vida presente. #GlorifiedEternally",
            "@user Oiçam à voz da experiente. 😹😹😭🙆🏼‍♂️",
            "É saudade ou é frio?? 😭😭 https://t.co/LEtMIYi68e",
            "Em Moz acontece o mesmo 😩 https://t.co/1LIMviUv0Z",
            "⚠️E X C L U S I V O⚠️ \"\"\"\"REALIZAÇÕES COMEÇAM NA MENTE 🧠\"\"\"\" LAYZZY ZUNGUZE - MENTE 🧠 🔥 (PART. ROBER MAVILA)⤵️ https://t.co/l0hxQ16VOc E N J O Y📌🔗 https://t.co/Y95C7My1TT",
            "@user @user Dropa a foto original aqui😂😂😂",
            "@user É verdade foi sim nossa casa e sempre será.",
            "Hey 👋🏽... Minha nova Música. Ouve antes de partilhares 😏 🏎 @user https://t.co/3bUuLH2ht5 https://t.co/mAh6QbR0pU https://t.co/uJtCxLt93L",
            "#ThePulpitOfHoliness ♦️ Eles pronunciam o EVANGELHO ETERNO EM VOZ ALTA para cada nação, cada pessoa, cada tribo. Isso significa que ninguém pode alegar que não ouviu. Também significa que quando o EVANGELHO ETERNO é proclamado, deve ser feito em voz alta",
            "@user 👏🏾👏🏾não há nenhum africanismo aí 😂",
            "🤣🤣🤣🤣🤣🤣❤️🙌🏽 Muito Obrigado Ministério da Educação e Desenvolvimento Humano ❤️🙌🏽 https://t.co/DMXlfry614",
            "Quando eu digo que te amo, não digo por força do hábito. Eu falo isso para te lembrar que você é a melhor coisa que aconteceu em minha vida. Bom dia! 😘😃 Experimenta esta Lente! https://t.co/uMekkM6gyv https://t.co/9LHCRXic7K",
            "&gt;Is... Essa vida sabe! Há gajas que me negavam porque eu vestia roupas rasgadas, hoje em dia vem em fila atrás de mim, numa de que vesti estragas 😅😅😅😂✌️",
            "#TheGrayMan os que falaram bem do movie não exageraram 👏🏾👏🏾",
            "@user @user @user Foi um Culto muito Poderoso. #TheGospelOfLight",
            "Está um dia lindo para trabalhar muito. Bom diaaaaaa 💞",
            "Guy a fazer sentir o nome. ❤️🙏🏾",
            "Galera amanheceu bem comigo. Mas gostaria saber também d vocês🇲🇿🇲🇿🇲🇿 https://t.co/JbDtlCCOsD",
            "Aleluia Não podemos perder esta grande oportunidade de entrar no Reino da Glòria e sermos Glorificados com Cristo. . #EndtimeRevivalExpress",
            "@user Todos nós devemos estar engajados nesse avivamento #TheEndRevival",
            "Humu ndani kuna watu wana madini mengi sana shida ni kwamba ukiwaomba waziteme watakuzungusha Bora uweke notification on",
            "Wasanii mnaleta trafficme siwahafikinyie wanafikinawameza ka meli Atlantichajaelewa nini sasa",
            "we me wa online sio offlinesema dharau zinazidi sana humukila kukicha halafu vibwana vidogo tu",
            "Huu mpira huu sijui huwa anapata furaha kwenye Timu ipi huku kule",
            "Nchi ya drama na matukio Ila hii kama ikidhihirika ni kweli basi ni kashfa kubwa sana kitaifa Mark my words Maswali ha",
            "Hili tatizo kubwa sana kwetumtu akijaribu kutusanua aah huyu naye anajifanya mjuajisometimes nafikiri",
            "Nimetokea kwenye familia maskini sana na kibaya zaidi ilidharaulika sana tena kwa pande zote mbili yaani upande wa baba",
            "Wapo waliopotea bila kujulikana walipo kama vile Ben SaananeAzory Gwanda na Mkitii wa Halmashauri ya KibondoSmoni Kangoye",
            "Tunapenda kukufahamisha zitasitishiwa huduma kwa sababu zitakuwa hazijakamlisha usajili kwa alama za vidole LM",
            "Ile msg ya sizioni siku zangu si uwa inakuogopesha sasa kwanini hupendi kutumia",
            "Mgema akisifiwa tembo hulitia maji",
            "Jambo gani litakufanya uwe na furaha kama ya Rashford Funguka",
            "Nalalamika baridi wenyeji chuga wanadai msimu wa joto huume natimiza jukumu langu la kuwakumbusha kutumia kondomu",
            "Anaitwa Alisson Ramses Becker ndiye kipa bora wa Ulimwengu kutoka kwa Majogoo Liverpool",
            "Maisha ni kama hivi kwa mtumiaji wa huduma za TTCL Fanikisha shughuli zako bila stress refusha maisha kwa tabasamu",
            "Katika Manunuzi ya Umma yanayosimamiwa na kudhibitiwa na PPRA imetengwa 30 ya manunuzi yake yatoke kwa Vijana 10 W",
            "Simpo endi klia",
            "Ukimya una mahusiano na uwogasema alikuchafua mwanangu lakini nilikupambania sana hujawahi tu ku appreciate",
            "Nachoshukuru imeanza kufungia simu kwa awamu ili athari isiwe kubwa ila kinachotakiwa kuwe na mazingira rahisi k",
            "tunaomba radhi kwa hilo tumeomba taarifa zako DM ili tuweze kuwasiliana nawe na kukupatia huduma",
            "Linapokuja suala la kibenki je ni jambo gani la kuzingatia Urahisi au uaminifu Uwapo na KCB huitaji kuchagua",
            "Pole sana mteja wetu kwa changamoto uliyopata wataalam wetu wanaendelea kuboresha huduma ya internet iwe yenye kasi zaidi",
            "Matarajio ya hali ya hewa saa24 zijazo kuanzia saa 3 usiku wa Leo 27052018",
            "Pole sanakwasasa tumeangalia account yako inaonyesha mara ya mwisho ulijiunga na kifurushi cha siku ambacho kimes",
            "AlfredHabari yakoshukrani sana kwa kushiriki nasi kwenye ukurasa wetu endelea kufurahia huduma bora kutoka tigo",
            "Kikubwa nilichojifunza katika elimu ni kwamba Walimu wanakusaidia ufauli mitihani ila kuelewa na kuchambua kipi unahita",
            "Ndugu mteja hakuna mgao ni maboresho ya miundo mbinu tu Tunaomba radhi kwa usumbufu unaojitokeza",
            "Dah Hapa najiona kabisa nimekuwa nikitamani kubadilika kumbe napaswa kuikabili nafsi yangu",
            "Kaimu Mganga Mkuu wa Mkoa wa Songwe Dkt Kheri Kagya akitoa zawadi kwa akina mama wa mfano walioweza kunyonyesha watoto wao maziwa pekee kwa muda wa miezi sita wakati wa maadhimisho ya wiki ya unyonyeshaji yaliyofanyika Halmashauri ya Mji wa Tunduma",
            "Niliokota hii simu jana Element mwenye simu nahisi ni huyo dada hapo kama unamfahamu mwambie simu yake ipo",
            "Uni Txova Yini &gt; http://t.co/WIRVhMCyog #Moneycomio #HipHopMoz",
            "@user Ah ja nibom, uphimissa yini, hi 2019 swoswi ahina nkama yaku sofrera",
            "@user @user @user @user @user Buti vahlupha yeah ikhomiwe hi babalza wavonaka. U etlele abyikile.",
            "😹😹😹😹😹😹 loku u dlhawa hi precoce 😹😹 https://t.co/0E43GekZkq",
            "😂 😂 utafa wena by https://t.co/oNxvRZggBv",
            "Guebuza u hi fenhissa a m'pandlha. #EmatumTioPatinhasNaCadeia",
            "@user hahahah u ta rendera",
            "@user Tsika ku hi lhanhela wena",
            "@user Unga lhai, lava vá lhayaka swaku kuni ma gerador nem a vá kutive Albasine cola ka maputsu, ambi bobole loko kungana placa ava ku tive, ja vá tiva ma gerador ya tiko, hewenou, hambe male kona ma gerador a mana gasolina pru falta ya orçamento.",
            "Utwa mbangui wena https://t.co/ER3oeSGkBJ",
            "@user @user Ntiyido Leyo! Wena wasvitiva.",
            "@user Kulova swa xijuma-jumani, nkarhi wo swirhambo akuri hava 😄",
            "@user Vo hi fridjela Wenou, vo hi komba fswaku a ndlela ya sathana ya tika, ka hissa ala ansi, já wena langa kumbe u lava kuhissa loko ou kumbe pradise.",
            "Swiyimbeleri ahi yeni .... miva byela ku hina hi tiva ndlela(senya retla patela) @user Mozambique https://t.co/rZlPwwrCRz",
            "Nilava a kuya kosini vahaxi nho yimela nkari lowo wuhela nitalhamba nita famba @user @user @user @user",
            "Streaming @user live ni ri kwala Maputo. Bondia @user &amp; @user",
            "Round 2 ya @user nili kwala a Mozambique seni fikile a Maputo @user @user @user @user",
            "Mabermuda- matilho*xa wula wula 🎶🔥🔥 https://t.co/6TW2zUhWJf",
            "Stay home Postpone Puza mati A mundzuku I siku Ka hissa",
            "@user No mu txuvukissa lwehi wa papai @user",
            "AUXENE... Moh ini ku pfuka?",
            "Niku yingiseli nile xokwe Mozambique sesi thembzana @user @user",
            "John Legend - Mina Na Wena",
            "Wena wako sungula https://t.co/aJqRyAInAs",
            "A makhessemussi nkata ni ma lua de mel hitada xikamwe ungatxavi nkata hikussa sse hi txadile",
            "@user niku yingiseli nile xokwe Mozambique nilo gaaaa 810dstv @user",
            "Niku khoma hi 810dstv chokwe @user",
            "kannimambo, ni tsakê swi nene https://t.co/horMgEjcp1",
            "@user Madala lweyi namufeva, wativa stereka!",
            "Mawaku A lirandzoooooh, djombooooohhh, ya lirandzoooooh. Mawakuhhhh...."
           ],
           [
            "negative",
            "negative",
            "negative",
            "negative",
            "negative",
            "negative",
            "negative",
            "negative",
            "negative",
            "negative",
            "neutral",
            "neutral",
            "neutral",
            "neutral",
            "neutral",
            "neutral",
            "neutral",
            "neutral",
            "neutral",
            "neutral",
            "positive",
            "positive",
            "positive",
            "positive",
            "positive",
            "positive",
            "positive",
            "positive",
            "positive",
            "positive",
            "negative",
            "negative",
            "negative",
            "negative",
            "negative",
            "negative",
            "negative",
            "negative",
            "negative",
            "negative",
            "neutral",
            "neutral",
            "neutral",
            "neutral",
            "neutral",
            "neutral",
            "neutral",
            "neutral",
            "neutral",
            "neutral",
            "positive",
            "positive",
            "positive",
            "positive",
            "positive",
            "positive",
            "positive",
            "positive",
            "positive",
            "positive",
            "negative",
            "negative",
            "negative",
            "negative",
            "negative",
            "negative",
            "negative",
            "negative",
            "negative",
            "negative",
            "neutral",
            "neutral",
            "neutral",
            "neutral",
            "neutral",
            "neutral",
            "neutral",
            "neutral",
            "neutral",
            "neutral",
            "positive",
            "positive",
            "positive",
            "positive",
            "positive",
            "positive",
            "positive",
            "positive",
            "positive",
            "positive"
           ]
          ]
         },
         "domain": {
          "x": [
           0,
           1
          ],
          "y": [
           0,
           0.485
          ]
         },
         "header": {
          "align": "center",
          "fill": {
           "color": "lightskyblue"
          },
          "font": {
           "color": "black",
           "size": 12
          },
          "line": {
           "color": "darkslategray"
          },
          "values": [
           "country",
           "tweet",
           "label"
          ]
         },
         "type": "table",
         "visible": false
        },
        {
         "domain": {
          "x": [
           0,
           1
          ],
          "y": [
           0.515,
           1
          ]
         },
         "labels": [
          "negative",
          "neutral",
          "positive"
         ],
         "marker": {
          "colors": [
           "red",
           "yellow",
           "green"
          ]
         },
         "type": "pie",
         "values": [
          319,
          1784,
          908
         ],
         "visible": false
        },
        {
         "cells": {
          "align": "left",
          "fill": {
           "color": "lightcyan"
          },
          "line": {
           "color": "darkslategray"
          },
          "values": [
           [
            "Kenya",
            "Kenya",
            "Kenya",
            "Kenya",
            "Kenya",
            "Kenya",
            "Kenya",
            "Kenya",
            "Kenya",
            "Kenya",
            "Kenya",
            "Kenya",
            "Kenya",
            "Kenya",
            "Kenya",
            "Kenya",
            "Kenya",
            "Kenya",
            "Kenya",
            "Kenya",
            "Kenya",
            "Kenya",
            "Kenya",
            "Kenya",
            "Kenya",
            "Kenya",
            "Kenya",
            "Kenya",
            "Kenya",
            "Kenya"
           ],
           [
            "Humu ndani kuna watu wana madini mengi sana shida ni kwamba ukiwaomba waziteme watakuzungusha Bora uweke notification on",
            "Wasanii mnaleta trafficme siwahafikinyie wanafikinawameza ka meli Atlantichajaelewa nini sasa",
            "we me wa online sio offlinesema dharau zinazidi sana humukila kukicha halafu vibwana vidogo tu",
            "Huu mpira huu sijui huwa anapata furaha kwenye Timu ipi huku kule",
            "Nchi ya drama na matukio Ila hii kama ikidhihirika ni kweli basi ni kashfa kubwa sana kitaifa Mark my words Maswali ha",
            "Hili tatizo kubwa sana kwetumtu akijaribu kutusanua aah huyu naye anajifanya mjuajisometimes nafikiri",
            "Nimetokea kwenye familia maskini sana na kibaya zaidi ilidharaulika sana tena kwa pande zote mbili yaani upande wa baba",
            "Wapo waliopotea bila kujulikana walipo kama vile Ben SaananeAzory Gwanda na Mkitii wa Halmashauri ya KibondoSmoni Kangoye",
            "Tunapenda kukufahamisha zitasitishiwa huduma kwa sababu zitakuwa hazijakamlisha usajili kwa alama za vidole LM",
            "Ile msg ya sizioni siku zangu si uwa inakuogopesha sasa kwanini hupendi kutumia",
            "Mgema akisifiwa tembo hulitia maji",
            "Jambo gani litakufanya uwe na furaha kama ya Rashford Funguka",
            "Nalalamika baridi wenyeji chuga wanadai msimu wa joto huume natimiza jukumu langu la kuwakumbusha kutumia kondomu",
            "Anaitwa Alisson Ramses Becker ndiye kipa bora wa Ulimwengu kutoka kwa Majogoo Liverpool",
            "Maisha ni kama hivi kwa mtumiaji wa huduma za TTCL Fanikisha shughuli zako bila stress refusha maisha kwa tabasamu",
            "Katika Manunuzi ya Umma yanayosimamiwa na kudhibitiwa na PPRA imetengwa 30 ya manunuzi yake yatoke kwa Vijana 10 W",
            "Simpo endi klia",
            "Ukimya una mahusiano na uwogasema alikuchafua mwanangu lakini nilikupambania sana hujawahi tu ku appreciate",
            "Nachoshukuru imeanza kufungia simu kwa awamu ili athari isiwe kubwa ila kinachotakiwa kuwe na mazingira rahisi k",
            "tunaomba radhi kwa hilo tumeomba taarifa zako DM ili tuweze kuwasiliana nawe na kukupatia huduma",
            "Linapokuja suala la kibenki je ni jambo gani la kuzingatia Urahisi au uaminifu Uwapo na KCB huitaji kuchagua",
            "Pole sana mteja wetu kwa changamoto uliyopata wataalam wetu wanaendelea kuboresha huduma ya internet iwe yenye kasi zaidi",
            "Matarajio ya hali ya hewa saa24 zijazo kuanzia saa 3 usiku wa Leo 27052018",
            "Pole sanakwasasa tumeangalia account yako inaonyesha mara ya mwisho ulijiunga na kifurushi cha siku ambacho kimes",
            "AlfredHabari yakoshukrani sana kwa kushiriki nasi kwenye ukurasa wetu endelea kufurahia huduma bora kutoka tigo",
            "Kikubwa nilichojifunza katika elimu ni kwamba Walimu wanakusaidia ufauli mitihani ila kuelewa na kuchambua kipi unahita",
            "Ndugu mteja hakuna mgao ni maboresho ya miundo mbinu tu Tunaomba radhi kwa usumbufu unaojitokeza",
            "Dah Hapa najiona kabisa nimekuwa nikitamani kubadilika kumbe napaswa kuikabili nafsi yangu",
            "Kaimu Mganga Mkuu wa Mkoa wa Songwe Dkt Kheri Kagya akitoa zawadi kwa akina mama wa mfano walioweza kunyonyesha watoto wao maziwa pekee kwa muda wa miezi sita wakati wa maadhimisho ya wiki ya unyonyeshaji yaliyofanyika Halmashauri ya Mji wa Tunduma",
            "Niliokota hii simu jana Element mwenye simu nahisi ni huyo dada hapo kama unamfahamu mwambie simu yake ipo"
           ],
           [
            "negative",
            "negative",
            "negative",
            "negative",
            "negative",
            "negative",
            "negative",
            "negative",
            "negative",
            "negative",
            "neutral",
            "neutral",
            "neutral",
            "neutral",
            "neutral",
            "neutral",
            "neutral",
            "neutral",
            "neutral",
            "neutral",
            "positive",
            "positive",
            "positive",
            "positive",
            "positive",
            "positive",
            "positive",
            "positive",
            "positive",
            "positive"
           ]
          ]
         },
         "domain": {
          "x": [
           0,
           1
          ],
          "y": [
           0,
           0.485
          ]
         },
         "header": {
          "align": "center",
          "fill": {
           "color": "lightskyblue"
          },
          "font": {
           "color": "black",
           "size": 12
          },
          "line": {
           "color": "darkslategray"
          },
          "values": [
           "country",
           "tweet",
           "label"
          ]
         },
         "type": "table",
         "visible": false
        },
        {
         "domain": {
          "x": [
           0,
           1
          ],
          "y": [
           0.515,
           1
          ]
         },
         "labels": [
          "negative",
          "neutral",
          "positive"
         ],
         "marker": {
          "colors": [
           "red",
           "yellow",
           "green"
          ]
         },
         "type": "pie",
         "values": [
          319,
          1784,
          908
         ],
         "visible": false
        },
        {
         "cells": {
          "align": "left",
          "fill": {
           "color": "lightcyan"
          },
          "line": {
           "color": "darkslategray"
          },
          "values": [
           [
            "Tanzania",
            "Tanzania",
            "Tanzania",
            "Tanzania",
            "Tanzania",
            "Tanzania",
            "Tanzania",
            "Tanzania",
            "Tanzania",
            "Tanzania",
            "Tanzania",
            "Tanzania",
            "Tanzania",
            "Tanzania",
            "Tanzania",
            "Tanzania",
            "Tanzania",
            "Tanzania",
            "Tanzania",
            "Tanzania",
            "Tanzania",
            "Tanzania",
            "Tanzania",
            "Tanzania",
            "Tanzania",
            "Tanzania",
            "Tanzania",
            "Tanzania",
            "Tanzania",
            "Tanzania"
           ],
           [
            "Humu ndani kuna watu wana madini mengi sana shida ni kwamba ukiwaomba waziteme watakuzungusha Bora uweke notification on",
            "Wasanii mnaleta trafficme siwahafikinyie wanafikinawameza ka meli Atlantichajaelewa nini sasa",
            "we me wa online sio offlinesema dharau zinazidi sana humukila kukicha halafu vibwana vidogo tu",
            "Huu mpira huu sijui huwa anapata furaha kwenye Timu ipi huku kule",
            "Nchi ya drama na matukio Ila hii kama ikidhihirika ni kweli basi ni kashfa kubwa sana kitaifa Mark my words Maswali ha",
            "Hili tatizo kubwa sana kwetumtu akijaribu kutusanua aah huyu naye anajifanya mjuajisometimes nafikiri",
            "Nimetokea kwenye familia maskini sana na kibaya zaidi ilidharaulika sana tena kwa pande zote mbili yaani upande wa baba",
            "Wapo waliopotea bila kujulikana walipo kama vile Ben SaananeAzory Gwanda na Mkitii wa Halmashauri ya KibondoSmoni Kangoye",
            "Tunapenda kukufahamisha zitasitishiwa huduma kwa sababu zitakuwa hazijakamlisha usajili kwa alama za vidole LM",
            "Ile msg ya sizioni siku zangu si uwa inakuogopesha sasa kwanini hupendi kutumia",
            "Mgema akisifiwa tembo hulitia maji",
            "Jambo gani litakufanya uwe na furaha kama ya Rashford Funguka",
            "Nalalamika baridi wenyeji chuga wanadai msimu wa joto huume natimiza jukumu langu la kuwakumbusha kutumia kondomu",
            "Anaitwa Alisson Ramses Becker ndiye kipa bora wa Ulimwengu kutoka kwa Majogoo Liverpool",
            "Maisha ni kama hivi kwa mtumiaji wa huduma za TTCL Fanikisha shughuli zako bila stress refusha maisha kwa tabasamu",
            "Katika Manunuzi ya Umma yanayosimamiwa na kudhibitiwa na PPRA imetengwa 30 ya manunuzi yake yatoke kwa Vijana 10 W",
            "Simpo endi klia",
            "Ukimya una mahusiano na uwogasema alikuchafua mwanangu lakini nilikupambania sana hujawahi tu ku appreciate",
            "Nachoshukuru imeanza kufungia simu kwa awamu ili athari isiwe kubwa ila kinachotakiwa kuwe na mazingira rahisi k",
            "tunaomba radhi kwa hilo tumeomba taarifa zako DM ili tuweze kuwasiliana nawe na kukupatia huduma",
            "Linapokuja suala la kibenki je ni jambo gani la kuzingatia Urahisi au uaminifu Uwapo na KCB huitaji kuchagua",
            "Pole sana mteja wetu kwa changamoto uliyopata wataalam wetu wanaendelea kuboresha huduma ya internet iwe yenye kasi zaidi",
            "Matarajio ya hali ya hewa saa24 zijazo kuanzia saa 3 usiku wa Leo 27052018",
            "Pole sanakwasasa tumeangalia account yako inaonyesha mara ya mwisho ulijiunga na kifurushi cha siku ambacho kimes",
            "AlfredHabari yakoshukrani sana kwa kushiriki nasi kwenye ukurasa wetu endelea kufurahia huduma bora kutoka tigo",
            "Kikubwa nilichojifunza katika elimu ni kwamba Walimu wanakusaidia ufauli mitihani ila kuelewa na kuchambua kipi unahita",
            "Ndugu mteja hakuna mgao ni maboresho ya miundo mbinu tu Tunaomba radhi kwa usumbufu unaojitokeza",
            "Dah Hapa najiona kabisa nimekuwa nikitamani kubadilika kumbe napaswa kuikabili nafsi yangu",
            "Kaimu Mganga Mkuu wa Mkoa wa Songwe Dkt Kheri Kagya akitoa zawadi kwa akina mama wa mfano walioweza kunyonyesha watoto wao maziwa pekee kwa muda wa miezi sita wakati wa maadhimisho ya wiki ya unyonyeshaji yaliyofanyika Halmashauri ya Mji wa Tunduma",
            "Niliokota hii simu jana Element mwenye simu nahisi ni huyo dada hapo kama unamfahamu mwambie simu yake ipo"
           ],
           [
            "negative",
            "negative",
            "negative",
            "negative",
            "negative",
            "negative",
            "negative",
            "negative",
            "negative",
            "negative",
            "neutral",
            "neutral",
            "neutral",
            "neutral",
            "neutral",
            "neutral",
            "neutral",
            "neutral",
            "neutral",
            "neutral",
            "positive",
            "positive",
            "positive",
            "positive",
            "positive",
            "positive",
            "positive",
            "positive",
            "positive",
            "positive"
           ]
          ]
         },
         "domain": {
          "x": [
           0,
           1
          ],
          "y": [
           0,
           0.485
          ]
         },
         "header": {
          "align": "center",
          "fill": {
           "color": "lightskyblue"
          },
          "font": {
           "color": "black",
           "size": 12
          },
          "line": {
           "color": "darkslategray"
          },
          "values": [
           "country",
           "tweet",
           "label"
          ]
         },
         "type": "table",
         "visible": false
        },
        {
         "domain": {
          "x": [
           0,
           1
          ],
          "y": [
           0.515,
           1
          ]
         },
         "labels": [
          "negative",
          "neutral",
          "positive"
         ],
         "marker": {
          "colors": [
           "red",
           "yellow",
           "green"
          ]
         },
         "type": "pie",
         "values": [
          446,
          214,
          601
         ],
         "visible": false
        },
        {
         "cells": {
          "align": "left",
          "fill": {
           "color": "lightcyan"
          },
          "line": {
           "color": "darkslategray"
          },
          "values": [
           [
            "Eswatini",
            "Eswatini",
            "Eswatini",
            "Eswatini",
            "Eswatini",
            "Eswatini",
            "Eswatini",
            "Eswatini",
            "Eswatini",
            "Eswatini",
            "Eswatini",
            "Eswatini",
            "Eswatini",
            "Eswatini",
            "Eswatini",
            "Eswatini",
            "Eswatini",
            "Eswatini",
            "Eswatini",
            "Eswatini",
            "Eswatini",
            "Eswatini",
            "Eswatini",
            "Eswatini",
            "Eswatini",
            "Eswatini",
            "Eswatini",
            "Eswatini",
            "Eswatini",
            "Eswatini"
           ],
           [
            "Uni Txova Yini &gt; http://t.co/WIRVhMCyog #Moneycomio #HipHopMoz",
            "@user Ah ja nibom, uphimissa yini, hi 2019 swoswi ahina nkama yaku sofrera",
            "@user @user @user @user @user Buti vahlupha yeah ikhomiwe hi babalza wavonaka. U etlele abyikile.",
            "😹😹😹😹😹😹 loku u dlhawa hi precoce 😹😹 https://t.co/0E43GekZkq",
            "😂 😂 utafa wena by https://t.co/oNxvRZggBv",
            "Guebuza u hi fenhissa a m'pandlha. #EmatumTioPatinhasNaCadeia",
            "@user hahahah u ta rendera",
            "@user Tsika ku hi lhanhela wena",
            "@user Unga lhai, lava vá lhayaka swaku kuni ma gerador nem a vá kutive Albasine cola ka maputsu, ambi bobole loko kungana placa ava ku tive, ja vá tiva ma gerador ya tiko, hewenou, hambe male kona ma gerador a mana gasolina pru falta ya orçamento.",
            "Utwa mbangui wena https://t.co/ER3oeSGkBJ",
            "@user @user Ntiyido Leyo! Wena wasvitiva.",
            "@user Kulova swa xijuma-jumani, nkarhi wo swirhambo akuri hava 😄",
            "@user Vo hi fridjela Wenou, vo hi komba fswaku a ndlela ya sathana ya tika, ka hissa ala ansi, já wena langa kumbe u lava kuhissa loko ou kumbe pradise.",
            "Swiyimbeleri ahi yeni .... miva byela ku hina hi tiva ndlela(senya retla patela) @user Mozambique https://t.co/rZlPwwrCRz",
            "Nilava a kuya kosini vahaxi nho yimela nkari lowo wuhela nitalhamba nita famba @user @user @user @user",
            "Streaming @user live ni ri kwala Maputo. Bondia @user &amp; @user",
            "Round 2 ya @user nili kwala a Mozambique seni fikile a Maputo @user @user @user @user",
            "Mabermuda- matilho*xa wula wula 🎶🔥🔥 https://t.co/6TW2zUhWJf",
            "Stay home Postpone Puza mati A mundzuku I siku Ka hissa",
            "@user No mu txuvukissa lwehi wa papai @user",
            "AUXENE... Moh ini ku pfuka?",
            "Niku yingiseli nile xokwe Mozambique sesi thembzana @user @user",
            "John Legend - Mina Na Wena",
            "Wena wako sungula https://t.co/aJqRyAInAs",
            "A makhessemussi nkata ni ma lua de mel hitada xikamwe ungatxavi nkata hikussa sse hi txadile",
            "@user niku yingiseli nile xokwe Mozambique nilo gaaaa 810dstv @user",
            "Niku khoma hi 810dstv chokwe @user",
            "kannimambo, ni tsakê swi nene https://t.co/horMgEjcp1",
            "@user Madala lweyi namufeva, wativa stereka!",
            "Mawaku A lirandzoooooh, djombooooohhh, ya lirandzoooooh. Mawakuhhhh...."
           ],
           [
            "negative",
            "negative",
            "negative",
            "negative",
            "negative",
            "negative",
            "negative",
            "negative",
            "negative",
            "negative",
            "neutral",
            "neutral",
            "neutral",
            "neutral",
            "neutral",
            "neutral",
            "neutral",
            "neutral",
            "neutral",
            "neutral",
            "positive",
            "positive",
            "positive",
            "positive",
            "positive",
            "positive",
            "positive",
            "positive",
            "positive",
            "positive"
           ]
          ]
         },
         "domain": {
          "x": [
           0,
           1
          ],
          "y": [
           0,
           0.485
          ]
         },
         "header": {
          "align": "center",
          "fill": {
           "color": "lightskyblue"
          },
          "font": {
           "color": "black",
           "size": 12
          },
          "line": {
           "color": "darkslategray"
          },
          "values": [
           "country",
           "tweet",
           "label"
          ]
         },
         "type": "table",
         "visible": false
        },
        {
         "domain": {
          "x": [
           0,
           1
          ],
          "y": [
           0.515,
           1
          ]
         },
         "labels": [
          "negative",
          "neutral",
          "positive"
         ],
         "marker": {
          "colors": [
           "red",
           "yellow",
           "green"
          ]
         },
         "type": "pie",
         "values": [
          446,
          214,
          601
         ],
         "visible": false
        },
        {
         "cells": {
          "align": "left",
          "fill": {
           "color": "lightcyan"
          },
          "line": {
           "color": "darkslategray"
          },
          "values": [
           [
            "South Africa",
            "South Africa",
            "South Africa",
            "South Africa",
            "South Africa",
            "South Africa",
            "South Africa",
            "South Africa",
            "South Africa",
            "South Africa",
            "South Africa",
            "South Africa",
            "South Africa",
            "South Africa",
            "South Africa",
            "South Africa",
            "South Africa",
            "South Africa",
            "South Africa",
            "South Africa",
            "South Africa",
            "South Africa",
            "South Africa",
            "South Africa",
            "South Africa",
            "South Africa",
            "South Africa",
            "South Africa",
            "South Africa",
            "South Africa"
           ],
           [
            "Uni Txova Yini &gt; http://t.co/WIRVhMCyog #Moneycomio #HipHopMoz",
            "@user Ah ja nibom, uphimissa yini, hi 2019 swoswi ahina nkama yaku sofrera",
            "@user @user @user @user @user Buti vahlupha yeah ikhomiwe hi babalza wavonaka. U etlele abyikile.",
            "😹😹😹😹😹😹 loku u dlhawa hi precoce 😹😹 https://t.co/0E43GekZkq",
            "😂 😂 utafa wena by https://t.co/oNxvRZggBv",
            "Guebuza u hi fenhissa a m'pandlha. #EmatumTioPatinhasNaCadeia",
            "@user hahahah u ta rendera",
            "@user Tsika ku hi lhanhela wena",
            "@user Unga lhai, lava vá lhayaka swaku kuni ma gerador nem a vá kutive Albasine cola ka maputsu, ambi bobole loko kungana placa ava ku tive, ja vá tiva ma gerador ya tiko, hewenou, hambe male kona ma gerador a mana gasolina pru falta ya orçamento.",
            "Utwa mbangui wena https://t.co/ER3oeSGkBJ",
            "@user @user Ntiyido Leyo! Wena wasvitiva.",
            "@user Kulova swa xijuma-jumani, nkarhi wo swirhambo akuri hava 😄",
            "@user Vo hi fridjela Wenou, vo hi komba fswaku a ndlela ya sathana ya tika, ka hissa ala ansi, já wena langa kumbe u lava kuhissa loko ou kumbe pradise.",
            "Swiyimbeleri ahi yeni .... miva byela ku hina hi tiva ndlela(senya retla patela) @user Mozambique https://t.co/rZlPwwrCRz",
            "Nilava a kuya kosini vahaxi nho yimela nkari lowo wuhela nitalhamba nita famba @user @user @user @user",
            "Streaming @user live ni ri kwala Maputo. Bondia @user &amp; @user",
            "Round 2 ya @user nili kwala a Mozambique seni fikile a Maputo @user @user @user @user",
            "Mabermuda- matilho*xa wula wula 🎶🔥🔥 https://t.co/6TW2zUhWJf",
            "Stay home Postpone Puza mati A mundzuku I siku Ka hissa",
            "@user No mu txuvukissa lwehi wa papai @user",
            "AUXENE... Moh ini ku pfuka?",
            "Niku yingiseli nile xokwe Mozambique sesi thembzana @user @user",
            "John Legend - Mina Na Wena",
            "Wena wako sungula https://t.co/aJqRyAInAs",
            "A makhessemussi nkata ni ma lua de mel hitada xikamwe ungatxavi nkata hikussa sse hi txadile",
            "@user niku yingiseli nile xokwe Mozambique nilo gaaaa 810dstv @user",
            "Niku khoma hi 810dstv chokwe @user",
            "kannimambo, ni tsakê swi nene https://t.co/horMgEjcp1",
            "@user Madala lweyi namufeva, wativa stereka!",
            "Mawaku A lirandzoooooh, djombooooohhh, ya lirandzoooooh. Mawakuhhhh...."
           ],
           [
            "negative",
            "negative",
            "negative",
            "negative",
            "negative",
            "negative",
            "negative",
            "negative",
            "negative",
            "negative",
            "neutral",
            "neutral",
            "neutral",
            "neutral",
            "neutral",
            "neutral",
            "neutral",
            "neutral",
            "neutral",
            "neutral",
            "positive",
            "positive",
            "positive",
            "positive",
            "positive",
            "positive",
            "positive",
            "positive",
            "positive",
            "positive"
           ]
          ]
         },
         "domain": {
          "x": [
           0,
           1
          ],
          "y": [
           0,
           0.485
          ]
         },
         "header": {
          "align": "center",
          "fill": {
           "color": "lightskyblue"
          },
          "font": {
           "color": "black",
           "size": 12
          },
          "line": {
           "color": "darkslategray"
          },
          "values": [
           "country",
           "tweet",
           "label"
          ]
         },
         "type": "table",
         "visible": false
        },
        {
         "domain": {
          "x": [
           0,
           1
          ],
          "y": [
           0.515,
           1
          ]
         },
         "labels": [
          "negative",
          "neutral",
          "positive"
         ],
         "marker": {
          "colors": [
           "red",
           "yellow",
           "green"
          ]
         },
         "type": "pie",
         "values": [
          446,
          214,
          601
         ],
         "visible": false
        },
        {
         "cells": {
          "align": "left",
          "fill": {
           "color": "lightcyan"
          },
          "line": {
           "color": "darkslategray"
          },
          "values": [
           [
            "Zimbabwe",
            "Zimbabwe",
            "Zimbabwe",
            "Zimbabwe",
            "Zimbabwe",
            "Zimbabwe",
            "Zimbabwe",
            "Zimbabwe",
            "Zimbabwe",
            "Zimbabwe",
            "Zimbabwe",
            "Zimbabwe",
            "Zimbabwe",
            "Zimbabwe",
            "Zimbabwe",
            "Zimbabwe",
            "Zimbabwe",
            "Zimbabwe",
            "Zimbabwe",
            "Zimbabwe",
            "Zimbabwe",
            "Zimbabwe",
            "Zimbabwe",
            "Zimbabwe",
            "Zimbabwe",
            "Zimbabwe",
            "Zimbabwe",
            "Zimbabwe",
            "Zimbabwe",
            "Zimbabwe"
           ],
           [
            "Uni Txova Yini &gt; http://t.co/WIRVhMCyog #Moneycomio #HipHopMoz",
            "@user Ah ja nibom, uphimissa yini, hi 2019 swoswi ahina nkama yaku sofrera",
            "@user @user @user @user @user Buti vahlupha yeah ikhomiwe hi babalza wavonaka. U etlele abyikile.",
            "😹😹😹😹😹😹 loku u dlhawa hi precoce 😹😹 https://t.co/0E43GekZkq",
            "😂 😂 utafa wena by https://t.co/oNxvRZggBv",
            "Guebuza u hi fenhissa a m'pandlha. #EmatumTioPatinhasNaCadeia",
            "@user hahahah u ta rendera",
            "@user Tsika ku hi lhanhela wena",
            "@user Unga lhai, lava vá lhayaka swaku kuni ma gerador nem a vá kutive Albasine cola ka maputsu, ambi bobole loko kungana placa ava ku tive, ja vá tiva ma gerador ya tiko, hewenou, hambe male kona ma gerador a mana gasolina pru falta ya orçamento.",
            "Utwa mbangui wena https://t.co/ER3oeSGkBJ",
            "@user @user Ntiyido Leyo! Wena wasvitiva.",
            "@user Kulova swa xijuma-jumani, nkarhi wo swirhambo akuri hava 😄",
            "@user Vo hi fridjela Wenou, vo hi komba fswaku a ndlela ya sathana ya tika, ka hissa ala ansi, já wena langa kumbe u lava kuhissa loko ou kumbe pradise.",
            "Swiyimbeleri ahi yeni .... miva byela ku hina hi tiva ndlela(senya retla patela) @user Mozambique https://t.co/rZlPwwrCRz",
            "Nilava a kuya kosini vahaxi nho yimela nkari lowo wuhela nitalhamba nita famba @user @user @user @user",
            "Streaming @user live ni ri kwala Maputo. Bondia @user &amp; @user",
            "Round 2 ya @user nili kwala a Mozambique seni fikile a Maputo @user @user @user @user",
            "Mabermuda- matilho*xa wula wula 🎶🔥🔥 https://t.co/6TW2zUhWJf",
            "Stay home Postpone Puza mati A mundzuku I siku Ka hissa",
            "@user No mu txuvukissa lwehi wa papai @user",
            "AUXENE... Moh ini ku pfuka?",
            "Niku yingiseli nile xokwe Mozambique sesi thembzana @user @user",
            "John Legend - Mina Na Wena",
            "Wena wako sungula https://t.co/aJqRyAInAs",
            "A makhessemussi nkata ni ma lua de mel hitada xikamwe ungatxavi nkata hikussa sse hi txadile",
            "@user niku yingiseli nile xokwe Mozambique nilo gaaaa 810dstv @user",
            "Niku khoma hi 810dstv chokwe @user",
            "kannimambo, ni tsakê swi nene https://t.co/horMgEjcp1",
            "@user Madala lweyi namufeva, wativa stereka!",
            "Mawaku A lirandzoooooh, djombooooohhh, ya lirandzoooooh. Mawakuhhhh...."
           ],
           [
            "negative",
            "negative",
            "negative",
            "negative",
            "negative",
            "negative",
            "negative",
            "negative",
            "negative",
            "negative",
            "neutral",
            "neutral",
            "neutral",
            "neutral",
            "neutral",
            "neutral",
            "neutral",
            "neutral",
            "neutral",
            "neutral",
            "positive",
            "positive",
            "positive",
            "positive",
            "positive",
            "positive",
            "positive",
            "positive",
            "positive",
            "positive"
           ]
          ]
         },
         "domain": {
          "x": [
           0,
           1
          ],
          "y": [
           0,
           0.485
          ]
         },
         "header": {
          "align": "center",
          "fill": {
           "color": "lightskyblue"
          },
          "font": {
           "color": "black",
           "size": 12
          },
          "line": {
           "color": "darkslategray"
          },
          "values": [
           "country",
           "tweet",
           "label"
          ]
         },
         "type": "table",
         "visible": false
        }
       ],
       "layout": {
        "template": {
         "data": {
          "bar": [
           {
            "error_x": {
             "color": "#2a3f5f"
            },
            "error_y": {
             "color": "#2a3f5f"
            },
            "marker": {
             "line": {
              "color": "#E5ECF6",
              "width": 0.5
             },
             "pattern": {
              "fillmode": "overlay",
              "size": 10,
              "solidity": 0.2
             }
            },
            "type": "bar"
           }
          ],
          "barpolar": [
           {
            "marker": {
             "line": {
              "color": "#E5ECF6",
              "width": 0.5
             },
             "pattern": {
              "fillmode": "overlay",
              "size": 10,
              "solidity": 0.2
             }
            },
            "type": "barpolar"
           }
          ],
          "carpet": [
           {
            "aaxis": {
             "endlinecolor": "#2a3f5f",
             "gridcolor": "white",
             "linecolor": "white",
             "minorgridcolor": "white",
             "startlinecolor": "#2a3f5f"
            },
            "baxis": {
             "endlinecolor": "#2a3f5f",
             "gridcolor": "white",
             "linecolor": "white",
             "minorgridcolor": "white",
             "startlinecolor": "#2a3f5f"
            },
            "type": "carpet"
           }
          ],
          "choropleth": [
           {
            "colorbar": {
             "outlinewidth": 0,
             "ticks": ""
            },
            "type": "choropleth"
           }
          ],
          "contour": [
           {
            "colorbar": {
             "outlinewidth": 0,
             "ticks": ""
            },
            "colorscale": [
             [
              0,
              "#0d0887"
             ],
             [
              0.1111111111111111,
              "#46039f"
             ],
             [
              0.2222222222222222,
              "#7201a8"
             ],
             [
              0.3333333333333333,
              "#9c179e"
             ],
             [
              0.4444444444444444,
              "#bd3786"
             ],
             [
              0.5555555555555556,
              "#d8576b"
             ],
             [
              0.6666666666666666,
              "#ed7953"
             ],
             [
              0.7777777777777778,
              "#fb9f3a"
             ],
             [
              0.8888888888888888,
              "#fdca26"
             ],
             [
              1,
              "#f0f921"
             ]
            ],
            "type": "contour"
           }
          ],
          "contourcarpet": [
           {
            "colorbar": {
             "outlinewidth": 0,
             "ticks": ""
            },
            "type": "contourcarpet"
           }
          ],
          "heatmap": [
           {
            "colorbar": {
             "outlinewidth": 0,
             "ticks": ""
            },
            "colorscale": [
             [
              0,
              "#0d0887"
             ],
             [
              0.1111111111111111,
              "#46039f"
             ],
             [
              0.2222222222222222,
              "#7201a8"
             ],
             [
              0.3333333333333333,
              "#9c179e"
             ],
             [
              0.4444444444444444,
              "#bd3786"
             ],
             [
              0.5555555555555556,
              "#d8576b"
             ],
             [
              0.6666666666666666,
              "#ed7953"
             ],
             [
              0.7777777777777778,
              "#fb9f3a"
             ],
             [
              0.8888888888888888,
              "#fdca26"
             ],
             [
              1,
              "#f0f921"
             ]
            ],
            "type": "heatmap"
           }
          ],
          "heatmapgl": [
           {
            "colorbar": {
             "outlinewidth": 0,
             "ticks": ""
            },
            "colorscale": [
             [
              0,
              "#0d0887"
             ],
             [
              0.1111111111111111,
              "#46039f"
             ],
             [
              0.2222222222222222,
              "#7201a8"
             ],
             [
              0.3333333333333333,
              "#9c179e"
             ],
             [
              0.4444444444444444,
              "#bd3786"
             ],
             [
              0.5555555555555556,
              "#d8576b"
             ],
             [
              0.6666666666666666,
              "#ed7953"
             ],
             [
              0.7777777777777778,
              "#fb9f3a"
             ],
             [
              0.8888888888888888,
              "#fdca26"
             ],
             [
              1,
              "#f0f921"
             ]
            ],
            "type": "heatmapgl"
           }
          ],
          "histogram": [
           {
            "marker": {
             "pattern": {
              "fillmode": "overlay",
              "size": 10,
              "solidity": 0.2
             }
            },
            "type": "histogram"
           }
          ],
          "histogram2d": [
           {
            "colorbar": {
             "outlinewidth": 0,
             "ticks": ""
            },
            "colorscale": [
             [
              0,
              "#0d0887"
             ],
             [
              0.1111111111111111,
              "#46039f"
             ],
             [
              0.2222222222222222,
              "#7201a8"
             ],
             [
              0.3333333333333333,
              "#9c179e"
             ],
             [
              0.4444444444444444,
              "#bd3786"
             ],
             [
              0.5555555555555556,
              "#d8576b"
             ],
             [
              0.6666666666666666,
              "#ed7953"
             ],
             [
              0.7777777777777778,
              "#fb9f3a"
             ],
             [
              0.8888888888888888,
              "#fdca26"
             ],
             [
              1,
              "#f0f921"
             ]
            ],
            "type": "histogram2d"
           }
          ],
          "histogram2dcontour": [
           {
            "colorbar": {
             "outlinewidth": 0,
             "ticks": ""
            },
            "colorscale": [
             [
              0,
              "#0d0887"
             ],
             [
              0.1111111111111111,
              "#46039f"
             ],
             [
              0.2222222222222222,
              "#7201a8"
             ],
             [
              0.3333333333333333,
              "#9c179e"
             ],
             [
              0.4444444444444444,
              "#bd3786"
             ],
             [
              0.5555555555555556,
              "#d8576b"
             ],
             [
              0.6666666666666666,
              "#ed7953"
             ],
             [
              0.7777777777777778,
              "#fb9f3a"
             ],
             [
              0.8888888888888888,
              "#fdca26"
             ],
             [
              1,
              "#f0f921"
             ]
            ],
            "type": "histogram2dcontour"
           }
          ],
          "mesh3d": [
           {
            "colorbar": {
             "outlinewidth": 0,
             "ticks": ""
            },
            "type": "mesh3d"
           }
          ],
          "parcoords": [
           {
            "line": {
             "colorbar": {
              "outlinewidth": 0,
              "ticks": ""
             }
            },
            "type": "parcoords"
           }
          ],
          "pie": [
           {
            "automargin": true,
            "type": "pie"
           }
          ],
          "scatter": [
           {
            "fillpattern": {
             "fillmode": "overlay",
             "size": 10,
             "solidity": 0.2
            },
            "type": "scatter"
           }
          ],
          "scatter3d": [
           {
            "line": {
             "colorbar": {
              "outlinewidth": 0,
              "ticks": ""
             }
            },
            "marker": {
             "colorbar": {
              "outlinewidth": 0,
              "ticks": ""
             }
            },
            "type": "scatter3d"
           }
          ],
          "scattercarpet": [
           {
            "marker": {
             "colorbar": {
              "outlinewidth": 0,
              "ticks": ""
             }
            },
            "type": "scattercarpet"
           }
          ],
          "scattergeo": [
           {
            "marker": {
             "colorbar": {
              "outlinewidth": 0,
              "ticks": ""
             }
            },
            "type": "scattergeo"
           }
          ],
          "scattergl": [
           {
            "marker": {
             "colorbar": {
              "outlinewidth": 0,
              "ticks": ""
             }
            },
            "type": "scattergl"
           }
          ],
          "scattermapbox": [
           {
            "marker": {
             "colorbar": {
              "outlinewidth": 0,
              "ticks": ""
             }
            },
            "type": "scattermapbox"
           }
          ],
          "scatterpolar": [
           {
            "marker": {
             "colorbar": {
              "outlinewidth": 0,
              "ticks": ""
             }
            },
            "type": "scatterpolar"
           }
          ],
          "scatterpolargl": [
           {
            "marker": {
             "colorbar": {
              "outlinewidth": 0,
              "ticks": ""
             }
            },
            "type": "scatterpolargl"
           }
          ],
          "scatterternary": [
           {
            "marker": {
             "colorbar": {
              "outlinewidth": 0,
              "ticks": ""
             }
            },
            "type": "scatterternary"
           }
          ],
          "surface": [
           {
            "colorbar": {
             "outlinewidth": 0,
             "ticks": ""
            },
            "colorscale": [
             [
              0,
              "#0d0887"
             ],
             [
              0.1111111111111111,
              "#46039f"
             ],
             [
              0.2222222222222222,
              "#7201a8"
             ],
             [
              0.3333333333333333,
              "#9c179e"
             ],
             [
              0.4444444444444444,
              "#bd3786"
             ],
             [
              0.5555555555555556,
              "#d8576b"
             ],
             [
              0.6666666666666666,
              "#ed7953"
             ],
             [
              0.7777777777777778,
              "#fb9f3a"
             ],
             [
              0.8888888888888888,
              "#fdca26"
             ],
             [
              1,
              "#f0f921"
             ]
            ],
            "type": "surface"
           }
          ],
          "table": [
           {
            "cells": {
             "fill": {
              "color": "#EBF0F8"
             },
             "line": {
              "color": "white"
             }
            },
            "header": {
             "fill": {
              "color": "#C8D4E3"
             },
             "line": {
              "color": "white"
             }
            },
            "type": "table"
           }
          ]
         },
         "layout": {
          "annotationdefaults": {
           "arrowcolor": "#2a3f5f",
           "arrowhead": 0,
           "arrowwidth": 1
          },
          "autotypenumbers": "strict",
          "coloraxis": {
           "colorbar": {
            "outlinewidth": 0,
            "ticks": ""
           }
          },
          "colorscale": {
           "diverging": [
            [
             0,
             "#8e0152"
            ],
            [
             0.1,
             "#c51b7d"
            ],
            [
             0.2,
             "#de77ae"
            ],
            [
             0.3,
             "#f1b6da"
            ],
            [
             0.4,
             "#fde0ef"
            ],
            [
             0.5,
             "#f7f7f7"
            ],
            [
             0.6,
             "#e6f5d0"
            ],
            [
             0.7,
             "#b8e186"
            ],
            [
             0.8,
             "#7fbc41"
            ],
            [
             0.9,
             "#4d9221"
            ],
            [
             1,
             "#276419"
            ]
           ],
           "sequential": [
            [
             0,
             "#0d0887"
            ],
            [
             0.1111111111111111,
             "#46039f"
            ],
            [
             0.2222222222222222,
             "#7201a8"
            ],
            [
             0.3333333333333333,
             "#9c179e"
            ],
            [
             0.4444444444444444,
             "#bd3786"
            ],
            [
             0.5555555555555556,
             "#d8576b"
            ],
            [
             0.6666666666666666,
             "#ed7953"
            ],
            [
             0.7777777777777778,
             "#fb9f3a"
            ],
            [
             0.8888888888888888,
             "#fdca26"
            ],
            [
             1,
             "#f0f921"
            ]
           ],
           "sequentialminus": [
            [
             0,
             "#0d0887"
            ],
            [
             0.1111111111111111,
             "#46039f"
            ],
            [
             0.2222222222222222,
             "#7201a8"
            ],
            [
             0.3333333333333333,
             "#9c179e"
            ],
            [
             0.4444444444444444,
             "#bd3786"
            ],
            [
             0.5555555555555556,
             "#d8576b"
            ],
            [
             0.6666666666666666,
             "#ed7953"
            ],
            [
             0.7777777777777778,
             "#fb9f3a"
            ],
            [
             0.8888888888888888,
             "#fdca26"
            ],
            [
             1,
             "#f0f921"
            ]
           ]
          },
          "colorway": [
           "#636efa",
           "#EF553B",
           "#00cc96",
           "#ab63fa",
           "#FFA15A",
           "#19d3f3",
           "#FF6692",
           "#B6E880",
           "#FF97FF",
           "#FECB52"
          ],
          "font": {
           "color": "#2a3f5f"
          },
          "geo": {
           "bgcolor": "white",
           "lakecolor": "white",
           "landcolor": "#E5ECF6",
           "showlakes": true,
           "showland": true,
           "subunitcolor": "white"
          },
          "hoverlabel": {
           "align": "left"
          },
          "hovermode": "closest",
          "mapbox": {
           "style": "light"
          },
          "paper_bgcolor": "white",
          "plot_bgcolor": "#E5ECF6",
          "polar": {
           "angularaxis": {
            "gridcolor": "white",
            "linecolor": "white",
            "ticks": ""
           },
           "bgcolor": "#E5ECF6",
           "radialaxis": {
            "gridcolor": "white",
            "linecolor": "white",
            "ticks": ""
           }
          },
          "scene": {
           "xaxis": {
            "backgroundcolor": "#E5ECF6",
            "gridcolor": "white",
            "gridwidth": 2,
            "linecolor": "white",
            "showbackground": true,
            "ticks": "",
            "zerolinecolor": "white"
           },
           "yaxis": {
            "backgroundcolor": "#E5ECF6",
            "gridcolor": "white",
            "gridwidth": 2,
            "linecolor": "white",
            "showbackground": true,
            "ticks": "",
            "zerolinecolor": "white"
           },
           "zaxis": {
            "backgroundcolor": "#E5ECF6",
            "gridcolor": "white",
            "gridwidth": 2,
            "linecolor": "white",
            "showbackground": true,
            "ticks": "",
            "zerolinecolor": "white"
           }
          },
          "shapedefaults": {
           "line": {
            "color": "#2a3f5f"
           }
          },
          "ternary": {
           "aaxis": {
            "gridcolor": "white",
            "linecolor": "white",
            "ticks": ""
           },
           "baxis": {
            "gridcolor": "white",
            "linecolor": "white",
            "ticks": ""
           },
           "bgcolor": "#E5ECF6",
           "caxis": {
            "gridcolor": "white",
            "linecolor": "white",
            "ticks": ""
           }
          },
          "title": {
           "x": 0.05
          },
          "xaxis": {
           "automargin": true,
           "gridcolor": "white",
           "linecolor": "white",
           "ticks": "",
           "title": {
            "standoff": 15
           },
           "zerolinecolor": "white",
           "zerolinewidth": 2
          },
          "yaxis": {
           "automargin": true,
           "gridcolor": "white",
           "linecolor": "white",
           "ticks": "",
           "title": {
            "standoff": 15
           },
           "zerolinecolor": "white",
           "zerolinewidth": 2
          }
         }
        },
        "title": {
         "text": "African Languages - Passion behind the Tweets"
        },
        "updatemenus": [
         {
          "active": 0,
          "buttons": [
           {
            "args": [
             {
              "showlegend": true,
              "title": "Ethiopia",
              "visible": [
               true,
               true,
               false,
               false,
               false,
               false,
               false,
               false,
               false,
               false,
               false,
               false,
               false,
               false,
               false,
               false,
               false,
               false,
               false,
               false,
               false,
               false,
               false,
               false,
               false,
               false
              ]
             }
            ],
            "label": "Ethiopia",
            "method": "restyle"
           },
           {
            "args": [
             {
              "showlegend": true,
              "title": "Algeria",
              "visible": [
               false,
               false,
               true,
               true,
               false,
               false,
               false,
               false,
               false,
               false,
               false,
               false,
               false,
               false,
               false,
               false,
               false,
               false,
               false,
               false,
               false,
               false,
               false,
               false,
               false,
               false
              ]
             }
            ],
            "label": "Algeria",
            "method": "restyle"
           },
           {
            "args": [
             {
              "showlegend": true,
              "title": "Morocco",
              "visible": [
               false,
               false,
               false,
               false,
               true,
               true,
               false,
               false,
               false,
               false,
               false,
               false,
               false,
               false,
               false,
               false,
               false,
               false,
               false,
               false,
               false,
               false,
               false,
               false,
               false,
               false
              ]
             }
            ],
            "label": "Morocco",
            "method": "restyle"
           },
           {
            "args": [
             {
              "showlegend": true,
              "title": "Cameroon",
              "visible": [
               false,
               false,
               false,
               false,
               false,
               false,
               true,
               true,
               false,
               false,
               false,
               false,
               false,
               false,
               false,
               false,
               false,
               false,
               false,
               false,
               false,
               false,
               false,
               false,
               false,
               false
              ]
             }
            ],
            "label": "Cameroon",
            "method": "restyle"
           },
           {
            "args": [
             {
              "showlegend": true,
              "title": "Ghana",
              "visible": [
               false,
               false,
               false,
               false,
               false,
               false,
               false,
               false,
               true,
               true,
               false,
               false,
               false,
               false,
               false,
               false,
               false,
               false,
               false,
               false,
               false,
               false,
               false,
               false,
               false,
               false
              ]
             }
            ],
            "label": "Ghana",
            "method": "restyle"
           },
           {
            "args": [
             {
              "showlegend": true,
              "title": "Nigeria",
              "visible": [
               false,
               false,
               false,
               false,
               false,
               false,
               false,
               false,
               false,
               false,
               true,
               true,
               false,
               false,
               false,
               false,
               false,
               false,
               false,
               false,
               false,
               false,
               false,
               false,
               false,
               false
              ]
             }
            ],
            "label": "Nigeria",
            "method": "restyle"
           },
           {
            "args": [
             {
              "showlegend": true,
              "title": "Rwanda",
              "visible": [
               false,
               false,
               false,
               false,
               false,
               false,
               false,
               false,
               false,
               false,
               false,
               false,
               true,
               true,
               false,
               false,
               false,
               false,
               false,
               false,
               false,
               false,
               false,
               false,
               false,
               false
              ]
             }
            ],
            "label": "Rwanda",
            "method": "restyle"
           },
           {
            "args": [
             {
              "showlegend": true,
              "title": "Mozambique",
              "visible": [
               false,
               false,
               false,
               false,
               false,
               false,
               false,
               false,
               false,
               false,
               false,
               false,
               false,
               false,
               true,
               true,
               false,
               false,
               false,
               false,
               false,
               false,
               false,
               false,
               false,
               false
              ]
             }
            ],
            "label": "Mozambique",
            "method": "restyle"
           },
           {
            "args": [
             {
              "showlegend": true,
              "title": "Kenya",
              "visible": [
               false,
               false,
               false,
               false,
               false,
               false,
               false,
               false,
               false,
               false,
               false,
               false,
               false,
               false,
               false,
               false,
               true,
               true,
               false,
               false,
               false,
               false,
               false,
               false,
               false,
               false
              ]
             }
            ],
            "label": "Kenya",
            "method": "restyle"
           },
           {
            "args": [
             {
              "showlegend": true,
              "title": "Tanzania",
              "visible": [
               false,
               false,
               false,
               false,
               false,
               false,
               false,
               false,
               false,
               false,
               false,
               false,
               false,
               false,
               false,
               false,
               false,
               false,
               true,
               true,
               false,
               false,
               false,
               false,
               false,
               false
              ]
             }
            ],
            "label": "Tanzania",
            "method": "restyle"
           },
           {
            "args": [
             {
              "showlegend": true,
              "title": "Eswatini",
              "visible": [
               false,
               false,
               false,
               false,
               false,
               false,
               false,
               false,
               false,
               false,
               false,
               false,
               false,
               false,
               false,
               false,
               false,
               false,
               false,
               false,
               true,
               true,
               false,
               false,
               false,
               false
              ]
             }
            ],
            "label": "Eswatini",
            "method": "restyle"
           },
           {
            "args": [
             {
              "showlegend": true,
              "title": "South Africa",
              "visible": [
               false,
               false,
               false,
               false,
               false,
               false,
               false,
               false,
               false,
               false,
               false,
               false,
               false,
               false,
               false,
               false,
               false,
               false,
               false,
               false,
               false,
               false,
               true,
               true,
               false,
               false
              ]
             }
            ],
            "label": "South Africa",
            "method": "restyle"
           },
           {
            "args": [
             {
              "showlegend": true,
              "title": "Zimbabwe",
              "visible": [
               false,
               false,
               false,
               false,
               false,
               false,
               false,
               false,
               false,
               false,
               false,
               false,
               false,
               false,
               false,
               false,
               false,
               false,
               false,
               false,
               false,
               false,
               false,
               false,
               true,
               true
              ]
             }
            ],
            "label": "Zimbabwe",
            "method": "restyle"
           }
          ]
         }
        ]
       }
      }
     },
     "metadata": {},
     "output_type": "display_data"
    }
   ],
   "source": [
    "# Making this interactive using dropdown menu \n",
    "\n",
    "\n",
    "fig = make_subplots(\n",
    "rows=2, cols=1,\n",
    "shared_xaxes=True,\n",
    "vertical_spacing=0.03,\n",
    "specs=[[{\"type\": \"domain\"}],\n",
    "        [{\"type\": \"table\"}]]\n",
    ")\n",
    "\n",
    "countries =  df_language_combined.country.unique()\n",
    "for country in countries: \n",
    "    \n",
    "    fig.add_trace(go.Pie(labels=df_sentiment_combined.loc[df_sentiment_combined.country ==country].label, values=df_sentiment_combined.loc[df_sentiment_combined.country ==country].totals,\n",
    "                marker_colors = df_sentiment_combined.loc[df_sentiment_combined.country ==country].label.map(map_dict))\n",
    "                , row=1, col=1)\n",
    "\n",
    "    fig.add_trace(go.Table(\n",
    "    header=dict(\n",
    "        values=[\"country\",\"tweet\",\"label\"],\n",
    "        line_color='darkslategray',\n",
    "        fill_color='lightskyblue',\n",
    "        align='center', font=dict(color='black', size=12)\n",
    "    ),\n",
    "\n",
    "    cells=dict(values=[df_language_combined.loc[df_language_combined.country == country].country,df_language_combined.loc[df_language_combined.country ==country].tweet,df_language_combined.loc[df_language_combined.country ==country].label], \n",
    "                line_color='darkslategray',\n",
    "                fill_color='lightcyan',\n",
    "                align='left'))\n",
    "    , row=2, col=1\n",
    "    )\n",
    "\n",
    "Ld=len(fig.data)\n",
    "Lc =len(countries)\n",
    "for k in range(2, Ld):\n",
    "    fig.update_traces(visible=False, selector = k)\n",
    "def create_layout_button(k, country):\n",
    "    \n",
    "    visibility= [False]*2*Lc\n",
    "    for tr in [2*k, 2*k+1]:\n",
    "        visibility[tr] =True\n",
    "    return dict(label = country,\n",
    "                method = 'restyle',\n",
    "                args = [{'visible': visibility,\n",
    "                            'title': country,\n",
    "                            'showlegend': True}])    \n",
    "\n",
    "\n",
    "fig.update_layout(\n",
    "    updatemenus=[go.layout.Updatemenu(\n",
    "        active = 0,\n",
    "        buttons = [create_layout_button(k, country) for k, country in enumerate(countries)]\n",
    "        )\n",
    "    ],\n",
    "    title_text=\"African Languages - Passion behind the Tweets\")\n",
    "\n",
    "fig.show()"
   ]
  },
  {
   "cell_type": "code",
   "execution_count": 19,
   "metadata": {},
   "outputs": [
    {
     "data": {
      "image/png": "[encoded data removed]",
      "text/plain": [
       "<IPython.core.display.Image object>"
      ]
     },
     "execution_count": 19,
     "metadata": {},
     "output_type": "execute_result"
    }
   ],
   "source": [
    "# Display Output in production\n",
    "img_bytes = fig.to_image(format=\"png\")\n",
    "from IPython.display import Image\n",
    "Image(img_bytes)"
   ]
  },
  {
   "cell_type": "code",
   "execution_count": null,
   "metadata": {},
   "outputs": [],
   "source": []
  }
 ],
 "metadata": {
  "kernelspec": {
   "display_name": "virtual_env",
   "language": "python",
   "name": "python3"
  },
  "language_info": {
   "codemirror_mode": {
    "name": "ipython",
    "version": 3
   },
   "file_extension": ".py",
   "mimetype": "text/x-python",
   "name": "python",
   "nbconvert_exporter": "python",
   "pygments_lexer": "ipython3",
   "version": "3.10.4"
  },
  "orig_nbformat": 4,
  "vscode": {
   "interpreter": {
    "hash": "687274526d4aa2e04447d7d070c6f665e4726a27c7a8a0088b2d1697dc8ad3d8"
   }
  }
 },
 "nbformat": 4,
 "nbformat_minor": 2
}
