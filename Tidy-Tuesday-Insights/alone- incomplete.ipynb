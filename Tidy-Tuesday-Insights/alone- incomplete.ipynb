{
 "cells": [
  {
   "cell_type": "markdown",
   "metadata": {},
   "source": [
    "2023-01-24 <br/>\n",
    "Alone data <br/>\n",
    "https://github.com/rfordatascience/tidytuesday/blob/master/data/2023/2023-01-24/readme.md"
   ]
  },
  {
   "attachments": {},
   "cell_type": "markdown",
   "metadata": {},
   "source": [
    "Graph Analysis - Incomplete"
   ]
  },
  {
   "cell_type": "markdown",
   "metadata": {},
   "source": [
    "https://github.com/rweng18/midsummer_network/blob/master/midsummer_graph.ipynb\n",
    "https://towardsdatascience.com/tutorial-network-visualization-basics-with-networkx-and-plotly-and-a-little-nlp-57c9bbb55bb9\n"
   ]
  },
  {
   "cell_type": "code",
   "execution_count": 6,
   "metadata": {},
   "outputs": [],
   "source": [
    "import pandas as pd\n",
    "import plotly.graph_objects as go\n",
    "import plotly.express as px\n",
    "import plotly.io as pio\n",
    "pio.renderers.default='jupyterlab'\n",
    "import os"
   ]
  },
  {
   "cell_type": "code",
   "execution_count": 7,
   "metadata": {},
   "outputs": [],
   "source": [
    "df = pd.read_csv(\"https://raw.githubusercontent.com/rfordatascience/tidytuesday/master/data/2023/2023-01-24/loadouts.csv\")"
   ]
  },
  {
   "cell_type": "code",
   "execution_count": 8,
   "metadata": {},
   "outputs": [
    {
     "data": {
      "text/html": [
       "<div>\n",
       "<style scoped>\n",
       "    .dataframe tbody tr th:only-of-type {\n",
       "        vertical-align: middle;\n",
       "    }\n",
       "\n",
       "    .dataframe tbody tr th {\n",
       "        vertical-align: top;\n",
       "    }\n",
       "\n",
       "    .dataframe thead th {\n",
       "        text-align: right;\n",
       "    }\n",
       "</style>\n",
       "<table border=\"1\" class=\"dataframe\">\n",
       "  <thead>\n",
       "    <tr style=\"text-align: right;\">\n",
       "      <th></th>\n",
       "      <th>version</th>\n",
       "      <th>season</th>\n",
       "      <th>name</th>\n",
       "      <th>item_number</th>\n",
       "      <th>item_detailed</th>\n",
       "      <th>item</th>\n",
       "    </tr>\n",
       "  </thead>\n",
       "  <tbody>\n",
       "    <tr>\n",
       "      <th>0</th>\n",
       "      <td>US</td>\n",
       "      <td>1</td>\n",
       "      <td>Alan Kay</td>\n",
       "      <td>1</td>\n",
       "      <td>Saw</td>\n",
       "      <td>Saw</td>\n",
       "    </tr>\n",
       "    <tr>\n",
       "      <th>1</th>\n",
       "      <td>US</td>\n",
       "      <td>1</td>\n",
       "      <td>Alan Kay</td>\n",
       "      <td>2</td>\n",
       "      <td>Axe</td>\n",
       "      <td>Axe</td>\n",
       "    </tr>\n",
       "    <tr>\n",
       "      <th>2</th>\n",
       "      <td>US</td>\n",
       "      <td>1</td>\n",
       "      <td>Alan Kay</td>\n",
       "      <td>3</td>\n",
       "      <td>Sleeping bag</td>\n",
       "      <td>Sleeping bag</td>\n",
       "    </tr>\n",
       "    <tr>\n",
       "      <th>3</th>\n",
       "      <td>US</td>\n",
       "      <td>1</td>\n",
       "      <td>Alan Kay</td>\n",
       "      <td>4</td>\n",
       "      <td>Large 2-quart pot</td>\n",
       "      <td>Pot</td>\n",
       "    </tr>\n",
       "    <tr>\n",
       "      <th>4</th>\n",
       "      <td>US</td>\n",
       "      <td>1</td>\n",
       "      <td>Alan Kay</td>\n",
       "      <td>5</td>\n",
       "      <td>Ferro rod</td>\n",
       "      <td>Ferro rod</td>\n",
       "    </tr>\n",
       "  </tbody>\n",
       "</table>\n",
       "</div>"
      ],
      "text/plain": [
       "  version  season      name  item_number      item_detailed          item\n",
       "0      US       1  Alan Kay            1                Saw           Saw\n",
       "1      US       1  Alan Kay            2                Axe           Axe\n",
       "2      US       1  Alan Kay            3       Sleeping bag  Sleeping bag\n",
       "3      US       1  Alan Kay            4  Large 2-quart pot           Pot\n",
       "4      US       1  Alan Kay            5          Ferro rod     Ferro rod"
      ]
     },
     "execution_count": 8,
     "metadata": {},
     "output_type": "execute_result"
    }
   ],
   "source": [
    "df.head()"
   ]
  },
  {
   "cell_type": "code",
   "execution_count": 9,
   "metadata": {},
   "outputs": [
    {
     "data": {
      "text/plain": [
       "Pot                  92\n",
       "Fishing gear         90\n",
       "Sleeping bag         85\n",
       "Saw                  80\n",
       "Axe                  80\n",
       "Ferro rod            77\n",
       "Rations              68\n",
       "Bow and arrows       60\n",
       "Paracord             56\n",
       "Knife                51\n",
       "Trapping wire        46\n",
       "Multitool            46\n",
       "Gillnet              32\n",
       "Tarp                 30\n",
       "Canteen              12\n",
       "Bivy bag              8\n",
       "Frying pan            6\n",
       "Sharpening stone      4\n",
       "Slingshot             3\n",
       "Wire                  3\n",
       "Ground sheet          2\n",
       "Hammock               2\n",
       "Soap                  2\n",
       "Salt                  2\n",
       "Rope                  1\n",
       "Shovel                1\n",
       "Scotch eyed auger     1\n",
       "Name: item, dtype: int64"
      ]
     },
     "execution_count": 9,
     "metadata": {},
     "output_type": "execute_result"
    }
   ],
   "source": [
    "df.item.value_counts()"
   ]
  },
  {
   "cell_type": "markdown",
   "metadata": {},
   "source": [
    "# Item -centric graph \n",
    "Node - Item : Edge =name"
   ]
  },
  {
   "cell_type": "code",
   "execution_count": 11,
   "metadata": {},
   "outputs": [
    {
     "data": {
      "text/plain": [
       "['Pot',\n",
       " 'Fishing gear',\n",
       " 'Sleeping bag',\n",
       " 'Saw',\n",
       " 'Axe',\n",
       " 'Ferro rod',\n",
       " 'Rations',\n",
       " 'Bow and arrows',\n",
       " 'Paracord',\n",
       " 'Knife',\n",
       " 'Trapping wire',\n",
       " 'Multitool',\n",
       " 'Gillnet',\n",
       " 'Tarp',\n",
       " 'Canteen']"
      ]
     },
     "execution_count": 11,
     "metadata": {},
     "output_type": "execute_result"
    }
   ],
   "source": [
    "#Get the top 15 items used\n",
    "main_items = df.item.value_counts()[:15].index.to_list()\n",
    "main_items"
   ]
  },
  {
   "cell_type": "code",
   "execution_count": 12,
   "metadata": {},
   "outputs": [],
   "source": [
    "df_main_items = df[df.item.isin(main_items)]"
   ]
  },
  {
   "cell_type": "code",
   "execution_count": 13,
   "metadata": {},
   "outputs": [
    {
     "data": {
      "text/plain": [
       "<bound method Series.reset_index of item           name                   \n",
       "Axe            Adam Riley                 1\n",
       "               Alan Kay                   1\n",
       "               Alex Ribar                 1\n",
       "               Amos Rodriguez             1\n",
       "               Benki Hill                 1\n",
       "                                         ..\n",
       "Trapping wire  Ted Baird                  1\n",
       "               Teimojin Tan               1\n",
       "               Terry Burns                1\n",
       "               Theresa Emmerich Kamper    1\n",
       "               Tom Garstang               1\n",
       "Name: item, Length: 805, dtype: int64>"
      ]
     },
     "execution_count": 13,
     "metadata": {},
     "output_type": "execute_result"
    }
   ],
   "source": [
    "df_main_items.groupby([\"item\",\"name\"])[\"item\"].count().reset_index"
   ]
  },
  {
   "cell_type": "code",
   "execution_count": 14,
   "metadata": {},
   "outputs": [
    {
     "data": {
      "text/html": [
       "<div>\n",
       "<style scoped>\n",
       "    .dataframe tbody tr th:only-of-type {\n",
       "        vertical-align: middle;\n",
       "    }\n",
       "\n",
       "    .dataframe tbody tr th {\n",
       "        vertical-align: top;\n",
       "    }\n",
       "\n",
       "    .dataframe thead th {\n",
       "        text-align: right;\n",
       "    }\n",
       "</style>\n",
       "<table border=\"1\" class=\"dataframe\">\n",
       "  <thead>\n",
       "    <tr style=\"text-align: right;\">\n",
       "      <th></th>\n",
       "      <th>item</th>\n",
       "      <th>times_used</th>\n",
       "    </tr>\n",
       "  </thead>\n",
       "  <tbody>\n",
       "    <tr>\n",
       "      <th>0</th>\n",
       "      <td>Axe</td>\n",
       "      <td>80</td>\n",
       "    </tr>\n",
       "    <tr>\n",
       "      <th>1</th>\n",
       "      <td>Bow and arrows</td>\n",
       "      <td>60</td>\n",
       "    </tr>\n",
       "    <tr>\n",
       "      <th>2</th>\n",
       "      <td>Canteen</td>\n",
       "      <td>12</td>\n",
       "    </tr>\n",
       "    <tr>\n",
       "      <th>3</th>\n",
       "      <td>Ferro rod</td>\n",
       "      <td>77</td>\n",
       "    </tr>\n",
       "    <tr>\n",
       "      <th>4</th>\n",
       "      <td>Fishing gear</td>\n",
       "      <td>90</td>\n",
       "    </tr>\n",
       "  </tbody>\n",
       "</table>\n",
       "</div>"
      ],
      "text/plain": [
       "             item  times_used\n",
       "0             Axe          80\n",
       "1  Bow and arrows          60\n",
       "2         Canteen          12\n",
       "3       Ferro rod          77\n",
       "4    Fishing gear          90"
      ]
     },
     "execution_count": 14,
     "metadata": {},
     "output_type": "execute_result"
    }
   ],
   "source": [
    "item_group = df_main_items.groupby([\"item\"]).agg(times_used=(\"item_number\",\"count\")).reset_index()\n",
    "item_group.head()"
   ]
  },
  {
   "cell_type": "code",
   "execution_count": 15,
   "metadata": {},
   "outputs": [
    {
     "data": {
      "text/html": [
       "<div>\n",
       "<style scoped>\n",
       "    .dataframe tbody tr th:only-of-type {\n",
       "        vertical-align: middle;\n",
       "    }\n",
       "\n",
       "    .dataframe tbody tr th {\n",
       "        vertical-align: top;\n",
       "    }\n",
       "\n",
       "    .dataframe thead th {\n",
       "        text-align: right;\n",
       "    }\n",
       "</style>\n",
       "<table border=\"1\" class=\"dataframe\">\n",
       "  <thead>\n",
       "    <tr style=\"text-align: right;\">\n",
       "      <th></th>\n",
       "      <th>name</th>\n",
       "      <th>item</th>\n",
       "      <th>times_used</th>\n",
       "    </tr>\n",
       "  </thead>\n",
       "  <tbody>\n",
       "    <tr>\n",
       "      <th>0</th>\n",
       "      <td>Adam Riley</td>\n",
       "      <td>Axe</td>\n",
       "      <td>1</td>\n",
       "    </tr>\n",
       "    <tr>\n",
       "      <th>1</th>\n",
       "      <td>Adam Riley</td>\n",
       "      <td>Bow and arrows</td>\n",
       "      <td>1</td>\n",
       "    </tr>\n",
       "    <tr>\n",
       "      <th>2</th>\n",
       "      <td>Adam Riley</td>\n",
       "      <td>Ferro rod</td>\n",
       "      <td>1</td>\n",
       "    </tr>\n",
       "    <tr>\n",
       "      <th>3</th>\n",
       "      <td>Adam Riley</td>\n",
       "      <td>Fishing gear</td>\n",
       "      <td>1</td>\n",
       "    </tr>\n",
       "    <tr>\n",
       "      <th>4</th>\n",
       "      <td>Adam Riley</td>\n",
       "      <td>Multitool</td>\n",
       "      <td>1</td>\n",
       "    </tr>\n",
       "  </tbody>\n",
       "</table>\n",
       "</div>"
      ],
      "text/plain": [
       "         name            item  times_used\n",
       "0  Adam Riley             Axe           1\n",
       "1  Adam Riley  Bow and arrows           1\n",
       "2  Adam Riley       Ferro rod           1\n",
       "3  Adam Riley    Fishing gear           1\n",
       "4  Adam Riley       Multitool           1"
      ]
     },
     "execution_count": 15,
     "metadata": {},
     "output_type": "execute_result"
    }
   ],
   "source": [
    "name_group = df_main_items.groupby([\"name\",\"item\"]).agg(times_used=(\"item_number\",\"count\")).reset_index()\n",
    "name_group.head()"
   ]
  },
  {
   "cell_type": "code",
   "execution_count": 17,
   "metadata": {},
   "outputs": [],
   "source": [
    "import networkx as nx\n",
    "lost = nx.Graph()"
   ]
  },
  {
   "cell_type": "code",
   "execution_count": null,
   "metadata": {},
   "outputs": [],
   "source": [
    "# Add node\n",
    "for  index, row  in item_group.iterrows():\n",
    "   lost.add_node(row[\"item\"],size = row[\"times_used\"])"
   ]
  },
  {
   "cell_type": "code",
   "execution_count": null,
   "metadata": {},
   "outputs": [
    {
     "data": {
      "text/plain": [
       "NodeView(('Axe', 'Bow and arrows', 'Canteen', 'Ferro rod', 'Fishing gear', 'Gillnet', 'Knife', 'Multitool', 'Paracord', 'Pot', 'Rations', 'Saw', 'Sleeping bag', 'Tarp', 'Trapping wire'))"
      ]
     },
     "execution_count": 106,
     "metadata": {},
     "output_type": "execute_result"
    }
   ],
   "source": [
    "lost.nodes"
   ]
  },
  {
   "cell_type": "code",
   "execution_count": null,
   "metadata": {},
   "outputs": [
    {
     "data": {
      "text/html": [
       "<div>\n",
       "<style scoped>\n",
       "    .dataframe tbody tr th:only-of-type {\n",
       "        vertical-align: middle;\n",
       "    }\n",
       "\n",
       "    .dataframe tbody tr th {\n",
       "        vertical-align: top;\n",
       "    }\n",
       "\n",
       "    .dataframe thead th {\n",
       "        text-align: right;\n",
       "    }\n",
       "</style>\n",
       "<table border=\"1\" class=\"dataframe\">\n",
       "  <thead>\n",
       "    <tr style=\"text-align: right;\">\n",
       "      <th></th>\n",
       "      <th>item</th>\n",
       "      <th>times_used</th>\n",
       "    </tr>\n",
       "  </thead>\n",
       "  <tbody>\n",
       "    <tr>\n",
       "      <th>9</th>\n",
       "      <td>Pot</td>\n",
       "      <td>92</td>\n",
       "    </tr>\n",
       "    <tr>\n",
       "      <th>4</th>\n",
       "      <td>Fishing gear</td>\n",
       "      <td>90</td>\n",
       "    </tr>\n",
       "    <tr>\n",
       "      <th>12</th>\n",
       "      <td>Sleeping bag</td>\n",
       "      <td>85</td>\n",
       "    </tr>\n",
       "    <tr>\n",
       "      <th>0</th>\n",
       "      <td>Axe</td>\n",
       "      <td>80</td>\n",
       "    </tr>\n",
       "    <tr>\n",
       "      <th>11</th>\n",
       "      <td>Saw</td>\n",
       "      <td>80</td>\n",
       "    </tr>\n",
       "    <tr>\n",
       "      <th>3</th>\n",
       "      <td>Ferro rod</td>\n",
       "      <td>77</td>\n",
       "    </tr>\n",
       "    <tr>\n",
       "      <th>10</th>\n",
       "      <td>Rations</td>\n",
       "      <td>68</td>\n",
       "    </tr>\n",
       "    <tr>\n",
       "      <th>1</th>\n",
       "      <td>Bow and arrows</td>\n",
       "      <td>60</td>\n",
       "    </tr>\n",
       "    <tr>\n",
       "      <th>8</th>\n",
       "      <td>Paracord</td>\n",
       "      <td>56</td>\n",
       "    </tr>\n",
       "    <tr>\n",
       "      <th>6</th>\n",
       "      <td>Knife</td>\n",
       "      <td>51</td>\n",
       "    </tr>\n",
       "    <tr>\n",
       "      <th>7</th>\n",
       "      <td>Multitool</td>\n",
       "      <td>46</td>\n",
       "    </tr>\n",
       "    <tr>\n",
       "      <th>14</th>\n",
       "      <td>Trapping wire</td>\n",
       "      <td>46</td>\n",
       "    </tr>\n",
       "    <tr>\n",
       "      <th>5</th>\n",
       "      <td>Gillnet</td>\n",
       "      <td>32</td>\n",
       "    </tr>\n",
       "    <tr>\n",
       "      <th>13</th>\n",
       "      <td>Tarp</td>\n",
       "      <td>30</td>\n",
       "    </tr>\n",
       "    <tr>\n",
       "      <th>2</th>\n",
       "      <td>Canteen</td>\n",
       "      <td>12</td>\n",
       "    </tr>\n",
       "  </tbody>\n",
       "</table>\n",
       "</div>"
      ],
      "text/plain": [
       "              item  times_used\n",
       "9              Pot          92\n",
       "4     Fishing gear          90\n",
       "12    Sleeping bag          85\n",
       "0              Axe          80\n",
       "11             Saw          80\n",
       "3        Ferro rod          77\n",
       "10         Rations          68\n",
       "1   Bow and arrows          60\n",
       "8         Paracord          56\n",
       "6            Knife          51\n",
       "7        Multitool          46\n",
       "14   Trapping wire          46\n",
       "5          Gillnet          32\n",
       "13            Tarp          30\n",
       "2          Canteen          12"
      ]
     },
     "execution_count": 107,
     "metadata": {},
     "output_type": "execute_result"
    }
   ],
   "source": [
    "item_group.sort_values(by=\"times_used\",ascending=False)"
   ]
  },
  {
   "cell_type": "code",
   "execution_count": null,
   "metadata": {},
   "outputs": [],
   "source": [
    "# Add edge \n",
    "for  index, row  in name_group.iterrows():\n",
    "   lost.add_edge(row[\"item\"], row[\"name\"], weight = row[\"times_used\"])"
   ]
  },
  {
   "cell_type": "code",
   "execution_count": null,
   "metadata": {},
   "outputs": [
    {
     "data": {
      "text/plain": [
       "EdgeView([('Axe', 'Adam Riley'), ('Axe', 'Alan Kay'), ('Axe', 'Alex Ribar'), ('Axe', 'Amos Rodriguez'), ('Axe', 'Benki Hill'), ('Axe', 'Biko Wright'), ('Axe', 'Brad Richardson'), ('Axe', 'Brady Nicholls'), ('Axe', 'Brant McGee'), ('Axe', 'Brody Wilkes'), ('Axe', 'Brooke Whipple'), ('Axe', 'Callie Russell'), ('Axe', 'Chris Weatherman'), ('Axe', 'Chris Wilkes'), ('Axe', 'Clay Hayes'), ('Axe', 'Colter Barnes'), ('Axe', 'Correy Hawk'), ('Axe', 'Dan Wowak'), ('Axe', 'Dave Nessia'), ('Axe', 'Dave Whipple'), ('Axe', 'David McIntyre'), ('Axe', 'Desmond White'), ('Axe', 'Donny Dust'), ('Axe', 'Dustin Feher'), ('Axe', 'Greg Ovens'), ('Axe', 'Igor Limansky'), ('Axe', 'Jacques Turcotte'), ('Axe', 'Jesse Bosdell'), ('Axe', 'Jim Baird'), ('Axe', 'Jim Shields'), ('Axe', 'Joe Nicholas'), ('Axe', 'Joe Robinet'), ('Axe', 'Joel Van Der Loon'), ('Axe', 'Jordan Jonas'), ('Axe', 'Jordon Bell'), ('Axe', 'Jose Martinez Amoedo'), ('Axe', 'Josh Chavez'), ('Axe', 'Josh Richardson'), ('Axe', 'Juan Pablo Quinonez'), ('Axe', 'Justin Vititoe'), ('Axe', 'Karie Lee Knoke'), ('Axe', 'Keith Syers'), ('Axe', 'Kielyn Marrone'), ('Axe', 'Larry Roberts'), ('Axe', 'Logan Ribar'), ('Axe', 'Lucas Miller'), ('Axe', \"Mark D'Ambrosio\"), ('Axe', 'Mary Kate Green'), ('Axe', 'Megan Hanacek'), ('Axe', 'Michelle Finn'), ('Axe', 'Michelle Wohlberg'), ('Axe', 'Mike Lowe'), ('Axe', 'Mitch Mitchell'), ('Axe', 'Nate Weber'), ('Axe', 'Nathan Donnelly'), ('Axe', 'Nicole Apelian'), ('Axe', 'Nikki van Schyndel'), ('Axe', 'Pete Brockdorff'), ('Axe', 'Randy Champagne'), ('Axe', 'Ray Livingston'), ('Axe', 'Roland Welker'), ('Axe', 'Rose Anna Moore'), ('Axe', 'Sam Brockdorff'), ('Axe', 'Sam Larson'), ('Axe', 'Shawn Helton'), ('Axe', 'Ted Baird'), ('Axe', 'Teimojin Tan'), ('Axe', 'Terry Burns'), ('Axe', 'Tim Backus'), ('Axe', 'Tim Madsen'), ('Axe', 'Tom Garstang'), ('Axe', 'Tracy Wilson'), ('Axe', 'Wayne Russell'), ('Axe', 'Zachary Fowler'), ('Axe', 'Zachary Gault'), ('Bow and arrows', 'Adam Riley'), ('Bow and arrows', 'Alex Ribar'), ('Bow and arrows', 'Amos Rodriguez'), ('Bow and arrows', 'Barry Karcher'), ('Bow and arrows', 'Benki Hill'), ('Bow and arrows', 'Biko Wright'), ('Bow and arrows', 'Brad Richardson'), ('Bow and arrows', 'Brant McGee'), ('Bow and arrows', 'Britt Ahart'), ('Bow and arrows', 'Brooke Whipple'), ('Bow and arrows', 'Callie Russell'), ('Bow and arrows', 'Carleigh Fairchild'), ('Bow and arrows', 'Chris Weatherman'), ('Bow and arrows', 'Clay Hayes'), ('Bow and arrows', 'Colter Barnes'), ('Bow and arrows', 'Correy Hawk'), ('Bow and arrows', 'Dave Nessia'), ('Bow and arrows', 'Donny Dust'), ('Bow and arrows', 'Greg Ovens'), ('Bow and arrows', 'Igor Limansky'), ('Bow and arrows', 'Jacques Turcotte'), ('Bow and arrows', 'Jesse Bosdell'), ('Bow and arrows', 'Jessie Krebs'), ('Bow and arrows', 'Jim Baird'), ('Bow and arrows', 'Joel Van Der Loon'), ('Bow and arrows', 'Jordan Jonas'), ('Bow and arrows', 'Jordon Bell'), ('Bow and arrows', 'Josh Chavez'), ('Bow and arrows', 'Juan Pablo Quinonez'), ('Bow and arrows', 'Karie Lee Knoke'), ('Bow and arrows', 'Keith Syers'), ('Bow and arrows', 'Kielyn Marrone'), ('Bow and arrows', 'Logan Ribar'), ('Bow and arrows', \"Mark D'Ambrosio\"), ('Bow and arrows', 'Matt Corradino'), ('Bow and arrows', 'Michelle Finn'), ('Bow and arrows', 'Mitch Mitchell'), ('Bow and arrows', 'Nate Weber'), ('Bow and arrows', 'Nathan Donnelly'), ('Bow and arrows', 'Nikki van Schyndel'), ('Bow and arrows', 'Randy Champagne'), ('Bow and arrows', 'Ray Livingston'), ('Bow and arrows', 'Roland Welker'), ('Bow and arrows', 'Rose Anna Moore'), ('Bow and arrows', 'Sam Larson'), ('Bow and arrows', 'Shannon Bosdell'), ('Bow and arrows', 'Shawn Helton'), ('Bow and arrows', 'Ted Baird'), ('Bow and arrows', 'Teimojin Tan'), ('Bow and arrows', 'Terry Burns'), ('Bow and arrows', 'Theresa Emmerich Kamper'), ('Bow and arrows', 'Tim Backus'), ('Bow and arrows', 'Tim Madsen'), ('Bow and arrows', 'Tom Garstang'), ('Bow and arrows', 'Woniya Thibeault'), ('Canteen', 'Alan Kay'), ('Canteen', 'Brad Richardson'), ('Canteen', 'Carleigh Fairchild'), ('Canteen', 'Chris Weatherman'), ('Canteen', 'Dustin Feher'), ('Canteen', 'Jesse Bosdell'), ('Canteen', 'Joe Nicholas'), ('Canteen', 'Josh Richardson'), ('Canteen', 'Matt Corradino'), ('Canteen', 'Shannon Bosdell'), ('Ferro rod', 'Adam Riley'), ('Ferro rod', 'Alan Kay'), ('Ferro rod', 'Amos Rodriguez'), ('Ferro rod', 'Barry Karcher'), ('Ferro rod', 'Benki Hill'), ('Ferro rod', 'Biko Wright'), ('Ferro rod', 'Brad Richardson'), ('Ferro rod', 'Brady Nicholls'), ('Ferro rod', 'Brant McGee'), ('Ferro rod', 'Britt Ahart'), ('Ferro rod', 'Brooke Whipple'), ('Ferro rod', 'Callie North'), ('Ferro rod', 'Callie Russell'), ('Ferro rod', 'Carleigh Fairchild'), ('Ferro rod', 'Chris Weatherman'), ('Ferro rod', 'Clay Hayes'), ('Ferro rod', 'Correy Hawk'), ('Ferro rod', 'Dan Wowak'), ('Ferro rod', 'Dave Nessia'), ('Ferro rod', 'David McIntyre'), ('Ferro rod', 'Desmond White'), ('Ferro rod', 'Donny Dust'), ('Ferro rod', 'Dustin Feher'), ('Ferro rod', 'Greg Ovens'), ('Ferro rod', 'Igor Limansky'), ('Ferro rod', 'Jacques Turcotte'), ('Ferro rod', 'Jesse Bosdell'), ('Ferro rod', 'Jessie Krebs'), ('Ferro rod', 'Jim Shields'), ('Ferro rod', 'Joe Nicholas'), ('Ferro rod', 'Joe Robinet'), ('Ferro rod', 'Joel Van Der Loon'), ('Ferro rod', 'Jordan Jonas'), ('Ferro rod', 'Jordon Bell'), ('Ferro rod', 'Jose Martinez Amoedo'), ('Ferro rod', 'Josh Chavez'), ('Ferro rod', 'Juan Pablo Quinonez'), ('Ferro rod', 'Justin Vititoe'), ('Ferro rod', 'Karie Lee Knoke'), ('Ferro rod', 'Keith Syers'), ('Ferro rod', 'Kielyn Marrone'), ('Ferro rod', 'Larry Roberts'), ('Ferro rod', 'Lucas Miller'), ('Ferro rod', \"Mark D'Ambrosio\"), ('Ferro rod', 'Mary Kate Green'), ('Ferro rod', 'Megan Hanacek'), ('Ferro rod', 'Michelle Finn'), ('Ferro rod', 'Michelle Wohlberg'), ('Ferro rod', 'Mike Lowe'), ('Ferro rod', 'Mitch Mitchell'), ('Ferro rod', 'Nate Weber'), ('Ferro rod', 'Nicole Apelian'), ('Ferro rod', 'Nikki van Schyndel'), ('Ferro rod', 'Randy Champagne'), ('Ferro rod', 'Ray Livingston'), ('Ferro rod', 'Roland Welker'), ('Ferro rod', 'Rose Anna Moore'), ('Ferro rod', 'Sam Larson'), ('Ferro rod', 'Shawn Helton'), ('Ferro rod', 'Teimojin Tan'), ('Ferro rod', 'Terry Burns'), ('Ferro rod', 'Theresa Emmerich Kamper'), ('Ferro rod', 'Tim Backus'), ('Ferro rod', 'Tim Madsen'), ('Ferro rod', 'Tom Garstang'), ('Ferro rod', 'Tracy Wilson'), ('Ferro rod', 'Wayne Russell'), ('Ferro rod', 'Woniya Thibeault'), ('Ferro rod', 'Zachary Fowler'), ('Ferro rod', 'Zachary Gault'), ('Fishing gear', 'Adam Riley'), ('Fishing gear', 'Alan Kay'), ('Fishing gear', 'Alex Ribar'), ('Fishing gear', 'Amos Rodriguez'), ('Fishing gear', 'Barry Karcher'), ('Fishing gear', 'Benki Hill'), ('Fishing gear', 'Biko Wright'), ('Fishing gear', 'Brad Richardson'), ('Fishing gear', 'Brady Nicholls'), ('Fishing gear', 'Brant McGee'), ('Fishing gear', 'Britt Ahart'), ('Fishing gear', 'Brody Wilkes'), ('Fishing gear', 'Brooke Whipple'), ('Fishing gear', 'Callie North'), ('Fishing gear', 'Callie Russell'), ('Fishing gear', 'Carleigh Fairchild'), ('Fishing gear', 'Chris Weatherman'), ('Fishing gear', 'Chris Wilkes'), ('Fishing gear', 'Clay Hayes'), ('Fishing gear', 'Colter Barnes'), ('Fishing gear', 'Correy Hawk'), ('Fishing gear', 'Dan Wowak'), ('Fishing gear', 'Dave Nessia'), ('Fishing gear', 'Dave Whipple'), ('Fishing gear', 'David McIntyre'), ('Fishing gear', 'Desmond White'), ('Fishing gear', 'Donny Dust'), ('Fishing gear', 'Dustin Feher'), ('Fishing gear', 'Greg Ovens'), ('Fishing gear', 'Igor Limansky'), ('Fishing gear', 'Jacques Turcotte'), ('Fishing gear', 'Jesse Bosdell'), ('Fishing gear', 'Jim Baird'), ('Fishing gear', 'Jim Shields'), ('Fishing gear', 'Joe Nicholas'), ('Fishing gear', 'Joe Robinet'), ('Fishing gear', 'Joel Van Der Loon'), ('Fishing gear', 'Jordan Jonas'), ('Fishing gear', 'Jordon Bell'), ('Fishing gear', 'Jose Martinez Amoedo'), ('Fishing gear', 'Josh Chavez'), ('Fishing gear', 'Josh Richardson'), ('Fishing gear', 'Juan Pablo Quinonez'), ('Fishing gear', 'Karie Lee Knoke'), ('Fishing gear', 'Keith Syers'), ('Fishing gear', 'Kielyn Marrone'), ('Fishing gear', 'Larry Roberts'), ('Fishing gear', 'Logan Ribar'), ('Fishing gear', 'Lucas Miller'), ('Fishing gear', \"Mark D'Ambrosio\"), ('Fishing gear', 'Mary Kate Green'), ('Fishing gear', 'Matt Corradino'), ('Fishing gear', 'Megan Hanacek'), ('Fishing gear', 'Michelle Finn'), ('Fishing gear', 'Michelle Wohlberg'), ('Fishing gear', 'Mike Lowe'), ('Fishing gear', 'Mitch Mitchell'), ('Fishing gear', 'Nate Weber'), ('Fishing gear', 'Nathan Donnelly'), ('Fishing gear', 'Nicole Apelian'), ('Fishing gear', 'Nikki van Schyndel'), ('Fishing gear', 'Pete Brockdorff'), ('Fishing gear', 'Randy Champagne'), ('Fishing gear', 'Ray Livingston'), ('Fishing gear', 'Rose Anna Moore'), ('Fishing gear', 'Sam Brockdorff'), ('Fishing gear', 'Sam Larson'), ('Fishing gear', 'Shannon Bosdell'), ('Fishing gear', 'Shawn Helton'), ('Fishing gear', 'Ted Baird'), ('Fishing gear', 'Teimojin Tan'), ('Fishing gear', 'Terry Burns'), ('Fishing gear', 'Theresa Emmerich Kamper'), ('Fishing gear', 'Tim Backus'), ('Fishing gear', 'Tim Madsen'), ('Fishing gear', 'Tom Garstang'), ('Fishing gear', 'Tracy Wilson'), ('Fishing gear', 'Wayne Russell'), ('Fishing gear', 'Woniya Thibeault'), ('Fishing gear', 'Zachary Fowler'), ('Fishing gear', 'Zachary Gault'), ('Gillnet', 'Alan Kay'), ('Gillnet', 'Alex Ribar'), ('Gillnet', 'Amos Rodriguez'), ('Gillnet', 'Brody Wilkes'), ('Gillnet', 'Chris Wilkes'), ('Gillnet', 'Dave Nessia'), ('Gillnet', 'David McIntyre'), ('Gillnet', 'Desmond White'), ('Gillnet', 'Dustin Feher'), ('Gillnet', 'Jesse Bosdell'), ('Gillnet', 'Jim Baird'), ('Gillnet', 'Joe Robinet'), ('Gillnet', 'Joel Van Der Loon'), ('Gillnet', 'Jose Martinez Amoedo'), ('Gillnet', 'Kielyn Marrone'), ('Gillnet', 'Larry Roberts'), ('Gillnet', 'Logan Ribar'), ('Gillnet', 'Mary Kate Green'), ('Gillnet', 'Megan Hanacek'), ('Gillnet', 'Mike Lowe'), ('Gillnet', 'Mitch Mitchell'), ('Gillnet', 'Nathan Donnelly'), ('Gillnet', 'Nicole Apelian'), ('Gillnet', 'Pete Brockdorff'), ('Gillnet', 'Randy Champagne'), ('Gillnet', 'Roland Welker'), ('Gillnet', 'Sam Brockdorff'), ('Gillnet', 'Shannon Bosdell'), ('Gillnet', 'Ted Baird'), ('Gillnet', 'Tracy Wilson'), ('Knife', 'Alan Kay'), ('Knife', 'Barry Karcher'), ('Knife', 'Brad Richardson'), ('Knife', 'Brant McGee'), ('Knife', 'Britt Ahart'), ('Knife', 'Callie North'), ('Knife', 'Callie Russell'), ('Knife', 'Carleigh Fairchild'), ('Knife', 'Chris Weatherman'), ('Knife', 'Dan Wowak'), ('Knife', 'Dave Nessia'), ('Knife', 'David McIntyre'), ('Knife', 'Desmond White'), ('Knife', 'Donny Dust'), ('Knife', 'Dustin Feher'), ('Knife', 'Greg Ovens'), ('Knife', 'Jacques Turcotte'), ('Knife', 'Jesse Bosdell'), ('Knife', 'Jessie Krebs'), ('Knife', 'Jim Shields'), ('Knife', 'Joe Nicholas'), ('Knife', 'Joe Robinet'), ('Knife', 'Jose Martinez Amoedo'), ('Knife', 'Keith Syers'), ('Knife', 'Larry Roberts'), ('Knife', 'Lucas Miller'), ('Knife', 'Mary Kate Green'), ('Knife', 'Matt Corradino'), ('Knife', 'Megan Hanacek'), ('Knife', 'Mike Lowe'), ('Knife', 'Mitch Mitchell'), ('Knife', 'Nathan Donnelly'), ('Knife', 'Nicole Apelian'), ('Knife', 'Nikki van Schyndel'), ('Knife', 'Randy Champagne'), ('Knife', 'Ray Livingston'), ('Knife', 'Roland Welker'), ('Knife', 'Sam Larson'), ('Knife', 'Theresa Emmerich Kamper'), ('Knife', 'Tim Backus'), ('Knife', 'Tracy Wilson'), ('Knife', 'Wayne Russell'), ('Knife', 'Woniya Thibeault'), ('Knife', 'Zachary Gault'), ('Multitool', 'Adam Riley'), ('Multitool', 'Alex Ribar'), ('Multitool', 'Amos Rodriguez'), ('Multitool', 'Benki Hill'), ('Multitool', 'Biko Wright'), ('Multitool', 'Brady Nicholls'), ('Multitool', 'Britt Ahart'), ('Multitool', 'Brooke Whipple'), ('Multitool', 'Clay Hayes'), ('Multitool', 'Colter Barnes'), ('Multitool', 'Correy Hawk'), ('Multitool', 'Igor Limansky'), ('Multitool', 'Jacques Turcotte'), ('Multitool', 'Jesse Bosdell'), ('Multitool', 'Jessie Krebs'), ('Multitool', 'Jim Baird'), ('Multitool', 'Joel Van Der Loon'), ('Multitool', 'Jordan Jonas'), ('Multitool', 'Jordon Bell'), ('Multitool', 'Jose Martinez Amoedo'), ('Multitool', 'Juan Pablo Quinonez'), ('Multitool', 'Justin Vititoe'), ('Multitool', 'Karie Lee Knoke'), ('Multitool', 'Keith Syers'), ('Multitool', 'Kielyn Marrone'), ('Multitool', 'Logan Ribar'), ('Multitool', \"Mark D'Ambrosio\"), ('Multitool', 'Michelle Finn'), ('Multitool', 'Michelle Wohlberg'), ('Multitool', 'Nate Weber'), ('Multitool', 'Nicole Apelian'), ('Multitool', 'Ray Livingston'), ('Multitool', 'Roland Welker'), ('Multitool', 'Rose Anna Moore'), ('Multitool', 'Sam Larson'), ('Multitool', 'Shannon Bosdell'), ('Multitool', 'Shawn Helton'), ('Multitool', 'Ted Baird'), ('Multitool', 'Teimojin Tan'), ('Multitool', 'Terry Burns'), ('Multitool', 'Tim Madsen'), ('Multitool', 'Tom Garstang'), ('Multitool', 'Wayne Russell'), ('Multitool', 'Woniya Thibeault'), ('Multitool', 'Zachary Fowler'), ('Paracord', 'Alex Ribar'), ('Paracord', 'Amos Rodriguez'), ('Paracord', 'Barry Karcher'), ('Paracord', 'Benki Hill'), ('Paracord', 'Biko Wright'), ('Paracord', 'Brant McGee'), ('Paracord', 'Britt Ahart'), ('Paracord', 'Callie North'), ('Paracord', 'Callie Russell'), ('Paracord', 'Carleigh Fairchild'), ('Paracord', 'Clay Hayes'), ('Paracord', 'Colter Barnes'), ('Paracord', 'Correy Hawk'), ('Paracord', 'Dan Wowak'), ('Paracord', 'Donny Dust'), ('Paracord', 'Dustin Feher'), ('Paracord', 'Greg Ovens'), ('Paracord', 'Igor Limansky'), ('Paracord', 'Jessie Krebs'), ('Paracord', 'Jim Shields'), ('Paracord', 'Joe Nicholas'), ('Paracord', 'Joe Robinet'), ('Paracord', 'Jordan Jonas'), ('Paracord', 'Josh Chavez'), ('Paracord', 'Juan Pablo Quinonez'), ('Paracord', 'Karie Lee Knoke'), ('Paracord', 'Keith Syers'), ('Paracord', 'Kielyn Marrone'), ('Paracord', 'Larry Roberts'), ('Paracord', 'Logan Ribar'), ('Paracord', \"Mark D'Ambrosio\"), ('Paracord', 'Matt Corradino'), ('Paracord', 'Megan Hanacek'), ('Paracord', 'Michelle Finn'), ('Paracord', 'Michelle Wohlberg'), ('Paracord', 'Nate Weber'), ('Paracord', 'Nathan Donnelly'), ('Paracord', 'Nikki van Schyndel'), ('Paracord', 'Pete Brockdorff'), ('Paracord', 'Rose Anna Moore'), ('Paracord', 'Sam Brockdorff'), ('Paracord', 'Sam Larson'), ('Paracord', 'Shawn Helton'), ('Paracord', 'Teimojin Tan'), ('Paracord', 'Terry Burns'), ('Paracord', 'Theresa Emmerich Kamper'), ('Paracord', 'Tim Backus'), ('Paracord', 'Tim Madsen'), ('Paracord', 'Tom Garstang'), ('Paracord', 'Wayne Russell'), ('Paracord', 'Woniya Thibeault'), ('Paracord', 'Zachary Fowler'), ('Paracord', 'Zachary Gault'), ('Pot', 'Adam Riley'), ('Pot', 'Alan Kay'), ('Pot', 'Alex Ribar'), ('Pot', 'Amos Rodriguez'), ('Pot', 'Barry Karcher'), ('Pot', 'Benki Hill'), ('Pot', 'Biko Wright'), ('Pot', 'Brad Richardson'), ('Pot', 'Brady Nicholls'), ('Pot', 'Brant McGee'), ('Pot', 'Britt Ahart'), ('Pot', 'Brody Wilkes'), ('Pot', 'Brooke Whipple'), ('Pot', 'Callie North'), ('Pot', 'Callie Russell'), ('Pot', 'Carleigh Fairchild'), ('Pot', 'Chris Weatherman'), ('Pot', 'Chris Wilkes'), ('Pot', 'Clay Hayes'), ('Pot', 'Colter Barnes'), ('Pot', 'Correy Hawk'), ('Pot', 'Dan Wowak'), ('Pot', 'Dave Nessia'), ('Pot', 'Dave Whipple'), ('Pot', 'David McIntyre'), ('Pot', 'Desmond White'), ('Pot', 'Donny Dust'), ('Pot', 'Dustin Feher'), ('Pot', 'Greg Ovens'), ('Pot', 'Igor Limansky'), ('Pot', 'Jacques Turcotte'), ('Pot', 'Jesse Bosdell'), ('Pot', 'Jessie Krebs'), ('Pot', 'Jim Baird'), ('Pot', 'Jim Shields'), ('Pot', 'Joe Nicholas'), ('Pot', 'Joe Robinet'), ('Pot', 'Joel Van Der Loon'), ('Pot', 'Jordon Bell'), ('Pot', 'Jose Martinez Amoedo'), ('Pot', 'Josh Chavez'), ('Pot', 'Josh Richardson'), ('Pot', 'Juan Pablo Quinonez'), ('Pot', 'Karie Lee Knoke'), ('Pot', 'Keith Syers'), ('Pot', 'Kielyn Marrone'), ('Pot', 'Larry Roberts'), ('Pot', 'Logan Ribar'), ('Pot', 'Lucas Miller'), ('Pot', \"Mark D'Ambrosio\"), ('Pot', 'Mary Kate Green'), ('Pot', 'Matt Corradino'), ('Pot', 'Megan Hanacek'), ('Pot', 'Michelle Finn'), ('Pot', 'Michelle Wohlberg'), ('Pot', 'Mike Lowe'), ('Pot', 'Mitch Mitchell'), ('Pot', 'Nate Weber'), ('Pot', 'Nathan Donnelly'), ('Pot', 'Nicole Apelian'), ('Pot', 'Nikki van Schyndel'), ('Pot', 'Pete Brockdorff'), ('Pot', 'Randy Champagne'), ('Pot', 'Ray Livingston'), ('Pot', 'Roland Welker'), ('Pot', 'Rose Anna Moore'), ('Pot', 'Sam Brockdorff'), ('Pot', 'Sam Larson'), ('Pot', 'Shannon Bosdell'), ('Pot', 'Shawn Helton'), ('Pot', 'Ted Baird'), ('Pot', 'Teimojin Tan'), ('Pot', 'Terry Burns'), ('Pot', 'Theresa Emmerich Kamper'), ('Pot', 'Tim Backus'), ('Pot', 'Tim Madsen'), ('Pot', 'Tom Garstang'), ('Pot', 'Tracy Wilson'), ('Pot', 'Wayne Russell'), ('Pot', 'Woniya Thibeault'), ('Pot', 'Zachary Fowler'), ('Pot', 'Zachary Gault'), ('Rations', 'Alex Ribar'), ('Rations', 'Amos Rodriguez'), ('Rations', 'Brad Richardson'), ('Rations', 'Brady Nicholls'), ('Rations', 'Brant McGee'), ('Rations', 'Brooke Whipple'), ('Rations', 'Callie North'), ('Rations', 'Carleigh Fairchild'), ('Rations', 'Dan Wowak'), ('Rations', 'Dave Nessia'), ('Rations', 'Dave Whipple'), ('Rations', 'David McIntyre'), ('Rations', 'Desmond White'), ('Rations', 'Donny Dust'), ('Rations', 'Greg Ovens'), ('Rations', 'Jacques Turcotte'), ('Rations', 'Jesse Bosdell'), ('Rations', 'Jim Baird'), ('Rations', 'Jim Shields'), ('Rations', 'Joe Robinet'), ('Rations', 'Jordon Bell'), ('Rations', 'Jose Martinez Amoedo'), ('Rations', 'Josh Richardson'), ('Rations', 'Justin Vititoe'), ('Rations', 'Karie Lee Knoke'), ('Rations', 'Larry Roberts'), ('Rations', 'Logan Ribar'), ('Rations', 'Lucas Miller'), ('Rations', 'Mary Kate Green'), ('Rations', 'Matt Corradino'), ('Rations', 'Megan Hanacek'), ('Rations', 'Michelle Wohlberg'), ('Rations', 'Mike Lowe'), ('Rations', 'Nathan Donnelly'), ('Rations', 'Nicole Apelian'), ('Rations', 'Pete Brockdorff'), ('Rations', 'Randy Champagne'), ('Rations', 'Sam Brockdorff'), ('Rations', 'Sam Larson'), ('Rations', 'Shannon Bosdell'), ('Rations', 'Ted Baird'), ('Rations', 'Teimojin Tan'), ('Rations', 'Theresa Emmerich Kamper'), ('Rations', 'Tim Madsen'), ('Rations', 'Tracy Wilson'), ('Rations', 'Woniya Thibeault'), ('Rations', 'Zachary Gault'), ('Saw', 'Adam Riley'), ('Saw', 'Alan Kay'), ('Saw', 'Alex Ribar'), ('Saw', 'Barry Karcher'), ('Saw', 'Biko Wright'), ('Saw', 'Brad Richardson'), ('Saw', 'Brady Nicholls'), ('Saw', 'Britt Ahart'), ('Saw', 'Brody Wilkes'), ('Saw', 'Brooke Whipple'), ('Saw', 'Callie North'), ('Saw', 'Callie Russell'), ('Saw', 'Carleigh Fairchild'), ('Saw', 'Chris Weatherman'), ('Saw', 'Chris Wilkes'), ('Saw', 'Clay Hayes'), ('Saw', 'Colter Barnes'), ('Saw', 'Correy Hawk'), ('Saw', 'Dan Wowak'), ('Saw', 'Dave Whipple'), ('Saw', 'David McIntyre'), ('Saw', 'Desmond White'), ('Saw', 'Donny Dust'), ('Saw', 'Greg Ovens'), ('Saw', 'Igor Limansky'), ('Saw', 'Jesse Bosdell'), ('Saw', 'Jessie Krebs'), ('Saw', 'Jim Baird'), ('Saw', 'Jim Shields'), ('Saw', 'Joe Nicholas'), ('Saw', 'Joel Van Der Loon'), ('Saw', 'Jordan Jonas'), ('Saw', 'Jordon Bell'), ('Saw', 'Jose Martinez Amoedo'), ('Saw', 'Josh Chavez'), ('Saw', 'Josh Richardson'), ('Saw', 'Juan Pablo Quinonez'), ('Saw', 'Justin Vititoe'), ('Saw', 'Larry Roberts'), ('Saw', 'Logan Ribar'), ('Saw', 'Lucas Miller'), ('Saw', \"Mark D'Ambrosio\"), ('Saw', 'Mary Kate Green'), ('Saw', 'Matt Corradino'), ('Saw', 'Michelle Finn'), ('Saw', 'Michelle Wohlberg'), ('Saw', 'Mike Lowe'), ('Saw', 'Nate Weber'), ('Saw', 'Nicole Apelian'), ('Saw', 'Nikki van Schyndel'), ('Saw', 'Pete Brockdorff'), ('Saw', 'Randy Champagne'), ('Saw', 'Ray Livingston'), ('Saw', 'Roland Welker'), ('Saw', 'Rose Anna Moore'), ('Saw', 'Sam Brockdorff'), ('Saw', 'Sam Larson'), ('Saw', 'Shannon Bosdell'), ('Saw', 'Shawn Helton'), ('Saw', 'Ted Baird'), ('Saw', 'Terry Burns'), ('Saw', 'Theresa Emmerich Kamper'), ('Saw', 'Tim Backus'), ('Saw', 'Tim Madsen'), ('Saw', 'Tom Garstang'), ('Saw', 'Tracy Wilson'), ('Saw', 'Wayne Russell'), ('Saw', 'Woniya Thibeault'), ('Saw', 'Zachary Fowler'), ('Saw', 'Zachary Gault'), ('Sleeping bag', 'Adam Riley'), ('Sleeping bag', 'Alan Kay'), ('Sleeping bag', 'Amos Rodriguez'), ('Sleeping bag', 'Barry Karcher'), ('Sleeping bag', 'Benki Hill'), ('Sleeping bag', 'Biko Wright'), ('Sleeping bag', 'Brad Richardson'), ('Sleeping bag', 'Brady Nicholls'), ('Sleeping bag', 'Brant McGee'), ('Sleeping bag', 'Britt Ahart'), ('Sleeping bag', 'Brody Wilkes'), ('Sleeping bag', 'Brooke Whipple'), ('Sleeping bag', 'Callie North'), ('Sleeping bag', 'Callie Russell'), ('Sleeping bag', 'Carleigh Fairchild'), ('Sleeping bag', 'Chris Weatherman'), ('Sleeping bag', 'Chris Wilkes'), ('Sleeping bag', 'Clay Hayes'), ('Sleeping bag', 'Colter Barnes'), ('Sleeping bag', 'Correy Hawk'), ('Sleeping bag', 'Dan Wowak'), ('Sleeping bag', 'Dave Nessia'), ('Sleeping bag', 'David McIntyre'), ('Sleeping bag', 'Desmond White'), ('Sleeping bag', 'Donny Dust'), ('Sleeping bag', 'Dustin Feher'), ('Sleeping bag', 'Greg Ovens'), ('Sleeping bag', 'Igor Limansky'), ('Sleeping bag', 'Jacques Turcotte'), ('Sleeping bag', 'Jesse Bosdell'), ('Sleeping bag', 'Jessie Krebs'), ('Sleeping bag', 'Jim Shields'), ('Sleeping bag', 'Joe Nicholas'), ('Sleeping bag', 'Joe Robinet'), ('Sleeping bag', 'Joel Van Der Loon'), ('Sleeping bag', 'Jordan Jonas'), ('Sleeping bag', 'Jordon Bell'), ('Sleeping bag', 'Jose Martinez Amoedo'), ('Sleeping bag', 'Josh Chavez'), ('Sleeping bag', 'Juan Pablo Quinonez'), ('Sleeping bag', 'Justin Vititoe'), ('Sleeping bag', 'Karie Lee Knoke'), ('Sleeping bag', 'Keith Syers'), ('Sleeping bag', 'Kielyn Marrone'), ('Sleeping bag', 'Larry Roberts'), ('Sleeping bag', 'Lucas Miller'), ('Sleeping bag', \"Mark D'Ambrosio\"), ('Sleeping bag', 'Mary Kate Green'), ('Sleeping bag', 'Matt Corradino'), ('Sleeping bag', 'Megan Hanacek'), ('Sleeping bag', 'Michelle Finn'), ('Sleeping bag', 'Michelle Wohlberg'), ('Sleeping bag', 'Mike Lowe'), ('Sleeping bag', 'Mitch Mitchell'), ('Sleeping bag', 'Nate Weber'), ('Sleeping bag', 'Nathan Donnelly'), ('Sleeping bag', 'Nicole Apelian'), ('Sleeping bag', 'Nikki van Schyndel'), ('Sleeping bag', 'Randy Champagne'), ('Sleeping bag', 'Ray Livingston'), ('Sleeping bag', 'Roland Welker'), ('Sleeping bag', 'Rose Anna Moore'), ('Sleeping bag', 'Sam Larson'), ('Sleeping bag', 'Shawn Helton'), ('Sleeping bag', 'Teimojin Tan'), ('Sleeping bag', 'Terry Burns'), ('Sleeping bag', 'Theresa Emmerich Kamper'), ('Sleeping bag', 'Tim Backus'), ('Sleeping bag', 'Tim Madsen'), ('Sleeping bag', 'Tom Garstang'), ('Sleeping bag', 'Tracy Wilson'), ('Sleeping bag', 'Wayne Russell'), ('Sleeping bag', 'Woniya Thibeault'), ('Sleeping bag', 'Zachary Fowler'), ('Sleeping bag', 'Zachary Gault'), ('Tarp', 'Adam Riley'), ('Tarp', 'Alex Ribar'), ('Tarp', 'Barry Karcher'), ('Tarp', 'Brad Richardson'), ('Tarp', 'Brant McGee'), ('Tarp', 'Brody Wilkes'), ('Tarp', 'Brooke Whipple'), ('Tarp', 'Callie North'), ('Tarp', 'Chris Wilkes'), ('Tarp', 'Colter Barnes'), ('Tarp', 'Dave Whipple'), ('Tarp', 'Jesse Bosdell'), ('Tarp', 'Jim Baird'), ('Tarp', 'Joe Robinet'), ('Tarp', 'Josh Richardson'), ('Tarp', 'Logan Ribar'), ('Tarp', 'Lucas Miller'), ('Tarp', 'Mary Kate Green'), ('Tarp', 'Pete Brockdorff'), ('Tarp', 'Sam Brockdorff'), ('Tarp', 'Sam Larson'), ('Tarp', 'Shannon Bosdell'), ('Tarp', 'Ted Baird'), ('Trapping wire', 'Adam Riley'), ('Trapping wire', 'Barry Karcher'), ('Trapping wire', 'Benki Hill'), ('Trapping wire', 'Biko Wright'), ('Trapping wire', 'Brad Richardson'), ('Trapping wire', 'Brady Nicholls'), ('Trapping wire', 'Britt Ahart'), ('Trapping wire', 'Brooke Whipple'), ('Trapping wire', 'Callie Russell'), ('Trapping wire', 'Clay Hayes'), ('Trapping wire', 'Colter Barnes'), ('Trapping wire', 'Correy Hawk'), ('Trapping wire', 'Dave Nessia'), ('Trapping wire', 'Igor Limansky'), ('Trapping wire', 'Jacques Turcotte'), ('Trapping wire', 'Jessie Krebs'), ('Trapping wire', 'Jim Baird'), ('Trapping wire', 'Joe Nicholas'), ('Trapping wire', 'Joel Van Der Loon'), ('Trapping wire', 'Jordan Jonas'), ('Trapping wire', 'Jordon Bell'), ('Trapping wire', 'Juan Pablo Quinonez'), ('Trapping wire', 'Karie Lee Knoke'), ('Trapping wire', 'Keith Syers'), ('Trapping wire', 'Kielyn Marrone'), ('Trapping wire', 'Larry Roberts'), ('Trapping wire', \"Mark D'Ambrosio\"), ('Trapping wire', 'Matt Corradino'), ('Trapping wire', 'Michelle Finn'), ('Trapping wire', 'Michelle Wohlberg'), ('Trapping wire', 'Nate Weber'), ('Trapping wire', 'Nicole Apelian'), ('Trapping wire', 'Nikki van Schyndel'), ('Trapping wire', 'Pete Brockdorff'), ('Trapping wire', 'Randy Champagne'), ('Trapping wire', 'Ray Livingston'), ('Trapping wire', 'Roland Welker'), ('Trapping wire', 'Rose Anna Moore'), ('Trapping wire', 'Sam Brockdorff'), ('Trapping wire', 'Sam Larson'), ('Trapping wire', 'Ted Baird'), ('Trapping wire', 'Teimojin Tan'), ('Trapping wire', 'Terry Burns'), ('Trapping wire', 'Theresa Emmerich Kamper'), ('Trapping wire', 'Tom Garstang')])"
      ]
     },
     "execution_count": 109,
     "metadata": {},
     "output_type": "execute_result"
    }
   ],
   "source": [
    "lost.edges()"
   ]
  },
  {
   "cell_type": "code",
   "execution_count": null,
   "metadata": {},
   "outputs": [
    {
     "data": {
      "text/plain": [
       "{'Axe': array([0.02569985, 0.03849196]),\n",
       " 'Bow and arrows': array([-0.16943497, -0.04649304]),\n",
       " 'Canteen': array([0.55737113, 1.        ]),\n",
       " 'Ferro rod': array([-0.07980588, -0.0798421 ]),\n",
       " 'Fishing gear': array([-0.00572979, -0.01191446]),\n",
       " 'Gillnet': array([0.25021227, 0.05100677]),\n",
       " 'Knife': array([ 0.0492478 , -0.17164356]),\n",
       " 'Multitool': array([-0.26585985, -0.03300167]),\n",
       " 'Paracord': array([-0.16494033, -0.13972353]),\n",
       " 'Pot': array([ 0.04560329, -0.01513612]),\n",
       " 'Rations': array([0.12717501, 0.11274494]),\n",
       " 'Saw': array([-0.03711686,  0.06018619]),\n",
       " 'Sleeping bag': array([-0.00485056, -0.09008358]),\n",
       " 'Tarp': array([0.51024166, 0.26585391]),\n",
       " 'Trapping wire': array([-0.20120054,  0.03268558]),\n",
       " 'Adam Riley': array([ 0.42312823, -0.48164363]),\n",
       " 'Alan Kay': array([0.8150668 , 0.33264604]),\n",
       " 'Alex Ribar': array([-0.29962652,  0.73522427]),\n",
       " 'Amos Rodriguez': array([ 0.06828039, -0.72452851]),\n",
       " 'Barry Karcher': array([-0.03751998, -0.65636298]),\n",
       " 'Benki Hill': array([-0.76758888,  0.4605471 ]),\n",
       " 'Biko Wright': array([ 0.4831264 , -0.31655374]),\n",
       " 'Brad Richardson': array([0.05984641, 0.43992901]),\n",
       " 'Brady Nicholls': array([ 0.13346439, -0.48292464]),\n",
       " 'Brant McGee': array([ 0.60152309, -0.4155406 ]),\n",
       " 'Britt Ahart': array([-0.24976316, -0.41853937]),\n",
       " 'Brody Wilkes': array([0.72416601, 0.42220173]),\n",
       " 'Brooke Whipple': array([-0.06443042,  0.43698358]),\n",
       " 'Callie North': array([ 0.70698185, -0.38322354]),\n",
       " 'Callie Russell': array([-0.40911893,  0.46780982]),\n",
       " 'Carleigh Fairchild': array([0.2092402 , 0.32845879]),\n",
       " 'Chris Weatherman': array([ 0.67627486, -0.10771672]),\n",
       " 'Chris Wilkes': array([0.89239366, 0.11931474]),\n",
       " 'Clay Hayes': array([-0.56671814,  0.46031393]),\n",
       " 'Colter Barnes': array([ 0.29218422, -0.42063421]),\n",
       " 'Correy Hawk': array([-0.72740767, -0.42716753]),\n",
       " 'Dan Wowak': array([-0.12721076, -0.8069653 ]),\n",
       " 'Dave Nessia': array([-0.15819208, -0.32146331]),\n",
       " 'Dave Whipple': array([0.71930825, 0.69436562]),\n",
       " 'David McIntyre': array([ 0.6112919 , -0.57350805]),\n",
       " 'Desmond White': array([ 0.86447141, -0.08364131]),\n",
       " 'Donny Dust': array([-0.59838909, -0.25104108]),\n",
       " 'Dustin Feher': array([-0.04594914,  0.8062427 ]),\n",
       " 'Greg Ovens': array([0.58411343, 0.05943424]),\n",
       " 'Igor Limansky': array([ 0.37559143, -0.29318184]),\n",
       " 'Jacques Turcotte': array([-0.49760574,  0.32374061]),\n",
       " 'Jesse Bosdell': array([0.13962169, 0.54654085]),\n",
       " 'Jessie Krebs': array([-0.58922494, -0.68630706]),\n",
       " 'Jim Baird': array([-0.36388931,  0.6380622 ]),\n",
       " 'Jim Shields': array([-0.17887446, -0.64378544]),\n",
       " 'Joe Nicholas': array([0.47037257, 0.43497155]),\n",
       " 'Joe Robinet': array([ 0.74575194, -0.07974315]),\n",
       " 'Joel Van Der Loon': array([-0.50522264, -0.37457273]),\n",
       " 'Jordan Jonas': array([-0.73295332, -0.55330969]),\n",
       " 'Jordon Bell': array([-0.07672216,  0.66793236]),\n",
       " 'Jose Martinez Amoedo': array([-0.63197663, -0.13472355]),\n",
       " 'Josh Chavez': array([ 0.42205675, -0.67971728]),\n",
       " 'Josh Richardson': array([0.42259582, 0.87083085]),\n",
       " 'Juan Pablo Quinonez': array([0.3573512, 0.269894 ]),\n",
       " 'Justin Vititoe': array([0.16096581, 0.90411504]),\n",
       " 'Karie Lee Knoke': array([ 0.25346014, -0.5671791 ]),\n",
       " 'Keith Syers': array([-0.30492699, -0.77019794]),\n",
       " 'Kielyn Marrone': array([0.16370593, 0.46885516]),\n",
       " 'Larry Roberts': array([-0.33642328,  0.1650295 ]),\n",
       " 'Logan Ribar': array([ 0.00826798, -0.49287871]),\n",
       " 'Lucas Miller': array([0.31311087, 0.68389008]),\n",
       " \"Mark D'Ambrosio\": array([-0.82119893,  0.25170771]),\n",
       " 'Mary Kate Green': array([0.76466081, 0.10192847]),\n",
       " 'Matt Corradino': array([-0.20064253,  0.71051006]),\n",
       " 'Megan Hanacek': array([0.3580734 , 0.53287859]),\n",
       " 'Michelle Finn': array([-0.60454405, -0.48305459]),\n",
       " 'Michelle Wohlberg': array([-0.19380426,  0.59023164]),\n",
       " 'Mike Lowe': array([ 0.30262085, -0.6900817 ]),\n",
       " 'Mitch Mitchell': array([ 0.37283883, -0.84306299]),\n",
       " 'Nate Weber': array([-0.71508136,  0.0384768 ]),\n",
       " 'Nathan Donnelly': array([-0.29329391, -0.58423924]),\n",
       " 'Nicole Apelian': array([ 0.26878955, -0.20623506]),\n",
       " 'Nikki van Schyndel': array([-0.44888431, -0.57545175]),\n",
       " 'Pete Brockdorff': array([0.59760761, 0.54960599]),\n",
       " 'Randy Champagne': array([-0.34930456, -0.2017377 ]),\n",
       " 'Ray Livingston': array([ 0.48616118, -0.14717529]),\n",
       " 'Roland Welker': array([-0.68032779,  0.14388344]),\n",
       " 'Rose Anna Moore': array([-0.58069844,  0.57414783]),\n",
       " 'Sam Brockdorff': array([ 0.78957253, -0.23782641]),\n",
       " 'Sam Larson': array([-0.18207358,  0.32660288]),\n",
       " 'Shannon Bosdell': array([0.08408647, 0.82789713]),\n",
       " 'Shawn Helton': array([-0.4380232 , -0.74625718]),\n",
       " 'Ted Baird': array([0.42021164, 0.63060639]),\n",
       " 'Teimojin Tan': array([-0.65743777,  0.37440987]),\n",
       " 'Terry Burns': array([ 0.13251354, -0.65933399]),\n",
       " 'Theresa Emmerich Kamper': array([-0.59544195, -0.03091147]),\n",
       " 'Tim Backus': array([-0.83469557, -0.20726596]),\n",
       " 'Tim Madsen': array([0.46464938, 0.03696313]),\n",
       " 'Tom Garstang': array([-0.70179716,  0.25367817]),\n",
       " 'Tracy Wilson': array([0.67374866, 0.24231489]),\n",
       " 'Wayne Russell': array([-0.01698685, -0.86775811]),\n",
       " 'Woniya Thibeault': array([-0.73256212, -0.30412075]),\n",
       " 'Zachary Fowler': array([-0.93644757,  0.06687756]),\n",
       " 'Zachary Gault': array([-0.79688018, -0.03162239])}"
      ]
     },
     "execution_count": 110,
     "metadata": {},
     "output_type": "execute_result"
    }
   ],
   "source": [
    "# Get positions for the nodes in G\n",
    "pos_ = nx.spring_layout(lost)\n",
    "pos_"
   ]
  },
  {
   "cell_type": "code",
   "execution_count": null,
   "metadata": {},
   "outputs": [],
   "source": [
    "def make_edge(x, y, text, width):\n",
    "    \n",
    "    '''Creates a scatter trace for the edge between x's and y's with given width\n",
    "\n",
    "    Parameters\n",
    "    ----------\n",
    "    x    : a tuple of the endpoints' x-coordinates in the form, tuple([x0, x1, None])\n",
    "    \n",
    "    y    : a tuple of the endpoints' y-coordinates in the form, tuple([y0, y1, None])\n",
    "    \n",
    "    width: the width of the line\n",
    "\n",
    "    Returns\n",
    "    -------\n",
    "    An edge trace that goes between x0 and x1 with specified width.\n",
    "    '''\n",
    "    return  go.Scatter(x         = x,\n",
    "                       y         = y,\n",
    "                       line      = dict(width = width,\n",
    "                                   color = 'cornflowerblue'),\n",
    "                       hoverinfo = 'text',\n",
    "                       text      = ([text]),\n",
    "                       mode      = 'lines')"
   ]
  },
  {
   "cell_type": "code",
   "execution_count": null,
   "metadata": {},
   "outputs": [],
   "source": [
    "# For each edge, make an edge_trace, append to list\n",
    "edge_trace = []\n",
    "for edge in lost.edges():\n",
    "    \n",
    "    if lost.edges()[edge]['weight'] > 0:\n",
    "        char_1 = edge[0]\n",
    "        char_2 = edge[1]\n",
    "\n",
    "        x0, y0 = pos_[char_1]\n",
    "        x1, y1 = pos_[char_2]\n",
    "\n",
    "        text   = char_1 + '--' + char_2 + ': ' + str(lost.edges()[edge]['weight'])\n",
    "        \n",
    "        trace  = make_edge([x0, x1, None], [y0, y1, None], text,\n",
    "                           0.3*lost.edges()[edge]['weight']**1.75)\n",
    "\n",
    "        edge_trace.append(trace)"
   ]
  },
  {
   "cell_type": "code",
   "execution_count": null,
   "metadata": {},
   "outputs": [
    {
     "ename": "KeyError",
     "evalue": "'size'",
     "output_type": "error",
     "traceback": [
      "\u001b[1;31m---------------------------------------------------------------------------\u001b[0m",
      "\u001b[1;31mKeyError\u001b[0m                                  Traceback (most recent call last)",
      "\u001b[1;32md:\\Users\\shawn\\Desktop\\imp\\learning\\Tidy Tuesday\\Tidy-Tuesday-Insights\\alone.ipynb Cell 19\u001b[0m in \u001b[0;36m<cell line: 1>\u001b[1;34m()\u001b[0m\n\u001b[1;32m----> <a href='vscode-notebook-cell:/d%3A/Users/shawn/Desktop/imp/learning/Tidy%20Tuesday/Tidy-Tuesday-Insights/alone.ipynb#X51sZmlsZQ%3D%3D?line=0'>1</a>\u001b[0m lost\u001b[39m.\u001b[39;49mnodes()[\u001b[39m\"\u001b[39;49m\u001b[39msize\u001b[39;49m\u001b[39m\"\u001b[39;49m]\n",
      "File \u001b[1;32md:\\Users\\shawn\\Desktop\\imp\\learning\\virtual_env\\lib\\site-packages\\networkx\\classes\\reportviews.py:194\u001b[0m, in \u001b[0;36mNodeView.__getitem__\u001b[1;34m(self, n)\u001b[0m\n\u001b[0;32m    189\u001b[0m \u001b[39mif\u001b[39;00m \u001b[39misinstance\u001b[39m(n, \u001b[39mslice\u001b[39m):\n\u001b[0;32m    190\u001b[0m     \u001b[39mraise\u001b[39;00m nx\u001b[39m.\u001b[39mNetworkXError(\n\u001b[0;32m    191\u001b[0m         \u001b[39mf\u001b[39m\u001b[39m\"\u001b[39m\u001b[39m{\u001b[39;00m\u001b[39mtype\u001b[39m(\u001b[39mself\u001b[39m)\u001b[39m.\u001b[39m\u001b[39m__name__\u001b[39m\u001b[39m}\u001b[39;00m\u001b[39m does not support slicing, \u001b[39m\u001b[39m\"\u001b[39m\n\u001b[0;32m    192\u001b[0m         \u001b[39mf\u001b[39m\u001b[39m\"\u001b[39m\u001b[39mtry list(G.nodes)[\u001b[39m\u001b[39m{\u001b[39;00mn\u001b[39m.\u001b[39mstart\u001b[39m}\u001b[39;00m\u001b[39m:\u001b[39m\u001b[39m{\u001b[39;00mn\u001b[39m.\u001b[39mstop\u001b[39m}\u001b[39;00m\u001b[39m:\u001b[39m\u001b[39m{\u001b[39;00mn\u001b[39m.\u001b[39mstep\u001b[39m}\u001b[39;00m\u001b[39m]\u001b[39m\u001b[39m\"\u001b[39m\n\u001b[0;32m    193\u001b[0m     )\n\u001b[1;32m--> 194\u001b[0m \u001b[39mreturn\u001b[39;00m \u001b[39mself\u001b[39;49m\u001b[39m.\u001b[39;49m_nodes[n]\n",
      "\u001b[1;31mKeyError\u001b[0m: 'size'"
     ]
    }
   ],
   "source": [
    "lost.nodes()[\"size\"]"
   ]
  },
  {
   "cell_type": "code",
   "execution_count": null,
   "metadata": {},
   "outputs": [],
   "source": [
    "# Make a node trace\n",
    "node_trace = go.Scatter(x         = [],\n",
    "                        y         = [],\n",
    "                        text      = [],\n",
    "                        textposition = \"top center\",\n",
    "                        textfont_size = 10,\n",
    "                        mode      = 'markers+text',\n",
    "                        hoverinfo = 'none',\n",
    "                        marker    = dict(color = [],\n",
    "                                         size  = [],\n",
    "                                         line  = None))\n",
    "# For each node in midsummer, get the position and size and add to the node_trace\n",
    "for node in lost.nodes():\n",
    "    x, y = pos_[node]\n",
    "    node_trace['x'] += tuple([x])\n",
    "    node_trace['y'] += tuple([y])\n",
    "    node_trace['marker']['color'] += tuple(['cornflowerblue'])\n",
    "    #node_trace['marker']['size'] += tuple([5*lost.nodes()[node]['size']])\n",
    "    node_trace['text'] += tuple(['<b>' + node + '</b>'])"
   ]
  },
  {
   "cell_type": "code",
   "execution_count": null,
   "metadata": {},
   "outputs": [
    {
     "data": {
      "application/vnd.plotly.v1+json": {
       "config": {
        "plotlyServerURL": "https://plot.ly"
       },
       "data": [
        {
         "hoverinfo": "text",
         "line": {
          "color": "cornflowerblue",
          "width": 0.3
         },
         "mode": "lines",
         "text": [
          "Axe--Adam Riley: 1"
         ],
         "type": "scatter",
         "x": [
          0.0256998514792931,
          0.4231282311244024,
          null
         ],
         "y": [
          0.038491962597219896,
          -0.4816436280899793,
          null
         ]
        },
        {
         "hoverinfo": "text",
         "line": {
          "color": "cornflowerblue",
          "width": 0.3
         },
         "mode": "lines",
         "text": [
          "Axe--Alan Kay: 1"
         ],
         "type": "scatter",
         "x": [
          0.0256998514792931,
          0.815066799980723,
          null
         ],
         "y": [
          0.038491962597219896,
          0.3326460444066763,
          null
         ]
        },
        {
         "hoverinfo": "text",
         "line": {
          "color": "cornflowerblue",
          "width": 0.3
         },
         "mode": "lines",
         "text": [
          "Axe--Alex Ribar: 1"
         ],
         "type": "scatter",
         "x": [
          0.0256998514792931,
          -0.29962651788445005,
          null
         ],
         "y": [
          0.038491962597219896,
          0.7352242658938394,
          null
         ]
        },
        {
         "hoverinfo": "text",
         "line": {
          "color": "cornflowerblue",
          "width": 0.3
         },
         "mode": "lines",
         "text": [
          "Axe--Amos Rodriguez: 1"
         ],
         "type": "scatter",
         "x": [
          0.0256998514792931,
          0.0682803892041071,
          null
         ],
         "y": [
          0.038491962597219896,
          -0.7245285080827909,
          null
         ]
        },
        {
         "hoverinfo": "text",
         "line": {
          "color": "cornflowerblue",
          "width": 0.3
         },
         "mode": "lines",
         "text": [
          "Axe--Benki Hill: 1"
         ],
         "type": "scatter",
         "x": [
          0.0256998514792931,
          -0.7675888778670847,
          null
         ],
         "y": [
          0.038491962597219896,
          0.46054709803718463,
          null
         ]
        },
        {
         "hoverinfo": "text",
         "line": {
          "color": "cornflowerblue",
          "width": 0.3
         },
         "mode": "lines",
         "text": [
          "Axe--Biko Wright: 1"
         ],
         "type": "scatter",
         "x": [
          0.0256998514792931,
          0.48312640249247935,
          null
         ],
         "y": [
          0.038491962597219896,
          -0.31655373770660206,
          null
         ]
        },
        {
         "hoverinfo": "text",
         "line": {
          "color": "cornflowerblue",
          "width": 1.0090756983044573
         },
         "mode": "lines",
         "text": [
          "Axe--Brad Richardson: 2"
         ],
         "type": "scatter",
         "x": [
          0.0256998514792931,
          0.05984641461518838,
          null
         ],
         "y": [
          0.038491962597219896,
          0.4399290105576108,
          null
         ]
        },
        {
         "hoverinfo": "text",
         "line": {
          "color": "cornflowerblue",
          "width": 0.3
         },
         "mode": "lines",
         "text": [
          "Axe--Brady Nicholls: 1"
         ],
         "type": "scatter",
         "x": [
          0.0256998514792931,
          0.13346439365291393,
          null
         ],
         "y": [
          0.038491962597219896,
          -0.4829246395259961,
          null
         ]
        },
        {
         "hoverinfo": "text",
         "line": {
          "color": "cornflowerblue",
          "width": 0.3
         },
         "mode": "lines",
         "text": [
          "Axe--Brant McGee: 1"
         ],
         "type": "scatter",
         "x": [
          0.0256998514792931,
          0.6015230857860889,
          null
         ],
         "y": [
          0.038491962597219896,
          -0.4155406048086862,
          null
         ]
        },
        {
         "hoverinfo": "text",
         "line": {
          "color": "cornflowerblue",
          "width": 0.3
         },
         "mode": "lines",
         "text": [
          "Axe--Brody Wilkes: 1"
         ],
         "type": "scatter",
         "x": [
          0.0256998514792931,
          0.7241660136758504,
          null
         ],
         "y": [
          0.038491962597219896,
          0.4222017319260711,
          null
         ]
        },
        {
         "hoverinfo": "text",
         "line": {
          "color": "cornflowerblue",
          "width": 1.0090756983044573
         },
         "mode": "lines",
         "text": [
          "Axe--Brooke Whipple: 2"
         ],
         "type": "scatter",
         "x": [
          0.0256998514792931,
          -0.06443041586361846,
          null
         ],
         "y": [
          0.038491962597219896,
          0.43698357904344115,
          null
         ]
        },
        {
         "hoverinfo": "text",
         "line": {
          "color": "cornflowerblue",
          "width": 0.3
         },
         "mode": "lines",
         "text": [
          "Axe--Callie Russell: 1"
         ],
         "type": "scatter",
         "x": [
          0.0256998514792931,
          -0.40911892652294085,
          null
         ],
         "y": [
          0.038491962597219896,
          0.4678098215325018,
          null
         ]
        },
        {
         "hoverinfo": "text",
         "line": {
          "color": "cornflowerblue",
          "width": 0.3
         },
         "mode": "lines",
         "text": [
          "Axe--Chris Weatherman: 1"
         ],
         "type": "scatter",
         "x": [
          0.0256998514792931,
          0.6762748571438286,
          null
         ],
         "y": [
          0.038491962597219896,
          -0.10771672290687707,
          null
         ]
        },
        {
         "hoverinfo": "text",
         "line": {
          "color": "cornflowerblue",
          "width": 0.3
         },
         "mode": "lines",
         "text": [
          "Axe--Chris Wilkes: 1"
         ],
         "type": "scatter",
         "x": [
          0.0256998514792931,
          0.8923936620530742,
          null
         ],
         "y": [
          0.038491962597219896,
          0.1193147390934305,
          null
         ]
        },
        {
         "hoverinfo": "text",
         "line": {
          "color": "cornflowerblue",
          "width": 0.3
         },
         "mode": "lines",
         "text": [
          "Axe--Clay Hayes: 1"
         ],
         "type": "scatter",
         "x": [
          0.0256998514792931,
          -0.5667181352988339,
          null
         ],
         "y": [
          0.038491962597219896,
          0.46031393361436546,
          null
         ]
        },
        {
         "hoverinfo": "text",
         "line": {
          "color": "cornflowerblue",
          "width": 0.3
         },
         "mode": "lines",
         "text": [
          "Axe--Colter Barnes: 1"
         ],
         "type": "scatter",
         "x": [
          0.0256998514792931,
          0.2921842173185547,
          null
         ],
         "y": [
          0.038491962597219896,
          -0.4206342073418396,
          null
         ]
        },
        {
         "hoverinfo": "text",
         "line": {
          "color": "cornflowerblue",
          "width": 0.3
         },
         "mode": "lines",
         "text": [
          "Axe--Correy Hawk: 1"
         ],
         "type": "scatter",
         "x": [
          0.0256998514792931,
          -0.72740767404415,
          null
         ],
         "y": [
          0.038491962597219896,
          -0.42716753086886317,
          null
         ]
        },
        {
         "hoverinfo": "text",
         "line": {
          "color": "cornflowerblue",
          "width": 0.3
         },
         "mode": "lines",
         "text": [
          "Axe--Dan Wowak: 1"
         ],
         "type": "scatter",
         "x": [
          0.0256998514792931,
          -0.12721075638771265,
          null
         ],
         "y": [
          0.038491962597219896,
          -0.806965295635513,
          null
         ]
        },
        {
         "hoverinfo": "text",
         "line": {
          "color": "cornflowerblue",
          "width": 1.0090756983044573
         },
         "mode": "lines",
         "text": [
          "Axe--Dave Nessia: 2"
         ],
         "type": "scatter",
         "x": [
          0.0256998514792931,
          -0.15819207581452197,
          null
         ],
         "y": [
          0.038491962597219896,
          -0.32146331236271153,
          null
         ]
        },
        {
         "hoverinfo": "text",
         "line": {
          "color": "cornflowerblue",
          "width": 0.3
         },
         "mode": "lines",
         "text": [
          "Axe--Dave Whipple: 1"
         ],
         "type": "scatter",
         "x": [
          0.0256998514792931,
          0.7193082469361248,
          null
         ],
         "y": [
          0.038491962597219896,
          0.6943656160949481,
          null
         ]
        },
        {
         "hoverinfo": "text",
         "line": {
          "color": "cornflowerblue",
          "width": 0.3
         },
         "mode": "lines",
         "text": [
          "Axe--David McIntyre: 1"
         ],
         "type": "scatter",
         "x": [
          0.0256998514792931,
          0.6112918996834296,
          null
         ],
         "y": [
          0.038491962597219896,
          -0.5735080525836848,
          null
         ]
        },
        {
         "hoverinfo": "text",
         "line": {
          "color": "cornflowerblue",
          "width": 0.3
         },
         "mode": "lines",
         "text": [
          "Axe--Desmond White: 1"
         ],
         "type": "scatter",
         "x": [
          0.0256998514792931,
          0.8644714148065687,
          null
         ],
         "y": [
          0.038491962597219896,
          -0.08364130560083073,
          null
         ]
        },
        {
         "hoverinfo": "text",
         "line": {
          "color": "cornflowerblue",
          "width": 0.3
         },
         "mode": "lines",
         "text": [
          "Axe--Donny Dust: 1"
         ],
         "type": "scatter",
         "x": [
          0.0256998514792931,
          -0.598389093734986,
          null
         ],
         "y": [
          0.038491962597219896,
          -0.25104108361735633,
          null
         ]
        },
        {
         "hoverinfo": "text",
         "line": {
          "color": "cornflowerblue",
          "width": 0.3
         },
         "mode": "lines",
         "text": [
          "Axe--Dustin Feher: 1"
         ],
         "type": "scatter",
         "x": [
          0.0256998514792931,
          -0.0459491427761949,
          null
         ],
         "y": [
          0.038491962597219896,
          0.8062427035953487,
          null
         ]
        },
        {
         "hoverinfo": "text",
         "line": {
          "color": "cornflowerblue",
          "width": 0.3
         },
         "mode": "lines",
         "text": [
          "Axe--Greg Ovens: 1"
         ],
         "type": "scatter",
         "x": [
          0.0256998514792931,
          0.5841134288357716,
          null
         ],
         "y": [
          0.038491962597219896,
          0.05943423685498098,
          null
         ]
        },
        {
         "hoverinfo": "text",
         "line": {
          "color": "cornflowerblue",
          "width": 0.3
         },
         "mode": "lines",
         "text": [
          "Axe--Igor Limansky: 1"
         ],
         "type": "scatter",
         "x": [
          0.0256998514792931,
          0.37559142637995513,
          null
         ],
         "y": [
          0.038491962597219896,
          -0.2931818437887316,
          null
         ]
        },
        {
         "hoverinfo": "text",
         "line": {
          "color": "cornflowerblue",
          "width": 0.3
         },
         "mode": "lines",
         "text": [
          "Axe--Jacques Turcotte: 1"
         ],
         "type": "scatter",
         "x": [
          0.0256998514792931,
          -0.49760574014961795,
          null
         ],
         "y": [
          0.038491962597219896,
          0.3237406107058987,
          null
         ]
        },
        {
         "hoverinfo": "text",
         "line": {
          "color": "cornflowerblue",
          "width": 0.3
         },
         "mode": "lines",
         "text": [
          "Axe--Jesse Bosdell: 1"
         ],
         "type": "scatter",
         "x": [
          0.0256998514792931,
          0.1396216938016799,
          null
         ],
         "y": [
          0.038491962597219896,
          0.5465408455237983,
          null
         ]
        },
        {
         "hoverinfo": "text",
         "line": {
          "color": "cornflowerblue",
          "width": 0.3
         },
         "mode": "lines",
         "text": [
          "Axe--Jim Baird: 1"
         ],
         "type": "scatter",
         "x": [
          0.0256998514792931,
          -0.3638893093665568,
          null
         ],
         "y": [
          0.038491962597219896,
          0.6380621974306803,
          null
         ]
        },
        {
         "hoverinfo": "text",
         "line": {
          "color": "cornflowerblue",
          "width": 0.3
         },
         "mode": "lines",
         "text": [
          "Axe--Jim Shields: 1"
         ],
         "type": "scatter",
         "x": [
          0.0256998514792931,
          -0.17887445516937944,
          null
         ],
         "y": [
          0.038491962597219896,
          -0.6437854388020003,
          null
         ]
        },
        {
         "hoverinfo": "text",
         "line": {
          "color": "cornflowerblue",
          "width": 0.3
         },
         "mode": "lines",
         "text": [
          "Axe--Joe Nicholas: 1"
         ],
         "type": "scatter",
         "x": [
          0.0256998514792931,
          0.4703725737274096,
          null
         ],
         "y": [
          0.038491962597219896,
          0.43497154517033965,
          null
         ]
        },
        {
         "hoverinfo": "text",
         "line": {
          "color": "cornflowerblue",
          "width": 0.3
         },
         "mode": "lines",
         "text": [
          "Axe--Joe Robinet: 1"
         ],
         "type": "scatter",
         "x": [
          0.0256998514792931,
          0.7457519403244229,
          null
         ],
         "y": [
          0.038491962597219896,
          -0.0797431498192736,
          null
         ]
        },
        {
         "hoverinfo": "text",
         "line": {
          "color": "cornflowerblue",
          "width": 0.3
         },
         "mode": "lines",
         "text": [
          "Axe--Joel Van Der Loon: 1"
         ],
         "type": "scatter",
         "x": [
          0.0256998514792931,
          -0.5052226395097973,
          null
         ],
         "y": [
          0.038491962597219896,
          -0.3745727323423614,
          null
         ]
        },
        {
         "hoverinfo": "text",
         "line": {
          "color": "cornflowerblue",
          "width": 0.3
         },
         "mode": "lines",
         "text": [
          "Axe--Jordan Jonas: 1"
         ],
         "type": "scatter",
         "x": [
          0.0256998514792931,
          -0.7329533216627765,
          null
         ],
         "y": [
          0.038491962597219896,
          -0.5533096892464248,
          null
         ]
        },
        {
         "hoverinfo": "text",
         "line": {
          "color": "cornflowerblue",
          "width": 0.3
         },
         "mode": "lines",
         "text": [
          "Axe--Jordon Bell: 1"
         ],
         "type": "scatter",
         "x": [
          0.0256998514792931,
          -0.07672216484877323,
          null
         ],
         "y": [
          0.038491962597219896,
          0.6679323572140383,
          null
         ]
        },
        {
         "hoverinfo": "text",
         "line": {
          "color": "cornflowerblue",
          "width": 0.3
         },
         "mode": "lines",
         "text": [
          "Axe--Jose Martinez Amoedo: 1"
         ],
         "type": "scatter",
         "x": [
          0.0256998514792931,
          -0.6319766270688345,
          null
         ],
         "y": [
          0.038491962597219896,
          -0.13472354967767763,
          null
         ]
        },
        {
         "hoverinfo": "text",
         "line": {
          "color": "cornflowerblue",
          "width": 0.3
         },
         "mode": "lines",
         "text": [
          "Axe--Josh Chavez: 1"
         ],
         "type": "scatter",
         "x": [
          0.0256998514792931,
          0.42205675328593906,
          null
         ],
         "y": [
          0.038491962597219896,
          -0.6797172750600777,
          null
         ]
        },
        {
         "hoverinfo": "text",
         "line": {
          "color": "cornflowerblue",
          "width": 0.3
         },
         "mode": "lines",
         "text": [
          "Axe--Josh Richardson: 1"
         ],
         "type": "scatter",
         "x": [
          0.0256998514792931,
          0.42259581982357375,
          null
         ],
         "y": [
          0.038491962597219896,
          0.8708308529937877,
          null
         ]
        },
        {
         "hoverinfo": "text",
         "line": {
          "color": "cornflowerblue",
          "width": 0.3
         },
         "mode": "lines",
         "text": [
          "Axe--Juan Pablo Quinonez: 1"
         ],
         "type": "scatter",
         "x": [
          0.0256998514792931,
          0.3573511980627373,
          null
         ],
         "y": [
          0.038491962597219896,
          0.26989400434930627,
          null
         ]
        },
        {
         "hoverinfo": "text",
         "line": {
          "color": "cornflowerblue",
          "width": 0.3
         },
         "mode": "lines",
         "text": [
          "Axe--Justin Vititoe: 1"
         ],
         "type": "scatter",
         "x": [
          0.0256998514792931,
          0.16096581098835464,
          null
         ],
         "y": [
          0.038491962597219896,
          0.9041150378816133,
          null
         ]
        },
        {
         "hoverinfo": "text",
         "line": {
          "color": "cornflowerblue",
          "width": 0.3
         },
         "mode": "lines",
         "text": [
          "Axe--Karie Lee Knoke: 1"
         ],
         "type": "scatter",
         "x": [
          0.0256998514792931,
          0.2534601432680607,
          null
         ],
         "y": [
          0.038491962597219896,
          -0.5671790990454183,
          null
         ]
        },
        {
         "hoverinfo": "text",
         "line": {
          "color": "cornflowerblue",
          "width": 0.3
         },
         "mode": "lines",
         "text": [
          "Axe--Keith Syers: 1"
         ],
         "type": "scatter",
         "x": [
          0.0256998514792931,
          -0.30492698698095455,
          null
         ],
         "y": [
          0.038491962597219896,
          -0.7701979405779571,
          null
         ]
        },
        {
         "hoverinfo": "text",
         "line": {
          "color": "cornflowerblue",
          "width": 0.3
         },
         "mode": "lines",
         "text": [
          "Axe--Kielyn Marrone: 1"
         ],
         "type": "scatter",
         "x": [
          0.0256998514792931,
          0.16370592574901813,
          null
         ],
         "y": [
          0.038491962597219896,
          0.4688551620748274,
          null
         ]
        },
        {
         "hoverinfo": "text",
         "line": {
          "color": "cornflowerblue",
          "width": 0.3
         },
         "mode": "lines",
         "text": [
          "Axe--Larry Roberts: 1"
         ],
         "type": "scatter",
         "x": [
          0.0256998514792931,
          -0.3364232797862773,
          null
         ],
         "y": [
          0.038491962597219896,
          0.16502950099272184,
          null
         ]
        },
        {
         "hoverinfo": "text",
         "line": {
          "color": "cornflowerblue",
          "width": 0.3
         },
         "mode": "lines",
         "text": [
          "Axe--Logan Ribar: 1"
         ],
         "type": "scatter",
         "x": [
          0.0256998514792931,
          0.008267981975036148,
          null
         ],
         "y": [
          0.038491962597219896,
          -0.4928787114965203,
          null
         ]
        },
        {
         "hoverinfo": "text",
         "line": {
          "color": "cornflowerblue",
          "width": 0.3
         },
         "mode": "lines",
         "text": [
          "Axe--Lucas Miller: 1"
         ],
         "type": "scatter",
         "x": [
          0.0256998514792931,
          0.3131108731926996,
          null
         ],
         "y": [
          0.038491962597219896,
          0.6838900750220774,
          null
         ]
        },
        {
         "hoverinfo": "text",
         "line": {
          "color": "cornflowerblue",
          "width": 0.3
         },
         "mode": "lines",
         "text": [
          "Axe--Mark D'Ambrosio: 1"
         ],
         "type": "scatter",
         "x": [
          0.0256998514792931,
          -0.821198931605355,
          null
         ],
         "y": [
          0.038491962597219896,
          0.251707705900538,
          null
         ]
        },
        {
         "hoverinfo": "text",
         "line": {
          "color": "cornflowerblue",
          "width": 0.3
         },
         "mode": "lines",
         "text": [
          "Axe--Mary Kate Green: 1"
         ],
         "type": "scatter",
         "x": [
          0.0256998514792931,
          0.7646608077190291,
          null
         ],
         "y": [
          0.038491962597219896,
          0.10192847172652374,
          null
         ]
        },
        {
         "hoverinfo": "text",
         "line": {
          "color": "cornflowerblue",
          "width": 0.3
         },
         "mode": "lines",
         "text": [
          "Axe--Megan Hanacek: 1"
         ],
         "type": "scatter",
         "x": [
          0.0256998514792931,
          0.3580733953966105,
          null
         ],
         "y": [
          0.038491962597219896,
          0.5328785899573018,
          null
         ]
        },
        {
         "hoverinfo": "text",
         "line": {
          "color": "cornflowerblue",
          "width": 0.3
         },
         "mode": "lines",
         "text": [
          "Axe--Michelle Finn: 1"
         ],
         "type": "scatter",
         "x": [
          0.0256998514792931,
          -0.6045440501381834,
          null
         ],
         "y": [
          0.038491962597219896,
          -0.48305458918849853,
          null
         ]
        },
        {
         "hoverinfo": "text",
         "line": {
          "color": "cornflowerblue",
          "width": 0.3
         },
         "mode": "lines",
         "text": [
          "Axe--Michelle Wohlberg: 1"
         ],
         "type": "scatter",
         "x": [
          0.0256998514792931,
          -0.1938042578318345,
          null
         ],
         "y": [
          0.038491962597219896,
          0.5902316390105835,
          null
         ]
        },
        {
         "hoverinfo": "text",
         "line": {
          "color": "cornflowerblue",
          "width": 0.3
         },
         "mode": "lines",
         "text": [
          "Axe--Mike Lowe: 1"
         ],
         "type": "scatter",
         "x": [
          0.0256998514792931,
          0.30262084802000055,
          null
         ],
         "y": [
          0.038491962597219896,
          -0.6900817037865407,
          null
         ]
        },
        {
         "hoverinfo": "text",
         "line": {
          "color": "cornflowerblue",
          "width": 0.3
         },
         "mode": "lines",
         "text": [
          "Axe--Mitch Mitchell: 1"
         ],
         "type": "scatter",
         "x": [
          0.0256998514792931,
          0.37283882745591235,
          null
         ],
         "y": [
          0.038491962597219896,
          -0.8430629943724753,
          null
         ]
        },
        {
         "hoverinfo": "text",
         "line": {
          "color": "cornflowerblue",
          "width": 0.3
         },
         "mode": "lines",
         "text": [
          "Axe--Nate Weber: 1"
         ],
         "type": "scatter",
         "x": [
          0.0256998514792931,
          -0.7150813604179511,
          null
         ],
         "y": [
          0.038491962597219896,
          0.03847680432140553,
          null
         ]
        },
        {
         "hoverinfo": "text",
         "line": {
          "color": "cornflowerblue",
          "width": 0.3
         },
         "mode": "lines",
         "text": [
          "Axe--Nathan Donnelly: 1"
         ],
         "type": "scatter",
         "x": [
          0.0256998514792931,
          -0.2932939089011811,
          null
         ],
         "y": [
          0.038491962597219896,
          -0.5842392372509401,
          null
         ]
        },
        {
         "hoverinfo": "text",
         "line": {
          "color": "cornflowerblue",
          "width": 0.3
         },
         "mode": "lines",
         "text": [
          "Axe--Nicole Apelian: 1"
         ],
         "type": "scatter",
         "x": [
          0.0256998514792931,
          0.26878954826134965,
          null
         ],
         "y": [
          0.038491962597219896,
          -0.20623505651882393,
          null
         ]
        },
        {
         "hoverinfo": "text",
         "line": {
          "color": "cornflowerblue",
          "width": 0.3
         },
         "mode": "lines",
         "text": [
          "Axe--Nikki van Schyndel: 1"
         ],
         "type": "scatter",
         "x": [
          0.0256998514792931,
          -0.44888430898162773,
          null
         ],
         "y": [
          0.038491962597219896,
          -0.5754517487206505,
          null
         ]
        },
        {
         "hoverinfo": "text",
         "line": {
          "color": "cornflowerblue",
          "width": 0.3
         },
         "mode": "lines",
         "text": [
          "Axe--Pete Brockdorff: 1"
         ],
         "type": "scatter",
         "x": [
          0.0256998514792931,
          0.5976076136229159,
          null
         ],
         "y": [
          0.038491962597219896,
          0.5496059875401306,
          null
         ]
        },
        {
         "hoverinfo": "text",
         "line": {
          "color": "cornflowerblue",
          "width": 1.0090756983044573
         },
         "mode": "lines",
         "text": [
          "Axe--Randy Champagne: 2"
         ],
         "type": "scatter",
         "x": [
          0.0256998514792931,
          -0.349304559305111,
          null
         ],
         "y": [
          0.038491962597219896,
          -0.20173770295454785,
          null
         ]
        },
        {
         "hoverinfo": "text",
         "line": {
          "color": "cornflowerblue",
          "width": 0.3
         },
         "mode": "lines",
         "text": [
          "Axe--Ray Livingston: 1"
         ],
         "type": "scatter",
         "x": [
          0.0256998514792931,
          0.4861611815391165,
          null
         ],
         "y": [
          0.038491962597219896,
          -0.14717529162435514,
          null
         ]
        },
        {
         "hoverinfo": "text",
         "line": {
          "color": "cornflowerblue",
          "width": 0.3
         },
         "mode": "lines",
         "text": [
          "Axe--Roland Welker: 1"
         ],
         "type": "scatter",
         "x": [
          0.0256998514792931,
          -0.6803277873559646,
          null
         ],
         "y": [
          0.038491962597219896,
          0.14388344051599708,
          null
         ]
        },
        {
         "hoverinfo": "text",
         "line": {
          "color": "cornflowerblue",
          "width": 0.3
         },
         "mode": "lines",
         "text": [
          "Axe--Rose Anna Moore: 1"
         ],
         "type": "scatter",
         "x": [
          0.0256998514792931,
          -0.5806984395819331,
          null
         ],
         "y": [
          0.038491962597219896,
          0.5741478282855389,
          null
         ]
        },
        {
         "hoverinfo": "text",
         "line": {
          "color": "cornflowerblue",
          "width": 0.3
         },
         "mode": "lines",
         "text": [
          "Axe--Sam Brockdorff: 1"
         ],
         "type": "scatter",
         "x": [
          0.0256998514792931,
          0.7895725287866725,
          null
         ],
         "y": [
          0.038491962597219896,
          -0.23782640566337726,
          null
         ]
        },
        {
         "hoverinfo": "text",
         "line": {
          "color": "cornflowerblue",
          "width": 1.0090756983044573
         },
         "mode": "lines",
         "text": [
          "Axe--Sam Larson: 2"
         ],
         "type": "scatter",
         "x": [
          0.0256998514792931,
          -0.1820735822325081,
          null
         ],
         "y": [
          0.038491962597219896,
          0.3266028819567148,
          null
         ]
        },
        {
         "hoverinfo": "text",
         "line": {
          "color": "cornflowerblue",
          "width": 0.3
         },
         "mode": "lines",
         "text": [
          "Axe--Shawn Helton: 1"
         ],
         "type": "scatter",
         "x": [
          0.0256998514792931,
          -0.43802320462146654,
          null
         ],
         "y": [
          0.038491962597219896,
          -0.7462571818068016,
          null
         ]
        },
        {
         "hoverinfo": "text",
         "line": {
          "color": "cornflowerblue",
          "width": 0.3
         },
         "mode": "lines",
         "text": [
          "Axe--Ted Baird: 1"
         ],
         "type": "scatter",
         "x": [
          0.0256998514792931,
          0.42021163583332416,
          null
         ],
         "y": [
          0.038491962597219896,
          0.6306063918738846,
          null
         ]
        },
        {
         "hoverinfo": "text",
         "line": {
          "color": "cornflowerblue",
          "width": 0.3
         },
         "mode": "lines",
         "text": [
          "Axe--Teimojin Tan: 1"
         ],
         "type": "scatter",
         "x": [
          0.0256998514792931,
          -0.6574377690196297,
          null
         ],
         "y": [
          0.038491962597219896,
          0.3744098743947772,
          null
         ]
        },
        {
         "hoverinfo": "text",
         "line": {
          "color": "cornflowerblue",
          "width": 0.3
         },
         "mode": "lines",
         "text": [
          "Axe--Terry Burns: 1"
         ],
         "type": "scatter",
         "x": [
          0.0256998514792931,
          0.13251353954568354,
          null
         ],
         "y": [
          0.038491962597219896,
          -0.6593339851762245,
          null
         ]
        },
        {
         "hoverinfo": "text",
         "line": {
          "color": "cornflowerblue",
          "width": 0.3
         },
         "mode": "lines",
         "text": [
          "Axe--Tim Backus: 1"
         ],
         "type": "scatter",
         "x": [
          0.0256998514792931,
          -0.8346955697213538,
          null
         ],
         "y": [
          0.038491962597219896,
          -0.2072659581108296,
          null
         ]
        },
        {
         "hoverinfo": "text",
         "line": {
          "color": "cornflowerblue",
          "width": 0.3
         },
         "mode": "lines",
         "text": [
          "Axe--Tim Madsen: 1"
         ],
         "type": "scatter",
         "x": [
          0.0256998514792931,
          0.46464938444806847,
          null
         ],
         "y": [
          0.038491962597219896,
          0.03696312994248573,
          null
         ]
        },
        {
         "hoverinfo": "text",
         "line": {
          "color": "cornflowerblue",
          "width": 0.3
         },
         "mode": "lines",
         "text": [
          "Axe--Tom Garstang: 1"
         ],
         "type": "scatter",
         "x": [
          0.0256998514792931,
          -0.7017971597054672,
          null
         ],
         "y": [
          0.038491962597219896,
          0.25367816904649765,
          null
         ]
        },
        {
         "hoverinfo": "text",
         "line": {
          "color": "cornflowerblue",
          "width": 0.3
         },
         "mode": "lines",
         "text": [
          "Axe--Tracy Wilson: 1"
         ],
         "type": "scatter",
         "x": [
          0.0256998514792931,
          0.6737486629514334,
          null
         ],
         "y": [
          0.038491962597219896,
          0.2423148856093115,
          null
         ]
        },
        {
         "hoverinfo": "text",
         "line": {
          "color": "cornflowerblue",
          "width": 0.3
         },
         "mode": "lines",
         "text": [
          "Axe--Wayne Russell: 1"
         ],
         "type": "scatter",
         "x": [
          0.0256998514792931,
          -0.01698685123302949,
          null
         ],
         "y": [
          0.038491962597219896,
          -0.8677581074083068,
          null
         ]
        },
        {
         "hoverinfo": "text",
         "line": {
          "color": "cornflowerblue",
          "width": 0.3
         },
         "mode": "lines",
         "text": [
          "Axe--Zachary Fowler: 1"
         ],
         "type": "scatter",
         "x": [
          0.0256998514792931,
          -0.9364475679671536,
          null
         ],
         "y": [
          0.038491962597219896,
          0.06687756482110661,
          null
         ]
        },
        {
         "hoverinfo": "text",
         "line": {
          "color": "cornflowerblue",
          "width": 0.3
         },
         "mode": "lines",
         "text": [
          "Axe--Zachary Gault: 1"
         ],
         "type": "scatter",
         "x": [
          0.0256998514792931,
          -0.7968801789443809,
          null
         ],
         "y": [
          0.038491962597219896,
          -0.03162239453647401,
          null
         ]
        },
        {
         "hoverinfo": "text",
         "line": {
          "color": "cornflowerblue",
          "width": 0.3
         },
         "mode": "lines",
         "text": [
          "Bow and arrows--Adam Riley: 1"
         ],
         "type": "scatter",
         "x": [
          -0.16943496807822672,
          0.4231282311244024,
          null
         ],
         "y": [
          -0.04649303876929913,
          -0.4816436280899793,
          null
         ]
        },
        {
         "hoverinfo": "text",
         "line": {
          "color": "cornflowerblue",
          "width": 0.3
         },
         "mode": "lines",
         "text": [
          "Bow and arrows--Alex Ribar: 1"
         ],
         "type": "scatter",
         "x": [
          -0.16943496807822672,
          -0.29962651788445005,
          null
         ],
         "y": [
          -0.04649303876929913,
          0.7352242658938394,
          null
         ]
        },
        {
         "hoverinfo": "text",
         "line": {
          "color": "cornflowerblue",
          "width": 0.3
         },
         "mode": "lines",
         "text": [
          "Bow and arrows--Amos Rodriguez: 1"
         ],
         "type": "scatter",
         "x": [
          -0.16943496807822672,
          0.0682803892041071,
          null
         ],
         "y": [
          -0.04649303876929913,
          -0.7245285080827909,
          null
         ]
        },
        {
         "hoverinfo": "text",
         "line": {
          "color": "cornflowerblue",
          "width": 0.3
         },
         "mode": "lines",
         "text": [
          "Bow and arrows--Barry Karcher: 1"
         ],
         "type": "scatter",
         "x": [
          -0.16943496807822672,
          -0.03751998498056549,
          null
         ],
         "y": [
          -0.04649303876929913,
          -0.6563629833878613,
          null
         ]
        },
        {
         "hoverinfo": "text",
         "line": {
          "color": "cornflowerblue",
          "width": 0.3
         },
         "mode": "lines",
         "text": [
          "Bow and arrows--Benki Hill: 1"
         ],
         "type": "scatter",
         "x": [
          -0.16943496807822672,
          -0.7675888778670847,
          null
         ],
         "y": [
          -0.04649303876929913,
          0.46054709803718463,
          null
         ]
        },
        {
         "hoverinfo": "text",
         "line": {
          "color": "cornflowerblue",
          "width": 0.3
         },
         "mode": "lines",
         "text": [
          "Bow and arrows--Biko Wright: 1"
         ],
         "type": "scatter",
         "x": [
          -0.16943496807822672,
          0.48312640249247935,
          null
         ],
         "y": [
          -0.04649303876929913,
          -0.31655373770660206,
          null
         ]
        },
        {
         "hoverinfo": "text",
         "line": {
          "color": "cornflowerblue",
          "width": 0.3
         },
         "mode": "lines",
         "text": [
          "Bow and arrows--Brad Richardson: 1"
         ],
         "type": "scatter",
         "x": [
          -0.16943496807822672,
          0.05984641461518838,
          null
         ],
         "y": [
          -0.04649303876929913,
          0.4399290105576108,
          null
         ]
        },
        {
         "hoverinfo": "text",
         "line": {
          "color": "cornflowerblue",
          "width": 0.3
         },
         "mode": "lines",
         "text": [
          "Bow and arrows--Brant McGee: 1"
         ],
         "type": "scatter",
         "x": [
          -0.16943496807822672,
          0.6015230857860889,
          null
         ],
         "y": [
          -0.04649303876929913,
          -0.4155406048086862,
          null
         ]
        },
        {
         "hoverinfo": "text",
         "line": {
          "color": "cornflowerblue",
          "width": 1.0090756983044573
         },
         "mode": "lines",
         "text": [
          "Bow and arrows--Britt Ahart: 2"
         ],
         "type": "scatter",
         "x": [
          -0.16943496807822672,
          -0.2497631631785479,
          null
         ],
         "y": [
          -0.04649303876929913,
          -0.41853936522327173,
          null
         ]
        },
        {
         "hoverinfo": "text",
         "line": {
          "color": "cornflowerblue",
          "width": 0.3
         },
         "mode": "lines",
         "text": [
          "Bow and arrows--Brooke Whipple: 1"
         ],
         "type": "scatter",
         "x": [
          -0.16943496807822672,
          -0.06443041586361846,
          null
         ],
         "y": [
          -0.04649303876929913,
          0.43698357904344115,
          null
         ]
        },
        {
         "hoverinfo": "text",
         "line": {
          "color": "cornflowerblue",
          "width": 0.3
         },
         "mode": "lines",
         "text": [
          "Bow and arrows--Callie Russell: 1"
         ],
         "type": "scatter",
         "x": [
          -0.16943496807822672,
          -0.40911892652294085,
          null
         ],
         "y": [
          -0.04649303876929913,
          0.4678098215325018,
          null
         ]
        },
        {
         "hoverinfo": "text",
         "line": {
          "color": "cornflowerblue",
          "width": 1.0090756983044573
         },
         "mode": "lines",
         "text": [
          "Bow and arrows--Carleigh Fairchild: 2"
         ],
         "type": "scatter",
         "x": [
          -0.16943496807822672,
          0.20924019981298217,
          null
         ],
         "y": [
          -0.04649303876929913,
          0.3284587939178709,
          null
         ]
        },
        {
         "hoverinfo": "text",
         "line": {
          "color": "cornflowerblue",
          "width": 0.3
         },
         "mode": "lines",
         "text": [
          "Bow and arrows--Chris Weatherman: 1"
         ],
         "type": "scatter",
         "x": [
          -0.16943496807822672,
          0.6762748571438286,
          null
         ],
         "y": [
          -0.04649303876929913,
          -0.10771672290687707,
          null
         ]
        },
        {
         "hoverinfo": "text",
         "line": {
          "color": "cornflowerblue",
          "width": 0.3
         },
         "mode": "lines",
         "text": [
          "Bow and arrows--Clay Hayes: 1"
         ],
         "type": "scatter",
         "x": [
          -0.16943496807822672,
          -0.5667181352988339,
          null
         ],
         "y": [
          -0.04649303876929913,
          0.46031393361436546,
          null
         ]
        },
        {
         "hoverinfo": "text",
         "line": {
          "color": "cornflowerblue",
          "width": 0.3
         },
         "mode": "lines",
         "text": [
          "Bow and arrows--Colter Barnes: 1"
         ],
         "type": "scatter",
         "x": [
          -0.16943496807822672,
          0.2921842173185547,
          null
         ],
         "y": [
          -0.04649303876929913,
          -0.4206342073418396,
          null
         ]
        },
        {
         "hoverinfo": "text",
         "line": {
          "color": "cornflowerblue",
          "width": 0.3
         },
         "mode": "lines",
         "text": [
          "Bow and arrows--Correy Hawk: 1"
         ],
         "type": "scatter",
         "x": [
          -0.16943496807822672,
          -0.72740767404415,
          null
         ],
         "y": [
          -0.04649303876929913,
          -0.42716753086886317,
          null
         ]
        },
        {
         "hoverinfo": "text",
         "line": {
          "color": "cornflowerblue",
          "width": 1.0090756983044573
         },
         "mode": "lines",
         "text": [
          "Bow and arrows--Dave Nessia: 2"
         ],
         "type": "scatter",
         "x": [
          -0.16943496807822672,
          -0.15819207581452197,
          null
         ],
         "y": [
          -0.04649303876929913,
          -0.32146331236271153,
          null
         ]
        },
        {
         "hoverinfo": "text",
         "line": {
          "color": "cornflowerblue",
          "width": 0.3
         },
         "mode": "lines",
         "text": [
          "Bow and arrows--Donny Dust: 1"
         ],
         "type": "scatter",
         "x": [
          -0.16943496807822672,
          -0.598389093734986,
          null
         ],
         "y": [
          -0.04649303876929913,
          -0.25104108361735633,
          null
         ]
        },
        {
         "hoverinfo": "text",
         "line": {
          "color": "cornflowerblue",
          "width": 0.3
         },
         "mode": "lines",
         "text": [
          "Bow and arrows--Greg Ovens: 1"
         ],
         "type": "scatter",
         "x": [
          -0.16943496807822672,
          0.5841134288357716,
          null
         ],
         "y": [
          -0.04649303876929913,
          0.05943423685498098,
          null
         ]
        },
        {
         "hoverinfo": "text",
         "line": {
          "color": "cornflowerblue",
          "width": 0.3
         },
         "mode": "lines",
         "text": [
          "Bow and arrows--Igor Limansky: 1"
         ],
         "type": "scatter",
         "x": [
          -0.16943496807822672,
          0.37559142637995513,
          null
         ],
         "y": [
          -0.04649303876929913,
          -0.2931818437887316,
          null
         ]
        },
        {
         "hoverinfo": "text",
         "line": {
          "color": "cornflowerblue",
          "width": 0.3
         },
         "mode": "lines",
         "text": [
          "Bow and arrows--Jacques Turcotte: 1"
         ],
         "type": "scatter",
         "x": [
          -0.16943496807822672,
          -0.49760574014961795,
          null
         ],
         "y": [
          -0.04649303876929913,
          0.3237406107058987,
          null
         ]
        },
        {
         "hoverinfo": "text",
         "line": {
          "color": "cornflowerblue",
          "width": 1.0090756983044573
         },
         "mode": "lines",
         "text": [
          "Bow and arrows--Jesse Bosdell: 2"
         ],
         "type": "scatter",
         "x": [
          -0.16943496807822672,
          0.1396216938016799,
          null
         ],
         "y": [
          -0.04649303876929913,
          0.5465408455237983,
          null
         ]
        },
        {
         "hoverinfo": "text",
         "line": {
          "color": "cornflowerblue",
          "width": 0.3
         },
         "mode": "lines",
         "text": [
          "Bow and arrows--Jessie Krebs: 1"
         ],
         "type": "scatter",
         "x": [
          -0.16943496807822672,
          -0.5892249398047921,
          null
         ],
         "y": [
          -0.04649303876929913,
          -0.6863070643601215,
          null
         ]
        },
        {
         "hoverinfo": "text",
         "line": {
          "color": "cornflowerblue",
          "width": 0.3
         },
         "mode": "lines",
         "text": [
          "Bow and arrows--Jim Baird: 1"
         ],
         "type": "scatter",
         "x": [
          -0.16943496807822672,
          -0.3638893093665568,
          null
         ],
         "y": [
          -0.04649303876929913,
          0.6380621974306803,
          null
         ]
        },
        {
         "hoverinfo": "text",
         "line": {
          "color": "cornflowerblue",
          "width": 0.3
         },
         "mode": "lines",
         "text": [
          "Bow and arrows--Joel Van Der Loon: 1"
         ],
         "type": "scatter",
         "x": [
          -0.16943496807822672,
          -0.5052226395097973,
          null
         ],
         "y": [
          -0.04649303876929913,
          -0.3745727323423614,
          null
         ]
        },
        {
         "hoverinfo": "text",
         "line": {
          "color": "cornflowerblue",
          "width": 0.3
         },
         "mode": "lines",
         "text": [
          "Bow and arrows--Jordan Jonas: 1"
         ],
         "type": "scatter",
         "x": [
          -0.16943496807822672,
          -0.7329533216627765,
          null
         ],
         "y": [
          -0.04649303876929913,
          -0.5533096892464248,
          null
         ]
        },
        {
         "hoverinfo": "text",
         "line": {
          "color": "cornflowerblue",
          "width": 0.3
         },
         "mode": "lines",
         "text": [
          "Bow and arrows--Jordon Bell: 1"
         ],
         "type": "scatter",
         "x": [
          -0.16943496807822672,
          -0.07672216484877323,
          null
         ],
         "y": [
          -0.04649303876929913,
          0.6679323572140383,
          null
         ]
        },
        {
         "hoverinfo": "text",
         "line": {
          "color": "cornflowerblue",
          "width": 0.3
         },
         "mode": "lines",
         "text": [
          "Bow and arrows--Josh Chavez: 1"
         ],
         "type": "scatter",
         "x": [
          -0.16943496807822672,
          0.42205675328593906,
          null
         ],
         "y": [
          -0.04649303876929913,
          -0.6797172750600777,
          null
         ]
        },
        {
         "hoverinfo": "text",
         "line": {
          "color": "cornflowerblue",
          "width": 0.3
         },
         "mode": "lines",
         "text": [
          "Bow and arrows--Juan Pablo Quinonez: 1"
         ],
         "type": "scatter",
         "x": [
          -0.16943496807822672,
          0.3573511980627373,
          null
         ],
         "y": [
          -0.04649303876929913,
          0.26989400434930627,
          null
         ]
        },
        {
         "hoverinfo": "text",
         "line": {
          "color": "cornflowerblue",
          "width": 0.3
         },
         "mode": "lines",
         "text": [
          "Bow and arrows--Karie Lee Knoke: 1"
         ],
         "type": "scatter",
         "x": [
          -0.16943496807822672,
          0.2534601432680607,
          null
         ],
         "y": [
          -0.04649303876929913,
          -0.5671790990454183,
          null
         ]
        },
        {
         "hoverinfo": "text",
         "line": {
          "color": "cornflowerblue",
          "width": 0.3
         },
         "mode": "lines",
         "text": [
          "Bow and arrows--Keith Syers: 1"
         ],
         "type": "scatter",
         "x": [
          -0.16943496807822672,
          -0.30492698698095455,
          null
         ],
         "y": [
          -0.04649303876929913,
          -0.7701979405779571,
          null
         ]
        },
        {
         "hoverinfo": "text",
         "line": {
          "color": "cornflowerblue",
          "width": 0.3
         },
         "mode": "lines",
         "text": [
          "Bow and arrows--Kielyn Marrone: 1"
         ],
         "type": "scatter",
         "x": [
          -0.16943496807822672,
          0.16370592574901813,
          null
         ],
         "y": [
          -0.04649303876929913,
          0.4688551620748274,
          null
         ]
        },
        {
         "hoverinfo": "text",
         "line": {
          "color": "cornflowerblue",
          "width": 0.3
         },
         "mode": "lines",
         "text": [
          "Bow and arrows--Logan Ribar: 1"
         ],
         "type": "scatter",
         "x": [
          -0.16943496807822672,
          0.008267981975036148,
          null
         ],
         "y": [
          -0.04649303876929913,
          -0.4928787114965203,
          null
         ]
        },
        {
         "hoverinfo": "text",
         "line": {
          "color": "cornflowerblue",
          "width": 0.3
         },
         "mode": "lines",
         "text": [
          "Bow and arrows--Mark D'Ambrosio: 1"
         ],
         "type": "scatter",
         "x": [
          -0.16943496807822672,
          -0.821198931605355,
          null
         ],
         "y": [
          -0.04649303876929913,
          0.251707705900538,
          null
         ]
        },
        {
         "hoverinfo": "text",
         "line": {
          "color": "cornflowerblue",
          "width": 0.3
         },
         "mode": "lines",
         "text": [
          "Bow and arrows--Matt Corradino: 1"
         ],
         "type": "scatter",
         "x": [
          -0.16943496807822672,
          -0.20064253198025278,
          null
         ],
         "y": [
          -0.04649303876929913,
          0.7105100559961994,
          null
         ]
        },
        {
         "hoverinfo": "text",
         "line": {
          "color": "cornflowerblue",
          "width": 0.3
         },
         "mode": "lines",
         "text": [
          "Bow and arrows--Michelle Finn: 1"
         ],
         "type": "scatter",
         "x": [
          -0.16943496807822672,
          -0.6045440501381834,
          null
         ],
         "y": [
          -0.04649303876929913,
          -0.48305458918849853,
          null
         ]
        },
        {
         "hoverinfo": "text",
         "line": {
          "color": "cornflowerblue",
          "width": 0.3
         },
         "mode": "lines",
         "text": [
          "Bow and arrows--Mitch Mitchell: 1"
         ],
         "type": "scatter",
         "x": [
          -0.16943496807822672,
          0.37283882745591235,
          null
         ],
         "y": [
          -0.04649303876929913,
          -0.8430629943724753,
          null
         ]
        },
        {
         "hoverinfo": "text",
         "line": {
          "color": "cornflowerblue",
          "width": 0.3
         },
         "mode": "lines",
         "text": [
          "Bow and arrows--Nate Weber: 1"
         ],
         "type": "scatter",
         "x": [
          -0.16943496807822672,
          -0.7150813604179511,
          null
         ],
         "y": [
          -0.04649303876929913,
          0.03847680432140553,
          null
         ]
        },
        {
         "hoverinfo": "text",
         "line": {
          "color": "cornflowerblue",
          "width": 0.3
         },
         "mode": "lines",
         "text": [
          "Bow and arrows--Nathan Donnelly: 1"
         ],
         "type": "scatter",
         "x": [
          -0.16943496807822672,
          -0.2932939089011811,
          null
         ],
         "y": [
          -0.04649303876929913,
          -0.5842392372509401,
          null
         ]
        },
        {
         "hoverinfo": "text",
         "line": {
          "color": "cornflowerblue",
          "width": 0.3
         },
         "mode": "lines",
         "text": [
          "Bow and arrows--Nikki van Schyndel: 1"
         ],
         "type": "scatter",
         "x": [
          -0.16943496807822672,
          -0.44888430898162773,
          null
         ],
         "y": [
          -0.04649303876929913,
          -0.5754517487206505,
          null
         ]
        },
        {
         "hoverinfo": "text",
         "line": {
          "color": "cornflowerblue",
          "width": 1.0090756983044573
         },
         "mode": "lines",
         "text": [
          "Bow and arrows--Randy Champagne: 2"
         ],
         "type": "scatter",
         "x": [
          -0.16943496807822672,
          -0.349304559305111,
          null
         ],
         "y": [
          -0.04649303876929913,
          -0.20173770295454785,
          null
         ]
        },
        {
         "hoverinfo": "text",
         "line": {
          "color": "cornflowerblue",
          "width": 0.3
         },
         "mode": "lines",
         "text": [
          "Bow and arrows--Ray Livingston: 1"
         ],
         "type": "scatter",
         "x": [
          -0.16943496807822672,
          0.4861611815391165,
          null
         ],
         "y": [
          -0.04649303876929913,
          -0.14717529162435514,
          null
         ]
        },
        {
         "hoverinfo": "text",
         "line": {
          "color": "cornflowerblue",
          "width": 0.3
         },
         "mode": "lines",
         "text": [
          "Bow and arrows--Roland Welker: 1"
         ],
         "type": "scatter",
         "x": [
          -0.16943496807822672,
          -0.6803277873559646,
          null
         ],
         "y": [
          -0.04649303876929913,
          0.14388344051599708,
          null
         ]
        },
        {
         "hoverinfo": "text",
         "line": {
          "color": "cornflowerblue",
          "width": 0.3
         },
         "mode": "lines",
         "text": [
          "Bow and arrows--Rose Anna Moore: 1"
         ],
         "type": "scatter",
         "x": [
          -0.16943496807822672,
          -0.5806984395819331,
          null
         ],
         "y": [
          -0.04649303876929913,
          0.5741478282855389,
          null
         ]
        },
        {
         "hoverinfo": "text",
         "line": {
          "color": "cornflowerblue",
          "width": 0.3
         },
         "mode": "lines",
         "text": [
          "Bow and arrows--Sam Larson: 1"
         ],
         "type": "scatter",
         "x": [
          -0.16943496807822672,
          -0.1820735822325081,
          null
         ],
         "y": [
          -0.04649303876929913,
          0.3266028819567148,
          null
         ]
        },
        {
         "hoverinfo": "text",
         "line": {
          "color": "cornflowerblue",
          "width": 0.3
         },
         "mode": "lines",
         "text": [
          "Bow and arrows--Shannon Bosdell: 1"
         ],
         "type": "scatter",
         "x": [
          -0.16943496807822672,
          0.08408647256603534,
          null
         ],
         "y": [
          -0.04649303876929913,
          0.8278971316131882,
          null
         ]
        },
        {
         "hoverinfo": "text",
         "line": {
          "color": "cornflowerblue",
          "width": 0.3
         },
         "mode": "lines",
         "text": [
          "Bow and arrows--Shawn Helton: 1"
         ],
         "type": "scatter",
         "x": [
          -0.16943496807822672,
          -0.43802320462146654,
          null
         ],
         "y": [
          -0.04649303876929913,
          -0.7462571818068016,
          null
         ]
        },
        {
         "hoverinfo": "text",
         "line": {
          "color": "cornflowerblue",
          "width": 0.3
         },
         "mode": "lines",
         "text": [
          "Bow and arrows--Ted Baird: 1"
         ],
         "type": "scatter",
         "x": [
          -0.16943496807822672,
          0.42021163583332416,
          null
         ],
         "y": [
          -0.04649303876929913,
          0.6306063918738846,
          null
         ]
        },
        {
         "hoverinfo": "text",
         "line": {
          "color": "cornflowerblue",
          "width": 0.3
         },
         "mode": "lines",
         "text": [
          "Bow and arrows--Teimojin Tan: 1"
         ],
         "type": "scatter",
         "x": [
          -0.16943496807822672,
          -0.6574377690196297,
          null
         ],
         "y": [
          -0.04649303876929913,
          0.3744098743947772,
          null
         ]
        },
        {
         "hoverinfo": "text",
         "line": {
          "color": "cornflowerblue",
          "width": 0.3
         },
         "mode": "lines",
         "text": [
          "Bow and arrows--Terry Burns: 1"
         ],
         "type": "scatter",
         "x": [
          -0.16943496807822672,
          0.13251353954568354,
          null
         ],
         "y": [
          -0.04649303876929913,
          -0.6593339851762245,
          null
         ]
        },
        {
         "hoverinfo": "text",
         "line": {
          "color": "cornflowerblue",
          "width": 0.3
         },
         "mode": "lines",
         "text": [
          "Bow and arrows--Theresa Emmerich Kamper: 1"
         ],
         "type": "scatter",
         "x": [
          -0.16943496807822672,
          -0.5954419455642739,
          null
         ],
         "y": [
          -0.04649303876929913,
          -0.030911466412550843,
          null
         ]
        },
        {
         "hoverinfo": "text",
         "line": {
          "color": "cornflowerblue",
          "width": 0.3
         },
         "mode": "lines",
         "text": [
          "Bow and arrows--Tim Backus: 1"
         ],
         "type": "scatter",
         "x": [
          -0.16943496807822672,
          -0.8346955697213538,
          null
         ],
         "y": [
          -0.04649303876929913,
          -0.2072659581108296,
          null
         ]
        },
        {
         "hoverinfo": "text",
         "line": {
          "color": "cornflowerblue",
          "width": 0.3
         },
         "mode": "lines",
         "text": [
          "Bow and arrows--Tim Madsen: 1"
         ],
         "type": "scatter",
         "x": [
          -0.16943496807822672,
          0.46464938444806847,
          null
         ],
         "y": [
          -0.04649303876929913,
          0.03696312994248573,
          null
         ]
        },
        {
         "hoverinfo": "text",
         "line": {
          "color": "cornflowerblue",
          "width": 0.3
         },
         "mode": "lines",
         "text": [
          "Bow and arrows--Tom Garstang: 1"
         ],
         "type": "scatter",
         "x": [
          -0.16943496807822672,
          -0.7017971597054672,
          null
         ],
         "y": [
          -0.04649303876929913,
          0.25367816904649765,
          null
         ]
        },
        {
         "hoverinfo": "text",
         "line": {
          "color": "cornflowerblue",
          "width": 0.3
         },
         "mode": "lines",
         "text": [
          "Bow and arrows--Woniya Thibeault: 1"
         ],
         "type": "scatter",
         "x": [
          -0.16943496807822672,
          -0.7325621231282693,
          null
         ],
         "y": [
          -0.04649303876929913,
          -0.30412075447223474,
          null
         ]
        },
        {
         "hoverinfo": "text",
         "line": {
          "color": "cornflowerblue",
          "width": 0.3
         },
         "mode": "lines",
         "text": [
          "Canteen--Alan Kay: 1"
         ],
         "type": "scatter",
         "x": [
          0.557371133007092,
          0.815066799980723,
          null
         ],
         "y": [
          1,
          0.3326460444066763,
          null
         ]
        },
        {
         "hoverinfo": "text",
         "line": {
          "color": "cornflowerblue",
          "width": 0.3
         },
         "mode": "lines",
         "text": [
          "Canteen--Brad Richardson: 1"
         ],
         "type": "scatter",
         "x": [
          0.557371133007092,
          0.05984641461518838,
          null
         ],
         "y": [
          1,
          0.4399290105576108,
          null
         ]
        },
        {
         "hoverinfo": "text",
         "line": {
          "color": "cornflowerblue",
          "width": 1.0090756983044573
         },
         "mode": "lines",
         "text": [
          "Canteen--Carleigh Fairchild: 2"
         ],
         "type": "scatter",
         "x": [
          0.557371133007092,
          0.20924019981298217,
          null
         ],
         "y": [
          1,
          0.3284587939178709,
          null
         ]
        },
        {
         "hoverinfo": "text",
         "line": {
          "color": "cornflowerblue",
          "width": 0.3
         },
         "mode": "lines",
         "text": [
          "Canteen--Chris Weatherman: 1"
         ],
         "type": "scatter",
         "x": [
          0.557371133007092,
          0.6762748571438286,
          null
         ],
         "y": [
          1,
          -0.10771672290687707,
          null
         ]
        },
        {
         "hoverinfo": "text",
         "line": {
          "color": "cornflowerblue",
          "width": 0.3
         },
         "mode": "lines",
         "text": [
          "Canteen--Dustin Feher: 1"
         ],
         "type": "scatter",
         "x": [
          0.557371133007092,
          -0.0459491427761949,
          null
         ],
         "y": [
          1,
          0.8062427035953487,
          null
         ]
        },
        {
         "hoverinfo": "text",
         "line": {
          "color": "cornflowerblue",
          "width": 1.0090756983044573
         },
         "mode": "lines",
         "text": [
          "Canteen--Jesse Bosdell: 2"
         ],
         "type": "scatter",
         "x": [
          0.557371133007092,
          0.1396216938016799,
          null
         ],
         "y": [
          1,
          0.5465408455237983,
          null
         ]
        },
        {
         "hoverinfo": "text",
         "line": {
          "color": "cornflowerblue",
          "width": 0.3
         },
         "mode": "lines",
         "text": [
          "Canteen--Joe Nicholas: 1"
         ],
         "type": "scatter",
         "x": [
          0.557371133007092,
          0.4703725737274096,
          null
         ],
         "y": [
          1,
          0.43497154517033965,
          null
         ]
        },
        {
         "hoverinfo": "text",
         "line": {
          "color": "cornflowerblue",
          "width": 0.3
         },
         "mode": "lines",
         "text": [
          "Canteen--Josh Richardson: 1"
         ],
         "type": "scatter",
         "x": [
          0.557371133007092,
          0.42259581982357375,
          null
         ],
         "y": [
          1,
          0.8708308529937877,
          null
         ]
        },
        {
         "hoverinfo": "text",
         "line": {
          "color": "cornflowerblue",
          "width": 0.3
         },
         "mode": "lines",
         "text": [
          "Canteen--Matt Corradino: 1"
         ],
         "type": "scatter",
         "x": [
          0.557371133007092,
          -0.20064253198025278,
          null
         ],
         "y": [
          1,
          0.7105100559961994,
          null
         ]
        },
        {
         "hoverinfo": "text",
         "line": {
          "color": "cornflowerblue",
          "width": 0.3
         },
         "mode": "lines",
         "text": [
          "Canteen--Shannon Bosdell: 1"
         ],
         "type": "scatter",
         "x": [
          0.557371133007092,
          0.08408647256603534,
          null
         ],
         "y": [
          1,
          0.8278971316131882,
          null
         ]
        },
        {
         "hoverinfo": "text",
         "line": {
          "color": "cornflowerblue",
          "width": 0.3
         },
         "mode": "lines",
         "text": [
          "Ferro rod--Adam Riley: 1"
         ],
         "type": "scatter",
         "x": [
          -0.07980588189704754,
          0.4231282311244024,
          null
         ],
         "y": [
          -0.07984210088416017,
          -0.4816436280899793,
          null
         ]
        },
        {
         "hoverinfo": "text",
         "line": {
          "color": "cornflowerblue",
          "width": 0.3
         },
         "mode": "lines",
         "text": [
          "Ferro rod--Alan Kay: 1"
         ],
         "type": "scatter",
         "x": [
          -0.07980588189704754,
          0.815066799980723,
          null
         ],
         "y": [
          -0.07984210088416017,
          0.3326460444066763,
          null
         ]
        },
        {
         "hoverinfo": "text",
         "line": {
          "color": "cornflowerblue",
          "width": 0.3
         },
         "mode": "lines",
         "text": [
          "Ferro rod--Amos Rodriguez: 1"
         ],
         "type": "scatter",
         "x": [
          -0.07980588189704754,
          0.0682803892041071,
          null
         ],
         "y": [
          -0.07984210088416017,
          -0.7245285080827909,
          null
         ]
        },
        {
         "hoverinfo": "text",
         "line": {
          "color": "cornflowerblue",
          "width": 0.3
         },
         "mode": "lines",
         "text": [
          "Ferro rod--Barry Karcher: 1"
         ],
         "type": "scatter",
         "x": [
          -0.07980588189704754,
          -0.03751998498056549,
          null
         ],
         "y": [
          -0.07984210088416017,
          -0.6563629833878613,
          null
         ]
        },
        {
         "hoverinfo": "text",
         "line": {
          "color": "cornflowerblue",
          "width": 0.3
         },
         "mode": "lines",
         "text": [
          "Ferro rod--Benki Hill: 1"
         ],
         "type": "scatter",
         "x": [
          -0.07980588189704754,
          -0.7675888778670847,
          null
         ],
         "y": [
          -0.07984210088416017,
          0.46054709803718463,
          null
         ]
        },
        {
         "hoverinfo": "text",
         "line": {
          "color": "cornflowerblue",
          "width": 0.3
         },
         "mode": "lines",
         "text": [
          "Ferro rod--Biko Wright: 1"
         ],
         "type": "scatter",
         "x": [
          -0.07980588189704754,
          0.48312640249247935,
          null
         ],
         "y": [
          -0.07984210088416017,
          -0.31655373770660206,
          null
         ]
        },
        {
         "hoverinfo": "text",
         "line": {
          "color": "cornflowerblue",
          "width": 0.3
         },
         "mode": "lines",
         "text": [
          "Ferro rod--Brad Richardson: 1"
         ],
         "type": "scatter",
         "x": [
          -0.07980588189704754,
          0.05984641461518838,
          null
         ],
         "y": [
          -0.07984210088416017,
          0.4399290105576108,
          null
         ]
        },
        {
         "hoverinfo": "text",
         "line": {
          "color": "cornflowerblue",
          "width": 0.3
         },
         "mode": "lines",
         "text": [
          "Ferro rod--Brady Nicholls: 1"
         ],
         "type": "scatter",
         "x": [
          -0.07980588189704754,
          0.13346439365291393,
          null
         ],
         "y": [
          -0.07984210088416017,
          -0.4829246395259961,
          null
         ]
        },
        {
         "hoverinfo": "text",
         "line": {
          "color": "cornflowerblue",
          "width": 0.3
         },
         "mode": "lines",
         "text": [
          "Ferro rod--Brant McGee: 1"
         ],
         "type": "scatter",
         "x": [
          -0.07980588189704754,
          0.6015230857860889,
          null
         ],
         "y": [
          -0.07984210088416017,
          -0.4155406048086862,
          null
         ]
        },
        {
         "hoverinfo": "text",
         "line": {
          "color": "cornflowerblue",
          "width": 1.0090756983044573
         },
         "mode": "lines",
         "text": [
          "Ferro rod--Britt Ahart: 2"
         ],
         "type": "scatter",
         "x": [
          -0.07980588189704754,
          -0.2497631631785479,
          null
         ],
         "y": [
          -0.07984210088416017,
          -0.41853936522327173,
          null
         ]
        },
        {
         "hoverinfo": "text",
         "line": {
          "color": "cornflowerblue",
          "width": 0.3
         },
         "mode": "lines",
         "text": [
          "Ferro rod--Brooke Whipple: 1"
         ],
         "type": "scatter",
         "x": [
          -0.07980588189704754,
          -0.06443041586361846,
          null
         ],
         "y": [
          -0.07984210088416017,
          0.43698357904344115,
          null
         ]
        },
        {
         "hoverinfo": "text",
         "line": {
          "color": "cornflowerblue",
          "width": 0.3
         },
         "mode": "lines",
         "text": [
          "Ferro rod--Callie North: 1"
         ],
         "type": "scatter",
         "x": [
          -0.07980588189704754,
          0.7069818503900434,
          null
         ],
         "y": [
          -0.07984210088416017,
          -0.38322354353375715,
          null
         ]
        },
        {
         "hoverinfo": "text",
         "line": {
          "color": "cornflowerblue",
          "width": 0.3
         },
         "mode": "lines",
         "text": [
          "Ferro rod--Callie Russell: 1"
         ],
         "type": "scatter",
         "x": [
          -0.07980588189704754,
          -0.40911892652294085,
          null
         ],
         "y": [
          -0.07984210088416017,
          0.4678098215325018,
          null
         ]
        },
        {
         "hoverinfo": "text",
         "line": {
          "color": "cornflowerblue",
          "width": 1.0090756983044573
         },
         "mode": "lines",
         "text": [
          "Ferro rod--Carleigh Fairchild: 2"
         ],
         "type": "scatter",
         "x": [
          -0.07980588189704754,
          0.20924019981298217,
          null
         ],
         "y": [
          -0.07984210088416017,
          0.3284587939178709,
          null
         ]
        },
        {
         "hoverinfo": "text",
         "line": {
          "color": "cornflowerblue",
          "width": 0.3
         },
         "mode": "lines",
         "text": [
          "Ferro rod--Chris Weatherman: 1"
         ],
         "type": "scatter",
         "x": [
          -0.07980588189704754,
          0.6762748571438286,
          null
         ],
         "y": [
          -0.07984210088416017,
          -0.10771672290687707,
          null
         ]
        },
        {
         "hoverinfo": "text",
         "line": {
          "color": "cornflowerblue",
          "width": 0.3
         },
         "mode": "lines",
         "text": [
          "Ferro rod--Clay Hayes: 1"
         ],
         "type": "scatter",
         "x": [
          -0.07980588189704754,
          -0.5667181352988339,
          null
         ],
         "y": [
          -0.07984210088416017,
          0.46031393361436546,
          null
         ]
        },
        {
         "hoverinfo": "text",
         "line": {
          "color": "cornflowerblue",
          "width": 0.3
         },
         "mode": "lines",
         "text": [
          "Ferro rod--Correy Hawk: 1"
         ],
         "type": "scatter",
         "x": [
          -0.07980588189704754,
          -0.72740767404415,
          null
         ],
         "y": [
          -0.07984210088416017,
          -0.42716753086886317,
          null
         ]
        },
        {
         "hoverinfo": "text",
         "line": {
          "color": "cornflowerblue",
          "width": 0.3
         },
         "mode": "lines",
         "text": [
          "Ferro rod--Dan Wowak: 1"
         ],
         "type": "scatter",
         "x": [
          -0.07980588189704754,
          -0.12721075638771265,
          null
         ],
         "y": [
          -0.07984210088416017,
          -0.806965295635513,
          null
         ]
        },
        {
         "hoverinfo": "text",
         "line": {
          "color": "cornflowerblue",
          "width": 1.0090756983044573
         },
         "mode": "lines",
         "text": [
          "Ferro rod--Dave Nessia: 2"
         ],
         "type": "scatter",
         "x": [
          -0.07980588189704754,
          -0.15819207581452197,
          null
         ],
         "y": [
          -0.07984210088416017,
          -0.32146331236271153,
          null
         ]
        },
        {
         "hoverinfo": "text",
         "line": {
          "color": "cornflowerblue",
          "width": 0.3
         },
         "mode": "lines",
         "text": [
          "Ferro rod--David McIntyre: 1"
         ],
         "type": "scatter",
         "x": [
          -0.07980588189704754,
          0.6112918996834296,
          null
         ],
         "y": [
          -0.07984210088416017,
          -0.5735080525836848,
          null
         ]
        },
        {
         "hoverinfo": "text",
         "line": {
          "color": "cornflowerblue",
          "width": 0.3
         },
         "mode": "lines",
         "text": [
          "Ferro rod--Desmond White: 1"
         ],
         "type": "scatter",
         "x": [
          -0.07980588189704754,
          0.8644714148065687,
          null
         ],
         "y": [
          -0.07984210088416017,
          -0.08364130560083073,
          null
         ]
        },
        {
         "hoverinfo": "text",
         "line": {
          "color": "cornflowerblue",
          "width": 0.3
         },
         "mode": "lines",
         "text": [
          "Ferro rod--Donny Dust: 1"
         ],
         "type": "scatter",
         "x": [
          -0.07980588189704754,
          -0.598389093734986,
          null
         ],
         "y": [
          -0.07984210088416017,
          -0.25104108361735633,
          null
         ]
        },
        {
         "hoverinfo": "text",
         "line": {
          "color": "cornflowerblue",
          "width": 0.3
         },
         "mode": "lines",
         "text": [
          "Ferro rod--Dustin Feher: 1"
         ],
         "type": "scatter",
         "x": [
          -0.07980588189704754,
          -0.0459491427761949,
          null
         ],
         "y": [
          -0.07984210088416017,
          0.8062427035953487,
          null
         ]
        },
        {
         "hoverinfo": "text",
         "line": {
          "color": "cornflowerblue",
          "width": 0.3
         },
         "mode": "lines",
         "text": [
          "Ferro rod--Greg Ovens: 1"
         ],
         "type": "scatter",
         "x": [
          -0.07980588189704754,
          0.5841134288357716,
          null
         ],
         "y": [
          -0.07984210088416017,
          0.05943423685498098,
          null
         ]
        },
        {
         "hoverinfo": "text",
         "line": {
          "color": "cornflowerblue",
          "width": 0.3
         },
         "mode": "lines",
         "text": [
          "Ferro rod--Igor Limansky: 1"
         ],
         "type": "scatter",
         "x": [
          -0.07980588189704754,
          0.37559142637995513,
          null
         ],
         "y": [
          -0.07984210088416017,
          -0.2931818437887316,
          null
         ]
        },
        {
         "hoverinfo": "text",
         "line": {
          "color": "cornflowerblue",
          "width": 0.3
         },
         "mode": "lines",
         "text": [
          "Ferro rod--Jacques Turcotte: 1"
         ],
         "type": "scatter",
         "x": [
          -0.07980588189704754,
          -0.49760574014961795,
          null
         ],
         "y": [
          -0.07984210088416017,
          0.3237406107058987,
          null
         ]
        },
        {
         "hoverinfo": "text",
         "line": {
          "color": "cornflowerblue",
          "width": 0.3
         },
         "mode": "lines",
         "text": [
          "Ferro rod--Jesse Bosdell: 1"
         ],
         "type": "scatter",
         "x": [
          -0.07980588189704754,
          0.1396216938016799,
          null
         ],
         "y": [
          -0.07984210088416017,
          0.5465408455237983,
          null
         ]
        },
        {
         "hoverinfo": "text",
         "line": {
          "color": "cornflowerblue",
          "width": 0.3
         },
         "mode": "lines",
         "text": [
          "Ferro rod--Jessie Krebs: 1"
         ],
         "type": "scatter",
         "x": [
          -0.07980588189704754,
          -0.5892249398047921,
          null
         ],
         "y": [
          -0.07984210088416017,
          -0.6863070643601215,
          null
         ]
        },
        {
         "hoverinfo": "text",
         "line": {
          "color": "cornflowerblue",
          "width": 0.3
         },
         "mode": "lines",
         "text": [
          "Ferro rod--Jim Shields: 1"
         ],
         "type": "scatter",
         "x": [
          -0.07980588189704754,
          -0.17887445516937944,
          null
         ],
         "y": [
          -0.07984210088416017,
          -0.6437854388020003,
          null
         ]
        },
        {
         "hoverinfo": "text",
         "line": {
          "color": "cornflowerblue",
          "width": 0.3
         },
         "mode": "lines",
         "text": [
          "Ferro rod--Joe Nicholas: 1"
         ],
         "type": "scatter",
         "x": [
          -0.07980588189704754,
          0.4703725737274096,
          null
         ],
         "y": [
          -0.07984210088416017,
          0.43497154517033965,
          null
         ]
        },
        {
         "hoverinfo": "text",
         "line": {
          "color": "cornflowerblue",
          "width": 0.3
         },
         "mode": "lines",
         "text": [
          "Ferro rod--Joe Robinet: 1"
         ],
         "type": "scatter",
         "x": [
          -0.07980588189704754,
          0.7457519403244229,
          null
         ],
         "y": [
          -0.07984210088416017,
          -0.0797431498192736,
          null
         ]
        },
        {
         "hoverinfo": "text",
         "line": {
          "color": "cornflowerblue",
          "width": 0.3
         },
         "mode": "lines",
         "text": [
          "Ferro rod--Joel Van Der Loon: 1"
         ],
         "type": "scatter",
         "x": [
          -0.07980588189704754,
          -0.5052226395097973,
          null
         ],
         "y": [
          -0.07984210088416017,
          -0.3745727323423614,
          null
         ]
        },
        {
         "hoverinfo": "text",
         "line": {
          "color": "cornflowerblue",
          "width": 0.3
         },
         "mode": "lines",
         "text": [
          "Ferro rod--Jordan Jonas: 1"
         ],
         "type": "scatter",
         "x": [
          -0.07980588189704754,
          -0.7329533216627765,
          null
         ],
         "y": [
          -0.07984210088416017,
          -0.5533096892464248,
          null
         ]
        },
        {
         "hoverinfo": "text",
         "line": {
          "color": "cornflowerblue",
          "width": 0.3
         },
         "mode": "lines",
         "text": [
          "Ferro rod--Jordon Bell: 1"
         ],
         "type": "scatter",
         "x": [
          -0.07980588189704754,
          -0.07672216484877323,
          null
         ],
         "y": [
          -0.07984210088416017,
          0.6679323572140383,
          null
         ]
        },
        {
         "hoverinfo": "text",
         "line": {
          "color": "cornflowerblue",
          "width": 0.3
         },
         "mode": "lines",
         "text": [
          "Ferro rod--Jose Martinez Amoedo: 1"
         ],
         "type": "scatter",
         "x": [
          -0.07980588189704754,
          -0.6319766270688345,
          null
         ],
         "y": [
          -0.07984210088416017,
          -0.13472354967767763,
          null
         ]
        },
        {
         "hoverinfo": "text",
         "line": {
          "color": "cornflowerblue",
          "width": 0.3
         },
         "mode": "lines",
         "text": [
          "Ferro rod--Josh Chavez: 1"
         ],
         "type": "scatter",
         "x": [
          -0.07980588189704754,
          0.42205675328593906,
          null
         ],
         "y": [
          -0.07984210088416017,
          -0.6797172750600777,
          null
         ]
        },
        {
         "hoverinfo": "text",
         "line": {
          "color": "cornflowerblue",
          "width": 0.3
         },
         "mode": "lines",
         "text": [
          "Ferro rod--Juan Pablo Quinonez: 1"
         ],
         "type": "scatter",
         "x": [
          -0.07980588189704754,
          0.3573511980627373,
          null
         ],
         "y": [
          -0.07984210088416017,
          0.26989400434930627,
          null
         ]
        },
        {
         "hoverinfo": "text",
         "line": {
          "color": "cornflowerblue",
          "width": 0.3
         },
         "mode": "lines",
         "text": [
          "Ferro rod--Justin Vititoe: 1"
         ],
         "type": "scatter",
         "x": [
          -0.07980588189704754,
          0.16096581098835464,
          null
         ],
         "y": [
          -0.07984210088416017,
          0.9041150378816133,
          null
         ]
        },
        {
         "hoverinfo": "text",
         "line": {
          "color": "cornflowerblue",
          "width": 0.3
         },
         "mode": "lines",
         "text": [
          "Ferro rod--Karie Lee Knoke: 1"
         ],
         "type": "scatter",
         "x": [
          -0.07980588189704754,
          0.2534601432680607,
          null
         ],
         "y": [
          -0.07984210088416017,
          -0.5671790990454183,
          null
         ]
        },
        {
         "hoverinfo": "text",
         "line": {
          "color": "cornflowerblue",
          "width": 0.3
         },
         "mode": "lines",
         "text": [
          "Ferro rod--Keith Syers: 1"
         ],
         "type": "scatter",
         "x": [
          -0.07980588189704754,
          -0.30492698698095455,
          null
         ],
         "y": [
          -0.07984210088416017,
          -0.7701979405779571,
          null
         ]
        },
        {
         "hoverinfo": "text",
         "line": {
          "color": "cornflowerblue",
          "width": 0.3
         },
         "mode": "lines",
         "text": [
          "Ferro rod--Kielyn Marrone: 1"
         ],
         "type": "scatter",
         "x": [
          -0.07980588189704754,
          0.16370592574901813,
          null
         ],
         "y": [
          -0.07984210088416017,
          0.4688551620748274,
          null
         ]
        },
        {
         "hoverinfo": "text",
         "line": {
          "color": "cornflowerblue",
          "width": 1.0090756983044573
         },
         "mode": "lines",
         "text": [
          "Ferro rod--Larry Roberts: 2"
         ],
         "type": "scatter",
         "x": [
          -0.07980588189704754,
          -0.3364232797862773,
          null
         ],
         "y": [
          -0.07984210088416017,
          0.16502950099272184,
          null
         ]
        },
        {
         "hoverinfo": "text",
         "line": {
          "color": "cornflowerblue",
          "width": 0.3
         },
         "mode": "lines",
         "text": [
          "Ferro rod--Lucas Miller: 1"
         ],
         "type": "scatter",
         "x": [
          -0.07980588189704754,
          0.3131108731926996,
          null
         ],
         "y": [
          -0.07984210088416017,
          0.6838900750220774,
          null
         ]
        },
        {
         "hoverinfo": "text",
         "line": {
          "color": "cornflowerblue",
          "width": 0.3
         },
         "mode": "lines",
         "text": [
          "Ferro rod--Mark D'Ambrosio: 1"
         ],
         "type": "scatter",
         "x": [
          -0.07980588189704754,
          -0.821198931605355,
          null
         ],
         "y": [
          -0.07984210088416017,
          0.251707705900538,
          null
         ]
        },
        {
         "hoverinfo": "text",
         "line": {
          "color": "cornflowerblue",
          "width": 0.3
         },
         "mode": "lines",
         "text": [
          "Ferro rod--Mary Kate Green: 1"
         ],
         "type": "scatter",
         "x": [
          -0.07980588189704754,
          0.7646608077190291,
          null
         ],
         "y": [
          -0.07984210088416017,
          0.10192847172652374,
          null
         ]
        },
        {
         "hoverinfo": "text",
         "line": {
          "color": "cornflowerblue",
          "width": 0.3
         },
         "mode": "lines",
         "text": [
          "Ferro rod--Megan Hanacek: 1"
         ],
         "type": "scatter",
         "x": [
          -0.07980588189704754,
          0.3580733953966105,
          null
         ],
         "y": [
          -0.07984210088416017,
          0.5328785899573018,
          null
         ]
        },
        {
         "hoverinfo": "text",
         "line": {
          "color": "cornflowerblue",
          "width": 0.3
         },
         "mode": "lines",
         "text": [
          "Ferro rod--Michelle Finn: 1"
         ],
         "type": "scatter",
         "x": [
          -0.07980588189704754,
          -0.6045440501381834,
          null
         ],
         "y": [
          -0.07984210088416017,
          -0.48305458918849853,
          null
         ]
        },
        {
         "hoverinfo": "text",
         "line": {
          "color": "cornflowerblue",
          "width": 0.3
         },
         "mode": "lines",
         "text": [
          "Ferro rod--Michelle Wohlberg: 1"
         ],
         "type": "scatter",
         "x": [
          -0.07980588189704754,
          -0.1938042578318345,
          null
         ],
         "y": [
          -0.07984210088416017,
          0.5902316390105835,
          null
         ]
        },
        {
         "hoverinfo": "text",
         "line": {
          "color": "cornflowerblue",
          "width": 0.3
         },
         "mode": "lines",
         "text": [
          "Ferro rod--Mike Lowe: 1"
         ],
         "type": "scatter",
         "x": [
          -0.07980588189704754,
          0.30262084802000055,
          null
         ],
         "y": [
          -0.07984210088416017,
          -0.6900817037865407,
          null
         ]
        },
        {
         "hoverinfo": "text",
         "line": {
          "color": "cornflowerblue",
          "width": 0.3
         },
         "mode": "lines",
         "text": [
          "Ferro rod--Mitch Mitchell: 1"
         ],
         "type": "scatter",
         "x": [
          -0.07980588189704754,
          0.37283882745591235,
          null
         ],
         "y": [
          -0.07984210088416017,
          -0.8430629943724753,
          null
         ]
        },
        {
         "hoverinfo": "text",
         "line": {
          "color": "cornflowerblue",
          "width": 0.3
         },
         "mode": "lines",
         "text": [
          "Ferro rod--Nate Weber: 1"
         ],
         "type": "scatter",
         "x": [
          -0.07980588189704754,
          -0.7150813604179511,
          null
         ],
         "y": [
          -0.07984210088416017,
          0.03847680432140553,
          null
         ]
        },
        {
         "hoverinfo": "text",
         "line": {
          "color": "cornflowerblue",
          "width": 1.0090756983044573
         },
         "mode": "lines",
         "text": [
          "Ferro rod--Nicole Apelian: 2"
         ],
         "type": "scatter",
         "x": [
          -0.07980588189704754,
          0.26878954826134965,
          null
         ],
         "y": [
          -0.07984210088416017,
          -0.20623505651882393,
          null
         ]
        },
        {
         "hoverinfo": "text",
         "line": {
          "color": "cornflowerblue",
          "width": 0.3
         },
         "mode": "lines",
         "text": [
          "Ferro rod--Nikki van Schyndel: 1"
         ],
         "type": "scatter",
         "x": [
          -0.07980588189704754,
          -0.44888430898162773,
          null
         ],
         "y": [
          -0.07984210088416017,
          -0.5754517487206505,
          null
         ]
        },
        {
         "hoverinfo": "text",
         "line": {
          "color": "cornflowerblue",
          "width": 1.0090756983044573
         },
         "mode": "lines",
         "text": [
          "Ferro rod--Randy Champagne: 2"
         ],
         "type": "scatter",
         "x": [
          -0.07980588189704754,
          -0.349304559305111,
          null
         ],
         "y": [
          -0.07984210088416017,
          -0.20173770295454785,
          null
         ]
        },
        {
         "hoverinfo": "text",
         "line": {
          "color": "cornflowerblue",
          "width": 0.3
         },
         "mode": "lines",
         "text": [
          "Ferro rod--Ray Livingston: 1"
         ],
         "type": "scatter",
         "x": [
          -0.07980588189704754,
          0.4861611815391165,
          null
         ],
         "y": [
          -0.07984210088416017,
          -0.14717529162435514,
          null
         ]
        },
        {
         "hoverinfo": "text",
         "line": {
          "color": "cornflowerblue",
          "width": 0.3
         },
         "mode": "lines",
         "text": [
          "Ferro rod--Roland Welker: 1"
         ],
         "type": "scatter",
         "x": [
          -0.07980588189704754,
          -0.6803277873559646,
          null
         ],
         "y": [
          -0.07984210088416017,
          0.14388344051599708,
          null
         ]
        },
        {
         "hoverinfo": "text",
         "line": {
          "color": "cornflowerblue",
          "width": 0.3
         },
         "mode": "lines",
         "text": [
          "Ferro rod--Rose Anna Moore: 1"
         ],
         "type": "scatter",
         "x": [
          -0.07980588189704754,
          -0.5806984395819331,
          null
         ],
         "y": [
          -0.07984210088416017,
          0.5741478282855389,
          null
         ]
        },
        {
         "hoverinfo": "text",
         "line": {
          "color": "cornflowerblue",
          "width": 1.0090756983044573
         },
         "mode": "lines",
         "text": [
          "Ferro rod--Sam Larson: 2"
         ],
         "type": "scatter",
         "x": [
          -0.07980588189704754,
          -0.1820735822325081,
          null
         ],
         "y": [
          -0.07984210088416017,
          0.3266028819567148,
          null
         ]
        },
        {
         "hoverinfo": "text",
         "line": {
          "color": "cornflowerblue",
          "width": 0.3
         },
         "mode": "lines",
         "text": [
          "Ferro rod--Shawn Helton: 1"
         ],
         "type": "scatter",
         "x": [
          -0.07980588189704754,
          -0.43802320462146654,
          null
         ],
         "y": [
          -0.07984210088416017,
          -0.7462571818068016,
          null
         ]
        },
        {
         "hoverinfo": "text",
         "line": {
          "color": "cornflowerblue",
          "width": 0.3
         },
         "mode": "lines",
         "text": [
          "Ferro rod--Teimojin Tan: 1"
         ],
         "type": "scatter",
         "x": [
          -0.07980588189704754,
          -0.6574377690196297,
          null
         ],
         "y": [
          -0.07984210088416017,
          0.3744098743947772,
          null
         ]
        },
        {
         "hoverinfo": "text",
         "line": {
          "color": "cornflowerblue",
          "width": 0.3
         },
         "mode": "lines",
         "text": [
          "Ferro rod--Terry Burns: 1"
         ],
         "type": "scatter",
         "x": [
          -0.07980588189704754,
          0.13251353954568354,
          null
         ],
         "y": [
          -0.07984210088416017,
          -0.6593339851762245,
          null
         ]
        },
        {
         "hoverinfo": "text",
         "line": {
          "color": "cornflowerblue",
          "width": 0.3
         },
         "mode": "lines",
         "text": [
          "Ferro rod--Theresa Emmerich Kamper: 1"
         ],
         "type": "scatter",
         "x": [
          -0.07980588189704754,
          -0.5954419455642739,
          null
         ],
         "y": [
          -0.07984210088416017,
          -0.030911466412550843,
          null
         ]
        },
        {
         "hoverinfo": "text",
         "line": {
          "color": "cornflowerblue",
          "width": 0.3
         },
         "mode": "lines",
         "text": [
          "Ferro rod--Tim Backus: 1"
         ],
         "type": "scatter",
         "x": [
          -0.07980588189704754,
          -0.8346955697213538,
          null
         ],
         "y": [
          -0.07984210088416017,
          -0.2072659581108296,
          null
         ]
        },
        {
         "hoverinfo": "text",
         "line": {
          "color": "cornflowerblue",
          "width": 0.3
         },
         "mode": "lines",
         "text": [
          "Ferro rod--Tim Madsen: 1"
         ],
         "type": "scatter",
         "x": [
          -0.07980588189704754,
          0.46464938444806847,
          null
         ],
         "y": [
          -0.07984210088416017,
          0.03696312994248573,
          null
         ]
        },
        {
         "hoverinfo": "text",
         "line": {
          "color": "cornflowerblue",
          "width": 0.3
         },
         "mode": "lines",
         "text": [
          "Ferro rod--Tom Garstang: 1"
         ],
         "type": "scatter",
         "x": [
          -0.07980588189704754,
          -0.7017971597054672,
          null
         ],
         "y": [
          -0.07984210088416017,
          0.25367816904649765,
          null
         ]
        },
        {
         "hoverinfo": "text",
         "line": {
          "color": "cornflowerblue",
          "width": 0.3
         },
         "mode": "lines",
         "text": [
          "Ferro rod--Tracy Wilson: 1"
         ],
         "type": "scatter",
         "x": [
          -0.07980588189704754,
          0.6737486629514334,
          null
         ],
         "y": [
          -0.07984210088416017,
          0.2423148856093115,
          null
         ]
        },
        {
         "hoverinfo": "text",
         "line": {
          "color": "cornflowerblue",
          "width": 0.3
         },
         "mode": "lines",
         "text": [
          "Ferro rod--Wayne Russell: 1"
         ],
         "type": "scatter",
         "x": [
          -0.07980588189704754,
          -0.01698685123302949,
          null
         ],
         "y": [
          -0.07984210088416017,
          -0.8677581074083068,
          null
         ]
        },
        {
         "hoverinfo": "text",
         "line": {
          "color": "cornflowerblue",
          "width": 0.3
         },
         "mode": "lines",
         "text": [
          "Ferro rod--Woniya Thibeault: 1"
         ],
         "type": "scatter",
         "x": [
          -0.07980588189704754,
          -0.7325621231282693,
          null
         ],
         "y": [
          -0.07984210088416017,
          -0.30412075447223474,
          null
         ]
        },
        {
         "hoverinfo": "text",
         "line": {
          "color": "cornflowerblue",
          "width": 0.3
         },
         "mode": "lines",
         "text": [
          "Ferro rod--Zachary Fowler: 1"
         ],
         "type": "scatter",
         "x": [
          -0.07980588189704754,
          -0.9364475679671536,
          null
         ],
         "y": [
          -0.07984210088416017,
          0.06687756482110661,
          null
         ]
        },
        {
         "hoverinfo": "text",
         "line": {
          "color": "cornflowerblue",
          "width": 0.3
         },
         "mode": "lines",
         "text": [
          "Ferro rod--Zachary Gault: 1"
         ],
         "type": "scatter",
         "x": [
          -0.07980588189704754,
          -0.7968801789443809,
          null
         ],
         "y": [
          -0.07984210088416017,
          -0.03162239453647401,
          null
         ]
        },
        {
         "hoverinfo": "text",
         "line": {
          "color": "cornflowerblue",
          "width": 0.3
         },
         "mode": "lines",
         "text": [
          "Fishing gear--Adam Riley: 1"
         ],
         "type": "scatter",
         "x": [
          -0.005729790078004535,
          0.4231282311244024,
          null
         ],
         "y": [
          -0.011914463248468567,
          -0.4816436280899793,
          null
         ]
        },
        {
         "hoverinfo": "text",
         "line": {
          "color": "cornflowerblue",
          "width": 0.3
         },
         "mode": "lines",
         "text": [
          "Fishing gear--Alan Kay: 1"
         ],
         "type": "scatter",
         "x": [
          -0.005729790078004535,
          0.815066799980723,
          null
         ],
         "y": [
          -0.011914463248468567,
          0.3326460444066763,
          null
         ]
        },
        {
         "hoverinfo": "text",
         "line": {
          "color": "cornflowerblue",
          "width": 0.3
         },
         "mode": "lines",
         "text": [
          "Fishing gear--Alex Ribar: 1"
         ],
         "type": "scatter",
         "x": [
          -0.005729790078004535,
          -0.29962651788445005,
          null
         ],
         "y": [
          -0.011914463248468567,
          0.7352242658938394,
          null
         ]
        },
        {
         "hoverinfo": "text",
         "line": {
          "color": "cornflowerblue",
          "width": 0.3
         },
         "mode": "lines",
         "text": [
          "Fishing gear--Amos Rodriguez: 1"
         ],
         "type": "scatter",
         "x": [
          -0.005729790078004535,
          0.0682803892041071,
          null
         ],
         "y": [
          -0.011914463248468567,
          -0.7245285080827909,
          null
         ]
        },
        {
         "hoverinfo": "text",
         "line": {
          "color": "cornflowerblue",
          "width": 0.3
         },
         "mode": "lines",
         "text": [
          "Fishing gear--Barry Karcher: 1"
         ],
         "type": "scatter",
         "x": [
          -0.005729790078004535,
          -0.03751998498056549,
          null
         ],
         "y": [
          -0.011914463248468567,
          -0.6563629833878613,
          null
         ]
        },
        {
         "hoverinfo": "text",
         "line": {
          "color": "cornflowerblue",
          "width": 0.3
         },
         "mode": "lines",
         "text": [
          "Fishing gear--Benki Hill: 1"
         ],
         "type": "scatter",
         "x": [
          -0.005729790078004535,
          -0.7675888778670847,
          null
         ],
         "y": [
          -0.011914463248468567,
          0.46054709803718463,
          null
         ]
        },
        {
         "hoverinfo": "text",
         "line": {
          "color": "cornflowerblue",
          "width": 0.3
         },
         "mode": "lines",
         "text": [
          "Fishing gear--Biko Wright: 1"
         ],
         "type": "scatter",
         "x": [
          -0.005729790078004535,
          0.48312640249247935,
          null
         ],
         "y": [
          -0.011914463248468567,
          -0.31655373770660206,
          null
         ]
        },
        {
         "hoverinfo": "text",
         "line": {
          "color": "cornflowerblue",
          "width": 1.0090756983044573
         },
         "mode": "lines",
         "text": [
          "Fishing gear--Brad Richardson: 2"
         ],
         "type": "scatter",
         "x": [
          -0.005729790078004535,
          0.05984641461518838,
          null
         ],
         "y": [
          -0.011914463248468567,
          0.4399290105576108,
          null
         ]
        },
        {
         "hoverinfo": "text",
         "line": {
          "color": "cornflowerblue",
          "width": 0.3
         },
         "mode": "lines",
         "text": [
          "Fishing gear--Brady Nicholls: 1"
         ],
         "type": "scatter",
         "x": [
          -0.005729790078004535,
          0.13346439365291393,
          null
         ],
         "y": [
          -0.011914463248468567,
          -0.4829246395259961,
          null
         ]
        },
        {
         "hoverinfo": "text",
         "line": {
          "color": "cornflowerblue",
          "width": 0.3
         },
         "mode": "lines",
         "text": [
          "Fishing gear--Brant McGee: 1"
         ],
         "type": "scatter",
         "x": [
          -0.005729790078004535,
          0.6015230857860889,
          null
         ],
         "y": [
          -0.011914463248468567,
          -0.4155406048086862,
          null
         ]
        },
        {
         "hoverinfo": "text",
         "line": {
          "color": "cornflowerblue",
          "width": 1.0090756983044573
         },
         "mode": "lines",
         "text": [
          "Fishing gear--Britt Ahart: 2"
         ],
         "type": "scatter",
         "x": [
          -0.005729790078004535,
          -0.2497631631785479,
          null
         ],
         "y": [
          -0.011914463248468567,
          -0.41853936522327173,
          null
         ]
        },
        {
         "hoverinfo": "text",
         "line": {
          "color": "cornflowerblue",
          "width": 0.3
         },
         "mode": "lines",
         "text": [
          "Fishing gear--Brody Wilkes: 1"
         ],
         "type": "scatter",
         "x": [
          -0.005729790078004535,
          0.7241660136758504,
          null
         ],
         "y": [
          -0.011914463248468567,
          0.4222017319260711,
          null
         ]
        },
        {
         "hoverinfo": "text",
         "line": {
          "color": "cornflowerblue",
          "width": 1.0090756983044573
         },
         "mode": "lines",
         "text": [
          "Fishing gear--Brooke Whipple: 2"
         ],
         "type": "scatter",
         "x": [
          -0.005729790078004535,
          -0.06443041586361846,
          null
         ],
         "y": [
          -0.011914463248468567,
          0.43698357904344115,
          null
         ]
        },
        {
         "hoverinfo": "text",
         "line": {
          "color": "cornflowerblue",
          "width": 0.3
         },
         "mode": "lines",
         "text": [
          "Fishing gear--Callie North: 1"
         ],
         "type": "scatter",
         "x": [
          -0.005729790078004535,
          0.7069818503900434,
          null
         ],
         "y": [
          -0.011914463248468567,
          -0.38322354353375715,
          null
         ]
        },
        {
         "hoverinfo": "text",
         "line": {
          "color": "cornflowerblue",
          "width": 0.3
         },
         "mode": "lines",
         "text": [
          "Fishing gear--Callie Russell: 1"
         ],
         "type": "scatter",
         "x": [
          -0.005729790078004535,
          -0.40911892652294085,
          null
         ],
         "y": [
          -0.011914463248468567,
          0.4678098215325018,
          null
         ]
        },
        {
         "hoverinfo": "text",
         "line": {
          "color": "cornflowerblue",
          "width": 1.0090756983044573
         },
         "mode": "lines",
         "text": [
          "Fishing gear--Carleigh Fairchild: 2"
         ],
         "type": "scatter",
         "x": [
          -0.005729790078004535,
          0.20924019981298217,
          null
         ],
         "y": [
          -0.011914463248468567,
          0.3284587939178709,
          null
         ]
        },
        {
         "hoverinfo": "text",
         "line": {
          "color": "cornflowerblue",
          "width": 0.3
         },
         "mode": "lines",
         "text": [
          "Fishing gear--Chris Weatherman: 1"
         ],
         "type": "scatter",
         "x": [
          -0.005729790078004535,
          0.6762748571438286,
          null
         ],
         "y": [
          -0.011914463248468567,
          -0.10771672290687707,
          null
         ]
        },
        {
         "hoverinfo": "text",
         "line": {
          "color": "cornflowerblue",
          "width": 0.3
         },
         "mode": "lines",
         "text": [
          "Fishing gear--Chris Wilkes: 1"
         ],
         "type": "scatter",
         "x": [
          -0.005729790078004535,
          0.8923936620530742,
          null
         ],
         "y": [
          -0.011914463248468567,
          0.1193147390934305,
          null
         ]
        },
        {
         "hoverinfo": "text",
         "line": {
          "color": "cornflowerblue",
          "width": 0.3
         },
         "mode": "lines",
         "text": [
          "Fishing gear--Clay Hayes: 1"
         ],
         "type": "scatter",
         "x": [
          -0.005729790078004535,
          -0.5667181352988339,
          null
         ],
         "y": [
          -0.011914463248468567,
          0.46031393361436546,
          null
         ]
        },
        {
         "hoverinfo": "text",
         "line": {
          "color": "cornflowerblue",
          "width": 0.3
         },
         "mode": "lines",
         "text": [
          "Fishing gear--Colter Barnes: 1"
         ],
         "type": "scatter",
         "x": [
          -0.005729790078004535,
          0.2921842173185547,
          null
         ],
         "y": [
          -0.011914463248468567,
          -0.4206342073418396,
          null
         ]
        },
        {
         "hoverinfo": "text",
         "line": {
          "color": "cornflowerblue",
          "width": 0.3
         },
         "mode": "lines",
         "text": [
          "Fishing gear--Correy Hawk: 1"
         ],
         "type": "scatter",
         "x": [
          -0.005729790078004535,
          -0.72740767404415,
          null
         ],
         "y": [
          -0.011914463248468567,
          -0.42716753086886317,
          null
         ]
        },
        {
         "hoverinfo": "text",
         "line": {
          "color": "cornflowerblue",
          "width": 0.3
         },
         "mode": "lines",
         "text": [
          "Fishing gear--Dan Wowak: 1"
         ],
         "type": "scatter",
         "x": [
          -0.005729790078004535,
          -0.12721075638771265,
          null
         ],
         "y": [
          -0.011914463248468567,
          -0.806965295635513,
          null
         ]
        },
        {
         "hoverinfo": "text",
         "line": {
          "color": "cornflowerblue",
          "width": 1.0090756983044573
         },
         "mode": "lines",
         "text": [
          "Fishing gear--Dave Nessia: 2"
         ],
         "type": "scatter",
         "x": [
          -0.005729790078004535,
          -0.15819207581452197,
          null
         ],
         "y": [
          -0.011914463248468567,
          -0.32146331236271153,
          null
         ]
        },
        {
         "hoverinfo": "text",
         "line": {
          "color": "cornflowerblue",
          "width": 0.3
         },
         "mode": "lines",
         "text": [
          "Fishing gear--Dave Whipple: 1"
         ],
         "type": "scatter",
         "x": [
          -0.005729790078004535,
          0.7193082469361248,
          null
         ],
         "y": [
          -0.011914463248468567,
          0.6943656160949481,
          null
         ]
        },
        {
         "hoverinfo": "text",
         "line": {
          "color": "cornflowerblue",
          "width": 0.3
         },
         "mode": "lines",
         "text": [
          "Fishing gear--David McIntyre: 1"
         ],
         "type": "scatter",
         "x": [
          -0.005729790078004535,
          0.6112918996834296,
          null
         ],
         "y": [
          -0.011914463248468567,
          -0.5735080525836848,
          null
         ]
        },
        {
         "hoverinfo": "text",
         "line": {
          "color": "cornflowerblue",
          "width": 0.3
         },
         "mode": "lines",
         "text": [
          "Fishing gear--Desmond White: 1"
         ],
         "type": "scatter",
         "x": [
          -0.005729790078004535,
          0.8644714148065687,
          null
         ],
         "y": [
          -0.011914463248468567,
          -0.08364130560083073,
          null
         ]
        },
        {
         "hoverinfo": "text",
         "line": {
          "color": "cornflowerblue",
          "width": 0.3
         },
         "mode": "lines",
         "text": [
          "Fishing gear--Donny Dust: 1"
         ],
         "type": "scatter",
         "x": [
          -0.005729790078004535,
          -0.598389093734986,
          null
         ],
         "y": [
          -0.011914463248468567,
          -0.25104108361735633,
          null
         ]
        },
        {
         "hoverinfo": "text",
         "line": {
          "color": "cornflowerblue",
          "width": 0.3
         },
         "mode": "lines",
         "text": [
          "Fishing gear--Dustin Feher: 1"
         ],
         "type": "scatter",
         "x": [
          -0.005729790078004535,
          -0.0459491427761949,
          null
         ],
         "y": [
          -0.011914463248468567,
          0.8062427035953487,
          null
         ]
        },
        {
         "hoverinfo": "text",
         "line": {
          "color": "cornflowerblue",
          "width": 0.3
         },
         "mode": "lines",
         "text": [
          "Fishing gear--Greg Ovens: 1"
         ],
         "type": "scatter",
         "x": [
          -0.005729790078004535,
          0.5841134288357716,
          null
         ],
         "y": [
          -0.011914463248468567,
          0.05943423685498098,
          null
         ]
        },
        {
         "hoverinfo": "text",
         "line": {
          "color": "cornflowerblue",
          "width": 0.3
         },
         "mode": "lines",
         "text": [
          "Fishing gear--Igor Limansky: 1"
         ],
         "type": "scatter",
         "x": [
          -0.005729790078004535,
          0.37559142637995513,
          null
         ],
         "y": [
          -0.011914463248468567,
          -0.2931818437887316,
          null
         ]
        },
        {
         "hoverinfo": "text",
         "line": {
          "color": "cornflowerblue",
          "width": 0.3
         },
         "mode": "lines",
         "text": [
          "Fishing gear--Jacques Turcotte: 1"
         ],
         "type": "scatter",
         "x": [
          -0.005729790078004535,
          -0.49760574014961795,
          null
         ],
         "y": [
          -0.011914463248468567,
          0.3237406107058987,
          null
         ]
        },
        {
         "hoverinfo": "text",
         "line": {
          "color": "cornflowerblue",
          "width": 1.0090756983044573
         },
         "mode": "lines",
         "text": [
          "Fishing gear--Jesse Bosdell: 2"
         ],
         "type": "scatter",
         "x": [
          -0.005729790078004535,
          0.1396216938016799,
          null
         ],
         "y": [
          -0.011914463248468567,
          0.5465408455237983,
          null
         ]
        },
        {
         "hoverinfo": "text",
         "line": {
          "color": "cornflowerblue",
          "width": 0.3
         },
         "mode": "lines",
         "text": [
          "Fishing gear--Jim Baird: 1"
         ],
         "type": "scatter",
         "x": [
          -0.005729790078004535,
          -0.3638893093665568,
          null
         ],
         "y": [
          -0.011914463248468567,
          0.6380621974306803,
          null
         ]
        },
        {
         "hoverinfo": "text",
         "line": {
          "color": "cornflowerblue",
          "width": 0.3
         },
         "mode": "lines",
         "text": [
          "Fishing gear--Jim Shields: 1"
         ],
         "type": "scatter",
         "x": [
          -0.005729790078004535,
          -0.17887445516937944,
          null
         ],
         "y": [
          -0.011914463248468567,
          -0.6437854388020003,
          null
         ]
        },
        {
         "hoverinfo": "text",
         "line": {
          "color": "cornflowerblue",
          "width": 0.3
         },
         "mode": "lines",
         "text": [
          "Fishing gear--Joe Nicholas: 1"
         ],
         "type": "scatter",
         "x": [
          -0.005729790078004535,
          0.4703725737274096,
          null
         ],
         "y": [
          -0.011914463248468567,
          0.43497154517033965,
          null
         ]
        },
        {
         "hoverinfo": "text",
         "line": {
          "color": "cornflowerblue",
          "width": 0.3
         },
         "mode": "lines",
         "text": [
          "Fishing gear--Joe Robinet: 1"
         ],
         "type": "scatter",
         "x": [
          -0.005729790078004535,
          0.7457519403244229,
          null
         ],
         "y": [
          -0.011914463248468567,
          -0.0797431498192736,
          null
         ]
        },
        {
         "hoverinfo": "text",
         "line": {
          "color": "cornflowerblue",
          "width": 0.3
         },
         "mode": "lines",
         "text": [
          "Fishing gear--Joel Van Der Loon: 1"
         ],
         "type": "scatter",
         "x": [
          -0.005729790078004535,
          -0.5052226395097973,
          null
         ],
         "y": [
          -0.011914463248468567,
          -0.3745727323423614,
          null
         ]
        },
        {
         "hoverinfo": "text",
         "line": {
          "color": "cornflowerblue",
          "width": 0.3
         },
         "mode": "lines",
         "text": [
          "Fishing gear--Jordan Jonas: 1"
         ],
         "type": "scatter",
         "x": [
          -0.005729790078004535,
          -0.7329533216627765,
          null
         ],
         "y": [
          -0.011914463248468567,
          -0.5533096892464248,
          null
         ]
        },
        {
         "hoverinfo": "text",
         "line": {
          "color": "cornflowerblue",
          "width": 0.3
         },
         "mode": "lines",
         "text": [
          "Fishing gear--Jordon Bell: 1"
         ],
         "type": "scatter",
         "x": [
          -0.005729790078004535,
          -0.07672216484877323,
          null
         ],
         "y": [
          -0.011914463248468567,
          0.6679323572140383,
          null
         ]
        },
        {
         "hoverinfo": "text",
         "line": {
          "color": "cornflowerblue",
          "width": 0.3
         },
         "mode": "lines",
         "text": [
          "Fishing gear--Jose Martinez Amoedo: 1"
         ],
         "type": "scatter",
         "x": [
          -0.005729790078004535,
          -0.6319766270688345,
          null
         ],
         "y": [
          -0.011914463248468567,
          -0.13472354967767763,
          null
         ]
        },
        {
         "hoverinfo": "text",
         "line": {
          "color": "cornflowerblue",
          "width": 0.3
         },
         "mode": "lines",
         "text": [
          "Fishing gear--Josh Chavez: 1"
         ],
         "type": "scatter",
         "x": [
          -0.005729790078004535,
          0.42205675328593906,
          null
         ],
         "y": [
          -0.011914463248468567,
          -0.6797172750600777,
          null
         ]
        },
        {
         "hoverinfo": "text",
         "line": {
          "color": "cornflowerblue",
          "width": 0.3
         },
         "mode": "lines",
         "text": [
          "Fishing gear--Josh Richardson: 1"
         ],
         "type": "scatter",
         "x": [
          -0.005729790078004535,
          0.42259581982357375,
          null
         ],
         "y": [
          -0.011914463248468567,
          0.8708308529937877,
          null
         ]
        },
        {
         "hoverinfo": "text",
         "line": {
          "color": "cornflowerblue",
          "width": 0.3
         },
         "mode": "lines",
         "text": [
          "Fishing gear--Juan Pablo Quinonez: 1"
         ],
         "type": "scatter",
         "x": [
          -0.005729790078004535,
          0.3573511980627373,
          null
         ],
         "y": [
          -0.011914463248468567,
          0.26989400434930627,
          null
         ]
        },
        {
         "hoverinfo": "text",
         "line": {
          "color": "cornflowerblue",
          "width": 0.3
         },
         "mode": "lines",
         "text": [
          "Fishing gear--Karie Lee Knoke: 1"
         ],
         "type": "scatter",
         "x": [
          -0.005729790078004535,
          0.2534601432680607,
          null
         ],
         "y": [
          -0.011914463248468567,
          -0.5671790990454183,
          null
         ]
        },
        {
         "hoverinfo": "text",
         "line": {
          "color": "cornflowerblue",
          "width": 0.3
         },
         "mode": "lines",
         "text": [
          "Fishing gear--Keith Syers: 1"
         ],
         "type": "scatter",
         "x": [
          -0.005729790078004535,
          -0.30492698698095455,
          null
         ],
         "y": [
          -0.011914463248468567,
          -0.7701979405779571,
          null
         ]
        },
        {
         "hoverinfo": "text",
         "line": {
          "color": "cornflowerblue",
          "width": 0.3
         },
         "mode": "lines",
         "text": [
          "Fishing gear--Kielyn Marrone: 1"
         ],
         "type": "scatter",
         "x": [
          -0.005729790078004535,
          0.16370592574901813,
          null
         ],
         "y": [
          -0.011914463248468567,
          0.4688551620748274,
          null
         ]
        },
        {
         "hoverinfo": "text",
         "line": {
          "color": "cornflowerblue",
          "width": 1.0090756983044573
         },
         "mode": "lines",
         "text": [
          "Fishing gear--Larry Roberts: 2"
         ],
         "type": "scatter",
         "x": [
          -0.005729790078004535,
          -0.3364232797862773,
          null
         ],
         "y": [
          -0.011914463248468567,
          0.16502950099272184,
          null
         ]
        },
        {
         "hoverinfo": "text",
         "line": {
          "color": "cornflowerblue",
          "width": 0.3
         },
         "mode": "lines",
         "text": [
          "Fishing gear--Logan Ribar: 1"
         ],
         "type": "scatter",
         "x": [
          -0.005729790078004535,
          0.008267981975036148,
          null
         ],
         "y": [
          -0.011914463248468567,
          -0.4928787114965203,
          null
         ]
        },
        {
         "hoverinfo": "text",
         "line": {
          "color": "cornflowerblue",
          "width": 0.3
         },
         "mode": "lines",
         "text": [
          "Fishing gear--Lucas Miller: 1"
         ],
         "type": "scatter",
         "x": [
          -0.005729790078004535,
          0.3131108731926996,
          null
         ],
         "y": [
          -0.011914463248468567,
          0.6838900750220774,
          null
         ]
        },
        {
         "hoverinfo": "text",
         "line": {
          "color": "cornflowerblue",
          "width": 0.3
         },
         "mode": "lines",
         "text": [
          "Fishing gear--Mark D'Ambrosio: 1"
         ],
         "type": "scatter",
         "x": [
          -0.005729790078004535,
          -0.821198931605355,
          null
         ],
         "y": [
          -0.011914463248468567,
          0.251707705900538,
          null
         ]
        },
        {
         "hoverinfo": "text",
         "line": {
          "color": "cornflowerblue",
          "width": 0.3
         },
         "mode": "lines",
         "text": [
          "Fishing gear--Mary Kate Green: 1"
         ],
         "type": "scatter",
         "x": [
          -0.005729790078004535,
          0.7646608077190291,
          null
         ],
         "y": [
          -0.011914463248468567,
          0.10192847172652374,
          null
         ]
        },
        {
         "hoverinfo": "text",
         "line": {
          "color": "cornflowerblue",
          "width": 0.3
         },
         "mode": "lines",
         "text": [
          "Fishing gear--Matt Corradino: 1"
         ],
         "type": "scatter",
         "x": [
          -0.005729790078004535,
          -0.20064253198025278,
          null
         ],
         "y": [
          -0.011914463248468567,
          0.7105100559961994,
          null
         ]
        },
        {
         "hoverinfo": "text",
         "line": {
          "color": "cornflowerblue",
          "width": 0.3
         },
         "mode": "lines",
         "text": [
          "Fishing gear--Megan Hanacek: 1"
         ],
         "type": "scatter",
         "x": [
          -0.005729790078004535,
          0.3580733953966105,
          null
         ],
         "y": [
          -0.011914463248468567,
          0.5328785899573018,
          null
         ]
        },
        {
         "hoverinfo": "text",
         "line": {
          "color": "cornflowerblue",
          "width": 0.3
         },
         "mode": "lines",
         "text": [
          "Fishing gear--Michelle Finn: 1"
         ],
         "type": "scatter",
         "x": [
          -0.005729790078004535,
          -0.6045440501381834,
          null
         ],
         "y": [
          -0.011914463248468567,
          -0.48305458918849853,
          null
         ]
        },
        {
         "hoverinfo": "text",
         "line": {
          "color": "cornflowerblue",
          "width": 0.3
         },
         "mode": "lines",
         "text": [
          "Fishing gear--Michelle Wohlberg: 1"
         ],
         "type": "scatter",
         "x": [
          -0.005729790078004535,
          -0.1938042578318345,
          null
         ],
         "y": [
          -0.011914463248468567,
          0.5902316390105835,
          null
         ]
        },
        {
         "hoverinfo": "text",
         "line": {
          "color": "cornflowerblue",
          "width": 0.3
         },
         "mode": "lines",
         "text": [
          "Fishing gear--Mike Lowe: 1"
         ],
         "type": "scatter",
         "x": [
          -0.005729790078004535,
          0.30262084802000055,
          null
         ],
         "y": [
          -0.011914463248468567,
          -0.6900817037865407,
          null
         ]
        },
        {
         "hoverinfo": "text",
         "line": {
          "color": "cornflowerblue",
          "width": 0.3
         },
         "mode": "lines",
         "text": [
          "Fishing gear--Mitch Mitchell: 1"
         ],
         "type": "scatter",
         "x": [
          -0.005729790078004535,
          0.37283882745591235,
          null
         ],
         "y": [
          -0.011914463248468567,
          -0.8430629943724753,
          null
         ]
        },
        {
         "hoverinfo": "text",
         "line": {
          "color": "cornflowerblue",
          "width": 0.3
         },
         "mode": "lines",
         "text": [
          "Fishing gear--Nate Weber: 1"
         ],
         "type": "scatter",
         "x": [
          -0.005729790078004535,
          -0.7150813604179511,
          null
         ],
         "y": [
          -0.011914463248468567,
          0.03847680432140553,
          null
         ]
        },
        {
         "hoverinfo": "text",
         "line": {
          "color": "cornflowerblue",
          "width": 0.3
         },
         "mode": "lines",
         "text": [
          "Fishing gear--Nathan Donnelly: 1"
         ],
         "type": "scatter",
         "x": [
          -0.005729790078004535,
          -0.2932939089011811,
          null
         ],
         "y": [
          -0.011914463248468567,
          -0.5842392372509401,
          null
         ]
        },
        {
         "hoverinfo": "text",
         "line": {
          "color": "cornflowerblue",
          "width": 1.0090756983044573
         },
         "mode": "lines",
         "text": [
          "Fishing gear--Nicole Apelian: 2"
         ],
         "type": "scatter",
         "x": [
          -0.005729790078004535,
          0.26878954826134965,
          null
         ],
         "y": [
          -0.011914463248468567,
          -0.20623505651882393,
          null
         ]
        },
        {
         "hoverinfo": "text",
         "line": {
          "color": "cornflowerblue",
          "width": 0.3
         },
         "mode": "lines",
         "text": [
          "Fishing gear--Nikki van Schyndel: 1"
         ],
         "type": "scatter",
         "x": [
          -0.005729790078004535,
          -0.44888430898162773,
          null
         ],
         "y": [
          -0.011914463248468567,
          -0.5754517487206505,
          null
         ]
        },
        {
         "hoverinfo": "text",
         "line": {
          "color": "cornflowerblue",
          "width": 0.3
         },
         "mode": "lines",
         "text": [
          "Fishing gear--Pete Brockdorff: 1"
         ],
         "type": "scatter",
         "x": [
          -0.005729790078004535,
          0.5976076136229159,
          null
         ],
         "y": [
          -0.011914463248468567,
          0.5496059875401306,
          null
         ]
        },
        {
         "hoverinfo": "text",
         "line": {
          "color": "cornflowerblue",
          "width": 1.0090756983044573
         },
         "mode": "lines",
         "text": [
          "Fishing gear--Randy Champagne: 2"
         ],
         "type": "scatter",
         "x": [
          -0.005729790078004535,
          -0.349304559305111,
          null
         ],
         "y": [
          -0.011914463248468567,
          -0.20173770295454785,
          null
         ]
        },
        {
         "hoverinfo": "text",
         "line": {
          "color": "cornflowerblue",
          "width": 0.3
         },
         "mode": "lines",
         "text": [
          "Fishing gear--Ray Livingston: 1"
         ],
         "type": "scatter",
         "x": [
          -0.005729790078004535,
          0.4861611815391165,
          null
         ],
         "y": [
          -0.011914463248468567,
          -0.14717529162435514,
          null
         ]
        },
        {
         "hoverinfo": "text",
         "line": {
          "color": "cornflowerblue",
          "width": 0.3
         },
         "mode": "lines",
         "text": [
          "Fishing gear--Rose Anna Moore: 1"
         ],
         "type": "scatter",
         "x": [
          -0.005729790078004535,
          -0.5806984395819331,
          null
         ],
         "y": [
          -0.011914463248468567,
          0.5741478282855389,
          null
         ]
        },
        {
         "hoverinfo": "text",
         "line": {
          "color": "cornflowerblue",
          "width": 0.3
         },
         "mode": "lines",
         "text": [
          "Fishing gear--Sam Brockdorff: 1"
         ],
         "type": "scatter",
         "x": [
          -0.005729790078004535,
          0.7895725287866725,
          null
         ],
         "y": [
          -0.011914463248468567,
          -0.23782640566337726,
          null
         ]
        },
        {
         "hoverinfo": "text",
         "line": {
          "color": "cornflowerblue",
          "width": 0.3
         },
         "mode": "lines",
         "text": [
          "Fishing gear--Sam Larson: 1"
         ],
         "type": "scatter",
         "x": [
          -0.005729790078004535,
          -0.1820735822325081,
          null
         ],
         "y": [
          -0.011914463248468567,
          0.3266028819567148,
          null
         ]
        },
        {
         "hoverinfo": "text",
         "line": {
          "color": "cornflowerblue",
          "width": 0.3
         },
         "mode": "lines",
         "text": [
          "Fishing gear--Shannon Bosdell: 1"
         ],
         "type": "scatter",
         "x": [
          -0.005729790078004535,
          0.08408647256603534,
          null
         ],
         "y": [
          -0.011914463248468567,
          0.8278971316131882,
          null
         ]
        },
        {
         "hoverinfo": "text",
         "line": {
          "color": "cornflowerblue",
          "width": 0.3
         },
         "mode": "lines",
         "text": [
          "Fishing gear--Shawn Helton: 1"
         ],
         "type": "scatter",
         "x": [
          -0.005729790078004535,
          -0.43802320462146654,
          null
         ],
         "y": [
          -0.011914463248468567,
          -0.7462571818068016,
          null
         ]
        },
        {
         "hoverinfo": "text",
         "line": {
          "color": "cornflowerblue",
          "width": 0.3
         },
         "mode": "lines",
         "text": [
          "Fishing gear--Ted Baird: 1"
         ],
         "type": "scatter",
         "x": [
          -0.005729790078004535,
          0.42021163583332416,
          null
         ],
         "y": [
          -0.011914463248468567,
          0.6306063918738846,
          null
         ]
        },
        {
         "hoverinfo": "text",
         "line": {
          "color": "cornflowerblue",
          "width": 0.3
         },
         "mode": "lines",
         "text": [
          "Fishing gear--Teimojin Tan: 1"
         ],
         "type": "scatter",
         "x": [
          -0.005729790078004535,
          -0.6574377690196297,
          null
         ],
         "y": [
          -0.011914463248468567,
          0.3744098743947772,
          null
         ]
        },
        {
         "hoverinfo": "text",
         "line": {
          "color": "cornflowerblue",
          "width": 0.3
         },
         "mode": "lines",
         "text": [
          "Fishing gear--Terry Burns: 1"
         ],
         "type": "scatter",
         "x": [
          -0.005729790078004535,
          0.13251353954568354,
          null
         ],
         "y": [
          -0.011914463248468567,
          -0.6593339851762245,
          null
         ]
        },
        {
         "hoverinfo": "text",
         "line": {
          "color": "cornflowerblue",
          "width": 0.3
         },
         "mode": "lines",
         "text": [
          "Fishing gear--Theresa Emmerich Kamper: 1"
         ],
         "type": "scatter",
         "x": [
          -0.005729790078004535,
          -0.5954419455642739,
          null
         ],
         "y": [
          -0.011914463248468567,
          -0.030911466412550843,
          null
         ]
        },
        {
         "hoverinfo": "text",
         "line": {
          "color": "cornflowerblue",
          "width": 0.3
         },
         "mode": "lines",
         "text": [
          "Fishing gear--Tim Backus: 1"
         ],
         "type": "scatter",
         "x": [
          -0.005729790078004535,
          -0.8346955697213538,
          null
         ],
         "y": [
          -0.011914463248468567,
          -0.2072659581108296,
          null
         ]
        },
        {
         "hoverinfo": "text",
         "line": {
          "color": "cornflowerblue",
          "width": 0.3
         },
         "mode": "lines",
         "text": [
          "Fishing gear--Tim Madsen: 1"
         ],
         "type": "scatter",
         "x": [
          -0.005729790078004535,
          0.46464938444806847,
          null
         ],
         "y": [
          -0.011914463248468567,
          0.03696312994248573,
          null
         ]
        },
        {
         "hoverinfo": "text",
         "line": {
          "color": "cornflowerblue",
          "width": 0.3
         },
         "mode": "lines",
         "text": [
          "Fishing gear--Tom Garstang: 1"
         ],
         "type": "scatter",
         "x": [
          -0.005729790078004535,
          -0.7017971597054672,
          null
         ],
         "y": [
          -0.011914463248468567,
          0.25367816904649765,
          null
         ]
        },
        {
         "hoverinfo": "text",
         "line": {
          "color": "cornflowerblue",
          "width": 0.3
         },
         "mode": "lines",
         "text": [
          "Fishing gear--Tracy Wilson: 1"
         ],
         "type": "scatter",
         "x": [
          -0.005729790078004535,
          0.6737486629514334,
          null
         ],
         "y": [
          -0.011914463248468567,
          0.2423148856093115,
          null
         ]
        },
        {
         "hoverinfo": "text",
         "line": {
          "color": "cornflowerblue",
          "width": 0.3
         },
         "mode": "lines",
         "text": [
          "Fishing gear--Wayne Russell: 1"
         ],
         "type": "scatter",
         "x": [
          -0.005729790078004535,
          -0.01698685123302949,
          null
         ],
         "y": [
          -0.011914463248468567,
          -0.8677581074083068,
          null
         ]
        },
        {
         "hoverinfo": "text",
         "line": {
          "color": "cornflowerblue",
          "width": 0.3
         },
         "mode": "lines",
         "text": [
          "Fishing gear--Woniya Thibeault: 1"
         ],
         "type": "scatter",
         "x": [
          -0.005729790078004535,
          -0.7325621231282693,
          null
         ],
         "y": [
          -0.011914463248468567,
          -0.30412075447223474,
          null
         ]
        },
        {
         "hoverinfo": "text",
         "line": {
          "color": "cornflowerblue",
          "width": 0.3
         },
         "mode": "lines",
         "text": [
          "Fishing gear--Zachary Fowler: 1"
         ],
         "type": "scatter",
         "x": [
          -0.005729790078004535,
          -0.9364475679671536,
          null
         ],
         "y": [
          -0.011914463248468567,
          0.06687756482110661,
          null
         ]
        },
        {
         "hoverinfo": "text",
         "line": {
          "color": "cornflowerblue",
          "width": 0.3
         },
         "mode": "lines",
         "text": [
          "Fishing gear--Zachary Gault: 1"
         ],
         "type": "scatter",
         "x": [
          -0.005729790078004535,
          -0.7968801789443809,
          null
         ],
         "y": [
          -0.011914463248468567,
          -0.03162239453647401,
          null
         ]
        },
        {
         "hoverinfo": "text",
         "line": {
          "color": "cornflowerblue",
          "width": 0.3
         },
         "mode": "lines",
         "text": [
          "Gillnet--Alan Kay: 1"
         ],
         "type": "scatter",
         "x": [
          0.250212266338565,
          0.815066799980723,
          null
         ],
         "y": [
          0.05100677472070502,
          0.3326460444066763,
          null
         ]
        },
        {
         "hoverinfo": "text",
         "line": {
          "color": "cornflowerblue",
          "width": 0.3
         },
         "mode": "lines",
         "text": [
          "Gillnet--Alex Ribar: 1"
         ],
         "type": "scatter",
         "x": [
          0.250212266338565,
          -0.29962651788445005,
          null
         ],
         "y": [
          0.05100677472070502,
          0.7352242658938394,
          null
         ]
        },
        {
         "hoverinfo": "text",
         "line": {
          "color": "cornflowerblue",
          "width": 0.3
         },
         "mode": "lines",
         "text": [
          "Gillnet--Amos Rodriguez: 1"
         ],
         "type": "scatter",
         "x": [
          0.250212266338565,
          0.0682803892041071,
          null
         ],
         "y": [
          0.05100677472070502,
          -0.7245285080827909,
          null
         ]
        },
        {
         "hoverinfo": "text",
         "line": {
          "color": "cornflowerblue",
          "width": 0.3
         },
         "mode": "lines",
         "text": [
          "Gillnet--Brody Wilkes: 1"
         ],
         "type": "scatter",
         "x": [
          0.250212266338565,
          0.7241660136758504,
          null
         ],
         "y": [
          0.05100677472070502,
          0.4222017319260711,
          null
         ]
        },
        {
         "hoverinfo": "text",
         "line": {
          "color": "cornflowerblue",
          "width": 0.3
         },
         "mode": "lines",
         "text": [
          "Gillnet--Chris Wilkes: 1"
         ],
         "type": "scatter",
         "x": [
          0.250212266338565,
          0.8923936620530742,
          null
         ],
         "y": [
          0.05100677472070502,
          0.1193147390934305,
          null
         ]
        },
        {
         "hoverinfo": "text",
         "line": {
          "color": "cornflowerblue",
          "width": 1.0090756983044573
         },
         "mode": "lines",
         "text": [
          "Gillnet--Dave Nessia: 2"
         ],
         "type": "scatter",
         "x": [
          0.250212266338565,
          -0.15819207581452197,
          null
         ],
         "y": [
          0.05100677472070502,
          -0.32146331236271153,
          null
         ]
        },
        {
         "hoverinfo": "text",
         "line": {
          "color": "cornflowerblue",
          "width": 0.3
         },
         "mode": "lines",
         "text": [
          "Gillnet--David McIntyre: 1"
         ],
         "type": "scatter",
         "x": [
          0.250212266338565,
          0.6112918996834296,
          null
         ],
         "y": [
          0.05100677472070502,
          -0.5735080525836848,
          null
         ]
        },
        {
         "hoverinfo": "text",
         "line": {
          "color": "cornflowerblue",
          "width": 0.3
         },
         "mode": "lines",
         "text": [
          "Gillnet--Desmond White: 1"
         ],
         "type": "scatter",
         "x": [
          0.250212266338565,
          0.8644714148065687,
          null
         ],
         "y": [
          0.05100677472070502,
          -0.08364130560083073,
          null
         ]
        },
        {
         "hoverinfo": "text",
         "line": {
          "color": "cornflowerblue",
          "width": 0.3
         },
         "mode": "lines",
         "text": [
          "Gillnet--Dustin Feher: 1"
         ],
         "type": "scatter",
         "x": [
          0.250212266338565,
          -0.0459491427761949,
          null
         ],
         "y": [
          0.05100677472070502,
          0.8062427035953487,
          null
         ]
        },
        {
         "hoverinfo": "text",
         "line": {
          "color": "cornflowerblue",
          "width": 0.3
         },
         "mode": "lines",
         "text": [
          "Gillnet--Jesse Bosdell: 1"
         ],
         "type": "scatter",
         "x": [
          0.250212266338565,
          0.1396216938016799,
          null
         ],
         "y": [
          0.05100677472070502,
          0.5465408455237983,
          null
         ]
        },
        {
         "hoverinfo": "text",
         "line": {
          "color": "cornflowerblue",
          "width": 0.3
         },
         "mode": "lines",
         "text": [
          "Gillnet--Jim Baird: 1"
         ],
         "type": "scatter",
         "x": [
          0.250212266338565,
          -0.3638893093665568,
          null
         ],
         "y": [
          0.05100677472070502,
          0.6380621974306803,
          null
         ]
        },
        {
         "hoverinfo": "text",
         "line": {
          "color": "cornflowerblue",
          "width": 0.3
         },
         "mode": "lines",
         "text": [
          "Gillnet--Joe Robinet: 1"
         ],
         "type": "scatter",
         "x": [
          0.250212266338565,
          0.7457519403244229,
          null
         ],
         "y": [
          0.05100677472070502,
          -0.0797431498192736,
          null
         ]
        },
        {
         "hoverinfo": "text",
         "line": {
          "color": "cornflowerblue",
          "width": 0.3
         },
         "mode": "lines",
         "text": [
          "Gillnet--Joel Van Der Loon: 1"
         ],
         "type": "scatter",
         "x": [
          0.250212266338565,
          -0.5052226395097973,
          null
         ],
         "y": [
          0.05100677472070502,
          -0.3745727323423614,
          null
         ]
        },
        {
         "hoverinfo": "text",
         "line": {
          "color": "cornflowerblue",
          "width": 0.3
         },
         "mode": "lines",
         "text": [
          "Gillnet--Jose Martinez Amoedo: 1"
         ],
         "type": "scatter",
         "x": [
          0.250212266338565,
          -0.6319766270688345,
          null
         ],
         "y": [
          0.05100677472070502,
          -0.13472354967767763,
          null
         ]
        },
        {
         "hoverinfo": "text",
         "line": {
          "color": "cornflowerblue",
          "width": 0.3
         },
         "mode": "lines",
         "text": [
          "Gillnet--Kielyn Marrone: 1"
         ],
         "type": "scatter",
         "x": [
          0.250212266338565,
          0.16370592574901813,
          null
         ],
         "y": [
          0.05100677472070502,
          0.4688551620748274,
          null
         ]
        },
        {
         "hoverinfo": "text",
         "line": {
          "color": "cornflowerblue",
          "width": 0.3
         },
         "mode": "lines",
         "text": [
          "Gillnet--Larry Roberts: 1"
         ],
         "type": "scatter",
         "x": [
          0.250212266338565,
          -0.3364232797862773,
          null
         ],
         "y": [
          0.05100677472070502,
          0.16502950099272184,
          null
         ]
        },
        {
         "hoverinfo": "text",
         "line": {
          "color": "cornflowerblue",
          "width": 0.3
         },
         "mode": "lines",
         "text": [
          "Gillnet--Logan Ribar: 1"
         ],
         "type": "scatter",
         "x": [
          0.250212266338565,
          0.008267981975036148,
          null
         ],
         "y": [
          0.05100677472070502,
          -0.4928787114965203,
          null
         ]
        },
        {
         "hoverinfo": "text",
         "line": {
          "color": "cornflowerblue",
          "width": 0.3
         },
         "mode": "lines",
         "text": [
          "Gillnet--Mary Kate Green: 1"
         ],
         "type": "scatter",
         "x": [
          0.250212266338565,
          0.7646608077190291,
          null
         ],
         "y": [
          0.05100677472070502,
          0.10192847172652374,
          null
         ]
        },
        {
         "hoverinfo": "text",
         "line": {
          "color": "cornflowerblue",
          "width": 0.3
         },
         "mode": "lines",
         "text": [
          "Gillnet--Megan Hanacek: 1"
         ],
         "type": "scatter",
         "x": [
          0.250212266338565,
          0.3580733953966105,
          null
         ],
         "y": [
          0.05100677472070502,
          0.5328785899573018,
          null
         ]
        },
        {
         "hoverinfo": "text",
         "line": {
          "color": "cornflowerblue",
          "width": 0.3
         },
         "mode": "lines",
         "text": [
          "Gillnet--Mike Lowe: 1"
         ],
         "type": "scatter",
         "x": [
          0.250212266338565,
          0.30262084802000055,
          null
         ],
         "y": [
          0.05100677472070502,
          -0.6900817037865407,
          null
         ]
        },
        {
         "hoverinfo": "text",
         "line": {
          "color": "cornflowerblue",
          "width": 0.3
         },
         "mode": "lines",
         "text": [
          "Gillnet--Mitch Mitchell: 1"
         ],
         "type": "scatter",
         "x": [
          0.250212266338565,
          0.37283882745591235,
          null
         ],
         "y": [
          0.05100677472070502,
          -0.8430629943724753,
          null
         ]
        },
        {
         "hoverinfo": "text",
         "line": {
          "color": "cornflowerblue",
          "width": 0.3
         },
         "mode": "lines",
         "text": [
          "Gillnet--Nathan Donnelly: 1"
         ],
         "type": "scatter",
         "x": [
          0.250212266338565,
          -0.2932939089011811,
          null
         ],
         "y": [
          0.05100677472070502,
          -0.5842392372509401,
          null
         ]
        },
        {
         "hoverinfo": "text",
         "line": {
          "color": "cornflowerblue",
          "width": 1.0090756983044573
         },
         "mode": "lines",
         "text": [
          "Gillnet--Nicole Apelian: 2"
         ],
         "type": "scatter",
         "x": [
          0.250212266338565,
          0.26878954826134965,
          null
         ],
         "y": [
          0.05100677472070502,
          -0.20623505651882393,
          null
         ]
        },
        {
         "hoverinfo": "text",
         "line": {
          "color": "cornflowerblue",
          "width": 0.3
         },
         "mode": "lines",
         "text": [
          "Gillnet--Pete Brockdorff: 1"
         ],
         "type": "scatter",
         "x": [
          0.250212266338565,
          0.5976076136229159,
          null
         ],
         "y": [
          0.05100677472070502,
          0.5496059875401306,
          null
         ]
        },
        {
         "hoverinfo": "text",
         "line": {
          "color": "cornflowerblue",
          "width": 0.3
         },
         "mode": "lines",
         "text": [
          "Gillnet--Randy Champagne: 1"
         ],
         "type": "scatter",
         "x": [
          0.250212266338565,
          -0.349304559305111,
          null
         ],
         "y": [
          0.05100677472070502,
          -0.20173770295454785,
          null
         ]
        },
        {
         "hoverinfo": "text",
         "line": {
          "color": "cornflowerblue",
          "width": 0.3
         },
         "mode": "lines",
         "text": [
          "Gillnet--Roland Welker: 1"
         ],
         "type": "scatter",
         "x": [
          0.250212266338565,
          -0.6803277873559646,
          null
         ],
         "y": [
          0.05100677472070502,
          0.14388344051599708,
          null
         ]
        },
        {
         "hoverinfo": "text",
         "line": {
          "color": "cornflowerblue",
          "width": 0.3
         },
         "mode": "lines",
         "text": [
          "Gillnet--Sam Brockdorff: 1"
         ],
         "type": "scatter",
         "x": [
          0.250212266338565,
          0.7895725287866725,
          null
         ],
         "y": [
          0.05100677472070502,
          -0.23782640566337726,
          null
         ]
        },
        {
         "hoverinfo": "text",
         "line": {
          "color": "cornflowerblue",
          "width": 0.3
         },
         "mode": "lines",
         "text": [
          "Gillnet--Shannon Bosdell: 1"
         ],
         "type": "scatter",
         "x": [
          0.250212266338565,
          0.08408647256603534,
          null
         ],
         "y": [
          0.05100677472070502,
          0.8278971316131882,
          null
         ]
        },
        {
         "hoverinfo": "text",
         "line": {
          "color": "cornflowerblue",
          "width": 0.3
         },
         "mode": "lines",
         "text": [
          "Gillnet--Ted Baird: 1"
         ],
         "type": "scatter",
         "x": [
          0.250212266338565,
          0.42021163583332416,
          null
         ],
         "y": [
          0.05100677472070502,
          0.6306063918738846,
          null
         ]
        },
        {
         "hoverinfo": "text",
         "line": {
          "color": "cornflowerblue",
          "width": 0.3
         },
         "mode": "lines",
         "text": [
          "Gillnet--Tracy Wilson: 1"
         ],
         "type": "scatter",
         "x": [
          0.250212266338565,
          0.6737486629514334,
          null
         ],
         "y": [
          0.05100677472070502,
          0.2423148856093115,
          null
         ]
        },
        {
         "hoverinfo": "text",
         "line": {
          "color": "cornflowerblue",
          "width": 0.3
         },
         "mode": "lines",
         "text": [
          "Knife--Alan Kay: 1"
         ],
         "type": "scatter",
         "x": [
          0.04924779567540872,
          0.815066799980723,
          null
         ],
         "y": [
          -0.17164356118963583,
          0.3326460444066763,
          null
         ]
        },
        {
         "hoverinfo": "text",
         "line": {
          "color": "cornflowerblue",
          "width": 0.3
         },
         "mode": "lines",
         "text": [
          "Knife--Barry Karcher: 1"
         ],
         "type": "scatter",
         "x": [
          0.04924779567540872,
          -0.03751998498056549,
          null
         ],
         "y": [
          -0.17164356118963583,
          -0.6563629833878613,
          null
         ]
        },
        {
         "hoverinfo": "text",
         "line": {
          "color": "cornflowerblue",
          "width": 0.3
         },
         "mode": "lines",
         "text": [
          "Knife--Brad Richardson: 1"
         ],
         "type": "scatter",
         "x": [
          0.04924779567540872,
          0.05984641461518838,
          null
         ],
         "y": [
          -0.17164356118963583,
          0.4399290105576108,
          null
         ]
        },
        {
         "hoverinfo": "text",
         "line": {
          "color": "cornflowerblue",
          "width": 0.3
         },
         "mode": "lines",
         "text": [
          "Knife--Brant McGee: 1"
         ],
         "type": "scatter",
         "x": [
          0.04924779567540872,
          0.6015230857860889,
          null
         ],
         "y": [
          -0.17164356118963583,
          -0.4155406048086862,
          null
         ]
        },
        {
         "hoverinfo": "text",
         "line": {
          "color": "cornflowerblue",
          "width": 1.0090756983044573
         },
         "mode": "lines",
         "text": [
          "Knife--Britt Ahart: 2"
         ],
         "type": "scatter",
         "x": [
          0.04924779567540872,
          -0.2497631631785479,
          null
         ],
         "y": [
          -0.17164356118963583,
          -0.41853936522327173,
          null
         ]
        },
        {
         "hoverinfo": "text",
         "line": {
          "color": "cornflowerblue",
          "width": 0.3
         },
         "mode": "lines",
         "text": [
          "Knife--Callie North: 1"
         ],
         "type": "scatter",
         "x": [
          0.04924779567540872,
          0.7069818503900434,
          null
         ],
         "y": [
          -0.17164356118963583,
          -0.38322354353375715,
          null
         ]
        },
        {
         "hoverinfo": "text",
         "line": {
          "color": "cornflowerblue",
          "width": 0.3
         },
         "mode": "lines",
         "text": [
          "Knife--Callie Russell: 1"
         ],
         "type": "scatter",
         "x": [
          0.04924779567540872,
          -0.40911892652294085,
          null
         ],
         "y": [
          -0.17164356118963583,
          0.4678098215325018,
          null
         ]
        },
        {
         "hoverinfo": "text",
         "line": {
          "color": "cornflowerblue",
          "width": 1.0090756983044573
         },
         "mode": "lines",
         "text": [
          "Knife--Carleigh Fairchild: 2"
         ],
         "type": "scatter",
         "x": [
          0.04924779567540872,
          0.20924019981298217,
          null
         ],
         "y": [
          -0.17164356118963583,
          0.3284587939178709,
          null
         ]
        },
        {
         "hoverinfo": "text",
         "line": {
          "color": "cornflowerblue",
          "width": 0.3
         },
         "mode": "lines",
         "text": [
          "Knife--Chris Weatherman: 1"
         ],
         "type": "scatter",
         "x": [
          0.04924779567540872,
          0.6762748571438286,
          null
         ],
         "y": [
          -0.17164356118963583,
          -0.10771672290687707,
          null
         ]
        },
        {
         "hoverinfo": "text",
         "line": {
          "color": "cornflowerblue",
          "width": 0.3
         },
         "mode": "lines",
         "text": [
          "Knife--Dan Wowak: 1"
         ],
         "type": "scatter",
         "x": [
          0.04924779567540872,
          -0.12721075638771265,
          null
         ],
         "y": [
          -0.17164356118963583,
          -0.806965295635513,
          null
         ]
        },
        {
         "hoverinfo": "text",
         "line": {
          "color": "cornflowerblue",
          "width": 1.0090756983044573
         },
         "mode": "lines",
         "text": [
          "Knife--Dave Nessia: 2"
         ],
         "type": "scatter",
         "x": [
          0.04924779567540872,
          -0.15819207581452197,
          null
         ],
         "y": [
          -0.17164356118963583,
          -0.32146331236271153,
          null
         ]
        },
        {
         "hoverinfo": "text",
         "line": {
          "color": "cornflowerblue",
          "width": 0.3
         },
         "mode": "lines",
         "text": [
          "Knife--David McIntyre: 1"
         ],
         "type": "scatter",
         "x": [
          0.04924779567540872,
          0.6112918996834296,
          null
         ],
         "y": [
          -0.17164356118963583,
          -0.5735080525836848,
          null
         ]
        },
        {
         "hoverinfo": "text",
         "line": {
          "color": "cornflowerblue",
          "width": 0.3
         },
         "mode": "lines",
         "text": [
          "Knife--Desmond White: 1"
         ],
         "type": "scatter",
         "x": [
          0.04924779567540872,
          0.8644714148065687,
          null
         ],
         "y": [
          -0.17164356118963583,
          -0.08364130560083073,
          null
         ]
        },
        {
         "hoverinfo": "text",
         "line": {
          "color": "cornflowerblue",
          "width": 0.3
         },
         "mode": "lines",
         "text": [
          "Knife--Donny Dust: 1"
         ],
         "type": "scatter",
         "x": [
          0.04924779567540872,
          -0.598389093734986,
          null
         ],
         "y": [
          -0.17164356118963583,
          -0.25104108361735633,
          null
         ]
        },
        {
         "hoverinfo": "text",
         "line": {
          "color": "cornflowerblue",
          "width": 0.3
         },
         "mode": "lines",
         "text": [
          "Knife--Dustin Feher: 1"
         ],
         "type": "scatter",
         "x": [
          0.04924779567540872,
          -0.0459491427761949,
          null
         ],
         "y": [
          -0.17164356118963583,
          0.8062427035953487,
          null
         ]
        },
        {
         "hoverinfo": "text",
         "line": {
          "color": "cornflowerblue",
          "width": 0.3
         },
         "mode": "lines",
         "text": [
          "Knife--Greg Ovens: 1"
         ],
         "type": "scatter",
         "x": [
          0.04924779567540872,
          0.5841134288357716,
          null
         ],
         "y": [
          -0.17164356118963583,
          0.05943423685498098,
          null
         ]
        },
        {
         "hoverinfo": "text",
         "line": {
          "color": "cornflowerblue",
          "width": 0.3
         },
         "mode": "lines",
         "text": [
          "Knife--Jacques Turcotte: 1"
         ],
         "type": "scatter",
         "x": [
          0.04924779567540872,
          -0.49760574014961795,
          null
         ],
         "y": [
          -0.17164356118963583,
          0.3237406107058987,
          null
         ]
        },
        {
         "hoverinfo": "text",
         "line": {
          "color": "cornflowerblue",
          "width": 0.3
         },
         "mode": "lines",
         "text": [
          "Knife--Jesse Bosdell: 1"
         ],
         "type": "scatter",
         "x": [
          0.04924779567540872,
          0.1396216938016799,
          null
         ],
         "y": [
          -0.17164356118963583,
          0.5465408455237983,
          null
         ]
        },
        {
         "hoverinfo": "text",
         "line": {
          "color": "cornflowerblue",
          "width": 0.3
         },
         "mode": "lines",
         "text": [
          "Knife--Jessie Krebs: 1"
         ],
         "type": "scatter",
         "x": [
          0.04924779567540872,
          -0.5892249398047921,
          null
         ],
         "y": [
          -0.17164356118963583,
          -0.6863070643601215,
          null
         ]
        },
        {
         "hoverinfo": "text",
         "line": {
          "color": "cornflowerblue",
          "width": 0.3
         },
         "mode": "lines",
         "text": [
          "Knife--Jim Shields: 1"
         ],
         "type": "scatter",
         "x": [
          0.04924779567540872,
          -0.17887445516937944,
          null
         ],
         "y": [
          -0.17164356118963583,
          -0.6437854388020003,
          null
         ]
        },
        {
         "hoverinfo": "text",
         "line": {
          "color": "cornflowerblue",
          "width": 0.3
         },
         "mode": "lines",
         "text": [
          "Knife--Joe Nicholas: 1"
         ],
         "type": "scatter",
         "x": [
          0.04924779567540872,
          0.4703725737274096,
          null
         ],
         "y": [
          -0.17164356118963583,
          0.43497154517033965,
          null
         ]
        },
        {
         "hoverinfo": "text",
         "line": {
          "color": "cornflowerblue",
          "width": 0.3
         },
         "mode": "lines",
         "text": [
          "Knife--Joe Robinet: 1"
         ],
         "type": "scatter",
         "x": [
          0.04924779567540872,
          0.7457519403244229,
          null
         ],
         "y": [
          -0.17164356118963583,
          -0.0797431498192736,
          null
         ]
        },
        {
         "hoverinfo": "text",
         "line": {
          "color": "cornflowerblue",
          "width": 0.3
         },
         "mode": "lines",
         "text": [
          "Knife--Jose Martinez Amoedo: 1"
         ],
         "type": "scatter",
         "x": [
          0.04924779567540872,
          -0.6319766270688345,
          null
         ],
         "y": [
          -0.17164356118963583,
          -0.13472354967767763,
          null
         ]
        },
        {
         "hoverinfo": "text",
         "line": {
          "color": "cornflowerblue",
          "width": 0.3
         },
         "mode": "lines",
         "text": [
          "Knife--Keith Syers: 1"
         ],
         "type": "scatter",
         "x": [
          0.04924779567540872,
          -0.30492698698095455,
          null
         ],
         "y": [
          -0.17164356118963583,
          -0.7701979405779571,
          null
         ]
        },
        {
         "hoverinfo": "text",
         "line": {
          "color": "cornflowerblue",
          "width": 1.0090756983044573
         },
         "mode": "lines",
         "text": [
          "Knife--Larry Roberts: 2"
         ],
         "type": "scatter",
         "x": [
          0.04924779567540872,
          -0.3364232797862773,
          null
         ],
         "y": [
          -0.17164356118963583,
          0.16502950099272184,
          null
         ]
        },
        {
         "hoverinfo": "text",
         "line": {
          "color": "cornflowerblue",
          "width": 0.3
         },
         "mode": "lines",
         "text": [
          "Knife--Lucas Miller: 1"
         ],
         "type": "scatter",
         "x": [
          0.04924779567540872,
          0.3131108731926996,
          null
         ],
         "y": [
          -0.17164356118963583,
          0.6838900750220774,
          null
         ]
        },
        {
         "hoverinfo": "text",
         "line": {
          "color": "cornflowerblue",
          "width": 0.3
         },
         "mode": "lines",
         "text": [
          "Knife--Mary Kate Green: 1"
         ],
         "type": "scatter",
         "x": [
          0.04924779567540872,
          0.7646608077190291,
          null
         ],
         "y": [
          -0.17164356118963583,
          0.10192847172652374,
          null
         ]
        },
        {
         "hoverinfo": "text",
         "line": {
          "color": "cornflowerblue",
          "width": 0.3
         },
         "mode": "lines",
         "text": [
          "Knife--Matt Corradino: 1"
         ],
         "type": "scatter",
         "x": [
          0.04924779567540872,
          -0.20064253198025278,
          null
         ],
         "y": [
          -0.17164356118963583,
          0.7105100559961994,
          null
         ]
        },
        {
         "hoverinfo": "text",
         "line": {
          "color": "cornflowerblue",
          "width": 0.3
         },
         "mode": "lines",
         "text": [
          "Knife--Megan Hanacek: 1"
         ],
         "type": "scatter",
         "x": [
          0.04924779567540872,
          0.3580733953966105,
          null
         ],
         "y": [
          -0.17164356118963583,
          0.5328785899573018,
          null
         ]
        },
        {
         "hoverinfo": "text",
         "line": {
          "color": "cornflowerblue",
          "width": 0.3
         },
         "mode": "lines",
         "text": [
          "Knife--Mike Lowe: 1"
         ],
         "type": "scatter",
         "x": [
          0.04924779567540872,
          0.30262084802000055,
          null
         ],
         "y": [
          -0.17164356118963583,
          -0.6900817037865407,
          null
         ]
        },
        {
         "hoverinfo": "text",
         "line": {
          "color": "cornflowerblue",
          "width": 0.3
         },
         "mode": "lines",
         "text": [
          "Knife--Mitch Mitchell: 1"
         ],
         "type": "scatter",
         "x": [
          0.04924779567540872,
          0.37283882745591235,
          null
         ],
         "y": [
          -0.17164356118963583,
          -0.8430629943724753,
          null
         ]
        },
        {
         "hoverinfo": "text",
         "line": {
          "color": "cornflowerblue",
          "width": 1.0090756983044573
         },
         "mode": "lines",
         "text": [
          "Knife--Nathan Donnelly: 2"
         ],
         "type": "scatter",
         "x": [
          0.04924779567540872,
          -0.2932939089011811,
          null
         ],
         "y": [
          -0.17164356118963583,
          -0.5842392372509401,
          null
         ]
        },
        {
         "hoverinfo": "text",
         "line": {
          "color": "cornflowerblue",
          "width": 1.0090756983044573
         },
         "mode": "lines",
         "text": [
          "Knife--Nicole Apelian: 2"
         ],
         "type": "scatter",
         "x": [
          0.04924779567540872,
          0.26878954826134965,
          null
         ],
         "y": [
          -0.17164356118963583,
          -0.20623505651882393,
          null
         ]
        },
        {
         "hoverinfo": "text",
         "line": {
          "color": "cornflowerblue",
          "width": 0.3
         },
         "mode": "lines",
         "text": [
          "Knife--Nikki van Schyndel: 1"
         ],
         "type": "scatter",
         "x": [
          0.04924779567540872,
          -0.44888430898162773,
          null
         ],
         "y": [
          -0.17164356118963583,
          -0.5754517487206505,
          null
         ]
        },
        {
         "hoverinfo": "text",
         "line": {
          "color": "cornflowerblue",
          "width": 1.0090756983044573
         },
         "mode": "lines",
         "text": [
          "Knife--Randy Champagne: 2"
         ],
         "type": "scatter",
         "x": [
          0.04924779567540872,
          -0.349304559305111,
          null
         ],
         "y": [
          -0.17164356118963583,
          -0.20173770295454785,
          null
         ]
        },
        {
         "hoverinfo": "text",
         "line": {
          "color": "cornflowerblue",
          "width": 0.3
         },
         "mode": "lines",
         "text": [
          "Knife--Ray Livingston: 1"
         ],
         "type": "scatter",
         "x": [
          0.04924779567540872,
          0.4861611815391165,
          null
         ],
         "y": [
          -0.17164356118963583,
          -0.14717529162435514,
          null
         ]
        },
        {
         "hoverinfo": "text",
         "line": {
          "color": "cornflowerblue",
          "width": 0.3
         },
         "mode": "lines",
         "text": [
          "Knife--Roland Welker: 1"
         ],
         "type": "scatter",
         "x": [
          0.04924779567540872,
          -0.6803277873559646,
          null
         ],
         "y": [
          -0.17164356118963583,
          0.14388344051599708,
          null
         ]
        },
        {
         "hoverinfo": "text",
         "line": {
          "color": "cornflowerblue",
          "width": 0.3
         },
         "mode": "lines",
         "text": [
          "Knife--Sam Larson: 1"
         ],
         "type": "scatter",
         "x": [
          0.04924779567540872,
          -0.1820735822325081,
          null
         ],
         "y": [
          -0.17164356118963583,
          0.3266028819567148,
          null
         ]
        },
        {
         "hoverinfo": "text",
         "line": {
          "color": "cornflowerblue",
          "width": 0.3
         },
         "mode": "lines",
         "text": [
          "Knife--Theresa Emmerich Kamper: 1"
         ],
         "type": "scatter",
         "x": [
          0.04924779567540872,
          -0.5954419455642739,
          null
         ],
         "y": [
          -0.17164356118963583,
          -0.030911466412550843,
          null
         ]
        },
        {
         "hoverinfo": "text",
         "line": {
          "color": "cornflowerblue",
          "width": 0.3
         },
         "mode": "lines",
         "text": [
          "Knife--Tim Backus: 1"
         ],
         "type": "scatter",
         "x": [
          0.04924779567540872,
          -0.8346955697213538,
          null
         ],
         "y": [
          -0.17164356118963583,
          -0.2072659581108296,
          null
         ]
        },
        {
         "hoverinfo": "text",
         "line": {
          "color": "cornflowerblue",
          "width": 0.3
         },
         "mode": "lines",
         "text": [
          "Knife--Tracy Wilson: 1"
         ],
         "type": "scatter",
         "x": [
          0.04924779567540872,
          0.6737486629514334,
          null
         ],
         "y": [
          -0.17164356118963583,
          0.2423148856093115,
          null
         ]
        },
        {
         "hoverinfo": "text",
         "line": {
          "color": "cornflowerblue",
          "width": 0.3
         },
         "mode": "lines",
         "text": [
          "Knife--Wayne Russell: 1"
         ],
         "type": "scatter",
         "x": [
          0.04924779567540872,
          -0.01698685123302949,
          null
         ],
         "y": [
          -0.17164356118963583,
          -0.8677581074083068,
          null
         ]
        },
        {
         "hoverinfo": "text",
         "line": {
          "color": "cornflowerblue",
          "width": 0.3
         },
         "mode": "lines",
         "text": [
          "Knife--Woniya Thibeault: 1"
         ],
         "type": "scatter",
         "x": [
          0.04924779567540872,
          -0.7325621231282693,
          null
         ],
         "y": [
          -0.17164356118963583,
          -0.30412075447223474,
          null
         ]
        },
        {
         "hoverinfo": "text",
         "line": {
          "color": "cornflowerblue",
          "width": 0.3
         },
         "mode": "lines",
         "text": [
          "Knife--Zachary Gault: 1"
         ],
         "type": "scatter",
         "x": [
          0.04924779567540872,
          -0.7968801789443809,
          null
         ],
         "y": [
          -0.17164356118963583,
          -0.03162239453647401,
          null
         ]
        },
        {
         "hoverinfo": "text",
         "line": {
          "color": "cornflowerblue",
          "width": 0.3
         },
         "mode": "lines",
         "text": [
          "Multitool--Adam Riley: 1"
         ],
         "type": "scatter",
         "x": [
          -0.2658598469540552,
          0.4231282311244024,
          null
         ],
         "y": [
          -0.03300167398337394,
          -0.4816436280899793,
          null
         ]
        },
        {
         "hoverinfo": "text",
         "line": {
          "color": "cornflowerblue",
          "width": 0.3
         },
         "mode": "lines",
         "text": [
          "Multitool--Alex Ribar: 1"
         ],
         "type": "scatter",
         "x": [
          -0.2658598469540552,
          -0.29962651788445005,
          null
         ],
         "y": [
          -0.03300167398337394,
          0.7352242658938394,
          null
         ]
        },
        {
         "hoverinfo": "text",
         "line": {
          "color": "cornflowerblue",
          "width": 0.3
         },
         "mode": "lines",
         "text": [
          "Multitool--Amos Rodriguez: 1"
         ],
         "type": "scatter",
         "x": [
          -0.2658598469540552,
          0.0682803892041071,
          null
         ],
         "y": [
          -0.03300167398337394,
          -0.7245285080827909,
          null
         ]
        },
        {
         "hoverinfo": "text",
         "line": {
          "color": "cornflowerblue",
          "width": 0.3
         },
         "mode": "lines",
         "text": [
          "Multitool--Benki Hill: 1"
         ],
         "type": "scatter",
         "x": [
          -0.2658598469540552,
          -0.7675888778670847,
          null
         ],
         "y": [
          -0.03300167398337394,
          0.46054709803718463,
          null
         ]
        },
        {
         "hoverinfo": "text",
         "line": {
          "color": "cornflowerblue",
          "width": 0.3
         },
         "mode": "lines",
         "text": [
          "Multitool--Biko Wright: 1"
         ],
         "type": "scatter",
         "x": [
          -0.2658598469540552,
          0.48312640249247935,
          null
         ],
         "y": [
          -0.03300167398337394,
          -0.31655373770660206,
          null
         ]
        },
        {
         "hoverinfo": "text",
         "line": {
          "color": "cornflowerblue",
          "width": 0.3
         },
         "mode": "lines",
         "text": [
          "Multitool--Brady Nicholls: 1"
         ],
         "type": "scatter",
         "x": [
          -0.2658598469540552,
          0.13346439365291393,
          null
         ],
         "y": [
          -0.03300167398337394,
          -0.4829246395259961,
          null
         ]
        },
        {
         "hoverinfo": "text",
         "line": {
          "color": "cornflowerblue",
          "width": 1.0090756983044573
         },
         "mode": "lines",
         "text": [
          "Multitool--Britt Ahart: 2"
         ],
         "type": "scatter",
         "x": [
          -0.2658598469540552,
          -0.2497631631785479,
          null
         ],
         "y": [
          -0.03300167398337394,
          -0.41853936522327173,
          null
         ]
        },
        {
         "hoverinfo": "text",
         "line": {
          "color": "cornflowerblue",
          "width": 0.3
         },
         "mode": "lines",
         "text": [
          "Multitool--Brooke Whipple: 1"
         ],
         "type": "scatter",
         "x": [
          -0.2658598469540552,
          -0.06443041586361846,
          null
         ],
         "y": [
          -0.03300167398337394,
          0.43698357904344115,
          null
         ]
        },
        {
         "hoverinfo": "text",
         "line": {
          "color": "cornflowerblue",
          "width": 0.3
         },
         "mode": "lines",
         "text": [
          "Multitool--Clay Hayes: 1"
         ],
         "type": "scatter",
         "x": [
          -0.2658598469540552,
          -0.5667181352988339,
          null
         ],
         "y": [
          -0.03300167398337394,
          0.46031393361436546,
          null
         ]
        },
        {
         "hoverinfo": "text",
         "line": {
          "color": "cornflowerblue",
          "width": 0.3
         },
         "mode": "lines",
         "text": [
          "Multitool--Colter Barnes: 1"
         ],
         "type": "scatter",
         "x": [
          -0.2658598469540552,
          0.2921842173185547,
          null
         ],
         "y": [
          -0.03300167398337394,
          -0.4206342073418396,
          null
         ]
        },
        {
         "hoverinfo": "text",
         "line": {
          "color": "cornflowerblue",
          "width": 0.3
         },
         "mode": "lines",
         "text": [
          "Multitool--Correy Hawk: 1"
         ],
         "type": "scatter",
         "x": [
          -0.2658598469540552,
          -0.72740767404415,
          null
         ],
         "y": [
          -0.03300167398337394,
          -0.42716753086886317,
          null
         ]
        },
        {
         "hoverinfo": "text",
         "line": {
          "color": "cornflowerblue",
          "width": 0.3
         },
         "mode": "lines",
         "text": [
          "Multitool--Igor Limansky: 1"
         ],
         "type": "scatter",
         "x": [
          -0.2658598469540552,
          0.37559142637995513,
          null
         ],
         "y": [
          -0.03300167398337394,
          -0.2931818437887316,
          null
         ]
        },
        {
         "hoverinfo": "text",
         "line": {
          "color": "cornflowerblue",
          "width": 0.3
         },
         "mode": "lines",
         "text": [
          "Multitool--Jacques Turcotte: 1"
         ],
         "type": "scatter",
         "x": [
          -0.2658598469540552,
          -0.49760574014961795,
          null
         ],
         "y": [
          -0.03300167398337394,
          0.3237406107058987,
          null
         ]
        },
        {
         "hoverinfo": "text",
         "line": {
          "color": "cornflowerblue",
          "width": 0.3
         },
         "mode": "lines",
         "text": [
          "Multitool--Jesse Bosdell: 1"
         ],
         "type": "scatter",
         "x": [
          -0.2658598469540552,
          0.1396216938016799,
          null
         ],
         "y": [
          -0.03300167398337394,
          0.5465408455237983,
          null
         ]
        },
        {
         "hoverinfo": "text",
         "line": {
          "color": "cornflowerblue",
          "width": 0.3
         },
         "mode": "lines",
         "text": [
          "Multitool--Jessie Krebs: 1"
         ],
         "type": "scatter",
         "x": [
          -0.2658598469540552,
          -0.5892249398047921,
          null
         ],
         "y": [
          -0.03300167398337394,
          -0.6863070643601215,
          null
         ]
        },
        {
         "hoverinfo": "text",
         "line": {
          "color": "cornflowerblue",
          "width": 0.3
         },
         "mode": "lines",
         "text": [
          "Multitool--Jim Baird: 1"
         ],
         "type": "scatter",
         "x": [
          -0.2658598469540552,
          -0.3638893093665568,
          null
         ],
         "y": [
          -0.03300167398337394,
          0.6380621974306803,
          null
         ]
        },
        {
         "hoverinfo": "text",
         "line": {
          "color": "cornflowerblue",
          "width": 0.3
         },
         "mode": "lines",
         "text": [
          "Multitool--Joel Van Der Loon: 1"
         ],
         "type": "scatter",
         "x": [
          -0.2658598469540552,
          -0.5052226395097973,
          null
         ],
         "y": [
          -0.03300167398337394,
          -0.3745727323423614,
          null
         ]
        },
        {
         "hoverinfo": "text",
         "line": {
          "color": "cornflowerblue",
          "width": 0.3
         },
         "mode": "lines",
         "text": [
          "Multitool--Jordan Jonas: 1"
         ],
         "type": "scatter",
         "x": [
          -0.2658598469540552,
          -0.7329533216627765,
          null
         ],
         "y": [
          -0.03300167398337394,
          -0.5533096892464248,
          null
         ]
        },
        {
         "hoverinfo": "text",
         "line": {
          "color": "cornflowerblue",
          "width": 0.3
         },
         "mode": "lines",
         "text": [
          "Multitool--Jordon Bell: 1"
         ],
         "type": "scatter",
         "x": [
          -0.2658598469540552,
          -0.07672216484877323,
          null
         ],
         "y": [
          -0.03300167398337394,
          0.6679323572140383,
          null
         ]
        },
        {
         "hoverinfo": "text",
         "line": {
          "color": "cornflowerblue",
          "width": 0.3
         },
         "mode": "lines",
         "text": [
          "Multitool--Jose Martinez Amoedo: 1"
         ],
         "type": "scatter",
         "x": [
          -0.2658598469540552,
          -0.6319766270688345,
          null
         ],
         "y": [
          -0.03300167398337394,
          -0.13472354967767763,
          null
         ]
        },
        {
         "hoverinfo": "text",
         "line": {
          "color": "cornflowerblue",
          "width": 0.3
         },
         "mode": "lines",
         "text": [
          "Multitool--Juan Pablo Quinonez: 1"
         ],
         "type": "scatter",
         "x": [
          -0.2658598469540552,
          0.3573511980627373,
          null
         ],
         "y": [
          -0.03300167398337394,
          0.26989400434930627,
          null
         ]
        },
        {
         "hoverinfo": "text",
         "line": {
          "color": "cornflowerblue",
          "width": 0.3
         },
         "mode": "lines",
         "text": [
          "Multitool--Justin Vititoe: 1"
         ],
         "type": "scatter",
         "x": [
          -0.2658598469540552,
          0.16096581098835464,
          null
         ],
         "y": [
          -0.03300167398337394,
          0.9041150378816133,
          null
         ]
        },
        {
         "hoverinfo": "text",
         "line": {
          "color": "cornflowerblue",
          "width": 0.3
         },
         "mode": "lines",
         "text": [
          "Multitool--Karie Lee Knoke: 1"
         ],
         "type": "scatter",
         "x": [
          -0.2658598469540552,
          0.2534601432680607,
          null
         ],
         "y": [
          -0.03300167398337394,
          -0.5671790990454183,
          null
         ]
        },
        {
         "hoverinfo": "text",
         "line": {
          "color": "cornflowerblue",
          "width": 0.3
         },
         "mode": "lines",
         "text": [
          "Multitool--Keith Syers: 1"
         ],
         "type": "scatter",
         "x": [
          -0.2658598469540552,
          -0.30492698698095455,
          null
         ],
         "y": [
          -0.03300167398337394,
          -0.7701979405779571,
          null
         ]
        },
        {
         "hoverinfo": "text",
         "line": {
          "color": "cornflowerblue",
          "width": 0.3
         },
         "mode": "lines",
         "text": [
          "Multitool--Kielyn Marrone: 1"
         ],
         "type": "scatter",
         "x": [
          -0.2658598469540552,
          0.16370592574901813,
          null
         ],
         "y": [
          -0.03300167398337394,
          0.4688551620748274,
          null
         ]
        },
        {
         "hoverinfo": "text",
         "line": {
          "color": "cornflowerblue",
          "width": 0.3
         },
         "mode": "lines",
         "text": [
          "Multitool--Logan Ribar: 1"
         ],
         "type": "scatter",
         "x": [
          -0.2658598469540552,
          0.008267981975036148,
          null
         ],
         "y": [
          -0.03300167398337394,
          -0.4928787114965203,
          null
         ]
        },
        {
         "hoverinfo": "text",
         "line": {
          "color": "cornflowerblue",
          "width": 0.3
         },
         "mode": "lines",
         "text": [
          "Multitool--Mark D'Ambrosio: 1"
         ],
         "type": "scatter",
         "x": [
          -0.2658598469540552,
          -0.821198931605355,
          null
         ],
         "y": [
          -0.03300167398337394,
          0.251707705900538,
          null
         ]
        },
        {
         "hoverinfo": "text",
         "line": {
          "color": "cornflowerblue",
          "width": 0.3
         },
         "mode": "lines",
         "text": [
          "Multitool--Michelle Finn: 1"
         ],
         "type": "scatter",
         "x": [
          -0.2658598469540552,
          -0.6045440501381834,
          null
         ],
         "y": [
          -0.03300167398337394,
          -0.48305458918849853,
          null
         ]
        },
        {
         "hoverinfo": "text",
         "line": {
          "color": "cornflowerblue",
          "width": 0.3
         },
         "mode": "lines",
         "text": [
          "Multitool--Michelle Wohlberg: 1"
         ],
         "type": "scatter",
         "x": [
          -0.2658598469540552,
          -0.1938042578318345,
          null
         ],
         "y": [
          -0.03300167398337394,
          0.5902316390105835,
          null
         ]
        },
        {
         "hoverinfo": "text",
         "line": {
          "color": "cornflowerblue",
          "width": 0.3
         },
         "mode": "lines",
         "text": [
          "Multitool--Nate Weber: 1"
         ],
         "type": "scatter",
         "x": [
          -0.2658598469540552,
          -0.7150813604179511,
          null
         ],
         "y": [
          -0.03300167398337394,
          0.03847680432140553,
          null
         ]
        },
        {
         "hoverinfo": "text",
         "line": {
          "color": "cornflowerblue",
          "width": 0.3
         },
         "mode": "lines",
         "text": [
          "Multitool--Nicole Apelian: 1"
         ],
         "type": "scatter",
         "x": [
          -0.2658598469540552,
          0.26878954826134965,
          null
         ],
         "y": [
          -0.03300167398337394,
          -0.20623505651882393,
          null
         ]
        },
        {
         "hoverinfo": "text",
         "line": {
          "color": "cornflowerblue",
          "width": 0.3
         },
         "mode": "lines",
         "text": [
          "Multitool--Ray Livingston: 1"
         ],
         "type": "scatter",
         "x": [
          -0.2658598469540552,
          0.4861611815391165,
          null
         ],
         "y": [
          -0.03300167398337394,
          -0.14717529162435514,
          null
         ]
        },
        {
         "hoverinfo": "text",
         "line": {
          "color": "cornflowerblue",
          "width": 0.3
         },
         "mode": "lines",
         "text": [
          "Multitool--Roland Welker: 1"
         ],
         "type": "scatter",
         "x": [
          -0.2658598469540552,
          -0.6803277873559646,
          null
         ],
         "y": [
          -0.03300167398337394,
          0.14388344051599708,
          null
         ]
        },
        {
         "hoverinfo": "text",
         "line": {
          "color": "cornflowerblue",
          "width": 0.3
         },
         "mode": "lines",
         "text": [
          "Multitool--Rose Anna Moore: 1"
         ],
         "type": "scatter",
         "x": [
          -0.2658598469540552,
          -0.5806984395819331,
          null
         ],
         "y": [
          -0.03300167398337394,
          0.5741478282855389,
          null
         ]
        },
        {
         "hoverinfo": "text",
         "line": {
          "color": "cornflowerblue",
          "width": 0.3
         },
         "mode": "lines",
         "text": [
          "Multitool--Sam Larson: 1"
         ],
         "type": "scatter",
         "x": [
          -0.2658598469540552,
          -0.1820735822325081,
          null
         ],
         "y": [
          -0.03300167398337394,
          0.3266028819567148,
          null
         ]
        },
        {
         "hoverinfo": "text",
         "line": {
          "color": "cornflowerblue",
          "width": 0.3
         },
         "mode": "lines",
         "text": [
          "Multitool--Shannon Bosdell: 1"
         ],
         "type": "scatter",
         "x": [
          -0.2658598469540552,
          0.08408647256603534,
          null
         ],
         "y": [
          -0.03300167398337394,
          0.8278971316131882,
          null
         ]
        },
        {
         "hoverinfo": "text",
         "line": {
          "color": "cornflowerblue",
          "width": 0.3
         },
         "mode": "lines",
         "text": [
          "Multitool--Shawn Helton: 1"
         ],
         "type": "scatter",
         "x": [
          -0.2658598469540552,
          -0.43802320462146654,
          null
         ],
         "y": [
          -0.03300167398337394,
          -0.7462571818068016,
          null
         ]
        },
        {
         "hoverinfo": "text",
         "line": {
          "color": "cornflowerblue",
          "width": 0.3
         },
         "mode": "lines",
         "text": [
          "Multitool--Ted Baird: 1"
         ],
         "type": "scatter",
         "x": [
          -0.2658598469540552,
          0.42021163583332416,
          null
         ],
         "y": [
          -0.03300167398337394,
          0.6306063918738846,
          null
         ]
        },
        {
         "hoverinfo": "text",
         "line": {
          "color": "cornflowerblue",
          "width": 0.3
         },
         "mode": "lines",
         "text": [
          "Multitool--Teimojin Tan: 1"
         ],
         "type": "scatter",
         "x": [
          -0.2658598469540552,
          -0.6574377690196297,
          null
         ],
         "y": [
          -0.03300167398337394,
          0.3744098743947772,
          null
         ]
        },
        {
         "hoverinfo": "text",
         "line": {
          "color": "cornflowerblue",
          "width": 0.3
         },
         "mode": "lines",
         "text": [
          "Multitool--Terry Burns: 1"
         ],
         "type": "scatter",
         "x": [
          -0.2658598469540552,
          0.13251353954568354,
          null
         ],
         "y": [
          -0.03300167398337394,
          -0.6593339851762245,
          null
         ]
        },
        {
         "hoverinfo": "text",
         "line": {
          "color": "cornflowerblue",
          "width": 0.3
         },
         "mode": "lines",
         "text": [
          "Multitool--Tim Madsen: 1"
         ],
         "type": "scatter",
         "x": [
          -0.2658598469540552,
          0.46464938444806847,
          null
         ],
         "y": [
          -0.03300167398337394,
          0.03696312994248573,
          null
         ]
        },
        {
         "hoverinfo": "text",
         "line": {
          "color": "cornflowerblue",
          "width": 0.3
         },
         "mode": "lines",
         "text": [
          "Multitool--Tom Garstang: 1"
         ],
         "type": "scatter",
         "x": [
          -0.2658598469540552,
          -0.7017971597054672,
          null
         ],
         "y": [
          -0.03300167398337394,
          0.25367816904649765,
          null
         ]
        },
        {
         "hoverinfo": "text",
         "line": {
          "color": "cornflowerblue",
          "width": 0.3
         },
         "mode": "lines",
         "text": [
          "Multitool--Wayne Russell: 1"
         ],
         "type": "scatter",
         "x": [
          -0.2658598469540552,
          -0.01698685123302949,
          null
         ],
         "y": [
          -0.03300167398337394,
          -0.8677581074083068,
          null
         ]
        },
        {
         "hoverinfo": "text",
         "line": {
          "color": "cornflowerblue",
          "width": 0.3
         },
         "mode": "lines",
         "text": [
          "Multitool--Woniya Thibeault: 1"
         ],
         "type": "scatter",
         "x": [
          -0.2658598469540552,
          -0.7325621231282693,
          null
         ],
         "y": [
          -0.03300167398337394,
          -0.30412075447223474,
          null
         ]
        },
        {
         "hoverinfo": "text",
         "line": {
          "color": "cornflowerblue",
          "width": 0.3
         },
         "mode": "lines",
         "text": [
          "Multitool--Zachary Fowler: 1"
         ],
         "type": "scatter",
         "x": [
          -0.2658598469540552,
          -0.9364475679671536,
          null
         ],
         "y": [
          -0.03300167398337394,
          0.06687756482110661,
          null
         ]
        },
        {
         "hoverinfo": "text",
         "line": {
          "color": "cornflowerblue",
          "width": 0.3
         },
         "mode": "lines",
         "text": [
          "Paracord--Alex Ribar: 1"
         ],
         "type": "scatter",
         "x": [
          -0.16494032973300557,
          -0.29962651788445005,
          null
         ],
         "y": [
          -0.13972353443695917,
          0.7352242658938394,
          null
         ]
        },
        {
         "hoverinfo": "text",
         "line": {
          "color": "cornflowerblue",
          "width": 0.3
         },
         "mode": "lines",
         "text": [
          "Paracord--Amos Rodriguez: 1"
         ],
         "type": "scatter",
         "x": [
          -0.16494032973300557,
          0.0682803892041071,
          null
         ],
         "y": [
          -0.13972353443695917,
          -0.7245285080827909,
          null
         ]
        },
        {
         "hoverinfo": "text",
         "line": {
          "color": "cornflowerblue",
          "width": 0.3
         },
         "mode": "lines",
         "text": [
          "Paracord--Barry Karcher: 1"
         ],
         "type": "scatter",
         "x": [
          -0.16494032973300557,
          -0.03751998498056549,
          null
         ],
         "y": [
          -0.13972353443695917,
          -0.6563629833878613,
          null
         ]
        },
        {
         "hoverinfo": "text",
         "line": {
          "color": "cornflowerblue",
          "width": 0.3
         },
         "mode": "lines",
         "text": [
          "Paracord--Benki Hill: 1"
         ],
         "type": "scatter",
         "x": [
          -0.16494032973300557,
          -0.7675888778670847,
          null
         ],
         "y": [
          -0.13972353443695917,
          0.46054709803718463,
          null
         ]
        },
        {
         "hoverinfo": "text",
         "line": {
          "color": "cornflowerblue",
          "width": 0.3
         },
         "mode": "lines",
         "text": [
          "Paracord--Biko Wright: 1"
         ],
         "type": "scatter",
         "x": [
          -0.16494032973300557,
          0.48312640249247935,
          null
         ],
         "y": [
          -0.13972353443695917,
          -0.31655373770660206,
          null
         ]
        },
        {
         "hoverinfo": "text",
         "line": {
          "color": "cornflowerblue",
          "width": 0.3
         },
         "mode": "lines",
         "text": [
          "Paracord--Brant McGee: 1"
         ],
         "type": "scatter",
         "x": [
          -0.16494032973300557,
          0.6015230857860889,
          null
         ],
         "y": [
          -0.13972353443695917,
          -0.4155406048086862,
          null
         ]
        },
        {
         "hoverinfo": "text",
         "line": {
          "color": "cornflowerblue",
          "width": 1.0090756983044573
         },
         "mode": "lines",
         "text": [
          "Paracord--Britt Ahart: 2"
         ],
         "type": "scatter",
         "x": [
          -0.16494032973300557,
          -0.2497631631785479,
          null
         ],
         "y": [
          -0.13972353443695917,
          -0.41853936522327173,
          null
         ]
        },
        {
         "hoverinfo": "text",
         "line": {
          "color": "cornflowerblue",
          "width": 0.3
         },
         "mode": "lines",
         "text": [
          "Paracord--Callie North: 1"
         ],
         "type": "scatter",
         "x": [
          -0.16494032973300557,
          0.7069818503900434,
          null
         ],
         "y": [
          -0.13972353443695917,
          -0.38322354353375715,
          null
         ]
        },
        {
         "hoverinfo": "text",
         "line": {
          "color": "cornflowerblue",
          "width": 0.3
         },
         "mode": "lines",
         "text": [
          "Paracord--Callie Russell: 1"
         ],
         "type": "scatter",
         "x": [
          -0.16494032973300557,
          -0.40911892652294085,
          null
         ],
         "y": [
          -0.13972353443695917,
          0.4678098215325018,
          null
         ]
        },
        {
         "hoverinfo": "text",
         "line": {
          "color": "cornflowerblue",
          "width": 1.0090756983044573
         },
         "mode": "lines",
         "text": [
          "Paracord--Carleigh Fairchild: 2"
         ],
         "type": "scatter",
         "x": [
          -0.16494032973300557,
          0.20924019981298217,
          null
         ],
         "y": [
          -0.13972353443695917,
          0.3284587939178709,
          null
         ]
        },
        {
         "hoverinfo": "text",
         "line": {
          "color": "cornflowerblue",
          "width": 0.3
         },
         "mode": "lines",
         "text": [
          "Paracord--Clay Hayes: 1"
         ],
         "type": "scatter",
         "x": [
          -0.16494032973300557,
          -0.5667181352988339,
          null
         ],
         "y": [
          -0.13972353443695917,
          0.46031393361436546,
          null
         ]
        },
        {
         "hoverinfo": "text",
         "line": {
          "color": "cornflowerblue",
          "width": 0.3
         },
         "mode": "lines",
         "text": [
          "Paracord--Colter Barnes: 1"
         ],
         "type": "scatter",
         "x": [
          -0.16494032973300557,
          0.2921842173185547,
          null
         ],
         "y": [
          -0.13972353443695917,
          -0.4206342073418396,
          null
         ]
        },
        {
         "hoverinfo": "text",
         "line": {
          "color": "cornflowerblue",
          "width": 0.3
         },
         "mode": "lines",
         "text": [
          "Paracord--Correy Hawk: 1"
         ],
         "type": "scatter",
         "x": [
          -0.16494032973300557,
          -0.72740767404415,
          null
         ],
         "y": [
          -0.13972353443695917,
          -0.42716753086886317,
          null
         ]
        },
        {
         "hoverinfo": "text",
         "line": {
          "color": "cornflowerblue",
          "width": 0.3
         },
         "mode": "lines",
         "text": [
          "Paracord--Dan Wowak: 1"
         ],
         "type": "scatter",
         "x": [
          -0.16494032973300557,
          -0.12721075638771265,
          null
         ],
         "y": [
          -0.13972353443695917,
          -0.806965295635513,
          null
         ]
        },
        {
         "hoverinfo": "text",
         "line": {
          "color": "cornflowerblue",
          "width": 0.3
         },
         "mode": "lines",
         "text": [
          "Paracord--Donny Dust: 1"
         ],
         "type": "scatter",
         "x": [
          -0.16494032973300557,
          -0.598389093734986,
          null
         ],
         "y": [
          -0.13972353443695917,
          -0.25104108361735633,
          null
         ]
        },
        {
         "hoverinfo": "text",
         "line": {
          "color": "cornflowerblue",
          "width": 0.3
         },
         "mode": "lines",
         "text": [
          "Paracord--Dustin Feher: 1"
         ],
         "type": "scatter",
         "x": [
          -0.16494032973300557,
          -0.0459491427761949,
          null
         ],
         "y": [
          -0.13972353443695917,
          0.8062427035953487,
          null
         ]
        },
        {
         "hoverinfo": "text",
         "line": {
          "color": "cornflowerblue",
          "width": 0.3
         },
         "mode": "lines",
         "text": [
          "Paracord--Greg Ovens: 1"
         ],
         "type": "scatter",
         "x": [
          -0.16494032973300557,
          0.5841134288357716,
          null
         ],
         "y": [
          -0.13972353443695917,
          0.05943423685498098,
          null
         ]
        },
        {
         "hoverinfo": "text",
         "line": {
          "color": "cornflowerblue",
          "width": 0.3
         },
         "mode": "lines",
         "text": [
          "Paracord--Igor Limansky: 1"
         ],
         "type": "scatter",
         "x": [
          -0.16494032973300557,
          0.37559142637995513,
          null
         ],
         "y": [
          -0.13972353443695917,
          -0.2931818437887316,
          null
         ]
        },
        {
         "hoverinfo": "text",
         "line": {
          "color": "cornflowerblue",
          "width": 0.3
         },
         "mode": "lines",
         "text": [
          "Paracord--Jessie Krebs: 1"
         ],
         "type": "scatter",
         "x": [
          -0.16494032973300557,
          -0.5892249398047921,
          null
         ],
         "y": [
          -0.13972353443695917,
          -0.6863070643601215,
          null
         ]
        },
        {
         "hoverinfo": "text",
         "line": {
          "color": "cornflowerblue",
          "width": 0.3
         },
         "mode": "lines",
         "text": [
          "Paracord--Jim Shields: 1"
         ],
         "type": "scatter",
         "x": [
          -0.16494032973300557,
          -0.17887445516937944,
          null
         ],
         "y": [
          -0.13972353443695917,
          -0.6437854388020003,
          null
         ]
        },
        {
         "hoverinfo": "text",
         "line": {
          "color": "cornflowerblue",
          "width": 0.3
         },
         "mode": "lines",
         "text": [
          "Paracord--Joe Nicholas: 1"
         ],
         "type": "scatter",
         "x": [
          -0.16494032973300557,
          0.4703725737274096,
          null
         ],
         "y": [
          -0.13972353443695917,
          0.43497154517033965,
          null
         ]
        },
        {
         "hoverinfo": "text",
         "line": {
          "color": "cornflowerblue",
          "width": 0.3
         },
         "mode": "lines",
         "text": [
          "Paracord--Joe Robinet: 1"
         ],
         "type": "scatter",
         "x": [
          -0.16494032973300557,
          0.7457519403244229,
          null
         ],
         "y": [
          -0.13972353443695917,
          -0.0797431498192736,
          null
         ]
        },
        {
         "hoverinfo": "text",
         "line": {
          "color": "cornflowerblue",
          "width": 0.3
         },
         "mode": "lines",
         "text": [
          "Paracord--Jordan Jonas: 1"
         ],
         "type": "scatter",
         "x": [
          -0.16494032973300557,
          -0.7329533216627765,
          null
         ],
         "y": [
          -0.13972353443695917,
          -0.5533096892464248,
          null
         ]
        },
        {
         "hoverinfo": "text",
         "line": {
          "color": "cornflowerblue",
          "width": 0.3
         },
         "mode": "lines",
         "text": [
          "Paracord--Josh Chavez: 1"
         ],
         "type": "scatter",
         "x": [
          -0.16494032973300557,
          0.42205675328593906,
          null
         ],
         "y": [
          -0.13972353443695917,
          -0.6797172750600777,
          null
         ]
        },
        {
         "hoverinfo": "text",
         "line": {
          "color": "cornflowerblue",
          "width": 0.3
         },
         "mode": "lines",
         "text": [
          "Paracord--Juan Pablo Quinonez: 1"
         ],
         "type": "scatter",
         "x": [
          -0.16494032973300557,
          0.3573511980627373,
          null
         ],
         "y": [
          -0.13972353443695917,
          0.26989400434930627,
          null
         ]
        },
        {
         "hoverinfo": "text",
         "line": {
          "color": "cornflowerblue",
          "width": 0.3
         },
         "mode": "lines",
         "text": [
          "Paracord--Karie Lee Knoke: 1"
         ],
         "type": "scatter",
         "x": [
          -0.16494032973300557,
          0.2534601432680607,
          null
         ],
         "y": [
          -0.13972353443695917,
          -0.5671790990454183,
          null
         ]
        },
        {
         "hoverinfo": "text",
         "line": {
          "color": "cornflowerblue",
          "width": 0.3
         },
         "mode": "lines",
         "text": [
          "Paracord--Keith Syers: 1"
         ],
         "type": "scatter",
         "x": [
          -0.16494032973300557,
          -0.30492698698095455,
          null
         ],
         "y": [
          -0.13972353443695917,
          -0.7701979405779571,
          null
         ]
        },
        {
         "hoverinfo": "text",
         "line": {
          "color": "cornflowerblue",
          "width": 0.3
         },
         "mode": "lines",
         "text": [
          "Paracord--Kielyn Marrone: 1"
         ],
         "type": "scatter",
         "x": [
          -0.16494032973300557,
          0.16370592574901813,
          null
         ],
         "y": [
          -0.13972353443695917,
          0.4688551620748274,
          null
         ]
        },
        {
         "hoverinfo": "text",
         "line": {
          "color": "cornflowerblue",
          "width": 1.0090756983044573
         },
         "mode": "lines",
         "text": [
          "Paracord--Larry Roberts: 2"
         ],
         "type": "scatter",
         "x": [
          -0.16494032973300557,
          -0.3364232797862773,
          null
         ],
         "y": [
          -0.13972353443695917,
          0.16502950099272184,
          null
         ]
        },
        {
         "hoverinfo": "text",
         "line": {
          "color": "cornflowerblue",
          "width": 0.3
         },
         "mode": "lines",
         "text": [
          "Paracord--Logan Ribar: 1"
         ],
         "type": "scatter",
         "x": [
          -0.16494032973300557,
          0.008267981975036148,
          null
         ],
         "y": [
          -0.13972353443695917,
          -0.4928787114965203,
          null
         ]
        },
        {
         "hoverinfo": "text",
         "line": {
          "color": "cornflowerblue",
          "width": 0.3
         },
         "mode": "lines",
         "text": [
          "Paracord--Mark D'Ambrosio: 1"
         ],
         "type": "scatter",
         "x": [
          -0.16494032973300557,
          -0.821198931605355,
          null
         ],
         "y": [
          -0.13972353443695917,
          0.251707705900538,
          null
         ]
        },
        {
         "hoverinfo": "text",
         "line": {
          "color": "cornflowerblue",
          "width": 0.3
         },
         "mode": "lines",
         "text": [
          "Paracord--Matt Corradino: 1"
         ],
         "type": "scatter",
         "x": [
          -0.16494032973300557,
          -0.20064253198025278,
          null
         ],
         "y": [
          -0.13972353443695917,
          0.7105100559961994,
          null
         ]
        },
        {
         "hoverinfo": "text",
         "line": {
          "color": "cornflowerblue",
          "width": 0.3
         },
         "mode": "lines",
         "text": [
          "Paracord--Megan Hanacek: 1"
         ],
         "type": "scatter",
         "x": [
          -0.16494032973300557,
          0.3580733953966105,
          null
         ],
         "y": [
          -0.13972353443695917,
          0.5328785899573018,
          null
         ]
        },
        {
         "hoverinfo": "text",
         "line": {
          "color": "cornflowerblue",
          "width": 0.3
         },
         "mode": "lines",
         "text": [
          "Paracord--Michelle Finn: 1"
         ],
         "type": "scatter",
         "x": [
          -0.16494032973300557,
          -0.6045440501381834,
          null
         ],
         "y": [
          -0.13972353443695917,
          -0.48305458918849853,
          null
         ]
        },
        {
         "hoverinfo": "text",
         "line": {
          "color": "cornflowerblue",
          "width": 0.3
         },
         "mode": "lines",
         "text": [
          "Paracord--Michelle Wohlberg: 1"
         ],
         "type": "scatter",
         "x": [
          -0.16494032973300557,
          -0.1938042578318345,
          null
         ],
         "y": [
          -0.13972353443695917,
          0.5902316390105835,
          null
         ]
        },
        {
         "hoverinfo": "text",
         "line": {
          "color": "cornflowerblue",
          "width": 0.3
         },
         "mode": "lines",
         "text": [
          "Paracord--Nate Weber: 1"
         ],
         "type": "scatter",
         "x": [
          -0.16494032973300557,
          -0.7150813604179511,
          null
         ],
         "y": [
          -0.13972353443695917,
          0.03847680432140553,
          null
         ]
        },
        {
         "hoverinfo": "text",
         "line": {
          "color": "cornflowerblue",
          "width": 0.3
         },
         "mode": "lines",
         "text": [
          "Paracord--Nathan Donnelly: 1"
         ],
         "type": "scatter",
         "x": [
          -0.16494032973300557,
          -0.2932939089011811,
          null
         ],
         "y": [
          -0.13972353443695917,
          -0.5842392372509401,
          null
         ]
        },
        {
         "hoverinfo": "text",
         "line": {
          "color": "cornflowerblue",
          "width": 0.3
         },
         "mode": "lines",
         "text": [
          "Paracord--Nikki van Schyndel: 1"
         ],
         "type": "scatter",
         "x": [
          -0.16494032973300557,
          -0.44888430898162773,
          null
         ],
         "y": [
          -0.13972353443695917,
          -0.5754517487206505,
          null
         ]
        },
        {
         "hoverinfo": "text",
         "line": {
          "color": "cornflowerblue",
          "width": 0.3
         },
         "mode": "lines",
         "text": [
          "Paracord--Pete Brockdorff: 1"
         ],
         "type": "scatter",
         "x": [
          -0.16494032973300557,
          0.5976076136229159,
          null
         ],
         "y": [
          -0.13972353443695917,
          0.5496059875401306,
          null
         ]
        },
        {
         "hoverinfo": "text",
         "line": {
          "color": "cornflowerblue",
          "width": 0.3
         },
         "mode": "lines",
         "text": [
          "Paracord--Rose Anna Moore: 1"
         ],
         "type": "scatter",
         "x": [
          -0.16494032973300557,
          -0.5806984395819331,
          null
         ],
         "y": [
          -0.13972353443695917,
          0.5741478282855389,
          null
         ]
        },
        {
         "hoverinfo": "text",
         "line": {
          "color": "cornflowerblue",
          "width": 0.3
         },
         "mode": "lines",
         "text": [
          "Paracord--Sam Brockdorff: 1"
         ],
         "type": "scatter",
         "x": [
          -0.16494032973300557,
          0.7895725287866725,
          null
         ],
         "y": [
          -0.13972353443695917,
          -0.23782640566337726,
          null
         ]
        },
        {
         "hoverinfo": "text",
         "line": {
          "color": "cornflowerblue",
          "width": 0.3
         },
         "mode": "lines",
         "text": [
          "Paracord--Sam Larson: 1"
         ],
         "type": "scatter",
         "x": [
          -0.16494032973300557,
          -0.1820735822325081,
          null
         ],
         "y": [
          -0.13972353443695917,
          0.3266028819567148,
          null
         ]
        },
        {
         "hoverinfo": "text",
         "line": {
          "color": "cornflowerblue",
          "width": 0.3
         },
         "mode": "lines",
         "text": [
          "Paracord--Shawn Helton: 1"
         ],
         "type": "scatter",
         "x": [
          -0.16494032973300557,
          -0.43802320462146654,
          null
         ],
         "y": [
          -0.13972353443695917,
          -0.7462571818068016,
          null
         ]
        },
        {
         "hoverinfo": "text",
         "line": {
          "color": "cornflowerblue",
          "width": 0.3
         },
         "mode": "lines",
         "text": [
          "Paracord--Teimojin Tan: 1"
         ],
         "type": "scatter",
         "x": [
          -0.16494032973300557,
          -0.6574377690196297,
          null
         ],
         "y": [
          -0.13972353443695917,
          0.3744098743947772,
          null
         ]
        },
        {
         "hoverinfo": "text",
         "line": {
          "color": "cornflowerblue",
          "width": 0.3
         },
         "mode": "lines",
         "text": [
          "Paracord--Terry Burns: 1"
         ],
         "type": "scatter",
         "x": [
          -0.16494032973300557,
          0.13251353954568354,
          null
         ],
         "y": [
          -0.13972353443695917,
          -0.6593339851762245,
          null
         ]
        },
        {
         "hoverinfo": "text",
         "line": {
          "color": "cornflowerblue",
          "width": 0.3
         },
         "mode": "lines",
         "text": [
          "Paracord--Theresa Emmerich Kamper: 1"
         ],
         "type": "scatter",
         "x": [
          -0.16494032973300557,
          -0.5954419455642739,
          null
         ],
         "y": [
          -0.13972353443695917,
          -0.030911466412550843,
          null
         ]
        },
        {
         "hoverinfo": "text",
         "line": {
          "color": "cornflowerblue",
          "width": 0.3
         },
         "mode": "lines",
         "text": [
          "Paracord--Tim Backus: 1"
         ],
         "type": "scatter",
         "x": [
          -0.16494032973300557,
          -0.8346955697213538,
          null
         ],
         "y": [
          -0.13972353443695917,
          -0.2072659581108296,
          null
         ]
        },
        {
         "hoverinfo": "text",
         "line": {
          "color": "cornflowerblue",
          "width": 0.3
         },
         "mode": "lines",
         "text": [
          "Paracord--Tim Madsen: 1"
         ],
         "type": "scatter",
         "x": [
          -0.16494032973300557,
          0.46464938444806847,
          null
         ],
         "y": [
          -0.13972353443695917,
          0.03696312994248573,
          null
         ]
        },
        {
         "hoverinfo": "text",
         "line": {
          "color": "cornflowerblue",
          "width": 0.3
         },
         "mode": "lines",
         "text": [
          "Paracord--Tom Garstang: 1"
         ],
         "type": "scatter",
         "x": [
          -0.16494032973300557,
          -0.7017971597054672,
          null
         ],
         "y": [
          -0.13972353443695917,
          0.25367816904649765,
          null
         ]
        },
        {
         "hoverinfo": "text",
         "line": {
          "color": "cornflowerblue",
          "width": 0.3
         },
         "mode": "lines",
         "text": [
          "Paracord--Wayne Russell: 1"
         ],
         "type": "scatter",
         "x": [
          -0.16494032973300557,
          -0.01698685123302949,
          null
         ],
         "y": [
          -0.13972353443695917,
          -0.8677581074083068,
          null
         ]
        },
        {
         "hoverinfo": "text",
         "line": {
          "color": "cornflowerblue",
          "width": 0.3
         },
         "mode": "lines",
         "text": [
          "Paracord--Woniya Thibeault: 1"
         ],
         "type": "scatter",
         "x": [
          -0.16494032973300557,
          -0.7325621231282693,
          null
         ],
         "y": [
          -0.13972353443695917,
          -0.30412075447223474,
          null
         ]
        },
        {
         "hoverinfo": "text",
         "line": {
          "color": "cornflowerblue",
          "width": 0.3
         },
         "mode": "lines",
         "text": [
          "Paracord--Zachary Fowler: 1"
         ],
         "type": "scatter",
         "x": [
          -0.16494032973300557,
          -0.9364475679671536,
          null
         ],
         "y": [
          -0.13972353443695917,
          0.06687756482110661,
          null
         ]
        },
        {
         "hoverinfo": "text",
         "line": {
          "color": "cornflowerblue",
          "width": 0.3
         },
         "mode": "lines",
         "text": [
          "Paracord--Zachary Gault: 1"
         ],
         "type": "scatter",
         "x": [
          -0.16494032973300557,
          -0.7968801789443809,
          null
         ],
         "y": [
          -0.13972353443695917,
          -0.03162239453647401,
          null
         ]
        },
        {
         "hoverinfo": "text",
         "line": {
          "color": "cornflowerblue",
          "width": 0.3
         },
         "mode": "lines",
         "text": [
          "Pot--Adam Riley: 1"
         ],
         "type": "scatter",
         "x": [
          0.04560328996517191,
          0.4231282311244024,
          null
         ],
         "y": [
          -0.015136115806780167,
          -0.4816436280899793,
          null
         ]
        },
        {
         "hoverinfo": "text",
         "line": {
          "color": "cornflowerblue",
          "width": 0.3
         },
         "mode": "lines",
         "text": [
          "Pot--Alan Kay: 1"
         ],
         "type": "scatter",
         "x": [
          0.04560328996517191,
          0.815066799980723,
          null
         ],
         "y": [
          -0.015136115806780167,
          0.3326460444066763,
          null
         ]
        },
        {
         "hoverinfo": "text",
         "line": {
          "color": "cornflowerblue",
          "width": 0.3
         },
         "mode": "lines",
         "text": [
          "Pot--Alex Ribar: 1"
         ],
         "type": "scatter",
         "x": [
          0.04560328996517191,
          -0.29962651788445005,
          null
         ],
         "y": [
          -0.015136115806780167,
          0.7352242658938394,
          null
         ]
        },
        {
         "hoverinfo": "text",
         "line": {
          "color": "cornflowerblue",
          "width": 0.3
         },
         "mode": "lines",
         "text": [
          "Pot--Amos Rodriguez: 1"
         ],
         "type": "scatter",
         "x": [
          0.04560328996517191,
          0.0682803892041071,
          null
         ],
         "y": [
          -0.015136115806780167,
          -0.7245285080827909,
          null
         ]
        },
        {
         "hoverinfo": "text",
         "line": {
          "color": "cornflowerblue",
          "width": 0.3
         },
         "mode": "lines",
         "text": [
          "Pot--Barry Karcher: 1"
         ],
         "type": "scatter",
         "x": [
          0.04560328996517191,
          -0.03751998498056549,
          null
         ],
         "y": [
          -0.015136115806780167,
          -0.6563629833878613,
          null
         ]
        },
        {
         "hoverinfo": "text",
         "line": {
          "color": "cornflowerblue",
          "width": 0.3
         },
         "mode": "lines",
         "text": [
          "Pot--Benki Hill: 1"
         ],
         "type": "scatter",
         "x": [
          0.04560328996517191,
          -0.7675888778670847,
          null
         ],
         "y": [
          -0.015136115806780167,
          0.46054709803718463,
          null
         ]
        },
        {
         "hoverinfo": "text",
         "line": {
          "color": "cornflowerblue",
          "width": 0.3
         },
         "mode": "lines",
         "text": [
          "Pot--Biko Wright: 1"
         ],
         "type": "scatter",
         "x": [
          0.04560328996517191,
          0.48312640249247935,
          null
         ],
         "y": [
          -0.015136115806780167,
          -0.31655373770660206,
          null
         ]
        },
        {
         "hoverinfo": "text",
         "line": {
          "color": "cornflowerblue",
          "width": 0.3
         },
         "mode": "lines",
         "text": [
          "Pot--Brad Richardson: 1"
         ],
         "type": "scatter",
         "x": [
          0.04560328996517191,
          0.05984641461518838,
          null
         ],
         "y": [
          -0.015136115806780167,
          0.4399290105576108,
          null
         ]
        },
        {
         "hoverinfo": "text",
         "line": {
          "color": "cornflowerblue",
          "width": 0.3
         },
         "mode": "lines",
         "text": [
          "Pot--Brady Nicholls: 1"
         ],
         "type": "scatter",
         "x": [
          0.04560328996517191,
          0.13346439365291393,
          null
         ],
         "y": [
          -0.015136115806780167,
          -0.4829246395259961,
          null
         ]
        },
        {
         "hoverinfo": "text",
         "line": {
          "color": "cornflowerblue",
          "width": 0.3
         },
         "mode": "lines",
         "text": [
          "Pot--Brant McGee: 1"
         ],
         "type": "scatter",
         "x": [
          0.04560328996517191,
          0.6015230857860889,
          null
         ],
         "y": [
          -0.015136115806780167,
          -0.4155406048086862,
          null
         ]
        },
        {
         "hoverinfo": "text",
         "line": {
          "color": "cornflowerblue",
          "width": 1.0090756983044573
         },
         "mode": "lines",
         "text": [
          "Pot--Britt Ahart: 2"
         ],
         "type": "scatter",
         "x": [
          0.04560328996517191,
          -0.2497631631785479,
          null
         ],
         "y": [
          -0.015136115806780167,
          -0.41853936522327173,
          null
         ]
        },
        {
         "hoverinfo": "text",
         "line": {
          "color": "cornflowerblue",
          "width": 1.0090756983044573
         },
         "mode": "lines",
         "text": [
          "Pot--Brody Wilkes: 2"
         ],
         "type": "scatter",
         "x": [
          0.04560328996517191,
          0.7241660136758504,
          null
         ],
         "y": [
          -0.015136115806780167,
          0.4222017319260711,
          null
         ]
        },
        {
         "hoverinfo": "text",
         "line": {
          "color": "cornflowerblue",
          "width": 1.0090756983044573
         },
         "mode": "lines",
         "text": [
          "Pot--Brooke Whipple: 2"
         ],
         "type": "scatter",
         "x": [
          0.04560328996517191,
          -0.06443041586361846,
          null
         ],
         "y": [
          -0.015136115806780167,
          0.43698357904344115,
          null
         ]
        },
        {
         "hoverinfo": "text",
         "line": {
          "color": "cornflowerblue",
          "width": 0.3
         },
         "mode": "lines",
         "text": [
          "Pot--Callie North: 1"
         ],
         "type": "scatter",
         "x": [
          0.04560328996517191,
          0.7069818503900434,
          null
         ],
         "y": [
          -0.015136115806780167,
          -0.38322354353375715,
          null
         ]
        },
        {
         "hoverinfo": "text",
         "line": {
          "color": "cornflowerblue",
          "width": 0.3
         },
         "mode": "lines",
         "text": [
          "Pot--Callie Russell: 1"
         ],
         "type": "scatter",
         "x": [
          0.04560328996517191,
          -0.40911892652294085,
          null
         ],
         "y": [
          -0.015136115806780167,
          0.4678098215325018,
          null
         ]
        },
        {
         "hoverinfo": "text",
         "line": {
          "color": "cornflowerblue",
          "width": 1.0090756983044573
         },
         "mode": "lines",
         "text": [
          "Pot--Carleigh Fairchild: 2"
         ],
         "type": "scatter",
         "x": [
          0.04560328996517191,
          0.20924019981298217,
          null
         ],
         "y": [
          -0.015136115806780167,
          0.3284587939178709,
          null
         ]
        },
        {
         "hoverinfo": "text",
         "line": {
          "color": "cornflowerblue",
          "width": 0.3
         },
         "mode": "lines",
         "text": [
          "Pot--Chris Weatherman: 1"
         ],
         "type": "scatter",
         "x": [
          0.04560328996517191,
          0.6762748571438286,
          null
         ],
         "y": [
          -0.015136115806780167,
          -0.10771672290687707,
          null
         ]
        },
        {
         "hoverinfo": "text",
         "line": {
          "color": "cornflowerblue",
          "width": 1.0090756983044573
         },
         "mode": "lines",
         "text": [
          "Pot--Chris Wilkes: 2"
         ],
         "type": "scatter",
         "x": [
          0.04560328996517191,
          0.8923936620530742,
          null
         ],
         "y": [
          -0.015136115806780167,
          0.1193147390934305,
          null
         ]
        },
        {
         "hoverinfo": "text",
         "line": {
          "color": "cornflowerblue",
          "width": 0.3
         },
         "mode": "lines",
         "text": [
          "Pot--Clay Hayes: 1"
         ],
         "type": "scatter",
         "x": [
          0.04560328996517191,
          -0.5667181352988339,
          null
         ],
         "y": [
          -0.015136115806780167,
          0.46031393361436546,
          null
         ]
        },
        {
         "hoverinfo": "text",
         "line": {
          "color": "cornflowerblue",
          "width": 0.3
         },
         "mode": "lines",
         "text": [
          "Pot--Colter Barnes: 1"
         ],
         "type": "scatter",
         "x": [
          0.04560328996517191,
          0.2921842173185547,
          null
         ],
         "y": [
          -0.015136115806780167,
          -0.4206342073418396,
          null
         ]
        },
        {
         "hoverinfo": "text",
         "line": {
          "color": "cornflowerblue",
          "width": 0.3
         },
         "mode": "lines",
         "text": [
          "Pot--Correy Hawk: 1"
         ],
         "type": "scatter",
         "x": [
          0.04560328996517191,
          -0.72740767404415,
          null
         ],
         "y": [
          -0.015136115806780167,
          -0.42716753086886317,
          null
         ]
        },
        {
         "hoverinfo": "text",
         "line": {
          "color": "cornflowerblue",
          "width": 0.3
         },
         "mode": "lines",
         "text": [
          "Pot--Dan Wowak: 1"
         ],
         "type": "scatter",
         "x": [
          0.04560328996517191,
          -0.12721075638771265,
          null
         ],
         "y": [
          -0.015136115806780167,
          -0.806965295635513,
          null
         ]
        },
        {
         "hoverinfo": "text",
         "line": {
          "color": "cornflowerblue",
          "width": 1.0090756983044573
         },
         "mode": "lines",
         "text": [
          "Pot--Dave Nessia: 2"
         ],
         "type": "scatter",
         "x": [
          0.04560328996517191,
          -0.15819207581452197,
          null
         ],
         "y": [
          -0.015136115806780167,
          -0.32146331236271153,
          null
         ]
        },
        {
         "hoverinfo": "text",
         "line": {
          "color": "cornflowerblue",
          "width": 0.3
         },
         "mode": "lines",
         "text": [
          "Pot--Dave Whipple: 1"
         ],
         "type": "scatter",
         "x": [
          0.04560328996517191,
          0.7193082469361248,
          null
         ],
         "y": [
          -0.015136115806780167,
          0.6943656160949481,
          null
         ]
        },
        {
         "hoverinfo": "text",
         "line": {
          "color": "cornflowerblue",
          "width": 0.3
         },
         "mode": "lines",
         "text": [
          "Pot--David McIntyre: 1"
         ],
         "type": "scatter",
         "x": [
          0.04560328996517191,
          0.6112918996834296,
          null
         ],
         "y": [
          -0.015136115806780167,
          -0.5735080525836848,
          null
         ]
        },
        {
         "hoverinfo": "text",
         "line": {
          "color": "cornflowerblue",
          "width": 0.3
         },
         "mode": "lines",
         "text": [
          "Pot--Desmond White: 1"
         ],
         "type": "scatter",
         "x": [
          0.04560328996517191,
          0.8644714148065687,
          null
         ],
         "y": [
          -0.015136115806780167,
          -0.08364130560083073,
          null
         ]
        },
        {
         "hoverinfo": "text",
         "line": {
          "color": "cornflowerblue",
          "width": 0.3
         },
         "mode": "lines",
         "text": [
          "Pot--Donny Dust: 1"
         ],
         "type": "scatter",
         "x": [
          0.04560328996517191,
          -0.598389093734986,
          null
         ],
         "y": [
          -0.015136115806780167,
          -0.25104108361735633,
          null
         ]
        },
        {
         "hoverinfo": "text",
         "line": {
          "color": "cornflowerblue",
          "width": 0.3
         },
         "mode": "lines",
         "text": [
          "Pot--Dustin Feher: 1"
         ],
         "type": "scatter",
         "x": [
          0.04560328996517191,
          -0.0459491427761949,
          null
         ],
         "y": [
          -0.015136115806780167,
          0.8062427035953487,
          null
         ]
        },
        {
         "hoverinfo": "text",
         "line": {
          "color": "cornflowerblue",
          "width": 0.3
         },
         "mode": "lines",
         "text": [
          "Pot--Greg Ovens: 1"
         ],
         "type": "scatter",
         "x": [
          0.04560328996517191,
          0.5841134288357716,
          null
         ],
         "y": [
          -0.015136115806780167,
          0.05943423685498098,
          null
         ]
        },
        {
         "hoverinfo": "text",
         "line": {
          "color": "cornflowerblue",
          "width": 0.3
         },
         "mode": "lines",
         "text": [
          "Pot--Igor Limansky: 1"
         ],
         "type": "scatter",
         "x": [
          0.04560328996517191,
          0.37559142637995513,
          null
         ],
         "y": [
          -0.015136115806780167,
          -0.2931818437887316,
          null
         ]
        },
        {
         "hoverinfo": "text",
         "line": {
          "color": "cornflowerblue",
          "width": 0.3
         },
         "mode": "lines",
         "text": [
          "Pot--Jacques Turcotte: 1"
         ],
         "type": "scatter",
         "x": [
          0.04560328996517191,
          -0.49760574014961795,
          null
         ],
         "y": [
          -0.015136115806780167,
          0.3237406107058987,
          null
         ]
        },
        {
         "hoverinfo": "text",
         "line": {
          "color": "cornflowerblue",
          "width": 1.0090756983044573
         },
         "mode": "lines",
         "text": [
          "Pot--Jesse Bosdell: 2"
         ],
         "type": "scatter",
         "x": [
          0.04560328996517191,
          0.1396216938016799,
          null
         ],
         "y": [
          -0.015136115806780167,
          0.5465408455237983,
          null
         ]
        },
        {
         "hoverinfo": "text",
         "line": {
          "color": "cornflowerblue",
          "width": 0.3
         },
         "mode": "lines",
         "text": [
          "Pot--Jessie Krebs: 1"
         ],
         "type": "scatter",
         "x": [
          0.04560328996517191,
          -0.5892249398047921,
          null
         ],
         "y": [
          -0.015136115806780167,
          -0.6863070643601215,
          null
         ]
        },
        {
         "hoverinfo": "text",
         "line": {
          "color": "cornflowerblue",
          "width": 0.3
         },
         "mode": "lines",
         "text": [
          "Pot--Jim Baird: 1"
         ],
         "type": "scatter",
         "x": [
          0.04560328996517191,
          -0.3638893093665568,
          null
         ],
         "y": [
          -0.015136115806780167,
          0.6380621974306803,
          null
         ]
        },
        {
         "hoverinfo": "text",
         "line": {
          "color": "cornflowerblue",
          "width": 0.3
         },
         "mode": "lines",
         "text": [
          "Pot--Jim Shields: 1"
         ],
         "type": "scatter",
         "x": [
          0.04560328996517191,
          -0.17887445516937944,
          null
         ],
         "y": [
          -0.015136115806780167,
          -0.6437854388020003,
          null
         ]
        },
        {
         "hoverinfo": "text",
         "line": {
          "color": "cornflowerblue",
          "width": 0.3
         },
         "mode": "lines",
         "text": [
          "Pot--Joe Nicholas: 1"
         ],
         "type": "scatter",
         "x": [
          0.04560328996517191,
          0.4703725737274096,
          null
         ],
         "y": [
          -0.015136115806780167,
          0.43497154517033965,
          null
         ]
        },
        {
         "hoverinfo": "text",
         "line": {
          "color": "cornflowerblue",
          "width": 0.3
         },
         "mode": "lines",
         "text": [
          "Pot--Joe Robinet: 1"
         ],
         "type": "scatter",
         "x": [
          0.04560328996517191,
          0.7457519403244229,
          null
         ],
         "y": [
          -0.015136115806780167,
          -0.0797431498192736,
          null
         ]
        },
        {
         "hoverinfo": "text",
         "line": {
          "color": "cornflowerblue",
          "width": 0.3
         },
         "mode": "lines",
         "text": [
          "Pot--Joel Van Der Loon: 1"
         ],
         "type": "scatter",
         "x": [
          0.04560328996517191,
          -0.5052226395097973,
          null
         ],
         "y": [
          -0.015136115806780167,
          -0.3745727323423614,
          null
         ]
        },
        {
         "hoverinfo": "text",
         "line": {
          "color": "cornflowerblue",
          "width": 0.3
         },
         "mode": "lines",
         "text": [
          "Pot--Jordon Bell: 1"
         ],
         "type": "scatter",
         "x": [
          0.04560328996517191,
          -0.07672216484877323,
          null
         ],
         "y": [
          -0.015136115806780167,
          0.6679323572140383,
          null
         ]
        },
        {
         "hoverinfo": "text",
         "line": {
          "color": "cornflowerblue",
          "width": 0.3
         },
         "mode": "lines",
         "text": [
          "Pot--Jose Martinez Amoedo: 1"
         ],
         "type": "scatter",
         "x": [
          0.04560328996517191,
          -0.6319766270688345,
          null
         ],
         "y": [
          -0.015136115806780167,
          -0.13472354967767763,
          null
         ]
        },
        {
         "hoverinfo": "text",
         "line": {
          "color": "cornflowerblue",
          "width": 0.3
         },
         "mode": "lines",
         "text": [
          "Pot--Josh Chavez: 1"
         ],
         "type": "scatter",
         "x": [
          0.04560328996517191,
          0.42205675328593906,
          null
         ],
         "y": [
          -0.015136115806780167,
          -0.6797172750600777,
          null
         ]
        },
        {
         "hoverinfo": "text",
         "line": {
          "color": "cornflowerblue",
          "width": 0.3
         },
         "mode": "lines",
         "text": [
          "Pot--Josh Richardson: 1"
         ],
         "type": "scatter",
         "x": [
          0.04560328996517191,
          0.42259581982357375,
          null
         ],
         "y": [
          -0.015136115806780167,
          0.8708308529937877,
          null
         ]
        },
        {
         "hoverinfo": "text",
         "line": {
          "color": "cornflowerblue",
          "width": 0.3
         },
         "mode": "lines",
         "text": [
          "Pot--Juan Pablo Quinonez: 1"
         ],
         "type": "scatter",
         "x": [
          0.04560328996517191,
          0.3573511980627373,
          null
         ],
         "y": [
          -0.015136115806780167,
          0.26989400434930627,
          null
         ]
        },
        {
         "hoverinfo": "text",
         "line": {
          "color": "cornflowerblue",
          "width": 0.3
         },
         "mode": "lines",
         "text": [
          "Pot--Karie Lee Knoke: 1"
         ],
         "type": "scatter",
         "x": [
          0.04560328996517191,
          0.2534601432680607,
          null
         ],
         "y": [
          -0.015136115806780167,
          -0.5671790990454183,
          null
         ]
        },
        {
         "hoverinfo": "text",
         "line": {
          "color": "cornflowerblue",
          "width": 0.3
         },
         "mode": "lines",
         "text": [
          "Pot--Keith Syers: 1"
         ],
         "type": "scatter",
         "x": [
          0.04560328996517191,
          -0.30492698698095455,
          null
         ],
         "y": [
          -0.015136115806780167,
          -0.7701979405779571,
          null
         ]
        },
        {
         "hoverinfo": "text",
         "line": {
          "color": "cornflowerblue",
          "width": 0.3
         },
         "mode": "lines",
         "text": [
          "Pot--Kielyn Marrone: 1"
         ],
         "type": "scatter",
         "x": [
          0.04560328996517191,
          0.16370592574901813,
          null
         ],
         "y": [
          -0.015136115806780167,
          0.4688551620748274,
          null
         ]
        },
        {
         "hoverinfo": "text",
         "line": {
          "color": "cornflowerblue",
          "width": 1.0090756983044573
         },
         "mode": "lines",
         "text": [
          "Pot--Larry Roberts: 2"
         ],
         "type": "scatter",
         "x": [
          0.04560328996517191,
          -0.3364232797862773,
          null
         ],
         "y": [
          -0.015136115806780167,
          0.16502950099272184,
          null
         ]
        },
        {
         "hoverinfo": "text",
         "line": {
          "color": "cornflowerblue",
          "width": 0.3
         },
         "mode": "lines",
         "text": [
          "Pot--Logan Ribar: 1"
         ],
         "type": "scatter",
         "x": [
          0.04560328996517191,
          0.008267981975036148,
          null
         ],
         "y": [
          -0.015136115806780167,
          -0.4928787114965203,
          null
         ]
        },
        {
         "hoverinfo": "text",
         "line": {
          "color": "cornflowerblue",
          "width": 0.3
         },
         "mode": "lines",
         "text": [
          "Pot--Lucas Miller: 1"
         ],
         "type": "scatter",
         "x": [
          0.04560328996517191,
          0.3131108731926996,
          null
         ],
         "y": [
          -0.015136115806780167,
          0.6838900750220774,
          null
         ]
        },
        {
         "hoverinfo": "text",
         "line": {
          "color": "cornflowerblue",
          "width": 0.3
         },
         "mode": "lines",
         "text": [
          "Pot--Mark D'Ambrosio: 1"
         ],
         "type": "scatter",
         "x": [
          0.04560328996517191,
          -0.821198931605355,
          null
         ],
         "y": [
          -0.015136115806780167,
          0.251707705900538,
          null
         ]
        },
        {
         "hoverinfo": "text",
         "line": {
          "color": "cornflowerblue",
          "width": 0.3
         },
         "mode": "lines",
         "text": [
          "Pot--Mary Kate Green: 1"
         ],
         "type": "scatter",
         "x": [
          0.04560328996517191,
          0.7646608077190291,
          null
         ],
         "y": [
          -0.015136115806780167,
          0.10192847172652374,
          null
         ]
        },
        {
         "hoverinfo": "text",
         "line": {
          "color": "cornflowerblue",
          "width": 0.3
         },
         "mode": "lines",
         "text": [
          "Pot--Matt Corradino: 1"
         ],
         "type": "scatter",
         "x": [
          0.04560328996517191,
          -0.20064253198025278,
          null
         ],
         "y": [
          -0.015136115806780167,
          0.7105100559961994,
          null
         ]
        },
        {
         "hoverinfo": "text",
         "line": {
          "color": "cornflowerblue",
          "width": 0.3
         },
         "mode": "lines",
         "text": [
          "Pot--Megan Hanacek: 1"
         ],
         "type": "scatter",
         "x": [
          0.04560328996517191,
          0.3580733953966105,
          null
         ],
         "y": [
          -0.015136115806780167,
          0.5328785899573018,
          null
         ]
        },
        {
         "hoverinfo": "text",
         "line": {
          "color": "cornflowerblue",
          "width": 0.3
         },
         "mode": "lines",
         "text": [
          "Pot--Michelle Finn: 1"
         ],
         "type": "scatter",
         "x": [
          0.04560328996517191,
          -0.6045440501381834,
          null
         ],
         "y": [
          -0.015136115806780167,
          -0.48305458918849853,
          null
         ]
        },
        {
         "hoverinfo": "text",
         "line": {
          "color": "cornflowerblue",
          "width": 0.3
         },
         "mode": "lines",
         "text": [
          "Pot--Michelle Wohlberg: 1"
         ],
         "type": "scatter",
         "x": [
          0.04560328996517191,
          -0.1938042578318345,
          null
         ],
         "y": [
          -0.015136115806780167,
          0.5902316390105835,
          null
         ]
        },
        {
         "hoverinfo": "text",
         "line": {
          "color": "cornflowerblue",
          "width": 0.3
         },
         "mode": "lines",
         "text": [
          "Pot--Mike Lowe: 1"
         ],
         "type": "scatter",
         "x": [
          0.04560328996517191,
          0.30262084802000055,
          null
         ],
         "y": [
          -0.015136115806780167,
          -0.6900817037865407,
          null
         ]
        },
        {
         "hoverinfo": "text",
         "line": {
          "color": "cornflowerblue",
          "width": 0.3
         },
         "mode": "lines",
         "text": [
          "Pot--Mitch Mitchell: 1"
         ],
         "type": "scatter",
         "x": [
          0.04560328996517191,
          0.37283882745591235,
          null
         ],
         "y": [
          -0.015136115806780167,
          -0.8430629943724753,
          null
         ]
        },
        {
         "hoverinfo": "text",
         "line": {
          "color": "cornflowerblue",
          "width": 0.3
         },
         "mode": "lines",
         "text": [
          "Pot--Nate Weber: 1"
         ],
         "type": "scatter",
         "x": [
          0.04560328996517191,
          -0.7150813604179511,
          null
         ],
         "y": [
          -0.015136115806780167,
          0.03847680432140553,
          null
         ]
        },
        {
         "hoverinfo": "text",
         "line": {
          "color": "cornflowerblue",
          "width": 0.3
         },
         "mode": "lines",
         "text": [
          "Pot--Nathan Donnelly: 1"
         ],
         "type": "scatter",
         "x": [
          0.04560328996517191,
          -0.2932939089011811,
          null
         ],
         "y": [
          -0.015136115806780167,
          -0.5842392372509401,
          null
         ]
        },
        {
         "hoverinfo": "text",
         "line": {
          "color": "cornflowerblue",
          "width": 0.3
         },
         "mode": "lines",
         "text": [
          "Pot--Nicole Apelian: 1"
         ],
         "type": "scatter",
         "x": [
          0.04560328996517191,
          0.26878954826134965,
          null
         ],
         "y": [
          -0.015136115806780167,
          -0.20623505651882393,
          null
         ]
        },
        {
         "hoverinfo": "text",
         "line": {
          "color": "cornflowerblue",
          "width": 0.3
         },
         "mode": "lines",
         "text": [
          "Pot--Nikki van Schyndel: 1"
         ],
         "type": "scatter",
         "x": [
          0.04560328996517191,
          -0.44888430898162773,
          null
         ],
         "y": [
          -0.015136115806780167,
          -0.5754517487206505,
          null
         ]
        },
        {
         "hoverinfo": "text",
         "line": {
          "color": "cornflowerblue",
          "width": 0.3
         },
         "mode": "lines",
         "text": [
          "Pot--Pete Brockdorff: 1"
         ],
         "type": "scatter",
         "x": [
          0.04560328996517191,
          0.5976076136229159,
          null
         ],
         "y": [
          -0.015136115806780167,
          0.5496059875401306,
          null
         ]
        },
        {
         "hoverinfo": "text",
         "line": {
          "color": "cornflowerblue",
          "width": 1.0090756983044573
         },
         "mode": "lines",
         "text": [
          "Pot--Randy Champagne: 2"
         ],
         "type": "scatter",
         "x": [
          0.04560328996517191,
          -0.349304559305111,
          null
         ],
         "y": [
          -0.015136115806780167,
          -0.20173770295454785,
          null
         ]
        },
        {
         "hoverinfo": "text",
         "line": {
          "color": "cornflowerblue",
          "width": 0.3
         },
         "mode": "lines",
         "text": [
          "Pot--Ray Livingston: 1"
         ],
         "type": "scatter",
         "x": [
          0.04560328996517191,
          0.4861611815391165,
          null
         ],
         "y": [
          -0.015136115806780167,
          -0.14717529162435514,
          null
         ]
        },
        {
         "hoverinfo": "text",
         "line": {
          "color": "cornflowerblue",
          "width": 0.3
         },
         "mode": "lines",
         "text": [
          "Pot--Roland Welker: 1"
         ],
         "type": "scatter",
         "x": [
          0.04560328996517191,
          -0.6803277873559646,
          null
         ],
         "y": [
          -0.015136115806780167,
          0.14388344051599708,
          null
         ]
        },
        {
         "hoverinfo": "text",
         "line": {
          "color": "cornflowerblue",
          "width": 0.3
         },
         "mode": "lines",
         "text": [
          "Pot--Rose Anna Moore: 1"
         ],
         "type": "scatter",
         "x": [
          0.04560328996517191,
          -0.5806984395819331,
          null
         ],
         "y": [
          -0.015136115806780167,
          0.5741478282855389,
          null
         ]
        },
        {
         "hoverinfo": "text",
         "line": {
          "color": "cornflowerblue",
          "width": 0.3
         },
         "mode": "lines",
         "text": [
          "Pot--Sam Brockdorff: 1"
         ],
         "type": "scatter",
         "x": [
          0.04560328996517191,
          0.7895725287866725,
          null
         ],
         "y": [
          -0.015136115806780167,
          -0.23782640566337726,
          null
         ]
        },
        {
         "hoverinfo": "text",
         "line": {
          "color": "cornflowerblue",
          "width": 1.0090756983044573
         },
         "mode": "lines",
         "text": [
          "Pot--Sam Larson: 2"
         ],
         "type": "scatter",
         "x": [
          0.04560328996517191,
          -0.1820735822325081,
          null
         ],
         "y": [
          -0.015136115806780167,
          0.3266028819567148,
          null
         ]
        },
        {
         "hoverinfo": "text",
         "line": {
          "color": "cornflowerblue",
          "width": 0.3
         },
         "mode": "lines",
         "text": [
          "Pot--Shannon Bosdell: 1"
         ],
         "type": "scatter",
         "x": [
          0.04560328996517191,
          0.08408647256603534,
          null
         ],
         "y": [
          -0.015136115806780167,
          0.8278971316131882,
          null
         ]
        },
        {
         "hoverinfo": "text",
         "line": {
          "color": "cornflowerblue",
          "width": 0.3
         },
         "mode": "lines",
         "text": [
          "Pot--Shawn Helton: 1"
         ],
         "type": "scatter",
         "x": [
          0.04560328996517191,
          -0.43802320462146654,
          null
         ],
         "y": [
          -0.015136115806780167,
          -0.7462571818068016,
          null
         ]
        },
        {
         "hoverinfo": "text",
         "line": {
          "color": "cornflowerblue",
          "width": 0.3
         },
         "mode": "lines",
         "text": [
          "Pot--Ted Baird: 1"
         ],
         "type": "scatter",
         "x": [
          0.04560328996517191,
          0.42021163583332416,
          null
         ],
         "y": [
          -0.015136115806780167,
          0.6306063918738846,
          null
         ]
        },
        {
         "hoverinfo": "text",
         "line": {
          "color": "cornflowerblue",
          "width": 0.3
         },
         "mode": "lines",
         "text": [
          "Pot--Teimojin Tan: 1"
         ],
         "type": "scatter",
         "x": [
          0.04560328996517191,
          -0.6574377690196297,
          null
         ],
         "y": [
          -0.015136115806780167,
          0.3744098743947772,
          null
         ]
        },
        {
         "hoverinfo": "text",
         "line": {
          "color": "cornflowerblue",
          "width": 0.3
         },
         "mode": "lines",
         "text": [
          "Pot--Terry Burns: 1"
         ],
         "type": "scatter",
         "x": [
          0.04560328996517191,
          0.13251353954568354,
          null
         ],
         "y": [
          -0.015136115806780167,
          -0.6593339851762245,
          null
         ]
        },
        {
         "hoverinfo": "text",
         "line": {
          "color": "cornflowerblue",
          "width": 0.3
         },
         "mode": "lines",
         "text": [
          "Pot--Theresa Emmerich Kamper: 1"
         ],
         "type": "scatter",
         "x": [
          0.04560328996517191,
          -0.5954419455642739,
          null
         ],
         "y": [
          -0.015136115806780167,
          -0.030911466412550843,
          null
         ]
        },
        {
         "hoverinfo": "text",
         "line": {
          "color": "cornflowerblue",
          "width": 0.3
         },
         "mode": "lines",
         "text": [
          "Pot--Tim Backus: 1"
         ],
         "type": "scatter",
         "x": [
          0.04560328996517191,
          -0.8346955697213538,
          null
         ],
         "y": [
          -0.015136115806780167,
          -0.2072659581108296,
          null
         ]
        },
        {
         "hoverinfo": "text",
         "line": {
          "color": "cornflowerblue",
          "width": 0.3
         },
         "mode": "lines",
         "text": [
          "Pot--Tim Madsen: 1"
         ],
         "type": "scatter",
         "x": [
          0.04560328996517191,
          0.46464938444806847,
          null
         ],
         "y": [
          -0.015136115806780167,
          0.03696312994248573,
          null
         ]
        },
        {
         "hoverinfo": "text",
         "line": {
          "color": "cornflowerblue",
          "width": 0.3
         },
         "mode": "lines",
         "text": [
          "Pot--Tom Garstang: 1"
         ],
         "type": "scatter",
         "x": [
          0.04560328996517191,
          -0.7017971597054672,
          null
         ],
         "y": [
          -0.015136115806780167,
          0.25367816904649765,
          null
         ]
        },
        {
         "hoverinfo": "text",
         "line": {
          "color": "cornflowerblue",
          "width": 0.3
         },
         "mode": "lines",
         "text": [
          "Pot--Tracy Wilson: 1"
         ],
         "type": "scatter",
         "x": [
          0.04560328996517191,
          0.6737486629514334,
          null
         ],
         "y": [
          -0.015136115806780167,
          0.2423148856093115,
          null
         ]
        },
        {
         "hoverinfo": "text",
         "line": {
          "color": "cornflowerblue",
          "width": 0.3
         },
         "mode": "lines",
         "text": [
          "Pot--Wayne Russell: 1"
         ],
         "type": "scatter",
         "x": [
          0.04560328996517191,
          -0.01698685123302949,
          null
         ],
         "y": [
          -0.015136115806780167,
          -0.8677581074083068,
          null
         ]
        },
        {
         "hoverinfo": "text",
         "line": {
          "color": "cornflowerblue",
          "width": 0.3
         },
         "mode": "lines",
         "text": [
          "Pot--Woniya Thibeault: 1"
         ],
         "type": "scatter",
         "x": [
          0.04560328996517191,
          -0.7325621231282693,
          null
         ],
         "y": [
          -0.015136115806780167,
          -0.30412075447223474,
          null
         ]
        },
        {
         "hoverinfo": "text",
         "line": {
          "color": "cornflowerblue",
          "width": 0.3
         },
         "mode": "lines",
         "text": [
          "Pot--Zachary Fowler: 1"
         ],
         "type": "scatter",
         "x": [
          0.04560328996517191,
          -0.9364475679671536,
          null
         ],
         "y": [
          -0.015136115806780167,
          0.06687756482110661,
          null
         ]
        },
        {
         "hoverinfo": "text",
         "line": {
          "color": "cornflowerblue",
          "width": 0.3
         },
         "mode": "lines",
         "text": [
          "Pot--Zachary Gault: 1"
         ],
         "type": "scatter",
         "x": [
          0.04560328996517191,
          -0.7968801789443809,
          null
         ],
         "y": [
          -0.015136115806780167,
          -0.03162239453647401,
          null
         ]
        },
        {
         "hoverinfo": "text",
         "line": {
          "color": "cornflowerblue",
          "width": 0.3
         },
         "mode": "lines",
         "text": [
          "Rations--Alex Ribar: 1"
         ],
         "type": "scatter",
         "x": [
          0.1271750074485006,
          -0.29962651788445005,
          null
         ],
         "y": [
          0.11274493652072279,
          0.7352242658938394,
          null
         ]
        },
        {
         "hoverinfo": "text",
         "line": {
          "color": "cornflowerblue",
          "width": 0.3
         },
         "mode": "lines",
         "text": [
          "Rations--Amos Rodriguez: 1"
         ],
         "type": "scatter",
         "x": [
          0.1271750074485006,
          0.0682803892041071,
          null
         ],
         "y": [
          0.11274493652072279,
          -0.7245285080827909,
          null
         ]
        },
        {
         "hoverinfo": "text",
         "line": {
          "color": "cornflowerblue",
          "width": 1.0090756983044573
         },
         "mode": "lines",
         "text": [
          "Rations--Brad Richardson: 2"
         ],
         "type": "scatter",
         "x": [
          0.1271750074485006,
          0.05984641461518838,
          null
         ],
         "y": [
          0.11274493652072279,
          0.4399290105576108,
          null
         ]
        },
        {
         "hoverinfo": "text",
         "line": {
          "color": "cornflowerblue",
          "width": 1.0090756983044573
         },
         "mode": "lines",
         "text": [
          "Rations--Brady Nicholls: 2"
         ],
         "type": "scatter",
         "x": [
          0.1271750074485006,
          0.13346439365291393,
          null
         ],
         "y": [
          0.11274493652072279,
          -0.4829246395259961,
          null
         ]
        },
        {
         "hoverinfo": "text",
         "line": {
          "color": "cornflowerblue",
          "width": 0.3
         },
         "mode": "lines",
         "text": [
          "Rations--Brant McGee: 1"
         ],
         "type": "scatter",
         "x": [
          0.1271750074485006,
          0.6015230857860889,
          null
         ],
         "y": [
          0.11274493652072279,
          -0.4155406048086862,
          null
         ]
        },
        {
         "hoverinfo": "text",
         "line": {
          "color": "cornflowerblue",
          "width": 2.0515563512592996
         },
         "mode": "lines",
         "text": [
          "Rations--Brooke Whipple: 3"
         ],
         "type": "scatter",
         "x": [
          0.1271750074485006,
          -0.06443041586361846,
          null
         ],
         "y": [
          0.11274493652072279,
          0.43698357904344115,
          null
         ]
        },
        {
         "hoverinfo": "text",
         "line": {
          "color": "cornflowerblue",
          "width": 1.0090756983044573
         },
         "mode": "lines",
         "text": [
          "Rations--Callie North: 2"
         ],
         "type": "scatter",
         "x": [
          0.1271750074485006,
          0.7069818503900434,
          null
         ],
         "y": [
          0.11274493652072279,
          -0.38322354353375715,
          null
         ]
        },
        {
         "hoverinfo": "text",
         "line": {
          "color": "cornflowerblue",
          "width": 1.0090756983044573
         },
         "mode": "lines",
         "text": [
          "Rations--Carleigh Fairchild: 2"
         ],
         "type": "scatter",
         "x": [
          0.1271750074485006,
          0.20924019981298217,
          null
         ],
         "y": [
          0.11274493652072279,
          0.3284587939178709,
          null
         ]
        },
        {
         "hoverinfo": "text",
         "line": {
          "color": "cornflowerblue",
          "width": 0.3
         },
         "mode": "lines",
         "text": [
          "Rations--Dan Wowak: 1"
         ],
         "type": "scatter",
         "x": [
          0.1271750074485006,
          -0.12721075638771265,
          null
         ],
         "y": [
          0.11274493652072279,
          -0.806965295635513,
          null
         ]
        },
        {
         "hoverinfo": "text",
         "line": {
          "color": "cornflowerblue",
          "width": 1.0090756983044573
         },
         "mode": "lines",
         "text": [
          "Rations--Dave Nessia: 2"
         ],
         "type": "scatter",
         "x": [
          0.1271750074485006,
          -0.15819207581452197,
          null
         ],
         "y": [
          0.11274493652072279,
          -0.32146331236271153,
          null
         ]
        },
        {
         "hoverinfo": "text",
         "line": {
          "color": "cornflowerblue",
          "width": 1.0090756983044573
         },
         "mode": "lines",
         "text": [
          "Rations--Dave Whipple: 2"
         ],
         "type": "scatter",
         "x": [
          0.1271750074485006,
          0.7193082469361248,
          null
         ],
         "y": [
          0.11274493652072279,
          0.6943656160949481,
          null
         ]
        },
        {
         "hoverinfo": "text",
         "line": {
          "color": "cornflowerblue",
          "width": 0.3
         },
         "mode": "lines",
         "text": [
          "Rations--David McIntyre: 1"
         ],
         "type": "scatter",
         "x": [
          0.1271750074485006,
          0.6112918996834296,
          null
         ],
         "y": [
          0.11274493652072279,
          -0.5735080525836848,
          null
         ]
        },
        {
         "hoverinfo": "text",
         "line": {
          "color": "cornflowerblue",
          "width": 0.3
         },
         "mode": "lines",
         "text": [
          "Rations--Desmond White: 1"
         ],
         "type": "scatter",
         "x": [
          0.1271750074485006,
          0.8644714148065687,
          null
         ],
         "y": [
          0.11274493652072279,
          -0.08364130560083073,
          null
         ]
        },
        {
         "hoverinfo": "text",
         "line": {
          "color": "cornflowerblue",
          "width": 0.3
         },
         "mode": "lines",
         "text": [
          "Rations--Donny Dust: 1"
         ],
         "type": "scatter",
         "x": [
          0.1271750074485006,
          -0.598389093734986,
          null
         ],
         "y": [
          0.11274493652072279,
          -0.25104108361735633,
          null
         ]
        },
        {
         "hoverinfo": "text",
         "line": {
          "color": "cornflowerblue",
          "width": 0.3
         },
         "mode": "lines",
         "text": [
          "Rations--Greg Ovens: 1"
         ],
         "type": "scatter",
         "x": [
          0.1271750074485006,
          0.5841134288357716,
          null
         ],
         "y": [
          0.11274493652072279,
          0.05943423685498098,
          null
         ]
        },
        {
         "hoverinfo": "text",
         "line": {
          "color": "cornflowerblue",
          "width": 0.3
         },
         "mode": "lines",
         "text": [
          "Rations--Jacques Turcotte: 1"
         ],
         "type": "scatter",
         "x": [
          0.1271750074485006,
          -0.49760574014961795,
          null
         ],
         "y": [
          0.11274493652072279,
          0.3237406107058987,
          null
         ]
        },
        {
         "hoverinfo": "text",
         "line": {
          "color": "cornflowerblue",
          "width": 2.0515563512592996
         },
         "mode": "lines",
         "text": [
          "Rations--Jesse Bosdell: 3"
         ],
         "type": "scatter",
         "x": [
          0.1271750074485006,
          0.1396216938016799,
          null
         ],
         "y": [
          0.11274493652072279,
          0.5465408455237983,
          null
         ]
        },
        {
         "hoverinfo": "text",
         "line": {
          "color": "cornflowerblue",
          "width": 0.3
         },
         "mode": "lines",
         "text": [
          "Rations--Jim Baird: 1"
         ],
         "type": "scatter",
         "x": [
          0.1271750074485006,
          -0.3638893093665568,
          null
         ],
         "y": [
          0.11274493652072279,
          0.6380621974306803,
          null
         ]
        },
        {
         "hoverinfo": "text",
         "line": {
          "color": "cornflowerblue",
          "width": 1.0090756983044573
         },
         "mode": "lines",
         "text": [
          "Rations--Jim Shields: 2"
         ],
         "type": "scatter",
         "x": [
          0.1271750074485006,
          -0.17887445516937944,
          null
         ],
         "y": [
          0.11274493652072279,
          -0.6437854388020003,
          null
         ]
        },
        {
         "hoverinfo": "text",
         "line": {
          "color": "cornflowerblue",
          "width": 0.3
         },
         "mode": "lines",
         "text": [
          "Rations--Joe Robinet: 1"
         ],
         "type": "scatter",
         "x": [
          0.1271750074485006,
          0.7457519403244229,
          null
         ],
         "y": [
          0.11274493652072279,
          -0.0797431498192736,
          null
         ]
        },
        {
         "hoverinfo": "text",
         "line": {
          "color": "cornflowerblue",
          "width": 0.3
         },
         "mode": "lines",
         "text": [
          "Rations--Jordon Bell: 1"
         ],
         "type": "scatter",
         "x": [
          0.1271750074485006,
          -0.07672216484877323,
          null
         ],
         "y": [
          0.11274493652072279,
          0.6679323572140383,
          null
         ]
        },
        {
         "hoverinfo": "text",
         "line": {
          "color": "cornflowerblue",
          "width": 0.3
         },
         "mode": "lines",
         "text": [
          "Rations--Jose Martinez Amoedo: 1"
         ],
         "type": "scatter",
         "x": [
          0.1271750074485006,
          -0.6319766270688345,
          null
         ],
         "y": [
          0.11274493652072279,
          -0.13472354967767763,
          null
         ]
        },
        {
         "hoverinfo": "text",
         "line": {
          "color": "cornflowerblue",
          "width": 0.3
         },
         "mode": "lines",
         "text": [
          "Rations--Josh Richardson: 1"
         ],
         "type": "scatter",
         "x": [
          0.1271750074485006,
          0.42259581982357375,
          null
         ],
         "y": [
          0.11274493652072279,
          0.8708308529937877,
          null
         ]
        },
        {
         "hoverinfo": "text",
         "line": {
          "color": "cornflowerblue",
          "width": 1.0090756983044573
         },
         "mode": "lines",
         "text": [
          "Rations--Justin Vititoe: 2"
         ],
         "type": "scatter",
         "x": [
          0.1271750074485006,
          0.16096581098835464,
          null
         ],
         "y": [
          0.11274493652072279,
          0.9041150378816133,
          null
         ]
        },
        {
         "hoverinfo": "text",
         "line": {
          "color": "cornflowerblue",
          "width": 0.3
         },
         "mode": "lines",
         "text": [
          "Rations--Karie Lee Knoke: 1"
         ],
         "type": "scatter",
         "x": [
          0.1271750074485006,
          0.2534601432680607,
          null
         ],
         "y": [
          0.11274493652072279,
          -0.5671790990454183,
          null
         ]
        },
        {
         "hoverinfo": "text",
         "line": {
          "color": "cornflowerblue",
          "width": 2.0515563512592996
         },
         "mode": "lines",
         "text": [
          "Rations--Larry Roberts: 3"
         ],
         "type": "scatter",
         "x": [
          0.1271750074485006,
          -0.3364232797862773,
          null
         ],
         "y": [
          0.11274493652072279,
          0.16502950099272184,
          null
         ]
        },
        {
         "hoverinfo": "text",
         "line": {
          "color": "cornflowerblue",
          "width": 0.3
         },
         "mode": "lines",
         "text": [
          "Rations--Logan Ribar: 1"
         ],
         "type": "scatter",
         "x": [
          0.1271750074485006,
          0.008267981975036148,
          null
         ],
         "y": [
          0.11274493652072279,
          -0.4928787114965203,
          null
         ]
        },
        {
         "hoverinfo": "text",
         "line": {
          "color": "cornflowerblue",
          "width": 0.3
         },
         "mode": "lines",
         "text": [
          "Rations--Lucas Miller: 1"
         ],
         "type": "scatter",
         "x": [
          0.1271750074485006,
          0.3131108731926996,
          null
         ],
         "y": [
          0.11274493652072279,
          0.6838900750220774,
          null
         ]
        },
        {
         "hoverinfo": "text",
         "line": {
          "color": "cornflowerblue",
          "width": 0.3
         },
         "mode": "lines",
         "text": [
          "Rations--Mary Kate Green: 1"
         ],
         "type": "scatter",
         "x": [
          0.1271750074485006,
          0.7646608077190291,
          null
         ],
         "y": [
          0.11274493652072279,
          0.10192847172652374,
          null
         ]
        },
        {
         "hoverinfo": "text",
         "line": {
          "color": "cornflowerblue",
          "width": 0.3
         },
         "mode": "lines",
         "text": [
          "Rations--Matt Corradino: 1"
         ],
         "type": "scatter",
         "x": [
          0.1271750074485006,
          -0.20064253198025278,
          null
         ],
         "y": [
          0.11274493652072279,
          0.7105100559961994,
          null
         ]
        },
        {
         "hoverinfo": "text",
         "line": {
          "color": "cornflowerblue",
          "width": 0.3
         },
         "mode": "lines",
         "text": [
          "Rations--Megan Hanacek: 1"
         ],
         "type": "scatter",
         "x": [
          0.1271750074485006,
          0.3580733953966105,
          null
         ],
         "y": [
          0.11274493652072279,
          0.5328785899573018,
          null
         ]
        },
        {
         "hoverinfo": "text",
         "line": {
          "color": "cornflowerblue",
          "width": 0.3
         },
         "mode": "lines",
         "text": [
          "Rations--Michelle Wohlberg: 1"
         ],
         "type": "scatter",
         "x": [
          0.1271750074485006,
          -0.1938042578318345,
          null
         ],
         "y": [
          0.11274493652072279,
          0.5902316390105835,
          null
         ]
        },
        {
         "hoverinfo": "text",
         "line": {
          "color": "cornflowerblue",
          "width": 1.0090756983044573
         },
         "mode": "lines",
         "text": [
          "Rations--Mike Lowe: 2"
         ],
         "type": "scatter",
         "x": [
          0.1271750074485006,
          0.30262084802000055,
          null
         ],
         "y": [
          0.11274493652072279,
          -0.6900817037865407,
          null
         ]
        },
        {
         "hoverinfo": "text",
         "line": {
          "color": "cornflowerblue",
          "width": 0.3
         },
         "mode": "lines",
         "text": [
          "Rations--Nathan Donnelly: 1"
         ],
         "type": "scatter",
         "x": [
          0.1271750074485006,
          -0.2932939089011811,
          null
         ],
         "y": [
          0.11274493652072279,
          -0.5842392372509401,
          null
         ]
        },
        {
         "hoverinfo": "text",
         "line": {
          "color": "cornflowerblue",
          "width": 2.0515563512592996
         },
         "mode": "lines",
         "text": [
          "Rations--Nicole Apelian: 3"
         ],
         "type": "scatter",
         "x": [
          0.1271750074485006,
          0.26878954826134965,
          null
         ],
         "y": [
          0.11274493652072279,
          -0.20623505651882393,
          null
         ]
        },
        {
         "hoverinfo": "text",
         "line": {
          "color": "cornflowerblue",
          "width": 0.3
         },
         "mode": "lines",
         "text": [
          "Rations--Pete Brockdorff: 1"
         ],
         "type": "scatter",
         "x": [
          0.1271750074485006,
          0.5976076136229159,
          null
         ],
         "y": [
          0.11274493652072279,
          0.5496059875401306,
          null
         ]
        },
        {
         "hoverinfo": "text",
         "line": {
          "color": "cornflowerblue",
          "width": 0.3
         },
         "mode": "lines",
         "text": [
          "Rations--Randy Champagne: 1"
         ],
         "type": "scatter",
         "x": [
          0.1271750074485006,
          -0.349304559305111,
          null
         ],
         "y": [
          0.11274493652072279,
          -0.20173770295454785,
          null
         ]
        },
        {
         "hoverinfo": "text",
         "line": {
          "color": "cornflowerblue",
          "width": 0.3
         },
         "mode": "lines",
         "text": [
          "Rations--Sam Brockdorff: 1"
         ],
         "type": "scatter",
         "x": [
          0.1271750074485006,
          0.7895725287866725,
          null
         ],
         "y": [
          0.11274493652072279,
          -0.23782640566337726,
          null
         ]
        },
        {
         "hoverinfo": "text",
         "line": {
          "color": "cornflowerblue",
          "width": 2.0515563512592996
         },
         "mode": "lines",
         "text": [
          "Rations--Sam Larson: 3"
         ],
         "type": "scatter",
         "x": [
          0.1271750074485006,
          -0.1820735822325081,
          null
         ],
         "y": [
          0.11274493652072279,
          0.3266028819567148,
          null
         ]
        },
        {
         "hoverinfo": "text",
         "line": {
          "color": "cornflowerblue",
          "width": 1.0090756983044573
         },
         "mode": "lines",
         "text": [
          "Rations--Shannon Bosdell: 2"
         ],
         "type": "scatter",
         "x": [
          0.1271750074485006,
          0.08408647256603534,
          null
         ],
         "y": [
          0.11274493652072279,
          0.8278971316131882,
          null
         ]
        },
        {
         "hoverinfo": "text",
         "line": {
          "color": "cornflowerblue",
          "width": 0.3
         },
         "mode": "lines",
         "text": [
          "Rations--Ted Baird: 1"
         ],
         "type": "scatter",
         "x": [
          0.1271750074485006,
          0.42021163583332416,
          null
         ],
         "y": [
          0.11274493652072279,
          0.6306063918738846,
          null
         ]
        },
        {
         "hoverinfo": "text",
         "line": {
          "color": "cornflowerblue",
          "width": 0.3
         },
         "mode": "lines",
         "text": [
          "Rations--Teimojin Tan: 1"
         ],
         "type": "scatter",
         "x": [
          0.1271750074485006,
          -0.6574377690196297,
          null
         ],
         "y": [
          0.11274493652072279,
          0.3744098743947772,
          null
         ]
        },
        {
         "hoverinfo": "text",
         "line": {
          "color": "cornflowerblue",
          "width": 0.3
         },
         "mode": "lines",
         "text": [
          "Rations--Theresa Emmerich Kamper: 1"
         ],
         "type": "scatter",
         "x": [
          0.1271750074485006,
          -0.5954419455642739,
          null
         ],
         "y": [
          0.11274493652072279,
          -0.030911466412550843,
          null
         ]
        },
        {
         "hoverinfo": "text",
         "line": {
          "color": "cornflowerblue",
          "width": 0.3
         },
         "mode": "lines",
         "text": [
          "Rations--Tim Madsen: 1"
         ],
         "type": "scatter",
         "x": [
          0.1271750074485006,
          0.46464938444806847,
          null
         ],
         "y": [
          0.11274493652072279,
          0.03696312994248573,
          null
         ]
        },
        {
         "hoverinfo": "text",
         "line": {
          "color": "cornflowerblue",
          "width": 1.0090756983044573
         },
         "mode": "lines",
         "text": [
          "Rations--Tracy Wilson: 2"
         ],
         "type": "scatter",
         "x": [
          0.1271750074485006,
          0.6737486629514334,
          null
         ],
         "y": [
          0.11274493652072279,
          0.2423148856093115,
          null
         ]
        },
        {
         "hoverinfo": "text",
         "line": {
          "color": "cornflowerblue",
          "width": 0.3
         },
         "mode": "lines",
         "text": [
          "Rations--Woniya Thibeault: 1"
         ],
         "type": "scatter",
         "x": [
          0.1271750074485006,
          -0.7325621231282693,
          null
         ],
         "y": [
          0.11274493652072279,
          -0.30412075447223474,
          null
         ]
        },
        {
         "hoverinfo": "text",
         "line": {
          "color": "cornflowerblue",
          "width": 0.3
         },
         "mode": "lines",
         "text": [
          "Rations--Zachary Gault: 1"
         ],
         "type": "scatter",
         "x": [
          0.1271750074485006,
          -0.7968801789443809,
          null
         ],
         "y": [
          0.11274493652072279,
          -0.03162239453647401,
          null
         ]
        },
        {
         "hoverinfo": "text",
         "line": {
          "color": "cornflowerblue",
          "width": 0.3
         },
         "mode": "lines",
         "text": [
          "Saw--Adam Riley: 1"
         ],
         "type": "scatter",
         "x": [
          -0.0371168602943827,
          0.4231282311244024,
          null
         ],
         "y": [
          0.06018618981894474,
          -0.4816436280899793,
          null
         ]
        },
        {
         "hoverinfo": "text",
         "line": {
          "color": "cornflowerblue",
          "width": 0.3
         },
         "mode": "lines",
         "text": [
          "Saw--Alan Kay: 1"
         ],
         "type": "scatter",
         "x": [
          -0.0371168602943827,
          0.815066799980723,
          null
         ],
         "y": [
          0.06018618981894474,
          0.3326460444066763,
          null
         ]
        },
        {
         "hoverinfo": "text",
         "line": {
          "color": "cornflowerblue",
          "width": 0.3
         },
         "mode": "lines",
         "text": [
          "Saw--Alex Ribar: 1"
         ],
         "type": "scatter",
         "x": [
          -0.0371168602943827,
          -0.29962651788445005,
          null
         ],
         "y": [
          0.06018618981894474,
          0.7352242658938394,
          null
         ]
        },
        {
         "hoverinfo": "text",
         "line": {
          "color": "cornflowerblue",
          "width": 0.3
         },
         "mode": "lines",
         "text": [
          "Saw--Barry Karcher: 1"
         ],
         "type": "scatter",
         "x": [
          -0.0371168602943827,
          -0.03751998498056549,
          null
         ],
         "y": [
          0.06018618981894474,
          -0.6563629833878613,
          null
         ]
        },
        {
         "hoverinfo": "text",
         "line": {
          "color": "cornflowerblue",
          "width": 0.3
         },
         "mode": "lines",
         "text": [
          "Saw--Biko Wright: 1"
         ],
         "type": "scatter",
         "x": [
          -0.0371168602943827,
          0.48312640249247935,
          null
         ],
         "y": [
          0.06018618981894474,
          -0.31655373770660206,
          null
         ]
        },
        {
         "hoverinfo": "text",
         "line": {
          "color": "cornflowerblue",
          "width": 2.0515563512592996
         },
         "mode": "lines",
         "text": [
          "Saw--Brad Richardson: 3"
         ],
         "type": "scatter",
         "x": [
          -0.0371168602943827,
          0.05984641461518838,
          null
         ],
         "y": [
          0.06018618981894474,
          0.4399290105576108,
          null
         ]
        },
        {
         "hoverinfo": "text",
         "line": {
          "color": "cornflowerblue",
          "width": 0.3
         },
         "mode": "lines",
         "text": [
          "Saw--Brady Nicholls: 1"
         ],
         "type": "scatter",
         "x": [
          -0.0371168602943827,
          0.13346439365291393,
          null
         ],
         "y": [
          0.06018618981894474,
          -0.4829246395259961,
          null
         ]
        },
        {
         "hoverinfo": "text",
         "line": {
          "color": "cornflowerblue",
          "width": 1.0090756983044573
         },
         "mode": "lines",
         "text": [
          "Saw--Britt Ahart: 2"
         ],
         "type": "scatter",
         "x": [
          -0.0371168602943827,
          -0.2497631631785479,
          null
         ],
         "y": [
          0.06018618981894474,
          -0.41853936522327173,
          null
         ]
        },
        {
         "hoverinfo": "text",
         "line": {
          "color": "cornflowerblue",
          "width": 0.3
         },
         "mode": "lines",
         "text": [
          "Saw--Brody Wilkes: 1"
         ],
         "type": "scatter",
         "x": [
          -0.0371168602943827,
          0.7241660136758504,
          null
         ],
         "y": [
          0.06018618981894474,
          0.4222017319260711,
          null
         ]
        },
        {
         "hoverinfo": "text",
         "line": {
          "color": "cornflowerblue",
          "width": 1.0090756983044573
         },
         "mode": "lines",
         "text": [
          "Saw--Brooke Whipple: 2"
         ],
         "type": "scatter",
         "x": [
          -0.0371168602943827,
          -0.06443041586361846,
          null
         ],
         "y": [
          0.06018618981894474,
          0.43698357904344115,
          null
         ]
        },
        {
         "hoverinfo": "text",
         "line": {
          "color": "cornflowerblue",
          "width": 0.3
         },
         "mode": "lines",
         "text": [
          "Saw--Callie North: 1"
         ],
         "type": "scatter",
         "x": [
          -0.0371168602943827,
          0.7069818503900434,
          null
         ],
         "y": [
          0.06018618981894474,
          -0.38322354353375715,
          null
         ]
        },
        {
         "hoverinfo": "text",
         "line": {
          "color": "cornflowerblue",
          "width": 0.3
         },
         "mode": "lines",
         "text": [
          "Saw--Callie Russell: 1"
         ],
         "type": "scatter",
         "x": [
          -0.0371168602943827,
          -0.40911892652294085,
          null
         ],
         "y": [
          0.06018618981894474,
          0.4678098215325018,
          null
         ]
        },
        {
         "hoverinfo": "text",
         "line": {
          "color": "cornflowerblue",
          "width": 1.0090756983044573
         },
         "mode": "lines",
         "text": [
          "Saw--Carleigh Fairchild: 2"
         ],
         "type": "scatter",
         "x": [
          -0.0371168602943827,
          0.20924019981298217,
          null
         ],
         "y": [
          0.06018618981894474,
          0.3284587939178709,
          null
         ]
        },
        {
         "hoverinfo": "text",
         "line": {
          "color": "cornflowerblue",
          "width": 0.3
         },
         "mode": "lines",
         "text": [
          "Saw--Chris Weatherman: 1"
         ],
         "type": "scatter",
         "x": [
          -0.0371168602943827,
          0.6762748571438286,
          null
         ],
         "y": [
          0.06018618981894474,
          -0.10771672290687707,
          null
         ]
        },
        {
         "hoverinfo": "text",
         "line": {
          "color": "cornflowerblue",
          "width": 0.3
         },
         "mode": "lines",
         "text": [
          "Saw--Chris Wilkes: 1"
         ],
         "type": "scatter",
         "x": [
          -0.0371168602943827,
          0.8923936620530742,
          null
         ],
         "y": [
          0.06018618981894474,
          0.1193147390934305,
          null
         ]
        },
        {
         "hoverinfo": "text",
         "line": {
          "color": "cornflowerblue",
          "width": 0.3
         },
         "mode": "lines",
         "text": [
          "Saw--Clay Hayes: 1"
         ],
         "type": "scatter",
         "x": [
          -0.0371168602943827,
          -0.5667181352988339,
          null
         ],
         "y": [
          0.06018618981894474,
          0.46031393361436546,
          null
         ]
        },
        {
         "hoverinfo": "text",
         "line": {
          "color": "cornflowerblue",
          "width": 0.3
         },
         "mode": "lines",
         "text": [
          "Saw--Colter Barnes: 1"
         ],
         "type": "scatter",
         "x": [
          -0.0371168602943827,
          0.2921842173185547,
          null
         ],
         "y": [
          0.06018618981894474,
          -0.4206342073418396,
          null
         ]
        },
        {
         "hoverinfo": "text",
         "line": {
          "color": "cornflowerblue",
          "width": 0.3
         },
         "mode": "lines",
         "text": [
          "Saw--Correy Hawk: 1"
         ],
         "type": "scatter",
         "x": [
          -0.0371168602943827,
          -0.72740767404415,
          null
         ],
         "y": [
          0.06018618981894474,
          -0.42716753086886317,
          null
         ]
        },
        {
         "hoverinfo": "text",
         "line": {
          "color": "cornflowerblue",
          "width": 0.3
         },
         "mode": "lines",
         "text": [
          "Saw--Dan Wowak: 1"
         ],
         "type": "scatter",
         "x": [
          -0.0371168602943827,
          -0.12721075638771265,
          null
         ],
         "y": [
          0.06018618981894474,
          -0.806965295635513,
          null
         ]
        },
        {
         "hoverinfo": "text",
         "line": {
          "color": "cornflowerblue",
          "width": 0.3
         },
         "mode": "lines",
         "text": [
          "Saw--Dave Whipple: 1"
         ],
         "type": "scatter",
         "x": [
          -0.0371168602943827,
          0.7193082469361248,
          null
         ],
         "y": [
          0.06018618981894474,
          0.6943656160949481,
          null
         ]
        },
        {
         "hoverinfo": "text",
         "line": {
          "color": "cornflowerblue",
          "width": 0.3
         },
         "mode": "lines",
         "text": [
          "Saw--David McIntyre: 1"
         ],
         "type": "scatter",
         "x": [
          -0.0371168602943827,
          0.6112918996834296,
          null
         ],
         "y": [
          0.06018618981894474,
          -0.5735080525836848,
          null
         ]
        },
        {
         "hoverinfo": "text",
         "line": {
          "color": "cornflowerblue",
          "width": 0.3
         },
         "mode": "lines",
         "text": [
          "Saw--Desmond White: 1"
         ],
         "type": "scatter",
         "x": [
          -0.0371168602943827,
          0.8644714148065687,
          null
         ],
         "y": [
          0.06018618981894474,
          -0.08364130560083073,
          null
         ]
        },
        {
         "hoverinfo": "text",
         "line": {
          "color": "cornflowerblue",
          "width": 0.3
         },
         "mode": "lines",
         "text": [
          "Saw--Donny Dust: 1"
         ],
         "type": "scatter",
         "x": [
          -0.0371168602943827,
          -0.598389093734986,
          null
         ],
         "y": [
          0.06018618981894474,
          -0.25104108361735633,
          null
         ]
        },
        {
         "hoverinfo": "text",
         "line": {
          "color": "cornflowerblue",
          "width": 0.3
         },
         "mode": "lines",
         "text": [
          "Saw--Greg Ovens: 1"
         ],
         "type": "scatter",
         "x": [
          -0.0371168602943827,
          0.5841134288357716,
          null
         ],
         "y": [
          0.06018618981894474,
          0.05943423685498098,
          null
         ]
        },
        {
         "hoverinfo": "text",
         "line": {
          "color": "cornflowerblue",
          "width": 0.3
         },
         "mode": "lines",
         "text": [
          "Saw--Igor Limansky: 1"
         ],
         "type": "scatter",
         "x": [
          -0.0371168602943827,
          0.37559142637995513,
          null
         ],
         "y": [
          0.06018618981894474,
          -0.2931818437887316,
          null
         ]
        },
        {
         "hoverinfo": "text",
         "line": {
          "color": "cornflowerblue",
          "width": 1.0090756983044573
         },
         "mode": "lines",
         "text": [
          "Saw--Jesse Bosdell: 2"
         ],
         "type": "scatter",
         "x": [
          -0.0371168602943827,
          0.1396216938016799,
          null
         ],
         "y": [
          0.06018618981894474,
          0.5465408455237983,
          null
         ]
        },
        {
         "hoverinfo": "text",
         "line": {
          "color": "cornflowerblue",
          "width": 0.3
         },
         "mode": "lines",
         "text": [
          "Saw--Jessie Krebs: 1"
         ],
         "type": "scatter",
         "x": [
          -0.0371168602943827,
          -0.5892249398047921,
          null
         ],
         "y": [
          0.06018618981894474,
          -0.6863070643601215,
          null
         ]
        },
        {
         "hoverinfo": "text",
         "line": {
          "color": "cornflowerblue",
          "width": 0.3
         },
         "mode": "lines",
         "text": [
          "Saw--Jim Baird: 1"
         ],
         "type": "scatter",
         "x": [
          -0.0371168602943827,
          -0.3638893093665568,
          null
         ],
         "y": [
          0.06018618981894474,
          0.6380621974306803,
          null
         ]
        },
        {
         "hoverinfo": "text",
         "line": {
          "color": "cornflowerblue",
          "width": 0.3
         },
         "mode": "lines",
         "text": [
          "Saw--Jim Shields: 1"
         ],
         "type": "scatter",
         "x": [
          -0.0371168602943827,
          -0.17887445516937944,
          null
         ],
         "y": [
          0.06018618981894474,
          -0.6437854388020003,
          null
         ]
        },
        {
         "hoverinfo": "text",
         "line": {
          "color": "cornflowerblue",
          "width": 0.3
         },
         "mode": "lines",
         "text": [
          "Saw--Joe Nicholas: 1"
         ],
         "type": "scatter",
         "x": [
          -0.0371168602943827,
          0.4703725737274096,
          null
         ],
         "y": [
          0.06018618981894474,
          0.43497154517033965,
          null
         ]
        },
        {
         "hoverinfo": "text",
         "line": {
          "color": "cornflowerblue",
          "width": 0.3
         },
         "mode": "lines",
         "text": [
          "Saw--Joel Van Der Loon: 1"
         ],
         "type": "scatter",
         "x": [
          -0.0371168602943827,
          -0.5052226395097973,
          null
         ],
         "y": [
          0.06018618981894474,
          -0.3745727323423614,
          null
         ]
        },
        {
         "hoverinfo": "text",
         "line": {
          "color": "cornflowerblue",
          "width": 0.3
         },
         "mode": "lines",
         "text": [
          "Saw--Jordan Jonas: 1"
         ],
         "type": "scatter",
         "x": [
          -0.0371168602943827,
          -0.7329533216627765,
          null
         ],
         "y": [
          0.06018618981894474,
          -0.5533096892464248,
          null
         ]
        },
        {
         "hoverinfo": "text",
         "line": {
          "color": "cornflowerblue",
          "width": 0.3
         },
         "mode": "lines",
         "text": [
          "Saw--Jordon Bell: 1"
         ],
         "type": "scatter",
         "x": [
          -0.0371168602943827,
          -0.07672216484877323,
          null
         ],
         "y": [
          0.06018618981894474,
          0.6679323572140383,
          null
         ]
        },
        {
         "hoverinfo": "text",
         "line": {
          "color": "cornflowerblue",
          "width": 0.3
         },
         "mode": "lines",
         "text": [
          "Saw--Jose Martinez Amoedo: 1"
         ],
         "type": "scatter",
         "x": [
          -0.0371168602943827,
          -0.6319766270688345,
          null
         ],
         "y": [
          0.06018618981894474,
          -0.13472354967767763,
          null
         ]
        },
        {
         "hoverinfo": "text",
         "line": {
          "color": "cornflowerblue",
          "width": 0.3
         },
         "mode": "lines",
         "text": [
          "Saw--Josh Chavez: 1"
         ],
         "type": "scatter",
         "x": [
          -0.0371168602943827,
          0.42205675328593906,
          null
         ],
         "y": [
          0.06018618981894474,
          -0.6797172750600777,
          null
         ]
        },
        {
         "hoverinfo": "text",
         "line": {
          "color": "cornflowerblue",
          "width": 1.0090756983044573
         },
         "mode": "lines",
         "text": [
          "Saw--Josh Richardson: 2"
         ],
         "type": "scatter",
         "x": [
          -0.0371168602943827,
          0.42259581982357375,
          null
         ],
         "y": [
          0.06018618981894474,
          0.8708308529937877,
          null
         ]
        },
        {
         "hoverinfo": "text",
         "line": {
          "color": "cornflowerblue",
          "width": 0.3
         },
         "mode": "lines",
         "text": [
          "Saw--Juan Pablo Quinonez: 1"
         ],
         "type": "scatter",
         "x": [
          -0.0371168602943827,
          0.3573511980627373,
          null
         ],
         "y": [
          0.06018618981894474,
          0.26989400434930627,
          null
         ]
        },
        {
         "hoverinfo": "text",
         "line": {
          "color": "cornflowerblue",
          "width": 0.3
         },
         "mode": "lines",
         "text": [
          "Saw--Justin Vititoe: 1"
         ],
         "type": "scatter",
         "x": [
          -0.0371168602943827,
          0.16096581098835464,
          null
         ],
         "y": [
          0.06018618981894474,
          0.9041150378816133,
          null
         ]
        },
        {
         "hoverinfo": "text",
         "line": {
          "color": "cornflowerblue",
          "width": 1.0090756983044573
         },
         "mode": "lines",
         "text": [
          "Saw--Larry Roberts: 2"
         ],
         "type": "scatter",
         "x": [
          -0.0371168602943827,
          -0.3364232797862773,
          null
         ],
         "y": [
          0.06018618981894474,
          0.16502950099272184,
          null
         ]
        },
        {
         "hoverinfo": "text",
         "line": {
          "color": "cornflowerblue",
          "width": 0.3
         },
         "mode": "lines",
         "text": [
          "Saw--Logan Ribar: 1"
         ],
         "type": "scatter",
         "x": [
          -0.0371168602943827,
          0.008267981975036148,
          null
         ],
         "y": [
          0.06018618981894474,
          -0.4928787114965203,
          null
         ]
        },
        {
         "hoverinfo": "text",
         "line": {
          "color": "cornflowerblue",
          "width": 0.3
         },
         "mode": "lines",
         "text": [
          "Saw--Lucas Miller: 1"
         ],
         "type": "scatter",
         "x": [
          -0.0371168602943827,
          0.3131108731926996,
          null
         ],
         "y": [
          0.06018618981894474,
          0.6838900750220774,
          null
         ]
        },
        {
         "hoverinfo": "text",
         "line": {
          "color": "cornflowerblue",
          "width": 0.3
         },
         "mode": "lines",
         "text": [
          "Saw--Mark D'Ambrosio: 1"
         ],
         "type": "scatter",
         "x": [
          -0.0371168602943827,
          -0.821198931605355,
          null
         ],
         "y": [
          0.06018618981894474,
          0.251707705900538,
          null
         ]
        },
        {
         "hoverinfo": "text",
         "line": {
          "color": "cornflowerblue",
          "width": 0.3
         },
         "mode": "lines",
         "text": [
          "Saw--Mary Kate Green: 1"
         ],
         "type": "scatter",
         "x": [
          -0.0371168602943827,
          0.7646608077190291,
          null
         ],
         "y": [
          0.06018618981894474,
          0.10192847172652374,
          null
         ]
        },
        {
         "hoverinfo": "text",
         "line": {
          "color": "cornflowerblue",
          "width": 0.3
         },
         "mode": "lines",
         "text": [
          "Saw--Matt Corradino: 1"
         ],
         "type": "scatter",
         "x": [
          -0.0371168602943827,
          -0.20064253198025278,
          null
         ],
         "y": [
          0.06018618981894474,
          0.7105100559961994,
          null
         ]
        },
        {
         "hoverinfo": "text",
         "line": {
          "color": "cornflowerblue",
          "width": 0.3
         },
         "mode": "lines",
         "text": [
          "Saw--Michelle Finn: 1"
         ],
         "type": "scatter",
         "x": [
          -0.0371168602943827,
          -0.6045440501381834,
          null
         ],
         "y": [
          0.06018618981894474,
          -0.48305458918849853,
          null
         ]
        },
        {
         "hoverinfo": "text",
         "line": {
          "color": "cornflowerblue",
          "width": 0.3
         },
         "mode": "lines",
         "text": [
          "Saw--Michelle Wohlberg: 1"
         ],
         "type": "scatter",
         "x": [
          -0.0371168602943827,
          -0.1938042578318345,
          null
         ],
         "y": [
          0.06018618981894474,
          0.5902316390105835,
          null
         ]
        },
        {
         "hoverinfo": "text",
         "line": {
          "color": "cornflowerblue",
          "width": 0.3
         },
         "mode": "lines",
         "text": [
          "Saw--Mike Lowe: 1"
         ],
         "type": "scatter",
         "x": [
          -0.0371168602943827,
          0.30262084802000055,
          null
         ],
         "y": [
          0.06018618981894474,
          -0.6900817037865407,
          null
         ]
        },
        {
         "hoverinfo": "text",
         "line": {
          "color": "cornflowerblue",
          "width": 0.3
         },
         "mode": "lines",
         "text": [
          "Saw--Nate Weber: 1"
         ],
         "type": "scatter",
         "x": [
          -0.0371168602943827,
          -0.7150813604179511,
          null
         ],
         "y": [
          0.06018618981894474,
          0.03847680432140553,
          null
         ]
        },
        {
         "hoverinfo": "text",
         "line": {
          "color": "cornflowerblue",
          "width": 1.0090756983044573
         },
         "mode": "lines",
         "text": [
          "Saw--Nicole Apelian: 2"
         ],
         "type": "scatter",
         "x": [
          -0.0371168602943827,
          0.26878954826134965,
          null
         ],
         "y": [
          0.06018618981894474,
          -0.20623505651882393,
          null
         ]
        },
        {
         "hoverinfo": "text",
         "line": {
          "color": "cornflowerblue",
          "width": 0.3
         },
         "mode": "lines",
         "text": [
          "Saw--Nikki van Schyndel: 1"
         ],
         "type": "scatter",
         "x": [
          -0.0371168602943827,
          -0.44888430898162773,
          null
         ],
         "y": [
          0.06018618981894474,
          -0.5754517487206505,
          null
         ]
        },
        {
         "hoverinfo": "text",
         "line": {
          "color": "cornflowerblue",
          "width": 0.3
         },
         "mode": "lines",
         "text": [
          "Saw--Pete Brockdorff: 1"
         ],
         "type": "scatter",
         "x": [
          -0.0371168602943827,
          0.5976076136229159,
          null
         ],
         "y": [
          0.06018618981894474,
          0.5496059875401306,
          null
         ]
        },
        {
         "hoverinfo": "text",
         "line": {
          "color": "cornflowerblue",
          "width": 1.0090756983044573
         },
         "mode": "lines",
         "text": [
          "Saw--Randy Champagne: 2"
         ],
         "type": "scatter",
         "x": [
          -0.0371168602943827,
          -0.349304559305111,
          null
         ],
         "y": [
          0.06018618981894474,
          -0.20173770295454785,
          null
         ]
        },
        {
         "hoverinfo": "text",
         "line": {
          "color": "cornflowerblue",
          "width": 0.3
         },
         "mode": "lines",
         "text": [
          "Saw--Ray Livingston: 1"
         ],
         "type": "scatter",
         "x": [
          -0.0371168602943827,
          0.4861611815391165,
          null
         ],
         "y": [
          0.06018618981894474,
          -0.14717529162435514,
          null
         ]
        },
        {
         "hoverinfo": "text",
         "line": {
          "color": "cornflowerblue",
          "width": 0.3
         },
         "mode": "lines",
         "text": [
          "Saw--Roland Welker: 1"
         ],
         "type": "scatter",
         "x": [
          -0.0371168602943827,
          -0.6803277873559646,
          null
         ],
         "y": [
          0.06018618981894474,
          0.14388344051599708,
          null
         ]
        },
        {
         "hoverinfo": "text",
         "line": {
          "color": "cornflowerblue",
          "width": 0.3
         },
         "mode": "lines",
         "text": [
          "Saw--Rose Anna Moore: 1"
         ],
         "type": "scatter",
         "x": [
          -0.0371168602943827,
          -0.5806984395819331,
          null
         ],
         "y": [
          0.06018618981894474,
          0.5741478282855389,
          null
         ]
        },
        {
         "hoverinfo": "text",
         "line": {
          "color": "cornflowerblue",
          "width": 0.3
         },
         "mode": "lines",
         "text": [
          "Saw--Sam Brockdorff: 1"
         ],
         "type": "scatter",
         "x": [
          -0.0371168602943827,
          0.7895725287866725,
          null
         ],
         "y": [
          0.06018618981894474,
          -0.23782640566337726,
          null
         ]
        },
        {
         "hoverinfo": "text",
         "line": {
          "color": "cornflowerblue",
          "width": 0.3
         },
         "mode": "lines",
         "text": [
          "Saw--Sam Larson: 1"
         ],
         "type": "scatter",
         "x": [
          -0.0371168602943827,
          -0.1820735822325081,
          null
         ],
         "y": [
          0.06018618981894474,
          0.3266028819567148,
          null
         ]
        },
        {
         "hoverinfo": "text",
         "line": {
          "color": "cornflowerblue",
          "width": 0.3
         },
         "mode": "lines",
         "text": [
          "Saw--Shannon Bosdell: 1"
         ],
         "type": "scatter",
         "x": [
          -0.0371168602943827,
          0.08408647256603534,
          null
         ],
         "y": [
          0.06018618981894474,
          0.8278971316131882,
          null
         ]
        },
        {
         "hoverinfo": "text",
         "line": {
          "color": "cornflowerblue",
          "width": 0.3
         },
         "mode": "lines",
         "text": [
          "Saw--Shawn Helton: 1"
         ],
         "type": "scatter",
         "x": [
          -0.0371168602943827,
          -0.43802320462146654,
          null
         ],
         "y": [
          0.06018618981894474,
          -0.7462571818068016,
          null
         ]
        },
        {
         "hoverinfo": "text",
         "line": {
          "color": "cornflowerblue",
          "width": 0.3
         },
         "mode": "lines",
         "text": [
          "Saw--Ted Baird: 1"
         ],
         "type": "scatter",
         "x": [
          -0.0371168602943827,
          0.42021163583332416,
          null
         ],
         "y": [
          0.06018618981894474,
          0.6306063918738846,
          null
         ]
        },
        {
         "hoverinfo": "text",
         "line": {
          "color": "cornflowerblue",
          "width": 0.3
         },
         "mode": "lines",
         "text": [
          "Saw--Terry Burns: 1"
         ],
         "type": "scatter",
         "x": [
          -0.0371168602943827,
          0.13251353954568354,
          null
         ],
         "y": [
          0.06018618981894474,
          -0.6593339851762245,
          null
         ]
        },
        {
         "hoverinfo": "text",
         "line": {
          "color": "cornflowerblue",
          "width": 0.3
         },
         "mode": "lines",
         "text": [
          "Saw--Theresa Emmerich Kamper: 1"
         ],
         "type": "scatter",
         "x": [
          -0.0371168602943827,
          -0.5954419455642739,
          null
         ],
         "y": [
          0.06018618981894474,
          -0.030911466412550843,
          null
         ]
        },
        {
         "hoverinfo": "text",
         "line": {
          "color": "cornflowerblue",
          "width": 0.3
         },
         "mode": "lines",
         "text": [
          "Saw--Tim Backus: 1"
         ],
         "type": "scatter",
         "x": [
          -0.0371168602943827,
          -0.8346955697213538,
          null
         ],
         "y": [
          0.06018618981894474,
          -0.2072659581108296,
          null
         ]
        },
        {
         "hoverinfo": "text",
         "line": {
          "color": "cornflowerblue",
          "width": 0.3
         },
         "mode": "lines",
         "text": [
          "Saw--Tim Madsen: 1"
         ],
         "type": "scatter",
         "x": [
          -0.0371168602943827,
          0.46464938444806847,
          null
         ],
         "y": [
          0.06018618981894474,
          0.03696312994248573,
          null
         ]
        },
        {
         "hoverinfo": "text",
         "line": {
          "color": "cornflowerblue",
          "width": 0.3
         },
         "mode": "lines",
         "text": [
          "Saw--Tom Garstang: 1"
         ],
         "type": "scatter",
         "x": [
          -0.0371168602943827,
          -0.7017971597054672,
          null
         ],
         "y": [
          0.06018618981894474,
          0.25367816904649765,
          null
         ]
        },
        {
         "hoverinfo": "text",
         "line": {
          "color": "cornflowerblue",
          "width": 0.3
         },
         "mode": "lines",
         "text": [
          "Saw--Tracy Wilson: 1"
         ],
         "type": "scatter",
         "x": [
          -0.0371168602943827,
          0.6737486629514334,
          null
         ],
         "y": [
          0.06018618981894474,
          0.2423148856093115,
          null
         ]
        },
        {
         "hoverinfo": "text",
         "line": {
          "color": "cornflowerblue",
          "width": 0.3
         },
         "mode": "lines",
         "text": [
          "Saw--Wayne Russell: 1"
         ],
         "type": "scatter",
         "x": [
          -0.0371168602943827,
          -0.01698685123302949,
          null
         ],
         "y": [
          0.06018618981894474,
          -0.8677581074083068,
          null
         ]
        },
        {
         "hoverinfo": "text",
         "line": {
          "color": "cornflowerblue",
          "width": 0.3
         },
         "mode": "lines",
         "text": [
          "Saw--Woniya Thibeault: 1"
         ],
         "type": "scatter",
         "x": [
          -0.0371168602943827,
          -0.7325621231282693,
          null
         ],
         "y": [
          0.06018618981894474,
          -0.30412075447223474,
          null
         ]
        },
        {
         "hoverinfo": "text",
         "line": {
          "color": "cornflowerblue",
          "width": 0.3
         },
         "mode": "lines",
         "text": [
          "Saw--Zachary Fowler: 1"
         ],
         "type": "scatter",
         "x": [
          -0.0371168602943827,
          -0.9364475679671536,
          null
         ],
         "y": [
          0.06018618981894474,
          0.06687756482110661,
          null
         ]
        },
        {
         "hoverinfo": "text",
         "line": {
          "color": "cornflowerblue",
          "width": 0.3
         },
         "mode": "lines",
         "text": [
          "Saw--Zachary Gault: 1"
         ],
         "type": "scatter",
         "x": [
          -0.0371168602943827,
          -0.7968801789443809,
          null
         ],
         "y": [
          0.06018618981894474,
          -0.03162239453647401,
          null
         ]
        },
        {
         "hoverinfo": "text",
         "line": {
          "color": "cornflowerblue",
          "width": 0.3
         },
         "mode": "lines",
         "text": [
          "Sleeping bag--Adam Riley: 1"
         ],
         "type": "scatter",
         "x": [
          -0.004850564124383809,
          0.4231282311244024,
          null
         ],
         "y": [
          -0.09008358320368168,
          -0.4816436280899793,
          null
         ]
        },
        {
         "hoverinfo": "text",
         "line": {
          "color": "cornflowerblue",
          "width": 0.3
         },
         "mode": "lines",
         "text": [
          "Sleeping bag--Alan Kay: 1"
         ],
         "type": "scatter",
         "x": [
          -0.004850564124383809,
          0.815066799980723,
          null
         ],
         "y": [
          -0.09008358320368168,
          0.3326460444066763,
          null
         ]
        },
        {
         "hoverinfo": "text",
         "line": {
          "color": "cornflowerblue",
          "width": 0.3
         },
         "mode": "lines",
         "text": [
          "Sleeping bag--Amos Rodriguez: 1"
         ],
         "type": "scatter",
         "x": [
          -0.004850564124383809,
          0.0682803892041071,
          null
         ],
         "y": [
          -0.09008358320368168,
          -0.7245285080827909,
          null
         ]
        },
        {
         "hoverinfo": "text",
         "line": {
          "color": "cornflowerblue",
          "width": 0.3
         },
         "mode": "lines",
         "text": [
          "Sleeping bag--Barry Karcher: 1"
         ],
         "type": "scatter",
         "x": [
          -0.004850564124383809,
          -0.03751998498056549,
          null
         ],
         "y": [
          -0.09008358320368168,
          -0.6563629833878613,
          null
         ]
        },
        {
         "hoverinfo": "text",
         "line": {
          "color": "cornflowerblue",
          "width": 0.3
         },
         "mode": "lines",
         "text": [
          "Sleeping bag--Benki Hill: 1"
         ],
         "type": "scatter",
         "x": [
          -0.004850564124383809,
          -0.7675888778670847,
          null
         ],
         "y": [
          -0.09008358320368168,
          0.46054709803718463,
          null
         ]
        },
        {
         "hoverinfo": "text",
         "line": {
          "color": "cornflowerblue",
          "width": 0.3
         },
         "mode": "lines",
         "text": [
          "Sleeping bag--Biko Wright: 1"
         ],
         "type": "scatter",
         "x": [
          -0.004850564124383809,
          0.48312640249247935,
          null
         ],
         "y": [
          -0.09008358320368168,
          -0.31655373770660206,
          null
         ]
        },
        {
         "hoverinfo": "text",
         "line": {
          "color": "cornflowerblue",
          "width": 0.3
         },
         "mode": "lines",
         "text": [
          "Sleeping bag--Brad Richardson: 1"
         ],
         "type": "scatter",
         "x": [
          -0.004850564124383809,
          0.05984641461518838,
          null
         ],
         "y": [
          -0.09008358320368168,
          0.4399290105576108,
          null
         ]
        },
        {
         "hoverinfo": "text",
         "line": {
          "color": "cornflowerblue",
          "width": 0.3
         },
         "mode": "lines",
         "text": [
          "Sleeping bag--Brady Nicholls: 1"
         ],
         "type": "scatter",
         "x": [
          -0.004850564124383809,
          0.13346439365291393,
          null
         ],
         "y": [
          -0.09008358320368168,
          -0.4829246395259961,
          null
         ]
        },
        {
         "hoverinfo": "text",
         "line": {
          "color": "cornflowerblue",
          "width": 0.3
         },
         "mode": "lines",
         "text": [
          "Sleeping bag--Brant McGee: 1"
         ],
         "type": "scatter",
         "x": [
          -0.004850564124383809,
          0.6015230857860889,
          null
         ],
         "y": [
          -0.09008358320368168,
          -0.4155406048086862,
          null
         ]
        },
        {
         "hoverinfo": "text",
         "line": {
          "color": "cornflowerblue",
          "width": 1.0090756983044573
         },
         "mode": "lines",
         "text": [
          "Sleeping bag--Britt Ahart: 2"
         ],
         "type": "scatter",
         "x": [
          -0.004850564124383809,
          -0.2497631631785479,
          null
         ],
         "y": [
          -0.09008358320368168,
          -0.41853936522327173,
          null
         ]
        },
        {
         "hoverinfo": "text",
         "line": {
          "color": "cornflowerblue",
          "width": 1.0090756983044573
         },
         "mode": "lines",
         "text": [
          "Sleeping bag--Brody Wilkes: 2"
         ],
         "type": "scatter",
         "x": [
          -0.004850564124383809,
          0.7241660136758504,
          null
         ],
         "y": [
          -0.09008358320368168,
          0.4222017319260711,
          null
         ]
        },
        {
         "hoverinfo": "text",
         "line": {
          "color": "cornflowerblue",
          "width": 0.3
         },
         "mode": "lines",
         "text": [
          "Sleeping bag--Brooke Whipple: 1"
         ],
         "type": "scatter",
         "x": [
          -0.004850564124383809,
          -0.06443041586361846,
          null
         ],
         "y": [
          -0.09008358320368168,
          0.43698357904344115,
          null
         ]
        },
        {
         "hoverinfo": "text",
         "line": {
          "color": "cornflowerblue",
          "width": 0.3
         },
         "mode": "lines",
         "text": [
          "Sleeping bag--Callie North: 1"
         ],
         "type": "scatter",
         "x": [
          -0.004850564124383809,
          0.7069818503900434,
          null
         ],
         "y": [
          -0.09008358320368168,
          -0.38322354353375715,
          null
         ]
        },
        {
         "hoverinfo": "text",
         "line": {
          "color": "cornflowerblue",
          "width": 0.3
         },
         "mode": "lines",
         "text": [
          "Sleeping bag--Callie Russell: 1"
         ],
         "type": "scatter",
         "x": [
          -0.004850564124383809,
          -0.40911892652294085,
          null
         ],
         "y": [
          -0.09008358320368168,
          0.4678098215325018,
          null
         ]
        },
        {
         "hoverinfo": "text",
         "line": {
          "color": "cornflowerblue",
          "width": 1.0090756983044573
         },
         "mode": "lines",
         "text": [
          "Sleeping bag--Carleigh Fairchild: 2"
         ],
         "type": "scatter",
         "x": [
          -0.004850564124383809,
          0.20924019981298217,
          null
         ],
         "y": [
          -0.09008358320368168,
          0.3284587939178709,
          null
         ]
        },
        {
         "hoverinfo": "text",
         "line": {
          "color": "cornflowerblue",
          "width": 0.3
         },
         "mode": "lines",
         "text": [
          "Sleeping bag--Chris Weatherman: 1"
         ],
         "type": "scatter",
         "x": [
          -0.004850564124383809,
          0.6762748571438286,
          null
         ],
         "y": [
          -0.09008358320368168,
          -0.10771672290687707,
          null
         ]
        },
        {
         "hoverinfo": "text",
         "line": {
          "color": "cornflowerblue",
          "width": 1.0090756983044573
         },
         "mode": "lines",
         "text": [
          "Sleeping bag--Chris Wilkes: 2"
         ],
         "type": "scatter",
         "x": [
          -0.004850564124383809,
          0.8923936620530742,
          null
         ],
         "y": [
          -0.09008358320368168,
          0.1193147390934305,
          null
         ]
        },
        {
         "hoverinfo": "text",
         "line": {
          "color": "cornflowerblue",
          "width": 0.3
         },
         "mode": "lines",
         "text": [
          "Sleeping bag--Clay Hayes: 1"
         ],
         "type": "scatter",
         "x": [
          -0.004850564124383809,
          -0.5667181352988339,
          null
         ],
         "y": [
          -0.09008358320368168,
          0.46031393361436546,
          null
         ]
        },
        {
         "hoverinfo": "text",
         "line": {
          "color": "cornflowerblue",
          "width": 0.3
         },
         "mode": "lines",
         "text": [
          "Sleeping bag--Colter Barnes: 1"
         ],
         "type": "scatter",
         "x": [
          -0.004850564124383809,
          0.2921842173185547,
          null
         ],
         "y": [
          -0.09008358320368168,
          -0.4206342073418396,
          null
         ]
        },
        {
         "hoverinfo": "text",
         "line": {
          "color": "cornflowerblue",
          "width": 0.3
         },
         "mode": "lines",
         "text": [
          "Sleeping bag--Correy Hawk: 1"
         ],
         "type": "scatter",
         "x": [
          -0.004850564124383809,
          -0.72740767404415,
          null
         ],
         "y": [
          -0.09008358320368168,
          -0.42716753086886317,
          null
         ]
        },
        {
         "hoverinfo": "text",
         "line": {
          "color": "cornflowerblue",
          "width": 0.3
         },
         "mode": "lines",
         "text": [
          "Sleeping bag--Dan Wowak: 1"
         ],
         "type": "scatter",
         "x": [
          -0.004850564124383809,
          -0.12721075638771265,
          null
         ],
         "y": [
          -0.09008358320368168,
          -0.806965295635513,
          null
         ]
        },
        {
         "hoverinfo": "text",
         "line": {
          "color": "cornflowerblue",
          "width": 1.0090756983044573
         },
         "mode": "lines",
         "text": [
          "Sleeping bag--Dave Nessia: 2"
         ],
         "type": "scatter",
         "x": [
          -0.004850564124383809,
          -0.15819207581452197,
          null
         ],
         "y": [
          -0.09008358320368168,
          -0.32146331236271153,
          null
         ]
        },
        {
         "hoverinfo": "text",
         "line": {
          "color": "cornflowerblue",
          "width": 0.3
         },
         "mode": "lines",
         "text": [
          "Sleeping bag--David McIntyre: 1"
         ],
         "type": "scatter",
         "x": [
          -0.004850564124383809,
          0.6112918996834296,
          null
         ],
         "y": [
          -0.09008358320368168,
          -0.5735080525836848,
          null
         ]
        },
        {
         "hoverinfo": "text",
         "line": {
          "color": "cornflowerblue",
          "width": 0.3
         },
         "mode": "lines",
         "text": [
          "Sleeping bag--Desmond White: 1"
         ],
         "type": "scatter",
         "x": [
          -0.004850564124383809,
          0.8644714148065687,
          null
         ],
         "y": [
          -0.09008358320368168,
          -0.08364130560083073,
          null
         ]
        },
        {
         "hoverinfo": "text",
         "line": {
          "color": "cornflowerblue",
          "width": 0.3
         },
         "mode": "lines",
         "text": [
          "Sleeping bag--Donny Dust: 1"
         ],
         "type": "scatter",
         "x": [
          -0.004850564124383809,
          -0.598389093734986,
          null
         ],
         "y": [
          -0.09008358320368168,
          -0.25104108361735633,
          null
         ]
        },
        {
         "hoverinfo": "text",
         "line": {
          "color": "cornflowerblue",
          "width": 0.3
         },
         "mode": "lines",
         "text": [
          "Sleeping bag--Dustin Feher: 1"
         ],
         "type": "scatter",
         "x": [
          -0.004850564124383809,
          -0.0459491427761949,
          null
         ],
         "y": [
          -0.09008358320368168,
          0.8062427035953487,
          null
         ]
        },
        {
         "hoverinfo": "text",
         "line": {
          "color": "cornflowerblue",
          "width": 0.3
         },
         "mode": "lines",
         "text": [
          "Sleeping bag--Greg Ovens: 1"
         ],
         "type": "scatter",
         "x": [
          -0.004850564124383809,
          0.5841134288357716,
          null
         ],
         "y": [
          -0.09008358320368168,
          0.05943423685498098,
          null
         ]
        },
        {
         "hoverinfo": "text",
         "line": {
          "color": "cornflowerblue",
          "width": 0.3
         },
         "mode": "lines",
         "text": [
          "Sleeping bag--Igor Limansky: 1"
         ],
         "type": "scatter",
         "x": [
          -0.004850564124383809,
          0.37559142637995513,
          null
         ],
         "y": [
          -0.09008358320368168,
          -0.2931818437887316,
          null
         ]
        },
        {
         "hoverinfo": "text",
         "line": {
          "color": "cornflowerblue",
          "width": 0.3
         },
         "mode": "lines",
         "text": [
          "Sleeping bag--Jacques Turcotte: 1"
         ],
         "type": "scatter",
         "x": [
          -0.004850564124383809,
          -0.49760574014961795,
          null
         ],
         "y": [
          -0.09008358320368168,
          0.3237406107058987,
          null
         ]
        },
        {
         "hoverinfo": "text",
         "line": {
          "color": "cornflowerblue",
          "width": 0.3
         },
         "mode": "lines",
         "text": [
          "Sleeping bag--Jesse Bosdell: 1"
         ],
         "type": "scatter",
         "x": [
          -0.004850564124383809,
          0.1396216938016799,
          null
         ],
         "y": [
          -0.09008358320368168,
          0.5465408455237983,
          null
         ]
        },
        {
         "hoverinfo": "text",
         "line": {
          "color": "cornflowerblue",
          "width": 0.3
         },
         "mode": "lines",
         "text": [
          "Sleeping bag--Jessie Krebs: 1"
         ],
         "type": "scatter",
         "x": [
          -0.004850564124383809,
          -0.5892249398047921,
          null
         ],
         "y": [
          -0.09008358320368168,
          -0.6863070643601215,
          null
         ]
        },
        {
         "hoverinfo": "text",
         "line": {
          "color": "cornflowerblue",
          "width": 0.3
         },
         "mode": "lines",
         "text": [
          "Sleeping bag--Jim Shields: 1"
         ],
         "type": "scatter",
         "x": [
          -0.004850564124383809,
          -0.17887445516937944,
          null
         ],
         "y": [
          -0.09008358320368168,
          -0.6437854388020003,
          null
         ]
        },
        {
         "hoverinfo": "text",
         "line": {
          "color": "cornflowerblue",
          "width": 0.3
         },
         "mode": "lines",
         "text": [
          "Sleeping bag--Joe Nicholas: 1"
         ],
         "type": "scatter",
         "x": [
          -0.004850564124383809,
          0.4703725737274096,
          null
         ],
         "y": [
          -0.09008358320368168,
          0.43497154517033965,
          null
         ]
        },
        {
         "hoverinfo": "text",
         "line": {
          "color": "cornflowerblue",
          "width": 0.3
         },
         "mode": "lines",
         "text": [
          "Sleeping bag--Joe Robinet: 1"
         ],
         "type": "scatter",
         "x": [
          -0.004850564124383809,
          0.7457519403244229,
          null
         ],
         "y": [
          -0.09008358320368168,
          -0.0797431498192736,
          null
         ]
        },
        {
         "hoverinfo": "text",
         "line": {
          "color": "cornflowerblue",
          "width": 0.3
         },
         "mode": "lines",
         "text": [
          "Sleeping bag--Joel Van Der Loon: 1"
         ],
         "type": "scatter",
         "x": [
          -0.004850564124383809,
          -0.5052226395097973,
          null
         ],
         "y": [
          -0.09008358320368168,
          -0.3745727323423614,
          null
         ]
        },
        {
         "hoverinfo": "text",
         "line": {
          "color": "cornflowerblue",
          "width": 0.3
         },
         "mode": "lines",
         "text": [
          "Sleeping bag--Jordan Jonas: 1"
         ],
         "type": "scatter",
         "x": [
          -0.004850564124383809,
          -0.7329533216627765,
          null
         ],
         "y": [
          -0.09008358320368168,
          -0.5533096892464248,
          null
         ]
        },
        {
         "hoverinfo": "text",
         "line": {
          "color": "cornflowerblue",
          "width": 0.3
         },
         "mode": "lines",
         "text": [
          "Sleeping bag--Jordon Bell: 1"
         ],
         "type": "scatter",
         "x": [
          -0.004850564124383809,
          -0.07672216484877323,
          null
         ],
         "y": [
          -0.09008358320368168,
          0.6679323572140383,
          null
         ]
        },
        {
         "hoverinfo": "text",
         "line": {
          "color": "cornflowerblue",
          "width": 0.3
         },
         "mode": "lines",
         "text": [
          "Sleeping bag--Jose Martinez Amoedo: 1"
         ],
         "type": "scatter",
         "x": [
          -0.004850564124383809,
          -0.6319766270688345,
          null
         ],
         "y": [
          -0.09008358320368168,
          -0.13472354967767763,
          null
         ]
        },
        {
         "hoverinfo": "text",
         "line": {
          "color": "cornflowerblue",
          "width": 1.0090756983044573
         },
         "mode": "lines",
         "text": [
          "Sleeping bag--Josh Chavez: 2"
         ],
         "type": "scatter",
         "x": [
          -0.004850564124383809,
          0.42205675328593906,
          null
         ],
         "y": [
          -0.09008358320368168,
          -0.6797172750600777,
          null
         ]
        },
        {
         "hoverinfo": "text",
         "line": {
          "color": "cornflowerblue",
          "width": 0.3
         },
         "mode": "lines",
         "text": [
          "Sleeping bag--Juan Pablo Quinonez: 1"
         ],
         "type": "scatter",
         "x": [
          -0.004850564124383809,
          0.3573511980627373,
          null
         ],
         "y": [
          -0.09008358320368168,
          0.26989400434930627,
          null
         ]
        },
        {
         "hoverinfo": "text",
         "line": {
          "color": "cornflowerblue",
          "width": 0.3
         },
         "mode": "lines",
         "text": [
          "Sleeping bag--Justin Vititoe: 1"
         ],
         "type": "scatter",
         "x": [
          -0.004850564124383809,
          0.16096581098835464,
          null
         ],
         "y": [
          -0.09008358320368168,
          0.9041150378816133,
          null
         ]
        },
        {
         "hoverinfo": "text",
         "line": {
          "color": "cornflowerblue",
          "width": 0.3
         },
         "mode": "lines",
         "text": [
          "Sleeping bag--Karie Lee Knoke: 1"
         ],
         "type": "scatter",
         "x": [
          -0.004850564124383809,
          0.2534601432680607,
          null
         ],
         "y": [
          -0.09008358320368168,
          -0.5671790990454183,
          null
         ]
        },
        {
         "hoverinfo": "text",
         "line": {
          "color": "cornflowerblue",
          "width": 0.3
         },
         "mode": "lines",
         "text": [
          "Sleeping bag--Keith Syers: 1"
         ],
         "type": "scatter",
         "x": [
          -0.004850564124383809,
          -0.30492698698095455,
          null
         ],
         "y": [
          -0.09008358320368168,
          -0.7701979405779571,
          null
         ]
        },
        {
         "hoverinfo": "text",
         "line": {
          "color": "cornflowerblue",
          "width": 0.3
         },
         "mode": "lines",
         "text": [
          "Sleeping bag--Kielyn Marrone: 1"
         ],
         "type": "scatter",
         "x": [
          -0.004850564124383809,
          0.16370592574901813,
          null
         ],
         "y": [
          -0.09008358320368168,
          0.4688551620748274,
          null
         ]
        },
        {
         "hoverinfo": "text",
         "line": {
          "color": "cornflowerblue",
          "width": 1.0090756983044573
         },
         "mode": "lines",
         "text": [
          "Sleeping bag--Larry Roberts: 2"
         ],
         "type": "scatter",
         "x": [
          -0.004850564124383809,
          -0.3364232797862773,
          null
         ],
         "y": [
          -0.09008358320368168,
          0.16502950099272184,
          null
         ]
        },
        {
         "hoverinfo": "text",
         "line": {
          "color": "cornflowerblue",
          "width": 0.3
         },
         "mode": "lines",
         "text": [
          "Sleeping bag--Lucas Miller: 1"
         ],
         "type": "scatter",
         "x": [
          -0.004850564124383809,
          0.3131108731926996,
          null
         ],
         "y": [
          -0.09008358320368168,
          0.6838900750220774,
          null
         ]
        },
        {
         "hoverinfo": "text",
         "line": {
          "color": "cornflowerblue",
          "width": 0.3
         },
         "mode": "lines",
         "text": [
          "Sleeping bag--Mark D'Ambrosio: 1"
         ],
         "type": "scatter",
         "x": [
          -0.004850564124383809,
          -0.821198931605355,
          null
         ],
         "y": [
          -0.09008358320368168,
          0.251707705900538,
          null
         ]
        },
        {
         "hoverinfo": "text",
         "line": {
          "color": "cornflowerblue",
          "width": 0.3
         },
         "mode": "lines",
         "text": [
          "Sleeping bag--Mary Kate Green: 1"
         ],
         "type": "scatter",
         "x": [
          -0.004850564124383809,
          0.7646608077190291,
          null
         ],
         "y": [
          -0.09008358320368168,
          0.10192847172652374,
          null
         ]
        },
        {
         "hoverinfo": "text",
         "line": {
          "color": "cornflowerblue",
          "width": 0.3
         },
         "mode": "lines",
         "text": [
          "Sleeping bag--Matt Corradino: 1"
         ],
         "type": "scatter",
         "x": [
          -0.004850564124383809,
          -0.20064253198025278,
          null
         ],
         "y": [
          -0.09008358320368168,
          0.7105100559961994,
          null
         ]
        },
        {
         "hoverinfo": "text",
         "line": {
          "color": "cornflowerblue",
          "width": 0.3
         },
         "mode": "lines",
         "text": [
          "Sleeping bag--Megan Hanacek: 1"
         ],
         "type": "scatter",
         "x": [
          -0.004850564124383809,
          0.3580733953966105,
          null
         ],
         "y": [
          -0.09008358320368168,
          0.5328785899573018,
          null
         ]
        },
        {
         "hoverinfo": "text",
         "line": {
          "color": "cornflowerblue",
          "width": 0.3
         },
         "mode": "lines",
         "text": [
          "Sleeping bag--Michelle Finn: 1"
         ],
         "type": "scatter",
         "x": [
          -0.004850564124383809,
          -0.6045440501381834,
          null
         ],
         "y": [
          -0.09008358320368168,
          -0.48305458918849853,
          null
         ]
        },
        {
         "hoverinfo": "text",
         "line": {
          "color": "cornflowerblue",
          "width": 0.3
         },
         "mode": "lines",
         "text": [
          "Sleeping bag--Michelle Wohlberg: 1"
         ],
         "type": "scatter",
         "x": [
          -0.004850564124383809,
          -0.1938042578318345,
          null
         ],
         "y": [
          -0.09008358320368168,
          0.5902316390105835,
          null
         ]
        },
        {
         "hoverinfo": "text",
         "line": {
          "color": "cornflowerblue",
          "width": 0.3
         },
         "mode": "lines",
         "text": [
          "Sleeping bag--Mike Lowe: 1"
         ],
         "type": "scatter",
         "x": [
          -0.004850564124383809,
          0.30262084802000055,
          null
         ],
         "y": [
          -0.09008358320368168,
          -0.6900817037865407,
          null
         ]
        },
        {
         "hoverinfo": "text",
         "line": {
          "color": "cornflowerblue",
          "width": 0.3
         },
         "mode": "lines",
         "text": [
          "Sleeping bag--Mitch Mitchell: 1"
         ],
         "type": "scatter",
         "x": [
          -0.004850564124383809,
          0.37283882745591235,
          null
         ],
         "y": [
          -0.09008358320368168,
          -0.8430629943724753,
          null
         ]
        },
        {
         "hoverinfo": "text",
         "line": {
          "color": "cornflowerblue",
          "width": 0.3
         },
         "mode": "lines",
         "text": [
          "Sleeping bag--Nate Weber: 1"
         ],
         "type": "scatter",
         "x": [
          -0.004850564124383809,
          -0.7150813604179511,
          null
         ],
         "y": [
          -0.09008358320368168,
          0.03847680432140553,
          null
         ]
        },
        {
         "hoverinfo": "text",
         "line": {
          "color": "cornflowerblue",
          "width": 0.3
         },
         "mode": "lines",
         "text": [
          "Sleeping bag--Nathan Donnelly: 1"
         ],
         "type": "scatter",
         "x": [
          -0.004850564124383809,
          -0.2932939089011811,
          null
         ],
         "y": [
          -0.09008358320368168,
          -0.5842392372509401,
          null
         ]
        },
        {
         "hoverinfo": "text",
         "line": {
          "color": "cornflowerblue",
          "width": 1.0090756983044573
         },
         "mode": "lines",
         "text": [
          "Sleeping bag--Nicole Apelian: 2"
         ],
         "type": "scatter",
         "x": [
          -0.004850564124383809,
          0.26878954826134965,
          null
         ],
         "y": [
          -0.09008358320368168,
          -0.20623505651882393,
          null
         ]
        },
        {
         "hoverinfo": "text",
         "line": {
          "color": "cornflowerblue",
          "width": 0.3
         },
         "mode": "lines",
         "text": [
          "Sleeping bag--Nikki van Schyndel: 1"
         ],
         "type": "scatter",
         "x": [
          -0.004850564124383809,
          -0.44888430898162773,
          null
         ],
         "y": [
          -0.09008358320368168,
          -0.5754517487206505,
          null
         ]
        },
        {
         "hoverinfo": "text",
         "line": {
          "color": "cornflowerblue",
          "width": 1.0090756983044573
         },
         "mode": "lines",
         "text": [
          "Sleeping bag--Randy Champagne: 2"
         ],
         "type": "scatter",
         "x": [
          -0.004850564124383809,
          -0.349304559305111,
          null
         ],
         "y": [
          -0.09008358320368168,
          -0.20173770295454785,
          null
         ]
        },
        {
         "hoverinfo": "text",
         "line": {
          "color": "cornflowerblue",
          "width": 0.3
         },
         "mode": "lines",
         "text": [
          "Sleeping bag--Ray Livingston: 1"
         ],
         "type": "scatter",
         "x": [
          -0.004850564124383809,
          0.4861611815391165,
          null
         ],
         "y": [
          -0.09008358320368168,
          -0.14717529162435514,
          null
         ]
        },
        {
         "hoverinfo": "text",
         "line": {
          "color": "cornflowerblue",
          "width": 0.3
         },
         "mode": "lines",
         "text": [
          "Sleeping bag--Roland Welker: 1"
         ],
         "type": "scatter",
         "x": [
          -0.004850564124383809,
          -0.6803277873559646,
          null
         ],
         "y": [
          -0.09008358320368168,
          0.14388344051599708,
          null
         ]
        },
        {
         "hoverinfo": "text",
         "line": {
          "color": "cornflowerblue",
          "width": 0.3
         },
         "mode": "lines",
         "text": [
          "Sleeping bag--Rose Anna Moore: 1"
         ],
         "type": "scatter",
         "x": [
          -0.004850564124383809,
          -0.5806984395819331,
          null
         ],
         "y": [
          -0.09008358320368168,
          0.5741478282855389,
          null
         ]
        },
        {
         "hoverinfo": "text",
         "line": {
          "color": "cornflowerblue",
          "width": 1.0090756983044573
         },
         "mode": "lines",
         "text": [
          "Sleeping bag--Sam Larson: 2"
         ],
         "type": "scatter",
         "x": [
          -0.004850564124383809,
          -0.1820735822325081,
          null
         ],
         "y": [
          -0.09008358320368168,
          0.3266028819567148,
          null
         ]
        },
        {
         "hoverinfo": "text",
         "line": {
          "color": "cornflowerblue",
          "width": 0.3
         },
         "mode": "lines",
         "text": [
          "Sleeping bag--Shawn Helton: 1"
         ],
         "type": "scatter",
         "x": [
          -0.004850564124383809,
          -0.43802320462146654,
          null
         ],
         "y": [
          -0.09008358320368168,
          -0.7462571818068016,
          null
         ]
        },
        {
         "hoverinfo": "text",
         "line": {
          "color": "cornflowerblue",
          "width": 0.3
         },
         "mode": "lines",
         "text": [
          "Sleeping bag--Teimojin Tan: 1"
         ],
         "type": "scatter",
         "x": [
          -0.004850564124383809,
          -0.6574377690196297,
          null
         ],
         "y": [
          -0.09008358320368168,
          0.3744098743947772,
          null
         ]
        },
        {
         "hoverinfo": "text",
         "line": {
          "color": "cornflowerblue",
          "width": 0.3
         },
         "mode": "lines",
         "text": [
          "Sleeping bag--Terry Burns: 1"
         ],
         "type": "scatter",
         "x": [
          -0.004850564124383809,
          0.13251353954568354,
          null
         ],
         "y": [
          -0.09008358320368168,
          -0.6593339851762245,
          null
         ]
        },
        {
         "hoverinfo": "text",
         "line": {
          "color": "cornflowerblue",
          "width": 0.3
         },
         "mode": "lines",
         "text": [
          "Sleeping bag--Theresa Emmerich Kamper: 1"
         ],
         "type": "scatter",
         "x": [
          -0.004850564124383809,
          -0.5954419455642739,
          null
         ],
         "y": [
          -0.09008358320368168,
          -0.030911466412550843,
          null
         ]
        },
        {
         "hoverinfo": "text",
         "line": {
          "color": "cornflowerblue",
          "width": 0.3
         },
         "mode": "lines",
         "text": [
          "Sleeping bag--Tim Backus: 1"
         ],
         "type": "scatter",
         "x": [
          -0.004850564124383809,
          -0.8346955697213538,
          null
         ],
         "y": [
          -0.09008358320368168,
          -0.2072659581108296,
          null
         ]
        },
        {
         "hoverinfo": "text",
         "line": {
          "color": "cornflowerblue",
          "width": 0.3
         },
         "mode": "lines",
         "text": [
          "Sleeping bag--Tim Madsen: 1"
         ],
         "type": "scatter",
         "x": [
          -0.004850564124383809,
          0.46464938444806847,
          null
         ],
         "y": [
          -0.09008358320368168,
          0.03696312994248573,
          null
         ]
        },
        {
         "hoverinfo": "text",
         "line": {
          "color": "cornflowerblue",
          "width": 0.3
         },
         "mode": "lines",
         "text": [
          "Sleeping bag--Tom Garstang: 1"
         ],
         "type": "scatter",
         "x": [
          -0.004850564124383809,
          -0.7017971597054672,
          null
         ],
         "y": [
          -0.09008358320368168,
          0.25367816904649765,
          null
         ]
        },
        {
         "hoverinfo": "text",
         "line": {
          "color": "cornflowerblue",
          "width": 0.3
         },
         "mode": "lines",
         "text": [
          "Sleeping bag--Tracy Wilson: 1"
         ],
         "type": "scatter",
         "x": [
          -0.004850564124383809,
          0.6737486629514334,
          null
         ],
         "y": [
          -0.09008358320368168,
          0.2423148856093115,
          null
         ]
        },
        {
         "hoverinfo": "text",
         "line": {
          "color": "cornflowerblue",
          "width": 0.3
         },
         "mode": "lines",
         "text": [
          "Sleeping bag--Wayne Russell: 1"
         ],
         "type": "scatter",
         "x": [
          -0.004850564124383809,
          -0.01698685123302949,
          null
         ],
         "y": [
          -0.09008358320368168,
          -0.8677581074083068,
          null
         ]
        },
        {
         "hoverinfo": "text",
         "line": {
          "color": "cornflowerblue",
          "width": 0.3
         },
         "mode": "lines",
         "text": [
          "Sleeping bag--Woniya Thibeault: 1"
         ],
         "type": "scatter",
         "x": [
          -0.004850564124383809,
          -0.7325621231282693,
          null
         ],
         "y": [
          -0.09008358320368168,
          -0.30412075447223474,
          null
         ]
        },
        {
         "hoverinfo": "text",
         "line": {
          "color": "cornflowerblue",
          "width": 0.3
         },
         "mode": "lines",
         "text": [
          "Sleeping bag--Zachary Fowler: 1"
         ],
         "type": "scatter",
         "x": [
          -0.004850564124383809,
          -0.9364475679671536,
          null
         ],
         "y": [
          -0.09008358320368168,
          0.06687756482110661,
          null
         ]
        },
        {
         "hoverinfo": "text",
         "line": {
          "color": "cornflowerblue",
          "width": 0.3
         },
         "mode": "lines",
         "text": [
          "Sleeping bag--Zachary Gault: 1"
         ],
         "type": "scatter",
         "x": [
          -0.004850564124383809,
          -0.7968801789443809,
          null
         ],
         "y": [
          -0.09008358320368168,
          -0.03162239453647401,
          null
         ]
        },
        {
         "hoverinfo": "text",
         "line": {
          "color": "cornflowerblue",
          "width": 0.3
         },
         "mode": "lines",
         "text": [
          "Tarp--Adam Riley: 1"
         ],
         "type": "scatter",
         "x": [
          0.5102416563785783,
          0.4231282311244024,
          null
         ],
         "y": [
          0.2658539087343685,
          -0.4816436280899793,
          null
         ]
        },
        {
         "hoverinfo": "text",
         "line": {
          "color": "cornflowerblue",
          "width": 0.3
         },
         "mode": "lines",
         "text": [
          "Tarp--Alex Ribar: 1"
         ],
         "type": "scatter",
         "x": [
          0.5102416563785783,
          -0.29962651788445005,
          null
         ],
         "y": [
          0.2658539087343685,
          0.7352242658938394,
          null
         ]
        },
        {
         "hoverinfo": "text",
         "line": {
          "color": "cornflowerblue",
          "width": 0.3
         },
         "mode": "lines",
         "text": [
          "Tarp--Barry Karcher: 1"
         ],
         "type": "scatter",
         "x": [
          0.5102416563785783,
          -0.03751998498056549,
          null
         ],
         "y": [
          0.2658539087343685,
          -0.6563629833878613,
          null
         ]
        },
        {
         "hoverinfo": "text",
         "line": {
          "color": "cornflowerblue",
          "width": 0.3
         },
         "mode": "lines",
         "text": [
          "Tarp--Brad Richardson: 1"
         ],
         "type": "scatter",
         "x": [
          0.5102416563785783,
          0.05984641461518838,
          null
         ],
         "y": [
          0.2658539087343685,
          0.4399290105576108,
          null
         ]
        },
        {
         "hoverinfo": "text",
         "line": {
          "color": "cornflowerblue",
          "width": 0.3
         },
         "mode": "lines",
         "text": [
          "Tarp--Brant McGee: 1"
         ],
         "type": "scatter",
         "x": [
          0.5102416563785783,
          0.6015230857860889,
          null
         ],
         "y": [
          0.2658539087343685,
          -0.4155406048086862,
          null
         ]
        },
        {
         "hoverinfo": "text",
         "line": {
          "color": "cornflowerblue",
          "width": 1.0090756983044573
         },
         "mode": "lines",
         "text": [
          "Tarp--Brody Wilkes: 2"
         ],
         "type": "scatter",
         "x": [
          0.5102416563785783,
          0.7241660136758504,
          null
         ],
         "y": [
          0.2658539087343685,
          0.4222017319260711,
          null
         ]
        },
        {
         "hoverinfo": "text",
         "line": {
          "color": "cornflowerblue",
          "width": 1.0090756983044573
         },
         "mode": "lines",
         "text": [
          "Tarp--Brooke Whipple: 2"
         ],
         "type": "scatter",
         "x": [
          0.5102416563785783,
          -0.06443041586361846,
          null
         ],
         "y": [
          0.2658539087343685,
          0.43698357904344115,
          null
         ]
        },
        {
         "hoverinfo": "text",
         "line": {
          "color": "cornflowerblue",
          "width": 0.3
         },
         "mode": "lines",
         "text": [
          "Tarp--Callie North: 1"
         ],
         "type": "scatter",
         "x": [
          0.5102416563785783,
          0.7069818503900434,
          null
         ],
         "y": [
          0.2658539087343685,
          -0.38322354353375715,
          null
         ]
        },
        {
         "hoverinfo": "text",
         "line": {
          "color": "cornflowerblue",
          "width": 1.0090756983044573
         },
         "mode": "lines",
         "text": [
          "Tarp--Chris Wilkes: 2"
         ],
         "type": "scatter",
         "x": [
          0.5102416563785783,
          0.8923936620530742,
          null
         ],
         "y": [
          0.2658539087343685,
          0.1193147390934305,
          null
         ]
        },
        {
         "hoverinfo": "text",
         "line": {
          "color": "cornflowerblue",
          "width": 0.3
         },
         "mode": "lines",
         "text": [
          "Tarp--Colter Barnes: 1"
         ],
         "type": "scatter",
         "x": [
          0.5102416563785783,
          0.2921842173185547,
          null
         ],
         "y": [
          0.2658539087343685,
          -0.4206342073418396,
          null
         ]
        },
        {
         "hoverinfo": "text",
         "line": {
          "color": "cornflowerblue",
          "width": 1.0090756983044573
         },
         "mode": "lines",
         "text": [
          "Tarp--Dave Whipple: 2"
         ],
         "type": "scatter",
         "x": [
          0.5102416563785783,
          0.7193082469361248,
          null
         ],
         "y": [
          0.2658539087343685,
          0.6943656160949481,
          null
         ]
        },
        {
         "hoverinfo": "text",
         "line": {
          "color": "cornflowerblue",
          "width": 0.3
         },
         "mode": "lines",
         "text": [
          "Tarp--Jesse Bosdell: 1"
         ],
         "type": "scatter",
         "x": [
          0.5102416563785783,
          0.1396216938016799,
          null
         ],
         "y": [
          0.2658539087343685,
          0.5465408455237983,
          null
         ]
        },
        {
         "hoverinfo": "text",
         "line": {
          "color": "cornflowerblue",
          "width": 0.3
         },
         "mode": "lines",
         "text": [
          "Tarp--Jim Baird: 1"
         ],
         "type": "scatter",
         "x": [
          0.5102416563785783,
          -0.3638893093665568,
          null
         ],
         "y": [
          0.2658539087343685,
          0.6380621974306803,
          null
         ]
        },
        {
         "hoverinfo": "text",
         "line": {
          "color": "cornflowerblue",
          "width": 0.3
         },
         "mode": "lines",
         "text": [
          "Tarp--Joe Robinet: 1"
         ],
         "type": "scatter",
         "x": [
          0.5102416563785783,
          0.7457519403244229,
          null
         ],
         "y": [
          0.2658539087343685,
          -0.0797431498192736,
          null
         ]
        },
        {
         "hoverinfo": "text",
         "line": {
          "color": "cornflowerblue",
          "width": 0.3
         },
         "mode": "lines",
         "text": [
          "Tarp--Josh Richardson: 1"
         ],
         "type": "scatter",
         "x": [
          0.5102416563785783,
          0.42259581982357375,
          null
         ],
         "y": [
          0.2658539087343685,
          0.8708308529937877,
          null
         ]
        },
        {
         "hoverinfo": "text",
         "line": {
          "color": "cornflowerblue",
          "width": 0.3
         },
         "mode": "lines",
         "text": [
          "Tarp--Logan Ribar: 1"
         ],
         "type": "scatter",
         "x": [
          0.5102416563785783,
          0.008267981975036148,
          null
         ],
         "y": [
          0.2658539087343685,
          -0.4928787114965203,
          null
         ]
        },
        {
         "hoverinfo": "text",
         "line": {
          "color": "cornflowerblue",
          "width": 1.0090756983044573
         },
         "mode": "lines",
         "text": [
          "Tarp--Lucas Miller: 2"
         ],
         "type": "scatter",
         "x": [
          0.5102416563785783,
          0.3131108731926996,
          null
         ],
         "y": [
          0.2658539087343685,
          0.6838900750220774,
          null
         ]
        },
        {
         "hoverinfo": "text",
         "line": {
          "color": "cornflowerblue",
          "width": 0.3
         },
         "mode": "lines",
         "text": [
          "Tarp--Mary Kate Green: 1"
         ],
         "type": "scatter",
         "x": [
          0.5102416563785783,
          0.7646608077190291,
          null
         ],
         "y": [
          0.2658539087343685,
          0.10192847172652374,
          null
         ]
        },
        {
         "hoverinfo": "text",
         "line": {
          "color": "cornflowerblue",
          "width": 1.0090756983044573
         },
         "mode": "lines",
         "text": [
          "Tarp--Pete Brockdorff: 2"
         ],
         "type": "scatter",
         "x": [
          0.5102416563785783,
          0.5976076136229159,
          null
         ],
         "y": [
          0.2658539087343685,
          0.5496059875401306,
          null
         ]
        },
        {
         "hoverinfo": "text",
         "line": {
          "color": "cornflowerblue",
          "width": 1.0090756983044573
         },
         "mode": "lines",
         "text": [
          "Tarp--Sam Brockdorff: 2"
         ],
         "type": "scatter",
         "x": [
          0.5102416563785783,
          0.7895725287866725,
          null
         ],
         "y": [
          0.2658539087343685,
          -0.23782640566337726,
          null
         ]
        },
        {
         "hoverinfo": "text",
         "line": {
          "color": "cornflowerblue",
          "width": 0.3
         },
         "mode": "lines",
         "text": [
          "Tarp--Sam Larson: 1"
         ],
         "type": "scatter",
         "x": [
          0.5102416563785783,
          -0.1820735822325081,
          null
         ],
         "y": [
          0.2658539087343685,
          0.3266028819567148,
          null
         ]
        },
        {
         "hoverinfo": "text",
         "line": {
          "color": "cornflowerblue",
          "width": 0.3
         },
         "mode": "lines",
         "text": [
          "Tarp--Shannon Bosdell: 1"
         ],
         "type": "scatter",
         "x": [
          0.5102416563785783,
          0.08408647256603534,
          null
         ],
         "y": [
          0.2658539087343685,
          0.8278971316131882,
          null
         ]
        },
        {
         "hoverinfo": "text",
         "line": {
          "color": "cornflowerblue",
          "width": 0.3
         },
         "mode": "lines",
         "text": [
          "Tarp--Ted Baird: 1"
         ],
         "type": "scatter",
         "x": [
          0.5102416563785783,
          0.42021163583332416,
          null
         ],
         "y": [
          0.2658539087343685,
          0.6306063918738846,
          null
         ]
        },
        {
         "hoverinfo": "text",
         "line": {
          "color": "cornflowerblue",
          "width": 0.3
         },
         "mode": "lines",
         "text": [
          "Trapping wire--Adam Riley: 1"
         ],
         "type": "scatter",
         "x": [
          -0.2012005364324041,
          0.4231282311244024,
          null
         ],
         "y": [
          0.03268557618766537,
          -0.4816436280899793,
          null
         ]
        },
        {
         "hoverinfo": "text",
         "line": {
          "color": "cornflowerblue",
          "width": 0.3
         },
         "mode": "lines",
         "text": [
          "Trapping wire--Barry Karcher: 1"
         ],
         "type": "scatter",
         "x": [
          -0.2012005364324041,
          -0.03751998498056549,
          null
         ],
         "y": [
          0.03268557618766537,
          -0.6563629833878613,
          null
         ]
        },
        {
         "hoverinfo": "text",
         "line": {
          "color": "cornflowerblue",
          "width": 0.3
         },
         "mode": "lines",
         "text": [
          "Trapping wire--Benki Hill: 1"
         ],
         "type": "scatter",
         "x": [
          -0.2012005364324041,
          -0.7675888778670847,
          null
         ],
         "y": [
          0.03268557618766537,
          0.46054709803718463,
          null
         ]
        },
        {
         "hoverinfo": "text",
         "line": {
          "color": "cornflowerblue",
          "width": 0.3
         },
         "mode": "lines",
         "text": [
          "Trapping wire--Biko Wright: 1"
         ],
         "type": "scatter",
         "x": [
          -0.2012005364324041,
          0.48312640249247935,
          null
         ],
         "y": [
          0.03268557618766537,
          -0.31655373770660206,
          null
         ]
        },
        {
         "hoverinfo": "text",
         "line": {
          "color": "cornflowerblue",
          "width": 0.3
         },
         "mode": "lines",
         "text": [
          "Trapping wire--Brad Richardson: 1"
         ],
         "type": "scatter",
         "x": [
          -0.2012005364324041,
          0.05984641461518838,
          null
         ],
         "y": [
          0.03268557618766537,
          0.4399290105576108,
          null
         ]
        },
        {
         "hoverinfo": "text",
         "line": {
          "color": "cornflowerblue",
          "width": 0.3
         },
         "mode": "lines",
         "text": [
          "Trapping wire--Brady Nicholls: 1"
         ],
         "type": "scatter",
         "x": [
          -0.2012005364324041,
          0.13346439365291393,
          null
         ],
         "y": [
          0.03268557618766537,
          -0.4829246395259961,
          null
         ]
        },
        {
         "hoverinfo": "text",
         "line": {
          "color": "cornflowerblue",
          "width": 0.3
         },
         "mode": "lines",
         "text": [
          "Trapping wire--Britt Ahart: 1"
         ],
         "type": "scatter",
         "x": [
          -0.2012005364324041,
          -0.2497631631785479,
          null
         ],
         "y": [
          0.03268557618766537,
          -0.41853936522327173,
          null
         ]
        },
        {
         "hoverinfo": "text",
         "line": {
          "color": "cornflowerblue",
          "width": 0.3
         },
         "mode": "lines",
         "text": [
          "Trapping wire--Brooke Whipple: 1"
         ],
         "type": "scatter",
         "x": [
          -0.2012005364324041,
          -0.06443041586361846,
          null
         ],
         "y": [
          0.03268557618766537,
          0.43698357904344115,
          null
         ]
        },
        {
         "hoverinfo": "text",
         "line": {
          "color": "cornflowerblue",
          "width": 0.3
         },
         "mode": "lines",
         "text": [
          "Trapping wire--Callie Russell: 1"
         ],
         "type": "scatter",
         "x": [
          -0.2012005364324041,
          -0.40911892652294085,
          null
         ],
         "y": [
          0.03268557618766537,
          0.4678098215325018,
          null
         ]
        },
        {
         "hoverinfo": "text",
         "line": {
          "color": "cornflowerblue",
          "width": 0.3
         },
         "mode": "lines",
         "text": [
          "Trapping wire--Clay Hayes: 1"
         ],
         "type": "scatter",
         "x": [
          -0.2012005364324041,
          -0.5667181352988339,
          null
         ],
         "y": [
          0.03268557618766537,
          0.46031393361436546,
          null
         ]
        },
        {
         "hoverinfo": "text",
         "line": {
          "color": "cornflowerblue",
          "width": 0.3
         },
         "mode": "lines",
         "text": [
          "Trapping wire--Colter Barnes: 1"
         ],
         "type": "scatter",
         "x": [
          -0.2012005364324041,
          0.2921842173185547,
          null
         ],
         "y": [
          0.03268557618766537,
          -0.4206342073418396,
          null
         ]
        },
        {
         "hoverinfo": "text",
         "line": {
          "color": "cornflowerblue",
          "width": 0.3
         },
         "mode": "lines",
         "text": [
          "Trapping wire--Correy Hawk: 1"
         ],
         "type": "scatter",
         "x": [
          -0.2012005364324041,
          -0.72740767404415,
          null
         ],
         "y": [
          0.03268557618766537,
          -0.42716753086886317,
          null
         ]
        },
        {
         "hoverinfo": "text",
         "line": {
          "color": "cornflowerblue",
          "width": 1.0090756983044573
         },
         "mode": "lines",
         "text": [
          "Trapping wire--Dave Nessia: 2"
         ],
         "type": "scatter",
         "x": [
          -0.2012005364324041,
          -0.15819207581452197,
          null
         ],
         "y": [
          0.03268557618766537,
          -0.32146331236271153,
          null
         ]
        },
        {
         "hoverinfo": "text",
         "line": {
          "color": "cornflowerblue",
          "width": 0.3
         },
         "mode": "lines",
         "text": [
          "Trapping wire--Igor Limansky: 1"
         ],
         "type": "scatter",
         "x": [
          -0.2012005364324041,
          0.37559142637995513,
          null
         ],
         "y": [
          0.03268557618766537,
          -0.2931818437887316,
          null
         ]
        },
        {
         "hoverinfo": "text",
         "line": {
          "color": "cornflowerblue",
          "width": 0.3
         },
         "mode": "lines",
         "text": [
          "Trapping wire--Jacques Turcotte: 1"
         ],
         "type": "scatter",
         "x": [
          -0.2012005364324041,
          -0.49760574014961795,
          null
         ],
         "y": [
          0.03268557618766537,
          0.3237406107058987,
          null
         ]
        },
        {
         "hoverinfo": "text",
         "line": {
          "color": "cornflowerblue",
          "width": 0.3
         },
         "mode": "lines",
         "text": [
          "Trapping wire--Jessie Krebs: 1"
         ],
         "type": "scatter",
         "x": [
          -0.2012005364324041,
          -0.5892249398047921,
          null
         ],
         "y": [
          0.03268557618766537,
          -0.6863070643601215,
          null
         ]
        },
        {
         "hoverinfo": "text",
         "line": {
          "color": "cornflowerblue",
          "width": 0.3
         },
         "mode": "lines",
         "text": [
          "Trapping wire--Jim Baird: 1"
         ],
         "type": "scatter",
         "x": [
          -0.2012005364324041,
          -0.3638893093665568,
          null
         ],
         "y": [
          0.03268557618766537,
          0.6380621974306803,
          null
         ]
        },
        {
         "hoverinfo": "text",
         "line": {
          "color": "cornflowerblue",
          "width": 0.3
         },
         "mode": "lines",
         "text": [
          "Trapping wire--Joe Nicholas: 1"
         ],
         "type": "scatter",
         "x": [
          -0.2012005364324041,
          0.4703725737274096,
          null
         ],
         "y": [
          0.03268557618766537,
          0.43497154517033965,
          null
         ]
        },
        {
         "hoverinfo": "text",
         "line": {
          "color": "cornflowerblue",
          "width": 0.3
         },
         "mode": "lines",
         "text": [
          "Trapping wire--Joel Van Der Loon: 1"
         ],
         "type": "scatter",
         "x": [
          -0.2012005364324041,
          -0.5052226395097973,
          null
         ],
         "y": [
          0.03268557618766537,
          -0.3745727323423614,
          null
         ]
        },
        {
         "hoverinfo": "text",
         "line": {
          "color": "cornflowerblue",
          "width": 0.3
         },
         "mode": "lines",
         "text": [
          "Trapping wire--Jordan Jonas: 1"
         ],
         "type": "scatter",
         "x": [
          -0.2012005364324041,
          -0.7329533216627765,
          null
         ],
         "y": [
          0.03268557618766537,
          -0.5533096892464248,
          null
         ]
        },
        {
         "hoverinfo": "text",
         "line": {
          "color": "cornflowerblue",
          "width": 0.3
         },
         "mode": "lines",
         "text": [
          "Trapping wire--Jordon Bell: 1"
         ],
         "type": "scatter",
         "x": [
          -0.2012005364324041,
          -0.07672216484877323,
          null
         ],
         "y": [
          0.03268557618766537,
          0.6679323572140383,
          null
         ]
        },
        {
         "hoverinfo": "text",
         "line": {
          "color": "cornflowerblue",
          "width": 0.3
         },
         "mode": "lines",
         "text": [
          "Trapping wire--Juan Pablo Quinonez: 1"
         ],
         "type": "scatter",
         "x": [
          -0.2012005364324041,
          0.3573511980627373,
          null
         ],
         "y": [
          0.03268557618766537,
          0.26989400434930627,
          null
         ]
        },
        {
         "hoverinfo": "text",
         "line": {
          "color": "cornflowerblue",
          "width": 0.3
         },
         "mode": "lines",
         "text": [
          "Trapping wire--Karie Lee Knoke: 1"
         ],
         "type": "scatter",
         "x": [
          -0.2012005364324041,
          0.2534601432680607,
          null
         ],
         "y": [
          0.03268557618766537,
          -0.5671790990454183,
          null
         ]
        },
        {
         "hoverinfo": "text",
         "line": {
          "color": "cornflowerblue",
          "width": 0.3
         },
         "mode": "lines",
         "text": [
          "Trapping wire--Keith Syers: 1"
         ],
         "type": "scatter",
         "x": [
          -0.2012005364324041,
          -0.30492698698095455,
          null
         ],
         "y": [
          0.03268557618766537,
          -0.7701979405779571,
          null
         ]
        },
        {
         "hoverinfo": "text",
         "line": {
          "color": "cornflowerblue",
          "width": 0.3
         },
         "mode": "lines",
         "text": [
          "Trapping wire--Kielyn Marrone: 1"
         ],
         "type": "scatter",
         "x": [
          -0.2012005364324041,
          0.16370592574901813,
          null
         ],
         "y": [
          0.03268557618766537,
          0.4688551620748274,
          null
         ]
        },
        {
         "hoverinfo": "text",
         "line": {
          "color": "cornflowerblue",
          "width": 0.3
         },
         "mode": "lines",
         "text": [
          "Trapping wire--Larry Roberts: 1"
         ],
         "type": "scatter",
         "x": [
          -0.2012005364324041,
          -0.3364232797862773,
          null
         ],
         "y": [
          0.03268557618766537,
          0.16502950099272184,
          null
         ]
        },
        {
         "hoverinfo": "text",
         "line": {
          "color": "cornflowerblue",
          "width": 0.3
         },
         "mode": "lines",
         "text": [
          "Trapping wire--Mark D'Ambrosio: 1"
         ],
         "type": "scatter",
         "x": [
          -0.2012005364324041,
          -0.821198931605355,
          null
         ],
         "y": [
          0.03268557618766537,
          0.251707705900538,
          null
         ]
        },
        {
         "hoverinfo": "text",
         "line": {
          "color": "cornflowerblue",
          "width": 0.3
         },
         "mode": "lines",
         "text": [
          "Trapping wire--Matt Corradino: 1"
         ],
         "type": "scatter",
         "x": [
          -0.2012005364324041,
          -0.20064253198025278,
          null
         ],
         "y": [
          0.03268557618766537,
          0.7105100559961994,
          null
         ]
        },
        {
         "hoverinfo": "text",
         "line": {
          "color": "cornflowerblue",
          "width": 0.3
         },
         "mode": "lines",
         "text": [
          "Trapping wire--Michelle Finn: 1"
         ],
         "type": "scatter",
         "x": [
          -0.2012005364324041,
          -0.6045440501381834,
          null
         ],
         "y": [
          0.03268557618766537,
          -0.48305458918849853,
          null
         ]
        },
        {
         "hoverinfo": "text",
         "line": {
          "color": "cornflowerblue",
          "width": 0.3
         },
         "mode": "lines",
         "text": [
          "Trapping wire--Michelle Wohlberg: 1"
         ],
         "type": "scatter",
         "x": [
          -0.2012005364324041,
          -0.1938042578318345,
          null
         ],
         "y": [
          0.03268557618766537,
          0.5902316390105835,
          null
         ]
        },
        {
         "hoverinfo": "text",
         "line": {
          "color": "cornflowerblue",
          "width": 0.3
         },
         "mode": "lines",
         "text": [
          "Trapping wire--Nate Weber: 1"
         ],
         "type": "scatter",
         "x": [
          -0.2012005364324041,
          -0.7150813604179511,
          null
         ],
         "y": [
          0.03268557618766537,
          0.03847680432140553,
          null
         ]
        },
        {
         "hoverinfo": "text",
         "line": {
          "color": "cornflowerblue",
          "width": 0.3
         },
         "mode": "lines",
         "text": [
          "Trapping wire--Nicole Apelian: 1"
         ],
         "type": "scatter",
         "x": [
          -0.2012005364324041,
          0.26878954826134965,
          null
         ],
         "y": [
          0.03268557618766537,
          -0.20623505651882393,
          null
         ]
        },
        {
         "hoverinfo": "text",
         "line": {
          "color": "cornflowerblue",
          "width": 0.3
         },
         "mode": "lines",
         "text": [
          "Trapping wire--Nikki van Schyndel: 1"
         ],
         "type": "scatter",
         "x": [
          -0.2012005364324041,
          -0.44888430898162773,
          null
         ],
         "y": [
          0.03268557618766537,
          -0.5754517487206505,
          null
         ]
        },
        {
         "hoverinfo": "text",
         "line": {
          "color": "cornflowerblue",
          "width": 0.3
         },
         "mode": "lines",
         "text": [
          "Trapping wire--Pete Brockdorff: 1"
         ],
         "type": "scatter",
         "x": [
          -0.2012005364324041,
          0.5976076136229159,
          null
         ],
         "y": [
          0.03268557618766537,
          0.5496059875401306,
          null
         ]
        },
        {
         "hoverinfo": "text",
         "line": {
          "color": "cornflowerblue",
          "width": 0.3
         },
         "mode": "lines",
         "text": [
          "Trapping wire--Randy Champagne: 1"
         ],
         "type": "scatter",
         "x": [
          -0.2012005364324041,
          -0.349304559305111,
          null
         ],
         "y": [
          0.03268557618766537,
          -0.20173770295454785,
          null
         ]
        },
        {
         "hoverinfo": "text",
         "line": {
          "color": "cornflowerblue",
          "width": 0.3
         },
         "mode": "lines",
         "text": [
          "Trapping wire--Ray Livingston: 1"
         ],
         "type": "scatter",
         "x": [
          -0.2012005364324041,
          0.4861611815391165,
          null
         ],
         "y": [
          0.03268557618766537,
          -0.14717529162435514,
          null
         ]
        },
        {
         "hoverinfo": "text",
         "line": {
          "color": "cornflowerblue",
          "width": 0.3
         },
         "mode": "lines",
         "text": [
          "Trapping wire--Roland Welker: 1"
         ],
         "type": "scatter",
         "x": [
          -0.2012005364324041,
          -0.6803277873559646,
          null
         ],
         "y": [
          0.03268557618766537,
          0.14388344051599708,
          null
         ]
        },
        {
         "hoverinfo": "text",
         "line": {
          "color": "cornflowerblue",
          "width": 0.3
         },
         "mode": "lines",
         "text": [
          "Trapping wire--Rose Anna Moore: 1"
         ],
         "type": "scatter",
         "x": [
          -0.2012005364324041,
          -0.5806984395819331,
          null
         ],
         "y": [
          0.03268557618766537,
          0.5741478282855389,
          null
         ]
        },
        {
         "hoverinfo": "text",
         "line": {
          "color": "cornflowerblue",
          "width": 0.3
         },
         "mode": "lines",
         "text": [
          "Trapping wire--Sam Brockdorff: 1"
         ],
         "type": "scatter",
         "x": [
          -0.2012005364324041,
          0.7895725287866725,
          null
         ],
         "y": [
          0.03268557618766537,
          -0.23782640566337726,
          null
         ]
        },
        {
         "hoverinfo": "text",
         "line": {
          "color": "cornflowerblue",
          "width": 0.3
         },
         "mode": "lines",
         "text": [
          "Trapping wire--Sam Larson: 1"
         ],
         "type": "scatter",
         "x": [
          -0.2012005364324041,
          -0.1820735822325081,
          null
         ],
         "y": [
          0.03268557618766537,
          0.3266028819567148,
          null
         ]
        },
        {
         "hoverinfo": "text",
         "line": {
          "color": "cornflowerblue",
          "width": 0.3
         },
         "mode": "lines",
         "text": [
          "Trapping wire--Ted Baird: 1"
         ],
         "type": "scatter",
         "x": [
          -0.2012005364324041,
          0.42021163583332416,
          null
         ],
         "y": [
          0.03268557618766537,
          0.6306063918738846,
          null
         ]
        },
        {
         "hoverinfo": "text",
         "line": {
          "color": "cornflowerblue",
          "width": 0.3
         },
         "mode": "lines",
         "text": [
          "Trapping wire--Teimojin Tan: 1"
         ],
         "type": "scatter",
         "x": [
          -0.2012005364324041,
          -0.6574377690196297,
          null
         ],
         "y": [
          0.03268557618766537,
          0.3744098743947772,
          null
         ]
        },
        {
         "hoverinfo": "text",
         "line": {
          "color": "cornflowerblue",
          "width": 0.3
         },
         "mode": "lines",
         "text": [
          "Trapping wire--Terry Burns: 1"
         ],
         "type": "scatter",
         "x": [
          -0.2012005364324041,
          0.13251353954568354,
          null
         ],
         "y": [
          0.03268557618766537,
          -0.6593339851762245,
          null
         ]
        },
        {
         "hoverinfo": "text",
         "line": {
          "color": "cornflowerblue",
          "width": 0.3
         },
         "mode": "lines",
         "text": [
          "Trapping wire--Theresa Emmerich Kamper: 1"
         ],
         "type": "scatter",
         "x": [
          -0.2012005364324041,
          -0.5954419455642739,
          null
         ],
         "y": [
          0.03268557618766537,
          -0.030911466412550843,
          null
         ]
        },
        {
         "hoverinfo": "text",
         "line": {
          "color": "cornflowerblue",
          "width": 0.3
         },
         "mode": "lines",
         "text": [
          "Trapping wire--Tom Garstang: 1"
         ],
         "type": "scatter",
         "x": [
          -0.2012005364324041,
          -0.7017971597054672,
          null
         ],
         "y": [
          0.03268557618766537,
          0.25367816904649765,
          null
         ]
        },
        {
         "hoverinfo": "none",
         "marker": {
          "color": [
           "cornflowerblue",
           "cornflowerblue",
           "cornflowerblue",
           "cornflowerblue",
           "cornflowerblue",
           "cornflowerblue",
           "cornflowerblue",
           "cornflowerblue",
           "cornflowerblue",
           "cornflowerblue",
           "cornflowerblue",
           "cornflowerblue",
           "cornflowerblue",
           "cornflowerblue",
           "cornflowerblue",
           "cornflowerblue",
           "cornflowerblue",
           "cornflowerblue",
           "cornflowerblue",
           "cornflowerblue",
           "cornflowerblue",
           "cornflowerblue",
           "cornflowerblue",
           "cornflowerblue",
           "cornflowerblue",
           "cornflowerblue",
           "cornflowerblue",
           "cornflowerblue",
           "cornflowerblue",
           "cornflowerblue",
           "cornflowerblue",
           "cornflowerblue",
           "cornflowerblue",
           "cornflowerblue",
           "cornflowerblue",
           "cornflowerblue",
           "cornflowerblue",
           "cornflowerblue",
           "cornflowerblue",
           "cornflowerblue",
           "cornflowerblue",
           "cornflowerblue",
           "cornflowerblue",
           "cornflowerblue",
           "cornflowerblue",
           "cornflowerblue",
           "cornflowerblue",
           "cornflowerblue",
           "cornflowerblue",
           "cornflowerblue",
           "cornflowerblue",
           "cornflowerblue",
           "cornflowerblue",
           "cornflowerblue",
           "cornflowerblue",
           "cornflowerblue",
           "cornflowerblue",
           "cornflowerblue",
           "cornflowerblue",
           "cornflowerblue",
           "cornflowerblue",
           "cornflowerblue",
           "cornflowerblue",
           "cornflowerblue",
           "cornflowerblue",
           "cornflowerblue",
           "cornflowerblue",
           "cornflowerblue",
           "cornflowerblue",
           "cornflowerblue",
           "cornflowerblue",
           "cornflowerblue",
           "cornflowerblue",
           "cornflowerblue",
           "cornflowerblue",
           "cornflowerblue",
           "cornflowerblue",
           "cornflowerblue",
           "cornflowerblue",
           "cornflowerblue",
           "cornflowerblue",
           "cornflowerblue",
           "cornflowerblue",
           "cornflowerblue",
           "cornflowerblue",
           "cornflowerblue",
           "cornflowerblue",
           "cornflowerblue",
           "cornflowerblue",
           "cornflowerblue",
           "cornflowerblue",
           "cornflowerblue",
           "cornflowerblue",
           "cornflowerblue",
           "cornflowerblue",
           "cornflowerblue",
           "cornflowerblue",
           "cornflowerblue",
           "cornflowerblue"
          ],
          "size": []
         },
         "mode": "markers+text",
         "text": [
          "<b>Axe</b>",
          "<b>Bow and arrows</b>",
          "<b>Canteen</b>",
          "<b>Ferro rod</b>",
          "<b>Fishing gear</b>",
          "<b>Gillnet</b>",
          "<b>Knife</b>",
          "<b>Multitool</b>",
          "<b>Paracord</b>",
          "<b>Pot</b>",
          "<b>Rations</b>",
          "<b>Saw</b>",
          "<b>Sleeping bag</b>",
          "<b>Tarp</b>",
          "<b>Trapping wire</b>",
          "<b>Adam Riley</b>",
          "<b>Alan Kay</b>",
          "<b>Alex Ribar</b>",
          "<b>Amos Rodriguez</b>",
          "<b>Barry Karcher</b>",
          "<b>Benki Hill</b>",
          "<b>Biko Wright</b>",
          "<b>Brad Richardson</b>",
          "<b>Brady Nicholls</b>",
          "<b>Brant McGee</b>",
          "<b>Britt Ahart</b>",
          "<b>Brody Wilkes</b>",
          "<b>Brooke Whipple</b>",
          "<b>Callie North</b>",
          "<b>Callie Russell</b>",
          "<b>Carleigh Fairchild</b>",
          "<b>Chris Weatherman</b>",
          "<b>Chris Wilkes</b>",
          "<b>Clay Hayes</b>",
          "<b>Colter Barnes</b>",
          "<b>Correy Hawk</b>",
          "<b>Dan Wowak</b>",
          "<b>Dave Nessia</b>",
          "<b>Dave Whipple</b>",
          "<b>David McIntyre</b>",
          "<b>Desmond White</b>",
          "<b>Donny Dust</b>",
          "<b>Dustin Feher</b>",
          "<b>Greg Ovens</b>",
          "<b>Igor Limansky</b>",
          "<b>Jacques Turcotte</b>",
          "<b>Jesse Bosdell</b>",
          "<b>Jessie Krebs</b>",
          "<b>Jim Baird</b>",
          "<b>Jim Shields</b>",
          "<b>Joe Nicholas</b>",
          "<b>Joe Robinet</b>",
          "<b>Joel Van Der Loon</b>",
          "<b>Jordan Jonas</b>",
          "<b>Jordon Bell</b>",
          "<b>Jose Martinez Amoedo</b>",
          "<b>Josh Chavez</b>",
          "<b>Josh Richardson</b>",
          "<b>Juan Pablo Quinonez</b>",
          "<b>Justin Vititoe</b>",
          "<b>Karie Lee Knoke</b>",
          "<b>Keith Syers</b>",
          "<b>Kielyn Marrone</b>",
          "<b>Larry Roberts</b>",
          "<b>Logan Ribar</b>",
          "<b>Lucas Miller</b>",
          "<b>Mark D'Ambrosio</b>",
          "<b>Mary Kate Green</b>",
          "<b>Matt Corradino</b>",
          "<b>Megan Hanacek</b>",
          "<b>Michelle Finn</b>",
          "<b>Michelle Wohlberg</b>",
          "<b>Mike Lowe</b>",
          "<b>Mitch Mitchell</b>",
          "<b>Nate Weber</b>",
          "<b>Nathan Donnelly</b>",
          "<b>Nicole Apelian</b>",
          "<b>Nikki van Schyndel</b>",
          "<b>Pete Brockdorff</b>",
          "<b>Randy Champagne</b>",
          "<b>Ray Livingston</b>",
          "<b>Roland Welker</b>",
          "<b>Rose Anna Moore</b>",
          "<b>Sam Brockdorff</b>",
          "<b>Sam Larson</b>",
          "<b>Shannon Bosdell</b>",
          "<b>Shawn Helton</b>",
          "<b>Ted Baird</b>",
          "<b>Teimojin Tan</b>",
          "<b>Terry Burns</b>",
          "<b>Theresa Emmerich Kamper</b>",
          "<b>Tim Backus</b>",
          "<b>Tim Madsen</b>",
          "<b>Tom Garstang</b>",
          "<b>Tracy Wilson</b>",
          "<b>Wayne Russell</b>",
          "<b>Woniya Thibeault</b>",
          "<b>Zachary Fowler</b>",
          "<b>Zachary Gault</b>"
         ],
         "textfont": {
          "size": 10
         },
         "textposition": "top center",
         "type": "scatter",
         "x": [
          0.0256998514792931,
          -0.16943496807822672,
          0.557371133007092,
          -0.07980588189704754,
          -0.005729790078004535,
          0.250212266338565,
          0.04924779567540872,
          -0.2658598469540552,
          -0.16494032973300557,
          0.04560328996517191,
          0.1271750074485006,
          -0.0371168602943827,
          -0.004850564124383809,
          0.5102416563785783,
          -0.2012005364324041,
          0.4231282311244024,
          0.815066799980723,
          -0.29962651788445005,
          0.0682803892041071,
          -0.03751998498056549,
          -0.7675888778670847,
          0.48312640249247935,
          0.05984641461518838,
          0.13346439365291393,
          0.6015230857860889,
          -0.2497631631785479,
          0.7241660136758504,
          -0.06443041586361846,
          0.7069818503900434,
          -0.40911892652294085,
          0.20924019981298217,
          0.6762748571438286,
          0.8923936620530742,
          -0.5667181352988339,
          0.2921842173185547,
          -0.72740767404415,
          -0.12721075638771265,
          -0.15819207581452197,
          0.7193082469361248,
          0.6112918996834296,
          0.8644714148065687,
          -0.598389093734986,
          -0.0459491427761949,
          0.5841134288357716,
          0.37559142637995513,
          -0.49760574014961795,
          0.1396216938016799,
          -0.5892249398047921,
          -0.3638893093665568,
          -0.17887445516937944,
          0.4703725737274096,
          0.7457519403244229,
          -0.5052226395097973,
          -0.7329533216627765,
          -0.07672216484877323,
          -0.6319766270688345,
          0.42205675328593906,
          0.42259581982357375,
          0.3573511980627373,
          0.16096581098835464,
          0.2534601432680607,
          -0.30492698698095455,
          0.16370592574901813,
          -0.3364232797862773,
          0.008267981975036148,
          0.3131108731926996,
          -0.821198931605355,
          0.7646608077190291,
          -0.20064253198025278,
          0.3580733953966105,
          -0.6045440501381834,
          -0.1938042578318345,
          0.30262084802000055,
          0.37283882745591235,
          -0.7150813604179511,
          -0.2932939089011811,
          0.26878954826134965,
          -0.44888430898162773,
          0.5976076136229159,
          -0.349304559305111,
          0.4861611815391165,
          -0.6803277873559646,
          -0.5806984395819331,
          0.7895725287866725,
          -0.1820735822325081,
          0.08408647256603534,
          -0.43802320462146654,
          0.42021163583332416,
          -0.6574377690196297,
          0.13251353954568354,
          -0.5954419455642739,
          -0.8346955697213538,
          0.46464938444806847,
          -0.7017971597054672,
          0.6737486629514334,
          -0.01698685123302949,
          -0.7325621231282693,
          -0.9364475679671536,
          -0.7968801789443809
         ],
         "y": [
          0.038491962597219896,
          -0.04649303876929913,
          1,
          -0.07984210088416017,
          -0.011914463248468567,
          0.05100677472070502,
          -0.17164356118963583,
          -0.03300167398337394,
          -0.13972353443695917,
          -0.015136115806780167,
          0.11274493652072279,
          0.06018618981894474,
          -0.09008358320368168,
          0.2658539087343685,
          0.03268557618766537,
          -0.4816436280899793,
          0.3326460444066763,
          0.7352242658938394,
          -0.7245285080827909,
          -0.6563629833878613,
          0.46054709803718463,
          -0.31655373770660206,
          0.4399290105576108,
          -0.4829246395259961,
          -0.4155406048086862,
          -0.41853936522327173,
          0.4222017319260711,
          0.43698357904344115,
          -0.38322354353375715,
          0.4678098215325018,
          0.3284587939178709,
          -0.10771672290687707,
          0.1193147390934305,
          0.46031393361436546,
          -0.4206342073418396,
          -0.42716753086886317,
          -0.806965295635513,
          -0.32146331236271153,
          0.6943656160949481,
          -0.5735080525836848,
          -0.08364130560083073,
          -0.25104108361735633,
          0.8062427035953487,
          0.05943423685498098,
          -0.2931818437887316,
          0.3237406107058987,
          0.5465408455237983,
          -0.6863070643601215,
          0.6380621974306803,
          -0.6437854388020003,
          0.43497154517033965,
          -0.0797431498192736,
          -0.3745727323423614,
          -0.5533096892464248,
          0.6679323572140383,
          -0.13472354967767763,
          -0.6797172750600777,
          0.8708308529937877,
          0.26989400434930627,
          0.9041150378816133,
          -0.5671790990454183,
          -0.7701979405779571,
          0.4688551620748274,
          0.16502950099272184,
          -0.4928787114965203,
          0.6838900750220774,
          0.251707705900538,
          0.10192847172652374,
          0.7105100559961994,
          0.5328785899573018,
          -0.48305458918849853,
          0.5902316390105835,
          -0.6900817037865407,
          -0.8430629943724753,
          0.03847680432140553,
          -0.5842392372509401,
          -0.20623505651882393,
          -0.5754517487206505,
          0.5496059875401306,
          -0.20173770295454785,
          -0.14717529162435514,
          0.14388344051599708,
          0.5741478282855389,
          -0.23782640566337726,
          0.3266028819567148,
          0.8278971316131882,
          -0.7462571818068016,
          0.6306063918738846,
          0.3744098743947772,
          -0.6593339851762245,
          -0.030911466412550843,
          -0.2072659581108296,
          0.03696312994248573,
          0.25367816904649765,
          0.2423148856093115,
          -0.8677581074083068,
          -0.30412075447223474,
          0.06687756482110661,
          -0.03162239453647401
         ]
        }
       ],
       "layout": {
        "paper_bgcolor": "rgba(0,0,0,0)",
        "plot_bgcolor": "rgba(0,0,0,0)",
        "showlegend": false,
        "template": {
         "data": {
          "bar": [
           {
            "error_x": {
             "color": "#2a3f5f"
            },
            "error_y": {
             "color": "#2a3f5f"
            },
            "marker": {
             "line": {
              "color": "#E5ECF6",
              "width": 0.5
             },
             "pattern": {
              "fillmode": "overlay",
              "size": 10,
              "solidity": 0.2
             }
            },
            "type": "bar"
           }
          ],
          "barpolar": [
           {
            "marker": {
             "line": {
              "color": "#E5ECF6",
              "width": 0.5
             },
             "pattern": {
              "fillmode": "overlay",
              "size": 10,
              "solidity": 0.2
             }
            },
            "type": "barpolar"
           }
          ],
          "carpet": [
           {
            "aaxis": {
             "endlinecolor": "#2a3f5f",
             "gridcolor": "white",
             "linecolor": "white",
             "minorgridcolor": "white",
             "startlinecolor": "#2a3f5f"
            },
            "baxis": {
             "endlinecolor": "#2a3f5f",
             "gridcolor": "white",
             "linecolor": "white",
             "minorgridcolor": "white",
             "startlinecolor": "#2a3f5f"
            },
            "type": "carpet"
           }
          ],
          "choropleth": [
           {
            "colorbar": {
             "outlinewidth": 0,
             "ticks": ""
            },
            "type": "choropleth"
           }
          ],
          "contour": [
           {
            "colorbar": {
             "outlinewidth": 0,
             "ticks": ""
            },
            "colorscale": [
             [
              0,
              "#0d0887"
             ],
             [
              0.1111111111111111,
              "#46039f"
             ],
             [
              0.2222222222222222,
              "#7201a8"
             ],
             [
              0.3333333333333333,
              "#9c179e"
             ],
             [
              0.4444444444444444,
              "#bd3786"
             ],
             [
              0.5555555555555556,
              "#d8576b"
             ],
             [
              0.6666666666666666,
              "#ed7953"
             ],
             [
              0.7777777777777778,
              "#fb9f3a"
             ],
             [
              0.8888888888888888,
              "#fdca26"
             ],
             [
              1,
              "#f0f921"
             ]
            ],
            "type": "contour"
           }
          ],
          "contourcarpet": [
           {
            "colorbar": {
             "outlinewidth": 0,
             "ticks": ""
            },
            "type": "contourcarpet"
           }
          ],
          "heatmap": [
           {
            "colorbar": {
             "outlinewidth": 0,
             "ticks": ""
            },
            "colorscale": [
             [
              0,
              "#0d0887"
             ],
             [
              0.1111111111111111,
              "#46039f"
             ],
             [
              0.2222222222222222,
              "#7201a8"
             ],
             [
              0.3333333333333333,
              "#9c179e"
             ],
             [
              0.4444444444444444,
              "#bd3786"
             ],
             [
              0.5555555555555556,
              "#d8576b"
             ],
             [
              0.6666666666666666,
              "#ed7953"
             ],
             [
              0.7777777777777778,
              "#fb9f3a"
             ],
             [
              0.8888888888888888,
              "#fdca26"
             ],
             [
              1,
              "#f0f921"
             ]
            ],
            "type": "heatmap"
           }
          ],
          "heatmapgl": [
           {
            "colorbar": {
             "outlinewidth": 0,
             "ticks": ""
            },
            "colorscale": [
             [
              0,
              "#0d0887"
             ],
             [
              0.1111111111111111,
              "#46039f"
             ],
             [
              0.2222222222222222,
              "#7201a8"
             ],
             [
              0.3333333333333333,
              "#9c179e"
             ],
             [
              0.4444444444444444,
              "#bd3786"
             ],
             [
              0.5555555555555556,
              "#d8576b"
             ],
             [
              0.6666666666666666,
              "#ed7953"
             ],
             [
              0.7777777777777778,
              "#fb9f3a"
             ],
             [
              0.8888888888888888,
              "#fdca26"
             ],
             [
              1,
              "#f0f921"
             ]
            ],
            "type": "heatmapgl"
           }
          ],
          "histogram": [
           {
            "marker": {
             "pattern": {
              "fillmode": "overlay",
              "size": 10,
              "solidity": 0.2
             }
            },
            "type": "histogram"
           }
          ],
          "histogram2d": [
           {
            "colorbar": {
             "outlinewidth": 0,
             "ticks": ""
            },
            "colorscale": [
             [
              0,
              "#0d0887"
             ],
             [
              0.1111111111111111,
              "#46039f"
             ],
             [
              0.2222222222222222,
              "#7201a8"
             ],
             [
              0.3333333333333333,
              "#9c179e"
             ],
             [
              0.4444444444444444,
              "#bd3786"
             ],
             [
              0.5555555555555556,
              "#d8576b"
             ],
             [
              0.6666666666666666,
              "#ed7953"
             ],
             [
              0.7777777777777778,
              "#fb9f3a"
             ],
             [
              0.8888888888888888,
              "#fdca26"
             ],
             [
              1,
              "#f0f921"
             ]
            ],
            "type": "histogram2d"
           }
          ],
          "histogram2dcontour": [
           {
            "colorbar": {
             "outlinewidth": 0,
             "ticks": ""
            },
            "colorscale": [
             [
              0,
              "#0d0887"
             ],
             [
              0.1111111111111111,
              "#46039f"
             ],
             [
              0.2222222222222222,
              "#7201a8"
             ],
             [
              0.3333333333333333,
              "#9c179e"
             ],
             [
              0.4444444444444444,
              "#bd3786"
             ],
             [
              0.5555555555555556,
              "#d8576b"
             ],
             [
              0.6666666666666666,
              "#ed7953"
             ],
             [
              0.7777777777777778,
              "#fb9f3a"
             ],
             [
              0.8888888888888888,
              "#fdca26"
             ],
             [
              1,
              "#f0f921"
             ]
            ],
            "type": "histogram2dcontour"
           }
          ],
          "mesh3d": [
           {
            "colorbar": {
             "outlinewidth": 0,
             "ticks": ""
            },
            "type": "mesh3d"
           }
          ],
          "parcoords": [
           {
            "line": {
             "colorbar": {
              "outlinewidth": 0,
              "ticks": ""
             }
            },
            "type": "parcoords"
           }
          ],
          "pie": [
           {
            "automargin": true,
            "type": "pie"
           }
          ],
          "scatter": [
           {
            "fillpattern": {
             "fillmode": "overlay",
             "size": 10,
             "solidity": 0.2
            },
            "type": "scatter"
           }
          ],
          "scatter3d": [
           {
            "line": {
             "colorbar": {
              "outlinewidth": 0,
              "ticks": ""
             }
            },
            "marker": {
             "colorbar": {
              "outlinewidth": 0,
              "ticks": ""
             }
            },
            "type": "scatter3d"
           }
          ],
          "scattercarpet": [
           {
            "marker": {
             "colorbar": {
              "outlinewidth": 0,
              "ticks": ""
             }
            },
            "type": "scattercarpet"
           }
          ],
          "scattergeo": [
           {
            "marker": {
             "colorbar": {
              "outlinewidth": 0,
              "ticks": ""
             }
            },
            "type": "scattergeo"
           }
          ],
          "scattergl": [
           {
            "marker": {
             "colorbar": {
              "outlinewidth": 0,
              "ticks": ""
             }
            },
            "type": "scattergl"
           }
          ],
          "scattermapbox": [
           {
            "marker": {
             "colorbar": {
              "outlinewidth": 0,
              "ticks": ""
             }
            },
            "type": "scattermapbox"
           }
          ],
          "scatterpolar": [
           {
            "marker": {
             "colorbar": {
              "outlinewidth": 0,
              "ticks": ""
             }
            },
            "type": "scatterpolar"
           }
          ],
          "scatterpolargl": [
           {
            "marker": {
             "colorbar": {
              "outlinewidth": 0,
              "ticks": ""
             }
            },
            "type": "scatterpolargl"
           }
          ],
          "scatterternary": [
           {
            "marker": {
             "colorbar": {
              "outlinewidth": 0,
              "ticks": ""
             }
            },
            "type": "scatterternary"
           }
          ],
          "surface": [
           {
            "colorbar": {
             "outlinewidth": 0,
             "ticks": ""
            },
            "colorscale": [
             [
              0,
              "#0d0887"
             ],
             [
              0.1111111111111111,
              "#46039f"
             ],
             [
              0.2222222222222222,
              "#7201a8"
             ],
             [
              0.3333333333333333,
              "#9c179e"
             ],
             [
              0.4444444444444444,
              "#bd3786"
             ],
             [
              0.5555555555555556,
              "#d8576b"
             ],
             [
              0.6666666666666666,
              "#ed7953"
             ],
             [
              0.7777777777777778,
              "#fb9f3a"
             ],
             [
              0.8888888888888888,
              "#fdca26"
             ],
             [
              1,
              "#f0f921"
             ]
            ],
            "type": "surface"
           }
          ],
          "table": [
           {
            "cells": {
             "fill": {
              "color": "#EBF0F8"
             },
             "line": {
              "color": "white"
             }
            },
            "header": {
             "fill": {
              "color": "#C8D4E3"
             },
             "line": {
              "color": "white"
             }
            },
            "type": "table"
           }
          ]
         },
         "layout": {
          "annotationdefaults": {
           "arrowcolor": "#2a3f5f",
           "arrowhead": 0,
           "arrowwidth": 1
          },
          "autotypenumbers": "strict",
          "coloraxis": {
           "colorbar": {
            "outlinewidth": 0,
            "ticks": ""
           }
          },
          "colorscale": {
           "diverging": [
            [
             0,
             "#8e0152"
            ],
            [
             0.1,
             "#c51b7d"
            ],
            [
             0.2,
             "#de77ae"
            ],
            [
             0.3,
             "#f1b6da"
            ],
            [
             0.4,
             "#fde0ef"
            ],
            [
             0.5,
             "#f7f7f7"
            ],
            [
             0.6,
             "#e6f5d0"
            ],
            [
             0.7,
             "#b8e186"
            ],
            [
             0.8,
             "#7fbc41"
            ],
            [
             0.9,
             "#4d9221"
            ],
            [
             1,
             "#276419"
            ]
           ],
           "sequential": [
            [
             0,
             "#0d0887"
            ],
            [
             0.1111111111111111,
             "#46039f"
            ],
            [
             0.2222222222222222,
             "#7201a8"
            ],
            [
             0.3333333333333333,
             "#9c179e"
            ],
            [
             0.4444444444444444,
             "#bd3786"
            ],
            [
             0.5555555555555556,
             "#d8576b"
            ],
            [
             0.6666666666666666,
             "#ed7953"
            ],
            [
             0.7777777777777778,
             "#fb9f3a"
            ],
            [
             0.8888888888888888,
             "#fdca26"
            ],
            [
             1,
             "#f0f921"
            ]
           ],
           "sequentialminus": [
            [
             0,
             "#0d0887"
            ],
            [
             0.1111111111111111,
             "#46039f"
            ],
            [
             0.2222222222222222,
             "#7201a8"
            ],
            [
             0.3333333333333333,
             "#9c179e"
            ],
            [
             0.4444444444444444,
             "#bd3786"
            ],
            [
             0.5555555555555556,
             "#d8576b"
            ],
            [
             0.6666666666666666,
             "#ed7953"
            ],
            [
             0.7777777777777778,
             "#fb9f3a"
            ],
            [
             0.8888888888888888,
             "#fdca26"
            ],
            [
             1,
             "#f0f921"
            ]
           ]
          },
          "colorway": [
           "#636efa",
           "#EF553B",
           "#00cc96",
           "#ab63fa",
           "#FFA15A",
           "#19d3f3",
           "#FF6692",
           "#B6E880",
           "#FF97FF",
           "#FECB52"
          ],
          "font": {
           "color": "#2a3f5f"
          },
          "geo": {
           "bgcolor": "white",
           "lakecolor": "white",
           "landcolor": "#E5ECF6",
           "showlakes": true,
           "showland": true,
           "subunitcolor": "white"
          },
          "hoverlabel": {
           "align": "left"
          },
          "hovermode": "closest",
          "mapbox": {
           "style": "light"
          },
          "paper_bgcolor": "white",
          "plot_bgcolor": "#E5ECF6",
          "polar": {
           "angularaxis": {
            "gridcolor": "white",
            "linecolor": "white",
            "ticks": ""
           },
           "bgcolor": "#E5ECF6",
           "radialaxis": {
            "gridcolor": "white",
            "linecolor": "white",
            "ticks": ""
           }
          },
          "scene": {
           "xaxis": {
            "backgroundcolor": "#E5ECF6",
            "gridcolor": "white",
            "gridwidth": 2,
            "linecolor": "white",
            "showbackground": true,
            "ticks": "",
            "zerolinecolor": "white"
           },
           "yaxis": {
            "backgroundcolor": "#E5ECF6",
            "gridcolor": "white",
            "gridwidth": 2,
            "linecolor": "white",
            "showbackground": true,
            "ticks": "",
            "zerolinecolor": "white"
           },
           "zaxis": {
            "backgroundcolor": "#E5ECF6",
            "gridcolor": "white",
            "gridwidth": 2,
            "linecolor": "white",
            "showbackground": true,
            "ticks": "",
            "zerolinecolor": "white"
           }
          },
          "shapedefaults": {
           "line": {
            "color": "#2a3f5f"
           }
          },
          "ternary": {
           "aaxis": {
            "gridcolor": "white",
            "linecolor": "white",
            "ticks": ""
           },
           "baxis": {
            "gridcolor": "white",
            "linecolor": "white",
            "ticks": ""
           },
           "bgcolor": "#E5ECF6",
           "caxis": {
            "gridcolor": "white",
            "linecolor": "white",
            "ticks": ""
           }
          },
          "title": {
           "x": 0.05
          },
          "xaxis": {
           "automargin": true,
           "gridcolor": "white",
           "linecolor": "white",
           "ticks": "",
           "title": {
            "standoff": 15
           },
           "zerolinecolor": "white",
           "zerolinewidth": 2
          },
          "yaxis": {
           "automargin": true,
           "gridcolor": "white",
           "linecolor": "white",
           "ticks": "",
           "title": {
            "standoff": 15
           },
           "zerolinecolor": "white",
           "zerolinewidth": 2
          }
         }
        },
        "xaxis": {
         "showticklabels": false
        },
        "yaxis": {
         "showticklabels": false
        }
       }
      }
     },
     "metadata": {},
     "output_type": "display_data"
    }
   ],
   "source": [
    "layout = go.Layout(\n",
    "    paper_bgcolor='rgba(0,0,0,0)',\n",
    "    plot_bgcolor='rgba(0,0,0,0)'\n",
    ")\n",
    "\n",
    "\n",
    "fig = go.Figure(layout = layout)\n",
    "\n",
    "for trace in edge_trace:\n",
    "    fig.add_trace(trace)\n",
    "\n",
    "fig.add_trace(node_trace)\n",
    "\n",
    "fig.update_layout(showlegend = False)\n",
    "\n",
    "fig.update_xaxes(showticklabels = False)\n",
    "\n",
    "fig.update_yaxes(showticklabels = False)\n",
    "\n",
    "fig.show()"
   ]
  },
  {
   "cell_type": "code",
   "execution_count": null,
   "metadata": {},
   "outputs": [],
   "source": []
  },
  {
   "cell_type": "code",
   "execution_count": null,
   "metadata": {},
   "outputs": [],
   "source": []
  },
  {
   "cell_type": "code",
   "execution_count": null,
   "metadata": {},
   "outputs": [],
   "source": []
  },
  {
   "cell_type": "code",
   "execution_count": null,
   "metadata": {},
   "outputs": [],
   "source": []
  },
  {
   "cell_type": "code",
   "execution_count": null,
   "metadata": {},
   "outputs": [],
   "source": []
  },
  {
   "cell_type": "code",
   "execution_count": null,
   "metadata": {},
   "outputs": [],
   "source": [
    "# Import packages for data cleaning\n",
    "import numpy as np\n",
    "import pandas as pd\n",
    "import re # For finding specific strings in the text\n",
    "# Import packages for data visualization\n",
    "import plotly.offline as py\n",
    "import plotly.graph_objects as go\n",
    "import networkx as nx"
   ]
  },
  {
   "cell_type": "code",
   "execution_count": null,
   "metadata": {},
   "outputs": [],
   "source": [
    "# Load the data\n",
    "f = open(\"midsummer.txt\", \"r\")\n",
    "whole_text = f.read()"
   ]
  },
  {
   "cell_type": "code",
   "execution_count": null,
   "metadata": {},
   "outputs": [],
   "source": []
  },
  {
   "cell_type": "code",
   "execution_count": null,
   "metadata": {},
   "outputs": [
    {
     "data": {
      "text/plain": [
       "EdgeView([(0, 16), (0, 41), (0, 150), (0, 172), (1, 24), (1, 82), (1, 84), (1, 118), (1, 119), (1, 128), (1, 158), (1, 184), (2, 27), (2, 44), (2, 133), (2, 175), (3, 23), (3, 46), (3, 61), (3, 71), (3, 77), (3, 107), (3, 109), (3, 114), (3, 121), (3, 129), (3, 137), (3, 164), (3, 180), (3, 186), (3, 187), (4, 5), (4, 53), (4, 83), (4, 116), (4, 138), (4, 160), (4, 189), (4, 197), (4, 199), (5, 38), (5, 53), (5, 93), (5, 116), (5, 130), (5, 131), (5, 134), (5, 138), (5, 160), (5, 189), (5, 197), (6, 33), (6, 76), (6, 101), (6, 138), (6, 167), (6, 190), (7, 9), (7, 38), (7, 40), (7, 74), (7, 112), (7, 130), (7, 150), (7, 172), (8, 21), (8, 195), (9, 32), (9, 40), (9, 66), (9, 72), (9, 85), (9, 89), (9, 150), (9, 171), (9, 172), (9, 179), (10, 17), (10, 28), (10, 45), (10, 73), (10, 91), (10, 132), (10, 163), (10, 166), (10, 191), (11, 38), (11, 40), (11, 86), (11, 89), (11, 134), (11, 179), (11, 183), (11, 189), (12, 28), (12, 42), (12, 91), (12, 132), (12, 155), (12, 188), (13, 27), (13, 47), (13, 81), (14, 31), (14, 56), (14, 57), (14, 95), (14, 103), (14, 113), (14, 124), (14, 136), (14, 156), (14, 159), (14, 185), (15, 52), (15, 61), (15, 75), (15, 82), (15, 109), (15, 119), (15, 121), (15, 129), (15, 137), (15, 144), (15, 164), (15, 186), (16, 41), (16, 150), (16, 171), (16, 172), (17, 28), (17, 45), (17, 73), (17, 91), (17, 105), (17, 117), (17, 132), (17, 146), (17, 163), (17, 166), (17, 191), (18, 78), (18, 123), (18, 161), (18, 181), (19, 78), (19, 145), (19, 148), (19, 154), (19, 161), (20, 84), (20, 96), (20, 103), (20, 124), (20, 151), (20, 185), (21, 47), (21, 195), (22, 25), (22, 59), (22, 92), (22, 94), (22, 100), (22, 135), (22, 139), (23, 50), (23, 52), (23, 95), (23, 114), (23, 137), (23, 144), (23, 157), (23, 177), (23, 186), (24, 54), (24, 75), (24, 87), (24, 118), (24, 119), (24, 158), (24, 184), (25, 58), (25, 62), (25, 70), (25, 94), (25, 100), (25, 135), (25, 139), (25, 140), (25, 170), (26, 43), (26, 62), (26, 70), (26, 88), (26, 149), (26, 162), (26, 170), (27, 47), (27, 81), (27, 113), (28, 45), (28, 91), (28, 105), (28, 117), (28, 132), (28, 146), (28, 163), (28, 166), (28, 191), (29, 48), (29, 67), (29, 69), (29, 79), (29, 99), (29, 125), (29, 141), (29, 142), (29, 165), (29, 169), (29, 176), (30, 34), (30, 65), (30, 80), (30, 92), (30, 120), (30, 122), (30, 143), (30, 153), (30, 192), (30, 193), (31, 57), (31, 63), (31, 81), (31, 104), (31, 111), (31, 113), (31, 124), (31, 136), (31, 156), (31, 185), (32, 66), (32, 72), (32, 85), (32, 89), (32, 90), (32, 168), (32, 171), (33, 76), (33, 101), (33, 167), (33, 190), (34, 42), (34, 65), (34, 143), (34, 155), (34, 188), (34, 192), (34, 193), (35, 62), (35, 70), (35, 94), (35, 110), (35, 126), (35, 152), (35, 170), (35, 173), (35, 174), (35, 194), (36, 50), (36, 56), (36, 60), (36, 95), (36, 98), (36, 157), (36, 159), (36, 177), (37, 66), (37, 68), (37, 90), (37, 145), (37, 147), (37, 148), (37, 182), (38, 40), (38, 86), (38, 112), (38, 130), (38, 134), (38, 138), (38, 160), (38, 189), (38, 197), (39, 46), (39, 58), (39, 77), (39, 140), (39, 187), (40, 72), (40, 86), (40, 89), (40, 112), (40, 134), (40, 179), (40, 183), (41, 150), (41, 171), (41, 172), (42, 65), (42, 102), (42, 143), (42, 155), (42, 188), (42, 193), (43, 55), (43, 60), (43, 88), (43, 149), (43, 162), (43, 177), (43, 198), (44, 68), (44, 133), (44, 167), (44, 175), (45, 73), (45, 91), (45, 105), (45, 146), (45, 163), (45, 166), (45, 191), (46, 58), (46, 61), (46, 77), (46, 107), (46, 121), (46, 140), (46, 180), (46, 187), (48, 67), (48, 69), (48, 79), (48, 99), (48, 125), (48, 141), (48, 142), (48, 165), (48, 169), (48, 176), (49, 69), (49, 79), (49, 106), (49, 125), (49, 127), (49, 141), (49, 142), (50, 52), (50, 95), (50, 114), (50, 128), (50, 137), (50, 144), (50, 157), (50, 177), (50, 186), (51, 55), (51, 108), (51, 174), (51, 199), (52, 82), (52, 109), (52, 114), (52, 119), (52, 128), (52, 129), (52, 137), (52, 144), (52, 157), (52, 177), (52, 186), (53, 83), (53, 116), (53, 160), (53, 197), (53, 199), (54, 75), (54, 87), (54, 118), (54, 158), (55, 76), (55, 149), (55, 162), (55, 174), (55, 198), (56, 95), (56, 98), (56, 159), (57, 63), (57, 81), (57, 113), (57, 124), (57, 136), (57, 156), (57, 159), (57, 185), (58, 77), (58, 135), (58, 140), (58, 187), (59, 92), (59, 94), (59, 100), (59, 135), (59, 139), (59, 153), (60, 76), (60, 95), (60, 98), (60, 149), (60, 157), (60, 162), (60, 177), (60, 198), (61, 71), (61, 77), (61, 107), (61, 109), (61, 121), (61, 129), (61, 137), (61, 164), (61, 180), (61, 187), (62, 70), (62, 94), (62, 100), (62, 110), (62, 126), (62, 135), (62, 139), (62, 170), (62, 173), (63, 81), (63, 111), (63, 113), (63, 136), (63, 156), (64, 93), (64, 115), (64, 131), (64, 176), (65, 92), (65, 120), (65, 122), (65, 143), (65, 153), (65, 155), (65, 192), (65, 193), (66, 68), (66, 72), (66, 85), (66, 89), (66, 90), (66, 147), (66, 179), (66, 182), (67, 69), (67, 79), (67, 99), (67, 125), (67, 127), (67, 141), (67, 142), (67, 169), (68, 72), (68, 90), (68, 145), (68, 147), (68, 175), (68, 179), (68, 182), (68, 183), (69, 79), (69, 99), (69, 106), (69, 125), (69, 141), (69, 142), (69, 165), (69, 169), (70, 94), (70, 100), (70, 135), (70, 170), (70, 173), (71, 77), (71, 121), (71, 129), (71, 164), (71, 180), (72, 85), (72, 89), (72, 147), (72, 179), (72, 182), (72, 183), (73, 166), (73, 191), (73, 196), (74, 93), (74, 97), (74, 112), (74, 130), (74, 131), (74, 150), (74, 172), (75, 109), (75, 118), (75, 119), (75, 158), (76, 98), (76, 101), (76, 190), (76, 198), (77, 107), (77, 121), (77, 140), (77, 180), (77, 187), (78, 154), (78, 161), (79, 106), (79, 125), (79, 127), (79, 141), (79, 142), (79, 169), (80, 120), (80, 122), (80, 192), (81, 111), (81, 113), (81, 156), (82, 84), (82, 109), (82, 119), (82, 128), (82, 144), (82, 184), (83, 105), (83, 108), (83, 116), (83, 146), (83, 178), (83, 199), (84, 96), (84, 103), (84, 128), (84, 144), (84, 184), (85, 168), (85, 171), (86, 89), (86, 134), (86, 179), (86, 183), (86, 189), (87, 158), (88, 107), (88, 149), (88, 162), (89, 147), (89, 171), (89, 179), (89, 183), (90, 145), (90, 147), (90, 148), (90, 182), (91, 105), (91, 117), (91, 132), (91, 163), (91, 166), (91, 191), (92, 94), (92, 100), (92, 102), (92, 122), (92, 139), (92, 143), (92, 153), (92, 173), (93, 97), (93, 115), (93, 130), (93, 131), (93, 169), (93, 197), (94, 100), (94, 126), (94, 135), (94, 139), (94, 170), (94, 173), (95, 96), (95, 103), (95, 114), (95, 157), (95, 159), (95, 177), (96, 103), (96, 128), (96, 144), (97, 112), (97, 115), (97, 130), (97, 131), (97, 169), (97, 197), (98, 101), (98, 190), (98, 198), (99, 125), (99, 141), (99, 142), (99, 165), (99, 169), (99, 176), (100, 135), (100, 139), (100, 153), (100, 170), (100, 173), (101, 190), (101, 198), (102, 126), (102, 143), (102, 152), (102, 155), (102, 173), (102, 194), (103, 124), (103, 128), (103, 156), (103, 159), (103, 185), (104, 124), (104, 136), (104, 151), (104, 185), (105, 117), (105, 132), (105, 146), (105, 152), (105, 163), (105, 166), (106, 125), (106, 127), (106, 141), (107, 121), (107, 137), (107, 180), (107, 187), (108, 110), (108, 174), (108, 178), (108, 199), (109, 119), (109, 121), (109, 129), (109, 137), (109, 144), (109, 164), (109, 186), (110, 126), (110, 152), (110, 170), (110, 173), (110, 174), (110, 178), (110, 194), (111, 113), (112, 130), (112, 150), (112, 172), (112, 197), (113, 136), (113, 156), (113, 159), (114, 137), (114, 144), (114, 157), (114, 177), (114, 186), (115, 131), (115, 169), (115, 176), (115, 197), (116, 146), (116, 199), (117, 132), (117, 146), (117, 152), (117, 163), (117, 166), (118, 119), (118, 158), (118, 184), (119, 128), (119, 144), (119, 158), (119, 184), (120, 122), (120, 153), (120, 192), (121, 129), (121, 137), (121, 164), (121, 180), (121, 187), (122, 153), (122, 192), (123, 181), (124, 136), (124, 151), (124, 156), (124, 185), (125, 127), (125, 141), (125, 142), (125, 165), (125, 169), (126, 152), (126, 170), (126, 173), (126, 194), (127, 142), (128, 144), (128, 184), (128, 186), (129, 137), (129, 164), (129, 180), (130, 131), (130, 134), (130, 160), (130, 189), (130, 197), (131, 197), (132, 163), (132, 166), (132, 191), (133, 167), (133, 175), (134, 138), (134, 160), (134, 189), (135, 139), (135, 140), (135, 170), (136, 151), (136, 156), (136, 185), (137, 157), (137, 177), (137, 180), (137, 186), (138, 160), (138, 189), (138, 199), (139, 153), (140, 187), (141, 142), (141, 165), (141, 169), (141, 176), (142, 165), (142, 169), (143, 153), (143, 155), (143, 188), (143, 193), (144, 157), (144, 186), (145, 148), (145, 154), (145, 161), (145, 182), (146, 163), (146, 166), (147, 179), (147, 182), (147, 183), (148, 154), (149, 162), (149, 198), (150, 171), (150, 172), (151, 185), (152, 163), (152, 173), (152, 178), (152, 194), (153, 192), (154, 161), (155, 188), (156, 159), (156, 185), (157, 177), (157, 186), (158, 184), (160, 189), (160, 199), (162, 177), (162, 198), (163, 166), (164, 180), (165, 169), (165, 176), (166, 191), (167, 175), (167, 183), (168, 171), (169, 176), (170, 173), (170, 194), (171, 172), (173, 194), (174, 178), (174, 199), (175, 182), (176, 196), (177, 186), (178, 199), (179, 182), (179, 183), (180, 187), (188, 193), (189, 197), (190, 198), (192, 193)])"
      ]
     },
     "execution_count": 17,
     "metadata": {},
     "output_type": "execute_result"
    }
   ],
   "source": [
    "G.edges()"
   ]
  },
  {
   "cell_type": "code",
   "execution_count": null,
   "metadata": {},
   "outputs": [],
   "source": []
  },
  {
   "cell_type": "code",
   "execution_count": null,
   "metadata": {},
   "outputs": [],
   "source": []
  },
  {
   "cell_type": "code",
   "execution_count": null,
   "metadata": {},
   "outputs": [],
   "source": [
    "import plotly.graph_objects as go\n",
    "\n",
    "G = nx.random_geometric_graph(200, 0.125)"
   ]
  },
  {
   "cell_type": "code",
   "execution_count": null,
   "metadata": {},
   "outputs": [],
   "source": [
    "edge_x = []\n",
    "edge_y = []\n",
    "for edge in G.edges():\n",
    "    x0, y0 = G.nodes[edge[0]]['pos']\n",
    "    x1, y1 = G.nodes[edge[1]]['pos']\n",
    "    edge_x.append(x0)\n",
    "    edge_x.append(x1)\n",
    "    edge_x.append(None)\n",
    "    edge_y.append(y0)\n",
    "    edge_y.append(y1)\n",
    "    edge_y.append(None)\n",
    "\n",
    "edge_trace = go.Scatter(\n",
    "    x=edge_x, y=edge_y,\n",
    "    line=dict(width=0.5, color='#888'),\n",
    "    hoverinfo='none',\n",
    "    mode='lines')\n",
    "\n",
    "node_x = []\n",
    "node_y = []\n",
    "for node in G.nodes():\n",
    "    x, y = G.nodes[node]['pos']\n",
    "    node_x.append(x)\n",
    "    node_y.append(y)\n",
    "\n",
    "node_trace = go.Scatter(\n",
    "    x=node_x, y=node_y,\n",
    "    mode='markers',\n",
    "    hoverinfo='text',\n",
    "    marker=dict(\n",
    "        showscale=True,\n",
    "        # colorscale options\n",
    "        #'Greys' | 'YlGnBu' | 'Greens' | 'YlOrRd' | 'Bluered' | 'RdBu' |\n",
    "        #'Reds' | 'Blues' | 'Picnic' | 'Rainbow' | 'Portland' | 'Jet' |\n",
    "        #'Hot' | 'Blackbody' | 'Earth' | 'Electric' | 'Viridis' |\n",
    "        colorscale='YlGnBu',\n",
    "        reversescale=True,\n",
    "        color=[],\n",
    "        size=10,\n",
    "        colorbar=dict(\n",
    "            thickness=15,\n",
    "            title='Node Connections',\n",
    "            xanchor='left',\n",
    "            titleside='right'\n",
    "        ),\n",
    "        line_width=2))"
   ]
  },
  {
   "cell_type": "code",
   "execution_count": null,
   "metadata": {},
   "outputs": [],
   "source": [
    "node_adjacencies = []\n",
    "node_text = []\n",
    "for node, adjacencies in enumerate(G.adjacency()):\n",
    "    node_adjacencies.append(len(adjacencies[1]))\n",
    "    node_text.append('# of connections: '+str(len(adjacencies[1])))\n",
    "\n",
    "node_trace.marker.color = node_adjacencies\n",
    "node_trace.text = node_text"
   ]
  },
  {
   "cell_type": "code",
   "execution_count": null,
   "metadata": {},
   "outputs": [
    {
     "data": {
      "application/vnd.plotly.v1+json": {
       "config": {
        "plotlyServerURL": "https://plot.ly"
       },
       "data": [
        {
         "hoverinfo": "none",
         "line": {
          "color": "#888",
          "width": 0.5
         },
         "mode": "lines",
         "type": "scatter",
         "x": [
          0.983298061615303,
          0.9327231910789899,
          null,
          0.983298061615303,
          0.9446057976452906,
          null,
          0.983298061615303,
          0.8704625324831572,
          null,
          0.983298061615303,
          0.8863361311300415,
          null,
          0.15779326095909885,
          0.06640359543659435,
          null,
          0.15779326095909885,
          0.16674172214220473,
          null,
          0.15779326095909885,
          0.24900300564343536,
          null,
          0.15779326095909885,
          0.04178256037840944,
          null,
          0.15779326095909885,
          0.11319083098060145,
          null,
          0.15779326095909885,
          0.233413018069215,
          null,
          0.15779326095909885,
          0.03847996808293297,
          null,
          0.15779326095909885,
          0.14650789608741321,
          null,
          0.5877020023710561,
          0.6234966969349448,
          null,
          0.5877020023710561,
          0.6351672175820408,
          null,
          0.5877020023710561,
          0.6506362491280013,
          null,
          0.5877020023710561,
          0.6389554682681308,
          null,
          0.13651864824378512,
          0.23787242323203794,
          null,
          0.13651864824378512,
          0.07674581227044541,
          null,
          0.13651864824378512,
          0.08822977330489723,
          null,
          0.13651864824378512,
          0.01864170819630029,
          null,
          0.13651864824378512,
          0.03614151704688473,
          null,
          0.13651864824378512,
          0.14513076923878643,
          null,
          0.13651864824378512,
          0.11066850795436367,
          null,
          0.13651864824378512,
          0.2413811517695984,
          null,
          0.13651864824378512,
          0.10558016229359668,
          null,
          0.13651864824378512,
          0.08629103858344889,
          null,
          0.13651864824378512,
          0.1713826155202096,
          null,
          0.13651864824378512,
          0.0441784025675207,
          null,
          0.13651864824378512,
          0.10676055042291932,
          null,
          0.13651864824378512,
          0.2231623057475437,
          null,
          0.13651864824378512,
          0.08537925955955172,
          null,
          0.56136605974453,
          0.6214446026849548,
          null,
          0.56136605974453,
          0.5658986404836176,
          null,
          0.56136605974453,
          0.49300838127228486,
          null,
          0.56136605974453,
          0.5453990146503785,
          null,
          0.56136605974453,
          0.5827809435499245,
          null,
          0.56136605974453,
          0.5833814370096186,
          null,
          0.56136605974453,
          0.6450375266642114,
          null,
          0.56136605974453,
          0.6788678000046563,
          null,
          0.56136605974453,
          0.47916689675092905,
          null,
          0.6214446026849548,
          0.6775970806413057,
          null,
          0.6214446026849548,
          0.5658986404836176,
          null,
          0.6214446026849548,
          0.7043986455890053,
          null,
          0.6214446026849548,
          0.5453990146503785,
          null,
          0.6214446026849548,
          0.6897053304783772,
          null,
          0.6214446026849548,
          0.7002349679122277,
          null,
          0.6214446026849548,
          0.6535286390276785,
          null,
          0.6214446026849548,
          0.5827809435499245,
          null,
          0.6214446026849548,
          0.5833814370096186,
          null,
          0.6214446026849548,
          0.6450375266642114,
          null,
          0.6214446026849548,
          0.6788678000046563,
          null,
          0.5493067780655132,
          0.5301711818574536,
          null,
          0.5493067780655132,
          0.44695596351543176,
          null,
          0.5493067780655132,
          0.49303880145352563,
          null,
          0.5493067780655132,
          0.5827809435499245,
          null,
          0.5493067780655132,
          0.6292310183613842,
          null,
          0.5493067780655132,
          0.49829664584347055,
          null,
          0.7934338683401077,
          0.8470769379650049,
          null,
          0.7934338683401077,
          0.6775970806413057,
          null,
          0.7934338683401077,
          0.7563977514631786,
          null,
          0.7934338683401077,
          0.8091289742818839,
          null,
          0.7934338683401077,
          0.77518992856732,
          null,
          0.7934338683401077,
          0.6897053304783772,
          null,
          0.7934338683401077,
          0.8704625324831572,
          null,
          0.7934338683401077,
          0.8863361311300415,
          null,
          0.8361120192994633,
          0.7659544229039292,
          null,
          0.8361120192994633,
          0.819924737866425,
          null,
          0.8470769379650049,
          0.8896686895213017,
          null,
          0.8470769379650049,
          0.7563977514631786,
          null,
          0.8470769379650049,
          0.844188833970533,
          null,
          0.8470769379650049,
          0.8036078191378963,
          null,
          0.8470769379650049,
          0.9270715272333923,
          null,
          0.8470769379650049,
          0.7986723022091571,
          null,
          0.8470769379650049,
          0.8704625324831572,
          null,
          0.8470769379650049,
          0.8952471362800304,
          null,
          0.8470769379650049,
          0.8863361311300415,
          null,
          0.8470769379650049,
          0.757304294826838,
          null,
          0.4601175485306277,
          0.45547562181694423,
          null,
          0.4601175485306277,
          0.3917406546151101,
          null,
          0.4601175485306277,
          0.5033414775420749,
          null,
          0.4601175485306277,
          0.5522958370963839,
          null,
          0.4601175485306277,
          0.3931312422151054,
          null,
          0.4601175485306277,
          0.37341828007009625,
          null,
          0.4601175485306277,
          0.39697107358566963,
          null,
          0.4601175485306277,
          0.46526599493988674,
          null,
          0.4601175485306277,
          0.4495034738106741,
          null,
          0.6841831089179644,
          0.6775970806413057,
          null,
          0.6841831089179644,
          0.7563977514631786,
          null,
          0.6841831089179644,
          0.6853152766154812,
          null,
          0.6841831089179644,
          0.7986723022091571,
          null,
          0.6841831089179644,
          0.6535286390276785,
          null,
          0.6841831089179644,
          0.757304294826838,
          null,
          0.6841831089179644,
          0.7053381179296772,
          null,
          0.6841831089179644,
          0.6450375266642114,
          null,
          0.3145161236527879,
          0.3917406546151101,
          null,
          0.3145161236527879,
          0.23346660732822244,
          null,
          0.3145161236527879,
          0.3931312422151054,
          null,
          0.3145161236527879,
          0.37341828007009625,
          null,
          0.3145161236527879,
          0.24092311867936467,
          null,
          0.3145161236527879,
          0.22903258443182317,
          null,
          0.6648197696607414,
          0.6234966969349448,
          null,
          0.6648197696607414,
          0.7144301084171997,
          null,
          0.6648197696607414,
          0.5594314613296788,
          null,
          0.4238078041243618,
          0.4819687564615486,
          null,
          0.4238078041243618,
          0.4097745833180204,
          null,
          0.4238078041243618,
          0.48815342364359215,
          null,
          0.4238078041243618,
          0.3480500750281056,
          null,
          0.4238078041243618,
          0.3539774035904506,
          null,
          0.4238078041243618,
          0.5231466098929667,
          null,
          0.4238078041243618,
          0.3994261863799812,
          null,
          0.4238078041243618,
          0.44294279495184485,
          null,
          0.4238078041243618,
          0.470698752997713,
          null,
          0.4238078041243618,
          0.42829660421189275,
          null,
          0.4238078041243618,
          0.38948469300597144,
          null,
          0.12475681200653588,
          0.1997338728073963,
          null,
          0.12475681200653588,
          0.08822977330489723,
          null,
          0.12475681200653588,
          0.026037187856217447,
          null,
          0.12475681200653588,
          0.16674172214220473,
          null,
          0.12475681200653588,
          0.11066850795436367,
          null,
          0.12475681200653588,
          0.11319083098060145,
          null,
          0.12475681200653588,
          0.10558016229359668,
          null,
          0.12475681200653588,
          0.08629103858344889,
          null,
          0.12475681200653588,
          0.1713826155202096,
          null,
          0.12475681200653588,
          0.2249053797731373,
          null,
          0.12475681200653588,
          0.0441784025675207,
          null,
          0.12475681200653588,
          0.2231623057475437,
          null,
          0.9327231910789899,
          0.9446057976452906,
          null,
          0.9327231910789899,
          0.8704625324831572,
          null,
          0.9327231910789899,
          0.8952471362800304,
          null,
          0.9327231910789899,
          0.8863361311300415,
          null,
          0.45547562181694423,
          0.3917406546151101,
          null,
          0.45547562181694423,
          0.5033414775420749,
          null,
          0.45547562181694423,
          0.5522958370963839,
          null,
          0.45547562181694423,
          0.3931312422151054,
          null,
          0.45547562181694423,
          0.4185929477263849,
          null,
          0.45547562181694423,
          0.39645807714258385,
          null,
          0.45547562181694423,
          0.37341828007009625,
          null,
          0.45547562181694423,
          0.4858435886884319,
          null,
          0.45547562181694423,
          0.39697107358566963,
          null,
          0.45547562181694423,
          0.46526599493988674,
          null,
          0.45547562181694423,
          0.4495034738106741,
          null,
          0.9604812724748278,
          0.8841913193693315,
          null,
          0.9604812724748278,
          0.9941855210497624,
          null,
          0.9604812724748278,
          0.8751352706679553,
          null,
          0.9604812724748278,
          0.9738265431039723,
          null,
          0.9084134466577821,
          0.8841913193693315,
          null,
          0.9084134466577821,
          0.8118219824753672,
          null,
          0.9084134466577821,
          0.8744587045397902,
          null,
          0.9084134466577821,
          0.9151841411948757,
          null,
          0.9084134466577821,
          0.8751352706679553,
          null,
          0.2776877747528832,
          0.24900300564343536,
          null,
          0.2776877747528832,
          0.2989036202721208,
          null,
          0.2776877747528832,
          0.3539774035904506,
          null,
          0.2776877747528832,
          0.3994261863799812,
          null,
          0.2776877747528832,
          0.3365740251606312,
          null,
          0.2776877747528832,
          0.38948469300597144,
          null,
          0.7659544229039292,
          0.7144301084171997,
          null,
          0.7659544229039292,
          0.819924737866425,
          null,
          0.0800719740565643,
          0.13144340074304073,
          null,
          0.0800719740565643,
          0.08540655168903433,
          null,
          0.0800719740565643,
          0.1453331975238622,
          null,
          0.0800719740565643,
          0.17616509271507075,
          null,
          0.0800719740565643,
          0.11629465188948085,
          null,
          0.0800719740565643,
          0.11930353476370481,
          null,
          0.0800719740565643,
          0.10812349969646617,
          null,
          0.23787242323203794,
          0.24730683196405312,
          null,
          0.23787242323203794,
          0.1997338728073963,
          null,
          0.23787242323203794,
          0.3480500750281056,
          null,
          0.23787242323203794,
          0.2413811517695984,
          null,
          0.23787242323203794,
          0.1713826155202096,
          null,
          0.23787242323203794,
          0.2249053797731373,
          null,
          0.23787242323203794,
          0.2572015864288415,
          null,
          0.23787242323203794,
          0.27451055654266976,
          null,
          0.23787242323203794,
          0.2231623057475437,
          null,
          0.06640359543659435,
          0.00363265581048422,
          null,
          0.06640359543659435,
          0.026037187856217447,
          null,
          0.06640359543659435,
          0.02714993559253487,
          null,
          0.06640359543659435,
          0.04178256037840944,
          null,
          0.06640359543659435,
          0.11319083098060145,
          null,
          0.06640359543659435,
          0.03847996808293297,
          null,
          0.06640359543659435,
          0.14650789608741321,
          null,
          0.13144340074304073,
          0.018567946066445407,
          null,
          0.13144340074304073,
          0.209499225276486,
          null,
          0.13144340074304073,
          0.17928333952951736,
          null,
          0.13144340074304073,
          0.17616509271507075,
          null,
          0.13144340074304073,
          0.11629465188948085,
          null,
          0.13144340074304073,
          0.11930353476370481,
          null,
          0.13144340074304073,
          0.10812349969646617,
          null,
          0.13144340074304073,
          0.04485725860602219,
          null,
          0.13144340074304073,
          0.22339046929366757,
          null,
          0.2473856514227295,
          0.3135198783606413,
          null,
          0.2473856514227295,
          0.209499225276486,
          null,
          0.2473856514227295,
          0.17928333952951736,
          null,
          0.2473856514227295,
          0.25552502464851556,
          null,
          0.2473856514227295,
          0.31119619778027297,
          null,
          0.2473856514227295,
          0.29374158658086913,
          null,
          0.2473856514227295,
          0.22339046929366757,
          null,
          0.6234966969349448,
          0.7144301084171997,
          null,
          0.6234966969349448,
          0.5594314613296788,
          null,
          0.6234966969349448,
          0.5231466098929667,
          null,
          0.3917406546151101,
          0.5033414775420749,
          null,
          0.3917406546151101,
          0.3931312422151054,
          null,
          0.3917406546151101,
          0.4185929477263849,
          null,
          0.3917406546151101,
          0.39645807714258385,
          null,
          0.3917406546151101,
          0.37341828007009625,
          null,
          0.3917406546151101,
          0.4858435886884319,
          null,
          0.3917406546151101,
          0.39697107358566963,
          null,
          0.3917406546151101,
          0.46526599493988674,
          null,
          0.3917406546151101,
          0.4495034738106741,
          null,
          0.8039373911478315,
          0.7853201132712541,
          null,
          0.8039373911478315,
          0.8731619813340218,
          null,
          0.8039373911478315,
          0.7993727947314647,
          null,
          0.8039373911478315,
          0.8872885664778845,
          null,
          0.8039373911478315,
          0.7587331191245216,
          null,
          0.8039373911478315,
          0.8485595219137635,
          null,
          0.8039373911478315,
          0.7830169469992393,
          null,
          0.8039373911478315,
          0.8084141265757,
          null,
          0.8039373911478315,
          0.7558820517693752,
          null,
          0.8039373911478315,
          0.7700956747118586,
          null,
          0.8039373911478315,
          0.6828895451121558,
          null,
          0.08101089785083104,
          0.1494628489548241,
          null,
          0.08101089785083104,
          0.12809239494538394,
          null,
          0.08101089785083104,
          0.006374070791069997,
          null,
          0.08101089785083104,
          0.1453331975238622,
          null,
          0.08101089785083104,
          0.04959289940515954,
          null,
          0.08101089785083104,
          0.039766458351152,
          null,
          0.08101089785083104,
          0.19698081200951034,
          null,
          0.08101089785083104,
          0.0945023940984141,
          null,
          0.08101089785083104,
          0.07115390405194,
          null,
          0.08101089785083104,
          0.1480280242534947,
          null,
          0.4819687564615486,
          0.48815342364359215,
          null,
          0.4819687564615486,
          0.5248867499321308,
          null,
          0.4819687564615486,
          0.5594314613296788,
          null,
          0.4819687564615486,
          0.40489051893069805,
          null,
          0.4819687564615486,
          0.5764498335203967,
          null,
          0.4819687564615486,
          0.5231466098929667,
          null,
          0.4819687564615486,
          0.3994261863799812,
          null,
          0.4819687564615486,
          0.44294279495184485,
          null,
          0.4819687564615486,
          0.470698752997713,
          null,
          0.4819687564615486,
          0.38948469300597144,
          null,
          0.8896686895213017,
          0.844188833970533,
          null,
          0.8896686895213017,
          0.8036078191378963,
          null,
          0.8896686895213017,
          0.9270715272333923,
          null,
          0.8896686895213017,
          0.7986723022091571,
          null,
          0.8896686895213017,
          0.8742860942062438,
          null,
          0.8896686895213017,
          0.965114412030404,
          null,
          0.8896686895213017,
          0.8952471362800304,
          null,
          0.5301711818574536,
          0.44695596351543176,
          null,
          0.5301711818574536,
          0.49303880145352563,
          null,
          0.5301711818574536,
          0.6292310183613842,
          null,
          0.5301711818574536,
          0.49829664584347055,
          null,
          0.1494628489548241,
          0.23346660732822244,
          null,
          0.1494628489548241,
          0.12809239494538394,
          null,
          0.1494628489548241,
          0.19698081200951034,
          null,
          0.1494628489548241,
          0.24092311867936467,
          null,
          0.1494628489548241,
          0.22903258443182317,
          null,
          0.1494628489548241,
          0.07115390405194,
          null,
          0.1494628489548241,
          0.1480280242534947,
          null,
          0.27859945301421307,
          0.209499225276486,
          null,
          0.27859945301421307,
          0.17928333952951736,
          null,
          0.27859945301421307,
          0.17616509271507075,
          null,
          0.27859945301421307,
          0.32225279980916766,
          null,
          0.27859945301421307,
          0.2612226899903637,
          null,
          0.27859945301421307,
          0.33307583880682046,
          null,
          0.27859945301421307,
          0.22339046929366757,
          null,
          0.27859945301421307,
          0.23524915374159827,
          null,
          0.27859945301421307,
          0.37474479380417514,
          null,
          0.27859945301421307,
          0.2993126846843954,
          null,
          0.3685604342866926,
          0.24730683196405312,
          null,
          0.3685604342866926,
          0.4097745833180204,
          null,
          0.3685604342866926,
          0.3525634510904576,
          null,
          0.3685604342866926,
          0.3480500750281056,
          null,
          0.3685604342866926,
          0.4167343310208186,
          null,
          0.3685604342866926,
          0.2572015864288415,
          null,
          0.3685604342866926,
          0.42829660421189275,
          null,
          0.3685604342866926,
          0.27451055654266976,
          null,
          0.8081718124283722,
          0.844188833970533,
          null,
          0.8081718124283722,
          0.7578801713077359,
          null,
          0.8081718124283722,
          0.8742860942062438,
          null,
          0.8081718124283722,
          0.8118219824753672,
          null,
          0.8081718124283722,
          0.7723310220259456,
          null,
          0.8081718124283722,
          0.8744587045397902,
          null,
          0.8081718124283722,
          0.759920078715474,
          null,
          0.6775970806413057,
          0.7563977514631786,
          null,
          0.6775970806413057,
          0.6853152766154812,
          null,
          0.6775970806413057,
          0.77518992856732,
          null,
          0.6775970806413057,
          0.6897053304783772,
          null,
          0.6775970806413057,
          0.6535286390276785,
          null,
          0.6775970806413057,
          0.5827809435499245,
          null,
          0.6775970806413057,
          0.5833814370096186,
          null,
          0.6775970806413057,
          0.6450375266642114,
          null,
          0.6775970806413057,
          0.6788678000046563,
          null,
          0.0324507204623532,
          0.07674581227044541,
          null,
          0.0324507204623532,
          0.018567946066445407,
          null,
          0.0324507204623532,
          0.03614151704688473,
          null,
          0.0324507204623532,
          0.04485725860602219,
          null,
          0.0324507204623532,
          0.08537925955955172,
          null,
          0.7563977514631786,
          0.8036078191378963,
          null,
          0.7563977514631786,
          0.6853152766154812,
          null,
          0.7563977514631786,
          0.7986723022091571,
          null,
          0.7563977514631786,
          0.77518992856732,
          null,
          0.7563977514631786,
          0.6535286390276785,
          null,
          0.7563977514631786,
          0.757304294826838,
          null,
          0.7563977514631786,
          0.7053381179296772,
          null,
          0.9446057976452906,
          0.8704625324831572,
          null,
          0.9446057976452906,
          0.8952471362800304,
          null,
          0.9446057976452906,
          0.8863361311300415,
          null,
          0.23346660732822244,
          0.12809239494538394,
          null,
          0.23346660732822244,
          0.23669422279350671,
          null,
          0.23346660732822244,
          0.19698081200951034,
          null,
          0.23346660732822244,
          0.24092311867936467,
          null,
          0.23346660732822244,
          0.22903258443182317,
          null,
          0.23346660732822244,
          0.1480280242534947,
          null,
          0.3135198783606413,
          0.3831925083323746,
          null,
          0.3135198783606413,
          0.3525634510904576,
          null,
          0.3135198783606413,
          0.25552502464851556,
          null,
          0.3135198783606413,
          0.31119619778027297,
          null,
          0.3135198783606413,
          0.29374158658086913,
          null,
          0.3135198783606413,
          0.27451055654266976,
          null,
          0.3135198783606413,
          0.4002134681203505,
          null,
          0.6351672175820408,
          0.7578801713077359,
          null,
          0.6351672175820408,
          0.6506362491280013,
          null,
          0.6351672175820408,
          0.6292310183613842,
          null,
          0.6351672175820408,
          0.6389554682681308,
          null,
          0.5033414775420749,
          0.5522958370963839,
          null,
          0.5033414775420749,
          0.3931312422151054,
          null,
          0.5033414775420749,
          0.4185929477263849,
          null,
          0.5033414775420749,
          0.4858435886884319,
          null,
          0.5033414775420749,
          0.39697107358566963,
          null,
          0.5033414775420749,
          0.46526599493988674,
          null,
          0.5033414775420749,
          0.4495034738106741,
          null,
          0.07674581227044541,
          0.018567946066445407,
          null,
          0.07674581227044541,
          0.08822977330489723,
          null,
          0.07674581227044541,
          0.03614151704688473,
          null,
          0.07674581227044541,
          0.14513076923878643,
          null,
          0.07674581227044541,
          0.10558016229359668,
          null,
          0.07674581227044541,
          0.04485725860602219,
          null,
          0.07674581227044541,
          0.10676055042291932,
          null,
          0.07674581227044541,
          0.08537925955955172,
          null,
          0.7853201132712541,
          0.8731619813340218,
          null,
          0.7853201132712541,
          0.7993727947314647,
          null,
          0.7853201132712541,
          0.8872885664778845,
          null,
          0.7853201132712541,
          0.7587331191245216,
          null,
          0.7853201132712541,
          0.8485595219137635,
          null,
          0.7853201132712541,
          0.7830169469992393,
          null,
          0.7853201132712541,
          0.8084141265757,
          null,
          0.7853201132712541,
          0.7558820517693752,
          null,
          0.7853201132712541,
          0.7700956747118586,
          null,
          0.7853201132712541,
          0.6828895451121558,
          null,
          0.8621843142506627,
          0.7993727947314647,
          null,
          0.8621843142506627,
          0.8872885664778845,
          null,
          0.8621843142506627,
          0.8975145107113129,
          null,
          0.8621843142506627,
          0.8485595219137635,
          null,
          0.8621843142506627,
          0.9232469234301702,
          null,
          0.8621843142506627,
          0.7830169469992393,
          null,
          0.8621843142506627,
          0.8084141265757,
          null,
          0.24730683196405312,
          0.1997338728073963,
          null,
          0.24730683196405312,
          0.3480500750281056,
          null,
          0.24730683196405312,
          0.2413811517695984,
          null,
          0.24730683196405312,
          0.233413018069215,
          null,
          0.24730683196405312,
          0.1713826155202096,
          null,
          0.24730683196405312,
          0.2249053797731373,
          null,
          0.24730683196405312,
          0.2572015864288415,
          null,
          0.24730683196405312,
          0.27451055654266976,
          null,
          0.24730683196405312,
          0.2231623057475437,
          null,
          0.43188059698148373,
          0.3831925083323746,
          null,
          0.43188059698148373,
          0.4029757154075636,
          null,
          0.43188059698148373,
          0.37474479380417514,
          null,
          0.43188059698148373,
          0.47916689675092905,
          null,
          0.1997338728073963,
          0.16674172214220473,
          null,
          0.1997338728073963,
          0.11066850795436367,
          null,
          0.1997338728073963,
          0.2413811517695984,
          null,
          0.1997338728073963,
          0.11319083098060145,
          null,
          0.1997338728073963,
          0.233413018069215,
          null,
          0.1997338728073963,
          0.08629103858344889,
          null,
          0.1997338728073963,
          0.1713826155202096,
          null,
          0.1997338728073963,
          0.2249053797731373,
          null,
          0.1997338728073963,
          0.2572015864288415,
          null,
          0.1997338728073963,
          0.27451055654266976,
          null,
          0.1997338728073963,
          0.2231623057475437,
          null,
          0.5658986404836176,
          0.49300838127228486,
          null,
          0.5658986404836176,
          0.5453990146503785,
          null,
          0.5658986404836176,
          0.5833814370096186,
          null,
          0.5658986404836176,
          0.6788678000046563,
          null,
          0.5658986404836176,
          0.47916689675092905,
          null,
          0.00363265581048422,
          0.026037187856217447,
          null,
          0.00363265581048422,
          0.02714993559253487,
          null,
          0.00363265581048422,
          0.04178256037840944,
          null,
          0.00363265581048422,
          0.03847996808293297,
          null,
          0.3831925083323746,
          0.44695596351543176,
          null,
          0.3831925083323746,
          0.31119619778027297,
          null,
          0.3831925083323746,
          0.29374158658086913,
          null,
          0.3831925083323746,
          0.37474479380417514,
          null,
          0.3831925083323746,
          0.4002134681203505,
          null,
          0.4097745833180204,
          0.3480500750281056,
          null,
          0.4097745833180204,
          0.4167343310208186,
          null,
          0.4097745833180204,
          0.42829660421189275,
          null,
          0.48815342364359215,
          0.5248867499321308,
          null,
          0.48815342364359215,
          0.5594314613296788,
          null,
          0.48815342364359215,
          0.5231466098929667,
          null,
          0.48815342364359215,
          0.3994261863799812,
          null,
          0.48815342364359215,
          0.44294279495184485,
          null,
          0.48815342364359215,
          0.470698752997713,
          null,
          0.48815342364359215,
          0.42829660421189275,
          null,
          0.48815342364359215,
          0.38948469300597144,
          null,
          0.018567946066445407,
          0.03614151704688473,
          null,
          0.018567946066445407,
          0.11930353476370481,
          null,
          0.018567946066445407,
          0.04485725860602219,
          null,
          0.018567946066445407,
          0.08537925955955172,
          null,
          0.08540655168903433,
          0.1453331975238622,
          null,
          0.08540655168903433,
          0.17616509271507075,
          null,
          0.08540655168903433,
          0.11629465188948085,
          null,
          0.08540655168903433,
          0.11930353476370481,
          null,
          0.08540655168903433,
          0.10812349969646617,
          null,
          0.08540655168903433,
          0.0945023940984141,
          null,
          0.3525634510904576,
          0.44695596351543176,
          null,
          0.3525634510904576,
          0.3480500750281056,
          null,
          0.3525634510904576,
          0.4167343310208186,
          null,
          0.3525634510904576,
          0.31119619778027297,
          null,
          0.3525634510904576,
          0.2572015864288415,
          null,
          0.3525634510904576,
          0.29374158658086913,
          null,
          0.3525634510904576,
          0.27451055654266976,
          null,
          0.3525634510904576,
          0.4002134681203505,
          null,
          0.08822977330489723,
          0.01864170819630029,
          null,
          0.08822977330489723,
          0.03614151704688473,
          null,
          0.08822977330489723,
          0.14513076923878643,
          null,
          0.08822977330489723,
          0.11066850795436367,
          null,
          0.08822977330489723,
          0.10558016229359668,
          null,
          0.08822977330489723,
          0.08629103858344889,
          null,
          0.08822977330489723,
          0.1713826155202096,
          null,
          0.08822977330489723,
          0.0441784025675207,
          null,
          0.08822977330489723,
          0.10676055042291932,
          null,
          0.08822977330489723,
          0.08537925955955172,
          null,
          0.209499225276486,
          0.17928333952951736,
          null,
          0.209499225276486,
          0.17616509271507075,
          null,
          0.209499225276486,
          0.11629465188948085,
          null,
          0.209499225276486,
          0.32225279980916766,
          null,
          0.209499225276486,
          0.2612226899903637,
          null,
          0.209499225276486,
          0.11930353476370481,
          null,
          0.209499225276486,
          0.10812349969646617,
          null,
          0.209499225276486,
          0.22339046929366757,
          null,
          0.209499225276486,
          0.23524915374159827,
          null,
          0.5248867499321308,
          0.5594314613296788,
          null,
          0.5248867499321308,
          0.5764498335203967,
          null,
          0.5248867499321308,
          0.5231466098929667,
          null,
          0.5248867499321308,
          0.44294279495184485,
          null,
          0.5248867499321308,
          0.470698752997713,
          null,
          0.6407116614861088,
          0.7043986455890053,
          null,
          0.6407116614861088,
          0.6668025589745343,
          null,
          0.6407116614861088,
          0.7002349679122277,
          null,
          0.6407116614861088,
          0.6828895451121558,
          null,
          0.12809239494538394,
          0.1453331975238622,
          null,
          0.12809239494538394,
          0.04959289940515954,
          null,
          0.12809239494538394,
          0.039766458351152,
          null,
          0.12809239494538394,
          0.19698081200951034,
          null,
          0.12809239494538394,
          0.0945023940984141,
          null,
          0.12809239494538394,
          0.24092311867936467,
          null,
          0.12809239494538394,
          0.07115390405194,
          null,
          0.12809239494538394,
          0.1480280242534947,
          null,
          0.844188833970533,
          0.7578801713077359,
          null,
          0.844188833970533,
          0.8036078191378963,
          null,
          0.844188833970533,
          0.9270715272333923,
          null,
          0.844188833970533,
          0.7986723022091571,
          null,
          0.844188833970533,
          0.8742860942062438,
          null,
          0.844188833970533,
          0.7723310220259456,
          null,
          0.844188833970533,
          0.757304294826838,
          null,
          0.844188833970533,
          0.759920078715474,
          null,
          0.8731619813340218,
          0.7993727947314647,
          null,
          0.8731619813340218,
          0.8872885664778845,
          null,
          0.8731619813340218,
          0.7587331191245216,
          null,
          0.8731619813340218,
          0.8485595219137635,
          null,
          0.8731619813340218,
          0.9232469234301702,
          null,
          0.8731619813340218,
          0.7830169469992393,
          null,
          0.8731619813340218,
          0.8084141265757,
          null,
          0.8731619813340218,
          0.7700956747118586,
          null,
          0.7578801713077359,
          0.8036078191378963,
          null,
          0.7578801713077359,
          0.8742860942062438,
          null,
          0.7578801713077359,
          0.8118219824753672,
          null,
          0.7578801713077359,
          0.7723310220259456,
          null,
          0.7578801713077359,
          0.6389554682681308,
          null,
          0.7578801713077359,
          0.757304294826838,
          null,
          0.7578801713077359,
          0.759920078715474,
          null,
          0.7578801713077359,
          0.7053381179296772,
          null,
          0.7993727947314647,
          0.8872885664778845,
          null,
          0.7993727947314647,
          0.7587331191245216,
          null,
          0.7993727947314647,
          0.8975145107113129,
          null,
          0.7993727947314647,
          0.8485595219137635,
          null,
          0.7993727947314647,
          0.7830169469992393,
          null,
          0.7993727947314647,
          0.8084141265757,
          null,
          0.7993727947314647,
          0.7558820517693752,
          null,
          0.7993727947314647,
          0.7700956747118586,
          null,
          0.17928333952951736,
          0.17616509271507075,
          null,
          0.17928333952951736,
          0.11629465188948085,
          null,
          0.17928333952951736,
          0.11930353476370481,
          null,
          0.17928333952951736,
          0.22339046929366757,
          null,
          0.17928333952951736,
          0.23524915374159827,
          null,
          0.01864170819630029,
          0.03614151704688473,
          null,
          0.01864170819630029,
          0.10558016229359668,
          null,
          0.01864170819630029,
          0.08629103858344889,
          null,
          0.01864170819630029,
          0.0441784025675207,
          null,
          0.01864170819630029,
          0.10676055042291932,
          null,
          0.8036078191378963,
          0.9270715272333923,
          null,
          0.8036078191378963,
          0.7986723022091571,
          null,
          0.8036078191378963,
          0.7723310220259456,
          null,
          0.8036078191378963,
          0.757304294826838,
          null,
          0.8036078191378963,
          0.759920078715474,
          null,
          0.8036078191378963,
          0.7053381179296772,
          null,
          0.5522958370963839,
          0.46526599493988674,
          null,
          0.5522958370963839,
          0.4495034738106741,
          null,
          0.5522958370963839,
          0.6213622104187693,
          null,
          0.8091289742818839,
          0.7043986455890053,
          null,
          0.8091289742818839,
          0.7312323132884943,
          null,
          0.8091289742818839,
          0.77518992856732,
          null,
          0.8091289742818839,
          0.6897053304783772,
          null,
          0.8091289742818839,
          0.7002349679122277,
          null,
          0.8091289742818839,
          0.8704625324831572,
          null,
          0.8091289742818839,
          0.8863361311300415,
          null,
          0.026037187856217447,
          0.11066850795436367,
          null,
          0.026037187856217447,
          0.04178256037840944,
          null,
          0.026037187856217447,
          0.11319083098060145,
          null,
          0.026037187856217447,
          0.03847996808293297,
          null,
          0.44695596351543176,
          0.4167343310208186,
          null,
          0.44695596351543176,
          0.49303880145352563,
          null,
          0.44695596351543176,
          0.49829664584347055,
          null,
          0.44695596351543176,
          0.4002134681203505,
          null,
          0.03614151704688473,
          0.14513076923878643,
          null,
          0.03614151704688473,
          0.10558016229359668,
          null,
          0.03614151704688473,
          0.04485725860602219,
          null,
          0.03614151704688473,
          0.10676055042291932,
          null,
          0.03614151704688473,
          0.08537925955955172,
          null,
          0.8841913193693315,
          0.9151841411948757,
          null,
          0.8841913193693315,
          0.8751352706679553,
          null,
          0.8872885664778845,
          0.8975145107113129,
          null,
          0.8872885664778845,
          0.8485595219137635,
          null,
          0.8872885664778845,
          0.9232469234301702,
          null,
          0.8872885664778845,
          0.7830169469992393,
          null,
          0.8872885664778845,
          0.8084141265757,
          null,
          0.8872885664778845,
          0.7700956747118586,
          null,
          0.006374070791069997,
          0.04959289940515954,
          null,
          0.006374070791069997,
          0.039766458351152,
          null,
          0.006374070791069997,
          0.07115390405194,
          null,
          0.5594314613296788,
          0.5764498335203967,
          null,
          0.5594314613296788,
          0.5231466098929667,
          null,
          0.5594314613296788,
          0.470698752997713,
          null,
          0.16674172214220473,
          0.24900300564343536,
          null,
          0.16674172214220473,
          0.11066850795436367,
          null,
          0.16674172214220473,
          0.11319083098060145,
          null,
          0.16674172214220473,
          0.233413018069215,
          null,
          0.16674172214220473,
          0.2249053797731373,
          null,
          0.16674172214220473,
          0.14650789608741321,
          null,
          0.49300838127228486,
          0.4185929477263849,
          null,
          0.49300838127228486,
          0.4029757154075636,
          null,
          0.49300838127228486,
          0.5453990146503785,
          null,
          0.49300838127228486,
          0.4858435886884319,
          null,
          0.49300838127228486,
          0.4201631237201553,
          null,
          0.49300838127228486,
          0.47916689675092905,
          null,
          0.24900300564343536,
          0.2989036202721208,
          null,
          0.24900300564343536,
          0.3539774035904506,
          null,
          0.24900300564343536,
          0.233413018069215,
          null,
          0.24900300564343536,
          0.2249053797731373,
          null,
          0.24900300564343536,
          0.14650789608741321,
          null,
          0.9270715272333923,
          0.965114412030404,
          null,
          0.9270715272333923,
          0.8952471362800304,
          null,
          0.6853152766154812,
          0.7986723022091571,
          null,
          0.6853152766154812,
          0.6535286390276785,
          null,
          0.6853152766154812,
          0.757304294826838,
          null,
          0.6853152766154812,
          0.7053381179296772,
          null,
          0.6853152766154812,
          0.6450375266642114,
          null,
          0.02714993559253487,
          0.03847996808293297,
          null,
          0.25552502464851556,
          0.14513076923878643,
          null,
          0.25552502464851556,
          0.31119619778027297,
          null,
          0.25552502464851556,
          0.29374158658086913,
          null,
          0.7986723022091571,
          0.7723310220259456,
          null,
          0.7986723022091571,
          0.8952471362800304,
          null,
          0.7986723022091571,
          0.757304294826838,
          null,
          0.7986723022091571,
          0.7053381179296772,
          null,
          0.8742860942062438,
          0.8118219824753672,
          null,
          0.8742860942062438,
          0.7723310220259456,
          null,
          0.8742860942062438,
          0.8744587045397902,
          null,
          0.8742860942062438,
          0.759920078715474,
          null,
          0.3931312422151054,
          0.4185929477263849,
          null,
          0.3931312422151054,
          0.39645807714258385,
          null,
          0.3931312422151054,
          0.37341828007009625,
          null,
          0.3931312422151054,
          0.39697107358566963,
          null,
          0.3931312422151054,
          0.46526599493988674,
          null,
          0.3931312422151054,
          0.4495034738106741,
          null,
          0.1453331975238622,
          0.17616509271507075,
          null,
          0.1453331975238622,
          0.11629465188948085,
          null,
          0.1453331975238622,
          0.23669422279350671,
          null,
          0.1453331975238622,
          0.039766458351152,
          null,
          0.1453331975238622,
          0.10812349969646617,
          null,
          0.1453331975238622,
          0.19698081200951034,
          null,
          0.1453331975238622,
          0.0945023940984141,
          null,
          0.1453331975238622,
          0.23524915374159827,
          null,
          0.7043986455890053,
          0.7312323132884943,
          null,
          0.7043986455890053,
          0.6668025589745343,
          null,
          0.7043986455890053,
          0.6897053304783772,
          null,
          0.7043986455890053,
          0.7002349679122277,
          null,
          0.7043986455890053,
          0.7700956747118586,
          null,
          0.7043986455890053,
          0.6788678000046563,
          null,
          0.17616509271507075,
          0.11629465188948085,
          null,
          0.17616509271507075,
          0.2612226899903637,
          null,
          0.17616509271507075,
          0.11930353476370481,
          null,
          0.17616509271507075,
          0.10812349969646617,
          null,
          0.17616509271507075,
          0.22339046929366757,
          null,
          0.17616509271507075,
          0.23524915374159827,
          null,
          0.3480500750281056,
          0.2989036202721208,
          null,
          0.3480500750281056,
          0.3539774035904506,
          null,
          0.3480500750281056,
          0.2413811517695984,
          null,
          0.3480500750281056,
          0.2572015864288415,
          null,
          0.3480500750281056,
          0.42829660421189275,
          null,
          0.3480500750281056,
          0.27451055654266976,
          null,
          0.2989036202721208,
          0.3539774035904506,
          null,
          0.2989036202721208,
          0.233413018069215,
          null,
          0.2989036202721208,
          0.2249053797731373,
          null,
          0.7312323132884943,
          0.77518992856732,
          null,
          0.7312323132884943,
          0.6668025589745343,
          null,
          0.7312323132884943,
          0.6897053304783772,
          null,
          0.7312323132884943,
          0.7002349679122277,
          null,
          0.7312323132884943,
          0.7700956747118586,
          null,
          0.7312323132884943,
          0.6788678000046563,
          null,
          0.4167343310208186,
          0.49303880145352563,
          null,
          0.4167343310208186,
          0.49829664584347055,
          null,
          0.4167343310208186,
          0.4002134681203505,
          null,
          0.7587331191245216,
          0.8485595219137635,
          null,
          0.7587331191245216,
          0.7830169469992393,
          null,
          0.7587331191245216,
          0.8084141265757,
          null,
          0.7587331191245216,
          0.7558820517693752,
          null,
          0.7587331191245216,
          0.7700956747118586,
          null,
          0.7587331191245216,
          0.6828895451121558,
          null,
          0.11629465188948085,
          0.11930353476370481,
          null,
          0.11629465188948085,
          0.10812349969646617,
          null,
          0.11629465188948085,
          0.0945023940984141,
          null,
          0.11629465188948085,
          0.22339046929366757,
          null,
          0.11629465188948085,
          0.23524915374159827,
          null,
          0.49303880145352563,
          0.49829664584347055,
          null,
          0.49303880145352563,
          0.4002134681203505,
          null,
          0.23669422279350671,
          0.2612226899903637,
          null,
          0.23669422279350671,
          0.19698081200951034,
          null,
          0.23669422279350671,
          0.33307583880682046,
          null,
          0.23669422279350671,
          0.24092311867936467,
          null,
          0.23669422279350671,
          0.23524915374159827,
          null,
          0.23669422279350671,
          0.2993126846843954,
          null,
          0.3539774035904506,
          0.3994261863799812,
          null,
          0.3539774035904506,
          0.233413018069215,
          null,
          0.3539774035904506,
          0.470698752997713,
          null,
          0.3539774035904506,
          0.42829660421189275,
          null,
          0.3539774035904506,
          0.38948469300597144,
          null,
          0.40489051893069805,
          0.3994261863799812,
          null,
          0.40489051893069805,
          0.44294279495184485,
          null,
          0.40489051893069805,
          0.3365740251606312,
          null,
          0.40489051893069805,
          0.38948469300597144,
          null,
          0.4185929477263849,
          0.39645807714258385,
          null,
          0.4185929477263849,
          0.37341828007009625,
          null,
          0.4185929477263849,
          0.4858435886884319,
          null,
          0.4185929477263849,
          0.33307583880682046,
          null,
          0.4185929477263849,
          0.39697107358566963,
          null,
          0.4185929477263849,
          0.46526599493988674,
          null,
          0.8975145107113129,
          0.8485595219137635,
          null,
          0.8975145107113129,
          0.9232469234301702,
          null,
          0.8975145107113129,
          0.7830169469992393,
          null,
          0.14513076923878643,
          0.10558016229359668,
          null,
          0.14513076923878643,
          0.1713826155202096,
          null,
          0.14513076923878643,
          0.10676055042291932,
          null,
          0.14513076923878643,
          0.08537925955955172,
          null,
          0.4029757154075636,
          0.32225279980916766,
          null,
          0.4029757154075636,
          0.37474479380417514,
          null,
          0.4029757154075636,
          0.4201631237201553,
          null,
          0.4029757154075636,
          0.47916689675092905,
          null,
          0.11066850795436367,
          0.11319083098060145,
          null,
          0.11066850795436367,
          0.10558016229359668,
          null,
          0.11066850795436367,
          0.08629103858344889,
          null,
          0.11066850795436367,
          0.1713826155202096,
          null,
          0.11066850795436367,
          0.2249053797731373,
          null,
          0.11066850795436367,
          0.0441784025675207,
          null,
          0.11066850795436367,
          0.2231623057475437,
          null,
          0.32225279980916766,
          0.2612226899903637,
          null,
          0.32225279980916766,
          0.33307583880682046,
          null,
          0.32225279980916766,
          0.22339046929366757,
          null,
          0.32225279980916766,
          0.23524915374159827,
          null,
          0.32225279980916766,
          0.37474479380417514,
          null,
          0.32225279980916766,
          0.4201631237201553,
          null,
          0.32225279980916766,
          0.2993126846843954,
          null,
          0.5764498335203967,
          0.5231466098929667,
          null,
          0.77518992856732,
          0.6897053304783772,
          null,
          0.77518992856732,
          0.8704625324831572,
          null,
          0.77518992856732,
          0.8863361311300415,
          null,
          0.77518992856732,
          0.6788678000046563,
          null,
          0.5231466098929667,
          0.44294279495184485,
          null,
          0.5231466098929667,
          0.470698752997713,
          null,
          0.5231466098929667,
          0.42829660421189275,
          null,
          0.2413811517695984,
          0.1713826155202096,
          null,
          0.2413811517695984,
          0.2249053797731373,
          null,
          0.2413811517695984,
          0.2572015864288415,
          null,
          0.2413811517695984,
          0.27451055654266976,
          null,
          0.2413811517695984,
          0.2231623057475437,
          null,
          0.6668025589745343,
          0.7002349679122277,
          null,
          0.6668025589745343,
          0.7700956747118586,
          null,
          0.6668025589745343,
          0.6828895451121558,
          null,
          0.6668025589745343,
          0.6788678000046563,
          null,
          0.5453990146503785,
          0.4858435886884319,
          null,
          0.5453990146503785,
          0.47916689675092905,
          null,
          0.39645807714258385,
          0.37341828007009625,
          null,
          0.39645807714258385,
          0.4858435886884319,
          null,
          0.39645807714258385,
          0.33307583880682046,
          null,
          0.39645807714258385,
          0.39697107358566963,
          null,
          0.39645807714258385,
          0.46526599493988674,
          null,
          0.04178256037840944,
          0.11319083098060145,
          null,
          0.04178256037840944,
          0.03847996808293297,
          null,
          0.04178256037840944,
          0.14650789608741321,
          null,
          0.11319083098060145,
          0.233413018069215,
          null,
          0.11319083098060145,
          0.2249053797731373,
          null,
          0.11319083098060145,
          0.03847996808293297,
          null,
          0.11319083098060145,
          0.14650789608741321,
          null,
          0.04959289940515954,
          0.039766458351152,
          null,
          0.04959289940515954,
          0.0945023940984141,
          null,
          0.04959289940515954,
          0.07115390405194,
          null,
          0.10558016229359668,
          0.08629103858344889,
          null,
          0.10558016229359668,
          0.1713826155202096,
          null,
          0.10558016229359668,
          0.0441784025675207,
          null,
          0.10558016229359668,
          0.10676055042291932,
          null,
          0.10558016229359668,
          0.08537925955955172,
          null,
          0.039766458351152,
          0.0945023940984141,
          null,
          0.039766458351152,
          0.07115390405194,
          null,
          0.9941855210497624,
          0.9738265431039723,
          null,
          0.3994261863799812,
          0.44294279495184485,
          null,
          0.3994261863799812,
          0.3365740251606312,
          null,
          0.3994261863799812,
          0.470698752997713,
          null,
          0.3994261863799812,
          0.38948469300597144,
          null,
          0.8485595219137635,
          0.9232469234301702,
          null,
          0.8485595219137635,
          0.7830169469992393,
          null,
          0.8485595219137635,
          0.8084141265757,
          null,
          0.8485595219137635,
          0.7558820517693752,
          null,
          0.8485595219137635,
          0.7700956747118586,
          null,
          0.2612226899903637,
          0.33307583880682046,
          null,
          0.2612226899903637,
          0.22339046929366757,
          null,
          0.2612226899903637,
          0.23524915374159827,
          null,
          0.2612226899903637,
          0.2993126846843954,
          null,
          0.9232469234301702,
          0.8084141265757,
          null,
          0.233413018069215,
          0.2249053797731373,
          null,
          0.233413018069215,
          0.14650789608741321,
          null,
          0.233413018069215,
          0.2231623057475437,
          null,
          0.08629103858344889,
          0.1713826155202096,
          null,
          0.08629103858344889,
          0.0441784025675207,
          null,
          0.08629103858344889,
          0.10676055042291932,
          null,
          0.6897053304783772,
          0.7002349679122277,
          null,
          0.6897053304783772,
          0.6535286390276785,
          null,
          0.6897053304783772,
          0.5833814370096186,
          null,
          0.6897053304783772,
          0.6450375266642114,
          null,
          0.6897053304783772,
          0.6788678000046563,
          null,
          0.7002349679122277,
          0.6788678000046563,
          null,
          0.37341828007009625,
          0.39697107358566963,
          null,
          0.37341828007009625,
          0.46526599493988674,
          null,
          0.37341828007009625,
          0.4495034738106741,
          null,
          0.6506362491280013,
          0.6292310183613842,
          null,
          0.6506362491280013,
          0.6389554682681308,
          null,
          0.6535286390276785,
          0.5827809435499245,
          null,
          0.6535286390276785,
          0.5833814370096186,
          null,
          0.6535286390276785,
          0.6450375266642114,
          null,
          0.11930353476370481,
          0.10812349969646617,
          null,
          0.11930353476370481,
          0.04485725860602219,
          null,
          0.11930353476370481,
          0.22339046929366757,
          null,
          0.44294279495184485,
          0.3365740251606312,
          null,
          0.44294279495184485,
          0.470698752997713,
          null,
          0.44294279495184485,
          0.38948469300597144,
          null,
          0.1713826155202096,
          0.2572015864288415,
          null,
          0.1713826155202096,
          0.27451055654266976,
          null,
          0.1713826155202096,
          0.10676055042291932,
          null,
          0.1713826155202096,
          0.2231623057475437,
          null,
          0.5827809435499245,
          0.5833814370096186,
          null,
          0.5827809435499245,
          0.6450375266642114,
          null,
          0.5827809435499245,
          0.47916689675092905,
          null,
          0.10812349969646617,
          0.0945023940984141,
          null,
          0.04485725860602219,
          0.08537925955955172,
          null,
          0.7830169469992393,
          0.8084141265757,
          null,
          0.7830169469992393,
          0.7558820517693752,
          null,
          0.7830169469992393,
          0.7700956747118586,
          null,
          0.7830169469992393,
          0.6828895451121558,
          null,
          0.8084141265757,
          0.7558820517693752,
          null,
          0.8084141265757,
          0.7700956747118586,
          null,
          0.19698081200951034,
          0.0945023940984141,
          null,
          0.19698081200951034,
          0.24092311867936467,
          null,
          0.19698081200951034,
          0.22903258443182317,
          null,
          0.19698081200951034,
          0.1480280242534947,
          null,
          0.2249053797731373,
          0.2572015864288415,
          null,
          0.2249053797731373,
          0.2231623057475437,
          null,
          0.8118219824753672,
          0.8744587045397902,
          null,
          0.8118219824753672,
          0.9151841411948757,
          null,
          0.8118219824753672,
          0.8751352706679553,
          null,
          0.8118219824753672,
          0.759920078715474,
          null,
          0.4858435886884319,
          0.39697107358566963,
          null,
          0.4858435886884319,
          0.46526599493988674,
          null,
          0.7723310220259456,
          0.757304294826838,
          null,
          0.7723310220259456,
          0.759920078715474,
          null,
          0.7723310220259456,
          0.7053381179296772,
          null,
          0.8744587045397902,
          0.9151841411948757,
          null,
          0.31119619778027297,
          0.29374158658086913,
          null,
          0.31119619778027297,
          0.4002134681203505,
          null,
          0.8704625324831572,
          0.8952471362800304,
          null,
          0.8704625324831572,
          0.8863361311300415,
          null,
          0.3365740251606312,
          0.38948469300597144,
          null,
          0.33307583880682046,
          0.39697107358566963,
          null,
          0.33307583880682046,
          0.23524915374159827,
          null,
          0.33307583880682046,
          0.4201631237201553,
          null,
          0.33307583880682046,
          0.2993126846843954,
          null,
          0.0945023940984141,
          0.07115390405194,
          null,
          0.9151841411948757,
          0.8751352706679553,
          null,
          0.24092311867936467,
          0.22903258443182317,
          null,
          0.470698752997713,
          0.42829660421189275,
          null,
          0.470698752997713,
          0.38948469300597144,
          null,
          0.2572015864288415,
          0.27451055654266976,
          null,
          0.2572015864288415,
          0.2231623057475437,
          null,
          0.03847996808293297,
          0.14650789608741321,
          null,
          0.5833814370096186,
          0.6450375266642114,
          null,
          0.5833814370096186,
          0.47916689675092905,
          null,
          0.29374158658086913,
          0.27451055654266976,
          null,
          0.29374158658086913,
          0.4002134681203505,
          null,
          0.39697107358566963,
          0.46526599493988674,
          null,
          0.0441784025675207,
          0.10676055042291932,
          null,
          0.7558820517693752,
          0.7700956747118586,
          null,
          0.7558820517693752,
          0.6828895451121558,
          null,
          0.46526599493988674,
          0.4495034738106741,
          null,
          0.6292310183613842,
          0.6389554682681308,
          null,
          0.6292310183613842,
          0.7053381179296772,
          null,
          0.965114412030404,
          0.8952471362800304,
          null,
          0.7700956747118586,
          0.6828895451121558,
          null,
          0.22339046929366757,
          0.23524915374159827,
          null,
          0.22339046929366757,
          0.2993126846843954,
          null,
          0.8952471362800304,
          0.8863361311300415,
          null,
          0.23524915374159827,
          0.2993126846843954,
          null,
          0.37474479380417514,
          0.4201631237201553,
          null,
          0.37474479380417514,
          0.47916689675092905,
          null,
          0.6389554682681308,
          0.759920078715474,
          null,
          0.6828895451121558,
          0.6213622104187693,
          null,
          0.27451055654266976,
          0.2231623057475437,
          null,
          0.4201631237201553,
          0.47916689675092905,
          null,
          0.757304294826838,
          0.759920078715474,
          null,
          0.757304294826838,
          0.7053381179296772,
          null,
          0.10676055042291932,
          0.08537925955955172,
          null,
          0.22903258443182317,
          0.1480280242534947,
          null,
          0.6450375266642114,
          0.6788678000046563,
          null,
          0.49829664584347055,
          0.4002134681203505,
          null,
          0.07115390405194,
          0.1480280242534947,
          null
         ],
         "y": [
          0.34634037474921064,
          0.3426595337299222,
          null,
          0.34634037474921064,
          0.3584393848668582,
          null,
          0.34634037474921064,
          0.38193534804712126,
          null,
          0.34634037474921064,
          0.38822096186650434,
          null,
          0.9021239389467938,
          0.8998770473383971,
          null,
          0.9021239389467938,
          0.8167730574414986,
          null,
          0.9021239389467938,
          0.85444828093156,
          null,
          0.9021239389467938,
          0.8573404848847084,
          null,
          0.9021239389467938,
          0.812906913463267,
          null,
          0.9021239389467938,
          0.815422026525087,
          null,
          0.9021239389467938,
          0.9069264990490169,
          null,
          0.9021239389467938,
          0.8846976471542541,
          null,
          0.7292140192391979,
          0.8233284837623064,
          null,
          0.7292140192391979,
          0.649589604848857,
          null,
          0.7292140192391979,
          0.6995714318955244,
          null,
          0.7292140192391979,
          0.6316056661308561,
          null,
          0.6166587395771208,
          0.6835006972309329,
          null,
          0.6166587395771208,
          0.5158698013931212,
          null,
          0.6166587395771208,
          0.6400001083370489,
          null,
          0.6166587395771208,
          0.6464606513268759,
          null,
          0.6166587395771208,
          0.5509180661422909,
          null,
          0.6166587395771208,
          0.5495724236818492,
          null,
          0.6166587395771208,
          0.7374848035848957,
          null,
          0.6166587395771208,
          0.6794994876137876,
          null,
          0.6166587395771208,
          0.6321637000361616,
          null,
          0.6166587395771208,
          0.678357874305682,
          null,
          0.6166587395771208,
          0.6467350202493432,
          null,
          0.6166587395771208,
          0.6843939445573577,
          null,
          0.6166587395771208,
          0.6060888144521592,
          null,
          0.6166587395771208,
          0.699989084654049,
          null,
          0.6166587395771208,
          0.5307712101404661,
          null,
          0.29817052218863094,
          0.3128056906755644,
          null,
          0.29817052218863094,
          0.27126496120310084,
          null,
          0.29817052218863094,
          0.2744507712019718,
          null,
          0.29817052218863094,
          0.24447688382004606,
          null,
          0.29817052218863094,
          0.4087899743666088,
          null,
          0.29817052218863094,
          0.38445235947222733,
          null,
          0.29817052218863094,
          0.37036616944395406,
          null,
          0.29817052218863094,
          0.27043256139707883,
          null,
          0.29817052218863094,
          0.34990889877063613,
          null,
          0.3128056906755644,
          0.3783219827558977,
          null,
          0.3128056906755644,
          0.27126496120310084,
          null,
          0.3128056906755644,
          0.2292362485753764,
          null,
          0.3128056906755644,
          0.24447688382004606,
          null,
          0.3128056906755644,
          0.32902925020932505,
          null,
          0.3128056906755644,
          0.24304967370549924,
          null,
          0.3128056906755644,
          0.40253359978738146,
          null,
          0.3128056906755644,
          0.4087899743666088,
          null,
          0.3128056906755644,
          0.38445235947222733,
          null,
          0.3128056906755644,
          0.37036616944395406,
          null,
          0.3128056906755644,
          0.27043256139707883,
          null,
          0.5159777850194703,
          0.5541826246915253,
          null,
          0.5159777850194703,
          0.5877218786539226,
          null,
          0.5159777850194703,
          0.5698942295518434,
          null,
          0.5159777850194703,
          0.4087899743666088,
          null,
          0.5159777850194703,
          0.6094427364864742,
          null,
          0.5159777850194703,
          0.5921560254755239,
          null,
          0.3726394153704564,
          0.4628276973264547,
          null,
          0.3726394153704564,
          0.3783219827558977,
          null,
          0.3726394153704564,
          0.4614223146369366,
          null,
          0.3726394153704564,
          0.2945641518527877,
          null,
          0.3726394153704564,
          0.34940489484596005,
          null,
          0.3726394153704564,
          0.32902925020932505,
          null,
          0.3726394153704564,
          0.38193534804712126,
          null,
          0.3726394153704564,
          0.38822096186650434,
          null,
          0.9958172167115849,
          0.9262444619269503,
          null,
          0.9958172167115849,
          0.9984667981543005,
          null,
          0.4628276973264547,
          0.5539806353637365,
          null,
          0.4628276973264547,
          0.4614223146369366,
          null,
          0.4628276973264547,
          0.5749911573670295,
          null,
          0.4628276973264547,
          0.5367321726086284,
          null,
          0.4628276973264547,
          0.521876331979982,
          null,
          0.4628276973264547,
          0.5047276990660347,
          null,
          0.4628276973264547,
          0.38193534804712126,
          null,
          0.4628276973264547,
          0.45115748690390034,
          null,
          0.4628276973264547,
          0.38822096186650434,
          null,
          0.4628276973264547,
          0.5116763908762945,
          null,
          0.03840223053828873,
          0.063073694685998,
          null,
          0.03840223053828873,
          0.09861153616664209,
          null,
          0.03840223053828873,
          0.09042621626281866,
          null,
          0.03840223053828873,
          0.03269780092803887,
          null,
          0.03840223053828873,
          0.07827402202190314,
          null,
          0.03840223053828873,
          0.0800942382790586,
          null,
          0.03840223053828873,
          0.14518338120637386,
          null,
          0.03840223053828873,
          0.0794541987499291,
          null,
          0.03840223053828873,
          0.02772545966523632,
          null,
          0.4840012350040165,
          0.3783219827558977,
          null,
          0.4840012350040165,
          0.4614223146369366,
          null,
          0.4840012350040165,
          0.4866590582867385,
          null,
          0.4840012350040165,
          0.5047276990660347,
          null,
          0.4840012350040165,
          0.40253359978738146,
          null,
          0.4840012350040165,
          0.5116763908762945,
          null,
          0.4840012350040165,
          0.5171607199595519,
          null,
          0.4840012350040165,
          0.37036616944395406,
          null,
          0.05089220292873664,
          0.09861153616664209,
          null,
          0.05089220292873664,
          0.053826530238590964,
          null,
          0.05089220292873664,
          0.07827402202190314,
          null,
          0.05089220292873664,
          0.0800942382790586,
          null,
          0.05089220292873664,
          0.10895716746692741,
          null,
          0.05089220292873664,
          0.01743401633261754,
          null,
          0.8388667780741308,
          0.8233284837623064,
          null,
          0.8388667780741308,
          0.8380464975908317,
          null,
          0.8388667780741308,
          0.8959794943131316,
          null,
          0.8301730523282532,
          0.9060821051774147,
          null,
          0.8301730523282532,
          0.7246189849275886,
          null,
          0.8301730523282532,
          0.8707244566501849,
          null,
          0.8301730523282532,
          0.7344193241873843,
          null,
          0.8301730523282532,
          0.8434058548550013,
          null,
          0.8301730523282532,
          0.8697421057421896,
          null,
          0.8301730523282532,
          0.915081224553825,
          null,
          0.8301730523282532,
          0.9532907041771828,
          null,
          0.8301730523282532,
          0.8572428852732737,
          null,
          0.8301730523282532,
          0.7883796835664513,
          null,
          0.8301730523282532,
          0.9107040360106008,
          null,
          0.7516978524901915,
          0.729649851131628,
          null,
          0.7516978524901915,
          0.6400001083370489,
          null,
          0.7516978524901915,
          0.808558373036571,
          null,
          0.7516978524901915,
          0.8167730574414986,
          null,
          0.7516978524901915,
          0.7374848035848957,
          null,
          0.7516978524901915,
          0.812906913463267,
          null,
          0.7516978524901915,
          0.6321637000361616,
          null,
          0.7516978524901915,
          0.678357874305682,
          null,
          0.7516978524901915,
          0.6467350202493432,
          null,
          0.7516978524901915,
          0.7598044385975393,
          null,
          0.7516978524901915,
          0.6843939445573577,
          null,
          0.7516978524901915,
          0.699989084654049,
          null,
          0.3426595337299222,
          0.3584393848668582,
          null,
          0.3426595337299222,
          0.38193534804712126,
          null,
          0.3426595337299222,
          0.45115748690390034,
          null,
          0.3426595337299222,
          0.38822096186650434,
          null,
          0.063073694685998,
          0.09861153616664209,
          null,
          0.063073694685998,
          0.09042621626281866,
          null,
          0.063073694685998,
          0.03269780092803887,
          null,
          0.063073694685998,
          0.07827402202190314,
          null,
          0.063073694685998,
          0.17983589775811404,
          null,
          0.063073694685998,
          0.17078160590597158,
          null,
          0.063073694685998,
          0.0800942382790586,
          null,
          0.063073694685998,
          0.1644969601327082,
          null,
          0.063073694685998,
          0.14518338120637386,
          null,
          0.063073694685998,
          0.0794541987499291,
          null,
          0.063073694685998,
          0.02772545966523632,
          null,
          0.928277711354684,
          0.8541640876034834,
          null,
          0.928277711354684,
          0.9783638330955428,
          null,
          0.928277711354684,
          0.8429366339296461,
          null,
          0.928277711354684,
          0.955060309247062,
          null,
          0.778343729960585,
          0.8541640876034834,
          null,
          0.778343729960585,
          0.739688310990777,
          null,
          0.778343729960585,
          0.7157623907794699,
          null,
          0.778343729960585,
          0.7740619781286796,
          null,
          0.778343729960585,
          0.8429366339296461,
          null,
          0.9407342325123572,
          0.85444828093156,
          null,
          0.9407342325123572,
          0.8189942653637081,
          null,
          0.9407342325123572,
          0.8434058548550013,
          null,
          0.9407342325123572,
          0.915081224553825,
          null,
          0.9407342325123572,
          0.97050308624605,
          null,
          0.9407342325123572,
          0.9107040360106008,
          null,
          0.9262444619269503,
          0.8380464975908317,
          null,
          0.9262444619269503,
          0.9984667981543005,
          null,
          0.28782764406839456,
          0.38516263679132723,
          null,
          0.28782764406839456,
          0.26807543975145887,
          null,
          0.28782764406839456,
          0.20257472410585542,
          null,
          0.28782764406839456,
          0.3147592843819056,
          null,
          0.28782764406839456,
          0.2837379936694925,
          null,
          0.28782764406839456,
          0.3667304138617419,
          null,
          0.28782764406839456,
          0.2790147322067743,
          null,
          0.6835006972309329,
          0.6960375084952382,
          null,
          0.6835006972309329,
          0.729649851131628,
          null,
          0.6835006972309329,
          0.7344193241873843,
          null,
          0.6835006972309329,
          0.6794994876137876,
          null,
          0.6835006972309329,
          0.6467350202493432,
          null,
          0.6835006972309329,
          0.7598044385975393,
          null,
          0.6835006972309329,
          0.6909539883958143,
          null,
          0.6835006972309329,
          0.6336633080273963,
          null,
          0.6835006972309329,
          0.699989084654049,
          null,
          0.8998770473383971,
          0.896614610519811,
          null,
          0.8998770473383971,
          0.808558373036571,
          null,
          0.8998770473383971,
          0.9966425172198103,
          null,
          0.8998770473383971,
          0.8573404848847084,
          null,
          0.8998770473383971,
          0.812906913463267,
          null,
          0.8998770473383971,
          0.9069264990490169,
          null,
          0.8998770473383971,
          0.8846976471542541,
          null,
          0.38516263679132723,
          0.4379371834372656,
          null,
          0.38516263679132723,
          0.3475333633908405,
          null,
          0.38516263679132723,
          0.39066445674421846,
          null,
          0.38516263679132723,
          0.3147592843819056,
          null,
          0.38516263679132723,
          0.2837379936694925,
          null,
          0.38516263679132723,
          0.3667304138617419,
          null,
          0.38516263679132723,
          0.2790147322067743,
          null,
          0.38516263679132723,
          0.4455907866138593,
          null,
          0.38516263679132723,
          0.33783280582395114,
          null,
          0.4438293420627475,
          0.5412459631389201,
          null,
          0.4438293420627475,
          0.3475333633908405,
          null,
          0.4438293420627475,
          0.39066445674421846,
          null,
          0.4438293420627475,
          0.4952006117702068,
          null,
          0.4438293420627475,
          0.510944266225486,
          null,
          0.4438293420627475,
          0.523723336727139,
          null,
          0.4438293420627475,
          0.33783280582395114,
          null,
          0.8233284837623064,
          0.8380464975908317,
          null,
          0.8233284837623064,
          0.8959794943131316,
          null,
          0.8233284837623064,
          0.8697421057421896,
          null,
          0.09861153616664209,
          0.09042621626281866,
          null,
          0.09861153616664209,
          0.07827402202190314,
          null,
          0.09861153616664209,
          0.17983589775811404,
          null,
          0.09861153616664209,
          0.17078160590597158,
          null,
          0.09861153616664209,
          0.0800942382790586,
          null,
          0.09861153616664209,
          0.1644969601327082,
          null,
          0.09861153616664209,
          0.14518338120637386,
          null,
          0.09861153616664209,
          0.0794541987499291,
          null,
          0.09861153616664209,
          0.02772545966523632,
          null,
          0.13581152611923086,
          0.12584324152978876,
          null,
          0.13581152611923086,
          0.12758769123486224,
          null,
          0.13581152611923086,
          0.03957050616316837,
          null,
          0.13581152611923086,
          0.08857987154233449,
          null,
          0.13581152611923086,
          0.09586293702766535,
          null,
          0.13581152611923086,
          0.11374725920987783,
          null,
          0.13581152611923086,
          0.043504361004192305,
          null,
          0.13581152611923086,
          0.0957752704223197,
          null,
          0.13581152611923086,
          0.07118438835188612,
          null,
          0.13581152611923086,
          0.1303672076441753,
          null,
          0.13581152611923086,
          0.10466793644999628,
          null,
          0.11032543986780519,
          0.03747343802048109,
          null,
          0.11032543986780519,
          0.0988921488818556,
          null,
          0.11032543986780519,
          0.03730894355686465,
          null,
          0.11032543986780519,
          0.20257472410585542,
          null,
          0.11032543986780519,
          0.11861217636798516,
          null,
          0.11032543986780519,
          0.14137273526990002,
          null,
          0.11032543986780519,
          0.09768745559390957,
          null,
          0.11032543986780519,
          0.16099416630801977,
          null,
          0.11032543986780519,
          0.07646912921843885,
          null,
          0.11032543986780519,
          0.017721704076651967,
          null,
          0.9060821051774147,
          0.8707244566501849,
          null,
          0.9060821051774147,
          0.9146251145653324,
          null,
          0.9060821051774147,
          0.8959794943131316,
          null,
          0.9060821051774147,
          0.9735301324237835,
          null,
          0.9060821051774147,
          0.9672045959422451,
          null,
          0.9060821051774147,
          0.8697421057421896,
          null,
          0.9060821051774147,
          0.915081224553825,
          null,
          0.9060821051774147,
          0.9532907041771828,
          null,
          0.9060821051774147,
          0.8572428852732737,
          null,
          0.9060821051774147,
          0.9107040360106008,
          null,
          0.5539806353637365,
          0.5749911573670295,
          null,
          0.5539806353637365,
          0.5367321726086284,
          null,
          0.5539806353637365,
          0.521876331979982,
          null,
          0.5539806353637365,
          0.5047276990660347,
          null,
          0.5539806353637365,
          0.6439404613269291,
          null,
          0.5539806353637365,
          0.5096083701456786,
          null,
          0.5539806353637365,
          0.45115748690390034,
          null,
          0.5541826246915253,
          0.5877218786539226,
          null,
          0.5541826246915253,
          0.5698942295518434,
          null,
          0.5541826246915253,
          0.6094427364864742,
          null,
          0.5541826246915253,
          0.5921560254755239,
          null,
          0.03747343802048109,
          0.053826530238590964,
          null,
          0.03747343802048109,
          0.0988921488818556,
          null,
          0.03747343802048109,
          0.09768745559390957,
          null,
          0.03747343802048109,
          0.10895716746692741,
          null,
          0.03747343802048109,
          0.01743401633261754,
          null,
          0.03747343802048109,
          0.07646912921843885,
          null,
          0.03747343802048109,
          0.017721704076651967,
          null,
          0.320660451742136,
          0.3475333633908405,
          null,
          0.320660451742136,
          0.39066445674421846,
          null,
          0.320660451742136,
          0.3147592843819056,
          null,
          0.320660451742136,
          0.30215723903489944,
          null,
          0.320660451742136,
          0.2717736226834131,
          null,
          0.320660451742136,
          0.23150902026846376,
          null,
          0.320660451742136,
          0.33783280582395114,
          null,
          0.320660451742136,
          0.2857216249244011,
          null,
          0.320660451742136,
          0.38212966318459796,
          null,
          0.320660451742136,
          0.25933188458320766,
          null,
          0.707813557595408,
          0.6960375084952382,
          null,
          0.707813557595408,
          0.7246189849275886,
          null,
          0.707813557595408,
          0.6113833849683527,
          null,
          0.707813557595408,
          0.7344193241873843,
          null,
          0.707813557595408,
          0.6297446664797173,
          null,
          0.707813557595408,
          0.6909539883958143,
          null,
          0.707813557595408,
          0.7883796835664513,
          null,
          0.707813557595408,
          0.6336633080273963,
          null,
          0.6888207546626515,
          0.5749911573670295,
          null,
          0.6888207546626515,
          0.6293865549880397,
          null,
          0.6888207546626515,
          0.6439404613269291,
          null,
          0.6888207546626515,
          0.739688310990777,
          null,
          0.6888207546626515,
          0.6176365088337953,
          null,
          0.6888207546626515,
          0.7157623907794699,
          null,
          0.6888207546626515,
          0.6304097176645608,
          null,
          0.3783219827558977,
          0.4614223146369366,
          null,
          0.3783219827558977,
          0.4866590582867385,
          null,
          0.3783219827558977,
          0.34940489484596005,
          null,
          0.3783219827558977,
          0.32902925020932505,
          null,
          0.3783219827558977,
          0.40253359978738146,
          null,
          0.3783219827558977,
          0.4087899743666088,
          null,
          0.3783219827558977,
          0.38445235947222733,
          null,
          0.3783219827558977,
          0.37036616944395406,
          null,
          0.3783219827558977,
          0.27043256139707883,
          null,
          0.4821683018886014,
          0.5158698013931212,
          null,
          0.4821683018886014,
          0.4379371834372656,
          null,
          0.4821683018886014,
          0.5509180661422909,
          null,
          0.4821683018886014,
          0.4455907866138593,
          null,
          0.4821683018886014,
          0.5307712101404661,
          null,
          0.4614223146369366,
          0.5367321726086284,
          null,
          0.4614223146369366,
          0.4866590582867385,
          null,
          0.4614223146369366,
          0.5047276990660347,
          null,
          0.4614223146369366,
          0.34940489484596005,
          null,
          0.4614223146369366,
          0.40253359978738146,
          null,
          0.4614223146369366,
          0.5116763908762945,
          null,
          0.4614223146369366,
          0.5171607199595519,
          null,
          0.3584393848668582,
          0.38193534804712126,
          null,
          0.3584393848668582,
          0.45115748690390034,
          null,
          0.3584393848668582,
          0.38822096186650434,
          null,
          0.053826530238590964,
          0.0988921488818556,
          null,
          0.053826530238590964,
          0.17395935464962387,
          null,
          0.053826530238590964,
          0.09768745559390957,
          null,
          0.053826530238590964,
          0.10895716746692741,
          null,
          0.053826530238590964,
          0.01743401633261754,
          null,
          0.053826530238590964,
          0.017721704076651967,
          null,
          0.5412459631389201,
          0.48868928325338146,
          null,
          0.5412459631389201,
          0.6113833849683527,
          null,
          0.5412459631389201,
          0.4952006117702068,
          null,
          0.5412459631389201,
          0.510944266225486,
          null,
          0.5412459631389201,
          0.523723336727139,
          null,
          0.5412459631389201,
          0.6336633080273963,
          null,
          0.5412459631389201,
          0.57610767002445,
          null,
          0.649589604848857,
          0.6293865549880397,
          null,
          0.649589604848857,
          0.6995714318955244,
          null,
          0.649589604848857,
          0.6094427364864742,
          null,
          0.649589604848857,
          0.6316056661308561,
          null,
          0.09042621626281866,
          0.03269780092803887,
          null,
          0.09042621626281866,
          0.07827402202190314,
          null,
          0.09042621626281866,
          0.17983589775811404,
          null,
          0.09042621626281866,
          0.1644969601327082,
          null,
          0.09042621626281866,
          0.14518338120637386,
          null,
          0.09042621626281866,
          0.0794541987499291,
          null,
          0.09042621626281866,
          0.02772545966523632,
          null,
          0.5158698013931212,
          0.4379371834372656,
          null,
          0.5158698013931212,
          0.6400001083370489,
          null,
          0.5158698013931212,
          0.5509180661422909,
          null,
          0.5158698013931212,
          0.5495724236818492,
          null,
          0.5158698013931212,
          0.6321637000361616,
          null,
          0.5158698013931212,
          0.4455907866138593,
          null,
          0.5158698013931212,
          0.6060888144521592,
          null,
          0.5158698013931212,
          0.5307712101404661,
          null,
          0.12584324152978876,
          0.12758769123486224,
          null,
          0.12584324152978876,
          0.03957050616316837,
          null,
          0.12584324152978876,
          0.08857987154233449,
          null,
          0.12584324152978876,
          0.09586293702766535,
          null,
          0.12584324152978876,
          0.11374725920987783,
          null,
          0.12584324152978876,
          0.043504361004192305,
          null,
          0.12584324152978876,
          0.0957752704223197,
          null,
          0.12584324152978876,
          0.07118438835188612,
          null,
          0.12584324152978876,
          0.1303672076441753,
          null,
          0.12584324152978876,
          0.10466793644999628,
          null,
          0.0012156921453794212,
          0.03957050616316837,
          null,
          0.0012156921453794212,
          0.08857987154233449,
          null,
          0.0012156921453794212,
          0.0018027668186497703,
          null,
          0.0012156921453794212,
          0.11374725920987783,
          null,
          0.0012156921453794212,
          0.09089424678624036,
          null,
          0.0012156921453794212,
          0.043504361004192305,
          null,
          0.0012156921453794212,
          0.0957752704223197,
          null,
          0.6960375084952382,
          0.729649851131628,
          null,
          0.6960375084952382,
          0.7344193241873843,
          null,
          0.6960375084952382,
          0.6794994876137876,
          null,
          0.6960375084952382,
          0.815422026525087,
          null,
          0.6960375084952382,
          0.6467350202493432,
          null,
          0.6960375084952382,
          0.7598044385975393,
          null,
          0.6960375084952382,
          0.6909539883958143,
          null,
          0.6960375084952382,
          0.6336633080273963,
          null,
          0.6960375084952382,
          0.699989084654049,
          null,
          0.45337654166276053,
          0.48868928325338146,
          null,
          0.45337654166276053,
          0.3456934278618702,
          null,
          0.45337654166276053,
          0.38212966318459796,
          null,
          0.45337654166276053,
          0.34990889877063613,
          null,
          0.729649851131628,
          0.8167730574414986,
          null,
          0.729649851131628,
          0.7374848035848957,
          null,
          0.729649851131628,
          0.6794994876137876,
          null,
          0.729649851131628,
          0.812906913463267,
          null,
          0.729649851131628,
          0.815422026525087,
          null,
          0.729649851131628,
          0.678357874305682,
          null,
          0.729649851131628,
          0.6467350202493432,
          null,
          0.729649851131628,
          0.7598044385975393,
          null,
          0.729649851131628,
          0.6909539883958143,
          null,
          0.729649851131628,
          0.6336633080273963,
          null,
          0.729649851131628,
          0.699989084654049,
          null,
          0.27126496120310084,
          0.2744507712019718,
          null,
          0.27126496120310084,
          0.24447688382004606,
          null,
          0.27126496120310084,
          0.38445235947222733,
          null,
          0.27126496120310084,
          0.27043256139707883,
          null,
          0.27126496120310084,
          0.34990889877063613,
          null,
          0.896614610519811,
          0.808558373036571,
          null,
          0.896614610519811,
          0.9966425172198103,
          null,
          0.896614610519811,
          0.8573404848847084,
          null,
          0.896614610519811,
          0.9069264990490169,
          null,
          0.48868928325338146,
          0.5877218786539226,
          null,
          0.48868928325338146,
          0.510944266225486,
          null,
          0.48868928325338146,
          0.523723336727139,
          null,
          0.48868928325338146,
          0.38212966318459796,
          null,
          0.48868928325338146,
          0.57610767002445,
          null,
          0.7246189849275886,
          0.7344193241873843,
          null,
          0.7246189849275886,
          0.6297446664797173,
          null,
          0.7246189849275886,
          0.7883796835664513,
          null,
          0.8707244566501849,
          0.9146251145653324,
          null,
          0.8707244566501849,
          0.8959794943131316,
          null,
          0.8707244566501849,
          0.8697421057421896,
          null,
          0.8707244566501849,
          0.915081224553825,
          null,
          0.8707244566501849,
          0.9532907041771828,
          null,
          0.8707244566501849,
          0.8572428852732737,
          null,
          0.8707244566501849,
          0.7883796835664513,
          null,
          0.8707244566501849,
          0.9107040360106008,
          null,
          0.4379371834372656,
          0.5509180661422909,
          null,
          0.4379371834372656,
          0.3667304138617419,
          null,
          0.4379371834372656,
          0.4455907866138593,
          null,
          0.4379371834372656,
          0.5307712101404661,
          null,
          0.26807543975145887,
          0.20257472410585542,
          null,
          0.26807543975145887,
          0.3147592843819056,
          null,
          0.26807543975145887,
          0.2837379936694925,
          null,
          0.26807543975145887,
          0.3667304138617419,
          null,
          0.26807543975145887,
          0.2790147322067743,
          null,
          0.26807543975145887,
          0.16099416630801977,
          null,
          0.6113833849683527,
          0.5877218786539226,
          null,
          0.6113833849683527,
          0.7344193241873843,
          null,
          0.6113833849683527,
          0.6297446664797173,
          null,
          0.6113833849683527,
          0.510944266225486,
          null,
          0.6113833849683527,
          0.6909539883958143,
          null,
          0.6113833849683527,
          0.523723336727139,
          null,
          0.6113833849683527,
          0.6336633080273963,
          null,
          0.6113833849683527,
          0.57610767002445,
          null,
          0.6400001083370489,
          0.6464606513268759,
          null,
          0.6400001083370489,
          0.5509180661422909,
          null,
          0.6400001083370489,
          0.5495724236818492,
          null,
          0.6400001083370489,
          0.7374848035848957,
          null,
          0.6400001083370489,
          0.6321637000361616,
          null,
          0.6400001083370489,
          0.678357874305682,
          null,
          0.6400001083370489,
          0.6467350202493432,
          null,
          0.6400001083370489,
          0.6843939445573577,
          null,
          0.6400001083370489,
          0.6060888144521592,
          null,
          0.6400001083370489,
          0.5307712101404661,
          null,
          0.3475333633908405,
          0.39066445674421846,
          null,
          0.3475333633908405,
          0.3147592843819056,
          null,
          0.3475333633908405,
          0.2837379936694925,
          null,
          0.3475333633908405,
          0.30215723903489944,
          null,
          0.3475333633908405,
          0.2717736226834131,
          null,
          0.3475333633908405,
          0.3667304138617419,
          null,
          0.3475333633908405,
          0.2790147322067743,
          null,
          0.3475333633908405,
          0.33783280582395114,
          null,
          0.3475333633908405,
          0.2857216249244011,
          null,
          0.9146251145653324,
          0.8959794943131316,
          null,
          0.9146251145653324,
          0.9672045959422451,
          null,
          0.9146251145653324,
          0.8697421057421896,
          null,
          0.9146251145653324,
          0.9532907041771828,
          null,
          0.9146251145653324,
          0.8572428852732737,
          null,
          0.1447789416917209,
          0.2292362485753764,
          null,
          0.1447789416917209,
          0.1883623632828778,
          null,
          0.1447789416917209,
          0.24304967370549924,
          null,
          0.1447789416917209,
          0.10466793644999628,
          null,
          0.0988921488818556,
          0.20257472410585542,
          null,
          0.0988921488818556,
          0.11861217636798516,
          null,
          0.0988921488818556,
          0.14137273526990002,
          null,
          0.0988921488818556,
          0.09768745559390957,
          null,
          0.0988921488818556,
          0.16099416630801977,
          null,
          0.0988921488818556,
          0.10895716746692741,
          null,
          0.0988921488818556,
          0.07646912921843885,
          null,
          0.0988921488818556,
          0.017721704076651967,
          null,
          0.5749911573670295,
          0.6293865549880397,
          null,
          0.5749911573670295,
          0.5367321726086284,
          null,
          0.5749911573670295,
          0.521876331979982,
          null,
          0.5749911573670295,
          0.5047276990660347,
          null,
          0.5749911573670295,
          0.6439404613269291,
          null,
          0.5749911573670295,
          0.6176365088337953,
          null,
          0.5749911573670295,
          0.5116763908762945,
          null,
          0.5749911573670295,
          0.6304097176645608,
          null,
          0.12758769123486224,
          0.03957050616316837,
          null,
          0.12758769123486224,
          0.08857987154233449,
          null,
          0.12758769123486224,
          0.09586293702766535,
          null,
          0.12758769123486224,
          0.11374725920987783,
          null,
          0.12758769123486224,
          0.09089424678624036,
          null,
          0.12758769123486224,
          0.043504361004192305,
          null,
          0.12758769123486224,
          0.0957752704223197,
          null,
          0.12758769123486224,
          0.1303672076441753,
          null,
          0.6293865549880397,
          0.5367321726086284,
          null,
          0.6293865549880397,
          0.6439404613269291,
          null,
          0.6293865549880397,
          0.739688310990777,
          null,
          0.6293865549880397,
          0.6176365088337953,
          null,
          0.6293865549880397,
          0.6316056661308561,
          null,
          0.6293865549880397,
          0.5116763908762945,
          null,
          0.6293865549880397,
          0.6304097176645608,
          null,
          0.6293865549880397,
          0.5171607199595519,
          null,
          0.03957050616316837,
          0.08857987154233449,
          null,
          0.03957050616316837,
          0.09586293702766535,
          null,
          0.03957050616316837,
          0.0018027668186497703,
          null,
          0.03957050616316837,
          0.11374725920987783,
          null,
          0.03957050616316837,
          0.043504361004192305,
          null,
          0.03957050616316837,
          0.0957752704223197,
          null,
          0.03957050616316837,
          0.07118438835188612,
          null,
          0.03957050616316837,
          0.1303672076441753,
          null,
          0.39066445674421846,
          0.3147592843819056,
          null,
          0.39066445674421846,
          0.2837379936694925,
          null,
          0.39066445674421846,
          0.3667304138617419,
          null,
          0.39066445674421846,
          0.33783280582395114,
          null,
          0.39066445674421846,
          0.2857216249244011,
          null,
          0.6464606513268759,
          0.5509180661422909,
          null,
          0.6464606513268759,
          0.6321637000361616,
          null,
          0.6464606513268759,
          0.678357874305682,
          null,
          0.6464606513268759,
          0.6843939445573577,
          null,
          0.6464606513268759,
          0.6060888144521592,
          null,
          0.5367321726086284,
          0.521876331979982,
          null,
          0.5367321726086284,
          0.5047276990660347,
          null,
          0.5367321726086284,
          0.6176365088337953,
          null,
          0.5367321726086284,
          0.5116763908762945,
          null,
          0.5367321726086284,
          0.6304097176645608,
          null,
          0.5367321726086284,
          0.5171607199595519,
          null,
          0.03269780092803887,
          0.0794541987499291,
          null,
          0.03269780092803887,
          0.02772545966523632,
          null,
          0.03269780092803887,
          0.019741416750032603,
          null,
          0.2945641518527877,
          0.2292362485753764,
          null,
          0.2945641518527877,
          0.24218207526619207,
          null,
          0.2945641518527877,
          0.34940489484596005,
          null,
          0.2945641518527877,
          0.32902925020932505,
          null,
          0.2945641518527877,
          0.24304967370549924,
          null,
          0.2945641518527877,
          0.38193534804712126,
          null,
          0.2945641518527877,
          0.38822096186650434,
          null,
          0.808558373036571,
          0.7374848035848957,
          null,
          0.808558373036571,
          0.8573404848847084,
          null,
          0.808558373036571,
          0.812906913463267,
          null,
          0.808558373036571,
          0.9069264990490169,
          null,
          0.5877218786539226,
          0.6297446664797173,
          null,
          0.5877218786539226,
          0.5698942295518434,
          null,
          0.5877218786539226,
          0.5921560254755239,
          null,
          0.5877218786539226,
          0.57610767002445,
          null,
          0.5509180661422909,
          0.5495724236818492,
          null,
          0.5509180661422909,
          0.6321637000361616,
          null,
          0.5509180661422909,
          0.4455907866138593,
          null,
          0.5509180661422909,
          0.6060888144521592,
          null,
          0.5509180661422909,
          0.5307712101404661,
          null,
          0.8541640876034834,
          0.7740619781286796,
          null,
          0.8541640876034834,
          0.8429366339296461,
          null,
          0.08857987154233449,
          0.0018027668186497703,
          null,
          0.08857987154233449,
          0.11374725920987783,
          null,
          0.08857987154233449,
          0.09089424678624036,
          null,
          0.08857987154233449,
          0.043504361004192305,
          null,
          0.08857987154233449,
          0.0957752704223197,
          null,
          0.08857987154233449,
          0.1303672076441753,
          null,
          0.03730894355686465,
          0.11861217636798516,
          null,
          0.03730894355686465,
          0.14137273526990002,
          null,
          0.03730894355686465,
          0.07646912921843885,
          null,
          0.8959794943131316,
          0.9672045959422451,
          null,
          0.8959794943131316,
          0.8697421057421896,
          null,
          0.8959794943131316,
          0.8572428852732737,
          null,
          0.8167730574414986,
          0.85444828093156,
          null,
          0.8167730574414986,
          0.7374848035848957,
          null,
          0.8167730574414986,
          0.812906913463267,
          null,
          0.8167730574414986,
          0.815422026525087,
          null,
          0.8167730574414986,
          0.7598044385975393,
          null,
          0.8167730574414986,
          0.8846976471542541,
          null,
          0.2744507712019718,
          0.17983589775811404,
          null,
          0.2744507712019718,
          0.3456934278618702,
          null,
          0.2744507712019718,
          0.24447688382004606,
          null,
          0.2744507712019718,
          0.1644969601327082,
          null,
          0.2744507712019718,
          0.31084913053549723,
          null,
          0.2744507712019718,
          0.34990889877063613,
          null,
          0.85444828093156,
          0.8189942653637081,
          null,
          0.85444828093156,
          0.8434058548550013,
          null,
          0.85444828093156,
          0.815422026525087,
          null,
          0.85444828093156,
          0.7598044385975393,
          null,
          0.85444828093156,
          0.8846976471542541,
          null,
          0.521876331979982,
          0.5096083701456786,
          null,
          0.521876331979982,
          0.45115748690390034,
          null,
          0.4866590582867385,
          0.5047276990660347,
          null,
          0.4866590582867385,
          0.40253359978738146,
          null,
          0.4866590582867385,
          0.5116763908762945,
          null,
          0.4866590582867385,
          0.5171607199595519,
          null,
          0.4866590582867385,
          0.37036616944395406,
          null,
          0.9966425172198103,
          0.9069264990490169,
          null,
          0.4952006117702068,
          0.5495724236818492,
          null,
          0.4952006117702068,
          0.510944266225486,
          null,
          0.4952006117702068,
          0.523723336727139,
          null,
          0.5047276990660347,
          0.6176365088337953,
          null,
          0.5047276990660347,
          0.45115748690390034,
          null,
          0.5047276990660347,
          0.5116763908762945,
          null,
          0.5047276990660347,
          0.5171607199595519,
          null,
          0.6439404613269291,
          0.739688310990777,
          null,
          0.6439404613269291,
          0.6176365088337953,
          null,
          0.6439404613269291,
          0.7157623907794699,
          null,
          0.6439404613269291,
          0.6304097176645608,
          null,
          0.07827402202190314,
          0.17983589775811404,
          null,
          0.07827402202190314,
          0.17078160590597158,
          null,
          0.07827402202190314,
          0.0800942382790586,
          null,
          0.07827402202190314,
          0.14518338120637386,
          null,
          0.07827402202190314,
          0.0794541987499291,
          null,
          0.07827402202190314,
          0.02772545966523632,
          null,
          0.20257472410585542,
          0.3147592843819056,
          null,
          0.20257472410585542,
          0.2837379936694925,
          null,
          0.20257472410585542,
          0.17395935464962387,
          null,
          0.20257472410585542,
          0.14137273526990002,
          null,
          0.20257472410585542,
          0.2790147322067743,
          null,
          0.20257472410585542,
          0.09768745559390957,
          null,
          0.20257472410585542,
          0.16099416630801977,
          null,
          0.20257472410585542,
          0.2857216249244011,
          null,
          0.2292362485753764,
          0.24218207526619207,
          null,
          0.2292362485753764,
          0.1883623632828778,
          null,
          0.2292362485753764,
          0.32902925020932505,
          null,
          0.2292362485753764,
          0.24304967370549924,
          null,
          0.2292362485753764,
          0.1303672076441753,
          null,
          0.2292362485753764,
          0.27043256139707883,
          null,
          0.3147592843819056,
          0.2837379936694925,
          null,
          0.3147592843819056,
          0.2717736226834131,
          null,
          0.3147592843819056,
          0.3667304138617419,
          null,
          0.3147592843819056,
          0.2790147322067743,
          null,
          0.3147592843819056,
          0.33783280582395114,
          null,
          0.3147592843819056,
          0.2857216249244011,
          null,
          0.7344193241873843,
          0.8189942653637081,
          null,
          0.7344193241873843,
          0.8434058548550013,
          null,
          0.7344193241873843,
          0.6794994876137876,
          null,
          0.7344193241873843,
          0.6909539883958143,
          null,
          0.7344193241873843,
          0.7883796835664513,
          null,
          0.7344193241873843,
          0.6336633080273963,
          null,
          0.8189942653637081,
          0.8434058548550013,
          null,
          0.8189942653637081,
          0.815422026525087,
          null,
          0.8189942653637081,
          0.7598044385975393,
          null,
          0.24218207526619207,
          0.34940489484596005,
          null,
          0.24218207526619207,
          0.1883623632828778,
          null,
          0.24218207526619207,
          0.32902925020932505,
          null,
          0.24218207526619207,
          0.24304967370549924,
          null,
          0.24218207526619207,
          0.1303672076441753,
          null,
          0.24218207526619207,
          0.27043256139707883,
          null,
          0.6297446664797173,
          0.5698942295518434,
          null,
          0.6297446664797173,
          0.5921560254755239,
          null,
          0.6297446664797173,
          0.57610767002445,
          null,
          0.09586293702766535,
          0.11374725920987783,
          null,
          0.09586293702766535,
          0.043504361004192305,
          null,
          0.09586293702766535,
          0.0957752704223197,
          null,
          0.09586293702766535,
          0.07118438835188612,
          null,
          0.09586293702766535,
          0.1303672076441753,
          null,
          0.09586293702766535,
          0.10466793644999628,
          null,
          0.2837379936694925,
          0.3667304138617419,
          null,
          0.2837379936694925,
          0.2790147322067743,
          null,
          0.2837379936694925,
          0.16099416630801977,
          null,
          0.2837379936694925,
          0.33783280582395114,
          null,
          0.2837379936694925,
          0.2857216249244011,
          null,
          0.5698942295518434,
          0.5921560254755239,
          null,
          0.5698942295518434,
          0.57610767002445,
          null,
          0.17395935464962387,
          0.2717736226834131,
          null,
          0.17395935464962387,
          0.09768745559390957,
          null,
          0.17395935464962387,
          0.23150902026846376,
          null,
          0.17395935464962387,
          0.10895716746692741,
          null,
          0.17395935464962387,
          0.2857216249244011,
          null,
          0.17395935464962387,
          0.25933188458320766,
          null,
          0.8434058548550013,
          0.915081224553825,
          null,
          0.8434058548550013,
          0.815422026525087,
          null,
          0.8434058548550013,
          0.8572428852732737,
          null,
          0.8434058548550013,
          0.7883796835664513,
          null,
          0.8434058548550013,
          0.9107040360106008,
          null,
          0.9735301324237835,
          0.915081224553825,
          null,
          0.9735301324237835,
          0.9532907041771828,
          null,
          0.9735301324237835,
          0.97050308624605,
          null,
          0.9735301324237835,
          0.9107040360106008,
          null,
          0.17983589775811404,
          0.17078160590597158,
          null,
          0.17983589775811404,
          0.0800942382790586,
          null,
          0.17983589775811404,
          0.1644969601327082,
          null,
          0.17983589775811404,
          0.23150902026846376,
          null,
          0.17983589775811404,
          0.14518338120637386,
          null,
          0.17983589775811404,
          0.0794541987499291,
          null,
          0.0018027668186497703,
          0.11374725920987783,
          null,
          0.0018027668186497703,
          0.09089424678624036,
          null,
          0.0018027668186497703,
          0.043504361004192305,
          null,
          0.5495724236818492,
          0.6321637000361616,
          null,
          0.5495724236818492,
          0.6467350202493432,
          null,
          0.5495724236818492,
          0.6060888144521592,
          null,
          0.5495724236818492,
          0.5307712101404661,
          null,
          0.3456934278618702,
          0.30215723903489944,
          null,
          0.3456934278618702,
          0.38212966318459796,
          null,
          0.3456934278618702,
          0.31084913053549723,
          null,
          0.3456934278618702,
          0.34990889877063613,
          null,
          0.7374848035848957,
          0.812906913463267,
          null,
          0.7374848035848957,
          0.6321637000361616,
          null,
          0.7374848035848957,
          0.678357874305682,
          null,
          0.7374848035848957,
          0.6467350202493432,
          null,
          0.7374848035848957,
          0.7598044385975393,
          null,
          0.7374848035848957,
          0.6843939445573577,
          null,
          0.7374848035848957,
          0.699989084654049,
          null,
          0.30215723903489944,
          0.2717736226834131,
          null,
          0.30215723903489944,
          0.23150902026846376,
          null,
          0.30215723903489944,
          0.33783280582395114,
          null,
          0.30215723903489944,
          0.2857216249244011,
          null,
          0.30215723903489944,
          0.38212966318459796,
          null,
          0.30215723903489944,
          0.31084913053549723,
          null,
          0.30215723903489944,
          0.25933188458320766,
          null,
          0.9672045959422451,
          0.8697421057421896,
          null,
          0.34940489484596005,
          0.32902925020932505,
          null,
          0.34940489484596005,
          0.38193534804712126,
          null,
          0.34940489484596005,
          0.38822096186650434,
          null,
          0.34940489484596005,
          0.27043256139707883,
          null,
          0.8697421057421896,
          0.9532907041771828,
          null,
          0.8697421057421896,
          0.8572428852732737,
          null,
          0.8697421057421896,
          0.7883796835664513,
          null,
          0.6794994876137876,
          0.6467350202493432,
          null,
          0.6794994876137876,
          0.7598044385975393,
          null,
          0.6794994876137876,
          0.6909539883958143,
          null,
          0.6794994876137876,
          0.6336633080273963,
          null,
          0.6794994876137876,
          0.699989084654049,
          null,
          0.1883623632828778,
          0.24304967370549924,
          null,
          0.1883623632828778,
          0.1303672076441753,
          null,
          0.1883623632828778,
          0.10466793644999628,
          null,
          0.1883623632828778,
          0.27043256139707883,
          null,
          0.24447688382004606,
          0.1644969601327082,
          null,
          0.24447688382004606,
          0.34990889877063613,
          null,
          0.17078160590597158,
          0.0800942382790586,
          null,
          0.17078160590597158,
          0.1644969601327082,
          null,
          0.17078160590597158,
          0.23150902026846376,
          null,
          0.17078160590597158,
          0.14518338120637386,
          null,
          0.17078160590597158,
          0.0794541987499291,
          null,
          0.8573404848847084,
          0.812906913463267,
          null,
          0.8573404848847084,
          0.9069264990490169,
          null,
          0.8573404848847084,
          0.8846976471542541,
          null,
          0.812906913463267,
          0.815422026525087,
          null,
          0.812906913463267,
          0.7598044385975393,
          null,
          0.812906913463267,
          0.9069264990490169,
          null,
          0.812906913463267,
          0.8846976471542541,
          null,
          0.11861217636798516,
          0.14137273526990002,
          null,
          0.11861217636798516,
          0.16099416630801977,
          null,
          0.11861217636798516,
          0.07646912921843885,
          null,
          0.6321637000361616,
          0.678357874305682,
          null,
          0.6321637000361616,
          0.6467350202493432,
          null,
          0.6321637000361616,
          0.6843939445573577,
          null,
          0.6321637000361616,
          0.6060888144521592,
          null,
          0.6321637000361616,
          0.5307712101404661,
          null,
          0.14137273526990002,
          0.16099416630801977,
          null,
          0.14137273526990002,
          0.07646912921843885,
          null,
          0.9783638330955428,
          0.955060309247062,
          null,
          0.915081224553825,
          0.9532907041771828,
          null,
          0.915081224553825,
          0.97050308624605,
          null,
          0.915081224553825,
          0.8572428852732737,
          null,
          0.915081224553825,
          0.9107040360106008,
          null,
          0.11374725920987783,
          0.09089424678624036,
          null,
          0.11374725920987783,
          0.043504361004192305,
          null,
          0.11374725920987783,
          0.0957752704223197,
          null,
          0.11374725920987783,
          0.07118438835188612,
          null,
          0.11374725920987783,
          0.1303672076441753,
          null,
          0.2717736226834131,
          0.23150902026846376,
          null,
          0.2717736226834131,
          0.33783280582395114,
          null,
          0.2717736226834131,
          0.2857216249244011,
          null,
          0.2717736226834131,
          0.25933188458320766,
          null,
          0.09089424678624036,
          0.0957752704223197,
          null,
          0.815422026525087,
          0.7598044385975393,
          null,
          0.815422026525087,
          0.8846976471542541,
          null,
          0.815422026525087,
          0.699989084654049,
          null,
          0.678357874305682,
          0.6467350202493432,
          null,
          0.678357874305682,
          0.6843939445573577,
          null,
          0.678357874305682,
          0.6060888144521592,
          null,
          0.32902925020932505,
          0.24304967370549924,
          null,
          0.32902925020932505,
          0.40253359978738146,
          null,
          0.32902925020932505,
          0.38445235947222733,
          null,
          0.32902925020932505,
          0.37036616944395406,
          null,
          0.32902925020932505,
          0.27043256139707883,
          null,
          0.24304967370549924,
          0.27043256139707883,
          null,
          0.0800942382790586,
          0.14518338120637386,
          null,
          0.0800942382790586,
          0.0794541987499291,
          null,
          0.0800942382790586,
          0.02772545966523632,
          null,
          0.6995714318955244,
          0.6094427364864742,
          null,
          0.6995714318955244,
          0.6316056661308561,
          null,
          0.40253359978738146,
          0.4087899743666088,
          null,
          0.40253359978738146,
          0.38445235947222733,
          null,
          0.40253359978738146,
          0.37036616944395406,
          null,
          0.3667304138617419,
          0.2790147322067743,
          null,
          0.3667304138617419,
          0.4455907866138593,
          null,
          0.3667304138617419,
          0.33783280582395114,
          null,
          0.9532907041771828,
          0.97050308624605,
          null,
          0.9532907041771828,
          0.8572428852732737,
          null,
          0.9532907041771828,
          0.9107040360106008,
          null,
          0.6467350202493432,
          0.6909539883958143,
          null,
          0.6467350202493432,
          0.6336633080273963,
          null,
          0.6467350202493432,
          0.6060888144521592,
          null,
          0.6467350202493432,
          0.699989084654049,
          null,
          0.4087899743666088,
          0.38445235947222733,
          null,
          0.4087899743666088,
          0.37036616944395406,
          null,
          0.4087899743666088,
          0.34990889877063613,
          null,
          0.2790147322067743,
          0.16099416630801977,
          null,
          0.4455907866138593,
          0.5307712101404661,
          null,
          0.043504361004192305,
          0.0957752704223197,
          null,
          0.043504361004192305,
          0.07118438835188612,
          null,
          0.043504361004192305,
          0.1303672076441753,
          null,
          0.043504361004192305,
          0.10466793644999628,
          null,
          0.0957752704223197,
          0.07118438835188612,
          null,
          0.0957752704223197,
          0.1303672076441753,
          null,
          0.09768745559390957,
          0.16099416630801977,
          null,
          0.09768745559390957,
          0.10895716746692741,
          null,
          0.09768745559390957,
          0.01743401633261754,
          null,
          0.09768745559390957,
          0.017721704076651967,
          null,
          0.7598044385975393,
          0.6909539883958143,
          null,
          0.7598044385975393,
          0.699989084654049,
          null,
          0.739688310990777,
          0.7157623907794699,
          null,
          0.739688310990777,
          0.7740619781286796,
          null,
          0.739688310990777,
          0.8429366339296461,
          null,
          0.739688310990777,
          0.6304097176645608,
          null,
          0.1644969601327082,
          0.14518338120637386,
          null,
          0.1644969601327082,
          0.0794541987499291,
          null,
          0.6176365088337953,
          0.5116763908762945,
          null,
          0.6176365088337953,
          0.6304097176645608,
          null,
          0.6176365088337953,
          0.5171607199595519,
          null,
          0.7157623907794699,
          0.7740619781286796,
          null,
          0.510944266225486,
          0.523723336727139,
          null,
          0.510944266225486,
          0.57610767002445,
          null,
          0.38193534804712126,
          0.45115748690390034,
          null,
          0.38193534804712126,
          0.38822096186650434,
          null,
          0.97050308624605,
          0.9107040360106008,
          null,
          0.23150902026846376,
          0.14518338120637386,
          null,
          0.23150902026846376,
          0.2857216249244011,
          null,
          0.23150902026846376,
          0.31084913053549723,
          null,
          0.23150902026846376,
          0.25933188458320766,
          null,
          0.16099416630801977,
          0.07646912921843885,
          null,
          0.7740619781286796,
          0.8429366339296461,
          null,
          0.10895716746692741,
          0.01743401633261754,
          null,
          0.8572428852732737,
          0.7883796835664513,
          null,
          0.8572428852732737,
          0.9107040360106008,
          null,
          0.6909539883958143,
          0.6336633080273963,
          null,
          0.6909539883958143,
          0.699989084654049,
          null,
          0.9069264990490169,
          0.8846976471542541,
          null,
          0.38445235947222733,
          0.37036616944395406,
          null,
          0.38445235947222733,
          0.34990889877063613,
          null,
          0.523723336727139,
          0.6336633080273963,
          null,
          0.523723336727139,
          0.57610767002445,
          null,
          0.14518338120637386,
          0.0794541987499291,
          null,
          0.6843939445573577,
          0.6060888144521592,
          null,
          0.07118438835188612,
          0.1303672076441753,
          null,
          0.07118438835188612,
          0.10466793644999628,
          null,
          0.0794541987499291,
          0.02772545966523632,
          null,
          0.6094427364864742,
          0.6316056661308561,
          null,
          0.6094427364864742,
          0.5171607199595519,
          null,
          0.5096083701456786,
          0.45115748690390034,
          null,
          0.1303672076441753,
          0.10466793644999628,
          null,
          0.33783280582395114,
          0.2857216249244011,
          null,
          0.33783280582395114,
          0.25933188458320766,
          null,
          0.45115748690390034,
          0.38822096186650434,
          null,
          0.2857216249244011,
          0.25933188458320766,
          null,
          0.38212966318459796,
          0.31084913053549723,
          null,
          0.38212966318459796,
          0.34990889877063613,
          null,
          0.6316056661308561,
          0.6304097176645608,
          null,
          0.10466793644999628,
          0.019741416750032603,
          null,
          0.6336633080273963,
          0.699989084654049,
          null,
          0.31084913053549723,
          0.34990889877063613,
          null,
          0.5116763908762945,
          0.6304097176645608,
          null,
          0.5116763908762945,
          0.5171607199595519,
          null,
          0.6060888144521592,
          0.5307712101404661,
          null,
          0.01743401633261754,
          0.017721704076651967,
          null,
          0.37036616944395406,
          0.27043256139707883,
          null,
          0.5921560254755239,
          0.57610767002445,
          null,
          0.07646912921843885,
          0.017721704076651967,
          null
         ]
        },
        {
         "hoverinfo": "text",
         "marker": {
          "color": [
           4,
           8,
           4,
           15,
           9,
           12,
           6,
           8,
           2,
           11,
           9,
           8,
           6,
           3,
           11,
           12,
           5,
           12,
           4,
           5,
           6,
           3,
           7,
           10,
           8,
           10,
           7,
           5,
           12,
           11,
           10,
           11,
           8,
           5,
           8,
           10,
           8,
           7,
           12,
           5,
           11,
           5,
           8,
           8,
           5,
           10,
           10,
           3,
           11,
           7,
           11,
           4,
           14,
           7,
           5,
           7,
           5,
           10,
           7,
           7,
           10,
           13,
           12,
           7,
           4,
           11,
           11,
           10,
           11,
           12,
           9,
           7,
           11,
           6,
           8,
           7,
           8,
           11,
           4,
           11,
           4,
           8,
           9,
           8,
           8,
           6,
           8,
           3,
           5,
           11,
           8,
           11,
           12,
           9,
           13,
           12,
           6,
           8,
           7,
           10,
           12,
           6,
           8,
           10,
           5,
           11,
           6,
           9,
           6,
           13,
           10,
           4,
           9,
           10,
           10,
           7,
           6,
           9,
           7,
           12,
           6,
           13,
           7,
           2,
           10,
           13,
           9,
           6,
           11,
           10,
           12,
           8,
           10,
           4,
           9,
           11,
           10,
           15,
           8,
           9,
           7,
           13,
           12,
           10,
           13,
           8,
           9,
           9,
           5,
           7,
           9,
           5,
           10,
           10,
           5,
           7,
           11,
           11,
           8,
           8,
           9,
           5,
           8,
           11,
           8,
           9,
           12,
           6,
           3,
           14,
           12,
           9,
           9,
           12,
           7,
           6,
           9,
           12,
           6,
           11,
           11,
           2,
           9,
           9,
           8,
           10,
           12,
           10,
           6,
           10,
           6,
           8,
           8,
           7,
           7,
           2,
           2,
           11,
           9,
           10
          ],
          "colorbar": {
           "thickness": 15,
           "title": {
            "side": "right",
            "text": "Node Connections"
           },
           "xanchor": "left"
          },
          "colorscale": [
           [
            0,
            "rgb(255,255,217)"
           ],
           [
            0.125,
            "rgb(237,248,177)"
           ],
           [
            0.25,
            "rgb(199,233,180)"
           ],
           [
            0.375,
            "rgb(127,205,187)"
           ],
           [
            0.5,
            "rgb(65,182,196)"
           ],
           [
            0.625,
            "rgb(29,145,192)"
           ],
           [
            0.75,
            "rgb(34,94,168)"
           ],
           [
            0.875,
            "rgb(37,52,148)"
           ],
           [
            1,
            "rgb(8,29,88)"
           ]
          ],
          "line": {
           "width": 2
          },
          "reversescale": true,
          "showscale": true,
          "size": 10
         },
         "mode": "markers",
         "text": [
          "# of connections: 4",
          "# of connections: 8",
          "# of connections: 4",
          "# of connections: 15",
          "# of connections: 9",
          "# of connections: 12",
          "# of connections: 6",
          "# of connections: 8",
          "# of connections: 2",
          "# of connections: 11",
          "# of connections: 9",
          "# of connections: 8",
          "# of connections: 6",
          "# of connections: 3",
          "# of connections: 11",
          "# of connections: 12",
          "# of connections: 5",
          "# of connections: 12",
          "# of connections: 4",
          "# of connections: 5",
          "# of connections: 6",
          "# of connections: 3",
          "# of connections: 7",
          "# of connections: 10",
          "# of connections: 8",
          "# of connections: 10",
          "# of connections: 7",
          "# of connections: 5",
          "# of connections: 12",
          "# of connections: 11",
          "# of connections: 10",
          "# of connections: 11",
          "# of connections: 8",
          "# of connections: 5",
          "# of connections: 8",
          "# of connections: 10",
          "# of connections: 8",
          "# of connections: 7",
          "# of connections: 12",
          "# of connections: 5",
          "# of connections: 11",
          "# of connections: 5",
          "# of connections: 8",
          "# of connections: 8",
          "# of connections: 5",
          "# of connections: 10",
          "# of connections: 10",
          "# of connections: 3",
          "# of connections: 11",
          "# of connections: 7",
          "# of connections: 11",
          "# of connections: 4",
          "# of connections: 14",
          "# of connections: 7",
          "# of connections: 5",
          "# of connections: 7",
          "# of connections: 5",
          "# of connections: 10",
          "# of connections: 7",
          "# of connections: 7",
          "# of connections: 10",
          "# of connections: 13",
          "# of connections: 12",
          "# of connections: 7",
          "# of connections: 4",
          "# of connections: 11",
          "# of connections: 11",
          "# of connections: 10",
          "# of connections: 11",
          "# of connections: 12",
          "# of connections: 9",
          "# of connections: 7",
          "# of connections: 11",
          "# of connections: 6",
          "# of connections: 8",
          "# of connections: 7",
          "# of connections: 8",
          "# of connections: 11",
          "# of connections: 4",
          "# of connections: 11",
          "# of connections: 4",
          "# of connections: 8",
          "# of connections: 9",
          "# of connections: 8",
          "# of connections: 8",
          "# of connections: 6",
          "# of connections: 8",
          "# of connections: 3",
          "# of connections: 5",
          "# of connections: 11",
          "# of connections: 8",
          "# of connections: 11",
          "# of connections: 12",
          "# of connections: 9",
          "# of connections: 13",
          "# of connections: 12",
          "# of connections: 6",
          "# of connections: 8",
          "# of connections: 7",
          "# of connections: 10",
          "# of connections: 12",
          "# of connections: 6",
          "# of connections: 8",
          "# of connections: 10",
          "# of connections: 5",
          "# of connections: 11",
          "# of connections: 6",
          "# of connections: 9",
          "# of connections: 6",
          "# of connections: 13",
          "# of connections: 10",
          "# of connections: 4",
          "# of connections: 9",
          "# of connections: 10",
          "# of connections: 10",
          "# of connections: 7",
          "# of connections: 6",
          "# of connections: 9",
          "# of connections: 7",
          "# of connections: 12",
          "# of connections: 6",
          "# of connections: 13",
          "# of connections: 7",
          "# of connections: 2",
          "# of connections: 10",
          "# of connections: 13",
          "# of connections: 9",
          "# of connections: 6",
          "# of connections: 11",
          "# of connections: 10",
          "# of connections: 12",
          "# of connections: 8",
          "# of connections: 10",
          "# of connections: 4",
          "# of connections: 9",
          "# of connections: 11",
          "# of connections: 10",
          "# of connections: 15",
          "# of connections: 8",
          "# of connections: 9",
          "# of connections: 7",
          "# of connections: 13",
          "# of connections: 12",
          "# of connections: 10",
          "# of connections: 13",
          "# of connections: 8",
          "# of connections: 9",
          "# of connections: 9",
          "# of connections: 5",
          "# of connections: 7",
          "# of connections: 9",
          "# of connections: 5",
          "# of connections: 10",
          "# of connections: 10",
          "# of connections: 5",
          "# of connections: 7",
          "# of connections: 11",
          "# of connections: 11",
          "# of connections: 8",
          "# of connections: 8",
          "# of connections: 9",
          "# of connections: 5",
          "# of connections: 8",
          "# of connections: 11",
          "# of connections: 8",
          "# of connections: 9",
          "# of connections: 12",
          "# of connections: 6",
          "# of connections: 3",
          "# of connections: 14",
          "# of connections: 12",
          "# of connections: 9",
          "# of connections: 9",
          "# of connections: 12",
          "# of connections: 7",
          "# of connections: 6",
          "# of connections: 9",
          "# of connections: 12",
          "# of connections: 6",
          "# of connections: 11",
          "# of connections: 11",
          "# of connections: 2",
          "# of connections: 9",
          "# of connections: 9",
          "# of connections: 8",
          "# of connections: 10",
          "# of connections: 12",
          "# of connections: 10",
          "# of connections: 6",
          "# of connections: 10",
          "# of connections: 6",
          "# of connections: 8",
          "# of connections: 8",
          "# of connections: 7",
          "# of connections: 7",
          "# of connections: 2",
          "# of connections: 2",
          "# of connections: 11",
          "# of connections: 9",
          "# of connections: 10"
         ],
         "type": "scatter",
         "x": [
          0.983298061615303,
          0.15779326095909885,
          0.5877020023710561,
          0.13651864824378512,
          0.56136605974453,
          0.6214446026849548,
          0.5493067780655132,
          0.7934338683401077,
          0.8361120192994633,
          0.8470769379650049,
          0.4601175485306277,
          0.6841831089179644,
          0.3145161236527879,
          0.6648197696607414,
          0.4238078041243618,
          0.12475681200653588,
          0.9327231910789899,
          0.45547562181694423,
          0.9604812724748278,
          0.9084134466577821,
          0.2776877747528832,
          0.7659544229039292,
          0.0800719740565643,
          0.23787242323203794,
          0.06640359543659435,
          0.13144340074304073,
          0.2473856514227295,
          0.6234966969349448,
          0.3917406546151101,
          0.8039373911478315,
          0.08101089785083104,
          0.4819687564615486,
          0.8896686895213017,
          0.5301711818574536,
          0.1494628489548241,
          0.27859945301421307,
          0.3685604342866926,
          0.8081718124283722,
          0.6775970806413057,
          0.0324507204623532,
          0.7563977514631786,
          0.9446057976452906,
          0.23346660732822244,
          0.3135198783606413,
          0.6351672175820408,
          0.5033414775420749,
          0.07674581227044541,
          0.7144301084171997,
          0.7853201132712541,
          0.8621843142506627,
          0.24730683196405312,
          0.43188059698148373,
          0.1997338728073963,
          0.5658986404836176,
          0.00363265581048422,
          0.3831925083323746,
          0.4097745833180204,
          0.48815342364359215,
          0.018567946066445407,
          0.08540655168903433,
          0.3525634510904576,
          0.08822977330489723,
          0.209499225276486,
          0.5248867499321308,
          0.6407116614861088,
          0.12809239494538394,
          0.844188833970533,
          0.8731619813340218,
          0.7578801713077359,
          0.7993727947314647,
          0.17928333952951736,
          0.01864170819630029,
          0.8036078191378963,
          0.5522958370963839,
          0.8091289742818839,
          0.026037187856217447,
          0.44695596351543176,
          0.03614151704688473,
          0.8841913193693315,
          0.8872885664778845,
          0.006374070791069997,
          0.5594314613296788,
          0.16674172214220473,
          0.49300838127228486,
          0.24900300564343536,
          0.9270715272333923,
          0.6853152766154812,
          0.02714993559253487,
          0.25552502464851556,
          0.7986723022091571,
          0.8742860942062438,
          0.3931312422151054,
          0.1453331975238622,
          0.7043986455890053,
          0.17616509271507075,
          0.3480500750281056,
          0.2989036202721208,
          0.7312323132884943,
          0.4167343310208186,
          0.7587331191245216,
          0.11629465188948085,
          0.49303880145352563,
          0.23669422279350671,
          0.3539774035904506,
          0.40489051893069805,
          0.4185929477263849,
          0.8975145107113129,
          0.14513076923878643,
          0.4029757154075636,
          0.11066850795436367,
          0.32225279980916766,
          0.5764498335203967,
          0.77518992856732,
          0.5231466098929667,
          0.2413811517695984,
          0.6668025589745343,
          0.5453990146503785,
          0.39645807714258385,
          0.04178256037840944,
          0.11319083098060145,
          0.04959289940515954,
          0.10558016229359668,
          0.039766458351152,
          0.9941855210497624,
          0.3994261863799812,
          0.8485595219137635,
          0.2612226899903637,
          0.9232469234301702,
          0.233413018069215,
          0.08629103858344889,
          0.6897053304783772,
          0.7002349679122277,
          0.37341828007009625,
          0.6506362491280013,
          0.6535286390276785,
          0.11930353476370481,
          0.44294279495184485,
          0.1713826155202096,
          0.5827809435499245,
          0.10812349969646617,
          0.04485725860602219,
          0.7830169469992393,
          0.8084141265757,
          0.19698081200951034,
          0.2249053797731373,
          0.8118219824753672,
          0.4858435886884319,
          0.7723310220259456,
          0.8744587045397902,
          0.31119619778027297,
          0.8704625324831572,
          0.3365740251606312,
          0.33307583880682046,
          0.0945023940984141,
          0.9151841411948757,
          0.24092311867936467,
          0.470698752997713,
          0.2572015864288415,
          0.03847996808293297,
          0.42829660421189275,
          0.5833814370096186,
          0.8751352706679553,
          0.29374158658086913,
          0.39697107358566963,
          0.0441784025675207,
          0.7558820517693752,
          0.46526599493988674,
          0.6292310183613842,
          0.965114412030404,
          0.7700956747118586,
          0.22339046929366757,
          0.8952471362800304,
          0.8863361311300415,
          0.23524915374159827,
          0.37474479380417514,
          0.6389554682681308,
          0.6828895451121558,
          0.27451055654266976,
          0.4201631237201553,
          0.757304294826838,
          0.10676055042291932,
          0.9738265431039723,
          0.759920078715474,
          0.7053381179296772,
          0.14650789608741321,
          0.38948469300597144,
          0.2231623057475437,
          0.08537925955955172,
          0.22903258443182317,
          0.6450375266642114,
          0.49829664584347055,
          0.4495034738106741,
          0.07115390405194,
          0.1480280242534947,
          0.2993126846843954,
          0.819924737866425,
          0.6213622104187693,
          0.6788678000046563,
          0.4002134681203505,
          0.47916689675092905
         ],
         "y": [
          0.34634037474921064,
          0.9021239389467938,
          0.7292140192391979,
          0.6166587395771208,
          0.29817052218863094,
          0.3128056906755644,
          0.5159777850194703,
          0.3726394153704564,
          0.9958172167115849,
          0.4628276973264547,
          0.03840223053828873,
          0.4840012350040165,
          0.05089220292873664,
          0.8388667780741308,
          0.8301730523282532,
          0.7516978524901915,
          0.3426595337299222,
          0.063073694685998,
          0.928277711354684,
          0.778343729960585,
          0.9407342325123572,
          0.9262444619269503,
          0.28782764406839456,
          0.6835006972309329,
          0.8998770473383971,
          0.38516263679132723,
          0.4438293420627475,
          0.8233284837623064,
          0.09861153616664209,
          0.13581152611923086,
          0.11032543986780519,
          0.9060821051774147,
          0.5539806353637365,
          0.5541826246915253,
          0.03747343802048109,
          0.320660451742136,
          0.707813557595408,
          0.6888207546626515,
          0.3783219827558977,
          0.4821683018886014,
          0.4614223146369366,
          0.3584393848668582,
          0.053826530238590964,
          0.5412459631389201,
          0.649589604848857,
          0.09042621626281866,
          0.5158698013931212,
          0.8380464975908317,
          0.12584324152978876,
          0.0012156921453794212,
          0.6960375084952382,
          0.45337654166276053,
          0.729649851131628,
          0.27126496120310084,
          0.896614610519811,
          0.48868928325338146,
          0.7246189849275886,
          0.8707244566501849,
          0.4379371834372656,
          0.26807543975145887,
          0.6113833849683527,
          0.6400001083370489,
          0.3475333633908405,
          0.9146251145653324,
          0.1447789416917209,
          0.0988921488818556,
          0.5749911573670295,
          0.12758769123486224,
          0.6293865549880397,
          0.03957050616316837,
          0.39066445674421846,
          0.6464606513268759,
          0.5367321726086284,
          0.03269780092803887,
          0.2945641518527877,
          0.808558373036571,
          0.5877218786539226,
          0.5509180661422909,
          0.8541640876034834,
          0.08857987154233449,
          0.03730894355686465,
          0.8959794943131316,
          0.8167730574414986,
          0.2744507712019718,
          0.85444828093156,
          0.521876331979982,
          0.4866590582867385,
          0.9966425172198103,
          0.4952006117702068,
          0.5047276990660347,
          0.6439404613269291,
          0.07827402202190314,
          0.20257472410585542,
          0.2292362485753764,
          0.3147592843819056,
          0.7344193241873843,
          0.8189942653637081,
          0.24218207526619207,
          0.6297446664797173,
          0.09586293702766535,
          0.2837379936694925,
          0.5698942295518434,
          0.17395935464962387,
          0.8434058548550013,
          0.9735301324237835,
          0.17983589775811404,
          0.0018027668186497703,
          0.5495724236818492,
          0.3456934278618702,
          0.7374848035848957,
          0.30215723903489944,
          0.9672045959422451,
          0.34940489484596005,
          0.8697421057421896,
          0.6794994876137876,
          0.1883623632828778,
          0.24447688382004606,
          0.17078160590597158,
          0.8573404848847084,
          0.812906913463267,
          0.11861217636798516,
          0.6321637000361616,
          0.14137273526990002,
          0.9783638330955428,
          0.915081224553825,
          0.11374725920987783,
          0.2717736226834131,
          0.09089424678624036,
          0.815422026525087,
          0.678357874305682,
          0.32902925020932505,
          0.24304967370549924,
          0.0800942382790586,
          0.6995714318955244,
          0.40253359978738146,
          0.3667304138617419,
          0.9532907041771828,
          0.6467350202493432,
          0.4087899743666088,
          0.2790147322067743,
          0.4455907866138593,
          0.043504361004192305,
          0.0957752704223197,
          0.09768745559390957,
          0.7598044385975393,
          0.739688310990777,
          0.1644969601327082,
          0.6176365088337953,
          0.7157623907794699,
          0.510944266225486,
          0.38193534804712126,
          0.97050308624605,
          0.23150902026846376,
          0.16099416630801977,
          0.7740619781286796,
          0.10895716746692741,
          0.8572428852732737,
          0.6909539883958143,
          0.9069264990490169,
          0.7883796835664513,
          0.38445235947222733,
          0.8429366339296461,
          0.523723336727139,
          0.14518338120637386,
          0.6843939445573577,
          0.07118438835188612,
          0.0794541987499291,
          0.6094427364864742,
          0.5096083701456786,
          0.1303672076441753,
          0.33783280582395114,
          0.45115748690390034,
          0.38822096186650434,
          0.2857216249244011,
          0.38212966318459796,
          0.6316056661308561,
          0.10466793644999628,
          0.6336633080273963,
          0.31084913053549723,
          0.5116763908762945,
          0.6060888144521592,
          0.955060309247062,
          0.6304097176645608,
          0.5171607199595519,
          0.8846976471542541,
          0.9107040360106008,
          0.699989084654049,
          0.5307712101404661,
          0.01743401633261754,
          0.37036616944395406,
          0.5921560254755239,
          0.02772545966523632,
          0.07646912921843885,
          0.017721704076651967,
          0.25933188458320766,
          0.9984667981543005,
          0.019741416750032603,
          0.27043256139707883,
          0.57610767002445,
          0.34990889877063613
         ]
        }
       ],
       "layout": {
        "annotations": [
         {
          "showarrow": false,
          "text": "Python code: <a href='https://plotly.com/ipython-notebooks/network-graphs/'> https://plotly.com/ipython-notebooks/network-graphs/</a>",
          "x": 0.005,
          "xref": "paper",
          "y": -0.002,
          "yref": "paper"
         }
        ],
        "hovermode": "closest",
        "margin": {
         "b": 20,
         "l": 5,
         "r": 5,
         "t": 40
        },
        "showlegend": false,
        "template": {
         "data": {
          "bar": [
           {
            "error_x": {
             "color": "#2a3f5f"
            },
            "error_y": {
             "color": "#2a3f5f"
            },
            "marker": {
             "line": {
              "color": "#E5ECF6",
              "width": 0.5
             },
             "pattern": {
              "fillmode": "overlay",
              "size": 10,
              "solidity": 0.2
             }
            },
            "type": "bar"
           }
          ],
          "barpolar": [
           {
            "marker": {
             "line": {
              "color": "#E5ECF6",
              "width": 0.5
             },
             "pattern": {
              "fillmode": "overlay",
              "size": 10,
              "solidity": 0.2
             }
            },
            "type": "barpolar"
           }
          ],
          "carpet": [
           {
            "aaxis": {
             "endlinecolor": "#2a3f5f",
             "gridcolor": "white",
             "linecolor": "white",
             "minorgridcolor": "white",
             "startlinecolor": "#2a3f5f"
            },
            "baxis": {
             "endlinecolor": "#2a3f5f",
             "gridcolor": "white",
             "linecolor": "white",
             "minorgridcolor": "white",
             "startlinecolor": "#2a3f5f"
            },
            "type": "carpet"
           }
          ],
          "choropleth": [
           {
            "colorbar": {
             "outlinewidth": 0,
             "ticks": ""
            },
            "type": "choropleth"
           }
          ],
          "contour": [
           {
            "colorbar": {
             "outlinewidth": 0,
             "ticks": ""
            },
            "colorscale": [
             [
              0,
              "#0d0887"
             ],
             [
              0.1111111111111111,
              "#46039f"
             ],
             [
              0.2222222222222222,
              "#7201a8"
             ],
             [
              0.3333333333333333,
              "#9c179e"
             ],
             [
              0.4444444444444444,
              "#bd3786"
             ],
             [
              0.5555555555555556,
              "#d8576b"
             ],
             [
              0.6666666666666666,
              "#ed7953"
             ],
             [
              0.7777777777777778,
              "#fb9f3a"
             ],
             [
              0.8888888888888888,
              "#fdca26"
             ],
             [
              1,
              "#f0f921"
             ]
            ],
            "type": "contour"
           }
          ],
          "contourcarpet": [
           {
            "colorbar": {
             "outlinewidth": 0,
             "ticks": ""
            },
            "type": "contourcarpet"
           }
          ],
          "heatmap": [
           {
            "colorbar": {
             "outlinewidth": 0,
             "ticks": ""
            },
            "colorscale": [
             [
              0,
              "#0d0887"
             ],
             [
              0.1111111111111111,
              "#46039f"
             ],
             [
              0.2222222222222222,
              "#7201a8"
             ],
             [
              0.3333333333333333,
              "#9c179e"
             ],
             [
              0.4444444444444444,
              "#bd3786"
             ],
             [
              0.5555555555555556,
              "#d8576b"
             ],
             [
              0.6666666666666666,
              "#ed7953"
             ],
             [
              0.7777777777777778,
              "#fb9f3a"
             ],
             [
              0.8888888888888888,
              "#fdca26"
             ],
             [
              1,
              "#f0f921"
             ]
            ],
            "type": "heatmap"
           }
          ],
          "heatmapgl": [
           {
            "colorbar": {
             "outlinewidth": 0,
             "ticks": ""
            },
            "colorscale": [
             [
              0,
              "#0d0887"
             ],
             [
              0.1111111111111111,
              "#46039f"
             ],
             [
              0.2222222222222222,
              "#7201a8"
             ],
             [
              0.3333333333333333,
              "#9c179e"
             ],
             [
              0.4444444444444444,
              "#bd3786"
             ],
             [
              0.5555555555555556,
              "#d8576b"
             ],
             [
              0.6666666666666666,
              "#ed7953"
             ],
             [
              0.7777777777777778,
              "#fb9f3a"
             ],
             [
              0.8888888888888888,
              "#fdca26"
             ],
             [
              1,
              "#f0f921"
             ]
            ],
            "type": "heatmapgl"
           }
          ],
          "histogram": [
           {
            "marker": {
             "pattern": {
              "fillmode": "overlay",
              "size": 10,
              "solidity": 0.2
             }
            },
            "type": "histogram"
           }
          ],
          "histogram2d": [
           {
            "colorbar": {
             "outlinewidth": 0,
             "ticks": ""
            },
            "colorscale": [
             [
              0,
              "#0d0887"
             ],
             [
              0.1111111111111111,
              "#46039f"
             ],
             [
              0.2222222222222222,
              "#7201a8"
             ],
             [
              0.3333333333333333,
              "#9c179e"
             ],
             [
              0.4444444444444444,
              "#bd3786"
             ],
             [
              0.5555555555555556,
              "#d8576b"
             ],
             [
              0.6666666666666666,
              "#ed7953"
             ],
             [
              0.7777777777777778,
              "#fb9f3a"
             ],
             [
              0.8888888888888888,
              "#fdca26"
             ],
             [
              1,
              "#f0f921"
             ]
            ],
            "type": "histogram2d"
           }
          ],
          "histogram2dcontour": [
           {
            "colorbar": {
             "outlinewidth": 0,
             "ticks": ""
            },
            "colorscale": [
             [
              0,
              "#0d0887"
             ],
             [
              0.1111111111111111,
              "#46039f"
             ],
             [
              0.2222222222222222,
              "#7201a8"
             ],
             [
              0.3333333333333333,
              "#9c179e"
             ],
             [
              0.4444444444444444,
              "#bd3786"
             ],
             [
              0.5555555555555556,
              "#d8576b"
             ],
             [
              0.6666666666666666,
              "#ed7953"
             ],
             [
              0.7777777777777778,
              "#fb9f3a"
             ],
             [
              0.8888888888888888,
              "#fdca26"
             ],
             [
              1,
              "#f0f921"
             ]
            ],
            "type": "histogram2dcontour"
           }
          ],
          "mesh3d": [
           {
            "colorbar": {
             "outlinewidth": 0,
             "ticks": ""
            },
            "type": "mesh3d"
           }
          ],
          "parcoords": [
           {
            "line": {
             "colorbar": {
              "outlinewidth": 0,
              "ticks": ""
             }
            },
            "type": "parcoords"
           }
          ],
          "pie": [
           {
            "automargin": true,
            "type": "pie"
           }
          ],
          "scatter": [
           {
            "fillpattern": {
             "fillmode": "overlay",
             "size": 10,
             "solidity": 0.2
            },
            "type": "scatter"
           }
          ],
          "scatter3d": [
           {
            "line": {
             "colorbar": {
              "outlinewidth": 0,
              "ticks": ""
             }
            },
            "marker": {
             "colorbar": {
              "outlinewidth": 0,
              "ticks": ""
             }
            },
            "type": "scatter3d"
           }
          ],
          "scattercarpet": [
           {
            "marker": {
             "colorbar": {
              "outlinewidth": 0,
              "ticks": ""
             }
            },
            "type": "scattercarpet"
           }
          ],
          "scattergeo": [
           {
            "marker": {
             "colorbar": {
              "outlinewidth": 0,
              "ticks": ""
             }
            },
            "type": "scattergeo"
           }
          ],
          "scattergl": [
           {
            "marker": {
             "colorbar": {
              "outlinewidth": 0,
              "ticks": ""
             }
            },
            "type": "scattergl"
           }
          ],
          "scattermapbox": [
           {
            "marker": {
             "colorbar": {
              "outlinewidth": 0,
              "ticks": ""
             }
            },
            "type": "scattermapbox"
           }
          ],
          "scatterpolar": [
           {
            "marker": {
             "colorbar": {
              "outlinewidth": 0,
              "ticks": ""
             }
            },
            "type": "scatterpolar"
           }
          ],
          "scatterpolargl": [
           {
            "marker": {
             "colorbar": {
              "outlinewidth": 0,
              "ticks": ""
             }
            },
            "type": "scatterpolargl"
           }
          ],
          "scatterternary": [
           {
            "marker": {
             "colorbar": {
              "outlinewidth": 0,
              "ticks": ""
             }
            },
            "type": "scatterternary"
           }
          ],
          "surface": [
           {
            "colorbar": {
             "outlinewidth": 0,
             "ticks": ""
            },
            "colorscale": [
             [
              0,
              "#0d0887"
             ],
             [
              0.1111111111111111,
              "#46039f"
             ],
             [
              0.2222222222222222,
              "#7201a8"
             ],
             [
              0.3333333333333333,
              "#9c179e"
             ],
             [
              0.4444444444444444,
              "#bd3786"
             ],
             [
              0.5555555555555556,
              "#d8576b"
             ],
             [
              0.6666666666666666,
              "#ed7953"
             ],
             [
              0.7777777777777778,
              "#fb9f3a"
             ],
             [
              0.8888888888888888,
              "#fdca26"
             ],
             [
              1,
              "#f0f921"
             ]
            ],
            "type": "surface"
           }
          ],
          "table": [
           {
            "cells": {
             "fill": {
              "color": "#EBF0F8"
             },
             "line": {
              "color": "white"
             }
            },
            "header": {
             "fill": {
              "color": "#C8D4E3"
             },
             "line": {
              "color": "white"
             }
            },
            "type": "table"
           }
          ]
         },
         "layout": {
          "annotationdefaults": {
           "arrowcolor": "#2a3f5f",
           "arrowhead": 0,
           "arrowwidth": 1
          },
          "autotypenumbers": "strict",
          "coloraxis": {
           "colorbar": {
            "outlinewidth": 0,
            "ticks": ""
           }
          },
          "colorscale": {
           "diverging": [
            [
             0,
             "#8e0152"
            ],
            [
             0.1,
             "#c51b7d"
            ],
            [
             0.2,
             "#de77ae"
            ],
            [
             0.3,
             "#f1b6da"
            ],
            [
             0.4,
             "#fde0ef"
            ],
            [
             0.5,
             "#f7f7f7"
            ],
            [
             0.6,
             "#e6f5d0"
            ],
            [
             0.7,
             "#b8e186"
            ],
            [
             0.8,
             "#7fbc41"
            ],
            [
             0.9,
             "#4d9221"
            ],
            [
             1,
             "#276419"
            ]
           ],
           "sequential": [
            [
             0,
             "#0d0887"
            ],
            [
             0.1111111111111111,
             "#46039f"
            ],
            [
             0.2222222222222222,
             "#7201a8"
            ],
            [
             0.3333333333333333,
             "#9c179e"
            ],
            [
             0.4444444444444444,
             "#bd3786"
            ],
            [
             0.5555555555555556,
             "#d8576b"
            ],
            [
             0.6666666666666666,
             "#ed7953"
            ],
            [
             0.7777777777777778,
             "#fb9f3a"
            ],
            [
             0.8888888888888888,
             "#fdca26"
            ],
            [
             1,
             "#f0f921"
            ]
           ],
           "sequentialminus": [
            [
             0,
             "#0d0887"
            ],
            [
             0.1111111111111111,
             "#46039f"
            ],
            [
             0.2222222222222222,
             "#7201a8"
            ],
            [
             0.3333333333333333,
             "#9c179e"
            ],
            [
             0.4444444444444444,
             "#bd3786"
            ],
            [
             0.5555555555555556,
             "#d8576b"
            ],
            [
             0.6666666666666666,
             "#ed7953"
            ],
            [
             0.7777777777777778,
             "#fb9f3a"
            ],
            [
             0.8888888888888888,
             "#fdca26"
            ],
            [
             1,
             "#f0f921"
            ]
           ]
          },
          "colorway": [
           "#636efa",
           "#EF553B",
           "#00cc96",
           "#ab63fa",
           "#FFA15A",
           "#19d3f3",
           "#FF6692",
           "#B6E880",
           "#FF97FF",
           "#FECB52"
          ],
          "font": {
           "color": "#2a3f5f"
          },
          "geo": {
           "bgcolor": "white",
           "lakecolor": "white",
           "landcolor": "#E5ECF6",
           "showlakes": true,
           "showland": true,
           "subunitcolor": "white"
          },
          "hoverlabel": {
           "align": "left"
          },
          "hovermode": "closest",
          "mapbox": {
           "style": "light"
          },
          "paper_bgcolor": "white",
          "plot_bgcolor": "#E5ECF6",
          "polar": {
           "angularaxis": {
            "gridcolor": "white",
            "linecolor": "white",
            "ticks": ""
           },
           "bgcolor": "#E5ECF6",
           "radialaxis": {
            "gridcolor": "white",
            "linecolor": "white",
            "ticks": ""
           }
          },
          "scene": {
           "xaxis": {
            "backgroundcolor": "#E5ECF6",
            "gridcolor": "white",
            "gridwidth": 2,
            "linecolor": "white",
            "showbackground": true,
            "ticks": "",
            "zerolinecolor": "white"
           },
           "yaxis": {
            "backgroundcolor": "#E5ECF6",
            "gridcolor": "white",
            "gridwidth": 2,
            "linecolor": "white",
            "showbackground": true,
            "ticks": "",
            "zerolinecolor": "white"
           },
           "zaxis": {
            "backgroundcolor": "#E5ECF6",
            "gridcolor": "white",
            "gridwidth": 2,
            "linecolor": "white",
            "showbackground": true,
            "ticks": "",
            "zerolinecolor": "white"
           }
          },
          "shapedefaults": {
           "line": {
            "color": "#2a3f5f"
           }
          },
          "ternary": {
           "aaxis": {
            "gridcolor": "white",
            "linecolor": "white",
            "ticks": ""
           },
           "baxis": {
            "gridcolor": "white",
            "linecolor": "white",
            "ticks": ""
           },
           "bgcolor": "#E5ECF6",
           "caxis": {
            "gridcolor": "white",
            "linecolor": "white",
            "ticks": ""
           }
          },
          "title": {
           "x": 0.05
          },
          "xaxis": {
           "automargin": true,
           "gridcolor": "white",
           "linecolor": "white",
           "ticks": "",
           "title": {
            "standoff": 15
           },
           "zerolinecolor": "white",
           "zerolinewidth": 2
          },
          "yaxis": {
           "automargin": true,
           "gridcolor": "white",
           "linecolor": "white",
           "ticks": "",
           "title": {
            "standoff": 15
           },
           "zerolinecolor": "white",
           "zerolinewidth": 2
          }
         }
        },
        "title": {
         "font": {
          "size": 16
         },
         "text": "<br>Network graph made with Python"
        },
        "xaxis": {
         "showgrid": false,
         "showticklabels": false,
         "zeroline": false
        },
        "yaxis": {
         "showgrid": false,
         "showticklabels": false,
         "zeroline": false
        }
       }
      }
     },
     "metadata": {},
     "output_type": "display_data"
    }
   ],
   "source": [
    "fig = go.Figure(data=[edge_trace, node_trace],\n",
    "             layout=go.Layout(\n",
    "                title='<br>Network graph made with Python',\n",
    "                titlefont_size=16,\n",
    "                showlegend=False,\n",
    "                hovermode='closest',\n",
    "                margin=dict(b=20,l=5,r=5,t=40),\n",
    "                annotations=[ dict(\n",
    "                    text=\"Python code: <a href='https://plotly.com/ipython-notebooks/network-graphs/'> https://plotly.com/ipython-notebooks/network-graphs/</a>\",\n",
    "                    showarrow=False,\n",
    "                    xref=\"paper\", yref=\"paper\",\n",
    "                    x=0.005, y=-0.002 ) ],\n",
    "                xaxis=dict(showgrid=False, zeroline=False, showticklabels=False),\n",
    "                yaxis=dict(showgrid=False, zeroline=False, showticklabels=False))\n",
    "                )\n",
    "fig.show()"
   ]
  }
 ],
 "metadata": {
  "kernelspec": {
   "display_name": "virtual_env",
   "language": "python",
   "name": "python3"
  },
  "language_info": {
   "codemirror_mode": {
    "name": "ipython",
    "version": 3
   },
   "file_extension": ".py",
   "mimetype": "text/x-python",
   "name": "python",
   "nbconvert_exporter": "python",
   "pygments_lexer": "ipython3",
   "version": "3.10.4"
  },
  "orig_nbformat": 4,
  "vscode": {
   "interpreter": {
    "hash": "687274526d4aa2e04447d7d070c6f665e4726a27c7a8a0088b2d1697dc8ad3d8"
   }
  }
 },
 "nbformat": 4,
 "nbformat_minor": 2
}
