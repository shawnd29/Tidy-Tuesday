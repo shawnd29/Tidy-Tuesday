{
 "cells": [
  {
   "cell_type": "markdown",
   "metadata": {},
   "source": [
    "2022-05-24  <br/>\n",
    "Women's Rugby <br/>\n",
    "https://github.com/rfordatascience/tidytuesday/blob/master/data/2022/2022-05-24/readme.md"
   ]
  },
  {
   "cell_type": "markdown",
   "metadata": {},
   "source": [
    "Comparison bar plot - Completed"
   ]
  },
  {
   "cell_type": "markdown",
   "metadata": {},
   "source": [
    "https://stackoverflow.com/questions/32589829/how-to-get-value-counts-for-multiple-columns-at-once-in-pandas-dataframe <br/>\n",
    "\n",
    "https://towardsai.net/p/l/tips-and-tricks-for-plotly-bar-chart "
   ]
  },
  {
   "cell_type": "code",
   "execution_count": 28,
   "metadata": {},
   "outputs": [],
   "source": [
    "import pandas as pd\n",
    "import plotly.graph_objects as go\n",
    "import plotly.express as px\n",
    "import plotly.io as pio\n",
    "pio.renderers.default='jupyterlab'\n",
    "import os"
   ]
  },
  {
   "cell_type": "code",
   "execution_count": 2,
   "metadata": {},
   "outputs": [
    {
     "data": {
      "text/html": [
       "<div>\n",
       "<style scoped>\n",
       "    .dataframe tbody tr th:only-of-type {\n",
       "        vertical-align: middle;\n",
       "    }\n",
       "\n",
       "    .dataframe tbody tr th {\n",
       "        vertical-align: top;\n",
       "    }\n",
       "\n",
       "    .dataframe thead th {\n",
       "        text-align: right;\n",
       "    }\n",
       "</style>\n",
       "<table border=\"1\" class=\"dataframe\">\n",
       "  <thead>\n",
       "    <tr style=\"text-align: right;\">\n",
       "      <th></th>\n",
       "      <th>test_no</th>\n",
       "      <th>date</th>\n",
       "      <th>team_1</th>\n",
       "      <th>score_1</th>\n",
       "      <th>score_2</th>\n",
       "      <th>team_2</th>\n",
       "      <th>venue</th>\n",
       "      <th>home_test_no</th>\n",
       "      <th>away_test_no</th>\n",
       "      <th>series_no</th>\n",
       "      <th>tournament</th>\n",
       "      <th>margin_of_victory</th>\n",
       "      <th>home_away_win</th>\n",
       "      <th>winner</th>\n",
       "      <th>loser</th>\n",
       "    </tr>\n",
       "  </thead>\n",
       "  <tbody>\n",
       "    <tr>\n",
       "      <th>0</th>\n",
       "      <td>1</td>\n",
       "      <td>1982-06-13</td>\n",
       "      <td>Netherlands</td>\n",
       "      <td>0</td>\n",
       "      <td>4</td>\n",
       "      <td>France</td>\n",
       "      <td>Utrecht</td>\n",
       "      <td>1</td>\n",
       "      <td>1</td>\n",
       "      <td>1</td>\n",
       "      <td>Friendly</td>\n",
       "      <td>4</td>\n",
       "      <td>A</td>\n",
       "      <td>France</td>\n",
       "      <td>Netherlands</td>\n",
       "    </tr>\n",
       "    <tr>\n",
       "      <th>1</th>\n",
       "      <td>2</td>\n",
       "      <td>1983-06-05</td>\n",
       "      <td>France</td>\n",
       "      <td>10</td>\n",
       "      <td>0</td>\n",
       "      <td>Netherlands</td>\n",
       "      <td>La Teste</td>\n",
       "      <td>2</td>\n",
       "      <td>2</td>\n",
       "      <td>2</td>\n",
       "      <td>Friendly</td>\n",
       "      <td>10</td>\n",
       "      <td>H</td>\n",
       "      <td>France</td>\n",
       "      <td>Netherlands</td>\n",
       "    </tr>\n",
       "    <tr>\n",
       "      <th>2</th>\n",
       "      <td>3</td>\n",
       "      <td>1984-05-27</td>\n",
       "      <td>Netherlands</td>\n",
       "      <td>0</td>\n",
       "      <td>3</td>\n",
       "      <td>France</td>\n",
       "      <td>Hilversum</td>\n",
       "      <td>3</td>\n",
       "      <td>3</td>\n",
       "      <td>3</td>\n",
       "      <td>Friendly</td>\n",
       "      <td>3</td>\n",
       "      <td>A</td>\n",
       "      <td>France</td>\n",
       "      <td>Netherlands</td>\n",
       "    </tr>\n",
       "    <tr>\n",
       "      <th>3</th>\n",
       "      <td>4</td>\n",
       "      <td>1984-12-31</td>\n",
       "      <td>Sweden</td>\n",
       "      <td>0</td>\n",
       "      <td>34</td>\n",
       "      <td>Netherlands</td>\n",
       "      <td>Malmö</td>\n",
       "      <td>1</td>\n",
       "      <td>4</td>\n",
       "      <td>1</td>\n",
       "      <td>Friendly</td>\n",
       "      <td>34</td>\n",
       "      <td>A</td>\n",
       "      <td>Netherlands</td>\n",
       "      <td>Sweden</td>\n",
       "    </tr>\n",
       "    <tr>\n",
       "      <th>4</th>\n",
       "      <td>5</td>\n",
       "      <td>1985-06-02</td>\n",
       "      <td>France</td>\n",
       "      <td>20</td>\n",
       "      <td>0</td>\n",
       "      <td>Netherlands</td>\n",
       "      <td>Bourg en Bresse</td>\n",
       "      <td>4</td>\n",
       "      <td>5</td>\n",
       "      <td>4</td>\n",
       "      <td>Friendly</td>\n",
       "      <td>20</td>\n",
       "      <td>H</td>\n",
       "      <td>France</td>\n",
       "      <td>Netherlands</td>\n",
       "    </tr>\n",
       "  </tbody>\n",
       "</table>\n",
       "</div>"
      ],
      "text/plain": [
       "   test_no        date       team_1  score_1  score_2       team_2  \\\n",
       "0        1  1982-06-13  Netherlands        0        4       France   \n",
       "1        2  1983-06-05       France       10        0  Netherlands   \n",
       "2        3  1984-05-27  Netherlands        0        3       France   \n",
       "3        4  1984-12-31       Sweden        0       34  Netherlands   \n",
       "4        5  1985-06-02       France       20        0  Netherlands   \n",
       "\n",
       "             venue  home_test_no  away_test_no  series_no tournament  \\\n",
       "0          Utrecht             1             1          1   Friendly   \n",
       "1         La Teste             2             2          2   Friendly   \n",
       "2        Hilversum             3             3          3   Friendly   \n",
       "3            Malmö             1             4          1   Friendly   \n",
       "4  Bourg en Bresse             4             5          4   Friendly   \n",
       "\n",
       "   margin_of_victory home_away_win       winner        loser  \n",
       "0                  4             A       France  Netherlands  \n",
       "1                 10             H       France  Netherlands  \n",
       "2                  3             A       France  Netherlands  \n",
       "3                 34             A  Netherlands       Sweden  \n",
       "4                 20             H       France  Netherlands  "
      ]
     },
     "execution_count": 2,
     "metadata": {},
     "output_type": "execute_result"
    }
   ],
   "source": [
    "df = pd.read_csv('https://raw.githubusercontent.com/rfordatascience/tidytuesday/master/data/2022/2022-05-24/fifteens.csv')\n",
    "df.head()"
   ]
  },
  {
   "cell_type": "code",
   "execution_count": 10,
   "metadata": {},
   "outputs": [],
   "source": [
    "# Which team participated the most\n",
    "\n",
    "counts_df =df[['team_1','team_2']].melt(var_name='columns', value_name='country')"
   ]
  },
  {
   "cell_type": "code",
   "execution_count": 11,
   "metadata": {},
   "outputs": [
    {
     "data": {
      "text/plain": [
       "England        296\n",
       "France         256\n",
       "Wales          215\n",
       "Scotland       214\n",
       "Ireland        187\n",
       "              ... \n",
       "Bahamas          2\n",
       "Senegal          2\n",
       "Guatemala        1\n",
       "Venezuela        1\n",
       "El Salvador      1\n",
       "Name: country, Length: 73, dtype: int64"
      ]
     },
     "execution_count": 11,
     "metadata": {},
     "output_type": "execute_result"
    }
   ],
   "source": [
    "counts_df.country.value_counts()"
   ]
  },
  {
   "cell_type": "code",
   "execution_count": 12,
   "metadata": {},
   "outputs": [],
   "source": [
    "df_eng= df[(df.team_1=='England' )| (df.team_2=='England')]"
   ]
  },
  {
   "cell_type": "code",
   "execution_count": 13,
   "metadata": {},
   "outputs": [
    {
     "data": {
      "text/html": [
       "<div>\n",
       "<style scoped>\n",
       "    .dataframe tbody tr th:only-of-type {\n",
       "        vertical-align: middle;\n",
       "    }\n",
       "\n",
       "    .dataframe tbody tr th {\n",
       "        vertical-align: top;\n",
       "    }\n",
       "\n",
       "    .dataframe thead th {\n",
       "        text-align: right;\n",
       "    }\n",
       "</style>\n",
       "<table border=\"1\" class=\"dataframe\">\n",
       "  <thead>\n",
       "    <tr style=\"text-align: right;\">\n",
       "      <th></th>\n",
       "      <th>test_no</th>\n",
       "      <th>date</th>\n",
       "      <th>team_1</th>\n",
       "      <th>score_1</th>\n",
       "      <th>score_2</th>\n",
       "      <th>team_2</th>\n",
       "      <th>venue</th>\n",
       "      <th>home_test_no</th>\n",
       "      <th>away_test_no</th>\n",
       "      <th>series_no</th>\n",
       "      <th>tournament</th>\n",
       "      <th>margin_of_victory</th>\n",
       "      <th>home_away_win</th>\n",
       "      <th>winner</th>\n",
       "      <th>loser</th>\n",
       "    </tr>\n",
       "  </thead>\n",
       "  <tbody>\n",
       "    <tr>\n",
       "      <th>12</th>\n",
       "      <td>13</td>\n",
       "      <td>1987-04-05</td>\n",
       "      <td>Wales</td>\n",
       "      <td>4</td>\n",
       "      <td>22</td>\n",
       "      <td>England</td>\n",
       "      <td>Pontypool Park</td>\n",
       "      <td>1</td>\n",
       "      <td>1</td>\n",
       "      <td>1</td>\n",
       "      <td>Friendly</td>\n",
       "      <td>18</td>\n",
       "      <td>A</td>\n",
       "      <td>England</td>\n",
       "      <td>Wales</td>\n",
       "    </tr>\n",
       "    <tr>\n",
       "      <th>18</th>\n",
       "      <td>19</td>\n",
       "      <td>1988-04-24</td>\n",
       "      <td>Wales</td>\n",
       "      <td>6</td>\n",
       "      <td>36</td>\n",
       "      <td>England</td>\n",
       "      <td>Newport RFC</td>\n",
       "      <td>2</td>\n",
       "      <td>2</td>\n",
       "      <td>2</td>\n",
       "      <td>Friendly</td>\n",
       "      <td>30</td>\n",
       "      <td>A</td>\n",
       "      <td>England</td>\n",
       "      <td>Wales</td>\n",
       "    </tr>\n",
       "    <tr>\n",
       "      <th>26</th>\n",
       "      <td>27</td>\n",
       "      <td>1988-10-15</td>\n",
       "      <td>England</td>\n",
       "      <td>40</td>\n",
       "      <td>0</td>\n",
       "      <td>Sweden</td>\n",
       "      <td>Waterloo</td>\n",
       "      <td>3</td>\n",
       "      <td>5</td>\n",
       "      <td>1</td>\n",
       "      <td>Friendly</td>\n",
       "      <td>40</td>\n",
       "      <td>H</td>\n",
       "      <td>England</td>\n",
       "      <td>Sweden</td>\n",
       "    </tr>\n",
       "    <tr>\n",
       "      <th>29</th>\n",
       "      <td>30</td>\n",
       "      <td>1989-02-12</td>\n",
       "      <td>England</td>\n",
       "      <td>38</td>\n",
       "      <td>4</td>\n",
       "      <td>Wales</td>\n",
       "      <td>Moseley RFC</td>\n",
       "      <td>4</td>\n",
       "      <td>4</td>\n",
       "      <td>3</td>\n",
       "      <td>Friendly</td>\n",
       "      <td>34</td>\n",
       "      <td>H</td>\n",
       "      <td>England</td>\n",
       "      <td>Wales</td>\n",
       "    </tr>\n",
       "    <tr>\n",
       "      <th>35</th>\n",
       "      <td>36</td>\n",
       "      <td>1990-02-11</td>\n",
       "      <td>Wales</td>\n",
       "      <td>12</td>\n",
       "      <td>18</td>\n",
       "      <td>England</td>\n",
       "      <td>Neath RFC</td>\n",
       "      <td>5</td>\n",
       "      <td>5</td>\n",
       "      <td>4</td>\n",
       "      <td>Friendly</td>\n",
       "      <td>6</td>\n",
       "      <td>A</td>\n",
       "      <td>England</td>\n",
       "      <td>Wales</td>\n",
       "    </tr>\n",
       "    <tr>\n",
       "      <th>...</th>\n",
       "      <td>...</td>\n",
       "      <td>...</td>\n",
       "      <td>...</td>\n",
       "      <td>...</td>\n",
       "      <td>...</td>\n",
       "      <td>...</td>\n",
       "      <td>...</td>\n",
       "      <td>...</td>\n",
       "      <td>...</td>\n",
       "      <td>...</td>\n",
       "      <td>...</td>\n",
       "      <td>...</td>\n",
       "      <td>...</td>\n",
       "      <td>...</td>\n",
       "      <td>...</td>\n",
       "    </tr>\n",
       "    <tr>\n",
       "      <th>1450</th>\n",
       "      <td>1473</td>\n",
       "      <td>2022-03-26</td>\n",
       "      <td>Scotland</td>\n",
       "      <td>5</td>\n",
       "      <td>57</td>\n",
       "      <td>England</td>\n",
       "      <td>Dam Health Stadium, Edinburgh</td>\n",
       "      <td>210</td>\n",
       "      <td>292</td>\n",
       "      <td>31</td>\n",
       "      <td>6 Nations</td>\n",
       "      <td>52</td>\n",
       "      <td>A</td>\n",
       "      <td>England</td>\n",
       "      <td>Scotland</td>\n",
       "    </tr>\n",
       "    <tr>\n",
       "      <th>1455</th>\n",
       "      <td>1479</td>\n",
       "      <td>2022-02-03</td>\n",
       "      <td>Italy</td>\n",
       "      <td>0</td>\n",
       "      <td>74</td>\n",
       "      <td>England</td>\n",
       "      <td>Parma</td>\n",
       "      <td>165</td>\n",
       "      <td>293</td>\n",
       "      <td>23</td>\n",
       "      <td>6 Nations</td>\n",
       "      <td>74</td>\n",
       "      <td>A</td>\n",
       "      <td>England</td>\n",
       "      <td>Italy</td>\n",
       "    </tr>\n",
       "    <tr>\n",
       "      <th>1456</th>\n",
       "      <td>1480</td>\n",
       "      <td>2022-04-09</td>\n",
       "      <td>England</td>\n",
       "      <td>58</td>\n",
       "      <td>5</td>\n",
       "      <td>Wales</td>\n",
       "      <td>Kingsholm, Gloucester</td>\n",
       "      <td>294</td>\n",
       "      <td>213</td>\n",
       "      <td>38</td>\n",
       "      <td>6 Nations</td>\n",
       "      <td>53</td>\n",
       "      <td>H</td>\n",
       "      <td>England</td>\n",
       "      <td>Wales</td>\n",
       "    </tr>\n",
       "    <tr>\n",
       "      <th>1461</th>\n",
       "      <td>1485</td>\n",
       "      <td>2022-04-25</td>\n",
       "      <td>England</td>\n",
       "      <td>69</td>\n",
       "      <td>0</td>\n",
       "      <td>Ireland</td>\n",
       "      <td>Leicester</td>\n",
       "      <td>295</td>\n",
       "      <td>186</td>\n",
       "      <td>30</td>\n",
       "      <td>6 Nations</td>\n",
       "      <td>69</td>\n",
       "      <td>H</td>\n",
       "      <td>England</td>\n",
       "      <td>Ireland</td>\n",
       "    </tr>\n",
       "    <tr>\n",
       "      <th>1463</th>\n",
       "      <td>1487</td>\n",
       "      <td>2022-04-30</td>\n",
       "      <td>France</td>\n",
       "      <td>12</td>\n",
       "      <td>24</td>\n",
       "      <td>England</td>\n",
       "      <td>Bayonne</td>\n",
       "      <td>256</td>\n",
       "      <td>296</td>\n",
       "      <td>52</td>\n",
       "      <td>6 Nations</td>\n",
       "      <td>12</td>\n",
       "      <td>A</td>\n",
       "      <td>England</td>\n",
       "      <td>France</td>\n",
       "    </tr>\n",
       "  </tbody>\n",
       "</table>\n",
       "<p>296 rows × 15 columns</p>\n",
       "</div>"
      ],
      "text/plain": [
       "      test_no        date    team_1  score_1  score_2   team_2  \\\n",
       "12         13  1987-04-05     Wales        4       22  England   \n",
       "18         19  1988-04-24     Wales        6       36  England   \n",
       "26         27  1988-10-15   England       40        0   Sweden   \n",
       "29         30  1989-02-12   England       38        4    Wales   \n",
       "35         36  1990-02-11     Wales       12       18  England   \n",
       "...       ...         ...       ...      ...      ...      ...   \n",
       "1450     1473  2022-03-26  Scotland        5       57  England   \n",
       "1455     1479  2022-02-03     Italy        0       74  England   \n",
       "1456     1480  2022-04-09   England       58        5    Wales   \n",
       "1461     1485  2022-04-25   England       69        0  Ireland   \n",
       "1463     1487  2022-04-30    France       12       24  England   \n",
       "\n",
       "                              venue  home_test_no  away_test_no  series_no  \\\n",
       "12                   Pontypool Park             1             1          1   \n",
       "18                      Newport RFC             2             2          2   \n",
       "26                         Waterloo             3             5          1   \n",
       "29                      Moseley RFC             4             4          3   \n",
       "35                        Neath RFC             5             5          4   \n",
       "...                             ...           ...           ...        ...   \n",
       "1450  Dam Health Stadium, Edinburgh           210           292         31   \n",
       "1455                          Parma           165           293         23   \n",
       "1456          Kingsholm, Gloucester           294           213         38   \n",
       "1461                      Leicester           295           186         30   \n",
       "1463                        Bayonne           256           296         52   \n",
       "\n",
       "     tournament  margin_of_victory home_away_win   winner     loser  \n",
       "12     Friendly                 18             A  England     Wales  \n",
       "18     Friendly                 30             A  England     Wales  \n",
       "26     Friendly                 40             H  England    Sweden  \n",
       "29     Friendly                 34             H  England     Wales  \n",
       "35     Friendly                  6             A  England     Wales  \n",
       "...         ...                ...           ...      ...       ...  \n",
       "1450  6 Nations                 52             A  England  Scotland  \n",
       "1455  6 Nations                 74             A  England     Italy  \n",
       "1456  6 Nations                 53             H  England     Wales  \n",
       "1461  6 Nations                 69             H  England   Ireland  \n",
       "1463  6 Nations                 12             A  England    France  \n",
       "\n",
       "[296 rows x 15 columns]"
      ]
     },
     "execution_count": 13,
     "metadata": {},
     "output_type": "execute_result"
    }
   ],
   "source": [
    "df_eng"
   ]
  },
  {
   "cell_type": "code",
   "execution_count": 15,
   "metadata": {},
   "outputs": [
    {
     "data": {
      "text/plain": [
       "England          249\n",
       "New Zealand       18\n",
       "France            14\n",
       "Draw               4\n",
       "Canada             3\n",
       "Scotland           2\n",
       "Wales              2\n",
       "Ireland            2\n",
       "United States      1\n",
       "Spain              1\n",
       "Name: winner, dtype: int64"
      ]
     },
     "execution_count": 15,
     "metadata": {},
     "output_type": "execute_result"
    }
   ],
   "source": [
    "df_eng.winner.value_counts()"
   ]
  },
  {
   "cell_type": "code",
   "execution_count": 16,
   "metadata": {},
   "outputs": [
    {
     "data": {
      "text/plain": [
       "England          43\n",
       "France           38\n",
       "Wales            36\n",
       "Scotland         29\n",
       "Canada           28\n",
       "Ireland          28\n",
       "Italy            23\n",
       "United States    18\n",
       "Spain            14\n",
       "New Zealand      10\n",
       "South Africa      5\n",
       "Australia         5\n",
       "Netherlands       4\n",
       "Draw              4\n",
       "Sweden            3\n",
       "Kazakhstan        3\n",
       "Russia            2\n",
       "Samoa             2\n",
       "Germany           1\n",
       "Name: loser, dtype: int64"
      ]
     },
     "execution_count": 16,
     "metadata": {},
     "output_type": "execute_result"
    }
   ],
   "source": [
    "df_eng.loser.value_counts()"
   ]
  },
  {
   "cell_type": "code",
   "execution_count": 14,
   "metadata": {},
   "outputs": [
    {
     "data": {
      "text/plain": [
       "tournament\n",
       "5 Nations                35.250000\n",
       "6 Nations                35.019417\n",
       "Canada Cup               20.000000\n",
       "Churchill Cup            15.400000\n",
       "European Championship    29.666667\n",
       "FIRA                     25.636364\n",
       "Friendly                 23.067568\n",
       "Home Nations             21.000000\n",
       "Nations Cup              18.714286\n",
       "Super Series             16.300000\n",
       "World Cup                28.052632\n",
       "Name: margin_of_victory, dtype: float64"
      ]
     },
     "execution_count": 14,
     "metadata": {},
     "output_type": "execute_result"
    }
   ],
   "source": [
    "df_eng.groupby(['tournament'])['margin_of_victory'].mean()"
   ]
  },
  {
   "cell_type": "code",
   "execution_count": 30,
   "metadata": {},
   "outputs": [
    {
     "data": {
      "text/html": [
       "<div>\n",
       "<style scoped>\n",
       "    .dataframe tbody tr th:only-of-type {\n",
       "        vertical-align: middle;\n",
       "    }\n",
       "\n",
       "    .dataframe tbody tr th {\n",
       "        vertical-align: top;\n",
       "    }\n",
       "\n",
       "    .dataframe thead th {\n",
       "        text-align: right;\n",
       "    }\n",
       "</style>\n",
       "<table border=\"1\" class=\"dataframe\">\n",
       "  <thead>\n",
       "    <tr style=\"text-align: right;\">\n",
       "      <th></th>\n",
       "      <th>tournament</th>\n",
       "      <th>margin_of_victory</th>\n",
       "    </tr>\n",
       "  </thead>\n",
       "  <tbody>\n",
       "    <tr>\n",
       "      <th>0</th>\n",
       "      <td>5 Nations</td>\n",
       "      <td>35.0</td>\n",
       "    </tr>\n",
       "    <tr>\n",
       "      <th>1</th>\n",
       "      <td>6 Nations</td>\n",
       "      <td>39.0</td>\n",
       "    </tr>\n",
       "    <tr>\n",
       "      <th>2</th>\n",
       "      <td>Canada Cup</td>\n",
       "      <td>20.0</td>\n",
       "    </tr>\n",
       "    <tr>\n",
       "      <th>3</th>\n",
       "      <td>Churchill Cup</td>\n",
       "      <td>10.0</td>\n",
       "    </tr>\n",
       "    <tr>\n",
       "      <th>4</th>\n",
       "      <td>European Championship</td>\n",
       "      <td>30.0</td>\n",
       "    </tr>\n",
       "    <tr>\n",
       "      <th>5</th>\n",
       "      <td>FIRA</td>\n",
       "      <td>33.0</td>\n",
       "    </tr>\n",
       "    <tr>\n",
       "      <th>6</th>\n",
       "      <td>Friendly</td>\n",
       "      <td>25.0</td>\n",
       "    </tr>\n",
       "    <tr>\n",
       "      <th>7</th>\n",
       "      <td>Home Nations</td>\n",
       "      <td>23.0</td>\n",
       "    </tr>\n",
       "    <tr>\n",
       "      <th>8</th>\n",
       "      <td>Nations Cup</td>\n",
       "      <td>20.0</td>\n",
       "    </tr>\n",
       "    <tr>\n",
       "      <th>9</th>\n",
       "      <td>Super Series</td>\n",
       "      <td>13.0</td>\n",
       "    </tr>\n",
       "    <tr>\n",
       "      <th>10</th>\n",
       "      <td>World Cup</td>\n",
       "      <td>32.0</td>\n",
       "    </tr>\n",
       "  </tbody>\n",
       "</table>\n",
       "</div>"
      ],
      "text/plain": [
       "               tournament  margin_of_victory\n",
       "0               5 Nations               35.0\n",
       "1               6 Nations               39.0\n",
       "2              Canada Cup               20.0\n",
       "3           Churchill Cup               10.0\n",
       "4   European Championship               30.0\n",
       "5                    FIRA               33.0\n",
       "6                Friendly               25.0\n",
       "7            Home Nations               23.0\n",
       "8             Nations Cup               20.0\n",
       "9            Super Series               13.0\n",
       "10              World Cup               32.0"
      ]
     },
     "execution_count": 30,
     "metadata": {},
     "output_type": "execute_result"
    }
   ],
   "source": [
    "df_eng_win"
   ]
  },
  {
   "cell_type": "code",
   "execution_count": 36,
   "metadata": {},
   "outputs": [],
   "source": [
    "# Finiding average margain of wins and losses within each tournament \n",
    "df_eng_win =df_eng[df_eng.winner=='England'].groupby('tournament')['margin_of_victory'].mean().round(0).reset_index()\n",
    "df_eng_lose = df_eng[df_eng.loser == 'England'].groupby('tournament')['margin_of_victory'].mean().round(0).reset_index()\n"
   ]
  },
  {
   "cell_type": "code",
   "execution_count": 37,
   "metadata": {},
   "outputs": [
    {
     "data": {
      "text/html": [
       "<div>\n",
       "<style scoped>\n",
       "    .dataframe tbody tr th:only-of-type {\n",
       "        vertical-align: middle;\n",
       "    }\n",
       "\n",
       "    .dataframe tbody tr th {\n",
       "        vertical-align: top;\n",
       "    }\n",
       "\n",
       "    .dataframe thead th {\n",
       "        text-align: right;\n",
       "    }\n",
       "</style>\n",
       "<table border=\"1\" class=\"dataframe\">\n",
       "  <thead>\n",
       "    <tr style=\"text-align: right;\">\n",
       "      <th></th>\n",
       "      <th>tournament</th>\n",
       "      <th>margin_of_victory</th>\n",
       "      <th>margin_of_victory_final</th>\n",
       "    </tr>\n",
       "  </thead>\n",
       "  <tbody>\n",
       "    <tr>\n",
       "      <th>0</th>\n",
       "      <td>6 Nations</td>\n",
       "      <td>-7.0</td>\n",
       "      <td>7.0</td>\n",
       "    </tr>\n",
       "    <tr>\n",
       "      <th>1</th>\n",
       "      <td>Canada Cup</td>\n",
       "      <td>-19.0</td>\n",
       "      <td>19.0</td>\n",
       "    </tr>\n",
       "    <tr>\n",
       "      <th>2</th>\n",
       "      <td>Churchill Cup</td>\n",
       "      <td>-38.0</td>\n",
       "      <td>38.0</td>\n",
       "    </tr>\n",
       "    <tr>\n",
       "      <th>3</th>\n",
       "      <td>FIRA</td>\n",
       "      <td>-7.0</td>\n",
       "      <td>7.0</td>\n",
       "    </tr>\n",
       "    <tr>\n",
       "      <th>4</th>\n",
       "      <td>Friendly</td>\n",
       "      <td>-15.0</td>\n",
       "      <td>15.0</td>\n",
       "    </tr>\n",
       "    <tr>\n",
       "      <th>5</th>\n",
       "      <td>Home Nations</td>\n",
       "      <td>-3.0</td>\n",
       "      <td>3.0</td>\n",
       "    </tr>\n",
       "    <tr>\n",
       "      <th>6</th>\n",
       "      <td>Nations Cup</td>\n",
       "      <td>-9.0</td>\n",
       "      <td>9.0</td>\n",
       "    </tr>\n",
       "    <tr>\n",
       "      <th>7</th>\n",
       "      <td>Super Series</td>\n",
       "      <td>-23.0</td>\n",
       "      <td>23.0</td>\n",
       "    </tr>\n",
       "    <tr>\n",
       "      <th>8</th>\n",
       "      <td>World Cup</td>\n",
       "      <td>-13.0</td>\n",
       "      <td>13.0</td>\n",
       "    </tr>\n",
       "  </tbody>\n",
       "</table>\n",
       "</div>"
      ],
      "text/plain": [
       "      tournament  margin_of_victory  margin_of_victory_final\n",
       "0      6 Nations               -7.0                      7.0\n",
       "1     Canada Cup              -19.0                     19.0\n",
       "2  Churchill Cup              -38.0                     38.0\n",
       "3           FIRA               -7.0                      7.0\n",
       "4       Friendly              -15.0                     15.0\n",
       "5   Home Nations               -3.0                      3.0\n",
       "6    Nations Cup               -9.0                      9.0\n",
       "7   Super Series              -23.0                     23.0\n",
       "8      World Cup              -13.0                     13.0"
      ]
     },
     "execution_count": 37,
     "metadata": {},
     "output_type": "execute_result"
    }
   ],
   "source": [
    "df_eng_lose['margin_of_victory_final']=df_eng_lose['margin_of_victory']\n",
    "df_eng_lose['margin_of_victory']=df_eng_lose['margin_of_victory']*-1\n",
    "df_eng_lose"
   ]
  },
  {
   "cell_type": "code",
   "execution_count": 29,
   "metadata": {},
   "outputs": [],
   "source": [
    "from plotly.subplots import make_subplots"
   ]
  },
  {
   "cell_type": "code",
   "execution_count": 65,
   "metadata": {},
   "outputs": [
    {
     "data": {
      "application/vnd.plotly.v1+json": {
       "config": {
        "plotlyServerURL": "https://plot.ly"
       },
       "data": [
        {
         "marker": {
          "color": "#221f1f"
         },
         "name": "Matches Lost",
         "orientation": "h",
         "showlegend": true,
         "text": [
          7,
          19,
          38,
          7,
          15,
          3,
          9,
          23,
          13
         ],
         "type": "bar",
         "x": [
          -7,
          -19,
          -38,
          -7,
          -15,
          -3,
          -9,
          -23,
          -13
         ],
         "xaxis": "x",
         "y": [
          "6 Nations",
          "Canada Cup",
          "Churchill Cup",
          "FIRA",
          "Friendly",
          "Home Nations",
          "Nations Cup",
          "Super Series",
          "World Cup"
         ],
         "yaxis": "y"
        },
        {
         "marker": {
          "color": "#b20710"
         },
         "name": "Matches Won",
         "orientation": "h",
         "showlegend": true,
         "type": "bar",
         "x": [
          35,
          39,
          20,
          10,
          30,
          33,
          25,
          23,
          20,
          13,
          32
         ],
         "xaxis": "x2",
         "y": [
          "5 Nations",
          "6 Nations",
          "Canada Cup",
          "Churchill Cup",
          "European Championship",
          "FIRA",
          "Friendly",
          "Home Nations",
          "Nations Cup",
          "Super Series",
          "World Cup"
         ],
         "yaxis": "y2"
        }
       ],
       "layout": {
        "annotations": [
         {
          "ax": 0,
          "ay": 0,
          "text": "England domiates the <br> competion in the <br> 5 Nations and <br> the European Championships",
          "x": 0.95,
          "xref": "paper",
          "y": 0.7,
          "yref": "paper"
         },
         {
          "ax": 0,
          "ay": 0,
          "text": "The Super Series is not England's best cup of tea",
          "x": 0.2,
          "xref": "paper",
          "y": 0.3,
          "yref": "paper"
         }
        ],
        "autosize": false,
        "font": {
         "color": "#8a8d93"
        },
        "height": 1000,
        "hoverlabel": {
         "bgcolor": "black",
         "font": {
          "family": "Lato, sans-serif",
          "size": 13
         }
        },
        "hovermode": "y unified",
        "legend": {
         "orientation": "h",
         "x": 0.5,
         "xanchor": "center",
         "y": 1,
         "yanchor": "bottom"
        },
        "margin": {
         "b": 0,
         "l": 70,
         "r": 40,
         "t": 80
        },
        "paper_bgcolor": "#333",
        "plot_bgcolor": "#333",
        "template": {
         "data": {
          "bar": [
           {
            "error_x": {
             "color": "#2a3f5f"
            },
            "error_y": {
             "color": "#2a3f5f"
            },
            "marker": {
             "line": {
              "color": "#E5ECF6",
              "width": 0.5
             },
             "pattern": {
              "fillmode": "overlay",
              "size": 10,
              "solidity": 0.2
             }
            },
            "type": "bar"
           }
          ],
          "barpolar": [
           {
            "marker": {
             "line": {
              "color": "#E5ECF6",
              "width": 0.5
             },
             "pattern": {
              "fillmode": "overlay",
              "size": 10,
              "solidity": 0.2
             }
            },
            "type": "barpolar"
           }
          ],
          "carpet": [
           {
            "aaxis": {
             "endlinecolor": "#2a3f5f",
             "gridcolor": "white",
             "linecolor": "white",
             "minorgridcolor": "white",
             "startlinecolor": "#2a3f5f"
            },
            "baxis": {
             "endlinecolor": "#2a3f5f",
             "gridcolor": "white",
             "linecolor": "white",
             "minorgridcolor": "white",
             "startlinecolor": "#2a3f5f"
            },
            "type": "carpet"
           }
          ],
          "choropleth": [
           {
            "colorbar": {
             "outlinewidth": 0,
             "ticks": ""
            },
            "type": "choropleth"
           }
          ],
          "contour": [
           {
            "colorbar": {
             "outlinewidth": 0,
             "ticks": ""
            },
            "colorscale": [
             [
              0,
              "#0d0887"
             ],
             [
              0.1111111111111111,
              "#46039f"
             ],
             [
              0.2222222222222222,
              "#7201a8"
             ],
             [
              0.3333333333333333,
              "#9c179e"
             ],
             [
              0.4444444444444444,
              "#bd3786"
             ],
             [
              0.5555555555555556,
              "#d8576b"
             ],
             [
              0.6666666666666666,
              "#ed7953"
             ],
             [
              0.7777777777777778,
              "#fb9f3a"
             ],
             [
              0.8888888888888888,
              "#fdca26"
             ],
             [
              1,
              "#f0f921"
             ]
            ],
            "type": "contour"
           }
          ],
          "contourcarpet": [
           {
            "colorbar": {
             "outlinewidth": 0,
             "ticks": ""
            },
            "type": "contourcarpet"
           }
          ],
          "heatmap": [
           {
            "colorbar": {
             "outlinewidth": 0,
             "ticks": ""
            },
            "colorscale": [
             [
              0,
              "#0d0887"
             ],
             [
              0.1111111111111111,
              "#46039f"
             ],
             [
              0.2222222222222222,
              "#7201a8"
             ],
             [
              0.3333333333333333,
              "#9c179e"
             ],
             [
              0.4444444444444444,
              "#bd3786"
             ],
             [
              0.5555555555555556,
              "#d8576b"
             ],
             [
              0.6666666666666666,
              "#ed7953"
             ],
             [
              0.7777777777777778,
              "#fb9f3a"
             ],
             [
              0.8888888888888888,
              "#fdca26"
             ],
             [
              1,
              "#f0f921"
             ]
            ],
            "type": "heatmap"
           }
          ],
          "heatmapgl": [
           {
            "colorbar": {
             "outlinewidth": 0,
             "ticks": ""
            },
            "colorscale": [
             [
              0,
              "#0d0887"
             ],
             [
              0.1111111111111111,
              "#46039f"
             ],
             [
              0.2222222222222222,
              "#7201a8"
             ],
             [
              0.3333333333333333,
              "#9c179e"
             ],
             [
              0.4444444444444444,
              "#bd3786"
             ],
             [
              0.5555555555555556,
              "#d8576b"
             ],
             [
              0.6666666666666666,
              "#ed7953"
             ],
             [
              0.7777777777777778,
              "#fb9f3a"
             ],
             [
              0.8888888888888888,
              "#fdca26"
             ],
             [
              1,
              "#f0f921"
             ]
            ],
            "type": "heatmapgl"
           }
          ],
          "histogram": [
           {
            "marker": {
             "pattern": {
              "fillmode": "overlay",
              "size": 10,
              "solidity": 0.2
             }
            },
            "type": "histogram"
           }
          ],
          "histogram2d": [
           {
            "colorbar": {
             "outlinewidth": 0,
             "ticks": ""
            },
            "colorscale": [
             [
              0,
              "#0d0887"
             ],
             [
              0.1111111111111111,
              "#46039f"
             ],
             [
              0.2222222222222222,
              "#7201a8"
             ],
             [
              0.3333333333333333,
              "#9c179e"
             ],
             [
              0.4444444444444444,
              "#bd3786"
             ],
             [
              0.5555555555555556,
              "#d8576b"
             ],
             [
              0.6666666666666666,
              "#ed7953"
             ],
             [
              0.7777777777777778,
              "#fb9f3a"
             ],
             [
              0.8888888888888888,
              "#fdca26"
             ],
             [
              1,
              "#f0f921"
             ]
            ],
            "type": "histogram2d"
           }
          ],
          "histogram2dcontour": [
           {
            "colorbar": {
             "outlinewidth": 0,
             "ticks": ""
            },
            "colorscale": [
             [
              0,
              "#0d0887"
             ],
             [
              0.1111111111111111,
              "#46039f"
             ],
             [
              0.2222222222222222,
              "#7201a8"
             ],
             [
              0.3333333333333333,
              "#9c179e"
             ],
             [
              0.4444444444444444,
              "#bd3786"
             ],
             [
              0.5555555555555556,
              "#d8576b"
             ],
             [
              0.6666666666666666,
              "#ed7953"
             ],
             [
              0.7777777777777778,
              "#fb9f3a"
             ],
             [
              0.8888888888888888,
              "#fdca26"
             ],
             [
              1,
              "#f0f921"
             ]
            ],
            "type": "histogram2dcontour"
           }
          ],
          "mesh3d": [
           {
            "colorbar": {
             "outlinewidth": 0,
             "ticks": ""
            },
            "type": "mesh3d"
           }
          ],
          "parcoords": [
           {
            "line": {
             "colorbar": {
              "outlinewidth": 0,
              "ticks": ""
             }
            },
            "type": "parcoords"
           }
          ],
          "pie": [
           {
            "automargin": true,
            "type": "pie"
           }
          ],
          "scatter": [
           {
            "fillpattern": {
             "fillmode": "overlay",
             "size": 10,
             "solidity": 0.2
            },
            "type": "scatter"
           }
          ],
          "scatter3d": [
           {
            "line": {
             "colorbar": {
              "outlinewidth": 0,
              "ticks": ""
             }
            },
            "marker": {
             "colorbar": {
              "outlinewidth": 0,
              "ticks": ""
             }
            },
            "type": "scatter3d"
           }
          ],
          "scattercarpet": [
           {
            "marker": {
             "colorbar": {
              "outlinewidth": 0,
              "ticks": ""
             }
            },
            "type": "scattercarpet"
           }
          ],
          "scattergeo": [
           {
            "marker": {
             "colorbar": {
              "outlinewidth": 0,
              "ticks": ""
             }
            },
            "type": "scattergeo"
           }
          ],
          "scattergl": [
           {
            "marker": {
             "colorbar": {
              "outlinewidth": 0,
              "ticks": ""
             }
            },
            "type": "scattergl"
           }
          ],
          "scattermapbox": [
           {
            "marker": {
             "colorbar": {
              "outlinewidth": 0,
              "ticks": ""
             }
            },
            "type": "scattermapbox"
           }
          ],
          "scatterpolar": [
           {
            "marker": {
             "colorbar": {
              "outlinewidth": 0,
              "ticks": ""
             }
            },
            "type": "scatterpolar"
           }
          ],
          "scatterpolargl": [
           {
            "marker": {
             "colorbar": {
              "outlinewidth": 0,
              "ticks": ""
             }
            },
            "type": "scatterpolargl"
           }
          ],
          "scatterternary": [
           {
            "marker": {
             "colorbar": {
              "outlinewidth": 0,
              "ticks": ""
             }
            },
            "type": "scatterternary"
           }
          ],
          "surface": [
           {
            "colorbar": {
             "outlinewidth": 0,
             "ticks": ""
            },
            "colorscale": [
             [
              0,
              "#0d0887"
             ],
             [
              0.1111111111111111,
              "#46039f"
             ],
             [
              0.2222222222222222,
              "#7201a8"
             ],
             [
              0.3333333333333333,
              "#9c179e"
             ],
             [
              0.4444444444444444,
              "#bd3786"
             ],
             [
              0.5555555555555556,
              "#d8576b"
             ],
             [
              0.6666666666666666,
              "#ed7953"
             ],
             [
              0.7777777777777778,
              "#fb9f3a"
             ],
             [
              0.8888888888888888,
              "#fdca26"
             ],
             [
              1,
              "#f0f921"
             ]
            ],
            "type": "surface"
           }
          ],
          "table": [
           {
            "cells": {
             "fill": {
              "color": "#EBF0F8"
             },
             "line": {
              "color": "white"
             }
            },
            "header": {
             "fill": {
              "color": "#C8D4E3"
             },
             "line": {
              "color": "white"
             }
            },
            "type": "table"
           }
          ]
         },
         "layout": {
          "annotationdefaults": {
           "arrowcolor": "#2a3f5f",
           "arrowhead": 0,
           "arrowwidth": 1
          },
          "autotypenumbers": "strict",
          "coloraxis": {
           "colorbar": {
            "outlinewidth": 0,
            "ticks": ""
           }
          },
          "colorscale": {
           "diverging": [
            [
             0,
             "#8e0152"
            ],
            [
             0.1,
             "#c51b7d"
            ],
            [
             0.2,
             "#de77ae"
            ],
            [
             0.3,
             "#f1b6da"
            ],
            [
             0.4,
             "#fde0ef"
            ],
            [
             0.5,
             "#f7f7f7"
            ],
            [
             0.6,
             "#e6f5d0"
            ],
            [
             0.7,
             "#b8e186"
            ],
            [
             0.8,
             "#7fbc41"
            ],
            [
             0.9,
             "#4d9221"
            ],
            [
             1,
             "#276419"
            ]
           ],
           "sequential": [
            [
             0,
             "#0d0887"
            ],
            [
             0.1111111111111111,
             "#46039f"
            ],
            [
             0.2222222222222222,
             "#7201a8"
            ],
            [
             0.3333333333333333,
             "#9c179e"
            ],
            [
             0.4444444444444444,
             "#bd3786"
            ],
            [
             0.5555555555555556,
             "#d8576b"
            ],
            [
             0.6666666666666666,
             "#ed7953"
            ],
            [
             0.7777777777777778,
             "#fb9f3a"
            ],
            [
             0.8888888888888888,
             "#fdca26"
            ],
            [
             1,
             "#f0f921"
            ]
           ],
           "sequentialminus": [
            [
             0,
             "#0d0887"
            ],
            [
             0.1111111111111111,
             "#46039f"
            ],
            [
             0.2222222222222222,
             "#7201a8"
            ],
            [
             0.3333333333333333,
             "#9c179e"
            ],
            [
             0.4444444444444444,
             "#bd3786"
            ],
            [
             0.5555555555555556,
             "#d8576b"
            ],
            [
             0.6666666666666666,
             "#ed7953"
            ],
            [
             0.7777777777777778,
             "#fb9f3a"
            ],
            [
             0.8888888888888888,
             "#fdca26"
            ],
            [
             1,
             "#f0f921"
            ]
           ]
          },
          "colorway": [
           "#636efa",
           "#EF553B",
           "#00cc96",
           "#ab63fa",
           "#FFA15A",
           "#19d3f3",
           "#FF6692",
           "#B6E880",
           "#FF97FF",
           "#FECB52"
          ],
          "font": {
           "color": "#2a3f5f"
          },
          "geo": {
           "bgcolor": "white",
           "lakecolor": "white",
           "landcolor": "#E5ECF6",
           "showlakes": true,
           "showland": true,
           "subunitcolor": "white"
          },
          "hoverlabel": {
           "align": "left"
          },
          "hovermode": "closest",
          "mapbox": {
           "style": "light"
          },
          "paper_bgcolor": "white",
          "plot_bgcolor": "#E5ECF6",
          "polar": {
           "angularaxis": {
            "gridcolor": "white",
            "linecolor": "white",
            "ticks": ""
           },
           "bgcolor": "#E5ECF6",
           "radialaxis": {
            "gridcolor": "white",
            "linecolor": "white",
            "ticks": ""
           }
          },
          "scene": {
           "xaxis": {
            "backgroundcolor": "#E5ECF6",
            "gridcolor": "white",
            "gridwidth": 2,
            "linecolor": "white",
            "showbackground": true,
            "ticks": "",
            "zerolinecolor": "white"
           },
           "yaxis": {
            "backgroundcolor": "#E5ECF6",
            "gridcolor": "white",
            "gridwidth": 2,
            "linecolor": "white",
            "showbackground": true,
            "ticks": "",
            "zerolinecolor": "white"
           },
           "zaxis": {
            "backgroundcolor": "#E5ECF6",
            "gridcolor": "white",
            "gridwidth": 2,
            "linecolor": "white",
            "showbackground": true,
            "ticks": "",
            "zerolinecolor": "white"
           }
          },
          "shapedefaults": {
           "line": {
            "color": "#2a3f5f"
           }
          },
          "ternary": {
           "aaxis": {
            "gridcolor": "white",
            "linecolor": "white",
            "ticks": ""
           },
           "baxis": {
            "gridcolor": "white",
            "linecolor": "white",
            "ticks": ""
           },
           "bgcolor": "#E5ECF6",
           "caxis": {
            "gridcolor": "white",
            "linecolor": "white",
            "ticks": ""
           }
          },
          "title": {
           "x": 0.05
          },
          "xaxis": {
           "automargin": true,
           "gridcolor": "white",
           "linecolor": "white",
           "ticks": "",
           "title": {
            "standoff": 15
           },
           "zerolinecolor": "white",
           "zerolinewidth": 2
          },
          "yaxis": {
           "automargin": true,
           "gridcolor": "white",
           "linecolor": "white",
           "ticks": "",
           "title": {
            "standoff": 15
           },
           "zerolinecolor": "white",
           "zerolinewidth": 2
          }
         }
        },
        "title": {
         "font": {
          "color": "#8a8d93",
          "family": "Lato, sans-serif",
          "size": 25
         },
         "text": "England's Average Rugby Performance"
        },
        "width": 1000,
        "xaxis": {
         "anchor": "y",
         "domain": [
          0,
          0.5
         ],
         "showgrid": false,
         "title": {
          "text": " "
         }
        },
        "xaxis2": {
         "anchor": "y2",
         "domain": [
          0.5,
          1
         ],
         "showgrid": false
        },
        "yaxis": {
         "anchor": "x",
         "categoryorder": "total ascending",
         "domain": [
          0,
          1
         ],
         "showgrid": false,
         "showline": false,
         "ticksuffix": " ",
         "title": {
          "text": " "
         }
        },
        "yaxis2": {
         "anchor": "x2",
         "categoryorder": "total ascending",
         "domain": [
          0,
          1
         ],
         "matches": "y",
         "showgrid": false,
         "showline": false,
         "showticklabels": false,
         "ticksuffix": " "
        }
       }
      }
     },
     "metadata": {},
     "output_type": "display_data"
    }
   ],
   "source": [
    "fig = make_subplots(rows=1, cols=2, specs=[[{}, {}]], shared_yaxes=True, horizontal_spacing=0)\n",
    "\n",
    "fig.append_trace(go.Bar(x=df_eng_lose.margin_of_victory, y=df_eng_lose.tournament,\n",
    "                        orientation='h', showlegend=True, \n",
    "                        text=df_eng_lose.margin_of_victory_final, \n",
    "                        name='Matches Lost',\n",
    "                        marker_color='#221f1f'), 1, 1)\n",
    "\n",
    "fig.append_trace(go.Bar(x=df_eng_win.margin_of_victory, y=df_eng_win.tournament, \n",
    "                        orientation='h', showlegend=True,\n",
    "                        #text=df_eng_win.margin_of_victory,\n",
    "                        name='Matches Won', marker_color='#b20710'), 1, 2)\n",
    "\n",
    "\n",
    "fig.update_xaxes(showgrid=False)\n",
    "fig.update_yaxes(showgrid=False, categoryorder='total ascending', \n",
    "                 ticksuffix=' ', showline=False)\n",
    "\n",
    "fig.update_traces(hovertemplate=None)\n",
    "\n",
    "fig.update_layout(title='England\\'s Average Rugby Performance',\n",
    "                  margin=dict(t=80, b=0, l=70, r=40),\n",
    "                  autosize=False,\n",
    "                  width=1000,\n",
    "                  height=1000,\n",
    "                  hovermode=\"y unified\", \n",
    "                  xaxis_title=' ', yaxis_title=\" \",\n",
    "                  plot_bgcolor='#333', paper_bgcolor='#333',\n",
    "                  title_font=dict(size=25, color='#8a8d93',\n",
    "                                  family=\"Lato, sans-serif\"),\n",
    "                  font=dict(color='#8a8d93'),\n",
    "                  legend=dict(orientation=\"h\", yanchor=\"bottom\",\n",
    "                              y=1, xanchor=\"center\", x=0.5),\n",
    "                  hoverlabel=dict(bgcolor=\"black\", font_size=13, \n",
    "                                  font_family=\"Lato, sans-serif\"))\n",
    "\n",
    "fig.add_annotation(dict(x=0.95, y=0.7, ax=0, ay=0,\n",
    "                    xref = \"paper\", yref = \"paper\",\n",
    "                    text= \"England domiates the <br> competion in the <br> 5 Nations and <br> the European Championships\"\n",
    "                  ))\n",
    "\n",
    "fig.add_annotation(dict(x=0.2, y=0.30, ax=0, ay=0,\n",
    "                    xref = \"paper\", yref = \"paper\",\n",
    "                    text= \"The Super Series is not England\\'s best cup of tea\"\n",
    "                  ))\n",
    "fig.show()"
   ]
  },
  {
   "cell_type": "code",
   "execution_count": 63,
   "metadata": {},
   "outputs": [
    {
     "data": {
      "image/png": "[encoded data removed]",
      "text/plain": [
       "<IPython.core.display.Image object>"
      ]
     },
     "execution_count": 63,
     "metadata": {},
     "output_type": "execute_result"
    }
   ],
   "source": [
    "# Display Output in production\n",
    "img_bytes = fig.to_image(format=\"png\")\n",
    "from IPython.display import Image\n",
    "Image(img_bytes)"
   ]
  }
 ],
 "metadata": {
  "interpreter": {
   "hash": "dd7abdec0c426186ee9fdc7af8b59e5619dca46fa455c611f2bc54b1036f4006"
  },
  "kernelspec": {
   "display_name": "Python 3.10.4 ('virtual_env')",
   "language": "python",
   "name": "python3"
  },
  "language_info": {
   "codemirror_mode": {
    "name": "ipython",
    "version": 3
   },
   "file_extension": ".py",
   "mimetype": "text/x-python",
   "name": "python",
   "nbconvert_exporter": "python",
   "pygments_lexer": "ipython3",
   "version": "3.10.4"
  },
  "orig_nbformat": 4
 },
 "nbformat": 4,
 "nbformat_minor": 2
}
