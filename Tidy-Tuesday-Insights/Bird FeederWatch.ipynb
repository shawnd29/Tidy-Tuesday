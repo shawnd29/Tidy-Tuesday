{
 "cells": [
  {
   "cell_type": "markdown",
   "metadata": {},
   "source": [
    "2023-01-10 <br/>\n",
    "Bird FeederWatch data <br/>\n",
    "https://github.com/rfordatascience/tidytuesday/tree/master/data/2023/2023-01-10"
   ]
  },
  {
   "attachments": {},
   "cell_type": "markdown",
   "metadata": {},
   "source": [
    "Using Map Image on Scatter Plot - Completed "
   ]
  },
  {
   "cell_type": "markdown",
   "metadata": {},
   "source": [
    "https://community.plotly.com/t/put-images-inside-bubbles/41364/6"
   ]
  },
  {
   "cell_type": "code",
   "execution_count": 1,
   "metadata": {},
   "outputs": [],
   "source": [
    "import pandas as pd\n",
    "import plotly.graph_objects as go\n",
    "import plotly.express as px\n",
    "import plotly.io as pio\n",
    "pio.renderers.default='jupyterlab'\n",
    "import os"
   ]
  },
  {
   "cell_type": "code",
   "execution_count": 2,
   "metadata": {},
   "outputs": [
    {
     "data": {
      "text/html": [
       "<div>\n",
       "<style scoped>\n",
       "    .dataframe tbody tr th:only-of-type {\n",
       "        vertical-align: middle;\n",
       "    }\n",
       "\n",
       "    .dataframe tbody tr th {\n",
       "        vertical-align: top;\n",
       "    }\n",
       "\n",
       "    .dataframe thead th {\n",
       "        text-align: right;\n",
       "    }\n",
       "</style>\n",
       "<table border=\"1\" class=\"dataframe\">\n",
       "  <thead>\n",
       "    <tr style=\"text-align: right;\">\n",
       "      <th></th>\n",
       "      <th>loc_id</th>\n",
       "      <th>latitude</th>\n",
       "      <th>longitude</th>\n",
       "      <th>subnational1_code</th>\n",
       "      <th>entry_technique</th>\n",
       "      <th>sub_id</th>\n",
       "      <th>obs_id</th>\n",
       "      <th>Month</th>\n",
       "      <th>Day</th>\n",
       "      <th>Year</th>\n",
       "      <th>...</th>\n",
       "      <th>how_many</th>\n",
       "      <th>valid</th>\n",
       "      <th>reviewed</th>\n",
       "      <th>day1_am</th>\n",
       "      <th>day1_pm</th>\n",
       "      <th>day2_am</th>\n",
       "      <th>day2_pm</th>\n",
       "      <th>effort_hrs_atleast</th>\n",
       "      <th>snow_dep_atleast</th>\n",
       "      <th>Data_Entry_Method</th>\n",
       "    </tr>\n",
       "  </thead>\n",
       "  <tbody>\n",
       "    <tr>\n",
       "      <th>0</th>\n",
       "      <td>L981010</td>\n",
       "      <td>52.129760</td>\n",
       "      <td>-122.135470</td>\n",
       "      <td>CA-BC</td>\n",
       "      <td>POSTCODE LAT/LONG LOOKUP</td>\n",
       "      <td>S83206450</td>\n",
       "      <td>OBS1092604618</td>\n",
       "      <td>3</td>\n",
       "      <td>4</td>\n",
       "      <td>2021</td>\n",
       "      <td>...</td>\n",
       "      <td>20</td>\n",
       "      <td>1</td>\n",
       "      <td>0</td>\n",
       "      <td>1</td>\n",
       "      <td>0</td>\n",
       "      <td>1</td>\n",
       "      <td>0</td>\n",
       "      <td>1.001</td>\n",
       "      <td>5.0</td>\n",
       "      <td>PFW Web 4.1.4</td>\n",
       "    </tr>\n",
       "    <tr>\n",
       "      <th>1</th>\n",
       "      <td>L3161698</td>\n",
       "      <td>43.832207</td>\n",
       "      <td>-123.092405</td>\n",
       "      <td>US-OR</td>\n",
       "      <td>/GOOGLE_MAP/ZOOM:18</td>\n",
       "      <td>S78031190</td>\n",
       "      <td>OBS1036509564</td>\n",
       "      <td>12</td>\n",
       "      <td>19</td>\n",
       "      <td>2020</td>\n",
       "      <td>...</td>\n",
       "      <td>11</td>\n",
       "      <td>1</td>\n",
       "      <td>0</td>\n",
       "      <td>1</td>\n",
       "      <td>1</td>\n",
       "      <td>1</td>\n",
       "      <td>1</td>\n",
       "      <td>1.001</td>\n",
       "      <td>0.0</td>\n",
       "      <td>PFW Web 4.1.4</td>\n",
       "    </tr>\n",
       "    <tr>\n",
       "      <th>2</th>\n",
       "      <td>L13210778</td>\n",
       "      <td>39.721470</td>\n",
       "      <td>-75.933660</td>\n",
       "      <td>US-MD</td>\n",
       "      <td>/GOOGLE_MAP/ZOOM:15</td>\n",
       "      <td>S81318993</td>\n",
       "      <td>OBS1073386105</td>\n",
       "      <td>2</td>\n",
       "      <td>13</td>\n",
       "      <td>2021</td>\n",
       "      <td>...</td>\n",
       "      <td>2</td>\n",
       "      <td>1</td>\n",
       "      <td>0</td>\n",
       "      <td>1</td>\n",
       "      <td>1</td>\n",
       "      <td>1</td>\n",
       "      <td>1</td>\n",
       "      <td>8.001</td>\n",
       "      <td>5.0</td>\n",
       "      <td>PFW Web 4.1.4</td>\n",
       "    </tr>\n",
       "    <tr>\n",
       "      <th>3</th>\n",
       "      <td>L13258348</td>\n",
       "      <td>42.217874</td>\n",
       "      <td>-83.672300</td>\n",
       "      <td>US-MI</td>\n",
       "      <td>/GOOGLE_MAP/ZOOM:15</td>\n",
       "      <td>S79251313</td>\n",
       "      <td>OBS1051702542</td>\n",
       "      <td>1</td>\n",
       "      <td>13</td>\n",
       "      <td>2021</td>\n",
       "      <td>...</td>\n",
       "      <td>2</td>\n",
       "      <td>1</td>\n",
       "      <td>0</td>\n",
       "      <td>1</td>\n",
       "      <td>1</td>\n",
       "      <td>1</td>\n",
       "      <td>1</td>\n",
       "      <td>4.001</td>\n",
       "      <td>0.0</td>\n",
       "      <td>PFW Web 4.1.4</td>\n",
       "    </tr>\n",
       "    <tr>\n",
       "      <th>4</th>\n",
       "      <td>L149639</td>\n",
       "      <td>32.749921</td>\n",
       "      <td>-79.941582</td>\n",
       "      <td>US-SC</td>\n",
       "      <td>PointMaker1.0_2</td>\n",
       "      <td>S79183993</td>\n",
       "      <td>OBS1050809672</td>\n",
       "      <td>1</td>\n",
       "      <td>11</td>\n",
       "      <td>2021</td>\n",
       "      <td>...</td>\n",
       "      <td>10</td>\n",
       "      <td>1</td>\n",
       "      <td>0</td>\n",
       "      <td>1</td>\n",
       "      <td>1</td>\n",
       "      <td>1</td>\n",
       "      <td>1</td>\n",
       "      <td>1.001</td>\n",
       "      <td>0.0</td>\n",
       "      <td>PFW Web 4.1.4</td>\n",
       "    </tr>\n",
       "  </tbody>\n",
       "</table>\n",
       "<p>5 rows × 22 columns</p>\n",
       "</div>"
      ],
      "text/plain": [
       "      loc_id   latitude   longitude subnational1_code  \\\n",
       "0    L981010  52.129760 -122.135470             CA-BC   \n",
       "1   L3161698  43.832207 -123.092405             US-OR   \n",
       "2  L13210778  39.721470  -75.933660             US-MD   \n",
       "3  L13258348  42.217874  -83.672300             US-MI   \n",
       "4    L149639  32.749921  -79.941582             US-SC   \n",
       "\n",
       "            entry_technique     sub_id         obs_id  Month  Day  Year  ...  \\\n",
       "0  POSTCODE LAT/LONG LOOKUP  S83206450  OBS1092604618      3    4  2021  ...   \n",
       "1       /GOOGLE_MAP/ZOOM:18  S78031190  OBS1036509564     12   19  2020  ...   \n",
       "2       /GOOGLE_MAP/ZOOM:15  S81318993  OBS1073386105      2   13  2021  ...   \n",
       "3       /GOOGLE_MAP/ZOOM:15  S79251313  OBS1051702542      1   13  2021  ...   \n",
       "4           PointMaker1.0_2  S79183993  OBS1050809672      1   11  2021  ...   \n",
       "\n",
       "  how_many valid  reviewed  day1_am  day1_pm  day2_am  day2_pm  \\\n",
       "0       20     1         0        1        0        1        0   \n",
       "1       11     1         0        1        1        1        1   \n",
       "2        2     1         0        1        1        1        1   \n",
       "3        2     1         0        1        1        1        1   \n",
       "4       10     1         0        1        1        1        1   \n",
       "\n",
       "   effort_hrs_atleast  snow_dep_atleast  Data_Entry_Method  \n",
       "0               1.001               5.0      PFW Web 4.1.4  \n",
       "1               1.001               0.0      PFW Web 4.1.4  \n",
       "2               8.001               5.0      PFW Web 4.1.4  \n",
       "3               4.001               0.0      PFW Web 4.1.4  \n",
       "4               1.001               0.0      PFW Web 4.1.4  \n",
       "\n",
       "[5 rows x 22 columns]"
      ]
     },
     "execution_count": 2,
     "metadata": {},
     "output_type": "execute_result"
    }
   ],
   "source": [
    "df = pd.read_csv('https://raw.githubusercontent.com/rfordatascience/tidytuesday/master/data/2023/2023-01-10/PFW_2021_public.csv')\n",
    "df.head()"
   ]
  },
  {
   "cell_type": "code",
   "execution_count": 3,
   "metadata": {},
   "outputs": [
    {
     "data": {
      "text/html": [
       "<div>\n",
       "<style scoped>\n",
       "    .dataframe tbody tr th:only-of-type {\n",
       "        vertical-align: middle;\n",
       "    }\n",
       "\n",
       "    .dataframe tbody tr th {\n",
       "        vertical-align: top;\n",
       "    }\n",
       "\n",
       "    .dataframe thead th {\n",
       "        text-align: right;\n",
       "    }\n",
       "</style>\n",
       "<table border=\"1\" class=\"dataframe\">\n",
       "  <thead>\n",
       "    <tr style=\"text-align: right;\">\n",
       "      <th></th>\n",
       "      <th>state</th>\n",
       "      <th>slug</th>\n",
       "      <th>code</th>\n",
       "      <th>nickname</th>\n",
       "      <th>website</th>\n",
       "      <th>admission_date</th>\n",
       "      <th>admission_number</th>\n",
       "      <th>capital_city</th>\n",
       "      <th>capital_url</th>\n",
       "      <th>population</th>\n",
       "      <th>population_rank</th>\n",
       "      <th>constitution_url</th>\n",
       "      <th>state_flag_url</th>\n",
       "      <th>state_seal_url</th>\n",
       "      <th>map_image_url</th>\n",
       "      <th>landscape_background_url</th>\n",
       "      <th>skyline_background_url</th>\n",
       "      <th>twitter_url</th>\n",
       "      <th>facebook_url</th>\n",
       "    </tr>\n",
       "  </thead>\n",
       "  <tbody>\n",
       "    <tr>\n",
       "      <th>0</th>\n",
       "      <td>Alabama</td>\n",
       "      <td>alabama</td>\n",
       "      <td>AL</td>\n",
       "      <td>Yellowhammer State</td>\n",
       "      <td>http://www.alabama.gov</td>\n",
       "      <td>1819-12-14</td>\n",
       "      <td>22</td>\n",
       "      <td>Montgomery</td>\n",
       "      <td>http://www.montgomeryal.gov</td>\n",
       "      <td>4833722</td>\n",
       "      <td>23</td>\n",
       "      <td>http://alisondb.legislature.state.al.us/alison...</td>\n",
       "      <td>https://cdn.civil.services/us-states/flags/ala...</td>\n",
       "      <td>https://cdn.civil.services/us-states/seals/ala...</td>\n",
       "      <td>https://cdn.civil.services/us-states/maps/alab...</td>\n",
       "      <td>https://cdn.civil.services/us-states/backgroun...</td>\n",
       "      <td>https://cdn.civil.services/us-states/backgroun...</td>\n",
       "      <td>https://twitter.com/alabamagov</td>\n",
       "      <td>https://www.facebook.com/alabamagov</td>\n",
       "    </tr>\n",
       "    <tr>\n",
       "      <th>1</th>\n",
       "      <td>Alaska</td>\n",
       "      <td>alaska</td>\n",
       "      <td>AK</td>\n",
       "      <td>The Last Frontier</td>\n",
       "      <td>http://alaska.gov</td>\n",
       "      <td>1959-01-03</td>\n",
       "      <td>49</td>\n",
       "      <td>Juneau</td>\n",
       "      <td>http://www.juneau.org</td>\n",
       "      <td>735132</td>\n",
       "      <td>47</td>\n",
       "      <td>http://www.legis.state.ak.us/basis/folioproxy....</td>\n",
       "      <td>https://cdn.civil.services/us-states/flags/ala...</td>\n",
       "      <td>https://cdn.civil.services/us-states/seals/ala...</td>\n",
       "      <td>https://cdn.civil.services/us-states/maps/alas...</td>\n",
       "      <td>https://cdn.civil.services/us-states/backgroun...</td>\n",
       "      <td>https://cdn.civil.services/us-states/backgroun...</td>\n",
       "      <td>https://twitter.com/alaska</td>\n",
       "      <td>https://www.facebook.com/AlaskaLocalGovernments</td>\n",
       "    </tr>\n",
       "    <tr>\n",
       "      <th>2</th>\n",
       "      <td>Arizona</td>\n",
       "      <td>arizona</td>\n",
       "      <td>AZ</td>\n",
       "      <td>The Grand Canyon State</td>\n",
       "      <td>https://az.gov</td>\n",
       "      <td>1912-02-14</td>\n",
       "      <td>48</td>\n",
       "      <td>Phoenix</td>\n",
       "      <td>https://www.phoenix.gov</td>\n",
       "      <td>6626624</td>\n",
       "      <td>15</td>\n",
       "      <td>http://www.azleg.gov/Constitution.asp</td>\n",
       "      <td>https://cdn.civil.services/us-states/flags/ari...</td>\n",
       "      <td>https://cdn.civil.services/us-states/seals/ari...</td>\n",
       "      <td>https://cdn.civil.services/us-states/maps/ariz...</td>\n",
       "      <td>https://cdn.civil.services/us-states/backgroun...</td>\n",
       "      <td>https://cdn.civil.services/us-states/backgroun...</td>\n",
       "      <td>NaN</td>\n",
       "      <td>NaN</td>\n",
       "    </tr>\n",
       "    <tr>\n",
       "      <th>3</th>\n",
       "      <td>Arkansas</td>\n",
       "      <td>arkansas</td>\n",
       "      <td>AR</td>\n",
       "      <td>The Natural State</td>\n",
       "      <td>http://arkansas.gov</td>\n",
       "      <td>1836-06-15</td>\n",
       "      <td>25</td>\n",
       "      <td>Little Rock</td>\n",
       "      <td>http://www.littlerock.org</td>\n",
       "      <td>2959373</td>\n",
       "      <td>32</td>\n",
       "      <td>http://www.arkleg.state.ar.us/assembly/Summary...</td>\n",
       "      <td>https://cdn.civil.services/us-states/flags/ark...</td>\n",
       "      <td>https://cdn.civil.services/us-states/seals/ark...</td>\n",
       "      <td>https://cdn.civil.services/us-states/maps/arka...</td>\n",
       "      <td>https://cdn.civil.services/us-states/backgroun...</td>\n",
       "      <td>https://cdn.civil.services/us-states/backgroun...</td>\n",
       "      <td>https://twitter.com/arkansasgov</td>\n",
       "      <td>https://www.facebook.com/Arkansas.gov</td>\n",
       "    </tr>\n",
       "    <tr>\n",
       "      <th>4</th>\n",
       "      <td>California</td>\n",
       "      <td>california</td>\n",
       "      <td>CA</td>\n",
       "      <td>Golden State</td>\n",
       "      <td>http://www.ca.gov</td>\n",
       "      <td>1850-09-09</td>\n",
       "      <td>31</td>\n",
       "      <td>Sacramento</td>\n",
       "      <td>http://www.cityofsacramento.org</td>\n",
       "      <td>38332521</td>\n",
       "      <td>1</td>\n",
       "      <td>http://www.leginfo.ca.gov/const-toc.html</td>\n",
       "      <td>https://cdn.civil.services/us-states/flags/cal...</td>\n",
       "      <td>https://cdn.civil.services/us-states/seals/cal...</td>\n",
       "      <td>https://cdn.civil.services/us-states/maps/cali...</td>\n",
       "      <td>https://cdn.civil.services/us-states/backgroun...</td>\n",
       "      <td>https://cdn.civil.services/us-states/backgroun...</td>\n",
       "      <td>https://twitter.com/cagovernment</td>\n",
       "      <td>NaN</td>\n",
       "    </tr>\n",
       "  </tbody>\n",
       "</table>\n",
       "</div>"
      ],
      "text/plain": [
       "        state        slug code                nickname  \\\n",
       "0     Alabama     alabama   AL      Yellowhammer State   \n",
       "1      Alaska      alaska   AK       The Last Frontier   \n",
       "2     Arizona     arizona   AZ  The Grand Canyon State   \n",
       "3    Arkansas    arkansas   AR       The Natural State   \n",
       "4  California  california   CA            Golden State   \n",
       "\n",
       "                  website admission_date  admission_number capital_city  \\\n",
       "0  http://www.alabama.gov     1819-12-14                22   Montgomery   \n",
       "1       http://alaska.gov     1959-01-03                49       Juneau   \n",
       "2          https://az.gov     1912-02-14                48      Phoenix   \n",
       "3     http://arkansas.gov     1836-06-15                25  Little Rock   \n",
       "4       http://www.ca.gov     1850-09-09                31   Sacramento   \n",
       "\n",
       "                       capital_url  population  population_rank  \\\n",
       "0      http://www.montgomeryal.gov     4833722               23   \n",
       "1            http://www.juneau.org      735132               47   \n",
       "2          https://www.phoenix.gov     6626624               15   \n",
       "3        http://www.littlerock.org     2959373               32   \n",
       "4  http://www.cityofsacramento.org    38332521                1   \n",
       "\n",
       "                                    constitution_url  \\\n",
       "0  http://alisondb.legislature.state.al.us/alison...   \n",
       "1  http://www.legis.state.ak.us/basis/folioproxy....   \n",
       "2              http://www.azleg.gov/Constitution.asp   \n",
       "3  http://www.arkleg.state.ar.us/assembly/Summary...   \n",
       "4           http://www.leginfo.ca.gov/const-toc.html   \n",
       "\n",
       "                                      state_flag_url  \\\n",
       "0  https://cdn.civil.services/us-states/flags/ala...   \n",
       "1  https://cdn.civil.services/us-states/flags/ala...   \n",
       "2  https://cdn.civil.services/us-states/flags/ari...   \n",
       "3  https://cdn.civil.services/us-states/flags/ark...   \n",
       "4  https://cdn.civil.services/us-states/flags/cal...   \n",
       "\n",
       "                                      state_seal_url  \\\n",
       "0  https://cdn.civil.services/us-states/seals/ala...   \n",
       "1  https://cdn.civil.services/us-states/seals/ala...   \n",
       "2  https://cdn.civil.services/us-states/seals/ari...   \n",
       "3  https://cdn.civil.services/us-states/seals/ark...   \n",
       "4  https://cdn.civil.services/us-states/seals/cal...   \n",
       "\n",
       "                                       map_image_url  \\\n",
       "0  https://cdn.civil.services/us-states/maps/alab...   \n",
       "1  https://cdn.civil.services/us-states/maps/alas...   \n",
       "2  https://cdn.civil.services/us-states/maps/ariz...   \n",
       "3  https://cdn.civil.services/us-states/maps/arka...   \n",
       "4  https://cdn.civil.services/us-states/maps/cali...   \n",
       "\n",
       "                            landscape_background_url  \\\n",
       "0  https://cdn.civil.services/us-states/backgroun...   \n",
       "1  https://cdn.civil.services/us-states/backgroun...   \n",
       "2  https://cdn.civil.services/us-states/backgroun...   \n",
       "3  https://cdn.civil.services/us-states/backgroun...   \n",
       "4  https://cdn.civil.services/us-states/backgroun...   \n",
       "\n",
       "                              skyline_background_url  \\\n",
       "0  https://cdn.civil.services/us-states/backgroun...   \n",
       "1  https://cdn.civil.services/us-states/backgroun...   \n",
       "2  https://cdn.civil.services/us-states/backgroun...   \n",
       "3  https://cdn.civil.services/us-states/backgroun...   \n",
       "4  https://cdn.civil.services/us-states/backgroun...   \n",
       "\n",
       "                        twitter_url  \\\n",
       "0    https://twitter.com/alabamagov   \n",
       "1        https://twitter.com/alaska   \n",
       "2                               NaN   \n",
       "3   https://twitter.com/arkansasgov   \n",
       "4  https://twitter.com/cagovernment   \n",
       "\n",
       "                                      facebook_url  \n",
       "0              https://www.facebook.com/alabamagov  \n",
       "1  https://www.facebook.com/AlaskaLocalGovernments  \n",
       "2                                              NaN  \n",
       "3            https://www.facebook.com/Arkansas.gov  \n",
       "4                                              NaN  "
      ]
     },
     "execution_count": 3,
     "metadata": {},
     "output_type": "execute_result"
    }
   ],
   "source": [
    "# Special thanks to @CivilServiceUSA for the map-level data\n",
    "df_maps= pd.read_csv(\"https://raw.githubusercontent.com/CivilServiceUSA/us-states/master/data/states.csv\") \n",
    "df_maps.head()"
   ]
  },
  {
   "cell_type": "code",
   "execution_count": 4,
   "metadata": {},
   "outputs": [
    {
     "name": "stderr",
     "output_type": "stream",
     "text": [
      "C:\\Users\\shawn\\AppData\\Local\\Temp\\ipykernel_1624\\2235590939.py:2: SettingWithCopyWarning:\n",
      "\n",
      "\n",
      "A value is trying to be set on a copy of a slice from a DataFrame.\n",
      "Try using .loc[row_indexer,col_indexer] = value instead\n",
      "\n",
      "See the caveats in the documentation: https://pandas.pydata.org/pandas-docs/stable/user_guide/indexing.html#returning-a-view-versus-a-copy\n",
      "\n"
     ]
    }
   ],
   "source": [
    "df_usa = df[df.subnational1_code.str.contains('US', regex=False)==True]\n",
    "df_usa[\"states\"] = df_usa.subnational1_code.str[-2:]"
   ]
  },
  {
   "cell_type": "code",
   "execution_count": 5,
   "metadata": {},
   "outputs": [
    {
     "data": {
      "text/html": [
       "<div>\n",
       "<style scoped>\n",
       "    .dataframe tbody tr th:only-of-type {\n",
       "        vertical-align: middle;\n",
       "    }\n",
       "\n",
       "    .dataframe tbody tr th {\n",
       "        vertical-align: top;\n",
       "    }\n",
       "\n",
       "    .dataframe thead th {\n",
       "        text-align: right;\n",
       "    }\n",
       "</style>\n",
       "<table border=\"1\" class=\"dataframe\">\n",
       "  <thead>\n",
       "    <tr style=\"text-align: right;\">\n",
       "      <th></th>\n",
       "      <th>loc_id</th>\n",
       "      <th>latitude</th>\n",
       "      <th>longitude</th>\n",
       "      <th>subnational1_code</th>\n",
       "      <th>entry_technique</th>\n",
       "      <th>sub_id</th>\n",
       "      <th>obs_id</th>\n",
       "      <th>Month</th>\n",
       "      <th>Day</th>\n",
       "      <th>Year</th>\n",
       "      <th>...</th>\n",
       "      <th>population</th>\n",
       "      <th>population_rank</th>\n",
       "      <th>constitution_url</th>\n",
       "      <th>state_flag_url</th>\n",
       "      <th>state_seal_url</th>\n",
       "      <th>map_image_url</th>\n",
       "      <th>landscape_background_url</th>\n",
       "      <th>skyline_background_url</th>\n",
       "      <th>twitter_url</th>\n",
       "      <th>facebook_url</th>\n",
       "    </tr>\n",
       "  </thead>\n",
       "  <tbody>\n",
       "    <tr>\n",
       "      <th>0</th>\n",
       "      <td>L3161698</td>\n",
       "      <td>43.832207</td>\n",
       "      <td>-123.092405</td>\n",
       "      <td>US-OR</td>\n",
       "      <td>/GOOGLE_MAP/ZOOM:18</td>\n",
       "      <td>S78031190</td>\n",
       "      <td>OBS1036509564</td>\n",
       "      <td>12</td>\n",
       "      <td>19</td>\n",
       "      <td>2020</td>\n",
       "      <td>...</td>\n",
       "      <td>3930065.0</td>\n",
       "      <td>27.0</td>\n",
       "      <td>http://bluebook.state.or.us/state/constitution...</td>\n",
       "      <td>https://cdn.civil.services/us-states/flags/ore...</td>\n",
       "      <td>https://cdn.civil.services/us-states/seals/ore...</td>\n",
       "      <td>https://cdn.civil.services/us-states/maps/oreg...</td>\n",
       "      <td>https://cdn.civil.services/us-states/backgroun...</td>\n",
       "      <td>https://cdn.civil.services/us-states/backgroun...</td>\n",
       "      <td>NaN</td>\n",
       "      <td>NaN</td>\n",
       "    </tr>\n",
       "    <tr>\n",
       "      <th>1</th>\n",
       "      <td>L13210778</td>\n",
       "      <td>39.721470</td>\n",
       "      <td>-75.933660</td>\n",
       "      <td>US-MD</td>\n",
       "      <td>/GOOGLE_MAP/ZOOM:15</td>\n",
       "      <td>S81318993</td>\n",
       "      <td>OBS1073386105</td>\n",
       "      <td>2</td>\n",
       "      <td>13</td>\n",
       "      <td>2021</td>\n",
       "      <td>...</td>\n",
       "      <td>5928814.0</td>\n",
       "      <td>19.0</td>\n",
       "      <td>http://msa.maryland.gov/msa/mdmanual/43const/h...</td>\n",
       "      <td>https://cdn.civil.services/us-states/flags/mar...</td>\n",
       "      <td>https://cdn.civil.services/us-states/seals/mar...</td>\n",
       "      <td>https://cdn.civil.services/us-states/maps/mary...</td>\n",
       "      <td>https://cdn.civil.services/us-states/backgroun...</td>\n",
       "      <td>https://cdn.civil.services/us-states/backgroun...</td>\n",
       "      <td>https://twitter.com/statemaryland</td>\n",
       "      <td>https://www.facebook.com/statemaryland</td>\n",
       "    </tr>\n",
       "    <tr>\n",
       "      <th>2</th>\n",
       "      <td>L13258348</td>\n",
       "      <td>42.217874</td>\n",
       "      <td>-83.672300</td>\n",
       "      <td>US-MI</td>\n",
       "      <td>/GOOGLE_MAP/ZOOM:15</td>\n",
       "      <td>S79251313</td>\n",
       "      <td>OBS1051702542</td>\n",
       "      <td>1</td>\n",
       "      <td>13</td>\n",
       "      <td>2021</td>\n",
       "      <td>...</td>\n",
       "      <td>9895622.0</td>\n",
       "      <td>9.0</td>\n",
       "      <td>http://www.legislature.mi.gov/(S(hrowl12tg05he...</td>\n",
       "      <td>https://cdn.civil.services/us-states/flags/mic...</td>\n",
       "      <td>https://cdn.civil.services/us-states/seals/mic...</td>\n",
       "      <td>https://cdn.civil.services/us-states/maps/mich...</td>\n",
       "      <td>https://cdn.civil.services/us-states/backgroun...</td>\n",
       "      <td>https://cdn.civil.services/us-states/backgroun...</td>\n",
       "      <td>https://twitter.com/migov</td>\n",
       "      <td>https://www.facebook.com/MIgovernment</td>\n",
       "    </tr>\n",
       "    <tr>\n",
       "      <th>3</th>\n",
       "      <td>L149639</td>\n",
       "      <td>32.749921</td>\n",
       "      <td>-79.941582</td>\n",
       "      <td>US-SC</td>\n",
       "      <td>PointMaker1.0_2</td>\n",
       "      <td>S79183993</td>\n",
       "      <td>OBS1050809672</td>\n",
       "      <td>1</td>\n",
       "      <td>11</td>\n",
       "      <td>2021</td>\n",
       "      <td>...</td>\n",
       "      <td>4774839.0</td>\n",
       "      <td>24.0</td>\n",
       "      <td>http://www.scstatehouse.gov/scconstitution/scc...</td>\n",
       "      <td>https://cdn.civil.services/us-states/flags/sou...</td>\n",
       "      <td>https://cdn.civil.services/us-states/seals/sou...</td>\n",
       "      <td>https://cdn.civil.services/us-states/maps/sout...</td>\n",
       "      <td>https://cdn.civil.services/us-states/backgroun...</td>\n",
       "      <td>https://cdn.civil.services/us-states/backgroun...</td>\n",
       "      <td>https://twitter.com/scgov</td>\n",
       "      <td>http://www.facebook.com/pages/SCgov/12752057990</td>\n",
       "    </tr>\n",
       "    <tr>\n",
       "      <th>4</th>\n",
       "      <td>L74629</td>\n",
       "      <td>37.711377</td>\n",
       "      <td>-122.074557</td>\n",
       "      <td>US-CA</td>\n",
       "      <td>POSTCODE LAT/LONG LOOKUP</td>\n",
       "      <td>S85555888</td>\n",
       "      <td>OBS1121406888</td>\n",
       "      <td>1</td>\n",
       "      <td>23</td>\n",
       "      <td>2021</td>\n",
       "      <td>...</td>\n",
       "      <td>38332521.0</td>\n",
       "      <td>1.0</td>\n",
       "      <td>http://www.leginfo.ca.gov/const-toc.html</td>\n",
       "      <td>https://cdn.civil.services/us-states/flags/cal...</td>\n",
       "      <td>https://cdn.civil.services/us-states/seals/cal...</td>\n",
       "      <td>https://cdn.civil.services/us-states/maps/cali...</td>\n",
       "      <td>https://cdn.civil.services/us-states/backgroun...</td>\n",
       "      <td>https://cdn.civil.services/us-states/backgroun...</td>\n",
       "      <td>https://twitter.com/cagovernment</td>\n",
       "      <td>NaN</td>\n",
       "    </tr>\n",
       "  </tbody>\n",
       "</table>\n",
       "<p>5 rows × 42 columns</p>\n",
       "</div>"
      ],
      "text/plain": [
       "      loc_id   latitude   longitude subnational1_code  \\\n",
       "0   L3161698  43.832207 -123.092405             US-OR   \n",
       "1  L13210778  39.721470  -75.933660             US-MD   \n",
       "2  L13258348  42.217874  -83.672300             US-MI   \n",
       "3    L149639  32.749921  -79.941582             US-SC   \n",
       "4     L74629  37.711377 -122.074557             US-CA   \n",
       "\n",
       "            entry_technique     sub_id         obs_id  Month  Day  Year  ...  \\\n",
       "0       /GOOGLE_MAP/ZOOM:18  S78031190  OBS1036509564     12   19  2020  ...   \n",
       "1       /GOOGLE_MAP/ZOOM:15  S81318993  OBS1073386105      2   13  2021  ...   \n",
       "2       /GOOGLE_MAP/ZOOM:15  S79251313  OBS1051702542      1   13  2021  ...   \n",
       "3           PointMaker1.0_2  S79183993  OBS1050809672      1   11  2021  ...   \n",
       "4  POSTCODE LAT/LONG LOOKUP  S85555888  OBS1121406888      1   23  2021  ...   \n",
       "\n",
       "   population population_rank  \\\n",
       "0   3930065.0            27.0   \n",
       "1   5928814.0            19.0   \n",
       "2   9895622.0             9.0   \n",
       "3   4774839.0            24.0   \n",
       "4  38332521.0             1.0   \n",
       "\n",
       "                                    constitution_url  \\\n",
       "0  http://bluebook.state.or.us/state/constitution...   \n",
       "1  http://msa.maryland.gov/msa/mdmanual/43const/h...   \n",
       "2  http://www.legislature.mi.gov/(S(hrowl12tg05he...   \n",
       "3  http://www.scstatehouse.gov/scconstitution/scc...   \n",
       "4           http://www.leginfo.ca.gov/const-toc.html   \n",
       "\n",
       "                                      state_flag_url  \\\n",
       "0  https://cdn.civil.services/us-states/flags/ore...   \n",
       "1  https://cdn.civil.services/us-states/flags/mar...   \n",
       "2  https://cdn.civil.services/us-states/flags/mic...   \n",
       "3  https://cdn.civil.services/us-states/flags/sou...   \n",
       "4  https://cdn.civil.services/us-states/flags/cal...   \n",
       "\n",
       "                                      state_seal_url  \\\n",
       "0  https://cdn.civil.services/us-states/seals/ore...   \n",
       "1  https://cdn.civil.services/us-states/seals/mar...   \n",
       "2  https://cdn.civil.services/us-states/seals/mic...   \n",
       "3  https://cdn.civil.services/us-states/seals/sou...   \n",
       "4  https://cdn.civil.services/us-states/seals/cal...   \n",
       "\n",
       "                                       map_image_url  \\\n",
       "0  https://cdn.civil.services/us-states/maps/oreg...   \n",
       "1  https://cdn.civil.services/us-states/maps/mary...   \n",
       "2  https://cdn.civil.services/us-states/maps/mich...   \n",
       "3  https://cdn.civil.services/us-states/maps/sout...   \n",
       "4  https://cdn.civil.services/us-states/maps/cali...   \n",
       "\n",
       "                            landscape_background_url  \\\n",
       "0  https://cdn.civil.services/us-states/backgroun...   \n",
       "1  https://cdn.civil.services/us-states/backgroun...   \n",
       "2  https://cdn.civil.services/us-states/backgroun...   \n",
       "3  https://cdn.civil.services/us-states/backgroun...   \n",
       "4  https://cdn.civil.services/us-states/backgroun...   \n",
       "\n",
       "                              skyline_background_url  \\\n",
       "0  https://cdn.civil.services/us-states/backgroun...   \n",
       "1  https://cdn.civil.services/us-states/backgroun...   \n",
       "2  https://cdn.civil.services/us-states/backgroun...   \n",
       "3  https://cdn.civil.services/us-states/backgroun...   \n",
       "4  https://cdn.civil.services/us-states/backgroun...   \n",
       "\n",
       "                         twitter_url  \\\n",
       "0                                NaN   \n",
       "1  https://twitter.com/statemaryland   \n",
       "2          https://twitter.com/migov   \n",
       "3          https://twitter.com/scgov   \n",
       "4   https://twitter.com/cagovernment   \n",
       "\n",
       "                                      facebook_url  \n",
       "0                                              NaN  \n",
       "1           https://www.facebook.com/statemaryland  \n",
       "2            https://www.facebook.com/MIgovernment  \n",
       "3  http://www.facebook.com/pages/SCgov/12752057990  \n",
       "4                                              NaN  \n",
       "\n",
       "[5 rows x 42 columns]"
      ]
     },
     "execution_count": 5,
     "metadata": {},
     "output_type": "execute_result"
    }
   ],
   "source": [
    "df_merged = df_usa.merge(df_maps,how=\"left\",left_on=\"states\",right_on = \"code\" ).reset_index(drop=True)\n",
    "df_merged.head()"
   ]
  },
  {
   "cell_type": "code",
   "execution_count": 6,
   "metadata": {},
   "outputs": [
    {
     "data": {
      "text/html": [
       "<div>\n",
       "<style scoped>\n",
       "    .dataframe tbody tr th:only-of-type {\n",
       "        vertical-align: middle;\n",
       "    }\n",
       "\n",
       "    .dataframe tbody tr th {\n",
       "        vertical-align: top;\n",
       "    }\n",
       "\n",
       "    .dataframe thead th {\n",
       "        text-align: right;\n",
       "    }\n",
       "</style>\n",
       "<table border=\"1\" class=\"dataframe\">\n",
       "  <thead>\n",
       "    <tr style=\"text-align: right;\">\n",
       "      <th></th>\n",
       "      <th>code</th>\n",
       "      <th>state_flag_url</th>\n",
       "      <th>how_many</th>\n",
       "      <th>species_code</th>\n",
       "      <th>population</th>\n",
       "    </tr>\n",
       "  </thead>\n",
       "  <tbody>\n",
       "    <tr>\n",
       "      <th>0</th>\n",
       "      <td>AK</td>\n",
       "      <td>https://cdn.civil.services/us-states/flags/ala...</td>\n",
       "      <td>5.441315</td>\n",
       "      <td>37</td>\n",
       "      <td>735132.0</td>\n",
       "    </tr>\n",
       "    <tr>\n",
       "      <th>1</th>\n",
       "      <td>AL</td>\n",
       "      <td>https://cdn.civil.services/us-states/flags/ala...</td>\n",
       "      <td>3.408318</td>\n",
       "      <td>52</td>\n",
       "      <td>4833722.0</td>\n",
       "    </tr>\n",
       "    <tr>\n",
       "      <th>2</th>\n",
       "      <td>AR</td>\n",
       "      <td>https://cdn.civil.services/us-states/flags/ark...</td>\n",
       "      <td>4.117143</td>\n",
       "      <td>42</td>\n",
       "      <td>2959373.0</td>\n",
       "    </tr>\n",
       "    <tr>\n",
       "      <th>3</th>\n",
       "      <td>AZ</td>\n",
       "      <td>https://cdn.civil.services/us-states/flags/ari...</td>\n",
       "      <td>4.371227</td>\n",
       "      <td>97</td>\n",
       "      <td>6626624.0</td>\n",
       "    </tr>\n",
       "    <tr>\n",
       "      <th>4</th>\n",
       "      <td>CA</td>\n",
       "      <td>https://cdn.civil.services/us-states/flags/cal...</td>\n",
       "      <td>3.675409</td>\n",
       "      <td>121</td>\n",
       "      <td>38332521.0</td>\n",
       "    </tr>\n",
       "  </tbody>\n",
       "</table>\n",
       "</div>"
      ],
      "text/plain": [
       "  code                                     state_flag_url  how_many  \\\n",
       "0   AK  https://cdn.civil.services/us-states/flags/ala...  5.441315   \n",
       "1   AL  https://cdn.civil.services/us-states/flags/ala...  3.408318   \n",
       "2   AR  https://cdn.civil.services/us-states/flags/ark...  4.117143   \n",
       "3   AZ  https://cdn.civil.services/us-states/flags/ari...  4.371227   \n",
       "4   CA  https://cdn.civil.services/us-states/flags/cal...  3.675409   \n",
       "\n",
       "   species_code  population  \n",
       "0            37    735132.0  \n",
       "1            52   4833722.0  \n",
       "2            42   2959373.0  \n",
       "3            97   6626624.0  \n",
       "4           121  38332521.0  "
      ]
     },
     "execution_count": 6,
     "metadata": {},
     "output_type": "execute_result"
    }
   ],
   "source": [
    "df_grouped = df_merged.groupby(['code','state_flag_url'], as_index=False).agg({\"how_many\":\"mean\",\"species_code\":\"nunique\",\"population\":\"mean\"})\n",
    "df_grouped.head()"
   ]
  },
  {
   "cell_type": "code",
   "execution_count": 7,
   "metadata": {},
   "outputs": [
    {
     "data": {
      "application/vnd.plotly.v1+json": {
       "config": {
        "plotlyServerURL": "https://plot.ly"
       },
       "data": [
        {
         "customdata": [
          [
           735132
          ],
          [
           4833722
          ],
          [
           2959373
          ],
          [
           6626624
          ],
          [
           38332521
          ],
          [
           5268367
          ],
          [
           3596080
          ],
          [
           925749
          ],
          [
           19552860
          ],
          [
           9992167
          ],
          [
           1404054
          ],
          [
           3090416
          ],
          [
           1612136
          ],
          [
           12882135
          ],
          [
           6570902
          ],
          [
           2893957
          ],
          [
           4395295
          ],
          [
           4625470
          ],
          [
           6692824
          ],
          [
           5928814
          ],
          [
           1328302
          ],
          [
           9895622
          ],
          [
           5420380
          ],
          [
           6044171
          ],
          [
           2991207
          ],
          [
           1015165
          ],
          [
           9848060
          ],
          [
           723393
          ],
          [
           1868516
          ],
          [
           1323459
          ],
          [
           8899339
          ],
          [
           2085287
          ],
          [
           2790136
          ],
          [
           19651127
          ],
          [
           11570808
          ],
          [
           3850568
          ],
          [
           3930065
          ],
          [
           12773801
          ],
          [
           1051511
          ],
          [
           4774839
          ],
          [
           844877
          ],
          [
           6495978
          ],
          [
           26448193
          ],
          [
           2900872
          ],
          [
           8260405
          ],
          [
           626630
          ],
          [
           6971406
          ],
          [
           5742713
          ],
          [
           1854304
          ],
          [
           582658
          ]
         ],
         "hovertemplate": "<b>%{hovertext}</b><br><br>species_code=%{x}<br>how_many=%{y}<br>population=%{customdata[0]}<extra></extra>",
         "hovertext": [
          "AK",
          "AL",
          "AR",
          "AZ",
          "CA",
          "CO",
          "CT",
          "DE",
          "FL",
          "GA",
          "HI",
          "IA",
          "ID",
          "IL",
          "IN",
          "KS",
          "KY",
          "LA",
          "MA",
          "MD",
          "ME",
          "MI",
          "MN",
          "MO",
          "MS",
          "MT",
          "NC",
          "ND",
          "NE",
          "NH",
          "NJ",
          "NM",
          "NV",
          "NY",
          "OH",
          "OK",
          "OR",
          "PA",
          "RI",
          "SC",
          "SD",
          "TN",
          "TX",
          "UT",
          "VA",
          "VT",
          "WA",
          "WI",
          "WV",
          "WY"
         ],
         "legendgroup": "",
         "marker": {
          "color": "rgba(0,0,0,0)",
          "symbol": "circle"
         },
         "mode": "markers",
         "name": "",
         "orientation": "v",
         "showlegend": false,
         "type": "scatter",
         "x": [
          37,
          52,
          42,
          97,
          121,
          79,
          57,
          48,
          103,
          65,
          9,
          44,
          50,
          63,
          54,
          53,
          52,
          42,
          67,
          68,
          58,
          65,
          60,
          61,
          36,
          44,
          79,
          20,
          40,
          51,
          74,
          81,
          43,
          84,
          64,
          47,
          81,
          75,
          43,
          90,
          34,
          64,
          146,
          41,
          90,
          43,
          82,
          60,
          49,
          33
         ],
         "xaxis": "x",
         "y": [
          5.44131455399061,
          3.4083175803402646,
          4.117142857142857,
          4.371227364185111,
          3.6754090471607315,
          3.7806048967834855,
          3.309941520467836,
          4.11328125,
          3.004576659038902,
          2.7171655467318265,
          3.4545454545454546,
          4.48202614379085,
          7.224867724867725,
          4.378842676311031,
          3.710947109471095,
          3.6303317535545023,
          3.5874233128834354,
          4.473684210526316,
          3.174819965234666,
          3.2438846294267982,
          3.4045566502463056,
          3.464656290531777,
          3.4370132844709116,
          3.2959582790091266,
          4.247422680412371,
          5.242494226327945,
          2.606188044457795,
          3.593220338983051,
          3.9798850574712645,
          3.8666666666666667,
          3.41044776119403,
          4.373563218390805,
          6.076923076923077,
          3.6292838572441504,
          3.4180284659989457,
          4.776978417266187,
          3.628815080789946,
          3.6190098381466203,
          3.2487804878048783,
          2.8782837127845884,
          5.13265306122449,
          3.4411990776325903,
          4.218906720160481,
          5.766129032258065,
          2.9068761019394134,
          3.73421926910299,
          3.57312404287902,
          3.5476936856247203,
          3.808193668528864,
          12.829787234042554
         ],
         "yaxis": "y"
        }
       ],
       "layout": {
        "height": 600,
        "images": [
         {
          "layer": "above",
          "opacity": 0.8,
          "sizex": 7.412795224832002,
          "sizey": 7.412795224832002,
          "sizing": "contain",
          "source": "https://cdn.civil.services/us-states/flags/alaska-large.png",
          "x": 37,
          "xanchor": "center",
          "xref": "x",
          "y": 5.44131455399061,
          "yanchor": "middle",
          "yref": "y"
         },
         {
          "layer": "above",
          "opacity": 0.8,
          "sizex": 12.15680587828205,
          "sizey": 12.15680587828205,
          "sizing": "contain",
          "source": "https://cdn.civil.services/us-states/flags/alabama-large.png",
          "x": 52,
          "xanchor": "center",
          "xref": "x",
          "y": 3.4083175803402646,
          "yanchor": "middle",
          "yref": "y"
         },
         {
          "layer": "above",
          "opacity": 0.8,
          "sizex": 10.46499572277401,
          "sizey": 10.46499572277401,
          "sizing": "contain",
          "source": "https://cdn.civil.services/us-states/flags/arkansas-large.png",
          "x": 42,
          "xanchor": "center",
          "xref": "x",
          "y": 4.117142857142857,
          "yanchor": "middle",
          "yref": "y"
         },
         {
          "layer": "above",
          "opacity": 0.8,
          "sizex": 13.485558486084464,
          "sizey": 13.485558486084464,
          "sizing": "contain",
          "source": "https://cdn.civil.services/us-states/flags/arizona-large.png",
          "x": 97,
          "xanchor": "center",
          "xref": "x",
          "y": 4.371227364185111,
          "yanchor": "middle",
          "yref": "y"
         },
         {
          "layer": "above",
          "opacity": 0.8,
          "sizex": 26.279999999999998,
          "sizey": 26.279999999999998,
          "sizing": "contain",
          "source": "https://cdn.civil.services/us-states/flags/california-large.png",
          "x": 121,
          "xanchor": "center",
          "xref": "x",
          "y": 3.6754090471607315,
          "yanchor": "middle",
          "yref": "y"
         },
         {
          "layer": "above",
          "opacity": 0.8,
          "sizex": 12.498923215244872,
          "sizey": 12.498923215244872,
          "sizing": "contain",
          "source": "https://cdn.civil.services/us-states/flags/colorado-large.png",
          "x": 79,
          "xanchor": "center",
          "xref": "x",
          "y": 3.7806048967834855,
          "yanchor": "middle",
          "yref": "y"
         },
         {
          "layer": "above",
          "opacity": 0.8,
          "sizex": 11.087722632817952,
          "sizey": 11.087722632817952,
          "sizing": "contain",
          "source": "https://cdn.civil.services/us-states/flags/connecticut-large.png",
          "x": 57,
          "xanchor": "center",
          "xref": "x",
          "y": 3.309941520467836,
          "yanchor": "middle",
          "yref": "y"
         },
         {
          "layer": "above",
          "opacity": 0.8,
          "sizex": 7.783353411472405,
          "sizey": 7.783353411472405,
          "sizing": "contain",
          "source": "https://cdn.civil.services/us-states/flags/delaware-large.png",
          "x": 48,
          "xanchor": "center",
          "xref": "x",
          "y": 4.11328125,
          "yanchor": "middle",
          "yref": "y"
         },
         {
          "layer": "above",
          "opacity": 0.8,
          "sizex": 20.02103792467199,
          "sizey": 20.02103792467199,
          "sizing": "contain",
          "source": "https://cdn.civil.services/us-states/flags/florida-large.png",
          "x": 103,
          "xanchor": "center",
          "xref": "x",
          "y": 3.004576659038902,
          "yanchor": "middle",
          "yref": "y"
         },
         {
          "layer": "above",
          "opacity": 0.8,
          "sizex": 15.561247623890587,
          "sizey": 15.561247623890587,
          "sizing": "contain",
          "source": "https://cdn.civil.services/us-states/flags/georgia-large.png",
          "x": 65,
          "xanchor": "center",
          "xref": "x",
          "y": 2.7171655467318265,
          "yanchor": "middle",
          "yref": "y"
         },
         {
          "layer": "above",
          "opacity": 0.8,
          "sizex": 8.571334568300644,
          "sizey": 8.571334568300644,
          "sizing": "contain",
          "source": "https://cdn.civil.services/us-states/flags/hawaii-large.png",
          "x": 9,
          "xanchor": "center",
          "xref": "x",
          "y": 3.4545454545454546,
          "yanchor": "middle",
          "yref": "y"
         },
         {
          "layer": "above",
          "opacity": 0.8,
          "sizex": 10.598260265698467,
          "sizey": 10.598260265698467,
          "sizing": "contain",
          "source": "https://cdn.civil.services/us-states/flags/iowa-large.png",
          "x": 44,
          "xanchor": "center",
          "xref": "x",
          "y": 4.48202614379085,
          "yanchor": "middle",
          "yref": "y"
         },
         {
          "layer": "above",
          "opacity": 0.8,
          "sizex": 8.871188277981215,
          "sizey": 8.871188277981215,
          "sizing": "contain",
          "source": "https://cdn.civil.services/us-states/flags/idaho-large.png",
          "x": 50,
          "xanchor": "center",
          "xref": "x",
          "y": 7.224867724867725,
          "yanchor": "middle",
          "yref": "y"
         },
         {
          "layer": "above",
          "opacity": 0.8,
          "sizex": 17.075632626491792,
          "sizey": 17.075632626491792,
          "sizing": "contain",
          "source": "https://cdn.civil.services/us-states/flags/illinois-large.png",
          "x": 63,
          "xanchor": "center",
          "xref": "x",
          "y": 4.378842676311031,
          "yanchor": "middle",
          "yref": "y"
         },
         {
          "layer": "above",
          "opacity": 0.8,
          "sizex": 13.447194226011622,
          "sizey": 13.447194226011622,
          "sizing": "contain",
          "source": "https://cdn.civil.services/us-states/flags/indiana-large.png",
          "x": 54,
          "xanchor": "center",
          "xref": "x",
          "y": 3.710947109471095,
          "yanchor": "middle",
          "yref": "y"
         },
         {
          "layer": "above",
          "opacity": 0.8,
          "sizex": 10.397366454802942,
          "sizey": 10.397366454802942,
          "sizing": "contain",
          "source": "https://cdn.civil.services/us-states/flags/kansas-large.png",
          "x": 53,
          "xanchor": "center",
          "xref": "x",
          "y": 3.6303317535545023,
          "yanchor": "middle",
          "yref": "y"
         },
         {
          "layer": "above",
          "opacity": 0.8,
          "sizex": 11.795739033940123,
          "sizey": 11.795739033940123,
          "sizing": "contain",
          "source": "https://cdn.civil.services/us-states/flags/kentucky-large.png",
          "x": 52,
          "xanchor": "center",
          "xref": "x",
          "y": 3.5874233128834354,
          "yanchor": "middle",
          "yref": "y"
         },
         {
          "layer": "above",
          "opacity": 0.8,
          "sizex": 11.987436885868805,
          "sizey": 11.987436885868805,
          "sizing": "contain",
          "source": "https://cdn.civil.services/us-states/flags/louisiana-large.png",
          "x": 42,
          "xanchor": "center",
          "xref": "x",
          "y": 4.473684210526316,
          "yanchor": "middle",
          "yref": "y"
         },
         {
          "layer": "above",
          "opacity": 0.8,
          "sizex": 13.530927740578921,
          "sizey": 13.530927740578921,
          "sizing": "contain",
          "source": "https://cdn.civil.services/us-states/flags/massachusetts-large.png",
          "x": 67,
          "xanchor": "center",
          "xref": "x",
          "y": 3.174819965234666,
          "yanchor": "middle",
          "yref": "y"
         },
         {
          "layer": "above",
          "opacity": 0.8,
          "sizex": 12.992799486834372,
          "sizey": 12.992799486834372,
          "sizing": "contain",
          "source": "https://cdn.civil.services/us-states/flags/maryland-large.png",
          "x": 68,
          "xanchor": "center",
          "xref": "x",
          "y": 3.2438846294267982,
          "yanchor": "middle",
          "yref": "y"
         },
         {
          "layer": "above",
          "opacity": 0.8,
          "sizex": 8.456700784954293,
          "sizey": 8.456700784954293,
          "sizing": "contain",
          "source": "https://cdn.civil.services/us-states/flags/maine-large.png",
          "x": 58,
          "xanchor": "center",
          "xref": "x",
          "y": 3.4045566502463056,
          "yanchor": "middle",
          "yref": "y"
         },
         {
          "layer": "above",
          "opacity": 0.8,
          "sizex": 15.507099521650325,
          "sizey": 15.507099521650325,
          "sizing": "contain",
          "source": "https://cdn.civil.services/us-states/flags/michigan-large.png",
          "x": 65,
          "xanchor": "center",
          "xref": "x",
          "y": 3.464656290531777,
          "yanchor": "middle",
          "yref": "y"
         },
         {
          "layer": "above",
          "opacity": 0.8,
          "sizex": 12.615221614714752,
          "sizey": 12.615221614714752,
          "sizing": "contain",
          "source": "https://cdn.civil.services/us-states/flags/minnesota-large.png",
          "x": 60,
          "xanchor": "center",
          "xref": "x",
          "y": 3.4370132844709116,
          "yanchor": "middle",
          "yref": "y"
         },
         {
          "layer": "above",
          "opacity": 0.8,
          "sizex": 13.076185497974574,
          "sizey": 13.076185497974574,
          "sizing": "contain",
          "source": "https://cdn.civil.services/us-states/flags/missouri-large.png",
          "x": 61,
          "xanchor": "center",
          "xref": "x",
          "y": 3.2959582790091266,
          "yanchor": "middle",
          "yref": "y"
         },
         {
          "layer": "above",
          "opacity": 0.8,
          "sizex": 10.497636353514242,
          "sizey": 10.497636353514242,
          "sizing": "contain",
          "source": "https://cdn.civil.services/us-states/flags/mississippi-large.png",
          "x": 36,
          "xanchor": "center",
          "xref": "x",
          "y": 4.247422680412371,
          "yanchor": "middle",
          "yref": "y"
         },
         {
          "layer": "above",
          "opacity": 0.8,
          "sizex": 7.9439265237651355,
          "sizey": 7.9439265237651355,
          "sizing": "contain",
          "source": "https://cdn.civil.services/us-states/flags/montana-large.png",
          "x": 44,
          "xanchor": "center",
          "xref": "x",
          "y": 5.242494226327945,
          "yanchor": "middle",
          "yref": "y"
         },
         {
          "layer": "above",
          "opacity": 0.8,
          "sizex": 15.480326846050854,
          "sizey": 15.480326846050854,
          "sizing": "contain",
          "source": "https://cdn.civil.services/us-states/flags/north-carolina-large.png",
          "x": 79,
          "xanchor": "center",
          "xref": "x",
          "y": 2.606188044457795,
          "yanchor": "middle",
          "yref": "y"
         },
         {
          "layer": "above",
          "opacity": 0.8,
          "sizex": 7.38848308939486,
          "sizey": 7.38848308939486,
          "sizing": "contain",
          "source": "https://cdn.civil.services/us-states/flags/north-dakota-large.png",
          "x": 20,
          "xanchor": "center",
          "xref": "x",
          "y": 3.593220338983051,
          "yanchor": "middle",
          "yref": "y"
         },
         {
          "layer": "above",
          "opacity": 0.8,
          "sizex": 9.2151375591412,
          "sizey": 9.2151375591412,
          "sizing": "contain",
          "source": "https://cdn.civil.services/us-states/flags/nebraska-large.png",
          "x": 40,
          "xanchor": "center",
          "xref": "x",
          "y": 3.9798850574712645,
          "yanchor": "middle",
          "yref": "y"
         },
         {
          "layer": "above",
          "opacity": 0.8,
          "sizex": 8.449262156167428,
          "sizey": 8.449262156167428,
          "sizing": "contain",
          "source": "https://cdn.civil.services/us-states/flags/new-hampshire-large.png",
          "x": 51,
          "xanchor": "center",
          "xref": "x",
          "y": 3.8666666666666667,
          "yanchor": "middle",
          "yref": "y"
         },
         {
          "layer": "above",
          "opacity": 0.8,
          "sizex": 14.932109735913496,
          "sizey": 14.932109735913496,
          "sizing": "contain",
          "source": "https://cdn.civil.services/us-states/flags/new-jersey-large.png",
          "x": 74,
          "xanchor": "center",
          "xref": "x",
          "y": 3.41044776119403,
          "yanchor": "middle",
          "yref": "y"
         },
         {
          "layer": "above",
          "opacity": 0.8,
          "sizex": 9.48791123598038,
          "sizey": 9.48791123598038,
          "sizing": "contain",
          "source": "https://cdn.civil.services/us-states/flags/new-mexico-large.png",
          "x": 81,
          "xanchor": "center",
          "xref": "x",
          "y": 4.373563218390805,
          "yanchor": "middle",
          "yref": "y"
         },
         {
          "layer": "above",
          "opacity": 0.8,
          "sizex": 10.288443814715075,
          "sizey": 10.288443814715075,
          "sizing": "contain",
          "source": "https://cdn.civil.services/us-states/flags/nevada-large.png",
          "x": 43,
          "xanchor": "center",
          "xref": "x",
          "y": 6.076923076923077,
          "yanchor": "middle",
          "yref": "y"
         },
         {
          "layer": "above",
          "opacity": 0.8,
          "sizex": 20.060292324920294,
          "sizey": 20.060292324920294,
          "sizing": "contain",
          "source": "https://cdn.civil.services/us-states/flags/new-york-large.png",
          "x": 84,
          "xanchor": "center",
          "xref": "x",
          "y": 3.6292838572441504,
          "yanchor": "middle",
          "yref": "y"
         },
         {
          "layer": "above",
          "opacity": 0.8,
          "sizex": 16.412123121758135,
          "sizey": 16.412123121758135,
          "sizing": "contain",
          "source": "https://cdn.civil.services/us-states/flags/ohio-large.png",
          "x": 64,
          "xanchor": "center",
          "xref": "x",
          "y": 3.4180284659989457,
          "yanchor": "middle",
          "yref": "y"
         },
         {
          "layer": "above",
          "opacity": 0.8,
          "sizex": 11.32101243359499,
          "sizey": 11.32101243359499,
          "sizing": "contain",
          "source": "https://cdn.civil.services/us-states/flags/oklahoma-large.png",
          "x": 47,
          "xanchor": "center",
          "xref": "x",
          "y": 4.776978417266187,
          "yanchor": "middle",
          "yref": "y"
         },
         {
          "layer": "above",
          "opacity": 0.8,
          "sizex": 11.392296812129477,
          "sizey": 11.392296812129477,
          "sizing": "contain",
          "source": "https://cdn.civil.services/us-states/flags/oregon-large.png",
          "x": 81,
          "xanchor": "center",
          "xref": "x",
          "y": 3.628815080789946,
          "yanchor": "middle",
          "yref": "y"
         },
         {
          "layer": "above",
          "opacity": 0.8,
          "sizex": 17.022137127744188,
          "sizey": 17.022137127744188,
          "sizing": "contain",
          "source": "https://cdn.civil.services/us-states/flags/pennsylvania-large.png",
          "x": 75,
          "xanchor": "center",
          "xref": "x",
          "y": 3.6190098381466203,
          "yanchor": "middle",
          "yref": "y"
         },
         {
          "layer": "above",
          "opacity": 0.8,
          "sizex": 8.00716518138329,
          "sizey": 8.00716518138329,
          "sizing": "contain",
          "source": "https://cdn.civil.services/us-states/flags/rhode-island-large.png",
          "x": 43,
          "xanchor": "center",
          "xref": "x",
          "y": 3.2487804878048783,
          "yanchor": "middle",
          "yref": "y"
         },
         {
          "layer": "above",
          "opacity": 0.8,
          "sizex": 12.109293341660022,
          "sizey": 12.109293341660022,
          "sizing": "contain",
          "source": "https://cdn.civil.services/us-states/flags/south-carolina-large.png",
          "x": 90,
          "xanchor": "center",
          "xref": "x",
          "y": 2.8782837127845884,
          "yanchor": "middle",
          "yref": "y"
         },
         {
          "layer": "above",
          "opacity": 0.8,
          "sizex": 7.631300924023451,
          "sizey": 7.631300924023451,
          "sizing": "contain",
          "source": "https://cdn.civil.services/us-states/flags/south-dakota-large.png",
          "x": 34,
          "xanchor": "center",
          "xref": "x",
          "y": 5.13265306122449,
          "yanchor": "middle",
          "yref": "y"
         },
         {
          "layer": "above",
          "opacity": 0.8,
          "sizex": 13.395352170291027,
          "sizey": 13.395352170291027,
          "sizing": "contain",
          "source": "https://cdn.civil.services/us-states/flags/tennessee-large.png",
          "x": 64,
          "xanchor": "center",
          "xref": "x",
          "y": 3.4411990776325903,
          "yanchor": "middle",
          "yref": "y"
         },
         {
          "layer": "above",
          "opacity": 0.8,
          "sizex": 22.57107759668391,
          "sizey": 22.57107759668391,
          "sizing": "contain",
          "source": "https://cdn.civil.services/us-states/flags/texas-large.png",
          "x": 146,
          "xanchor": "center",
          "xref": "x",
          "y": 4.218906720160481,
          "yanchor": "middle",
          "yref": "y"
         },
         {
          "layer": "above",
          "opacity": 0.8,
          "sizex": 10.404551299335326,
          "sizey": 10.404551299335326,
          "sizing": "contain",
          "source": "https://cdn.civil.services/us-states/flags/utah-large.png",
          "x": 41,
          "xanchor": "center",
          "xref": "x",
          "y": 5.766129032258065,
          "yanchor": "middle",
          "yref": "y"
         },
         {
          "layer": "above",
          "opacity": 0.8,
          "sizex": 14.546257229674538,
          "sizey": 14.546257229674538,
          "sizing": "contain",
          "source": "https://cdn.civil.services/us-states/flags/virginia-large.png",
          "x": 90,
          "xanchor": "center",
          "xref": "x",
          "y": 2.9068761019394134,
          "yanchor": "middle",
          "yref": "y"
         },
         {
          "layer": "above",
          "opacity": 0.8,
          "sizex": 7.180051474189102,
          "sizey": 7.180051474189102,
          "sizing": "contain",
          "source": "https://cdn.civil.services/us-states/flags/vermont-large.png",
          "x": 43,
          "xanchor": "center",
          "xref": "x",
          "y": 3.73421926910299,
          "yanchor": "middle",
          "yref": "y"
         },
         {
          "layer": "above",
          "opacity": 0.8,
          "sizex": 13.719435166993676,
          "sizey": 13.719435166993676,
          "sizing": "contain",
          "source": "https://cdn.civil.services/us-states/flags/washington-large.png",
          "x": 82,
          "xanchor": "center",
          "xref": "x",
          "y": 3.57312404287902,
          "yanchor": "middle",
          "yref": "y"
         },
         {
          "layer": "above",
          "opacity": 0.8,
          "sizex": 12.856547107089089,
          "sizey": 12.856547107089089,
          "sizing": "contain",
          "source": "https://cdn.civil.services/us-states/flags/wisconsin-large.png",
          "x": 60,
          "xanchor": "center",
          "xref": "x",
          "y": 3.5476936856247203,
          "yanchor": "middle",
          "yref": "y"
         },
         {
          "layer": "above",
          "opacity": 0.8,
          "sizex": 9.196714345147548,
          "sizey": 9.196714345147548,
          "sizing": "contain",
          "source": "https://cdn.civil.services/us-states/flags/west-virginia-large.png",
          "x": 49,
          "xanchor": "center",
          "xref": "x",
          "y": 3.808193668528864,
          "yanchor": "middle",
          "yref": "y"
         },
         {
          "layer": "above",
          "opacity": 0.8,
          "sizex": 7.080021861679121,
          "sizey": 7.080021861679121,
          "sizing": "contain",
          "source": "https://cdn.civil.services/us-states/flags/wyoming-large.png",
          "x": 33,
          "xanchor": "center",
          "xref": "x",
          "y": 12.829787234042554,
          "yanchor": "middle",
          "yref": "y"
         }
        ],
        "legend": {
         "tracegroupgap": 0
        },
        "margin": {
         "t": 60
        },
        "plot_bgcolor": "#dfdfdf",
        "template": {
         "data": {
          "bar": [
           {
            "error_x": {
             "color": "#2a3f5f"
            },
            "error_y": {
             "color": "#2a3f5f"
            },
            "marker": {
             "line": {
              "color": "#E5ECF6",
              "width": 0.5
             },
             "pattern": {
              "fillmode": "overlay",
              "size": 10,
              "solidity": 0.2
             }
            },
            "type": "bar"
           }
          ],
          "barpolar": [
           {
            "marker": {
             "line": {
              "color": "#E5ECF6",
              "width": 0.5
             },
             "pattern": {
              "fillmode": "overlay",
              "size": 10,
              "solidity": 0.2
             }
            },
            "type": "barpolar"
           }
          ],
          "carpet": [
           {
            "aaxis": {
             "endlinecolor": "#2a3f5f",
             "gridcolor": "white",
             "linecolor": "white",
             "minorgridcolor": "white",
             "startlinecolor": "#2a3f5f"
            },
            "baxis": {
             "endlinecolor": "#2a3f5f",
             "gridcolor": "white",
             "linecolor": "white",
             "minorgridcolor": "white",
             "startlinecolor": "#2a3f5f"
            },
            "type": "carpet"
           }
          ],
          "choropleth": [
           {
            "colorbar": {
             "outlinewidth": 0,
             "ticks": ""
            },
            "type": "choropleth"
           }
          ],
          "contour": [
           {
            "colorbar": {
             "outlinewidth": 0,
             "ticks": ""
            },
            "colorscale": [
             [
              0,
              "#0d0887"
             ],
             [
              0.1111111111111111,
              "#46039f"
             ],
             [
              0.2222222222222222,
              "#7201a8"
             ],
             [
              0.3333333333333333,
              "#9c179e"
             ],
             [
              0.4444444444444444,
              "#bd3786"
             ],
             [
              0.5555555555555556,
              "#d8576b"
             ],
             [
              0.6666666666666666,
              "#ed7953"
             ],
             [
              0.7777777777777778,
              "#fb9f3a"
             ],
             [
              0.8888888888888888,
              "#fdca26"
             ],
             [
              1,
              "#f0f921"
             ]
            ],
            "type": "contour"
           }
          ],
          "contourcarpet": [
           {
            "colorbar": {
             "outlinewidth": 0,
             "ticks": ""
            },
            "type": "contourcarpet"
           }
          ],
          "heatmap": [
           {
            "colorbar": {
             "outlinewidth": 0,
             "ticks": ""
            },
            "colorscale": [
             [
              0,
              "#0d0887"
             ],
             [
              0.1111111111111111,
              "#46039f"
             ],
             [
              0.2222222222222222,
              "#7201a8"
             ],
             [
              0.3333333333333333,
              "#9c179e"
             ],
             [
              0.4444444444444444,
              "#bd3786"
             ],
             [
              0.5555555555555556,
              "#d8576b"
             ],
             [
              0.6666666666666666,
              "#ed7953"
             ],
             [
              0.7777777777777778,
              "#fb9f3a"
             ],
             [
              0.8888888888888888,
              "#fdca26"
             ],
             [
              1,
              "#f0f921"
             ]
            ],
            "type": "heatmap"
           }
          ],
          "heatmapgl": [
           {
            "colorbar": {
             "outlinewidth": 0,
             "ticks": ""
            },
            "colorscale": [
             [
              0,
              "#0d0887"
             ],
             [
              0.1111111111111111,
              "#46039f"
             ],
             [
              0.2222222222222222,
              "#7201a8"
             ],
             [
              0.3333333333333333,
              "#9c179e"
             ],
             [
              0.4444444444444444,
              "#bd3786"
             ],
             [
              0.5555555555555556,
              "#d8576b"
             ],
             [
              0.6666666666666666,
              "#ed7953"
             ],
             [
              0.7777777777777778,
              "#fb9f3a"
             ],
             [
              0.8888888888888888,
              "#fdca26"
             ],
             [
              1,
              "#f0f921"
             ]
            ],
            "type": "heatmapgl"
           }
          ],
          "histogram": [
           {
            "marker": {
             "pattern": {
              "fillmode": "overlay",
              "size": 10,
              "solidity": 0.2
             }
            },
            "type": "histogram"
           }
          ],
          "histogram2d": [
           {
            "colorbar": {
             "outlinewidth": 0,
             "ticks": ""
            },
            "colorscale": [
             [
              0,
              "#0d0887"
             ],
             [
              0.1111111111111111,
              "#46039f"
             ],
             [
              0.2222222222222222,
              "#7201a8"
             ],
             [
              0.3333333333333333,
              "#9c179e"
             ],
             [
              0.4444444444444444,
              "#bd3786"
             ],
             [
              0.5555555555555556,
              "#d8576b"
             ],
             [
              0.6666666666666666,
              "#ed7953"
             ],
             [
              0.7777777777777778,
              "#fb9f3a"
             ],
             [
              0.8888888888888888,
              "#fdca26"
             ],
             [
              1,
              "#f0f921"
             ]
            ],
            "type": "histogram2d"
           }
          ],
          "histogram2dcontour": [
           {
            "colorbar": {
             "outlinewidth": 0,
             "ticks": ""
            },
            "colorscale": [
             [
              0,
              "#0d0887"
             ],
             [
              0.1111111111111111,
              "#46039f"
             ],
             [
              0.2222222222222222,
              "#7201a8"
             ],
             [
              0.3333333333333333,
              "#9c179e"
             ],
             [
              0.4444444444444444,
              "#bd3786"
             ],
             [
              0.5555555555555556,
              "#d8576b"
             ],
             [
              0.6666666666666666,
              "#ed7953"
             ],
             [
              0.7777777777777778,
              "#fb9f3a"
             ],
             [
              0.8888888888888888,
              "#fdca26"
             ],
             [
              1,
              "#f0f921"
             ]
            ],
            "type": "histogram2dcontour"
           }
          ],
          "mesh3d": [
           {
            "colorbar": {
             "outlinewidth": 0,
             "ticks": ""
            },
            "type": "mesh3d"
           }
          ],
          "parcoords": [
           {
            "line": {
             "colorbar": {
              "outlinewidth": 0,
              "ticks": ""
             }
            },
            "type": "parcoords"
           }
          ],
          "pie": [
           {
            "automargin": true,
            "type": "pie"
           }
          ],
          "scatter": [
           {
            "fillpattern": {
             "fillmode": "overlay",
             "size": 10,
             "solidity": 0.2
            },
            "type": "scatter"
           }
          ],
          "scatter3d": [
           {
            "line": {
             "colorbar": {
              "outlinewidth": 0,
              "ticks": ""
             }
            },
            "marker": {
             "colorbar": {
              "outlinewidth": 0,
              "ticks": ""
             }
            },
            "type": "scatter3d"
           }
          ],
          "scattercarpet": [
           {
            "marker": {
             "colorbar": {
              "outlinewidth": 0,
              "ticks": ""
             }
            },
            "type": "scattercarpet"
           }
          ],
          "scattergeo": [
           {
            "marker": {
             "colorbar": {
              "outlinewidth": 0,
              "ticks": ""
             }
            },
            "type": "scattergeo"
           }
          ],
          "scattergl": [
           {
            "marker": {
             "colorbar": {
              "outlinewidth": 0,
              "ticks": ""
             }
            },
            "type": "scattergl"
           }
          ],
          "scattermapbox": [
           {
            "marker": {
             "colorbar": {
              "outlinewidth": 0,
              "ticks": ""
             }
            },
            "type": "scattermapbox"
           }
          ],
          "scatterpolar": [
           {
            "marker": {
             "colorbar": {
              "outlinewidth": 0,
              "ticks": ""
             }
            },
            "type": "scatterpolar"
           }
          ],
          "scatterpolargl": [
           {
            "marker": {
             "colorbar": {
              "outlinewidth": 0,
              "ticks": ""
             }
            },
            "type": "scatterpolargl"
           }
          ],
          "scatterternary": [
           {
            "marker": {
             "colorbar": {
              "outlinewidth": 0,
              "ticks": ""
             }
            },
            "type": "scatterternary"
           }
          ],
          "surface": [
           {
            "colorbar": {
             "outlinewidth": 0,
             "ticks": ""
            },
            "colorscale": [
             [
              0,
              "#0d0887"
             ],
             [
              0.1111111111111111,
              "#46039f"
             ],
             [
              0.2222222222222222,
              "#7201a8"
             ],
             [
              0.3333333333333333,
              "#9c179e"
             ],
             [
              0.4444444444444444,
              "#bd3786"
             ],
             [
              0.5555555555555556,
              "#d8576b"
             ],
             [
              0.6666666666666666,
              "#ed7953"
             ],
             [
              0.7777777777777778,
              "#fb9f3a"
             ],
             [
              0.8888888888888888,
              "#fdca26"
             ],
             [
              1,
              "#f0f921"
             ]
            ],
            "type": "surface"
           }
          ],
          "table": [
           {
            "cells": {
             "fill": {
              "color": "#EBF0F8"
             },
             "line": {
              "color": "white"
             }
            },
            "header": {
             "fill": {
              "color": "#C8D4E3"
             },
             "line": {
              "color": "white"
             }
            },
            "type": "table"
           }
          ]
         },
         "layout": {
          "annotationdefaults": {
           "arrowcolor": "#2a3f5f",
           "arrowhead": 0,
           "arrowwidth": 1
          },
          "autotypenumbers": "strict",
          "coloraxis": {
           "colorbar": {
            "outlinewidth": 0,
            "ticks": ""
           }
          },
          "colorscale": {
           "diverging": [
            [
             0,
             "#8e0152"
            ],
            [
             0.1,
             "#c51b7d"
            ],
            [
             0.2,
             "#de77ae"
            ],
            [
             0.3,
             "#f1b6da"
            ],
            [
             0.4,
             "#fde0ef"
            ],
            [
             0.5,
             "#f7f7f7"
            ],
            [
             0.6,
             "#e6f5d0"
            ],
            [
             0.7,
             "#b8e186"
            ],
            [
             0.8,
             "#7fbc41"
            ],
            [
             0.9,
             "#4d9221"
            ],
            [
             1,
             "#276419"
            ]
           ],
           "sequential": [
            [
             0,
             "#0d0887"
            ],
            [
             0.1111111111111111,
             "#46039f"
            ],
            [
             0.2222222222222222,
             "#7201a8"
            ],
            [
             0.3333333333333333,
             "#9c179e"
            ],
            [
             0.4444444444444444,
             "#bd3786"
            ],
            [
             0.5555555555555556,
             "#d8576b"
            ],
            [
             0.6666666666666666,
             "#ed7953"
            ],
            [
             0.7777777777777778,
             "#fb9f3a"
            ],
            [
             0.8888888888888888,
             "#fdca26"
            ],
            [
             1,
             "#f0f921"
            ]
           ],
           "sequentialminus": [
            [
             0,
             "#0d0887"
            ],
            [
             0.1111111111111111,
             "#46039f"
            ],
            [
             0.2222222222222222,
             "#7201a8"
            ],
            [
             0.3333333333333333,
             "#9c179e"
            ],
            [
             0.4444444444444444,
             "#bd3786"
            ],
            [
             0.5555555555555556,
             "#d8576b"
            ],
            [
             0.6666666666666666,
             "#ed7953"
            ],
            [
             0.7777777777777778,
             "#fb9f3a"
            ],
            [
             0.8888888888888888,
             "#fdca26"
            ],
            [
             1,
             "#f0f921"
            ]
           ]
          },
          "colorway": [
           "#636efa",
           "#EF553B",
           "#00cc96",
           "#ab63fa",
           "#FFA15A",
           "#19d3f3",
           "#FF6692",
           "#B6E880",
           "#FF97FF",
           "#FECB52"
          ],
          "font": {
           "color": "#2a3f5f"
          },
          "geo": {
           "bgcolor": "white",
           "lakecolor": "white",
           "landcolor": "#E5ECF6",
           "showlakes": true,
           "showland": true,
           "subunitcolor": "white"
          },
          "hoverlabel": {
           "align": "left"
          },
          "hovermode": "closest",
          "mapbox": {
           "style": "light"
          },
          "paper_bgcolor": "white",
          "plot_bgcolor": "#E5ECF6",
          "polar": {
           "angularaxis": {
            "gridcolor": "white",
            "linecolor": "white",
            "ticks": ""
           },
           "bgcolor": "#E5ECF6",
           "radialaxis": {
            "gridcolor": "white",
            "linecolor": "white",
            "ticks": ""
           }
          },
          "scene": {
           "xaxis": {
            "backgroundcolor": "#E5ECF6",
            "gridcolor": "white",
            "gridwidth": 2,
            "linecolor": "white",
            "showbackground": true,
            "ticks": "",
            "zerolinecolor": "white"
           },
           "yaxis": {
            "backgroundcolor": "#E5ECF6",
            "gridcolor": "white",
            "gridwidth": 2,
            "linecolor": "white",
            "showbackground": true,
            "ticks": "",
            "zerolinecolor": "white"
           },
           "zaxis": {
            "backgroundcolor": "#E5ECF6",
            "gridcolor": "white",
            "gridwidth": 2,
            "linecolor": "white",
            "showbackground": true,
            "ticks": "",
            "zerolinecolor": "white"
           }
          },
          "shapedefaults": {
           "line": {
            "color": "#2a3f5f"
           }
          },
          "ternary": {
           "aaxis": {
            "gridcolor": "white",
            "linecolor": "white",
            "ticks": ""
           },
           "baxis": {
            "gridcolor": "white",
            "linecolor": "white",
            "ticks": ""
           },
           "bgcolor": "#E5ECF6",
           "caxis": {
            "gridcolor": "white",
            "linecolor": "white",
            "ticks": ""
           }
          },
          "title": {
           "x": 0.05
          },
          "xaxis": {
           "automargin": true,
           "gridcolor": "white",
           "linecolor": "white",
           "ticks": "",
           "title": {
            "standoff": 15
           },
           "zerolinecolor": "white",
           "zerolinewidth": 2
          },
          "yaxis": {
           "automargin": true,
           "gridcolor": "white",
           "linecolor": "white",
           "ticks": "",
           "title": {
            "standoff": 15
           },
           "zerolinecolor": "white",
           "zerolinewidth": 2
          }
         }
        },
        "title": {
         "text": "Comparing Average Observations with Unique Species Discovered by State (Weighed by Total Population) "
        },
        "width": 1000,
        "xaxis": {
         "anchor": "y",
         "domain": [
          0,
          1
         ],
         "title": {
          "text": "species_code"
         }
        },
        "yaxis": {
         "anchor": "x",
         "domain": [
          0,
          1
         ],
         "title": {
          "text": "how_many"
         }
        }
       }
      }
     },
     "metadata": {},
     "output_type": "display_data"
    }
   ],
   "source": [
    "import numpy as np \n",
    "\n",
    "\n",
    "fig = px.scatter(\n",
    "    df_grouped,\n",
    "    x=\"species_code\",\n",
    "    y=\"how_many\",\n",
    "    hover_name=\"code\",\n",
    "    hover_data=[\"species_code\", \"population\",\"how_many\"],\n",
    ")\n",
    "fig.update_traces(marker_color=\"rgba(0,0,0,0)\")\n",
    "\n",
    "minDim = df_grouped[[\"species_code\", \"how_many\"]].max().idxmax()\n",
    "maxi = df_grouped[minDim].max()\n",
    "for i, row in df_grouped.iterrows():\n",
    "    fig.add_layout_image(\n",
    "        dict(\n",
    "            source=row[\"state_flag_url\"],\n",
    "            xref=\"x\",\n",
    "            yref=\"y\",\n",
    "            xanchor=\"center\",\n",
    "            yanchor=\"middle\",\n",
    "            x=row[\"species_code\"],\n",
    "            y=row[\"how_many\"],\n",
    "            sizex=np.sqrt(row[\"population\"] / df_grouped[\"population\"].max()) * maxi * 0.15 + maxi * 0.03,\n",
    "            sizey=np.sqrt(row[\"population\"] / df_grouped[\"population\"].max()) * maxi * 0.15+ maxi * 0.03,\n",
    "            sizing=\"contain\",\n",
    "            opacity=0.8,\n",
    "            layer=\"above\"\n",
    "\n",
    "        )\n",
    "    )\n",
    "\n",
    "fig.update_layout(height=600, width=1000, plot_bgcolor=\"#dfdfdf\",title = \"Comparing Average Observations with Unique Species Discovered by State (Weighed by Total Population) \")\n",
    "\n",
    "fig.show()"
   ]
  },
  {
   "cell_type": "code",
   "execution_count": 8,
   "metadata": {},
   "outputs": [
    {
     "data": {
      "image/png": "[encoded data removed]",
      "text/plain": [
       "<IPython.core.display.Image object>"
      ]
     },
     "execution_count": 8,
     "metadata": {},
     "output_type": "execute_result"
    }
   ],
   "source": [
    "# Display Output in production\n",
    "img_bytes = fig.to_image(format=\"png\")\n",
    "from IPython.display import Image\n",
    "Image(img_bytes)"
   ]
  }
 ],
 "metadata": {
  "kernelspec": {
   "display_name": "Python 3.10.4 ('virtual_env')",
   "language": "python",
   "name": "python3"
  },
  "language_info": {
   "codemirror_mode": {
    "name": "ipython",
    "version": 3
   },
   "file_extension": ".py",
   "mimetype": "text/x-python",
   "name": "python",
   "nbconvert_exporter": "python",
   "pygments_lexer": "ipython3",
   "version": "3.10.4"
  },
  "orig_nbformat": 4,
  "vscode": {
   "interpreter": {
    "hash": "687274526d4aa2e04447d7d070c6f665e4726a27c7a8a0088b2d1697dc8ad3d8"
   }
  }
 },
 "nbformat": 4,
 "nbformat_minor": 2
}
