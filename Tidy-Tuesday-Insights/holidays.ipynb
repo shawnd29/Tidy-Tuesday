{
 "cells": [
  {
   "cell_type": "markdown",
   "metadata": {},
   "source": [
    "2021-07-06<br/>\n",
    "International Independence Days <br/>\n",
    "https://github.com/rfordatascience/tidytuesday/blob/master/data/2021/2021-07-06/readme.md"
   ]
  },
  {
   "cell_type": "markdown",
   "metadata": {},
   "source": [
    "Map Timelapse: Unfinished"
   ]
  },
  {
   "cell_type": "markdown",
   "metadata": {},
   "source": [
    "https://towardsdatascience.com/how-to-create-an-animated-choropleth-map-with-less-than-15-lines-of-code-2ff04921c60b\n",
    "https://towardsdatascience.com/simple-plotly-tutorials-868bd0890b8b\n",
    "https://analyticsindiamag.com/beginners_guide_geographical_plotting_with_plotly/\n",
    "\n"
   ]
  },
  {
   "cell_type": "code",
   "execution_count": 1,
   "metadata": {},
   "outputs": [],
   "source": [
    "import pandas as pd\n",
    "import plotly.express as px"
   ]
  },
  {
   "cell_type": "code",
   "execution_count": 2,
   "metadata": {},
   "outputs": [],
   "source": [
    "df=pd.read_csv('https://raw.githubusercontent.com/rfordatascience/tidytuesday/master/data/2021/2021-07-06/holidays.csv')"
   ]
  },
  {
   "cell_type": "code",
   "execution_count": 3,
   "metadata": {},
   "outputs": [
    {
     "data": {
      "text/html": [
       "<div>\n",
       "<style scoped>\n",
       "    .dataframe tbody tr th:only-of-type {\n",
       "        vertical-align: middle;\n",
       "    }\n",
       "\n",
       "    .dataframe tbody tr th {\n",
       "        vertical-align: top;\n",
       "    }\n",
       "\n",
       "    .dataframe thead th {\n",
       "        text-align: right;\n",
       "    }\n",
       "</style>\n",
       "<table border=\"1\" class=\"dataframe\">\n",
       "  <thead>\n",
       "    <tr style=\"text-align: right;\">\n",
       "      <th></th>\n",
       "      <th>country</th>\n",
       "      <th>date_parsed</th>\n",
       "      <th>weekday</th>\n",
       "      <th>day</th>\n",
       "      <th>month</th>\n",
       "      <th>name_of_holiday</th>\n",
       "      <th>date_of_holiday</th>\n",
       "      <th>year_of_event</th>\n",
       "      <th>independence_from</th>\n",
       "      <th>event_commemorated_and_notes</th>\n",
       "      <th>year</th>\n",
       "      <th>date_mdy</th>\n",
       "    </tr>\n",
       "  </thead>\n",
       "  <tbody>\n",
       "    <tr>\n",
       "      <th>0</th>\n",
       "      <td>Afghanistan</td>\n",
       "      <td>1919-08-19</td>\n",
       "      <td>Tuesday</td>\n",
       "      <td>19.0</td>\n",
       "      <td>Aug</td>\n",
       "      <td>Afghan Independence Day (Afghan Victory Day)</td>\n",
       "      <td>August 19</td>\n",
       "      <td>1919.0</td>\n",
       "      <td>United Kingdom</td>\n",
       "      <td>Anglo-Afghan Treaty of 1919 or Treaty of Rawal...</td>\n",
       "      <td>1919.0</td>\n",
       "      <td>August 19, 1919</td>\n",
       "    </tr>\n",
       "    <tr>\n",
       "      <th>1</th>\n",
       "      <td>Albania</td>\n",
       "      <td>1912-11-28</td>\n",
       "      <td>Thursday</td>\n",
       "      <td>28.0</td>\n",
       "      <td>Nov</td>\n",
       "      <td>Flag Day (Dita e Flamurit)</td>\n",
       "      <td>November 28</td>\n",
       "      <td>1912.0</td>\n",
       "      <td>Ottoman Empire</td>\n",
       "      <td>Albanian Declaration of Independence. The foll...</td>\n",
       "      <td>1912.0</td>\n",
       "      <td>November 28, 1912</td>\n",
       "    </tr>\n",
       "    <tr>\n",
       "      <th>2</th>\n",
       "      <td>Algeria</td>\n",
       "      <td>1962-07-05</td>\n",
       "      <td>Thursday</td>\n",
       "      <td>5.0</td>\n",
       "      <td>Jul</td>\n",
       "      <td>Independence Day</td>\n",
       "      <td>July 5</td>\n",
       "      <td>1962.0</td>\n",
       "      <td>France</td>\n",
       "      <td>Algeria gained independence following the Alge...</td>\n",
       "      <td>1962.0</td>\n",
       "      <td>July 5, 1962</td>\n",
       "    </tr>\n",
       "    <tr>\n",
       "      <th>3</th>\n",
       "      <td>Andorra</td>\n",
       "      <td>NaN</td>\n",
       "      <td>NaN</td>\n",
       "      <td>NaN</td>\n",
       "      <td>NaN</td>\n",
       "      <td>None</td>\n",
       "      <td>NaN</td>\n",
       "      <td>NaN</td>\n",
       "      <td>NaN</td>\n",
       "      <td>NaN</td>\n",
       "      <td>NaN</td>\n",
       "      <td>NaN</td>\n",
       "    </tr>\n",
       "    <tr>\n",
       "      <th>4</th>\n",
       "      <td>Angola</td>\n",
       "      <td>1975-11-11</td>\n",
       "      <td>Tuesday</td>\n",
       "      <td>11.0</td>\n",
       "      <td>Nov</td>\n",
       "      <td>Independence Day</td>\n",
       "      <td>November 11</td>\n",
       "      <td>1975.0</td>\n",
       "      <td>Portugal</td>\n",
       "      <td>The Alvor Agreement, signed on 15 January 1975...</td>\n",
       "      <td>1975.0</td>\n",
       "      <td>November 11, 1975</td>\n",
       "    </tr>\n",
       "  </tbody>\n",
       "</table>\n",
       "</div>"
      ],
      "text/plain": [
       "       country date_parsed   weekday   day month  \\\n",
       "0  Afghanistan  1919-08-19   Tuesday  19.0   Aug   \n",
       "1      Albania  1912-11-28  Thursday  28.0   Nov   \n",
       "2      Algeria  1962-07-05  Thursday   5.0   Jul   \n",
       "3      Andorra         NaN       NaN   NaN   NaN   \n",
       "4       Angola  1975-11-11   Tuesday  11.0   Nov   \n",
       "\n",
       "                                name_of_holiday date_of_holiday  \\\n",
       "0  Afghan Independence Day (Afghan Victory Day)       August 19   \n",
       "1                    Flag Day (Dita e Flamurit)     November 28   \n",
       "2                              Independence Day          July 5   \n",
       "3                                          None             NaN   \n",
       "4                              Independence Day     November 11   \n",
       "\n",
       "   year_of_event independence_from  \\\n",
       "0         1919.0    United Kingdom   \n",
       "1         1912.0    Ottoman Empire   \n",
       "2         1962.0            France   \n",
       "3            NaN               NaN   \n",
       "4         1975.0          Portugal   \n",
       "\n",
       "                        event_commemorated_and_notes    year  \\\n",
       "0  Anglo-Afghan Treaty of 1919 or Treaty of Rawal...  1919.0   \n",
       "1  Albanian Declaration of Independence. The foll...  1912.0   \n",
       "2  Algeria gained independence following the Alge...  1962.0   \n",
       "3                                                NaN     NaN   \n",
       "4  The Alvor Agreement, signed on 15 January 1975...  1975.0   \n",
       "\n",
       "            date_mdy  \n",
       "0    August 19, 1919  \n",
       "1  November 28, 1912  \n",
       "2       July 5, 1962  \n",
       "3                NaN  \n",
       "4  November 11, 1975  "
      ]
     },
     "execution_count": 3,
     "metadata": {},
     "output_type": "execute_result"
    }
   ],
   "source": [
    "df.head()"
   ]
  },
  {
   "cell_type": "code",
   "execution_count": 7,
   "metadata": {},
   "outputs": [
    {
     "data": {
      "text/plain": [
       "independence_from\n",
       "Allied occupying powers (France, United Kingdom, United States and Soviet Union)     1\n",
       "American Colonization Society                                                        1\n",
       "Australia of the former Territory of Papua and New Guinea                            1\n",
       "Australia, New Zealand and the United Kingdom                                        1\n",
       "Austria-Hungary                                                                      1\n",
       "Belgium                                                                              3\n",
       "Colombia                                                                             1\n",
       "Czechoslovakia                                                                       1\n",
       "Denmark                                                                              2\n",
       "Egypt and the United Kingdom                                                         1\n",
       "Empire of Japan                                                                      3\n",
       "Empire of Japan and France                                                           1\n",
       "Ethiopia                                                                             1\n",
       "France                                                                              26\n",
       "France and Spain                                                                     2\n",
       "Israel                                                                               1\n",
       "Italy                                                                                1\n",
       "Italy and United Kingdom                                                             1\n",
       "Kingdom of Great Britain                                                             1\n",
       "Malaysia                                                                             1\n",
       "Nazi Germany                                                                         1\n",
       "Netherlands                                                                          1\n",
       "Netherlands and Japan                                                                1\n",
       "New Zealand                                                                          1\n",
       "Ottoman Empire                                                                       7\n",
       "Pakistan                                                                             1\n",
       "Portugal                                                                             7\n",
       "Qing China[65][66]                                                                   1\n",
       "Russian Soviet Federative Socialist Republic                                         6\n",
       "Russian Soviet Federative Socialist Republic and German Empire                       3\n",
       "SFR Yugoslavia                                                                       3\n",
       "Serbia and Montenegro                                                                1\n",
       "Socialist Federal Republic of Yugoslavia                                             1\n",
       "South Africa                                                                         1\n",
       "Soviet Union                                                                        11\n",
       "Soviet Union[55]                                                                     1\n",
       "Soviet Union[80]                                                                     1\n",
       "Spain                                                                                4\n",
       "Spanish Empire                                                                      17\n",
       "Spanish Empire[72]                                                                   1\n",
       "Sudan                                                                                1\n",
       "Sweden                                                                               1\n",
       "United Kingdom                                                                      51\n",
       "United Kingdom and France                                                            1\n",
       "United Kingdom and the British Mandate for Palestine                                 1\n",
       "United Kingdom of Great Britain and Ireland                                          1\n",
       "United Kingdom of Portugal, Brazil and the Algarves                                  1\n",
       "United Netherlands                                                                   1\n",
       "United Provinces of the Rio de la Plata                                              1\n",
       "United States                                                                        1\n",
       "Name: independence_from, dtype: int64"
      ]
     },
     "execution_count": 7,
     "metadata": {},
     "output_type": "execute_result"
    }
   ],
   "source": [
    "df.groupby('independence_from')['independence_from'].count()"
   ]
  },
  {
   "cell_type": "code",
   "execution_count": 10,
   "metadata": {},
   "outputs": [
    {
     "data": {
      "text/plain": [
       "Index(['country', 'date_parsed', 'weekday', 'day', 'month', 'name_of_holiday',\n",
       "       'date_of_holiday', 'year_of_event', 'independence_from',\n",
       "       'event_commemorated_and_notes', 'year', 'date_mdy'],\n",
       "      dtype='object')"
      ]
     },
     "execution_count": 10,
     "metadata": {},
     "output_type": "execute_result"
    }
   ],
   "source": [
    "df.columns"
   ]
  },
  {
   "cell_type": "code",
   "execution_count": 11,
   "metadata": {},
   "outputs": [],
   "source": [
    "a=df[['country', 'independence_from', 'year']]"
   ]
  },
  {
   "cell_type": "code",
   "execution_count": 14,
   "metadata": {},
   "outputs": [
    {
     "name": "stderr",
     "output_type": "stream",
     "text": [
      "d:\\Users\\DComputer\\Desktop\\learning\\Streamlined EDA and ML\\project_env\\lib\\site-packages\\pandas\\core\\frame.py:4153: SettingWithCopyWarning:\n",
      "\n",
      "\n",
      "A value is trying to be set on a copy of a slice from a DataFrame\n",
      "\n",
      "See the caveats in the documentation: https://pandas.pydata.org/pandas-docs/stable/user_guide/indexing.html#returning-a-view-versus-a-copy\n",
      "\n"
     ]
    }
   ],
   "source": [
    "a.fillna(0,inplace=True)"
   ]
  },
  {
   "cell_type": "code",
   "execution_count": 19,
   "metadata": {},
   "outputs": [
    {
     "data": {
      "text/plain": [
       "(216, 12)"
      ]
     },
     "execution_count": 19,
     "metadata": {},
     "output_type": "execute_result"
    }
   ],
   "source": [
    "df.shape"
   ]
  },
  {
   "cell_type": "code",
   "execution_count": 30,
   "metadata": {},
   "outputs": [
    {
     "data": {
      "text/plain": [
       "(27, 12)"
      ]
     },
     "execution_count": 30,
     "metadata": {},
     "output_type": "execute_result"
    }
   ],
   "source": [
    "df[df['year'].isna()].shape"
   ]
  },
  {
   "cell_type": "code",
   "execution_count": 16,
   "metadata": {},
   "outputs": [
    {
     "data": {
      "text/html": [
       "<div>\n",
       "<style scoped>\n",
       "    .dataframe tbody tr th:only-of-type {\n",
       "        vertical-align: middle;\n",
       "    }\n",
       "\n",
       "    .dataframe tbody tr th {\n",
       "        vertical-align: top;\n",
       "    }\n",
       "\n",
       "    .dataframe thead th {\n",
       "        text-align: right;\n",
       "    }\n",
       "</style>\n",
       "<table border=\"1\" class=\"dataframe\">\n",
       "  <thead>\n",
       "    <tr style=\"text-align: right;\">\n",
       "      <th></th>\n",
       "      <th>country</th>\n",
       "      <th>independence_from</th>\n",
       "      <th>year</th>\n",
       "    </tr>\n",
       "  </thead>\n",
       "  <tbody>\n",
       "    <tr>\n",
       "      <th>0</th>\n",
       "      <td>Afghanistan</td>\n",
       "      <td>United Kingdom</td>\n",
       "      <td>1919.0</td>\n",
       "    </tr>\n",
       "    <tr>\n",
       "      <th>1</th>\n",
       "      <td>Albania</td>\n",
       "      <td>Ottoman Empire</td>\n",
       "      <td>1912.0</td>\n",
       "    </tr>\n",
       "    <tr>\n",
       "      <th>2</th>\n",
       "      <td>Algeria</td>\n",
       "      <td>France</td>\n",
       "      <td>1962.0</td>\n",
       "    </tr>\n",
       "    <tr>\n",
       "      <th>3</th>\n",
       "      <td>Andorra</td>\n",
       "      <td>0</td>\n",
       "      <td>0.0</td>\n",
       "    </tr>\n",
       "    <tr>\n",
       "      <th>4</th>\n",
       "      <td>Angola</td>\n",
       "      <td>Portugal</td>\n",
       "      <td>1975.0</td>\n",
       "    </tr>\n",
       "  </tbody>\n",
       "</table>\n",
       "</div>"
      ],
      "text/plain": [
       "       country independence_from    year\n",
       "0  Afghanistan    United Kingdom  1919.0\n",
       "1      Albania    Ottoman Empire  1912.0\n",
       "2      Algeria            France  1962.0\n",
       "3      Andorra                 0     0.0\n",
       "4       Angola          Portugal  1975.0"
      ]
     },
     "execution_count": 16,
     "metadata": {},
     "output_type": "execute_result"
    }
   ],
   "source": [
    "a.head()"
   ]
  },
  {
   "cell_type": "code",
   "execution_count": 31,
   "metadata": {},
   "outputs": [
    {
     "data": {
      "application/vnd.plotly.v1+json": {
       "config": {
        "plotlyServerURL": "https://plot.ly"
       },
       "data": [
        {
         "colorscale": [
          [
           0,
           "#636efa"
          ],
          [
           1,
           "#636efa"
          ]
         ],
         "geo": "geo",
         "hovertemplate": "independence_from=United Kingdom<br>year=1919.0<br>country=%{location}<extra></extra>",
         "locations": [
          "Afghanistan"
         ],
         "name": "United Kingdom",
         "showlegend": true,
         "showscale": false,
         "type": "choropleth",
         "z": [
          1
         ]
        },
        {
         "colorscale": [
          [
           0,
           "#FF6692"
          ],
          [
           1,
           "#FF6692"
          ]
         ],
         "geo": "geo",
         "hovertemplate": "independence_from=Russian Soviet Federative Socialist Republic<br>year=1919.0<br>country=%{location}<extra></extra>",
         "locations": [
          "Ukraine"
         ],
         "name": "Russian Soviet Federative Socialist Republic",
         "showlegend": true,
         "showscale": false,
         "type": "choropleth",
         "z": [
          1
         ]
        },
        {
         "colorscale": [
          [
           0,
           "#19d3f3"
          ],
          [
           1,
           "#19d3f3"
          ]
         ],
         "geo": "geo",
         "hovertemplate": "independence_from=Empire of Japan<br>year=1919.0<br>country=%{location}<extra></extra>",
         "locations": [
          "South Korea"
         ],
         "name": "Empire of Japan",
         "showlegend": true,
         "showscale": false,
         "type": "choropleth",
         "z": [
          1
         ]
        }
       ],
       "frames": [
        {
         "data": [
          {
           "colorscale": [
            [
             0,
             "#636efa"
            ],
            [
             1,
             "#636efa"
            ]
           ],
           "geo": "geo",
           "hovertemplate": "independence_from=United Kingdom<br>year=1919.0<br>country=%{location}<extra></extra>",
           "locations": [
            "Afghanistan"
           ],
           "name": "United Kingdom",
           "showlegend": true,
           "showscale": false,
           "type": "choropleth",
           "z": [
            1
           ]
          },
          {
           "colorscale": [
            [
             0,
             "#FF6692"
            ],
            [
             1,
             "#FF6692"
            ]
           ],
           "geo": "geo",
           "hovertemplate": "independence_from=Russian Soviet Federative Socialist Republic<br>year=1919.0<br>country=%{location}<extra></extra>",
           "locations": [
            "Ukraine"
           ],
           "name": "Russian Soviet Federative Socialist Republic",
           "showlegend": true,
           "showscale": false,
           "type": "choropleth",
           "z": [
            1
           ]
          },
          {
           "colorscale": [
            [
             0,
             "#19d3f3"
            ],
            [
             1,
             "#19d3f3"
            ]
           ],
           "geo": "geo",
           "hovertemplate": "independence_from=Empire of Japan<br>year=1919.0<br>country=%{location}<extra></extra>",
           "locations": [
            "South Korea"
           ],
           "name": "Empire of Japan",
           "showlegend": true,
           "showscale": false,
           "type": "choropleth",
           "z": [
            1
           ]
          }
         ],
         "name": "1919.0"
        },
        {
         "data": [
          {
           "colorscale": [
            [
             0,
             "#EF553B"
            ],
            [
             1,
             "#EF553B"
            ]
           ],
           "geo": "geo",
           "hovertemplate": "independence_from=Ottoman Empire<br>year=1912.0<br>country=%{location}<extra></extra>",
           "locations": [
            "Albania"
           ],
           "name": "Ottoman Empire",
           "showlegend": true,
           "showscale": false,
           "type": "choropleth",
           "z": [
            1
           ]
          }
         ],
         "name": "1912.0"
        },
        {
         "data": [
          {
           "colorscale": [
            [
             0,
             "#636efa"
            ],
            [
             1,
             "#636efa"
            ]
           ],
           "geo": "geo",
           "hovertemplate": "independence_from=United Kingdom<br>year=1962.0<br>country=%{location}<extra></extra>",
           "locations": [
            "Jamaica",
            "Trinidad and Tobago",
            "Uganda"
           ],
           "name": "United Kingdom",
           "showlegend": true,
           "showscale": false,
           "type": "choropleth",
           "z": [
            1,
            1,
            1
           ]
          },
          {
           "colorscale": [
            [
             0,
             "#00cc96"
            ],
            [
             1,
             "#00cc96"
            ]
           ],
           "geo": "geo",
           "hovertemplate": "independence_from=France<br>year=1962.0<br>country=%{location}<extra></extra>",
           "locations": [
            "Algeria"
           ],
           "name": "France",
           "showlegend": true,
           "showscale": false,
           "type": "choropleth",
           "z": [
            1
           ]
          },
          {
           "colorscale": [
            [
             0,
             "#19d3f3"
            ],
            [
             1,
             "#19d3f3"
            ]
           ],
           "geo": "geo",
           "hovertemplate": "independence_from=Belgium<br>year=1962.0<br>country=%{location}<extra></extra>",
           "locations": [
            "Burundi",
            "Rwanda"
           ],
           "name": "Belgium",
           "showlegend": true,
           "showscale": false,
           "type": "choropleth",
           "z": [
            1,
            1
           ]
          },
          {
           "colorscale": [
            [
             0,
             "#636efa"
            ],
            [
             1,
             "#636efa"
            ]
           ],
           "geo": "geo",
           "hovertemplate": "independence_from=New Zealand<br>year=1962.0<br>country=%{location}<extra></extra>",
           "locations": [
            "Samoa"
           ],
           "name": "New Zealand",
           "showlegend": true,
           "showscale": false,
           "type": "choropleth",
           "z": [
            1
           ]
          }
         ],
         "name": "1962.0"
        },
        {
         "data": [
          {
           "colorscale": [
            [
             0,
             "#ab63fa"
            ],
            [
             1,
             "#ab63fa"
            ]
           ],
           "geo": "geo",
           "hovertemplate": "independence_from=0<br>year=0.0<br>country=%{location}<extra></extra>",
           "locations": [
            "Andorra",
            "Australia",
            "Bhutan",
            "Cameroon",
            "Canada",
            "China, People's Republic of",
            "China, Republic of",
            "Denmark",
            "Egypt",
            "Ethiopia",
            "Germany",
            "Italy",
            "Japan",
            "Laos",
            "Liechtenstein",
            "Luxembourg",
            "Marshall Islands",
            "Monaco",
            "Nepal",
            "New Zealand",
            "Palau",
            "Russia",
            "San Marino",
            "Spain",
            "Thailand",
            "Turkey",
            "Vatican City"
           ],
           "name": "0",
           "showlegend": true,
           "showscale": false,
           "type": "choropleth",
           "z": [
            1,
            1,
            1,
            1,
            1,
            1,
            1,
            1,
            1,
            1,
            1,
            1,
            1,
            1,
            1,
            1,
            1,
            1,
            1,
            1,
            1,
            1,
            1,
            1,
            1,
            1,
            1
           ]
          }
         ],
         "name": "0.0"
        },
        {
         "data": [
          {
           "colorscale": [
            [
             0,
             "#00cc96"
            ],
            [
             1,
             "#00cc96"
            ]
           ],
           "geo": "geo",
           "hovertemplate": "independence_from=France<br>year=1975.0<br>country=%{location}<extra></extra>",
           "locations": [
            "Comoros"
           ],
           "name": "France",
           "showlegend": true,
           "showscale": false,
           "type": "choropleth",
           "z": [
            1
           ]
          },
          {
           "colorscale": [
            [
             0,
             "#FFA15A"
            ],
            [
             1,
             "#FFA15A"
            ]
           ],
           "geo": "geo",
           "hovertemplate": "independence_from=Portugal<br>year=1975.0<br>country=%{location}<extra></extra>",
           "locations": [
            "Angola",
            "Cape Verde",
            "Mozambique",
            "São Tomé and Príncipe"
           ],
           "name": "Portugal",
           "showlegend": true,
           "showscale": false,
           "type": "choropleth",
           "z": [
            1,
            1,
            1,
            1
           ]
          },
          {
           "colorscale": [
            [
             0,
             "#FF97FF"
            ],
            [
             1,
             "#FF97FF"
            ]
           ],
           "geo": "geo",
           "hovertemplate": "independence_from=Australia of the former Territory of Papua and New Guinea<br>year=1975.0<br>country=%{location}<extra></extra>",
           "locations": [
            "Papua New Guinea"
           ],
           "name": "Australia of the former Territory of Papua and New Guinea",
           "showlegend": true,
           "showscale": false,
           "type": "choropleth",
           "z": [
            1
           ]
          },
          {
           "colorscale": [
            [
             0,
             "#19d3f3"
            ],
            [
             1,
             "#19d3f3"
            ]
           ],
           "geo": "geo",
           "hovertemplate": "independence_from=Netherlands<br>year=1975.0<br>country=%{location}<extra></extra>",
           "locations": [
            "Suriname"
           ],
           "name": "Netherlands",
           "showlegend": true,
           "showscale": false,
           "type": "choropleth",
           "z": [
            1
           ]
          }
         ],
         "name": "1975.0"
        },
        {
         "data": [
          {
           "colorscale": [
            [
             0,
             "#636efa"
            ],
            [
             1,
             "#636efa"
            ]
           ],
           "geo": "geo",
           "hovertemplate": "independence_from=United Kingdom<br>year=1981.0<br>country=%{location}<extra></extra>",
           "locations": [
            "Antigua and Barbuda",
            "Belize"
           ],
           "name": "United Kingdom",
           "showlegend": true,
           "showscale": false,
           "type": "choropleth",
           "z": [
            1,
            1
           ]
          }
         ],
         "name": "1981.0"
        },
        {
         "data": [
          {
           "colorscale": [
            [
             0,
             "#19d3f3"
            ],
            [
             1,
             "#19d3f3"
            ]
           ],
           "geo": "geo",
           "hovertemplate": "independence_from=Spanish Empire<br>year=1816.0<br>country=%{location}<extra></extra>",
           "locations": [
            "Argentina"
           ],
           "name": "Spanish Empire",
           "showlegend": true,
           "showscale": false,
           "type": "choropleth",
           "z": [
            1
           ]
          }
         ],
         "name": "1816.0"
        },
        {
         "data": [
          {
           "colorscale": [
            [
             0,
             "#FF6692"
            ],
            [
             1,
             "#FF6692"
            ]
           ],
           "geo": "geo",
           "hovertemplate": "independence_from=Russian Soviet Federative Socialist Republic<br>year=1918.0<br>country=%{location}<extra></extra>",
           "locations": [
            "Armenia",
            "Azerbaijan",
            "Estonia",
            "Georgia"
           ],
           "name": "Russian Soviet Federative Socialist Republic",
           "showlegend": true,
           "showscale": false,
           "type": "choropleth",
           "z": [
            1,
            1,
            1,
            1
           ]
          },
          {
           "colorscale": [
            [
             0,
             "#B6E880"
            ],
            [
             1,
             "#B6E880"
            ]
           ],
           "geo": "geo",
           "hovertemplate": "independence_from=Austria-Hungary<br>year=1918.0<br>country=%{location}<extra></extra>",
           "locations": [
            "Czech Republic"
           ],
           "name": "Austria-Hungary",
           "showlegend": true,
           "showscale": false,
           "type": "choropleth",
           "z": [
            1
           ]
          },
          {
           "colorscale": [
            [
             0,
             "#FF6692"
            ],
            [
             1,
             "#FF6692"
            ]
           ],
           "geo": "geo",
           "hovertemplate": "independence_from=Russian Soviet Federative Socialist Republic and German Empire<br>year=1918.0<br>country=%{location}<extra></extra>",
           "locations": [
            "Latvia",
            "Lithuania",
            "Poland"
           ],
           "name": "Russian Soviet Federative Socialist Republic and German Empire",
           "showlegend": true,
           "showscale": false,
           "type": "choropleth",
           "z": [
            1,
            1,
            1
           ]
          }
         ],
         "name": "1918.0"
        },
        {
         "data": [
          {
           "colorscale": [
            [
             0,
             "#ab63fa"
            ],
            [
             1,
             "#ab63fa"
            ]
           ],
           "geo": "geo",
           "hovertemplate": "independence_from=0<br>year=1991.0<br>country=%{location}<extra></extra>",
           "locations": [
            "Hungary"
           ],
           "name": "0",
           "showlegend": true,
           "showscale": false,
           "type": "choropleth",
           "z": [
            1
           ]
          },
          {
           "colorscale": [
            [
             0,
             "#B6E880"
            ],
            [
             1,
             "#B6E880"
            ]
           ],
           "geo": "geo",
           "hovertemplate": "independence_from=Soviet Union<br>year=1991.0<br>country=%{location}<extra></extra>",
           "locations": [
            "Armenia",
            "Azerbaijan",
            "Georgia",
            "Kazakhstan",
            "Kyrgyzstan",
            "Moldova",
            "Tajikistan",
            "Ukraine",
            "Uzbekistan"
           ],
           "name": "Soviet Union",
           "showlegend": true,
           "showscale": false,
           "type": "choropleth",
           "z": [
            1,
            1,
            1,
            1,
            1,
            1,
            1,
            1,
            1
           ]
          },
          {
           "colorscale": [
            [
             0,
             "#FF6692"
            ],
            [
             1,
             "#FF6692"
            ]
           ],
           "geo": "geo",
           "hovertemplate": "independence_from=SFR Yugoslavia<br>year=1991.0<br>country=%{location}<extra></extra>",
           "locations": [
            "North Macedonia",
            "Slovenia"
           ],
           "name": "SFR Yugoslavia",
           "showlegend": true,
           "showscale": false,
           "type": "choropleth",
           "z": [
            1,
            1
           ]
          },
          {
           "colorscale": [
            [
             0,
             "#FECB52"
            ],
            [
             1,
             "#FECB52"
            ]
           ],
           "geo": "geo",
           "hovertemplate": "independence_from=Ethiopia<br>year=1991.0<br>country=%{location}<extra></extra>",
           "locations": [
            "Eritrea"
           ],
           "name": "Ethiopia",
           "showlegend": true,
           "showscale": false,
           "type": "choropleth",
           "z": [
            1
           ]
          },
          {
           "colorscale": [
            [
             0,
             "#636efa"
            ],
            [
             1,
             "#636efa"
            ]
           ],
           "geo": "geo",
           "hovertemplate": "independence_from=Soviet Union[55]<br>year=1991.0<br>country=%{location}<extra></extra>",
           "locations": [
            "Estonia"
           ],
           "name": "Soviet Union[55]",
           "showlegend": true,
           "showscale": false,
           "type": "choropleth",
           "z": [
            1
           ]
          },
          {
           "colorscale": [
            [
             0,
             "#FF6692"
            ],
            [
             1,
             "#FF6692"
            ]
           ],
           "geo": "geo",
           "hovertemplate": "independence_from=Soviet Union[80]<br>year=1991.0<br>country=%{location}<extra></extra>",
           "locations": [
            "Turkmenistan"
           ],
           "name": "Soviet Union[80]",
           "showlegend": true,
           "showscale": false,
           "type": "choropleth",
           "z": [
            1
           ]
          }
         ],
         "name": "1991.0"
        },
        {
         "data": [
          {
           "colorscale": [
            [
             0,
             "#636efa"
            ],
            [
             1,
             "#636efa"
            ]
           ],
           "geo": "geo",
           "hovertemplate": "independence_from=United Kingdom<br>year=1955.0<br>country=%{location}<extra></extra>",
           "locations": [
            "Cyprus"
           ],
           "name": "United Kingdom",
           "showlegend": true,
           "showscale": false,
           "type": "choropleth",
           "z": [
            1
           ]
          },
          {
           "colorscale": [
            [
             0,
             "#FF97FF"
            ],
            [
             1,
             "#FF97FF"
            ]
           ],
           "geo": "geo",
           "hovertemplate": "independence_from=Allied occupying powers (France, United Kingdom, United States and Soviet Union)<br>year=1955.0<br>country=%{location}<extra></extra>",
           "locations": [
            "Austria"
           ],
           "name": "Allied occupying powers (France, United Kingdom, United States and Soviet Union)",
           "showlegend": true,
           "showscale": false,
           "type": "choropleth",
           "z": [
            1
           ]
          },
          {
           "colorscale": [
            [
             0,
             "#00cc96"
            ],
            [
             1,
             "#00cc96"
            ]
           ],
           "geo": "geo",
           "hovertemplate": "independence_from=France and Spain<br>year=1955.0<br>country=%{location}<extra></extra>",
           "locations": [
            "Morocco"
           ],
           "name": "France and Spain",
           "showlegend": true,
           "showscale": false,
           "type": "choropleth",
           "z": [
            1
           ]
          }
         ],
         "name": "1955.0"
        },
        {
         "data": [
          {
           "colorscale": [
            [
             0,
             "#636efa"
            ],
            [
             1,
             "#636efa"
            ]
           ],
           "geo": "geo",
           "hovertemplate": "independence_from=United Kingdom<br>year=1973.0<br>country=%{location}<extra></extra>",
           "locations": [
            "Bahamas, The"
           ],
           "name": "United Kingdom",
           "showlegend": true,
           "showscale": false,
           "type": "choropleth",
           "z": [
            1
           ]
          },
          {
           "colorscale": [
            [
             0,
             "#FFA15A"
            ],
            [
             1,
             "#FFA15A"
            ]
           ],
           "geo": "geo",
           "hovertemplate": "independence_from=Portugal<br>year=1973.0<br>country=%{location}<extra></extra>",
           "locations": [
            "Guinea-Bissau"
           ],
           "name": "Portugal",
           "showlegend": true,
           "showscale": false,
           "type": "choropleth",
           "z": [
            1
           ]
          }
         ],
         "name": "1973.0"
        },
        {
         "data": [
          {
           "colorscale": [
            [
             0,
             "#636efa"
            ],
            [
             1,
             "#636efa"
            ]
           ],
           "geo": "geo",
           "hovertemplate": "independence_from=United Kingdom<br>year=1971.0<br>country=%{location}<extra></extra>",
           "locations": [
            "Bahrain",
            "Qatar",
            "United Arab Emirates"
           ],
           "name": "United Kingdom",
           "showlegend": true,
           "showscale": false,
           "type": "choropleth",
           "z": [
            1,
            1,
            1
           ]
          },
          {
           "colorscale": [
            [
             0,
             "#FECB52"
            ],
            [
             1,
             "#FECB52"
            ]
           ],
           "geo": "geo",
           "hovertemplate": "independence_from=Pakistan<br>year=1971.0<br>country=%{location}<extra></extra>",
           "locations": [
            "Bangladesh"
           ],
           "name": "Pakistan",
           "showlegend": true,
           "showscale": false,
           "type": "choropleth",
           "z": [
            1
           ]
          }
         ],
         "name": "1971.0"
        },
        {
         "data": [
          {
           "colorscale": [
            [
             0,
             "#636efa"
            ],
            [
             1,
             "#636efa"
            ]
           ],
           "geo": "geo",
           "hovertemplate": "independence_from=United Kingdom<br>year=1966.0<br>country=%{location}<extra></extra>",
           "locations": [
            "Barbados",
            "Botswana",
            "Guyana",
            "Lesotho"
           ],
           "name": "United Kingdom",
           "showlegend": true,
           "showscale": false,
           "type": "choropleth",
           "z": [
            1,
            1,
            1,
            1
           ]
          }
         ],
         "name": "1966.0"
        },
        {
         "data": [
          {
           "colorscale": [
            [
             0,
             "#636efa"
            ],
            [
             1,
             "#636efa"
            ]
           ],
           "geo": "geo",
           "hovertemplate": "independence_from=Nazi Germany<br>year=1944.0<br>country=%{location}<extra></extra>",
           "locations": [
            "Belarus"
           ],
           "name": "Nazi Germany",
           "showlegend": true,
           "showscale": false,
           "type": "choropleth",
           "z": [
            1
           ]
          },
          {
           "colorscale": [
            [
             0,
             "#EF553B"
            ],
            [
             1,
             "#EF553B"
            ]
           ],
           "geo": "geo",
           "hovertemplate": "independence_from=Denmark<br>year=1944.0<br>country=%{location}<extra></extra>",
           "locations": [
            "Iceland"
           ],
           "name": "Denmark",
           "showlegend": true,
           "showscale": false,
           "type": "choropleth",
           "z": [
            1
           ]
          },
          {
           "colorscale": [
            [
             0,
             "#00cc96"
            ],
            [
             1,
             "#00cc96"
            ]
           ],
           "geo": "geo",
           "hovertemplate": "independence_from=France and Spain<br>year=1944.0<br>country=%{location}<extra></extra>",
           "locations": [
            "Morocco"
           ],
           "name": "France and Spain",
           "showlegend": true,
           "showscale": false,
           "type": "choropleth",
           "z": [
            1
           ]
          }
         ],
         "name": "1944.0"
        },
        {
         "data": [
          {
           "colorscale": [
            [
             0,
             "#EF553B"
            ],
            [
             1,
             "#EF553B"
            ]
           ],
           "geo": "geo",
           "hovertemplate": "independence_from=United Netherlands<br>year=1831.0<br>country=%{location}<extra></extra>",
           "locations": [
            "Belgium"
           ],
           "name": "United Netherlands",
           "showlegend": true,
           "showscale": false,
           "type": "choropleth",
           "z": [
            1
           ]
          }
         ],
         "name": "1831.0"
        },
        {
         "data": [
          {
           "colorscale": [
            [
             0,
             "#636efa"
            ],
            [
             1,
             "#636efa"
            ]
           ],
           "geo": "geo",
           "hovertemplate": "independence_from=United Kingdom<br>year=1960.0<br>country=%{location}<extra></extra>",
           "locations": [
            "Cyprus",
            "Nigeria"
           ],
           "name": "United Kingdom",
           "showlegend": true,
           "showscale": false,
           "type": "choropleth",
           "z": [
            1,
            1
           ]
          },
          {
           "colorscale": [
            [
             0,
             "#00cc96"
            ],
            [
             1,
             "#00cc96"
            ]
           ],
           "geo": "geo",
           "hovertemplate": "independence_from=France<br>year=1960.0<br>country=%{location}<extra></extra>",
           "locations": [
            "Benin",
            "Burkina Faso",
            "Central African Republic",
            "Chad",
            "Congo, Republic of the",
            "Gabon",
            "Ivory Coast",
            "Madagascar",
            "Mali",
            "Mauritania",
            "Niger",
            "Senegal",
            "Togo"
           ],
           "name": "France",
           "showlegend": true,
           "showscale": false,
           "type": "choropleth",
           "z": [
            1,
            1,
            1,
            1,
            1,
            1,
            1,
            1,
            1,
            1,
            1,
            1,
            1
           ]
          },
          {
           "colorscale": [
            [
             0,
             "#19d3f3"
            ],
            [
             1,
             "#19d3f3"
            ]
           ],
           "geo": "geo",
           "hovertemplate": "independence_from=Belgium<br>year=1960.0<br>country=%{location}<extra></extra>",
           "locations": [
            "Congo, Democratic Republic of the"
           ],
           "name": "Belgium",
           "showlegend": true,
           "showscale": false,
           "type": "choropleth",
           "z": [
            1
           ]
          },
          {
           "colorscale": [
            [
             0,
             "#00cc96"
            ],
            [
             1,
             "#00cc96"
            ]
           ],
           "geo": "geo",
           "hovertemplate": "independence_from=Italy and United Kingdom<br>year=1960.0<br>country=%{location}<extra></extra>",
           "locations": [
            "Somalia"
           ],
           "name": "Italy and United Kingdom",
           "showlegend": true,
           "showscale": false,
           "type": "choropleth",
           "z": [
            1
           ]
          }
         ],
         "name": "1960.0"
        },
        {
         "data": [
          {
           "colorscale": [
            [
             0,
             "#00cc96"
            ],
            [
             1,
             "#00cc96"
            ]
           ],
           "geo": "geo",
           "hovertemplate": "independence_from=Spain<br>year=1825.0<br>country=%{location}<extra></extra>",
           "locations": [
            "Bolivia"
           ],
           "name": "Spain",
           "showlegend": true,
           "showscale": false,
           "type": "choropleth",
           "z": [
            1
           ]
          },
          {
           "colorscale": [
            [
             0,
             "#FF97FF"
            ],
            [
             1,
             "#FF97FF"
            ]
           ],
           "geo": "geo",
           "hovertemplate": "independence_from=United Provinces of the Rio de la Plata<br>year=1825.0<br>country=%{location}<extra></extra>",
           "locations": [
            "Uruguay"
           ],
           "name": "United Provinces of the Rio de la Plata",
           "showlegend": true,
           "showscale": false,
           "type": "choropleth",
           "z": [
            1
           ]
          }
         ],
         "name": "1825.0"
        },
        {
         "data": [
          {
           "colorscale": [
            [
             0,
             "#ab63fa"
            ],
            [
             1,
             "#ab63fa"
            ]
           ],
           "geo": "geo",
           "hovertemplate": "independence_from=0<br>year=1992.0<br>country=%{location}<extra></extra>",
           "locations": [
            "Slovakia"
           ],
           "name": "0",
           "showlegend": true,
           "showscale": false,
           "type": "choropleth",
           "z": [
            1
           ]
          },
          {
           "colorscale": [
            [
             0,
             "#ab63fa"
            ],
            [
             1,
             "#ab63fa"
            ]
           ],
           "geo": "geo",
           "hovertemplate": "independence_from=Socialist Federal Republic of Yugoslavia<br>year=1992.0<br>country=%{location}<extra></extra>",
           "locations": [
            "Bosnia and Herzegovina"
           ],
           "name": "Socialist Federal Republic of Yugoslavia",
           "showlegend": true,
           "showscale": false,
           "type": "choropleth",
           "z": [
            1
           ]
          }
         ],
         "name": "1992.0"
        },
        {
         "data": [
          {
           "colorscale": [
            [
             0,
             "#19d3f3"
            ],
            [
             1,
             "#19d3f3"
            ]
           ],
           "geo": "geo",
           "hovertemplate": "independence_from=Spanish Empire<br>year=1822.0<br>country=%{location}<extra></extra>",
           "locations": [
            "Ecuador"
           ],
           "name": "Spanish Empire",
           "showlegend": true,
           "showscale": false,
           "type": "choropleth",
           "z": [
            1
           ]
          },
          {
           "colorscale": [
            [
             0,
             "#FFA15A"
            ],
            [
             1,
             "#FFA15A"
            ]
           ],
           "geo": "geo",
           "hovertemplate": "independence_from=United Kingdom of Portugal, Brazil and the Algarves<br>year=1822.0<br>country=%{location}<extra></extra>",
           "locations": [
            "Brazil"
           ],
           "name": "United Kingdom of Portugal, Brazil and the Algarves",
           "showlegend": true,
           "showscale": false,
           "type": "choropleth",
           "z": [
            1
           ]
          }
         ],
         "name": "1822.0"
        },
        {
         "data": [
          {
           "colorscale": [
            [
             0,
             "#636efa"
            ],
            [
             1,
             "#636efa"
            ]
           ],
           "geo": "geo",
           "hovertemplate": "independence_from=United Kingdom<br>year=1984.0<br>country=%{location}<extra></extra>",
           "locations": [
            "Brunei"
           ],
           "name": "United Kingdom",
           "showlegend": true,
           "showscale": false,
           "type": "choropleth",
           "z": [
            1
           ]
          }
         ],
         "name": "1984.0"
        },
        {
         "data": [
          {
           "colorscale": [
            [
             0,
             "#EF553B"
            ],
            [
             1,
             "#EF553B"
            ]
           ],
           "geo": "geo",
           "hovertemplate": "independence_from=Ottoman Empire<br>year=1878.0<br>country=%{location}<extra></extra>",
           "locations": [
            "Bulgaria",
            "Qatar"
           ],
           "name": "Ottoman Empire",
           "showlegend": true,
           "showscale": false,
           "type": "choropleth",
           "z": [
            1,
            1
           ]
          }
         ],
         "name": "1878.0"
        },
        {
         "data": [
          {
           "colorscale": [
            [
             0,
             "#EF553B"
            ],
            [
             1,
             "#EF553B"
            ]
           ],
           "geo": "geo",
           "hovertemplate": "independence_from=Ottoman Empire<br>year=1908.0<br>country=%{location}<extra></extra>",
           "locations": [
            "Bulgaria"
           ],
           "name": "Ottoman Empire",
           "showlegend": true,
           "showscale": false,
           "type": "choropleth",
           "z": [
            1
           ]
          }
         ],
         "name": "1908.0"
        },
        {
         "data": [
          {
           "colorscale": [
            [
             0,
             "#00cc96"
            ],
            [
             1,
             "#00cc96"
            ]
           ],
           "geo": "geo",
           "hovertemplate": "independence_from=France<br>year=1958.0<br>country=%{location}<extra></extra>",
           "locations": [
            "Burkina Faso",
            "Central African Republic",
            "Chad",
            "Congo, Republic of the",
            "Guinea"
           ],
           "name": "France",
           "showlegend": true,
           "showscale": false,
           "type": "choropleth",
           "z": [
            1,
            1,
            1,
            1,
            1
           ]
          }
         ],
         "name": "1958.0"
        },
        {
         "data": [
          {
           "colorscale": [
            [
             0,
             "#00cc96"
            ],
            [
             1,
             "#00cc96"
            ]
           ],
           "geo": "geo",
           "hovertemplate": "independence_from=France<br>year=1953.0<br>country=%{location}<extra></extra>",
           "locations": [
            "Cambodia"
           ],
           "name": "France",
           "showlegend": true,
           "showscale": false,
           "type": "choropleth",
           "z": [
            1
           ]
          }
         ],
         "name": "1953.0"
        },
        {
         "data": [
          {
           "colorscale": [
            [
             0,
             "#19d3f3"
            ],
            [
             1,
             "#19d3f3"
            ]
           ],
           "geo": "geo",
           "hovertemplate": "independence_from=Spanish Empire<br>year=1810.0<br>country=%{location}<extra></extra>",
           "locations": [
            "Chile",
            "Colombia",
            "Mexico"
           ],
           "name": "Spanish Empire",
           "showlegend": true,
           "showscale": false,
           "type": "choropleth",
           "z": [
            1,
            1,
            1
           ]
          }
         ],
         "name": "1810.0"
        },
        {
         "data": [
          {
           "colorscale": [
            [
             0,
             "#EF553B"
            ],
            [
             1,
             "#EF553B"
            ]
           ],
           "geo": "geo",
           "hovertemplate": "independence_from=Ottoman Empire<br>year=1821.0<br>country=%{location}<extra></extra>",
           "locations": [
            "Greece"
           ],
           "name": "Ottoman Empire",
           "showlegend": true,
           "showscale": false,
           "type": "choropleth",
           "z": [
            1
           ]
          },
          {
           "colorscale": [
            [
             0,
             "#19d3f3"
            ],
            [
             1,
             "#19d3f3"
            ]
           ],
           "geo": "geo",
           "hovertemplate": "independence_from=Spanish Empire<br>year=1821.0<br>country=%{location}<extra></extra>",
           "locations": [
            "Costa Rica",
            "El Salvador",
            "Guatemala",
            "Honduras",
            "Nicaragua",
            "Peru"
           ],
           "name": "Spanish Empire",
           "showlegend": true,
           "showscale": false,
           "type": "choropleth",
           "z": [
            1,
            1,
            1,
            1,
            1,
            1
           ]
          },
          {
           "colorscale": [
            [
             0,
             "#00cc96"
            ],
            [
             1,
             "#00cc96"
            ]
           ],
           "geo": "geo",
           "hovertemplate": "independence_from=Spain<br>year=1821.0<br>country=%{location}<extra></extra>",
           "locations": [
            "Dominican Republic",
            "Panama"
           ],
           "name": "Spain",
           "showlegend": true,
           "showscale": false,
           "type": "choropleth",
           "z": [
            1,
            1
           ]
          }
         ],
         "name": "1821.0"
        },
        {
         "data": [
          {
           "colorscale": [
            [
             0,
             "#B6E880"
            ],
            [
             1,
             "#B6E880"
            ]
           ],
           "geo": "geo",
           "hovertemplate": "independence_from=Soviet Union<br>year=1990.0<br>country=%{location}<extra></extra>",
           "locations": [
            "Latvia",
            "Lithuania"
           ],
           "name": "Soviet Union",
           "showlegend": true,
           "showscale": false,
           "type": "choropleth",
           "z": [
            1,
            1
           ]
          },
          {
           "colorscale": [
            [
             0,
             "#FF6692"
            ],
            [
             1,
             "#FF6692"
            ]
           ],
           "geo": "geo",
           "hovertemplate": "independence_from=SFR Yugoslavia<br>year=1990.0<br>country=%{location}<extra></extra>",
           "locations": [
            "Croatia"
           ],
           "name": "SFR Yugoslavia",
           "showlegend": true,
           "showscale": false,
           "type": "choropleth",
           "z": [
            1
           ]
          },
          {
           "colorscale": [
            [
             0,
             "#ab63fa"
            ],
            [
             1,
             "#ab63fa"
            ]
           ],
           "geo": "geo",
           "hovertemplate": "independence_from=South Africa<br>year=1990.0<br>country=%{location}<extra></extra>",
           "locations": [
            "Namibia"
           ],
           "name": "South Africa",
           "showlegend": true,
           "showscale": false,
           "type": "choropleth",
           "z": [
            1
           ]
          }
         ],
         "name": "1990.0"
        },
        {
         "data": [
          {
           "colorscale": [
            [
             0,
             "#19d3f3"
            ],
            [
             1,
             "#19d3f3"
            ]
           ],
           "geo": "geo",
           "hovertemplate": "independence_from=Spanish Empire<br>year=1868.0<br>country=%{location}<extra></extra>",
           "locations": [
            "Cuba"
           ],
           "name": "Spanish Empire",
           "showlegend": true,
           "showscale": false,
           "type": "choropleth",
           "z": [
            1
           ]
          }
         ],
         "name": "1868.0"
        },
        {
         "data": [
          {
           "colorscale": [
            [
             0,
             "#FF97FF"
            ],
            [
             1,
             "#FF97FF"
            ]
           ],
           "geo": "geo",
           "hovertemplate": "independence_from=Czechoslovakia<br>year=1993.0<br>country=%{location}<extra></extra>",
           "locations": [
            "Czech Republic"
           ],
           "name": "Czechoslovakia",
           "showlegend": true,
           "showscale": false,
           "type": "choropleth",
           "z": [
            1
           ]
          }
         ],
         "name": "1993.0"
        },
        {
         "data": [
          {
           "colorscale": [
            [
             0,
             "#00cc96"
            ],
            [
             1,
             "#00cc96"
            ]
           ],
           "geo": "geo",
           "hovertemplate": "independence_from=France<br>year=1977.0<br>country=%{location}<extra></extra>",
           "locations": [
            "Djibouti"
           ],
           "name": "France",
           "showlegend": true,
           "showscale": false,
           "type": "choropleth",
           "z": [
            1
           ]
          }
         ],
         "name": "1977.0"
        },
        {
         "data": [
          {
           "colorscale": [
            [
             0,
             "#636efa"
            ],
            [
             1,
             "#636efa"
            ]
           ],
           "geo": "geo",
           "hovertemplate": "independence_from=United Kingdom<br>year=1978.0<br>country=%{location}<extra></extra>",
           "locations": [
            "Dominica",
            "Solomon Islands",
            "Tuvalu"
           ],
           "name": "United Kingdom",
           "showlegend": true,
           "showscale": false,
           "type": "choropleth",
           "z": [
            1,
            1,
            1
           ]
          }
         ],
         "name": "1978.0"
        },
        {
         "data": [
          {
           "colorscale": [
            [
             0,
             "#FFA15A"
            ],
            [
             1,
             "#FFA15A"
            ]
           ],
           "geo": "geo",
           "hovertemplate": "independence_from=Portugal<br>year=2002.0<br>country=%{location}<extra></extra>",
           "locations": [
            "East Timor"
           ],
           "name": "Portugal",
           "showlegend": true,
           "showscale": false,
           "type": "choropleth",
           "z": [
            1
           ]
          }
         ],
         "name": "2002.0"
        },
        {
         "data": [
          {
           "colorscale": [
            [
             0,
             "#19d3f3"
            ],
            [
             1,
             "#19d3f3"
            ]
           ],
           "geo": "geo",
           "hovertemplate": "independence_from=Spanish Empire<br>year=1809.0<br>country=%{location}<extra></extra>",
           "locations": [
            "Ecuador"
           ],
           "name": "Spanish Empire",
           "showlegend": true,
           "showscale": false,
           "type": "choropleth",
           "z": [
            1
           ]
          }
         ],
         "name": "1809.0"
        },
        {
         "data": [
          {
           "colorscale": [
            [
             0,
             "#636efa"
            ],
            [
             1,
             "#636efa"
            ]
           ],
           "geo": "geo",
           "hovertemplate": "independence_from=United Kingdom<br>year=1968.0<br>country=%{location}<extra></extra>",
           "locations": [
            "Eswatini",
            "Mauritius"
           ],
           "name": "United Kingdom",
           "showlegend": true,
           "showscale": false,
           "type": "choropleth",
           "z": [
            1,
            1
           ]
          },
          {
           "colorscale": [
            [
             0,
             "#00cc96"
            ],
            [
             1,
             "#00cc96"
            ]
           ],
           "geo": "geo",
           "hovertemplate": "independence_from=Spain<br>year=1968.0<br>country=%{location}<extra></extra>",
           "locations": [
            "Equatorial Guinea"
           ],
           "name": "Spain",
           "showlegend": true,
           "showscale": false,
           "type": "choropleth",
           "z": [
            1
           ]
          },
          {
           "colorscale": [
            [
             0,
             "#FFA15A"
            ],
            [
             1,
             "#FFA15A"
            ]
           ],
           "geo": "geo",
           "hovertemplate": "independence_from=Australia, New Zealand and the United Kingdom<br>year=1968.0<br>country=%{location}<extra></extra>",
           "locations": [
            "Nauru"
           ],
           "name": "Australia, New Zealand and the United Kingdom",
           "showlegend": true,
           "showscale": false,
           "type": "choropleth",
           "z": [
            1
           ]
          }
         ],
         "name": "1968.0"
        },
        {
         "data": [
          {
           "colorscale": [
            [
             0,
             "#636efa"
            ],
            [
             1,
             "#636efa"
            ]
           ],
           "geo": "geo",
           "hovertemplate": "independence_from=United Kingdom<br>year=1970.0<br>country=%{location}<extra></extra>",
           "locations": [
            "Fiji",
            "Tonga"
           ],
           "name": "United Kingdom",
           "showlegend": true,
           "showscale": false,
           "type": "choropleth",
           "z": [
            1,
            1
           ]
          }
         ],
         "name": "1970.0"
        },
        {
         "data": [
          {
           "colorscale": [
            [
             0,
             "#FF6692"
            ],
            [
             1,
             "#FF6692"
            ]
           ],
           "geo": "geo",
           "hovertemplate": "independence_from=Russian Soviet Federative Socialist Republic<br>year=1917.0<br>country=%{location}<extra></extra>",
           "locations": [
            "Finland"
           ],
           "name": "Russian Soviet Federative Socialist Republic",
           "showlegend": true,
           "showscale": false,
           "type": "choropleth",
           "z": [
            1
           ]
          }
         ],
         "name": "1917.0"
        },
        {
         "data": [
          {
           "colorscale": [
            [
             0,
             "#ab63fa"
            ],
            [
             1,
             "#ab63fa"
            ]
           ],
           "geo": "geo",
           "hovertemplate": "independence_from=0<br>year=1789.0<br>country=%{location}<extra></extra>",
           "locations": [
            "France"
           ],
           "name": "0",
           "showlegend": true,
           "showscale": false,
           "type": "choropleth",
           "z": [
            1
           ]
          }
         ],
         "name": "1789.0"
        },
        {
         "data": [
          {
           "colorscale": [
            [
             0,
             "#636efa"
            ],
            [
             1,
             "#636efa"
            ]
           ],
           "geo": "geo",
           "hovertemplate": "independence_from=United Kingdom<br>year=1965.0<br>country=%{location}<extra></extra>",
           "locations": [
            "Gambia, The",
            "Maldives"
           ],
           "name": "United Kingdom",
           "showlegend": true,
           "showscale": false,
           "type": "choropleth",
           "z": [
            1,
            1
           ]
          },
          {
           "colorscale": [
            [
             0,
             "#EF553B"
            ],
            [
             1,
             "#EF553B"
            ]
           ],
           "geo": "geo",
           "hovertemplate": "independence_from=Malaysia<br>year=1965.0<br>country=%{location}<extra></extra>",
           "locations": [
            "Singapore"
           ],
           "name": "Malaysia",
           "showlegend": true,
           "showscale": false,
           "type": "choropleth",
           "z": [
            1
           ]
          }
         ],
         "name": "1965.0"
        },
        {
         "data": [
          {
           "colorscale": [
            [
             0,
             "#636efa"
            ],
            [
             1,
             "#636efa"
            ]
           ],
           "geo": "geo",
           "hovertemplate": "independence_from=United Kingdom<br>year=1957.0<br>country=%{location}<extra></extra>",
           "locations": [
            "Ghana",
            "Malaysia"
           ],
           "name": "United Kingdom",
           "showlegend": true,
           "showscale": false,
           "type": "choropleth",
           "z": [
            1,
            1
           ]
          }
         ],
         "name": "1957.0"
        },
        {
         "data": [
          {
           "colorscale": [
            [
             0,
             "#636efa"
            ],
            [
             1,
             "#636efa"
            ]
           ],
           "geo": "geo",
           "hovertemplate": "independence_from=United Kingdom<br>year=1974.0<br>country=%{location}<extra></extra>",
           "locations": [
            "Grenada"
           ],
           "name": "United Kingdom",
           "showlegend": true,
           "showscale": false,
           "type": "choropleth",
           "z": [
            1
           ]
          }
         ],
         "name": "1974.0"
        },
        {
         "data": [
          {
           "colorscale": [
            [
             0,
             "#EF553B"
            ],
            [
             1,
             "#EF553B"
            ]
           ],
           "geo": "geo",
           "hovertemplate": "independence_from=Ottoman Empire<br>year=1804.0<br>country=%{location}<extra></extra>",
           "locations": [
            "Serbia"
           ],
           "name": "Ottoman Empire",
           "showlegend": true,
           "showscale": false,
           "type": "choropleth",
           "z": [
            1
           ]
          },
          {
           "colorscale": [
            [
             0,
             "#00cc96"
            ],
            [
             1,
             "#00cc96"
            ]
           ],
           "geo": "geo",
           "hovertemplate": "independence_from=France<br>year=1804.0<br>country=%{location}<extra></extra>",
           "locations": [
            "Haiti"
           ],
           "name": "France",
           "showlegend": true,
           "showscale": false,
           "type": "choropleth",
           "z": [
            1
           ]
          }
         ],
         "name": "1804.0"
        },
        {
         "data": [
          {
           "colorscale": [
            [
             0,
             "#ab63fa"
            ],
            [
             1,
             "#ab63fa"
            ]
           ],
           "geo": "geo",
           "hovertemplate": "independence_from=0<br>year=1950.0<br>country=%{location}<extra></extra>",
           "locations": [
            "India"
           ],
           "name": "0",
           "showlegend": true,
           "showscale": false,
           "type": "choropleth",
           "z": [
            1
           ]
          }
         ],
         "name": "1950.0"
        },
        {
         "data": [
          {
           "colorscale": [
            [
             0,
             "#636efa"
            ],
            [
             1,
             "#636efa"
            ]
           ],
           "geo": "geo",
           "hovertemplate": "independence_from=United Kingdom<br>year=1947.0<br>country=%{location}<extra></extra>",
           "locations": [
            "India",
            "Pakistan"
           ],
           "name": "United Kingdom",
           "showlegend": true,
           "showscale": false,
           "type": "choropleth",
           "z": [
            1,
            1
           ]
          }
         ],
         "name": "1947.0"
        },
        {
         "data": [
          {
           "colorscale": [
            [
             0,
             "#00cc96"
            ],
            [
             1,
             "#00cc96"
            ]
           ],
           "geo": "geo",
           "hovertemplate": "independence_from=Netherlands and Japan<br>year=1945.0<br>country=%{location}<extra></extra>",
           "locations": [
            "Indonesia"
           ],
           "name": "Netherlands and Japan",
           "showlegend": true,
           "showscale": false,
           "type": "choropleth",
           "z": [
            1
           ]
          },
          {
           "colorscale": [
            [
             0,
             "#19d3f3"
            ],
            [
             1,
             "#19d3f3"
            ]
           ],
           "geo": "geo",
           "hovertemplate": "independence_from=Empire of Japan<br>year=1945.0<br>country=%{location}<extra></extra>",
           "locations": [
            "North Korea",
            "South Korea"
           ],
           "name": "Empire of Japan",
           "showlegend": true,
           "showscale": false,
           "type": "choropleth",
           "z": [
            1,
            1
           ]
          },
          {
           "colorscale": [
            [
             0,
             "#636efa"
            ],
            [
             1,
             "#636efa"
            ]
           ],
           "geo": "geo",
           "hovertemplate": "independence_from=Empire of Japan and France<br>year=1945.0<br>country=%{location}<extra></extra>",
           "locations": [
            "Vietnam"
           ],
           "name": "Empire of Japan and France",
           "showlegend": true,
           "showscale": false,
           "type": "choropleth",
           "z": [
            1
           ]
          }
         ],
         "name": "1945.0"
        },
        {
         "data": [
          {
           "colorscale": [
            [
             0,
             "#636efa"
            ],
            [
             1,
             "#636efa"
            ]
           ],
           "geo": "geo",
           "hovertemplate": "independence_from=United Kingdom<br>year=1979.0<br>country=%{location}<extra></extra>",
           "locations": [
            "Kiribati",
            "Saint Lucia",
            "Saint Vincent and the Grenadines"
           ],
           "name": "United Kingdom",
           "showlegend": true,
           "showscale": false,
           "type": "choropleth",
           "z": [
            1,
            1,
            1
           ]
          },
          {
           "colorscale": [
            [
             0,
             "#ab63fa"
            ],
            [
             1,
             "#ab63fa"
            ]
           ],
           "geo": "geo",
           "hovertemplate": "independence_from=0<br>year=1979.0<br>country=%{location}<extra></extra>",
           "locations": [
            "Iran"
           ],
           "name": "0",
           "showlegend": true,
           "showscale": false,
           "type": "choropleth",
           "z": [
            1
           ]
          }
         ],
         "name": "1979.0"
        },
        {
         "data": [
          {
           "colorscale": [
            [
             0,
             "#636efa"
            ],
            [
             1,
             "#636efa"
            ]
           ],
           "geo": "geo",
           "hovertemplate": "independence_from=United Kingdom<br>year=1932.0<br>country=%{location}<extra></extra>",
           "locations": [
            "Iraq"
           ],
           "name": "United Kingdom",
           "showlegend": true,
           "showscale": false,
           "type": "choropleth",
           "z": [
            1
           ]
          },
          {
           "colorscale": [
            [
             0,
             "#ab63fa"
            ],
            [
             1,
             "#ab63fa"
            ]
           ],
           "geo": "geo",
           "hovertemplate": "independence_from=0<br>year=1932.0<br>country=%{location}<extra></extra>",
           "locations": [
            "Saudi Arabia"
           ],
           "name": "0",
           "showlegend": true,
           "showscale": false,
           "type": "choropleth",
           "z": [
            1
           ]
          }
         ],
         "name": "1932.0"
        },
        {
         "data": [
          {
           "colorscale": [
            [
             0,
             "#ab63fa"
            ],
            [
             1,
             "#ab63fa"
            ]
           ],
           "geo": "geo",
           "hovertemplate": "independence_from=United Kingdom of Great Britain and Ireland<br>year=1916.0<br>country=%{location}<extra></extra>",
           "locations": [
            "Ireland"
           ],
           "name": "United Kingdom of Great Britain and Ireland",
           "showlegend": true,
           "showscale": false,
           "type": "choropleth",
           "z": [
            1
           ]
          }
         ],
         "name": "1916.0"
        },
        {
         "data": [
          {
           "colorscale": [
            [
             0,
             "#636efa"
            ],
            [
             1,
             "#636efa"
            ]
           ],
           "geo": "geo",
           "hovertemplate": "independence_from=United Kingdom<br>year=1948.0<br>country=%{location}<extra></extra>",
           "locations": [
            "Myanmar",
            "Sri Lanka"
           ],
           "name": "United Kingdom",
           "showlegend": true,
           "showscale": false,
           "type": "choropleth",
           "z": [
            1,
            1
           ]
          },
          {
           "colorscale": [
            [
             0,
             "#FFA15A"
            ],
            [
             1,
             "#FFA15A"
            ]
           ],
           "geo": "geo",
           "hovertemplate": "independence_from=United Kingdom and the British Mandate for Palestine<br>year=1948.0<br>country=%{location}<extra></extra>",
           "locations": [
            "Israel"
           ],
           "name": "United Kingdom and the British Mandate for Palestine",
           "showlegend": true,
           "showscale": false,
           "type": "choropleth",
           "z": [
            1
           ]
          }
         ],
         "name": "1948.0"
        },
        {
         "data": [
          {
           "colorscale": [
            [
             0,
             "#636efa"
            ],
            [
             1,
             "#636efa"
            ]
           ],
           "geo": "geo",
           "hovertemplate": "independence_from=United Kingdom<br>year=1946.0<br>country=%{location}<extra></extra>",
           "locations": [
            "Jordan"
           ],
           "name": "United Kingdom",
           "showlegend": true,
           "showscale": false,
           "type": "choropleth",
           "z": [
            1
           ]
          },
          {
           "colorscale": [
            [
             0,
             "#00cc96"
            ],
            [
             1,
             "#00cc96"
            ]
           ],
           "geo": "geo",
           "hovertemplate": "independence_from=France<br>year=1946.0<br>country=%{location}<extra></extra>",
           "locations": [
            "Syria"
           ],
           "name": "France",
           "showlegend": true,
           "showscale": false,
           "type": "choropleth",
           "z": [
            1
           ]
          }
         ],
         "name": "1946.0"
        },
        {
         "data": [
          {
           "colorscale": [
            [
             0,
             "#636efa"
            ],
            [
             1,
             "#636efa"
            ]
           ],
           "geo": "geo",
           "hovertemplate": "independence_from=United Kingdom<br>year=1963.0<br>country=%{location}<extra></extra>",
           "locations": [
            "Kenya"
           ],
           "name": "United Kingdom",
           "showlegend": true,
           "showscale": false,
           "type": "choropleth",
           "z": [
            1
           ]
          }
         ],
         "name": "1963.0"
        },
        {
         "data": [
          {
           "colorscale": [
            [
             0,
             "#636efa"
            ],
            [
             1,
             "#636efa"
            ]
           ],
           "geo": "geo",
           "hovertemplate": "independence_from=United Kingdom<br>year=1961.0<br>country=%{location}<extra></extra>",
           "locations": [
            "Kuwait",
            "Sierra Leone",
            "Tanzania"
           ],
           "name": "United Kingdom",
           "showlegend": true,
           "showscale": false,
           "type": "choropleth",
           "z": [
            1,
            1,
            1
           ]
          }
         ],
         "name": "1961.0"
        },
        {
         "data": [
          {
           "colorscale": [
            [
             0,
             "#00cc96"
            ],
            [
             1,
             "#00cc96"
            ]
           ],
           "geo": "geo",
           "hovertemplate": "independence_from=France<br>year=1943.0<br>country=%{location}<extra></extra>",
           "locations": [
            "Lebanon"
           ],
           "name": "France",
           "showlegend": true,
           "showscale": false,
           "type": "choropleth",
           "z": [
            1
           ]
          }
         ],
         "name": "1943.0"
        },
        {
         "data": [
          {
           "colorscale": [
            [
             0,
             "#B6E880"
            ],
            [
             1,
             "#B6E880"
            ]
           ],
           "geo": "geo",
           "hovertemplate": "independence_from=American Colonization Society<br>year=1847.0<br>country=%{location}<extra></extra>",
           "locations": [
            "Liberia"
           ],
           "name": "American Colonization Society",
           "showlegend": true,
           "showscale": false,
           "type": "choropleth",
           "z": [
            1
           ]
          }
         ],
         "name": "1847.0"
        },
        {
         "data": [
          {
           "colorscale": [
            [
             0,
             "#FF97FF"
            ],
            [
             1,
             "#FF97FF"
            ]
           ],
           "geo": "geo",
           "hovertemplate": "independence_from=Italy<br>year=1951.0<br>country=%{location}<extra></extra>",
           "locations": [
            "Libya"
           ],
           "name": "Italy",
           "showlegend": true,
           "showscale": false,
           "type": "choropleth",
           "z": [
            1
           ]
          }
         ],
         "name": "1951.0"
        },
        {
         "data": [
          {
           "colorscale": [
            [
             0,
             "#636efa"
            ],
            [
             1,
             "#636efa"
            ]
           ],
           "geo": "geo",
           "hovertemplate": "independence_from=United Kingdom<br>year=1964.0<br>country=%{location}<extra></extra>",
           "locations": [
            "Malawi",
            "Malta",
            "Zambia"
           ],
           "name": "United Kingdom",
           "showlegend": true,
           "showscale": false,
           "type": "choropleth",
           "z": [
            1,
            1,
            1
           ]
          }
         ],
         "name": "1964.0"
        },
        {
         "data": [
          {
           "colorscale": [
            [
             0,
             "#FECB52"
            ],
            [
             1,
             "#FECB52"
            ]
           ],
           "geo": "geo",
           "hovertemplate": "independence_from=United States<br>year=1986.0<br>country=%{location}<extra></extra>",
           "locations": [
            "Micronesia"
           ],
           "name": "United States",
           "showlegend": true,
           "showscale": false,
           "type": "choropleth",
           "z": [
            1
           ]
          }
         ],
         "name": "1986.0"
        },
        {
         "data": [
          {
           "colorscale": [
            [
             0,
             "#636efa"
            ],
            [
             1,
             "#636efa"
            ]
           ],
           "geo": "geo",
           "hovertemplate": "independence_from=Qing China[65][66]<br>year=1911.0<br>country=%{location}<extra></extra>",
           "locations": [
            "Mongolia"
           ],
           "name": "Qing China[65][66]",
           "showlegend": true,
           "showscale": false,
           "type": "choropleth",
           "z": [
            1
           ]
          }
         ],
         "name": "1911.0"
        },
        {
         "data": [
          {
           "colorscale": [
            [
             0,
             "#EF553B"
            ],
            [
             1,
             "#EF553B"
            ]
           ],
           "geo": "geo",
           "hovertemplate": "independence_from=Serbia and Montenegro<br>year=2006.0<br>country=%{location}<extra></extra>",
           "locations": [
            "Montenegro"
           ],
           "name": "Serbia and Montenegro",
           "showlegend": true,
           "showscale": false,
           "type": "choropleth",
           "z": [
            1
           ]
          }
         ],
         "name": "2006.0"
        },
        {
         "data": [
          {
           "colorscale": [
            [
             0,
             "#19d3f3"
            ],
            [
             1,
             "#19d3f3"
            ]
           ],
           "geo": "geo",
           "hovertemplate": "independence_from=Spanish Empire<br>year=1581.0<br>country=%{location}<extra></extra>",
           "locations": [
            "Netherlands, The"
           ],
           "name": "Spanish Empire",
           "showlegend": true,
           "showscale": false,
           "type": "choropleth",
           "z": [
            1
           ]
          }
         ],
         "name": "1581.0"
        },
        {
         "data": [
          {
           "colorscale": [
            [
             0,
             "#EF553B"
            ],
            [
             1,
             "#EF553B"
            ]
           ],
           "geo": "geo",
           "hovertemplate": "independence_from=Denmark<br>year=1814.0<br>country=%{location}<extra></extra>",
           "locations": [
            "Norway"
           ],
           "name": "Denmark",
           "showlegend": true,
           "showscale": false,
           "type": "choropleth",
           "z": [
            1
           ]
          }
         ],
         "name": "1814.0"
        },
        {
         "data": [
          {
           "colorscale": [
            [
             0,
             "#19d3f3"
            ],
            [
             1,
             "#19d3f3"
            ]
           ],
           "geo": "geo",
           "hovertemplate": "independence_from=Sweden<br>year=1905.0<br>country=%{location}<extra></extra>",
           "locations": [
            "Norway"
           ],
           "name": "Sweden",
           "showlegend": true,
           "showscale": false,
           "type": "choropleth",
           "z": [
            1
           ]
          }
         ],
         "name": "1905.0"
        },
        {
         "data": [
          {
           "colorscale": [
            [
             0,
             "#FFA15A"
            ],
            [
             1,
             "#FFA15A"
            ]
           ],
           "geo": "geo",
           "hovertemplate": "independence_from=Portugal<br>year=1650.0<br>country=%{location}<extra></extra>",
           "locations": [
            "Oman"
           ],
           "name": "Portugal",
           "showlegend": true,
           "showscale": false,
           "type": "choropleth",
           "z": [
            1
           ]
          }
         ],
         "name": "1650.0"
        },
        {
         "data": [
          {
           "colorscale": [
            [
             0,
             "#FF6692"
            ],
            [
             1,
             "#FF6692"
            ]
           ],
           "geo": "geo",
           "hovertemplate": "independence_from=Israel<br>year=1988.0<br>country=%{location}<extra></extra>",
           "locations": [
            "Palestine"
           ],
           "name": "Israel",
           "showlegend": true,
           "showscale": false,
           "type": "choropleth",
           "z": [
            1
           ]
          }
         ],
         "name": "1988.0"
        },
        {
         "data": [
          {
           "colorscale": [
            [
             0,
             "#B6E880"
            ],
            [
             1,
             "#B6E880"
            ]
           ],
           "geo": "geo",
           "hovertemplate": "independence_from=Colombia<br>year=1903.0<br>country=%{location}<extra></extra>",
           "locations": [
            "Panama"
           ],
           "name": "Colombia",
           "showlegend": true,
           "showscale": false,
           "type": "choropleth",
           "z": [
            1
           ]
          }
         ],
         "name": "1903.0"
        },
        {
         "data": [
          {
           "colorscale": [
            [
             0,
             "#19d3f3"
            ],
            [
             1,
             "#19d3f3"
            ]
           ],
           "geo": "geo",
           "hovertemplate": "independence_from=Spanish Empire<br>year=1811.0<br>country=%{location}<extra></extra>",
           "locations": [
            "Venezuela"
           ],
           "name": "Spanish Empire",
           "showlegend": true,
           "showscale": false,
           "type": "choropleth",
           "z": [
            1
           ]
          },
          {
           "colorscale": [
            [
             0,
             "#FECB52"
            ],
            [
             1,
             "#FECB52"
            ]
           ],
           "geo": "geo",
           "hovertemplate": "independence_from=Spanish Empire[72]<br>year=1811.0<br>country=%{location}<extra></extra>",
           "locations": [
            "Paraguay"
           ],
           "name": "Spanish Empire[72]",
           "showlegend": true,
           "showscale": false,
           "type": "choropleth",
           "z": [
            1
           ]
          }
         ],
         "name": "1811.0"
        },
        {
         "data": [
          {
           "colorscale": [
            [
             0,
             "#19d3f3"
            ],
            [
             1,
             "#19d3f3"
            ]
           ],
           "geo": "geo",
           "hovertemplate": "independence_from=Spanish Empire<br>year=1898.0<br>country=%{location}<extra></extra>",
           "locations": [
            "Philippines"
           ],
           "name": "Spanish Empire",
           "showlegend": true,
           "showscale": false,
           "type": "choropleth",
           "z": [
            1
           ]
          }
         ],
         "name": "1898.0"
        },
        {
         "data": [
          {
           "colorscale": [
            [
             0,
             "#19d3f3"
            ],
            [
             1,
             "#19d3f3"
            ]
           ],
           "geo": "geo",
           "hovertemplate": "independence_from=Spanish Empire<br>year=1640.0<br>country=%{location}<extra></extra>",
           "locations": [
            "Portugal"
           ],
           "name": "Spanish Empire",
           "showlegend": true,
           "showscale": false,
           "type": "choropleth",
           "z": [
            1
           ]
          }
         ],
         "name": "1640.0"
        },
        {
         "data": [
          {
           "colorscale": [
            [
             0,
             "#EF553B"
            ],
            [
             1,
             "#EF553B"
            ]
           ],
           "geo": "geo",
           "hovertemplate": "independence_from=Ottoman Empire<br>year=1877.0<br>country=%{location}<extra></extra>",
           "locations": [
            "Romania"
           ],
           "name": "Ottoman Empire",
           "showlegend": true,
           "showscale": false,
           "type": "choropleth",
           "z": [
            1
           ]
          }
         ],
         "name": "1877.0"
        },
        {
         "data": [
          {
           "colorscale": [
            [
             0,
             "#636efa"
            ],
            [
             1,
             "#636efa"
            ]
           ],
           "geo": "geo",
           "hovertemplate": "independence_from=United Kingdom<br>year=1983.0<br>country=%{location}<extra></extra>",
           "locations": [
            "Saint Kitts and Nevis"
           ],
           "name": "United Kingdom",
           "showlegend": true,
           "showscale": false,
           "type": "choropleth",
           "z": [
            1
           ]
          }
         ],
         "name": "1983.0"
        },
        {
         "data": [
          {
           "colorscale": [
            [
             0,
             "#636efa"
            ],
            [
             1,
             "#636efa"
            ]
           ],
           "geo": "geo",
           "hovertemplate": "independence_from=United Kingdom<br>year=1976.0<br>country=%{location}<extra></extra>",
           "locations": [
            "Seychelles"
           ],
           "name": "United Kingdom",
           "showlegend": true,
           "showscale": false,
           "type": "choropleth",
           "z": [
            1
           ]
          }
         ],
         "name": "1976.0"
        },
        {
         "data": [
          {
           "colorscale": [
            [
             0,
             "#636efa"
            ],
            [
             1,
             "#636efa"
            ]
           ],
           "geo": "geo",
           "hovertemplate": "independence_from=United Kingdom<br>year=1931.0<br>country=%{location}<extra></extra>",
           "locations": [
            "South Africa"
           ],
           "name": "United Kingdom",
           "showlegend": true,
           "showscale": false,
           "type": "choropleth",
           "z": [
            1
           ]
          }
         ],
         "name": "1931.0"
        },
        {
         "data": [
          {
           "colorscale": [
            [
             0,
             "#ab63fa"
            ],
            [
             1,
             "#ab63fa"
            ]
           ],
           "geo": "geo",
           "hovertemplate": "independence_from=Sudan<br>year=2011.0<br>country=%{location}<extra></extra>",
           "locations": [
            "South Sudan"
           ],
           "name": "Sudan",
           "showlegend": true,
           "showscale": false,
           "type": "choropleth",
           "z": [
            1
           ]
          }
         ],
         "name": "2011.0"
        },
        {
         "data": [
          {
           "colorscale": [
            [
             0,
             "#00cc96"
            ],
            [
             1,
             "#00cc96"
            ]
           ],
           "geo": "geo",
           "hovertemplate": "independence_from=France<br>year=1956.0<br>country=%{location}<extra></extra>",
           "locations": [
            "Tunisia"
           ],
           "name": "France",
           "showlegend": true,
           "showscale": false,
           "type": "choropleth",
           "z": [
            1
           ]
          },
          {
           "colorscale": [
            [
             0,
             "#FFA15A"
            ],
            [
             1,
             "#FFA15A"
            ]
           ],
           "geo": "geo",
           "hovertemplate": "independence_from=Egypt and the United Kingdom<br>year=1956.0<br>country=%{location}<extra></extra>",
           "locations": [
            "Sudan"
           ],
           "name": "Egypt and the United Kingdom",
           "showlegend": true,
           "showscale": false,
           "type": "choropleth",
           "z": [
            1
           ]
          }
         ],
         "name": "1956.0"
        },
        {
         "data": [
          {
           "colorscale": [
            [
             0,
             "#ab63fa"
            ],
            [
             1,
             "#ab63fa"
            ]
           ],
           "geo": "geo",
           "hovertemplate": "independence_from=0<br>year=1523.0<br>country=%{location}<extra></extra>",
           "locations": [
            "Sweden"
           ],
           "name": "0",
           "showlegend": true,
           "showscale": false,
           "type": "choropleth",
           "z": [
            1
           ]
          }
         ],
         "name": "1523.0"
        },
        {
         "data": [
          {
           "colorscale": [
            [
             0,
             "#ab63fa"
            ],
            [
             1,
             "#ab63fa"
            ]
           ],
           "geo": "geo",
           "hovertemplate": "independence_from=0<br>year=1291.0<br>country=%{location}<extra></extra>",
           "locations": [
            "Switzerland"
           ],
           "name": "0",
           "showlegend": true,
           "showscale": false,
           "type": "choropleth",
           "z": [
            1
           ]
          }
         ],
         "name": "1291.0"
        },
        {
         "data": [
          {
           "colorscale": [
            [
             0,
             "#B6E880"
            ],
            [
             1,
             "#B6E880"
            ]
           ],
           "geo": "geo",
           "hovertemplate": "independence_from=Kingdom of Great Britain<br>year=1776.0<br>country=%{location}<extra></extra>",
           "locations": [
            "United States"
           ],
           "name": "Kingdom of Great Britain",
           "showlegend": true,
           "showscale": false,
           "type": "choropleth",
           "z": [
            1
           ]
          }
         ],
         "name": "1776.0"
        },
        {
         "data": [
          {
           "colorscale": [
            [
             0,
             "#636efa"
            ],
            [
             1,
             "#636efa"
            ]
           ],
           "geo": "geo",
           "hovertemplate": "independence_from=United Kingdom<br>year=1980.0<br>country=%{location}<extra></extra>",
           "locations": [
            "Zimbabwe"
           ],
           "name": "United Kingdom",
           "showlegend": true,
           "showscale": false,
           "type": "choropleth",
           "z": [
            1
           ]
          },
          {
           "colorscale": [
            [
             0,
             "#FECB52"
            ],
            [
             1,
             "#FECB52"
            ]
           ],
           "geo": "geo",
           "hovertemplate": "independence_from=United Kingdom and France<br>year=1980.0<br>country=%{location}<extra></extra>",
           "locations": [
            "Vanuatu"
           ],
           "name": "United Kingdom and France",
           "showlegend": true,
           "showscale": false,
           "type": "choropleth",
           "z": [
            1
           ]
          }
         ],
         "name": "1980.0"
        },
        {
         "data": [
          {
           "colorscale": [
            [
             0,
             "#636efa"
            ],
            [
             1,
             "#636efa"
            ]
           ],
           "geo": "geo",
           "hovertemplate": "independence_from=United Kingdom<br>year=1967.0<br>country=%{location}<extra></extra>",
           "locations": [
            "Yemen"
           ],
           "name": "United Kingdom",
           "showlegend": true,
           "showscale": false,
           "type": "choropleth",
           "z": [
            1
           ]
          }
         ],
         "name": "1967.0"
        }
       ],
       "layout": {
        "geo": {
         "center": {},
         "domain": {
          "x": [
           0,
           1
          ],
          "y": [
           0,
           1
          ]
         }
        },
        "height": 600,
        "legend": {
         "title": {
          "text": "independence_from"
         },
         "tracegroupgap": 0
        },
        "sliders": [
         {
          "active": 0,
          "currentvalue": {
           "prefix": "year="
          },
          "len": 0.9,
          "pad": {
           "b": 10,
           "t": 60
          },
          "steps": [
           {
            "args": [
             [
              "1919.0"
             ],
             {
              "frame": {
               "duration": 0,
               "redraw": true
              },
              "fromcurrent": true,
              "mode": "immediate",
              "transition": {
               "duration": 0,
               "easing": "linear"
              }
             }
            ],
            "label": "1919.0",
            "method": "animate"
           },
           {
            "args": [
             [
              "1912.0"
             ],
             {
              "frame": {
               "duration": 0,
               "redraw": true
              },
              "fromcurrent": true,
              "mode": "immediate",
              "transition": {
               "duration": 0,
               "easing": "linear"
              }
             }
            ],
            "label": "1912.0",
            "method": "animate"
           },
           {
            "args": [
             [
              "1962.0"
             ],
             {
              "frame": {
               "duration": 0,
               "redraw": true
              },
              "fromcurrent": true,
              "mode": "immediate",
              "transition": {
               "duration": 0,
               "easing": "linear"
              }
             }
            ],
            "label": "1962.0",
            "method": "animate"
           },
           {
            "args": [
             [
              "0.0"
             ],
             {
              "frame": {
               "duration": 0,
               "redraw": true
              },
              "fromcurrent": true,
              "mode": "immediate",
              "transition": {
               "duration": 0,
               "easing": "linear"
              }
             }
            ],
            "label": "0.0",
            "method": "animate"
           },
           {
            "args": [
             [
              "1975.0"
             ],
             {
              "frame": {
               "duration": 0,
               "redraw": true
              },
              "fromcurrent": true,
              "mode": "immediate",
              "transition": {
               "duration": 0,
               "easing": "linear"
              }
             }
            ],
            "label": "1975.0",
            "method": "animate"
           },
           {
            "args": [
             [
              "1981.0"
             ],
             {
              "frame": {
               "duration": 0,
               "redraw": true
              },
              "fromcurrent": true,
              "mode": "immediate",
              "transition": {
               "duration": 0,
               "easing": "linear"
              }
             }
            ],
            "label": "1981.0",
            "method": "animate"
           },
           {
            "args": [
             [
              "1816.0"
             ],
             {
              "frame": {
               "duration": 0,
               "redraw": true
              },
              "fromcurrent": true,
              "mode": "immediate",
              "transition": {
               "duration": 0,
               "easing": "linear"
              }
             }
            ],
            "label": "1816.0",
            "method": "animate"
           },
           {
            "args": [
             [
              "1918.0"
             ],
             {
              "frame": {
               "duration": 0,
               "redraw": true
              },
              "fromcurrent": true,
              "mode": "immediate",
              "transition": {
               "duration": 0,
               "easing": "linear"
              }
             }
            ],
            "label": "1918.0",
            "method": "animate"
           },
           {
            "args": [
             [
              "1991.0"
             ],
             {
              "frame": {
               "duration": 0,
               "redraw": true
              },
              "fromcurrent": true,
              "mode": "immediate",
              "transition": {
               "duration": 0,
               "easing": "linear"
              }
             }
            ],
            "label": "1991.0",
            "method": "animate"
           },
           {
            "args": [
             [
              "1955.0"
             ],
             {
              "frame": {
               "duration": 0,
               "redraw": true
              },
              "fromcurrent": true,
              "mode": "immediate",
              "transition": {
               "duration": 0,
               "easing": "linear"
              }
             }
            ],
            "label": "1955.0",
            "method": "animate"
           },
           {
            "args": [
             [
              "1973.0"
             ],
             {
              "frame": {
               "duration": 0,
               "redraw": true
              },
              "fromcurrent": true,
              "mode": "immediate",
              "transition": {
               "duration": 0,
               "easing": "linear"
              }
             }
            ],
            "label": "1973.0",
            "method": "animate"
           },
           {
            "args": [
             [
              "1971.0"
             ],
             {
              "frame": {
               "duration": 0,
               "redraw": true
              },
              "fromcurrent": true,
              "mode": "immediate",
              "transition": {
               "duration": 0,
               "easing": "linear"
              }
             }
            ],
            "label": "1971.0",
            "method": "animate"
           },
           {
            "args": [
             [
              "1966.0"
             ],
             {
              "frame": {
               "duration": 0,
               "redraw": true
              },
              "fromcurrent": true,
              "mode": "immediate",
              "transition": {
               "duration": 0,
               "easing": "linear"
              }
             }
            ],
            "label": "1966.0",
            "method": "animate"
           },
           {
            "args": [
             [
              "1944.0"
             ],
             {
              "frame": {
               "duration": 0,
               "redraw": true
              },
              "fromcurrent": true,
              "mode": "immediate",
              "transition": {
               "duration": 0,
               "easing": "linear"
              }
             }
            ],
            "label": "1944.0",
            "method": "animate"
           },
           {
            "args": [
             [
              "1831.0"
             ],
             {
              "frame": {
               "duration": 0,
               "redraw": true
              },
              "fromcurrent": true,
              "mode": "immediate",
              "transition": {
               "duration": 0,
               "easing": "linear"
              }
             }
            ],
            "label": "1831.0",
            "method": "animate"
           },
           {
            "args": [
             [
              "1960.0"
             ],
             {
              "frame": {
               "duration": 0,
               "redraw": true
              },
              "fromcurrent": true,
              "mode": "immediate",
              "transition": {
               "duration": 0,
               "easing": "linear"
              }
             }
            ],
            "label": "1960.0",
            "method": "animate"
           },
           {
            "args": [
             [
              "1825.0"
             ],
             {
              "frame": {
               "duration": 0,
               "redraw": true
              },
              "fromcurrent": true,
              "mode": "immediate",
              "transition": {
               "duration": 0,
               "easing": "linear"
              }
             }
            ],
            "label": "1825.0",
            "method": "animate"
           },
           {
            "args": [
             [
              "1992.0"
             ],
             {
              "frame": {
               "duration": 0,
               "redraw": true
              },
              "fromcurrent": true,
              "mode": "immediate",
              "transition": {
               "duration": 0,
               "easing": "linear"
              }
             }
            ],
            "label": "1992.0",
            "method": "animate"
           },
           {
            "args": [
             [
              "1822.0"
             ],
             {
              "frame": {
               "duration": 0,
               "redraw": true
              },
              "fromcurrent": true,
              "mode": "immediate",
              "transition": {
               "duration": 0,
               "easing": "linear"
              }
             }
            ],
            "label": "1822.0",
            "method": "animate"
           },
           {
            "args": [
             [
              "1984.0"
             ],
             {
              "frame": {
               "duration": 0,
               "redraw": true
              },
              "fromcurrent": true,
              "mode": "immediate",
              "transition": {
               "duration": 0,
               "easing": "linear"
              }
             }
            ],
            "label": "1984.0",
            "method": "animate"
           },
           {
            "args": [
             [
              "1878.0"
             ],
             {
              "frame": {
               "duration": 0,
               "redraw": true
              },
              "fromcurrent": true,
              "mode": "immediate",
              "transition": {
               "duration": 0,
               "easing": "linear"
              }
             }
            ],
            "label": "1878.0",
            "method": "animate"
           },
           {
            "args": [
             [
              "1908.0"
             ],
             {
              "frame": {
               "duration": 0,
               "redraw": true
              },
              "fromcurrent": true,
              "mode": "immediate",
              "transition": {
               "duration": 0,
               "easing": "linear"
              }
             }
            ],
            "label": "1908.0",
            "method": "animate"
           },
           {
            "args": [
             [
              "1958.0"
             ],
             {
              "frame": {
               "duration": 0,
               "redraw": true
              },
              "fromcurrent": true,
              "mode": "immediate",
              "transition": {
               "duration": 0,
               "easing": "linear"
              }
             }
            ],
            "label": "1958.0",
            "method": "animate"
           },
           {
            "args": [
             [
              "1953.0"
             ],
             {
              "frame": {
               "duration": 0,
               "redraw": true
              },
              "fromcurrent": true,
              "mode": "immediate",
              "transition": {
               "duration": 0,
               "easing": "linear"
              }
             }
            ],
            "label": "1953.0",
            "method": "animate"
           },
           {
            "args": [
             [
              "1810.0"
             ],
             {
              "frame": {
               "duration": 0,
               "redraw": true
              },
              "fromcurrent": true,
              "mode": "immediate",
              "transition": {
               "duration": 0,
               "easing": "linear"
              }
             }
            ],
            "label": "1810.0",
            "method": "animate"
           },
           {
            "args": [
             [
              "1821.0"
             ],
             {
              "frame": {
               "duration": 0,
               "redraw": true
              },
              "fromcurrent": true,
              "mode": "immediate",
              "transition": {
               "duration": 0,
               "easing": "linear"
              }
             }
            ],
            "label": "1821.0",
            "method": "animate"
           },
           {
            "args": [
             [
              "1990.0"
             ],
             {
              "frame": {
               "duration": 0,
               "redraw": true
              },
              "fromcurrent": true,
              "mode": "immediate",
              "transition": {
               "duration": 0,
               "easing": "linear"
              }
             }
            ],
            "label": "1990.0",
            "method": "animate"
           },
           {
            "args": [
             [
              "1868.0"
             ],
             {
              "frame": {
               "duration": 0,
               "redraw": true
              },
              "fromcurrent": true,
              "mode": "immediate",
              "transition": {
               "duration": 0,
               "easing": "linear"
              }
             }
            ],
            "label": "1868.0",
            "method": "animate"
           },
           {
            "args": [
             [
              "1993.0"
             ],
             {
              "frame": {
               "duration": 0,
               "redraw": true
              },
              "fromcurrent": true,
              "mode": "immediate",
              "transition": {
               "duration": 0,
               "easing": "linear"
              }
             }
            ],
            "label": "1993.0",
            "method": "animate"
           },
           {
            "args": [
             [
              "1977.0"
             ],
             {
              "frame": {
               "duration": 0,
               "redraw": true
              },
              "fromcurrent": true,
              "mode": "immediate",
              "transition": {
               "duration": 0,
               "easing": "linear"
              }
             }
            ],
            "label": "1977.0",
            "method": "animate"
           },
           {
            "args": [
             [
              "1978.0"
             ],
             {
              "frame": {
               "duration": 0,
               "redraw": true
              },
              "fromcurrent": true,
              "mode": "immediate",
              "transition": {
               "duration": 0,
               "easing": "linear"
              }
             }
            ],
            "label": "1978.0",
            "method": "animate"
           },
           {
            "args": [
             [
              "2002.0"
             ],
             {
              "frame": {
               "duration": 0,
               "redraw": true
              },
              "fromcurrent": true,
              "mode": "immediate",
              "transition": {
               "duration": 0,
               "easing": "linear"
              }
             }
            ],
            "label": "2002.0",
            "method": "animate"
           },
           {
            "args": [
             [
              "1809.0"
             ],
             {
              "frame": {
               "duration": 0,
               "redraw": true
              },
              "fromcurrent": true,
              "mode": "immediate",
              "transition": {
               "duration": 0,
               "easing": "linear"
              }
             }
            ],
            "label": "1809.0",
            "method": "animate"
           },
           {
            "args": [
             [
              "1968.0"
             ],
             {
              "frame": {
               "duration": 0,
               "redraw": true
              },
              "fromcurrent": true,
              "mode": "immediate",
              "transition": {
               "duration": 0,
               "easing": "linear"
              }
             }
            ],
            "label": "1968.0",
            "method": "animate"
           },
           {
            "args": [
             [
              "1970.0"
             ],
             {
              "frame": {
               "duration": 0,
               "redraw": true
              },
              "fromcurrent": true,
              "mode": "immediate",
              "transition": {
               "duration": 0,
               "easing": "linear"
              }
             }
            ],
            "label": "1970.0",
            "method": "animate"
           },
           {
            "args": [
             [
              "1917.0"
             ],
             {
              "frame": {
               "duration": 0,
               "redraw": true
              },
              "fromcurrent": true,
              "mode": "immediate",
              "transition": {
               "duration": 0,
               "easing": "linear"
              }
             }
            ],
            "label": "1917.0",
            "method": "animate"
           },
           {
            "args": [
             [
              "1789.0"
             ],
             {
              "frame": {
               "duration": 0,
               "redraw": true
              },
              "fromcurrent": true,
              "mode": "immediate",
              "transition": {
               "duration": 0,
               "easing": "linear"
              }
             }
            ],
            "label": "1789.0",
            "method": "animate"
           },
           {
            "args": [
             [
              "1965.0"
             ],
             {
              "frame": {
               "duration": 0,
               "redraw": true
              },
              "fromcurrent": true,
              "mode": "immediate",
              "transition": {
               "duration": 0,
               "easing": "linear"
              }
             }
            ],
            "label": "1965.0",
            "method": "animate"
           },
           {
            "args": [
             [
              "1957.0"
             ],
             {
              "frame": {
               "duration": 0,
               "redraw": true
              },
              "fromcurrent": true,
              "mode": "immediate",
              "transition": {
               "duration": 0,
               "easing": "linear"
              }
             }
            ],
            "label": "1957.0",
            "method": "animate"
           },
           {
            "args": [
             [
              "1974.0"
             ],
             {
              "frame": {
               "duration": 0,
               "redraw": true
              },
              "fromcurrent": true,
              "mode": "immediate",
              "transition": {
               "duration": 0,
               "easing": "linear"
              }
             }
            ],
            "label": "1974.0",
            "method": "animate"
           },
           {
            "args": [
             [
              "1804.0"
             ],
             {
              "frame": {
               "duration": 0,
               "redraw": true
              },
              "fromcurrent": true,
              "mode": "immediate",
              "transition": {
               "duration": 0,
               "easing": "linear"
              }
             }
            ],
            "label": "1804.0",
            "method": "animate"
           },
           {
            "args": [
             [
              "1950.0"
             ],
             {
              "frame": {
               "duration": 0,
               "redraw": true
              },
              "fromcurrent": true,
              "mode": "immediate",
              "transition": {
               "duration": 0,
               "easing": "linear"
              }
             }
            ],
            "label": "1950.0",
            "method": "animate"
           },
           {
            "args": [
             [
              "1947.0"
             ],
             {
              "frame": {
               "duration": 0,
               "redraw": true
              },
              "fromcurrent": true,
              "mode": "immediate",
              "transition": {
               "duration": 0,
               "easing": "linear"
              }
             }
            ],
            "label": "1947.0",
            "method": "animate"
           },
           {
            "args": [
             [
              "1945.0"
             ],
             {
              "frame": {
               "duration": 0,
               "redraw": true
              },
              "fromcurrent": true,
              "mode": "immediate",
              "transition": {
               "duration": 0,
               "easing": "linear"
              }
             }
            ],
            "label": "1945.0",
            "method": "animate"
           },
           {
            "args": [
             [
              "1979.0"
             ],
             {
              "frame": {
               "duration": 0,
               "redraw": true
              },
              "fromcurrent": true,
              "mode": "immediate",
              "transition": {
               "duration": 0,
               "easing": "linear"
              }
             }
            ],
            "label": "1979.0",
            "method": "animate"
           },
           {
            "args": [
             [
              "1932.0"
             ],
             {
              "frame": {
               "duration": 0,
               "redraw": true
              },
              "fromcurrent": true,
              "mode": "immediate",
              "transition": {
               "duration": 0,
               "easing": "linear"
              }
             }
            ],
            "label": "1932.0",
            "method": "animate"
           },
           {
            "args": [
             [
              "1916.0"
             ],
             {
              "frame": {
               "duration": 0,
               "redraw": true
              },
              "fromcurrent": true,
              "mode": "immediate",
              "transition": {
               "duration": 0,
               "easing": "linear"
              }
             }
            ],
            "label": "1916.0",
            "method": "animate"
           },
           {
            "args": [
             [
              "1948.0"
             ],
             {
              "frame": {
               "duration": 0,
               "redraw": true
              },
              "fromcurrent": true,
              "mode": "immediate",
              "transition": {
               "duration": 0,
               "easing": "linear"
              }
             }
            ],
            "label": "1948.0",
            "method": "animate"
           },
           {
            "args": [
             [
              "1946.0"
             ],
             {
              "frame": {
               "duration": 0,
               "redraw": true
              },
              "fromcurrent": true,
              "mode": "immediate",
              "transition": {
               "duration": 0,
               "easing": "linear"
              }
             }
            ],
            "label": "1946.0",
            "method": "animate"
           },
           {
            "args": [
             [
              "1963.0"
             ],
             {
              "frame": {
               "duration": 0,
               "redraw": true
              },
              "fromcurrent": true,
              "mode": "immediate",
              "transition": {
               "duration": 0,
               "easing": "linear"
              }
             }
            ],
            "label": "1963.0",
            "method": "animate"
           },
           {
            "args": [
             [
              "1961.0"
             ],
             {
              "frame": {
               "duration": 0,
               "redraw": true
              },
              "fromcurrent": true,
              "mode": "immediate",
              "transition": {
               "duration": 0,
               "easing": "linear"
              }
             }
            ],
            "label": "1961.0",
            "method": "animate"
           },
           {
            "args": [
             [
              "1943.0"
             ],
             {
              "frame": {
               "duration": 0,
               "redraw": true
              },
              "fromcurrent": true,
              "mode": "immediate",
              "transition": {
               "duration": 0,
               "easing": "linear"
              }
             }
            ],
            "label": "1943.0",
            "method": "animate"
           },
           {
            "args": [
             [
              "1847.0"
             ],
             {
              "frame": {
               "duration": 0,
               "redraw": true
              },
              "fromcurrent": true,
              "mode": "immediate",
              "transition": {
               "duration": 0,
               "easing": "linear"
              }
             }
            ],
            "label": "1847.0",
            "method": "animate"
           },
           {
            "args": [
             [
              "1951.0"
             ],
             {
              "frame": {
               "duration": 0,
               "redraw": true
              },
              "fromcurrent": true,
              "mode": "immediate",
              "transition": {
               "duration": 0,
               "easing": "linear"
              }
             }
            ],
            "label": "1951.0",
            "method": "animate"
           },
           {
            "args": [
             [
              "1964.0"
             ],
             {
              "frame": {
               "duration": 0,
               "redraw": true
              },
              "fromcurrent": true,
              "mode": "immediate",
              "transition": {
               "duration": 0,
               "easing": "linear"
              }
             }
            ],
            "label": "1964.0",
            "method": "animate"
           },
           {
            "args": [
             [
              "1986.0"
             ],
             {
              "frame": {
               "duration": 0,
               "redraw": true
              },
              "fromcurrent": true,
              "mode": "immediate",
              "transition": {
               "duration": 0,
               "easing": "linear"
              }
             }
            ],
            "label": "1986.0",
            "method": "animate"
           },
           {
            "args": [
             [
              "1911.0"
             ],
             {
              "frame": {
               "duration": 0,
               "redraw": true
              },
              "fromcurrent": true,
              "mode": "immediate",
              "transition": {
               "duration": 0,
               "easing": "linear"
              }
             }
            ],
            "label": "1911.0",
            "method": "animate"
           },
           {
            "args": [
             [
              "2006.0"
             ],
             {
              "frame": {
               "duration": 0,
               "redraw": true
              },
              "fromcurrent": true,
              "mode": "immediate",
              "transition": {
               "duration": 0,
               "easing": "linear"
              }
             }
            ],
            "label": "2006.0",
            "method": "animate"
           },
           {
            "args": [
             [
              "1581.0"
             ],
             {
              "frame": {
               "duration": 0,
               "redraw": true
              },
              "fromcurrent": true,
              "mode": "immediate",
              "transition": {
               "duration": 0,
               "easing": "linear"
              }
             }
            ],
            "label": "1581.0",
            "method": "animate"
           },
           {
            "args": [
             [
              "1814.0"
             ],
             {
              "frame": {
               "duration": 0,
               "redraw": true
              },
              "fromcurrent": true,
              "mode": "immediate",
              "transition": {
               "duration": 0,
               "easing": "linear"
              }
             }
            ],
            "label": "1814.0",
            "method": "animate"
           },
           {
            "args": [
             [
              "1905.0"
             ],
             {
              "frame": {
               "duration": 0,
               "redraw": true
              },
              "fromcurrent": true,
              "mode": "immediate",
              "transition": {
               "duration": 0,
               "easing": "linear"
              }
             }
            ],
            "label": "1905.0",
            "method": "animate"
           },
           {
            "args": [
             [
              "1650.0"
             ],
             {
              "frame": {
               "duration": 0,
               "redraw": true
              },
              "fromcurrent": true,
              "mode": "immediate",
              "transition": {
               "duration": 0,
               "easing": "linear"
              }
             }
            ],
            "label": "1650.0",
            "method": "animate"
           },
           {
            "args": [
             [
              "1988.0"
             ],
             {
              "frame": {
               "duration": 0,
               "redraw": true
              },
              "fromcurrent": true,
              "mode": "immediate",
              "transition": {
               "duration": 0,
               "easing": "linear"
              }
             }
            ],
            "label": "1988.0",
            "method": "animate"
           },
           {
            "args": [
             [
              "1903.0"
             ],
             {
              "frame": {
               "duration": 0,
               "redraw": true
              },
              "fromcurrent": true,
              "mode": "immediate",
              "transition": {
               "duration": 0,
               "easing": "linear"
              }
             }
            ],
            "label": "1903.0",
            "method": "animate"
           },
           {
            "args": [
             [
              "1811.0"
             ],
             {
              "frame": {
               "duration": 0,
               "redraw": true
              },
              "fromcurrent": true,
              "mode": "immediate",
              "transition": {
               "duration": 0,
               "easing": "linear"
              }
             }
            ],
            "label": "1811.0",
            "method": "animate"
           },
           {
            "args": [
             [
              "1898.0"
             ],
             {
              "frame": {
               "duration": 0,
               "redraw": true
              },
              "fromcurrent": true,
              "mode": "immediate",
              "transition": {
               "duration": 0,
               "easing": "linear"
              }
             }
            ],
            "label": "1898.0",
            "method": "animate"
           },
           {
            "args": [
             [
              "1640.0"
             ],
             {
              "frame": {
               "duration": 0,
               "redraw": true
              },
              "fromcurrent": true,
              "mode": "immediate",
              "transition": {
               "duration": 0,
               "easing": "linear"
              }
             }
            ],
            "label": "1640.0",
            "method": "animate"
           },
           {
            "args": [
             [
              "1877.0"
             ],
             {
              "frame": {
               "duration": 0,
               "redraw": true
              },
              "fromcurrent": true,
              "mode": "immediate",
              "transition": {
               "duration": 0,
               "easing": "linear"
              }
             }
            ],
            "label": "1877.0",
            "method": "animate"
           },
           {
            "args": [
             [
              "1983.0"
             ],
             {
              "frame": {
               "duration": 0,
               "redraw": true
              },
              "fromcurrent": true,
              "mode": "immediate",
              "transition": {
               "duration": 0,
               "easing": "linear"
              }
             }
            ],
            "label": "1983.0",
            "method": "animate"
           },
           {
            "args": [
             [
              "1976.0"
             ],
             {
              "frame": {
               "duration": 0,
               "redraw": true
              },
              "fromcurrent": true,
              "mode": "immediate",
              "transition": {
               "duration": 0,
               "easing": "linear"
              }
             }
            ],
            "label": "1976.0",
            "method": "animate"
           },
           {
            "args": [
             [
              "1931.0"
             ],
             {
              "frame": {
               "duration": 0,
               "redraw": true
              },
              "fromcurrent": true,
              "mode": "immediate",
              "transition": {
               "duration": 0,
               "easing": "linear"
              }
             }
            ],
            "label": "1931.0",
            "method": "animate"
           },
           {
            "args": [
             [
              "2011.0"
             ],
             {
              "frame": {
               "duration": 0,
               "redraw": true
              },
              "fromcurrent": true,
              "mode": "immediate",
              "transition": {
               "duration": 0,
               "easing": "linear"
              }
             }
            ],
            "label": "2011.0",
            "method": "animate"
           },
           {
            "args": [
             [
              "1956.0"
             ],
             {
              "frame": {
               "duration": 0,
               "redraw": true
              },
              "fromcurrent": true,
              "mode": "immediate",
              "transition": {
               "duration": 0,
               "easing": "linear"
              }
             }
            ],
            "label": "1956.0",
            "method": "animate"
           },
           {
            "args": [
             [
              "1523.0"
             ],
             {
              "frame": {
               "duration": 0,
               "redraw": true
              },
              "fromcurrent": true,
              "mode": "immediate",
              "transition": {
               "duration": 0,
               "easing": "linear"
              }
             }
            ],
            "label": "1523.0",
            "method": "animate"
           },
           {
            "args": [
             [
              "1291.0"
             ],
             {
              "frame": {
               "duration": 0,
               "redraw": true
              },
              "fromcurrent": true,
              "mode": "immediate",
              "transition": {
               "duration": 0,
               "easing": "linear"
              }
             }
            ],
            "label": "1291.0",
            "method": "animate"
           },
           {
            "args": [
             [
              "1776.0"
             ],
             {
              "frame": {
               "duration": 0,
               "redraw": true
              },
              "fromcurrent": true,
              "mode": "immediate",
              "transition": {
               "duration": 0,
               "easing": "linear"
              }
             }
            ],
            "label": "1776.0",
            "method": "animate"
           },
           {
            "args": [
             [
              "1980.0"
             ],
             {
              "frame": {
               "duration": 0,
               "redraw": true
              },
              "fromcurrent": true,
              "mode": "immediate",
              "transition": {
               "duration": 0,
               "easing": "linear"
              }
             }
            ],
            "label": "1980.0",
            "method": "animate"
           },
           {
            "args": [
             [
              "1967.0"
             ],
             {
              "frame": {
               "duration": 0,
               "redraw": true
              },
              "fromcurrent": true,
              "mode": "immediate",
              "transition": {
               "duration": 0,
               "easing": "linear"
              }
             }
            ],
            "label": "1967.0",
            "method": "animate"
           }
          ],
          "x": 0.1,
          "xanchor": "left",
          "y": 0,
          "yanchor": "top"
         }
        ],
        "template": {
         "data": {
          "bar": [
           {
            "error_x": {
             "color": "#2a3f5f"
            },
            "error_y": {
             "color": "#2a3f5f"
            },
            "marker": {
             "line": {
              "color": "#E5ECF6",
              "width": 0.5
             }
            },
            "type": "bar"
           }
          ],
          "barpolar": [
           {
            "marker": {
             "line": {
              "color": "#E5ECF6",
              "width": 0.5
             }
            },
            "type": "barpolar"
           }
          ],
          "carpet": [
           {
            "aaxis": {
             "endlinecolor": "#2a3f5f",
             "gridcolor": "white",
             "linecolor": "white",
             "minorgridcolor": "white",
             "startlinecolor": "#2a3f5f"
            },
            "baxis": {
             "endlinecolor": "#2a3f5f",
             "gridcolor": "white",
             "linecolor": "white",
             "minorgridcolor": "white",
             "startlinecolor": "#2a3f5f"
            },
            "type": "carpet"
           }
          ],
          "choropleth": [
           {
            "colorbar": {
             "outlinewidth": 0,
             "ticks": ""
            },
            "type": "choropleth"
           }
          ],
          "contour": [
           {
            "colorbar": {
             "outlinewidth": 0,
             "ticks": ""
            },
            "colorscale": [
             [
              0,
              "#0d0887"
             ],
             [
              0.1111111111111111,
              "#46039f"
             ],
             [
              0.2222222222222222,
              "#7201a8"
             ],
             [
              0.3333333333333333,
              "#9c179e"
             ],
             [
              0.4444444444444444,
              "#bd3786"
             ],
             [
              0.5555555555555556,
              "#d8576b"
             ],
             [
              0.6666666666666666,
              "#ed7953"
             ],
             [
              0.7777777777777778,
              "#fb9f3a"
             ],
             [
              0.8888888888888888,
              "#fdca26"
             ],
             [
              1,
              "#f0f921"
             ]
            ],
            "type": "contour"
           }
          ],
          "contourcarpet": [
           {
            "colorbar": {
             "outlinewidth": 0,
             "ticks": ""
            },
            "type": "contourcarpet"
           }
          ],
          "heatmap": [
           {
            "colorbar": {
             "outlinewidth": 0,
             "ticks": ""
            },
            "colorscale": [
             [
              0,
              "#0d0887"
             ],
             [
              0.1111111111111111,
              "#46039f"
             ],
             [
              0.2222222222222222,
              "#7201a8"
             ],
             [
              0.3333333333333333,
              "#9c179e"
             ],
             [
              0.4444444444444444,
              "#bd3786"
             ],
             [
              0.5555555555555556,
              "#d8576b"
             ],
             [
              0.6666666666666666,
              "#ed7953"
             ],
             [
              0.7777777777777778,
              "#fb9f3a"
             ],
             [
              0.8888888888888888,
              "#fdca26"
             ],
             [
              1,
              "#f0f921"
             ]
            ],
            "type": "heatmap"
           }
          ],
          "heatmapgl": [
           {
            "colorbar": {
             "outlinewidth": 0,
             "ticks": ""
            },
            "colorscale": [
             [
              0,
              "#0d0887"
             ],
             [
              0.1111111111111111,
              "#46039f"
             ],
             [
              0.2222222222222222,
              "#7201a8"
             ],
             [
              0.3333333333333333,
              "#9c179e"
             ],
             [
              0.4444444444444444,
              "#bd3786"
             ],
             [
              0.5555555555555556,
              "#d8576b"
             ],
             [
              0.6666666666666666,
              "#ed7953"
             ],
             [
              0.7777777777777778,
              "#fb9f3a"
             ],
             [
              0.8888888888888888,
              "#fdca26"
             ],
             [
              1,
              "#f0f921"
             ]
            ],
            "type": "heatmapgl"
           }
          ],
          "histogram": [
           {
            "marker": {
             "colorbar": {
              "outlinewidth": 0,
              "ticks": ""
             }
            },
            "type": "histogram"
           }
          ],
          "histogram2d": [
           {
            "colorbar": {
             "outlinewidth": 0,
             "ticks": ""
            },
            "colorscale": [
             [
              0,
              "#0d0887"
             ],
             [
              0.1111111111111111,
              "#46039f"
             ],
             [
              0.2222222222222222,
              "#7201a8"
             ],
             [
              0.3333333333333333,
              "#9c179e"
             ],
             [
              0.4444444444444444,
              "#bd3786"
             ],
             [
              0.5555555555555556,
              "#d8576b"
             ],
             [
              0.6666666666666666,
              "#ed7953"
             ],
             [
              0.7777777777777778,
              "#fb9f3a"
             ],
             [
              0.8888888888888888,
              "#fdca26"
             ],
             [
              1,
              "#f0f921"
             ]
            ],
            "type": "histogram2d"
           }
          ],
          "histogram2dcontour": [
           {
            "colorbar": {
             "outlinewidth": 0,
             "ticks": ""
            },
            "colorscale": [
             [
              0,
              "#0d0887"
             ],
             [
              0.1111111111111111,
              "#46039f"
             ],
             [
              0.2222222222222222,
              "#7201a8"
             ],
             [
              0.3333333333333333,
              "#9c179e"
             ],
             [
              0.4444444444444444,
              "#bd3786"
             ],
             [
              0.5555555555555556,
              "#d8576b"
             ],
             [
              0.6666666666666666,
              "#ed7953"
             ],
             [
              0.7777777777777778,
              "#fb9f3a"
             ],
             [
              0.8888888888888888,
              "#fdca26"
             ],
             [
              1,
              "#f0f921"
             ]
            ],
            "type": "histogram2dcontour"
           }
          ],
          "mesh3d": [
           {
            "colorbar": {
             "outlinewidth": 0,
             "ticks": ""
            },
            "type": "mesh3d"
           }
          ],
          "parcoords": [
           {
            "line": {
             "colorbar": {
              "outlinewidth": 0,
              "ticks": ""
             }
            },
            "type": "parcoords"
           }
          ],
          "pie": [
           {
            "automargin": true,
            "type": "pie"
           }
          ],
          "scatter": [
           {
            "marker": {
             "colorbar": {
              "outlinewidth": 0,
              "ticks": ""
             }
            },
            "type": "scatter"
           }
          ],
          "scatter3d": [
           {
            "line": {
             "colorbar": {
              "outlinewidth": 0,
              "ticks": ""
             }
            },
            "marker": {
             "colorbar": {
              "outlinewidth": 0,
              "ticks": ""
             }
            },
            "type": "scatter3d"
           }
          ],
          "scattercarpet": [
           {
            "marker": {
             "colorbar": {
              "outlinewidth": 0,
              "ticks": ""
             }
            },
            "type": "scattercarpet"
           }
          ],
          "scattergeo": [
           {
            "marker": {
             "colorbar": {
              "outlinewidth": 0,
              "ticks": ""
             }
            },
            "type": "scattergeo"
           }
          ],
          "scattergl": [
           {
            "marker": {
             "colorbar": {
              "outlinewidth": 0,
              "ticks": ""
             }
            },
            "type": "scattergl"
           }
          ],
          "scattermapbox": [
           {
            "marker": {
             "colorbar": {
              "outlinewidth": 0,
              "ticks": ""
             }
            },
            "type": "scattermapbox"
           }
          ],
          "scatterpolar": [
           {
            "marker": {
             "colorbar": {
              "outlinewidth": 0,
              "ticks": ""
             }
            },
            "type": "scatterpolar"
           }
          ],
          "scatterpolargl": [
           {
            "marker": {
             "colorbar": {
              "outlinewidth": 0,
              "ticks": ""
             }
            },
            "type": "scatterpolargl"
           }
          ],
          "scatterternary": [
           {
            "marker": {
             "colorbar": {
              "outlinewidth": 0,
              "ticks": ""
             }
            },
            "type": "scatterternary"
           }
          ],
          "surface": [
           {
            "colorbar": {
             "outlinewidth": 0,
             "ticks": ""
            },
            "colorscale": [
             [
              0,
              "#0d0887"
             ],
             [
              0.1111111111111111,
              "#46039f"
             ],
             [
              0.2222222222222222,
              "#7201a8"
             ],
             [
              0.3333333333333333,
              "#9c179e"
             ],
             [
              0.4444444444444444,
              "#bd3786"
             ],
             [
              0.5555555555555556,
              "#d8576b"
             ],
             [
              0.6666666666666666,
              "#ed7953"
             ],
             [
              0.7777777777777778,
              "#fb9f3a"
             ],
             [
              0.8888888888888888,
              "#fdca26"
             ],
             [
              1,
              "#f0f921"
             ]
            ],
            "type": "surface"
           }
          ],
          "table": [
           {
            "cells": {
             "fill": {
              "color": "#EBF0F8"
             },
             "line": {
              "color": "white"
             }
            },
            "header": {
             "fill": {
              "color": "#C8D4E3"
             },
             "line": {
              "color": "white"
             }
            },
            "type": "table"
           }
          ]
         },
         "layout": {
          "annotationdefaults": {
           "arrowcolor": "#2a3f5f",
           "arrowhead": 0,
           "arrowwidth": 1
          },
          "autotypenumbers": "strict",
          "coloraxis": {
           "colorbar": {
            "outlinewidth": 0,
            "ticks": ""
           }
          },
          "colorscale": {
           "diverging": [
            [
             0,
             "#8e0152"
            ],
            [
             0.1,
             "#c51b7d"
            ],
            [
             0.2,
             "#de77ae"
            ],
            [
             0.3,
             "#f1b6da"
            ],
            [
             0.4,
             "#fde0ef"
            ],
            [
             0.5,
             "#f7f7f7"
            ],
            [
             0.6,
             "#e6f5d0"
            ],
            [
             0.7,
             "#b8e186"
            ],
            [
             0.8,
             "#7fbc41"
            ],
            [
             0.9,
             "#4d9221"
            ],
            [
             1,
             "#276419"
            ]
           ],
           "sequential": [
            [
             0,
             "#0d0887"
            ],
            [
             0.1111111111111111,
             "#46039f"
            ],
            [
             0.2222222222222222,
             "#7201a8"
            ],
            [
             0.3333333333333333,
             "#9c179e"
            ],
            [
             0.4444444444444444,
             "#bd3786"
            ],
            [
             0.5555555555555556,
             "#d8576b"
            ],
            [
             0.6666666666666666,
             "#ed7953"
            ],
            [
             0.7777777777777778,
             "#fb9f3a"
            ],
            [
             0.8888888888888888,
             "#fdca26"
            ],
            [
             1,
             "#f0f921"
            ]
           ],
           "sequentialminus": [
            [
             0,
             "#0d0887"
            ],
            [
             0.1111111111111111,
             "#46039f"
            ],
            [
             0.2222222222222222,
             "#7201a8"
            ],
            [
             0.3333333333333333,
             "#9c179e"
            ],
            [
             0.4444444444444444,
             "#bd3786"
            ],
            [
             0.5555555555555556,
             "#d8576b"
            ],
            [
             0.6666666666666666,
             "#ed7953"
            ],
            [
             0.7777777777777778,
             "#fb9f3a"
            ],
            [
             0.8888888888888888,
             "#fdca26"
            ],
            [
             1,
             "#f0f921"
            ]
           ]
          },
          "colorway": [
           "#636efa",
           "#EF553B",
           "#00cc96",
           "#ab63fa",
           "#FFA15A",
           "#19d3f3",
           "#FF6692",
           "#B6E880",
           "#FF97FF",
           "#FECB52"
          ],
          "font": {
           "color": "#2a3f5f"
          },
          "geo": {
           "bgcolor": "white",
           "lakecolor": "white",
           "landcolor": "#E5ECF6",
           "showlakes": true,
           "showland": true,
           "subunitcolor": "white"
          },
          "hoverlabel": {
           "align": "left"
          },
          "hovermode": "closest",
          "mapbox": {
           "style": "light"
          },
          "paper_bgcolor": "white",
          "plot_bgcolor": "#E5ECF6",
          "polar": {
           "angularaxis": {
            "gridcolor": "white",
            "linecolor": "white",
            "ticks": ""
           },
           "bgcolor": "#E5ECF6",
           "radialaxis": {
            "gridcolor": "white",
            "linecolor": "white",
            "ticks": ""
           }
          },
          "scene": {
           "xaxis": {
            "backgroundcolor": "#E5ECF6",
            "gridcolor": "white",
            "gridwidth": 2,
            "linecolor": "white",
            "showbackground": true,
            "ticks": "",
            "zerolinecolor": "white"
           },
           "yaxis": {
            "backgroundcolor": "#E5ECF6",
            "gridcolor": "white",
            "gridwidth": 2,
            "linecolor": "white",
            "showbackground": true,
            "ticks": "",
            "zerolinecolor": "white"
           },
           "zaxis": {
            "backgroundcolor": "#E5ECF6",
            "gridcolor": "white",
            "gridwidth": 2,
            "linecolor": "white",
            "showbackground": true,
            "ticks": "",
            "zerolinecolor": "white"
           }
          },
          "shapedefaults": {
           "line": {
            "color": "#2a3f5f"
           }
          },
          "ternary": {
           "aaxis": {
            "gridcolor": "white",
            "linecolor": "white",
            "ticks": ""
           },
           "baxis": {
            "gridcolor": "white",
            "linecolor": "white",
            "ticks": ""
           },
           "bgcolor": "#E5ECF6",
           "caxis": {
            "gridcolor": "white",
            "linecolor": "white",
            "ticks": ""
           }
          },
          "title": {
           "x": 0.05
          },
          "xaxis": {
           "automargin": true,
           "gridcolor": "white",
           "linecolor": "white",
           "ticks": "",
           "title": {
            "standoff": 15
           },
           "zerolinecolor": "white",
           "zerolinewidth": 2
          },
          "yaxis": {
           "automargin": true,
           "gridcolor": "white",
           "linecolor": "white",
           "ticks": "",
           "title": {
            "standoff": 15
           },
           "zerolinecolor": "white",
           "zerolinewidth": 2
          }
         }
        },
        "title": {
         "text": "Crime by State"
        },
        "updatemenus": [
         {
          "buttons": [
           {
            "args": [
             null,
             {
              "frame": {
               "duration": 500,
               "redraw": true
              },
              "fromcurrent": true,
              "mode": "immediate",
              "transition": {
               "duration": 500,
               "easing": "linear"
              }
             }
            ],
            "label": "&#9654;",
            "method": "animate"
           },
           {
            "args": [
             [
              null
             ],
             {
              "frame": {
               "duration": 0,
               "redraw": true
              },
              "fromcurrent": true,
              "mode": "immediate",
              "transition": {
               "duration": 0,
               "easing": "linear"
              }
             }
            ],
            "label": "&#9724;",
            "method": "animate"
           }
          ],
          "direction": "left",
          "pad": {
           "r": 10,
           "t": 70
          },
          "showactive": false,
          "type": "buttons",
          "x": 0.1,
          "xanchor": "right",
          "y": 0,
          "yanchor": "top"
         }
        ]
       }
      }
     },
     "metadata": {},
     "output_type": "display_data"
    }
   ],
   "source": [
    "px.choropleth(a, \n",
    "              locations = 'country',\n",
    "              color=\"independence_from\", \n",
    "              animation_frame=\"year\",\n",
    "              color_continuous_scale=\"Inferno\",\n",
    "            #  locationmode='USA-states',\n",
    "             # scope=\"usa\",\n",
    "              range_color=(0, 20),\n",
    "              title='Crime by State',\n",
    "              height=600\n",
    "             )"
   ]
  }
 ],
 "metadata": {
  "interpreter": {
   "hash": "5752678d7f8bf2f9025b7583bc8bc045cfa703db6e2ec6c1e574ff04808384ee"
  },
  "kernelspec": {
   "display_name": "Python 3.7.6 64-bit ('project_env': venv)",
   "name": "python3"
  },
  "language_info": {
   "codemirror_mode": {
    "name": "ipython",
    "version": 3
   },
   "file_extension": ".py",
   "mimetype": "text/x-python",
   "name": "python",
   "nbconvert_exporter": "python",
   "pygments_lexer": "ipython3",
   "version": "3.7.6"
  },
  "orig_nbformat": 4
 },
 "nbformat": 4,
 "nbformat_minor": 2
}
