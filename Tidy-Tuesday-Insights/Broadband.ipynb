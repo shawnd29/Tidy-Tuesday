{
 "cells": [
  {
   "cell_type": "markdown",
   "metadata": {},
   "source": [
    "2021-05-11 <br/>\n",
    "US Broadband <br/>\n",
    "https://github.com/rfordatascience/tidytuesday/blob/master/data/2021/2021-05-11/readme.md"
   ]
  },
  {
   "cell_type": "markdown",
   "id": "f0fcf2c9",
   "metadata": {},
   "source": [
    "Modified RapidInsights EDA - Completed <br/>\n",
    "Choropleth map (hidden) - Completed <br/>\n"
   ]
  },
  {
   "cell_type": "code",
   "execution_count": 1,
   "metadata": {},
   "outputs": [],
   "source": [
    "\n",
    "#imports and basic outlines\n",
    "\n",
    "import pandas as pd\n",
    "import matplotlib.pyplot as plt \n",
    "\n",
    "import seaborn as sns\n",
    "\n",
    "\n",
    "%matplotlib inline\n",
    "\n",
    "\n"
   ]
  },
  {
   "cell_type": "code",
   "execution_count": 2,
   "metadata": {},
   "outputs": [],
   "source": [
    "pd.set_option('display.max_rows', 200)\n",
    "pd.set_option('display.max_columns', 150)\n",
    "pd.set_option('display.max_colwidth', 200)\n",
    "\n",
    "import warnings\n",
    "warnings.filterwarnings(\"ignore\")\n",
    "\n",
    "import plotly.express as px\n",
    "import plotly.graph_objs as go\n",
    "from plotly.subplots import make_subplots\n",
    "import plotly.io as pio\n",
    "\n",
    "from IPython.display import HTML"
   ]
  },
  {
   "cell_type": "code",
   "execution_count": 3,
   "metadata": {},
   "outputs": [],
   "source": [
    "#pio.templates['plotly_dark'].layout.colorway = ('#0840D9','#882775','#00A34C','#B86200','#AA250E','#1D8682')"
   ]
  },
  {
   "cell_type": "markdown",
   "metadata": {},
   "source": [
    "### Read the data"
   ]
  },
  {
   "cell_type": "code",
   "execution_count": 4,
   "metadata": {},
   "outputs": [],
   "source": [
    "df_broadband=pd.read_csv(\"https://raw.githubusercontent.com/rfordatascience/tidytuesday/master/data/2021/2021-05-11/broadband.csv\")"
   ]
  },
  {
   "cell_type": "code",
   "execution_count": 5,
   "metadata": {},
   "outputs": [
    {
     "data": {
      "text/html": [
       "<div>\n",
       "<style scoped>\n",
       "    .dataframe tbody tr th:only-of-type {\n",
       "        vertical-align: middle;\n",
       "    }\n",
       "\n",
       "    .dataframe tbody tr th {\n",
       "        vertical-align: top;\n",
       "    }\n",
       "\n",
       "    .dataframe thead th {\n",
       "        text-align: right;\n",
       "    }\n",
       "</style>\n",
       "<table border=\"1\" class=\"dataframe\">\n",
       "  <thead>\n",
       "    <tr style=\"text-align: right;\">\n",
       "      <th></th>\n",
       "      <th>ST</th>\n",
       "      <th>COUNTY ID</th>\n",
       "      <th>COUNTY NAME</th>\n",
       "      <th>BROADBAND AVAILABILITY PER FCC</th>\n",
       "      <th>BROADBAND USAGE</th>\n",
       "    </tr>\n",
       "  </thead>\n",
       "  <tbody>\n",
       "    <tr>\n",
       "      <th>0</th>\n",
       "      <td>AL</td>\n",
       "      <td>1001</td>\n",
       "      <td>Autauga County</td>\n",
       "      <td>0.81</td>\n",
       "      <td>0.28</td>\n",
       "    </tr>\n",
       "    <tr>\n",
       "      <th>1</th>\n",
       "      <td>AL</td>\n",
       "      <td>1003</td>\n",
       "      <td>Baldwin County</td>\n",
       "      <td>0.88</td>\n",
       "      <td>0.30</td>\n",
       "    </tr>\n",
       "    <tr>\n",
       "      <th>2</th>\n",
       "      <td>AL</td>\n",
       "      <td>1005</td>\n",
       "      <td>Barbour County</td>\n",
       "      <td>0.59</td>\n",
       "      <td>0.18</td>\n",
       "    </tr>\n",
       "    <tr>\n",
       "      <th>3</th>\n",
       "      <td>AL</td>\n",
       "      <td>1007</td>\n",
       "      <td>Bibb County</td>\n",
       "      <td>0.29</td>\n",
       "      <td>0.07</td>\n",
       "    </tr>\n",
       "    <tr>\n",
       "      <th>4</th>\n",
       "      <td>AL</td>\n",
       "      <td>1009</td>\n",
       "      <td>Blount County</td>\n",
       "      <td>0.69</td>\n",
       "      <td>0.09</td>\n",
       "    </tr>\n",
       "  </tbody>\n",
       "</table>\n",
       "</div>"
      ],
      "text/plain": [
       "   ST  COUNTY ID     COUNTY NAME BROADBAND AVAILABILITY PER FCC  \\\n",
       "0  AL       1001  Autauga County                           0.81   \n",
       "1  AL       1003  Baldwin County                           0.88   \n",
       "2  AL       1005  Barbour County                           0.59   \n",
       "3  AL       1007     Bibb County                           0.29   \n",
       "4  AL       1009   Blount County                           0.69   \n",
       "\n",
       "  BROADBAND USAGE  \n",
       "0            0.28  \n",
       "1            0.30  \n",
       "2            0.18  \n",
       "3            0.07  \n",
       "4            0.09  "
      ]
     },
     "execution_count": 5,
     "metadata": {},
     "output_type": "execute_result"
    }
   ],
   "source": [
    "df_broadband.head()"
   ]
  },
  {
   "cell_type": "code",
   "execution_count": 6,
   "id": "570fc4e4",
   "metadata": {},
   "outputs": [],
   "source": [
    "#df_broadband.memory_usage(index=True).sum()"
   ]
  },
  {
   "cell_type": "code",
   "execution_count": 7,
   "metadata": {},
   "outputs": [],
   "source": [
    "df_broadband_zip=pd.read_csv(\"https://raw.githubusercontent.com/rfordatascience/tidytuesday/master/data/2021/2021-05-11/broadband_zip.csv\")"
   ]
  },
  {
   "cell_type": "code",
   "execution_count": 8,
   "metadata": {},
   "outputs": [
    {
     "data": {
      "text/html": [
       "<div>\n",
       "<style scoped>\n",
       "    .dataframe tbody tr th:only-of-type {\n",
       "        vertical-align: middle;\n",
       "    }\n",
       "\n",
       "    .dataframe tbody tr th {\n",
       "        vertical-align: top;\n",
       "    }\n",
       "\n",
       "    .dataframe thead th {\n",
       "        text-align: right;\n",
       "    }\n",
       "</style>\n",
       "<table border=\"1\" class=\"dataframe\">\n",
       "  <thead>\n",
       "    <tr style=\"text-align: right;\">\n",
       "      <th></th>\n",
       "      <th>ST</th>\n",
       "      <th>COUNTY NAME</th>\n",
       "      <th>COUNTY ID</th>\n",
       "      <th>POSTAL CODE</th>\n",
       "      <th>BROADBAND USAGE</th>\n",
       "      <th>ERROR RANGE (MAE)(+/-)</th>\n",
       "      <th>ERROR RANGE (95%)(+/-)</th>\n",
       "      <th>MSD</th>\n",
       "    </tr>\n",
       "  </thead>\n",
       "  <tbody>\n",
       "    <tr>\n",
       "      <th>0</th>\n",
       "      <td>SC</td>\n",
       "      <td>Abbeville</td>\n",
       "      <td>45001</td>\n",
       "      <td>29639</td>\n",
       "      <td>0.948</td>\n",
       "      <td>0.034</td>\n",
       "      <td>0.110</td>\n",
       "      <td>0.002</td>\n",
       "    </tr>\n",
       "    <tr>\n",
       "      <th>1</th>\n",
       "      <td>SC</td>\n",
       "      <td>Abbeville</td>\n",
       "      <td>45001</td>\n",
       "      <td>29620</td>\n",
       "      <td>0.398</td>\n",
       "      <td>0.002</td>\n",
       "      <td>0.007</td>\n",
       "      <td>0.000</td>\n",
       "    </tr>\n",
       "    <tr>\n",
       "      <th>2</th>\n",
       "      <td>SC</td>\n",
       "      <td>Abbeville</td>\n",
       "      <td>45001</td>\n",
       "      <td>29659</td>\n",
       "      <td>0.206</td>\n",
       "      <td>0.152</td>\n",
       "      <td>0.608</td>\n",
       "      <td>0.043</td>\n",
       "    </tr>\n",
       "    <tr>\n",
       "      <th>3</th>\n",
       "      <td>SC</td>\n",
       "      <td>Abbeville</td>\n",
       "      <td>45001</td>\n",
       "      <td>29638</td>\n",
       "      <td>0.369</td>\n",
       "      <td>0.010</td>\n",
       "      <td>0.031</td>\n",
       "      <td>-0.001</td>\n",
       "    </tr>\n",
       "    <tr>\n",
       "      <th>4</th>\n",
       "      <td>SC</td>\n",
       "      <td>Abbeville</td>\n",
       "      <td>45001</td>\n",
       "      <td>29628</td>\n",
       "      <td>0.221</td>\n",
       "      <td>0.014</td>\n",
       "      <td>0.043</td>\n",
       "      <td>0.000</td>\n",
       "    </tr>\n",
       "  </tbody>\n",
       "</table>\n",
       "</div>"
      ],
      "text/plain": [
       "   ST COUNTY NAME  COUNTY ID  POSTAL CODE  BROADBAND USAGE  \\\n",
       "0  SC   Abbeville      45001        29639            0.948   \n",
       "1  SC   Abbeville      45001        29620            0.398   \n",
       "2  SC   Abbeville      45001        29659            0.206   \n",
       "3  SC   Abbeville      45001        29638            0.369   \n",
       "4  SC   Abbeville      45001        29628            0.221   \n",
       "\n",
       "   ERROR RANGE (MAE)(+/-)  ERROR RANGE (95%)(+/-)    MSD  \n",
       "0                   0.034                   0.110  0.002  \n",
       "1                   0.002                   0.007  0.000  \n",
       "2                   0.152                   0.608  0.043  \n",
       "3                   0.010                   0.031 -0.001  \n",
       "4                   0.014                   0.043  0.000  "
      ]
     },
     "execution_count": 8,
     "metadata": {},
     "output_type": "execute_result"
    }
   ],
   "source": [
    "df_broadband_zip.head()"
   ]
  },
  {
   "cell_type": "code",
   "execution_count": 9,
   "id": "d00c3cc0",
   "metadata": {},
   "outputs": [],
   "source": [
    "# df_broadband_zip.memory_usage(index=True).sum()"
   ]
  },
  {
   "cell_type": "code",
   "execution_count": 10,
   "metadata": {},
   "outputs": [
    {
     "data": {
      "text/html": [
       "<div>\n",
       "<style scoped>\n",
       "    .dataframe tbody tr th:only-of-type {\n",
       "        vertical-align: middle;\n",
       "    }\n",
       "\n",
       "    .dataframe tbody tr th {\n",
       "        vertical-align: top;\n",
       "    }\n",
       "\n",
       "    .dataframe thead th {\n",
       "        text-align: right;\n",
       "    }\n",
       "</style>\n",
       "<table border=\"1\" class=\"dataframe\">\n",
       "  <thead>\n",
       "    <tr style=\"text-align: right;\">\n",
       "      <th></th>\n",
       "      <th>type</th>\n",
       "      <th>features</th>\n",
       "    </tr>\n",
       "  </thead>\n",
       "  <tbody>\n",
       "    <tr>\n",
       "      <th>0</th>\n",
       "      <td>FeatureCollection</td>\n",
       "      <td>{'type': 'Feature', 'properties': {'GEO_ID': '0500000US01001', 'STATE': '01', 'COUNTY': '001', 'NAME': 'Autauga', 'LSAD': 'County', 'CENSUSAREA': 594.436}, 'geometry': {'type': 'Polygon', 'coordin...</td>\n",
       "    </tr>\n",
       "    <tr>\n",
       "      <th>1</th>\n",
       "      <td>FeatureCollection</td>\n",
       "      <td>{'type': 'Feature', 'properties': {'GEO_ID': '0500000US01009', 'STATE': '01', 'COUNTY': '009', 'NAME': 'Blount', 'LSAD': 'County', 'CENSUSAREA': 644.776}, 'geometry': {'type': 'Polygon', 'coordina...</td>\n",
       "    </tr>\n",
       "    <tr>\n",
       "      <th>2</th>\n",
       "      <td>FeatureCollection</td>\n",
       "      <td>{'type': 'Feature', 'properties': {'GEO_ID': '0500000US01017', 'STATE': '01', 'COUNTY': '017', 'NAME': 'Chambers', 'LSAD': 'County', 'CENSUSAREA': 596.531}, 'geometry': {'type': 'Polygon', 'coordi...</td>\n",
       "    </tr>\n",
       "    <tr>\n",
       "      <th>3</th>\n",
       "      <td>FeatureCollection</td>\n",
       "      <td>{'type': 'Feature', 'properties': {'GEO_ID': '0500000US01021', 'STATE': '01', 'COUNTY': '021', 'NAME': 'Chilton', 'LSAD': 'County', 'CENSUSAREA': 692.854}, 'geometry': {'type': 'Polygon', 'coordin...</td>\n",
       "    </tr>\n",
       "    <tr>\n",
       "      <th>4</th>\n",
       "      <td>FeatureCollection</td>\n",
       "      <td>{'type': 'Feature', 'properties': {'GEO_ID': '0500000US01033', 'STATE': '01', 'COUNTY': '033', 'NAME': 'Colbert', 'LSAD': 'County', 'CENSUSAREA': 592.619}, 'geometry': {'type': 'Polygon', 'coordin...</td>\n",
       "    </tr>\n",
       "  </tbody>\n",
       "</table>\n",
       "</div>"
      ],
      "text/plain": [
       "                type  \\\n",
       "0  FeatureCollection   \n",
       "1  FeatureCollection   \n",
       "2  FeatureCollection   \n",
       "3  FeatureCollection   \n",
       "4  FeatureCollection   \n",
       "\n",
       "                                                                                                                                                                                                  features  \n",
       "0  {'type': 'Feature', 'properties': {'GEO_ID': '0500000US01001', 'STATE': '01', 'COUNTY': '001', 'NAME': 'Autauga', 'LSAD': 'County', 'CENSUSAREA': 594.436}, 'geometry': {'type': 'Polygon', 'coordin...  \n",
       "1  {'type': 'Feature', 'properties': {'GEO_ID': '0500000US01009', 'STATE': '01', 'COUNTY': '009', 'NAME': 'Blount', 'LSAD': 'County', 'CENSUSAREA': 644.776}, 'geometry': {'type': 'Polygon', 'coordina...  \n",
       "2  {'type': 'Feature', 'properties': {'GEO_ID': '0500000US01017', 'STATE': '01', 'COUNTY': '017', 'NAME': 'Chambers', 'LSAD': 'County', 'CENSUSAREA': 596.531}, 'geometry': {'type': 'Polygon', 'coordi...  \n",
       "3  {'type': 'Feature', 'properties': {'GEO_ID': '0500000US01021', 'STATE': '01', 'COUNTY': '021', 'NAME': 'Chilton', 'LSAD': 'County', 'CENSUSAREA': 692.854}, 'geometry': {'type': 'Polygon', 'coordin...  \n",
       "4  {'type': 'Feature', 'properties': {'GEO_ID': '0500000US01033', 'STATE': '01', 'COUNTY': '033', 'NAME': 'Colbert', 'LSAD': 'County', 'CENSUSAREA': 592.619}, 'geometry': {'type': 'Polygon', 'coordin...  "
      ]
     },
     "execution_count": 10,
     "metadata": {},
     "output_type": "execute_result"
    }
   ],
   "source": [
    "url = 'https://raw.githubusercontent.com/plotly/datasets/master/geojson-counties-fips.json'\n",
    "geo = pd.read_json(url)\n",
    "geo.head()"
   ]
  },
  {
   "cell_type": "code",
   "execution_count": 11,
   "id": "26620dfc",
   "metadata": {},
   "outputs": [
    {
     "data": {
      "text/plain": [
       "51664"
      ]
     },
     "execution_count": 11,
     "metadata": {},
     "output_type": "execute_result"
    }
   ],
   "source": [
    "geo.memory_usage(index=True).sum()"
   ]
  },
  {
   "cell_type": "code",
   "execution_count": 12,
   "metadata": {},
   "outputs": [
    {
     "data": {
      "text/plain": [
       "{'type': 'Feature',\n",
       " 'properties': {'GEO_ID': '0500000US01001',\n",
       "  'STATE': '01',\n",
       "  'COUNTY': '001',\n",
       "  'NAME': 'Autauga',\n",
       "  'LSAD': 'County',\n",
       "  'CENSUSAREA': 594.436},\n",
       " 'geometry': {'type': 'Polygon',\n",
       "  'coordinates': [[[-86.496774, 32.344437],\n",
       "    [-86.717897, 32.402814],\n",
       "    [-86.814912, 32.340803],\n",
       "    [-86.890581, 32.502974],\n",
       "    [-86.917595, 32.664169],\n",
       "    [-86.71339, 32.661732],\n",
       "    [-86.714219, 32.705694],\n",
       "    [-86.413116, 32.707386],\n",
       "    [-86.411172, 32.409937],\n",
       "    [-86.496774, 32.344437]]]},\n",
       " 'id': '01001'}"
      ]
     },
     "execution_count": 12,
     "metadata": {},
     "output_type": "execute_result"
    }
   ],
   "source": [
    "geo.features[0]"
   ]
  },
  {
   "cell_type": "code",
   "execution_count": 13,
   "metadata": {},
   "outputs": [
    {
     "data": {
      "text/plain": [
       "dtype('int64')"
      ]
     },
     "execution_count": 13,
     "metadata": {},
     "output_type": "execute_result"
    }
   ],
   "source": [
    "df_broadband['COUNTY ID'][0].dtype"
   ]
  },
  {
   "cell_type": "code",
   "execution_count": 14,
   "metadata": {},
   "outputs": [],
   "source": [
    "# df_broadband[df_broadband['COUNTY ID']==01001]"
   ]
  },
  {
   "cell_type": "code",
   "execution_count": 15,
   "metadata": {},
   "outputs": [],
   "source": [
    "# geo[geo['NAME']=='New Jersey'].head()"
   ]
  },
  {
   "cell_type": "markdown",
   "metadata": {},
   "source": [
    "### Preliminary Insights"
   ]
  },
  {
   "cell_type": "code",
   "execution_count": 16,
   "metadata": {},
   "outputs": [
    {
     "name": "stdout",
     "output_type": "stream",
     "text": [
      "<class 'pandas.core.frame.DataFrame'>\n",
      "RangeIndex: 3143 entries, 0 to 3142\n",
      "Data columns (total 5 columns):\n",
      " #   Column                          Non-Null Count  Dtype \n",
      "---  ------                          --------------  ----- \n",
      " 0   ST                              3143 non-null   object\n",
      " 1   COUNTY ID                       3143 non-null   int64 \n",
      " 2   COUNTY NAME                     3143 non-null   object\n",
      " 3   BROADBAND AVAILABILITY PER FCC  3143 non-null   object\n",
      " 4   BROADBAND USAGE                 3143 non-null   object\n",
      "dtypes: int64(1), object(4)\n",
      "memory usage: 122.9+ KB\n"
     ]
    }
   ],
   "source": [
    "df_broadband.info()"
   ]
  },
  {
   "cell_type": "code",
   "execution_count": 17,
   "metadata": {},
   "outputs": [
    {
     "name": "stdout",
     "output_type": "stream",
     "text": [
      "<class 'pandas.core.frame.DataFrame'>\n",
      "RangeIndex: 32735 entries, 0 to 32734\n",
      "Data columns (total 8 columns):\n",
      " #   Column                  Non-Null Count  Dtype  \n",
      "---  ------                  --------------  -----  \n",
      " 0   ST                      32735 non-null  object \n",
      " 1   COUNTY NAME             32735 non-null  object \n",
      " 2   COUNTY ID               32735 non-null  int64  \n",
      " 3   POSTAL CODE             32735 non-null  int64  \n",
      " 4   BROADBAND USAGE         32735 non-null  float64\n",
      " 5   ERROR RANGE (MAE)(+/-)  32735 non-null  float64\n",
      " 6   ERROR RANGE (95%)(+/-)  32735 non-null  float64\n",
      " 7   MSD                     32735 non-null  float64\n",
      "dtypes: float64(4), int64(2), object(2)\n",
      "memory usage: 2.0+ MB\n"
     ]
    }
   ],
   "source": [
    "df_broadband_zip.info()"
   ]
  },
  {
   "cell_type": "code",
   "execution_count": 18,
   "metadata": {},
   "outputs": [
    {
     "data": {
      "text/plain": [
       "<AxesSubplot:xlabel='BROADBAND USAGE', ylabel='Count'>"
      ]
     },
     "execution_count": 18,
     "metadata": {},
     "output_type": "execute_result"
    },
    {
     "data": {
      "image/png": "[encoded data removed]",
      "text/plain": [
       "<Figure size 432x288 with 1 Axes>"
      ]
     },
     "metadata": {
      "needs_background": "light"
     },
     "output_type": "display_data"
    }
   ],
   "source": [
    "sns.histplot(df_broadband, x=\"BROADBAND USAGE\")"
   ]
  },
  {
   "cell_type": "code",
   "execution_count": 19,
   "metadata": {},
   "outputs": [],
   "source": [
    "# sns.histplot(df_broadband_zip, x=\"BROADBAND USAGE\")"
   ]
  },
  {
   "cell_type": "code",
   "execution_count": 20,
   "metadata": {},
   "outputs": [],
   "source": [
    "def check_duplicated(df):\n",
    "\n",
    "    '''\n",
    "    Helper function that highlights the duplicated values within the dataframe\n",
    "    Arguments\n",
    "    =========\n",
    "    df: pandas dataframe\n",
    "\n",
    "    Returns\n",
    "    =======\n",
    "    None \n",
    "\n",
    "    Shows the duplicated values present within the dataframe\n",
    "    '''\n",
    "\n",
    "    if len(df[df.duplicated()]) > 0:\n",
    "        print(\"No. of duplicated entries: \", len(df[df.duplicated()]))\n",
    "        print(\"### Duplicated values\")\n",
    "        print(df[df.duplicated(keep=False)].sort_values(by=list(df.columns)))\n",
    "    else:\n",
    "        print(\"No duplicated entries found\")"
   ]
  },
  {
   "cell_type": "code",
   "execution_count": 21,
   "metadata": {},
   "outputs": [
    {
     "name": "stdout",
     "output_type": "stream",
     "text": [
      "No duplicated entries found\n"
     ]
    }
   ],
   "source": [
    "check_duplicated(df_broadband)"
   ]
  },
  {
   "cell_type": "code",
   "execution_count": 22,
   "metadata": {},
   "outputs": [
    {
     "name": "stdout",
     "output_type": "stream",
     "text": [
      "No duplicated entries found\n"
     ]
    }
   ],
   "source": [
    "check_duplicated(df_broadband_zip)"
   ]
  },
  {
   "cell_type": "code",
   "execution_count": 23,
   "metadata": {},
   "outputs": [],
   "source": [
    "def missing_values_table(df):\n",
    "\n",
    "    '''\n",
    "    Helper function that provides information on the rows that contain missing values within the dataframe\n",
    "\n",
    "    Arguments\n",
    "    =========\n",
    "    df: pandas dataframe\n",
    "    \n",
    "    Returns\n",
    "    =======\n",
    "    mis_val_table_ren_columns: A dataframe that contains the columns with missing values and how many are missing \n",
    "                               compared to the entire dataframe  \n",
    "\n",
    "    '''\n",
    "\n",
    "    # Total missing values\n",
    "    mis_val = df.isnull().sum()\n",
    "    \n",
    "    # Percentage of missing values\n",
    "    mis_val_percent = 100 * df.isnull().sum() / len(df)\n",
    "    \n",
    "    # Make a table with the results\n",
    "    mis_val_table = pd.concat([mis_val, mis_val_percent], axis=1)\n",
    "    \n",
    "    # Rename the columns\n",
    "    mis_val_table_ren_columns = mis_val_table.rename(\n",
    "    columns = {0 : 'Missing Values', 1 : '% of Total Values'})\n",
    "    \n",
    "    # Sort the table by percentage of missing descending\n",
    "    mis_val_table_ren_columns = mis_val_table_ren_columns[\n",
    "        mis_val_table_ren_columns.iloc[:,1] != 0].sort_values(\n",
    "    '% of Total Values', ascending=False).round(1)\n",
    "    \n",
    "    # Print some summary information\n",
    "    print(\"Your selected dataframe has \" + str(df.shape[1]) + \" columns and a total of \"+str(df.shape[0])+\" values\\n\"      \n",
    "        \"There are \" + str(mis_val_table_ren_columns.shape[0]) +\n",
    "            \" columns that have missing values.\")\n",
    "                    \n",
    "    # Return the dataframe with missing information\n",
    "    return mis_val_table_ren_columns"
   ]
  },
  {
   "cell_type": "code",
   "execution_count": 24,
   "metadata": {},
   "outputs": [
    {
     "name": "stdout",
     "output_type": "stream",
     "text": [
      "Your selected dataframe has 5 columns and a total of 3143 values\n",
      "There are 0 columns that have missing values.\n"
     ]
    },
    {
     "data": {
      "text/html": [
       "<div>\n",
       "<style scoped>\n",
       "    .dataframe tbody tr th:only-of-type {\n",
       "        vertical-align: middle;\n",
       "    }\n",
       "\n",
       "    .dataframe tbody tr th {\n",
       "        vertical-align: top;\n",
       "    }\n",
       "\n",
       "    .dataframe thead th {\n",
       "        text-align: right;\n",
       "    }\n",
       "</style>\n",
       "<table border=\"1\" class=\"dataframe\">\n",
       "  <thead>\n",
       "    <tr style=\"text-align: right;\">\n",
       "      <th></th>\n",
       "      <th>Missing Values</th>\n",
       "      <th>% of Total Values</th>\n",
       "    </tr>\n",
       "  </thead>\n",
       "  <tbody>\n",
       "  </tbody>\n",
       "</table>\n",
       "</div>"
      ],
      "text/plain": [
       "Empty DataFrame\n",
       "Columns: [Missing Values, % of Total Values]\n",
       "Index: []"
      ]
     },
     "execution_count": 24,
     "metadata": {},
     "output_type": "execute_result"
    }
   ],
   "source": [
    "missing_values_table(df_broadband)"
   ]
  },
  {
   "cell_type": "code",
   "execution_count": 25,
   "metadata": {},
   "outputs": [
    {
     "name": "stdout",
     "output_type": "stream",
     "text": [
      "Your selected dataframe has 8 columns and a total of 32735 values\n",
      "There are 0 columns that have missing values.\n"
     ]
    },
    {
     "data": {
      "text/html": [
       "<div>\n",
       "<style scoped>\n",
       "    .dataframe tbody tr th:only-of-type {\n",
       "        vertical-align: middle;\n",
       "    }\n",
       "\n",
       "    .dataframe tbody tr th {\n",
       "        vertical-align: top;\n",
       "    }\n",
       "\n",
       "    .dataframe thead th {\n",
       "        text-align: right;\n",
       "    }\n",
       "</style>\n",
       "<table border=\"1\" class=\"dataframe\">\n",
       "  <thead>\n",
       "    <tr style=\"text-align: right;\">\n",
       "      <th></th>\n",
       "      <th>Missing Values</th>\n",
       "      <th>% of Total Values</th>\n",
       "    </tr>\n",
       "  </thead>\n",
       "  <tbody>\n",
       "  </tbody>\n",
       "</table>\n",
       "</div>"
      ],
      "text/plain": [
       "Empty DataFrame\n",
       "Columns: [Missing Values, % of Total Values]\n",
       "Index: []"
      ]
     },
     "execution_count": 25,
     "metadata": {},
     "output_type": "execute_result"
    }
   ],
   "source": [
    "missing_values_table(df_broadband_zip)"
   ]
  },
  {
   "cell_type": "code",
   "execution_count": 26,
   "metadata": {},
   "outputs": [],
   "source": [
    "def check_data_type(df):\n",
    "\n",
    "    '''\n",
    "    Helper function that shows the data type of the dataframe\n",
    "    Arguments\n",
    "    =========\n",
    "    df: pandas dataframe\n",
    "    \n",
    "    Returns\n",
    "    =======\n",
    "    None\n",
    "\n",
    "    Comments\n",
    "    ========\n",
    "    Shows the data type, the number of unique values and the first value (to validate the data type) of each column in the dataframe\n",
    "    '''\n",
    "\n",
    "    interesting= pd.DataFrame(df.dtypes,columns=[\"Data_Type\"])\n",
    "    interesting[\"First_value\"]=df.iloc[0,:]\n",
    "    unique_values= df.nunique()\n",
    "    interesting[\"Unique_values\"]=unique_values\n",
    "    print(interesting)"
   ]
  },
  {
   "cell_type": "code",
   "execution_count": 27,
   "metadata": {},
   "outputs": [
    {
     "name": "stdout",
     "output_type": "stream",
     "text": [
      "                               Data_Type     First_value  Unique_values\n",
      "ST                                object              AL             51\n",
      "COUNTY ID                          int64            1001           3143\n",
      "COUNTY NAME                       object  Autauga County           1878\n",
      "BROADBAND AVAILABILITY PER FCC    object            0.81            102\n",
      "BROADBAND USAGE                   object            0.28             95\n"
     ]
    }
   ],
   "source": [
    "check_data_type(df_broadband)"
   ]
  },
  {
   "cell_type": "code",
   "execution_count": 28,
   "metadata": {},
   "outputs": [
    {
     "name": "stdout",
     "output_type": "stream",
     "text": [
      "                       Data_Type First_value  Unique_values\n",
      "ST                        object          SC             51\n",
      "COUNTY NAME               object   Abbeville           1867\n",
      "COUNTY ID                  int64       45001           3136\n",
      "POSTAL CODE                int64       29639          32653\n",
      "BROADBAND USAGE          float64       0.948           1001\n",
      "ERROR RANGE (MAE)(+/-)   float64       0.034             21\n",
      "ERROR RANGE (95%)(+/-)   float64        0.11             23\n",
      "MSD                      float64       0.002             11\n"
     ]
    }
   ],
   "source": [
    "check_data_type(df_broadband_zip)"
   ]
  },
  {
   "cell_type": "markdown",
   "metadata": {},
   "source": [
    "## Focusing on NJ"
   ]
  },
  {
   "cell_type": "code",
   "execution_count": 29,
   "metadata": {},
   "outputs": [],
   "source": [
    "df_broadband_NJ=df_broadband[df_broadband[\"ST\"]==\"NJ\"]\n",
    "df_broadband_zip_NJ=df_broadband_zip[df_broadband_zip[\"ST\"]==\"NJ\"]\n"
   ]
  },
  {
   "cell_type": "code",
   "execution_count": 30,
   "metadata": {},
   "outputs": [
    {
     "data": {
      "text/html": [
       "<div>\n",
       "<style scoped>\n",
       "    .dataframe tbody tr th:only-of-type {\n",
       "        vertical-align: middle;\n",
       "    }\n",
       "\n",
       "    .dataframe tbody tr th {\n",
       "        vertical-align: top;\n",
       "    }\n",
       "\n",
       "    .dataframe thead th {\n",
       "        text-align: right;\n",
       "    }\n",
       "</style>\n",
       "<table border=\"1\" class=\"dataframe\">\n",
       "  <thead>\n",
       "    <tr style=\"text-align: right;\">\n",
       "      <th></th>\n",
       "      <th>ST</th>\n",
       "      <th>COUNTY ID</th>\n",
       "      <th>COUNTY NAME</th>\n",
       "      <th>BROADBAND AVAILABILITY PER FCC</th>\n",
       "      <th>BROADBAND USAGE</th>\n",
       "    </tr>\n",
       "  </thead>\n",
       "  <tbody>\n",
       "    <tr>\n",
       "      <th>1774</th>\n",
       "      <td>NJ</td>\n",
       "      <td>34001</td>\n",
       "      <td>Atlantic County</td>\n",
       "      <td>0.98</td>\n",
       "      <td>0.62</td>\n",
       "    </tr>\n",
       "    <tr>\n",
       "      <th>1775</th>\n",
       "      <td>NJ</td>\n",
       "      <td>34003</td>\n",
       "      <td>Bergen County</td>\n",
       "      <td>1.00</td>\n",
       "      <td>0.78</td>\n",
       "    </tr>\n",
       "    <tr>\n",
       "      <th>1776</th>\n",
       "      <td>NJ</td>\n",
       "      <td>34005</td>\n",
       "      <td>Burlington County</td>\n",
       "      <td>0.98</td>\n",
       "      <td>0.75</td>\n",
       "    </tr>\n",
       "    <tr>\n",
       "      <th>1777</th>\n",
       "      <td>NJ</td>\n",
       "      <td>34007</td>\n",
       "      <td>Camden County</td>\n",
       "      <td>0.98</td>\n",
       "      <td>0.66</td>\n",
       "    </tr>\n",
       "    <tr>\n",
       "      <th>1778</th>\n",
       "      <td>NJ</td>\n",
       "      <td>34009</td>\n",
       "      <td>Cape May County</td>\n",
       "      <td>0.99</td>\n",
       "      <td>0.73</td>\n",
       "    </tr>\n",
       "  </tbody>\n",
       "</table>\n",
       "</div>"
      ],
      "text/plain": [
       "      ST  COUNTY ID        COUNTY NAME BROADBAND AVAILABILITY PER FCC  \\\n",
       "1774  NJ      34001    Atlantic County                           0.98   \n",
       "1775  NJ      34003      Bergen County                           1.00   \n",
       "1776  NJ      34005  Burlington County                           0.98   \n",
       "1777  NJ      34007      Camden County                           0.98   \n",
       "1778  NJ      34009    Cape May County                           0.99   \n",
       "\n",
       "     BROADBAND USAGE  \n",
       "1774            0.62  \n",
       "1775            0.78  \n",
       "1776            0.75  \n",
       "1777            0.66  \n",
       "1778            0.73  "
      ]
     },
     "execution_count": 30,
     "metadata": {},
     "output_type": "execute_result"
    }
   ],
   "source": [
    "df_broadband_NJ.head()"
   ]
  },
  {
   "cell_type": "code",
   "execution_count": 31,
   "metadata": {},
   "outputs": [
    {
     "data": {
      "text/html": [
       "<div>\n",
       "<style scoped>\n",
       "    .dataframe tbody tr th:only-of-type {\n",
       "        vertical-align: middle;\n",
       "    }\n",
       "\n",
       "    .dataframe tbody tr th {\n",
       "        vertical-align: top;\n",
       "    }\n",
       "\n",
       "    .dataframe thead th {\n",
       "        text-align: right;\n",
       "    }\n",
       "</style>\n",
       "<table border=\"1\" class=\"dataframe\">\n",
       "  <thead>\n",
       "    <tr style=\"text-align: right;\">\n",
       "      <th></th>\n",
       "      <th>ST</th>\n",
       "      <th>COUNTY NAME</th>\n",
       "      <th>COUNTY ID</th>\n",
       "      <th>POSTAL CODE</th>\n",
       "      <th>BROADBAND USAGE</th>\n",
       "      <th>ERROR RANGE (MAE)(+/-)</th>\n",
       "      <th>ERROR RANGE (95%)(+/-)</th>\n",
       "      <th>MSD</th>\n",
       "    </tr>\n",
       "  </thead>\n",
       "  <tbody>\n",
       "    <tr>\n",
       "      <th>1077</th>\n",
       "      <td>NJ</td>\n",
       "      <td>Atlantic</td>\n",
       "      <td>34001</td>\n",
       "      <td>8232</td>\n",
       "      <td>0.499</td>\n",
       "      <td>0.002</td>\n",
       "      <td>0.007</td>\n",
       "      <td>0.000</td>\n",
       "    </tr>\n",
       "    <tr>\n",
       "      <th>1078</th>\n",
       "      <td>NJ</td>\n",
       "      <td>Atlantic</td>\n",
       "      <td>34001</td>\n",
       "      <td>8203</td>\n",
       "      <td>0.199</td>\n",
       "      <td>0.003</td>\n",
       "      <td>0.010</td>\n",
       "      <td>-0.001</td>\n",
       "    </tr>\n",
       "    <tr>\n",
       "      <th>1079</th>\n",
       "      <td>NJ</td>\n",
       "      <td>Atlantic</td>\n",
       "      <td>34001</td>\n",
       "      <td>8241</td>\n",
       "      <td>0.484</td>\n",
       "      <td>0.034</td>\n",
       "      <td>0.110</td>\n",
       "      <td>0.002</td>\n",
       "    </tr>\n",
       "    <tr>\n",
       "      <th>1080</th>\n",
       "      <td>NJ</td>\n",
       "      <td>Atlantic</td>\n",
       "      <td>34001</td>\n",
       "      <td>8225</td>\n",
       "      <td>0.572</td>\n",
       "      <td>0.004</td>\n",
       "      <td>0.013</td>\n",
       "      <td>0.000</td>\n",
       "    </tr>\n",
       "    <tr>\n",
       "      <th>1081</th>\n",
       "      <td>NJ</td>\n",
       "      <td>Atlantic</td>\n",
       "      <td>34001</td>\n",
       "      <td>8350</td>\n",
       "      <td>0.164</td>\n",
       "      <td>0.034</td>\n",
       "      <td>0.110</td>\n",
       "      <td>0.002</td>\n",
       "    </tr>\n",
       "  </tbody>\n",
       "</table>\n",
       "</div>"
      ],
      "text/plain": [
       "      ST COUNTY NAME  COUNTY ID  POSTAL CODE  BROADBAND USAGE  \\\n",
       "1077  NJ    Atlantic      34001         8232            0.499   \n",
       "1078  NJ    Atlantic      34001         8203            0.199   \n",
       "1079  NJ    Atlantic      34001         8241            0.484   \n",
       "1080  NJ    Atlantic      34001         8225            0.572   \n",
       "1081  NJ    Atlantic      34001         8350            0.164   \n",
       "\n",
       "      ERROR RANGE (MAE)(+/-)  ERROR RANGE (95%)(+/-)    MSD  \n",
       "1077                   0.002                   0.007  0.000  \n",
       "1078                   0.003                   0.010 -0.001  \n",
       "1079                   0.034                   0.110  0.002  \n",
       "1080                   0.004                   0.013  0.000  \n",
       "1081                   0.034                   0.110  0.002  "
      ]
     },
     "execution_count": 31,
     "metadata": {},
     "output_type": "execute_result"
    }
   ],
   "source": [
    "df_broadband_zip_NJ.head()"
   ]
  },
  {
   "cell_type": "code",
   "execution_count": 32,
   "metadata": {},
   "outputs": [],
   "source": [
    "# fig = px.choropleth_mapbox(df_broadband_NJ, geojason=counties, location='COUNTY NAME', color='BROADBAND USAGE',\n",
    "#                            color_continuous_scale=\"Viridis\",\n",
    "#                            range_color=(0, 12),\n",
    "#                            mapbox_style=\"carto-positron\",\n",
    "#                            zoom=3, #center = {\"lat\": 37.0902, \"lon\": -95.7129},\n",
    "#                            opacity=0.5,\n",
    "#                            labels={'BROADBAND USAGE':'BROADBAND USAGE'}\n",
    "#                           )\n",
    "# fig.show()"
   ]
  },
  {
   "cell_type": "code",
   "execution_count": 33,
   "metadata": {},
   "outputs": [],
   "source": [
    "# fig = px.choropleth(\n",
    "#     df_broadband_zip_NJ, \n",
    "#     locations=\"COUNTY ID\",                    \n",
    "#     color=\"BROADBAND USAGE\",\n",
    "#     hover_name=\"COUNTY NAME\", # column to add to hover information\n",
    "#     color_continuous_scale=px.colors.sequential.matter)\n",
    "# fig.show()"
   ]
  },
  {
   "cell_type": "code",
   "execution_count": null,
   "metadata": {},
   "outputs": [],
   "source": []
  },
  {
   "cell_type": "code",
   "execution_count": 34,
   "metadata": {},
   "outputs": [],
   "source": [
    "from urllib.request import urlopen\n",
    "import json\n",
    "with urlopen('https://raw.githubusercontent.com/plotly/datasets/master/geojson-counties-fips.json') as response:\n",
    "    counties = json.load(response)"
   ]
  },
  {
   "cell_type": "code",
   "execution_count": 35,
   "id": "9672262e",
   "metadata": {},
   "outputs": [
    {
     "data": {
      "text/plain": [
       "dict"
      ]
     },
     "execution_count": 35,
     "metadata": {},
     "output_type": "execute_result"
    }
   ],
   "source": [
    "type(counties)"
   ]
  },
  {
   "cell_type": "code",
   "execution_count": 36,
   "id": "ff690ac2",
   "metadata": {},
   "outputs": [
    {
     "name": "stdout",
     "output_type": "stream",
     "text": [
      "26448\n"
     ]
    }
   ],
   "source": [
    "import sys\n",
    "size = sys.getsizeof(counties)\n",
    "size += sum(map(sys.getsizeof, counties.values())) + sum(map(sys.getsizeof, counties.keys()))\n",
    "print(size)"
   ]
  },
  {
   "cell_type": "code",
   "execution_count": 39,
   "id": "f5410597",
   "metadata": {},
   "outputs": [],
   "source": [
    "#counties[counties.properties.COUNTY=='counties']"
   ]
  },
  {
   "cell_type": "code",
   "execution_count": 40,
   "metadata": {},
   "outputs": [],
   "source": [
    "#Code here viz takes a lot of memory space for some reason\n",
    "\n",
    "# fig = px.choropleth_mapbox(df_broadband_NJ, geojson=counties, locations='COUNTY ID', color='BROADBAND USAGE',\n",
    "#                            color_continuous_scale=\"Viridis\",\n",
    "#                            range_color=(0, 12),\n",
    "#                            #mapbox_style=\"carto-positron\",\n",
    "#                            zoom=6, \n",
    "#                            center = {\"lat\": 40.0902, \"lon\": -74.7129},\n",
    "#                            opacity=0.5\n",
    "#                            #labels={'unemp':'unemployment rate'}\n",
    "#                           )\n",
    "# fig.show()"
   ]
  },
  {
   "cell_type": "code",
   "execution_count": 41,
   "metadata": {},
   "outputs": [],
   "source": [
    "# img_bytes = fig.to_image(format=\"png\")\n",
    "# from IPython.display import Image\n",
    "# Image(img_bytes)\n"
   ]
  }
 ],
 "metadata": {
  "kernelspec": {
   "display_name": "Python 3.10.4 ('virtual_env')",
   "language": "python",
   "name": "python3"
  },
  "language_info": {
   "codemirror_mode": {
    "name": "ipython",
    "version": 3
   },
   "file_extension": ".py",
   "mimetype": "text/x-python",
   "name": "python",
   "nbconvert_exporter": "python",
   "pygments_lexer": "ipython3",
   "version": "3.10.4"
  },
  "vscode": {
   "interpreter": {
    "hash": "dd7abdec0c426186ee9fdc7af8b59e5619dca46fa455c611f2bc54b1036f4006"
   }
  }
 },
 "nbformat": 4,
 "nbformat_minor": 5
}
