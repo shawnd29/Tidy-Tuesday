{
 "cells": [
  {
   "cell_type": "markdown",
   "source": [
    "Modified RapidInsights EDA - Completed <br/>\r\n",
    "Choropleth map - Completed <br/>\r\n"
   ],
   "metadata": {}
  },
  {
   "cell_type": "markdown",
   "source": [
    "2021-05-11 <br/>\n",
    "US Broadband <br/>\n",
    "https://github.com/rfordatascience/tidytuesday/blob/master/data/2021/2021-05-11/readme.md"
   ],
   "metadata": {}
  },
  {
   "cell_type": "code",
   "execution_count": null,
   "source": [
    "\r\n",
    "#imports and basic outlines\r\n",
    "\r\n",
    "import numpy as np\r\n",
    "import pandas as pd\r\n",
    "import matplotlib.pyplot as plt \r\n",
    "\r\n",
    "import seaborn as sns\r\n",
    "\r\n",
    "from copy import deepcopy\r\n",
    "%matplotlib inline\r\n",
    "\r\n",
    "from collections import Counter\r\n",
    "\r\n"
   ],
   "outputs": [],
   "metadata": {}
  },
  {
   "cell_type": "code",
   "execution_count": null,
   "source": [
    "pd.set_option('display.max_rows', 200)\r\n",
    "pd.set_option('display.max_columns', 150)\r\n",
    "pd.set_option('display.max_colwidth', 200)\r\n",
    "from itertools import product\r\n",
    "from scipy.optimize import curve_fit\r\n",
    "import warnings\r\n",
    "warnings.filterwarnings(\"ignore\")\r\n",
    "\r\n",
    "import plotly.express as px\r\n",
    "import plotly.graph_objs as go\r\n",
    "from plotly.subplots import make_subplots\r\n",
    "import plotly.io as pio\r\n",
    "\r\n",
    "from IPython.display import HTML"
   ],
   "outputs": [],
   "metadata": {}
  },
  {
   "cell_type": "code",
   "execution_count": null,
   "source": [
    "#pio.templates['plotly_dark'].layout.colorway = ('#0840D9','#882775','#00A34C','#B86200','#AA250E','#1D8682')"
   ],
   "outputs": [],
   "metadata": {}
  },
  {
   "cell_type": "markdown",
   "source": [
    "### Read the data"
   ],
   "metadata": {}
  },
  {
   "cell_type": "code",
   "execution_count": null,
   "source": [
    "df_broadband=pd.read_csv(\"broadband.csv\")"
   ],
   "outputs": [],
   "metadata": {}
  },
  {
   "cell_type": "code",
   "execution_count": null,
   "source": [
    "df_broadband.head()"
   ],
   "outputs": [],
   "metadata": {}
  },
  {
   "cell_type": "code",
   "execution_count": null,
   "source": [
    "df_broadband_zip=pd.read_csv(\"broadband_zip.csv\")"
   ],
   "outputs": [],
   "metadata": {}
  },
  {
   "cell_type": "code",
   "execution_count": null,
   "source": [
    "df_broadband_zip.head()"
   ],
   "outputs": [],
   "metadata": {}
  },
  {
   "cell_type": "code",
   "execution_count": null,
   "source": [
    "url = 'https://raw.githubusercontent.com/plotly/datasets/master/geojson-counties-fips.json'\r\n",
    "geo = pd.read_json(url)\r\n",
    "geo.head()"
   ],
   "outputs": [],
   "metadata": {}
  },
  {
   "cell_type": "code",
   "execution_count": null,
   "source": [
    "geo.features[0]"
   ],
   "outputs": [],
   "metadata": {}
  },
  {
   "cell_type": "code",
   "execution_count": null,
   "source": [
    "df_broadband[df_broadband['COUNTY ID']==01001]"
   ],
   "outputs": [],
   "metadata": {}
  },
  {
   "cell_type": "code",
   "execution_count": null,
   "source": [
    "geo[geo['Name']=='New Jersey'].head()"
   ],
   "outputs": [],
   "metadata": {}
  },
  {
   "cell_type": "markdown",
   "source": [
    "### Preliminary Insights"
   ],
   "metadata": {}
  },
  {
   "cell_type": "code",
   "execution_count": null,
   "source": [
    "df_broadband.info()"
   ],
   "outputs": [],
   "metadata": {}
  },
  {
   "cell_type": "code",
   "execution_count": null,
   "source": [
    "df_broadband_zip.info()"
   ],
   "outputs": [],
   "metadata": {}
  },
  {
   "cell_type": "code",
   "execution_count": null,
   "source": [
    "sns.histplot(df_broadband, x=\"BROADBAND USAGE\")"
   ],
   "outputs": [],
   "metadata": {}
  },
  {
   "cell_type": "code",
   "execution_count": null,
   "source": [
    "sns.histplot(df_broadband_zip, x=\"BROADBAND USAGE\")"
   ],
   "outputs": [],
   "metadata": {}
  },
  {
   "cell_type": "code",
   "execution_count": null,
   "source": [
    "def check_duplicated(df):\r\n",
    "\r\n",
    "    '''\r\n",
    "    Helper function that highlights the duplicated values within the dataframe\r\n",
    "    Arguments\r\n",
    "    =========\r\n",
    "    df: pandas dataframe\r\n",
    "\r\n",
    "    Returns\r\n",
    "    =======\r\n",
    "    None \r\n",
    "\r\n",
    "    Shows the duplicated values present within the dataframe\r\n",
    "    '''\r\n",
    "\r\n",
    "    if len(df[df.duplicated()]) > 0:\r\n",
    "        print(\"No. of duplicated entries: \", len(df[df.duplicated()]))\r\n",
    "        print(\"### Duplicated values\")\r\n",
    "        print(df[df.duplicated(keep=False)].sort_values(by=list(df.columns)))\r\n",
    "    else:\r\n",
    "        print(\"No duplicated entries found\")"
   ],
   "outputs": [],
   "metadata": {}
  },
  {
   "cell_type": "code",
   "execution_count": null,
   "source": [
    "check_duplicated(df_broadband)"
   ],
   "outputs": [],
   "metadata": {}
  },
  {
   "cell_type": "code",
   "execution_count": null,
   "source": [
    "check_duplicated(df_broadband_zip)"
   ],
   "outputs": [],
   "metadata": {}
  },
  {
   "cell_type": "code",
   "execution_count": null,
   "source": [
    "def missing_values_table(df):\r\n",
    "\r\n",
    "    '''\r\n",
    "    Helper function that provides information on the rows that contain missing values within the dataframe\r\n",
    "\r\n",
    "    Arguments\r\n",
    "    =========\r\n",
    "    df: pandas dataframe\r\n",
    "    \r\n",
    "    Returns\r\n",
    "    =======\r\n",
    "    mis_val_table_ren_columns: A dataframe that contains the columns with missing values and how many are missing \r\n",
    "                               compared to the entire dataframe  \r\n",
    "\r\n",
    "    '''\r\n",
    "\r\n",
    "    # Total missing values\r\n",
    "    mis_val = df.isnull().sum()\r\n",
    "    \r\n",
    "    # Percentage of missing values\r\n",
    "    mis_val_percent = 100 * df.isnull().sum() / len(df)\r\n",
    "    \r\n",
    "    # Make a table with the results\r\n",
    "    mis_val_table = pd.concat([mis_val, mis_val_percent], axis=1)\r\n",
    "    \r\n",
    "    # Rename the columns\r\n",
    "    mis_val_table_ren_columns = mis_val_table.rename(\r\n",
    "    columns = {0 : 'Missing Values', 1 : '% of Total Values'})\r\n",
    "    \r\n",
    "    # Sort the table by percentage of missing descending\r\n",
    "    mis_val_table_ren_columns = mis_val_table_ren_columns[\r\n",
    "        mis_val_table_ren_columns.iloc[:,1] != 0].sort_values(\r\n",
    "    '% of Total Values', ascending=False).round(1)\r\n",
    "    \r\n",
    "    # Print some summary information\r\n",
    "    print(\"Your selected dataframe has \" + str(df.shape[1]) + \" columns and a total of \"+str(df.shape[0])+\" values\\n\"      \r\n",
    "        \"There are \" + str(mis_val_table_ren_columns.shape[0]) +\r\n",
    "            \" columns that have missing values.\")\r\n",
    "                    \r\n",
    "    # Return the dataframe with missing information\r\n",
    "    return mis_val_table_ren_columns"
   ],
   "outputs": [],
   "metadata": {}
  },
  {
   "cell_type": "code",
   "execution_count": null,
   "source": [
    "missing_values_table(df_broadband)"
   ],
   "outputs": [],
   "metadata": {}
  },
  {
   "cell_type": "code",
   "execution_count": null,
   "source": [
    "missing_values_table(df_broadband_zip)"
   ],
   "outputs": [],
   "metadata": {}
  },
  {
   "cell_type": "code",
   "execution_count": null,
   "source": [
    "def check_data_type(df):\r\n",
    "\r\n",
    "    '''\r\n",
    "    Helper function that shows the data type of the dataframe\r\n",
    "    Arguments\r\n",
    "    =========\r\n",
    "    df: pandas dataframe\r\n",
    "    \r\n",
    "    Returns\r\n",
    "    =======\r\n",
    "    None\r\n",
    "\r\n",
    "    Comments\r\n",
    "    ========\r\n",
    "    Shows the data type, the number of unique values and the first value (to validate the data type) of each column in the dataframe\r\n",
    "    '''\r\n",
    "\r\n",
    "    interesting= pd.DataFrame(df.dtypes,columns=[\"Data_Type\"])\r\n",
    "    interesting[\"First_value\"]=df.iloc[0,:]\r\n",
    "    unique_values= df.nunique()\r\n",
    "    interesting[\"Unique_values\"]=unique_values\r\n",
    "    print(interesting)"
   ],
   "outputs": [],
   "metadata": {}
  },
  {
   "cell_type": "code",
   "execution_count": null,
   "source": [
    "check_data_type(df_broadband)"
   ],
   "outputs": [],
   "metadata": {}
  },
  {
   "cell_type": "code",
   "execution_count": null,
   "source": [
    "check_data_type(df_broadband_zip)"
   ],
   "outputs": [],
   "metadata": {}
  },
  {
   "cell_type": "code",
   "execution_count": null,
   "source": [],
   "outputs": [],
   "metadata": {}
  },
  {
   "cell_type": "code",
   "execution_count": null,
   "source": [],
   "outputs": [],
   "metadata": {}
  },
  {
   "cell_type": "markdown",
   "source": [
    "### Focusing on NJ"
   ],
   "metadata": {}
  },
  {
   "cell_type": "code",
   "execution_count": null,
   "source": [
    "df_broadband_NJ=df_broadband[df_broadband[\"ST\"]==\"NJ\"]\r\n",
    "df_broadband_zip_NJ=df_broadband_zip[df_broadband_zip[\"ST\"]==\"NJ\"]\r\n"
   ],
   "outputs": [],
   "metadata": {}
  },
  {
   "cell_type": "code",
   "execution_count": null,
   "source": [
    "df_broadband_NJ.head()"
   ],
   "outputs": [],
   "metadata": {}
  },
  {
   "cell_type": "code",
   "execution_count": null,
   "source": [
    "df_broadband_zip_NJ.head()"
   ],
   "outputs": [],
   "metadata": {}
  },
  {
   "cell_type": "code",
   "execution_count": null,
   "source": [
    "fig = px.choropleth_mapbox(df_broadband_NJ, geojason=counties, location='COUNTY NAME', color='BROADBAND USAGE',\r\n",
    "                           color_continuous_scale=\"Viridis\",\r\n",
    "                           range_color=(0, 12),\r\n",
    "                           mapbox_style=\"carto-positron\",\r\n",
    "                           zoom=3, #center = {\"lat\": 37.0902, \"lon\": -95.7129},\r\n",
    "                           opacity=0.5,\r\n",
    "                           labels={'BROADBAND USAGE':'BROADBAND USAGE'}\r\n",
    "                          )\r\n",
    "fig.show()"
   ],
   "outputs": [],
   "metadata": {}
  },
  {
   "cell_type": "code",
   "execution_count": null,
   "source": [
    "fig = px.choropleth(\r\n",
    "    df_broadband_zip_NJ, \r\n",
    "    locations=\"COUNTY ID\",                    \r\n",
    "    color=\"BROADBAND USAGE\",\r\n",
    "    hover_name=\"COUNTY NAME\", # column to add to hover information\r\n",
    "    color_continuous_scale=px.colors.sequential.matter)\r\n",
    "fig.show()"
   ],
   "outputs": [],
   "metadata": {}
  },
  {
   "cell_type": "code",
   "execution_count": null,
   "source": [
    "from urllib.request import urlopen\r\n",
    "import json\r\n",
    "with urlopen('https://raw.githubusercontent.com/plotly/datasets/master/geojson-counties-fips.json') as response:\r\n",
    "    counties = json.load(response)"
   ],
   "outputs": [],
   "metadata": {}
  },
  {
   "cell_type": "code",
   "execution_count": null,
   "source": [
    "fig = px.choropleth_mapbox(df_broadband_NJ, geojson=counties, locations='COUNTY ID', color='BROADBAND USAGE',\r\n",
    "                           color_continuous_scale=\"Viridis\",\r\n",
    "                           range_color=(0, 12),\r\n",
    "                           mapbox_style=\"carto-positron\",\r\n",
    "                           zoom=3, center = {\"lat\": 37.0902, \"lon\": -95.7129},\r\n",
    "                           opacity=0.5\r\n",
    "                           #labels={'unemp':'unemployment rate'}\r\n",
    "                          )\r\n",
    "fig.show()"
   ],
   "outputs": [],
   "metadata": {}
  },
  {
   "cell_type": "code",
   "execution_count": null,
   "source": [
    "import plotly.figure_factory as ff\r\n",
    "#import plotly-geo\r\n",
    "fig = ff.create_choropleth(fips=df_broadband_NJ[\"COUNTY ID\"].astype(str), \r\n",
    "                           #scope=['NJ'],\r\n",
    "                           values=df_broadband_NJ['BROADBAND USAGE'], \r\n",
    "                           title='NY Public Transit Use by County', \r\n",
    "                           legend_title='% Public Transit')\r\n",
    "fig.layout.template = None\r\n",
    "fig.show()"
   ],
   "outputs": [],
   "metadata": {}
  },
  {
   "cell_type": "code",
   "execution_count": null,
   "source": [
    "df_broadband_zip_NJ.plot(\"BROADBAND USAGE\")"
   ],
   "outputs": [],
   "metadata": {}
  },
  {
   "cell_type": "code",
   "execution_count": null,
   "source": [
    "px.histogram(df_broadband_zip_NJ, x=\"BROADBAND USAGE\")"
   ],
   "outputs": [],
   "metadata": {}
  },
  {
   "cell_type": "code",
   "execution_count": null,
   "source": [
    "sns.histplot(df_broadband_zip_NJ, x=\"BROADBAND USAGE\")"
   ],
   "outputs": [],
   "metadata": {}
  },
  {
   "cell_type": "code",
   "execution_count": null,
   "source": [
    "from urllib.request import urlopen\r\n",
    "import json\r\n",
    "with urlopen('https://raw.githubusercontent.com/plotly/datasets/master/geojson-counties-fips.json') as response:\r\n",
    "    counties = json.load(response)\r\n",
    "\r\n",
    "import pandas as pd\r\n",
    "df = pd.read_csv(\"https://raw.githubusercontent.com/plotly/datasets/master/fips-unemp-16.csv\",\r\n",
    "                   dtype={\"fips\": str})\r\n",
    "\r\n",
    "import plotly.express as px\r\n",
    "\r\n",
    "fig = px.choropleth_mapbox(df, geojson=counties, locations='fips', color='unemp',\r\n",
    "                           color_continuous_scale=\"Viridis\",\r\n",
    "                           range_color=(0, 12),\r\n",
    "                           mapbox_style=\"carto-positron\",\r\n",
    "                           zoom=3, center = {\"lat\": 37.0902, \"lon\": -95.7129},\r\n",
    "                           opacity=0.5,\r\n",
    "                           labels={'unemp':'unemployment rate'}\r\n",
    "                          )\r\n",
    "fig.update_layout(margin={\"r\":0,\"t\":0,\"l\":0,\"b\":0})\r\n",
    "fig.show()"
   ],
   "outputs": [],
   "metadata": {}
  }
 ],
 "metadata": {
  "kernelspec": {
   "display_name": "Python 3",
   "language": "python",
   "name": "python3"
  },
  "language_info": {
   "codemirror_mode": {
    "name": "ipython",
    "version": 3
   },
   "file_extension": ".py",
   "mimetype": "text/x-python",
   "name": "python",
   "nbconvert_exporter": "python",
   "pygments_lexer": "ipython3",
   "version": "3.7.8"
  }
 },
 "nbformat": 4,
 "nbformat_minor": 5
}