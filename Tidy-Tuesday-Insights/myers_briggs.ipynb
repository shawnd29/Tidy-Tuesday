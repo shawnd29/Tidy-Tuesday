{
 "cells": [
  {
   "cell_type": "markdown",
   "metadata": {},
   "source": [
    "2022-08-16 <br/>\n",
    "Open Source Psychometrics <br/>\n",
    "https://github.com/rfordatascience/tidytuesday/blob/master/data/2022/2022-08-16"
   ]
  },
  {
   "cell_type": "markdown",
   "metadata": {},
   "source": [
    "Basic Scatter Plot - Complete"
   ]
  },
  {
   "cell_type": "code",
   "execution_count": 1,
   "metadata": {},
   "outputs": [],
   "source": [
    "import pandas as pd\n",
    "import plotly.graph_objects as go\n",
    "import plotly.express as px\n",
    "import plotly.io as pio\n",
    "pio.renderers.default='jupyterlab'\n",
    "import os"
   ]
  },
  {
   "cell_type": "code",
   "execution_count": 2,
   "metadata": {},
   "outputs": [
    {
     "data": {
      "text/html": [
       "<div>\n",
       "<style scoped>\n",
       "    .dataframe tbody tr th:only-of-type {\n",
       "        vertical-align: middle;\n",
       "    }\n",
       "\n",
       "    .dataframe tbody tr th {\n",
       "        vertical-align: top;\n",
       "    }\n",
       "\n",
       "    .dataframe thead th {\n",
       "        text-align: right;\n",
       "    }\n",
       "</style>\n",
       "<table border=\"1\" class=\"dataframe\">\n",
       "  <thead>\n",
       "    <tr style=\"text-align: right;\">\n",
       "      <th></th>\n",
       "      <th>char_id</th>\n",
       "      <th>char_name</th>\n",
       "      <th>uni_id</th>\n",
       "      <th>uni_name</th>\n",
       "      <th>myers_briggs</th>\n",
       "      <th>avg_match_perc</th>\n",
       "      <th>number_users</th>\n",
       "    </tr>\n",
       "  </thead>\n",
       "  <tbody>\n",
       "    <tr>\n",
       "      <th>0</th>\n",
       "      <td>F2</td>\n",
       "      <td>Monica Geller</td>\n",
       "      <td>F</td>\n",
       "      <td>Friends</td>\n",
       "      <td>ESTJ</td>\n",
       "      <td>66.8</td>\n",
       "      <td>547</td>\n",
       "    </tr>\n",
       "    <tr>\n",
       "      <th>1</th>\n",
       "      <td>F2</td>\n",
       "      <td>Monica Geller</td>\n",
       "      <td>F</td>\n",
       "      <td>Friends</td>\n",
       "      <td>ISTJ</td>\n",
       "      <td>63.3</td>\n",
       "      <td>1475</td>\n",
       "    </tr>\n",
       "    <tr>\n",
       "      <th>2</th>\n",
       "      <td>F2</td>\n",
       "      <td>Monica Geller</td>\n",
       "      <td>F</td>\n",
       "      <td>Friends</td>\n",
       "      <td>ENTJ</td>\n",
       "      <td>63.1</td>\n",
       "      <td>2286</td>\n",
       "    </tr>\n",
       "    <tr>\n",
       "      <th>3</th>\n",
       "      <td>F2</td>\n",
       "      <td>Monica Geller</td>\n",
       "      <td>F</td>\n",
       "      <td>Friends</td>\n",
       "      <td>ESFJ</td>\n",
       "      <td>62.8</td>\n",
       "      <td>592</td>\n",
       "    </tr>\n",
       "    <tr>\n",
       "      <th>4</th>\n",
       "      <td>F2</td>\n",
       "      <td>Monica Geller</td>\n",
       "      <td>F</td>\n",
       "      <td>Friends</td>\n",
       "      <td>ENFJ</td>\n",
       "      <td>61.0</td>\n",
       "      <td>3842</td>\n",
       "    </tr>\n",
       "  </tbody>\n",
       "</table>\n",
       "</div>"
      ],
      "text/plain": [
       "  char_id      char_name uni_id uni_name myers_briggs  avg_match_perc  \\\n",
       "0      F2  Monica Geller      F  Friends         ESTJ            66.8   \n",
       "1      F2  Monica Geller      F  Friends         ISTJ            63.3   \n",
       "2      F2  Monica Geller      F  Friends         ENTJ            63.1   \n",
       "3      F2  Monica Geller      F  Friends         ESFJ            62.8   \n",
       "4      F2  Monica Geller      F  Friends         ENFJ            61.0   \n",
       "\n",
       "   number_users  \n",
       "0           547  \n",
       "1          1475  \n",
       "2          2286  \n",
       "3           592  \n",
       "4          3842  "
      ]
     },
     "execution_count": 2,
     "metadata": {},
     "output_type": "execute_result"
    }
   ],
   "source": [
    "df = pd.read_csv('https://raw.githubusercontent.com/rfordatascience/tidytuesday/master/data/2022/2022-08-16/myers_briggs.csv')\n",
    "df.head()"
   ]
  },
  {
   "cell_type": "code",
   "execution_count": 17,
   "metadata": {},
   "outputs": [],
   "source": [
    "idx =df.groupby(['char_name'])['avg_match_perc'].transform(max) == df['avg_match_perc']\n",
    "\n",
    "df_max = df[idx].reset_index(drop=True)"
   ]
  },
  {
   "cell_type": "code",
   "execution_count": 19,
   "metadata": {},
   "outputs": [
    {
     "data": {
      "text/plain": [
       "(909, 7)"
      ]
     },
     "execution_count": 19,
     "metadata": {},
     "output_type": "execute_result"
    }
   ],
   "source": [
    "df_max.shape"
   ]
  },
  {
   "cell_type": "code",
   "execution_count": 20,
   "metadata": {},
   "outputs": [
    {
     "data": {
      "text/plain": [
       "16"
      ]
     },
     "execution_count": 20,
     "metadata": {},
     "output_type": "execute_result"
    }
   ],
   "source": [
    "df_max.myers_briggs.nunique()"
   ]
  },
  {
   "cell_type": "code",
   "execution_count": 24,
   "metadata": {},
   "outputs": [
    {
     "data": {
      "application/vnd.plotly.v1+json": {
       "config": {
        "plotlyServerURL": "https://plot.ly"
       },
       "data": [
        {
         "customdata": [
          [
           "Monica Geller",
           "Friends"
          ],
          [
           "Sansa Stark",
           "Game of Thrones"
          ],
          [
           "Tywin Lannister",
           "Game of Thrones"
          ],
          [
           "Turanga Leela",
           "Futurama"
          ],
          [
           "Hermione Granger",
           "Harry Potter"
          ],
          [
           "Minerva McGonagall",
           "Harry Potter"
          ],
          [
           "Viktor Krum",
           "Harry Potter"
          ],
          [
           "Cristina Yang",
           "Grey's Anatomy"
          ],
          [
           "Miranda Bailey",
           "Grey's Anatomy"
          ],
          [
           "Richard Webber",
           "Grey's Anatomy"
          ],
          [
           "Dr. Lisa Cuddy",
           "House"
          ],
          [
           "Bernadette Rostenkowski",
           "The Big Bang Theory"
          ],
          [
           "Mary Cooper",
           "The Big Bang Theory"
          ],
          [
           "Jack Donaghy",
           "30 Rock"
          ],
          [
           "Paris Geller",
           "Gilmore Girls"
          ],
          [
           "Emily Gilmore",
           "Gilmore Girls"
          ],
          [
           "Richard Gilmore",
           "Gilmore Girls"
          ],
          [
           "Michel Gerard",
           "Gilmore Girls"
          ],
          [
           "Taylor Doose",
           "Gilmore Girls"
          ],
          [
           "Johnny Rose",
           "Schitt's Creek"
          ],
          [
           "Lily van der Woodsen",
           "Gossip Girl"
          ],
          [
           "Carla Espinosa",
           "Scrubs"
          ],
          [
           "Legolas",
           "Lord of the Rings"
          ],
          [
           "Boromir",
           "Lord of the Rings"
          ],
          [
           "Rebecca Welton",
           "Ted Lasso"
          ],
          [
           "Roy Kent",
           "Ted Lasso"
          ],
          [
           "Rick Grimes",
           "The Walking Dead"
          ],
          [
           "Camille Saroyan",
           "Bones"
          ],
          [
           "Lana Kane",
           "Archer"
          ],
          [
           "Kima Greggs",
           "The Wire"
          ],
          [
           "Bunk Moreland",
           "The Wire"
          ],
          [
           "Rhonda Pearlman",
           "The Wire"
          ],
          [
           "Norman Wilson",
           "The Wire"
          ],
          [
           "Leo McGarry",
           "The West Wing"
          ],
          [
           "C. J. Cregg",
           "The West Wing"
          ],
          [
           "Abbey Bartlet",
           "The West Wing"
          ],
          [
           "Joey Lucas",
           "The West Wing"
          ],
          [
           "Carmela Soprano",
           "The Sopranos"
          ],
          [
           "Silvio Dante",
           "The Sopranos"
          ],
          [
           "Zoe Washburne",
           "Firefly + Serenity"
          ],
          [
           "Violet Crawley, Dowager Countess of Grantham",
           "Downton Abbey"
          ],
          [
           "Robert Crawley, 7th Earl of Grantham",
           "Downton Abbey"
          ],
          [
           "Tahani Al-Jamil",
           "The Good Place"
          ],
          [
           "Peggy Carter",
           "Marvel Cinematic Universe"
          ],
          [
           "Schmidt",
           "New Girl"
          ],
          [
           "David Rossi",
           "Criminal Minds"
          ],
          [
           "Jerry Seinfeld",
           "Seinfeld"
          ],
          [
           "Leslie Thompkins",
           "Gotham"
          ],
          [
           "Monica Hall",
           "Silicon Valley"
          ],
          [
           "Claire Dunphy",
           "Modern Family"
          ],
          [
           "Taissa",
           "Yellowjackets"
          ],
          [
           "Jackie",
           "Yellowjackets"
          ],
          [
           "Jim Hopper",
           "Stranger Things"
          ],
          [
           "Mr. Big",
           "Sex and the City"
          ],
          [
           "Bree Van de Kamp",
           "Desperate Housewives"
          ],
          [
           "Lynette Scavo",
           "Desperate Housewives"
          ],
          [
           "Carlos Solis",
           "Desperate Housewives"
          ],
          [
           "Pete Campbell",
           "Mad Men"
          ],
          [
           "William Adama",
           "Battlestar Galactica"
          ],
          [
           "Laura Roslin",
           "Battlestar Galactica"
          ],
          [
           "Lee 'Apollo' Adama",
           "Battlestar Galactica"
          ],
          [
           "Betty Cooper",
           "Riverdale"
          ],
          [
           "Margaret 'Hot Lips' Houlihan",
           "M*A*S*H"
          ],
          [
           "James Doakes",
           "Dexter"
          ],
          [
           "Maria LaGuerta",
           "Dexter"
          ],
          [
           "Fitzgerald Grant",
           "Scandal"
          ],
          [
           "Mellie Grant",
           "Scandal"
          ],
          [
           "Abby Whelan",
           "Scandal"
          ],
          [
           "Tissaia",
           "The Witcher"
          ],
          [
           "Fringilla",
           "The Witcher"
          ],
          [
           "Rachel Berry",
           "Glee"
          ],
          [
           "Caitlyn Kiramman",
           "Arcane"
          ],
          [
           "Jayce Talis",
           "Arcane"
          ],
          [
           "Mel Medarda",
           "Arcane"
          ],
          [
           "Rachel Dawes",
           "The Dark Knight"
          ],
          [
           "Chrisjen Avasarala",
           "The Expanse"
          ],
          [
           "Bobbie Draper ",
           "The Expanse"
          ],
          [
           "Diane Lockhart",
           "The Good Wife"
          ],
          [
           "Alicia Florrick",
           "The Good Wife"
          ],
          [
           "Will Gardner",
           "The Good Wife"
          ],
          [
           "Cary Agos",
           "The Good Wife"
          ],
          [
           "Diana Barrigan",
           "White Collar"
          ],
          [
           "Olivia Benson",
           "Law & Order: SVU"
          ],
          [
           "Elliot Stabler",
           "Law & Order: SVU"
          ],
          [
           "Melinda Warner",
           "Law & Order: SVU"
          ],
          [
           "Princess Leia",
           "Star Wars"
          ],
          [
           "Abby Lockhart",
           "ER"
          ],
          [
           "Hank Schrader",
           "Breaking Bad"
          ],
          [
           "Marie Schrader",
           "Breaking Bad"
          ],
          [
           "Andrew Clark",
           "The Breakfast Club"
          ],
          [
           "Benvolio",
           "Romeo and Juliet"
          ],
          [
           "Chloe Decker",
           "Lucifer"
          ],
          [
           "Susie Derkins",
           "Calvin and Hobbes"
          ],
          [
           "George Washington",
           "Hamilton"
          ],
          [
           "Angelica Schuyler",
           "Hamilton"
          ],
          [
           "Jean-Luc Picard",
           "Star Trek: The Next Generation"
          ],
          [
           "William Riker",
           "Star Trek: The Next Generation"
          ],
          [
           "Worf",
           "Star Trek: The Next Generation"
          ],
          [
           "Tasha Yar",
           "Star Trek: The Next Generation"
          ]
         ],
         "hovertemplate": "myers_briggs=ESTJ<br>number_users=%{x}<br>avg_match_perc=%{y}<br>char_name=%{customdata[0]}<br>uni_name=%{customdata[1]}<extra></extra>",
         "legendgroup": "ESTJ",
         "marker": {
          "color": "#636efa",
          "symbol": "circle"
         },
         "mode": "markers",
         "name": "ESTJ",
         "orientation": "v",
         "showlegend": true,
         "type": "scatter",
         "x": [
          547,
          547,
          547,
          547,
          547,
          547,
          547,
          547,
          547,
          547,
          547,
          547,
          547,
          547,
          547,
          547,
          547,
          547,
          547,
          547,
          547,
          547,
          547,
          547,
          547,
          547,
          547,
          547,
          547,
          547,
          547,
          547,
          547,
          547,
          547,
          547,
          547,
          547,
          547,
          547,
          547,
          547,
          547,
          547,
          547,
          547,
          547,
          547,
          547,
          547,
          547,
          547,
          547,
          547,
          547,
          547,
          547,
          547,
          547,
          547,
          547,
          547,
          547,
          547,
          547,
          547,
          547,
          547,
          547,
          547,
          547,
          547,
          547,
          547,
          547,
          547,
          547,
          547,
          547,
          547,
          547,
          547,
          547,
          547,
          547,
          547,
          547,
          547,
          547,
          547,
          547,
          547,
          547,
          547,
          547,
          547,
          547,
          547,
          547
         ],
         "xaxis": "x",
         "y": [
          66.8,
          63.7,
          56.2,
          67.5,
          69.5,
          68.3,
          54.7,
          65.4,
          68.2,
          65,
          68,
          68.9,
          55.6,
          60.8,
          61.1,
          60.3,
          63.2,
          59.9,
          50.4,
          64,
          61.2,
          69.6,
          66.1,
          54.8,
          68.4,
          58.6,
          63,
          68.7,
          67.6,
          66.8,
          63.3,
          69,
          65.6,
          66.3,
          70.9,
          70.8,
          70.9,
          62.1,
          55.7,
          67.5,
          63.7,
          62,
          62.7,
          68.4,
          60.2,
          68.2,
          60.9,
          67.9,
          69.7,
          64.5,
          64,
          55.6,
          59.2,
          58.5,
          62.1,
          65.9,
          57.1,
          47.1,
          64.5,
          67.5,
          63.7,
          65.6,
          64.9,
          56.8,
          64.7,
          53,
          62.1,
          66.7,
          63.2,
          57.9,
          55.7,
          67.2,
          57,
          67.2,
          65.6,
          66.5,
          61.8,
          68.9,
          68.3,
          65.3,
          64.2,
          69.2,
          69.2,
          60.7,
          68.2,
          70.1,
          68.4,
          57.3,
          48,
          51.5,
          59.7,
          67.7,
          63.7,
          65.4,
          70.5,
          67.3,
          65.7,
          58.6,
          62.5
         ],
         "yaxis": "y"
        },
        {
         "customdata": [
          [
           "Rachel Green",
           "Friends"
          ],
          [
           "Kelly Kapoor",
           "The Office"
          ],
          [
           "Penny",
           "The Big Bang Theory"
          ],
          [
           "Alexis Rose",
           "Schitt's Creek"
          ],
          [
           "Serena van der Woodsen",
           "Gossip Girl"
          ],
          [
           "Homer Simpson",
           "The Simpsons"
          ],
          [
           "Michael Kelso",
           "That 70's Show"
          ],
          [
           "Haley Dunphy",
           "Modern Family"
          ],
          [
           "Karen Wheeler",
           "Stranger Things"
          ],
          [
           "Tom Scavo",
           "Desperate Housewives"
          ],
          [
           "Archie Andrews",
           "Riverdale"
          ],
          [
           "Gretchen Wieners",
           "Mean Girls"
          ],
          [
           "June George",
           "Mean Girls"
          ],
          [
           "Josh Chan",
           "Craze Ex-Girlfriend"
          ]
         ],
         "hovertemplate": "myers_briggs=ESFP<br>number_users=%{x}<br>avg_match_perc=%{y}<br>char_name=%{customdata[0]}<br>uni_name=%{customdata[1]}<extra></extra>",
         "legendgroup": "ESFP",
         "marker": {
          "color": "#EF553B",
          "symbol": "circle"
         },
         "mode": "markers",
         "name": "ESFP",
         "orientation": "v",
         "showlegend": true,
         "type": "scatter",
         "x": [
          1202,
          1202,
          1202,
          1202,
          1202,
          1202,
          1202,
          1202,
          1202,
          1202,
          1202,
          1202,
          1202,
          1202
         ],
         "xaxis": "x",
         "y": [
          64.6,
          59.9,
          66.3,
          63.9,
          63.4,
          55.1,
          59.8,
          62.7,
          56,
          56,
          59.4,
          53.9,
          61.1,
          59.4
         ],
         "yaxis": "y"
        },
        {
         "customdata": [
          [
           "Chandler Bing",
           "Friends"
          ],
          [
           "Dr. John A. Zoidberg",
           "Futurama"
          ],
          [
           "Kevin Malone",
           "The Office"
          ],
          [
           "Dobby",
           "Harry Potter"
          ],
          [
           "Moaning Myrtle",
           "Harry Potter"
          ],
          [
           "Greg Hirsch",
           "Succession"
          ],
          [
           "Connor Roy",
           "Succession"
          ],
          [
           "Jackson Belleville",
           "Gilmore Girls"
          ],
          [
           "Kirk Gleason",
           "Gilmore Girls"
          ],
          [
           "Barney Gumble",
           "The Simpsons"
          ],
          [
           "Tina Belcher",
           "Bob's Burgers"
          ],
          [
           "Wyatt Langmore",
           "Ozark"
          ],
          [
           "Nick Miller",
           "New Girl"
          ],
          [
           "Buster Bluth",
           "Arrested Development"
          ],
          [
           "Nelson Bighetti",
           "Silicon Valley"
          ],
          [
           "James Hurley",
           "Twin Peaks"
          ],
          [
           "Kenny McCormick",
           "South Park"
          ],
          [
           "Abbi Abrams",
           "Broad City"
          ],
          [
           "Maurice",
           "Beauty and the Beast"
          ]
         ],
         "hovertemplate": "myers_briggs=INFP<br>number_users=%{x}<br>avg_match_perc=%{y}<br>char_name=%{customdata[0]}<br>uni_name=%{customdata[1]}<extra></extra>",
         "legendgroup": "INFP",
         "marker": {
          "color": "#00cc96",
          "symbol": "circle"
         },
         "mode": "markers",
         "name": "INFP",
         "orientation": "v",
         "showlegend": true,
         "type": "scatter",
         "x": [
          23344,
          23344,
          23344,
          23344,
          23344,
          23344,
          23344,
          23344,
          23344,
          23344,
          23344,
          23344,
          23344,
          23344,
          23344,
          23344,
          23344,
          23344,
          23344
         ],
         "xaxis": "x",
         "y": [
          63.6,
          57.8,
          57.5,
          66.7,
          53.5,
          61.6,
          49.2,
          63.6,
          54.7,
          51.5,
          66.4,
          63.5,
          59.5,
          59.2,
          59.5,
          57.8,
          63.7,
          69.1,
          66.7
         ],
         "yaxis": "y"
        },
        {
         "customdata": [
          [
           "Joey Tribbiani",
           "Friends"
          ],
          [
           "Phoebe Buffay",
           "Friends"
          ],
          [
           "Jules Vaughn",
           "Euphoria"
          ],
          [
           "Cassie Howard",
           "Euphoria"
          ],
          [
           "Lily Aldrin",
           "How I Met Your Mother"
          ],
          [
           "Philip J. Fry",
           "Futurama"
          ],
          [
           "Amy Wong",
           "Futurama"
          ],
          [
           "Jim Halpert",
           "The Office"
          ],
          [
           "Michael Scott",
           "The Office"
          ],
          [
           "Andy Bernard",
           "The Office"
          ],
          [
           "Kelly Erin Hannon",
           "The Office"
          ],
          [
           "Harry Potter",
           "Harry Potter"
          ],
          [
           "Sirius Black",
           "Harry Potter"
          ],
          [
           "Rubeus Hagrid",
           "Harry Potter"
          ],
          [
           "Ron Weasley",
           "Harry Potter"
          ],
          [
           "Luna Lovegood",
           "Harry Potter"
          ],
          [
           "George Weasley",
           "Harry Potter"
          ],
          [
           "Nymphadora Tonks",
           "Harry Potter"
          ],
          [
           "Izzie Stevens",
           "Grey's Anatomy"
          ],
          [
           "Tom Haverford",
           "Parks and Recreation"
          ],
          [
           "Howard Wolowitz",
           "The Big Bang Theory"
          ],
          [
           "Clementine Pennyfeather",
           "Westworld"
          ],
          [
           "Klaus Hargreeves",
           "The Umbrella Academy"
          ],
          [
           "Lorelai Gilmore",
           "Gilmore Girls"
          ],
          [
           "Sookie St. James",
           "Gilmore Girls"
          ],
          [
           "Miss Patty",
           "Gilmore Girls"
          ],
          [
           "Christopher Turk",
           "Scrubs"
          ],
          [
           "John Michael Dorian",
           "Scrubs"
          ],
          [
           "Merry Brandybuck",
           "Lord of the Rings"
          ],
          [
           "Pippin Took",
           "Lord of the Rings"
          ],
          [
           "Linda Belcher",
           "Bob's Burgers"
          ],
          [
           "Gene Belcher",
           "Bob's Burgers"
          ],
          [
           "Keeley Jones",
           "Ted Lasso"
          ],
          [
           "Jack Hodgins",
           "Bones"
          ],
          [
           "Angela Montenegro",
           "Bones"
          ],
          [
           "Ian Gallagher",
           "Shameless"
          ],
          [
           "Kevin Ball",
           "Shameless"
          ],
          [
           "Reginald 'Bubbles' Cousins",
           "The Wire"
          ],
          [
           "Kaylee Frye",
           "Firefly + Serenity"
          ],
          [
           "Hoban Washburne",
           "Firefly + Serenity"
          ],
          [
           "Riley Blue",
           "Sense8"
          ],
          [
           "Amanita Caplan",
           "Sense8"
          ],
          [
           "Lito Rodriguez",
           "Sense8"
          ],
          [
           "Lady Sybil Crawley",
           "Downton Abbey"
          ],
          [
           "Daisy Mason",
           "Downton Abbey"
          ],
          [
           "Jason Mendoza",
           "The Good Place"
          ],
          [
           "Thor",
           "Marvel Cinematic Universe"
          ],
          [
           "Peter Jason Quill",
           "Marvel Cinematic Universe"
          ],
          [
           "Charlie Kelly",
           "It's Always Sunny in Philadelphia"
          ],
          [
           "Jess Day",
           "New Girl"
          ],
          [
           "Winston Bishop",
           "New Girl"
          ],
          [
           "Penelope Garcia",
           "Criminal Minds"
          ],
          [
           "Cosmo Kramer",
           "Seinfeld"
          ],
          [
           "Tobias Funke",
           "Arrested Development"
          ],
          [
           "Fez",
           "That 70's Show"
          ],
          [
           "Bob Pinciotti",
           "That 70's Show"
          ],
          [
           "Midge Pinciotti",
           "That 70's Show"
          ],
          [
           "Xander Harris",
           "Buffy the Vampire Slayer"
          ],
          [
           "Cameron Tucker",
           "Modern Family"
          ],
          [
           "Phil Dunphy",
           "Modern Family"
          ],
          [
           "Luke Dunphy",
           "Modern Family"
          ],
          [
           "Eleven",
           "Stranger Things"
          ],
          [
           "Dustin Henderson",
           "Stranger Things"
          ],
          [
           "Steve Harrington",
           "Stranger Things"
          ],
          [
           "Mike Wheeler",
           "Stranger Things"
          ],
          [
           "Shelly Johnson",
           "Twin Peaks"
          ],
          [
           "Lucy Moran",
           "Twin Peaks"
          ],
          [
           "Carrie Bradshaw",
           "Sex and the City"
          ],
          [
           "Susan Mayer",
           "Desperate Housewives"
          ],
          [
           "Stan Rizzo",
           "Mad Men"
          ],
          [
           "Paul Kinsey",
           "Mad Men"
          ],
          [
           "Aang",
           "Avatar: The Last Airbender"
          ],
          [
           "Sokka",
           "Avatar: The Last Airbender"
          ],
          [
           "Ty Lee",
           "Avatar: The Last Airbender"
          ],
          [
           "Frenchie",
           "The Boys"
          ],
          [
           "Troy Barnes",
           "Community"
          ],
          [
           "Craig Pelton",
           "Community"
          ],
          [
           "Wanda Maximoff",
           "WandaVision"
          ],
          [
           "Benjamin 'Hawkeye' Pierce",
           "M*A*S*H"
          ],
          [
           "Maxwell Klinger",
           "M*A*S*H"
          ],
          [
           "Vince Masuka",
           "Dexter"
          ],
          [
           "Jaskier",
           "The Witcher"
          ],
          [
           "Eric Effiong",
           "Sex Education"
          ],
          [
           "Aimee Gibbs",
           "Sex Education"
          ],
          [
           "Lily Iglehart",
           "Sex Education"
          ],
          [
           "Ola Nyman",
           "Sex Education"
          ],
          [
           "Brittany Pierce",
           "Glee"
          ],
          [
           "Will Schuester",
           "Glee"
          ],
          [
           "Damian Leigh",
           "Mean Girls"
          ],
          [
           "Karen Smith",
           "Mean Girls"
          ],
          [
           "Powder",
           "Arcane"
          ],
          [
           "Ekko",
           "Arcane"
          ],
          [
           "Ilana Wexler",
           "Broad City"
          ],
          [
           "Anna",
           "Frozen"
          ],
          [
           "Olaf",
           "Frozen"
          ],
          [
           "Fox Mulder",
           "The X-Files"
          ],
          [
           "William H. 'Shakespeare' Hill",
           "This Is Us"
          ],
          [
           "Kevin Pearson",
           "This Is Us"
          ],
          [
           "Toby Damon",
           "This Is Us"
          ],
          [
           "Crazy Eyes",
           "Orange is the New Black"
          ],
          [
           "Lorna Morello",
           "Orange is the New Black"
          ],
          [
           "Jake Peralta",
           "Brooklyn Nine-Nine"
          ],
          [
           "Jesse Pinkman",
           "Breaking Bad"
          ],
          [
           "Simba",
           "The Lion King"
          ],
          [
           "Timon",
           "The Lion King"
          ],
          [
           "Pumbaa",
           "The Lion King"
          ],
          [
           "Lumiere",
           "Beauty and the Beast"
          ],
          [
           "Romeo Montague",
           "Romeo and Juliet"
          ],
          [
           "Juliet Capulet",
           "Romeo and Juliet"
          ],
          [
           "Hobbes",
           "Calvin and Hobbes"
          ],
          [
           "Abby Sciuto",
           "NCIS"
          ],
          [
           "Theodore Laurence",
           "Little Women"
          ],
          [
           "SpongeBob SquarePants",
           "SpongeBob SquarePants"
          ],
          [
           "Patrick Star",
           "SpongeBob SquarePants"
          ]
         ],
         "hovertemplate": "myers_briggs=ENFP<br>number_users=%{x}<br>avg_match_perc=%{y}<br>char_name=%{customdata[0]}<br>uni_name=%{customdata[1]}<extra></extra>",
         "legendgroup": "ENFP",
         "marker": {
          "color": "#ab63fa",
          "symbol": "circle"
         },
         "mode": "markers",
         "name": "ENFP",
         "orientation": "v",
         "showlegend": true,
         "type": "scatter",
         "x": [
          10817,
          10817,
          10817,
          10817,
          10817,
          10817,
          10817,
          10817,
          10817,
          10817,
          10817,
          10817,
          10817,
          10817,
          10817,
          10817,
          10817,
          10817,
          10817,
          10817,
          10817,
          10817,
          10817,
          10817,
          10817,
          10817,
          10817,
          10817,
          10817,
          10817,
          10817,
          10817,
          10817,
          10817,
          10817,
          10817,
          10817,
          10817,
          10817,
          10817,
          10817,
          10817,
          10817,
          10817,
          10817,
          10817,
          10817,
          10817,
          10817,
          10817,
          10817,
          10817,
          10817,
          10817,
          10817,
          10817,
          10817,
          10817,
          10817,
          10817,
          10817,
          10817,
          10817,
          10817,
          10817,
          10817,
          10817,
          10817,
          10817,
          10817,
          10817,
          10817,
          10817,
          10817,
          10817,
          10817,
          10817,
          10817,
          10817,
          10817,
          10817,
          10817,
          10817,
          10817,
          10817,
          10817,
          10817,
          10817,
          10817,
          10817,
          10817,
          10817,
          10817,
          10817,
          10817,
          10817,
          10817,
          10817,
          10817,
          10817,
          10817,
          10817,
          10817,
          10817,
          10817,
          10817,
          10817,
          10817,
          10817,
          10817,
          10817,
          10817,
          10817,
          10817
         ],
         "xaxis": "x",
         "y": [
          65.2,
          72.9,
          72,
          67.7,
          73.7,
          62.3,
          67.3,
          68.5,
          63.5,
          57.9,
          64.8,
          68.3,
          69.3,
          67.4,
          63.4,
          72.6,
          71.8,
          73.1,
          68.7,
          62.4,
          58.4,
          60.3,
          69,
          72.9,
          72,
          69.5,
          69.6,
          69.4,
          69.3,
          68.6,
          72,
          65.7,
          72.6,
          68.9,
          75.6,
          67.9,
          67.7,
          69.4,
          71.3,
          71.8,
          73.9,
          74.3,
          70.9,
          73.7,
          62.5,
          64.2,
          64.5,
          66.1,
          61,
          71.3,
          70.8,
          75,
          65.3,
          61.7,
          69.2,
          57.5,
          64,
          61.6,
          69.7,
          69.5,
          61.6,
          62.1,
          71.6,
          69.7,
          62.2,
          65.5,
          65.3,
          70.2,
          65.6,
          69.4,
          58.7,
          71,
          67.2,
          70.9,
          69.9,
          69.4,
          64.1,
          66.5,
          69.8,
          72.1,
          62,
          71.8,
          74.3,
          71.2,
          70.1,
          71.4,
          67.4,
          58.3,
          73.8,
          59.7,
          63.5,
          67.6,
          66.9,
          71.8,
          70.1,
          69.7,
          69.4,
          63.9,
          72,
          66.7,
          66.4,
          70.2,
          63.3,
          69.2,
          68.2,
          67.7,
          72.7,
          63.8,
          65.6,
          72,
          74.1,
          72.4,
          67.9,
          61.5
         ],
         "yaxis": "y"
        },
        {
         "customdata": [
          [
           "Ross Geller",
           "Friends"
          ],
          [
           "Brienne of Tarth",
           "Game of Thrones"
          ],
          [
           "Stannis Baratheon",
           "Game of Thrones"
          ],
          [
           "Hermes Conrad",
           "Futurama"
          ],
          [
           "Stanley Hudson",
           "The Office"
          ],
          [
           "Angela Martin",
           "The Office"
          ],
          [
           "Filius Flitwick",
           "Harry Potter"
          ],
          [
           "Dolores Umbridge",
           "Harry Potter"
          ],
          [
           "Cornelius Fudge",
           "Harry Potter"
          ],
          [
           "Petunia Dursley",
           "Harry Potter"
          ],
          [
           "Preston Burke",
           "Grey's Anatomy"
          ],
          [
           "Dr. Eric Foreman",
           "House"
          ],
          [
           "Ron Swanson",
           "Parks and Recreation"
          ],
          [
           "Mark Brendanawicz",
           "Parks and Recreation"
          ],
          [
           "Sheldon Cooper",
           "The Big Bang Theory"
          ],
          [
           "Frank Vernon",
           "Succession"
          ],
          [
           "Lawrence Yee",
           "Succession"
          ],
          [
           "Theresa Cullen",
           "Westworld"
          ],
          [
           "Elsie Hughes",
           "Westworld"
          ],
          [
           "Ashley Stubbs",
           "Westworld"
          ],
          [
           "Pete Hornberger",
           "30 Rock"
          ],
          [
           "Luther Hargreeves",
           "The Umbrella Academy"
          ],
          [
           "Luke Danes",
           "Gilmore Girls"
          ],
          [
           "Dan Humphrey",
           "Gossip Girl"
          ],
          [
           "Principal Skinner",
           "The Simpsons"
          ],
          [
           "Bob Kelso",
           "Scrubs"
          ],
          [
           "Dr. Sharon Fieldstone",
           "Ted Lasso"
          ],
          [
           "Nathan Shelley",
           "Ted Lasso"
          ],
          [
           "Temperance Brennan",
           "Bones"
          ],
          [
           "Marty Byrde",
           "Ozark"
          ],
          [
           "Cedric Daniels",
           "The Wire"
          ],
          [
           "Ervin Burrell",
           "The Wire"
          ],
          [
           "Frank Sobotka",
           "The Wire"
          ],
          [
           "William Rawls",
           "The Wire"
          ],
          [
           "Charlie Carson",
           "Downton Abbey"
          ],
          [
           "Aaron Hotchner",
           "Criminal Minds"
          ],
          [
           "Helen Seinfeld",
           "Seinfeld"
          ],
          [
           "Morty Seinfeld",
           "Seinfeld"
          ],
          [
           "Michael Bluth",
           "Arrested Development"
          ],
          [
           "Amy Brookheimer",
           "Veep"
          ],
          [
           "Red Forman",
           "That 70's Show"
          ],
          [
           "Dinesh Chugtai",
           "Silicon Valley"
          ],
          [
           "Rupert Giles",
           "Buffy the Vampire Slayer"
          ],
          [
           "Jay Pritchett",
           "Modern Family"
          ],
          [
           "Alex Dunphy",
           "Modern Family"
          ],
          [
           "Miranda Hobbes",
           "Sex and the City"
          ],
          [
           "Lane Pryce",
           "Mad Men"
          ],
          [
           "Betty Draper",
           "Mad Men"
          ],
          [
           "Henry Francis",
           "Mad Men"
          ],
          [
           "Saul Tigh",
           "Battlestar Galactica"
          ],
          [
           "Felix Gaeta",
           "Battlestar Galactica"
          ],
          [
           "Ashley Barrett",
           "The Boys"
          ],
          [
           "Frank Burns",
           "M*A*S*H"
          ],
          [
           "Harry Morgan",
           "Dexter"
          ],
          [
           "Thomas Matthews",
           "Dexter"
          ],
          [
           "Mycroft Holmes",
           "Sherlock"
          ],
          [
           "Michael Groff",
           "Sex Education"
          ],
          [
           "Cecil B. Heimerdinger",
           "Arcane"
          ],
          [
           "James Norrington",
           "Pirates of the Carribean"
          ],
          [
           "Anthony Garcia",
           "The Dark Knight"
          ],
          [
           "Lau",
           "The Dark Knight"
          ],
          [
           "Peter Burke",
           "White Collar"
          ],
          [
           "Donald Cragen",
           "Law & Order: SVU"
          ],
          [
           "John Munch",
           "Law & Order: SVU"
          ],
          [
           "Charlie Strong",
           "Peaky Blinders"
          ],
          [
           "Dana Scully",
           "The X-Files"
          ],
          [
           "Walter Skinner",
           "The X-Files"
          ],
          [
           "Kerry Weaver",
           "ER"
          ],
          [
           "Sam Healy",
           "Orange is the New Black"
          ],
          [
           "Raymond Holt",
           "Brooklyn Nine-Nine"
          ],
          [
           "Mike Ehrmantraut",
           "Breaking Bad"
          ],
          [
           "Skyler White",
           "Breaking Bad"
          ],
          [
           "Cogsworth",
           "Beauty and the Beast"
          ],
          [
           "Principal Vernon",
           "The Breakfast Club"
          ],
          [
           "Calvin's mom",
           "Calvin and Hobbes"
          ],
          [
           "Calvin's dad",
           "Calvin and Hobbes"
          ],
          [
           "Leroy Jethro Gibbs",
           "NCIS"
          ],
          [
           "Aaron Burr",
           "Hamilton"
          ],
          [
           "Squidward Tentacles",
           "SpongeBob SquarePants"
          ]
         ],
         "hovertemplate": "myers_briggs=ISTJ<br>number_users=%{x}<br>avg_match_perc=%{y}<br>char_name=%{customdata[0]}<br>uni_name=%{customdata[1]}<extra></extra>",
         "legendgroup": "ISTJ",
         "marker": {
          "color": "#FFA15A",
          "symbol": "circle"
         },
         "mode": "markers",
         "name": "ISTJ",
         "orientation": "v",
         "showlegend": true,
         "type": "scatter",
         "x": [
          1475,
          1475,
          1475,
          1475,
          1475,
          1475,
          1475,
          1475,
          1475,
          1475,
          1475,
          1475,
          1475,
          1475,
          1475,
          1475,
          1475,
          1475,
          1475,
          1475,
          1475,
          1475,
          1475,
          1475,
          1475,
          1475,
          1475,
          1475,
          1475,
          1475,
          1475,
          1475,
          1475,
          1475,
          1475,
          1475,
          1475,
          1475,
          1475,
          1475,
          1475,
          1475,
          1475,
          1475,
          1475,
          1475,
          1475,
          1475,
          1475,
          1475,
          1475,
          1475,
          1475,
          1475,
          1475,
          1475,
          1475,
          1475,
          1475,
          1475,
          1475,
          1475,
          1475,
          1475,
          1475,
          1475,
          1475,
          1475,
          1475,
          1475,
          1475,
          1475,
          1475,
          1475,
          1475,
          1475,
          1475,
          1475,
          1475
         ],
         "xaxis": "x",
         "y": [
          60,
          62.8,
          50,
          65.4,
          59.9,
          58.4,
          66,
          48.6,
          48.1,
          49.1,
          61.4,
          64.9,
          60.4,
          58.4,
          61.3,
          61.6,
          59.1,
          60.9,
          67.3,
          58.3,
          55.1,
          52.8,
          60.3,
          57.2,
          54.4,
          53.6,
          67.3,
          51,
          66.5,
          65.5,
          64.9,
          52.1,
          51,
          50.6,
          64.2,
          65.6,
          58.3,
          51.7,
          65.2,
          62.1,
          57,
          54.6,
          68,
          57.7,
          68.4,
          67.4,
          63.5,
          51.5,
          60,
          52.8,
          64.9,
          54.1,
          50.5,
          61.6,
          57.4,
          61.5,
          53.1,
          64.5,
          56.7,
          57.2,
          55.3,
          65.3,
          65.2,
          67.2,
          56.4,
          68,
          63.3,
          64.7,
          48.1,
          66.9,
          61.6,
          58.1,
          63.2,
          49.1,
          65.1,
          64.7,
          64.1,
          61.3,
          59.2
         ],
         "yaxis": "y"
        },
        {
         "customdata": [
          [
           "Rue Bennett",
           "Euphoria"
          ],
          [
           "Maddy Perez",
           "Euphoria"
          ],
          [
           "Barney Stinson",
           "How I Met Your Mother"
          ],
          [
           "Oberyn Martell",
           "Game of Thrones"
          ],
          [
           "Joffrey Baratheon",
           "Game of Thrones"
          ],
          [
           "Shae",
           "Game of Thrones"
          ],
          [
           "Professor Hubert J. Farnsworth",
           "Futurama"
          ],
          [
           "Bender Bending Rodriguez",
           "Futurama"
          ],
          [
           "Kelly Kapoor",
           "The Office"
          ],
          [
           "Ryan Howard",
           "The Office"
          ],
          [
           "Meredith Palmer",
           "The Office"
          ],
          [
           "Robert California",
           "The Office"
          ],
          [
           "Draco Malfoy",
           "Harry Potter"
          ],
          [
           "Bellatrix Lestrange",
           "Harry Potter"
          ],
          [
           "Rita Skeeter",
           "Harry Potter"
          ],
          [
           "Dr. Gregory House",
           "House"
          ],
          [
           "April Ludgate",
           "Parks and Recreation"
          ],
          [
           "Roman Roy",
           "Succession"
          ],
          [
           "Lee Sizemore",
           "Westworld"
          ],
          [
           "Logan Delos",
           "Westworld"
          ],
          [
           "Tracy Jordan",
           "30 Rock"
          ],
          [
           "Jenna Maroney",
           "30 Rock"
          ],
          [
           "David Rose",
           "Schitt's Creek"
          ],
          [
           "Moira Rose",
           "Schitt's Creek"
          ],
          [
           "Chuck Bass",
           "Gossip Girl"
          ],
          [
           "Bart Simpson",
           "The Simpsons"
          ],
          [
           "Krusty the Clown",
           "The Simpsons"
          ],
          [
           "Nelson Muntz",
           "The Simpsons"
          ],
          [
           "Gollum",
           "Lord of the Rings"
          ],
          [
           "Louise Belcher",
           "Bob's Burgers"
          ],
          [
           "Merle Dixon",
           "The Walking Dead"
          ],
          [
           "Sterling Archer",
           "Archer"
          ],
          [
           "Pamela Poovey",
           "Archer"
          ],
          [
           "Cheryl Tunt",
           "Archer"
          ],
          [
           "Ruth Langmore",
           "Ozark"
          ],
          [
           "Darlene Snell",
           "Ozark"
          ],
          [
           "Fiona Gallagher",
           "Shameless"
          ],
          [
           "Lip Gallagher",
           "Shameless"
          ],
          [
           "Frank Gallagher",
           "Shameless"
          ],
          [
           "Debbie Gallagher",
           "Shameless"
          ],
          [
           "Jimmy McNulty",
           "The Wire"
          ],
          [
           "Clay Davis",
           "The Wire"
          ],
          [
           "Ziggy Sobotka",
           "The Wire"
          ],
          [
           "Christopher Moltisanti",
           "The Sopranos"
          ],
          [
           "Janice Soprano",
           "The Sopranos"
          ],
          [
           "River Tam",
           "Firefly + Serenity"
          ],
          [
           "Wolfgang Bogdanow",
           "Sense8"
          ],
          [
           "Thomas Barrow",
           "Downton Abbey"
          ],
          [
           "Eleanor Shellstrop",
           "The Good Place"
          ],
          [
           "Loki",
           "Marvel Cinematic Universe"
          ],
          [
           "Frank Reynolds",
           "It's Always Sunny in Philadelphia"
          ],
          [
           "Dennis Reynolds",
           "It's Always Sunny in Philadelphia"
          ],
          [
           "Mac",
           "It's Always Sunny in Philadelphia"
          ],
          [
           "Dee Reynolds",
           "It's Always Sunny in Philadelphia"
          ],
          [
           "Elaine Benes",
           "Seinfeld"
          ],
          [
           "Selina Kyle",
           "Gotham"
          ],
          [
           "Oswald Cobblepot",
           "Gotham"
          ],
          [
           "Barbara Kean",
           "Gotham"
          ],
          [
           "George Bluth, Sr.",
           "Arrested Development"
          ],
          [
           "Maeby Funke",
           "Arrested Development"
          ],
          [
           "Lindsay Bluth Funke",
           "Arrested Development"
          ],
          [
           "George Oscar 'Gob' Bluth",
           "Arrested Development"
          ],
          [
           "Oscar Bluth",
           "Arrested Development"
          ],
          [
           "Selina Meyer",
           "Veep"
          ],
          [
           "Jonah Ryan",
           "Veep"
          ],
          [
           "Steven Hyde",
           "That 70's Show"
          ],
          [
           "Jian-Yang",
           "Silicon Valley"
          ],
          [
           "Erlich Bachman",
           "Silicon Valley"
          ],
          [
           "Natalie",
           "Yellowjackets"
          ],
          [
           "Misty",
           "Yellowjackets"
          ],
          [
           "Robin Buckley",
           "Stranger Things"
          ],
          [
           "Billy Hargrove",
           "Stranger Things"
          ],
          [
           "Audrey Horne",
           "Twin Peaks"
          ],
          [
           "Leland Palmer",
           "Twin Peaks"
          ],
          [
           "Bobby Briggs",
           "Twin Peaks"
          ],
          [
           "Edie Britt",
           "Desperate Housewives"
          ],
          [
           "Roger Sterling",
           "Mad Men"
          ],
          [
           "Kara 'Starbuck' Thrace",
           "Battlestar Galactica"
          ],
          [
           "Gaius Baltar",
           "Battlestar Galactica"
          ],
          [
           "Billy Butcher",
           "The Boys"
          ],
          [
           "Homelander",
           "The Boys"
          ],
          [
           "The Deep",
           "The Boys"
          ],
          [
           "Eric Cartman",
           "South Park"
          ],
          [
           "Britta Perry",
           "Community"
          ],
          [
           "Ben Chang",
           "Community"
          ],
          [
           "Pierce Hawthorne",
           "Community"
          ],
          [
           "Ian Duncan",
           "Community"
          ],
          [
           "Agatha Harkness",
           "WandaVision"
          ],
          [
           "Quinn Perkins",
           "Scandal"
          ],
          [
           "Ragnar Lothbrok",
           "Vikings"
          ],
          [
           "Floki",
           "Vikings"
          ],
          [
           "Ivar Ragnarsson",
           "Vikings"
          ],
          [
           "Harald Finehair",
           "Vikings"
          ],
          [
           "Yennefer",
           "The Witcher"
          ],
          [
           "Maeve Wiley",
           "Sex Education"
          ],
          [
           "Janis Ian",
           "Mean Girls"
          ],
          [
           "Rebecca Bunch",
           "Craze Ex-Girlfriend"
          ],
          [
           "Wynonna Earp",
           "Wynonna Earp"
          ],
          [
           "Doc Holliday",
           "Wynonna Earp"
          ],
          [
           "Villanelle",
           "Killing Eve"
          ],
          [
           "Jack Sparrow",
           "Pirates of the Carribean"
          ],
          [
           "Hector Barbossa",
           "Pirates of the Carribean"
          ],
          [
           "The Joker",
           "The Dark Knight"
          ],
          [
           "Neal Caffrey",
           "White Collar"
          ],
          [
           "Mozzie",
           "White Collar"
          ],
          [
           "Arthur Shelby",
           "Peaky Blinders"
          ],
          [
           "Nicky Nichols",
           "Orange is the New Black"
          ],
          [
           "Pennsatucky Doggett",
           "Orange is the New Black"
          ],
          [
           "Flaca Gonzales",
           "Orange is the New Black"
          ],
          [
           "Saul Goodman",
           "Breaking Bad"
          ],
          [
           "Jane Margolis",
           "Breaking Bad"
          ],
          [
           "John Bender",
           "The Breakfast Club"
          ],
          [
           "Mercutio",
           "Romeo and Juliet"
          ],
          [
           "Lucifer Morningstar",
           "Lucifer"
          ],
          [
           "Mazikeen",
           "Lucifer"
          ],
          [
           "Calvin",
           "Calvin and Hobbes"
          ],
          [
           "Alexander Hamilton",
           "Hamilton"
          ],
          [
           "King George III",
           "Hamilton"
          ],
          [
           "Jo March",
           "Little Women"
          ]
         ],
         "hovertemplate": "myers_briggs=ENTP<br>number_users=%{x}<br>avg_match_perc=%{y}<br>char_name=%{customdata[0]}<br>uni_name=%{customdata[1]}<extra></extra>",
         "legendgroup": "ENTP",
         "marker": {
          "color": "#19d3f3",
          "symbol": "circle"
         },
         "mode": "markers",
         "name": "ENTP",
         "orientation": "v",
         "showlegend": true,
         "type": "scatter",
         "x": [
          5934,
          5934,
          5934,
          5934,
          5934,
          5934,
          5934,
          5934,
          5934,
          5934,
          5934,
          5934,
          5934,
          5934,
          5934,
          5934,
          5934,
          5934,
          5934,
          5934,
          5934,
          5934,
          5934,
          5934,
          5934,
          5934,
          5934,
          5934,
          5934,
          5934,
          5934,
          5934,
          5934,
          5934,
          5934,
          5934,
          5934,
          5934,
          5934,
          5934,
          5934,
          5934,
          5934,
          5934,
          5934,
          5934,
          5934,
          5934,
          5934,
          5934,
          5934,
          5934,
          5934,
          5934,
          5934,
          5934,
          5934,
          5934,
          5934,
          5934,
          5934,
          5934,
          5934,
          5934,
          5934,
          5934,
          5934,
          5934,
          5934,
          5934,
          5934,
          5934,
          5934,
          5934,
          5934,
          5934,
          5934,
          5934,
          5934,
          5934,
          5934,
          5934,
          5934,
          5934,
          5934,
          5934,
          5934,
          5934,
          5934,
          5934,
          5934,
          5934,
          5934,
          5934,
          5934,
          5934,
          5934,
          5934,
          5934,
          5934,
          5934,
          5934,
          5934,
          5934,
          5934,
          5934,
          5934,
          5934,
          5934,
          5934,
          5934,
          5934,
          5934,
          5934,
          5934,
          5934,
          5934,
          5934,
          5934
         ],
         "xaxis": "x",
         "y": [
          62.9,
          62.4,
          63.6,
          67.1,
          49.4,
          62,
          59.5,
          60.8,
          59.9,
          53.7,
          57.4,
          59.5,
          51.6,
          60.1,
          54.3,
          63,
          64,
          60.4,
          55.8,
          55.9,
          60.7,
          58.2,
          63,
          61.7,
          60.5,
          61.2,
          56.3,
          51.7,
          51.1,
          66.8,
          52.9,
          61.4,
          61.5,
          58.5,
          60.8,
          53,
          65,
          65.7,
          55.8,
          61.2,
          62.2,
          56.6,
          55,
          56.4,
          56.7,
          63.2,
          62,
          57.1,
          66.5,
          64.6,
          58.1,
          55,
          53.5,
          55.6,
          66.2,
          65.8,
          57,
          61.9,
          55.1,
          66.9,
          58.2,
          56.1,
          55.6,
          56.7,
          49,
          63.7,
          56.1,
          59,
          66.1,
          56.1,
          70.9,
          56.1,
          68,
          54.2,
          58.1,
          61.2,
          60.7,
          64,
          59.4,
          58.1,
          50.9,
          47.9,
          55.4,
          62.9,
          57.7,
          50.3,
          53.1,
          61.4,
          60.7,
          66.2,
          64.6,
          58.6,
          54.5,
          65,
          67.3,
          66.1,
          62.9,
          66.6,
          60.3,
          67.3,
          65.9,
          59.8,
          64.6,
          68.8,
          65.1,
          54,
          68.3,
          54.4,
          65.3,
          63.6,
          66.7,
          62.4,
          65.1,
          68.7,
          65.1,
          64.3,
          64,
          52.1,
          69.2
         ],
         "yaxis": "y"
        },
        {
         "customdata": [
          [
           "Nate Jacobs",
           "Euphoria"
          ],
          [
           "Jaime Lannister",
           "Game of Thrones"
          ],
          [
           "Ygritte",
           "Game of Thrones"
          ],
          [
           "Bronn",
           "Game of Thrones"
          ],
          [
           "Zapp Brannigan",
           "Futurama"
          ],
          [
           "Alex Karev",
           "Grey's Anatomy"
          ],
          [
           "Donna Meagle",
           "Parks and Recreation"
          ],
          [
           "Diego Hargreeves",
           "The Umbrella Academy"
          ],
          [
           "Logan Huntzberger",
           "Gilmore Girls"
          ],
          [
           "Gimli",
           "Lord of the Rings"
          ],
          [
           "Jamie Tartt",
           "Ted Lasso"
          ],
          [
           "Shane Walsh",
           "The Walking Dead"
          ],
          [
           "Andrea",
           "The Walking Dead"
          ],
          [
           "Fiona Gallagher",
           "Shameless"
          ],
          [
           "Carl Gallagher",
           "Shameless"
          ],
          [
           "Preston 'Bodie' Broadus",
           "The Wire"
          ],
          [
           "Thomas 'Herc' Hauk",
           "The Wire"
          ],
          [
           "Nick Sobotka",
           "The Wire"
          ],
          [
           "Paulie 'Walnuts' Gualtieri",
           "The Sopranos"
          ],
          [
           "Malcolm Reynolds",
           "Firefly + Serenity"
          ],
          [
           "Jayne Cobb",
           "Firefly + Serenity"
          ],
          [
           "Cece Parekh",
           "New Girl"
          ],
          [
           "Harvey Bullock",
           "Gotham"
          ],
          [
           "Jackie Burkhart",
           "That 70's Show"
          ],
          [
           "Gloria Delgado-Pritchett",
           "Modern Family"
          ],
          [
           "Max Mayfield",
           "Stranger Things"
          ],
          [
           "Erica Sinclair",
           "Stranger Things"
          ],
          [
           "Samantha Jones",
           "Sex and the City"
          ],
          [
           "Gabrielle Solis",
           "Desperate Housewives"
          ],
          [
           "Roger Sterling",
           "Mad Men"
          ],
          [
           "Samuel 'Longshot' Anders",
           "Battlestar Galactica"
          ],
          [
           "Toph Beifong",
           "Avatar: The Last Airbender"
          ],
          [
           "A-Train",
           "The Boys"
          ],
          [
           "Jeff Winger",
           "Community"
          ],
          [
           "Debra Morgan",
           "Dexter"
          ],
          [
           "Joey Quinn",
           "Dexter"
          ],
          [
           "Rollo Sigurdsson",
           "Vikings"
          ],
          [
           "Santana Lopez",
           "Glee"
          ],
          [
           "Noah Puckerman",
           "Glee"
          ],
          [
           "Vi",
           "Arcane"
          ],
          [
           "Sal Maroni",
           "The Dark Knight"
          ],
          [
           "Amos Burton",
           "The Expanse"
          ],
          [
           "Han Solo",
           "Star Wars"
          ],
          [
           "Arthur Shelby",
           "Peaky Blinders"
          ],
          [
           "Gaston",
           "Beauty and the Beast"
          ],
          [
           "Anthony DiNozzo",
           "NCIS"
          ]
         ],
         "hovertemplate": "myers_briggs=ESTP<br>number_users=%{x}<br>avg_match_perc=%{y}<br>char_name=%{customdata[0]}<br>uni_name=%{customdata[1]}<extra></extra>",
         "legendgroup": "ESTP",
         "marker": {
          "color": "#FF6692",
          "symbol": "circle"
         },
         "mode": "markers",
         "name": "ESTP",
         "orientation": "v",
         "showlegend": true,
         "type": "scatter",
         "x": [
          765,
          765,
          765,
          765,
          765,
          765,
          765,
          765,
          765,
          765,
          765,
          765,
          765,
          765,
          765,
          765,
          765,
          765,
          765,
          765,
          765,
          765,
          765,
          765,
          765,
          765,
          765,
          765,
          765,
          765,
          765,
          765,
          765,
          765,
          765,
          765,
          765,
          765,
          765,
          765,
          765,
          765,
          765,
          765,
          765,
          765
         ],
         "xaxis": "x",
         "y": [
          49.2,
          60.2,
          63.5,
          61.3,
          51.6,
          63.6,
          67.8,
          58.2,
          63.4,
          56.5,
          56.1,
          52.2,
          55.9,
          65,
          63.1,
          60.7,
          51.9,
          51,
          55.6,
          65.6,
          54.4,
          67.5,
          56,
          58.1,
          65.9,
          68.8,
          64.5,
          66.8,
          62.5,
          60.7,
          61.1,
          63.3,
          52.6,
          59.7,
          61,
          57.6,
          55.1,
          64.3,
          56.4,
          64.2,
          52.8,
          56.7,
          65.2,
          54,
          49.7,
          65.9
         ],
         "yaxis": "y"
        },
        {
         "customdata": [
          [
           "Lexi Howard",
           "Euphoria"
          ],
          [
           "Ted Mosby",
           "How I Met Your Mother"
          ],
          [
           "Jon Snow",
           "Game of Thrones"
          ],
          [
           "Eddard Stark",
           "Game of Thrones"
          ],
          [
           "Samwell Tarly",
           "Game of Thrones"
          ],
          [
           "Davos Seaworth",
           "Game of Thrones"
          ],
          [
           "Jorah Mormont",
           "Game of Thrones"
          ],
          [
           "Catelyn Stark",
           "Game of Thrones"
          ],
          [
           "Hermes Conrad",
           "Futurama"
          ],
          [
           "Kif Kroker",
           "Futurama"
          ],
          [
           "Pam Beesly",
           "The Office"
          ],
          [
           "Phyllis Lapin",
           "The Office"
          ],
          [
           "Horace Slughorn",
           "Harry Potter"
          ],
          [
           "Cho Chang",
           "Harry Potter"
          ],
          [
           "George O'Malley",
           "Grey's Anatomy"
          ],
          [
           "Dr. James Wilson",
           "House"
          ],
          [
           "Dr. Allison Cameron",
           "House"
          ],
          [
           "Ben Wyatt",
           "Parks and Recreation"
          ],
          [
           "Ann Perkins",
           "Parks and Recreation"
          ],
          [
           "Jerry Gergich",
           "Parks and Recreation"
          ],
          [
           "Leonard Hofstadter",
           "The Big Bang Theory"
          ],
          [
           "Amy Farrah Fowler",
           "The Big Bang Theory"
          ],
          [
           "Raj Koothrappali",
           "The Big Bang Theory"
          ],
          [
           "Stuart Bloom",
           "The Big Bang Theory"
          ],
          [
           "Tom Wambsgans",
           "Succession"
          ],
          [
           "Bernard Lowe",
           "Westworld"
          ],
          [
           "Teddy Flood",
           "Westworld"
          ],
          [
           "Felix Lutz",
           "Westworld"
          ],
          [
           "Liz Lemon",
           "30 Rock"
          ],
          [
           "Kenneth Parcell",
           "30 Rock"
          ],
          [
           "Ben Hargreeves",
           "The Umbrella Academy"
          ],
          [
           "Vanya Hargreeves",
           "The Umbrella Academy"
          ],
          [
           "Rory Gilmore",
           "Gilmore Girls"
          ],
          [
           "Dean Forester",
           "Gilmore Girls"
          ],
          [
           "Ted Mullens",
           "Schitt's Creek"
          ],
          [
           "Lisa Simpson",
           "The Simpsons"
          ],
          [
           "Marge Simpson",
           "The Simpsons"
          ],
          [
           "Ned Flanders",
           "The Simpsons"
          ],
          [
           "Apu Nahasapeemapetilon",
           "The Simpsons"
          ],
          [
           "Milhouse Van Houten",
           "The Simpsons"
          ],
          [
           "Waylon Smithers",
           "The Simpsons"
          ],
          [
           "Frodo Baggins",
           "Lord of the Rings"
          ],
          [
           "Samwise Gamgee",
           "Lord of the Rings"
          ],
          [
           "Bob Belcher",
           "Bob's Burgers"
          ],
          [
           "Leslie Higgins",
           "Ted Lasso"
          ],
          [
           "Glenn Rhee",
           "The Walking Dead"
          ],
          [
           "Dale Horvath",
           "The Walking Dead"
          ],
          [
           "Lori Grimes",
           "The Walking Dead"
          ],
          [
           "Cyril Figgis",
           "Archer"
          ],
          [
           "Beatrice 'Beadie' Russell",
           "The Wire"
          ],
          [
           "Roland 'Prez' Pryzbylewski",
           "The Wire"
          ],
          [
           "Charlie Young",
           "The West Wing"
          ],
          [
           "Dr. Jennifer Melfi",
           "The Sopranos"
          ],
          [
           "Derrial Book",
           "Firefly + Serenity"
          ],
          [
           "Simon Tam",
           "Firefly + Serenity"
          ],
          [
           "Kala Dandekar",
           "Sense8"
          ],
          [
           "Will Gorski",
           "Sense8"
          ],
          [
           "Elsie Carson",
           "Downton Abbey"
          ],
          [
           "John Bates",
           "Downton Abbey"
          ],
          [
           "Anna Bates",
           "Downton Abbey"
          ],
          [
           "Lady Edith Crawley",
           "Downton Abbey"
          ],
          [
           "William Mason",
           "Downton Abbey"
          ],
          [
           "Chidi Anagonye",
           "The Good Place"
          ],
          [
           "Bruce Banner",
           "Marvel Cinematic Universe"
          ],
          [
           "Dr. Spencer Reid",
           "Criminal Minds"
          ],
          [
           "Lucius Fox",
           "Gotham"
          ],
          [
           "George Michael Bluth",
           "Arrested Development"
          ],
          [
           "Gary Walsh",
           "Veep"
          ],
          [
           "Eric Forman",
           "That 70's Show"
          ],
          [
           "Richard Hendricks",
           "Silicon Valley"
          ],
          [
           "Jared Dunn",
           "Silicon Valley"
          ],
          [
           "Rupert Giles",
           "Buffy the Vampire Slayer"
          ],
          [
           "Willow Rosenberg",
           "Buffy the Vampire Slayer"
          ],
          [
           "Mitchell Pritchett",
           "Modern Family"
          ],
          [
           "Manny Delgado",
           "Modern Family"
          ],
          [
           "Ben Scott",
           "Yellowjackets"
          ],
          [
           "Will Byers",
           "Stranger Things"
          ],
          [
           "Sheriff Truman",
           "Twin Peaks"
          ],
          [
           "Pete Martell",
           "Twin Peaks"
          ],
          [
           "Ed Hurley",
           "Twin Peaks"
          ],
          [
           "Charlotte York",
           "Sex and the City"
          ],
          [
           "Steve Brady",
           "Sex and the City"
          ],
          [
           "Mary Alice Young",
           "Desperate Housewives"
          ],
          [
           "Julie Mayer",
           "Desperate Housewives"
          ],
          [
           "Ken Cosgrove",
           "Mad Men"
          ],
          [
           "Harry Crane",
           "Mad Men"
          ],
          [
           "Galen Tyrol",
           "Battlestar Galactica"
          ],
          [
           "Anastasia Dualla",
           "Battlestar Galactica"
          ],
          [
           "Cally Henderson",
           "Battlestar Galactica"
          ],
          [
           "Billy Keikeya",
           "Battlestar Galactica"
          ],
          [
           "Hughie Campbell",
           "The Boys"
          ],
          [
           "Becca Butcher",
           "The Boys"
          ],
          [
           "Kyle Broflovski",
           "South Park"
          ],
          [
           "Stan Marsh",
           "South Park"
          ],
          [
           "Leopold 'Butters' Stotch",
           "South Park"
          ],
          [
           "Annie Edison",
           "Community"
          ],
          [
           "Vision",
           "WandaVision"
          ],
          [
           "Francis Mulcahy",
           "M*A*S*H"
          ],
          [
           "Walter 'Radar' O'Reilly",
           "M*A*S*H"
          ],
          [
           "Rita Bennett",
           "Dexter"
          ],
          [
           "David Rosen",
           "Scandal"
          ],
          [
           "Ubbe Ragnarsson",
           "Vikings"
          ],
          [
           "Triss",
           "The Witcher"
          ],
          [
           "Istredd",
           "The Witcher"
          ],
          [
           "Dara",
           "The Witcher"
          ],
          [
           "Dr. John Watson",
           "Sherlock"
          ],
          [
           "D.I. Greg Lestrade",
           "Sherlock"
          ],
          [
           "Molly Hooper",
           "Sherlock"
          ],
          [
           "Otis Milburn",
           "Sex Education"
          ],
          [
           "Artie Abrams",
           "Glee"
          ],
          [
           "Tina Cohen-Chang",
           "Glee"
          ],
          [
           "Ms. Sharon Norbury",
           "Mean Girls"
          ],
          [
           "Betsy Heron",
           "Mean Girls"
          ],
          [
           "Jeremy Chetri",
           "Wynonna Earp"
          ],
          [
           "Kenny Stowton",
           "Killing Eve"
          ],
          [
           "Niko Polastri",
           "Killing Eve"
          ],
          [
           "Cecil B. Heimerdinger",
           "Arcane"
          ],
          [
           "Joshamee Gibbs",
           "Pirates of the Carribean"
          ],
          [
           "Lincoln Rice",
           "Broad City"
          ],
          [
           "Alfred Pennyworth",
           "The Dark Knight"
          ],
          [
           "James Gordon",
           "The Dark Knight"
          ],
          [
           "Rachel Dawes",
           "The Dark Knight"
          ],
          [
           "Grace Florrick",
           "The Good Wife"
          ],
          [
           "Clinton Jones",
           "White Collar"
          ],
          [
           "Kristoff",
           "Frozen"
          ],
          [
           "Obi-Wan Kenobi",
           "Star Wars"
          ],
          [
           "C-3PO",
           "Star Wars"
          ],
          [
           "Randall Pearson",
           "This Is Us"
          ],
          [
           "Kate Pearson",
           "This Is Us"
          ],
          [
           "Miguel Rivas",
           "This Is Us"
          ],
          [
           "Amy Santiago",
           "Brooklyn Nine-Nine"
          ],
          [
           "Charles Boyle",
           "Brooklyn Nine-Nine"
          ],
          [
           "Flynn White",
           "Breaking Bad"
          ],
          [
           "Brian Johnson",
           "The Breakfast Club"
          ],
          [
           "Friar Laurence",
           "Romeo and Juliet"
          ],
          [
           "The Nurse",
           "Romeo and Juliet"
          ],
          [
           "Amenadiel",
           "Lucifer"
          ],
          [
           "Dan Espinoza",
           "Lucifer"
          ],
          [
           "Donald Mallard",
           "NCIS"
          ],
          [
           "Timothy McGee",
           "NCIS"
          ],
          [
           "Jimmy Palmer",
           "NCIS"
          ],
          [
           "Eliza Hamilton",
           "Hamilton"
          ],
          [
           "Marmee March",
           "Little Women"
          ],
          [
           "Beth March",
           "Little Women"
          ],
          [
           "Meg March",
           "Little Women"
          ],
          [
           "Data",
           "Star Trek: The Next Generation"
          ],
          [
           "Geordi La Forge",
           "Star Trek: The Next Generation"
          ],
          [
           "Wesley Crusher",
           "Star Trek: The Next Generation"
          ]
         ],
         "hovertemplate": "myers_briggs=ISFJ<br>number_users=%{x}<br>avg_match_perc=%{y}<br>char_name=%{customdata[0]}<br>uni_name=%{customdata[1]}<extra></extra>",
         "legendgroup": "ISFJ",
         "marker": {
          "color": "#B6E880",
          "symbol": "circle"
         },
         "mode": "markers",
         "name": "ISFJ",
         "orientation": "v",
         "showlegend": true,
         "type": "scatter",
         "x": [
          1602,
          1602,
          1602,
          1602,
          1602,
          1602,
          1602,
          1602,
          1602,
          1602,
          1602,
          1602,
          1602,
          1602,
          1602,
          1602,
          1602,
          1602,
          1602,
          1602,
          1602,
          1602,
          1602,
          1602,
          1602,
          1602,
          1602,
          1602,
          1602,
          1602,
          1602,
          1602,
          1602,
          1602,
          1602,
          1602,
          1602,
          1602,
          1602,
          1602,
          1602,
          1602,
          1602,
          1602,
          1602,
          1602,
          1602,
          1602,
          1602,
          1602,
          1602,
          1602,
          1602,
          1602,
          1602,
          1602,
          1602,
          1602,
          1602,
          1602,
          1602,
          1602,
          1602,
          1602,
          1602,
          1602,
          1602,
          1602,
          1602,
          1602,
          1602,
          1602,
          1602,
          1602,
          1602,
          1602,
          1602,
          1602,
          1602,
          1602,
          1602,
          1602,
          1602,
          1602,
          1602,
          1602,
          1602,
          1602,
          1602,
          1602,
          1602,
          1602,
          1602,
          1602,
          1602,
          1602,
          1602,
          1602,
          1602,
          1602,
          1602,
          1602,
          1602,
          1602,
          1602,
          1602,
          1602,
          1602,
          1602,
          1602,
          1602,
          1602,
          1602,
          1602,
          1602,
          1602,
          1602,
          1602,
          1602,
          1602,
          1602,
          1602,
          1602,
          1602,
          1602,
          1602,
          1602,
          1602,
          1602,
          1602,
          1602,
          1602,
          1602,
          1602,
          1602,
          1602,
          1602,
          1602,
          1602,
          1602,
          1602,
          1602,
          1602,
          1602,
          1602,
          1602,
          1602,
          1602
         ],
         "xaxis": "x",
         "y": [
          72,
          63,
          63.2,
          63.2,
          71.4,
          66.7,
          64.5,
          63.9,
          65.4,
          68.9,
          71.5,
          66,
          52,
          68.1,
          69.5,
          71.5,
          69.6,
          71,
          71.8,
          65,
          70.6,
          68.4,
          67.3,
          57.4,
          47.9,
          67.9,
          61.6,
          67.4,
          63.2,
          64,
          70.9,
          63,
          69.3,
          51.3,
          69.3,
          68.6,
          70.1,
          65.8,
          64,
          65.3,
          68.5,
          68.6,
          69,
          60,
          69.6,
          70.9,
          67.3,
          49.8,
          60.7,
          69.6,
          66.4,
          69.7,
          67.6,
          68,
          66.9,
          71,
          63.6,
          67.3,
          65.5,
          70.7,
          63.8,
          65.8,
          69.3,
          71.4,
          70.9,
          69.1,
          68.3,
          65.1,
          63.6,
          61.7,
          70.2,
          68,
          72.6,
          67.2,
          69.3,
          64.5,
          70,
          64.5,
          62.7,
          61.3,
          66.7,
          64.8,
          60.4,
          69.6,
          63.2,
          56.2,
          62.1,
          66.2,
          63.1,
          69.2,
          70.3,
          67.1,
          67.6,
          66.7,
          64.4,
          66,
          69.2,
          69.5,
          69.8,
          68.2,
          67.5,
          63.2,
          69.2,
          63.2,
          63.6,
          70,
          61.7,
          71.9,
          69.7,
          69.4,
          68.4,
          71.4,
          64.8,
          70,
          72,
          59.9,
          64.5,
          57.5,
          70.5,
          68.6,
          66,
          65.6,
          65.2,
          64.4,
          64.3,
          66,
          65.3,
          67.1,
          68.2,
          66.8,
          66.9,
          65.3,
          66.7,
          69.8,
          65.3,
          63.9,
          65.7,
          56.2,
          69.1,
          71.4,
          71.2,
          70.8,
          69.2,
          69.9,
          70.1,
          66.2,
          70,
          64.3
         ],
         "yaxis": "y"
        },
        {
         "customdata": [
          [
           "Robin Scherbatsky",
           "How I Met Your Mother"
          ],
          [
           "Tyrion Lannister",
           "Game of Thrones"
          ],
          [
           "Arya Stark",
           "Game of Thrones"
          ],
          [
           "Daenerys Targaryen",
           "Game of Thrones"
          ],
          [
           "Cersei Lannister",
           "Game of Thrones"
          ],
          [
           "Olenna Tyrell",
           "Game of Thrones"
          ],
          [
           "Melisandre",
           "Game of Thrones"
          ],
          [
           "Petyr Baelish",
           "Game of Thrones"
          ],
          [
           "Margaery Tyrell",
           "Game of Thrones"
          ],
          [
           "Asha Greyjoy",
           "Game of Thrones"
          ],
          [
           "Carol 'Mom' Miller",
           "Futurama"
          ],
          [
           "Jan Levinson",
           "The Office"
          ],
          [
           "Lord Voldemort",
           "Harry Potter"
          ],
          [
           "Meredith Grey",
           "Grey's Anatomy"
          ],
          [
           "Addison Montgomery",
           "Grey's Anatomy"
          ],
          [
           "Logan Roy",
           "Succession"
          ],
          [
           "Shiv Roy",
           "Succession"
          ],
          [
           "Marcia Roy",
           "Succession"
          ],
          [
           "Dolores Abernathy",
           "Westworld"
          ],
          [
           "Robert Ford",
           "Westworld"
          ],
          [
           "Maeve Millay",
           "Westworld"
          ],
          [
           "Man in Black",
           "Westworld"
          ],
          [
           "Charlotte Hale",
           "Westworld"
          ],
          [
           "Akecheta",
           "Westworld"
          ],
          [
           "David Rose",
           "Schitt's Creek"
          ],
          [
           "Blair Waldorf",
           "Gossip Girl"
          ],
          [
           "Chuck Bass",
           "Gossip Girl"
          ],
          [
           "Perry Cox",
           "Scrubs"
          ],
          [
           "Malory Archer",
           "Archer"
          ],
          [
           "Wendy Byrde",
           "Ozark"
          ],
          [
           "Charlotte Byrde",
           "Ozark"
          ],
          [
           "Omar Little",
           "The Wire"
          ],
          [
           "Russell 'Stringer' Bell",
           "The Wire"
          ],
          [
           "Avon Barksdale",
           "The Wire"
          ],
          [
           "Michael Lee",
           "The Wire"
          ],
          [
           "Tommy Carcetti",
           "The Wire"
          ],
          [
           "Clarence Royce",
           "The Wire"
          ],
          [
           "Josh Lyman",
           "The West Wing"
          ],
          [
           "Tony Soprano",
           "The Sopranos"
          ],
          [
           "Junior Soprano",
           "The Sopranos"
          ],
          [
           "Lady Mary Crawley",
           "Downton Abbey"
          ],
          [
           "Michael",
           "The Good Place"
          ],
          [
           "Tony Stark",
           "Marvel Cinematic Universe"
          ],
          [
           "Black Widow",
           "Marvel Cinematic Universe"
          ],
          [
           "Gamora",
           "Marvel Cinematic Universe"
          ],
          [
           "Thanos",
           "Marvel Cinematic Universe"
          ],
          [
           "Captain Marvel",
           "Marvel Cinematic Universe"
          ],
          [
           "Lucille Bluth",
           "Arrested Development"
          ],
          [
           "Dan Egan",
           "Veep"
          ],
          [
           "Gavin Belson",
           "Silicon Valley"
          ],
          [
           "Buffy Summers",
           "Buffy the Vampire Slayer"
          ],
          [
           "Cordelia Chase",
           "Buffy the Vampire Slayer"
          ],
          [
           "Benjamin Horne",
           "Twin Peaks"
          ],
          [
           "Donna Hayward",
           "Twin Peaks"
          ],
          [
           "Catherine Martell",
           "Twin Peaks"
          ],
          [
           "Don Draper",
           "Mad Men"
          ],
          [
           "Joan Holloway",
           "Mad Men"
          ],
          [
           "Bert Cooper",
           "Mad Men"
          ],
          [
           "Rachel Menken",
           "Mad Men"
          ],
          [
           "Pete Campbell",
           "Mad Men"
          ],
          [
           "Number Six",
           "Battlestar Galactica"
          ],
          [
           "Sharon 'Boomer' Valerii",
           "Battlestar Galactica"
          ],
          [
           "Azula",
           "Avatar: The Last Airbender"
          ],
          [
           "Firelord Ozai",
           "Avatar: The Last Airbender"
          ],
          [
           "Madelyn Stillwell",
           "The Boys"
          ],
          [
           "Stormfront",
           "The Boys"
          ],
          [
           "Cheryl Blossom",
           "Riverdale"
          ],
          [
           "Veronica Lodge",
           "Riverdale"
          ],
          [
           "Olivia Pope",
           "Scandal"
          ],
          [
           "Fitzgerald Grant",
           "Scandal"
          ],
          [
           "Rowan Pope",
           "Scandal"
          ],
          [
           "Jake Ballard",
           "Scandal"
          ],
          [
           "Ragnar Lothbrok",
           "Vikings"
          ],
          [
           "Lagertha",
           "Vikings"
          ],
          [
           "Bjorn Lothbrok",
           "Vikings"
          ],
          [
           "Judith of Northumbria",
           "Vikings"
          ],
          [
           "Ciri",
           "The Witcher"
          ],
          [
           "Sherlock Holmes",
           "Sherlock"
          ],
          [
           "Sue Sylvester",
           "Glee"
          ],
          [
           "Regina George",
           "Mean Girls"
          ],
          [
           "Eve Polastri",
           "Killing Eve"
          ],
          [
           "Elizabeth Swann",
           "Pirates of the Carribean"
          ],
          [
           "Bruce Wayne",
           "The Dark Knight"
          ],
          [
           "Harvey Dent",
           "The Dark Knight"
          ],
          [
           "Chrisjen Avasarala",
           "The Expanse"
          ],
          [
           "Kalinda Sharma",
           "The Good Wife"
          ],
          [
           "Odafin Tutuola",
           "Law & Order: SVU"
          ],
          [
           "Hans",
           "Frozen"
          ],
          [
           "Darth Vader",
           "Star Wars"
          ],
          [
           "Thomas Shelby",
           "Peaky Blinders"
          ],
          [
           "Aunt Polly",
           "Peaky Blinders"
          ],
          [
           "Michael Gray",
           "Peaky Blinders"
          ],
          [
           "Red Reznikov",
           "Orange is the New Black"
          ],
          [
           "Alex Vause",
           "Orange is the New Black"
          ],
          [
           "Piper Chapman",
           "Orange is the New Black"
          ],
          [
           "Rosa Diaz",
           "Brooklyn Nine-Nine"
          ],
          [
           "Amy March",
           "Little Women"
          ],
          [
           "Mr. Krabs",
           "SpongeBob SquarePants"
          ]
         ],
         "hovertemplate": "myers_briggs=ENTJ<br>number_users=%{x}<br>avg_match_perc=%{y}<br>char_name=%{customdata[0]}<br>uni_name=%{customdata[1]}<extra></extra>",
         "legendgroup": "ENTJ",
         "marker": {
          "color": "#FF97FF",
          "symbol": "circle"
         },
         "mode": "markers",
         "name": "ENTJ",
         "orientation": "v",
         "showlegend": true,
         "type": "scatter",
         "x": [
          2286,
          2286,
          2286,
          2286,
          2286,
          2286,
          2286,
          2286,
          2286,
          2286,
          2286,
          2286,
          2286,
          2286,
          2286,
          2286,
          2286,
          2286,
          2286,
          2286,
          2286,
          2286,
          2286,
          2286,
          2286,
          2286,
          2286,
          2286,
          2286,
          2286,
          2286,
          2286,
          2286,
          2286,
          2286,
          2286,
          2286,
          2286,
          2286,
          2286,
          2286,
          2286,
          2286,
          2286,
          2286,
          2286,
          2286,
          2286,
          2286,
          2286,
          2286,
          2286,
          2286,
          2286,
          2286,
          2286,
          2286,
          2286,
          2286,
          2286,
          2286,
          2286,
          2286,
          2286,
          2286,
          2286,
          2286,
          2286,
          2286,
          2286,
          2286,
          2286,
          2286,
          2286,
          2286,
          2286,
          2286,
          2286,
          2286,
          2286,
          2286,
          2286,
          2286,
          2286,
          2286,
          2286,
          2286,
          2286,
          2286,
          2286,
          2286,
          2286,
          2286,
          2286,
          2286,
          2286,
          2286,
          2286
         ],
         "xaxis": "x",
         "y": [
          66.5,
          69.8,
          64.2,
          65.8,
          58.5,
          67.5,
          60.5,
          56.6,
          68.4,
          60.5,
          56.2,
          55.7,
          53.3,
          67.9,
          68.4,
          55.8,
          63.9,
          62.4,
          65.5,
          64,
          69.4,
          56.4,
          63.2,
          59.3,
          63,
          64.1,
          60.5,
          60.9,
          57.8,
          64.5,
          61.5,
          66.1,
          63.3,
          59.6,
          59.9,
          60.4,
          50.8,
          65.5,
          56.9,
          51.5,
          65,
          65.5,
          68.7,
          68,
          65.1,
          54.7,
          65.4,
          54.6,
          55.4,
          53.7,
          67.4,
          58.3,
          53.7,
          63.4,
          57.5,
          60.7,
          69.6,
          61.4,
          67.2,
          47.1,
          65.3,
          62.8,
          58.6,
          52.5,
          57.8,
          55.3,
          63.2,
          66.5,
          68,
          53,
          58.9,
          61.8,
          66.2,
          68.9,
          63,
          61.6,
          65.2,
          64,
          55.9,
          56.3,
          65.6,
          69.8,
          65.7,
          60.1,
          66.5,
          67.6,
          64.8,
          48.7,
          55.3,
          66,
          68.5,
          58,
          64.7,
          65.6,
          55,
          62.5,
          64.8,
          50.9
         ],
         "yaxis": "y"
        },
        {
         "customdata": [
          [
           "Marshall Eriksen",
           "How I Met Your Mother"
          ],
          [
           "Robb Stark",
           "Game of Thrones"
          ],
          [
           "Fleur Delacour",
           "Harry Potter"
          ],
          [
           "Dr. Robert Chase",
           "House"
          ],
          [
           "Chris Traeger",
           "Parks and Recreation"
          ],
          [
           "Nate Archibald",
           "Gossip Girl"
          ],
          [
           "Elliot Reid",
           "Scrubs"
          ],
          [
           "Glenn Rhee",
           "The Walking Dead"
          ],
          [
           "Ellis Carver",
           "The Wire"
          ],
          [
           "Donna Moss",
           "The West Wing"
          ],
          [
           "Cora Crawley, Countess of Grantham",
           "Downton Abbey"
          ],
          [
           "Beryl Patmore",
           "Downton Abbey"
          ],
          [
           "Janet",
           "The Good Place"
          ],
          [
           "Captain America",
           "Marvel Cinematic Universe"
          ],
          [
           "Jennifer Jareau",
           "Criminal Minds"
          ],
          [
           "Kitty Forman",
           "That 70's Show"
          ],
          [
           "Lucas Sinclair",
           "Stranger Things"
          ],
          [
           "Norma Jennings",
           "Twin Peaks"
          ],
          [
           "Karl 'Helo' Agathon",
           "Battlestar Galactica"
          ],
          [
           "Katara",
           "Avatar: The Last Airbender"
          ],
          [
           "Hakoda",
           "Avatar: The Last Airbender"
          ],
          [
           "Mother's Milk",
           "The Boys"
          ],
          [
           "Kevin Keller",
           "Riverdale"
          ],
          [
           "Shirley Bennett",
           "Community"
          ],
          [
           "Jackson Marchetti",
           "Sex Education"
          ],
          [
           "Aaron Samuels",
           "Mean Girls"
          ],
          [
           "John Carter",
           "ER"
          ],
          [
           "Malik McGrath ",
           "ER"
          ],
          [
           "Sophie",
           "This Is Us"
          ],
          [
           "Terry Jeffords",
           "Brooklyn Nine-Nine"
          ],
          [
           "Mufasa",
           "The Lion King"
          ],
          [
           "Claire Standish",
           "The Breakfast Club"
          ],
          [
           "Linda Martin",
           "Lucifer"
          ],
          [
           "Beverly Crusher",
           "Star Trek: The Next Generation"
          ]
         ],
         "hovertemplate": "myers_briggs=ESFJ<br>number_users=%{x}<br>avg_match_perc=%{y}<br>char_name=%{customdata[0]}<br>uni_name=%{customdata[1]}<extra></extra>",
         "legendgroup": "ESFJ",
         "marker": {
          "color": "#FECB52",
          "symbol": "circle"
         },
         "mode": "markers",
         "name": "ESFJ",
         "orientation": "v",
         "showlegend": true,
         "type": "scatter",
         "x": [
          592,
          592,
          592,
          592,
          592,
          592,
          592,
          592,
          592,
          592,
          592,
          592,
          592,
          592,
          592,
          592,
          592,
          592,
          592,
          592,
          592,
          592,
          592,
          592,
          592,
          592,
          592,
          592,
          592,
          592,
          592,
          592,
          592,
          592
         ],
         "xaxis": "x",
         "y": [
          66.9,
          63.3,
          67,
          63.1,
          67.8,
          62.1,
          61.3,
          70.9,
          58.8,
          71,
          69.8,
          61.3,
          68.2,
          64,
          70.5,
          69.7,
          67.1,
          68.5,
          59.9,
          70.7,
          65.2,
          65.6,
          69.4,
          65.3,
          67.4,
          55.3,
          69.3,
          67.2,
          69.7,
          70.3,
          64.4,
          59.2,
          71.5,
          70.5
         ],
         "yaxis": "y"
        },
        {
         "customdata": [
          [
           "Sandor Clegane",
           "Game of Thrones"
          ],
          [
           "Theon Greyjoy",
           "Game of Thrones"
          ],
          [
           "Stevie Budd",
           "Schitt's Creek"
          ],
          [
           "Moe Szyslak",
           "The Simpsons"
          ],
          [
           "Edna Krabappel",
           "The Simpsons"
          ],
          [
           "Rachel Garrison",
           "Ozark"
          ],
          [
           "Tommy",
           "Shameless"
          ],
          [
           "George Costanza",
           "Seinfeld"
          ],
          [
           "Adam Groff",
           "Sex Education"
          ]
         ],
         "hovertemplate": "myers_briggs=ISTP<br>number_users=%{x}<br>avg_match_perc=%{y}<br>char_name=%{customdata[0]}<br>uni_name=%{customdata[1]}<extra></extra>",
         "legendgroup": "ISTP",
         "marker": {
          "color": "#636efa",
          "symbol": "circle"
         },
         "mode": "markers",
         "name": "ISTP",
         "orientation": "v",
         "showlegend": true,
         "type": "scatter",
         "x": [
          1950,
          1950,
          1950,
          1950,
          1950,
          1950,
          1950,
          1950,
          1950
         ],
         "xaxis": "x",
         "y": [
          54.9,
          48.4,
          63.3,
          52,
          52.1,
          54.3,
          47.3,
          49.8,
          54.5
         ],
         "yaxis": "y"
        },
        {
         "customdata": [
          [
           "Varys",
           "Game of Thrones"
          ],
          [
           "Brandon Stark",
           "Game of Thrones"
          ],
          [
           "Dwight Schrute",
           "The Office"
          ],
          [
           "Severus Snape",
           "Harry Potter"
          ],
          [
           "Alastor Moody",
           "Harry Potter"
          ],
          [
           "Leslie Winkle",
           "The Big Bang Theory"
          ],
          [
           "Kendall Roy",
           "Succession"
          ],
          [
           "Mr. Burns",
           "The Simpsons"
          ],
          [
           "Roy Kent",
           "Ted Lasso"
          ],
          [
           "Daryl Dixon",
           "The Walking Dead"
          ],
          [
           "Carol Peletier",
           "The Walking Dead"
          ],
          [
           "Jacob Snell",
           "Ozark"
          ],
          [
           "Roy Petty",
           "Ozark"
          ],
          [
           "Chris Partlow",
           "The Wire"
          ],
          [
           "Spiros 'Vondas' Vondopoulos",
           "The Wire"
          ],
          [
           "Maurice Levy",
           "The Wire"
          ],
          [
           "Toby Ziegler",
           "The West Wing"
          ],
          [
           "The Operative",
           "Firefly + Serenity"
          ],
          [
           "Sun Bak",
           "Sense8"
          ],
          [
           "Angelica Turing",
           "Sense8"
          ],
          [
           "Sarah O'Brien",
           "Downton Abbey"
          ],
          [
           "Dr. Strange",
           "Marvel Cinematic Universe"
          ],
          [
           "Nick Fury",
           "Marvel Cinematic Universe"
          ],
          [
           "Edward Nygma",
           "Gotham"
          ],
          [
           "Bertram Gilfoyle",
           "Silicon Valley"
          ],
          [
           "Peter Gregory",
           "Silicon Valley"
          ],
          [
           "Angel",
           "Buffy the Vampire Slayer"
          ],
          [
           "Shauna",
           "Yellowjackets"
          ],
          [
           "Josie Packard",
           "Twin Peaks"
          ],
          [
           "Peggy Olson",
           "Mad Men"
          ],
          [
           "Zuko",
           "Avatar: The Last Airbender"
          ],
          [
           "Kimiko Miyashiro",
           "The Boys"
          ],
          [
           "Queen Maeve",
           "The Boys"
          ],
          [
           "Black Noir",
           "The Boys"
          ],
          [
           "Dexter Morgan",
           "Dexter"
          ],
          [
           "Huck",
           "Scandal"
          ],
          [
           "Cyrus Beene",
           "Scandal"
          ],
          [
           "Geralt of Rivia",
           "The Witcher"
          ],
          [
           "Fringilla",
           "The Witcher"
          ],
          [
           "Cahir",
           "The Witcher"
          ],
          [
           "Carolyn Martens",
           "Killing Eve"
          ],
          [
           "Konstantin",
           "Killing Eve"
          ],
          [
           "Silco",
           "Arcane"
          ],
          [
           "Viktor",
           "Arcane"
          ],
          [
           "Elsa",
           "Frozen"
          ],
          [
           "Walter White",
           "Breaking Bad"
          ],
          [
           "Gus Fring",
           "Breaking Bad"
          ],
          [
           "Scar",
           "The Lion King"
          ],
          [
           "Beast",
           "Beauty and the Beast"
          ]
         ],
         "hovertemplate": "myers_briggs=INTJ<br>number_users=%{x}<br>avg_match_perc=%{y}<br>char_name=%{customdata[0]}<br>uni_name=%{customdata[1]}<extra></extra>",
         "legendgroup": "INTJ",
         "marker": {
          "color": "#EF553B",
          "symbol": "circle"
         },
         "mode": "markers",
         "name": "INTJ",
         "orientation": "v",
         "showlegend": true,
         "type": "scatter",
         "x": [
          8827,
          8827,
          8827,
          8827,
          8827,
          8827,
          8827,
          8827,
          8827,
          8827,
          8827,
          8827,
          8827,
          8827,
          8827,
          8827,
          8827,
          8827,
          8827,
          8827,
          8827,
          8827,
          8827,
          8827,
          8827,
          8827,
          8827,
          8827,
          8827,
          8827,
          8827,
          8827,
          8827,
          8827,
          8827,
          8827,
          8827,
          8827,
          8827,
          8827,
          8827,
          8827,
          8827,
          8827,
          8827,
          8827,
          8827,
          8827,
          8827
         ],
         "xaxis": "x",
         "y": [
          63.9,
          63.5,
          55.9,
          62,
          58.9,
          60,
          52.5,
          52.3,
          58.6,
          59.3,
          64.8,
          51.6,
          51.4,
          56.5,
          56.9,
          54.1,
          65.1,
          58.7,
          65.5,
          59.1,
          51.6,
          66.6,
          63,
          61.3,
          60.6,
          62.5,
          60.9,
          55.8,
          62.7,
          67.6,
          59.9,
          57.8,
          62.4,
          57.9,
          65.7,
          60,
          54.1,
          61.9,
          57.9,
          52.8,
          62.3,
          58.2,
          59.5,
          67.2,
          66,
          60.9,
          62,
          53,
          57.5
         ],
         "yaxis": "y"
        },
        {
         "customdata": [
          [
           "Albus Dumbledore",
           "Harry Potter"
          ],
          [
           "Molly Weasley",
           "Harry Potter"
          ],
          [
           "Arthur Weasley",
           "Harry Potter"
          ],
          [
           "Ginny Weasley",
           "Harry Potter"
          ],
          [
           "Derek Shepherd",
           "Grey's Anatomy"
          ],
          [
           "Leslie Knope",
           "Parks and Recreation"
          ],
          [
           "Allison Hargreeves",
           "The Umbrella Academy"
          ],
          [
           "Gandalf",
           "Lord of the Rings"
          ],
          [
           "Aragorn",
           "Lord of the Rings"
          ],
          [
           "Sam Obisanya",
           "Ted Lasso"
          ],
          [
           "Ted Lasso",
           "Ted Lasso"
          ],
          [
           "Seeley Booth",
           "Bones"
          ],
          [
           "Veronica Fisher",
           "Shameless"
          ],
          [
           "Dennis 'Cutty' Wise",
           "The Wire"
          ],
          [
           "Josiah Bartlet",
           "The West Wing"
          ],
          [
           "Sam Seaborn",
           "The West Wing"
          ],
          [
           "Meadow Soprano",
           "The Sopranos"
          ],
          [
           "Inara Serra",
           "Firefly + Serenity"
          ],
          [
           "Nomi Marks",
           "Sense8"
          ],
          [
           "Hernando Fuentes",
           "Sense8"
          ],
          [
           "Black Panther",
           "Marvel Cinematic Universe"
          ],
          [
           "Hawkeye",
           "Marvel Cinematic Universe"
          ],
          [
           "Derek Morgan",
           "Criminal Minds"
          ],
          [
           "Donna Pinciotti",
           "That 70's Show"
          ],
          [
           "Joyce Byers",
           "Stranger Things"
          ],
          [
           "Nancy Wheeler",
           "Stranger Things"
          ],
          [
           "Dale Cooper",
           "Twin Peaks"
          ],
          [
           "Mike Delfino",
           "Desperate Housewives"
          ],
          [
           "Salvatore Romano",
           "Mad Men"
          ],
          [
           "Iroh",
           "Avatar: The Last Airbender"
          ],
          [
           "Hakoda",
           "Avatar: The Last Airbender"
          ],
          [
           "Annie January",
           "The Boys"
          ],
          [
           "Angel Batista",
           "Dexter"
          ],
          [
           "Torvi",
           "Vikings"
          ],
          [
           "Mrs. Hudson",
           "Sherlock"
          ],
          [
           "Jean Milburn",
           "Sex Education"
          ],
          [
           "Jackson Marchetti",
           "Sex Education"
          ],
          [
           "Mercedes Jones",
           "Glee"
          ],
          [
           "Kurt Hummel",
           "Glee"
          ],
          [
           "Paula Proctor",
           "Craze Ex-Girlfriend"
          ],
          [
           "Waverly Earp",
           "Wynonna Earp"
          ],
          [
           "Nicole Haught",
           "Wynonna Earp"
          ],
          [
           "Vander",
           "Arcane"
          ],
          [
           "Ekko",
           "Arcane"
          ],
          [
           "Will Turner",
           "Pirates of the Carribean"
          ],
          [
           "Jim Holden",
           "The Expanse"
          ],
          [
           "Naomi Nagata",
           "The Expanse"
          ],
          [
           "Alex Kamal",
           "The Expanse"
          ],
          [
           "Elizabeth Burke",
           "White Collar"
          ],
          [
           "Luke Skywalker",
           "Star Wars"
          ],
          [
           "Ada Shelby",
           "Peaky Blinders"
          ],
          [
           "Luka Kovac",
           "ER"
          ],
          [
           "Chuny Marquez",
           "ER"
          ],
          [
           "Jack Pearson",
           "This Is Us"
          ],
          [
           "Rebecca Pearson",
           "This Is Us"
          ],
          [
           "Beth Pearson",
           "This Is Us"
          ],
          [
           "Taystee Jefferson",
           "Orange is the New Black"
          ],
          [
           "Nala",
           "The Lion King"
          ],
          [
           "Belle",
           "Beauty and the Beast"
          ],
          [
           "Deanna Troi",
           "Star Trek: The Next Generation"
          ],
          [
           "Guinan",
           "Star Trek: The Next Generation"
          ],
          [
           "Sandy Cheeks",
           "SpongeBob SquarePants"
          ]
         ],
         "hovertemplate": "myers_briggs=ENFJ<br>number_users=%{x}<br>avg_match_perc=%{y}<br>char_name=%{customdata[0]}<br>uni_name=%{customdata[1]}<extra></extra>",
         "legendgroup": "ENFJ",
         "marker": {
          "color": "#00cc96",
          "symbol": "circle"
         },
         "mode": "markers",
         "name": "ENFJ",
         "orientation": "v",
         "showlegend": true,
         "type": "scatter",
         "x": [
          3842,
          3842,
          3842,
          3842,
          3842,
          3842,
          3842,
          3842,
          3842,
          3842,
          3842,
          3842,
          3842,
          3842,
          3842,
          3842,
          3842,
          3842,
          3842,
          3842,
          3842,
          3842,
          3842,
          3842,
          3842,
          3842,
          3842,
          3842,
          3842,
          3842,
          3842,
          3842,
          3842,
          3842,
          3842,
          3842,
          3842,
          3842,
          3842,
          3842,
          3842,
          3842,
          3842,
          3842,
          3842,
          3842,
          3842,
          3842,
          3842,
          3842,
          3842,
          3842,
          3842,
          3842,
          3842,
          3842,
          3842,
          3842,
          3842,
          3842,
          3842,
          3842
         ],
         "xaxis": "x",
         "y": [
          68.6,
          70.6,
          68.4,
          71.3,
          68.5,
          70.7,
          69.8,
          67.4,
          64.4,
          70.6,
          70.5,
          62.7,
          68.7,
          62.2,
          69.5,
          71.5,
          67.9,
          71.7,
          73.1,
          72.7,
          67.1,
          59.8,
          67.7,
          71,
          67.6,
          68.3,
          70.6,
          58.1,
          68.5,
          70.6,
          65.2,
          70,
          69,
          67.1,
          69.8,
          72,
          67.4,
          71.6,
          67.8,
          69.4,
          73.3,
          70.8,
          63,
          67.6,
          67.1,
          63.6,
          67,
          66,
          72.1,
          66.5,
          71.4,
          66.1,
          70.4,
          69,
          71.3,
          71.2,
          71.5,
          71.1,
          71.8,
          73.5,
          72.5,
          68.4
         ],
         "yaxis": "y"
        },
        {
         "customdata": [
          [
           "Remus Lupin",
           "Harry Potter"
          ],
          [
           "Vanya Hargreeves",
           "The Umbrella Academy"
          ],
          [
           "Lane Kim",
           "Gilmore Girls"
          ],
          [
           "Coach Beard",
           "Ted Lasso"
          ],
          [
           "Carl Grimes",
           "The Walking Dead"
          ],
          [
           "Jonah Byrde",
           "Ozark"
          ],
          [
           "Lester Freamon",
           "The Wire"
          ],
          [
           "D'Angelo Barksdale",
           "The Wire"
          ],
          [
           "Willow Rosenberg",
           "Buffy the Vampire Slayer"
          ],
          [
           "Jonathan Byers",
           "Stranger Things"
          ],
          [
           "Abed Nadir",
           "Community"
          ],
          [
           "Cady Heron",
           "Mean Girls"
          ]
         ],
         "hovertemplate": "myers_briggs=INFJ<br>number_users=%{x}<br>avg_match_perc=%{y}<br>char_name=%{customdata[0]}<br>uni_name=%{customdata[1]}<extra></extra>",
         "legendgroup": "INFJ",
         "marker": {
          "color": "#ab63fa",
          "symbol": "circle"
         },
         "mode": "markers",
         "name": "INFJ",
         "orientation": "v",
         "showlegend": true,
         "type": "scatter",
         "x": [
          12519,
          12519,
          12519,
          12519,
          12519,
          12519,
          12519,
          12519,
          12519,
          12519,
          12519,
          12519
         ],
         "xaxis": "x",
         "y": [
          70,
          63,
          72,
          66.8,
          62.4,
          66.4,
          67.6,
          62.9,
          72.6,
          68.5,
          66.2,
          59.5
         ],
         "yaxis": "y"
        },
        {
         "customdata": [
          [
           "Tom Wambsgans",
           "Succession"
          ],
          [
           "Kermit",
           "Shameless"
          ],
          [
           "A.J. Soprano",
           "The Sopranos"
          ],
          [
           "Mike McLintock",
           "Veep"
          ]
         ],
         "hovertemplate": "myers_briggs=ISFP<br>number_users=%{x}<br>avg_match_perc=%{y}<br>char_name=%{customdata[0]}<br>uni_name=%{customdata[1]}<extra></extra>",
         "legendgroup": "ISFP",
         "marker": {
          "color": "#FFA15A",
          "symbol": "circle"
         },
         "mode": "markers",
         "name": "ISFP",
         "orientation": "v",
         "showlegend": true,
         "type": "scatter",
         "x": [
          1998,
          1998,
          1998,
          1998
         ],
         "xaxis": "x",
         "y": [
          47.9,
          51,
          51.4,
          53.5
         ],
         "yaxis": "y"
        },
        {
         "customdata": [
          [
           "Kimiko Miyashiro",
           "The Boys"
          ],
          [
           "Jughead Jones",
           "Riverdale"
          ],
          [
           "Allison Reynolds",
           "The Breakfast Club"
          ]
         ],
         "hovertemplate": "myers_briggs=INTP<br>number_users=%{x}<br>avg_match_perc=%{y}<br>char_name=%{customdata[0]}<br>uni_name=%{customdata[1]}<extra></extra>",
         "legendgroup": "INTP",
         "marker": {
          "color": "#19d3f3",
          "symbol": "circle"
         },
         "mode": "markers",
         "name": "INTP",
         "orientation": "v",
         "showlegend": true,
         "type": "scatter",
         "x": [
          11992,
          11992,
          11992
         ],
         "xaxis": "x",
         "y": [
          57.8,
          65.2,
          63.5
         ],
         "yaxis": "y"
        }
       ],
       "layout": {
        "legend": {
         "title": {
          "text": "myers_briggs"
         },
         "tracegroupgap": 0
        },
        "template": {
         "data": {
          "bar": [
           {
            "error_x": {
             "color": "#2a3f5f"
            },
            "error_y": {
             "color": "#2a3f5f"
            },
            "marker": {
             "line": {
              "color": "#E5ECF6",
              "width": 0.5
             },
             "pattern": {
              "fillmode": "overlay",
              "size": 10,
              "solidity": 0.2
             }
            },
            "type": "bar"
           }
          ],
          "barpolar": [
           {
            "marker": {
             "line": {
              "color": "#E5ECF6",
              "width": 0.5
             },
             "pattern": {
              "fillmode": "overlay",
              "size": 10,
              "solidity": 0.2
             }
            },
            "type": "barpolar"
           }
          ],
          "carpet": [
           {
            "aaxis": {
             "endlinecolor": "#2a3f5f",
             "gridcolor": "white",
             "linecolor": "white",
             "minorgridcolor": "white",
             "startlinecolor": "#2a3f5f"
            },
            "baxis": {
             "endlinecolor": "#2a3f5f",
             "gridcolor": "white",
             "linecolor": "white",
             "minorgridcolor": "white",
             "startlinecolor": "#2a3f5f"
            },
            "type": "carpet"
           }
          ],
          "choropleth": [
           {
            "colorbar": {
             "outlinewidth": 0,
             "ticks": ""
            },
            "type": "choropleth"
           }
          ],
          "contour": [
           {
            "colorbar": {
             "outlinewidth": 0,
             "ticks": ""
            },
            "colorscale": [
             [
              0,
              "#0d0887"
             ],
             [
              0.1111111111111111,
              "#46039f"
             ],
             [
              0.2222222222222222,
              "#7201a8"
             ],
             [
              0.3333333333333333,
              "#9c179e"
             ],
             [
              0.4444444444444444,
              "#bd3786"
             ],
             [
              0.5555555555555556,
              "#d8576b"
             ],
             [
              0.6666666666666666,
              "#ed7953"
             ],
             [
              0.7777777777777778,
              "#fb9f3a"
             ],
             [
              0.8888888888888888,
              "#fdca26"
             ],
             [
              1,
              "#f0f921"
             ]
            ],
            "type": "contour"
           }
          ],
          "contourcarpet": [
           {
            "colorbar": {
             "outlinewidth": 0,
             "ticks": ""
            },
            "type": "contourcarpet"
           }
          ],
          "heatmap": [
           {
            "colorbar": {
             "outlinewidth": 0,
             "ticks": ""
            },
            "colorscale": [
             [
              0,
              "#0d0887"
             ],
             [
              0.1111111111111111,
              "#46039f"
             ],
             [
              0.2222222222222222,
              "#7201a8"
             ],
             [
              0.3333333333333333,
              "#9c179e"
             ],
             [
              0.4444444444444444,
              "#bd3786"
             ],
             [
              0.5555555555555556,
              "#d8576b"
             ],
             [
              0.6666666666666666,
              "#ed7953"
             ],
             [
              0.7777777777777778,
              "#fb9f3a"
             ],
             [
              0.8888888888888888,
              "#fdca26"
             ],
             [
              1,
              "#f0f921"
             ]
            ],
            "type": "heatmap"
           }
          ],
          "heatmapgl": [
           {
            "colorbar": {
             "outlinewidth": 0,
             "ticks": ""
            },
            "colorscale": [
             [
              0,
              "#0d0887"
             ],
             [
              0.1111111111111111,
              "#46039f"
             ],
             [
              0.2222222222222222,
              "#7201a8"
             ],
             [
              0.3333333333333333,
              "#9c179e"
             ],
             [
              0.4444444444444444,
              "#bd3786"
             ],
             [
              0.5555555555555556,
              "#d8576b"
             ],
             [
              0.6666666666666666,
              "#ed7953"
             ],
             [
              0.7777777777777778,
              "#fb9f3a"
             ],
             [
              0.8888888888888888,
              "#fdca26"
             ],
             [
              1,
              "#f0f921"
             ]
            ],
            "type": "heatmapgl"
           }
          ],
          "histogram": [
           {
            "marker": {
             "pattern": {
              "fillmode": "overlay",
              "size": 10,
              "solidity": 0.2
             }
            },
            "type": "histogram"
           }
          ],
          "histogram2d": [
           {
            "colorbar": {
             "outlinewidth": 0,
             "ticks": ""
            },
            "colorscale": [
             [
              0,
              "#0d0887"
             ],
             [
              0.1111111111111111,
              "#46039f"
             ],
             [
              0.2222222222222222,
              "#7201a8"
             ],
             [
              0.3333333333333333,
              "#9c179e"
             ],
             [
              0.4444444444444444,
              "#bd3786"
             ],
             [
              0.5555555555555556,
              "#d8576b"
             ],
             [
              0.6666666666666666,
              "#ed7953"
             ],
             [
              0.7777777777777778,
              "#fb9f3a"
             ],
             [
              0.8888888888888888,
              "#fdca26"
             ],
             [
              1,
              "#f0f921"
             ]
            ],
            "type": "histogram2d"
           }
          ],
          "histogram2dcontour": [
           {
            "colorbar": {
             "outlinewidth": 0,
             "ticks": ""
            },
            "colorscale": [
             [
              0,
              "#0d0887"
             ],
             [
              0.1111111111111111,
              "#46039f"
             ],
             [
              0.2222222222222222,
              "#7201a8"
             ],
             [
              0.3333333333333333,
              "#9c179e"
             ],
             [
              0.4444444444444444,
              "#bd3786"
             ],
             [
              0.5555555555555556,
              "#d8576b"
             ],
             [
              0.6666666666666666,
              "#ed7953"
             ],
             [
              0.7777777777777778,
              "#fb9f3a"
             ],
             [
              0.8888888888888888,
              "#fdca26"
             ],
             [
              1,
              "#f0f921"
             ]
            ],
            "type": "histogram2dcontour"
           }
          ],
          "mesh3d": [
           {
            "colorbar": {
             "outlinewidth": 0,
             "ticks": ""
            },
            "type": "mesh3d"
           }
          ],
          "parcoords": [
           {
            "line": {
             "colorbar": {
              "outlinewidth": 0,
              "ticks": ""
             }
            },
            "type": "parcoords"
           }
          ],
          "pie": [
           {
            "automargin": true,
            "type": "pie"
           }
          ],
          "scatter": [
           {
            "fillpattern": {
             "fillmode": "overlay",
             "size": 10,
             "solidity": 0.2
            },
            "type": "scatter"
           }
          ],
          "scatter3d": [
           {
            "line": {
             "colorbar": {
              "outlinewidth": 0,
              "ticks": ""
             }
            },
            "marker": {
             "colorbar": {
              "outlinewidth": 0,
              "ticks": ""
             }
            },
            "type": "scatter3d"
           }
          ],
          "scattercarpet": [
           {
            "marker": {
             "colorbar": {
              "outlinewidth": 0,
              "ticks": ""
             }
            },
            "type": "scattercarpet"
           }
          ],
          "scattergeo": [
           {
            "marker": {
             "colorbar": {
              "outlinewidth": 0,
              "ticks": ""
             }
            },
            "type": "scattergeo"
           }
          ],
          "scattergl": [
           {
            "marker": {
             "colorbar": {
              "outlinewidth": 0,
              "ticks": ""
             }
            },
            "type": "scattergl"
           }
          ],
          "scattermapbox": [
           {
            "marker": {
             "colorbar": {
              "outlinewidth": 0,
              "ticks": ""
             }
            },
            "type": "scattermapbox"
           }
          ],
          "scatterpolar": [
           {
            "marker": {
             "colorbar": {
              "outlinewidth": 0,
              "ticks": ""
             }
            },
            "type": "scatterpolar"
           }
          ],
          "scatterpolargl": [
           {
            "marker": {
             "colorbar": {
              "outlinewidth": 0,
              "ticks": ""
             }
            },
            "type": "scatterpolargl"
           }
          ],
          "scatterternary": [
           {
            "marker": {
             "colorbar": {
              "outlinewidth": 0,
              "ticks": ""
             }
            },
            "type": "scatterternary"
           }
          ],
          "surface": [
           {
            "colorbar": {
             "outlinewidth": 0,
             "ticks": ""
            },
            "colorscale": [
             [
              0,
              "#0d0887"
             ],
             [
              0.1111111111111111,
              "#46039f"
             ],
             [
              0.2222222222222222,
              "#7201a8"
             ],
             [
              0.3333333333333333,
              "#9c179e"
             ],
             [
              0.4444444444444444,
              "#bd3786"
             ],
             [
              0.5555555555555556,
              "#d8576b"
             ],
             [
              0.6666666666666666,
              "#ed7953"
             ],
             [
              0.7777777777777778,
              "#fb9f3a"
             ],
             [
              0.8888888888888888,
              "#fdca26"
             ],
             [
              1,
              "#f0f921"
             ]
            ],
            "type": "surface"
           }
          ],
          "table": [
           {
            "cells": {
             "fill": {
              "color": "#EBF0F8"
             },
             "line": {
              "color": "white"
             }
            },
            "header": {
             "fill": {
              "color": "#C8D4E3"
             },
             "line": {
              "color": "white"
             }
            },
            "type": "table"
           }
          ]
         },
         "layout": {
          "annotationdefaults": {
           "arrowcolor": "#2a3f5f",
           "arrowhead": 0,
           "arrowwidth": 1
          },
          "autotypenumbers": "strict",
          "coloraxis": {
           "colorbar": {
            "outlinewidth": 0,
            "ticks": ""
           }
          },
          "colorscale": {
           "diverging": [
            [
             0,
             "#8e0152"
            ],
            [
             0.1,
             "#c51b7d"
            ],
            [
             0.2,
             "#de77ae"
            ],
            [
             0.3,
             "#f1b6da"
            ],
            [
             0.4,
             "#fde0ef"
            ],
            [
             0.5,
             "#f7f7f7"
            ],
            [
             0.6,
             "#e6f5d0"
            ],
            [
             0.7,
             "#b8e186"
            ],
            [
             0.8,
             "#7fbc41"
            ],
            [
             0.9,
             "#4d9221"
            ],
            [
             1,
             "#276419"
            ]
           ],
           "sequential": [
            [
             0,
             "#0d0887"
            ],
            [
             0.1111111111111111,
             "#46039f"
            ],
            [
             0.2222222222222222,
             "#7201a8"
            ],
            [
             0.3333333333333333,
             "#9c179e"
            ],
            [
             0.4444444444444444,
             "#bd3786"
            ],
            [
             0.5555555555555556,
             "#d8576b"
            ],
            [
             0.6666666666666666,
             "#ed7953"
            ],
            [
             0.7777777777777778,
             "#fb9f3a"
            ],
            [
             0.8888888888888888,
             "#fdca26"
            ],
            [
             1,
             "#f0f921"
            ]
           ],
           "sequentialminus": [
            [
             0,
             "#0d0887"
            ],
            [
             0.1111111111111111,
             "#46039f"
            ],
            [
             0.2222222222222222,
             "#7201a8"
            ],
            [
             0.3333333333333333,
             "#9c179e"
            ],
            [
             0.4444444444444444,
             "#bd3786"
            ],
            [
             0.5555555555555556,
             "#d8576b"
            ],
            [
             0.6666666666666666,
             "#ed7953"
            ],
            [
             0.7777777777777778,
             "#fb9f3a"
            ],
            [
             0.8888888888888888,
             "#fdca26"
            ],
            [
             1,
             "#f0f921"
            ]
           ]
          },
          "colorway": [
           "#636efa",
           "#EF553B",
           "#00cc96",
           "#ab63fa",
           "#FFA15A",
           "#19d3f3",
           "#FF6692",
           "#B6E880",
           "#FF97FF",
           "#FECB52"
          ],
          "font": {
           "color": "#2a3f5f"
          },
          "geo": {
           "bgcolor": "white",
           "lakecolor": "white",
           "landcolor": "#E5ECF6",
           "showlakes": true,
           "showland": true,
           "subunitcolor": "white"
          },
          "hoverlabel": {
           "align": "left"
          },
          "hovermode": "closest",
          "mapbox": {
           "style": "light"
          },
          "paper_bgcolor": "white",
          "plot_bgcolor": "#E5ECF6",
          "polar": {
           "angularaxis": {
            "gridcolor": "white",
            "linecolor": "white",
            "ticks": ""
           },
           "bgcolor": "#E5ECF6",
           "radialaxis": {
            "gridcolor": "white",
            "linecolor": "white",
            "ticks": ""
           }
          },
          "scene": {
           "xaxis": {
            "backgroundcolor": "#E5ECF6",
            "gridcolor": "white",
            "gridwidth": 2,
            "linecolor": "white",
            "showbackground": true,
            "ticks": "",
            "zerolinecolor": "white"
           },
           "yaxis": {
            "backgroundcolor": "#E5ECF6",
            "gridcolor": "white",
            "gridwidth": 2,
            "linecolor": "white",
            "showbackground": true,
            "ticks": "",
            "zerolinecolor": "white"
           },
           "zaxis": {
            "backgroundcolor": "#E5ECF6",
            "gridcolor": "white",
            "gridwidth": 2,
            "linecolor": "white",
            "showbackground": true,
            "ticks": "",
            "zerolinecolor": "white"
           }
          },
          "shapedefaults": {
           "line": {
            "color": "#2a3f5f"
           }
          },
          "ternary": {
           "aaxis": {
            "gridcolor": "white",
            "linecolor": "white",
            "ticks": ""
           },
           "baxis": {
            "gridcolor": "white",
            "linecolor": "white",
            "ticks": ""
           },
           "bgcolor": "#E5ECF6",
           "caxis": {
            "gridcolor": "white",
            "linecolor": "white",
            "ticks": ""
           }
          },
          "title": {
           "x": 0.05
          },
          "xaxis": {
           "automargin": true,
           "gridcolor": "white",
           "linecolor": "white",
           "ticks": "",
           "title": {
            "standoff": 15
           },
           "zerolinecolor": "white",
           "zerolinewidth": 2
          },
          "yaxis": {
           "automargin": true,
           "gridcolor": "white",
           "linecolor": "white",
           "ticks": "",
           "title": {
            "standoff": 15
           },
           "zerolinecolor": "white",
           "zerolinewidth": 2
          }
         }
        },
        "title": {
         "text": "Top Myer's Brigg Personality"
        },
        "xaxis": {
         "anchor": "y",
         "domain": [
          0,
          1
         ],
         "title": {
          "text": "number_users"
         }
        },
        "yaxis": {
         "anchor": "x",
         "domain": [
          0,
          1
         ],
         "title": {
          "text": "avg_match_perc"
         }
        }
       }
      }
     },
     "metadata": {},
     "output_type": "display_data"
    }
   ],
   "source": [
    "fig = px.scatter(df_max, y=\"avg_match_perc\", x=\"number_users\", color=\"myers_briggs\",\n",
    "                 hover_data=['char_name',\"uni_name\"], title= \"Top Myer's Brigg Personality\")\n",
    "fig.show()"
   ]
  },
  {
   "cell_type": "code",
   "execution_count": 25,
   "metadata": {},
   "outputs": [
    {
     "data": {
      "image/png": "[encoded data removed]",
      "text/plain": [
       "<IPython.core.display.Image object>"
      ]
     },
     "execution_count": 25,
     "metadata": {},
     "output_type": "execute_result"
    }
   ],
   "source": [
    "# Display Output in production\n",
    "img_bytes = fig.to_image(format=\"png\")\n",
    "from IPython.display import Image\n",
    "Image(img_bytes)"
   ]
  }
 ],
 "metadata": {
  "kernelspec": {
   "display_name": "Python 3.10.4 ('virtual_env')",
   "language": "python",
   "name": "python3"
  },
  "language_info": {
   "codemirror_mode": {
    "name": "ipython",
    "version": 3
   },
   "file_extension": ".py",
   "mimetype": "text/x-python",
   "name": "python",
   "nbconvert_exporter": "python",
   "pygments_lexer": "ipython3",
   "version": "3.10.4"
  },
  "orig_nbformat": 4,
  "vscode": {
   "interpreter": {
    "hash": "dd7abdec0c426186ee9fdc7af8b59e5619dca46fa455c611f2bc54b1036f4006"
   }
  }
 },
 "nbformat": 4,
 "nbformat_minor": 2
}
