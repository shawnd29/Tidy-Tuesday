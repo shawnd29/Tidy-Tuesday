{
 "cells": [
  {
   "cell_type": "markdown",
   "metadata": {},
   "source": [
    "2023-02-07 <br/>\n",
    "Big Tech Stock Prices <br/>\n",
    "https://github.com/rfordatascience/tidytuesday/blob/master/data/2023/2023-02-07/readme.md"
   ]
  },
  {
   "cell_type": "markdown",
   "metadata": {},
   "source": [
    "Advanced Financial chart - Completed "
   ]
  },
  {
   "cell_type": "markdown",
   "metadata": {},
   "source": [
    "https://medium.com/@lucasjamar47/advanced-tips-for-candlestick-plots-in-python-66977793bee "
   ]
  },
  {
   "cell_type": "code",
   "execution_count": 1,
   "metadata": {},
   "outputs": [],
   "source": [
    "import pandas as pd\n",
    "import numpy as np\n",
    "import plotly.graph_objects as go\n",
    "import plotly.express as px\n",
    "import plotly.io as pio\n",
    "pio.renderers.default='jupyterlab'\n",
    "import os"
   ]
  },
  {
   "cell_type": "code",
   "execution_count": 2,
   "metadata": {},
   "outputs": [
    {
     "data": {
      "text/html": [
       "<div>\n",
       "<style scoped>\n",
       "    .dataframe tbody tr th:only-of-type {\n",
       "        vertical-align: middle;\n",
       "    }\n",
       "\n",
       "    .dataframe tbody tr th {\n",
       "        vertical-align: top;\n",
       "    }\n",
       "\n",
       "    .dataframe thead th {\n",
       "        text-align: right;\n",
       "    }\n",
       "</style>\n",
       "<table border=\"1\" class=\"dataframe\">\n",
       "  <thead>\n",
       "    <tr style=\"text-align: right;\">\n",
       "      <th></th>\n",
       "      <th>stock_symbol</th>\n",
       "      <th>date</th>\n",
       "      <th>open</th>\n",
       "      <th>high</th>\n",
       "      <th>low</th>\n",
       "      <th>close</th>\n",
       "      <th>adj_close</th>\n",
       "      <th>volume</th>\n",
       "    </tr>\n",
       "  </thead>\n",
       "  <tbody>\n",
       "    <tr>\n",
       "      <th>0</th>\n",
       "      <td>AAPL</td>\n",
       "      <td>2010-01-04</td>\n",
       "      <td>7.622500</td>\n",
       "      <td>7.660714</td>\n",
       "      <td>7.585000</td>\n",
       "      <td>7.643214</td>\n",
       "      <td>6.515213</td>\n",
       "      <td>493729600</td>\n",
       "    </tr>\n",
       "    <tr>\n",
       "      <th>1</th>\n",
       "      <td>AAPL</td>\n",
       "      <td>2010-01-05</td>\n",
       "      <td>7.664286</td>\n",
       "      <td>7.699643</td>\n",
       "      <td>7.616071</td>\n",
       "      <td>7.656429</td>\n",
       "      <td>6.526476</td>\n",
       "      <td>601904800</td>\n",
       "    </tr>\n",
       "    <tr>\n",
       "      <th>2</th>\n",
       "      <td>AAPL</td>\n",
       "      <td>2010-01-06</td>\n",
       "      <td>7.656429</td>\n",
       "      <td>7.686786</td>\n",
       "      <td>7.526786</td>\n",
       "      <td>7.534643</td>\n",
       "      <td>6.422664</td>\n",
       "      <td>552160000</td>\n",
       "    </tr>\n",
       "    <tr>\n",
       "      <th>3</th>\n",
       "      <td>AAPL</td>\n",
       "      <td>2010-01-07</td>\n",
       "      <td>7.562500</td>\n",
       "      <td>7.571429</td>\n",
       "      <td>7.466071</td>\n",
       "      <td>7.520714</td>\n",
       "      <td>6.410790</td>\n",
       "      <td>477131200</td>\n",
       "    </tr>\n",
       "    <tr>\n",
       "      <th>4</th>\n",
       "      <td>AAPL</td>\n",
       "      <td>2010-01-08</td>\n",
       "      <td>7.510714</td>\n",
       "      <td>7.571429</td>\n",
       "      <td>7.466429</td>\n",
       "      <td>7.570714</td>\n",
       "      <td>6.453412</td>\n",
       "      <td>447610800</td>\n",
       "    </tr>\n",
       "  </tbody>\n",
       "</table>\n",
       "</div>"
      ],
      "text/plain": [
       "  stock_symbol        date      open      high       low     close  adj_close  \\\n",
       "0         AAPL  2010-01-04  7.622500  7.660714  7.585000  7.643214   6.515213   \n",
       "1         AAPL  2010-01-05  7.664286  7.699643  7.616071  7.656429   6.526476   \n",
       "2         AAPL  2010-01-06  7.656429  7.686786  7.526786  7.534643   6.422664   \n",
       "3         AAPL  2010-01-07  7.562500  7.571429  7.466071  7.520714   6.410790   \n",
       "4         AAPL  2010-01-08  7.510714  7.571429  7.466429  7.570714   6.453412   \n",
       "\n",
       "      volume  \n",
       "0  493729600  \n",
       "1  601904800  \n",
       "2  552160000  \n",
       "3  477131200  \n",
       "4  447610800  "
      ]
     },
     "execution_count": 2,
     "metadata": {},
     "output_type": "execute_result"
    }
   ],
   "source": [
    "df= pd.read_csv(\"https://raw.githubusercontent.com/rfordatascience/tidytuesday/master/data/2023/2023-02-07/big_tech_stock_prices.csv\")\n",
    "df.head()"
   ]
  },
  {
   "cell_type": "code",
   "execution_count": 3,
   "metadata": {},
   "outputs": [],
   "source": [
    "ohlc= df[df.stock_symbol == \"AAPL\"]"
   ]
  },
  {
   "cell_type": "code",
   "execution_count": 4,
   "metadata": {},
   "outputs": [],
   "source": [
    "# Apple stock prices in 2022\n",
    "import copy\n",
    "ohlc = copy.deepcopy(df[(df.stock_symbol == \"AAPL\") & (df.date).between(\"2022-01-01\", \"2022-11-31\")])"
   ]
  },
  {
   "cell_type": "code",
   "execution_count": 5,
   "metadata": {},
   "outputs": [],
   "source": [
    "# Financial calculations \n",
    "ohlc[\"previousClose\"] = ohlc[\"close\"].shift(1)\n",
    "ohlc[\"color\"] = np.where(ohlc[\"close\"] > ohlc[\"previousClose\"], \"green\", \"red\")\n",
    "ohlc[\"fill\"] = np.where(ohlc[\"close\"] > ohlc[\"open\"], \"rgba(255, 0, 0, 0)\", ohlc[\"color\"])\n",
    "ohlc[\"Percentage\"] = ohlc[\"volume\"]*100/ohlc[\"volume\"].sum()\n",
    "price_bins = ohlc.copy()\n",
    "price_bins[\"close\"] = price_bins[\"close\"].round()\n",
    "price_bins = price_bins.groupby(\"close\", as_index=False)[\"volume\"].sum()\n",
    "price_bins[\"Percentage\"] = price_bins[\"volume\"]*100/price_bins[\"volume\"].sum()"
   ]
  },
  {
   "cell_type": "code",
   "execution_count": 6,
   "metadata": {},
   "outputs": [
    {
     "data": {
      "application/vnd.plotly.v1+json": {
       "config": {
        "plotlyServerURL": "https://plot.ly"
       },
       "data": [
        {
         "close": [
          182.009995
         ],
         "decreasing": {
          "fillcolor": "rgba(255, 0, 0, 0)",
          "line": {
           "color": "red"
          }
         },
         "high": [
          182.880005
         ],
         "increasing": {
          "fillcolor": "rgba(255, 0, 0, 0)",
          "line": {
           "color": "red"
          }
         },
         "legendgroup": "Hollow Candlesticks",
         "low": [
          177.710007
         ],
         "name": "AAPL",
         "open": [
          177.830002
         ],
         "showlegend": false,
         "type": "candlestick",
         "x": [
          3021
         ]
        },
        {
         "close": [
          179.699997
         ],
         "decreasing": {
          "fillcolor": "red",
          "line": {
           "color": "red"
          }
         },
         "high": [
          182.940002
         ],
         "increasing": {
          "fillcolor": "red",
          "line": {
           "color": "red"
          }
         },
         "legendgroup": "Hollow Candlesticks",
         "low": [
          179.119995
         ],
         "name": "AAPL",
         "open": [
          182.630005
         ],
         "showlegend": false,
         "type": "candlestick",
         "x": [
          3022
         ]
        },
        {
         "close": [
          174.919998
         ],
         "decreasing": {
          "fillcolor": "red",
          "line": {
           "color": "red"
          }
         },
         "high": [
          180.169998
         ],
         "increasing": {
          "fillcolor": "red",
          "line": {
           "color": "red"
          }
         },
         "legendgroup": "Hollow Candlesticks",
         "low": [
          174.639999
         ],
         "name": "AAPL",
         "open": [
          179.610001
         ],
         "showlegend": false,
         "type": "candlestick",
         "x": [
          3023
         ]
        },
        {
         "close": [
          172
         ],
         "decreasing": {
          "fillcolor": "red",
          "line": {
           "color": "red"
          }
         },
         "high": [
          175.300003
         ],
         "increasing": {
          "fillcolor": "red",
          "line": {
           "color": "red"
          }
         },
         "legendgroup": "Hollow Candlesticks",
         "low": [
          171.639999
         ],
         "name": "AAPL",
         "open": [
          172.699997
         ],
         "showlegend": false,
         "type": "candlestick",
         "x": [
          3024
         ]
        },
        {
         "close": [
          172.169998
         ],
         "decreasing": {
          "fillcolor": "green",
          "line": {
           "color": "green"
          }
         },
         "high": [
          174.139999
         ],
         "increasing": {
          "fillcolor": "green",
          "line": {
           "color": "green"
          }
         },
         "legendgroup": "Hollow Candlesticks",
         "low": [
          171.029999
         ],
         "name": "AAPL",
         "open": [
          172.889999
         ],
         "showlegend": false,
         "type": "candlestick",
         "x": [
          3025
         ]
        },
        {
         "close": [
          172.190002
         ],
         "decreasing": {
          "fillcolor": "rgba(255, 0, 0, 0)",
          "line": {
           "color": "green"
          }
         },
         "high": [
          172.5
         ],
         "increasing": {
          "fillcolor": "rgba(255, 0, 0, 0)",
          "line": {
           "color": "green"
          }
         },
         "legendgroup": "Hollow Candlesticks",
         "low": [
          168.169998
         ],
         "name": "AAPL",
         "open": [
          169.080002
         ],
         "showlegend": false,
         "type": "candlestick",
         "x": [
          3026
         ]
        },
        {
         "close": [
          175.080002
         ],
         "decreasing": {
          "fillcolor": "rgba(255, 0, 0, 0)",
          "line": {
           "color": "green"
          }
         },
         "high": [
          175.179993
         ],
         "increasing": {
          "fillcolor": "rgba(255, 0, 0, 0)",
          "line": {
           "color": "green"
          }
         },
         "legendgroup": "Hollow Candlesticks",
         "low": [
          170.820007
         ],
         "name": "AAPL",
         "open": [
          172.320007
         ],
         "showlegend": false,
         "type": "candlestick",
         "x": [
          3027
         ]
        },
        {
         "close": [
          175.529999
         ],
         "decreasing": {
          "fillcolor": "green",
          "line": {
           "color": "green"
          }
         },
         "high": [
          177.179993
         ],
         "increasing": {
          "fillcolor": "green",
          "line": {
           "color": "green"
          }
         },
         "legendgroup": "Hollow Candlesticks",
         "low": [
          174.820007
         ],
         "name": "AAPL",
         "open": [
          176.119995
         ],
         "showlegend": false,
         "type": "candlestick",
         "x": [
          3028
         ]
        },
        {
         "close": [
          172.190002
         ],
         "decreasing": {
          "fillcolor": "red",
          "line": {
           "color": "red"
          }
         },
         "high": [
          176.619995
         ],
         "increasing": {
          "fillcolor": "red",
          "line": {
           "color": "red"
          }
         },
         "legendgroup": "Hollow Candlesticks",
         "low": [
          171.789993
         ],
         "name": "AAPL",
         "open": [
          175.779999
         ],
         "showlegend": false,
         "type": "candlestick",
         "x": [
          3029
         ]
        },
        {
         "close": [
          173.070007
         ],
         "decreasing": {
          "fillcolor": "rgba(255, 0, 0, 0)",
          "line": {
           "color": "green"
          }
         },
         "high": [
          173.779999
         ],
         "increasing": {
          "fillcolor": "rgba(255, 0, 0, 0)",
          "line": {
           "color": "green"
          }
         },
         "legendgroup": "Hollow Candlesticks",
         "low": [
          171.089996
         ],
         "name": "AAPL",
         "open": [
          171.339996
         ],
         "showlegend": false,
         "type": "candlestick",
         "x": [
          3030
         ]
        },
        {
         "close": [
          169.800003
         ],
         "decreasing": {
          "fillcolor": "red",
          "line": {
           "color": "red"
          }
         },
         "high": [
          172.539993
         ],
         "increasing": {
          "fillcolor": "red",
          "line": {
           "color": "red"
          }
         },
         "legendgroup": "Hollow Candlesticks",
         "low": [
          169.410004
         ],
         "name": "AAPL",
         "open": [
          171.509995
         ],
         "showlegend": false,
         "type": "candlestick",
         "x": [
          3031
         ]
        },
        {
         "close": [
          166.229996
         ],
         "decreasing": {
          "fillcolor": "red",
          "line": {
           "color": "red"
          }
         },
         "high": [
          171.080002
         ],
         "increasing": {
          "fillcolor": "red",
          "line": {
           "color": "red"
          }
         },
         "legendgroup": "Hollow Candlesticks",
         "low": [
          165.940002
         ],
         "name": "AAPL",
         "open": [
          170
         ],
         "showlegend": false,
         "type": "candlestick",
         "x": [
          3032
         ]
        },
        {
         "close": [
          164.509995
         ],
         "decreasing": {
          "fillcolor": "red",
          "line": {
           "color": "red"
          }
         },
         "high": [
          169.679993
         ],
         "increasing": {
          "fillcolor": "red",
          "line": {
           "color": "red"
          }
         },
         "legendgroup": "Hollow Candlesticks",
         "low": [
          164.179993
         ],
         "name": "AAPL",
         "open": [
          166.979996
         ],
         "showlegend": false,
         "type": "candlestick",
         "x": [
          3033
         ]
        },
        {
         "close": [
          162.410004
         ],
         "decreasing": {
          "fillcolor": "red",
          "line": {
           "color": "red"
          }
         },
         "high": [
          166.330002
         ],
         "increasing": {
          "fillcolor": "red",
          "line": {
           "color": "red"
          }
         },
         "legendgroup": "Hollow Candlesticks",
         "low": [
          162.300003
         ],
         "name": "AAPL",
         "open": [
          164.419998
         ],
         "showlegend": false,
         "type": "candlestick",
         "x": [
          3034
         ]
        },
        {
         "close": [
          161.619995
         ],
         "decreasing": {
          "fillcolor": "rgba(255, 0, 0, 0)",
          "line": {
           "color": "red"
          }
         },
         "high": [
          162.300003
         ],
         "increasing": {
          "fillcolor": "rgba(255, 0, 0, 0)",
          "line": {
           "color": "red"
          }
         },
         "legendgroup": "Hollow Candlesticks",
         "low": [
          154.699997
         ],
         "name": "AAPL",
         "open": [
          160.020004
         ],
         "showlegend": false,
         "type": "candlestick",
         "x": [
          3035
         ]
        },
        {
         "close": [
          159.779999
         ],
         "decreasing": {
          "fillcolor": "rgba(255, 0, 0, 0)",
          "line": {
           "color": "red"
          }
         },
         "high": [
          162.759995
         ],
         "increasing": {
          "fillcolor": "rgba(255, 0, 0, 0)",
          "line": {
           "color": "red"
          }
         },
         "legendgroup": "Hollow Candlesticks",
         "low": [
          157.020004
         ],
         "name": "AAPL",
         "open": [
          158.979996
         ],
         "showlegend": false,
         "type": "candlestick",
         "x": [
          3036
         ]
        },
        {
         "close": [
          159.690002
         ],
         "decreasing": {
          "fillcolor": "red",
          "line": {
           "color": "red"
          }
         },
         "high": [
          164.389999
         ],
         "increasing": {
          "fillcolor": "red",
          "line": {
           "color": "red"
          }
         },
         "legendgroup": "Hollow Candlesticks",
         "low": [
          157.820007
         ],
         "name": "AAPL",
         "open": [
          163.5
         ],
         "showlegend": false,
         "type": "candlestick",
         "x": [
          3037
         ]
        },
        {
         "close": [
          159.220001
         ],
         "decreasing": {
          "fillcolor": "red",
          "line": {
           "color": "red"
          }
         },
         "high": [
          163.839996
         ],
         "increasing": {
          "fillcolor": "red",
          "line": {
           "color": "red"
          }
         },
         "legendgroup": "Hollow Candlesticks",
         "low": [
          158.279999
         ],
         "name": "AAPL",
         "open": [
          162.449997
         ],
         "showlegend": false,
         "type": "candlestick",
         "x": [
          3038
         ]
        },
        {
         "close": [
          170.330002
         ],
         "decreasing": {
          "fillcolor": "rgba(255, 0, 0, 0)",
          "line": {
           "color": "green"
          }
         },
         "high": [
          170.350006
         ],
         "increasing": {
          "fillcolor": "rgba(255, 0, 0, 0)",
          "line": {
           "color": "green"
          }
         },
         "legendgroup": "Hollow Candlesticks",
         "low": [
          162.800003
         ],
         "name": "AAPL",
         "open": [
          165.710007
         ],
         "showlegend": false,
         "type": "candlestick",
         "x": [
          3039
         ]
        },
        {
         "close": [
          174.779999
         ],
         "decreasing": {
          "fillcolor": "rgba(255, 0, 0, 0)",
          "line": {
           "color": "green"
          }
         },
         "high": [
          175
         ],
         "increasing": {
          "fillcolor": "rgba(255, 0, 0, 0)",
          "line": {
           "color": "green"
          }
         },
         "legendgroup": "Hollow Candlesticks",
         "low": [
          169.509995
         ],
         "name": "AAPL",
         "open": [
          170.160004
         ],
         "showlegend": false,
         "type": "candlestick",
         "x": [
          3040
         ]
        },
        {
         "close": [
          174.610001
         ],
         "decreasing": {
          "fillcolor": "rgba(255, 0, 0, 0)",
          "line": {
           "color": "red"
          }
         },
         "high": [
          174.839996
         ],
         "increasing": {
          "fillcolor": "rgba(255, 0, 0, 0)",
          "line": {
           "color": "red"
          }
         },
         "legendgroup": "Hollow Candlesticks",
         "low": [
          172.309998
         ],
         "name": "AAPL",
         "open": [
          174.009995
         ],
         "showlegend": false,
         "type": "candlestick",
         "x": [
          3041
         ]
        },
        {
         "close": [
          175.839996
         ],
         "decreasing": {
          "fillcolor": "rgba(255, 0, 0, 0)",
          "line": {
           "color": "green"
          }
         },
         "high": [
          175.880005
         ],
         "increasing": {
          "fillcolor": "rgba(255, 0, 0, 0)",
          "line": {
           "color": "green"
          }
         },
         "legendgroup": "Hollow Candlesticks",
         "low": [
          173.330002
         ],
         "name": "AAPL",
         "open": [
          174.75
         ],
         "showlegend": false,
         "type": "candlestick",
         "x": [
          3042
         ]
        },
        {
         "close": [
          172.899994
         ],
         "decreasing": {
          "fillcolor": "red",
          "line": {
           "color": "red"
          }
         },
         "high": [
          176.240005
         ],
         "increasing": {
          "fillcolor": "red",
          "line": {
           "color": "red"
          }
         },
         "legendgroup": "Hollow Candlesticks",
         "low": [
          172.119995
         ],
         "name": "AAPL",
         "open": [
          174.479996
         ],
         "showlegend": false,
         "type": "candlestick",
         "x": [
          3043
         ]
        },
        {
         "close": [
          172.389999
         ],
         "decreasing": {
          "fillcolor": "rgba(255, 0, 0, 0)",
          "line": {
           "color": "red"
          }
         },
         "high": [
          174.100006
         ],
         "increasing": {
          "fillcolor": "rgba(255, 0, 0, 0)",
          "line": {
           "color": "red"
          }
         },
         "legendgroup": "Hollow Candlesticks",
         "low": [
          170.679993
         ],
         "name": "AAPL",
         "open": [
          171.679993
         ],
         "showlegend": false,
         "type": "candlestick",
         "x": [
          3044
         ]
        },
        {
         "close": [
          171.660004
         ],
         "decreasing": {
          "fillcolor": "red",
          "line": {
           "color": "red"
          }
         },
         "high": [
          173.949997
         ],
         "increasing": {
          "fillcolor": "red",
          "line": {
           "color": "red"
          }
         },
         "legendgroup": "Hollow Candlesticks",
         "low": [
          170.949997
         ],
         "name": "AAPL",
         "open": [
          172.860001
         ],
         "showlegend": false,
         "type": "candlestick",
         "x": [
          3045
         ]
        },
        {
         "close": [
          174.830002
         ],
         "decreasing": {
          "fillcolor": "rgba(255, 0, 0, 0)",
          "line": {
           "color": "green"
          }
         },
         "high": [
          175.350006
         ],
         "increasing": {
          "fillcolor": "rgba(255, 0, 0, 0)",
          "line": {
           "color": "green"
          }
         },
         "legendgroup": "Hollow Candlesticks",
         "low": [
          171.429993
         ],
         "name": "AAPL",
         "open": [
          171.729996
         ],
         "showlegend": false,
         "type": "candlestick",
         "x": [
          3046
         ]
        },
        {
         "close": [
          176.279999
         ],
         "decreasing": {
          "fillcolor": "rgba(255, 0, 0, 0)",
          "line": {
           "color": "green"
          }
         },
         "high": [
          176.649994
         ],
         "increasing": {
          "fillcolor": "rgba(255, 0, 0, 0)",
          "line": {
           "color": "green"
          }
         },
         "legendgroup": "Hollow Candlesticks",
         "low": [
          174.899994
         ],
         "name": "AAPL",
         "open": [
          176.050003
         ],
         "showlegend": false,
         "type": "candlestick",
         "x": [
          3047
         ]
        },
        {
         "close": [
          172.119995
         ],
         "decreasing": {
          "fillcolor": "red",
          "line": {
           "color": "red"
          }
         },
         "high": [
          175.479996
         ],
         "increasing": {
          "fillcolor": "red",
          "line": {
           "color": "red"
          }
         },
         "legendgroup": "Hollow Candlesticks",
         "low": [
          171.550003
         ],
         "name": "AAPL",
         "open": [
          174.139999
         ],
         "showlegend": false,
         "type": "candlestick",
         "x": [
          3048
         ]
        },
        {
         "close": [
          168.639999
         ],
         "decreasing": {
          "fillcolor": "red",
          "line": {
           "color": "red"
          }
         },
         "high": [
          173.080002
         ],
         "increasing": {
          "fillcolor": "red",
          "line": {
           "color": "red"
          }
         },
         "legendgroup": "Hollow Candlesticks",
         "low": [
          168.039993
         ],
         "name": "AAPL",
         "open": [
          172.330002
         ],
         "showlegend": false,
         "type": "candlestick",
         "x": [
          3049
         ]
        },
        {
         "close": [
          168.880005
         ],
         "decreasing": {
          "fillcolor": "rgba(255, 0, 0, 0)",
          "line": {
           "color": "green"
          }
         },
         "high": [
          169.580002
         ],
         "increasing": {
          "fillcolor": "rgba(255, 0, 0, 0)",
          "line": {
           "color": "green"
          }
         },
         "legendgroup": "Hollow Candlesticks",
         "low": [
          166.559998
         ],
         "name": "AAPL",
         "open": [
          167.369995
         ],
         "showlegend": false,
         "type": "candlestick",
         "x": [
          3050
         ]
        },
        {
         "close": [
          172.789993
         ],
         "decreasing": {
          "fillcolor": "rgba(255, 0, 0, 0)",
          "line": {
           "color": "green"
          }
         },
         "high": [
          172.949997
         ],
         "increasing": {
          "fillcolor": "rgba(255, 0, 0, 0)",
          "line": {
           "color": "green"
          }
         },
         "legendgroup": "Hollow Candlesticks",
         "low": [
          170.25
         ],
         "name": "AAPL",
         "open": [
          170.970001
         ],
         "showlegend": false,
         "type": "candlestick",
         "x": [
          3051
         ]
        },
        {
         "close": [
          172.550003
         ],
         "decreasing": {
          "fillcolor": "rgba(255, 0, 0, 0)",
          "line": {
           "color": "red"
          }
         },
         "high": [
          173.339996
         ],
         "increasing": {
          "fillcolor": "rgba(255, 0, 0, 0)",
          "line": {
           "color": "red"
          }
         },
         "legendgroup": "Hollow Candlesticks",
         "low": [
          170.050003
         ],
         "name": "AAPL",
         "open": [
          171.850006
         ],
         "showlegend": false,
         "type": "candlestick",
         "x": [
          3052
         ]
        },
        {
         "close": [
          168.880005
         ],
         "decreasing": {
          "fillcolor": "red",
          "line": {
           "color": "red"
          }
         },
         "high": [
          171.910004
         ],
         "increasing": {
          "fillcolor": "red",
          "line": {
           "color": "red"
          }
         },
         "legendgroup": "Hollow Candlesticks",
         "low": [
          168.470001
         ],
         "name": "AAPL",
         "open": [
          171.029999
         ],
         "showlegend": false,
         "type": "candlestick",
         "x": [
          3053
         ]
        },
        {
         "close": [
          167.300003
         ],
         "decreasing": {
          "fillcolor": "red",
          "line": {
           "color": "red"
          }
         },
         "high": [
          170.539993
         ],
         "increasing": {
          "fillcolor": "red",
          "line": {
           "color": "red"
          }
         },
         "legendgroup": "Hollow Candlesticks",
         "low": [
          166.190002
         ],
         "name": "AAPL",
         "open": [
          169.820007
         ],
         "showlegend": false,
         "type": "candlestick",
         "x": [
          3054
         ]
        },
        {
         "close": [
          164.320007
         ],
         "decreasing": {
          "fillcolor": "red",
          "line": {
           "color": "red"
          }
         },
         "high": [
          166.690002
         ],
         "increasing": {
          "fillcolor": "red",
          "line": {
           "color": "red"
          }
         },
         "legendgroup": "Hollow Candlesticks",
         "low": [
          162.149994
         ],
         "name": "AAPL",
         "open": [
          164.979996
         ],
         "showlegend": false,
         "type": "candlestick",
         "x": [
          3055
         ]
        },
        {
         "close": [
          160.070007
         ],
         "decreasing": {
          "fillcolor": "red",
          "line": {
           "color": "red"
          }
         },
         "high": [
          166.149994
         ],
         "increasing": {
          "fillcolor": "red",
          "line": {
           "color": "red"
          }
         },
         "legendgroup": "Hollow Candlesticks",
         "low": [
          159.75
         ],
         "name": "AAPL",
         "open": [
          165.539993
         ],
         "showlegend": false,
         "type": "candlestick",
         "x": [
          3056
         ]
        },
        {
         "close": [
          162.740005
         ],
         "decreasing": {
          "fillcolor": "rgba(255, 0, 0, 0)",
          "line": {
           "color": "green"
          }
         },
         "high": [
          162.850006
         ],
         "increasing": {
          "fillcolor": "rgba(255, 0, 0, 0)",
          "line": {
           "color": "green"
          }
         },
         "legendgroup": "Hollow Candlesticks",
         "low": [
          152
         ],
         "name": "AAPL",
         "open": [
          152.580002
         ],
         "showlegend": false,
         "type": "candlestick",
         "x": [
          3057
         ]
        },
        {
         "close": [
          164.850006
         ],
         "decreasing": {
          "fillcolor": "rgba(255, 0, 0, 0)",
          "line": {
           "color": "green"
          }
         },
         "high": [
          165.119995
         ],
         "increasing": {
          "fillcolor": "rgba(255, 0, 0, 0)",
          "line": {
           "color": "green"
          }
         },
         "legendgroup": "Hollow Candlesticks",
         "low": [
          160.869995
         ],
         "name": "AAPL",
         "open": [
          163.839996
         ],
         "showlegend": false,
         "type": "candlestick",
         "x": [
          3058
         ]
        },
        {
         "close": [
          165.119995
         ],
         "decreasing": {
          "fillcolor": "rgba(255, 0, 0, 0)",
          "line": {
           "color": "green"
          }
         },
         "high": [
          165.419998
         ],
         "increasing": {
          "fillcolor": "rgba(255, 0, 0, 0)",
          "line": {
           "color": "green"
          }
         },
         "legendgroup": "Hollow Candlesticks",
         "low": [
          162.429993
         ],
         "name": "AAPL",
         "open": [
          163.059998
         ],
         "showlegend": false,
         "type": "candlestick",
         "x": [
          3059
         ]
        },
        {
         "close": [
          163.199997
         ],
         "decreasing": {
          "fillcolor": "red",
          "line": {
           "color": "red"
          }
         },
         "high": [
          166.600006
         ],
         "increasing": {
          "fillcolor": "red",
          "line": {
           "color": "red"
          }
         },
         "legendgroup": "Hollow Candlesticks",
         "low": [
          161.970001
         ],
         "name": "AAPL",
         "open": [
          164.699997
         ],
         "showlegend": false,
         "type": "candlestick",
         "x": [
          3060
         ]
        },
        {
         "close": [
          166.559998
         ],
         "decreasing": {
          "fillcolor": "rgba(255, 0, 0, 0)",
          "line": {
           "color": "green"
          }
         },
         "high": [
          167.360001
         ],
         "increasing": {
          "fillcolor": "rgba(255, 0, 0, 0)",
          "line": {
           "color": "green"
          }
         },
         "legendgroup": "Hollow Candlesticks",
         "low": [
          162.949997
         ],
         "name": "AAPL",
         "open": [
          164.389999
         ],
         "showlegend": false,
         "type": "candlestick",
         "x": [
          3061
         ]
        },
        {
         "close": [
          166.229996
         ],
         "decreasing": {
          "fillcolor": "red",
          "line": {
           "color": "red"
          }
         },
         "high": [
          168.910004
         ],
         "increasing": {
          "fillcolor": "red",
          "line": {
           "color": "red"
          }
         },
         "legendgroup": "Hollow Candlesticks",
         "low": [
          165.550003
         ],
         "name": "AAPL",
         "open": [
          168.470001
         ],
         "showlegend": false,
         "type": "candlestick",
         "x": [
          3062
         ]
        },
        {
         "close": [
          163.169998
         ],
         "decreasing": {
          "fillcolor": "red",
          "line": {
           "color": "red"
          }
         },
         "high": [
          165.550003
         ],
         "increasing": {
          "fillcolor": "red",
          "line": {
           "color": "red"
          }
         },
         "legendgroup": "Hollow Candlesticks",
         "low": [
          162.100006
         ],
         "name": "AAPL",
         "open": [
          164.490005
         ],
         "showlegend": false,
         "type": "candlestick",
         "x": [
          3063
         ]
        },
        {
         "close": [
          159.300003
         ],
         "decreasing": {
          "fillcolor": "red",
          "line": {
           "color": "red"
          }
         },
         "high": [
          165.020004
         ],
         "increasing": {
          "fillcolor": "red",
          "line": {
           "color": "red"
          }
         },
         "legendgroup": "Hollow Candlesticks",
         "low": [
          159.039993
         ],
         "name": "AAPL",
         "open": [
          163.360001
         ],
         "showlegend": false,
         "type": "candlestick",
         "x": [
          3064
         ]
        },
        {
         "close": [
          157.440002
         ],
         "decreasing": {
          "fillcolor": "red",
          "line": {
           "color": "red"
          }
         },
         "high": [
          162.880005
         ],
         "increasing": {
          "fillcolor": "red",
          "line": {
           "color": "red"
          }
         },
         "legendgroup": "Hollow Candlesticks",
         "low": [
          155.800003
         ],
         "name": "AAPL",
         "open": [
          158.820007
         ],
         "showlegend": false,
         "type": "candlestick",
         "x": [
          3065
         ]
        },
        {
         "close": [
          162.949997
         ],
         "decreasing": {
          "fillcolor": "rgba(255, 0, 0, 0)",
          "line": {
           "color": "green"
          }
         },
         "high": [
          163.410004
         ],
         "increasing": {
          "fillcolor": "rgba(255, 0, 0, 0)",
          "line": {
           "color": "green"
          }
         },
         "legendgroup": "Hollow Candlesticks",
         "low": [
          159.410004
         ],
         "name": "AAPL",
         "open": [
          161.479996
         ],
         "showlegend": false,
         "type": "candlestick",
         "x": [
          3066
         ]
        },
        {
         "close": [
          158.520004
         ],
         "decreasing": {
          "fillcolor": "red",
          "line": {
           "color": "red"
          }
         },
         "high": [
          160.389999
         ],
         "increasing": {
          "fillcolor": "red",
          "line": {
           "color": "red"
          }
         },
         "legendgroup": "Hollow Candlesticks",
         "low": [
          155.979996
         ],
         "name": "AAPL",
         "open": [
          160.199997
         ],
         "showlegend": false,
         "type": "candlestick",
         "x": [
          3067
         ]
        },
        {
         "close": [
          154.729996
         ],
         "decreasing": {
          "fillcolor": "red",
          "line": {
           "color": "red"
          }
         },
         "high": [
          159.279999
         ],
         "increasing": {
          "fillcolor": "red",
          "line": {
           "color": "red"
          }
         },
         "legendgroup": "Hollow Candlesticks",
         "low": [
          154.5
         ],
         "name": "AAPL",
         "open": [
          158.929993
         ],
         "showlegend": false,
         "type": "candlestick",
         "x": [
          3068
         ]
        },
        {
         "close": [
          150.619995
         ],
         "decreasing": {
          "fillcolor": "red",
          "line": {
           "color": "red"
          }
         },
         "high": [
          154.119995
         ],
         "increasing": {
          "fillcolor": "red",
          "line": {
           "color": "red"
          }
         },
         "legendgroup": "Hollow Candlesticks",
         "low": [
          150.100006
         ],
         "name": "AAPL",
         "open": [
          151.449997
         ],
         "showlegend": false,
         "type": "candlestick",
         "x": [
          3069
         ]
        },
        {
         "close": [
          155.089996
         ],
         "decreasing": {
          "fillcolor": "rgba(255, 0, 0, 0)",
          "line": {
           "color": "green"
          }
         },
         "high": [
          155.570007
         ],
         "increasing": {
          "fillcolor": "rgba(255, 0, 0, 0)",
          "line": {
           "color": "green"
          }
         },
         "legendgroup": "Hollow Candlesticks",
         "low": [
          150.380005
         ],
         "name": "AAPL",
         "open": [
          150.899994
         ],
         "showlegend": false,
         "type": "candlestick",
         "x": [
          3070
         ]
        },
        {
         "close": [
          159.589996
         ],
         "decreasing": {
          "fillcolor": "rgba(255, 0, 0, 0)",
          "line": {
           "color": "green"
          }
         },
         "high": [
          160
         ],
         "increasing": {
          "fillcolor": "rgba(255, 0, 0, 0)",
          "line": {
           "color": "green"
          }
         },
         "legendgroup": "Hollow Candlesticks",
         "low": [
          154.460007
         ],
         "name": "AAPL",
         "open": [
          157.050003
         ],
         "showlegend": false,
         "type": "candlestick",
         "x": [
          3071
         ]
        },
        {
         "close": [
          160.619995
         ],
         "decreasing": {
          "fillcolor": "rgba(255, 0, 0, 0)",
          "line": {
           "color": "green"
          }
         },
         "high": [
          161
         ],
         "increasing": {
          "fillcolor": "rgba(255, 0, 0, 0)",
          "line": {
           "color": "green"
          }
         },
         "legendgroup": "Hollow Candlesticks",
         "low": [
          157.630005
         ],
         "name": "AAPL",
         "open": [
          158.610001
         ],
         "showlegend": false,
         "type": "candlestick",
         "x": [
          3072
         ]
        },
        {
         "close": [
          163.979996
         ],
         "decreasing": {
          "fillcolor": "rgba(255, 0, 0, 0)",
          "line": {
           "color": "green"
          }
         },
         "high": [
          164.479996
         ],
         "increasing": {
          "fillcolor": "rgba(255, 0, 0, 0)",
          "line": {
           "color": "green"
          }
         },
         "legendgroup": "Hollow Candlesticks",
         "low": [
          159.759995
         ],
         "name": "AAPL",
         "open": [
          160.509995
         ],
         "showlegend": false,
         "type": "candlestick",
         "x": [
          3073
         ]
        },
        {
         "close": [
          165.380005
         ],
         "decreasing": {
          "fillcolor": "rgba(255, 0, 0, 0)",
          "line": {
           "color": "green"
          }
         },
         "high": [
          166.350006
         ],
         "increasing": {
          "fillcolor": "rgba(255, 0, 0, 0)",
          "line": {
           "color": "green"
          }
         },
         "legendgroup": "Hollow Candlesticks",
         "low": [
          163.009995
         ],
         "name": "AAPL",
         "open": [
          163.509995
         ],
         "showlegend": false,
         "type": "candlestick",
         "x": [
          3074
         ]
        },
        {
         "close": [
          168.820007
         ],
         "decreasing": {
          "fillcolor": "rgba(255, 0, 0, 0)",
          "line": {
           "color": "green"
          }
         },
         "high": [
          169.419998
         ],
         "increasing": {
          "fillcolor": "rgba(255, 0, 0, 0)",
          "line": {
           "color": "green"
          }
         },
         "legendgroup": "Hollow Candlesticks",
         "low": [
          164.910004
         ],
         "name": "AAPL",
         "open": [
          165.509995
         ],
         "showlegend": false,
         "type": "candlestick",
         "x": [
          3075
         ]
        },
        {
         "close": [
          170.210007
         ],
         "decreasing": {
          "fillcolor": "rgba(255, 0, 0, 0)",
          "line": {
           "color": "green"
          }
         },
         "high": [
          172.639999
         ],
         "increasing": {
          "fillcolor": "rgba(255, 0, 0, 0)",
          "line": {
           "color": "green"
          }
         },
         "legendgroup": "Hollow Candlesticks",
         "low": [
          167.649994
         ],
         "name": "AAPL",
         "open": [
          167.990005
         ],
         "showlegend": false,
         "type": "candlestick",
         "x": [
          3076
         ]
        },
        {
         "close": [
          174.070007
         ],
         "decreasing": {
          "fillcolor": "rgba(255, 0, 0, 0)",
          "line": {
           "color": "green"
          }
         },
         "high": [
          174.139999
         ],
         "increasing": {
          "fillcolor": "rgba(255, 0, 0, 0)",
          "line": {
           "color": "green"
          }
         },
         "legendgroup": "Hollow Candlesticks",
         "low": [
          170.210007
         ],
         "name": "AAPL",
         "open": [
          171.059998
         ],
         "showlegend": false,
         "type": "candlestick",
         "x": [
          3077
         ]
        },
        {
         "close": [
          174.720001
         ],
         "decreasing": {
          "fillcolor": "rgba(255, 0, 0, 0)",
          "line": {
           "color": "green"
          }
         },
         "high": [
          175.279999
         ],
         "increasing": {
          "fillcolor": "rgba(255, 0, 0, 0)",
          "line": {
           "color": "green"
          }
         },
         "legendgroup": "Hollow Candlesticks",
         "low": [
          172.75
         ],
         "name": "AAPL",
         "open": [
          173.880005
         ],
         "showlegend": false,
         "type": "candlestick",
         "x": [
          3078
         ]
        },
        {
         "close": [
          175.600006
         ],
         "decreasing": {
          "fillcolor": "rgba(255, 0, 0, 0)",
          "line": {
           "color": "green"
          }
         },
         "high": [
          175.729996
         ],
         "increasing": {
          "fillcolor": "rgba(255, 0, 0, 0)",
          "line": {
           "color": "green"
          }
         },
         "legendgroup": "Hollow Candlesticks",
         "low": [
          172
         ],
         "name": "AAPL",
         "open": [
          172.169998
         ],
         "showlegend": false,
         "type": "candlestick",
         "x": [
          3079
         ]
        },
        {
         "close": [
          178.960007
         ],
         "decreasing": {
          "fillcolor": "rgba(255, 0, 0, 0)",
          "line": {
           "color": "green"
          }
         },
         "high": [
          179.009995
         ],
         "increasing": {
          "fillcolor": "rgba(255, 0, 0, 0)",
          "line": {
           "color": "green"
          }
         },
         "legendgroup": "Hollow Candlesticks",
         "low": [
          176.339996
         ],
         "name": "AAPL",
         "open": [
          176.690002
         ],
         "showlegend": false,
         "type": "candlestick",
         "x": [
          3080
         ]
        },
        {
         "close": [
          177.770004
         ],
         "decreasing": {
          "fillcolor": "red",
          "line": {
           "color": "red"
          }
         },
         "high": [
          179.610001
         ],
         "increasing": {
          "fillcolor": "red",
          "line": {
           "color": "red"
          }
         },
         "legendgroup": "Hollow Candlesticks",
         "low": [
          176.699997
         ],
         "name": "AAPL",
         "open": [
          178.550003
         ],
         "showlegend": false,
         "type": "candlestick",
         "x": [
          3081
         ]
        },
        {
         "close": [
          174.610001
         ],
         "decreasing": {
          "fillcolor": "red",
          "line": {
           "color": "red"
          }
         },
         "high": [
          178.029999
         ],
         "increasing": {
          "fillcolor": "red",
          "line": {
           "color": "red"
          }
         },
         "legendgroup": "Hollow Candlesticks",
         "low": [
          174.399994
         ],
         "name": "AAPL",
         "open": [
          177.839996
         ],
         "showlegend": false,
         "type": "candlestick",
         "x": [
          3082
         ]
        },
        {
         "close": [
          174.309998
         ],
         "decreasing": {
          "fillcolor": "rgba(255, 0, 0, 0)",
          "line": {
           "color": "red"
          }
         },
         "high": [
          174.880005
         ],
         "increasing": {
          "fillcolor": "rgba(255, 0, 0, 0)",
          "line": {
           "color": "red"
          }
         },
         "legendgroup": "Hollow Candlesticks",
         "low": [
          171.940002
         ],
         "name": "AAPL",
         "open": [
          174.029999
         ],
         "showlegend": false,
         "type": "candlestick",
         "x": [
          3083
         ]
        },
        {
         "close": [
          178.440002
         ],
         "decreasing": {
          "fillcolor": "rgba(255, 0, 0, 0)",
          "line": {
           "color": "green"
          }
         },
         "high": [
          178.490005
         ],
         "increasing": {
          "fillcolor": "rgba(255, 0, 0, 0)",
          "line": {
           "color": "green"
          }
         },
         "legendgroup": "Hollow Candlesticks",
         "low": [
          174.440002
         ],
         "name": "AAPL",
         "open": [
          174.570007
         ],
         "showlegend": false,
         "type": "candlestick",
         "x": [
          3084
         ]
        },
        {
         "close": [
          175.059998
         ],
         "decreasing": {
          "fillcolor": "red",
          "line": {
           "color": "red"
          }
         },
         "high": [
          178.300003
         ],
         "increasing": {
          "fillcolor": "red",
          "line": {
           "color": "red"
          }
         },
         "legendgroup": "Hollow Candlesticks",
         "low": [
          174.419998
         ],
         "name": "AAPL",
         "open": [
          177.5
         ],
         "showlegend": false,
         "type": "candlestick",
         "x": [
          3085
         ]
        },
        {
         "close": [
          171.830002
         ],
         "decreasing": {
          "fillcolor": "red",
          "line": {
           "color": "red"
          }
         },
         "high": [
          173.630005
         ],
         "increasing": {
          "fillcolor": "red",
          "line": {
           "color": "red"
          }
         },
         "legendgroup": "Hollow Candlesticks",
         "low": [
          170.130005
         ],
         "name": "AAPL",
         "open": [
          172.360001
         ],
         "showlegend": false,
         "type": "candlestick",
         "x": [
          3086
         ]
        },
        {
         "close": [
          172.139999
         ],
         "decreasing": {
          "fillcolor": "rgba(255, 0, 0, 0)",
          "line": {
           "color": "green"
          }
         },
         "high": [
          173.360001
         ],
         "increasing": {
          "fillcolor": "rgba(255, 0, 0, 0)",
          "line": {
           "color": "green"
          }
         },
         "legendgroup": "Hollow Candlesticks",
         "low": [
          169.850006
         ],
         "name": "AAPL",
         "open": [
          171.160004
         ],
         "showlegend": false,
         "type": "candlestick",
         "x": [
          3087
         ]
        },
        {
         "close": [
          170.089996
         ],
         "decreasing": {
          "fillcolor": "red",
          "line": {
           "color": "red"
          }
         },
         "high": [
          171.779999
         ],
         "increasing": {
          "fillcolor": "red",
          "line": {
           "color": "red"
          }
         },
         "legendgroup": "Hollow Candlesticks",
         "low": [
          169.199997
         ],
         "name": "AAPL",
         "open": [
          171.779999
         ],
         "showlegend": false,
         "type": "candlestick",
         "x": [
          3088
         ]
        },
        {
         "close": [
          165.75
         ],
         "decreasing": {
          "fillcolor": "red",
          "line": {
           "color": "red"
          }
         },
         "high": [
          169.029999
         ],
         "increasing": {
          "fillcolor": "red",
          "line": {
           "color": "red"
          }
         },
         "legendgroup": "Hollow Candlesticks",
         "low": [
          165.5
         ],
         "name": "AAPL",
         "open": [
          168.710007
         ],
         "showlegend": false,
         "type": "candlestick",
         "x": [
          3089
         ]
        },
        {
         "close": [
          167.660004
         ],
         "decreasing": {
          "fillcolor": "green",
          "line": {
           "color": "green"
          }
         },
         "high": [
          169.869995
         ],
         "increasing": {
          "fillcolor": "green",
          "line": {
           "color": "green"
          }
         },
         "legendgroup": "Hollow Candlesticks",
         "low": [
          166.639999
         ],
         "name": "AAPL",
         "open": [
          168.020004
         ],
         "showlegend": false,
         "type": "candlestick",
         "x": [
          3090
         ]
        },
        {
         "close": [
          170.399994
         ],
         "decreasing": {
          "fillcolor": "rgba(255, 0, 0, 0)",
          "line": {
           "color": "green"
          }
         },
         "high": [
          171.039993
         ],
         "increasing": {
          "fillcolor": "rgba(255, 0, 0, 0)",
          "line": {
           "color": "green"
          }
         },
         "legendgroup": "Hollow Candlesticks",
         "low": [
          166.770004
         ],
         "name": "AAPL",
         "open": [
          167.389999
         ],
         "showlegend": false,
         "type": "candlestick",
         "x": [
          3091
         ]
        },
        {
         "close": [
          165.289993
         ],
         "decreasing": {
          "fillcolor": "red",
          "line": {
           "color": "red"
          }
         },
         "high": [
          171.270004
         ],
         "increasing": {
          "fillcolor": "red",
          "line": {
           "color": "red"
          }
         },
         "legendgroup": "Hollow Candlesticks",
         "low": [
          165.039993
         ],
         "name": "AAPL",
         "open": [
          170.619995
         ],
         "showlegend": false,
         "type": "candlestick",
         "x": [
          3092
         ]
        },
        {
         "close": [
          165.070007
         ],
         "decreasing": {
          "fillcolor": "rgba(255, 0, 0, 0)",
          "line": {
           "color": "red"
          }
         },
         "high": [
          166.600006
         ],
         "increasing": {
          "fillcolor": "rgba(255, 0, 0, 0)",
          "line": {
           "color": "red"
          }
         },
         "legendgroup": "Hollow Candlesticks",
         "low": [
          163.570007
         ],
         "name": "AAPL",
         "open": [
          163.919998
         ],
         "showlegend": false,
         "type": "candlestick",
         "x": [
          3093
         ]
        },
        {
         "close": [
          167.399994
         ],
         "decreasing": {
          "fillcolor": "rgba(255, 0, 0, 0)",
          "line": {
           "color": "green"
          }
         },
         "high": [
          167.820007
         ],
         "increasing": {
          "fillcolor": "rgba(255, 0, 0, 0)",
          "line": {
           "color": "green"
          }
         },
         "legendgroup": "Hollow Candlesticks",
         "low": [
          163.910004
         ],
         "name": "AAPL",
         "open": [
          165.020004
         ],
         "showlegend": false,
         "type": "candlestick",
         "x": [
          3094
         ]
        },
        {
         "close": [
          167.229996
         ],
         "decreasing": {
          "fillcolor": "red",
          "line": {
           "color": "red"
          }
         },
         "high": [
          168.880005
         ],
         "increasing": {
          "fillcolor": "red",
          "line": {
           "color": "red"
          }
         },
         "legendgroup": "Hollow Candlesticks",
         "low": [
          166.100006
         ],
         "name": "AAPL",
         "open": [
          168.759995
         ],
         "showlegend": false,
         "type": "candlestick",
         "x": [
          3095
         ]
        },
        {
         "close": [
          166.419998
         ],
         "decreasing": {
          "fillcolor": "red",
          "line": {
           "color": "red"
          }
         },
         "high": [
          171.529999
         ],
         "increasing": {
          "fillcolor": "red",
          "line": {
           "color": "red"
          }
         },
         "legendgroup": "Hollow Candlesticks",
         "low": [
          165.910004
         ],
         "name": "AAPL",
         "open": [
          168.910004
         ],
         "showlegend": false,
         "type": "candlestick",
         "x": [
          3096
         ]
        },
        {
         "close": [
          161.789993
         ],
         "decreasing": {
          "fillcolor": "red",
          "line": {
           "color": "red"
          }
         },
         "high": [
          167.869995
         ],
         "increasing": {
          "fillcolor": "red",
          "line": {
           "color": "red"
          }
         },
         "legendgroup": "Hollow Candlesticks",
         "low": [
          161.5
         ],
         "name": "AAPL",
         "open": [
          166.460007
         ],
         "showlegend": false,
         "type": "candlestick",
         "x": [
          3097
         ]
        },
        {
         "close": [
          162.880005
         ],
         "decreasing": {
          "fillcolor": "rgba(255, 0, 0, 0)",
          "line": {
           "color": "green"
          }
         },
         "high": [
          163.169998
         ],
         "increasing": {
          "fillcolor": "rgba(255, 0, 0, 0)",
          "line": {
           "color": "green"
          }
         },
         "legendgroup": "Hollow Candlesticks",
         "low": [
          158.460007
         ],
         "name": "AAPL",
         "open": [
          161.119995
         ],
         "showlegend": false,
         "type": "candlestick",
         "x": [
          3098
         ]
        },
        {
         "close": [
          156.800003
         ],
         "decreasing": {
          "fillcolor": "red",
          "line": {
           "color": "red"
          }
         },
         "high": [
          162.339996
         ],
         "increasing": {
          "fillcolor": "red",
          "line": {
           "color": "red"
          }
         },
         "legendgroup": "Hollow Candlesticks",
         "low": [
          156.720001
         ],
         "name": "AAPL",
         "open": [
          162.25
         ],
         "showlegend": false,
         "type": "candlestick",
         "x": [
          3099
         ]
        },
        {
         "close": [
          156.570007
         ],
         "decreasing": {
          "fillcolor": "rgba(255, 0, 0, 0)",
          "line": {
           "color": "red"
          }
         },
         "high": [
          159.789993
         ],
         "increasing": {
          "fillcolor": "rgba(255, 0, 0, 0)",
          "line": {
           "color": "red"
          }
         },
         "legendgroup": "Hollow Candlesticks",
         "low": [
          155.380005
         ],
         "name": "AAPL",
         "open": [
          155.910004
         ],
         "showlegend": false,
         "type": "candlestick",
         "x": [
          3100
         ]
        },
        {
         "close": [
          163.639999
         ],
         "decreasing": {
          "fillcolor": "rgba(255, 0, 0, 0)",
          "line": {
           "color": "green"
          }
         },
         "high": [
          164.520004
         ],
         "increasing": {
          "fillcolor": "rgba(255, 0, 0, 0)",
          "line": {
           "color": "green"
          }
         },
         "legendgroup": "Hollow Candlesticks",
         "low": [
          158.929993
         ],
         "name": "AAPL",
         "open": [
          159.25
         ],
         "showlegend": false,
         "type": "candlestick",
         "x": [
          3101
         ]
        },
        {
         "close": [
          157.649994
         ],
         "decreasing": {
          "fillcolor": "red",
          "line": {
           "color": "red"
          }
         },
         "high": [
          166.199997
         ],
         "increasing": {
          "fillcolor": "red",
          "line": {
           "color": "red"
          }
         },
         "legendgroup": "Hollow Candlesticks",
         "low": [
          157.25
         ],
         "name": "AAPL",
         "open": [
          161.839996
         ],
         "showlegend": false,
         "type": "candlestick",
         "x": [
          3102
         ]
        },
        {
         "close": [
          157.960007
         ],
         "decreasing": {
          "fillcolor": "rgba(255, 0, 0, 0)",
          "line": {
           "color": "green"
          }
         },
         "high": [
          158.229996
         ],
         "increasing": {
          "fillcolor": "rgba(255, 0, 0, 0)",
          "line": {
           "color": "green"
          }
         },
         "legendgroup": "Hollow Candlesticks",
         "low": [
          153.270004
         ],
         "name": "AAPL",
         "open": [
          156.710007
         ],
         "showlegend": false,
         "type": "candlestick",
         "x": [
          3103
         ]
        },
        {
         "close": [
          159.479996
         ],
         "decreasing": {
          "fillcolor": "rgba(255, 0, 0, 0)",
          "line": {
           "color": "green"
          }
         },
         "high": [
          160.710007
         ],
         "increasing": {
          "fillcolor": "rgba(255, 0, 0, 0)",
          "line": {
           "color": "green"
          }
         },
         "legendgroup": "Hollow Candlesticks",
         "low": [
          156.320007
         ],
         "name": "AAPL",
         "open": [
          158.149994
         ],
         "showlegend": false,
         "type": "candlestick",
         "x": [
          3104
         ]
        },
        {
         "close": [
          166.020004
         ],
         "decreasing": {
          "fillcolor": "rgba(255, 0, 0, 0)",
          "line": {
           "color": "green"
          }
         },
         "high": [
          166.479996
         ],
         "increasing": {
          "fillcolor": "rgba(255, 0, 0, 0)",
          "line": {
           "color": "green"
          }
         },
         "legendgroup": "Hollow Candlesticks",
         "low": [
          159.259995
         ],
         "name": "AAPL",
         "open": [
          159.669998
         ],
         "showlegend": false,
         "type": "candlestick",
         "x": [
          3105
         ]
        },
        {
         "close": [
          156.770004
         ],
         "decreasing": {
          "fillcolor": "red",
          "line": {
           "color": "red"
          }
         },
         "high": [
          164.080002
         ],
         "increasing": {
          "fillcolor": "red",
          "line": {
           "color": "red"
          }
         },
         "legendgroup": "Hollow Candlesticks",
         "low": [
          154.949997
         ],
         "name": "AAPL",
         "open": [
          163.850006
         ],
         "showlegend": false,
         "type": "candlestick",
         "x": [
          3106
         ]
        },
        {
         "close": [
          157.279999
         ],
         "decreasing": {
          "fillcolor": "rgba(255, 0, 0, 0)",
          "line": {
           "color": "green"
          }
         },
         "high": [
          159.440002
         ],
         "increasing": {
          "fillcolor": "rgba(255, 0, 0, 0)",
          "line": {
           "color": "green"
          }
         },
         "legendgroup": "Hollow Candlesticks",
         "low": [
          154.179993
         ],
         "name": "AAPL",
         "open": [
          156.009995
         ],
         "showlegend": false,
         "type": "candlestick",
         "x": [
          3107
         ]
        },
        {
         "close": [
          152.059998
         ],
         "decreasing": {
          "fillcolor": "red",
          "line": {
           "color": "red"
          }
         },
         "high": [
          155.830002
         ],
         "increasing": {
          "fillcolor": "red",
          "line": {
           "color": "red"
          }
         },
         "legendgroup": "Hollow Candlesticks",
         "low": [
          151.490005
         ],
         "name": "AAPL",
         "open": [
          154.929993
         ],
         "showlegend": false,
         "type": "candlestick",
         "x": [
          3108
         ]
        },
        {
         "close": [
          154.509995
         ],
         "decreasing": {
          "fillcolor": "green",
          "line": {
           "color": "green"
          }
         },
         "high": [
          156.740005
         ],
         "increasing": {
          "fillcolor": "green",
          "line": {
           "color": "green"
          }
         },
         "legendgroup": "Hollow Candlesticks",
         "low": [
          152.929993
         ],
         "name": "AAPL",
         "open": [
          155.520004
         ],
         "showlegend": false,
         "type": "candlestick",
         "x": [
          3109
         ]
        },
        {
         "close": [
          146.5
         ],
         "decreasing": {
          "fillcolor": "red",
          "line": {
           "color": "red"
          }
         },
         "high": [
          155.449997
         ],
         "increasing": {
          "fillcolor": "red",
          "line": {
           "color": "red"
          }
         },
         "legendgroup": "Hollow Candlesticks",
         "low": [
          145.809998
         ],
         "name": "AAPL",
         "open": [
          153.5
         ],
         "showlegend": false,
         "type": "candlestick",
         "x": [
          3110
         ]
        },
        {
         "close": [
          142.559998
         ],
         "decreasing": {
          "fillcolor": "red",
          "line": {
           "color": "red"
          }
         },
         "high": [
          146.199997
         ],
         "increasing": {
          "fillcolor": "red",
          "line": {
           "color": "red"
          }
         },
         "legendgroup": "Hollow Candlesticks",
         "low": [
          138.800003
         ],
         "name": "AAPL",
         "open": [
          142.770004
         ],
         "showlegend": false,
         "type": "candlestick",
         "x": [
          3111
         ]
        },
        {
         "close": [
          147.110001
         ],
         "decreasing": {
          "fillcolor": "rgba(255, 0, 0, 0)",
          "line": {
           "color": "green"
          }
         },
         "high": [
          148.100006
         ],
         "increasing": {
          "fillcolor": "rgba(255, 0, 0, 0)",
          "line": {
           "color": "green"
          }
         },
         "legendgroup": "Hollow Candlesticks",
         "low": [
          143.110001
         ],
         "name": "AAPL",
         "open": [
          144.589996
         ],
         "showlegend": false,
         "type": "candlestick",
         "x": [
          3112
         ]
        },
        {
         "close": [
          145.539993
         ],
         "decreasing": {
          "fillcolor": "red",
          "line": {
           "color": "red"
          }
         },
         "high": [
          147.520004
         ],
         "increasing": {
          "fillcolor": "red",
          "line": {
           "color": "red"
          }
         },
         "legendgroup": "Hollow Candlesticks",
         "low": [
          144.179993
         ],
         "name": "AAPL",
         "open": [
          145.550003
         ],
         "showlegend": false,
         "type": "candlestick",
         "x": [
          3113
         ]
        },
        {
         "close": [
          149.240005
         ],
         "decreasing": {
          "fillcolor": "rgba(255, 0, 0, 0)",
          "line": {
           "color": "green"
          }
         },
         "high": [
          149.770004
         ],
         "increasing": {
          "fillcolor": "rgba(255, 0, 0, 0)",
          "line": {
           "color": "green"
          }
         },
         "legendgroup": "Hollow Candlesticks",
         "low": [
          146.679993
         ],
         "name": "AAPL",
         "open": [
          148.860001
         ],
         "showlegend": false,
         "type": "candlestick",
         "x": [
          3114
         ]
        },
        {
         "close": [
          140.820007
         ],
         "decreasing": {
          "fillcolor": "red",
          "line": {
           "color": "red"
          }
         },
         "high": [
          147.360001
         ],
         "increasing": {
          "fillcolor": "red",
          "line": {
           "color": "red"
          }
         },
         "legendgroup": "Hollow Candlesticks",
         "low": [
          139.899994
         ],
         "name": "AAPL",
         "open": [
          146.850006
         ],
         "showlegend": false,
         "type": "candlestick",
         "x": [
          3115
         ]
        },
        {
         "close": [
          137.350006
         ],
         "decreasing": {
          "fillcolor": "red",
          "line": {
           "color": "red"
          }
         },
         "high": [
          141.660004
         ],
         "increasing": {
          "fillcolor": "red",
          "line": {
           "color": "red"
          }
         },
         "legendgroup": "Hollow Candlesticks",
         "low": [
          136.600006
         ],
         "name": "AAPL",
         "open": [
          139.880005
         ],
         "showlegend": false,
         "type": "candlestick",
         "x": [
          3116
         ]
        },
        {
         "close": [
          137.589996
         ],
         "decreasing": {
          "fillcolor": "green",
          "line": {
           "color": "green"
          }
         },
         "high": [
          140.699997
         ],
         "increasing": {
          "fillcolor": "green",
          "line": {
           "color": "green"
          }
         },
         "legendgroup": "Hollow Candlesticks",
         "low": [
          132.610001
         ],
         "name": "AAPL",
         "open": [
          139.089996
         ],
         "showlegend": false,
         "type": "candlestick",
         "x": [
          3117
         ]
        },
        {
         "close": [
          143.110001
         ],
         "decreasing": {
          "fillcolor": "rgba(255, 0, 0, 0)",
          "line": {
           "color": "green"
          }
         },
         "high": [
          143.259995
         ],
         "increasing": {
          "fillcolor": "rgba(255, 0, 0, 0)",
          "line": {
           "color": "green"
          }
         },
         "legendgroup": "Hollow Candlesticks",
         "low": [
          137.649994
         ],
         "name": "AAPL",
         "open": [
          137.789993
         ],
         "showlegend": false,
         "type": "candlestick",
         "x": [
          3118
         ]
        },
        {
         "close": [
          140.360001
         ],
         "decreasing": {
          "fillcolor": "red",
          "line": {
           "color": "red"
          }
         },
         "high": [
          141.970001
         ],
         "increasing": {
          "fillcolor": "red",
          "line": {
           "color": "red"
          }
         },
         "legendgroup": "Hollow Candlesticks",
         "low": [
          137.330002
         ],
         "name": "AAPL",
         "open": [
          140.809998
         ],
         "showlegend": false,
         "type": "candlestick",
         "x": [
          3119
         ]
        },
        {
         "close": [
          140.520004
         ],
         "decreasing": {
          "fillcolor": "rgba(255, 0, 0, 0)",
          "line": {
           "color": "green"
          }
         },
         "high": [
          141.789993
         ],
         "increasing": {
          "fillcolor": "rgba(255, 0, 0, 0)",
          "line": {
           "color": "green"
          }
         },
         "legendgroup": "Hollow Candlesticks",
         "low": [
          138.339996
         ],
         "name": "AAPL",
         "open": [
          138.429993
         ],
         "showlegend": false,
         "type": "candlestick",
         "x": [
          3120
         ]
        },
        {
         "close": [
          143.779999
         ],
         "decreasing": {
          "fillcolor": "rgba(255, 0, 0, 0)",
          "line": {
           "color": "green"
          }
         },
         "high": [
          144.339996
         ],
         "increasing": {
          "fillcolor": "rgba(255, 0, 0, 0)",
          "line": {
           "color": "green"
          }
         },
         "legendgroup": "Hollow Candlesticks",
         "low": [
          137.139999
         ],
         "name": "AAPL",
         "open": [
          137.389999
         ],
         "showlegend": false,
         "type": "candlestick",
         "x": [
          3121
         ]
        },
        {
         "close": [
          149.639999
         ],
         "decreasing": {
          "fillcolor": "rgba(255, 0, 0, 0)",
          "line": {
           "color": "green"
          }
         },
         "high": [
          149.679993
         ],
         "increasing": {
          "fillcolor": "rgba(255, 0, 0, 0)",
          "line": {
           "color": "green"
          }
         },
         "legendgroup": "Hollow Candlesticks",
         "low": [
          145.259995
         ],
         "name": "AAPL",
         "open": [
          145.389999
         ],
         "showlegend": false,
         "type": "candlestick",
         "x": [
          3122
         ]
        },
        {
         "close": [
          148.839996
         ],
         "decreasing": {
          "fillcolor": "red",
          "line": {
           "color": "red"
          }
         },
         "high": [
          150.660004
         ],
         "increasing": {
          "fillcolor": "red",
          "line": {
           "color": "red"
          }
         },
         "legendgroup": "Hollow Candlesticks",
         "low": [
          146.839996
         ],
         "name": "AAPL",
         "open": [
          149.070007
         ],
         "showlegend": false,
         "type": "candlestick",
         "x": [
          3123
         ]
        },
        {
         "close": [
          148.710007
         ],
         "decreasing": {
          "fillcolor": "red",
          "line": {
           "color": "red"
          }
         },
         "high": [
          151.740005
         ],
         "increasing": {
          "fillcolor": "red",
          "line": {
           "color": "red"
          }
         },
         "legendgroup": "Hollow Candlesticks",
         "low": [
          147.679993
         ],
         "name": "AAPL",
         "open": [
          149.899994
         ],
         "showlegend": false,
         "type": "candlestick",
         "x": [
          3124
         ]
        },
        {
         "close": [
          151.210007
         ],
         "decreasing": {
          "fillcolor": "rgba(255, 0, 0, 0)",
          "line": {
           "color": "green"
          }
         },
         "high": [
          151.270004
         ],
         "increasing": {
          "fillcolor": "rgba(255, 0, 0, 0)",
          "line": {
           "color": "green"
          }
         },
         "legendgroup": "Hollow Candlesticks",
         "low": [
          146.860001
         ],
         "name": "AAPL",
         "open": [
          147.830002
         ],
         "showlegend": false,
         "type": "candlestick",
         "x": [
          3125
         ]
        },
        {
         "close": [
          145.380005
         ],
         "decreasing": {
          "fillcolor": "red",
          "line": {
           "color": "red"
          }
         },
         "high": [
          147.970001
         ],
         "increasing": {
          "fillcolor": "red",
          "line": {
           "color": "red"
          }
         },
         "legendgroup": "Hollow Candlesticks",
         "low": [
          144.460007
         ],
         "name": "AAPL",
         "open": [
          146.899994
         ],
         "showlegend": false,
         "type": "candlestick",
         "x": [
          3126
         ]
        },
        {
         "close": [
          146.139999
         ],
         "decreasing": {
          "fillcolor": "green",
          "line": {
           "color": "green"
          }
         },
         "high": [
          148.570007
         ],
         "increasing": {
          "fillcolor": "green",
          "line": {
           "color": "green"
          }
         },
         "legendgroup": "Hollow Candlesticks",
         "low": [
          144.899994
         ],
         "name": "AAPL",
         "open": [
          147.029999
         ],
         "showlegend": false,
         "type": "candlestick",
         "x": [
          3127
         ]
        },
        {
         "close": [
          148.710007
         ],
         "decreasing": {
          "fillcolor": "rgba(255, 0, 0, 0)",
          "line": {
           "color": "green"
          }
         },
         "high": [
          149
         ],
         "increasing": {
          "fillcolor": "rgba(255, 0, 0, 0)",
          "line": {
           "color": "green"
          }
         },
         "legendgroup": "Hollow Candlesticks",
         "low": [
          144.100006
         ],
         "name": "AAPL",
         "open": [
          144.350006
         ],
         "showlegend": false,
         "type": "candlestick",
         "x": [
          3128
         ]
        },
        {
         "close": [
          147.960007
         ],
         "decreasing": {
          "fillcolor": "red",
          "line": {
           "color": "red"
          }
         },
         "high": [
          149.869995
         ],
         "increasing": {
          "fillcolor": "red",
          "line": {
           "color": "red"
          }
         },
         "legendgroup": "Hollow Candlesticks",
         "low": [
          147.460007
         ],
         "name": "AAPL",
         "open": [
          148.580002
         ],
         "showlegend": false,
         "type": "candlestick",
         "x": [
          3129
         ]
        },
        {
         "close": [
          142.639999
         ],
         "decreasing": {
          "fillcolor": "red",
          "line": {
           "color": "red"
          }
         },
         "high": [
          147.949997
         ],
         "increasing": {
          "fillcolor": "red",
          "line": {
           "color": "red"
          }
         },
         "legendgroup": "Hollow Candlesticks",
         "low": [
          142.529999
         ],
         "name": "AAPL",
         "open": [
          147.080002
         ],
         "showlegend": false,
         "type": "candlestick",
         "x": [
          3130
         ]
        },
        {
         "close": [
          137.130005
         ],
         "decreasing": {
          "fillcolor": "red",
          "line": {
           "color": "red"
          }
         },
         "high": [
          140.759995
         ],
         "increasing": {
          "fillcolor": "red",
          "line": {
           "color": "red"
          }
         },
         "legendgroup": "Hollow Candlesticks",
         "low": [
          137.059998
         ],
         "name": "AAPL",
         "open": [
          140.279999
         ],
         "showlegend": false,
         "type": "candlestick",
         "x": [
          3131
         ]
        },
        {
         "close": [
          131.880005
         ],
         "decreasing": {
          "fillcolor": "red",
          "line": {
           "color": "red"
          }
         },
         "high": [
          135.199997
         ],
         "increasing": {
          "fillcolor": "red",
          "line": {
           "color": "red"
          }
         },
         "legendgroup": "Hollow Candlesticks",
         "low": [
          131.440002
         ],
         "name": "AAPL",
         "open": [
          132.869995
         ],
         "showlegend": false,
         "type": "candlestick",
         "x": [
          3132
         ]
        },
        {
         "close": [
          132.759995
         ],
         "decreasing": {
          "fillcolor": "green",
          "line": {
           "color": "green"
          }
         },
         "high": [
          133.889999
         ],
         "increasing": {
          "fillcolor": "green",
          "line": {
           "color": "green"
          }
         },
         "legendgroup": "Hollow Candlesticks",
         "low": [
          131.479996
         ],
         "name": "AAPL",
         "open": [
          133.130005
         ],
         "showlegend": false,
         "type": "candlestick",
         "x": [
          3133
         ]
        },
        {
         "close": [
          135.429993
         ],
         "decreasing": {
          "fillcolor": "rgba(255, 0, 0, 0)",
          "line": {
           "color": "green"
          }
         },
         "high": [
          137.339996
         ],
         "increasing": {
          "fillcolor": "rgba(255, 0, 0, 0)",
          "line": {
           "color": "green"
          }
         },
         "legendgroup": "Hollow Candlesticks",
         "low": [
          132.160004
         ],
         "name": "AAPL",
         "open": [
          134.289993
         ],
         "showlegend": false,
         "type": "candlestick",
         "x": [
          3134
         ]
        },
        {
         "close": [
          130.059998
         ],
         "decreasing": {
          "fillcolor": "red",
          "line": {
           "color": "red"
          }
         },
         "high": [
          132.389999
         ],
         "increasing": {
          "fillcolor": "red",
          "line": {
           "color": "red"
          }
         },
         "legendgroup": "Hollow Candlesticks",
         "low": [
          129.039993
         ],
         "name": "AAPL",
         "open": [
          132.080002
         ],
         "showlegend": false,
         "type": "candlestick",
         "x": [
          3135
         ]
        },
        {
         "close": [
          131.559998
         ],
         "decreasing": {
          "fillcolor": "rgba(255, 0, 0, 0)",
          "line": {
           "color": "green"
          }
         },
         "high": [
          133.080002
         ],
         "increasing": {
          "fillcolor": "rgba(255, 0, 0, 0)",
          "line": {
           "color": "green"
          }
         },
         "legendgroup": "Hollow Candlesticks",
         "low": [
          129.809998
         ],
         "name": "AAPL",
         "open": [
          130.070007
         ],
         "showlegend": false,
         "type": "candlestick",
         "x": [
          3136
         ]
        },
        {
         "close": [
          135.869995
         ],
         "decreasing": {
          "fillcolor": "rgba(255, 0, 0, 0)",
          "line": {
           "color": "green"
          }
         },
         "high": [
          137.059998
         ],
         "increasing": {
          "fillcolor": "rgba(255, 0, 0, 0)",
          "line": {
           "color": "green"
          }
         },
         "legendgroup": "Hollow Candlesticks",
         "low": [
          133.320007
         ],
         "name": "AAPL",
         "open": [
          133.419998
         ],
         "showlegend": false,
         "type": "candlestick",
         "x": [
          3137
         ]
        },
        {
         "close": [
          135.350006
         ],
         "decreasing": {
          "fillcolor": "rgba(255, 0, 0, 0)",
          "line": {
           "color": "red"
          }
         },
         "high": [
          137.759995
         ],
         "increasing": {
          "fillcolor": "rgba(255, 0, 0, 0)",
          "line": {
           "color": "red"
          }
         },
         "legendgroup": "Hollow Candlesticks",
         "low": [
          133.910004
         ],
         "name": "AAPL",
         "open": [
          134.789993
         ],
         "showlegend": false,
         "type": "candlestick",
         "x": [
          3138
         ]
        },
        {
         "close": [
          138.270004
         ],
         "decreasing": {
          "fillcolor": "rgba(255, 0, 0, 0)",
          "line": {
           "color": "green"
          }
         },
         "high": [
          138.589996
         ],
         "increasing": {
          "fillcolor": "rgba(255, 0, 0, 0)",
          "line": {
           "color": "green"
          }
         },
         "legendgroup": "Hollow Candlesticks",
         "low": [
          135.630005
         ],
         "name": "AAPL",
         "open": [
          136.820007
         ],
         "showlegend": false,
         "type": "candlestick",
         "x": [
          3139
         ]
        },
        {
         "close": [
          141.660004
         ],
         "decreasing": {
          "fillcolor": "rgba(255, 0, 0, 0)",
          "line": {
           "color": "green"
          }
         },
         "high": [
          141.910004
         ],
         "increasing": {
          "fillcolor": "rgba(255, 0, 0, 0)",
          "line": {
           "color": "green"
          }
         },
         "legendgroup": "Hollow Candlesticks",
         "low": [
          139.770004
         ],
         "name": "AAPL",
         "open": [
          139.899994
         ],
         "showlegend": false,
         "type": "candlestick",
         "x": [
          3140
         ]
        },
        {
         "close": [
          141.660004
         ],
         "decreasing": {
          "fillcolor": "red",
          "line": {
           "color": "red"
          }
         },
         "high": [
          143.490005
         ],
         "increasing": {
          "fillcolor": "red",
          "line": {
           "color": "red"
          }
         },
         "legendgroup": "Hollow Candlesticks",
         "low": [
          140.970001
         ],
         "name": "AAPL",
         "open": [
          142.699997
         ],
         "showlegend": false,
         "type": "candlestick",
         "x": [
          3141
         ]
        },
        {
         "close": [
          137.440002
         ],
         "decreasing": {
          "fillcolor": "red",
          "line": {
           "color": "red"
          }
         },
         "high": [
          143.419998
         ],
         "increasing": {
          "fillcolor": "red",
          "line": {
           "color": "red"
          }
         },
         "legendgroup": "Hollow Candlesticks",
         "low": [
          137.320007
         ],
         "name": "AAPL",
         "open": [
          142.130005
         ],
         "showlegend": false,
         "type": "candlestick",
         "x": [
          3142
         ]
        },
        {
         "close": [
          139.229996
         ],
         "decreasing": {
          "fillcolor": "rgba(255, 0, 0, 0)",
          "line": {
           "color": "green"
          }
         },
         "high": [
          140.669998
         ],
         "increasing": {
          "fillcolor": "rgba(255, 0, 0, 0)",
          "line": {
           "color": "green"
          }
         },
         "legendgroup": "Hollow Candlesticks",
         "low": [
          136.669998
         ],
         "name": "AAPL",
         "open": [
          137.460007
         ],
         "showlegend": false,
         "type": "candlestick",
         "x": [
          3143
         ]
        },
        {
         "close": [
          136.720001
         ],
         "decreasing": {
          "fillcolor": "red",
          "line": {
           "color": "red"
          }
         },
         "high": [
          138.369995
         ],
         "increasing": {
          "fillcolor": "red",
          "line": {
           "color": "red"
          }
         },
         "legendgroup": "Hollow Candlesticks",
         "low": [
          133.770004
         ],
         "name": "AAPL",
         "open": [
          137.25
         ],
         "showlegend": false,
         "type": "candlestick",
         "x": [
          3144
         ]
        },
        {
         "close": [
          138.929993
         ],
         "decreasing": {
          "fillcolor": "rgba(255, 0, 0, 0)",
          "line": {
           "color": "green"
          }
         },
         "high": [
          139.039993
         ],
         "increasing": {
          "fillcolor": "rgba(255, 0, 0, 0)",
          "line": {
           "color": "green"
          }
         },
         "legendgroup": "Hollow Candlesticks",
         "low": [
          135.660004
         ],
         "name": "AAPL",
         "open": [
          136.039993
         ],
         "showlegend": false,
         "type": "candlestick",
         "x": [
          3145
         ]
        },
        {
         "close": [
          141.559998
         ],
         "decreasing": {
          "fillcolor": "rgba(255, 0, 0, 0)",
          "line": {
           "color": "green"
          }
         },
         "high": [
          141.610001
         ],
         "increasing": {
          "fillcolor": "rgba(255, 0, 0, 0)",
          "line": {
           "color": "green"
          }
         },
         "legendgroup": "Hollow Candlesticks",
         "low": [
          136.929993
         ],
         "name": "AAPL",
         "open": [
          137.770004
         ],
         "showlegend": false,
         "type": "candlestick",
         "x": [
          3146
         ]
        },
        {
         "close": [
          142.919998
         ],
         "decreasing": {
          "fillcolor": "rgba(255, 0, 0, 0)",
          "line": {
           "color": "green"
          }
         },
         "high": [
          144.119995
         ],
         "increasing": {
          "fillcolor": "rgba(255, 0, 0, 0)",
          "line": {
           "color": "green"
          }
         },
         "legendgroup": "Hollow Candlesticks",
         "low": [
          141.080002
         ],
         "name": "AAPL",
         "open": [
          141.350006
         ],
         "showlegend": false,
         "type": "candlestick",
         "x": [
          3147
         ]
        },
        {
         "close": [
          146.350006
         ],
         "decreasing": {
          "fillcolor": "rgba(255, 0, 0, 0)",
          "line": {
           "color": "green"
          }
         },
         "high": [
          146.550003
         ],
         "increasing": {
          "fillcolor": "rgba(255, 0, 0, 0)",
          "line": {
           "color": "green"
          }
         },
         "legendgroup": "Hollow Candlesticks",
         "low": [
          143.279999
         ],
         "name": "AAPL",
         "open": [
          143.289993
         ],
         "showlegend": false,
         "type": "candlestick",
         "x": [
          3148
         ]
        },
        {
         "close": [
          147.039993
         ],
         "decreasing": {
          "fillcolor": "rgba(255, 0, 0, 0)",
          "line": {
           "color": "green"
          }
         },
         "high": [
          147.550003
         ],
         "increasing": {
          "fillcolor": "rgba(255, 0, 0, 0)",
          "line": {
           "color": "green"
          }
         },
         "legendgroup": "Hollow Candlesticks",
         "low": [
          145
         ],
         "name": "AAPL",
         "open": [
          145.259995
         ],
         "showlegend": false,
         "type": "candlestick",
         "x": [
          3149
         ]
        },
        {
         "close": [
          144.869995
         ],
         "decreasing": {
          "fillcolor": "red",
          "line": {
           "color": "red"
          }
         },
         "high": [
          146.639999
         ],
         "increasing": {
          "fillcolor": "red",
          "line": {
           "color": "red"
          }
         },
         "legendgroup": "Hollow Candlesticks",
         "low": [
          143.779999
         ],
         "name": "AAPL",
         "open": [
          145.669998
         ],
         "showlegend": false,
         "type": "candlestick",
         "x": [
          3150
         ]
        },
        {
         "close": [
          145.860001
         ],
         "decreasing": {
          "fillcolor": "rgba(255, 0, 0, 0)",
          "line": {
           "color": "green"
          }
         },
         "high": [
          148.449997
         ],
         "increasing": {
          "fillcolor": "rgba(255, 0, 0, 0)",
          "line": {
           "color": "green"
          }
         },
         "legendgroup": "Hollow Candlesticks",
         "low": [
          145.050003
         ],
         "name": "AAPL",
         "open": [
          145.759995
         ],
         "showlegend": false,
         "type": "candlestick",
         "x": [
          3151
         ]
        },
        {
         "close": [
          145.490005
         ],
         "decreasing": {
          "fillcolor": "rgba(255, 0, 0, 0)",
          "line": {
           "color": "red"
          }
         },
         "high": [
          146.449997
         ],
         "increasing": {
          "fillcolor": "rgba(255, 0, 0, 0)",
          "line": {
           "color": "red"
          }
         },
         "legendgroup": "Hollow Candlesticks",
         "low": [
          142.119995
         ],
         "name": "AAPL",
         "open": [
          142.990005
         ],
         "showlegend": false,
         "type": "candlestick",
         "x": [
          3152
         ]
        },
        {
         "close": [
          148.470001
         ],
         "decreasing": {
          "fillcolor": "rgba(255, 0, 0, 0)",
          "line": {
           "color": "green"
          }
         },
         "high": [
          148.949997
         ],
         "increasing": {
          "fillcolor": "rgba(255, 0, 0, 0)",
          "line": {
           "color": "green"
          }
         },
         "legendgroup": "Hollow Candlesticks",
         "low": [
          143.25
         ],
         "name": "AAPL",
         "open": [
          144.080002
         ],
         "showlegend": false,
         "type": "candlestick",
         "x": [
          3153
         ]
        },
        {
         "close": [
          150.169998
         ],
         "decreasing": {
          "fillcolor": "rgba(255, 0, 0, 0)",
          "line": {
           "color": "green"
          }
         },
         "high": [
          150.860001
         ],
         "increasing": {
          "fillcolor": "rgba(255, 0, 0, 0)",
          "line": {
           "color": "green"
          }
         },
         "legendgroup": "Hollow Candlesticks",
         "low": [
          148.199997
         ],
         "name": "AAPL",
         "open": [
          149.779999
         ],
         "showlegend": false,
         "type": "candlestick",
         "x": [
          3154
         ]
        },
        {
         "close": [
          147.070007
         ],
         "decreasing": {
          "fillcolor": "red",
          "line": {
           "color": "red"
          }
         },
         "high": [
          151.570007
         ],
         "increasing": {
          "fillcolor": "red",
          "line": {
           "color": "red"
          }
         },
         "legendgroup": "Hollow Candlesticks",
         "low": [
          146.699997
         ],
         "name": "AAPL",
         "open": [
          150.740005
         ],
         "showlegend": false,
         "type": "candlestick",
         "x": [
          3155
         ]
        },
        {
         "close": [
          151
         ],
         "decreasing": {
          "fillcolor": "rgba(255, 0, 0, 0)",
          "line": {
           "color": "green"
          }
         },
         "high": [
          151.229996
         ],
         "increasing": {
          "fillcolor": "rgba(255, 0, 0, 0)",
          "line": {
           "color": "green"
          }
         },
         "legendgroup": "Hollow Candlesticks",
         "low": [
          146.910004
         ],
         "name": "AAPL",
         "open": [
          147.919998
         ],
         "showlegend": false,
         "type": "candlestick",
         "x": [
          3156
         ]
        },
        {
         "close": [
          153.039993
         ],
         "decreasing": {
          "fillcolor": "rgba(255, 0, 0, 0)",
          "line": {
           "color": "green"
          }
         },
         "high": [
          153.720001
         ],
         "increasing": {
          "fillcolor": "rgba(255, 0, 0, 0)",
          "line": {
           "color": "green"
          }
         },
         "legendgroup": "Hollow Candlesticks",
         "low": [
          150.369995
         ],
         "name": "AAPL",
         "open": [
          151.119995
         ],
         "showlegend": false,
         "type": "candlestick",
         "x": [
          3157
         ]
        },
        {
         "close": [
          155.350006
         ],
         "decreasing": {
          "fillcolor": "rgba(255, 0, 0, 0)",
          "line": {
           "color": "green"
          }
         },
         "high": [
          155.570007
         ],
         "increasing": {
          "fillcolor": "rgba(255, 0, 0, 0)",
          "line": {
           "color": "green"
          }
         },
         "legendgroup": "Hollow Candlesticks",
         "low": [
          151.940002
         ],
         "name": "AAPL",
         "open": [
          154.5
         ],
         "showlegend": false,
         "type": "candlestick",
         "x": [
          3158
         ]
        },
        {
         "close": [
          154.089996
         ],
         "decreasing": {
          "fillcolor": "red",
          "line": {
           "color": "red"
          }
         },
         "high": [
          156.279999
         ],
         "increasing": {
          "fillcolor": "red",
          "line": {
           "color": "red"
          }
         },
         "legendgroup": "Hollow Candlesticks",
         "low": [
          153.410004
         ],
         "name": "AAPL",
         "open": [
          155.389999
         ],
         "showlegend": false,
         "type": "candlestick",
         "x": [
          3159
         ]
        },
        {
         "close": [
          152.949997
         ],
         "decreasing": {
          "fillcolor": "red",
          "line": {
           "color": "red"
          }
         },
         "high": [
          155.039993
         ],
         "increasing": {
          "fillcolor": "red",
          "line": {
           "color": "red"
          }
         },
         "legendgroup": "Hollow Candlesticks",
         "low": [
          152.279999
         ],
         "name": "AAPL",
         "open": [
          154.009995
         ],
         "showlegend": false,
         "type": "candlestick",
         "x": [
          3160
         ]
        },
        {
         "close": [
          151.600006
         ],
         "decreasing": {
          "fillcolor": "red",
          "line": {
           "color": "red"
          }
         },
         "high": [
          153.089996
         ],
         "increasing": {
          "fillcolor": "red",
          "line": {
           "color": "red"
          }
         },
         "legendgroup": "Hollow Candlesticks",
         "low": [
          150.800003
         ],
         "name": "AAPL",
         "open": [
          152.259995
         ],
         "showlegend": false,
         "type": "candlestick",
         "x": [
          3161
         ]
        },
        {
         "close": [
          156.789993
         ],
         "decreasing": {
          "fillcolor": "rgba(255, 0, 0, 0)",
          "line": {
           "color": "green"
          }
         },
         "high": [
          157.330002
         ],
         "increasing": {
          "fillcolor": "rgba(255, 0, 0, 0)",
          "line": {
           "color": "green"
          }
         },
         "legendgroup": "Hollow Candlesticks",
         "low": [
          152.160004
         ],
         "name": "AAPL",
         "open": [
          152.580002
         ],
         "showlegend": false,
         "type": "candlestick",
         "x": [
          3162
         ]
        },
        {
         "close": [
          157.350006
         ],
         "decreasing": {
          "fillcolor": "rgba(255, 0, 0, 0)",
          "line": {
           "color": "green"
          }
         },
         "high": [
          157.639999
         ],
         "increasing": {
          "fillcolor": "rgba(255, 0, 0, 0)",
          "line": {
           "color": "green"
          }
         },
         "legendgroup": "Hollow Candlesticks",
         "low": [
          154.410004
         ],
         "name": "AAPL",
         "open": [
          156.979996
         ],
         "showlegend": false,
         "type": "candlestick",
         "x": [
          3163
         ]
        },
        {
         "close": [
          162.509995
         ],
         "decreasing": {
          "fillcolor": "rgba(255, 0, 0, 0)",
          "line": {
           "color": "green"
          }
         },
         "high": [
          163.630005
         ],
         "increasing": {
          "fillcolor": "rgba(255, 0, 0, 0)",
          "line": {
           "color": "green"
          }
         },
         "legendgroup": "Hollow Candlesticks",
         "low": [
          159.5
         ],
         "name": "AAPL",
         "open": [
          161.240005
         ],
         "showlegend": false,
         "type": "candlestick",
         "x": [
          3164
         ]
        },
        {
         "close": [
          161.509995
         ],
         "decreasing": {
          "fillcolor": "rgba(255, 0, 0, 0)",
          "line": {
           "color": "red"
          }
         },
         "high": [
          163.589996
         ],
         "increasing": {
          "fillcolor": "rgba(255, 0, 0, 0)",
          "line": {
           "color": "red"
          }
         },
         "legendgroup": "Hollow Candlesticks",
         "low": [
          160.889999
         ],
         "name": "AAPL",
         "open": [
          161.009995
         ],
         "showlegend": false,
         "type": "candlestick",
         "x": [
          3165
         ]
        },
        {
         "close": [
          160.009995
         ],
         "decreasing": {
          "fillcolor": "red",
          "line": {
           "color": "red"
          }
         },
         "high": [
          162.410004
         ],
         "increasing": {
          "fillcolor": "red",
          "line": {
           "color": "red"
          }
         },
         "legendgroup": "Hollow Candlesticks",
         "low": [
          159.630005
         ],
         "name": "AAPL",
         "open": [
          160.100006
         ],
         "showlegend": false,
         "type": "candlestick",
         "x": [
          3166
         ]
        },
        {
         "close": [
          166.130005
         ],
         "decreasing": {
          "fillcolor": "rgba(255, 0, 0, 0)",
          "line": {
           "color": "green"
          }
         },
         "high": [
          166.589996
         ],
         "increasing": {
          "fillcolor": "rgba(255, 0, 0, 0)",
          "line": {
           "color": "green"
          }
         },
         "legendgroup": "Hollow Candlesticks",
         "low": [
          160.75
         ],
         "name": "AAPL",
         "open": [
          160.839996
         ],
         "showlegend": false,
         "type": "candlestick",
         "x": [
          3167
         ]
        },
        {
         "close": [
          165.809998
         ],
         "decreasing": {
          "fillcolor": "red",
          "line": {
           "color": "red"
          }
         },
         "high": [
          167.190002
         ],
         "increasing": {
          "fillcolor": "red",
          "line": {
           "color": "red"
          }
         },
         "legendgroup": "Hollow Candlesticks",
         "low": [
          164.429993
         ],
         "name": "AAPL",
         "open": [
          166.009995
         ],
         "showlegend": false,
         "type": "candlestick",
         "x": [
          3168
         ]
        },
        {
         "close": [
          165.350006
         ],
         "decreasing": {
          "fillcolor": "rgba(255, 0, 0, 0)",
          "line": {
           "color": "red"
          }
         },
         "high": [
          165.850006
         ],
         "increasing": {
          "fillcolor": "rgba(255, 0, 0, 0)",
          "line": {
           "color": "red"
          }
         },
         "legendgroup": "Hollow Candlesticks",
         "low": [
          163
         ],
         "name": "AAPL",
         "open": [
          163.210007
         ],
         "showlegend": false,
         "type": "candlestick",
         "x": [
          3169
         ]
        },
        {
         "close": [
          164.869995
         ],
         "decreasing": {
          "fillcolor": "red",
          "line": {
           "color": "red"
          }
         },
         "high": [
          167.809998
         ],
         "increasing": {
          "fillcolor": "red",
          "line": {
           "color": "red"
          }
         },
         "legendgroup": "Hollow Candlesticks",
         "low": [
          164.199997
         ],
         "name": "AAPL",
         "open": [
          166.369995
         ],
         "showlegend": false,
         "type": "candlestick",
         "x": [
          3170
         ]
        },
        {
         "close": [
          164.919998
         ],
         "decreasing": {
          "fillcolor": "rgba(255, 0, 0, 0)",
          "line": {
           "color": "green"
          }
         },
         "high": [
          165.820007
         ],
         "increasing": {
          "fillcolor": "rgba(255, 0, 0, 0)",
          "line": {
           "color": "green"
          }
         },
         "legendgroup": "Hollow Candlesticks",
         "low": [
          163.25
         ],
         "name": "AAPL",
         "open": [
          164.020004
         ],
         "showlegend": false,
         "type": "candlestick",
         "x": [
          3171
         ]
        },
        {
         "close": [
          169.240005
         ],
         "decreasing": {
          "fillcolor": "rgba(255, 0, 0, 0)",
          "line": {
           "color": "green"
          }
         },
         "high": [
          169.339996
         ],
         "increasing": {
          "fillcolor": "rgba(255, 0, 0, 0)",
          "line": {
           "color": "green"
          }
         },
         "legendgroup": "Hollow Candlesticks",
         "low": [
          166.899994
         ],
         "name": "AAPL",
         "open": [
          167.679993
         ],
         "showlegend": false,
         "type": "candlestick",
         "x": [
          3172
         ]
        },
        {
         "close": [
          168.490005
         ],
         "decreasing": {
          "fillcolor": "red",
          "line": {
           "color": "red"
          }
         },
         "high": [
          170.990005
         ],
         "increasing": {
          "fillcolor": "red",
          "line": {
           "color": "red"
          }
         },
         "legendgroup": "Hollow Candlesticks",
         "low": [
          168.190002
         ],
         "name": "AAPL",
         "open": [
          170.059998
         ],
         "showlegend": false,
         "type": "candlestick",
         "x": [
          3173
         ]
        },
        {
         "close": [
          172.100006
         ],
         "decreasing": {
          "fillcolor": "rgba(255, 0, 0, 0)",
          "line": {
           "color": "green"
          }
         },
         "high": [
          172.169998
         ],
         "increasing": {
          "fillcolor": "rgba(255, 0, 0, 0)",
          "line": {
           "color": "green"
          }
         },
         "legendgroup": "Hollow Candlesticks",
         "low": [
          169.399994
         ],
         "name": "AAPL",
         "open": [
          169.820007
         ],
         "showlegend": false,
         "type": "candlestick",
         "x": [
          3174
         ]
        },
        {
         "close": [
          173.190002
         ],
         "decreasing": {
          "fillcolor": "rgba(255, 0, 0, 0)",
          "line": {
           "color": "green"
          }
         },
         "high": [
          173.389999
         ],
         "increasing": {
          "fillcolor": "rgba(255, 0, 0, 0)",
          "line": {
           "color": "green"
          }
         },
         "legendgroup": "Hollow Candlesticks",
         "low": [
          171.350006
         ],
         "name": "AAPL",
         "open": [
          171.520004
         ],
         "showlegend": false,
         "type": "candlestick",
         "x": [
          3175
         ]
        },
        {
         "close": [
          173.029999
         ],
         "decreasing": {
          "fillcolor": "rgba(255, 0, 0, 0)",
          "line": {
           "color": "red"
          }
         },
         "high": [
          173.710007
         ],
         "increasing": {
          "fillcolor": "rgba(255, 0, 0, 0)",
          "line": {
           "color": "red"
          }
         },
         "legendgroup": "Hollow Candlesticks",
         "low": [
          171.660004
         ],
         "name": "AAPL",
         "open": [
          172.779999
         ],
         "showlegend": false,
         "type": "candlestick",
         "x": [
          3176
         ]
        },
        {
         "close": [
          174.550003
         ],
         "decreasing": {
          "fillcolor": "rgba(255, 0, 0, 0)",
          "line": {
           "color": "green"
          }
         },
         "high": [
          176.149994
         ],
         "increasing": {
          "fillcolor": "rgba(255, 0, 0, 0)",
          "line": {
           "color": "green"
          }
         },
         "legendgroup": "Hollow Candlesticks",
         "low": [
          172.570007
         ],
         "name": "AAPL",
         "open": [
          172.770004
         ],
         "showlegend": false,
         "type": "candlestick",
         "x": [
          3177
         ]
        },
        {
         "close": [
          174.149994
         ],
         "decreasing": {
          "fillcolor": "rgba(255, 0, 0, 0)",
          "line": {
           "color": "red"
          }
         },
         "high": [
          174.899994
         ],
         "increasing": {
          "fillcolor": "rgba(255, 0, 0, 0)",
          "line": {
           "color": "red"
          }
         },
         "legendgroup": "Hollow Candlesticks",
         "low": [
          173.119995
         ],
         "name": "AAPL",
         "open": [
          173.75
         ],
         "showlegend": false,
         "type": "candlestick",
         "x": [
          3178
         ]
        },
        {
         "close": [
          171.520004
         ],
         "decreasing": {
          "fillcolor": "red",
          "line": {
           "color": "red"
          }
         },
         "high": [
          173.740005
         ],
         "increasing": {
          "fillcolor": "red",
          "line": {
           "color": "red"
          }
         },
         "legendgroup": "Hollow Candlesticks",
         "low": [
          171.309998
         ],
         "name": "AAPL",
         "open": [
          173.029999
         ],
         "showlegend": false,
         "type": "candlestick",
         "x": [
          3179
         ]
        },
        {
         "close": [
          167.570007
         ],
         "decreasing": {
          "fillcolor": "red",
          "line": {
           "color": "red"
          }
         },
         "high": [
          169.860001
         ],
         "increasing": {
          "fillcolor": "red",
          "line": {
           "color": "red"
          }
         },
         "legendgroup": "Hollow Candlesticks",
         "low": [
          167.139999
         ],
         "name": "AAPL",
         "open": [
          169.690002
         ],
         "showlegend": false,
         "type": "candlestick",
         "x": [
          3180
         ]
        },
        {
         "close": [
          167.229996
         ],
         "decreasing": {
          "fillcolor": "rgba(255, 0, 0, 0)",
          "line": {
           "color": "red"
          }
         },
         "high": [
          168.710007
         ],
         "increasing": {
          "fillcolor": "rgba(255, 0, 0, 0)",
          "line": {
           "color": "red"
          }
         },
         "legendgroup": "Hollow Candlesticks",
         "low": [
          166.649994
         ],
         "name": "AAPL",
         "open": [
          167.080002
         ],
         "showlegend": false,
         "type": "candlestick",
         "x": [
          3181
         ]
        },
        {
         "close": [
          167.529999
         ],
         "decreasing": {
          "fillcolor": "rgba(255, 0, 0, 0)",
          "line": {
           "color": "green"
          }
         },
         "high": [
          168.110001
         ],
         "increasing": {
          "fillcolor": "rgba(255, 0, 0, 0)",
          "line": {
           "color": "green"
          }
         },
         "legendgroup": "Hollow Candlesticks",
         "low": [
          166.25
         ],
         "name": "AAPL",
         "open": [
          167.320007
         ],
         "showlegend": false,
         "type": "candlestick",
         "x": [
          3182
         ]
        },
        {
         "close": [
          170.029999
         ],
         "decreasing": {
          "fillcolor": "rgba(255, 0, 0, 0)",
          "line": {
           "color": "green"
          }
         },
         "high": [
          170.139999
         ],
         "increasing": {
          "fillcolor": "rgba(255, 0, 0, 0)",
          "line": {
           "color": "green"
          }
         },
         "legendgroup": "Hollow Candlesticks",
         "low": [
          168.350006
         ],
         "name": "AAPL",
         "open": [
          168.779999
         ],
         "showlegend": false,
         "type": "candlestick",
         "x": [
          3183
         ]
        },
        {
         "close": [
          163.619995
         ],
         "decreasing": {
          "fillcolor": "red",
          "line": {
           "color": "red"
          }
         },
         "high": [
          171.050003
         ],
         "increasing": {
          "fillcolor": "red",
          "line": {
           "color": "red"
          }
         },
         "legendgroup": "Hollow Candlesticks",
         "low": [
          163.559998
         ],
         "name": "AAPL",
         "open": [
          170.570007
         ],
         "showlegend": false,
         "type": "candlestick",
         "x": [
          3184
         ]
        },
        {
         "close": [
          161.380005
         ],
         "decreasing": {
          "fillcolor": "rgba(255, 0, 0, 0)",
          "line": {
           "color": "red"
          }
         },
         "high": [
          162.899994
         ],
         "increasing": {
          "fillcolor": "rgba(255, 0, 0, 0)",
          "line": {
           "color": "red"
          }
         },
         "legendgroup": "Hollow Candlesticks",
         "low": [
          159.820007
         ],
         "name": "AAPL",
         "open": [
          161.149994
         ],
         "showlegend": false,
         "type": "candlestick",
         "x": [
          3185
         ]
        },
        {
         "close": [
          158.910004
         ],
         "decreasing": {
          "fillcolor": "red",
          "line": {
           "color": "red"
          }
         },
         "high": [
          162.559998
         ],
         "increasing": {
          "fillcolor": "red",
          "line": {
           "color": "red"
          }
         },
         "legendgroup": "Hollow Candlesticks",
         "low": [
          157.720001
         ],
         "name": "AAPL",
         "open": [
          162.130005
         ],
         "showlegend": false,
         "type": "candlestick",
         "x": [
          3186
         ]
        },
        {
         "close": [
          157.220001
         ],
         "decreasing": {
          "fillcolor": "red",
          "line": {
           "color": "red"
          }
         },
         "high": [
          160.580002
         ],
         "increasing": {
          "fillcolor": "red",
          "line": {
           "color": "red"
          }
         },
         "legendgroup": "Hollow Candlesticks",
         "low": [
          157.139999
         ],
         "name": "AAPL",
         "open": [
          160.309998
         ],
         "showlegend": false,
         "type": "candlestick",
         "x": [
          3187
         ]
        },
        {
         "close": [
          157.960007
         ],
         "decreasing": {
          "fillcolor": "rgba(255, 0, 0, 0)",
          "line": {
           "color": "green"
          }
         },
         "high": [
          158.419998
         ],
         "increasing": {
          "fillcolor": "rgba(255, 0, 0, 0)",
          "line": {
           "color": "green"
          }
         },
         "legendgroup": "Hollow Candlesticks",
         "low": [
          154.669998
         ],
         "name": "AAPL",
         "open": [
          156.639999
         ],
         "showlegend": false,
         "type": "candlestick",
         "x": [
          3188
         ]
        },
        {
         "close": [
          155.809998
         ],
         "decreasing": {
          "fillcolor": "red",
          "line": {
           "color": "red"
          }
         },
         "high": [
          160.360001
         ],
         "increasing": {
          "fillcolor": "red",
          "line": {
           "color": "red"
          }
         },
         "legendgroup": "Hollow Candlesticks",
         "low": [
          154.970001
         ],
         "name": "AAPL",
         "open": [
          159.75
         ],
         "showlegend": false,
         "type": "candlestick",
         "x": [
          3189
         ]
        },
        {
         "close": [
          154.529999
         ],
         "decreasing": {
          "fillcolor": "red",
          "line": {
           "color": "red"
          }
         },
         "high": [
          157.089996
         ],
         "increasing": {
          "fillcolor": "red",
          "line": {
           "color": "red"
          }
         },
         "legendgroup": "Hollow Candlesticks",
         "low": [
          153.690002
         ],
         "name": "AAPL",
         "open": [
          156.470001
         ],
         "showlegend": false,
         "type": "candlestick",
         "x": [
          3190
         ]
        },
        {
         "close": [
          155.960007
         ],
         "decreasing": {
          "fillcolor": "rgba(255, 0, 0, 0)",
          "line": {
           "color": "green"
          }
         },
         "high": [
          156.669998
         ],
         "increasing": {
          "fillcolor": "rgba(255, 0, 0, 0)",
          "line": {
           "color": "green"
          }
         },
         "legendgroup": "Hollow Candlesticks",
         "low": [
          153.610001
         ],
         "name": "AAPL",
         "open": [
          154.820007
         ],
         "showlegend": false,
         "type": "candlestick",
         "x": [
          3191
         ]
        },
        {
         "close": [
          154.460007
         ],
         "decreasing": {
          "fillcolor": "red",
          "line": {
           "color": "red"
          }
         },
         "high": [
          156.360001
         ],
         "increasing": {
          "fillcolor": "red",
          "line": {
           "color": "red"
          }
         },
         "legendgroup": "Hollow Candlesticks",
         "low": [
          152.679993
         ],
         "name": "AAPL",
         "open": [
          154.639999
         ],
         "showlegend": false,
         "type": "candlestick",
         "x": [
          3192
         ]
        },
        {
         "close": [
          157.369995
         ],
         "decreasing": {
          "fillcolor": "rgba(255, 0, 0, 0)",
          "line": {
           "color": "green"
          }
         },
         "high": [
          157.820007
         ],
         "increasing": {
          "fillcolor": "rgba(255, 0, 0, 0)",
          "line": {
           "color": "green"
          }
         },
         "legendgroup": "Hollow Candlesticks",
         "low": [
          154.75
         ],
         "name": "AAPL",
         "open": [
          155.470001
         ],
         "showlegend": false,
         "type": "candlestick",
         "x": [
          3193
         ]
        },
        {
         "close": [
          163.429993
         ],
         "decreasing": {
          "fillcolor": "rgba(255, 0, 0, 0)",
          "line": {
           "color": "green"
          }
         },
         "high": [
          164.259995
         ],
         "increasing": {
          "fillcolor": "rgba(255, 0, 0, 0)",
          "line": {
           "color": "green"
          }
         },
         "legendgroup": "Hollow Candlesticks",
         "low": [
          159.300003
         ],
         "name": "AAPL",
         "open": [
          159.589996
         ],
         "showlegend": false,
         "type": "candlestick",
         "x": [
          3194
         ]
        },
        {
         "close": [
          153.839996
         ],
         "decreasing": {
          "fillcolor": "red",
          "line": {
           "color": "red"
          }
         },
         "high": [
          160.539993
         ],
         "increasing": {
          "fillcolor": "red",
          "line": {
           "color": "red"
          }
         },
         "legendgroup": "Hollow Candlesticks",
         "low": [
          153.369995
         ],
         "name": "AAPL",
         "open": [
          159.899994
         ],
         "showlegend": false,
         "type": "candlestick",
         "x": [
          3195
         ]
        },
        {
         "close": [
          155.309998
         ],
         "decreasing": {
          "fillcolor": "rgba(255, 0, 0, 0)",
          "line": {
           "color": "green"
          }
         },
         "high": [
          157.100006
         ],
         "increasing": {
          "fillcolor": "rgba(255, 0, 0, 0)",
          "line": {
           "color": "green"
          }
         },
         "legendgroup": "Hollow Candlesticks",
         "low": [
          153.610001
         ],
         "name": "AAPL",
         "open": [
          154.789993
         ],
         "showlegend": false,
         "type": "candlestick",
         "x": [
          3196
         ]
        },
        {
         "close": [
          152.369995
         ],
         "decreasing": {
          "fillcolor": "red",
          "line": {
           "color": "red"
          }
         },
         "high": [
          155.240005
         ],
         "increasing": {
          "fillcolor": "red",
          "line": {
           "color": "red"
          }
         },
         "legendgroup": "Hollow Candlesticks",
         "low": [
          151.380005
         ],
         "name": "AAPL",
         "open": [
          154.649994
         ],
         "showlegend": false,
         "type": "candlestick",
         "x": [
          3197
         ]
        },
        {
         "close": [
          150.699997
         ],
         "decreasing": {
          "fillcolor": "red",
          "line": {
           "color": "red"
          }
         },
         "high": [
          151.350006
         ],
         "increasing": {
          "fillcolor": "red",
          "line": {
           "color": "red"
          }
         },
         "legendgroup": "Hollow Candlesticks",
         "low": [
          148.369995
         ],
         "name": "AAPL",
         "open": [
          151.210007
         ],
         "showlegend": false,
         "type": "candlestick",
         "x": [
          3198
         ]
        },
        {
         "close": [
          154.479996
         ],
         "decreasing": {
          "fillcolor": "rgba(255, 0, 0, 0)",
          "line": {
           "color": "green"
          }
         },
         "high": [
          154.559998
         ],
         "increasing": {
          "fillcolor": "rgba(255, 0, 0, 0)",
          "line": {
           "color": "green"
          }
         },
         "legendgroup": "Hollow Candlesticks",
         "low": [
          149.100006
         ],
         "name": "AAPL",
         "open": [
          149.309998
         ],
         "showlegend": false,
         "type": "candlestick",
         "x": [
          3199
         ]
        },
        {
         "close": [
          156.899994
         ],
         "decreasing": {
          "fillcolor": "rgba(255, 0, 0, 0)",
          "line": {
           "color": "green"
          }
         },
         "high": [
          158.080002
         ],
         "increasing": {
          "fillcolor": "rgba(255, 0, 0, 0)",
          "line": {
           "color": "green"
          }
         },
         "legendgroup": "Hollow Candlesticks",
         "low": [
          153.080002
         ],
         "name": "AAPL",
         "open": [
          153.399994
         ],
         "showlegend": false,
         "type": "candlestick",
         "x": [
          3200
         ]
        },
        {
         "close": [
          153.720001
         ],
         "decreasing": {
          "fillcolor": "red",
          "line": {
           "color": "red"
          }
         },
         "high": [
          158.740005
         ],
         "increasing": {
          "fillcolor": "red",
          "line": {
           "color": "red"
          }
         },
         "legendgroup": "Hollow Candlesticks",
         "low": [
          153.600006
         ],
         "name": "AAPL",
         "open": [
          157.339996
         ],
         "showlegend": false,
         "type": "candlestick",
         "x": [
          3201
         ]
        },
        {
         "close": [
          152.740005
         ],
         "decreasing": {
          "fillcolor": "rgba(255, 0, 0, 0)",
          "line": {
           "color": "red"
          }
         },
         "high": [
          154.470001
         ],
         "increasing": {
          "fillcolor": "rgba(255, 0, 0, 0)",
          "line": {
           "color": "red"
          }
         },
         "legendgroup": "Hollow Candlesticks",
         "low": [
          150.910004
         ],
         "name": "AAPL",
         "open": [
          152.380005
         ],
         "showlegend": false,
         "type": "candlestick",
         "x": [
          3202
         ]
        },
        {
         "close": [
          150.429993
         ],
         "decreasing": {
          "fillcolor": "red",
          "line": {
           "color": "red"
          }
         },
         "high": [
          151.470001
         ],
         "increasing": {
          "fillcolor": "red",
          "line": {
           "color": "red"
          }
         },
         "legendgroup": "Hollow Candlesticks",
         "low": [
          148.559998
         ],
         "name": "AAPL",
         "open": [
          151.190002
         ],
         "showlegend": false,
         "type": "candlestick",
         "x": [
          3203
         ]
        },
        {
         "close": [
          150.770004
         ],
         "decreasing": {
          "fillcolor": "rgba(255, 0, 0, 0)",
          "line": {
           "color": "green"
          }
         },
         "high": [
          153.770004
         ],
         "increasing": {
          "fillcolor": "rgba(255, 0, 0, 0)",
          "line": {
           "color": "green"
          }
         },
         "legendgroup": "Hollow Candlesticks",
         "low": [
          149.639999
         ],
         "name": "AAPL",
         "open": [
          149.660004
         ],
         "showlegend": false,
         "type": "candlestick",
         "x": [
          3204
         ]
        },
        {
         "close": [
          151.759995
         ],
         "decreasing": {
          "fillcolor": "green",
          "line": {
           "color": "green"
          }
         },
         "high": [
          154.720001
         ],
         "increasing": {
          "fillcolor": "green",
          "line": {
           "color": "green"
          }
         },
         "legendgroup": "Hollow Candlesticks",
         "low": [
          149.949997
         ],
         "name": "AAPL",
         "open": [
          152.740005
         ],
         "showlegend": false,
         "type": "candlestick",
         "x": [
          3205
         ]
        },
        {
         "close": [
          149.839996
         ],
         "decreasing": {
          "fillcolor": "rgba(255, 0, 0, 0)",
          "line": {
           "color": "red"
          }
         },
         "high": [
          150.639999
         ],
         "increasing": {
          "fillcolor": "rgba(255, 0, 0, 0)",
          "line": {
           "color": "red"
          }
         },
         "legendgroup": "Hollow Candlesticks",
         "low": [
          144.839996
         ],
         "name": "AAPL",
         "open": [
          147.639999
         ],
         "showlegend": false,
         "type": "candlestick",
         "x": [
          3206
         ]
        },
        {
         "close": [
          142.479996
         ],
         "decreasing": {
          "fillcolor": "red",
          "line": {
           "color": "red"
          }
         },
         "high": [
          146.720001
         ],
         "increasing": {
          "fillcolor": "red",
          "line": {
           "color": "red"
          }
         },
         "legendgroup": "Hollow Candlesticks",
         "low": [
          140.679993
         ],
         "name": "AAPL",
         "open": [
          146.100006
         ],
         "showlegend": false,
         "type": "candlestick",
         "x": [
          3207
         ]
        },
        {
         "close": [
          138.199997
         ],
         "decreasing": {
          "fillcolor": "red",
          "line": {
           "color": "red"
          }
         },
         "high": [
          143.100006
         ],
         "increasing": {
          "fillcolor": "red",
          "line": {
           "color": "red"
          }
         },
         "legendgroup": "Hollow Candlesticks",
         "low": [
          138
         ],
         "name": "AAPL",
         "open": [
          141.279999
         ],
         "showlegend": false,
         "type": "candlestick",
         "x": [
          3208
         ]
        },
        {
         "close": [
          142.449997
         ],
         "decreasing": {
          "fillcolor": "rgba(255, 0, 0, 0)",
          "line": {
           "color": "green"
          }
         },
         "high": [
          143.070007
         ],
         "increasing": {
          "fillcolor": "rgba(255, 0, 0, 0)",
          "line": {
           "color": "green"
          }
         },
         "legendgroup": "Hollow Candlesticks",
         "low": [
          137.690002
         ],
         "name": "AAPL",
         "open": [
          138.210007
         ],
         "showlegend": false,
         "type": "candlestick",
         "x": [
          3209
         ]
        },
        {
         "close": [
          146.100006
         ],
         "decreasing": {
          "fillcolor": "rgba(255, 0, 0, 0)",
          "line": {
           "color": "green"
          }
         },
         "high": [
          146.220001
         ],
         "increasing": {
          "fillcolor": "rgba(255, 0, 0, 0)",
          "line": {
           "color": "green"
          }
         },
         "legendgroup": "Hollow Candlesticks",
         "low": [
          144.259995
         ],
         "name": "AAPL",
         "open": [
          145.029999
         ],
         "showlegend": false,
         "type": "candlestick",
         "x": [
          3210
         ]
        },
        {
         "close": [
          146.399994
         ],
         "decreasing": {
          "fillcolor": "rgba(255, 0, 0, 0)",
          "line": {
           "color": "green"
          }
         },
         "high": [
          147.380005
         ],
         "increasing": {
          "fillcolor": "rgba(255, 0, 0, 0)",
          "line": {
           "color": "green"
          }
         },
         "legendgroup": "Hollow Candlesticks",
         "low": [
          143.009995
         ],
         "name": "AAPL",
         "open": [
          144.070007
         ],
         "showlegend": false,
         "type": "candlestick",
         "x": [
          3211
         ]
        },
        {
         "close": [
          145.429993
         ],
         "decreasing": {
          "fillcolor": "red",
          "line": {
           "color": "red"
          }
         },
         "high": [
          147.539993
         ],
         "increasing": {
          "fillcolor": "red",
          "line": {
           "color": "red"
          }
         },
         "legendgroup": "Hollow Candlesticks",
         "low": [
          145.220001
         ],
         "name": "AAPL",
         "open": [
          145.809998
         ],
         "showlegend": false,
         "type": "candlestick",
         "x": [
          3212
         ]
        },
        {
         "close": [
          140.089996
         ],
         "decreasing": {
          "fillcolor": "red",
          "line": {
           "color": "red"
          }
         },
         "high": [
          143.100006
         ],
         "increasing": {
          "fillcolor": "red",
          "line": {
           "color": "red"
          }
         },
         "legendgroup": "Hollow Candlesticks",
         "low": [
          139.449997
         ],
         "name": "AAPL",
         "open": [
          142.539993
         ],
         "showlegend": false,
         "type": "candlestick",
         "x": [
          3213
         ]
        },
        {
         "close": [
          140.419998
         ],
         "decreasing": {
          "fillcolor": "green",
          "line": {
           "color": "green"
          }
         },
         "high": [
          141.889999
         ],
         "increasing": {
          "fillcolor": "green",
          "line": {
           "color": "green"
          }
         },
         "legendgroup": "Hollow Candlesticks",
         "low": [
          138.570007
         ],
         "name": "AAPL",
         "open": [
          140.419998
         ],
         "showlegend": false,
         "type": "candlestick",
         "x": [
          3214
         ]
        },
        {
         "close": [
          138.979996
         ],
         "decreasing": {
          "fillcolor": "red",
          "line": {
           "color": "red"
          }
         },
         "high": [
          141.350006
         ],
         "increasing": {
          "fillcolor": "red",
          "line": {
           "color": "red"
          }
         },
         "legendgroup": "Hollow Candlesticks",
         "low": [
          138.220001
         ],
         "name": "AAPL",
         "open": [
          139.899994
         ],
         "showlegend": false,
         "type": "candlestick",
         "x": [
          3215
         ]
        },
        {
         "close": [
          138.339996
         ],
         "decreasing": {
          "fillcolor": "red",
          "line": {
           "color": "red"
          }
         },
         "high": [
          140.360001
         ],
         "increasing": {
          "fillcolor": "red",
          "line": {
           "color": "red"
          }
         },
         "legendgroup": "Hollow Candlesticks",
         "low": [
          138.160004
         ],
         "name": "AAPL",
         "open": [
          139.130005
         ],
         "showlegend": false,
         "type": "candlestick",
         "x": [
          3216
         ]
        },
        {
         "close": [
          142.990005
         ],
         "decreasing": {
          "fillcolor": "rgba(255, 0, 0, 0)",
          "line": {
           "color": "green"
          }
         },
         "high": [
          143.589996
         ],
         "increasing": {
          "fillcolor": "rgba(255, 0, 0, 0)",
          "line": {
           "color": "green"
          }
         },
         "legendgroup": "Hollow Candlesticks",
         "low": [
          134.369995
         ],
         "name": "AAPL",
         "open": [
          134.990005
         ],
         "showlegend": false,
         "type": "candlestick",
         "x": [
          3217
         ]
        },
        {
         "close": [
          138.380005
         ],
         "decreasing": {
          "fillcolor": "red",
          "line": {
           "color": "red"
          }
         },
         "high": [
          144.520004
         ],
         "increasing": {
          "fillcolor": "red",
          "line": {
           "color": "red"
          }
         },
         "legendgroup": "Hollow Candlesticks",
         "low": [
          138.190002
         ],
         "name": "AAPL",
         "open": [
          144.309998
         ],
         "showlegend": false,
         "type": "candlestick",
         "x": [
          3218
         ]
        },
        {
         "close": [
          142.410004
         ],
         "decreasing": {
          "fillcolor": "rgba(255, 0, 0, 0)",
          "line": {
           "color": "green"
          }
         },
         "high": [
          142.899994
         ],
         "increasing": {
          "fillcolor": "rgba(255, 0, 0, 0)",
          "line": {
           "color": "green"
          }
         },
         "legendgroup": "Hollow Candlesticks",
         "low": [
          140.270004
         ],
         "name": "AAPL",
         "open": [
          141.070007
         ],
         "showlegend": false,
         "type": "candlestick",
         "x": [
          3219
         ]
        },
        {
         "close": [
          143.75
         ],
         "decreasing": {
          "fillcolor": "green",
          "line": {
           "color": "green"
          }
         },
         "high": [
          146.699997
         ],
         "increasing": {
          "fillcolor": "green",
          "line": {
           "color": "green"
          }
         },
         "legendgroup": "Hollow Candlesticks",
         "low": [
          140.610001
         ],
         "name": "AAPL",
         "open": [
          145.490005
         ],
         "showlegend": false,
         "type": "candlestick",
         "x": [
          3220
         ]
        },
        {
         "close": [
          143.860001
         ],
         "decreasing": {
          "fillcolor": "rgba(255, 0, 0, 0)",
          "line": {
           "color": "green"
          }
         },
         "high": [
          144.949997
         ],
         "increasing": {
          "fillcolor": "rgba(255, 0, 0, 0)",
          "line": {
           "color": "green"
          }
         },
         "legendgroup": "Hollow Candlesticks",
         "low": [
          141.5
         ],
         "name": "AAPL",
         "open": [
          141.690002
         ],
         "showlegend": false,
         "type": "candlestick",
         "x": [
          3221
         ]
        },
        {
         "close": [
          143.389999
         ],
         "decreasing": {
          "fillcolor": "rgba(255, 0, 0, 0)",
          "line": {
           "color": "red"
          }
         },
         "high": [
          145.889999
         ],
         "increasing": {
          "fillcolor": "rgba(255, 0, 0, 0)",
          "line": {
           "color": "red"
          }
         },
         "legendgroup": "Hollow Candlesticks",
         "low": [
          142.649994
         ],
         "name": "AAPL",
         "open": [
          143.020004
         ],
         "showlegend": false,
         "type": "candlestick",
         "x": [
          3222
         ]
        },
        {
         "close": [
          147.270004
         ],
         "decreasing": {
          "fillcolor": "rgba(255, 0, 0, 0)",
          "line": {
           "color": "green"
          }
         },
         "high": [
          147.850006
         ],
         "increasing": {
          "fillcolor": "rgba(255, 0, 0, 0)",
          "line": {
           "color": "green"
          }
         },
         "legendgroup": "Hollow Candlesticks",
         "low": [
          142.649994
         ],
         "name": "AAPL",
         "open": [
          142.869995
         ],
         "showlegend": false,
         "type": "candlestick",
         "x": [
          3223
         ]
        },
        {
         "close": [
          149.449997
         ],
         "decreasing": {
          "fillcolor": "rgba(255, 0, 0, 0)",
          "line": {
           "color": "green"
          }
         },
         "high": [
          150.229996
         ],
         "increasing": {
          "fillcolor": "rgba(255, 0, 0, 0)",
          "line": {
           "color": "green"
          }
         },
         "legendgroup": "Hollow Candlesticks",
         "low": [
          146
         ],
         "name": "AAPL",
         "open": [
          147.190002
         ],
         "showlegend": false,
         "type": "candlestick",
         "x": [
          3224
         ]
        },
        {
         "close": [
          152.339996
         ],
         "decreasing": {
          "fillcolor": "rgba(255, 0, 0, 0)",
          "line": {
           "color": "green"
          }
         },
         "high": [
          152.490005
         ],
         "increasing": {
          "fillcolor": "rgba(255, 0, 0, 0)",
          "line": {
           "color": "green"
          }
         },
         "legendgroup": "Hollow Candlesticks",
         "low": [
          149.360001
         ],
         "name": "AAPL",
         "open": [
          150.089996
         ],
         "showlegend": false,
         "type": "candlestick",
         "x": [
          3225
         ]
        },
        {
         "close": [
          149.350006
         ],
         "decreasing": {
          "fillcolor": "red",
          "line": {
           "color": "red"
          }
         },
         "high": [
          151.990005
         ],
         "increasing": {
          "fillcolor": "red",
          "line": {
           "color": "red"
          }
         },
         "legendgroup": "Hollow Candlesticks",
         "low": [
          148.039993
         ],
         "name": "AAPL",
         "open": [
          150.960007
         ],
         "showlegend": false,
         "type": "candlestick",
         "x": [
          3226
         ]
        },
        {
         "close": [
          144.800003
         ],
         "decreasing": {
          "fillcolor": "red",
          "line": {
           "color": "red"
          }
         },
         "high": [
          149.050003
         ],
         "increasing": {
          "fillcolor": "red",
          "line": {
           "color": "red"
          }
         },
         "legendgroup": "Hollow Candlesticks",
         "low": [
          144.130005
         ],
         "name": "AAPL",
         "open": [
          148.070007
         ],
         "showlegend": false,
         "type": "candlestick",
         "x": [
          3227
         ]
        },
        {
         "close": [
          155.740005
         ],
         "decreasing": {
          "fillcolor": "rgba(255, 0, 0, 0)",
          "line": {
           "color": "green"
          }
         },
         "high": [
          157.5
         ],
         "increasing": {
          "fillcolor": "rgba(255, 0, 0, 0)",
          "line": {
           "color": "green"
          }
         },
         "legendgroup": "Hollow Candlesticks",
         "low": [
          147.820007
         ],
         "name": "AAPL",
         "open": [
          148.199997
         ],
         "showlegend": false,
         "type": "candlestick",
         "x": [
          3228
         ]
        },
        {
         "close": [
          153.339996
         ],
         "decreasing": {
          "fillcolor": "rgba(255, 0, 0, 0)",
          "line": {
           "color": "red"
          }
         },
         "high": [
          154.240005
         ],
         "increasing": {
          "fillcolor": "rgba(255, 0, 0, 0)",
          "line": {
           "color": "red"
          }
         },
         "legendgroup": "Hollow Candlesticks",
         "low": [
          151.919998
         ],
         "name": "AAPL",
         "open": [
          153.160004
         ],
         "showlegend": false,
         "type": "candlestick",
         "x": [
          3229
         ]
        },
        {
         "close": [
          150.649994
         ],
         "decreasing": {
          "fillcolor": "red",
          "line": {
           "color": "red"
          }
         },
         "high": [
          155.449997
         ],
         "increasing": {
          "fillcolor": "red",
          "line": {
           "color": "red"
          }
         },
         "legendgroup": "Hollow Candlesticks",
         "low": [
          149.130005
         ],
         "name": "AAPL",
         "open": [
          155.080002
         ],
         "showlegend": false,
         "type": "candlestick",
         "x": [
          3230
         ]
        },
        {
         "close": [
          145.029999
         ],
         "decreasing": {
          "fillcolor": "red",
          "line": {
           "color": "red"
          }
         },
         "high": [
          152.169998
         ],
         "increasing": {
          "fillcolor": "red",
          "line": {
           "color": "red"
          }
         },
         "legendgroup": "Hollow Candlesticks",
         "low": [
          145
         ],
         "name": "AAPL",
         "open": [
          148.949997
         ],
         "showlegend": false,
         "type": "candlestick",
         "x": [
          3231
         ]
        },
        {
         "close": [
          138.880005
         ],
         "decreasing": {
          "fillcolor": "red",
          "line": {
           "color": "red"
          }
         },
         "high": [
          142.800003
         ],
         "increasing": {
          "fillcolor": "red",
          "line": {
           "color": "red"
          }
         },
         "legendgroup": "Hollow Candlesticks",
         "low": [
          138.75
         ],
         "name": "AAPL",
         "open": [
          142.059998
         ],
         "showlegend": false,
         "type": "candlestick",
         "x": [
          3232
         ]
        },
        {
         "close": [
          138.380005
         ],
         "decreasing": {
          "fillcolor": "red",
          "line": {
           "color": "red"
          }
         },
         "high": [
          142.669998
         ],
         "increasing": {
          "fillcolor": "red",
          "line": {
           "color": "red"
          }
         },
         "legendgroup": "Hollow Candlesticks",
         "low": [
          134.380005
         ],
         "name": "AAPL",
         "open": [
          142.089996
         ],
         "showlegend": false,
         "type": "candlestick",
         "x": [
          3233
         ]
        },
        {
         "close": [
          138.919998
         ],
         "decreasing": {
          "fillcolor": "rgba(255, 0, 0, 0)",
          "line": {
           "color": "green"
          }
         },
         "high": [
          139.149994
         ],
         "increasing": {
          "fillcolor": "rgba(255, 0, 0, 0)",
          "line": {
           "color": "green"
          }
         },
         "legendgroup": "Hollow Candlesticks",
         "low": [
          135.669998
         ],
         "name": "AAPL",
         "open": [
          137.110001
         ],
         "showlegend": false,
         "type": "candlestick",
         "x": [
          3234
         ]
        },
        {
         "close": [
          139.5
         ],
         "decreasing": {
          "fillcolor": "green",
          "line": {
           "color": "green"
          }
         },
         "high": [
          141.429993
         ],
         "increasing": {
          "fillcolor": "green",
          "line": {
           "color": "green"
          }
         },
         "legendgroup": "Hollow Candlesticks",
         "low": [
          137.490005
         ],
         "name": "AAPL",
         "open": [
          140.410004
         ],
         "showlegend": false,
         "type": "candlestick",
         "x": [
          3235
         ]
        },
        {
         "close": [
          134.869995
         ],
         "decreasing": {
          "fillcolor": "red",
          "line": {
           "color": "red"
          }
         },
         "high": [
          138.550003
         ],
         "increasing": {
          "fillcolor": "red",
          "line": {
           "color": "red"
          }
         },
         "legendgroup": "Hollow Candlesticks",
         "low": [
          134.589996
         ],
         "name": "AAPL",
         "open": [
          138.5
         ],
         "showlegend": false,
         "type": "candlestick",
         "x": [
          3236
         ]
        },
        {
         "close": [
          146.869995
         ],
         "decreasing": {
          "fillcolor": "rgba(255, 0, 0, 0)",
          "line": {
           "color": "green"
          }
         },
         "high": [
          146.869995
         ],
         "increasing": {
          "fillcolor": "rgba(255, 0, 0, 0)",
          "line": {
           "color": "green"
          }
         },
         "legendgroup": "Hollow Candlesticks",
         "low": [
          139.5
         ],
         "name": "AAPL",
         "open": [
          141.240005
         ],
         "showlegend": false,
         "type": "candlestick",
         "x": [
          3237
         ]
        },
        {
         "close": [
          149.699997
         ],
         "decreasing": {
          "fillcolor": "rgba(255, 0, 0, 0)",
          "line": {
           "color": "green"
          }
         },
         "high": [
          150.009995
         ],
         "increasing": {
          "fillcolor": "rgba(255, 0, 0, 0)",
          "line": {
           "color": "green"
          }
         },
         "legendgroup": "Hollow Candlesticks",
         "low": [
          144.369995
         ],
         "name": "AAPL",
         "open": [
          145.820007
         ],
         "showlegend": false,
         "type": "candlestick",
         "x": [
          3238
         ]
        },
        {
         "close": [
          148.279999
         ],
         "decreasing": {
          "fillcolor": "red",
          "line": {
           "color": "red"
          }
         },
         "high": [
          150.279999
         ],
         "increasing": {
          "fillcolor": "red",
          "line": {
           "color": "red"
          }
         },
         "legendgroup": "Hollow Candlesticks",
         "low": [
          147.429993
         ],
         "name": "AAPL",
         "open": [
          148.970001
         ],
         "showlegend": false,
         "type": "candlestick",
         "x": [
          3239
         ]
        },
        {
         "close": [
          150.039993
         ],
         "decreasing": {
          "fillcolor": "green",
          "line": {
           "color": "green"
          }
         },
         "high": [
          153.589996
         ],
         "increasing": {
          "fillcolor": "green",
          "line": {
           "color": "green"
          }
         },
         "legendgroup": "Hollow Candlesticks",
         "low": [
          148.559998
         ],
         "name": "AAPL",
         "open": [
          152.220001
         ],
         "showlegend": false,
         "type": "candlestick",
         "x": [
          3240
         ]
        },
        {
         "close": [
          148.789993
         ],
         "decreasing": {
          "fillcolor": "red",
          "line": {
           "color": "red"
          }
         },
         "high": [
          149.869995
         ],
         "increasing": {
          "fillcolor": "red",
          "line": {
           "color": "red"
          }
         },
         "legendgroup": "Hollow Candlesticks",
         "low": [
          147.289993
         ],
         "name": "AAPL",
         "open": [
          149.130005
         ],
         "showlegend": false,
         "type": "candlestick",
         "x": [
          3241
         ]
        },
        {
         "close": [
          150.720001
         ],
         "decreasing": {
          "fillcolor": "rgba(255, 0, 0, 0)",
          "line": {
           "color": "green"
          }
         },
         "high": [
          151.479996
         ],
         "increasing": {
          "fillcolor": "rgba(255, 0, 0, 0)",
          "line": {
           "color": "green"
          }
         },
         "legendgroup": "Hollow Candlesticks",
         "low": [
          146.149994
         ],
         "name": "AAPL",
         "open": [
          146.429993
         ],
         "showlegend": false,
         "type": "candlestick",
         "x": [
          3242
         ]
        },
        {
         "close": [
          151.289993
         ],
         "decreasing": {
          "fillcolor": "green",
          "line": {
           "color": "green"
          }
         },
         "high": [
          152.699997
         ],
         "increasing": {
          "fillcolor": "green",
          "line": {
           "color": "green"
          }
         },
         "legendgroup": "Hollow Candlesticks",
         "low": [
          149.970001
         ],
         "name": "AAPL",
         "open": [
          152.309998
         ],
         "showlegend": false,
         "type": "candlestick",
         "x": [
          3243
         ]
        },
        {
         "close": [
          148.009995
         ],
         "decreasing": {
          "fillcolor": "red",
          "line": {
           "color": "red"
          }
         },
         "high": [
          150.369995
         ],
         "increasing": {
          "fillcolor": "red",
          "line": {
           "color": "red"
          }
         },
         "legendgroup": "Hollow Candlesticks",
         "low": [
          147.720001
         ],
         "name": "AAPL",
         "open": [
          150.160004
         ],
         "showlegend": false,
         "type": "candlestick",
         "x": [
          3244
         ]
        },
        {
         "close": [
          150.179993
         ],
         "decreasing": {
          "fillcolor": "rgba(255, 0, 0, 0)",
          "line": {
           "color": "green"
          }
         },
         "high": [
          150.419998
         ],
         "increasing": {
          "fillcolor": "rgba(255, 0, 0, 0)",
          "line": {
           "color": "green"
          }
         },
         "legendgroup": "Hollow Candlesticks",
         "low": [
          146.929993
         ],
         "name": "AAPL",
         "open": [
          148.130005
         ],
         "showlegend": false,
         "type": "candlestick",
         "x": [
          3245
         ]
        },
        {
         "close": [
          151.070007
         ],
         "decreasing": {
          "fillcolor": "rgba(255, 0, 0, 0)",
          "line": {
           "color": "green"
          }
         },
         "high": [
          151.830002
         ],
         "increasing": {
          "fillcolor": "rgba(255, 0, 0, 0)",
          "line": {
           "color": "green"
          }
         },
         "legendgroup": "Hollow Candlesticks",
         "low": [
          149.339996
         ],
         "name": "AAPL",
         "open": [
          149.449997
         ],
         "showlegend": false,
         "type": "candlestick",
         "x": [
          3246
         ]
        },
        {
         "close": [
          148.110001
         ],
         "decreasing": {
          "fillcolor": "red",
          "line": {
           "color": "red"
          }
         },
         "high": [
          148.880005
         ],
         "increasing": {
          "fillcolor": "red",
          "line": {
           "color": "red"
          }
         },
         "legendgroup": "Hollow Candlesticks",
         "low": [
          147.119995
         ],
         "name": "AAPL",
         "open": [
          148.309998
         ],
         "showlegend": false,
         "type": "candlestick",
         "x": [
          3247
         ]
        },
        {
         "close": [
          144.220001
         ],
         "decreasing": {
          "fillcolor": "red",
          "line": {
           "color": "red"
          }
         },
         "high": [
          146.639999
         ],
         "increasing": {
          "fillcolor": "red",
          "line": {
           "color": "red"
          }
         },
         "legendgroup": "Hollow Candlesticks",
         "low": [
          143.380005
         ],
         "name": "AAPL",
         "open": [
          145.139999
         ],
         "showlegend": false,
         "type": "candlestick",
         "x": [
          3248
         ]
        },
        {
         "close": [
          141.169998
         ],
         "decreasing": {
          "fillcolor": "red",
          "line": {
           "color": "red"
          }
         },
         "high": [
          144.809998
         ],
         "increasing": {
          "fillcolor": "red",
          "line": {
           "color": "red"
          }
         },
         "legendgroup": "Hollow Candlesticks",
         "low": [
          140.350006
         ],
         "name": "AAPL",
         "open": [
          144.289993
         ],
         "showlegend": false,
         "type": "candlestick",
         "x": [
          3249
         ]
        },
        {
         "close": [
          148.029999
         ],
         "decreasing": {
          "fillcolor": "rgba(255, 0, 0, 0)",
          "line": {
           "color": "green"
          }
         },
         "high": [
          148.720001
         ],
         "increasing": {
          "fillcolor": "rgba(255, 0, 0, 0)",
          "line": {
           "color": "green"
          }
         },
         "legendgroup": "Hollow Candlesticks",
         "low": [
          140.550003
         ],
         "name": "AAPL",
         "open": [
          141.399994
         ],
         "showlegend": false,
         "type": "candlestick",
         "x": [
          3250
         ]
        }
       ],
       "layout": {
        "template": {
         "data": {
          "bar": [
           {
            "error_x": {
             "color": "#2a3f5f"
            },
            "error_y": {
             "color": "#2a3f5f"
            },
            "marker": {
             "line": {
              "color": "#E5ECF6",
              "width": 0.5
             },
             "pattern": {
              "fillmode": "overlay",
              "size": 10,
              "solidity": 0.2
             }
            },
            "type": "bar"
           }
          ],
          "barpolar": [
           {
            "marker": {
             "line": {
              "color": "#E5ECF6",
              "width": 0.5
             },
             "pattern": {
              "fillmode": "overlay",
              "size": 10,
              "solidity": 0.2
             }
            },
            "type": "barpolar"
           }
          ],
          "carpet": [
           {
            "aaxis": {
             "endlinecolor": "#2a3f5f",
             "gridcolor": "white",
             "linecolor": "white",
             "minorgridcolor": "white",
             "startlinecolor": "#2a3f5f"
            },
            "baxis": {
             "endlinecolor": "#2a3f5f",
             "gridcolor": "white",
             "linecolor": "white",
             "minorgridcolor": "white",
             "startlinecolor": "#2a3f5f"
            },
            "type": "carpet"
           }
          ],
          "choropleth": [
           {
            "colorbar": {
             "outlinewidth": 0,
             "ticks": ""
            },
            "type": "choropleth"
           }
          ],
          "contour": [
           {
            "colorbar": {
             "outlinewidth": 0,
             "ticks": ""
            },
            "colorscale": [
             [
              0,
              "#0d0887"
             ],
             [
              0.1111111111111111,
              "#46039f"
             ],
             [
              0.2222222222222222,
              "#7201a8"
             ],
             [
              0.3333333333333333,
              "#9c179e"
             ],
             [
              0.4444444444444444,
              "#bd3786"
             ],
             [
              0.5555555555555556,
              "#d8576b"
             ],
             [
              0.6666666666666666,
              "#ed7953"
             ],
             [
              0.7777777777777778,
              "#fb9f3a"
             ],
             [
              0.8888888888888888,
              "#fdca26"
             ],
             [
              1,
              "#f0f921"
             ]
            ],
            "type": "contour"
           }
          ],
          "contourcarpet": [
           {
            "colorbar": {
             "outlinewidth": 0,
             "ticks": ""
            },
            "type": "contourcarpet"
           }
          ],
          "heatmap": [
           {
            "colorbar": {
             "outlinewidth": 0,
             "ticks": ""
            },
            "colorscale": [
             [
              0,
              "#0d0887"
             ],
             [
              0.1111111111111111,
              "#46039f"
             ],
             [
              0.2222222222222222,
              "#7201a8"
             ],
             [
              0.3333333333333333,
              "#9c179e"
             ],
             [
              0.4444444444444444,
              "#bd3786"
             ],
             [
              0.5555555555555556,
              "#d8576b"
             ],
             [
              0.6666666666666666,
              "#ed7953"
             ],
             [
              0.7777777777777778,
              "#fb9f3a"
             ],
             [
              0.8888888888888888,
              "#fdca26"
             ],
             [
              1,
              "#f0f921"
             ]
            ],
            "type": "heatmap"
           }
          ],
          "heatmapgl": [
           {
            "colorbar": {
             "outlinewidth": 0,
             "ticks": ""
            },
            "colorscale": [
             [
              0,
              "#0d0887"
             ],
             [
              0.1111111111111111,
              "#46039f"
             ],
             [
              0.2222222222222222,
              "#7201a8"
             ],
             [
              0.3333333333333333,
              "#9c179e"
             ],
             [
              0.4444444444444444,
              "#bd3786"
             ],
             [
              0.5555555555555556,
              "#d8576b"
             ],
             [
              0.6666666666666666,
              "#ed7953"
             ],
             [
              0.7777777777777778,
              "#fb9f3a"
             ],
             [
              0.8888888888888888,
              "#fdca26"
             ],
             [
              1,
              "#f0f921"
             ]
            ],
            "type": "heatmapgl"
           }
          ],
          "histogram": [
           {
            "marker": {
             "pattern": {
              "fillmode": "overlay",
              "size": 10,
              "solidity": 0.2
             }
            },
            "type": "histogram"
           }
          ],
          "histogram2d": [
           {
            "colorbar": {
             "outlinewidth": 0,
             "ticks": ""
            },
            "colorscale": [
             [
              0,
              "#0d0887"
             ],
             [
              0.1111111111111111,
              "#46039f"
             ],
             [
              0.2222222222222222,
              "#7201a8"
             ],
             [
              0.3333333333333333,
              "#9c179e"
             ],
             [
              0.4444444444444444,
              "#bd3786"
             ],
             [
              0.5555555555555556,
              "#d8576b"
             ],
             [
              0.6666666666666666,
              "#ed7953"
             ],
             [
              0.7777777777777778,
              "#fb9f3a"
             ],
             [
              0.8888888888888888,
              "#fdca26"
             ],
             [
              1,
              "#f0f921"
             ]
            ],
            "type": "histogram2d"
           }
          ],
          "histogram2dcontour": [
           {
            "colorbar": {
             "outlinewidth": 0,
             "ticks": ""
            },
            "colorscale": [
             [
              0,
              "#0d0887"
             ],
             [
              0.1111111111111111,
              "#46039f"
             ],
             [
              0.2222222222222222,
              "#7201a8"
             ],
             [
              0.3333333333333333,
              "#9c179e"
             ],
             [
              0.4444444444444444,
              "#bd3786"
             ],
             [
              0.5555555555555556,
              "#d8576b"
             ],
             [
              0.6666666666666666,
              "#ed7953"
             ],
             [
              0.7777777777777778,
              "#fb9f3a"
             ],
             [
              0.8888888888888888,
              "#fdca26"
             ],
             [
              1,
              "#f0f921"
             ]
            ],
            "type": "histogram2dcontour"
           }
          ],
          "mesh3d": [
           {
            "colorbar": {
             "outlinewidth": 0,
             "ticks": ""
            },
            "type": "mesh3d"
           }
          ],
          "parcoords": [
           {
            "line": {
             "colorbar": {
              "outlinewidth": 0,
              "ticks": ""
             }
            },
            "type": "parcoords"
           }
          ],
          "pie": [
           {
            "automargin": true,
            "type": "pie"
           }
          ],
          "scatter": [
           {
            "fillpattern": {
             "fillmode": "overlay",
             "size": 10,
             "solidity": 0.2
            },
            "type": "scatter"
           }
          ],
          "scatter3d": [
           {
            "line": {
             "colorbar": {
              "outlinewidth": 0,
              "ticks": ""
             }
            },
            "marker": {
             "colorbar": {
              "outlinewidth": 0,
              "ticks": ""
             }
            },
            "type": "scatter3d"
           }
          ],
          "scattercarpet": [
           {
            "marker": {
             "colorbar": {
              "outlinewidth": 0,
              "ticks": ""
             }
            },
            "type": "scattercarpet"
           }
          ],
          "scattergeo": [
           {
            "marker": {
             "colorbar": {
              "outlinewidth": 0,
              "ticks": ""
             }
            },
            "type": "scattergeo"
           }
          ],
          "scattergl": [
           {
            "marker": {
             "colorbar": {
              "outlinewidth": 0,
              "ticks": ""
             }
            },
            "type": "scattergl"
           }
          ],
          "scattermapbox": [
           {
            "marker": {
             "colorbar": {
              "outlinewidth": 0,
              "ticks": ""
             }
            },
            "type": "scattermapbox"
           }
          ],
          "scatterpolar": [
           {
            "marker": {
             "colorbar": {
              "outlinewidth": 0,
              "ticks": ""
             }
            },
            "type": "scatterpolar"
           }
          ],
          "scatterpolargl": [
           {
            "marker": {
             "colorbar": {
              "outlinewidth": 0,
              "ticks": ""
             }
            },
            "type": "scatterpolargl"
           }
          ],
          "scatterternary": [
           {
            "marker": {
             "colorbar": {
              "outlinewidth": 0,
              "ticks": ""
             }
            },
            "type": "scatterternary"
           }
          ],
          "surface": [
           {
            "colorbar": {
             "outlinewidth": 0,
             "ticks": ""
            },
            "colorscale": [
             [
              0,
              "#0d0887"
             ],
             [
              0.1111111111111111,
              "#46039f"
             ],
             [
              0.2222222222222222,
              "#7201a8"
             ],
             [
              0.3333333333333333,
              "#9c179e"
             ],
             [
              0.4444444444444444,
              "#bd3786"
             ],
             [
              0.5555555555555556,
              "#d8576b"
             ],
             [
              0.6666666666666666,
              "#ed7953"
             ],
             [
              0.7777777777777778,
              "#fb9f3a"
             ],
             [
              0.8888888888888888,
              "#fdca26"
             ],
             [
              1,
              "#f0f921"
             ]
            ],
            "type": "surface"
           }
          ],
          "table": [
           {
            "cells": {
             "fill": {
              "color": "#EBF0F8"
             },
             "line": {
              "color": "white"
             }
            },
            "header": {
             "fill": {
              "color": "#C8D4E3"
             },
             "line": {
              "color": "white"
             }
            },
            "type": "table"
           }
          ]
         },
         "layout": {
          "annotationdefaults": {
           "arrowcolor": "#2a3f5f",
           "arrowhead": 0,
           "arrowwidth": 1
          },
          "autotypenumbers": "strict",
          "coloraxis": {
           "colorbar": {
            "outlinewidth": 0,
            "ticks": ""
           }
          },
          "colorscale": {
           "diverging": [
            [
             0,
             "#8e0152"
            ],
            [
             0.1,
             "#c51b7d"
            ],
            [
             0.2,
             "#de77ae"
            ],
            [
             0.3,
             "#f1b6da"
            ],
            [
             0.4,
             "#fde0ef"
            ],
            [
             0.5,
             "#f7f7f7"
            ],
            [
             0.6,
             "#e6f5d0"
            ],
            [
             0.7,
             "#b8e186"
            ],
            [
             0.8,
             "#7fbc41"
            ],
            [
             0.9,
             "#4d9221"
            ],
            [
             1,
             "#276419"
            ]
           ],
           "sequential": [
            [
             0,
             "#0d0887"
            ],
            [
             0.1111111111111111,
             "#46039f"
            ],
            [
             0.2222222222222222,
             "#7201a8"
            ],
            [
             0.3333333333333333,
             "#9c179e"
            ],
            [
             0.4444444444444444,
             "#bd3786"
            ],
            [
             0.5555555555555556,
             "#d8576b"
            ],
            [
             0.6666666666666666,
             "#ed7953"
            ],
            [
             0.7777777777777778,
             "#fb9f3a"
            ],
            [
             0.8888888888888888,
             "#fdca26"
            ],
            [
             1,
             "#f0f921"
            ]
           ],
           "sequentialminus": [
            [
             0,
             "#0d0887"
            ],
            [
             0.1111111111111111,
             "#46039f"
            ],
            [
             0.2222222222222222,
             "#7201a8"
            ],
            [
             0.3333333333333333,
             "#9c179e"
            ],
            [
             0.4444444444444444,
             "#bd3786"
            ],
            [
             0.5555555555555556,
             "#d8576b"
            ],
            [
             0.6666666666666666,
             "#ed7953"
            ],
            [
             0.7777777777777778,
             "#fb9f3a"
            ],
            [
             0.8888888888888888,
             "#fdca26"
            ],
            [
             1,
             "#f0f921"
            ]
           ]
          },
          "colorway": [
           "#636efa",
           "#EF553B",
           "#00cc96",
           "#ab63fa",
           "#FFA15A",
           "#19d3f3",
           "#FF6692",
           "#B6E880",
           "#FF97FF",
           "#FECB52"
          ],
          "font": {
           "color": "#2a3f5f"
          },
          "geo": {
           "bgcolor": "white",
           "lakecolor": "white",
           "landcolor": "#E5ECF6",
           "showlakes": true,
           "showland": true,
           "subunitcolor": "white"
          },
          "hoverlabel": {
           "align": "left"
          },
          "hovermode": "closest",
          "mapbox": {
           "style": "light"
          },
          "paper_bgcolor": "white",
          "plot_bgcolor": "#E5ECF6",
          "polar": {
           "angularaxis": {
            "gridcolor": "white",
            "linecolor": "white",
            "ticks": ""
           },
           "bgcolor": "#E5ECF6",
           "radialaxis": {
            "gridcolor": "white",
            "linecolor": "white",
            "ticks": ""
           }
          },
          "scene": {
           "xaxis": {
            "backgroundcolor": "#E5ECF6",
            "gridcolor": "white",
            "gridwidth": 2,
            "linecolor": "white",
            "showbackground": true,
            "ticks": "",
            "zerolinecolor": "white"
           },
           "yaxis": {
            "backgroundcolor": "#E5ECF6",
            "gridcolor": "white",
            "gridwidth": 2,
            "linecolor": "white",
            "showbackground": true,
            "ticks": "",
            "zerolinecolor": "white"
           },
           "zaxis": {
            "backgroundcolor": "#E5ECF6",
            "gridcolor": "white",
            "gridwidth": 2,
            "linecolor": "white",
            "showbackground": true,
            "ticks": "",
            "zerolinecolor": "white"
           }
          },
          "shapedefaults": {
           "line": {
            "color": "#2a3f5f"
           }
          },
          "ternary": {
           "aaxis": {
            "gridcolor": "white",
            "linecolor": "white",
            "ticks": ""
           },
           "baxis": {
            "gridcolor": "white",
            "linecolor": "white",
            "ticks": ""
           },
           "bgcolor": "#E5ECF6",
           "caxis": {
            "gridcolor": "white",
            "linecolor": "white",
            "ticks": ""
           }
          },
          "title": {
           "x": 0.05
          },
          "xaxis": {
           "automargin": true,
           "gridcolor": "white",
           "linecolor": "white",
           "ticks": "",
           "title": {
            "standoff": 15
           },
           "zerolinecolor": "white",
           "zerolinewidth": 2
          },
          "yaxis": {
           "automargin": true,
           "gridcolor": "white",
           "linecolor": "white",
           "ticks": "",
           "title": {
            "standoff": 15
           },
           "zerolinecolor": "white",
           "zerolinewidth": 2
          }
         }
        },
        "title": {
         "text": "Hollow Candlesticks"
        }
       }
      }
     },
     "metadata": {},
     "output_type": "display_data"
    }
   ],
   "source": [
    "fig = go.Figure()\n",
    "for index, row in ohlc.iterrows():\n",
    "    color = dict(fillcolor=row[\"fill\"], line=dict(color=row[\"color\"]))\n",
    "    fig.add_trace(\n",
    "        go.Candlestick(\n",
    "            x=[index],\n",
    "            open=[row[\"open\"]],\n",
    "            high=[row[\"high\"]],\n",
    "            low=[row[\"low\"]],\n",
    "            close=[row[\"close\"]],\n",
    "            increasing=color,\n",
    "            decreasing=color,\n",
    "            name=\"AAPL\",\n",
    "            showlegend=False,\n",
    "            legendgroup=\"Hollow Candlesticks\"\n",
    "        )\n",
    "    )\n",
    "    \n",
    "fig.update_layout(title = \"Hollow Candlesticks\")\n",
    "\n",
    "fig.show()"
   ]
  },
  {
   "cell_type": "code",
   "execution_count": 7,
   "metadata": {},
   "outputs": [
    {
     "data": {
      "image/png": "[encoded data removed]",
      "text/plain": [
       "<IPython.core.display.Image object>"
      ]
     },
     "execution_count": 7,
     "metadata": {},
     "output_type": "execute_result"
    }
   ],
   "source": [
    "# Display Output in production\n",
    "img_bytes = fig.to_image(format=\"png\")\n",
    "from IPython.display import Image\n",
    "Image(img_bytes)"
   ]
  },
  {
   "cell_type": "code",
   "execution_count": 8,
   "metadata": {},
   "outputs": [
    {
     "data": {
      "application/vnd.plotly.v1+json": {
       "config": {
        "plotlyServerURL": "https://plot.ly"
       },
       "data": [
        {
         "hoverinfo": "x+y",
         "marker": {
          "color": [
           "rgba(255, 0, 0, 0)",
           "red",
           "red",
           "red",
           "green",
           "rgba(255, 0, 0, 0)",
           "rgba(255, 0, 0, 0)",
           "green",
           "red",
           "rgba(255, 0, 0, 0)",
           "red",
           "red",
           "red",
           "red",
           "rgba(255, 0, 0, 0)",
           "rgba(255, 0, 0, 0)",
           "red",
           "red",
           "rgba(255, 0, 0, 0)",
           "rgba(255, 0, 0, 0)",
           "rgba(255, 0, 0, 0)",
           "rgba(255, 0, 0, 0)",
           "red",
           "rgba(255, 0, 0, 0)",
           "red",
           "rgba(255, 0, 0, 0)",
           "rgba(255, 0, 0, 0)",
           "red",
           "red",
           "rgba(255, 0, 0, 0)",
           "rgba(255, 0, 0, 0)",
           "rgba(255, 0, 0, 0)",
           "red",
           "red",
           "red",
           "red",
           "rgba(255, 0, 0, 0)",
           "rgba(255, 0, 0, 0)",
           "rgba(255, 0, 0, 0)",
           "red",
           "rgba(255, 0, 0, 0)",
           "red",
           "red",
           "red",
           "red",
           "rgba(255, 0, 0, 0)",
           "red",
           "red",
           "red",
           "rgba(255, 0, 0, 0)",
           "rgba(255, 0, 0, 0)",
           "rgba(255, 0, 0, 0)",
           "rgba(255, 0, 0, 0)",
           "rgba(255, 0, 0, 0)",
           "rgba(255, 0, 0, 0)",
           "rgba(255, 0, 0, 0)",
           "rgba(255, 0, 0, 0)",
           "rgba(255, 0, 0, 0)",
           "rgba(255, 0, 0, 0)",
           "rgba(255, 0, 0, 0)",
           "red",
           "red",
           "rgba(255, 0, 0, 0)",
           "rgba(255, 0, 0, 0)",
           "red",
           "red",
           "rgba(255, 0, 0, 0)",
           "red",
           "red",
           "green",
           "rgba(255, 0, 0, 0)",
           "red",
           "rgba(255, 0, 0, 0)",
           "rgba(255, 0, 0, 0)",
           "red",
           "red",
           "red",
           "rgba(255, 0, 0, 0)",
           "red",
           "rgba(255, 0, 0, 0)",
           "rgba(255, 0, 0, 0)",
           "red",
           "rgba(255, 0, 0, 0)",
           "rgba(255, 0, 0, 0)",
           "rgba(255, 0, 0, 0)",
           "red",
           "rgba(255, 0, 0, 0)",
           "red",
           "green",
           "red",
           "red",
           "rgba(255, 0, 0, 0)",
           "red",
           "rgba(255, 0, 0, 0)",
           "red",
           "red",
           "green",
           "rgba(255, 0, 0, 0)",
           "red",
           "rgba(255, 0, 0, 0)",
           "rgba(255, 0, 0, 0)",
           "rgba(255, 0, 0, 0)",
           "red",
           "red",
           "rgba(255, 0, 0, 0)",
           "red",
           "green",
           "rgba(255, 0, 0, 0)",
           "red",
           "red",
           "red",
           "red",
           "green",
           "rgba(255, 0, 0, 0)",
           "red",
           "rgba(255, 0, 0, 0)",
           "rgba(255, 0, 0, 0)",
           "rgba(255, 0, 0, 0)",
           "rgba(255, 0, 0, 0)",
           "rgba(255, 0, 0, 0)",
           "red",
           "red",
           "rgba(255, 0, 0, 0)",
           "red",
           "rgba(255, 0, 0, 0)",
           "rgba(255, 0, 0, 0)",
           "rgba(255, 0, 0, 0)",
           "rgba(255, 0, 0, 0)",
           "rgba(255, 0, 0, 0)",
           "red",
           "rgba(255, 0, 0, 0)",
           "rgba(255, 0, 0, 0)",
           "rgba(255, 0, 0, 0)",
           "rgba(255, 0, 0, 0)",
           "red",
           "rgba(255, 0, 0, 0)",
           "rgba(255, 0, 0, 0)",
           "rgba(255, 0, 0, 0)",
           "red",
           "red",
           "red",
           "rgba(255, 0, 0, 0)",
           "rgba(255, 0, 0, 0)",
           "rgba(255, 0, 0, 0)",
           "rgba(255, 0, 0, 0)",
           "red",
           "rgba(255, 0, 0, 0)",
           "red",
           "rgba(255, 0, 0, 0)",
           "red",
           "rgba(255, 0, 0, 0)",
           "rgba(255, 0, 0, 0)",
           "red",
           "rgba(255, 0, 0, 0)",
           "rgba(255, 0, 0, 0)",
           "rgba(255, 0, 0, 0)",
           "rgba(255, 0, 0, 0)",
           "rgba(255, 0, 0, 0)",
           "red",
           "red",
           "rgba(255, 0, 0, 0)",
           "rgba(255, 0, 0, 0)",
           "rgba(255, 0, 0, 0)",
           "red",
           "rgba(255, 0, 0, 0)",
           "red",
           "red",
           "rgba(255, 0, 0, 0)",
           "red",
           "red",
           "rgba(255, 0, 0, 0)",
           "red",
           "rgba(255, 0, 0, 0)",
           "rgba(255, 0, 0, 0)",
           "red",
           "rgba(255, 0, 0, 0)",
           "red",
           "red",
           "rgba(255, 0, 0, 0)",
           "rgba(255, 0, 0, 0)",
           "red",
           "rgba(255, 0, 0, 0)",
           "red",
           "rgba(255, 0, 0, 0)",
           "green",
           "rgba(255, 0, 0, 0)",
           "red",
           "red",
           "rgba(255, 0, 0, 0)",
           "rgba(255, 0, 0, 0)",
           "rgba(255, 0, 0, 0)",
           "red",
           "red",
           "green",
           "red",
           "red",
           "rgba(255, 0, 0, 0)",
           "red",
           "rgba(255, 0, 0, 0)",
           "green",
           "rgba(255, 0, 0, 0)",
           "rgba(255, 0, 0, 0)",
           "rgba(255, 0, 0, 0)",
           "rgba(255, 0, 0, 0)",
           "rgba(255, 0, 0, 0)",
           "red",
           "red",
           "rgba(255, 0, 0, 0)",
           "rgba(255, 0, 0, 0)",
           "red",
           "red",
           "red",
           "red",
           "rgba(255, 0, 0, 0)",
           "green",
           "red",
           "rgba(255, 0, 0, 0)",
           "rgba(255, 0, 0, 0)",
           "red",
           "green",
           "red",
           "rgba(255, 0, 0, 0)",
           "green",
           "red",
           "rgba(255, 0, 0, 0)",
           "rgba(255, 0, 0, 0)",
           "red",
           "red",
           "red",
           "rgba(255, 0, 0, 0)"
          ],
          "line": {
           "color": [
            "red",
            "red",
            "red",
            "red",
            "green",
            "green",
            "green",
            "green",
            "red",
            "green",
            "red",
            "red",
            "red",
            "red",
            "red",
            "red",
            "red",
            "red",
            "green",
            "green",
            "red",
            "green",
            "red",
            "red",
            "red",
            "green",
            "green",
            "red",
            "red",
            "green",
            "green",
            "red",
            "red",
            "red",
            "red",
            "red",
            "green",
            "green",
            "green",
            "red",
            "green",
            "red",
            "red",
            "red",
            "red",
            "green",
            "red",
            "red",
            "red",
            "green",
            "green",
            "green",
            "green",
            "green",
            "green",
            "green",
            "green",
            "green",
            "green",
            "green",
            "red",
            "red",
            "red",
            "green",
            "red",
            "red",
            "green",
            "red",
            "red",
            "green",
            "green",
            "red",
            "red",
            "green",
            "red",
            "red",
            "red",
            "green",
            "red",
            "red",
            "green",
            "red",
            "green",
            "green",
            "green",
            "red",
            "green",
            "red",
            "green",
            "red",
            "red",
            "green",
            "red",
            "green",
            "red",
            "red",
            "green",
            "green",
            "red",
            "green",
            "green",
            "green",
            "red",
            "red",
            "green",
            "red",
            "green",
            "green",
            "red",
            "red",
            "red",
            "red",
            "green",
            "green",
            "red",
            "green",
            "green",
            "red",
            "green",
            "green",
            "red",
            "red",
            "green",
            "red",
            "green",
            "green",
            "green",
            "green",
            "green",
            "red",
            "green",
            "red",
            "green",
            "green",
            "red",
            "green",
            "green",
            "green",
            "red",
            "red",
            "red",
            "green",
            "green",
            "green",
            "red",
            "red",
            "green",
            "red",
            "red",
            "red",
            "green",
            "green",
            "red",
            "green",
            "green",
            "red",
            "green",
            "red",
            "red",
            "red",
            "red",
            "green",
            "green",
            "red",
            "red",
            "red",
            "red",
            "green",
            "red",
            "red",
            "green",
            "red",
            "green",
            "green",
            "red",
            "green",
            "red",
            "red",
            "green",
            "green",
            "red",
            "red",
            "red",
            "green",
            "green",
            "red",
            "red",
            "red",
            "green",
            "green",
            "green",
            "red",
            "red",
            "green",
            "red",
            "red",
            "green",
            "red",
            "green",
            "green",
            "green",
            "red",
            "green",
            "green",
            "green",
            "red",
            "red",
            "green",
            "red",
            "red",
            "red",
            "red",
            "red",
            "green",
            "green",
            "red",
            "green",
            "green",
            "red",
            "green",
            "red",
            "green",
            "green",
            "red",
            "green",
            "green",
            "red",
            "red",
            "red",
            "green"
           ]
          }
         },
         "name": "Volume",
         "text": [
          0.5124524851877583,
          0.4870598536767449,
          0.4636520407021887,
          0.47525785880120597,
          0.4252577933272068,
          0.523623281284839,
          0.37341415659584604,
          0.3668760750763227,
          0.4144518860344563,
          0.3945154211204496,
          0.4460898052260346,
          0.4650125266473659,
          0.4483644749498024,
          0.6025025300305815,
          0.7959607868715245,
          0.5679239209589446,
          0.5310274832727051,
          0.5981165077495001,
          0.8824801401789004,
          0.566664466053676,
          0.42282912483386953,
          0.41645534136468304,
          0.4385438655171316,
          0.40444490866408994,
          0.378872284960618,
          0.36699378114223563,
          0.3496115378585401,
          0.44564448394333056,
          0.48392249657822334,
          0.42268983932253923,
          0.306660594406903,
          0.3000396281992993,
          0.34129511385984856,
          0.4059520367497171,
          0.44710060606706203,
          0.4414428678321794,
          0.6922465391020312,
          0.4510800519788025,
          0.46619743437755634,
          0.4093934678518471,
          0.39100385682071315,
          0.3760630335208288,
          0.4106823492735939,
          0.4728782345019991,
          0.6432062685071638,
          0.44853318697761096,
          0.5166413498084356,
          0.4755820409244079,
          0.5332678220605818,
          0.4559359176396532,
          0.5017230868378512,
          0.37084963568476753,
          0.6057531792175443,
          0.46989929015051873,
          0.39986712358395865,
          0.48094060957509516,
          0.4420421878844528,
          0.395032346926584,
          0.4432217007532889,
          0.49333260610602275,
          0.4543120643719957,
          0.5053969874201593,
          0.38622940452211896,
          0.37503310544409046,
          0.3599932128720627,
          0.4367817076220264,
          0.3805569530289971,
          0.375558368763227,
          0.35432811800806047,
          0.38874978565848006,
          0.3463447040875143,
          0.36944697173263813,
          0.33852215512371586,
          0.33214591944482286,
          0.3331562298439091,
          0.42780171567675057,
          0.41629889038540707,
          0.4710518287125831,
          0.46897627841698464,
          0.431898867654404,
          0.6386378018239173,
          0.6461454870613985,
          0.6035148021974329,
          0.4363290297102028,
          0.5309352801877399,
          0.64015081521284,
          0.5695237425714782,
          0.6453132070870057,
          0.5658066830983354,
          0.6998106251627624,
          0.8955567936598883,
          0.5590591828698752,
          0.4249375347395353,
          0.3841940704657074,
          0.5382252092032823,
          0.6674699026692955,
          0.6739952326983449,
          0.577379151145344,
          0.5107104354122466,
          0.45357394925033323,
          0.44434775545052285,
          0.44619672156923884,
          0.5086785344494242,
          0.36433264316872027,
          0.35482542613654267,
          0.43438589873875644,
          0.35114858290258677,
          0.3325598524432834,
          0.2645944082173783,
          0.34072472988211205,
          0.4484498118475893,
          0.5993548736512926,
          0.41581776684098787,
          0.44891622213376936,
          0.5302849541735709,
          0.6597439707679339,
          0.397260424665928,
          0.36002950557571917,
          0.3552457348802402,
          0.4370661639479827,
          0.344328987708755,
          0.3290051292527122,
          0.32488051252634575,
          0.48536341500177443,
          0.3484668463675366,
          0.3597578007402368,
          0.3632423907332015,
          0.3249359324657131,
          0.31656948338900853,
          0.309672888810392,
          0.3805280169544602,
          0.34912403856888397,
          0.38323476602851686,
          0.37401053399647166,
          0.3993222425871699,
          0.40698049350063153,
          0.3179211413792423,
          0.3192119845687544,
          0.327004126132192,
          0.26299409616290337,
          0.27042331068977604,
          0.38558888734677593,
          0.3991152760879396,
          0.4992056483531379,
          0.33266382613483986,
          0.2938090537769736,
          0.4046513847213789,
          0.2720682529609096,
          0.2780658674611159,
          0.295623198517857,
          0.3096429718519725,
          0.3441455624227073,
          0.2802836459196925,
          0.3336937542115782,
          0.2652883835643234,
          0.2764969436908845,
          0.3901073289520095,
          0.3054967756801887,
          0.34500775935551964,
          0.3385363779400137,
          0.26556008839980577,
          0.26406129782718085,
          0.2511955343809536,
          0.38725786127303335,
          0.3595626048475978,
          0.38208467967615906,
          0.4315452590147238,
          0.3640545625880009,
          0.3774333283048321,
          0.36152829614834414,
          0.4288895159025628,
          0.4165019333491069,
          0.3336417673658,
          0.5147482439150022,
          0.601559410177454,
          0.4314192154358087,
          0.4437572633531928,
          0.7958832970447984,
          0.3995836481418849,
          0.5281559457063704,
          0.498763760164023,
          0.4249802031884288,
          0.4709709057922679,
          0.45777556536148445,
          0.4141424171694935,
          0.7194361498859823,
          0.6284434756319728,
          0.6126860664998174,
          0.5606325206175784,
          0.4307556474892244,
          0.38975911517368367,
          0.335473077574629,
          0.42141518071709017,
          0.3673361096172658,
          0.37780557373828183,
          0.34543640561221933,
          0.5552979836220151,
          0.43452175115649766,
          0.41810616893911223,
          0.48620746558275857,
          0.3028886054363341,
          0.31644294936815215,
          0.42447063401141394,
          0.37264710539964657,
          0.3665185429011121,
          0.4325418370394535,
          0.5354654923995649,
          0.808063913099024,
          0.48035453145523693,
          0.3942137993265477,
          0.45907621738982257,
          0.48023339229573486,
          0.6906148387633128,
          0.40890400679442573,
          0.4409489927972863,
          0.367428312702231,
          0.582909864917429,
          0.4609158651116538,
          0.3598573604543215,
          0.4407518351368821,
          0.31495347719241196,
          0.39426333396261937,
          0.36699574291000087,
          0.28800761605328884,
          0.2540690337150536,
          0.28593451796739694,
          0.1726154552194065,
          0.339611426675352,
          0.4108128068299808,
          0.5462586482018414
         ],
         "textfont": {
          "color": "white"
         },
         "texttemplate": "%{text:.2f}%",
         "type": "bar",
         "x": [
          3021,
          3022,
          3023,
          3024,
          3025,
          3026,
          3027,
          3028,
          3029,
          3030,
          3031,
          3032,
          3033,
          3034,
          3035,
          3036,
          3037,
          3038,
          3039,
          3040,
          3041,
          3042,
          3043,
          3044,
          3045,
          3046,
          3047,
          3048,
          3049,
          3050,
          3051,
          3052,
          3053,
          3054,
          3055,
          3056,
          3057,
          3058,
          3059,
          3060,
          3061,
          3062,
          3063,
          3064,
          3065,
          3066,
          3067,
          3068,
          3069,
          3070,
          3071,
          3072,
          3073,
          3074,
          3075,
          3076,
          3077,
          3078,
          3079,
          3080,
          3081,
          3082,
          3083,
          3084,
          3085,
          3086,
          3087,
          3088,
          3089,
          3090,
          3091,
          3092,
          3093,
          3094,
          3095,
          3096,
          3097,
          3098,
          3099,
          3100,
          3101,
          3102,
          3103,
          3104,
          3105,
          3106,
          3107,
          3108,
          3109,
          3110,
          3111,
          3112,
          3113,
          3114,
          3115,
          3116,
          3117,
          3118,
          3119,
          3120,
          3121,
          3122,
          3123,
          3124,
          3125,
          3126,
          3127,
          3128,
          3129,
          3130,
          3131,
          3132,
          3133,
          3134,
          3135,
          3136,
          3137,
          3138,
          3139,
          3140,
          3141,
          3142,
          3143,
          3144,
          3145,
          3146,
          3147,
          3148,
          3149,
          3150,
          3151,
          3152,
          3153,
          3154,
          3155,
          3156,
          3157,
          3158,
          3159,
          3160,
          3161,
          3162,
          3163,
          3164,
          3165,
          3166,
          3167,
          3168,
          3169,
          3170,
          3171,
          3172,
          3173,
          3174,
          3175,
          3176,
          3177,
          3178,
          3179,
          3180,
          3181,
          3182,
          3183,
          3184,
          3185,
          3186,
          3187,
          3188,
          3189,
          3190,
          3191,
          3192,
          3193,
          3194,
          3195,
          3196,
          3197,
          3198,
          3199,
          3200,
          3201,
          3202,
          3203,
          3204,
          3205,
          3206,
          3207,
          3208,
          3209,
          3210,
          3211,
          3212,
          3213,
          3214,
          3215,
          3216,
          3217,
          3218,
          3219,
          3220,
          3221,
          3222,
          3223,
          3224,
          3225,
          3226,
          3227,
          3228,
          3229,
          3230,
          3231,
          3232,
          3233,
          3234,
          3235,
          3236,
          3237,
          3238,
          3239,
          3240,
          3241,
          3242,
          3243,
          3244,
          3245,
          3246,
          3247,
          3248,
          3249,
          3250
         ],
         "y": [
          104487900,
          99310400,
          94537600,
          96904000,
          86709100,
          106765600,
          76138300,
          74805200,
          84505800,
          80440800,
          90956700,
          94815000,
          91420500,
          122848900,
          162294600,
          115798400,
          108275300,
          121954600,
          179935700,
          115541600,
          86213900,
          84914300,
          89418100,
          82465400,
          77251200,
          74829200,
          71285000,
          90865900,
          98670700,
          86185500,
          62527400,
          61177400,
          69589300,
          82772700,
          91162800,
          90009200,
          141147500,
          91974200,
          95056600,
          83474400,
          79724800,
          76678400,
          83737200,
          96418800,
          131148300,
          91454900,
          105342000,
          96970100,
          108732100,
          92964300,
          102300200,
          75615400,
          123511700,
          95811400,
          81532000,
          98062700,
          90131400,
          80546200,
          90371900,
          100589400,
          92633200,
          103049300,
          78751300,
          76468400,
          73401800,
          89058800,
          77594700,
          76575500,
          72246700,
          79265200,
          70618900,
          75329400,
          69023900,
          67723800,
          67929800,
          87227800,
          84882400,
          96046400,
          95623200,
          88063200,
          130216800,
          131747600,
          123055300,
          88966500,
          108256500,
          130525300,
          116124600,
          131577900,
          115366700,
          142689800,
          182602000,
          113990900,
          86643800,
          78336300,
          109742900,
          136095600,
          137426100,
          117726300,
          104132700,
          92482700,
          90601500,
          90978500,
          103718400,
          74286600,
          72348100,
          88570300,
          71598400,
          67808200,
          53950200,
          69473000,
          91437900,
          122207100,
          84784300,
          91533000,
          108123900,
          134520300,
          81000500,
          73409200,
          72433800,
          89116800,
          70207900,
          67083400,
          66242400,
          98964500,
          71051600,
          73353800,
          74064300,
          66253700,
          64547800,
          63141600,
          77588800,
          71185600,
          78140700,
          76259900,
          81420900,
          82982400,
          64823400,
          65086600,
          66675400,
          53623900,
          55138700,
          78620700,
          81378700,
          101786900,
          67829400,
          59907000,
          82507500,
          55474100,
          56697000,
          60276900,
          63135500,
          70170500,
          57149200,
          68039400,
          54091700,
          56377100,
          79542000,
          62290100,
          70346300,
          69026800,
          54147100,
          53841500,
          51218200,
          78961000,
          73314000,
          77906200,
          87991100,
          74229900,
          76957800,
          73714800,
          87449600,
          84923800,
          68028800,
          104956000,
          122656600,
          87965400,
          90481100,
          162278800,
          81474200,
          107689800,
          101696800,
          86652500,
          96029900,
          93339400,
          84442700,
          146691400,
          128138200,
          124925300,
          114311700,
          87830100,
          79471000,
          68402200,
          85925600,
          74899000,
          77033700,
          70433700,
          113224000,
          88598000,
          85250900,
          99136600,
          61758300,
          64522000,
          86548600,
          75981900,
          74732300,
          88194300,
          109180200,
          164762400,
          97943200,
          80379300,
          93604600,
          97918500,
          140814800,
          83374600,
          89908500,
          74917800,
          118854000,
          93979700,
          73374100,
          89868300,
          64218300,
          80389400,
          74829600,
          58724100,
          51804100,
          58301400,
          35195900,
          69246000,
          83763800,
          111380900
         ]
        }
       ],
       "layout": {
        "template": {
         "data": {
          "bar": [
           {
            "error_x": {
             "color": "#2a3f5f"
            },
            "error_y": {
             "color": "#2a3f5f"
            },
            "marker": {
             "line": {
              "color": "#E5ECF6",
              "width": 0.5
             },
             "pattern": {
              "fillmode": "overlay",
              "size": 10,
              "solidity": 0.2
             }
            },
            "type": "bar"
           }
          ],
          "barpolar": [
           {
            "marker": {
             "line": {
              "color": "#E5ECF6",
              "width": 0.5
             },
             "pattern": {
              "fillmode": "overlay",
              "size": 10,
              "solidity": 0.2
             }
            },
            "type": "barpolar"
           }
          ],
          "carpet": [
           {
            "aaxis": {
             "endlinecolor": "#2a3f5f",
             "gridcolor": "white",
             "linecolor": "white",
             "minorgridcolor": "white",
             "startlinecolor": "#2a3f5f"
            },
            "baxis": {
             "endlinecolor": "#2a3f5f",
             "gridcolor": "white",
             "linecolor": "white",
             "minorgridcolor": "white",
             "startlinecolor": "#2a3f5f"
            },
            "type": "carpet"
           }
          ],
          "choropleth": [
           {
            "colorbar": {
             "outlinewidth": 0,
             "ticks": ""
            },
            "type": "choropleth"
           }
          ],
          "contour": [
           {
            "colorbar": {
             "outlinewidth": 0,
             "ticks": ""
            },
            "colorscale": [
             [
              0,
              "#0d0887"
             ],
             [
              0.1111111111111111,
              "#46039f"
             ],
             [
              0.2222222222222222,
              "#7201a8"
             ],
             [
              0.3333333333333333,
              "#9c179e"
             ],
             [
              0.4444444444444444,
              "#bd3786"
             ],
             [
              0.5555555555555556,
              "#d8576b"
             ],
             [
              0.6666666666666666,
              "#ed7953"
             ],
             [
              0.7777777777777778,
              "#fb9f3a"
             ],
             [
              0.8888888888888888,
              "#fdca26"
             ],
             [
              1,
              "#f0f921"
             ]
            ],
            "type": "contour"
           }
          ],
          "contourcarpet": [
           {
            "colorbar": {
             "outlinewidth": 0,
             "ticks": ""
            },
            "type": "contourcarpet"
           }
          ],
          "heatmap": [
           {
            "colorbar": {
             "outlinewidth": 0,
             "ticks": ""
            },
            "colorscale": [
             [
              0,
              "#0d0887"
             ],
             [
              0.1111111111111111,
              "#46039f"
             ],
             [
              0.2222222222222222,
              "#7201a8"
             ],
             [
              0.3333333333333333,
              "#9c179e"
             ],
             [
              0.4444444444444444,
              "#bd3786"
             ],
             [
              0.5555555555555556,
              "#d8576b"
             ],
             [
              0.6666666666666666,
              "#ed7953"
             ],
             [
              0.7777777777777778,
              "#fb9f3a"
             ],
             [
              0.8888888888888888,
              "#fdca26"
             ],
             [
              1,
              "#f0f921"
             ]
            ],
            "type": "heatmap"
           }
          ],
          "heatmapgl": [
           {
            "colorbar": {
             "outlinewidth": 0,
             "ticks": ""
            },
            "colorscale": [
             [
              0,
              "#0d0887"
             ],
             [
              0.1111111111111111,
              "#46039f"
             ],
             [
              0.2222222222222222,
              "#7201a8"
             ],
             [
              0.3333333333333333,
              "#9c179e"
             ],
             [
              0.4444444444444444,
              "#bd3786"
             ],
             [
              0.5555555555555556,
              "#d8576b"
             ],
             [
              0.6666666666666666,
              "#ed7953"
             ],
             [
              0.7777777777777778,
              "#fb9f3a"
             ],
             [
              0.8888888888888888,
              "#fdca26"
             ],
             [
              1,
              "#f0f921"
             ]
            ],
            "type": "heatmapgl"
           }
          ],
          "histogram": [
           {
            "marker": {
             "pattern": {
              "fillmode": "overlay",
              "size": 10,
              "solidity": 0.2
             }
            },
            "type": "histogram"
           }
          ],
          "histogram2d": [
           {
            "colorbar": {
             "outlinewidth": 0,
             "ticks": ""
            },
            "colorscale": [
             [
              0,
              "#0d0887"
             ],
             [
              0.1111111111111111,
              "#46039f"
             ],
             [
              0.2222222222222222,
              "#7201a8"
             ],
             [
              0.3333333333333333,
              "#9c179e"
             ],
             [
              0.4444444444444444,
              "#bd3786"
             ],
             [
              0.5555555555555556,
              "#d8576b"
             ],
             [
              0.6666666666666666,
              "#ed7953"
             ],
             [
              0.7777777777777778,
              "#fb9f3a"
             ],
             [
              0.8888888888888888,
              "#fdca26"
             ],
             [
              1,
              "#f0f921"
             ]
            ],
            "type": "histogram2d"
           }
          ],
          "histogram2dcontour": [
           {
            "colorbar": {
             "outlinewidth": 0,
             "ticks": ""
            },
            "colorscale": [
             [
              0,
              "#0d0887"
             ],
             [
              0.1111111111111111,
              "#46039f"
             ],
             [
              0.2222222222222222,
              "#7201a8"
             ],
             [
              0.3333333333333333,
              "#9c179e"
             ],
             [
              0.4444444444444444,
              "#bd3786"
             ],
             [
              0.5555555555555556,
              "#d8576b"
             ],
             [
              0.6666666666666666,
              "#ed7953"
             ],
             [
              0.7777777777777778,
              "#fb9f3a"
             ],
             [
              0.8888888888888888,
              "#fdca26"
             ],
             [
              1,
              "#f0f921"
             ]
            ],
            "type": "histogram2dcontour"
           }
          ],
          "mesh3d": [
           {
            "colorbar": {
             "outlinewidth": 0,
             "ticks": ""
            },
            "type": "mesh3d"
           }
          ],
          "parcoords": [
           {
            "line": {
             "colorbar": {
              "outlinewidth": 0,
              "ticks": ""
             }
            },
            "type": "parcoords"
           }
          ],
          "pie": [
           {
            "automargin": true,
            "type": "pie"
           }
          ],
          "scatter": [
           {
            "fillpattern": {
             "fillmode": "overlay",
             "size": 10,
             "solidity": 0.2
            },
            "type": "scatter"
           }
          ],
          "scatter3d": [
           {
            "line": {
             "colorbar": {
              "outlinewidth": 0,
              "ticks": ""
             }
            },
            "marker": {
             "colorbar": {
              "outlinewidth": 0,
              "ticks": ""
             }
            },
            "type": "scatter3d"
           }
          ],
          "scattercarpet": [
           {
            "marker": {
             "colorbar": {
              "outlinewidth": 0,
              "ticks": ""
             }
            },
            "type": "scattercarpet"
           }
          ],
          "scattergeo": [
           {
            "marker": {
             "colorbar": {
              "outlinewidth": 0,
              "ticks": ""
             }
            },
            "type": "scattergeo"
           }
          ],
          "scattergl": [
           {
            "marker": {
             "colorbar": {
              "outlinewidth": 0,
              "ticks": ""
             }
            },
            "type": "scattergl"
           }
          ],
          "scattermapbox": [
           {
            "marker": {
             "colorbar": {
              "outlinewidth": 0,
              "ticks": ""
             }
            },
            "type": "scattermapbox"
           }
          ],
          "scatterpolar": [
           {
            "marker": {
             "colorbar": {
              "outlinewidth": 0,
              "ticks": ""
             }
            },
            "type": "scatterpolar"
           }
          ],
          "scatterpolargl": [
           {
            "marker": {
             "colorbar": {
              "outlinewidth": 0,
              "ticks": ""
             }
            },
            "type": "scatterpolargl"
           }
          ],
          "scatterternary": [
           {
            "marker": {
             "colorbar": {
              "outlinewidth": 0,
              "ticks": ""
             }
            },
            "type": "scatterternary"
           }
          ],
          "surface": [
           {
            "colorbar": {
             "outlinewidth": 0,
             "ticks": ""
            },
            "colorscale": [
             [
              0,
              "#0d0887"
             ],
             [
              0.1111111111111111,
              "#46039f"
             ],
             [
              0.2222222222222222,
              "#7201a8"
             ],
             [
              0.3333333333333333,
              "#9c179e"
             ],
             [
              0.4444444444444444,
              "#bd3786"
             ],
             [
              0.5555555555555556,
              "#d8576b"
             ],
             [
              0.6666666666666666,
              "#ed7953"
             ],
             [
              0.7777777777777778,
              "#fb9f3a"
             ],
             [
              0.8888888888888888,
              "#fdca26"
             ],
             [
              1,
              "#f0f921"
             ]
            ],
            "type": "surface"
           }
          ],
          "table": [
           {
            "cells": {
             "fill": {
              "color": "#EBF0F8"
             },
             "line": {
              "color": "white"
             }
            },
            "header": {
             "fill": {
              "color": "#C8D4E3"
             },
             "line": {
              "color": "white"
             }
            },
            "type": "table"
           }
          ]
         },
         "layout": {
          "annotationdefaults": {
           "arrowcolor": "#2a3f5f",
           "arrowhead": 0,
           "arrowwidth": 1
          },
          "autotypenumbers": "strict",
          "coloraxis": {
           "colorbar": {
            "outlinewidth": 0,
            "ticks": ""
           }
          },
          "colorscale": {
           "diverging": [
            [
             0,
             "#8e0152"
            ],
            [
             0.1,
             "#c51b7d"
            ],
            [
             0.2,
             "#de77ae"
            ],
            [
             0.3,
             "#f1b6da"
            ],
            [
             0.4,
             "#fde0ef"
            ],
            [
             0.5,
             "#f7f7f7"
            ],
            [
             0.6,
             "#e6f5d0"
            ],
            [
             0.7,
             "#b8e186"
            ],
            [
             0.8,
             "#7fbc41"
            ],
            [
             0.9,
             "#4d9221"
            ],
            [
             1,
             "#276419"
            ]
           ],
           "sequential": [
            [
             0,
             "#0d0887"
            ],
            [
             0.1111111111111111,
             "#46039f"
            ],
            [
             0.2222222222222222,
             "#7201a8"
            ],
            [
             0.3333333333333333,
             "#9c179e"
            ],
            [
             0.4444444444444444,
             "#bd3786"
            ],
            [
             0.5555555555555556,
             "#d8576b"
            ],
            [
             0.6666666666666666,
             "#ed7953"
            ],
            [
             0.7777777777777778,
             "#fb9f3a"
            ],
            [
             0.8888888888888888,
             "#fdca26"
            ],
            [
             1,
             "#f0f921"
            ]
           ],
           "sequentialminus": [
            [
             0,
             "#0d0887"
            ],
            [
             0.1111111111111111,
             "#46039f"
            ],
            [
             0.2222222222222222,
             "#7201a8"
            ],
            [
             0.3333333333333333,
             "#9c179e"
            ],
            [
             0.4444444444444444,
             "#bd3786"
            ],
            [
             0.5555555555555556,
             "#d8576b"
            ],
            [
             0.6666666666666666,
             "#ed7953"
            ],
            [
             0.7777777777777778,
             "#fb9f3a"
            ],
            [
             0.8888888888888888,
             "#fdca26"
            ],
            [
             1,
             "#f0f921"
            ]
           ]
          },
          "colorway": [
           "#636efa",
           "#EF553B",
           "#00cc96",
           "#ab63fa",
           "#FFA15A",
           "#19d3f3",
           "#FF6692",
           "#B6E880",
           "#FF97FF",
           "#FECB52"
          ],
          "font": {
           "color": "#2a3f5f"
          },
          "geo": {
           "bgcolor": "white",
           "lakecolor": "white",
           "landcolor": "#E5ECF6",
           "showlakes": true,
           "showland": true,
           "subunitcolor": "white"
          },
          "hoverlabel": {
           "align": "left"
          },
          "hovermode": "closest",
          "mapbox": {
           "style": "light"
          },
          "paper_bgcolor": "white",
          "plot_bgcolor": "#E5ECF6",
          "polar": {
           "angularaxis": {
            "gridcolor": "white",
            "linecolor": "white",
            "ticks": ""
           },
           "bgcolor": "#E5ECF6",
           "radialaxis": {
            "gridcolor": "white",
            "linecolor": "white",
            "ticks": ""
           }
          },
          "scene": {
           "xaxis": {
            "backgroundcolor": "#E5ECF6",
            "gridcolor": "white",
            "gridwidth": 2,
            "linecolor": "white",
            "showbackground": true,
            "ticks": "",
            "zerolinecolor": "white"
           },
           "yaxis": {
            "backgroundcolor": "#E5ECF6",
            "gridcolor": "white",
            "gridwidth": 2,
            "linecolor": "white",
            "showbackground": true,
            "ticks": "",
            "zerolinecolor": "white"
           },
           "zaxis": {
            "backgroundcolor": "#E5ECF6",
            "gridcolor": "white",
            "gridwidth": 2,
            "linecolor": "white",
            "showbackground": true,
            "ticks": "",
            "zerolinecolor": "white"
           }
          },
          "shapedefaults": {
           "line": {
            "color": "#2a3f5f"
           }
          },
          "ternary": {
           "aaxis": {
            "gridcolor": "white",
            "linecolor": "white",
            "ticks": ""
           },
           "baxis": {
            "gridcolor": "white",
            "linecolor": "white",
            "ticks": ""
           },
           "bgcolor": "#E5ECF6",
           "caxis": {
            "gridcolor": "white",
            "linecolor": "white",
            "ticks": ""
           }
          },
          "title": {
           "x": 0.05
          },
          "xaxis": {
           "automargin": true,
           "gridcolor": "white",
           "linecolor": "white",
           "ticks": "",
           "title": {
            "standoff": 15
           },
           "zerolinecolor": "white",
           "zerolinewidth": 2
          },
          "yaxis": {
           "automargin": true,
           "gridcolor": "white",
           "linecolor": "white",
           "ticks": "",
           "title": {
            "standoff": 15
           },
           "zerolinecolor": "white",
           "zerolinewidth": 2
          }
         }
        },
        "title": {
         "text": "Volume Chart"
        }
       }
      }
     },
     "metadata": {},
     "output_type": "display_data"
    }
   ],
   "source": [
    "fig = go.Figure()\n",
    "fig.add_trace(\n",
    "    go.Bar(\n",
    "        x=ohlc.index,\n",
    "        y=ohlc[\"volume\"],\n",
    "        text=ohlc[\"Percentage\"],\n",
    "        marker_line_color=ohlc[\"color\"],\n",
    "        marker_color=ohlc[\"fill\"],\n",
    "        name=\"Volume\",\n",
    "        texttemplate=\"%{text:.2f}%\",\n",
    "        hoverinfo=\"x+y\",\n",
    "        textfont=dict(color=\"white\")\n",
    "    )\n",
    ")\n",
    "fig.update_layout(title = \"Volume Chart\")\n",
    "\n",
    "fig.show()"
   ]
  },
  {
   "cell_type": "code",
   "execution_count": 9,
   "metadata": {},
   "outputs": [
    {
     "data": {
      "image/png": "[encoded data removed]",
      "text/plain": [
       "<IPython.core.display.Image object>"
      ]
     },
     "execution_count": 9,
     "metadata": {},
     "output_type": "execute_result"
    }
   ],
   "source": [
    "# Display Output in production\n",
    "img_bytes = fig.to_image(format=\"png\")\n",
    "from IPython.display import Image\n",
    "Image(img_bytes)"
   ]
  },
  {
   "cell_type": "code",
   "execution_count": 10,
   "metadata": {},
   "outputs": [
    {
     "data": {
      "application/vnd.plotly.v1+json": {
       "config": {
        "plotlyServerURL": "https://plot.ly"
       },
       "data": [
        {
         "hoverinfo": "x+y",
         "marker": {
          "color": "orange"
         },
         "name": "Total Price by Volume",
         "orientation": "h",
         "text": [
          0.5302849541735709,
          1.2590988444192266,
          0.41581776684098787,
          1.1763740404117196,
          0.397260424665928,
          1.9302882587713714,
          3.112500029610432,
          1.9402903317223248,
          1.7404107185438888,
          1.4026119652835964,
          2.748335117585638,
          3.048643998410713,
          1.5730552531449675,
          2.4231976134820488,
          3.001875454887966,
          2.2823314077748966,
          2.0145682541747534,
          2.7099075201586476,
          3.1663510452075503,
          3.9901399982706036,
          2.1401547412005804,
          1.4862499721858113,
          2.2434128779646607,
          2.6094841378153038,
          1.614386757306419,
          4.831803107884481,
          1.6137148518468325,
          2.4060498014462968,
          2.335926412678654,
          0.7304122405323653,
          2.147426033422353,
          3.4458612641858064,
          2.078749448381557,
          3.4268424161439794,
          2.8308603117230344,
          1.727818131258968,
          1.271631107345367,
          1.9919201357672771,
          2.782609162211725,
          4.563592671233868,
          1.9815448364989914,
          1.1337683680867605,
          3.8440834454986312,
          1.5761646550528348,
          0.8293451698160862,
          0.49333260610602275,
          0.4870598536767449,
          0.5124524851877583
         ],
         "texttemplate": "%{text:.2f}% @ %{y}",
         "type": "bar",
         "x": [
          108123900,
          256727400,
          84784300,
          239860000,
          81000500,
          393581400,
          634631700,
          395620800,
          354865800,
          285989400,
          560379300,
          621611600,
          320742400,
          494084500,
          612075600,
          465362200,
          410765900,
          552544000,
          645611800,
          813580500,
          436372700,
          303043000,
          457426800,
          532067900,
          329169800,
          985193700,
          329032800,
          490588100,
          476290100,
          148929400,
          437855300,
          702603300,
          423852300,
          698725400,
          577206000,
          352298200,
          259282700,
          406148000,
          567367700,
          930506200,
          404032500,
          231172800,
          783799900,
          321376400,
          169101600,
          100589400,
          99310400,
          104487900
         ],
         "y": [
          130,
          132,
          133,
          135,
          136,
          137,
          138,
          139,
          140,
          141,
          142,
          143,
          144,
          145,
          146,
          147,
          148,
          149,
          150,
          151,
          152,
          153,
          154,
          155,
          156,
          157,
          158,
          159,
          160,
          161,
          162,
          163,
          164,
          165,
          166,
          167,
          168,
          169,
          170,
          172,
          173,
          174,
          175,
          176,
          178,
          179,
          180,
          182
         ]
        }
       ],
       "layout": {
        "template": {
         "data": {
          "bar": [
           {
            "error_x": {
             "color": "#2a3f5f"
            },
            "error_y": {
             "color": "#2a3f5f"
            },
            "marker": {
             "line": {
              "color": "#E5ECF6",
              "width": 0.5
             },
             "pattern": {
              "fillmode": "overlay",
              "size": 10,
              "solidity": 0.2
             }
            },
            "type": "bar"
           }
          ],
          "barpolar": [
           {
            "marker": {
             "line": {
              "color": "#E5ECF6",
              "width": 0.5
             },
             "pattern": {
              "fillmode": "overlay",
              "size": 10,
              "solidity": 0.2
             }
            },
            "type": "barpolar"
           }
          ],
          "carpet": [
           {
            "aaxis": {
             "endlinecolor": "#2a3f5f",
             "gridcolor": "white",
             "linecolor": "white",
             "minorgridcolor": "white",
             "startlinecolor": "#2a3f5f"
            },
            "baxis": {
             "endlinecolor": "#2a3f5f",
             "gridcolor": "white",
             "linecolor": "white",
             "minorgridcolor": "white",
             "startlinecolor": "#2a3f5f"
            },
            "type": "carpet"
           }
          ],
          "choropleth": [
           {
            "colorbar": {
             "outlinewidth": 0,
             "ticks": ""
            },
            "type": "choropleth"
           }
          ],
          "contour": [
           {
            "colorbar": {
             "outlinewidth": 0,
             "ticks": ""
            },
            "colorscale": [
             [
              0,
              "#0d0887"
             ],
             [
              0.1111111111111111,
              "#46039f"
             ],
             [
              0.2222222222222222,
              "#7201a8"
             ],
             [
              0.3333333333333333,
              "#9c179e"
             ],
             [
              0.4444444444444444,
              "#bd3786"
             ],
             [
              0.5555555555555556,
              "#d8576b"
             ],
             [
              0.6666666666666666,
              "#ed7953"
             ],
             [
              0.7777777777777778,
              "#fb9f3a"
             ],
             [
              0.8888888888888888,
              "#fdca26"
             ],
             [
              1,
              "#f0f921"
             ]
            ],
            "type": "contour"
           }
          ],
          "contourcarpet": [
           {
            "colorbar": {
             "outlinewidth": 0,
             "ticks": ""
            },
            "type": "contourcarpet"
           }
          ],
          "heatmap": [
           {
            "colorbar": {
             "outlinewidth": 0,
             "ticks": ""
            },
            "colorscale": [
             [
              0,
              "#0d0887"
             ],
             [
              0.1111111111111111,
              "#46039f"
             ],
             [
              0.2222222222222222,
              "#7201a8"
             ],
             [
              0.3333333333333333,
              "#9c179e"
             ],
             [
              0.4444444444444444,
              "#bd3786"
             ],
             [
              0.5555555555555556,
              "#d8576b"
             ],
             [
              0.6666666666666666,
              "#ed7953"
             ],
             [
              0.7777777777777778,
              "#fb9f3a"
             ],
             [
              0.8888888888888888,
              "#fdca26"
             ],
             [
              1,
              "#f0f921"
             ]
            ],
            "type": "heatmap"
           }
          ],
          "heatmapgl": [
           {
            "colorbar": {
             "outlinewidth": 0,
             "ticks": ""
            },
            "colorscale": [
             [
              0,
              "#0d0887"
             ],
             [
              0.1111111111111111,
              "#46039f"
             ],
             [
              0.2222222222222222,
              "#7201a8"
             ],
             [
              0.3333333333333333,
              "#9c179e"
             ],
             [
              0.4444444444444444,
              "#bd3786"
             ],
             [
              0.5555555555555556,
              "#d8576b"
             ],
             [
              0.6666666666666666,
              "#ed7953"
             ],
             [
              0.7777777777777778,
              "#fb9f3a"
             ],
             [
              0.8888888888888888,
              "#fdca26"
             ],
             [
              1,
              "#f0f921"
             ]
            ],
            "type": "heatmapgl"
           }
          ],
          "histogram": [
           {
            "marker": {
             "pattern": {
              "fillmode": "overlay",
              "size": 10,
              "solidity": 0.2
             }
            },
            "type": "histogram"
           }
          ],
          "histogram2d": [
           {
            "colorbar": {
             "outlinewidth": 0,
             "ticks": ""
            },
            "colorscale": [
             [
              0,
              "#0d0887"
             ],
             [
              0.1111111111111111,
              "#46039f"
             ],
             [
              0.2222222222222222,
              "#7201a8"
             ],
             [
              0.3333333333333333,
              "#9c179e"
             ],
             [
              0.4444444444444444,
              "#bd3786"
             ],
             [
              0.5555555555555556,
              "#d8576b"
             ],
             [
              0.6666666666666666,
              "#ed7953"
             ],
             [
              0.7777777777777778,
              "#fb9f3a"
             ],
             [
              0.8888888888888888,
              "#fdca26"
             ],
             [
              1,
              "#f0f921"
             ]
            ],
            "type": "histogram2d"
           }
          ],
          "histogram2dcontour": [
           {
            "colorbar": {
             "outlinewidth": 0,
             "ticks": ""
            },
            "colorscale": [
             [
              0,
              "#0d0887"
             ],
             [
              0.1111111111111111,
              "#46039f"
             ],
             [
              0.2222222222222222,
              "#7201a8"
             ],
             [
              0.3333333333333333,
              "#9c179e"
             ],
             [
              0.4444444444444444,
              "#bd3786"
             ],
             [
              0.5555555555555556,
              "#d8576b"
             ],
             [
              0.6666666666666666,
              "#ed7953"
             ],
             [
              0.7777777777777778,
              "#fb9f3a"
             ],
             [
              0.8888888888888888,
              "#fdca26"
             ],
             [
              1,
              "#f0f921"
             ]
            ],
            "type": "histogram2dcontour"
           }
          ],
          "mesh3d": [
           {
            "colorbar": {
             "outlinewidth": 0,
             "ticks": ""
            },
            "type": "mesh3d"
           }
          ],
          "parcoords": [
           {
            "line": {
             "colorbar": {
              "outlinewidth": 0,
              "ticks": ""
             }
            },
            "type": "parcoords"
           }
          ],
          "pie": [
           {
            "automargin": true,
            "type": "pie"
           }
          ],
          "scatter": [
           {
            "fillpattern": {
             "fillmode": "overlay",
             "size": 10,
             "solidity": 0.2
            },
            "type": "scatter"
           }
          ],
          "scatter3d": [
           {
            "line": {
             "colorbar": {
              "outlinewidth": 0,
              "ticks": ""
             }
            },
            "marker": {
             "colorbar": {
              "outlinewidth": 0,
              "ticks": ""
             }
            },
            "type": "scatter3d"
           }
          ],
          "scattercarpet": [
           {
            "marker": {
             "colorbar": {
              "outlinewidth": 0,
              "ticks": ""
             }
            },
            "type": "scattercarpet"
           }
          ],
          "scattergeo": [
           {
            "marker": {
             "colorbar": {
              "outlinewidth": 0,
              "ticks": ""
             }
            },
            "type": "scattergeo"
           }
          ],
          "scattergl": [
           {
            "marker": {
             "colorbar": {
              "outlinewidth": 0,
              "ticks": ""
             }
            },
            "type": "scattergl"
           }
          ],
          "scattermapbox": [
           {
            "marker": {
             "colorbar": {
              "outlinewidth": 0,
              "ticks": ""
             }
            },
            "type": "scattermapbox"
           }
          ],
          "scatterpolar": [
           {
            "marker": {
             "colorbar": {
              "outlinewidth": 0,
              "ticks": ""
             }
            },
            "type": "scatterpolar"
           }
          ],
          "scatterpolargl": [
           {
            "marker": {
             "colorbar": {
              "outlinewidth": 0,
              "ticks": ""
             }
            },
            "type": "scatterpolargl"
           }
          ],
          "scatterternary": [
           {
            "marker": {
             "colorbar": {
              "outlinewidth": 0,
              "ticks": ""
             }
            },
            "type": "scatterternary"
           }
          ],
          "surface": [
           {
            "colorbar": {
             "outlinewidth": 0,
             "ticks": ""
            },
            "colorscale": [
             [
              0,
              "#0d0887"
             ],
             [
              0.1111111111111111,
              "#46039f"
             ],
             [
              0.2222222222222222,
              "#7201a8"
             ],
             [
              0.3333333333333333,
              "#9c179e"
             ],
             [
              0.4444444444444444,
              "#bd3786"
             ],
             [
              0.5555555555555556,
              "#d8576b"
             ],
             [
              0.6666666666666666,
              "#ed7953"
             ],
             [
              0.7777777777777778,
              "#fb9f3a"
             ],
             [
              0.8888888888888888,
              "#fdca26"
             ],
             [
              1,
              "#f0f921"
             ]
            ],
            "type": "surface"
           }
          ],
          "table": [
           {
            "cells": {
             "fill": {
              "color": "#EBF0F8"
             },
             "line": {
              "color": "white"
             }
            },
            "header": {
             "fill": {
              "color": "#C8D4E3"
             },
             "line": {
              "color": "white"
             }
            },
            "type": "table"
           }
          ]
         },
         "layout": {
          "annotationdefaults": {
           "arrowcolor": "#2a3f5f",
           "arrowhead": 0,
           "arrowwidth": 1
          },
          "autotypenumbers": "strict",
          "coloraxis": {
           "colorbar": {
            "outlinewidth": 0,
            "ticks": ""
           }
          },
          "colorscale": {
           "diverging": [
            [
             0,
             "#8e0152"
            ],
            [
             0.1,
             "#c51b7d"
            ],
            [
             0.2,
             "#de77ae"
            ],
            [
             0.3,
             "#f1b6da"
            ],
            [
             0.4,
             "#fde0ef"
            ],
            [
             0.5,
             "#f7f7f7"
            ],
            [
             0.6,
             "#e6f5d0"
            ],
            [
             0.7,
             "#b8e186"
            ],
            [
             0.8,
             "#7fbc41"
            ],
            [
             0.9,
             "#4d9221"
            ],
            [
             1,
             "#276419"
            ]
           ],
           "sequential": [
            [
             0,
             "#0d0887"
            ],
            [
             0.1111111111111111,
             "#46039f"
            ],
            [
             0.2222222222222222,
             "#7201a8"
            ],
            [
             0.3333333333333333,
             "#9c179e"
            ],
            [
             0.4444444444444444,
             "#bd3786"
            ],
            [
             0.5555555555555556,
             "#d8576b"
            ],
            [
             0.6666666666666666,
             "#ed7953"
            ],
            [
             0.7777777777777778,
             "#fb9f3a"
            ],
            [
             0.8888888888888888,
             "#fdca26"
            ],
            [
             1,
             "#f0f921"
            ]
           ],
           "sequentialminus": [
            [
             0,
             "#0d0887"
            ],
            [
             0.1111111111111111,
             "#46039f"
            ],
            [
             0.2222222222222222,
             "#7201a8"
            ],
            [
             0.3333333333333333,
             "#9c179e"
            ],
            [
             0.4444444444444444,
             "#bd3786"
            ],
            [
             0.5555555555555556,
             "#d8576b"
            ],
            [
             0.6666666666666666,
             "#ed7953"
            ],
            [
             0.7777777777777778,
             "#fb9f3a"
            ],
            [
             0.8888888888888888,
             "#fdca26"
            ],
            [
             1,
             "#f0f921"
            ]
           ]
          },
          "colorway": [
           "#636efa",
           "#EF553B",
           "#00cc96",
           "#ab63fa",
           "#FFA15A",
           "#19d3f3",
           "#FF6692",
           "#B6E880",
           "#FF97FF",
           "#FECB52"
          ],
          "font": {
           "color": "#2a3f5f"
          },
          "geo": {
           "bgcolor": "white",
           "lakecolor": "white",
           "landcolor": "#E5ECF6",
           "showlakes": true,
           "showland": true,
           "subunitcolor": "white"
          },
          "hoverlabel": {
           "align": "left"
          },
          "hovermode": "closest",
          "mapbox": {
           "style": "light"
          },
          "paper_bgcolor": "white",
          "plot_bgcolor": "#E5ECF6",
          "polar": {
           "angularaxis": {
            "gridcolor": "white",
            "linecolor": "white",
            "ticks": ""
           },
           "bgcolor": "#E5ECF6",
           "radialaxis": {
            "gridcolor": "white",
            "linecolor": "white",
            "ticks": ""
           }
          },
          "scene": {
           "xaxis": {
            "backgroundcolor": "#E5ECF6",
            "gridcolor": "white",
            "gridwidth": 2,
            "linecolor": "white",
            "showbackground": true,
            "ticks": "",
            "zerolinecolor": "white"
           },
           "yaxis": {
            "backgroundcolor": "#E5ECF6",
            "gridcolor": "white",
            "gridwidth": 2,
            "linecolor": "white",
            "showbackground": true,
            "ticks": "",
            "zerolinecolor": "white"
           },
           "zaxis": {
            "backgroundcolor": "#E5ECF6",
            "gridcolor": "white",
            "gridwidth": 2,
            "linecolor": "white",
            "showbackground": true,
            "ticks": "",
            "zerolinecolor": "white"
           }
          },
          "shapedefaults": {
           "line": {
            "color": "#2a3f5f"
           }
          },
          "ternary": {
           "aaxis": {
            "gridcolor": "white",
            "linecolor": "white",
            "ticks": ""
           },
           "baxis": {
            "gridcolor": "white",
            "linecolor": "white",
            "ticks": ""
           },
           "bgcolor": "#E5ECF6",
           "caxis": {
            "gridcolor": "white",
            "linecolor": "white",
            "ticks": ""
           }
          },
          "title": {
           "x": 0.05
          },
          "xaxis": {
           "automargin": true,
           "gridcolor": "white",
           "linecolor": "white",
           "ticks": "",
           "title": {
            "standoff": 15
           },
           "zerolinecolor": "white",
           "zerolinewidth": 2
          },
          "yaxis": {
           "automargin": true,
           "gridcolor": "white",
           "linecolor": "white",
           "ticks": "",
           "title": {
            "standoff": 15
           },
           "zerolinecolor": "white",
           "zerolinewidth": 2
          }
         }
        },
        "title": {
         "text": "Price by Volume"
        }
       }
      }
     },
     "metadata": {},
     "output_type": "display_data"
    }
   ],
   "source": [
    "fig = go.Figure()\n",
    "fig.add_trace(\n",
    "    go.Bar(\n",
    "        y=price_bins[\"close\"],\n",
    "        x=price_bins[\"volume\"],\n",
    "        text=price_bins[\"Percentage\"],\n",
    "        name=\"Total Price by Volume\",\n",
    "        orientation=\"h\",\n",
    "        marker_color=\"orange\",\n",
    "        texttemplate=\"%{text:.2f}% @ %{y}\",\n",
    "        hoverinfo=\"x+y\"\n",
    "    )\n",
    ")\n",
    "fig.update_layout(title = \"Price by Volume\")\n",
    "\n",
    "fig.show()"
   ]
  },
  {
   "cell_type": "code",
   "execution_count": 11,
   "metadata": {},
   "outputs": [
    {
     "data": {
      "image/png": "[encoded data removed]",
      "text/plain": [
       "<IPython.core.display.Image object>"
      ]
     },
     "execution_count": 11,
     "metadata": {},
     "output_type": "execute_result"
    }
   ],
   "source": [
    "# Display Output in production\n",
    "img_bytes = fig.to_image(format=\"png\")\n",
    "from IPython.display import Image\n",
    "Image(img_bytes)"
   ]
  },
  {
   "cell_type": "code",
   "execution_count": 12,
   "metadata": {},
   "outputs": [
    {
     "data": {
      "application/vnd.plotly.v1+json": {
       "config": {
        "plotlyServerURL": "https://plot.ly"
       },
       "data": [
        {
         "close": [
          182.009995
         ],
         "decreasing": {
          "fillcolor": "rgba(255, 0, 0, 0)",
          "line": {
           "color": "red"
          }
         },
         "high": [
          182.880005
         ],
         "increasing": {
          "fillcolor": "rgba(255, 0, 0, 0)",
          "line": {
           "color": "red"
          }
         },
         "legendgroup": "Hollow Candlesticks",
         "low": [
          177.710007
         ],
         "name": "AAPL",
         "open": [
          177.830002
         ],
         "showlegend": true,
         "type": "candlestick",
         "x": [
          3021
         ],
         "xaxis": "x",
         "yaxis": "y"
        },
        {
         "close": [
          179.699997
         ],
         "decreasing": {
          "fillcolor": "red",
          "line": {
           "color": "red"
          }
         },
         "high": [
          182.940002
         ],
         "increasing": {
          "fillcolor": "red",
          "line": {
           "color": "red"
          }
         },
         "legendgroup": "Hollow Candlesticks",
         "low": [
          179.119995
         ],
         "name": "AAPL",
         "open": [
          182.630005
         ],
         "showlegend": false,
         "type": "candlestick",
         "x": [
          3022
         ],
         "xaxis": "x",
         "yaxis": "y"
        },
        {
         "close": [
          174.919998
         ],
         "decreasing": {
          "fillcolor": "red",
          "line": {
           "color": "red"
          }
         },
         "high": [
          180.169998
         ],
         "increasing": {
          "fillcolor": "red",
          "line": {
           "color": "red"
          }
         },
         "legendgroup": "Hollow Candlesticks",
         "low": [
          174.639999
         ],
         "name": "AAPL",
         "open": [
          179.610001
         ],
         "showlegend": false,
         "type": "candlestick",
         "x": [
          3023
         ],
         "xaxis": "x",
         "yaxis": "y"
        },
        {
         "close": [
          172
         ],
         "decreasing": {
          "fillcolor": "red",
          "line": {
           "color": "red"
          }
         },
         "high": [
          175.300003
         ],
         "increasing": {
          "fillcolor": "red",
          "line": {
           "color": "red"
          }
         },
         "legendgroup": "Hollow Candlesticks",
         "low": [
          171.639999
         ],
         "name": "AAPL",
         "open": [
          172.699997
         ],
         "showlegend": false,
         "type": "candlestick",
         "x": [
          3024
         ],
         "xaxis": "x",
         "yaxis": "y"
        },
        {
         "close": [
          172.169998
         ],
         "decreasing": {
          "fillcolor": "green",
          "line": {
           "color": "green"
          }
         },
         "high": [
          174.139999
         ],
         "increasing": {
          "fillcolor": "green",
          "line": {
           "color": "green"
          }
         },
         "legendgroup": "Hollow Candlesticks",
         "low": [
          171.029999
         ],
         "name": "AAPL",
         "open": [
          172.889999
         ],
         "showlegend": false,
         "type": "candlestick",
         "x": [
          3025
         ],
         "xaxis": "x",
         "yaxis": "y"
        },
        {
         "close": [
          172.190002
         ],
         "decreasing": {
          "fillcolor": "rgba(255, 0, 0, 0)",
          "line": {
           "color": "green"
          }
         },
         "high": [
          172.5
         ],
         "increasing": {
          "fillcolor": "rgba(255, 0, 0, 0)",
          "line": {
           "color": "green"
          }
         },
         "legendgroup": "Hollow Candlesticks",
         "low": [
          168.169998
         ],
         "name": "AAPL",
         "open": [
          169.080002
         ],
         "showlegend": false,
         "type": "candlestick",
         "x": [
          3026
         ],
         "xaxis": "x",
         "yaxis": "y"
        },
        {
         "close": [
          175.080002
         ],
         "decreasing": {
          "fillcolor": "rgba(255, 0, 0, 0)",
          "line": {
           "color": "green"
          }
         },
         "high": [
          175.179993
         ],
         "increasing": {
          "fillcolor": "rgba(255, 0, 0, 0)",
          "line": {
           "color": "green"
          }
         },
         "legendgroup": "Hollow Candlesticks",
         "low": [
          170.820007
         ],
         "name": "AAPL",
         "open": [
          172.320007
         ],
         "showlegend": false,
         "type": "candlestick",
         "x": [
          3027
         ],
         "xaxis": "x",
         "yaxis": "y"
        },
        {
         "close": [
          175.529999
         ],
         "decreasing": {
          "fillcolor": "green",
          "line": {
           "color": "green"
          }
         },
         "high": [
          177.179993
         ],
         "increasing": {
          "fillcolor": "green",
          "line": {
           "color": "green"
          }
         },
         "legendgroup": "Hollow Candlesticks",
         "low": [
          174.820007
         ],
         "name": "AAPL",
         "open": [
          176.119995
         ],
         "showlegend": false,
         "type": "candlestick",
         "x": [
          3028
         ],
         "xaxis": "x",
         "yaxis": "y"
        },
        {
         "close": [
          172.190002
         ],
         "decreasing": {
          "fillcolor": "red",
          "line": {
           "color": "red"
          }
         },
         "high": [
          176.619995
         ],
         "increasing": {
          "fillcolor": "red",
          "line": {
           "color": "red"
          }
         },
         "legendgroup": "Hollow Candlesticks",
         "low": [
          171.789993
         ],
         "name": "AAPL",
         "open": [
          175.779999
         ],
         "showlegend": false,
         "type": "candlestick",
         "x": [
          3029
         ],
         "xaxis": "x",
         "yaxis": "y"
        },
        {
         "close": [
          173.070007
         ],
         "decreasing": {
          "fillcolor": "rgba(255, 0, 0, 0)",
          "line": {
           "color": "green"
          }
         },
         "high": [
          173.779999
         ],
         "increasing": {
          "fillcolor": "rgba(255, 0, 0, 0)",
          "line": {
           "color": "green"
          }
         },
         "legendgroup": "Hollow Candlesticks",
         "low": [
          171.089996
         ],
         "name": "AAPL",
         "open": [
          171.339996
         ],
         "showlegend": false,
         "type": "candlestick",
         "x": [
          3030
         ],
         "xaxis": "x",
         "yaxis": "y"
        },
        {
         "close": [
          169.800003
         ],
         "decreasing": {
          "fillcolor": "red",
          "line": {
           "color": "red"
          }
         },
         "high": [
          172.539993
         ],
         "increasing": {
          "fillcolor": "red",
          "line": {
           "color": "red"
          }
         },
         "legendgroup": "Hollow Candlesticks",
         "low": [
          169.410004
         ],
         "name": "AAPL",
         "open": [
          171.509995
         ],
         "showlegend": false,
         "type": "candlestick",
         "x": [
          3031
         ],
         "xaxis": "x",
         "yaxis": "y"
        },
        {
         "close": [
          166.229996
         ],
         "decreasing": {
          "fillcolor": "red",
          "line": {
           "color": "red"
          }
         },
         "high": [
          171.080002
         ],
         "increasing": {
          "fillcolor": "red",
          "line": {
           "color": "red"
          }
         },
         "legendgroup": "Hollow Candlesticks",
         "low": [
          165.940002
         ],
         "name": "AAPL",
         "open": [
          170
         ],
         "showlegend": false,
         "type": "candlestick",
         "x": [
          3032
         ],
         "xaxis": "x",
         "yaxis": "y"
        },
        {
         "close": [
          164.509995
         ],
         "decreasing": {
          "fillcolor": "red",
          "line": {
           "color": "red"
          }
         },
         "high": [
          169.679993
         ],
         "increasing": {
          "fillcolor": "red",
          "line": {
           "color": "red"
          }
         },
         "legendgroup": "Hollow Candlesticks",
         "low": [
          164.179993
         ],
         "name": "AAPL",
         "open": [
          166.979996
         ],
         "showlegend": false,
         "type": "candlestick",
         "x": [
          3033
         ],
         "xaxis": "x",
         "yaxis": "y"
        },
        {
         "close": [
          162.410004
         ],
         "decreasing": {
          "fillcolor": "red",
          "line": {
           "color": "red"
          }
         },
         "high": [
          166.330002
         ],
         "increasing": {
          "fillcolor": "red",
          "line": {
           "color": "red"
          }
         },
         "legendgroup": "Hollow Candlesticks",
         "low": [
          162.300003
         ],
         "name": "AAPL",
         "open": [
          164.419998
         ],
         "showlegend": false,
         "type": "candlestick",
         "x": [
          3034
         ],
         "xaxis": "x",
         "yaxis": "y"
        },
        {
         "close": [
          161.619995
         ],
         "decreasing": {
          "fillcolor": "rgba(255, 0, 0, 0)",
          "line": {
           "color": "red"
          }
         },
         "high": [
          162.300003
         ],
         "increasing": {
          "fillcolor": "rgba(255, 0, 0, 0)",
          "line": {
           "color": "red"
          }
         },
         "legendgroup": "Hollow Candlesticks",
         "low": [
          154.699997
         ],
         "name": "AAPL",
         "open": [
          160.020004
         ],
         "showlegend": false,
         "type": "candlestick",
         "x": [
          3035
         ],
         "xaxis": "x",
         "yaxis": "y"
        },
        {
         "close": [
          159.779999
         ],
         "decreasing": {
          "fillcolor": "rgba(255, 0, 0, 0)",
          "line": {
           "color": "red"
          }
         },
         "high": [
          162.759995
         ],
         "increasing": {
          "fillcolor": "rgba(255, 0, 0, 0)",
          "line": {
           "color": "red"
          }
         },
         "legendgroup": "Hollow Candlesticks",
         "low": [
          157.020004
         ],
         "name": "AAPL",
         "open": [
          158.979996
         ],
         "showlegend": false,
         "type": "candlestick",
         "x": [
          3036
         ],
         "xaxis": "x",
         "yaxis": "y"
        },
        {
         "close": [
          159.690002
         ],
         "decreasing": {
          "fillcolor": "red",
          "line": {
           "color": "red"
          }
         },
         "high": [
          164.389999
         ],
         "increasing": {
          "fillcolor": "red",
          "line": {
           "color": "red"
          }
         },
         "legendgroup": "Hollow Candlesticks",
         "low": [
          157.820007
         ],
         "name": "AAPL",
         "open": [
          163.5
         ],
         "showlegend": false,
         "type": "candlestick",
         "x": [
          3037
         ],
         "xaxis": "x",
         "yaxis": "y"
        },
        {
         "close": [
          159.220001
         ],
         "decreasing": {
          "fillcolor": "red",
          "line": {
           "color": "red"
          }
         },
         "high": [
          163.839996
         ],
         "increasing": {
          "fillcolor": "red",
          "line": {
           "color": "red"
          }
         },
         "legendgroup": "Hollow Candlesticks",
         "low": [
          158.279999
         ],
         "name": "AAPL",
         "open": [
          162.449997
         ],
         "showlegend": false,
         "type": "candlestick",
         "x": [
          3038
         ],
         "xaxis": "x",
         "yaxis": "y"
        },
        {
         "close": [
          170.330002
         ],
         "decreasing": {
          "fillcolor": "rgba(255, 0, 0, 0)",
          "line": {
           "color": "green"
          }
         },
         "high": [
          170.350006
         ],
         "increasing": {
          "fillcolor": "rgba(255, 0, 0, 0)",
          "line": {
           "color": "green"
          }
         },
         "legendgroup": "Hollow Candlesticks",
         "low": [
          162.800003
         ],
         "name": "AAPL",
         "open": [
          165.710007
         ],
         "showlegend": false,
         "type": "candlestick",
         "x": [
          3039
         ],
         "xaxis": "x",
         "yaxis": "y"
        },
        {
         "close": [
          174.779999
         ],
         "decreasing": {
          "fillcolor": "rgba(255, 0, 0, 0)",
          "line": {
           "color": "green"
          }
         },
         "high": [
          175
         ],
         "increasing": {
          "fillcolor": "rgba(255, 0, 0, 0)",
          "line": {
           "color": "green"
          }
         },
         "legendgroup": "Hollow Candlesticks",
         "low": [
          169.509995
         ],
         "name": "AAPL",
         "open": [
          170.160004
         ],
         "showlegend": false,
         "type": "candlestick",
         "x": [
          3040
         ],
         "xaxis": "x",
         "yaxis": "y"
        },
        {
         "close": [
          174.610001
         ],
         "decreasing": {
          "fillcolor": "rgba(255, 0, 0, 0)",
          "line": {
           "color": "red"
          }
         },
         "high": [
          174.839996
         ],
         "increasing": {
          "fillcolor": "rgba(255, 0, 0, 0)",
          "line": {
           "color": "red"
          }
         },
         "legendgroup": "Hollow Candlesticks",
         "low": [
          172.309998
         ],
         "name": "AAPL",
         "open": [
          174.009995
         ],
         "showlegend": false,
         "type": "candlestick",
         "x": [
          3041
         ],
         "xaxis": "x",
         "yaxis": "y"
        },
        {
         "close": [
          175.839996
         ],
         "decreasing": {
          "fillcolor": "rgba(255, 0, 0, 0)",
          "line": {
           "color": "green"
          }
         },
         "high": [
          175.880005
         ],
         "increasing": {
          "fillcolor": "rgba(255, 0, 0, 0)",
          "line": {
           "color": "green"
          }
         },
         "legendgroup": "Hollow Candlesticks",
         "low": [
          173.330002
         ],
         "name": "AAPL",
         "open": [
          174.75
         ],
         "showlegend": false,
         "type": "candlestick",
         "x": [
          3042
         ],
         "xaxis": "x",
         "yaxis": "y"
        },
        {
         "close": [
          172.899994
         ],
         "decreasing": {
          "fillcolor": "red",
          "line": {
           "color": "red"
          }
         },
         "high": [
          176.240005
         ],
         "increasing": {
          "fillcolor": "red",
          "line": {
           "color": "red"
          }
         },
         "legendgroup": "Hollow Candlesticks",
         "low": [
          172.119995
         ],
         "name": "AAPL",
         "open": [
          174.479996
         ],
         "showlegend": false,
         "type": "candlestick",
         "x": [
          3043
         ],
         "xaxis": "x",
         "yaxis": "y"
        },
        {
         "close": [
          172.389999
         ],
         "decreasing": {
          "fillcolor": "rgba(255, 0, 0, 0)",
          "line": {
           "color": "red"
          }
         },
         "high": [
          174.100006
         ],
         "increasing": {
          "fillcolor": "rgba(255, 0, 0, 0)",
          "line": {
           "color": "red"
          }
         },
         "legendgroup": "Hollow Candlesticks",
         "low": [
          170.679993
         ],
         "name": "AAPL",
         "open": [
          171.679993
         ],
         "showlegend": false,
         "type": "candlestick",
         "x": [
          3044
         ],
         "xaxis": "x",
         "yaxis": "y"
        },
        {
         "close": [
          171.660004
         ],
         "decreasing": {
          "fillcolor": "red",
          "line": {
           "color": "red"
          }
         },
         "high": [
          173.949997
         ],
         "increasing": {
          "fillcolor": "red",
          "line": {
           "color": "red"
          }
         },
         "legendgroup": "Hollow Candlesticks",
         "low": [
          170.949997
         ],
         "name": "AAPL",
         "open": [
          172.860001
         ],
         "showlegend": false,
         "type": "candlestick",
         "x": [
          3045
         ],
         "xaxis": "x",
         "yaxis": "y"
        },
        {
         "close": [
          174.830002
         ],
         "decreasing": {
          "fillcolor": "rgba(255, 0, 0, 0)",
          "line": {
           "color": "green"
          }
         },
         "high": [
          175.350006
         ],
         "increasing": {
          "fillcolor": "rgba(255, 0, 0, 0)",
          "line": {
           "color": "green"
          }
         },
         "legendgroup": "Hollow Candlesticks",
         "low": [
          171.429993
         ],
         "name": "AAPL",
         "open": [
          171.729996
         ],
         "showlegend": false,
         "type": "candlestick",
         "x": [
          3046
         ],
         "xaxis": "x",
         "yaxis": "y"
        },
        {
         "close": [
          176.279999
         ],
         "decreasing": {
          "fillcolor": "rgba(255, 0, 0, 0)",
          "line": {
           "color": "green"
          }
         },
         "high": [
          176.649994
         ],
         "increasing": {
          "fillcolor": "rgba(255, 0, 0, 0)",
          "line": {
           "color": "green"
          }
         },
         "legendgroup": "Hollow Candlesticks",
         "low": [
          174.899994
         ],
         "name": "AAPL",
         "open": [
          176.050003
         ],
         "showlegend": false,
         "type": "candlestick",
         "x": [
          3047
         ],
         "xaxis": "x",
         "yaxis": "y"
        },
        {
         "close": [
          172.119995
         ],
         "decreasing": {
          "fillcolor": "red",
          "line": {
           "color": "red"
          }
         },
         "high": [
          175.479996
         ],
         "increasing": {
          "fillcolor": "red",
          "line": {
           "color": "red"
          }
         },
         "legendgroup": "Hollow Candlesticks",
         "low": [
          171.550003
         ],
         "name": "AAPL",
         "open": [
          174.139999
         ],
         "showlegend": false,
         "type": "candlestick",
         "x": [
          3048
         ],
         "xaxis": "x",
         "yaxis": "y"
        },
        {
         "close": [
          168.639999
         ],
         "decreasing": {
          "fillcolor": "red",
          "line": {
           "color": "red"
          }
         },
         "high": [
          173.080002
         ],
         "increasing": {
          "fillcolor": "red",
          "line": {
           "color": "red"
          }
         },
         "legendgroup": "Hollow Candlesticks",
         "low": [
          168.039993
         ],
         "name": "AAPL",
         "open": [
          172.330002
         ],
         "showlegend": false,
         "type": "candlestick",
         "x": [
          3049
         ],
         "xaxis": "x",
         "yaxis": "y"
        },
        {
         "close": [
          168.880005
         ],
         "decreasing": {
          "fillcolor": "rgba(255, 0, 0, 0)",
          "line": {
           "color": "green"
          }
         },
         "high": [
          169.580002
         ],
         "increasing": {
          "fillcolor": "rgba(255, 0, 0, 0)",
          "line": {
           "color": "green"
          }
         },
         "legendgroup": "Hollow Candlesticks",
         "low": [
          166.559998
         ],
         "name": "AAPL",
         "open": [
          167.369995
         ],
         "showlegend": false,
         "type": "candlestick",
         "x": [
          3050
         ],
         "xaxis": "x",
         "yaxis": "y"
        },
        {
         "close": [
          172.789993
         ],
         "decreasing": {
          "fillcolor": "rgba(255, 0, 0, 0)",
          "line": {
           "color": "green"
          }
         },
         "high": [
          172.949997
         ],
         "increasing": {
          "fillcolor": "rgba(255, 0, 0, 0)",
          "line": {
           "color": "green"
          }
         },
         "legendgroup": "Hollow Candlesticks",
         "low": [
          170.25
         ],
         "name": "AAPL",
         "open": [
          170.970001
         ],
         "showlegend": false,
         "type": "candlestick",
         "x": [
          3051
         ],
         "xaxis": "x",
         "yaxis": "y"
        },
        {
         "close": [
          172.550003
         ],
         "decreasing": {
          "fillcolor": "rgba(255, 0, 0, 0)",
          "line": {
           "color": "red"
          }
         },
         "high": [
          173.339996
         ],
         "increasing": {
          "fillcolor": "rgba(255, 0, 0, 0)",
          "line": {
           "color": "red"
          }
         },
         "legendgroup": "Hollow Candlesticks",
         "low": [
          170.050003
         ],
         "name": "AAPL",
         "open": [
          171.850006
         ],
         "showlegend": false,
         "type": "candlestick",
         "x": [
          3052
         ],
         "xaxis": "x",
         "yaxis": "y"
        },
        {
         "close": [
          168.880005
         ],
         "decreasing": {
          "fillcolor": "red",
          "line": {
           "color": "red"
          }
         },
         "high": [
          171.910004
         ],
         "increasing": {
          "fillcolor": "red",
          "line": {
           "color": "red"
          }
         },
         "legendgroup": "Hollow Candlesticks",
         "low": [
          168.470001
         ],
         "name": "AAPL",
         "open": [
          171.029999
         ],
         "showlegend": false,
         "type": "candlestick",
         "x": [
          3053
         ],
         "xaxis": "x",
         "yaxis": "y"
        },
        {
         "close": [
          167.300003
         ],
         "decreasing": {
          "fillcolor": "red",
          "line": {
           "color": "red"
          }
         },
         "high": [
          170.539993
         ],
         "increasing": {
          "fillcolor": "red",
          "line": {
           "color": "red"
          }
         },
         "legendgroup": "Hollow Candlesticks",
         "low": [
          166.190002
         ],
         "name": "AAPL",
         "open": [
          169.820007
         ],
         "showlegend": false,
         "type": "candlestick",
         "x": [
          3054
         ],
         "xaxis": "x",
         "yaxis": "y"
        },
        {
         "close": [
          164.320007
         ],
         "decreasing": {
          "fillcolor": "red",
          "line": {
           "color": "red"
          }
         },
         "high": [
          166.690002
         ],
         "increasing": {
          "fillcolor": "red",
          "line": {
           "color": "red"
          }
         },
         "legendgroup": "Hollow Candlesticks",
         "low": [
          162.149994
         ],
         "name": "AAPL",
         "open": [
          164.979996
         ],
         "showlegend": false,
         "type": "candlestick",
         "x": [
          3055
         ],
         "xaxis": "x",
         "yaxis": "y"
        },
        {
         "close": [
          160.070007
         ],
         "decreasing": {
          "fillcolor": "red",
          "line": {
           "color": "red"
          }
         },
         "high": [
          166.149994
         ],
         "increasing": {
          "fillcolor": "red",
          "line": {
           "color": "red"
          }
         },
         "legendgroup": "Hollow Candlesticks",
         "low": [
          159.75
         ],
         "name": "AAPL",
         "open": [
          165.539993
         ],
         "showlegend": false,
         "type": "candlestick",
         "x": [
          3056
         ],
         "xaxis": "x",
         "yaxis": "y"
        },
        {
         "close": [
          162.740005
         ],
         "decreasing": {
          "fillcolor": "rgba(255, 0, 0, 0)",
          "line": {
           "color": "green"
          }
         },
         "high": [
          162.850006
         ],
         "increasing": {
          "fillcolor": "rgba(255, 0, 0, 0)",
          "line": {
           "color": "green"
          }
         },
         "legendgroup": "Hollow Candlesticks",
         "low": [
          152
         ],
         "name": "AAPL",
         "open": [
          152.580002
         ],
         "showlegend": false,
         "type": "candlestick",
         "x": [
          3057
         ],
         "xaxis": "x",
         "yaxis": "y"
        },
        {
         "close": [
          164.850006
         ],
         "decreasing": {
          "fillcolor": "rgba(255, 0, 0, 0)",
          "line": {
           "color": "green"
          }
         },
         "high": [
          165.119995
         ],
         "increasing": {
          "fillcolor": "rgba(255, 0, 0, 0)",
          "line": {
           "color": "green"
          }
         },
         "legendgroup": "Hollow Candlesticks",
         "low": [
          160.869995
         ],
         "name": "AAPL",
         "open": [
          163.839996
         ],
         "showlegend": false,
         "type": "candlestick",
         "x": [
          3058
         ],
         "xaxis": "x",
         "yaxis": "y"
        },
        {
         "close": [
          165.119995
         ],
         "decreasing": {
          "fillcolor": "rgba(255, 0, 0, 0)",
          "line": {
           "color": "green"
          }
         },
         "high": [
          165.419998
         ],
         "increasing": {
          "fillcolor": "rgba(255, 0, 0, 0)",
          "line": {
           "color": "green"
          }
         },
         "legendgroup": "Hollow Candlesticks",
         "low": [
          162.429993
         ],
         "name": "AAPL",
         "open": [
          163.059998
         ],
         "showlegend": false,
         "type": "candlestick",
         "x": [
          3059
         ],
         "xaxis": "x",
         "yaxis": "y"
        },
        {
         "close": [
          163.199997
         ],
         "decreasing": {
          "fillcolor": "red",
          "line": {
           "color": "red"
          }
         },
         "high": [
          166.600006
         ],
         "increasing": {
          "fillcolor": "red",
          "line": {
           "color": "red"
          }
         },
         "legendgroup": "Hollow Candlesticks",
         "low": [
          161.970001
         ],
         "name": "AAPL",
         "open": [
          164.699997
         ],
         "showlegend": false,
         "type": "candlestick",
         "x": [
          3060
         ],
         "xaxis": "x",
         "yaxis": "y"
        },
        {
         "close": [
          166.559998
         ],
         "decreasing": {
          "fillcolor": "rgba(255, 0, 0, 0)",
          "line": {
           "color": "green"
          }
         },
         "high": [
          167.360001
         ],
         "increasing": {
          "fillcolor": "rgba(255, 0, 0, 0)",
          "line": {
           "color": "green"
          }
         },
         "legendgroup": "Hollow Candlesticks",
         "low": [
          162.949997
         ],
         "name": "AAPL",
         "open": [
          164.389999
         ],
         "showlegend": false,
         "type": "candlestick",
         "x": [
          3061
         ],
         "xaxis": "x",
         "yaxis": "y"
        },
        {
         "close": [
          166.229996
         ],
         "decreasing": {
          "fillcolor": "red",
          "line": {
           "color": "red"
          }
         },
         "high": [
          168.910004
         ],
         "increasing": {
          "fillcolor": "red",
          "line": {
           "color": "red"
          }
         },
         "legendgroup": "Hollow Candlesticks",
         "low": [
          165.550003
         ],
         "name": "AAPL",
         "open": [
          168.470001
         ],
         "showlegend": false,
         "type": "candlestick",
         "x": [
          3062
         ],
         "xaxis": "x",
         "yaxis": "y"
        },
        {
         "close": [
          163.169998
         ],
         "decreasing": {
          "fillcolor": "red",
          "line": {
           "color": "red"
          }
         },
         "high": [
          165.550003
         ],
         "increasing": {
          "fillcolor": "red",
          "line": {
           "color": "red"
          }
         },
         "legendgroup": "Hollow Candlesticks",
         "low": [
          162.100006
         ],
         "name": "AAPL",
         "open": [
          164.490005
         ],
         "showlegend": false,
         "type": "candlestick",
         "x": [
          3063
         ],
         "xaxis": "x",
         "yaxis": "y"
        },
        {
         "close": [
          159.300003
         ],
         "decreasing": {
          "fillcolor": "red",
          "line": {
           "color": "red"
          }
         },
         "high": [
          165.020004
         ],
         "increasing": {
          "fillcolor": "red",
          "line": {
           "color": "red"
          }
         },
         "legendgroup": "Hollow Candlesticks",
         "low": [
          159.039993
         ],
         "name": "AAPL",
         "open": [
          163.360001
         ],
         "showlegend": false,
         "type": "candlestick",
         "x": [
          3064
         ],
         "xaxis": "x",
         "yaxis": "y"
        },
        {
         "close": [
          157.440002
         ],
         "decreasing": {
          "fillcolor": "red",
          "line": {
           "color": "red"
          }
         },
         "high": [
          162.880005
         ],
         "increasing": {
          "fillcolor": "red",
          "line": {
           "color": "red"
          }
         },
         "legendgroup": "Hollow Candlesticks",
         "low": [
          155.800003
         ],
         "name": "AAPL",
         "open": [
          158.820007
         ],
         "showlegend": false,
         "type": "candlestick",
         "x": [
          3065
         ],
         "xaxis": "x",
         "yaxis": "y"
        },
        {
         "close": [
          162.949997
         ],
         "decreasing": {
          "fillcolor": "rgba(255, 0, 0, 0)",
          "line": {
           "color": "green"
          }
         },
         "high": [
          163.410004
         ],
         "increasing": {
          "fillcolor": "rgba(255, 0, 0, 0)",
          "line": {
           "color": "green"
          }
         },
         "legendgroup": "Hollow Candlesticks",
         "low": [
          159.410004
         ],
         "name": "AAPL",
         "open": [
          161.479996
         ],
         "showlegend": false,
         "type": "candlestick",
         "x": [
          3066
         ],
         "xaxis": "x",
         "yaxis": "y"
        },
        {
         "close": [
          158.520004
         ],
         "decreasing": {
          "fillcolor": "red",
          "line": {
           "color": "red"
          }
         },
         "high": [
          160.389999
         ],
         "increasing": {
          "fillcolor": "red",
          "line": {
           "color": "red"
          }
         },
         "legendgroup": "Hollow Candlesticks",
         "low": [
          155.979996
         ],
         "name": "AAPL",
         "open": [
          160.199997
         ],
         "showlegend": false,
         "type": "candlestick",
         "x": [
          3067
         ],
         "xaxis": "x",
         "yaxis": "y"
        },
        {
         "close": [
          154.729996
         ],
         "decreasing": {
          "fillcolor": "red",
          "line": {
           "color": "red"
          }
         },
         "high": [
          159.279999
         ],
         "increasing": {
          "fillcolor": "red",
          "line": {
           "color": "red"
          }
         },
         "legendgroup": "Hollow Candlesticks",
         "low": [
          154.5
         ],
         "name": "AAPL",
         "open": [
          158.929993
         ],
         "showlegend": false,
         "type": "candlestick",
         "x": [
          3068
         ],
         "xaxis": "x",
         "yaxis": "y"
        },
        {
         "close": [
          150.619995
         ],
         "decreasing": {
          "fillcolor": "red",
          "line": {
           "color": "red"
          }
         },
         "high": [
          154.119995
         ],
         "increasing": {
          "fillcolor": "red",
          "line": {
           "color": "red"
          }
         },
         "legendgroup": "Hollow Candlesticks",
         "low": [
          150.100006
         ],
         "name": "AAPL",
         "open": [
          151.449997
         ],
         "showlegend": false,
         "type": "candlestick",
         "x": [
          3069
         ],
         "xaxis": "x",
         "yaxis": "y"
        },
        {
         "close": [
          155.089996
         ],
         "decreasing": {
          "fillcolor": "rgba(255, 0, 0, 0)",
          "line": {
           "color": "green"
          }
         },
         "high": [
          155.570007
         ],
         "increasing": {
          "fillcolor": "rgba(255, 0, 0, 0)",
          "line": {
           "color": "green"
          }
         },
         "legendgroup": "Hollow Candlesticks",
         "low": [
          150.380005
         ],
         "name": "AAPL",
         "open": [
          150.899994
         ],
         "showlegend": false,
         "type": "candlestick",
         "x": [
          3070
         ],
         "xaxis": "x",
         "yaxis": "y"
        },
        {
         "close": [
          159.589996
         ],
         "decreasing": {
          "fillcolor": "rgba(255, 0, 0, 0)",
          "line": {
           "color": "green"
          }
         },
         "high": [
          160
         ],
         "increasing": {
          "fillcolor": "rgba(255, 0, 0, 0)",
          "line": {
           "color": "green"
          }
         },
         "legendgroup": "Hollow Candlesticks",
         "low": [
          154.460007
         ],
         "name": "AAPL",
         "open": [
          157.050003
         ],
         "showlegend": false,
         "type": "candlestick",
         "x": [
          3071
         ],
         "xaxis": "x",
         "yaxis": "y"
        },
        {
         "close": [
          160.619995
         ],
         "decreasing": {
          "fillcolor": "rgba(255, 0, 0, 0)",
          "line": {
           "color": "green"
          }
         },
         "high": [
          161
         ],
         "increasing": {
          "fillcolor": "rgba(255, 0, 0, 0)",
          "line": {
           "color": "green"
          }
         },
         "legendgroup": "Hollow Candlesticks",
         "low": [
          157.630005
         ],
         "name": "AAPL",
         "open": [
          158.610001
         ],
         "showlegend": false,
         "type": "candlestick",
         "x": [
          3072
         ],
         "xaxis": "x",
         "yaxis": "y"
        },
        {
         "close": [
          163.979996
         ],
         "decreasing": {
          "fillcolor": "rgba(255, 0, 0, 0)",
          "line": {
           "color": "green"
          }
         },
         "high": [
          164.479996
         ],
         "increasing": {
          "fillcolor": "rgba(255, 0, 0, 0)",
          "line": {
           "color": "green"
          }
         },
         "legendgroup": "Hollow Candlesticks",
         "low": [
          159.759995
         ],
         "name": "AAPL",
         "open": [
          160.509995
         ],
         "showlegend": false,
         "type": "candlestick",
         "x": [
          3073
         ],
         "xaxis": "x",
         "yaxis": "y"
        },
        {
         "close": [
          165.380005
         ],
         "decreasing": {
          "fillcolor": "rgba(255, 0, 0, 0)",
          "line": {
           "color": "green"
          }
         },
         "high": [
          166.350006
         ],
         "increasing": {
          "fillcolor": "rgba(255, 0, 0, 0)",
          "line": {
           "color": "green"
          }
         },
         "legendgroup": "Hollow Candlesticks",
         "low": [
          163.009995
         ],
         "name": "AAPL",
         "open": [
          163.509995
         ],
         "showlegend": false,
         "type": "candlestick",
         "x": [
          3074
         ],
         "xaxis": "x",
         "yaxis": "y"
        },
        {
         "close": [
          168.820007
         ],
         "decreasing": {
          "fillcolor": "rgba(255, 0, 0, 0)",
          "line": {
           "color": "green"
          }
         },
         "high": [
          169.419998
         ],
         "increasing": {
          "fillcolor": "rgba(255, 0, 0, 0)",
          "line": {
           "color": "green"
          }
         },
         "legendgroup": "Hollow Candlesticks",
         "low": [
          164.910004
         ],
         "name": "AAPL",
         "open": [
          165.509995
         ],
         "showlegend": false,
         "type": "candlestick",
         "x": [
          3075
         ],
         "xaxis": "x",
         "yaxis": "y"
        },
        {
         "close": [
          170.210007
         ],
         "decreasing": {
          "fillcolor": "rgba(255, 0, 0, 0)",
          "line": {
           "color": "green"
          }
         },
         "high": [
          172.639999
         ],
         "increasing": {
          "fillcolor": "rgba(255, 0, 0, 0)",
          "line": {
           "color": "green"
          }
         },
         "legendgroup": "Hollow Candlesticks",
         "low": [
          167.649994
         ],
         "name": "AAPL",
         "open": [
          167.990005
         ],
         "showlegend": false,
         "type": "candlestick",
         "x": [
          3076
         ],
         "xaxis": "x",
         "yaxis": "y"
        },
        {
         "close": [
          174.070007
         ],
         "decreasing": {
          "fillcolor": "rgba(255, 0, 0, 0)",
          "line": {
           "color": "green"
          }
         },
         "high": [
          174.139999
         ],
         "increasing": {
          "fillcolor": "rgba(255, 0, 0, 0)",
          "line": {
           "color": "green"
          }
         },
         "legendgroup": "Hollow Candlesticks",
         "low": [
          170.210007
         ],
         "name": "AAPL",
         "open": [
          171.059998
         ],
         "showlegend": false,
         "type": "candlestick",
         "x": [
          3077
         ],
         "xaxis": "x",
         "yaxis": "y"
        },
        {
         "close": [
          174.720001
         ],
         "decreasing": {
          "fillcolor": "rgba(255, 0, 0, 0)",
          "line": {
           "color": "green"
          }
         },
         "high": [
          175.279999
         ],
         "increasing": {
          "fillcolor": "rgba(255, 0, 0, 0)",
          "line": {
           "color": "green"
          }
         },
         "legendgroup": "Hollow Candlesticks",
         "low": [
          172.75
         ],
         "name": "AAPL",
         "open": [
          173.880005
         ],
         "showlegend": false,
         "type": "candlestick",
         "x": [
          3078
         ],
         "xaxis": "x",
         "yaxis": "y"
        },
        {
         "close": [
          175.600006
         ],
         "decreasing": {
          "fillcolor": "rgba(255, 0, 0, 0)",
          "line": {
           "color": "green"
          }
         },
         "high": [
          175.729996
         ],
         "increasing": {
          "fillcolor": "rgba(255, 0, 0, 0)",
          "line": {
           "color": "green"
          }
         },
         "legendgroup": "Hollow Candlesticks",
         "low": [
          172
         ],
         "name": "AAPL",
         "open": [
          172.169998
         ],
         "showlegend": false,
         "type": "candlestick",
         "x": [
          3079
         ],
         "xaxis": "x",
         "yaxis": "y"
        },
        {
         "close": [
          178.960007
         ],
         "decreasing": {
          "fillcolor": "rgba(255, 0, 0, 0)",
          "line": {
           "color": "green"
          }
         },
         "high": [
          179.009995
         ],
         "increasing": {
          "fillcolor": "rgba(255, 0, 0, 0)",
          "line": {
           "color": "green"
          }
         },
         "legendgroup": "Hollow Candlesticks",
         "low": [
          176.339996
         ],
         "name": "AAPL",
         "open": [
          176.690002
         ],
         "showlegend": false,
         "type": "candlestick",
         "x": [
          3080
         ],
         "xaxis": "x",
         "yaxis": "y"
        },
        {
         "close": [
          177.770004
         ],
         "decreasing": {
          "fillcolor": "red",
          "line": {
           "color": "red"
          }
         },
         "high": [
          179.610001
         ],
         "increasing": {
          "fillcolor": "red",
          "line": {
           "color": "red"
          }
         },
         "legendgroup": "Hollow Candlesticks",
         "low": [
          176.699997
         ],
         "name": "AAPL",
         "open": [
          178.550003
         ],
         "showlegend": false,
         "type": "candlestick",
         "x": [
          3081
         ],
         "xaxis": "x",
         "yaxis": "y"
        },
        {
         "close": [
          174.610001
         ],
         "decreasing": {
          "fillcolor": "red",
          "line": {
           "color": "red"
          }
         },
         "high": [
          178.029999
         ],
         "increasing": {
          "fillcolor": "red",
          "line": {
           "color": "red"
          }
         },
         "legendgroup": "Hollow Candlesticks",
         "low": [
          174.399994
         ],
         "name": "AAPL",
         "open": [
          177.839996
         ],
         "showlegend": false,
         "type": "candlestick",
         "x": [
          3082
         ],
         "xaxis": "x",
         "yaxis": "y"
        },
        {
         "close": [
          174.309998
         ],
         "decreasing": {
          "fillcolor": "rgba(255, 0, 0, 0)",
          "line": {
           "color": "red"
          }
         },
         "high": [
          174.880005
         ],
         "increasing": {
          "fillcolor": "rgba(255, 0, 0, 0)",
          "line": {
           "color": "red"
          }
         },
         "legendgroup": "Hollow Candlesticks",
         "low": [
          171.940002
         ],
         "name": "AAPL",
         "open": [
          174.029999
         ],
         "showlegend": false,
         "type": "candlestick",
         "x": [
          3083
         ],
         "xaxis": "x",
         "yaxis": "y"
        },
        {
         "close": [
          178.440002
         ],
         "decreasing": {
          "fillcolor": "rgba(255, 0, 0, 0)",
          "line": {
           "color": "green"
          }
         },
         "high": [
          178.490005
         ],
         "increasing": {
          "fillcolor": "rgba(255, 0, 0, 0)",
          "line": {
           "color": "green"
          }
         },
         "legendgroup": "Hollow Candlesticks",
         "low": [
          174.440002
         ],
         "name": "AAPL",
         "open": [
          174.570007
         ],
         "showlegend": false,
         "type": "candlestick",
         "x": [
          3084
         ],
         "xaxis": "x",
         "yaxis": "y"
        },
        {
         "close": [
          175.059998
         ],
         "decreasing": {
          "fillcolor": "red",
          "line": {
           "color": "red"
          }
         },
         "high": [
          178.300003
         ],
         "increasing": {
          "fillcolor": "red",
          "line": {
           "color": "red"
          }
         },
         "legendgroup": "Hollow Candlesticks",
         "low": [
          174.419998
         ],
         "name": "AAPL",
         "open": [
          177.5
         ],
         "showlegend": false,
         "type": "candlestick",
         "x": [
          3085
         ],
         "xaxis": "x",
         "yaxis": "y"
        },
        {
         "close": [
          171.830002
         ],
         "decreasing": {
          "fillcolor": "red",
          "line": {
           "color": "red"
          }
         },
         "high": [
          173.630005
         ],
         "increasing": {
          "fillcolor": "red",
          "line": {
           "color": "red"
          }
         },
         "legendgroup": "Hollow Candlesticks",
         "low": [
          170.130005
         ],
         "name": "AAPL",
         "open": [
          172.360001
         ],
         "showlegend": false,
         "type": "candlestick",
         "x": [
          3086
         ],
         "xaxis": "x",
         "yaxis": "y"
        },
        {
         "close": [
          172.139999
         ],
         "decreasing": {
          "fillcolor": "rgba(255, 0, 0, 0)",
          "line": {
           "color": "green"
          }
         },
         "high": [
          173.360001
         ],
         "increasing": {
          "fillcolor": "rgba(255, 0, 0, 0)",
          "line": {
           "color": "green"
          }
         },
         "legendgroup": "Hollow Candlesticks",
         "low": [
          169.850006
         ],
         "name": "AAPL",
         "open": [
          171.160004
         ],
         "showlegend": false,
         "type": "candlestick",
         "x": [
          3087
         ],
         "xaxis": "x",
         "yaxis": "y"
        },
        {
         "close": [
          170.089996
         ],
         "decreasing": {
          "fillcolor": "red",
          "line": {
           "color": "red"
          }
         },
         "high": [
          171.779999
         ],
         "increasing": {
          "fillcolor": "red",
          "line": {
           "color": "red"
          }
         },
         "legendgroup": "Hollow Candlesticks",
         "low": [
          169.199997
         ],
         "name": "AAPL",
         "open": [
          171.779999
         ],
         "showlegend": false,
         "type": "candlestick",
         "x": [
          3088
         ],
         "xaxis": "x",
         "yaxis": "y"
        },
        {
         "close": [
          165.75
         ],
         "decreasing": {
          "fillcolor": "red",
          "line": {
           "color": "red"
          }
         },
         "high": [
          169.029999
         ],
         "increasing": {
          "fillcolor": "red",
          "line": {
           "color": "red"
          }
         },
         "legendgroup": "Hollow Candlesticks",
         "low": [
          165.5
         ],
         "name": "AAPL",
         "open": [
          168.710007
         ],
         "showlegend": false,
         "type": "candlestick",
         "x": [
          3089
         ],
         "xaxis": "x",
         "yaxis": "y"
        },
        {
         "close": [
          167.660004
         ],
         "decreasing": {
          "fillcolor": "green",
          "line": {
           "color": "green"
          }
         },
         "high": [
          169.869995
         ],
         "increasing": {
          "fillcolor": "green",
          "line": {
           "color": "green"
          }
         },
         "legendgroup": "Hollow Candlesticks",
         "low": [
          166.639999
         ],
         "name": "AAPL",
         "open": [
          168.020004
         ],
         "showlegend": false,
         "type": "candlestick",
         "x": [
          3090
         ],
         "xaxis": "x",
         "yaxis": "y"
        },
        {
         "close": [
          170.399994
         ],
         "decreasing": {
          "fillcolor": "rgba(255, 0, 0, 0)",
          "line": {
           "color": "green"
          }
         },
         "high": [
          171.039993
         ],
         "increasing": {
          "fillcolor": "rgba(255, 0, 0, 0)",
          "line": {
           "color": "green"
          }
         },
         "legendgroup": "Hollow Candlesticks",
         "low": [
          166.770004
         ],
         "name": "AAPL",
         "open": [
          167.389999
         ],
         "showlegend": false,
         "type": "candlestick",
         "x": [
          3091
         ],
         "xaxis": "x",
         "yaxis": "y"
        },
        {
         "close": [
          165.289993
         ],
         "decreasing": {
          "fillcolor": "red",
          "line": {
           "color": "red"
          }
         },
         "high": [
          171.270004
         ],
         "increasing": {
          "fillcolor": "red",
          "line": {
           "color": "red"
          }
         },
         "legendgroup": "Hollow Candlesticks",
         "low": [
          165.039993
         ],
         "name": "AAPL",
         "open": [
          170.619995
         ],
         "showlegend": false,
         "type": "candlestick",
         "x": [
          3092
         ],
         "xaxis": "x",
         "yaxis": "y"
        },
        {
         "close": [
          165.070007
         ],
         "decreasing": {
          "fillcolor": "rgba(255, 0, 0, 0)",
          "line": {
           "color": "red"
          }
         },
         "high": [
          166.600006
         ],
         "increasing": {
          "fillcolor": "rgba(255, 0, 0, 0)",
          "line": {
           "color": "red"
          }
         },
         "legendgroup": "Hollow Candlesticks",
         "low": [
          163.570007
         ],
         "name": "AAPL",
         "open": [
          163.919998
         ],
         "showlegend": false,
         "type": "candlestick",
         "x": [
          3093
         ],
         "xaxis": "x",
         "yaxis": "y"
        },
        {
         "close": [
          167.399994
         ],
         "decreasing": {
          "fillcolor": "rgba(255, 0, 0, 0)",
          "line": {
           "color": "green"
          }
         },
         "high": [
          167.820007
         ],
         "increasing": {
          "fillcolor": "rgba(255, 0, 0, 0)",
          "line": {
           "color": "green"
          }
         },
         "legendgroup": "Hollow Candlesticks",
         "low": [
          163.910004
         ],
         "name": "AAPL",
         "open": [
          165.020004
         ],
         "showlegend": false,
         "type": "candlestick",
         "x": [
          3094
         ],
         "xaxis": "x",
         "yaxis": "y"
        },
        {
         "close": [
          167.229996
         ],
         "decreasing": {
          "fillcolor": "red",
          "line": {
           "color": "red"
          }
         },
         "high": [
          168.880005
         ],
         "increasing": {
          "fillcolor": "red",
          "line": {
           "color": "red"
          }
         },
         "legendgroup": "Hollow Candlesticks",
         "low": [
          166.100006
         ],
         "name": "AAPL",
         "open": [
          168.759995
         ],
         "showlegend": false,
         "type": "candlestick",
         "x": [
          3095
         ],
         "xaxis": "x",
         "yaxis": "y"
        },
        {
         "close": [
          166.419998
         ],
         "decreasing": {
          "fillcolor": "red",
          "line": {
           "color": "red"
          }
         },
         "high": [
          171.529999
         ],
         "increasing": {
          "fillcolor": "red",
          "line": {
           "color": "red"
          }
         },
         "legendgroup": "Hollow Candlesticks",
         "low": [
          165.910004
         ],
         "name": "AAPL",
         "open": [
          168.910004
         ],
         "showlegend": false,
         "type": "candlestick",
         "x": [
          3096
         ],
         "xaxis": "x",
         "yaxis": "y"
        },
        {
         "close": [
          161.789993
         ],
         "decreasing": {
          "fillcolor": "red",
          "line": {
           "color": "red"
          }
         },
         "high": [
          167.869995
         ],
         "increasing": {
          "fillcolor": "red",
          "line": {
           "color": "red"
          }
         },
         "legendgroup": "Hollow Candlesticks",
         "low": [
          161.5
         ],
         "name": "AAPL",
         "open": [
          166.460007
         ],
         "showlegend": false,
         "type": "candlestick",
         "x": [
          3097
         ],
         "xaxis": "x",
         "yaxis": "y"
        },
        {
         "close": [
          162.880005
         ],
         "decreasing": {
          "fillcolor": "rgba(255, 0, 0, 0)",
          "line": {
           "color": "green"
          }
         },
         "high": [
          163.169998
         ],
         "increasing": {
          "fillcolor": "rgba(255, 0, 0, 0)",
          "line": {
           "color": "green"
          }
         },
         "legendgroup": "Hollow Candlesticks",
         "low": [
          158.460007
         ],
         "name": "AAPL",
         "open": [
          161.119995
         ],
         "showlegend": false,
         "type": "candlestick",
         "x": [
          3098
         ],
         "xaxis": "x",
         "yaxis": "y"
        },
        {
         "close": [
          156.800003
         ],
         "decreasing": {
          "fillcolor": "red",
          "line": {
           "color": "red"
          }
         },
         "high": [
          162.339996
         ],
         "increasing": {
          "fillcolor": "red",
          "line": {
           "color": "red"
          }
         },
         "legendgroup": "Hollow Candlesticks",
         "low": [
          156.720001
         ],
         "name": "AAPL",
         "open": [
          162.25
         ],
         "showlegend": false,
         "type": "candlestick",
         "x": [
          3099
         ],
         "xaxis": "x",
         "yaxis": "y"
        },
        {
         "close": [
          156.570007
         ],
         "decreasing": {
          "fillcolor": "rgba(255, 0, 0, 0)",
          "line": {
           "color": "red"
          }
         },
         "high": [
          159.789993
         ],
         "increasing": {
          "fillcolor": "rgba(255, 0, 0, 0)",
          "line": {
           "color": "red"
          }
         },
         "legendgroup": "Hollow Candlesticks",
         "low": [
          155.380005
         ],
         "name": "AAPL",
         "open": [
          155.910004
         ],
         "showlegend": false,
         "type": "candlestick",
         "x": [
          3100
         ],
         "xaxis": "x",
         "yaxis": "y"
        },
        {
         "close": [
          163.639999
         ],
         "decreasing": {
          "fillcolor": "rgba(255, 0, 0, 0)",
          "line": {
           "color": "green"
          }
         },
         "high": [
          164.520004
         ],
         "increasing": {
          "fillcolor": "rgba(255, 0, 0, 0)",
          "line": {
           "color": "green"
          }
         },
         "legendgroup": "Hollow Candlesticks",
         "low": [
          158.929993
         ],
         "name": "AAPL",
         "open": [
          159.25
         ],
         "showlegend": false,
         "type": "candlestick",
         "x": [
          3101
         ],
         "xaxis": "x",
         "yaxis": "y"
        },
        {
         "close": [
          157.649994
         ],
         "decreasing": {
          "fillcolor": "red",
          "line": {
           "color": "red"
          }
         },
         "high": [
          166.199997
         ],
         "increasing": {
          "fillcolor": "red",
          "line": {
           "color": "red"
          }
         },
         "legendgroup": "Hollow Candlesticks",
         "low": [
          157.25
         ],
         "name": "AAPL",
         "open": [
          161.839996
         ],
         "showlegend": false,
         "type": "candlestick",
         "x": [
          3102
         ],
         "xaxis": "x",
         "yaxis": "y"
        },
        {
         "close": [
          157.960007
         ],
         "decreasing": {
          "fillcolor": "rgba(255, 0, 0, 0)",
          "line": {
           "color": "green"
          }
         },
         "high": [
          158.229996
         ],
         "increasing": {
          "fillcolor": "rgba(255, 0, 0, 0)",
          "line": {
           "color": "green"
          }
         },
         "legendgroup": "Hollow Candlesticks",
         "low": [
          153.270004
         ],
         "name": "AAPL",
         "open": [
          156.710007
         ],
         "showlegend": false,
         "type": "candlestick",
         "x": [
          3103
         ],
         "xaxis": "x",
         "yaxis": "y"
        },
        {
         "close": [
          159.479996
         ],
         "decreasing": {
          "fillcolor": "rgba(255, 0, 0, 0)",
          "line": {
           "color": "green"
          }
         },
         "high": [
          160.710007
         ],
         "increasing": {
          "fillcolor": "rgba(255, 0, 0, 0)",
          "line": {
           "color": "green"
          }
         },
         "legendgroup": "Hollow Candlesticks",
         "low": [
          156.320007
         ],
         "name": "AAPL",
         "open": [
          158.149994
         ],
         "showlegend": false,
         "type": "candlestick",
         "x": [
          3104
         ],
         "xaxis": "x",
         "yaxis": "y"
        },
        {
         "close": [
          166.020004
         ],
         "decreasing": {
          "fillcolor": "rgba(255, 0, 0, 0)",
          "line": {
           "color": "green"
          }
         },
         "high": [
          166.479996
         ],
         "increasing": {
          "fillcolor": "rgba(255, 0, 0, 0)",
          "line": {
           "color": "green"
          }
         },
         "legendgroup": "Hollow Candlesticks",
         "low": [
          159.259995
         ],
         "name": "AAPL",
         "open": [
          159.669998
         ],
         "showlegend": false,
         "type": "candlestick",
         "x": [
          3105
         ],
         "xaxis": "x",
         "yaxis": "y"
        },
        {
         "close": [
          156.770004
         ],
         "decreasing": {
          "fillcolor": "red",
          "line": {
           "color": "red"
          }
         },
         "high": [
          164.080002
         ],
         "increasing": {
          "fillcolor": "red",
          "line": {
           "color": "red"
          }
         },
         "legendgroup": "Hollow Candlesticks",
         "low": [
          154.949997
         ],
         "name": "AAPL",
         "open": [
          163.850006
         ],
         "showlegend": false,
         "type": "candlestick",
         "x": [
          3106
         ],
         "xaxis": "x",
         "yaxis": "y"
        },
        {
         "close": [
          157.279999
         ],
         "decreasing": {
          "fillcolor": "rgba(255, 0, 0, 0)",
          "line": {
           "color": "green"
          }
         },
         "high": [
          159.440002
         ],
         "increasing": {
          "fillcolor": "rgba(255, 0, 0, 0)",
          "line": {
           "color": "green"
          }
         },
         "legendgroup": "Hollow Candlesticks",
         "low": [
          154.179993
         ],
         "name": "AAPL",
         "open": [
          156.009995
         ],
         "showlegend": false,
         "type": "candlestick",
         "x": [
          3107
         ],
         "xaxis": "x",
         "yaxis": "y"
        },
        {
         "close": [
          152.059998
         ],
         "decreasing": {
          "fillcolor": "red",
          "line": {
           "color": "red"
          }
         },
         "high": [
          155.830002
         ],
         "increasing": {
          "fillcolor": "red",
          "line": {
           "color": "red"
          }
         },
         "legendgroup": "Hollow Candlesticks",
         "low": [
          151.490005
         ],
         "name": "AAPL",
         "open": [
          154.929993
         ],
         "showlegend": false,
         "type": "candlestick",
         "x": [
          3108
         ],
         "xaxis": "x",
         "yaxis": "y"
        },
        {
         "close": [
          154.509995
         ],
         "decreasing": {
          "fillcolor": "green",
          "line": {
           "color": "green"
          }
         },
         "high": [
          156.740005
         ],
         "increasing": {
          "fillcolor": "green",
          "line": {
           "color": "green"
          }
         },
         "legendgroup": "Hollow Candlesticks",
         "low": [
          152.929993
         ],
         "name": "AAPL",
         "open": [
          155.520004
         ],
         "showlegend": false,
         "type": "candlestick",
         "x": [
          3109
         ],
         "xaxis": "x",
         "yaxis": "y"
        },
        {
         "close": [
          146.5
         ],
         "decreasing": {
          "fillcolor": "red",
          "line": {
           "color": "red"
          }
         },
         "high": [
          155.449997
         ],
         "increasing": {
          "fillcolor": "red",
          "line": {
           "color": "red"
          }
         },
         "legendgroup": "Hollow Candlesticks",
         "low": [
          145.809998
         ],
         "name": "AAPL",
         "open": [
          153.5
         ],
         "showlegend": false,
         "type": "candlestick",
         "x": [
          3110
         ],
         "xaxis": "x",
         "yaxis": "y"
        },
        {
         "close": [
          142.559998
         ],
         "decreasing": {
          "fillcolor": "red",
          "line": {
           "color": "red"
          }
         },
         "high": [
          146.199997
         ],
         "increasing": {
          "fillcolor": "red",
          "line": {
           "color": "red"
          }
         },
         "legendgroup": "Hollow Candlesticks",
         "low": [
          138.800003
         ],
         "name": "AAPL",
         "open": [
          142.770004
         ],
         "showlegend": false,
         "type": "candlestick",
         "x": [
          3111
         ],
         "xaxis": "x",
         "yaxis": "y"
        },
        {
         "close": [
          147.110001
         ],
         "decreasing": {
          "fillcolor": "rgba(255, 0, 0, 0)",
          "line": {
           "color": "green"
          }
         },
         "high": [
          148.100006
         ],
         "increasing": {
          "fillcolor": "rgba(255, 0, 0, 0)",
          "line": {
           "color": "green"
          }
         },
         "legendgroup": "Hollow Candlesticks",
         "low": [
          143.110001
         ],
         "name": "AAPL",
         "open": [
          144.589996
         ],
         "showlegend": false,
         "type": "candlestick",
         "x": [
          3112
         ],
         "xaxis": "x",
         "yaxis": "y"
        },
        {
         "close": [
          145.539993
         ],
         "decreasing": {
          "fillcolor": "red",
          "line": {
           "color": "red"
          }
         },
         "high": [
          147.520004
         ],
         "increasing": {
          "fillcolor": "red",
          "line": {
           "color": "red"
          }
         },
         "legendgroup": "Hollow Candlesticks",
         "low": [
          144.179993
         ],
         "name": "AAPL",
         "open": [
          145.550003
         ],
         "showlegend": false,
         "type": "candlestick",
         "x": [
          3113
         ],
         "xaxis": "x",
         "yaxis": "y"
        },
        {
         "close": [
          149.240005
         ],
         "decreasing": {
          "fillcolor": "rgba(255, 0, 0, 0)",
          "line": {
           "color": "green"
          }
         },
         "high": [
          149.770004
         ],
         "increasing": {
          "fillcolor": "rgba(255, 0, 0, 0)",
          "line": {
           "color": "green"
          }
         },
         "legendgroup": "Hollow Candlesticks",
         "low": [
          146.679993
         ],
         "name": "AAPL",
         "open": [
          148.860001
         ],
         "showlegend": false,
         "type": "candlestick",
         "x": [
          3114
         ],
         "xaxis": "x",
         "yaxis": "y"
        },
        {
         "close": [
          140.820007
         ],
         "decreasing": {
          "fillcolor": "red",
          "line": {
           "color": "red"
          }
         },
         "high": [
          147.360001
         ],
         "increasing": {
          "fillcolor": "red",
          "line": {
           "color": "red"
          }
         },
         "legendgroup": "Hollow Candlesticks",
         "low": [
          139.899994
         ],
         "name": "AAPL",
         "open": [
          146.850006
         ],
         "showlegend": false,
         "type": "candlestick",
         "x": [
          3115
         ],
         "xaxis": "x",
         "yaxis": "y"
        },
        {
         "close": [
          137.350006
         ],
         "decreasing": {
          "fillcolor": "red",
          "line": {
           "color": "red"
          }
         },
         "high": [
          141.660004
         ],
         "increasing": {
          "fillcolor": "red",
          "line": {
           "color": "red"
          }
         },
         "legendgroup": "Hollow Candlesticks",
         "low": [
          136.600006
         ],
         "name": "AAPL",
         "open": [
          139.880005
         ],
         "showlegend": false,
         "type": "candlestick",
         "x": [
          3116
         ],
         "xaxis": "x",
         "yaxis": "y"
        },
        {
         "close": [
          137.589996
         ],
         "decreasing": {
          "fillcolor": "green",
          "line": {
           "color": "green"
          }
         },
         "high": [
          140.699997
         ],
         "increasing": {
          "fillcolor": "green",
          "line": {
           "color": "green"
          }
         },
         "legendgroup": "Hollow Candlesticks",
         "low": [
          132.610001
         ],
         "name": "AAPL",
         "open": [
          139.089996
         ],
         "showlegend": false,
         "type": "candlestick",
         "x": [
          3117
         ],
         "xaxis": "x",
         "yaxis": "y"
        },
        {
         "close": [
          143.110001
         ],
         "decreasing": {
          "fillcolor": "rgba(255, 0, 0, 0)",
          "line": {
           "color": "green"
          }
         },
         "high": [
          143.259995
         ],
         "increasing": {
          "fillcolor": "rgba(255, 0, 0, 0)",
          "line": {
           "color": "green"
          }
         },
         "legendgroup": "Hollow Candlesticks",
         "low": [
          137.649994
         ],
         "name": "AAPL",
         "open": [
          137.789993
         ],
         "showlegend": false,
         "type": "candlestick",
         "x": [
          3118
         ],
         "xaxis": "x",
         "yaxis": "y"
        },
        {
         "close": [
          140.360001
         ],
         "decreasing": {
          "fillcolor": "red",
          "line": {
           "color": "red"
          }
         },
         "high": [
          141.970001
         ],
         "increasing": {
          "fillcolor": "red",
          "line": {
           "color": "red"
          }
         },
         "legendgroup": "Hollow Candlesticks",
         "low": [
          137.330002
         ],
         "name": "AAPL",
         "open": [
          140.809998
         ],
         "showlegend": false,
         "type": "candlestick",
         "x": [
          3119
         ],
         "xaxis": "x",
         "yaxis": "y"
        },
        {
         "close": [
          140.520004
         ],
         "decreasing": {
          "fillcolor": "rgba(255, 0, 0, 0)",
          "line": {
           "color": "green"
          }
         },
         "high": [
          141.789993
         ],
         "increasing": {
          "fillcolor": "rgba(255, 0, 0, 0)",
          "line": {
           "color": "green"
          }
         },
         "legendgroup": "Hollow Candlesticks",
         "low": [
          138.339996
         ],
         "name": "AAPL",
         "open": [
          138.429993
         ],
         "showlegend": false,
         "type": "candlestick",
         "x": [
          3120
         ],
         "xaxis": "x",
         "yaxis": "y"
        },
        {
         "close": [
          143.779999
         ],
         "decreasing": {
          "fillcolor": "rgba(255, 0, 0, 0)",
          "line": {
           "color": "green"
          }
         },
         "high": [
          144.339996
         ],
         "increasing": {
          "fillcolor": "rgba(255, 0, 0, 0)",
          "line": {
           "color": "green"
          }
         },
         "legendgroup": "Hollow Candlesticks",
         "low": [
          137.139999
         ],
         "name": "AAPL",
         "open": [
          137.389999
         ],
         "showlegend": false,
         "type": "candlestick",
         "x": [
          3121
         ],
         "xaxis": "x",
         "yaxis": "y"
        },
        {
         "close": [
          149.639999
         ],
         "decreasing": {
          "fillcolor": "rgba(255, 0, 0, 0)",
          "line": {
           "color": "green"
          }
         },
         "high": [
          149.679993
         ],
         "increasing": {
          "fillcolor": "rgba(255, 0, 0, 0)",
          "line": {
           "color": "green"
          }
         },
         "legendgroup": "Hollow Candlesticks",
         "low": [
          145.259995
         ],
         "name": "AAPL",
         "open": [
          145.389999
         ],
         "showlegend": false,
         "type": "candlestick",
         "x": [
          3122
         ],
         "xaxis": "x",
         "yaxis": "y"
        },
        {
         "close": [
          148.839996
         ],
         "decreasing": {
          "fillcolor": "red",
          "line": {
           "color": "red"
          }
         },
         "high": [
          150.660004
         ],
         "increasing": {
          "fillcolor": "red",
          "line": {
           "color": "red"
          }
         },
         "legendgroup": "Hollow Candlesticks",
         "low": [
          146.839996
         ],
         "name": "AAPL",
         "open": [
          149.070007
         ],
         "showlegend": false,
         "type": "candlestick",
         "x": [
          3123
         ],
         "xaxis": "x",
         "yaxis": "y"
        },
        {
         "close": [
          148.710007
         ],
         "decreasing": {
          "fillcolor": "red",
          "line": {
           "color": "red"
          }
         },
         "high": [
          151.740005
         ],
         "increasing": {
          "fillcolor": "red",
          "line": {
           "color": "red"
          }
         },
         "legendgroup": "Hollow Candlesticks",
         "low": [
          147.679993
         ],
         "name": "AAPL",
         "open": [
          149.899994
         ],
         "showlegend": false,
         "type": "candlestick",
         "x": [
          3124
         ],
         "xaxis": "x",
         "yaxis": "y"
        },
        {
         "close": [
          151.210007
         ],
         "decreasing": {
          "fillcolor": "rgba(255, 0, 0, 0)",
          "line": {
           "color": "green"
          }
         },
         "high": [
          151.270004
         ],
         "increasing": {
          "fillcolor": "rgba(255, 0, 0, 0)",
          "line": {
           "color": "green"
          }
         },
         "legendgroup": "Hollow Candlesticks",
         "low": [
          146.860001
         ],
         "name": "AAPL",
         "open": [
          147.830002
         ],
         "showlegend": false,
         "type": "candlestick",
         "x": [
          3125
         ],
         "xaxis": "x",
         "yaxis": "y"
        },
        {
         "close": [
          145.380005
         ],
         "decreasing": {
          "fillcolor": "red",
          "line": {
           "color": "red"
          }
         },
         "high": [
          147.970001
         ],
         "increasing": {
          "fillcolor": "red",
          "line": {
           "color": "red"
          }
         },
         "legendgroup": "Hollow Candlesticks",
         "low": [
          144.460007
         ],
         "name": "AAPL",
         "open": [
          146.899994
         ],
         "showlegend": false,
         "type": "candlestick",
         "x": [
          3126
         ],
         "xaxis": "x",
         "yaxis": "y"
        },
        {
         "close": [
          146.139999
         ],
         "decreasing": {
          "fillcolor": "green",
          "line": {
           "color": "green"
          }
         },
         "high": [
          148.570007
         ],
         "increasing": {
          "fillcolor": "green",
          "line": {
           "color": "green"
          }
         },
         "legendgroup": "Hollow Candlesticks",
         "low": [
          144.899994
         ],
         "name": "AAPL",
         "open": [
          147.029999
         ],
         "showlegend": false,
         "type": "candlestick",
         "x": [
          3127
         ],
         "xaxis": "x",
         "yaxis": "y"
        },
        {
         "close": [
          148.710007
         ],
         "decreasing": {
          "fillcolor": "rgba(255, 0, 0, 0)",
          "line": {
           "color": "green"
          }
         },
         "high": [
          149
         ],
         "increasing": {
          "fillcolor": "rgba(255, 0, 0, 0)",
          "line": {
           "color": "green"
          }
         },
         "legendgroup": "Hollow Candlesticks",
         "low": [
          144.100006
         ],
         "name": "AAPL",
         "open": [
          144.350006
         ],
         "showlegend": false,
         "type": "candlestick",
         "x": [
          3128
         ],
         "xaxis": "x",
         "yaxis": "y"
        },
        {
         "close": [
          147.960007
         ],
         "decreasing": {
          "fillcolor": "red",
          "line": {
           "color": "red"
          }
         },
         "high": [
          149.869995
         ],
         "increasing": {
          "fillcolor": "red",
          "line": {
           "color": "red"
          }
         },
         "legendgroup": "Hollow Candlesticks",
         "low": [
          147.460007
         ],
         "name": "AAPL",
         "open": [
          148.580002
         ],
         "showlegend": false,
         "type": "candlestick",
         "x": [
          3129
         ],
         "xaxis": "x",
         "yaxis": "y"
        },
        {
         "close": [
          142.639999
         ],
         "decreasing": {
          "fillcolor": "red",
          "line": {
           "color": "red"
          }
         },
         "high": [
          147.949997
         ],
         "increasing": {
          "fillcolor": "red",
          "line": {
           "color": "red"
          }
         },
         "legendgroup": "Hollow Candlesticks",
         "low": [
          142.529999
         ],
         "name": "AAPL",
         "open": [
          147.080002
         ],
         "showlegend": false,
         "type": "candlestick",
         "x": [
          3130
         ],
         "xaxis": "x",
         "yaxis": "y"
        },
        {
         "close": [
          137.130005
         ],
         "decreasing": {
          "fillcolor": "red",
          "line": {
           "color": "red"
          }
         },
         "high": [
          140.759995
         ],
         "increasing": {
          "fillcolor": "red",
          "line": {
           "color": "red"
          }
         },
         "legendgroup": "Hollow Candlesticks",
         "low": [
          137.059998
         ],
         "name": "AAPL",
         "open": [
          140.279999
         ],
         "showlegend": false,
         "type": "candlestick",
         "x": [
          3131
         ],
         "xaxis": "x",
         "yaxis": "y"
        },
        {
         "close": [
          131.880005
         ],
         "decreasing": {
          "fillcolor": "red",
          "line": {
           "color": "red"
          }
         },
         "high": [
          135.199997
         ],
         "increasing": {
          "fillcolor": "red",
          "line": {
           "color": "red"
          }
         },
         "legendgroup": "Hollow Candlesticks",
         "low": [
          131.440002
         ],
         "name": "AAPL",
         "open": [
          132.869995
         ],
         "showlegend": false,
         "type": "candlestick",
         "x": [
          3132
         ],
         "xaxis": "x",
         "yaxis": "y"
        },
        {
         "close": [
          132.759995
         ],
         "decreasing": {
          "fillcolor": "green",
          "line": {
           "color": "green"
          }
         },
         "high": [
          133.889999
         ],
         "increasing": {
          "fillcolor": "green",
          "line": {
           "color": "green"
          }
         },
         "legendgroup": "Hollow Candlesticks",
         "low": [
          131.479996
         ],
         "name": "AAPL",
         "open": [
          133.130005
         ],
         "showlegend": false,
         "type": "candlestick",
         "x": [
          3133
         ],
         "xaxis": "x",
         "yaxis": "y"
        },
        {
         "close": [
          135.429993
         ],
         "decreasing": {
          "fillcolor": "rgba(255, 0, 0, 0)",
          "line": {
           "color": "green"
          }
         },
         "high": [
          137.339996
         ],
         "increasing": {
          "fillcolor": "rgba(255, 0, 0, 0)",
          "line": {
           "color": "green"
          }
         },
         "legendgroup": "Hollow Candlesticks",
         "low": [
          132.160004
         ],
         "name": "AAPL",
         "open": [
          134.289993
         ],
         "showlegend": false,
         "type": "candlestick",
         "x": [
          3134
         ],
         "xaxis": "x",
         "yaxis": "y"
        },
        {
         "close": [
          130.059998
         ],
         "decreasing": {
          "fillcolor": "red",
          "line": {
           "color": "red"
          }
         },
         "high": [
          132.389999
         ],
         "increasing": {
          "fillcolor": "red",
          "line": {
           "color": "red"
          }
         },
         "legendgroup": "Hollow Candlesticks",
         "low": [
          129.039993
         ],
         "name": "AAPL",
         "open": [
          132.080002
         ],
         "showlegend": false,
         "type": "candlestick",
         "x": [
          3135
         ],
         "xaxis": "x",
         "yaxis": "y"
        },
        {
         "close": [
          131.559998
         ],
         "decreasing": {
          "fillcolor": "rgba(255, 0, 0, 0)",
          "line": {
           "color": "green"
          }
         },
         "high": [
          133.080002
         ],
         "increasing": {
          "fillcolor": "rgba(255, 0, 0, 0)",
          "line": {
           "color": "green"
          }
         },
         "legendgroup": "Hollow Candlesticks",
         "low": [
          129.809998
         ],
         "name": "AAPL",
         "open": [
          130.070007
         ],
         "showlegend": false,
         "type": "candlestick",
         "x": [
          3136
         ],
         "xaxis": "x",
         "yaxis": "y"
        },
        {
         "close": [
          135.869995
         ],
         "decreasing": {
          "fillcolor": "rgba(255, 0, 0, 0)",
          "line": {
           "color": "green"
          }
         },
         "high": [
          137.059998
         ],
         "increasing": {
          "fillcolor": "rgba(255, 0, 0, 0)",
          "line": {
           "color": "green"
          }
         },
         "legendgroup": "Hollow Candlesticks",
         "low": [
          133.320007
         ],
         "name": "AAPL",
         "open": [
          133.419998
         ],
         "showlegend": false,
         "type": "candlestick",
         "x": [
          3137
         ],
         "xaxis": "x",
         "yaxis": "y"
        },
        {
         "close": [
          135.350006
         ],
         "decreasing": {
          "fillcolor": "rgba(255, 0, 0, 0)",
          "line": {
           "color": "red"
          }
         },
         "high": [
          137.759995
         ],
         "increasing": {
          "fillcolor": "rgba(255, 0, 0, 0)",
          "line": {
           "color": "red"
          }
         },
         "legendgroup": "Hollow Candlesticks",
         "low": [
          133.910004
         ],
         "name": "AAPL",
         "open": [
          134.789993
         ],
         "showlegend": false,
         "type": "candlestick",
         "x": [
          3138
         ],
         "xaxis": "x",
         "yaxis": "y"
        },
        {
         "close": [
          138.270004
         ],
         "decreasing": {
          "fillcolor": "rgba(255, 0, 0, 0)",
          "line": {
           "color": "green"
          }
         },
         "high": [
          138.589996
         ],
         "increasing": {
          "fillcolor": "rgba(255, 0, 0, 0)",
          "line": {
           "color": "green"
          }
         },
         "legendgroup": "Hollow Candlesticks",
         "low": [
          135.630005
         ],
         "name": "AAPL",
         "open": [
          136.820007
         ],
         "showlegend": false,
         "type": "candlestick",
         "x": [
          3139
         ],
         "xaxis": "x",
         "yaxis": "y"
        },
        {
         "close": [
          141.660004
         ],
         "decreasing": {
          "fillcolor": "rgba(255, 0, 0, 0)",
          "line": {
           "color": "green"
          }
         },
         "high": [
          141.910004
         ],
         "increasing": {
          "fillcolor": "rgba(255, 0, 0, 0)",
          "line": {
           "color": "green"
          }
         },
         "legendgroup": "Hollow Candlesticks",
         "low": [
          139.770004
         ],
         "name": "AAPL",
         "open": [
          139.899994
         ],
         "showlegend": false,
         "type": "candlestick",
         "x": [
          3140
         ],
         "xaxis": "x",
         "yaxis": "y"
        },
        {
         "close": [
          141.660004
         ],
         "decreasing": {
          "fillcolor": "red",
          "line": {
           "color": "red"
          }
         },
         "high": [
          143.490005
         ],
         "increasing": {
          "fillcolor": "red",
          "line": {
           "color": "red"
          }
         },
         "legendgroup": "Hollow Candlesticks",
         "low": [
          140.970001
         ],
         "name": "AAPL",
         "open": [
          142.699997
         ],
         "showlegend": false,
         "type": "candlestick",
         "x": [
          3141
         ],
         "xaxis": "x",
         "yaxis": "y"
        },
        {
         "close": [
          137.440002
         ],
         "decreasing": {
          "fillcolor": "red",
          "line": {
           "color": "red"
          }
         },
         "high": [
          143.419998
         ],
         "increasing": {
          "fillcolor": "red",
          "line": {
           "color": "red"
          }
         },
         "legendgroup": "Hollow Candlesticks",
         "low": [
          137.320007
         ],
         "name": "AAPL",
         "open": [
          142.130005
         ],
         "showlegend": false,
         "type": "candlestick",
         "x": [
          3142
         ],
         "xaxis": "x",
         "yaxis": "y"
        },
        {
         "close": [
          139.229996
         ],
         "decreasing": {
          "fillcolor": "rgba(255, 0, 0, 0)",
          "line": {
           "color": "green"
          }
         },
         "high": [
          140.669998
         ],
         "increasing": {
          "fillcolor": "rgba(255, 0, 0, 0)",
          "line": {
           "color": "green"
          }
         },
         "legendgroup": "Hollow Candlesticks",
         "low": [
          136.669998
         ],
         "name": "AAPL",
         "open": [
          137.460007
         ],
         "showlegend": false,
         "type": "candlestick",
         "x": [
          3143
         ],
         "xaxis": "x",
         "yaxis": "y"
        },
        {
         "close": [
          136.720001
         ],
         "decreasing": {
          "fillcolor": "red",
          "line": {
           "color": "red"
          }
         },
         "high": [
          138.369995
         ],
         "increasing": {
          "fillcolor": "red",
          "line": {
           "color": "red"
          }
         },
         "legendgroup": "Hollow Candlesticks",
         "low": [
          133.770004
         ],
         "name": "AAPL",
         "open": [
          137.25
         ],
         "showlegend": false,
         "type": "candlestick",
         "x": [
          3144
         ],
         "xaxis": "x",
         "yaxis": "y"
        },
        {
         "close": [
          138.929993
         ],
         "decreasing": {
          "fillcolor": "rgba(255, 0, 0, 0)",
          "line": {
           "color": "green"
          }
         },
         "high": [
          139.039993
         ],
         "increasing": {
          "fillcolor": "rgba(255, 0, 0, 0)",
          "line": {
           "color": "green"
          }
         },
         "legendgroup": "Hollow Candlesticks",
         "low": [
          135.660004
         ],
         "name": "AAPL",
         "open": [
          136.039993
         ],
         "showlegend": false,
         "type": "candlestick",
         "x": [
          3145
         ],
         "xaxis": "x",
         "yaxis": "y"
        },
        {
         "close": [
          141.559998
         ],
         "decreasing": {
          "fillcolor": "rgba(255, 0, 0, 0)",
          "line": {
           "color": "green"
          }
         },
         "high": [
          141.610001
         ],
         "increasing": {
          "fillcolor": "rgba(255, 0, 0, 0)",
          "line": {
           "color": "green"
          }
         },
         "legendgroup": "Hollow Candlesticks",
         "low": [
          136.929993
         ],
         "name": "AAPL",
         "open": [
          137.770004
         ],
         "showlegend": false,
         "type": "candlestick",
         "x": [
          3146
         ],
         "xaxis": "x",
         "yaxis": "y"
        },
        {
         "close": [
          142.919998
         ],
         "decreasing": {
          "fillcolor": "rgba(255, 0, 0, 0)",
          "line": {
           "color": "green"
          }
         },
         "high": [
          144.119995
         ],
         "increasing": {
          "fillcolor": "rgba(255, 0, 0, 0)",
          "line": {
           "color": "green"
          }
         },
         "legendgroup": "Hollow Candlesticks",
         "low": [
          141.080002
         ],
         "name": "AAPL",
         "open": [
          141.350006
         ],
         "showlegend": false,
         "type": "candlestick",
         "x": [
          3147
         ],
         "xaxis": "x",
         "yaxis": "y"
        },
        {
         "close": [
          146.350006
         ],
         "decreasing": {
          "fillcolor": "rgba(255, 0, 0, 0)",
          "line": {
           "color": "green"
          }
         },
         "high": [
          146.550003
         ],
         "increasing": {
          "fillcolor": "rgba(255, 0, 0, 0)",
          "line": {
           "color": "green"
          }
         },
         "legendgroup": "Hollow Candlesticks",
         "low": [
          143.279999
         ],
         "name": "AAPL",
         "open": [
          143.289993
         ],
         "showlegend": false,
         "type": "candlestick",
         "x": [
          3148
         ],
         "xaxis": "x",
         "yaxis": "y"
        },
        {
         "close": [
          147.039993
         ],
         "decreasing": {
          "fillcolor": "rgba(255, 0, 0, 0)",
          "line": {
           "color": "green"
          }
         },
         "high": [
          147.550003
         ],
         "increasing": {
          "fillcolor": "rgba(255, 0, 0, 0)",
          "line": {
           "color": "green"
          }
         },
         "legendgroup": "Hollow Candlesticks",
         "low": [
          145
         ],
         "name": "AAPL",
         "open": [
          145.259995
         ],
         "showlegend": false,
         "type": "candlestick",
         "x": [
          3149
         ],
         "xaxis": "x",
         "yaxis": "y"
        },
        {
         "close": [
          144.869995
         ],
         "decreasing": {
          "fillcolor": "red",
          "line": {
           "color": "red"
          }
         },
         "high": [
          146.639999
         ],
         "increasing": {
          "fillcolor": "red",
          "line": {
           "color": "red"
          }
         },
         "legendgroup": "Hollow Candlesticks",
         "low": [
          143.779999
         ],
         "name": "AAPL",
         "open": [
          145.669998
         ],
         "showlegend": false,
         "type": "candlestick",
         "x": [
          3150
         ],
         "xaxis": "x",
         "yaxis": "y"
        },
        {
         "close": [
          145.860001
         ],
         "decreasing": {
          "fillcolor": "rgba(255, 0, 0, 0)",
          "line": {
           "color": "green"
          }
         },
         "high": [
          148.449997
         ],
         "increasing": {
          "fillcolor": "rgba(255, 0, 0, 0)",
          "line": {
           "color": "green"
          }
         },
         "legendgroup": "Hollow Candlesticks",
         "low": [
          145.050003
         ],
         "name": "AAPL",
         "open": [
          145.759995
         ],
         "showlegend": false,
         "type": "candlestick",
         "x": [
          3151
         ],
         "xaxis": "x",
         "yaxis": "y"
        },
        {
         "close": [
          145.490005
         ],
         "decreasing": {
          "fillcolor": "rgba(255, 0, 0, 0)",
          "line": {
           "color": "red"
          }
         },
         "high": [
          146.449997
         ],
         "increasing": {
          "fillcolor": "rgba(255, 0, 0, 0)",
          "line": {
           "color": "red"
          }
         },
         "legendgroup": "Hollow Candlesticks",
         "low": [
          142.119995
         ],
         "name": "AAPL",
         "open": [
          142.990005
         ],
         "showlegend": false,
         "type": "candlestick",
         "x": [
          3152
         ],
         "xaxis": "x",
         "yaxis": "y"
        },
        {
         "close": [
          148.470001
         ],
         "decreasing": {
          "fillcolor": "rgba(255, 0, 0, 0)",
          "line": {
           "color": "green"
          }
         },
         "high": [
          148.949997
         ],
         "increasing": {
          "fillcolor": "rgba(255, 0, 0, 0)",
          "line": {
           "color": "green"
          }
         },
         "legendgroup": "Hollow Candlesticks",
         "low": [
          143.25
         ],
         "name": "AAPL",
         "open": [
          144.080002
         ],
         "showlegend": false,
         "type": "candlestick",
         "x": [
          3153
         ],
         "xaxis": "x",
         "yaxis": "y"
        },
        {
         "close": [
          150.169998
         ],
         "decreasing": {
          "fillcolor": "rgba(255, 0, 0, 0)",
          "line": {
           "color": "green"
          }
         },
         "high": [
          150.860001
         ],
         "increasing": {
          "fillcolor": "rgba(255, 0, 0, 0)",
          "line": {
           "color": "green"
          }
         },
         "legendgroup": "Hollow Candlesticks",
         "low": [
          148.199997
         ],
         "name": "AAPL",
         "open": [
          149.779999
         ],
         "showlegend": false,
         "type": "candlestick",
         "x": [
          3154
         ],
         "xaxis": "x",
         "yaxis": "y"
        },
        {
         "close": [
          147.070007
         ],
         "decreasing": {
          "fillcolor": "red",
          "line": {
           "color": "red"
          }
         },
         "high": [
          151.570007
         ],
         "increasing": {
          "fillcolor": "red",
          "line": {
           "color": "red"
          }
         },
         "legendgroup": "Hollow Candlesticks",
         "low": [
          146.699997
         ],
         "name": "AAPL",
         "open": [
          150.740005
         ],
         "showlegend": false,
         "type": "candlestick",
         "x": [
          3155
         ],
         "xaxis": "x",
         "yaxis": "y"
        },
        {
         "close": [
          151
         ],
         "decreasing": {
          "fillcolor": "rgba(255, 0, 0, 0)",
          "line": {
           "color": "green"
          }
         },
         "high": [
          151.229996
         ],
         "increasing": {
          "fillcolor": "rgba(255, 0, 0, 0)",
          "line": {
           "color": "green"
          }
         },
         "legendgroup": "Hollow Candlesticks",
         "low": [
          146.910004
         ],
         "name": "AAPL",
         "open": [
          147.919998
         ],
         "showlegend": false,
         "type": "candlestick",
         "x": [
          3156
         ],
         "xaxis": "x",
         "yaxis": "y"
        },
        {
         "close": [
          153.039993
         ],
         "decreasing": {
          "fillcolor": "rgba(255, 0, 0, 0)",
          "line": {
           "color": "green"
          }
         },
         "high": [
          153.720001
         ],
         "increasing": {
          "fillcolor": "rgba(255, 0, 0, 0)",
          "line": {
           "color": "green"
          }
         },
         "legendgroup": "Hollow Candlesticks",
         "low": [
          150.369995
         ],
         "name": "AAPL",
         "open": [
          151.119995
         ],
         "showlegend": false,
         "type": "candlestick",
         "x": [
          3157
         ],
         "xaxis": "x",
         "yaxis": "y"
        },
        {
         "close": [
          155.350006
         ],
         "decreasing": {
          "fillcolor": "rgba(255, 0, 0, 0)",
          "line": {
           "color": "green"
          }
         },
         "high": [
          155.570007
         ],
         "increasing": {
          "fillcolor": "rgba(255, 0, 0, 0)",
          "line": {
           "color": "green"
          }
         },
         "legendgroup": "Hollow Candlesticks",
         "low": [
          151.940002
         ],
         "name": "AAPL",
         "open": [
          154.5
         ],
         "showlegend": false,
         "type": "candlestick",
         "x": [
          3158
         ],
         "xaxis": "x",
         "yaxis": "y"
        },
        {
         "close": [
          154.089996
         ],
         "decreasing": {
          "fillcolor": "red",
          "line": {
           "color": "red"
          }
         },
         "high": [
          156.279999
         ],
         "increasing": {
          "fillcolor": "red",
          "line": {
           "color": "red"
          }
         },
         "legendgroup": "Hollow Candlesticks",
         "low": [
          153.410004
         ],
         "name": "AAPL",
         "open": [
          155.389999
         ],
         "showlegend": false,
         "type": "candlestick",
         "x": [
          3159
         ],
         "xaxis": "x",
         "yaxis": "y"
        },
        {
         "close": [
          152.949997
         ],
         "decreasing": {
          "fillcolor": "red",
          "line": {
           "color": "red"
          }
         },
         "high": [
          155.039993
         ],
         "increasing": {
          "fillcolor": "red",
          "line": {
           "color": "red"
          }
         },
         "legendgroup": "Hollow Candlesticks",
         "low": [
          152.279999
         ],
         "name": "AAPL",
         "open": [
          154.009995
         ],
         "showlegend": false,
         "type": "candlestick",
         "x": [
          3160
         ],
         "xaxis": "x",
         "yaxis": "y"
        },
        {
         "close": [
          151.600006
         ],
         "decreasing": {
          "fillcolor": "red",
          "line": {
           "color": "red"
          }
         },
         "high": [
          153.089996
         ],
         "increasing": {
          "fillcolor": "red",
          "line": {
           "color": "red"
          }
         },
         "legendgroup": "Hollow Candlesticks",
         "low": [
          150.800003
         ],
         "name": "AAPL",
         "open": [
          152.259995
         ],
         "showlegend": false,
         "type": "candlestick",
         "x": [
          3161
         ],
         "xaxis": "x",
         "yaxis": "y"
        },
        {
         "close": [
          156.789993
         ],
         "decreasing": {
          "fillcolor": "rgba(255, 0, 0, 0)",
          "line": {
           "color": "green"
          }
         },
         "high": [
          157.330002
         ],
         "increasing": {
          "fillcolor": "rgba(255, 0, 0, 0)",
          "line": {
           "color": "green"
          }
         },
         "legendgroup": "Hollow Candlesticks",
         "low": [
          152.160004
         ],
         "name": "AAPL",
         "open": [
          152.580002
         ],
         "showlegend": false,
         "type": "candlestick",
         "x": [
          3162
         ],
         "xaxis": "x",
         "yaxis": "y"
        },
        {
         "close": [
          157.350006
         ],
         "decreasing": {
          "fillcolor": "rgba(255, 0, 0, 0)",
          "line": {
           "color": "green"
          }
         },
         "high": [
          157.639999
         ],
         "increasing": {
          "fillcolor": "rgba(255, 0, 0, 0)",
          "line": {
           "color": "green"
          }
         },
         "legendgroup": "Hollow Candlesticks",
         "low": [
          154.410004
         ],
         "name": "AAPL",
         "open": [
          156.979996
         ],
         "showlegend": false,
         "type": "candlestick",
         "x": [
          3163
         ],
         "xaxis": "x",
         "yaxis": "y"
        },
        {
         "close": [
          162.509995
         ],
         "decreasing": {
          "fillcolor": "rgba(255, 0, 0, 0)",
          "line": {
           "color": "green"
          }
         },
         "high": [
          163.630005
         ],
         "increasing": {
          "fillcolor": "rgba(255, 0, 0, 0)",
          "line": {
           "color": "green"
          }
         },
         "legendgroup": "Hollow Candlesticks",
         "low": [
          159.5
         ],
         "name": "AAPL",
         "open": [
          161.240005
         ],
         "showlegend": false,
         "type": "candlestick",
         "x": [
          3164
         ],
         "xaxis": "x",
         "yaxis": "y"
        },
        {
         "close": [
          161.509995
         ],
         "decreasing": {
          "fillcolor": "rgba(255, 0, 0, 0)",
          "line": {
           "color": "red"
          }
         },
         "high": [
          163.589996
         ],
         "increasing": {
          "fillcolor": "rgba(255, 0, 0, 0)",
          "line": {
           "color": "red"
          }
         },
         "legendgroup": "Hollow Candlesticks",
         "low": [
          160.889999
         ],
         "name": "AAPL",
         "open": [
          161.009995
         ],
         "showlegend": false,
         "type": "candlestick",
         "x": [
          3165
         ],
         "xaxis": "x",
         "yaxis": "y"
        },
        {
         "close": [
          160.009995
         ],
         "decreasing": {
          "fillcolor": "red",
          "line": {
           "color": "red"
          }
         },
         "high": [
          162.410004
         ],
         "increasing": {
          "fillcolor": "red",
          "line": {
           "color": "red"
          }
         },
         "legendgroup": "Hollow Candlesticks",
         "low": [
          159.630005
         ],
         "name": "AAPL",
         "open": [
          160.100006
         ],
         "showlegend": false,
         "type": "candlestick",
         "x": [
          3166
         ],
         "xaxis": "x",
         "yaxis": "y"
        },
        {
         "close": [
          166.130005
         ],
         "decreasing": {
          "fillcolor": "rgba(255, 0, 0, 0)",
          "line": {
           "color": "green"
          }
         },
         "high": [
          166.589996
         ],
         "increasing": {
          "fillcolor": "rgba(255, 0, 0, 0)",
          "line": {
           "color": "green"
          }
         },
         "legendgroup": "Hollow Candlesticks",
         "low": [
          160.75
         ],
         "name": "AAPL",
         "open": [
          160.839996
         ],
         "showlegend": false,
         "type": "candlestick",
         "x": [
          3167
         ],
         "xaxis": "x",
         "yaxis": "y"
        },
        {
         "close": [
          165.809998
         ],
         "decreasing": {
          "fillcolor": "red",
          "line": {
           "color": "red"
          }
         },
         "high": [
          167.190002
         ],
         "increasing": {
          "fillcolor": "red",
          "line": {
           "color": "red"
          }
         },
         "legendgroup": "Hollow Candlesticks",
         "low": [
          164.429993
         ],
         "name": "AAPL",
         "open": [
          166.009995
         ],
         "showlegend": false,
         "type": "candlestick",
         "x": [
          3168
         ],
         "xaxis": "x",
         "yaxis": "y"
        },
        {
         "close": [
          165.350006
         ],
         "decreasing": {
          "fillcolor": "rgba(255, 0, 0, 0)",
          "line": {
           "color": "red"
          }
         },
         "high": [
          165.850006
         ],
         "increasing": {
          "fillcolor": "rgba(255, 0, 0, 0)",
          "line": {
           "color": "red"
          }
         },
         "legendgroup": "Hollow Candlesticks",
         "low": [
          163
         ],
         "name": "AAPL",
         "open": [
          163.210007
         ],
         "showlegend": false,
         "type": "candlestick",
         "x": [
          3169
         ],
         "xaxis": "x",
         "yaxis": "y"
        },
        {
         "close": [
          164.869995
         ],
         "decreasing": {
          "fillcolor": "red",
          "line": {
           "color": "red"
          }
         },
         "high": [
          167.809998
         ],
         "increasing": {
          "fillcolor": "red",
          "line": {
           "color": "red"
          }
         },
         "legendgroup": "Hollow Candlesticks",
         "low": [
          164.199997
         ],
         "name": "AAPL",
         "open": [
          166.369995
         ],
         "showlegend": false,
         "type": "candlestick",
         "x": [
          3170
         ],
         "xaxis": "x",
         "yaxis": "y"
        },
        {
         "close": [
          164.919998
         ],
         "decreasing": {
          "fillcolor": "rgba(255, 0, 0, 0)",
          "line": {
           "color": "green"
          }
         },
         "high": [
          165.820007
         ],
         "increasing": {
          "fillcolor": "rgba(255, 0, 0, 0)",
          "line": {
           "color": "green"
          }
         },
         "legendgroup": "Hollow Candlesticks",
         "low": [
          163.25
         ],
         "name": "AAPL",
         "open": [
          164.020004
         ],
         "showlegend": false,
         "type": "candlestick",
         "x": [
          3171
         ],
         "xaxis": "x",
         "yaxis": "y"
        },
        {
         "close": [
          169.240005
         ],
         "decreasing": {
          "fillcolor": "rgba(255, 0, 0, 0)",
          "line": {
           "color": "green"
          }
         },
         "high": [
          169.339996
         ],
         "increasing": {
          "fillcolor": "rgba(255, 0, 0, 0)",
          "line": {
           "color": "green"
          }
         },
         "legendgroup": "Hollow Candlesticks",
         "low": [
          166.899994
         ],
         "name": "AAPL",
         "open": [
          167.679993
         ],
         "showlegend": false,
         "type": "candlestick",
         "x": [
          3172
         ],
         "xaxis": "x",
         "yaxis": "y"
        },
        {
         "close": [
          168.490005
         ],
         "decreasing": {
          "fillcolor": "red",
          "line": {
           "color": "red"
          }
         },
         "high": [
          170.990005
         ],
         "increasing": {
          "fillcolor": "red",
          "line": {
           "color": "red"
          }
         },
         "legendgroup": "Hollow Candlesticks",
         "low": [
          168.190002
         ],
         "name": "AAPL",
         "open": [
          170.059998
         ],
         "showlegend": false,
         "type": "candlestick",
         "x": [
          3173
         ],
         "xaxis": "x",
         "yaxis": "y"
        },
        {
         "close": [
          172.100006
         ],
         "decreasing": {
          "fillcolor": "rgba(255, 0, 0, 0)",
          "line": {
           "color": "green"
          }
         },
         "high": [
          172.169998
         ],
         "increasing": {
          "fillcolor": "rgba(255, 0, 0, 0)",
          "line": {
           "color": "green"
          }
         },
         "legendgroup": "Hollow Candlesticks",
         "low": [
          169.399994
         ],
         "name": "AAPL",
         "open": [
          169.820007
         ],
         "showlegend": false,
         "type": "candlestick",
         "x": [
          3174
         ],
         "xaxis": "x",
         "yaxis": "y"
        },
        {
         "close": [
          173.190002
         ],
         "decreasing": {
          "fillcolor": "rgba(255, 0, 0, 0)",
          "line": {
           "color": "green"
          }
         },
         "high": [
          173.389999
         ],
         "increasing": {
          "fillcolor": "rgba(255, 0, 0, 0)",
          "line": {
           "color": "green"
          }
         },
         "legendgroup": "Hollow Candlesticks",
         "low": [
          171.350006
         ],
         "name": "AAPL",
         "open": [
          171.520004
         ],
         "showlegend": false,
         "type": "candlestick",
         "x": [
          3175
         ],
         "xaxis": "x",
         "yaxis": "y"
        },
        {
         "close": [
          173.029999
         ],
         "decreasing": {
          "fillcolor": "rgba(255, 0, 0, 0)",
          "line": {
           "color": "red"
          }
         },
         "high": [
          173.710007
         ],
         "increasing": {
          "fillcolor": "rgba(255, 0, 0, 0)",
          "line": {
           "color": "red"
          }
         },
         "legendgroup": "Hollow Candlesticks",
         "low": [
          171.660004
         ],
         "name": "AAPL",
         "open": [
          172.779999
         ],
         "showlegend": false,
         "type": "candlestick",
         "x": [
          3176
         ],
         "xaxis": "x",
         "yaxis": "y"
        },
        {
         "close": [
          174.550003
         ],
         "decreasing": {
          "fillcolor": "rgba(255, 0, 0, 0)",
          "line": {
           "color": "green"
          }
         },
         "high": [
          176.149994
         ],
         "increasing": {
          "fillcolor": "rgba(255, 0, 0, 0)",
          "line": {
           "color": "green"
          }
         },
         "legendgroup": "Hollow Candlesticks",
         "low": [
          172.570007
         ],
         "name": "AAPL",
         "open": [
          172.770004
         ],
         "showlegend": false,
         "type": "candlestick",
         "x": [
          3177
         ],
         "xaxis": "x",
         "yaxis": "y"
        },
        {
         "close": [
          174.149994
         ],
         "decreasing": {
          "fillcolor": "rgba(255, 0, 0, 0)",
          "line": {
           "color": "red"
          }
         },
         "high": [
          174.899994
         ],
         "increasing": {
          "fillcolor": "rgba(255, 0, 0, 0)",
          "line": {
           "color": "red"
          }
         },
         "legendgroup": "Hollow Candlesticks",
         "low": [
          173.119995
         ],
         "name": "AAPL",
         "open": [
          173.75
         ],
         "showlegend": false,
         "type": "candlestick",
         "x": [
          3178
         ],
         "xaxis": "x",
         "yaxis": "y"
        },
        {
         "close": [
          171.520004
         ],
         "decreasing": {
          "fillcolor": "red",
          "line": {
           "color": "red"
          }
         },
         "high": [
          173.740005
         ],
         "increasing": {
          "fillcolor": "red",
          "line": {
           "color": "red"
          }
         },
         "legendgroup": "Hollow Candlesticks",
         "low": [
          171.309998
         ],
         "name": "AAPL",
         "open": [
          173.029999
         ],
         "showlegend": false,
         "type": "candlestick",
         "x": [
          3179
         ],
         "xaxis": "x",
         "yaxis": "y"
        },
        {
         "close": [
          167.570007
         ],
         "decreasing": {
          "fillcolor": "red",
          "line": {
           "color": "red"
          }
         },
         "high": [
          169.860001
         ],
         "increasing": {
          "fillcolor": "red",
          "line": {
           "color": "red"
          }
         },
         "legendgroup": "Hollow Candlesticks",
         "low": [
          167.139999
         ],
         "name": "AAPL",
         "open": [
          169.690002
         ],
         "showlegend": false,
         "type": "candlestick",
         "x": [
          3180
         ],
         "xaxis": "x",
         "yaxis": "y"
        },
        {
         "close": [
          167.229996
         ],
         "decreasing": {
          "fillcolor": "rgba(255, 0, 0, 0)",
          "line": {
           "color": "red"
          }
         },
         "high": [
          168.710007
         ],
         "increasing": {
          "fillcolor": "rgba(255, 0, 0, 0)",
          "line": {
           "color": "red"
          }
         },
         "legendgroup": "Hollow Candlesticks",
         "low": [
          166.649994
         ],
         "name": "AAPL",
         "open": [
          167.080002
         ],
         "showlegend": false,
         "type": "candlestick",
         "x": [
          3181
         ],
         "xaxis": "x",
         "yaxis": "y"
        },
        {
         "close": [
          167.529999
         ],
         "decreasing": {
          "fillcolor": "rgba(255, 0, 0, 0)",
          "line": {
           "color": "green"
          }
         },
         "high": [
          168.110001
         ],
         "increasing": {
          "fillcolor": "rgba(255, 0, 0, 0)",
          "line": {
           "color": "green"
          }
         },
         "legendgroup": "Hollow Candlesticks",
         "low": [
          166.25
         ],
         "name": "AAPL",
         "open": [
          167.320007
         ],
         "showlegend": false,
         "type": "candlestick",
         "x": [
          3182
         ],
         "xaxis": "x",
         "yaxis": "y"
        },
        {
         "close": [
          170.029999
         ],
         "decreasing": {
          "fillcolor": "rgba(255, 0, 0, 0)",
          "line": {
           "color": "green"
          }
         },
         "high": [
          170.139999
         ],
         "increasing": {
          "fillcolor": "rgba(255, 0, 0, 0)",
          "line": {
           "color": "green"
          }
         },
         "legendgroup": "Hollow Candlesticks",
         "low": [
          168.350006
         ],
         "name": "AAPL",
         "open": [
          168.779999
         ],
         "showlegend": false,
         "type": "candlestick",
         "x": [
          3183
         ],
         "xaxis": "x",
         "yaxis": "y"
        },
        {
         "close": [
          163.619995
         ],
         "decreasing": {
          "fillcolor": "red",
          "line": {
           "color": "red"
          }
         },
         "high": [
          171.050003
         ],
         "increasing": {
          "fillcolor": "red",
          "line": {
           "color": "red"
          }
         },
         "legendgroup": "Hollow Candlesticks",
         "low": [
          163.559998
         ],
         "name": "AAPL",
         "open": [
          170.570007
         ],
         "showlegend": false,
         "type": "candlestick",
         "x": [
          3184
         ],
         "xaxis": "x",
         "yaxis": "y"
        },
        {
         "close": [
          161.380005
         ],
         "decreasing": {
          "fillcolor": "rgba(255, 0, 0, 0)",
          "line": {
           "color": "red"
          }
         },
         "high": [
          162.899994
         ],
         "increasing": {
          "fillcolor": "rgba(255, 0, 0, 0)",
          "line": {
           "color": "red"
          }
         },
         "legendgroup": "Hollow Candlesticks",
         "low": [
          159.820007
         ],
         "name": "AAPL",
         "open": [
          161.149994
         ],
         "showlegend": false,
         "type": "candlestick",
         "x": [
          3185
         ],
         "xaxis": "x",
         "yaxis": "y"
        },
        {
         "close": [
          158.910004
         ],
         "decreasing": {
          "fillcolor": "red",
          "line": {
           "color": "red"
          }
         },
         "high": [
          162.559998
         ],
         "increasing": {
          "fillcolor": "red",
          "line": {
           "color": "red"
          }
         },
         "legendgroup": "Hollow Candlesticks",
         "low": [
          157.720001
         ],
         "name": "AAPL",
         "open": [
          162.130005
         ],
         "showlegend": false,
         "type": "candlestick",
         "x": [
          3186
         ],
         "xaxis": "x",
         "yaxis": "y"
        },
        {
         "close": [
          157.220001
         ],
         "decreasing": {
          "fillcolor": "red",
          "line": {
           "color": "red"
          }
         },
         "high": [
          160.580002
         ],
         "increasing": {
          "fillcolor": "red",
          "line": {
           "color": "red"
          }
         },
         "legendgroup": "Hollow Candlesticks",
         "low": [
          157.139999
         ],
         "name": "AAPL",
         "open": [
          160.309998
         ],
         "showlegend": false,
         "type": "candlestick",
         "x": [
          3187
         ],
         "xaxis": "x",
         "yaxis": "y"
        },
        {
         "close": [
          157.960007
         ],
         "decreasing": {
          "fillcolor": "rgba(255, 0, 0, 0)",
          "line": {
           "color": "green"
          }
         },
         "high": [
          158.419998
         ],
         "increasing": {
          "fillcolor": "rgba(255, 0, 0, 0)",
          "line": {
           "color": "green"
          }
         },
         "legendgroup": "Hollow Candlesticks",
         "low": [
          154.669998
         ],
         "name": "AAPL",
         "open": [
          156.639999
         ],
         "showlegend": false,
         "type": "candlestick",
         "x": [
          3188
         ],
         "xaxis": "x",
         "yaxis": "y"
        },
        {
         "close": [
          155.809998
         ],
         "decreasing": {
          "fillcolor": "red",
          "line": {
           "color": "red"
          }
         },
         "high": [
          160.360001
         ],
         "increasing": {
          "fillcolor": "red",
          "line": {
           "color": "red"
          }
         },
         "legendgroup": "Hollow Candlesticks",
         "low": [
          154.970001
         ],
         "name": "AAPL",
         "open": [
          159.75
         ],
         "showlegend": false,
         "type": "candlestick",
         "x": [
          3189
         ],
         "xaxis": "x",
         "yaxis": "y"
        },
        {
         "close": [
          154.529999
         ],
         "decreasing": {
          "fillcolor": "red",
          "line": {
           "color": "red"
          }
         },
         "high": [
          157.089996
         ],
         "increasing": {
          "fillcolor": "red",
          "line": {
           "color": "red"
          }
         },
         "legendgroup": "Hollow Candlesticks",
         "low": [
          153.690002
         ],
         "name": "AAPL",
         "open": [
          156.470001
         ],
         "showlegend": false,
         "type": "candlestick",
         "x": [
          3190
         ],
         "xaxis": "x",
         "yaxis": "y"
        },
        {
         "close": [
          155.960007
         ],
         "decreasing": {
          "fillcolor": "rgba(255, 0, 0, 0)",
          "line": {
           "color": "green"
          }
         },
         "high": [
          156.669998
         ],
         "increasing": {
          "fillcolor": "rgba(255, 0, 0, 0)",
          "line": {
           "color": "green"
          }
         },
         "legendgroup": "Hollow Candlesticks",
         "low": [
          153.610001
         ],
         "name": "AAPL",
         "open": [
          154.820007
         ],
         "showlegend": false,
         "type": "candlestick",
         "x": [
          3191
         ],
         "xaxis": "x",
         "yaxis": "y"
        },
        {
         "close": [
          154.460007
         ],
         "decreasing": {
          "fillcolor": "red",
          "line": {
           "color": "red"
          }
         },
         "high": [
          156.360001
         ],
         "increasing": {
          "fillcolor": "red",
          "line": {
           "color": "red"
          }
         },
         "legendgroup": "Hollow Candlesticks",
         "low": [
          152.679993
         ],
         "name": "AAPL",
         "open": [
          154.639999
         ],
         "showlegend": false,
         "type": "candlestick",
         "x": [
          3192
         ],
         "xaxis": "x",
         "yaxis": "y"
        },
        {
         "close": [
          157.369995
         ],
         "decreasing": {
          "fillcolor": "rgba(255, 0, 0, 0)",
          "line": {
           "color": "green"
          }
         },
         "high": [
          157.820007
         ],
         "increasing": {
          "fillcolor": "rgba(255, 0, 0, 0)",
          "line": {
           "color": "green"
          }
         },
         "legendgroup": "Hollow Candlesticks",
         "low": [
          154.75
         ],
         "name": "AAPL",
         "open": [
          155.470001
         ],
         "showlegend": false,
         "type": "candlestick",
         "x": [
          3193
         ],
         "xaxis": "x",
         "yaxis": "y"
        },
        {
         "close": [
          163.429993
         ],
         "decreasing": {
          "fillcolor": "rgba(255, 0, 0, 0)",
          "line": {
           "color": "green"
          }
         },
         "high": [
          164.259995
         ],
         "increasing": {
          "fillcolor": "rgba(255, 0, 0, 0)",
          "line": {
           "color": "green"
          }
         },
         "legendgroup": "Hollow Candlesticks",
         "low": [
          159.300003
         ],
         "name": "AAPL",
         "open": [
          159.589996
         ],
         "showlegend": false,
         "type": "candlestick",
         "x": [
          3194
         ],
         "xaxis": "x",
         "yaxis": "y"
        },
        {
         "close": [
          153.839996
         ],
         "decreasing": {
          "fillcolor": "red",
          "line": {
           "color": "red"
          }
         },
         "high": [
          160.539993
         ],
         "increasing": {
          "fillcolor": "red",
          "line": {
           "color": "red"
          }
         },
         "legendgroup": "Hollow Candlesticks",
         "low": [
          153.369995
         ],
         "name": "AAPL",
         "open": [
          159.899994
         ],
         "showlegend": false,
         "type": "candlestick",
         "x": [
          3195
         ],
         "xaxis": "x",
         "yaxis": "y"
        },
        {
         "close": [
          155.309998
         ],
         "decreasing": {
          "fillcolor": "rgba(255, 0, 0, 0)",
          "line": {
           "color": "green"
          }
         },
         "high": [
          157.100006
         ],
         "increasing": {
          "fillcolor": "rgba(255, 0, 0, 0)",
          "line": {
           "color": "green"
          }
         },
         "legendgroup": "Hollow Candlesticks",
         "low": [
          153.610001
         ],
         "name": "AAPL",
         "open": [
          154.789993
         ],
         "showlegend": false,
         "type": "candlestick",
         "x": [
          3196
         ],
         "xaxis": "x",
         "yaxis": "y"
        },
        {
         "close": [
          152.369995
         ],
         "decreasing": {
          "fillcolor": "red",
          "line": {
           "color": "red"
          }
         },
         "high": [
          155.240005
         ],
         "increasing": {
          "fillcolor": "red",
          "line": {
           "color": "red"
          }
         },
         "legendgroup": "Hollow Candlesticks",
         "low": [
          151.380005
         ],
         "name": "AAPL",
         "open": [
          154.649994
         ],
         "showlegend": false,
         "type": "candlestick",
         "x": [
          3197
         ],
         "xaxis": "x",
         "yaxis": "y"
        },
        {
         "close": [
          150.699997
         ],
         "decreasing": {
          "fillcolor": "red",
          "line": {
           "color": "red"
          }
         },
         "high": [
          151.350006
         ],
         "increasing": {
          "fillcolor": "red",
          "line": {
           "color": "red"
          }
         },
         "legendgroup": "Hollow Candlesticks",
         "low": [
          148.369995
         ],
         "name": "AAPL",
         "open": [
          151.210007
         ],
         "showlegend": false,
         "type": "candlestick",
         "x": [
          3198
         ],
         "xaxis": "x",
         "yaxis": "y"
        },
        {
         "close": [
          154.479996
         ],
         "decreasing": {
          "fillcolor": "rgba(255, 0, 0, 0)",
          "line": {
           "color": "green"
          }
         },
         "high": [
          154.559998
         ],
         "increasing": {
          "fillcolor": "rgba(255, 0, 0, 0)",
          "line": {
           "color": "green"
          }
         },
         "legendgroup": "Hollow Candlesticks",
         "low": [
          149.100006
         ],
         "name": "AAPL",
         "open": [
          149.309998
         ],
         "showlegend": false,
         "type": "candlestick",
         "x": [
          3199
         ],
         "xaxis": "x",
         "yaxis": "y"
        },
        {
         "close": [
          156.899994
         ],
         "decreasing": {
          "fillcolor": "rgba(255, 0, 0, 0)",
          "line": {
           "color": "green"
          }
         },
         "high": [
          158.080002
         ],
         "increasing": {
          "fillcolor": "rgba(255, 0, 0, 0)",
          "line": {
           "color": "green"
          }
         },
         "legendgroup": "Hollow Candlesticks",
         "low": [
          153.080002
         ],
         "name": "AAPL",
         "open": [
          153.399994
         ],
         "showlegend": false,
         "type": "candlestick",
         "x": [
          3200
         ],
         "xaxis": "x",
         "yaxis": "y"
        },
        {
         "close": [
          153.720001
         ],
         "decreasing": {
          "fillcolor": "red",
          "line": {
           "color": "red"
          }
         },
         "high": [
          158.740005
         ],
         "increasing": {
          "fillcolor": "red",
          "line": {
           "color": "red"
          }
         },
         "legendgroup": "Hollow Candlesticks",
         "low": [
          153.600006
         ],
         "name": "AAPL",
         "open": [
          157.339996
         ],
         "showlegend": false,
         "type": "candlestick",
         "x": [
          3201
         ],
         "xaxis": "x",
         "yaxis": "y"
        },
        {
         "close": [
          152.740005
         ],
         "decreasing": {
          "fillcolor": "rgba(255, 0, 0, 0)",
          "line": {
           "color": "red"
          }
         },
         "high": [
          154.470001
         ],
         "increasing": {
          "fillcolor": "rgba(255, 0, 0, 0)",
          "line": {
           "color": "red"
          }
         },
         "legendgroup": "Hollow Candlesticks",
         "low": [
          150.910004
         ],
         "name": "AAPL",
         "open": [
          152.380005
         ],
         "showlegend": false,
         "type": "candlestick",
         "x": [
          3202
         ],
         "xaxis": "x",
         "yaxis": "y"
        },
        {
         "close": [
          150.429993
         ],
         "decreasing": {
          "fillcolor": "red",
          "line": {
           "color": "red"
          }
         },
         "high": [
          151.470001
         ],
         "increasing": {
          "fillcolor": "red",
          "line": {
           "color": "red"
          }
         },
         "legendgroup": "Hollow Candlesticks",
         "low": [
          148.559998
         ],
         "name": "AAPL",
         "open": [
          151.190002
         ],
         "showlegend": false,
         "type": "candlestick",
         "x": [
          3203
         ],
         "xaxis": "x",
         "yaxis": "y"
        },
        {
         "close": [
          150.770004
         ],
         "decreasing": {
          "fillcolor": "rgba(255, 0, 0, 0)",
          "line": {
           "color": "green"
          }
         },
         "high": [
          153.770004
         ],
         "increasing": {
          "fillcolor": "rgba(255, 0, 0, 0)",
          "line": {
           "color": "green"
          }
         },
         "legendgroup": "Hollow Candlesticks",
         "low": [
          149.639999
         ],
         "name": "AAPL",
         "open": [
          149.660004
         ],
         "showlegend": false,
         "type": "candlestick",
         "x": [
          3204
         ],
         "xaxis": "x",
         "yaxis": "y"
        },
        {
         "close": [
          151.759995
         ],
         "decreasing": {
          "fillcolor": "green",
          "line": {
           "color": "green"
          }
         },
         "high": [
          154.720001
         ],
         "increasing": {
          "fillcolor": "green",
          "line": {
           "color": "green"
          }
         },
         "legendgroup": "Hollow Candlesticks",
         "low": [
          149.949997
         ],
         "name": "AAPL",
         "open": [
          152.740005
         ],
         "showlegend": false,
         "type": "candlestick",
         "x": [
          3205
         ],
         "xaxis": "x",
         "yaxis": "y"
        },
        {
         "close": [
          149.839996
         ],
         "decreasing": {
          "fillcolor": "rgba(255, 0, 0, 0)",
          "line": {
           "color": "red"
          }
         },
         "high": [
          150.639999
         ],
         "increasing": {
          "fillcolor": "rgba(255, 0, 0, 0)",
          "line": {
           "color": "red"
          }
         },
         "legendgroup": "Hollow Candlesticks",
         "low": [
          144.839996
         ],
         "name": "AAPL",
         "open": [
          147.639999
         ],
         "showlegend": false,
         "type": "candlestick",
         "x": [
          3206
         ],
         "xaxis": "x",
         "yaxis": "y"
        },
        {
         "close": [
          142.479996
         ],
         "decreasing": {
          "fillcolor": "red",
          "line": {
           "color": "red"
          }
         },
         "high": [
          146.720001
         ],
         "increasing": {
          "fillcolor": "red",
          "line": {
           "color": "red"
          }
         },
         "legendgroup": "Hollow Candlesticks",
         "low": [
          140.679993
         ],
         "name": "AAPL",
         "open": [
          146.100006
         ],
         "showlegend": false,
         "type": "candlestick",
         "x": [
          3207
         ],
         "xaxis": "x",
         "yaxis": "y"
        },
        {
         "close": [
          138.199997
         ],
         "decreasing": {
          "fillcolor": "red",
          "line": {
           "color": "red"
          }
         },
         "high": [
          143.100006
         ],
         "increasing": {
          "fillcolor": "red",
          "line": {
           "color": "red"
          }
         },
         "legendgroup": "Hollow Candlesticks",
         "low": [
          138
         ],
         "name": "AAPL",
         "open": [
          141.279999
         ],
         "showlegend": false,
         "type": "candlestick",
         "x": [
          3208
         ],
         "xaxis": "x",
         "yaxis": "y"
        },
        {
         "close": [
          142.449997
         ],
         "decreasing": {
          "fillcolor": "rgba(255, 0, 0, 0)",
          "line": {
           "color": "green"
          }
         },
         "high": [
          143.070007
         ],
         "increasing": {
          "fillcolor": "rgba(255, 0, 0, 0)",
          "line": {
           "color": "green"
          }
         },
         "legendgroup": "Hollow Candlesticks",
         "low": [
          137.690002
         ],
         "name": "AAPL",
         "open": [
          138.210007
         ],
         "showlegend": false,
         "type": "candlestick",
         "x": [
          3209
         ],
         "xaxis": "x",
         "yaxis": "y"
        },
        {
         "close": [
          146.100006
         ],
         "decreasing": {
          "fillcolor": "rgba(255, 0, 0, 0)",
          "line": {
           "color": "green"
          }
         },
         "high": [
          146.220001
         ],
         "increasing": {
          "fillcolor": "rgba(255, 0, 0, 0)",
          "line": {
           "color": "green"
          }
         },
         "legendgroup": "Hollow Candlesticks",
         "low": [
          144.259995
         ],
         "name": "AAPL",
         "open": [
          145.029999
         ],
         "showlegend": false,
         "type": "candlestick",
         "x": [
          3210
         ],
         "xaxis": "x",
         "yaxis": "y"
        },
        {
         "close": [
          146.399994
         ],
         "decreasing": {
          "fillcolor": "rgba(255, 0, 0, 0)",
          "line": {
           "color": "green"
          }
         },
         "high": [
          147.380005
         ],
         "increasing": {
          "fillcolor": "rgba(255, 0, 0, 0)",
          "line": {
           "color": "green"
          }
         },
         "legendgroup": "Hollow Candlesticks",
         "low": [
          143.009995
         ],
         "name": "AAPL",
         "open": [
          144.070007
         ],
         "showlegend": false,
         "type": "candlestick",
         "x": [
          3211
         ],
         "xaxis": "x",
         "yaxis": "y"
        },
        {
         "close": [
          145.429993
         ],
         "decreasing": {
          "fillcolor": "red",
          "line": {
           "color": "red"
          }
         },
         "high": [
          147.539993
         ],
         "increasing": {
          "fillcolor": "red",
          "line": {
           "color": "red"
          }
         },
         "legendgroup": "Hollow Candlesticks",
         "low": [
          145.220001
         ],
         "name": "AAPL",
         "open": [
          145.809998
         ],
         "showlegend": false,
         "type": "candlestick",
         "x": [
          3212
         ],
         "xaxis": "x",
         "yaxis": "y"
        },
        {
         "close": [
          140.089996
         ],
         "decreasing": {
          "fillcolor": "red",
          "line": {
           "color": "red"
          }
         },
         "high": [
          143.100006
         ],
         "increasing": {
          "fillcolor": "red",
          "line": {
           "color": "red"
          }
         },
         "legendgroup": "Hollow Candlesticks",
         "low": [
          139.449997
         ],
         "name": "AAPL",
         "open": [
          142.539993
         ],
         "showlegend": false,
         "type": "candlestick",
         "x": [
          3213
         ],
         "xaxis": "x",
         "yaxis": "y"
        },
        {
         "close": [
          140.419998
         ],
         "decreasing": {
          "fillcolor": "green",
          "line": {
           "color": "green"
          }
         },
         "high": [
          141.889999
         ],
         "increasing": {
          "fillcolor": "green",
          "line": {
           "color": "green"
          }
         },
         "legendgroup": "Hollow Candlesticks",
         "low": [
          138.570007
         ],
         "name": "AAPL",
         "open": [
          140.419998
         ],
         "showlegend": false,
         "type": "candlestick",
         "x": [
          3214
         ],
         "xaxis": "x",
         "yaxis": "y"
        },
        {
         "close": [
          138.979996
         ],
         "decreasing": {
          "fillcolor": "red",
          "line": {
           "color": "red"
          }
         },
         "high": [
          141.350006
         ],
         "increasing": {
          "fillcolor": "red",
          "line": {
           "color": "red"
          }
         },
         "legendgroup": "Hollow Candlesticks",
         "low": [
          138.220001
         ],
         "name": "AAPL",
         "open": [
          139.899994
         ],
         "showlegend": false,
         "type": "candlestick",
         "x": [
          3215
         ],
         "xaxis": "x",
         "yaxis": "y"
        },
        {
         "close": [
          138.339996
         ],
         "decreasing": {
          "fillcolor": "red",
          "line": {
           "color": "red"
          }
         },
         "high": [
          140.360001
         ],
         "increasing": {
          "fillcolor": "red",
          "line": {
           "color": "red"
          }
         },
         "legendgroup": "Hollow Candlesticks",
         "low": [
          138.160004
         ],
         "name": "AAPL",
         "open": [
          139.130005
         ],
         "showlegend": false,
         "type": "candlestick",
         "x": [
          3216
         ],
         "xaxis": "x",
         "yaxis": "y"
        },
        {
         "close": [
          142.990005
         ],
         "decreasing": {
          "fillcolor": "rgba(255, 0, 0, 0)",
          "line": {
           "color": "green"
          }
         },
         "high": [
          143.589996
         ],
         "increasing": {
          "fillcolor": "rgba(255, 0, 0, 0)",
          "line": {
           "color": "green"
          }
         },
         "legendgroup": "Hollow Candlesticks",
         "low": [
          134.369995
         ],
         "name": "AAPL",
         "open": [
          134.990005
         ],
         "showlegend": false,
         "type": "candlestick",
         "x": [
          3217
         ],
         "xaxis": "x",
         "yaxis": "y"
        },
        {
         "close": [
          138.380005
         ],
         "decreasing": {
          "fillcolor": "red",
          "line": {
           "color": "red"
          }
         },
         "high": [
          144.520004
         ],
         "increasing": {
          "fillcolor": "red",
          "line": {
           "color": "red"
          }
         },
         "legendgroup": "Hollow Candlesticks",
         "low": [
          138.190002
         ],
         "name": "AAPL",
         "open": [
          144.309998
         ],
         "showlegend": false,
         "type": "candlestick",
         "x": [
          3218
         ],
         "xaxis": "x",
         "yaxis": "y"
        },
        {
         "close": [
          142.410004
         ],
         "decreasing": {
          "fillcolor": "rgba(255, 0, 0, 0)",
          "line": {
           "color": "green"
          }
         },
         "high": [
          142.899994
         ],
         "increasing": {
          "fillcolor": "rgba(255, 0, 0, 0)",
          "line": {
           "color": "green"
          }
         },
         "legendgroup": "Hollow Candlesticks",
         "low": [
          140.270004
         ],
         "name": "AAPL",
         "open": [
          141.070007
         ],
         "showlegend": false,
         "type": "candlestick",
         "x": [
          3219
         ],
         "xaxis": "x",
         "yaxis": "y"
        },
        {
         "close": [
          143.75
         ],
         "decreasing": {
          "fillcolor": "green",
          "line": {
           "color": "green"
          }
         },
         "high": [
          146.699997
         ],
         "increasing": {
          "fillcolor": "green",
          "line": {
           "color": "green"
          }
         },
         "legendgroup": "Hollow Candlesticks",
         "low": [
          140.610001
         ],
         "name": "AAPL",
         "open": [
          145.490005
         ],
         "showlegend": false,
         "type": "candlestick",
         "x": [
          3220
         ],
         "xaxis": "x",
         "yaxis": "y"
        },
        {
         "close": [
          143.860001
         ],
         "decreasing": {
          "fillcolor": "rgba(255, 0, 0, 0)",
          "line": {
           "color": "green"
          }
         },
         "high": [
          144.949997
         ],
         "increasing": {
          "fillcolor": "rgba(255, 0, 0, 0)",
          "line": {
           "color": "green"
          }
         },
         "legendgroup": "Hollow Candlesticks",
         "low": [
          141.5
         ],
         "name": "AAPL",
         "open": [
          141.690002
         ],
         "showlegend": false,
         "type": "candlestick",
         "x": [
          3221
         ],
         "xaxis": "x",
         "yaxis": "y"
        },
        {
         "close": [
          143.389999
         ],
         "decreasing": {
          "fillcolor": "rgba(255, 0, 0, 0)",
          "line": {
           "color": "red"
          }
         },
         "high": [
          145.889999
         ],
         "increasing": {
          "fillcolor": "rgba(255, 0, 0, 0)",
          "line": {
           "color": "red"
          }
         },
         "legendgroup": "Hollow Candlesticks",
         "low": [
          142.649994
         ],
         "name": "AAPL",
         "open": [
          143.020004
         ],
         "showlegend": false,
         "type": "candlestick",
         "x": [
          3222
         ],
         "xaxis": "x",
         "yaxis": "y"
        },
        {
         "close": [
          147.270004
         ],
         "decreasing": {
          "fillcolor": "rgba(255, 0, 0, 0)",
          "line": {
           "color": "green"
          }
         },
         "high": [
          147.850006
         ],
         "increasing": {
          "fillcolor": "rgba(255, 0, 0, 0)",
          "line": {
           "color": "green"
          }
         },
         "legendgroup": "Hollow Candlesticks",
         "low": [
          142.649994
         ],
         "name": "AAPL",
         "open": [
          142.869995
         ],
         "showlegend": false,
         "type": "candlestick",
         "x": [
          3223
         ],
         "xaxis": "x",
         "yaxis": "y"
        },
        {
         "close": [
          149.449997
         ],
         "decreasing": {
          "fillcolor": "rgba(255, 0, 0, 0)",
          "line": {
           "color": "green"
          }
         },
         "high": [
          150.229996
         ],
         "increasing": {
          "fillcolor": "rgba(255, 0, 0, 0)",
          "line": {
           "color": "green"
          }
         },
         "legendgroup": "Hollow Candlesticks",
         "low": [
          146
         ],
         "name": "AAPL",
         "open": [
          147.190002
         ],
         "showlegend": false,
         "type": "candlestick",
         "x": [
          3224
         ],
         "xaxis": "x",
         "yaxis": "y"
        },
        {
         "close": [
          152.339996
         ],
         "decreasing": {
          "fillcolor": "rgba(255, 0, 0, 0)",
          "line": {
           "color": "green"
          }
         },
         "high": [
          152.490005
         ],
         "increasing": {
          "fillcolor": "rgba(255, 0, 0, 0)",
          "line": {
           "color": "green"
          }
         },
         "legendgroup": "Hollow Candlesticks",
         "low": [
          149.360001
         ],
         "name": "AAPL",
         "open": [
          150.089996
         ],
         "showlegend": false,
         "type": "candlestick",
         "x": [
          3225
         ],
         "xaxis": "x",
         "yaxis": "y"
        },
        {
         "close": [
          149.350006
         ],
         "decreasing": {
          "fillcolor": "red",
          "line": {
           "color": "red"
          }
         },
         "high": [
          151.990005
         ],
         "increasing": {
          "fillcolor": "red",
          "line": {
           "color": "red"
          }
         },
         "legendgroup": "Hollow Candlesticks",
         "low": [
          148.039993
         ],
         "name": "AAPL",
         "open": [
          150.960007
         ],
         "showlegend": false,
         "type": "candlestick",
         "x": [
          3226
         ],
         "xaxis": "x",
         "yaxis": "y"
        },
        {
         "close": [
          144.800003
         ],
         "decreasing": {
          "fillcolor": "red",
          "line": {
           "color": "red"
          }
         },
         "high": [
          149.050003
         ],
         "increasing": {
          "fillcolor": "red",
          "line": {
           "color": "red"
          }
         },
         "legendgroup": "Hollow Candlesticks",
         "low": [
          144.130005
         ],
         "name": "AAPL",
         "open": [
          148.070007
         ],
         "showlegend": false,
         "type": "candlestick",
         "x": [
          3227
         ],
         "xaxis": "x",
         "yaxis": "y"
        },
        {
         "close": [
          155.740005
         ],
         "decreasing": {
          "fillcolor": "rgba(255, 0, 0, 0)",
          "line": {
           "color": "green"
          }
         },
         "high": [
          157.5
         ],
         "increasing": {
          "fillcolor": "rgba(255, 0, 0, 0)",
          "line": {
           "color": "green"
          }
         },
         "legendgroup": "Hollow Candlesticks",
         "low": [
          147.820007
         ],
         "name": "AAPL",
         "open": [
          148.199997
         ],
         "showlegend": false,
         "type": "candlestick",
         "x": [
          3228
         ],
         "xaxis": "x",
         "yaxis": "y"
        },
        {
         "close": [
          153.339996
         ],
         "decreasing": {
          "fillcolor": "rgba(255, 0, 0, 0)",
          "line": {
           "color": "red"
          }
         },
         "high": [
          154.240005
         ],
         "increasing": {
          "fillcolor": "rgba(255, 0, 0, 0)",
          "line": {
           "color": "red"
          }
         },
         "legendgroup": "Hollow Candlesticks",
         "low": [
          151.919998
         ],
         "name": "AAPL",
         "open": [
          153.160004
         ],
         "showlegend": false,
         "type": "candlestick",
         "x": [
          3229
         ],
         "xaxis": "x",
         "yaxis": "y"
        },
        {
         "close": [
          150.649994
         ],
         "decreasing": {
          "fillcolor": "red",
          "line": {
           "color": "red"
          }
         },
         "high": [
          155.449997
         ],
         "increasing": {
          "fillcolor": "red",
          "line": {
           "color": "red"
          }
         },
         "legendgroup": "Hollow Candlesticks",
         "low": [
          149.130005
         ],
         "name": "AAPL",
         "open": [
          155.080002
         ],
         "showlegend": false,
         "type": "candlestick",
         "x": [
          3230
         ],
         "xaxis": "x",
         "yaxis": "y"
        },
        {
         "close": [
          145.029999
         ],
         "decreasing": {
          "fillcolor": "red",
          "line": {
           "color": "red"
          }
         },
         "high": [
          152.169998
         ],
         "increasing": {
          "fillcolor": "red",
          "line": {
           "color": "red"
          }
         },
         "legendgroup": "Hollow Candlesticks",
         "low": [
          145
         ],
         "name": "AAPL",
         "open": [
          148.949997
         ],
         "showlegend": false,
         "type": "candlestick",
         "x": [
          3231
         ],
         "xaxis": "x",
         "yaxis": "y"
        },
        {
         "close": [
          138.880005
         ],
         "decreasing": {
          "fillcolor": "red",
          "line": {
           "color": "red"
          }
         },
         "high": [
          142.800003
         ],
         "increasing": {
          "fillcolor": "red",
          "line": {
           "color": "red"
          }
         },
         "legendgroup": "Hollow Candlesticks",
         "low": [
          138.75
         ],
         "name": "AAPL",
         "open": [
          142.059998
         ],
         "showlegend": false,
         "type": "candlestick",
         "x": [
          3232
         ],
         "xaxis": "x",
         "yaxis": "y"
        },
        {
         "close": [
          138.380005
         ],
         "decreasing": {
          "fillcolor": "red",
          "line": {
           "color": "red"
          }
         },
         "high": [
          142.669998
         ],
         "increasing": {
          "fillcolor": "red",
          "line": {
           "color": "red"
          }
         },
         "legendgroup": "Hollow Candlesticks",
         "low": [
          134.380005
         ],
         "name": "AAPL",
         "open": [
          142.089996
         ],
         "showlegend": false,
         "type": "candlestick",
         "x": [
          3233
         ],
         "xaxis": "x",
         "yaxis": "y"
        },
        {
         "close": [
          138.919998
         ],
         "decreasing": {
          "fillcolor": "rgba(255, 0, 0, 0)",
          "line": {
           "color": "green"
          }
         },
         "high": [
          139.149994
         ],
         "increasing": {
          "fillcolor": "rgba(255, 0, 0, 0)",
          "line": {
           "color": "green"
          }
         },
         "legendgroup": "Hollow Candlesticks",
         "low": [
          135.669998
         ],
         "name": "AAPL",
         "open": [
          137.110001
         ],
         "showlegend": false,
         "type": "candlestick",
         "x": [
          3234
         ],
         "xaxis": "x",
         "yaxis": "y"
        },
        {
         "close": [
          139.5
         ],
         "decreasing": {
          "fillcolor": "green",
          "line": {
           "color": "green"
          }
         },
         "high": [
          141.429993
         ],
         "increasing": {
          "fillcolor": "green",
          "line": {
           "color": "green"
          }
         },
         "legendgroup": "Hollow Candlesticks",
         "low": [
          137.490005
         ],
         "name": "AAPL",
         "open": [
          140.410004
         ],
         "showlegend": false,
         "type": "candlestick",
         "x": [
          3235
         ],
         "xaxis": "x",
         "yaxis": "y"
        },
        {
         "close": [
          134.869995
         ],
         "decreasing": {
          "fillcolor": "red",
          "line": {
           "color": "red"
          }
         },
         "high": [
          138.550003
         ],
         "increasing": {
          "fillcolor": "red",
          "line": {
           "color": "red"
          }
         },
         "legendgroup": "Hollow Candlesticks",
         "low": [
          134.589996
         ],
         "name": "AAPL",
         "open": [
          138.5
         ],
         "showlegend": false,
         "type": "candlestick",
         "x": [
          3236
         ],
         "xaxis": "x",
         "yaxis": "y"
        },
        {
         "close": [
          146.869995
         ],
         "decreasing": {
          "fillcolor": "rgba(255, 0, 0, 0)",
          "line": {
           "color": "green"
          }
         },
         "high": [
          146.869995
         ],
         "increasing": {
          "fillcolor": "rgba(255, 0, 0, 0)",
          "line": {
           "color": "green"
          }
         },
         "legendgroup": "Hollow Candlesticks",
         "low": [
          139.5
         ],
         "name": "AAPL",
         "open": [
          141.240005
         ],
         "showlegend": false,
         "type": "candlestick",
         "x": [
          3237
         ],
         "xaxis": "x",
         "yaxis": "y"
        },
        {
         "close": [
          149.699997
         ],
         "decreasing": {
          "fillcolor": "rgba(255, 0, 0, 0)",
          "line": {
           "color": "green"
          }
         },
         "high": [
          150.009995
         ],
         "increasing": {
          "fillcolor": "rgba(255, 0, 0, 0)",
          "line": {
           "color": "green"
          }
         },
         "legendgroup": "Hollow Candlesticks",
         "low": [
          144.369995
         ],
         "name": "AAPL",
         "open": [
          145.820007
         ],
         "showlegend": false,
         "type": "candlestick",
         "x": [
          3238
         ],
         "xaxis": "x",
         "yaxis": "y"
        },
        {
         "close": [
          148.279999
         ],
         "decreasing": {
          "fillcolor": "red",
          "line": {
           "color": "red"
          }
         },
         "high": [
          150.279999
         ],
         "increasing": {
          "fillcolor": "red",
          "line": {
           "color": "red"
          }
         },
         "legendgroup": "Hollow Candlesticks",
         "low": [
          147.429993
         ],
         "name": "AAPL",
         "open": [
          148.970001
         ],
         "showlegend": false,
         "type": "candlestick",
         "x": [
          3239
         ],
         "xaxis": "x",
         "yaxis": "y"
        },
        {
         "close": [
          150.039993
         ],
         "decreasing": {
          "fillcolor": "green",
          "line": {
           "color": "green"
          }
         },
         "high": [
          153.589996
         ],
         "increasing": {
          "fillcolor": "green",
          "line": {
           "color": "green"
          }
         },
         "legendgroup": "Hollow Candlesticks",
         "low": [
          148.559998
         ],
         "name": "AAPL",
         "open": [
          152.220001
         ],
         "showlegend": false,
         "type": "candlestick",
         "x": [
          3240
         ],
         "xaxis": "x",
         "yaxis": "y"
        },
        {
         "close": [
          148.789993
         ],
         "decreasing": {
          "fillcolor": "red",
          "line": {
           "color": "red"
          }
         },
         "high": [
          149.869995
         ],
         "increasing": {
          "fillcolor": "red",
          "line": {
           "color": "red"
          }
         },
         "legendgroup": "Hollow Candlesticks",
         "low": [
          147.289993
         ],
         "name": "AAPL",
         "open": [
          149.130005
         ],
         "showlegend": false,
         "type": "candlestick",
         "x": [
          3241
         ],
         "xaxis": "x",
         "yaxis": "y"
        },
        {
         "close": [
          150.720001
         ],
         "decreasing": {
          "fillcolor": "rgba(255, 0, 0, 0)",
          "line": {
           "color": "green"
          }
         },
         "high": [
          151.479996
         ],
         "increasing": {
          "fillcolor": "rgba(255, 0, 0, 0)",
          "line": {
           "color": "green"
          }
         },
         "legendgroup": "Hollow Candlesticks",
         "low": [
          146.149994
         ],
         "name": "AAPL",
         "open": [
          146.429993
         ],
         "showlegend": false,
         "type": "candlestick",
         "x": [
          3242
         ],
         "xaxis": "x",
         "yaxis": "y"
        },
        {
         "close": [
          151.289993
         ],
         "decreasing": {
          "fillcolor": "green",
          "line": {
           "color": "green"
          }
         },
         "high": [
          152.699997
         ],
         "increasing": {
          "fillcolor": "green",
          "line": {
           "color": "green"
          }
         },
         "legendgroup": "Hollow Candlesticks",
         "low": [
          149.970001
         ],
         "name": "AAPL",
         "open": [
          152.309998
         ],
         "showlegend": false,
         "type": "candlestick",
         "x": [
          3243
         ],
         "xaxis": "x",
         "yaxis": "y"
        },
        {
         "close": [
          148.009995
         ],
         "decreasing": {
          "fillcolor": "red",
          "line": {
           "color": "red"
          }
         },
         "high": [
          150.369995
         ],
         "increasing": {
          "fillcolor": "red",
          "line": {
           "color": "red"
          }
         },
         "legendgroup": "Hollow Candlesticks",
         "low": [
          147.720001
         ],
         "name": "AAPL",
         "open": [
          150.160004
         ],
         "showlegend": false,
         "type": "candlestick",
         "x": [
          3244
         ],
         "xaxis": "x",
         "yaxis": "y"
        },
        {
         "close": [
          150.179993
         ],
         "decreasing": {
          "fillcolor": "rgba(255, 0, 0, 0)",
          "line": {
           "color": "green"
          }
         },
         "high": [
          150.419998
         ],
         "increasing": {
          "fillcolor": "rgba(255, 0, 0, 0)",
          "line": {
           "color": "green"
          }
         },
         "legendgroup": "Hollow Candlesticks",
         "low": [
          146.929993
         ],
         "name": "AAPL",
         "open": [
          148.130005
         ],
         "showlegend": false,
         "type": "candlestick",
         "x": [
          3245
         ],
         "xaxis": "x",
         "yaxis": "y"
        },
        {
         "close": [
          151.070007
         ],
         "decreasing": {
          "fillcolor": "rgba(255, 0, 0, 0)",
          "line": {
           "color": "green"
          }
         },
         "high": [
          151.830002
         ],
         "increasing": {
          "fillcolor": "rgba(255, 0, 0, 0)",
          "line": {
           "color": "green"
          }
         },
         "legendgroup": "Hollow Candlesticks",
         "low": [
          149.339996
         ],
         "name": "AAPL",
         "open": [
          149.449997
         ],
         "showlegend": false,
         "type": "candlestick",
         "x": [
          3246
         ],
         "xaxis": "x",
         "yaxis": "y"
        },
        {
         "close": [
          148.110001
         ],
         "decreasing": {
          "fillcolor": "red",
          "line": {
           "color": "red"
          }
         },
         "high": [
          148.880005
         ],
         "increasing": {
          "fillcolor": "red",
          "line": {
           "color": "red"
          }
         },
         "legendgroup": "Hollow Candlesticks",
         "low": [
          147.119995
         ],
         "name": "AAPL",
         "open": [
          148.309998
         ],
         "showlegend": false,
         "type": "candlestick",
         "x": [
          3247
         ],
         "xaxis": "x",
         "yaxis": "y"
        },
        {
         "close": [
          144.220001
         ],
         "decreasing": {
          "fillcolor": "red",
          "line": {
           "color": "red"
          }
         },
         "high": [
          146.639999
         ],
         "increasing": {
          "fillcolor": "red",
          "line": {
           "color": "red"
          }
         },
         "legendgroup": "Hollow Candlesticks",
         "low": [
          143.380005
         ],
         "name": "AAPL",
         "open": [
          145.139999
         ],
         "showlegend": false,
         "type": "candlestick",
         "x": [
          3248
         ],
         "xaxis": "x",
         "yaxis": "y"
        },
        {
         "close": [
          141.169998
         ],
         "decreasing": {
          "fillcolor": "red",
          "line": {
           "color": "red"
          }
         },
         "high": [
          144.809998
         ],
         "increasing": {
          "fillcolor": "red",
          "line": {
           "color": "red"
          }
         },
         "legendgroup": "Hollow Candlesticks",
         "low": [
          140.350006
         ],
         "name": "AAPL",
         "open": [
          144.289993
         ],
         "showlegend": false,
         "type": "candlestick",
         "x": [
          3249
         ],
         "xaxis": "x",
         "yaxis": "y"
        },
        {
         "close": [
          148.029999
         ],
         "decreasing": {
          "fillcolor": "rgba(255, 0, 0, 0)",
          "line": {
           "color": "green"
          }
         },
         "high": [
          148.720001
         ],
         "increasing": {
          "fillcolor": "rgba(255, 0, 0, 0)",
          "line": {
           "color": "green"
          }
         },
         "legendgroup": "Hollow Candlesticks",
         "low": [
          140.550003
         ],
         "name": "AAPL",
         "open": [
          141.399994
         ],
         "showlegend": false,
         "type": "candlestick",
         "x": [
          3250
         ],
         "xaxis": "x",
         "yaxis": "y"
        },
        {
         "hoverinfo": "x+y",
         "marker": {
          "color": [
           "rgba(255, 0, 0, 0)",
           "red",
           "red",
           "red",
           "green",
           "rgba(255, 0, 0, 0)",
           "rgba(255, 0, 0, 0)",
           "green",
           "red",
           "rgba(255, 0, 0, 0)",
           "red",
           "red",
           "red",
           "red",
           "rgba(255, 0, 0, 0)",
           "rgba(255, 0, 0, 0)",
           "red",
           "red",
           "rgba(255, 0, 0, 0)",
           "rgba(255, 0, 0, 0)",
           "rgba(255, 0, 0, 0)",
           "rgba(255, 0, 0, 0)",
           "red",
           "rgba(255, 0, 0, 0)",
           "red",
           "rgba(255, 0, 0, 0)",
           "rgba(255, 0, 0, 0)",
           "red",
           "red",
           "rgba(255, 0, 0, 0)",
           "rgba(255, 0, 0, 0)",
           "rgba(255, 0, 0, 0)",
           "red",
           "red",
           "red",
           "red",
           "rgba(255, 0, 0, 0)",
           "rgba(255, 0, 0, 0)",
           "rgba(255, 0, 0, 0)",
           "red",
           "rgba(255, 0, 0, 0)",
           "red",
           "red",
           "red",
           "red",
           "rgba(255, 0, 0, 0)",
           "red",
           "red",
           "red",
           "rgba(255, 0, 0, 0)",
           "rgba(255, 0, 0, 0)",
           "rgba(255, 0, 0, 0)",
           "rgba(255, 0, 0, 0)",
           "rgba(255, 0, 0, 0)",
           "rgba(255, 0, 0, 0)",
           "rgba(255, 0, 0, 0)",
           "rgba(255, 0, 0, 0)",
           "rgba(255, 0, 0, 0)",
           "rgba(255, 0, 0, 0)",
           "rgba(255, 0, 0, 0)",
           "red",
           "red",
           "rgba(255, 0, 0, 0)",
           "rgba(255, 0, 0, 0)",
           "red",
           "red",
           "rgba(255, 0, 0, 0)",
           "red",
           "red",
           "green",
           "rgba(255, 0, 0, 0)",
           "red",
           "rgba(255, 0, 0, 0)",
           "rgba(255, 0, 0, 0)",
           "red",
           "red",
           "red",
           "rgba(255, 0, 0, 0)",
           "red",
           "rgba(255, 0, 0, 0)",
           "rgba(255, 0, 0, 0)",
           "red",
           "rgba(255, 0, 0, 0)",
           "rgba(255, 0, 0, 0)",
           "rgba(255, 0, 0, 0)",
           "red",
           "rgba(255, 0, 0, 0)",
           "red",
           "green",
           "red",
           "red",
           "rgba(255, 0, 0, 0)",
           "red",
           "rgba(255, 0, 0, 0)",
           "red",
           "red",
           "green",
           "rgba(255, 0, 0, 0)",
           "red",
           "rgba(255, 0, 0, 0)",
           "rgba(255, 0, 0, 0)",
           "rgba(255, 0, 0, 0)",
           "red",
           "red",
           "rgba(255, 0, 0, 0)",
           "red",
           "green",
           "rgba(255, 0, 0, 0)",
           "red",
           "red",
           "red",
           "red",
           "green",
           "rgba(255, 0, 0, 0)",
           "red",
           "rgba(255, 0, 0, 0)",
           "rgba(255, 0, 0, 0)",
           "rgba(255, 0, 0, 0)",
           "rgba(255, 0, 0, 0)",
           "rgba(255, 0, 0, 0)",
           "red",
           "red",
           "rgba(255, 0, 0, 0)",
           "red",
           "rgba(255, 0, 0, 0)",
           "rgba(255, 0, 0, 0)",
           "rgba(255, 0, 0, 0)",
           "rgba(255, 0, 0, 0)",
           "rgba(255, 0, 0, 0)",
           "red",
           "rgba(255, 0, 0, 0)",
           "rgba(255, 0, 0, 0)",
           "rgba(255, 0, 0, 0)",
           "rgba(255, 0, 0, 0)",
           "red",
           "rgba(255, 0, 0, 0)",
           "rgba(255, 0, 0, 0)",
           "rgba(255, 0, 0, 0)",
           "red",
           "red",
           "red",
           "rgba(255, 0, 0, 0)",
           "rgba(255, 0, 0, 0)",
           "rgba(255, 0, 0, 0)",
           "rgba(255, 0, 0, 0)",
           "red",
           "rgba(255, 0, 0, 0)",
           "red",
           "rgba(255, 0, 0, 0)",
           "red",
           "rgba(255, 0, 0, 0)",
           "rgba(255, 0, 0, 0)",
           "red",
           "rgba(255, 0, 0, 0)",
           "rgba(255, 0, 0, 0)",
           "rgba(255, 0, 0, 0)",
           "rgba(255, 0, 0, 0)",
           "rgba(255, 0, 0, 0)",
           "red",
           "red",
           "rgba(255, 0, 0, 0)",
           "rgba(255, 0, 0, 0)",
           "rgba(255, 0, 0, 0)",
           "red",
           "rgba(255, 0, 0, 0)",
           "red",
           "red",
           "rgba(255, 0, 0, 0)",
           "red",
           "red",
           "rgba(255, 0, 0, 0)",
           "red",
           "rgba(255, 0, 0, 0)",
           "rgba(255, 0, 0, 0)",
           "red",
           "rgba(255, 0, 0, 0)",
           "red",
           "red",
           "rgba(255, 0, 0, 0)",
           "rgba(255, 0, 0, 0)",
           "red",
           "rgba(255, 0, 0, 0)",
           "red",
           "rgba(255, 0, 0, 0)",
           "green",
           "rgba(255, 0, 0, 0)",
           "red",
           "red",
           "rgba(255, 0, 0, 0)",
           "rgba(255, 0, 0, 0)",
           "rgba(255, 0, 0, 0)",
           "red",
           "red",
           "green",
           "red",
           "red",
           "rgba(255, 0, 0, 0)",
           "red",
           "rgba(255, 0, 0, 0)",
           "green",
           "rgba(255, 0, 0, 0)",
           "rgba(255, 0, 0, 0)",
           "rgba(255, 0, 0, 0)",
           "rgba(255, 0, 0, 0)",
           "rgba(255, 0, 0, 0)",
           "red",
           "red",
           "rgba(255, 0, 0, 0)",
           "rgba(255, 0, 0, 0)",
           "red",
           "red",
           "red",
           "red",
           "rgba(255, 0, 0, 0)",
           "green",
           "red",
           "rgba(255, 0, 0, 0)",
           "rgba(255, 0, 0, 0)",
           "red",
           "green",
           "red",
           "rgba(255, 0, 0, 0)",
           "green",
           "red",
           "rgba(255, 0, 0, 0)",
           "rgba(255, 0, 0, 0)",
           "red",
           "red",
           "red",
           "rgba(255, 0, 0, 0)"
          ],
          "line": {
           "color": [
            "red",
            "red",
            "red",
            "red",
            "green",
            "green",
            "green",
            "green",
            "red",
            "green",
            "red",
            "red",
            "red",
            "red",
            "red",
            "red",
            "red",
            "red",
            "green",
            "green",
            "red",
            "green",
            "red",
            "red",
            "red",
            "green",
            "green",
            "red",
            "red",
            "green",
            "green",
            "red",
            "red",
            "red",
            "red",
            "red",
            "green",
            "green",
            "green",
            "red",
            "green",
            "red",
            "red",
            "red",
            "red",
            "green",
            "red",
            "red",
            "red",
            "green",
            "green",
            "green",
            "green",
            "green",
            "green",
            "green",
            "green",
            "green",
            "green",
            "green",
            "red",
            "red",
            "red",
            "green",
            "red",
            "red",
            "green",
            "red",
            "red",
            "green",
            "green",
            "red",
            "red",
            "green",
            "red",
            "red",
            "red",
            "green",
            "red",
            "red",
            "green",
            "red",
            "green",
            "green",
            "green",
            "red",
            "green",
            "red",
            "green",
            "red",
            "red",
            "green",
            "red",
            "green",
            "red",
            "red",
            "green",
            "green",
            "red",
            "green",
            "green",
            "green",
            "red",
            "red",
            "green",
            "red",
            "green",
            "green",
            "red",
            "red",
            "red",
            "red",
            "green",
            "green",
            "red",
            "green",
            "green",
            "red",
            "green",
            "green",
            "red",
            "red",
            "green",
            "red",
            "green",
            "green",
            "green",
            "green",
            "green",
            "red",
            "green",
            "red",
            "green",
            "green",
            "red",
            "green",
            "green",
            "green",
            "red",
            "red",
            "red",
            "green",
            "green",
            "green",
            "red",
            "red",
            "green",
            "red",
            "red",
            "red",
            "green",
            "green",
            "red",
            "green",
            "green",
            "red",
            "green",
            "red",
            "red",
            "red",
            "red",
            "green",
            "green",
            "red",
            "red",
            "red",
            "red",
            "green",
            "red",
            "red",
            "green",
            "red",
            "green",
            "green",
            "red",
            "green",
            "red",
            "red",
            "green",
            "green",
            "red",
            "red",
            "red",
            "green",
            "green",
            "red",
            "red",
            "red",
            "green",
            "green",
            "green",
            "red",
            "red",
            "green",
            "red",
            "red",
            "green",
            "red",
            "green",
            "green",
            "green",
            "red",
            "green",
            "green",
            "green",
            "red",
            "red",
            "green",
            "red",
            "red",
            "red",
            "red",
            "red",
            "green",
            "green",
            "red",
            "green",
            "green",
            "red",
            "green",
            "red",
            "green",
            "green",
            "red",
            "green",
            "green",
            "red",
            "red",
            "red",
            "green"
           ]
          }
         },
         "name": "Volume",
         "text": [
          0.5124524851877583,
          0.4870598536767449,
          0.4636520407021887,
          0.47525785880120597,
          0.4252577933272068,
          0.523623281284839,
          0.37341415659584604,
          0.3668760750763227,
          0.4144518860344563,
          0.3945154211204496,
          0.4460898052260346,
          0.4650125266473659,
          0.4483644749498024,
          0.6025025300305815,
          0.7959607868715245,
          0.5679239209589446,
          0.5310274832727051,
          0.5981165077495001,
          0.8824801401789004,
          0.566664466053676,
          0.42282912483386953,
          0.41645534136468304,
          0.4385438655171316,
          0.40444490866408994,
          0.378872284960618,
          0.36699378114223563,
          0.3496115378585401,
          0.44564448394333056,
          0.48392249657822334,
          0.42268983932253923,
          0.306660594406903,
          0.3000396281992993,
          0.34129511385984856,
          0.4059520367497171,
          0.44710060606706203,
          0.4414428678321794,
          0.6922465391020312,
          0.4510800519788025,
          0.46619743437755634,
          0.4093934678518471,
          0.39100385682071315,
          0.3760630335208288,
          0.4106823492735939,
          0.4728782345019991,
          0.6432062685071638,
          0.44853318697761096,
          0.5166413498084356,
          0.4755820409244079,
          0.5332678220605818,
          0.4559359176396532,
          0.5017230868378512,
          0.37084963568476753,
          0.6057531792175443,
          0.46989929015051873,
          0.39986712358395865,
          0.48094060957509516,
          0.4420421878844528,
          0.395032346926584,
          0.4432217007532889,
          0.49333260610602275,
          0.4543120643719957,
          0.5053969874201593,
          0.38622940452211896,
          0.37503310544409046,
          0.3599932128720627,
          0.4367817076220264,
          0.3805569530289971,
          0.375558368763227,
          0.35432811800806047,
          0.38874978565848006,
          0.3463447040875143,
          0.36944697173263813,
          0.33852215512371586,
          0.33214591944482286,
          0.3331562298439091,
          0.42780171567675057,
          0.41629889038540707,
          0.4710518287125831,
          0.46897627841698464,
          0.431898867654404,
          0.6386378018239173,
          0.6461454870613985,
          0.6035148021974329,
          0.4363290297102028,
          0.5309352801877399,
          0.64015081521284,
          0.5695237425714782,
          0.6453132070870057,
          0.5658066830983354,
          0.6998106251627624,
          0.8955567936598883,
          0.5590591828698752,
          0.4249375347395353,
          0.3841940704657074,
          0.5382252092032823,
          0.6674699026692955,
          0.6739952326983449,
          0.577379151145344,
          0.5107104354122466,
          0.45357394925033323,
          0.44434775545052285,
          0.44619672156923884,
          0.5086785344494242,
          0.36433264316872027,
          0.35482542613654267,
          0.43438589873875644,
          0.35114858290258677,
          0.3325598524432834,
          0.2645944082173783,
          0.34072472988211205,
          0.4484498118475893,
          0.5993548736512926,
          0.41581776684098787,
          0.44891622213376936,
          0.5302849541735709,
          0.6597439707679339,
          0.397260424665928,
          0.36002950557571917,
          0.3552457348802402,
          0.4370661639479827,
          0.344328987708755,
          0.3290051292527122,
          0.32488051252634575,
          0.48536341500177443,
          0.3484668463675366,
          0.3597578007402368,
          0.3632423907332015,
          0.3249359324657131,
          0.31656948338900853,
          0.309672888810392,
          0.3805280169544602,
          0.34912403856888397,
          0.38323476602851686,
          0.37401053399647166,
          0.3993222425871699,
          0.40698049350063153,
          0.3179211413792423,
          0.3192119845687544,
          0.327004126132192,
          0.26299409616290337,
          0.27042331068977604,
          0.38558888734677593,
          0.3991152760879396,
          0.4992056483531379,
          0.33266382613483986,
          0.2938090537769736,
          0.4046513847213789,
          0.2720682529609096,
          0.2780658674611159,
          0.295623198517857,
          0.3096429718519725,
          0.3441455624227073,
          0.2802836459196925,
          0.3336937542115782,
          0.2652883835643234,
          0.2764969436908845,
          0.3901073289520095,
          0.3054967756801887,
          0.34500775935551964,
          0.3385363779400137,
          0.26556008839980577,
          0.26406129782718085,
          0.2511955343809536,
          0.38725786127303335,
          0.3595626048475978,
          0.38208467967615906,
          0.4315452590147238,
          0.3640545625880009,
          0.3774333283048321,
          0.36152829614834414,
          0.4288895159025628,
          0.4165019333491069,
          0.3336417673658,
          0.5147482439150022,
          0.601559410177454,
          0.4314192154358087,
          0.4437572633531928,
          0.7958832970447984,
          0.3995836481418849,
          0.5281559457063704,
          0.498763760164023,
          0.4249802031884288,
          0.4709709057922679,
          0.45777556536148445,
          0.4141424171694935,
          0.7194361498859823,
          0.6284434756319728,
          0.6126860664998174,
          0.5606325206175784,
          0.4307556474892244,
          0.38975911517368367,
          0.335473077574629,
          0.42141518071709017,
          0.3673361096172658,
          0.37780557373828183,
          0.34543640561221933,
          0.5552979836220151,
          0.43452175115649766,
          0.41810616893911223,
          0.48620746558275857,
          0.3028886054363341,
          0.31644294936815215,
          0.42447063401141394,
          0.37264710539964657,
          0.3665185429011121,
          0.4325418370394535,
          0.5354654923995649,
          0.808063913099024,
          0.48035453145523693,
          0.3942137993265477,
          0.45907621738982257,
          0.48023339229573486,
          0.6906148387633128,
          0.40890400679442573,
          0.4409489927972863,
          0.367428312702231,
          0.582909864917429,
          0.4609158651116538,
          0.3598573604543215,
          0.4407518351368821,
          0.31495347719241196,
          0.39426333396261937,
          0.36699574291000087,
          0.28800761605328884,
          0.2540690337150536,
          0.28593451796739694,
          0.1726154552194065,
          0.339611426675352,
          0.4108128068299808,
          0.5462586482018414
         ],
         "textfont": {
          "color": "white"
         },
         "texttemplate": "%{text:.2f}%",
         "type": "bar",
         "x": [
          3021,
          3022,
          3023,
          3024,
          3025,
          3026,
          3027,
          3028,
          3029,
          3030,
          3031,
          3032,
          3033,
          3034,
          3035,
          3036,
          3037,
          3038,
          3039,
          3040,
          3041,
          3042,
          3043,
          3044,
          3045,
          3046,
          3047,
          3048,
          3049,
          3050,
          3051,
          3052,
          3053,
          3054,
          3055,
          3056,
          3057,
          3058,
          3059,
          3060,
          3061,
          3062,
          3063,
          3064,
          3065,
          3066,
          3067,
          3068,
          3069,
          3070,
          3071,
          3072,
          3073,
          3074,
          3075,
          3076,
          3077,
          3078,
          3079,
          3080,
          3081,
          3082,
          3083,
          3084,
          3085,
          3086,
          3087,
          3088,
          3089,
          3090,
          3091,
          3092,
          3093,
          3094,
          3095,
          3096,
          3097,
          3098,
          3099,
          3100,
          3101,
          3102,
          3103,
          3104,
          3105,
          3106,
          3107,
          3108,
          3109,
          3110,
          3111,
          3112,
          3113,
          3114,
          3115,
          3116,
          3117,
          3118,
          3119,
          3120,
          3121,
          3122,
          3123,
          3124,
          3125,
          3126,
          3127,
          3128,
          3129,
          3130,
          3131,
          3132,
          3133,
          3134,
          3135,
          3136,
          3137,
          3138,
          3139,
          3140,
          3141,
          3142,
          3143,
          3144,
          3145,
          3146,
          3147,
          3148,
          3149,
          3150,
          3151,
          3152,
          3153,
          3154,
          3155,
          3156,
          3157,
          3158,
          3159,
          3160,
          3161,
          3162,
          3163,
          3164,
          3165,
          3166,
          3167,
          3168,
          3169,
          3170,
          3171,
          3172,
          3173,
          3174,
          3175,
          3176,
          3177,
          3178,
          3179,
          3180,
          3181,
          3182,
          3183,
          3184,
          3185,
          3186,
          3187,
          3188,
          3189,
          3190,
          3191,
          3192,
          3193,
          3194,
          3195,
          3196,
          3197,
          3198,
          3199,
          3200,
          3201,
          3202,
          3203,
          3204,
          3205,
          3206,
          3207,
          3208,
          3209,
          3210,
          3211,
          3212,
          3213,
          3214,
          3215,
          3216,
          3217,
          3218,
          3219,
          3220,
          3221,
          3222,
          3223,
          3224,
          3225,
          3226,
          3227,
          3228,
          3229,
          3230,
          3231,
          3232,
          3233,
          3234,
          3235,
          3236,
          3237,
          3238,
          3239,
          3240,
          3241,
          3242,
          3243,
          3244,
          3245,
          3246,
          3247,
          3248,
          3249,
          3250
         ],
         "xaxis": "x3",
         "y": [
          104487900,
          99310400,
          94537600,
          96904000,
          86709100,
          106765600,
          76138300,
          74805200,
          84505800,
          80440800,
          90956700,
          94815000,
          91420500,
          122848900,
          162294600,
          115798400,
          108275300,
          121954600,
          179935700,
          115541600,
          86213900,
          84914300,
          89418100,
          82465400,
          77251200,
          74829200,
          71285000,
          90865900,
          98670700,
          86185500,
          62527400,
          61177400,
          69589300,
          82772700,
          91162800,
          90009200,
          141147500,
          91974200,
          95056600,
          83474400,
          79724800,
          76678400,
          83737200,
          96418800,
          131148300,
          91454900,
          105342000,
          96970100,
          108732100,
          92964300,
          102300200,
          75615400,
          123511700,
          95811400,
          81532000,
          98062700,
          90131400,
          80546200,
          90371900,
          100589400,
          92633200,
          103049300,
          78751300,
          76468400,
          73401800,
          89058800,
          77594700,
          76575500,
          72246700,
          79265200,
          70618900,
          75329400,
          69023900,
          67723800,
          67929800,
          87227800,
          84882400,
          96046400,
          95623200,
          88063200,
          130216800,
          131747600,
          123055300,
          88966500,
          108256500,
          130525300,
          116124600,
          131577900,
          115366700,
          142689800,
          182602000,
          113990900,
          86643800,
          78336300,
          109742900,
          136095600,
          137426100,
          117726300,
          104132700,
          92482700,
          90601500,
          90978500,
          103718400,
          74286600,
          72348100,
          88570300,
          71598400,
          67808200,
          53950200,
          69473000,
          91437900,
          122207100,
          84784300,
          91533000,
          108123900,
          134520300,
          81000500,
          73409200,
          72433800,
          89116800,
          70207900,
          67083400,
          66242400,
          98964500,
          71051600,
          73353800,
          74064300,
          66253700,
          64547800,
          63141600,
          77588800,
          71185600,
          78140700,
          76259900,
          81420900,
          82982400,
          64823400,
          65086600,
          66675400,
          53623900,
          55138700,
          78620700,
          81378700,
          101786900,
          67829400,
          59907000,
          82507500,
          55474100,
          56697000,
          60276900,
          63135500,
          70170500,
          57149200,
          68039400,
          54091700,
          56377100,
          79542000,
          62290100,
          70346300,
          69026800,
          54147100,
          53841500,
          51218200,
          78961000,
          73314000,
          77906200,
          87991100,
          74229900,
          76957800,
          73714800,
          87449600,
          84923800,
          68028800,
          104956000,
          122656600,
          87965400,
          90481100,
          162278800,
          81474200,
          107689800,
          101696800,
          86652500,
          96029900,
          93339400,
          84442700,
          146691400,
          128138200,
          124925300,
          114311700,
          87830100,
          79471000,
          68402200,
          85925600,
          74899000,
          77033700,
          70433700,
          113224000,
          88598000,
          85250900,
          99136600,
          61758300,
          64522000,
          86548600,
          75981900,
          74732300,
          88194300,
          109180200,
          164762400,
          97943200,
          80379300,
          93604600,
          97918500,
          140814800,
          83374600,
          89908500,
          74917800,
          118854000,
          93979700,
          73374100,
          89868300,
          64218300,
          80389400,
          74829600,
          58724100,
          51804100,
          58301400,
          35195900,
          69246000,
          83763800,
          111380900
         ],
         "yaxis": "y3"
        },
        {
         "hoverinfo": "x+y",
         "marker": {
          "color": "orange"
         },
         "name": "Total Price by Volume",
         "orientation": "h",
         "text": [
          0.5302849541735709,
          1.2590988444192266,
          0.41581776684098787,
          1.1763740404117196,
          0.397260424665928,
          1.9302882587713714,
          3.112500029610432,
          1.9402903317223248,
          1.7404107185438888,
          1.4026119652835964,
          2.748335117585638,
          3.048643998410713,
          1.5730552531449675,
          2.4231976134820488,
          3.001875454887966,
          2.2823314077748966,
          2.0145682541747534,
          2.7099075201586476,
          3.1663510452075503,
          3.9901399982706036,
          2.1401547412005804,
          1.4862499721858113,
          2.2434128779646607,
          2.6094841378153038,
          1.614386757306419,
          4.831803107884481,
          1.6137148518468325,
          2.4060498014462968,
          2.335926412678654,
          0.7304122405323653,
          2.147426033422353,
          3.4458612641858064,
          2.078749448381557,
          3.4268424161439794,
          2.8308603117230344,
          1.727818131258968,
          1.271631107345367,
          1.9919201357672771,
          2.782609162211725,
          4.563592671233868,
          1.9815448364989914,
          1.1337683680867605,
          3.8440834454986312,
          1.5761646550528348,
          0.8293451698160862,
          0.49333260610602275,
          0.4870598536767449,
          0.5124524851877583
         ],
         "texttemplate": "%{text:.2f}% @ %{y}",
         "type": "bar",
         "x": [
          108123900,
          256727400,
          84784300,
          239860000,
          81000500,
          393581400,
          634631700,
          395620800,
          354865800,
          285989400,
          560379300,
          621611600,
          320742400,
          494084500,
          612075600,
          465362200,
          410765900,
          552544000,
          645611800,
          813580500,
          436372700,
          303043000,
          457426800,
          532067900,
          329169800,
          985193700,
          329032800,
          490588100,
          476290100,
          148929400,
          437855300,
          702603300,
          423852300,
          698725400,
          577206000,
          352298200,
          259282700,
          406148000,
          567367700,
          930506200,
          404032500,
          231172800,
          783799900,
          321376400,
          169101600,
          100589400,
          99310400,
          104487900
         ],
         "xaxis": "x2",
         "y": [
          130,
          132,
          133,
          135,
          136,
          137,
          138,
          139,
          140,
          141,
          142,
          143,
          144,
          145,
          146,
          147,
          148,
          149,
          150,
          151,
          152,
          153,
          154,
          155,
          156,
          157,
          158,
          159,
          160,
          161,
          162,
          163,
          164,
          165,
          166,
          167,
          168,
          169,
          170,
          172,
          173,
          174,
          175,
          176,
          178,
          179,
          180,
          182
         ],
         "yaxis": "y2"
        }
       ],
       "layout": {
        "annotations": [
         {
          "font": {
           "size": 16
          },
          "showarrow": false,
          "text": "Candlestick",
          "x": 0.4,
          "xanchor": "center",
          "xref": "paper",
          "y": 1,
          "yanchor": "bottom",
          "yref": "paper"
         },
         {
          "font": {
           "size": 16
          },
          "showarrow": false,
          "text": "Price Bins",
          "x": 0.9,
          "xanchor": "center",
          "xref": "paper",
          "y": 1,
          "yanchor": "bottom",
          "yref": "paper"
         },
         {
          "font": {
           "size": 16
          },
          "showarrow": false,
          "text": "Volume",
          "x": 0.4,
          "xanchor": "center",
          "xref": "paper",
          "y": 0.2,
          "yanchor": "bottom",
          "yref": "paper"
         }
        ],
        "hovermode": "x unified",
        "template": {
         "data": {
          "bar": [
           {
            "error_x": {
             "color": "#f2f5fa"
            },
            "error_y": {
             "color": "#f2f5fa"
            },
            "marker": {
             "line": {
              "color": "rgb(17,17,17)",
              "width": 0.5
             },
             "pattern": {
              "fillmode": "overlay",
              "size": 10,
              "solidity": 0.2
             }
            },
            "type": "bar"
           }
          ],
          "barpolar": [
           {
            "marker": {
             "line": {
              "color": "rgb(17,17,17)",
              "width": 0.5
             },
             "pattern": {
              "fillmode": "overlay",
              "size": 10,
              "solidity": 0.2
             }
            },
            "type": "barpolar"
           }
          ],
          "carpet": [
           {
            "aaxis": {
             "endlinecolor": "#A2B1C6",
             "gridcolor": "#506784",
             "linecolor": "#506784",
             "minorgridcolor": "#506784",
             "startlinecolor": "#A2B1C6"
            },
            "baxis": {
             "endlinecolor": "#A2B1C6",
             "gridcolor": "#506784",
             "linecolor": "#506784",
             "minorgridcolor": "#506784",
             "startlinecolor": "#A2B1C6"
            },
            "type": "carpet"
           }
          ],
          "choropleth": [
           {
            "colorbar": {
             "outlinewidth": 0,
             "ticks": ""
            },
            "type": "choropleth"
           }
          ],
          "contour": [
           {
            "colorbar": {
             "outlinewidth": 0,
             "ticks": ""
            },
            "colorscale": [
             [
              0,
              "#0d0887"
             ],
             [
              0.1111111111111111,
              "#46039f"
             ],
             [
              0.2222222222222222,
              "#7201a8"
             ],
             [
              0.3333333333333333,
              "#9c179e"
             ],
             [
              0.4444444444444444,
              "#bd3786"
             ],
             [
              0.5555555555555556,
              "#d8576b"
             ],
             [
              0.6666666666666666,
              "#ed7953"
             ],
             [
              0.7777777777777778,
              "#fb9f3a"
             ],
             [
              0.8888888888888888,
              "#fdca26"
             ],
             [
              1,
              "#f0f921"
             ]
            ],
            "type": "contour"
           }
          ],
          "contourcarpet": [
           {
            "colorbar": {
             "outlinewidth": 0,
             "ticks": ""
            },
            "type": "contourcarpet"
           }
          ],
          "heatmap": [
           {
            "colorbar": {
             "outlinewidth": 0,
             "ticks": ""
            },
            "colorscale": [
             [
              0,
              "#0d0887"
             ],
             [
              0.1111111111111111,
              "#46039f"
             ],
             [
              0.2222222222222222,
              "#7201a8"
             ],
             [
              0.3333333333333333,
              "#9c179e"
             ],
             [
              0.4444444444444444,
              "#bd3786"
             ],
             [
              0.5555555555555556,
              "#d8576b"
             ],
             [
              0.6666666666666666,
              "#ed7953"
             ],
             [
              0.7777777777777778,
              "#fb9f3a"
             ],
             [
              0.8888888888888888,
              "#fdca26"
             ],
             [
              1,
              "#f0f921"
             ]
            ],
            "type": "heatmap"
           }
          ],
          "heatmapgl": [
           {
            "colorbar": {
             "outlinewidth": 0,
             "ticks": ""
            },
            "colorscale": [
             [
              0,
              "#0d0887"
             ],
             [
              0.1111111111111111,
              "#46039f"
             ],
             [
              0.2222222222222222,
              "#7201a8"
             ],
             [
              0.3333333333333333,
              "#9c179e"
             ],
             [
              0.4444444444444444,
              "#bd3786"
             ],
             [
              0.5555555555555556,
              "#d8576b"
             ],
             [
              0.6666666666666666,
              "#ed7953"
             ],
             [
              0.7777777777777778,
              "#fb9f3a"
             ],
             [
              0.8888888888888888,
              "#fdca26"
             ],
             [
              1,
              "#f0f921"
             ]
            ],
            "type": "heatmapgl"
           }
          ],
          "histogram": [
           {
            "marker": {
             "pattern": {
              "fillmode": "overlay",
              "size": 10,
              "solidity": 0.2
             }
            },
            "type": "histogram"
           }
          ],
          "histogram2d": [
           {
            "colorbar": {
             "outlinewidth": 0,
             "ticks": ""
            },
            "colorscale": [
             [
              0,
              "#0d0887"
             ],
             [
              0.1111111111111111,
              "#46039f"
             ],
             [
              0.2222222222222222,
              "#7201a8"
             ],
             [
              0.3333333333333333,
              "#9c179e"
             ],
             [
              0.4444444444444444,
              "#bd3786"
             ],
             [
              0.5555555555555556,
              "#d8576b"
             ],
             [
              0.6666666666666666,
              "#ed7953"
             ],
             [
              0.7777777777777778,
              "#fb9f3a"
             ],
             [
              0.8888888888888888,
              "#fdca26"
             ],
             [
              1,
              "#f0f921"
             ]
            ],
            "type": "histogram2d"
           }
          ],
          "histogram2dcontour": [
           {
            "colorbar": {
             "outlinewidth": 0,
             "ticks": ""
            },
            "colorscale": [
             [
              0,
              "#0d0887"
             ],
             [
              0.1111111111111111,
              "#46039f"
             ],
             [
              0.2222222222222222,
              "#7201a8"
             ],
             [
              0.3333333333333333,
              "#9c179e"
             ],
             [
              0.4444444444444444,
              "#bd3786"
             ],
             [
              0.5555555555555556,
              "#d8576b"
             ],
             [
              0.6666666666666666,
              "#ed7953"
             ],
             [
              0.7777777777777778,
              "#fb9f3a"
             ],
             [
              0.8888888888888888,
              "#fdca26"
             ],
             [
              1,
              "#f0f921"
             ]
            ],
            "type": "histogram2dcontour"
           }
          ],
          "mesh3d": [
           {
            "colorbar": {
             "outlinewidth": 0,
             "ticks": ""
            },
            "type": "mesh3d"
           }
          ],
          "parcoords": [
           {
            "line": {
             "colorbar": {
              "outlinewidth": 0,
              "ticks": ""
             }
            },
            "type": "parcoords"
           }
          ],
          "pie": [
           {
            "automargin": true,
            "type": "pie"
           }
          ],
          "scatter": [
           {
            "marker": {
             "line": {
              "color": "#283442"
             }
            },
            "type": "scatter"
           }
          ],
          "scatter3d": [
           {
            "line": {
             "colorbar": {
              "outlinewidth": 0,
              "ticks": ""
             }
            },
            "marker": {
             "colorbar": {
              "outlinewidth": 0,
              "ticks": ""
             }
            },
            "type": "scatter3d"
           }
          ],
          "scattercarpet": [
           {
            "marker": {
             "colorbar": {
              "outlinewidth": 0,
              "ticks": ""
             }
            },
            "type": "scattercarpet"
           }
          ],
          "scattergeo": [
           {
            "marker": {
             "colorbar": {
              "outlinewidth": 0,
              "ticks": ""
             }
            },
            "type": "scattergeo"
           }
          ],
          "scattergl": [
           {
            "marker": {
             "line": {
              "color": "#283442"
             }
            },
            "type": "scattergl"
           }
          ],
          "scattermapbox": [
           {
            "marker": {
             "colorbar": {
              "outlinewidth": 0,
              "ticks": ""
             }
            },
            "type": "scattermapbox"
           }
          ],
          "scatterpolar": [
           {
            "marker": {
             "colorbar": {
              "outlinewidth": 0,
              "ticks": ""
             }
            },
            "type": "scatterpolar"
           }
          ],
          "scatterpolargl": [
           {
            "marker": {
             "colorbar": {
              "outlinewidth": 0,
              "ticks": ""
             }
            },
            "type": "scatterpolargl"
           }
          ],
          "scatterternary": [
           {
            "marker": {
             "colorbar": {
              "outlinewidth": 0,
              "ticks": ""
             }
            },
            "type": "scatterternary"
           }
          ],
          "surface": [
           {
            "colorbar": {
             "outlinewidth": 0,
             "ticks": ""
            },
            "colorscale": [
             [
              0,
              "#0d0887"
             ],
             [
              0.1111111111111111,
              "#46039f"
             ],
             [
              0.2222222222222222,
              "#7201a8"
             ],
             [
              0.3333333333333333,
              "#9c179e"
             ],
             [
              0.4444444444444444,
              "#bd3786"
             ],
             [
              0.5555555555555556,
              "#d8576b"
             ],
             [
              0.6666666666666666,
              "#ed7953"
             ],
             [
              0.7777777777777778,
              "#fb9f3a"
             ],
             [
              0.8888888888888888,
              "#fdca26"
             ],
             [
              1,
              "#f0f921"
             ]
            ],
            "type": "surface"
           }
          ],
          "table": [
           {
            "cells": {
             "fill": {
              "color": "#506784"
             },
             "line": {
              "color": "rgb(17,17,17)"
             }
            },
            "header": {
             "fill": {
              "color": "#2a3f5f"
             },
             "line": {
              "color": "rgb(17,17,17)"
             }
            },
            "type": "table"
           }
          ]
         },
         "layout": {
          "annotationdefaults": {
           "arrowcolor": "#f2f5fa",
           "arrowhead": 0,
           "arrowwidth": 1
          },
          "autotypenumbers": "strict",
          "coloraxis": {
           "colorbar": {
            "outlinewidth": 0,
            "ticks": ""
           }
          },
          "colorscale": {
           "diverging": [
            [
             0,
             "#8e0152"
            ],
            [
             0.1,
             "#c51b7d"
            ],
            [
             0.2,
             "#de77ae"
            ],
            [
             0.3,
             "#f1b6da"
            ],
            [
             0.4,
             "#fde0ef"
            ],
            [
             0.5,
             "#f7f7f7"
            ],
            [
             0.6,
             "#e6f5d0"
            ],
            [
             0.7,
             "#b8e186"
            ],
            [
             0.8,
             "#7fbc41"
            ],
            [
             0.9,
             "#4d9221"
            ],
            [
             1,
             "#276419"
            ]
           ],
           "sequential": [
            [
             0,
             "#0d0887"
            ],
            [
             0.1111111111111111,
             "#46039f"
            ],
            [
             0.2222222222222222,
             "#7201a8"
            ],
            [
             0.3333333333333333,
             "#9c179e"
            ],
            [
             0.4444444444444444,
             "#bd3786"
            ],
            [
             0.5555555555555556,
             "#d8576b"
            ],
            [
             0.6666666666666666,
             "#ed7953"
            ],
            [
             0.7777777777777778,
             "#fb9f3a"
            ],
            [
             0.8888888888888888,
             "#fdca26"
            ],
            [
             1,
             "#f0f921"
            ]
           ],
           "sequentialminus": [
            [
             0,
             "#0d0887"
            ],
            [
             0.1111111111111111,
             "#46039f"
            ],
            [
             0.2222222222222222,
             "#7201a8"
            ],
            [
             0.3333333333333333,
             "#9c179e"
            ],
            [
             0.4444444444444444,
             "#bd3786"
            ],
            [
             0.5555555555555556,
             "#d8576b"
            ],
            [
             0.6666666666666666,
             "#ed7953"
            ],
            [
             0.7777777777777778,
             "#fb9f3a"
            ],
            [
             0.8888888888888888,
             "#fdca26"
            ],
            [
             1,
             "#f0f921"
            ]
           ]
          },
          "colorway": [
           "#636efa",
           "#EF553B",
           "#00cc96",
           "#ab63fa",
           "#FFA15A",
           "#19d3f3",
           "#FF6692",
           "#B6E880",
           "#FF97FF",
           "#FECB52"
          ],
          "font": {
           "color": "#f2f5fa"
          },
          "geo": {
           "bgcolor": "rgb(17,17,17)",
           "lakecolor": "rgb(17,17,17)",
           "landcolor": "rgb(17,17,17)",
           "showlakes": true,
           "showland": true,
           "subunitcolor": "#506784"
          },
          "hoverlabel": {
           "align": "left"
          },
          "hovermode": "closest",
          "mapbox": {
           "style": "dark"
          },
          "paper_bgcolor": "rgb(17,17,17)",
          "plot_bgcolor": "rgb(17,17,17)",
          "polar": {
           "angularaxis": {
            "gridcolor": "#506784",
            "linecolor": "#506784",
            "ticks": ""
           },
           "bgcolor": "rgb(17,17,17)",
           "radialaxis": {
            "gridcolor": "#506784",
            "linecolor": "#506784",
            "ticks": ""
           }
          },
          "scene": {
           "xaxis": {
            "backgroundcolor": "rgb(17,17,17)",
            "gridcolor": "#506784",
            "gridwidth": 2,
            "linecolor": "#506784",
            "showbackground": true,
            "ticks": "",
            "zerolinecolor": "#C8D4E3"
           },
           "yaxis": {
            "backgroundcolor": "rgb(17,17,17)",
            "gridcolor": "#506784",
            "gridwidth": 2,
            "linecolor": "#506784",
            "showbackground": true,
            "ticks": "",
            "zerolinecolor": "#C8D4E3"
           },
           "zaxis": {
            "backgroundcolor": "rgb(17,17,17)",
            "gridcolor": "#506784",
            "gridwidth": 2,
            "linecolor": "#506784",
            "showbackground": true,
            "ticks": "",
            "zerolinecolor": "#C8D4E3"
           }
          },
          "shapedefaults": {
           "line": {
            "color": "#f2f5fa"
           }
          },
          "sliderdefaults": {
           "bgcolor": "#C8D4E3",
           "bordercolor": "rgb(17,17,17)",
           "borderwidth": 1,
           "tickwidth": 0
          },
          "ternary": {
           "aaxis": {
            "gridcolor": "#506784",
            "linecolor": "#506784",
            "ticks": ""
           },
           "baxis": {
            "gridcolor": "#506784",
            "linecolor": "#506784",
            "ticks": ""
           },
           "bgcolor": "rgb(17,17,17)",
           "caxis": {
            "gridcolor": "#506784",
            "linecolor": "#506784",
            "ticks": ""
           }
          },
          "title": {
           "x": 0.05
          },
          "updatemenudefaults": {
           "bgcolor": "#506784",
           "borderwidth": 0
          },
          "xaxis": {
           "automargin": true,
           "gridcolor": "#283442",
           "linecolor": "#506784",
           "ticks": "",
           "title": {
            "standoff": 15
           },
           "zerolinecolor": "#283442",
           "zerolinewidth": 2
          },
          "yaxis": {
           "automargin": true,
           "gridcolor": "#283442",
           "linecolor": "#506784",
           "ticks": "",
           "title": {
            "standoff": 15
           },
           "zerolinecolor": "#283442",
           "zerolinewidth": 2
          }
         }
        },
        "title": {
         "text": "Apple's Stock in 2022"
        },
        "xaxis": {
         "anchor": "y",
         "domain": [
          0,
          0.8
         ],
         "matches": "x3",
         "rangebreaks": [
          {
           "bounds": [
            "sat",
            "mon"
           ]
          }
         ],
         "rangeslider": {
          "visible": false
         },
         "showticklabels": false
        },
        "xaxis2": {
         "anchor": "y2",
         "domain": [
          0.8,
          1
         ],
         "matches": "x4",
         "showgrid": true,
         "showspikes": true,
         "showticklabels": true
        },
        "xaxis3": {
         "anchor": "y3",
         "domain": [
          0,
          0.8
         ],
         "rangebreaks": [
          {
           "bounds": [
            "sat",
            "mon"
           ]
          }
         ],
         "rangeslider": {
          "visible": false
         }
        },
        "xaxis4": {
         "anchor": "y4",
         "domain": [
          0.8,
          1
         ]
        },
        "yaxis": {
         "anchor": "x",
         "domain": [
          0.2,
          1
         ]
        },
        "yaxis2": {
         "anchor": "x2",
         "domain": [
          0.2,
          1
         ],
         "matches": "y",
         "showticklabels": false
        },
        "yaxis3": {
         "anchor": "x3",
         "domain": [
          0,
          0.2
         ]
        },
        "yaxis4": {
         "anchor": "x4",
         "domain": [
          0,
          0.2
         ],
         "matches": "y3",
         "showticklabels": false
        }
       }
      }
     },
     "metadata": {},
     "output_type": "display_data"
    }
   ],
   "source": [
    "from plotly.subplots import make_subplots\n",
    "\n",
    "# Combining all together \n",
    "fig = make_subplots(\n",
    "    rows=2,\n",
    "    cols=2,\n",
    "    shared_xaxes=\"columns\",\n",
    "    shared_yaxes=\"rows\",\n",
    "    column_width=[0.8, 0.2],\n",
    "    row_heights=[0.8, 0.2],\n",
    "    horizontal_spacing=0,\n",
    "    vertical_spacing=0,\n",
    "    subplot_titles=[\"Candlestick\", \"Price Bins\", \"Volume\", \"\"]\n",
    ")\n",
    "showlegend = True\n",
    "for index, row in ohlc.iterrows():\n",
    "    color = dict(fillcolor=row[\"fill\"], line=dict(color=row[\"color\"]))\n",
    "    fig.add_trace(\n",
    "        go.Candlestick(\n",
    "            x=[index],\n",
    "            open=[row[\"open\"]],\n",
    "            high=[row[\"high\"]],\n",
    "            low=[row[\"low\"]],\n",
    "            close=[row[\"close\"]],\n",
    "            increasing=color,\n",
    "            decreasing=color,\n",
    "            showlegend=showlegend,\n",
    "            name=\"AAPL\",\n",
    "            legendgroup=\"Hollow Candlesticks\"\n",
    "        ),\n",
    "        row=1,\n",
    "        col=1\n",
    "    )\n",
    "    showlegend = False\n",
    "fig.add_trace(\n",
    "    go.Bar(\n",
    "        x=ohlc.index,\n",
    "        y=ohlc[\"volume\"],\n",
    "        text=ohlc[\"Percentage\"],\n",
    "        marker_line_color=ohlc[\"color\"],\n",
    "        marker_color=ohlc[\"fill\"],\n",
    "        name=\"Volume\",\n",
    "        texttemplate=\"%{text:.2f}%\",\n",
    "        hoverinfo=\"x+y\",\n",
    "        textfont=dict(color=\"white\")\n",
    "    ),\n",
    "    col=1,\n",
    "    row=2,\n",
    ")\n",
    "fig.add_trace(\n",
    "    go.Bar(\n",
    "        y=price_bins[\"close\"],\n",
    "        x=price_bins[\"volume\"],\n",
    "        text=price_bins[\"Percentage\"],\n",
    "        name=\"Total Price by Volume\",\n",
    "        orientation=\"h\",\n",
    "        marker_color=\"orange\",\n",
    "        texttemplate=\"%{text:.2f}% @ %{y}\",\n",
    "        hoverinfo=\"x+y\"\n",
    "    ),\n",
    "    col=2,\n",
    "    row=1,\n",
    ")\n",
    "fig.update_xaxes(\n",
    "    rangebreaks=[dict(bounds=[\"sat\", \"mon\"])],\n",
    "    rangeslider_visible=False,\n",
    "    col=1\n",
    ")\n",
    "fig.update_xaxes(\n",
    "    showticklabels=True,\n",
    "    showspikes=True,\n",
    "    showgrid=True,\n",
    "    col=2,\n",
    "    row=1\n",
    ")\n",
    "fig.update_layout(\n",
    "    template=\"plotly_dark\",\n",
    "    hovermode=\"x unified\",\n",
    "    title_text=\"Apple's Stock in 2022\"\n",
    ")\n",
    "fig.show()"
   ]
  },
  {
   "cell_type": "code",
   "execution_count": 13,
   "metadata": {},
   "outputs": [
    {
     "data": {
      "image/png": "[encoded data removed]",
      "text/plain": [
       "<IPython.core.display.Image object>"
      ]
     },
     "execution_count": 13,
     "metadata": {},
     "output_type": "execute_result"
    }
   ],
   "source": [
    "# Display Output in production\n",
    "img_bytes = fig.to_image(format=\"png\")\n",
    "from IPython.display import Image\n",
    "Image(img_bytes)"
   ]
  }
 ],
 "metadata": {
  "kernelspec": {
   "display_name": "virtual_env",
   "language": "python",
   "name": "python3"
  },
  "language_info": {
   "codemirror_mode": {
    "name": "ipython",
    "version": 3
   },
   "file_extension": ".py",
   "mimetype": "text/x-python",
   "name": "python",
   "nbconvert_exporter": "python",
   "pygments_lexer": "ipython3",
   "version": "3.10.4"
  },
  "orig_nbformat": 4,
  "vscode": {
   "interpreter": {
    "hash": "687274526d4aa2e04447d7d070c6f665e4726a27c7a8a0088b2d1697dc8ad3d8"
   }
  }
 },
 "nbformat": 4,
 "nbformat_minor": 2
}
