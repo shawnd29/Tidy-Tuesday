{
 "cells": [
  {
   "cell_type": "markdown",
   "metadata": {},
   "source": [
    "2022-03-29 <br/>\n",
    "Collegiate Sports Budgets <br/>\n",
    "https://github.com/rfordatascience/tidytuesday/blob/master/data/2022/2022-03-29/readme.md"
   ]
  },
  {
   "cell_type": "markdown",
   "metadata": {},
   "source": [
    "Baseline sunburst chart - Completed  <br/>\n",
    "Advanced Sunburst chart: A - Incomplete <br/>\n",
    "Advanced Sunburst chart: B - Incomplete"
   ]
  },
  {
   "cell_type": "code",
   "execution_count": 60,
   "metadata": {},
   "outputs": [],
   "source": [
    "import pandas as pd\n",
    "import plotly.graph_objects as go\n",
    "import plotly.express as px\n",
    "import plotly.io as pio\n",
    "pio.renderers.default='jupyterlab'\n",
    "import os"
   ]
  },
  {
   "cell_type": "code",
   "execution_count": 5,
   "metadata": {},
   "outputs": [
    {
     "name": "stderr",
     "output_type": "stream",
     "text": [
      "d:\\Users\\DComputer\\Desktop\\learning\\Streamlined EDA and ML\\project_env\\lib\\site-packages\\IPython\\core\\interactiveshell.py:3343: DtypeWarning:\n",
      "\n",
      "Columns (8) have mixed types.Specify dtype option on import or set low_memory=False.\n",
      "\n"
     ]
    },
    {
     "data": {
      "text/html": [
       "<div>\n",
       "<style scoped>\n",
       "    .dataframe tbody tr th:only-of-type {\n",
       "        vertical-align: middle;\n",
       "    }\n",
       "\n",
       "    .dataframe tbody tr th {\n",
       "        vertical-align: top;\n",
       "    }\n",
       "\n",
       "    .dataframe thead th {\n",
       "        text-align: right;\n",
       "    }\n",
       "</style>\n",
       "<table border=\"1\" class=\"dataframe\">\n",
       "  <thead>\n",
       "    <tr style=\"text-align: right;\">\n",
       "      <th></th>\n",
       "      <th>year</th>\n",
       "      <th>unitid</th>\n",
       "      <th>institution_name</th>\n",
       "      <th>city_txt</th>\n",
       "      <th>state_cd</th>\n",
       "      <th>zip_text</th>\n",
       "      <th>classification_code</th>\n",
       "      <th>classification_name</th>\n",
       "      <th>classification_other</th>\n",
       "      <th>ef_male_count</th>\n",
       "      <th>...</th>\n",
       "      <th>partic_coed_women</th>\n",
       "      <th>sum_partic_men</th>\n",
       "      <th>sum_partic_women</th>\n",
       "      <th>rev_men</th>\n",
       "      <th>rev_women</th>\n",
       "      <th>total_rev_menwomen</th>\n",
       "      <th>exp_men</th>\n",
       "      <th>exp_women</th>\n",
       "      <th>total_exp_menwomen</th>\n",
       "      <th>sports</th>\n",
       "    </tr>\n",
       "  </thead>\n",
       "  <tbody>\n",
       "    <tr>\n",
       "      <th>0</th>\n",
       "      <td>2015</td>\n",
       "      <td>100654</td>\n",
       "      <td>Alabama A &amp; M University</td>\n",
       "      <td>Normal</td>\n",
       "      <td>AL</td>\n",
       "      <td>35762.0</td>\n",
       "      <td>2</td>\n",
       "      <td>NCAA Division I-FCS</td>\n",
       "      <td>NaN</td>\n",
       "      <td>1923</td>\n",
       "      <td>...</td>\n",
       "      <td>NaN</td>\n",
       "      <td>31</td>\n",
       "      <td>0</td>\n",
       "      <td>345592.0</td>\n",
       "      <td>NaN</td>\n",
       "      <td>345592.0</td>\n",
       "      <td>397818.0</td>\n",
       "      <td>NaN</td>\n",
       "      <td>397818.0</td>\n",
       "      <td>Baseball</td>\n",
       "    </tr>\n",
       "    <tr>\n",
       "      <th>1</th>\n",
       "      <td>2015</td>\n",
       "      <td>100654</td>\n",
       "      <td>Alabama A &amp; M University</td>\n",
       "      <td>Normal</td>\n",
       "      <td>AL</td>\n",
       "      <td>35762.0</td>\n",
       "      <td>2</td>\n",
       "      <td>NCAA Division I-FCS</td>\n",
       "      <td>NaN</td>\n",
       "      <td>1923</td>\n",
       "      <td>...</td>\n",
       "      <td>NaN</td>\n",
       "      <td>19</td>\n",
       "      <td>16</td>\n",
       "      <td>1211095.0</td>\n",
       "      <td>748833.0</td>\n",
       "      <td>1959928.0</td>\n",
       "      <td>817868.0</td>\n",
       "      <td>742460.0</td>\n",
       "      <td>1560328.0</td>\n",
       "      <td>Basketball</td>\n",
       "    </tr>\n",
       "    <tr>\n",
       "      <th>2</th>\n",
       "      <td>2015</td>\n",
       "      <td>100654</td>\n",
       "      <td>Alabama A &amp; M University</td>\n",
       "      <td>Normal</td>\n",
       "      <td>AL</td>\n",
       "      <td>35762.0</td>\n",
       "      <td>2</td>\n",
       "      <td>NCAA Division I-FCS</td>\n",
       "      <td>NaN</td>\n",
       "      <td>1923</td>\n",
       "      <td>...</td>\n",
       "      <td>NaN</td>\n",
       "      <td>61</td>\n",
       "      <td>46</td>\n",
       "      <td>183333.0</td>\n",
       "      <td>315574.0</td>\n",
       "      <td>498907.0</td>\n",
       "      <td>246949.0</td>\n",
       "      <td>251184.0</td>\n",
       "      <td>498133.0</td>\n",
       "      <td>All Track Combined</td>\n",
       "    </tr>\n",
       "    <tr>\n",
       "      <th>3</th>\n",
       "      <td>2015</td>\n",
       "      <td>100654</td>\n",
       "      <td>Alabama A &amp; M University</td>\n",
       "      <td>Normal</td>\n",
       "      <td>AL</td>\n",
       "      <td>35762.0</td>\n",
       "      <td>2</td>\n",
       "      <td>NCAA Division I-FCS</td>\n",
       "      <td>NaN</td>\n",
       "      <td>1923</td>\n",
       "      <td>...</td>\n",
       "      <td>NaN</td>\n",
       "      <td>99</td>\n",
       "      <td>0</td>\n",
       "      <td>2808949.0</td>\n",
       "      <td>NaN</td>\n",
       "      <td>2808949.0</td>\n",
       "      <td>3059353.0</td>\n",
       "      <td>NaN</td>\n",
       "      <td>3059353.0</td>\n",
       "      <td>Football</td>\n",
       "    </tr>\n",
       "    <tr>\n",
       "      <th>4</th>\n",
       "      <td>2015</td>\n",
       "      <td>100654</td>\n",
       "      <td>Alabama A &amp; M University</td>\n",
       "      <td>Normal</td>\n",
       "      <td>AL</td>\n",
       "      <td>35762.0</td>\n",
       "      <td>2</td>\n",
       "      <td>NCAA Division I-FCS</td>\n",
       "      <td>NaN</td>\n",
       "      <td>1923</td>\n",
       "      <td>...</td>\n",
       "      <td>NaN</td>\n",
       "      <td>9</td>\n",
       "      <td>0</td>\n",
       "      <td>78270.0</td>\n",
       "      <td>NaN</td>\n",
       "      <td>78270.0</td>\n",
       "      <td>83913.0</td>\n",
       "      <td>NaN</td>\n",
       "      <td>83913.0</td>\n",
       "      <td>Golf</td>\n",
       "    </tr>\n",
       "  </tbody>\n",
       "</table>\n",
       "<p>5 rows × 28 columns</p>\n",
       "</div>"
      ],
      "text/plain": [
       "   year  unitid          institution_name city_txt state_cd  zip_text  \\\n",
       "0  2015  100654  Alabama A & M University   Normal       AL   35762.0   \n",
       "1  2015  100654  Alabama A & M University   Normal       AL   35762.0   \n",
       "2  2015  100654  Alabama A & M University   Normal       AL   35762.0   \n",
       "3  2015  100654  Alabama A & M University   Normal       AL   35762.0   \n",
       "4  2015  100654  Alabama A & M University   Normal       AL   35762.0   \n",
       "\n",
       "   classification_code  classification_name classification_other  \\\n",
       "0                    2  NCAA Division I-FCS                  NaN   \n",
       "1                    2  NCAA Division I-FCS                  NaN   \n",
       "2                    2  NCAA Division I-FCS                  NaN   \n",
       "3                    2  NCAA Division I-FCS                  NaN   \n",
       "4                    2  NCAA Division I-FCS                  NaN   \n",
       "\n",
       "   ef_male_count  ...  partic_coed_women  sum_partic_men  sum_partic_women  \\\n",
       "0           1923  ...                NaN              31                 0   \n",
       "1           1923  ...                NaN              19                16   \n",
       "2           1923  ...                NaN              61                46   \n",
       "3           1923  ...                NaN              99                 0   \n",
       "4           1923  ...                NaN               9                 0   \n",
       "\n",
       "     rev_men  rev_women  total_rev_menwomen    exp_men  exp_women  \\\n",
       "0   345592.0        NaN            345592.0   397818.0        NaN   \n",
       "1  1211095.0   748833.0           1959928.0   817868.0   742460.0   \n",
       "2   183333.0   315574.0            498907.0   246949.0   251184.0   \n",
       "3  2808949.0        NaN           2808949.0  3059353.0        NaN   \n",
       "4    78270.0        NaN             78270.0    83913.0        NaN   \n",
       "\n",
       "   total_exp_menwomen              sports  \n",
       "0            397818.0            Baseball  \n",
       "1           1560328.0          Basketball  \n",
       "2            498133.0  All Track Combined  \n",
       "3           3059353.0            Football  \n",
       "4             83913.0                Golf  \n",
       "\n",
       "[5 rows x 28 columns]"
      ]
     },
     "execution_count": 5,
     "metadata": {},
     "output_type": "execute_result"
    }
   ],
   "source": [
    "df = pd.read_csv('https://raw.githubusercontent.com/rfordatascience/tidytuesday/master/data/2022/2022-03-29/sports.csv')\n",
    "df.head()"
   ]
  },
  {
   "cell_type": "code",
   "execution_count": 24,
   "metadata": {},
   "outputs": [
    {
     "data": {
      "text/plain": [
       "year                                                  2019\n",
       "unitid                                              176479\n",
       "institution_name                  William Carey University\n",
       "city_txt                                       Hattiesburg\n",
       "state_cd                                                MS\n",
       "zip_text                                           39401.0\n",
       "classification_code                                      9\n",
       "classification_name                        NAIA Division I\n",
       "classification_other                                   NaN\n",
       "ef_male_count                                          595\n",
       "ef_female_count                                       1206\n",
       "ef_total_count                                        1801\n",
       "sector_cd                                                2\n",
       "sector_name             Private nonprofit, 4-year or above\n",
       "sportscode                                               3\n",
       "partic_men                                             NaN\n",
       "partic_women                                           NaN\n",
       "partic_coed_men                                        NaN\n",
       "partic_coed_women                                      NaN\n",
       "sum_partic_men                                           0\n",
       "sum_partic_women                                         0\n",
       "rev_men                                                NaN\n",
       "rev_women                                              NaN\n",
       "total_rev_menwomen                                     NaN\n",
       "exp_men                                                NaN\n",
       "exp_women                                              NaN\n",
       "total_exp_menwomen                                     NaN\n",
       "sports                                  All Track Combined\n",
       "Name: 98509, dtype: object"
      ]
     },
     "execution_count": 24,
     "metadata": {},
     "output_type": "execute_result"
    }
   ],
   "source": [
    "df.loc[98509]"
   ]
  },
  {
   "cell_type": "code",
   "execution_count": 6,
   "metadata": {},
   "outputs": [
    {
     "data": {
      "text/plain": [
       "Index(['year', 'unitid', 'institution_name', 'city_txt', 'state_cd',\n",
       "       'zip_text', 'classification_code', 'classification_name',\n",
       "       'classification_other', 'ef_male_count', 'ef_female_count',\n",
       "       'ef_total_count', 'sector_cd', 'sector_name', 'sportscode',\n",
       "       'partic_men', 'partic_women', 'partic_coed_men', 'partic_coed_women',\n",
       "       'sum_partic_men', 'sum_partic_women', 'rev_men', 'rev_women',\n",
       "       'total_rev_menwomen', 'exp_men', 'exp_women', 'total_exp_menwomen',\n",
       "       'sports'],\n",
       "      dtype='object')"
      ]
     },
     "execution_count": 6,
     "metadata": {},
     "output_type": "execute_result"
    }
   ],
   "source": [
    "df.columns"
   ]
  },
  {
   "cell_type": "code",
   "execution_count": 7,
   "metadata": {},
   "outputs": [
    {
     "name": "stdout",
     "output_type": "stream",
     "text": [
      "   Unnamed: 0 region   county salesperson  calls  sales\n",
      "0           0  North   Dallam          JE     35     23\n",
      "1           1  North   Dallam          ZQ     49     13\n",
      "2           2  North   Dallam          IJ     20      6\n",
      "3           3  North  Hartley          WE     39     37\n",
      "4           4  North  Hartley          PL     42     37\n"
     ]
    }
   ],
   "source": [
    "df1 = pd.read_csv('https://raw.githubusercontent.com/plotly/datasets/master/sales_success.csv')\n",
    "print(df1.head())"
   ]
  },
  {
   "cell_type": "code",
   "execution_count": 8,
   "metadata": {},
   "outputs": [
    {
     "name": "stdout",
     "output_type": "stream",
     "text": [
      "                       ids    labels parents\n",
      "0        Enzymatic-Flowery   Flowery     NaN\n",
      "1         Enzymatic-Fruity    Fruity     NaN\n",
      "2          Enzymatic-Herby     Herby     NaN\n",
      "3     Sugar Browning-Nutty     Nutty     NaN\n",
      "4  Sugar Browning-Carmelly  Carmelly     NaN\n"
     ]
    }
   ],
   "source": [
    "df2 = pd.read_csv('https://raw.githubusercontent.com/plotly/datasets/718417069ead87650b90472464c7565dc8c2cb1c/coffee-flavors.csv')\n",
    "print(df2.head())"
   ]
  },
  {
   "cell_type": "code",
   "execution_count": 9,
   "metadata": {},
   "outputs": [
    {
     "data": {
      "text/html": [
       "<div>\n",
       "<style scoped>\n",
       "    .dataframe tbody tr th:only-of-type {\n",
       "        vertical-align: middle;\n",
       "    }\n",
       "\n",
       "    .dataframe tbody tr th {\n",
       "        vertical-align: top;\n",
       "    }\n",
       "\n",
       "    .dataframe thead th {\n",
       "        text-align: right;\n",
       "    }\n",
       "</style>\n",
       "<table border=\"1\" class=\"dataframe\">\n",
       "  <thead>\n",
       "    <tr style=\"text-align: right;\">\n",
       "      <th></th>\n",
       "      <th>unitid</th>\n",
       "      <th>institution_name</th>\n",
       "      <th>city_txt</th>\n",
       "      <th>state_cd</th>\n",
       "      <th>zip_text</th>\n",
       "      <th>classification_code</th>\n",
       "      <th>classification_name</th>\n",
       "      <th>classification_other</th>\n",
       "      <th>ef_male_count</th>\n",
       "      <th>ef_female_count</th>\n",
       "      <th>...</th>\n",
       "      <th>partic_coed_women</th>\n",
       "      <th>sum_partic_men</th>\n",
       "      <th>sum_partic_women</th>\n",
       "      <th>rev_men</th>\n",
       "      <th>rev_women</th>\n",
       "      <th>total_rev_menwomen</th>\n",
       "      <th>exp_men</th>\n",
       "      <th>exp_women</th>\n",
       "      <th>total_exp_menwomen</th>\n",
       "      <th>sports</th>\n",
       "    </tr>\n",
       "    <tr>\n",
       "      <th>year</th>\n",
       "      <th></th>\n",
       "      <th></th>\n",
       "      <th></th>\n",
       "      <th></th>\n",
       "      <th></th>\n",
       "      <th></th>\n",
       "      <th></th>\n",
       "      <th></th>\n",
       "      <th></th>\n",
       "      <th></th>\n",
       "      <th></th>\n",
       "      <th></th>\n",
       "      <th></th>\n",
       "      <th></th>\n",
       "      <th></th>\n",
       "      <th></th>\n",
       "      <th></th>\n",
       "      <th></th>\n",
       "      <th></th>\n",
       "      <th></th>\n",
       "      <th></th>\n",
       "    </tr>\n",
       "  </thead>\n",
       "  <tbody>\n",
       "    <tr>\n",
       "      <th>2015</th>\n",
       "      <td>17345</td>\n",
       "      <td>17345</td>\n",
       "      <td>17336</td>\n",
       "      <td>17336</td>\n",
       "      <td>17336</td>\n",
       "      <td>17345</td>\n",
       "      <td>17345</td>\n",
       "      <td>527</td>\n",
       "      <td>17345</td>\n",
       "      <td>17345</td>\n",
       "      <td>...</td>\n",
       "      <td>100</td>\n",
       "      <td>17345</td>\n",
       "      <td>17345</td>\n",
       "      <td>12272</td>\n",
       "      <td>13546</td>\n",
       "      <td>17259</td>\n",
       "      <td>12272</td>\n",
       "      <td>13546</td>\n",
       "      <td>17259</td>\n",
       "      <td>17345</td>\n",
       "    </tr>\n",
       "    <tr>\n",
       "      <th>2016</th>\n",
       "      <td>17414</td>\n",
       "      <td>17414</td>\n",
       "      <td>17405</td>\n",
       "      <td>17405</td>\n",
       "      <td>17405</td>\n",
       "      <td>17414</td>\n",
       "      <td>17414</td>\n",
       "      <td>373</td>\n",
       "      <td>17414</td>\n",
       "      <td>17414</td>\n",
       "      <td>...</td>\n",
       "      <td>127</td>\n",
       "      <td>17414</td>\n",
       "      <td>17414</td>\n",
       "      <td>12272</td>\n",
       "      <td>13660</td>\n",
       "      <td>17304</td>\n",
       "      <td>12272</td>\n",
       "      <td>13660</td>\n",
       "      <td>17304</td>\n",
       "      <td>17414</td>\n",
       "    </tr>\n",
       "    <tr>\n",
       "      <th>2017</th>\n",
       "      <td>17628</td>\n",
       "      <td>17628</td>\n",
       "      <td>17619</td>\n",
       "      <td>17619</td>\n",
       "      <td>17619</td>\n",
       "      <td>17628</td>\n",
       "      <td>17628</td>\n",
       "      <td>385</td>\n",
       "      <td>17628</td>\n",
       "      <td>17628</td>\n",
       "      <td>...</td>\n",
       "      <td>157</td>\n",
       "      <td>17628</td>\n",
       "      <td>17628</td>\n",
       "      <td>12427</td>\n",
       "      <td>13843</td>\n",
       "      <td>17503</td>\n",
       "      <td>12427</td>\n",
       "      <td>13843</td>\n",
       "      <td>17503</td>\n",
       "      <td>17628</td>\n",
       "    </tr>\n",
       "    <tr>\n",
       "      <th>2018</th>\n",
       "      <td>17772</td>\n",
       "      <td>17772</td>\n",
       "      <td>17763</td>\n",
       "      <td>17763</td>\n",
       "      <td>17763</td>\n",
       "      <td>17772</td>\n",
       "      <td>17772</td>\n",
       "      <td>400</td>\n",
       "      <td>17772</td>\n",
       "      <td>17772</td>\n",
       "      <td>...</td>\n",
       "      <td>173</td>\n",
       "      <td>17772</td>\n",
       "      <td>17772</td>\n",
       "      <td>12540</td>\n",
       "      <td>13966</td>\n",
       "      <td>17626</td>\n",
       "      <td>12540</td>\n",
       "      <td>13967</td>\n",
       "      <td>17627</td>\n",
       "      <td>17772</td>\n",
       "    </tr>\n",
       "    <tr>\n",
       "      <th>2019</th>\n",
       "      <td>62168</td>\n",
       "      <td>62168</td>\n",
       "      <td>62159</td>\n",
       "      <td>62159</td>\n",
       "      <td>62159</td>\n",
       "      <td>62168</td>\n",
       "      <td>62168</td>\n",
       "      <td>0</td>\n",
       "      <td>62168</td>\n",
       "      <td>62168</td>\n",
       "      <td>...</td>\n",
       "      <td>210</td>\n",
       "      <td>62168</td>\n",
       "      <td>62168</td>\n",
       "      <td>12354</td>\n",
       "      <td>13868</td>\n",
       "      <td>17442</td>\n",
       "      <td>12354</td>\n",
       "      <td>13869</td>\n",
       "      <td>17443</td>\n",
       "      <td>62168</td>\n",
       "    </tr>\n",
       "  </tbody>\n",
       "</table>\n",
       "<p>5 rows × 27 columns</p>\n",
       "</div>"
      ],
      "text/plain": [
       "      unitid  institution_name  city_txt  state_cd  zip_text  \\\n",
       "year                                                           \n",
       "2015   17345             17345     17336     17336     17336   \n",
       "2016   17414             17414     17405     17405     17405   \n",
       "2017   17628             17628     17619     17619     17619   \n",
       "2018   17772             17772     17763     17763     17763   \n",
       "2019   62168             62168     62159     62159     62159   \n",
       "\n",
       "      classification_code  classification_name  classification_other  \\\n",
       "year                                                                   \n",
       "2015                17345                17345                   527   \n",
       "2016                17414                17414                   373   \n",
       "2017                17628                17628                   385   \n",
       "2018                17772                17772                   400   \n",
       "2019                62168                62168                     0   \n",
       "\n",
       "      ef_male_count  ef_female_count  ...  partic_coed_women  sum_partic_men  \\\n",
       "year                                  ...                                      \n",
       "2015          17345            17345  ...                100           17345   \n",
       "2016          17414            17414  ...                127           17414   \n",
       "2017          17628            17628  ...                157           17628   \n",
       "2018          17772            17772  ...                173           17772   \n",
       "2019          62168            62168  ...                210           62168   \n",
       "\n",
       "      sum_partic_women  rev_men  rev_women  total_rev_menwomen  exp_men  \\\n",
       "year                                                                      \n",
       "2015             17345    12272      13546               17259    12272   \n",
       "2016             17414    12272      13660               17304    12272   \n",
       "2017             17628    12427      13843               17503    12427   \n",
       "2018             17772    12540      13966               17626    12540   \n",
       "2019             62168    12354      13868               17442    12354   \n",
       "\n",
       "      exp_women  total_exp_menwomen  sports  \n",
       "year                                         \n",
       "2015      13546               17259   17345  \n",
       "2016      13660               17304   17414  \n",
       "2017      13843               17503   17628  \n",
       "2018      13967               17627   17772  \n",
       "2019      13869               17443   62168  \n",
       "\n",
       "[5 rows x 27 columns]"
      ]
     },
     "execution_count": 9,
     "metadata": {},
     "output_type": "execute_result"
    }
   ],
   "source": [
    "df.groupby(['year']).count()"
   ]
  },
  {
   "cell_type": "code",
   "execution_count": 35,
   "metadata": {},
   "outputs": [
    {
     "data": {
      "text/plain": [
       "Index(['year', 'unitid', 'institution_name', 'city_txt', 'state_cd',\n",
       "       'zip_text', 'classification_code', 'classification_name',\n",
       "       'classification_other', 'ef_male_count', 'ef_female_count',\n",
       "       'ef_total_count', 'sector_cd', 'sector_name', 'sportscode',\n",
       "       'partic_men', 'partic_women', 'partic_coed_men', 'partic_coed_women',\n",
       "       'sum_partic_men', 'sum_partic_women', 'rev_men', 'rev_women',\n",
       "       'total_rev_menwomen', 'exp_men', 'exp_women', 'total_exp_menwomen',\n",
       "       'sports'],\n",
       "      dtype='object')"
      ]
     },
     "execution_count": 35,
     "metadata": {},
     "output_type": "execute_result"
    }
   ],
   "source": [
    "df.columns"
   ]
  },
  {
   "cell_type": "code",
   "execution_count": 25,
   "metadata": {},
   "outputs": [],
   "source": [
    "reduced_df= df[['institution_name', 'classification_name', 'state_cd', 'rev_men','rev_women','total_rev_menwomen', 'exp_men', 'exp_women', 'total_exp_menwomen']][df['year']==2019].reset_index(drop=True)"
   ]
  },
  {
   "cell_type": "code",
   "execution_count": 26,
   "metadata": {},
   "outputs": [
    {
     "data": {
      "text/html": [
       "<div>\n",
       "<style scoped>\n",
       "    .dataframe tbody tr th:only-of-type {\n",
       "        vertical-align: middle;\n",
       "    }\n",
       "\n",
       "    .dataframe tbody tr th {\n",
       "        vertical-align: top;\n",
       "    }\n",
       "\n",
       "    .dataframe thead th {\n",
       "        text-align: right;\n",
       "    }\n",
       "</style>\n",
       "<table border=\"1\" class=\"dataframe\">\n",
       "  <thead>\n",
       "    <tr style=\"text-align: right;\">\n",
       "      <th></th>\n",
       "      <th>institution_name</th>\n",
       "      <th>classification_name</th>\n",
       "      <th>state_cd</th>\n",
       "      <th>rev_men</th>\n",
       "      <th>rev_women</th>\n",
       "      <th>total_rev_menwomen</th>\n",
       "      <th>exp_men</th>\n",
       "      <th>exp_women</th>\n",
       "      <th>total_exp_menwomen</th>\n",
       "    </tr>\n",
       "  </thead>\n",
       "  <tbody>\n",
       "    <tr>\n",
       "      <th>0</th>\n",
       "      <td>Alabama A &amp; M University</td>\n",
       "      <td>NCAA Division I-FCS</td>\n",
       "      <td>AL</td>\n",
       "      <td>318774.0</td>\n",
       "      <td>NaN</td>\n",
       "      <td>318774.0</td>\n",
       "      <td>318774.0</td>\n",
       "      <td>NaN</td>\n",
       "      <td>318774.0</td>\n",
       "    </tr>\n",
       "    <tr>\n",
       "      <th>1</th>\n",
       "      <td>Alabama A &amp; M University</td>\n",
       "      <td>NCAA Division I-FCS</td>\n",
       "      <td>AL</td>\n",
       "      <td>1382143.0</td>\n",
       "      <td>1289349.0</td>\n",
       "      <td>2671492.0</td>\n",
       "      <td>1567122.0</td>\n",
       "      <td>1387755.0</td>\n",
       "      <td>2954877.0</td>\n",
       "    </tr>\n",
       "    <tr>\n",
       "      <th>2</th>\n",
       "      <td>Alabama A &amp; M University</td>\n",
       "      <td>NCAA Division I-FCS</td>\n",
       "      <td>AL</td>\n",
       "      <td>4991965.0</td>\n",
       "      <td>NaN</td>\n",
       "      <td>4991965.0</td>\n",
       "      <td>4991965.0</td>\n",
       "      <td>NaN</td>\n",
       "      <td>4991965.0</td>\n",
       "    </tr>\n",
       "    <tr>\n",
       "      <th>3</th>\n",
       "      <td>Alabama A &amp; M University</td>\n",
       "      <td>NCAA Division I-FCS</td>\n",
       "      <td>AL</td>\n",
       "      <td>77349.0</td>\n",
       "      <td>NaN</td>\n",
       "      <td>77349.0</td>\n",
       "      <td>71849.0</td>\n",
       "      <td>NaN</td>\n",
       "      <td>71849.0</td>\n",
       "    </tr>\n",
       "    <tr>\n",
       "      <th>4</th>\n",
       "      <td>Alabama A &amp; M University</td>\n",
       "      <td>NCAA Division I-FCS</td>\n",
       "      <td>AL</td>\n",
       "      <td>NaN</td>\n",
       "      <td>579985.0</td>\n",
       "      <td>579985.0</td>\n",
       "      <td>NaN</td>\n",
       "      <td>579989.0</td>\n",
       "      <td>579989.0</td>\n",
       "    </tr>\n",
       "  </tbody>\n",
       "</table>\n",
       "</div>"
      ],
      "text/plain": [
       "           institution_name  classification_name state_cd    rev_men  \\\n",
       "0  Alabama A & M University  NCAA Division I-FCS       AL   318774.0   \n",
       "1  Alabama A & M University  NCAA Division I-FCS       AL  1382143.0   \n",
       "2  Alabama A & M University  NCAA Division I-FCS       AL  4991965.0   \n",
       "3  Alabama A & M University  NCAA Division I-FCS       AL    77349.0   \n",
       "4  Alabama A & M University  NCAA Division I-FCS       AL        NaN   \n",
       "\n",
       "   rev_women  total_rev_menwomen    exp_men  exp_women  total_exp_menwomen  \n",
       "0        NaN            318774.0   318774.0        NaN            318774.0  \n",
       "1  1289349.0           2671492.0  1567122.0  1387755.0           2954877.0  \n",
       "2        NaN           4991965.0  4991965.0        NaN           4991965.0  \n",
       "3        NaN             77349.0    71849.0        NaN             71849.0  \n",
       "4   579985.0            579985.0        NaN   579989.0            579989.0  "
      ]
     },
     "execution_count": 26,
     "metadata": {},
     "output_type": "execute_result"
    }
   ],
   "source": [
    "reduced_df.head()"
   ]
  },
  {
   "cell_type": "code",
   "execution_count": 48,
   "metadata": {},
   "outputs": [
    {
     "data": {
      "text/html": [
       "<div>\n",
       "<style scoped>\n",
       "    .dataframe tbody tr th:only-of-type {\n",
       "        vertical-align: middle;\n",
       "    }\n",
       "\n",
       "    .dataframe tbody tr th {\n",
       "        vertical-align: top;\n",
       "    }\n",
       "\n",
       "    .dataframe thead th {\n",
       "        text-align: right;\n",
       "    }\n",
       "</style>\n",
       "<table border=\"1\" class=\"dataframe\">\n",
       "  <thead>\n",
       "    <tr style=\"text-align: right;\">\n",
       "      <th></th>\n",
       "      <th>classification_name</th>\n",
       "      <th>rev_men</th>\n",
       "      <th>rev_women</th>\n",
       "      <th>exp_men</th>\n",
       "      <th>exp_women</th>\n",
       "    </tr>\n",
       "  </thead>\n",
       "  <tbody>\n",
       "    <tr>\n",
       "      <th>0</th>\n",
       "      <td>CCCAA</td>\n",
       "      <td>8.234866e+04</td>\n",
       "      <td>59031.821839</td>\n",
       "      <td>7.967477e+04</td>\n",
       "      <td>56524.014368</td>\n",
       "    </tr>\n",
       "    <tr>\n",
       "      <th>1</th>\n",
       "      <td>Independent</td>\n",
       "      <td>5.777127e+04</td>\n",
       "      <td>59733.400000</td>\n",
       "      <td>5.701800e+04</td>\n",
       "      <td>58707.600000</td>\n",
       "    </tr>\n",
       "    <tr>\n",
       "      <th>2</th>\n",
       "      <td>NAIA Division I</td>\n",
       "      <td>3.971651e+05</td>\n",
       "      <td>249009.192416</td>\n",
       "      <td>3.901975e+05</td>\n",
       "      <td>249057.382022</td>\n",
       "    </tr>\n",
       "    <tr>\n",
       "      <th>3</th>\n",
       "      <td>NAIA Division II</td>\n",
       "      <td>3.466410e+05</td>\n",
       "      <td>221994.887593</td>\n",
       "      <td>3.424454e+05</td>\n",
       "      <td>211985.822906</td>\n",
       "    </tr>\n",
       "    <tr>\n",
       "      <th>4</th>\n",
       "      <td>NCAA Division I without football</td>\n",
       "      <td>1.071940e+06</td>\n",
       "      <td>754352.856397</td>\n",
       "      <td>1.055639e+06</td>\n",
       "      <td>771784.537859</td>\n",
       "    </tr>\n",
       "  </tbody>\n",
       "</table>\n",
       "</div>"
      ],
      "text/plain": [
       "                classification_name       rev_men      rev_women  \\\n",
       "0                             CCCAA  8.234866e+04   59031.821839   \n",
       "1                       Independent  5.777127e+04   59733.400000   \n",
       "2                   NAIA Division I  3.971651e+05  249009.192416   \n",
       "3                  NAIA Division II  3.466410e+05  221994.887593   \n",
       "4  NCAA Division I without football  1.071940e+06  754352.856397   \n",
       "\n",
       "        exp_men      exp_women  \n",
       "0  7.967477e+04   56524.014368  \n",
       "1  5.701800e+04   58707.600000  \n",
       "2  3.901975e+05  249057.382022  \n",
       "3  3.424454e+05  211985.822906  \n",
       "4  1.055639e+06  771784.537859  "
      ]
     },
     "execution_count": 48,
     "metadata": {},
     "output_type": "execute_result"
    }
   ],
   "source": [
    "wide_df= reduced_df.groupby(['classification_name'])[['rev_men','rev_women', 'exp_men', 'exp_women']].mean().reset_index()\n",
    "wide_df.head()"
   ]
  },
  {
   "cell_type": "code",
   "execution_count": null,
   "metadata": {},
   "outputs": [],
   "source": []
  },
  {
   "cell_type": "code",
   "execution_count": 53,
   "metadata": {},
   "outputs": [],
   "source": [
    "stubnames = sorted(\n",
    "    set([match[0] for match in wide_df.columns.str.findall(\n",
    "        r'[A-B]\\(.*\\)').values if match != []]))"
   ]
  },
  {
   "cell_type": "code",
   "execution_count": 54,
   "metadata": {},
   "outputs": [
    {
     "data": {
      "text/plain": [
       "[]"
      ]
     },
     "execution_count": 54,
     "metadata": {},
     "output_type": "execute_result"
    }
   ],
   "source": [
    "stubnames"
   ]
  },
  {
   "cell_type": "code",
   "execution_count": 57,
   "metadata": {},
   "outputs": [
    {
     "data": {
      "text/html": [
       "<div>\n",
       "<style scoped>\n",
       "    .dataframe tbody tr th:only-of-type {\n",
       "        vertical-align: middle;\n",
       "    }\n",
       "\n",
       "    .dataframe tbody tr th {\n",
       "        vertical-align: top;\n",
       "    }\n",
       "\n",
       "    .dataframe thead th {\n",
       "        text-align: right;\n",
       "    }\n",
       "</style>\n",
       "<table border=\"1\" class=\"dataframe\">\n",
       "  <thead>\n",
       "    <tr style=\"text-align: right;\">\n",
       "      <th></th>\n",
       "      <th>classification_name</th>\n",
       "      <th>gender</th>\n",
       "      <th>rev</th>\n",
       "      <th>exp</th>\n",
       "    </tr>\n",
       "  </thead>\n",
       "  <tbody>\n",
       "    <tr>\n",
       "      <th>0</th>\n",
       "      <td>CCCAA</td>\n",
       "      <td>men</td>\n",
       "      <td>8.234866e+04</td>\n",
       "      <td>7.967477e+04</td>\n",
       "    </tr>\n",
       "    <tr>\n",
       "      <th>1</th>\n",
       "      <td>Independent</td>\n",
       "      <td>men</td>\n",
       "      <td>5.777127e+04</td>\n",
       "      <td>5.701800e+04</td>\n",
       "    </tr>\n",
       "    <tr>\n",
       "      <th>2</th>\n",
       "      <td>NAIA Division I</td>\n",
       "      <td>men</td>\n",
       "      <td>3.971651e+05</td>\n",
       "      <td>3.901975e+05</td>\n",
       "    </tr>\n",
       "    <tr>\n",
       "      <th>3</th>\n",
       "      <td>NAIA Division II</td>\n",
       "      <td>men</td>\n",
       "      <td>3.466410e+05</td>\n",
       "      <td>3.424454e+05</td>\n",
       "    </tr>\n",
       "    <tr>\n",
       "      <th>4</th>\n",
       "      <td>NCAA Division I without football</td>\n",
       "      <td>men</td>\n",
       "      <td>1.071940e+06</td>\n",
       "      <td>1.055639e+06</td>\n",
       "    </tr>\n",
       "  </tbody>\n",
       "</table>\n",
       "</div>"
      ],
      "text/plain": [
       "                classification_name gender           rev           exp\n",
       "0                             CCCAA    men  8.234866e+04  7.967477e+04\n",
       "1                       Independent    men  5.777127e+04  5.701800e+04\n",
       "2                   NAIA Division I    men  3.971651e+05  3.901975e+05\n",
       "3                  NAIA Division II    men  3.466410e+05  3.424454e+05\n",
       "4  NCAA Division I without football    men  1.071940e+06  1.055639e+06"
      ]
     },
     "execution_count": 57,
     "metadata": {},
     "output_type": "execute_result"
    }
   ],
   "source": [
    "long_df=pd.wide_to_long(wide_df, stubnames=['rev','exp'],  i = 'classification_name', j='gender', sep='_',suffix=r'\\w+').reset_index()\n",
    "long_df.head()"
   ]
  },
  {
   "cell_type": "code",
   "execution_count": 58,
   "metadata": {},
   "outputs": [
    {
     "data": {
      "text/plain": [
       "(38, 4)"
      ]
     },
     "execution_count": 58,
     "metadata": {},
     "output_type": "execute_result"
    }
   ],
   "source": [
    "long_df.shape"
   ]
  },
  {
   "cell_type": "code",
   "execution_count": 66,
   "metadata": {},
   "outputs": [
    {
     "data": {
      "text/html": [
       "<div>\n",
       "<style scoped>\n",
       "    .dataframe tbody tr th:only-of-type {\n",
       "        vertical-align: middle;\n",
       "    }\n",
       "\n",
       "    .dataframe tbody tr th {\n",
       "        vertical-align: top;\n",
       "    }\n",
       "\n",
       "    .dataframe thead th {\n",
       "        text-align: right;\n",
       "    }\n",
       "</style>\n",
       "<table border=\"1\" class=\"dataframe\">\n",
       "  <thead>\n",
       "    <tr style=\"text-align: right;\">\n",
       "      <th></th>\n",
       "      <th>classification_name</th>\n",
       "      <th>gender</th>\n",
       "      <th>rev</th>\n",
       "      <th>exp</th>\n",
       "    </tr>\n",
       "  </thead>\n",
       "  <tbody>\n",
       "    <tr>\n",
       "      <th>0</th>\n",
       "      <td>CCCAA</td>\n",
       "      <td>men</td>\n",
       "      <td>8.234866e+04</td>\n",
       "      <td>7.967477e+04</td>\n",
       "    </tr>\n",
       "    <tr>\n",
       "      <th>1</th>\n",
       "      <td>Independent</td>\n",
       "      <td>men</td>\n",
       "      <td>5.777127e+04</td>\n",
       "      <td>5.701800e+04</td>\n",
       "    </tr>\n",
       "    <tr>\n",
       "      <th>2</th>\n",
       "      <td>NAIA Division I</td>\n",
       "      <td>men</td>\n",
       "      <td>3.971651e+05</td>\n",
       "      <td>3.901975e+05</td>\n",
       "    </tr>\n",
       "    <tr>\n",
       "      <th>3</th>\n",
       "      <td>NAIA Division II</td>\n",
       "      <td>men</td>\n",
       "      <td>3.466410e+05</td>\n",
       "      <td>3.424454e+05</td>\n",
       "    </tr>\n",
       "    <tr>\n",
       "      <th>4</th>\n",
       "      <td>NCAA Division I without football</td>\n",
       "      <td>men</td>\n",
       "      <td>1.071940e+06</td>\n",
       "      <td>1.055639e+06</td>\n",
       "    </tr>\n",
       "    <tr>\n",
       "      <th>5</th>\n",
       "      <td>NCAA Division I-FBS</td>\n",
       "      <td>men</td>\n",
       "      <td>6.959783e+06</td>\n",
       "      <td>5.085428e+06</td>\n",
       "    </tr>\n",
       "    <tr>\n",
       "      <th>6</th>\n",
       "      <td>NCAA Division I-FCS</td>\n",
       "      <td>men</td>\n",
       "      <td>1.261680e+06</td>\n",
       "      <td>1.252019e+06</td>\n",
       "    </tr>\n",
       "    <tr>\n",
       "      <th>7</th>\n",
       "      <td>NCAA Division II with football</td>\n",
       "      <td>men</td>\n",
       "      <td>5.136282e+05</td>\n",
       "      <td>5.099643e+05</td>\n",
       "    </tr>\n",
       "    <tr>\n",
       "      <th>8</th>\n",
       "      <td>NCAA Division II without football</td>\n",
       "      <td>men</td>\n",
       "      <td>3.364327e+05</td>\n",
       "      <td>3.326719e+05</td>\n",
       "    </tr>\n",
       "    <tr>\n",
       "      <th>9</th>\n",
       "      <td>NCAA Division III with football</td>\n",
       "      <td>men</td>\n",
       "      <td>1.672717e+05</td>\n",
       "      <td>1.622905e+05</td>\n",
       "    </tr>\n",
       "    <tr>\n",
       "      <th>10</th>\n",
       "      <td>NCAA Division III without football</td>\n",
       "      <td>men</td>\n",
       "      <td>9.521539e+04</td>\n",
       "      <td>9.201325e+04</td>\n",
       "    </tr>\n",
       "    <tr>\n",
       "      <th>11</th>\n",
       "      <td>NCCAA Division I</td>\n",
       "      <td>men</td>\n",
       "      <td>9.862176e+04</td>\n",
       "      <td>9.764552e+04</td>\n",
       "    </tr>\n",
       "    <tr>\n",
       "      <th>12</th>\n",
       "      <td>NCCAA Division II</td>\n",
       "      <td>men</td>\n",
       "      <td>6.239703e+04</td>\n",
       "      <td>6.166053e+04</td>\n",
       "    </tr>\n",
       "    <tr>\n",
       "      <th>13</th>\n",
       "      <td>NJCAA Division I</td>\n",
       "      <td>men</td>\n",
       "      <td>2.242280e+05</td>\n",
       "      <td>2.211352e+05</td>\n",
       "    </tr>\n",
       "    <tr>\n",
       "      <th>14</th>\n",
       "      <td>NJCAA Division II</td>\n",
       "      <td>men</td>\n",
       "      <td>9.499773e+04</td>\n",
       "      <td>9.286592e+04</td>\n",
       "    </tr>\n",
       "    <tr>\n",
       "      <th>15</th>\n",
       "      <td>NJCAA Division III</td>\n",
       "      <td>men</td>\n",
       "      <td>4.455746e+04</td>\n",
       "      <td>4.248954e+04</td>\n",
       "    </tr>\n",
       "    <tr>\n",
       "      <th>16</th>\n",
       "      <td>NWAC</td>\n",
       "      <td>men</td>\n",
       "      <td>7.227246e+04</td>\n",
       "      <td>6.780495e+04</td>\n",
       "    </tr>\n",
       "    <tr>\n",
       "      <th>17</th>\n",
       "      <td>Other</td>\n",
       "      <td>men</td>\n",
       "      <td>1.182548e+05</td>\n",
       "      <td>1.161771e+05</td>\n",
       "    </tr>\n",
       "    <tr>\n",
       "      <th>18</th>\n",
       "      <td>USCAA</td>\n",
       "      <td>men</td>\n",
       "      <td>5.569727e+04</td>\n",
       "      <td>5.526318e+04</td>\n",
       "    </tr>\n",
       "    <tr>\n",
       "      <th>19</th>\n",
       "      <td>CCCAA</td>\n",
       "      <td>women</td>\n",
       "      <td>5.903182e+04</td>\n",
       "      <td>5.652401e+04</td>\n",
       "    </tr>\n",
       "    <tr>\n",
       "      <th>20</th>\n",
       "      <td>Independent</td>\n",
       "      <td>women</td>\n",
       "      <td>5.973340e+04</td>\n",
       "      <td>5.870760e+04</td>\n",
       "    </tr>\n",
       "    <tr>\n",
       "      <th>21</th>\n",
       "      <td>NAIA Division I</td>\n",
       "      <td>women</td>\n",
       "      <td>2.490092e+05</td>\n",
       "      <td>2.490574e+05</td>\n",
       "    </tr>\n",
       "    <tr>\n",
       "      <th>22</th>\n",
       "      <td>NAIA Division II</td>\n",
       "      <td>women</td>\n",
       "      <td>2.219949e+05</td>\n",
       "      <td>2.119858e+05</td>\n",
       "    </tr>\n",
       "    <tr>\n",
       "      <th>23</th>\n",
       "      <td>NCAA Division I without football</td>\n",
       "      <td>women</td>\n",
       "      <td>7.543529e+05</td>\n",
       "      <td>7.717845e+05</td>\n",
       "    </tr>\n",
       "    <tr>\n",
       "      <th>24</th>\n",
       "      <td>NCAA Division I-FBS</td>\n",
       "      <td>women</td>\n",
       "      <td>8.141867e+05</td>\n",
       "      <td>1.483715e+06</td>\n",
       "    </tr>\n",
       "    <tr>\n",
       "      <th>25</th>\n",
       "      <td>NCAA Division I-FCS</td>\n",
       "      <td>women</td>\n",
       "      <td>6.283716e+05</td>\n",
       "      <td>6.401587e+05</td>\n",
       "    </tr>\n",
       "    <tr>\n",
       "      <th>26</th>\n",
       "      <td>NCAA Division II with football</td>\n",
       "      <td>women</td>\n",
       "      <td>2.837808e+05</td>\n",
       "      <td>2.846533e+05</td>\n",
       "    </tr>\n",
       "    <tr>\n",
       "      <th>27</th>\n",
       "      <td>NCAA Division II without football</td>\n",
       "      <td>women</td>\n",
       "      <td>2.943614e+05</td>\n",
       "      <td>2.926373e+05</td>\n",
       "    </tr>\n",
       "    <tr>\n",
       "      <th>28</th>\n",
       "      <td>NCAA Division III with football</td>\n",
       "      <td>women</td>\n",
       "      <td>1.071317e+05</td>\n",
       "      <td>1.048573e+05</td>\n",
       "    </tr>\n",
       "    <tr>\n",
       "      <th>29</th>\n",
       "      <td>NCAA Division III without football</td>\n",
       "      <td>women</td>\n",
       "      <td>8.134715e+04</td>\n",
       "      <td>7.972650e+04</td>\n",
       "    </tr>\n",
       "    <tr>\n",
       "      <th>30</th>\n",
       "      <td>NCCAA Division I</td>\n",
       "      <td>women</td>\n",
       "      <td>7.273375e+04</td>\n",
       "      <td>7.183675e+04</td>\n",
       "    </tr>\n",
       "    <tr>\n",
       "      <th>31</th>\n",
       "      <td>NCCAA Division II</td>\n",
       "      <td>women</td>\n",
       "      <td>4.564546e+04</td>\n",
       "      <td>4.590208e+04</td>\n",
       "    </tr>\n",
       "    <tr>\n",
       "      <th>32</th>\n",
       "      <td>NJCAA Division I</td>\n",
       "      <td>women</td>\n",
       "      <td>1.679716e+05</td>\n",
       "      <td>1.663724e+05</td>\n",
       "    </tr>\n",
       "    <tr>\n",
       "      <th>33</th>\n",
       "      <td>NJCAA Division II</td>\n",
       "      <td>women</td>\n",
       "      <td>7.729942e+04</td>\n",
       "      <td>7.584323e+04</td>\n",
       "    </tr>\n",
       "    <tr>\n",
       "      <th>34</th>\n",
       "      <td>NJCAA Division III</td>\n",
       "      <td>women</td>\n",
       "      <td>3.529859e+04</td>\n",
       "      <td>3.404871e+04</td>\n",
       "    </tr>\n",
       "    <tr>\n",
       "      <th>35</th>\n",
       "      <td>NWAC</td>\n",
       "      <td>women</td>\n",
       "      <td>6.461994e+04</td>\n",
       "      <td>5.863196e+04</td>\n",
       "    </tr>\n",
       "    <tr>\n",
       "      <th>36</th>\n",
       "      <td>Other</td>\n",
       "      <td>women</td>\n",
       "      <td>8.583252e+04</td>\n",
       "      <td>8.593668e+04</td>\n",
       "    </tr>\n",
       "    <tr>\n",
       "      <th>37</th>\n",
       "      <td>USCAA</td>\n",
       "      <td>women</td>\n",
       "      <td>5.047453e+04</td>\n",
       "      <td>5.056797e+04</td>\n",
       "    </tr>\n",
       "  </tbody>\n",
       "</table>\n",
       "</div>"
      ],
      "text/plain": [
       "                   classification_name gender           rev           exp\n",
       "0                                CCCAA    men  8.234866e+04  7.967477e+04\n",
       "1                          Independent    men  5.777127e+04  5.701800e+04\n",
       "2                      NAIA Division I    men  3.971651e+05  3.901975e+05\n",
       "3                     NAIA Division II    men  3.466410e+05  3.424454e+05\n",
       "4     NCAA Division I without football    men  1.071940e+06  1.055639e+06\n",
       "5                  NCAA Division I-FBS    men  6.959783e+06  5.085428e+06\n",
       "6                  NCAA Division I-FCS    men  1.261680e+06  1.252019e+06\n",
       "7       NCAA Division II with football    men  5.136282e+05  5.099643e+05\n",
       "8    NCAA Division II without football    men  3.364327e+05  3.326719e+05\n",
       "9      NCAA Division III with football    men  1.672717e+05  1.622905e+05\n",
       "10  NCAA Division III without football    men  9.521539e+04  9.201325e+04\n",
       "11                    NCCAA Division I    men  9.862176e+04  9.764552e+04\n",
       "12                   NCCAA Division II    men  6.239703e+04  6.166053e+04\n",
       "13                    NJCAA Division I    men  2.242280e+05  2.211352e+05\n",
       "14                   NJCAA Division II    men  9.499773e+04  9.286592e+04\n",
       "15                  NJCAA Division III    men  4.455746e+04  4.248954e+04\n",
       "16                                NWAC    men  7.227246e+04  6.780495e+04\n",
       "17                               Other    men  1.182548e+05  1.161771e+05\n",
       "18                               USCAA    men  5.569727e+04  5.526318e+04\n",
       "19                               CCCAA  women  5.903182e+04  5.652401e+04\n",
       "20                         Independent  women  5.973340e+04  5.870760e+04\n",
       "21                     NAIA Division I  women  2.490092e+05  2.490574e+05\n",
       "22                    NAIA Division II  women  2.219949e+05  2.119858e+05\n",
       "23    NCAA Division I without football  women  7.543529e+05  7.717845e+05\n",
       "24                 NCAA Division I-FBS  women  8.141867e+05  1.483715e+06\n",
       "25                 NCAA Division I-FCS  women  6.283716e+05  6.401587e+05\n",
       "26      NCAA Division II with football  women  2.837808e+05  2.846533e+05\n",
       "27   NCAA Division II without football  women  2.943614e+05  2.926373e+05\n",
       "28     NCAA Division III with football  women  1.071317e+05  1.048573e+05\n",
       "29  NCAA Division III without football  women  8.134715e+04  7.972650e+04\n",
       "30                    NCCAA Division I  women  7.273375e+04  7.183675e+04\n",
       "31                   NCCAA Division II  women  4.564546e+04  4.590208e+04\n",
       "32                    NJCAA Division I  women  1.679716e+05  1.663724e+05\n",
       "33                   NJCAA Division II  women  7.729942e+04  7.584323e+04\n",
       "34                  NJCAA Division III  women  3.529859e+04  3.404871e+04\n",
       "35                                NWAC  women  6.461994e+04  5.863196e+04\n",
       "36                               Other  women  8.583252e+04  8.593668e+04\n",
       "37                               USCAA  women  5.047453e+04  5.056797e+04"
      ]
     },
     "execution_count": 66,
     "metadata": {},
     "output_type": "execute_result"
    }
   ],
   "source": [
    "long_df"
   ]
  },
  {
   "cell_type": "code",
   "execution_count": 72,
   "metadata": {},
   "outputs": [
    {
     "data": {
      "text/plain": [
       "RangeIndex(start=0, stop=38, step=1)"
      ]
     },
     "execution_count": 72,
     "metadata": {},
     "output_type": "execute_result"
    }
   ],
   "source": []
  },
  {
   "cell_type": "code",
   "execution_count": 76,
   "metadata": {},
   "outputs": [
    {
     "data": {
      "application/vnd.plotly.v1+json": {
       "config": {
        "plotlyServerURL": "https://plot.ly"
       },
       "data": [
        {
         "branchvalues": "total",
         "domain": {
          "x": [
           0,
           1
          ],
          "y": [
           0,
           1
          ]
         },
         "hovertemplate": "labels=%{label}<br>rev=%{value}<br>parent=%{parent}<br>id=%{id}<extra></extra>",
         "ids": [
          "men/CCCAA",
          "women/CCCAA",
          "men/Independent",
          "women/Independent",
          "men/NAIA Division I",
          "women/NAIA Division I",
          "men/NAIA Division II",
          "women/NAIA Division II",
          "men/NCAA Division I without football",
          "women/NCAA Division I without football",
          "men/NCAA Division I-FBS",
          "women/NCAA Division I-FBS",
          "men/NCAA Division I-FCS",
          "women/NCAA Division I-FCS",
          "men/NCAA Division II with football",
          "women/NCAA Division II with football",
          "men/NCAA Division II without football",
          "women/NCAA Division II without football",
          "men/NCAA Division III with football",
          "women/NCAA Division III with football",
          "men/NCAA Division III without football",
          "women/NCAA Division III without football",
          "men/NCCAA Division I",
          "women/NCCAA Division I",
          "men/NCCAA Division II",
          "women/NCCAA Division II",
          "men/NJCAA Division I",
          "women/NJCAA Division I",
          "men/NJCAA Division II",
          "women/NJCAA Division II",
          "men/NJCAA Division III",
          "women/NJCAA Division III",
          "men/NWAC",
          "women/NWAC",
          "men/Other",
          "women/Other",
          "men/USCAA",
          "women/USCAA",
          "men",
          "women"
         ],
         "labels": [
          "CCCAA",
          "CCCAA",
          "Independent",
          "Independent",
          "NAIA Division I",
          "NAIA Division I",
          "NAIA Division II",
          "NAIA Division II",
          "NCAA Division I without football",
          "NCAA Division I without football",
          "NCAA Division I-FBS",
          "NCAA Division I-FBS",
          "NCAA Division I-FCS",
          "NCAA Division I-FCS",
          "NCAA Division II with football",
          "NCAA Division II with football",
          "NCAA Division II without football",
          "NCAA Division II without football",
          "NCAA Division III with football",
          "NCAA Division III with football",
          "NCAA Division III without football",
          "NCAA Division III without football",
          "NCCAA Division I",
          "NCCAA Division I",
          "NCCAA Division II",
          "NCCAA Division II",
          "NJCAA Division I",
          "NJCAA Division I",
          "NJCAA Division II",
          "NJCAA Division II",
          "NJCAA Division III",
          "NJCAA Division III",
          "NWAC",
          "NWAC",
          "Other",
          "Other",
          "USCAA",
          "USCAA",
          "men",
          "women"
         ],
         "name": "",
         "parents": [
          "men",
          "women",
          "men",
          "women",
          "men",
          "women",
          "men",
          "women",
          "men",
          "women",
          "men",
          "women",
          "men",
          "women",
          "men",
          "women",
          "men",
          "women",
          "men",
          "women",
          "men",
          "women",
          "men",
          "women",
          "men",
          "women",
          "men",
          "women",
          "men",
          "women",
          "men",
          "women",
          "men",
          "women",
          "men",
          "women",
          "men",
          "women",
          "",
          ""
         ],
         "type": "sunburst",
         "values": [
          82348.65822784811,
          59031.82183908046,
          57771.27272727273,
          59733.4,
          397165.07099697884,
          249009.19241573033,
          346640.96400449943,
          221994.88759278896,
          1071939.6426332288,
          754352.8563968668,
          6959783.143947655,
          814186.6867061811,
          1261679.8623348018,
          628371.6215978928,
          513628.23886255926,
          283780.76442307694,
          336432.71381936886,
          294361.4219600726,
          167271.68766637088,
          107131.67927773001,
          95215.38820826952,
          81347.14896459586,
          98621.76190476191,
          72733.75,
          62397.02597402597,
          45645.4578313253,
          224228.0182841069,
          167971.56258234518,
          94997.72727272728,
          77299.41534988713,
          44557.46073298429,
          35298.58583106267,
          72272.46226415095,
          64619.94160583941,
          118254.78892733564,
          85832.51811594203,
          55697.270440251574,
          50474.52760736196,
          12060903.159229198,
          4153177.24009778
         ]
        }
       ],
       "layout": {
        "legend": {
         "tracegroupgap": 0
        },
        "template": {
         "data": {
          "bar": [
           {
            "error_x": {
             "color": "#2a3f5f"
            },
            "error_y": {
             "color": "#2a3f5f"
            },
            "marker": {
             "line": {
              "color": "#E5ECF6",
              "width": 0.5
             }
            },
            "type": "bar"
           }
          ],
          "barpolar": [
           {
            "marker": {
             "line": {
              "color": "#E5ECF6",
              "width": 0.5
             }
            },
            "type": "barpolar"
           }
          ],
          "carpet": [
           {
            "aaxis": {
             "endlinecolor": "#2a3f5f",
             "gridcolor": "white",
             "linecolor": "white",
             "minorgridcolor": "white",
             "startlinecolor": "#2a3f5f"
            },
            "baxis": {
             "endlinecolor": "#2a3f5f",
             "gridcolor": "white",
             "linecolor": "white",
             "minorgridcolor": "white",
             "startlinecolor": "#2a3f5f"
            },
            "type": "carpet"
           }
          ],
          "choropleth": [
           {
            "colorbar": {
             "outlinewidth": 0,
             "ticks": ""
            },
            "type": "choropleth"
           }
          ],
          "contour": [
           {
            "colorbar": {
             "outlinewidth": 0,
             "ticks": ""
            },
            "colorscale": [
             [
              0,
              "#0d0887"
             ],
             [
              0.1111111111111111,
              "#46039f"
             ],
             [
              0.2222222222222222,
              "#7201a8"
             ],
             [
              0.3333333333333333,
              "#9c179e"
             ],
             [
              0.4444444444444444,
              "#bd3786"
             ],
             [
              0.5555555555555556,
              "#d8576b"
             ],
             [
              0.6666666666666666,
              "#ed7953"
             ],
             [
              0.7777777777777778,
              "#fb9f3a"
             ],
             [
              0.8888888888888888,
              "#fdca26"
             ],
             [
              1,
              "#f0f921"
             ]
            ],
            "type": "contour"
           }
          ],
          "contourcarpet": [
           {
            "colorbar": {
             "outlinewidth": 0,
             "ticks": ""
            },
            "type": "contourcarpet"
           }
          ],
          "heatmap": [
           {
            "colorbar": {
             "outlinewidth": 0,
             "ticks": ""
            },
            "colorscale": [
             [
              0,
              "#0d0887"
             ],
             [
              0.1111111111111111,
              "#46039f"
             ],
             [
              0.2222222222222222,
              "#7201a8"
             ],
             [
              0.3333333333333333,
              "#9c179e"
             ],
             [
              0.4444444444444444,
              "#bd3786"
             ],
             [
              0.5555555555555556,
              "#d8576b"
             ],
             [
              0.6666666666666666,
              "#ed7953"
             ],
             [
              0.7777777777777778,
              "#fb9f3a"
             ],
             [
              0.8888888888888888,
              "#fdca26"
             ],
             [
              1,
              "#f0f921"
             ]
            ],
            "type": "heatmap"
           }
          ],
          "heatmapgl": [
           {
            "colorbar": {
             "outlinewidth": 0,
             "ticks": ""
            },
            "colorscale": [
             [
              0,
              "#0d0887"
             ],
             [
              0.1111111111111111,
              "#46039f"
             ],
             [
              0.2222222222222222,
              "#7201a8"
             ],
             [
              0.3333333333333333,
              "#9c179e"
             ],
             [
              0.4444444444444444,
              "#bd3786"
             ],
             [
              0.5555555555555556,
              "#d8576b"
             ],
             [
              0.6666666666666666,
              "#ed7953"
             ],
             [
              0.7777777777777778,
              "#fb9f3a"
             ],
             [
              0.8888888888888888,
              "#fdca26"
             ],
             [
              1,
              "#f0f921"
             ]
            ],
            "type": "heatmapgl"
           }
          ],
          "histogram": [
           {
            "marker": {
             "colorbar": {
              "outlinewidth": 0,
              "ticks": ""
             }
            },
            "type": "histogram"
           }
          ],
          "histogram2d": [
           {
            "colorbar": {
             "outlinewidth": 0,
             "ticks": ""
            },
            "colorscale": [
             [
              0,
              "#0d0887"
             ],
             [
              0.1111111111111111,
              "#46039f"
             ],
             [
              0.2222222222222222,
              "#7201a8"
             ],
             [
              0.3333333333333333,
              "#9c179e"
             ],
             [
              0.4444444444444444,
              "#bd3786"
             ],
             [
              0.5555555555555556,
              "#d8576b"
             ],
             [
              0.6666666666666666,
              "#ed7953"
             ],
             [
              0.7777777777777778,
              "#fb9f3a"
             ],
             [
              0.8888888888888888,
              "#fdca26"
             ],
             [
              1,
              "#f0f921"
             ]
            ],
            "type": "histogram2d"
           }
          ],
          "histogram2dcontour": [
           {
            "colorbar": {
             "outlinewidth": 0,
             "ticks": ""
            },
            "colorscale": [
             [
              0,
              "#0d0887"
             ],
             [
              0.1111111111111111,
              "#46039f"
             ],
             [
              0.2222222222222222,
              "#7201a8"
             ],
             [
              0.3333333333333333,
              "#9c179e"
             ],
             [
              0.4444444444444444,
              "#bd3786"
             ],
             [
              0.5555555555555556,
              "#d8576b"
             ],
             [
              0.6666666666666666,
              "#ed7953"
             ],
             [
              0.7777777777777778,
              "#fb9f3a"
             ],
             [
              0.8888888888888888,
              "#fdca26"
             ],
             [
              1,
              "#f0f921"
             ]
            ],
            "type": "histogram2dcontour"
           }
          ],
          "mesh3d": [
           {
            "colorbar": {
             "outlinewidth": 0,
             "ticks": ""
            },
            "type": "mesh3d"
           }
          ],
          "parcoords": [
           {
            "line": {
             "colorbar": {
              "outlinewidth": 0,
              "ticks": ""
             }
            },
            "type": "parcoords"
           }
          ],
          "pie": [
           {
            "automargin": true,
            "type": "pie"
           }
          ],
          "scatter": [
           {
            "marker": {
             "colorbar": {
              "outlinewidth": 0,
              "ticks": ""
             }
            },
            "type": "scatter"
           }
          ],
          "scatter3d": [
           {
            "line": {
             "colorbar": {
              "outlinewidth": 0,
              "ticks": ""
             }
            },
            "marker": {
             "colorbar": {
              "outlinewidth": 0,
              "ticks": ""
             }
            },
            "type": "scatter3d"
           }
          ],
          "scattercarpet": [
           {
            "marker": {
             "colorbar": {
              "outlinewidth": 0,
              "ticks": ""
             }
            },
            "type": "scattercarpet"
           }
          ],
          "scattergeo": [
           {
            "marker": {
             "colorbar": {
              "outlinewidth": 0,
              "ticks": ""
             }
            },
            "type": "scattergeo"
           }
          ],
          "scattergl": [
           {
            "marker": {
             "colorbar": {
              "outlinewidth": 0,
              "ticks": ""
             }
            },
            "type": "scattergl"
           }
          ],
          "scattermapbox": [
           {
            "marker": {
             "colorbar": {
              "outlinewidth": 0,
              "ticks": ""
             }
            },
            "type": "scattermapbox"
           }
          ],
          "scatterpolar": [
           {
            "marker": {
             "colorbar": {
              "outlinewidth": 0,
              "ticks": ""
             }
            },
            "type": "scatterpolar"
           }
          ],
          "scatterpolargl": [
           {
            "marker": {
             "colorbar": {
              "outlinewidth": 0,
              "ticks": ""
             }
            },
            "type": "scatterpolargl"
           }
          ],
          "scatterternary": [
           {
            "marker": {
             "colorbar": {
              "outlinewidth": 0,
              "ticks": ""
             }
            },
            "type": "scatterternary"
           }
          ],
          "surface": [
           {
            "colorbar": {
             "outlinewidth": 0,
             "ticks": ""
            },
            "colorscale": [
             [
              0,
              "#0d0887"
             ],
             [
              0.1111111111111111,
              "#46039f"
             ],
             [
              0.2222222222222222,
              "#7201a8"
             ],
             [
              0.3333333333333333,
              "#9c179e"
             ],
             [
              0.4444444444444444,
              "#bd3786"
             ],
             [
              0.5555555555555556,
              "#d8576b"
             ],
             [
              0.6666666666666666,
              "#ed7953"
             ],
             [
              0.7777777777777778,
              "#fb9f3a"
             ],
             [
              0.8888888888888888,
              "#fdca26"
             ],
             [
              1,
              "#f0f921"
             ]
            ],
            "type": "surface"
           }
          ],
          "table": [
           {
            "cells": {
             "fill": {
              "color": "#EBF0F8"
             },
             "line": {
              "color": "white"
             }
            },
            "header": {
             "fill": {
              "color": "#C8D4E3"
             },
             "line": {
              "color": "white"
             }
            },
            "type": "table"
           }
          ]
         },
         "layout": {
          "annotationdefaults": {
           "arrowcolor": "#2a3f5f",
           "arrowhead": 0,
           "arrowwidth": 1
          },
          "autotypenumbers": "strict",
          "coloraxis": {
           "colorbar": {
            "outlinewidth": 0,
            "ticks": ""
           }
          },
          "colorscale": {
           "diverging": [
            [
             0,
             "#8e0152"
            ],
            [
             0.1,
             "#c51b7d"
            ],
            [
             0.2,
             "#de77ae"
            ],
            [
             0.3,
             "#f1b6da"
            ],
            [
             0.4,
             "#fde0ef"
            ],
            [
             0.5,
             "#f7f7f7"
            ],
            [
             0.6,
             "#e6f5d0"
            ],
            [
             0.7,
             "#b8e186"
            ],
            [
             0.8,
             "#7fbc41"
            ],
            [
             0.9,
             "#4d9221"
            ],
            [
             1,
             "#276419"
            ]
           ],
           "sequential": [
            [
             0,
             "#0d0887"
            ],
            [
             0.1111111111111111,
             "#46039f"
            ],
            [
             0.2222222222222222,
             "#7201a8"
            ],
            [
             0.3333333333333333,
             "#9c179e"
            ],
            [
             0.4444444444444444,
             "#bd3786"
            ],
            [
             0.5555555555555556,
             "#d8576b"
            ],
            [
             0.6666666666666666,
             "#ed7953"
            ],
            [
             0.7777777777777778,
             "#fb9f3a"
            ],
            [
             0.8888888888888888,
             "#fdca26"
            ],
            [
             1,
             "#f0f921"
            ]
           ],
           "sequentialminus": [
            [
             0,
             "#0d0887"
            ],
            [
             0.1111111111111111,
             "#46039f"
            ],
            [
             0.2222222222222222,
             "#7201a8"
            ],
            [
             0.3333333333333333,
             "#9c179e"
            ],
            [
             0.4444444444444444,
             "#bd3786"
            ],
            [
             0.5555555555555556,
             "#d8576b"
            ],
            [
             0.6666666666666666,
             "#ed7953"
            ],
            [
             0.7777777777777778,
             "#fb9f3a"
            ],
            [
             0.8888888888888888,
             "#fdca26"
            ],
            [
             1,
             "#f0f921"
            ]
           ]
          },
          "colorway": [
           "#636efa",
           "#EF553B",
           "#00cc96",
           "#ab63fa",
           "#FFA15A",
           "#19d3f3",
           "#FF6692",
           "#B6E880",
           "#FF97FF",
           "#FECB52"
          ],
          "font": {
           "color": "#2a3f5f"
          },
          "geo": {
           "bgcolor": "white",
           "lakecolor": "white",
           "landcolor": "#E5ECF6",
           "showlakes": true,
           "showland": true,
           "subunitcolor": "white"
          },
          "hoverlabel": {
           "align": "left"
          },
          "hovermode": "closest",
          "mapbox": {
           "style": "light"
          },
          "paper_bgcolor": "white",
          "plot_bgcolor": "#E5ECF6",
          "polar": {
           "angularaxis": {
            "gridcolor": "white",
            "linecolor": "white",
            "ticks": ""
           },
           "bgcolor": "#E5ECF6",
           "radialaxis": {
            "gridcolor": "white",
            "linecolor": "white",
            "ticks": ""
           }
          },
          "scene": {
           "xaxis": {
            "backgroundcolor": "#E5ECF6",
            "gridcolor": "white",
            "gridwidth": 2,
            "linecolor": "white",
            "showbackground": true,
            "ticks": "",
            "zerolinecolor": "white"
           },
           "yaxis": {
            "backgroundcolor": "#E5ECF6",
            "gridcolor": "white",
            "gridwidth": 2,
            "linecolor": "white",
            "showbackground": true,
            "ticks": "",
            "zerolinecolor": "white"
           },
           "zaxis": {
            "backgroundcolor": "#E5ECF6",
            "gridcolor": "white",
            "gridwidth": 2,
            "linecolor": "white",
            "showbackground": true,
            "ticks": "",
            "zerolinecolor": "white"
           }
          },
          "shapedefaults": {
           "line": {
            "color": "#2a3f5f"
           }
          },
          "ternary": {
           "aaxis": {
            "gridcolor": "white",
            "linecolor": "white",
            "ticks": ""
           },
           "baxis": {
            "gridcolor": "white",
            "linecolor": "white",
            "ticks": ""
           },
           "bgcolor": "#E5ECF6",
           "caxis": {
            "gridcolor": "white",
            "linecolor": "white",
            "ticks": ""
           }
          },
          "title": {
           "x": 0.05
          },
          "xaxis": {
           "automargin": true,
           "gridcolor": "white",
           "linecolor": "white",
           "ticks": "",
           "title": {
            "standoff": 15
           },
           "zerolinecolor": "white",
           "zerolinewidth": 2
          },
          "yaxis": {
           "automargin": true,
           "gridcolor": "white",
           "linecolor": "white",
           "ticks": "",
           "title": {
            "standoff": 15
           },
           "zerolinecolor": "white",
           "zerolinewidth": 2
          }
         }
        },
        "title": {
         "text": "Aggregated breakdown of the top 5 Distributors"
        }
       }
      }
     },
     "metadata": {},
     "output_type": "display_data"
    }
   ],
   "source": [
    "# Representing both through a sunburst chart \n",
    "\n",
    "import plotly.express as px\n",
    "fig = px.sunburst(long_df, path=['gender', 'classification_name'], values='rev',title='Aggregated breakdown of the top 5 Distributors')\n",
    "fig.show()"
   ]
  },
  {
   "cell_type": "code",
   "execution_count": 74,
   "metadata": {},
   "outputs": [
    {
     "data": {
      "application/vnd.plotly.v1+json": {
       "config": {
        "plotlyServerURL": "https://plot.ly"
       },
       "data": [
        {
         "ids": [
          "men",
          "men",
          "men",
          "men",
          "men",
          "men",
          "men",
          "men",
          "men",
          "men",
          "men",
          "men",
          "men",
          "men",
          "men",
          "men",
          "men",
          "men",
          "men",
          "women",
          "women",
          "women",
          "women",
          "women",
          "women",
          "women",
          "women",
          "women",
          "women",
          "women",
          "women",
          "women",
          "women",
          "women",
          "women",
          "women",
          "women",
          "women"
         ],
         "parents": [
          "CCCAA",
          "Independent",
          "NAIA Division I",
          "NAIA Division II",
          "NCAA Division I without football",
          "NCAA Division I-FBS",
          "NCAA Division I-FCS",
          "NCAA Division II with football",
          "NCAA Division II without football",
          "NCAA Division III with football",
          "NCAA Division III without football",
          "NCCAA Division I",
          "NCCAA Division II",
          "NJCAA Division I",
          "NJCAA Division II",
          "NJCAA Division III",
          "NWAC",
          "Other",
          "USCAA",
          "CCCAA",
          "Independent",
          "NAIA Division I",
          "NAIA Division II",
          "NCAA Division I without football",
          "NCAA Division I-FBS",
          "NCAA Division I-FCS",
          "NCAA Division II with football",
          "NCAA Division II without football",
          "NCAA Division III with football",
          "NCAA Division III without football",
          "NCCAA Division I",
          "NCCAA Division II",
          "NJCAA Division I",
          "NJCAA Division II",
          "NJCAA Division III",
          "NWAC",
          "Other",
          "USCAA"
         ],
         "type": "sunburst",
         "values": [
          82348.65822784811,
          57771.27272727273,
          397165.07099697884,
          346640.96400449943,
          1071939.6426332288,
          6959783.143947655,
          1261679.8623348018,
          513628.23886255926,
          336432.71381936886,
          167271.68766637088,
          95215.38820826952,
          98621.76190476191,
          62397.02597402597,
          224228.0182841069,
          94997.72727272728,
          44557.46073298429,
          72272.46226415095,
          118254.78892733564,
          55697.270440251574,
          59031.82183908046,
          59733.4,
          249009.19241573033,
          221994.88759278896,
          754352.8563968668,
          814186.6867061811,
          628371.6215978928,
          283780.76442307694,
          294361.4219600726,
          107131.67927773001,
          81347.14896459586,
          72733.75,
          45645.4578313253,
          167971.56258234518,
          77299.41534988713,
          35298.58583106267,
          64619.94160583941,
          85832.51811594203,
          50474.52760736196
         ]
        }
       ],
       "layout": {
        "margin": {
         "b": 10,
         "l": 10,
         "r": 10,
         "t": 10
        },
        "template": {
         "data": {
          "bar": [
           {
            "error_x": {
             "color": "#2a3f5f"
            },
            "error_y": {
             "color": "#2a3f5f"
            },
            "marker": {
             "line": {
              "color": "#E5ECF6",
              "width": 0.5
             }
            },
            "type": "bar"
           }
          ],
          "barpolar": [
           {
            "marker": {
             "line": {
              "color": "#E5ECF6",
              "width": 0.5
             }
            },
            "type": "barpolar"
           }
          ],
          "carpet": [
           {
            "aaxis": {
             "endlinecolor": "#2a3f5f",
             "gridcolor": "white",
             "linecolor": "white",
             "minorgridcolor": "white",
             "startlinecolor": "#2a3f5f"
            },
            "baxis": {
             "endlinecolor": "#2a3f5f",
             "gridcolor": "white",
             "linecolor": "white",
             "minorgridcolor": "white",
             "startlinecolor": "#2a3f5f"
            },
            "type": "carpet"
           }
          ],
          "choropleth": [
           {
            "colorbar": {
             "outlinewidth": 0,
             "ticks": ""
            },
            "type": "choropleth"
           }
          ],
          "contour": [
           {
            "colorbar": {
             "outlinewidth": 0,
             "ticks": ""
            },
            "colorscale": [
             [
              0,
              "#0d0887"
             ],
             [
              0.1111111111111111,
              "#46039f"
             ],
             [
              0.2222222222222222,
              "#7201a8"
             ],
             [
              0.3333333333333333,
              "#9c179e"
             ],
             [
              0.4444444444444444,
              "#bd3786"
             ],
             [
              0.5555555555555556,
              "#d8576b"
             ],
             [
              0.6666666666666666,
              "#ed7953"
             ],
             [
              0.7777777777777778,
              "#fb9f3a"
             ],
             [
              0.8888888888888888,
              "#fdca26"
             ],
             [
              1,
              "#f0f921"
             ]
            ],
            "type": "contour"
           }
          ],
          "contourcarpet": [
           {
            "colorbar": {
             "outlinewidth": 0,
             "ticks": ""
            },
            "type": "contourcarpet"
           }
          ],
          "heatmap": [
           {
            "colorbar": {
             "outlinewidth": 0,
             "ticks": ""
            },
            "colorscale": [
             [
              0,
              "#0d0887"
             ],
             [
              0.1111111111111111,
              "#46039f"
             ],
             [
              0.2222222222222222,
              "#7201a8"
             ],
             [
              0.3333333333333333,
              "#9c179e"
             ],
             [
              0.4444444444444444,
              "#bd3786"
             ],
             [
              0.5555555555555556,
              "#d8576b"
             ],
             [
              0.6666666666666666,
              "#ed7953"
             ],
             [
              0.7777777777777778,
              "#fb9f3a"
             ],
             [
              0.8888888888888888,
              "#fdca26"
             ],
             [
              1,
              "#f0f921"
             ]
            ],
            "type": "heatmap"
           }
          ],
          "heatmapgl": [
           {
            "colorbar": {
             "outlinewidth": 0,
             "ticks": ""
            },
            "colorscale": [
             [
              0,
              "#0d0887"
             ],
             [
              0.1111111111111111,
              "#46039f"
             ],
             [
              0.2222222222222222,
              "#7201a8"
             ],
             [
              0.3333333333333333,
              "#9c179e"
             ],
             [
              0.4444444444444444,
              "#bd3786"
             ],
             [
              0.5555555555555556,
              "#d8576b"
             ],
             [
              0.6666666666666666,
              "#ed7953"
             ],
             [
              0.7777777777777778,
              "#fb9f3a"
             ],
             [
              0.8888888888888888,
              "#fdca26"
             ],
             [
              1,
              "#f0f921"
             ]
            ],
            "type": "heatmapgl"
           }
          ],
          "histogram": [
           {
            "marker": {
             "colorbar": {
              "outlinewidth": 0,
              "ticks": ""
             }
            },
            "type": "histogram"
           }
          ],
          "histogram2d": [
           {
            "colorbar": {
             "outlinewidth": 0,
             "ticks": ""
            },
            "colorscale": [
             [
              0,
              "#0d0887"
             ],
             [
              0.1111111111111111,
              "#46039f"
             ],
             [
              0.2222222222222222,
              "#7201a8"
             ],
             [
              0.3333333333333333,
              "#9c179e"
             ],
             [
              0.4444444444444444,
              "#bd3786"
             ],
             [
              0.5555555555555556,
              "#d8576b"
             ],
             [
              0.6666666666666666,
              "#ed7953"
             ],
             [
              0.7777777777777778,
              "#fb9f3a"
             ],
             [
              0.8888888888888888,
              "#fdca26"
             ],
             [
              1,
              "#f0f921"
             ]
            ],
            "type": "histogram2d"
           }
          ],
          "histogram2dcontour": [
           {
            "colorbar": {
             "outlinewidth": 0,
             "ticks": ""
            },
            "colorscale": [
             [
              0,
              "#0d0887"
             ],
             [
              0.1111111111111111,
              "#46039f"
             ],
             [
              0.2222222222222222,
              "#7201a8"
             ],
             [
              0.3333333333333333,
              "#9c179e"
             ],
             [
              0.4444444444444444,
              "#bd3786"
             ],
             [
              0.5555555555555556,
              "#d8576b"
             ],
             [
              0.6666666666666666,
              "#ed7953"
             ],
             [
              0.7777777777777778,
              "#fb9f3a"
             ],
             [
              0.8888888888888888,
              "#fdca26"
             ],
             [
              1,
              "#f0f921"
             ]
            ],
            "type": "histogram2dcontour"
           }
          ],
          "mesh3d": [
           {
            "colorbar": {
             "outlinewidth": 0,
             "ticks": ""
            },
            "type": "mesh3d"
           }
          ],
          "parcoords": [
           {
            "line": {
             "colorbar": {
              "outlinewidth": 0,
              "ticks": ""
             }
            },
            "type": "parcoords"
           }
          ],
          "pie": [
           {
            "automargin": true,
            "type": "pie"
           }
          ],
          "scatter": [
           {
            "marker": {
             "colorbar": {
              "outlinewidth": 0,
              "ticks": ""
             }
            },
            "type": "scatter"
           }
          ],
          "scatter3d": [
           {
            "line": {
             "colorbar": {
              "outlinewidth": 0,
              "ticks": ""
             }
            },
            "marker": {
             "colorbar": {
              "outlinewidth": 0,
              "ticks": ""
             }
            },
            "type": "scatter3d"
           }
          ],
          "scattercarpet": [
           {
            "marker": {
             "colorbar": {
              "outlinewidth": 0,
              "ticks": ""
             }
            },
            "type": "scattercarpet"
           }
          ],
          "scattergeo": [
           {
            "marker": {
             "colorbar": {
              "outlinewidth": 0,
              "ticks": ""
             }
            },
            "type": "scattergeo"
           }
          ],
          "scattergl": [
           {
            "marker": {
             "colorbar": {
              "outlinewidth": 0,
              "ticks": ""
             }
            },
            "type": "scattergl"
           }
          ],
          "scattermapbox": [
           {
            "marker": {
             "colorbar": {
              "outlinewidth": 0,
              "ticks": ""
             }
            },
            "type": "scattermapbox"
           }
          ],
          "scatterpolar": [
           {
            "marker": {
             "colorbar": {
              "outlinewidth": 0,
              "ticks": ""
             }
            },
            "type": "scatterpolar"
           }
          ],
          "scatterpolargl": [
           {
            "marker": {
             "colorbar": {
              "outlinewidth": 0,
              "ticks": ""
             }
            },
            "type": "scatterpolargl"
           }
          ],
          "scatterternary": [
           {
            "marker": {
             "colorbar": {
              "outlinewidth": 0,
              "ticks": ""
             }
            },
            "type": "scatterternary"
           }
          ],
          "surface": [
           {
            "colorbar": {
             "outlinewidth": 0,
             "ticks": ""
            },
            "colorscale": [
             [
              0,
              "#0d0887"
             ],
             [
              0.1111111111111111,
              "#46039f"
             ],
             [
              0.2222222222222222,
              "#7201a8"
             ],
             [
              0.3333333333333333,
              "#9c179e"
             ],
             [
              0.4444444444444444,
              "#bd3786"
             ],
             [
              0.5555555555555556,
              "#d8576b"
             ],
             [
              0.6666666666666666,
              "#ed7953"
             ],
             [
              0.7777777777777778,
              "#fb9f3a"
             ],
             [
              0.8888888888888888,
              "#fdca26"
             ],
             [
              1,
              "#f0f921"
             ]
            ],
            "type": "surface"
           }
          ],
          "table": [
           {
            "cells": {
             "fill": {
              "color": "#EBF0F8"
             },
             "line": {
              "color": "white"
             }
            },
            "header": {
             "fill": {
              "color": "#C8D4E3"
             },
             "line": {
              "color": "white"
             }
            },
            "type": "table"
           }
          ]
         },
         "layout": {
          "annotationdefaults": {
           "arrowcolor": "#2a3f5f",
           "arrowhead": 0,
           "arrowwidth": 1
          },
          "autotypenumbers": "strict",
          "coloraxis": {
           "colorbar": {
            "outlinewidth": 0,
            "ticks": ""
           }
          },
          "colorscale": {
           "diverging": [
            [
             0,
             "#8e0152"
            ],
            [
             0.1,
             "#c51b7d"
            ],
            [
             0.2,
             "#de77ae"
            ],
            [
             0.3,
             "#f1b6da"
            ],
            [
             0.4,
             "#fde0ef"
            ],
            [
             0.5,
             "#f7f7f7"
            ],
            [
             0.6,
             "#e6f5d0"
            ],
            [
             0.7,
             "#b8e186"
            ],
            [
             0.8,
             "#7fbc41"
            ],
            [
             0.9,
             "#4d9221"
            ],
            [
             1,
             "#276419"
            ]
           ],
           "sequential": [
            [
             0,
             "#0d0887"
            ],
            [
             0.1111111111111111,
             "#46039f"
            ],
            [
             0.2222222222222222,
             "#7201a8"
            ],
            [
             0.3333333333333333,
             "#9c179e"
            ],
            [
             0.4444444444444444,
             "#bd3786"
            ],
            [
             0.5555555555555556,
             "#d8576b"
            ],
            [
             0.6666666666666666,
             "#ed7953"
            ],
            [
             0.7777777777777778,
             "#fb9f3a"
            ],
            [
             0.8888888888888888,
             "#fdca26"
            ],
            [
             1,
             "#f0f921"
            ]
           ],
           "sequentialminus": [
            [
             0,
             "#0d0887"
            ],
            [
             0.1111111111111111,
             "#46039f"
            ],
            [
             0.2222222222222222,
             "#7201a8"
            ],
            [
             0.3333333333333333,
             "#9c179e"
            ],
            [
             0.4444444444444444,
             "#bd3786"
            ],
            [
             0.5555555555555556,
             "#d8576b"
            ],
            [
             0.6666666666666666,
             "#ed7953"
            ],
            [
             0.7777777777777778,
             "#fb9f3a"
            ],
            [
             0.8888888888888888,
             "#fdca26"
            ],
            [
             1,
             "#f0f921"
            ]
           ]
          },
          "colorway": [
           "#636efa",
           "#EF553B",
           "#00cc96",
           "#ab63fa",
           "#FFA15A",
           "#19d3f3",
           "#FF6692",
           "#B6E880",
           "#FF97FF",
           "#FECB52"
          ],
          "font": {
           "color": "#2a3f5f"
          },
          "geo": {
           "bgcolor": "white",
           "lakecolor": "white",
           "landcolor": "#E5ECF6",
           "showlakes": true,
           "showland": true,
           "subunitcolor": "white"
          },
          "hoverlabel": {
           "align": "left"
          },
          "hovermode": "closest",
          "mapbox": {
           "style": "light"
          },
          "paper_bgcolor": "white",
          "plot_bgcolor": "#E5ECF6",
          "polar": {
           "angularaxis": {
            "gridcolor": "white",
            "linecolor": "white",
            "ticks": ""
           },
           "bgcolor": "#E5ECF6",
           "radialaxis": {
            "gridcolor": "white",
            "linecolor": "white",
            "ticks": ""
           }
          },
          "scene": {
           "xaxis": {
            "backgroundcolor": "#E5ECF6",
            "gridcolor": "white",
            "gridwidth": 2,
            "linecolor": "white",
            "showbackground": true,
            "ticks": "",
            "zerolinecolor": "white"
           },
           "yaxis": {
            "backgroundcolor": "#E5ECF6",
            "gridcolor": "white",
            "gridwidth": 2,
            "linecolor": "white",
            "showbackground": true,
            "ticks": "",
            "zerolinecolor": "white"
           },
           "zaxis": {
            "backgroundcolor": "#E5ECF6",
            "gridcolor": "white",
            "gridwidth": 2,
            "linecolor": "white",
            "showbackground": true,
            "ticks": "",
            "zerolinecolor": "white"
           }
          },
          "shapedefaults": {
           "line": {
            "color": "#2a3f5f"
           }
          },
          "ternary": {
           "aaxis": {
            "gridcolor": "white",
            "linecolor": "white",
            "ticks": ""
           },
           "baxis": {
            "gridcolor": "white",
            "linecolor": "white",
            "ticks": ""
           },
           "bgcolor": "#E5ECF6",
           "caxis": {
            "gridcolor": "white",
            "linecolor": "white",
            "ticks": ""
           }
          },
          "title": {
           "x": 0.05
          },
          "xaxis": {
           "automargin": true,
           "gridcolor": "white",
           "linecolor": "white",
           "ticks": "",
           "title": {
            "standoff": 15
           },
           "zerolinecolor": "white",
           "zerolinewidth": 2
          },
          "yaxis": {
           "automargin": true,
           "gridcolor": "white",
           "linecolor": "white",
           "ticks": "",
           "title": {
            "standoff": 15
           },
           "zerolinecolor": "white",
           "zerolinewidth": 2
          }
         }
        }
       }
      }
     },
     "metadata": {},
     "output_type": "display_data"
    }
   ],
   "source": [
    "fig = go.Figure()\n",
    "\n",
    "# fig.add_trace(go.Sunburst(\n",
    "#     #ids=long_df.classification_name,\n",
    "#     #labels=long_df.gender,\n",
    "#     #parents=df.parents,\n",
    "#     #domain=dict(column=1),\n",
    "#     values= long_df.rev,\n",
    "#    # maxdepth=2,\n",
    "#     insidetextorientation='radial'\n",
    "# ))\n",
    "\n",
    "fig =go.Figure(go.Sunburst(\n",
    "    ids= long_df.gender,\n",
    "    parents=long_df.classification_name,\n",
    "    values=long_df.rev,\n",
    "))\n",
    "\n",
    "fig.update_layout(\n",
    "    margin = dict(t=10, l=10, r=10, b=10)\n",
    ")\n",
    "\n",
    "\n",
    "fig.show()"
   ]
  },
  {
   "cell_type": "code",
   "execution_count": null,
   "metadata": {},
   "outputs": [],
   "source": [
    "import plotly.graph_objects as go\n",
    "from plotly.subplots import make_subplots\n",
    "import pandas as pd\n",
    "\n",
    "df = pd.read_csv('https://raw.githubusercontent.com/plotly/datasets/master/sales_success.csv')\n",
    "print(df.head())\n",
    "\n",
    "levels = ['salesperson', 'county', 'region'] # levels used for the hierarchical chart\n",
    "color_columns = ['sales', 'calls']\n",
    "value_column = 'calls'\n",
    "\n",
    "def build_hierarchical_dataframe(df, levels, value_column, color_columns=None):\n",
    "    \"\"\"\n",
    "    Build a hierarchy of levels for Sunburst or Treemap charts.\n",
    "\n",
    "    Levels are given starting from the bottom to the top of the hierarchy,\n",
    "    ie the last level corresponds to the root.\n",
    "    \"\"\"\n",
    "    df_all_trees = pd.DataFrame(columns=['id', 'parent', 'value', 'color'])\n",
    "    for i, level in enumerate(levels):\n",
    "        df_tree = pd.DataFrame(columns=['id', 'parent', 'value', 'color'])\n",
    "        dfg = df.groupby(levels[i:]).sum()\n",
    "        dfg = dfg.reset_index()\n",
    "        df_tree['id'] = dfg[level].copy()\n",
    "        if i < len(levels) - 1:\n",
    "            df_tree['parent'] = dfg[levels[i+1]].copy()\n",
    "        else:\n",
    "            df_tree['parent'] = 'total'\n",
    "        df_tree['value'] = dfg[value_column]\n",
    "        df_tree['color'] = dfg[color_columns[0]] / dfg[color_columns[1]]\n",
    "        df_all_trees = df_all_trees.append(df_tree, ignore_index=True)\n",
    "    total = pd.Series(dict(id='total', parent='',\n",
    "                              value=df[value_column].sum(),\n",
    "                              color=df[color_columns[0]].sum() / df[color_columns[1]].sum()))\n",
    "    df_all_trees = df_all_trees.append(total, ignore_index=True)\n",
    "    return df_all_trees\n",
    "\n",
    "\n",
    "df_all_trees = build_hierarchical_dataframe(df, levels, value_column, color_columns)\n",
    "average_score = df['sales'].sum() / df['calls'].sum()\n",
    "\n",
    "fig = make_subplots(1, 2, specs=[[{\"type\": \"domain\"}, {\"type\": \"domain\"}]],)\n",
    "\n",
    "fig.add_trace(go.Sunburst(\n",
    "    labels=df_all_trees['id'],\n",
    "    parents=df_all_trees['parent'],\n",
    "    values=df_all_trees['value'],\n",
    "    branchvalues='total',\n",
    "    marker=dict(\n",
    "        colors=df_all_trees['color'],\n",
    "        colorscale='RdBu',\n",
    "        cmid=average_score),\n",
    "    hovertemplate='<b>%{label} </b> <br> Sales: %{value}<br> Success rate: %{color:.2f}',\n",
    "    name=''\n",
    "    ), 1, 1)\n",
    "\n",
    "fig.add_trace(go.Sunburst(\n",
    "    labels=df_all_trees['id'],\n",
    "    parents=df_all_trees['parent'],\n",
    "    values=df_all_trees['value'],\n",
    "    branchvalues='total',\n",
    "    marker=dict(\n",
    "        colors=df_all_trees['color'],\n",
    "        colorscale='RdBu',\n",
    "        cmid=average_score),\n",
    "    hovertemplate='<b>%{label} </b> <br> Sales: %{value}<br> Success rate: %{color:.2f}',\n",
    "    maxdepth=2\n",
    "    ), 1, 2)\n",
    "\n",
    "fig.update_layout(margin=dict(t=10, b=10, r=10, l=10))\n",
    "fig.show()"
   ]
  },
  {
   "cell_type": "code",
   "execution_count": null,
   "metadata": {},
   "outputs": [],
   "source": []
  },
  {
   "cell_type": "code",
   "execution_count": null,
   "metadata": {},
   "outputs": [],
   "source": []
  },
  {
   "cell_type": "code",
   "execution_count": 4,
   "metadata": {},
   "outputs": [
    {
     "name": "stdout",
     "output_type": "stream",
     "text": [
      "   Unnamed: 0 region   county salesperson  calls  sales\n",
      "0           0  North   Dallam          JE     35     23\n",
      "1           1  North   Dallam          ZQ     49     13\n",
      "2           2  North   Dallam          IJ     20      6\n",
      "3           3  North  Hartley          WE     39     37\n",
      "4           4  North  Hartley          PL     42     37\n"
     ]
    },
    {
     "data": {
      "application/vnd.plotly.v1+json": {
       "config": {
        "plotlyServerURL": "https://plot.ly"
       },
       "data": [
        {
         "branchvalues": "total",
         "domain": {
          "x": [
           0,
           0.45
          ],
          "y": [
           0,
           1
          ]
         },
         "hovertemplate": "<b>%{label} </b> <br> Sales: %{value}<br> Success rate: %{color:.2f}",
         "labels": [
          "AX",
          "BI",
          "BS",
          "DQ",
          "DS",
          "EH",
          "ES",
          "FJ",
          "FL",
          "GT",
          "GW",
          "HW",
          "IJ",
          "IK",
          "IV",
          "JC",
          "JE",
          "JF",
          "KR",
          "LQ",
          "LR",
          "LV",
          "MW",
          "NY",
          "NZ",
          "OH",
          "OT",
          "OY",
          "PL",
          "QJ",
          "QK",
          "QM",
          "RR",
          "SV",
          "TW",
          "TZ",
          "UA",
          "UF",
          "UM",
          "VN",
          "WE",
          "WH",
          "WV",
          "WZ",
          "XH",
          "XY",
          "YA",
          "YJ",
          "YN",
          "ZM",
          "ZQ",
          "Brewster",
          "Dallam",
          "Duval",
          "Floyd",
          "Gray",
          "Hartley",
          "Hidalgo",
          "Houston",
          "Moore",
          "Motley",
          "Pecos",
          "Presidio",
          "Rusk",
          "Shelby",
          "Tyler",
          "Webb",
          "Zavala",
          "East",
          "North",
          "South",
          "West",
          "total"
         ],
         "marker": {
          "cmid": 0.5310344827586206,
          "colors": [
           0.21428571428571427,
           0.3333333333333333,
           0.42424242424242425,
           0.375,
           0.21428571428571427,
           0.7727272727272727,
           0.6326530612244898,
           0.35,
           0.7741935483870968,
           0.13333333333333333,
           0.3,
           0.4,
           0.3,
           0.6060606060606061,
           0.7142857142857143,
           0.8095238095238095,
           0.6571428571428571,
           0.4,
           0.3,
           0.3902439024390244,
           0.1794871794871795,
           0.5238095238095238,
           0.9545454545454546,
           0.42857142857142855,
           0.35555555555555557,
           0.1935483870967742,
           0.2571428571428571,
           0.5,
           0.8809523809523809,
           0.8695652173913043,
           0.36363636363636365,
           0.9375,
           0.5416666666666666,
           0.6666666666666666,
           0.18181818181818182,
           0.6060606060606061,
           0.7727272727272727,
           0.7142857142857143,
           0.3333333333333333,
           0.20689655172413793,
           0.9487179487179487,
           0.8409090909090909,
           0.8333333333333334,
           0.6216216216216216,
           0.1276595744680851,
           0.9032258064516129,
           0.84,
           0.37142857142857144,
           0.6052631578947368,
           0.6190476190476191,
           0.2653061224489796,
           0.4883720930232558,
           0.40384615384615385,
           0.2682926829268293,
           0.6470588235294118,
           0.6260869565217392,
           0.780952380952381,
           0.33663366336633666,
           0.39215686274509803,
           0.4482758620689655,
           0.693069306930693,
           0.808695652173913,
           0.45,
           0.42857142857142855,
           0.23140495867768596,
           0.56,
           0.631578947368421,
           0.7738095238095238,
           0.3931203931203931,
           0.6053882725832013,
           0.5065616797900262,
           0.5887850467289719,
           0.5310344827586206
          ],
          "colorscale": [
           [
            0,
            "rgb(103,0,31)"
           ],
           [
            0.1,
            "rgb(178,24,43)"
           ],
           [
            0.2,
            "rgb(214,96,77)"
           ],
           [
            0.3,
            "rgb(244,165,130)"
           ],
           [
            0.4,
            "rgb(253,219,199)"
           ],
           [
            0.5,
            "rgb(247,247,247)"
           ],
           [
            0.6,
            "rgb(209,229,240)"
           ],
           [
            0.7,
            "rgb(146,197,222)"
           ],
           [
            0.8,
            "rgb(67,147,195)"
           ],
           [
            0.9,
            "rgb(33,102,172)"
           ],
           [
            1,
            "rgb(5,48,97)"
           ]
          ]
         },
         "name": "",
         "parents": [
          "Houston",
          "Hartley",
          "Brewster",
          "Presidio",
          "Duval",
          "Motley",
          "Gray",
          "Duval",
          "Zavala",
          "Tyler",
          "Duval",
          "Rusk",
          "Dallam",
          "Brewster",
          "Zavala",
          "Tyler",
          "Dallam",
          "Brewster",
          "Webb",
          "Hidalgo",
          "Hidalgo",
          "Hidalgo",
          "Motley",
          "Motley",
          "Shelby",
          "Floyd",
          "Presidio",
          "Rusk",
          "Hartley",
          "Webb",
          "Houston",
          "Pecos",
          "Webb",
          "Presidio",
          "Moore",
          "Moore",
          "Floyd",
          "Tyler",
          "Rusk",
          "Shelby",
          "Hartley",
          "Floyd",
          "Pecos",
          "Pecos",
          "Shelby",
          "Gray",
          "Zavala",
          "Gray",
          "Houston",
          "Moore",
          "Dallam",
          "West",
          "North",
          "South",
          "North",
          "North",
          "North",
          "South",
          "East",
          "North",
          "North",
          "West",
          "West",
          "East",
          "East",
          "East",
          "South",
          "South",
          "total",
          "total",
          "total",
          "total",
          ""
         ],
         "type": "sunburst",
         "values": [
          42,
          24,
          33,
          40,
          42,
          44,
          49,
          20,
          31,
          30,
          20,
          20,
          20,
          33,
          28,
          21,
          35,
          20,
          20,
          41,
          39,
          21,
          22,
          35,
          45,
          31,
          35,
          40,
          42,
          46,
          22,
          48,
          48,
          45,
          33,
          33,
          44,
          49,
          24,
          29,
          39,
          44,
          30,
          37,
          47,
          31,
          25,
          35,
          38,
          21,
          49,
          86,
          104,
          82,
          119,
          115,
          105,
          101,
          102,
          87,
          101,
          115,
          120,
          84,
          121,
          100,
          114,
          84,
          407,
          631,
          381,
          321,
          1740
         ]
        },
        {
         "branchvalues": "total",
         "domain": {
          "x": [
           0.55,
           1
          ],
          "y": [
           0,
           1
          ]
         },
         "hovertemplate": "<b>%{label} </b> <br> Sales: %{value}<br> Success rate: %{color:.2f}",
         "labels": [
          "AX",
          "BI",
          "BS",
          "DQ",
          "DS",
          "EH",
          "ES",
          "FJ",
          "FL",
          "GT",
          "GW",
          "HW",
          "IJ",
          "IK",
          "IV",
          "JC",
          "JE",
          "JF",
          "KR",
          "LQ",
          "LR",
          "LV",
          "MW",
          "NY",
          "NZ",
          "OH",
          "OT",
          "OY",
          "PL",
          "QJ",
          "QK",
          "QM",
          "RR",
          "SV",
          "TW",
          "TZ",
          "UA",
          "UF",
          "UM",
          "VN",
          "WE",
          "WH",
          "WV",
          "WZ",
          "XH",
          "XY",
          "YA",
          "YJ",
          "YN",
          "ZM",
          "ZQ",
          "Brewster",
          "Dallam",
          "Duval",
          "Floyd",
          "Gray",
          "Hartley",
          "Hidalgo",
          "Houston",
          "Moore",
          "Motley",
          "Pecos",
          "Presidio",
          "Rusk",
          "Shelby",
          "Tyler",
          "Webb",
          "Zavala",
          "East",
          "North",
          "South",
          "West",
          "total"
         ],
         "marker": {
          "cmid": 0.5310344827586206,
          "colors": [
           0.21428571428571427,
           0.3333333333333333,
           0.42424242424242425,
           0.375,
           0.21428571428571427,
           0.7727272727272727,
           0.6326530612244898,
           0.35,
           0.7741935483870968,
           0.13333333333333333,
           0.3,
           0.4,
           0.3,
           0.6060606060606061,
           0.7142857142857143,
           0.8095238095238095,
           0.6571428571428571,
           0.4,
           0.3,
           0.3902439024390244,
           0.1794871794871795,
           0.5238095238095238,
           0.9545454545454546,
           0.42857142857142855,
           0.35555555555555557,
           0.1935483870967742,
           0.2571428571428571,
           0.5,
           0.8809523809523809,
           0.8695652173913043,
           0.36363636363636365,
           0.9375,
           0.5416666666666666,
           0.6666666666666666,
           0.18181818181818182,
           0.6060606060606061,
           0.7727272727272727,
           0.7142857142857143,
           0.3333333333333333,
           0.20689655172413793,
           0.9487179487179487,
           0.8409090909090909,
           0.8333333333333334,
           0.6216216216216216,
           0.1276595744680851,
           0.9032258064516129,
           0.84,
           0.37142857142857144,
           0.6052631578947368,
           0.6190476190476191,
           0.2653061224489796,
           0.4883720930232558,
           0.40384615384615385,
           0.2682926829268293,
           0.6470588235294118,
           0.6260869565217392,
           0.780952380952381,
           0.33663366336633666,
           0.39215686274509803,
           0.4482758620689655,
           0.693069306930693,
           0.808695652173913,
           0.45,
           0.42857142857142855,
           0.23140495867768596,
           0.56,
           0.631578947368421,
           0.7738095238095238,
           0.3931203931203931,
           0.6053882725832013,
           0.5065616797900262,
           0.5887850467289719,
           0.5310344827586206
          ],
          "colorscale": [
           [
            0,
            "rgb(103,0,31)"
           ],
           [
            0.1,
            "rgb(178,24,43)"
           ],
           [
            0.2,
            "rgb(214,96,77)"
           ],
           [
            0.3,
            "rgb(244,165,130)"
           ],
           [
            0.4,
            "rgb(253,219,199)"
           ],
           [
            0.5,
            "rgb(247,247,247)"
           ],
           [
            0.6,
            "rgb(209,229,240)"
           ],
           [
            0.7,
            "rgb(146,197,222)"
           ],
           [
            0.8,
            "rgb(67,147,195)"
           ],
           [
            0.9,
            "rgb(33,102,172)"
           ],
           [
            1,
            "rgb(5,48,97)"
           ]
          ]
         },
         "maxdepth": 2,
         "parents": [
          "Houston",
          "Hartley",
          "Brewster",
          "Presidio",
          "Duval",
          "Motley",
          "Gray",
          "Duval",
          "Zavala",
          "Tyler",
          "Duval",
          "Rusk",
          "Dallam",
          "Brewster",
          "Zavala",
          "Tyler",
          "Dallam",
          "Brewster",
          "Webb",
          "Hidalgo",
          "Hidalgo",
          "Hidalgo",
          "Motley",
          "Motley",
          "Shelby",
          "Floyd",
          "Presidio",
          "Rusk",
          "Hartley",
          "Webb",
          "Houston",
          "Pecos",
          "Webb",
          "Presidio",
          "Moore",
          "Moore",
          "Floyd",
          "Tyler",
          "Rusk",
          "Shelby",
          "Hartley",
          "Floyd",
          "Pecos",
          "Pecos",
          "Shelby",
          "Gray",
          "Zavala",
          "Gray",
          "Houston",
          "Moore",
          "Dallam",
          "West",
          "North",
          "South",
          "North",
          "North",
          "North",
          "South",
          "East",
          "North",
          "North",
          "West",
          "West",
          "East",
          "East",
          "East",
          "South",
          "South",
          "total",
          "total",
          "total",
          "total",
          ""
         ],
         "type": "sunburst",
         "values": [
          42,
          24,
          33,
          40,
          42,
          44,
          49,
          20,
          31,
          30,
          20,
          20,
          20,
          33,
          28,
          21,
          35,
          20,
          20,
          41,
          39,
          21,
          22,
          35,
          45,
          31,
          35,
          40,
          42,
          46,
          22,
          48,
          48,
          45,
          33,
          33,
          44,
          49,
          24,
          29,
          39,
          44,
          30,
          37,
          47,
          31,
          25,
          35,
          38,
          21,
          49,
          86,
          104,
          82,
          119,
          115,
          105,
          101,
          102,
          87,
          101,
          115,
          120,
          84,
          121,
          100,
          114,
          84,
          407,
          631,
          381,
          321,
          1740
         ]
        }
       ],
       "layout": {
        "margin": {
         "b": 10,
         "l": 10,
         "r": 10,
         "t": 10
        },
        "template": {
         "data": {
          "bar": [
           {
            "error_x": {
             "color": "#2a3f5f"
            },
            "error_y": {
             "color": "#2a3f5f"
            },
            "marker": {
             "line": {
              "color": "#E5ECF6",
              "width": 0.5
             }
            },
            "type": "bar"
           }
          ],
          "barpolar": [
           {
            "marker": {
             "line": {
              "color": "#E5ECF6",
              "width": 0.5
             }
            },
            "type": "barpolar"
           }
          ],
          "carpet": [
           {
            "aaxis": {
             "endlinecolor": "#2a3f5f",
             "gridcolor": "white",
             "linecolor": "white",
             "minorgridcolor": "white",
             "startlinecolor": "#2a3f5f"
            },
            "baxis": {
             "endlinecolor": "#2a3f5f",
             "gridcolor": "white",
             "linecolor": "white",
             "minorgridcolor": "white",
             "startlinecolor": "#2a3f5f"
            },
            "type": "carpet"
           }
          ],
          "choropleth": [
           {
            "colorbar": {
             "outlinewidth": 0,
             "ticks": ""
            },
            "type": "choropleth"
           }
          ],
          "contour": [
           {
            "colorbar": {
             "outlinewidth": 0,
             "ticks": ""
            },
            "colorscale": [
             [
              0,
              "#0d0887"
             ],
             [
              0.1111111111111111,
              "#46039f"
             ],
             [
              0.2222222222222222,
              "#7201a8"
             ],
             [
              0.3333333333333333,
              "#9c179e"
             ],
             [
              0.4444444444444444,
              "#bd3786"
             ],
             [
              0.5555555555555556,
              "#d8576b"
             ],
             [
              0.6666666666666666,
              "#ed7953"
             ],
             [
              0.7777777777777778,
              "#fb9f3a"
             ],
             [
              0.8888888888888888,
              "#fdca26"
             ],
             [
              1,
              "#f0f921"
             ]
            ],
            "type": "contour"
           }
          ],
          "contourcarpet": [
           {
            "colorbar": {
             "outlinewidth": 0,
             "ticks": ""
            },
            "type": "contourcarpet"
           }
          ],
          "heatmap": [
           {
            "colorbar": {
             "outlinewidth": 0,
             "ticks": ""
            },
            "colorscale": [
             [
              0,
              "#0d0887"
             ],
             [
              0.1111111111111111,
              "#46039f"
             ],
             [
              0.2222222222222222,
              "#7201a8"
             ],
             [
              0.3333333333333333,
              "#9c179e"
             ],
             [
              0.4444444444444444,
              "#bd3786"
             ],
             [
              0.5555555555555556,
              "#d8576b"
             ],
             [
              0.6666666666666666,
              "#ed7953"
             ],
             [
              0.7777777777777778,
              "#fb9f3a"
             ],
             [
              0.8888888888888888,
              "#fdca26"
             ],
             [
              1,
              "#f0f921"
             ]
            ],
            "type": "heatmap"
           }
          ],
          "heatmapgl": [
           {
            "colorbar": {
             "outlinewidth": 0,
             "ticks": ""
            },
            "colorscale": [
             [
              0,
              "#0d0887"
             ],
             [
              0.1111111111111111,
              "#46039f"
             ],
             [
              0.2222222222222222,
              "#7201a8"
             ],
             [
              0.3333333333333333,
              "#9c179e"
             ],
             [
              0.4444444444444444,
              "#bd3786"
             ],
             [
              0.5555555555555556,
              "#d8576b"
             ],
             [
              0.6666666666666666,
              "#ed7953"
             ],
             [
              0.7777777777777778,
              "#fb9f3a"
             ],
             [
              0.8888888888888888,
              "#fdca26"
             ],
             [
              1,
              "#f0f921"
             ]
            ],
            "type": "heatmapgl"
           }
          ],
          "histogram": [
           {
            "marker": {
             "colorbar": {
              "outlinewidth": 0,
              "ticks": ""
             }
            },
            "type": "histogram"
           }
          ],
          "histogram2d": [
           {
            "colorbar": {
             "outlinewidth": 0,
             "ticks": ""
            },
            "colorscale": [
             [
              0,
              "#0d0887"
             ],
             [
              0.1111111111111111,
              "#46039f"
             ],
             [
              0.2222222222222222,
              "#7201a8"
             ],
             [
              0.3333333333333333,
              "#9c179e"
             ],
             [
              0.4444444444444444,
              "#bd3786"
             ],
             [
              0.5555555555555556,
              "#d8576b"
             ],
             [
              0.6666666666666666,
              "#ed7953"
             ],
             [
              0.7777777777777778,
              "#fb9f3a"
             ],
             [
              0.8888888888888888,
              "#fdca26"
             ],
             [
              1,
              "#f0f921"
             ]
            ],
            "type": "histogram2d"
           }
          ],
          "histogram2dcontour": [
           {
            "colorbar": {
             "outlinewidth": 0,
             "ticks": ""
            },
            "colorscale": [
             [
              0,
              "#0d0887"
             ],
             [
              0.1111111111111111,
              "#46039f"
             ],
             [
              0.2222222222222222,
              "#7201a8"
             ],
             [
              0.3333333333333333,
              "#9c179e"
             ],
             [
              0.4444444444444444,
              "#bd3786"
             ],
             [
              0.5555555555555556,
              "#d8576b"
             ],
             [
              0.6666666666666666,
              "#ed7953"
             ],
             [
              0.7777777777777778,
              "#fb9f3a"
             ],
             [
              0.8888888888888888,
              "#fdca26"
             ],
             [
              1,
              "#f0f921"
             ]
            ],
            "type": "histogram2dcontour"
           }
          ],
          "mesh3d": [
           {
            "colorbar": {
             "outlinewidth": 0,
             "ticks": ""
            },
            "type": "mesh3d"
           }
          ],
          "parcoords": [
           {
            "line": {
             "colorbar": {
              "outlinewidth": 0,
              "ticks": ""
             }
            },
            "type": "parcoords"
           }
          ],
          "pie": [
           {
            "automargin": true,
            "type": "pie"
           }
          ],
          "scatter": [
           {
            "marker": {
             "colorbar": {
              "outlinewidth": 0,
              "ticks": ""
             }
            },
            "type": "scatter"
           }
          ],
          "scatter3d": [
           {
            "line": {
             "colorbar": {
              "outlinewidth": 0,
              "ticks": ""
             }
            },
            "marker": {
             "colorbar": {
              "outlinewidth": 0,
              "ticks": ""
             }
            },
            "type": "scatter3d"
           }
          ],
          "scattercarpet": [
           {
            "marker": {
             "colorbar": {
              "outlinewidth": 0,
              "ticks": ""
             }
            },
            "type": "scattercarpet"
           }
          ],
          "scattergeo": [
           {
            "marker": {
             "colorbar": {
              "outlinewidth": 0,
              "ticks": ""
             }
            },
            "type": "scattergeo"
           }
          ],
          "scattergl": [
           {
            "marker": {
             "colorbar": {
              "outlinewidth": 0,
              "ticks": ""
             }
            },
            "type": "scattergl"
           }
          ],
          "scattermapbox": [
           {
            "marker": {
             "colorbar": {
              "outlinewidth": 0,
              "ticks": ""
             }
            },
            "type": "scattermapbox"
           }
          ],
          "scatterpolar": [
           {
            "marker": {
             "colorbar": {
              "outlinewidth": 0,
              "ticks": ""
             }
            },
            "type": "scatterpolar"
           }
          ],
          "scatterpolargl": [
           {
            "marker": {
             "colorbar": {
              "outlinewidth": 0,
              "ticks": ""
             }
            },
            "type": "scatterpolargl"
           }
          ],
          "scatterternary": [
           {
            "marker": {
             "colorbar": {
              "outlinewidth": 0,
              "ticks": ""
             }
            },
            "type": "scatterternary"
           }
          ],
          "surface": [
           {
            "colorbar": {
             "outlinewidth": 0,
             "ticks": ""
            },
            "colorscale": [
             [
              0,
              "#0d0887"
             ],
             [
              0.1111111111111111,
              "#46039f"
             ],
             [
              0.2222222222222222,
              "#7201a8"
             ],
             [
              0.3333333333333333,
              "#9c179e"
             ],
             [
              0.4444444444444444,
              "#bd3786"
             ],
             [
              0.5555555555555556,
              "#d8576b"
             ],
             [
              0.6666666666666666,
              "#ed7953"
             ],
             [
              0.7777777777777778,
              "#fb9f3a"
             ],
             [
              0.8888888888888888,
              "#fdca26"
             ],
             [
              1,
              "#f0f921"
             ]
            ],
            "type": "surface"
           }
          ],
          "table": [
           {
            "cells": {
             "fill": {
              "color": "#EBF0F8"
             },
             "line": {
              "color": "white"
             }
            },
            "header": {
             "fill": {
              "color": "#C8D4E3"
             },
             "line": {
              "color": "white"
             }
            },
            "type": "table"
           }
          ]
         },
         "layout": {
          "annotationdefaults": {
           "arrowcolor": "#2a3f5f",
           "arrowhead": 0,
           "arrowwidth": 1
          },
          "autotypenumbers": "strict",
          "coloraxis": {
           "colorbar": {
            "outlinewidth": 0,
            "ticks": ""
           }
          },
          "colorscale": {
           "diverging": [
            [
             0,
             "#8e0152"
            ],
            [
             0.1,
             "#c51b7d"
            ],
            [
             0.2,
             "#de77ae"
            ],
            [
             0.3,
             "#f1b6da"
            ],
            [
             0.4,
             "#fde0ef"
            ],
            [
             0.5,
             "#f7f7f7"
            ],
            [
             0.6,
             "#e6f5d0"
            ],
            [
             0.7,
             "#b8e186"
            ],
            [
             0.8,
             "#7fbc41"
            ],
            [
             0.9,
             "#4d9221"
            ],
            [
             1,
             "#276419"
            ]
           ],
           "sequential": [
            [
             0,
             "#0d0887"
            ],
            [
             0.1111111111111111,
             "#46039f"
            ],
            [
             0.2222222222222222,
             "#7201a8"
            ],
            [
             0.3333333333333333,
             "#9c179e"
            ],
            [
             0.4444444444444444,
             "#bd3786"
            ],
            [
             0.5555555555555556,
             "#d8576b"
            ],
            [
             0.6666666666666666,
             "#ed7953"
            ],
            [
             0.7777777777777778,
             "#fb9f3a"
            ],
            [
             0.8888888888888888,
             "#fdca26"
            ],
            [
             1,
             "#f0f921"
            ]
           ],
           "sequentialminus": [
            [
             0,
             "#0d0887"
            ],
            [
             0.1111111111111111,
             "#46039f"
            ],
            [
             0.2222222222222222,
             "#7201a8"
            ],
            [
             0.3333333333333333,
             "#9c179e"
            ],
            [
             0.4444444444444444,
             "#bd3786"
            ],
            [
             0.5555555555555556,
             "#d8576b"
            ],
            [
             0.6666666666666666,
             "#ed7953"
            ],
            [
             0.7777777777777778,
             "#fb9f3a"
            ],
            [
             0.8888888888888888,
             "#fdca26"
            ],
            [
             1,
             "#f0f921"
            ]
           ]
          },
          "colorway": [
           "#636efa",
           "#EF553B",
           "#00cc96",
           "#ab63fa",
           "#FFA15A",
           "#19d3f3",
           "#FF6692",
           "#B6E880",
           "#FF97FF",
           "#FECB52"
          ],
          "font": {
           "color": "#2a3f5f"
          },
          "geo": {
           "bgcolor": "white",
           "lakecolor": "white",
           "landcolor": "#E5ECF6",
           "showlakes": true,
           "showland": true,
           "subunitcolor": "white"
          },
          "hoverlabel": {
           "align": "left"
          },
          "hovermode": "closest",
          "mapbox": {
           "style": "light"
          },
          "paper_bgcolor": "white",
          "plot_bgcolor": "#E5ECF6",
          "polar": {
           "angularaxis": {
            "gridcolor": "white",
            "linecolor": "white",
            "ticks": ""
           },
           "bgcolor": "#E5ECF6",
           "radialaxis": {
            "gridcolor": "white",
            "linecolor": "white",
            "ticks": ""
           }
          },
          "scene": {
           "xaxis": {
            "backgroundcolor": "#E5ECF6",
            "gridcolor": "white",
            "gridwidth": 2,
            "linecolor": "white",
            "showbackground": true,
            "ticks": "",
            "zerolinecolor": "white"
           },
           "yaxis": {
            "backgroundcolor": "#E5ECF6",
            "gridcolor": "white",
            "gridwidth": 2,
            "linecolor": "white",
            "showbackground": true,
            "ticks": "",
            "zerolinecolor": "white"
           },
           "zaxis": {
            "backgroundcolor": "#E5ECF6",
            "gridcolor": "white",
            "gridwidth": 2,
            "linecolor": "white",
            "showbackground": true,
            "ticks": "",
            "zerolinecolor": "white"
           }
          },
          "shapedefaults": {
           "line": {
            "color": "#2a3f5f"
           }
          },
          "ternary": {
           "aaxis": {
            "gridcolor": "white",
            "linecolor": "white",
            "ticks": ""
           },
           "baxis": {
            "gridcolor": "white",
            "linecolor": "white",
            "ticks": ""
           },
           "bgcolor": "#E5ECF6",
           "caxis": {
            "gridcolor": "white",
            "linecolor": "white",
            "ticks": ""
           }
          },
          "title": {
           "x": 0.05
          },
          "xaxis": {
           "automargin": true,
           "gridcolor": "white",
           "linecolor": "white",
           "ticks": "",
           "title": {
            "standoff": 15
           },
           "zerolinecolor": "white",
           "zerolinewidth": 2
          },
          "yaxis": {
           "automargin": true,
           "gridcolor": "white",
           "linecolor": "white",
           "ticks": "",
           "title": {
            "standoff": 15
           },
           "zerolinecolor": "white",
           "zerolinewidth": 2
          }
         }
        }
       }
      }
     },
     "metadata": {},
     "output_type": "display_data"
    }
   ],
   "source": [
    "import plotly.graph_objects as go\n",
    "from plotly.subplots import make_subplots\n",
    "import pandas as pd\n",
    "\n",
    "df = pd.read_csv('https://raw.githubusercontent.com/plotly/datasets/master/sales_success.csv')\n",
    "print(df.head())\n",
    "\n",
    "levels = ['salesperson', 'county', 'region'] # levels used for the hierarchical chart\n",
    "color_columns = ['sales', 'calls']\n",
    "value_column = 'calls'\n",
    "\n",
    "def build_hierarchical_dataframe(df, levels, value_column, color_columns=None):\n",
    "    \"\"\"\n",
    "    Build a hierarchy of levels for Sunburst or Treemap charts.\n",
    "\n",
    "    Levels are given starting from the bottom to the top of the hierarchy,\n",
    "    ie the last level corresponds to the root.\n",
    "    \"\"\"\n",
    "    df_all_trees = pd.DataFrame(columns=['id', 'parent', 'value', 'color'])\n",
    "    for i, level in enumerate(levels):\n",
    "        df_tree = pd.DataFrame(columns=['id', 'parent', 'value', 'color'])\n",
    "        dfg = df.groupby(levels[i:]).sum()\n",
    "        dfg = dfg.reset_index()\n",
    "        df_tree['id'] = dfg[level].copy()\n",
    "        if i < len(levels) - 1:\n",
    "            df_tree['parent'] = dfg[levels[i+1]].copy()\n",
    "        else:\n",
    "            df_tree['parent'] = 'total'\n",
    "        df_tree['value'] = dfg[value_column]\n",
    "        df_tree['color'] = dfg[color_columns[0]] / dfg[color_columns[1]]\n",
    "        df_all_trees = df_all_trees.append(df_tree, ignore_index=True)\n",
    "    total = pd.Series(dict(id='total', parent='',\n",
    "                              value=df[value_column].sum(),\n",
    "                              color=df[color_columns[0]].sum() / df[color_columns[1]].sum()))\n",
    "    df_all_trees = df_all_trees.append(total, ignore_index=True)\n",
    "    return df_all_trees\n",
    "\n",
    "\n",
    "df_all_trees = build_hierarchical_dataframe(df, levels, value_column, color_columns)\n",
    "average_score = df['sales'].sum() / df['calls'].sum()\n",
    "\n",
    "fig = make_subplots(1, 2, specs=[[{\"type\": \"domain\"}, {\"type\": \"domain\"}]],)\n",
    "\n",
    "fig.add_trace(go.Sunburst(\n",
    "    labels=df_all_trees['id'],\n",
    "    parents=df_all_trees['parent'],\n",
    "    values=df_all_trees['value'],\n",
    "    branchvalues='total',\n",
    "    marker=dict(\n",
    "        colors=df_all_trees['color'],\n",
    "        colorscale='RdBu',\n",
    "        cmid=average_score),\n",
    "    hovertemplate='<b>%{label} </b> <br> Sales: %{value}<br> Success rate: %{color:.2f}',\n",
    "    name=''\n",
    "    ), 1, 1)\n",
    "\n",
    "fig.add_trace(go.Sunburst(\n",
    "    labels=df_all_trees['id'],\n",
    "    parents=df_all_trees['parent'],\n",
    "    values=df_all_trees['value'],\n",
    "    branchvalues='total',\n",
    "    marker=dict(\n",
    "        colors=df_all_trees['color'],\n",
    "        colorscale='RdBu',\n",
    "        cmid=average_score),\n",
    "    hovertemplate='<b>%{label} </b> <br> Sales: %{value}<br> Success rate: %{color:.2f}',\n",
    "    maxdepth=2\n",
    "    ), 1, 2)\n",
    "\n",
    "fig.update_layout(margin=dict(t=10, b=10, r=10, l=10))\n",
    "fig.show()"
   ]
  },
  {
   "cell_type": "code",
   "execution_count": 73,
   "metadata": {},
   "outputs": [
    {
     "data": {
      "text/html": [
       "<div>\n",
       "<style scoped>\n",
       "    .dataframe tbody tr th:only-of-type {\n",
       "        vertical-align: middle;\n",
       "    }\n",
       "\n",
       "    .dataframe tbody tr th {\n",
       "        vertical-align: top;\n",
       "    }\n",
       "\n",
       "    .dataframe thead th {\n",
       "        text-align: right;\n",
       "    }\n",
       "</style>\n",
       "<table border=\"1\" class=\"dataframe\">\n",
       "  <thead>\n",
       "    <tr style=\"text-align: right;\">\n",
       "      <th></th>\n",
       "      <th>ids</th>\n",
       "      <th>labels</th>\n",
       "      <th>parents</th>\n",
       "    </tr>\n",
       "  </thead>\n",
       "  <tbody>\n",
       "    <tr>\n",
       "      <th>0</th>\n",
       "      <td>Enzymatic-Flowery</td>\n",
       "      <td>Flowery</td>\n",
       "      <td>NaN</td>\n",
       "    </tr>\n",
       "    <tr>\n",
       "      <th>1</th>\n",
       "      <td>Enzymatic-Fruity</td>\n",
       "      <td>Fruity</td>\n",
       "      <td>NaN</td>\n",
       "    </tr>\n",
       "    <tr>\n",
       "      <th>2</th>\n",
       "      <td>Enzymatic-Herby</td>\n",
       "      <td>Herby</td>\n",
       "      <td>NaN</td>\n",
       "    </tr>\n",
       "    <tr>\n",
       "      <th>3</th>\n",
       "      <td>Sugar Browning-Nutty</td>\n",
       "      <td>Nutty</td>\n",
       "      <td>NaN</td>\n",
       "    </tr>\n",
       "    <tr>\n",
       "      <th>4</th>\n",
       "      <td>Sugar Browning-Carmelly</td>\n",
       "      <td>Carmelly</td>\n",
       "      <td>NaN</td>\n",
       "    </tr>\n",
       "  </tbody>\n",
       "</table>\n",
       "</div>"
      ],
      "text/plain": [
       "                       ids    labels parents\n",
       "0        Enzymatic-Flowery   Flowery     NaN\n",
       "1         Enzymatic-Fruity    Fruity     NaN\n",
       "2          Enzymatic-Herby     Herby     NaN\n",
       "3     Sugar Browning-Nutty     Nutty     NaN\n",
       "4  Sugar Browning-Carmelly  Carmelly     NaN"
      ]
     },
     "execution_count": 73,
     "metadata": {},
     "output_type": "execute_result"
    }
   ],
   "source": [
    "df1 = pd.read_csv('https://raw.githubusercontent.com/plotly/datasets/718417069ead87650b90472464c7565dc8c2cb1c/coffee-flavors.csv')\n",
    "df1.head()"
   ]
  },
  {
   "cell_type": "code",
   "execution_count": 1,
   "metadata": {},
   "outputs": [
    {
     "data": {
      "application/vnd.plotly.v1+json": {
       "config": {
        "plotlyServerURL": "https://plot.ly"
       },
       "data": [
        {
         "domain": {
          "column": 1
         },
         "ids": [
          "Enzymatic-Flowery",
          "Enzymatic-Fruity",
          "Enzymatic-Herby",
          "Sugar Browning-Nutty",
          "Sugar Browning-Carmelly",
          "Sugar Browning-Chocolatey",
          "Dry Distillation-Resinous",
          "Dry Distillation-Spicy",
          "Dry Distillation-Carbony",
          "Bitter-Pungent",
          "Bitter-Harsh",
          "Salt-Sharp",
          "Salt-Bland",
          "Sweet-Mellow",
          "Sweet-Acidy",
          "Sour-Winey",
          "Sour-Soury",
          "Flowery-Floral",
          "Flowery-Fragrant",
          "Fruity-Citrus",
          "Fruity-Berry-like",
          "Herby-Alliaceous",
          "Herby-Leguminous",
          "Nutty-Nut-like",
          "Nutty-Malt-like",
          "Carmelly-Candy-like",
          "Carmelly-Syrup-like",
          "Chocolatey-Chocolate-like",
          "Chocolatey-Vanilla-like",
          "Resinous-Turpeny",
          "Resinous-Medicinal",
          "Spicy-Warming",
          "Spicy-Pungent",
          "Carbony-Smokey",
          "Carbony-Ashy",
          "Pungent-Creosol",
          "Pungent-Phenolic",
          "Harsh-Caustic",
          "Harsh-Alkaline",
          "Sharp-Astringent",
          "Sharp-Rough",
          "Bland-Neutral",
          "Bland-Soft",
          "Mellow-Delicate",
          "Mellow-Mild",
          "Acidy-Nippy",
          "Acidy-Piquant",
          "Winey-Tangy",
          "Winey-Tart",
          "Soury-Hard",
          "Soury-Acrid",
          "Floral-Coffee Blossom",
          "Floral-Tea Rose",
          "Fragrant-Cardamon Caraway",
          "Fragrant-Coriander Seeds",
          "Citrus-Lemon",
          "Citrus-Apple",
          "Berry-like-Apricot",
          "Berry-like-Blackberry",
          "Alliaceous-Onion",
          "Alliaceous-Garlic",
          "Leguminous-Cucumber",
          "Leguminous-Garden Peas",
          "Nut-like-Roasted Peanuts",
          "Nut-like-Walnuts",
          "Malt-like-Balsamic Rice",
          "Malt-like-Toast",
          "Candy-like-Roasted Hazelnut",
          "Candy-like-Roasted Almond",
          "Syrup-like-Honey",
          "Syrup-like-Maple Syrup",
          "Chocolate-like-Bakers",
          "Chocolate-like-Dark Chocolate",
          "Vanilla-like-Swiss",
          "Vanilla-like-Butter",
          "Turpeny-Piney",
          "Turpeny-Blackcurrant-like",
          "Medicinal-Camphoric",
          "Medicinal-Cineolic",
          "Warming-Cedar",
          "Warming-Pepper",
          "Pungent-Clove",
          "Pungent-Thyme",
          "Smokey-Tarry",
          "Smokey-Pipe Tobacco",
          "Ashy-Burnt",
          "Ashy-Charred"
         ],
         "insidetextorientation": "radial",
         "labels": [
          "Flowery",
          "Fruity",
          "Herby",
          "Nutty",
          "Carmelly",
          "Chocolatey",
          "Resinous",
          "Spicy",
          "Carbony",
          "Pungent",
          "Harsh",
          "Sharp",
          "Bland",
          "Mellow",
          "Acidy",
          "Winey",
          "Soury",
          "Floral",
          "Fragrant",
          "Citrus",
          "Berry-like",
          "Alliaceous",
          "Leguminous",
          "Nut-like",
          "Malt-like",
          "Candy-like",
          "Syrup-like",
          "Chocolate-like",
          "Vanilla-like",
          "Turpeny",
          "Medicinal",
          "Warming",
          "Pungent",
          "Smokey",
          "Ashy",
          "Creosol",
          "Phenolic",
          "Caustic",
          "Alkaline",
          "Astringent",
          "Rough",
          "Neutral",
          "Soft",
          "Delicate",
          "Mild",
          "Nippy",
          "Piquant",
          "Tangy",
          "Tart",
          "Hard",
          "Acrid",
          "Coffee Blossom",
          "Tea Rose",
          "Cardamon Caraway",
          "Coriander Seeds",
          "Lemon",
          "Apple",
          "Apricot",
          "Blackberry",
          "Onion",
          "Garlic",
          "Cucumber",
          "Garden Peas",
          "Roasted Peanuts",
          "Walnuts",
          "Balsamic Rice",
          "Toast",
          "Roasted Hazelnut",
          "Roasted Almond",
          "Honey",
          "Maple Syrup",
          "Bakers",
          "Dark Chocolate",
          "Swiss",
          "Butter",
          "Piney",
          "Blackcurrant-like",
          "Camphoric",
          "Cineolic",
          "Cedar",
          "Pepper",
          "Clove",
          "Thyme",
          "Tarry",
          "Pipe Tobacco",
          "Burnt",
          "Charred"
         ],
         "maxdepth": 2,
         "parents": [
          null,
          null,
          null,
          null,
          null,
          null,
          null,
          null,
          null,
          null,
          null,
          null,
          null,
          null,
          null,
          null,
          null,
          "Enzymatic-Flowery",
          "Enzymatic-Flowery",
          "Enzymatic-Fruity",
          "Enzymatic-Fruity",
          "Enzymatic-Herby",
          "Enzymatic-Herby",
          "Sugar Browning-Nutty",
          "Sugar Browning-Nutty",
          "Sugar Browning-Carmelly",
          "Sugar Browning-Carmelly",
          "Sugar Browning-Chocolatey",
          "Sugar Browning-Chocolatey",
          "Dry Distillation-Resinous",
          "Dry Distillation-Resinous",
          "Dry Distillation-Spicy",
          "Dry Distillation-Spicy",
          "Dry Distillation-Carbony",
          "Dry Distillation-Carbony",
          "Bitter-Pungent",
          "Bitter-Pungent",
          "Bitter-Harsh",
          "Bitter-Harsh",
          "Salt-Sharp",
          "Salt-Sharp",
          "Salt-Bland",
          "Salt-Bland",
          "Sweet-Mellow",
          "Sweet-Mellow",
          "Sweet-Acidy",
          "Sweet-Acidy",
          "Sour-Winey",
          "Sour-Winey",
          "Sour-Soury",
          "Sour-Soury",
          "Flowery-Floral",
          "Flowery-Floral",
          "Flowery-Fragrant",
          "Flowery-Fragrant",
          "Fruity-Citrus",
          "Fruity-Citrus",
          "Fruity-Berry-like",
          "Fruity-Berry-like",
          "Herby-Alliaceous",
          "Herby-Alliaceous",
          "Herby-Leguminous",
          "Herby-Leguminous",
          "Nutty-Nut-like",
          "Nutty-Nut-like",
          "Nutty-Malt-like",
          "Nutty-Malt-like",
          "Carmelly-Candy-like",
          "Carmelly-Candy-like",
          "Carmelly-Syrup-like",
          "Carmelly-Syrup-like",
          "Chocolatey-Chocolate-like",
          "Chocolatey-Chocolate-like",
          "Chocolatey-Vanilla-like",
          "Chocolatey-Vanilla-like",
          "Resinous-Turpeny",
          "Resinous-Turpeny",
          "Resinous-Medicinal",
          "Resinous-Medicinal",
          "Spicy-Warming",
          "Spicy-Warming",
          "Spicy-Pungent",
          "Spicy-Pungent",
          "Carbony-Smokey",
          "Carbony-Smokey",
          "Carbony-Ashy",
          "Carbony-Ashy"
         ],
         "type": "sunburst"
        }
       ],
       "layout": {
        "margin": {
         "b": 10,
         "l": 10,
         "r": 10,
         "t": 10
        },
        "template": {
         "data": {
          "bar": [
           {
            "error_x": {
             "color": "#2a3f5f"
            },
            "error_y": {
             "color": "#2a3f5f"
            },
            "marker": {
             "line": {
              "color": "#E5ECF6",
              "width": 0.5
             }
            },
            "type": "bar"
           }
          ],
          "barpolar": [
           {
            "marker": {
             "line": {
              "color": "#E5ECF6",
              "width": 0.5
             }
            },
            "type": "barpolar"
           }
          ],
          "carpet": [
           {
            "aaxis": {
             "endlinecolor": "#2a3f5f",
             "gridcolor": "white",
             "linecolor": "white",
             "minorgridcolor": "white",
             "startlinecolor": "#2a3f5f"
            },
            "baxis": {
             "endlinecolor": "#2a3f5f",
             "gridcolor": "white",
             "linecolor": "white",
             "minorgridcolor": "white",
             "startlinecolor": "#2a3f5f"
            },
            "type": "carpet"
           }
          ],
          "choropleth": [
           {
            "colorbar": {
             "outlinewidth": 0,
             "ticks": ""
            },
            "type": "choropleth"
           }
          ],
          "contour": [
           {
            "colorbar": {
             "outlinewidth": 0,
             "ticks": ""
            },
            "colorscale": [
             [
              0,
              "#0d0887"
             ],
             [
              0.1111111111111111,
              "#46039f"
             ],
             [
              0.2222222222222222,
              "#7201a8"
             ],
             [
              0.3333333333333333,
              "#9c179e"
             ],
             [
              0.4444444444444444,
              "#bd3786"
             ],
             [
              0.5555555555555556,
              "#d8576b"
             ],
             [
              0.6666666666666666,
              "#ed7953"
             ],
             [
              0.7777777777777778,
              "#fb9f3a"
             ],
             [
              0.8888888888888888,
              "#fdca26"
             ],
             [
              1,
              "#f0f921"
             ]
            ],
            "type": "contour"
           }
          ],
          "contourcarpet": [
           {
            "colorbar": {
             "outlinewidth": 0,
             "ticks": ""
            },
            "type": "contourcarpet"
           }
          ],
          "heatmap": [
           {
            "colorbar": {
             "outlinewidth": 0,
             "ticks": ""
            },
            "colorscale": [
             [
              0,
              "#0d0887"
             ],
             [
              0.1111111111111111,
              "#46039f"
             ],
             [
              0.2222222222222222,
              "#7201a8"
             ],
             [
              0.3333333333333333,
              "#9c179e"
             ],
             [
              0.4444444444444444,
              "#bd3786"
             ],
             [
              0.5555555555555556,
              "#d8576b"
             ],
             [
              0.6666666666666666,
              "#ed7953"
             ],
             [
              0.7777777777777778,
              "#fb9f3a"
             ],
             [
              0.8888888888888888,
              "#fdca26"
             ],
             [
              1,
              "#f0f921"
             ]
            ],
            "type": "heatmap"
           }
          ],
          "heatmapgl": [
           {
            "colorbar": {
             "outlinewidth": 0,
             "ticks": ""
            },
            "colorscale": [
             [
              0,
              "#0d0887"
             ],
             [
              0.1111111111111111,
              "#46039f"
             ],
             [
              0.2222222222222222,
              "#7201a8"
             ],
             [
              0.3333333333333333,
              "#9c179e"
             ],
             [
              0.4444444444444444,
              "#bd3786"
             ],
             [
              0.5555555555555556,
              "#d8576b"
             ],
             [
              0.6666666666666666,
              "#ed7953"
             ],
             [
              0.7777777777777778,
              "#fb9f3a"
             ],
             [
              0.8888888888888888,
              "#fdca26"
             ],
             [
              1,
              "#f0f921"
             ]
            ],
            "type": "heatmapgl"
           }
          ],
          "histogram": [
           {
            "marker": {
             "colorbar": {
              "outlinewidth": 0,
              "ticks": ""
             }
            },
            "type": "histogram"
           }
          ],
          "histogram2d": [
           {
            "colorbar": {
             "outlinewidth": 0,
             "ticks": ""
            },
            "colorscale": [
             [
              0,
              "#0d0887"
             ],
             [
              0.1111111111111111,
              "#46039f"
             ],
             [
              0.2222222222222222,
              "#7201a8"
             ],
             [
              0.3333333333333333,
              "#9c179e"
             ],
             [
              0.4444444444444444,
              "#bd3786"
             ],
             [
              0.5555555555555556,
              "#d8576b"
             ],
             [
              0.6666666666666666,
              "#ed7953"
             ],
             [
              0.7777777777777778,
              "#fb9f3a"
             ],
             [
              0.8888888888888888,
              "#fdca26"
             ],
             [
              1,
              "#f0f921"
             ]
            ],
            "type": "histogram2d"
           }
          ],
          "histogram2dcontour": [
           {
            "colorbar": {
             "outlinewidth": 0,
             "ticks": ""
            },
            "colorscale": [
             [
              0,
              "#0d0887"
             ],
             [
              0.1111111111111111,
              "#46039f"
             ],
             [
              0.2222222222222222,
              "#7201a8"
             ],
             [
              0.3333333333333333,
              "#9c179e"
             ],
             [
              0.4444444444444444,
              "#bd3786"
             ],
             [
              0.5555555555555556,
              "#d8576b"
             ],
             [
              0.6666666666666666,
              "#ed7953"
             ],
             [
              0.7777777777777778,
              "#fb9f3a"
             ],
             [
              0.8888888888888888,
              "#fdca26"
             ],
             [
              1,
              "#f0f921"
             ]
            ],
            "type": "histogram2dcontour"
           }
          ],
          "mesh3d": [
           {
            "colorbar": {
             "outlinewidth": 0,
             "ticks": ""
            },
            "type": "mesh3d"
           }
          ],
          "parcoords": [
           {
            "line": {
             "colorbar": {
              "outlinewidth": 0,
              "ticks": ""
             }
            },
            "type": "parcoords"
           }
          ],
          "pie": [
           {
            "automargin": true,
            "type": "pie"
           }
          ],
          "scatter": [
           {
            "marker": {
             "colorbar": {
              "outlinewidth": 0,
              "ticks": ""
             }
            },
            "type": "scatter"
           }
          ],
          "scatter3d": [
           {
            "line": {
             "colorbar": {
              "outlinewidth": 0,
              "ticks": ""
             }
            },
            "marker": {
             "colorbar": {
              "outlinewidth": 0,
              "ticks": ""
             }
            },
            "type": "scatter3d"
           }
          ],
          "scattercarpet": [
           {
            "marker": {
             "colorbar": {
              "outlinewidth": 0,
              "ticks": ""
             }
            },
            "type": "scattercarpet"
           }
          ],
          "scattergeo": [
           {
            "marker": {
             "colorbar": {
              "outlinewidth": 0,
              "ticks": ""
             }
            },
            "type": "scattergeo"
           }
          ],
          "scattergl": [
           {
            "marker": {
             "colorbar": {
              "outlinewidth": 0,
              "ticks": ""
             }
            },
            "type": "scattergl"
           }
          ],
          "scattermapbox": [
           {
            "marker": {
             "colorbar": {
              "outlinewidth": 0,
              "ticks": ""
             }
            },
            "type": "scattermapbox"
           }
          ],
          "scatterpolar": [
           {
            "marker": {
             "colorbar": {
              "outlinewidth": 0,
              "ticks": ""
             }
            },
            "type": "scatterpolar"
           }
          ],
          "scatterpolargl": [
           {
            "marker": {
             "colorbar": {
              "outlinewidth": 0,
              "ticks": ""
             }
            },
            "type": "scatterpolargl"
           }
          ],
          "scatterternary": [
           {
            "marker": {
             "colorbar": {
              "outlinewidth": 0,
              "ticks": ""
             }
            },
            "type": "scatterternary"
           }
          ],
          "surface": [
           {
            "colorbar": {
             "outlinewidth": 0,
             "ticks": ""
            },
            "colorscale": [
             [
              0,
              "#0d0887"
             ],
             [
              0.1111111111111111,
              "#46039f"
             ],
             [
              0.2222222222222222,
              "#7201a8"
             ],
             [
              0.3333333333333333,
              "#9c179e"
             ],
             [
              0.4444444444444444,
              "#bd3786"
             ],
             [
              0.5555555555555556,
              "#d8576b"
             ],
             [
              0.6666666666666666,
              "#ed7953"
             ],
             [
              0.7777777777777778,
              "#fb9f3a"
             ],
             [
              0.8888888888888888,
              "#fdca26"
             ],
             [
              1,
              "#f0f921"
             ]
            ],
            "type": "surface"
           }
          ],
          "table": [
           {
            "cells": {
             "fill": {
              "color": "#EBF0F8"
             },
             "line": {
              "color": "white"
             }
            },
            "header": {
             "fill": {
              "color": "#C8D4E3"
             },
             "line": {
              "color": "white"
             }
            },
            "type": "table"
           }
          ]
         },
         "layout": {
          "annotationdefaults": {
           "arrowcolor": "#2a3f5f",
           "arrowhead": 0,
           "arrowwidth": 1
          },
          "autotypenumbers": "strict",
          "coloraxis": {
           "colorbar": {
            "outlinewidth": 0,
            "ticks": ""
           }
          },
          "colorscale": {
           "diverging": [
            [
             0,
             "#8e0152"
            ],
            [
             0.1,
             "#c51b7d"
            ],
            [
             0.2,
             "#de77ae"
            ],
            [
             0.3,
             "#f1b6da"
            ],
            [
             0.4,
             "#fde0ef"
            ],
            [
             0.5,
             "#f7f7f7"
            ],
            [
             0.6,
             "#e6f5d0"
            ],
            [
             0.7,
             "#b8e186"
            ],
            [
             0.8,
             "#7fbc41"
            ],
            [
             0.9,
             "#4d9221"
            ],
            [
             1,
             "#276419"
            ]
           ],
           "sequential": [
            [
             0,
             "#0d0887"
            ],
            [
             0.1111111111111111,
             "#46039f"
            ],
            [
             0.2222222222222222,
             "#7201a8"
            ],
            [
             0.3333333333333333,
             "#9c179e"
            ],
            [
             0.4444444444444444,
             "#bd3786"
            ],
            [
             0.5555555555555556,
             "#d8576b"
            ],
            [
             0.6666666666666666,
             "#ed7953"
            ],
            [
             0.7777777777777778,
             "#fb9f3a"
            ],
            [
             0.8888888888888888,
             "#fdca26"
            ],
            [
             1,
             "#f0f921"
            ]
           ],
           "sequentialminus": [
            [
             0,
             "#0d0887"
            ],
            [
             0.1111111111111111,
             "#46039f"
            ],
            [
             0.2222222222222222,
             "#7201a8"
            ],
            [
             0.3333333333333333,
             "#9c179e"
            ],
            [
             0.4444444444444444,
             "#bd3786"
            ],
            [
             0.5555555555555556,
             "#d8576b"
            ],
            [
             0.6666666666666666,
             "#ed7953"
            ],
            [
             0.7777777777777778,
             "#fb9f3a"
            ],
            [
             0.8888888888888888,
             "#fdca26"
            ],
            [
             1,
             "#f0f921"
            ]
           ]
          },
          "colorway": [
           "#636efa",
           "#EF553B",
           "#00cc96",
           "#ab63fa",
           "#FFA15A",
           "#19d3f3",
           "#FF6692",
           "#B6E880",
           "#FF97FF",
           "#FECB52"
          ],
          "font": {
           "color": "#2a3f5f"
          },
          "geo": {
           "bgcolor": "white",
           "lakecolor": "white",
           "landcolor": "#E5ECF6",
           "showlakes": true,
           "showland": true,
           "subunitcolor": "white"
          },
          "hoverlabel": {
           "align": "left"
          },
          "hovermode": "closest",
          "mapbox": {
           "style": "light"
          },
          "paper_bgcolor": "white",
          "plot_bgcolor": "#E5ECF6",
          "polar": {
           "angularaxis": {
            "gridcolor": "white",
            "linecolor": "white",
            "ticks": ""
           },
           "bgcolor": "#E5ECF6",
           "radialaxis": {
            "gridcolor": "white",
            "linecolor": "white",
            "ticks": ""
           }
          },
          "scene": {
           "xaxis": {
            "backgroundcolor": "#E5ECF6",
            "gridcolor": "white",
            "gridwidth": 2,
            "linecolor": "white",
            "showbackground": true,
            "ticks": "",
            "zerolinecolor": "white"
           },
           "yaxis": {
            "backgroundcolor": "#E5ECF6",
            "gridcolor": "white",
            "gridwidth": 2,
            "linecolor": "white",
            "showbackground": true,
            "ticks": "",
            "zerolinecolor": "white"
           },
           "zaxis": {
            "backgroundcolor": "#E5ECF6",
            "gridcolor": "white",
            "gridwidth": 2,
            "linecolor": "white",
            "showbackground": true,
            "ticks": "",
            "zerolinecolor": "white"
           }
          },
          "shapedefaults": {
           "line": {
            "color": "#2a3f5f"
           }
          },
          "ternary": {
           "aaxis": {
            "gridcolor": "white",
            "linecolor": "white",
            "ticks": ""
           },
           "baxis": {
            "gridcolor": "white",
            "linecolor": "white",
            "ticks": ""
           },
           "bgcolor": "#E5ECF6",
           "caxis": {
            "gridcolor": "white",
            "linecolor": "white",
            "ticks": ""
           }
          },
          "title": {
           "x": 0.05
          },
          "xaxis": {
           "automargin": true,
           "gridcolor": "white",
           "linecolor": "white",
           "ticks": "",
           "title": {
            "standoff": 15
           },
           "zerolinecolor": "white",
           "zerolinewidth": 2
          },
          "yaxis": {
           "automargin": true,
           "gridcolor": "white",
           "linecolor": "white",
           "ticks": "",
           "title": {
            "standoff": 15
           },
           "zerolinecolor": "white",
           "zerolinewidth": 2
          }
         }
        }
       }
      }
     },
     "metadata": {},
     "output_type": "display_data"
    }
   ],
   "source": [
    "import plotly.graph_objects as go\n",
    "import pandas as pd\n",
    "\n",
    "df = pd.read_csv('https://raw.githubusercontent.com/plotly/datasets/718417069ead87650b90472464c7565dc8c2cb1c/coffee-flavors.csv')\n",
    "\n",
    "fig = go.Figure()\n",
    "\n",
    "fig.add_trace(go.Sunburst(\n",
    "    ids=df.ids,\n",
    "    labels=df.labels,\n",
    "    parents=df.parents,\n",
    "    domain=dict(column=1),\n",
    "    maxdepth=2,\n",
    "    insidetextorientation='radial'\n",
    "))\n",
    "\n",
    "fig.update_layout(\n",
    "    margin = dict(t=10, l=10, r=10, b=10)\n",
    ")\n",
    "\n",
    "fig.show()"
   ]
  }
 ],
 "metadata": {
  "interpreter": {
   "hash": "5752678d7f8bf2f9025b7583bc8bc045cfa703db6e2ec6c1e574ff04808384ee"
  },
  "kernelspec": {
   "display_name": "Python 3.7.6 64-bit ('project_env': venv)",
   "language": "python",
   "name": "python3"
  },
  "language_info": {
   "codemirror_mode": {
    "name": "ipython",
    "version": 3
   },
   "file_extension": ".py",
   "mimetype": "text/x-python",
   "name": "python",
   "nbconvert_exporter": "python",
   "pygments_lexer": "ipython3",
   "version": "3.7.6"
  },
  "orig_nbformat": 4
 },
 "nbformat": 4,
 "nbformat_minor": 2
}
