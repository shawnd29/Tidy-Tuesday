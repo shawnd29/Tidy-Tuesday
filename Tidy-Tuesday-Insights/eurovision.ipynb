{
 "cells": [
  {
   "cell_type": "markdown",
   "metadata": {},
   "source": [
    "2022-05-17 <br/>\n",
    "Eurovision <br/>\n",
    "https://github.com/rfordatascience/tidytuesday/blob/master/data/2022/2022-05-17/readme.md"
   ]
  },
  {
   "cell_type": "markdown",
   "metadata": {},
   "source": [
    "Line Maps - Completed  <br/>\n",
    "Animated line Maps - Incomplete"
   ]
  },
  {
   "cell_type": "markdown",
   "metadata": {},
   "source": [
    "Special thanks to: JP Hwang <br/>\n",
    "https://medium.com/swlh/interactive-animated-travel-data-visualizations-mapping-nba-travel-a154a2e7c18d"
   ]
  },
  {
   "cell_type": "code",
   "execution_count": 2,
   "metadata": {},
   "outputs": [],
   "source": [
    "import pandas as pd"
   ]
  },
  {
   "cell_type": "code",
   "execution_count": 3,
   "metadata": {},
   "outputs": [],
   "source": [
    "df = pd.read_csv('https://raw.githubusercontent.com/rfordatascience/tidytuesday/master/data/2022/2022-05-17/eurovision-votes.csv')"
   ]
  },
  {
   "cell_type": "code",
   "execution_count": 4,
   "metadata": {},
   "outputs": [
    {
     "data": {
      "text/html": [
       "<div>\n",
       "<style scoped>\n",
       "    .dataframe tbody tr th:only-of-type {\n",
       "        vertical-align: middle;\n",
       "    }\n",
       "\n",
       "    .dataframe tbody tr th {\n",
       "        vertical-align: top;\n",
       "    }\n",
       "\n",
       "    .dataframe thead th {\n",
       "        text-align: right;\n",
       "    }\n",
       "</style>\n",
       "<table border=\"1\" class=\"dataframe\">\n",
       "  <thead>\n",
       "    <tr style=\"text-align: right;\">\n",
       "      <th></th>\n",
       "      <th>year</th>\n",
       "      <th>semi_final</th>\n",
       "      <th>edition</th>\n",
       "      <th>jury_or_televoting</th>\n",
       "      <th>from_country</th>\n",
       "      <th>to_country</th>\n",
       "      <th>points</th>\n",
       "      <th>duplicate</th>\n",
       "    </tr>\n",
       "  </thead>\n",
       "  <tbody>\n",
       "    <tr>\n",
       "      <th>0</th>\n",
       "      <td>1975</td>\n",
       "      <td>f</td>\n",
       "      <td>1975f</td>\n",
       "      <td>J</td>\n",
       "      <td>Belgium</td>\n",
       "      <td>Belgium</td>\n",
       "      <td>0</td>\n",
       "      <td>x</td>\n",
       "    </tr>\n",
       "    <tr>\n",
       "      <th>1</th>\n",
       "      <td>1975</td>\n",
       "      <td>f</td>\n",
       "      <td>1975f</td>\n",
       "      <td>J</td>\n",
       "      <td>Belgium</td>\n",
       "      <td>Finland</td>\n",
       "      <td>0</td>\n",
       "      <td>NaN</td>\n",
       "    </tr>\n",
       "    <tr>\n",
       "      <th>2</th>\n",
       "      <td>1975</td>\n",
       "      <td>f</td>\n",
       "      <td>1975f</td>\n",
       "      <td>J</td>\n",
       "      <td>Belgium</td>\n",
       "      <td>France</td>\n",
       "      <td>2</td>\n",
       "      <td>NaN</td>\n",
       "    </tr>\n",
       "    <tr>\n",
       "      <th>3</th>\n",
       "      <td>1975</td>\n",
       "      <td>f</td>\n",
       "      <td>1975f</td>\n",
       "      <td>J</td>\n",
       "      <td>Belgium</td>\n",
       "      <td>Germany</td>\n",
       "      <td>0</td>\n",
       "      <td>NaN</td>\n",
       "    </tr>\n",
       "    <tr>\n",
       "      <th>4</th>\n",
       "      <td>1975</td>\n",
       "      <td>f</td>\n",
       "      <td>1975f</td>\n",
       "      <td>J</td>\n",
       "      <td>Belgium</td>\n",
       "      <td>Ireland</td>\n",
       "      <td>12</td>\n",
       "      <td>NaN</td>\n",
       "    </tr>\n",
       "  </tbody>\n",
       "</table>\n",
       "</div>"
      ],
      "text/plain": [
       "   year semi_final edition jury_or_televoting from_country to_country  points  \\\n",
       "0  1975          f   1975f                  J      Belgium    Belgium       0   \n",
       "1  1975          f   1975f                  J      Belgium    Finland       0   \n",
       "2  1975          f   1975f                  J      Belgium     France       2   \n",
       "3  1975          f   1975f                  J      Belgium    Germany       0   \n",
       "4  1975          f   1975f                  J      Belgium    Ireland      12   \n",
       "\n",
       "  duplicate  \n",
       "0         x  \n",
       "1       NaN  \n",
       "2       NaN  \n",
       "3       NaN  \n",
       "4       NaN  "
      ]
     },
     "execution_count": 4,
     "metadata": {},
     "output_type": "execute_result"
    }
   ],
   "source": [
    "df.head()"
   ]
  },
  {
   "cell_type": "code",
   "execution_count": 5,
   "metadata": {},
   "outputs": [
    {
     "data": {
      "text/plain": [
       "(56312, 8)"
      ]
     },
     "execution_count": 5,
     "metadata": {},
     "output_type": "execute_result"
    }
   ],
   "source": [
    "df.shape"
   ]
  },
  {
   "cell_type": "code",
   "execution_count": 6,
   "metadata": {},
   "outputs": [
    {
     "data": {
      "text/plain": [
       "x    1530\n",
       "Name: duplicate, dtype: int64"
      ]
     },
     "execution_count": 6,
     "metadata": {},
     "output_type": "execute_result"
    }
   ],
   "source": [
    "df.duplicate.value_counts()"
   ]
  },
  {
   "cell_type": "code",
   "execution_count": 11,
   "metadata": {},
   "outputs": [],
   "source": [
    "# remove duplicates\n",
    "df_reduced= df[(df.duplicate.isna()) & (df.year>=2000)]"
   ]
  },
  {
   "cell_type": "code",
   "execution_count": 12,
   "metadata": {},
   "outputs": [
    {
     "data": {
      "text/html": [
       "<div>\n",
       "<style scoped>\n",
       "    .dataframe tbody tr th:only-of-type {\n",
       "        vertical-align: middle;\n",
       "    }\n",
       "\n",
       "    .dataframe tbody tr th {\n",
       "        vertical-align: top;\n",
       "    }\n",
       "\n",
       "    .dataframe thead th {\n",
       "        text-align: right;\n",
       "    }\n",
       "</style>\n",
       "<table border=\"1\" class=\"dataframe\">\n",
       "  <thead>\n",
       "    <tr style=\"text-align: right;\">\n",
       "      <th></th>\n",
       "      <th>year</th>\n",
       "      <th>semi_final</th>\n",
       "      <th>edition</th>\n",
       "      <th>jury_or_televoting</th>\n",
       "      <th>from_country</th>\n",
       "      <th>to_country</th>\n",
       "      <th>points</th>\n",
       "      <th>duplicate</th>\n",
       "    </tr>\n",
       "  </thead>\n",
       "  <tbody>\n",
       "    <tr>\n",
       "      <th>11371</th>\n",
       "      <td>2000</td>\n",
       "      <td>f</td>\n",
       "      <td>2000f</td>\n",
       "      <td>J</td>\n",
       "      <td>Austria</td>\n",
       "      <td>Belgium</td>\n",
       "      <td>0</td>\n",
       "      <td>NaN</td>\n",
       "    </tr>\n",
       "    <tr>\n",
       "      <th>11372</th>\n",
       "      <td>2000</td>\n",
       "      <td>f</td>\n",
       "      <td>2000f</td>\n",
       "      <td>J</td>\n",
       "      <td>Austria</td>\n",
       "      <td>Croatia</td>\n",
       "      <td>6</td>\n",
       "      <td>NaN</td>\n",
       "    </tr>\n",
       "    <tr>\n",
       "      <th>11373</th>\n",
       "      <td>2000</td>\n",
       "      <td>f</td>\n",
       "      <td>2000f</td>\n",
       "      <td>J</td>\n",
       "      <td>Austria</td>\n",
       "      <td>Cyprus</td>\n",
       "      <td>0</td>\n",
       "      <td>NaN</td>\n",
       "    </tr>\n",
       "    <tr>\n",
       "      <th>11374</th>\n",
       "      <td>2000</td>\n",
       "      <td>f</td>\n",
       "      <td>2000f</td>\n",
       "      <td>J</td>\n",
       "      <td>Austria</td>\n",
       "      <td>Denmark</td>\n",
       "      <td>10</td>\n",
       "      <td>NaN</td>\n",
       "    </tr>\n",
       "    <tr>\n",
       "      <th>11375</th>\n",
       "      <td>2000</td>\n",
       "      <td>f</td>\n",
       "      <td>2000f</td>\n",
       "      <td>J</td>\n",
       "      <td>Austria</td>\n",
       "      <td>Estonia</td>\n",
       "      <td>3</td>\n",
       "      <td>NaN</td>\n",
       "    </tr>\n",
       "    <tr>\n",
       "      <th>...</th>\n",
       "      <td>...</td>\n",
       "      <td>...</td>\n",
       "      <td>...</td>\n",
       "      <td>...</td>\n",
       "      <td>...</td>\n",
       "      <td>...</td>\n",
       "      <td>...</td>\n",
       "      <td>...</td>\n",
       "    </tr>\n",
       "    <tr>\n",
       "      <th>56307</th>\n",
       "      <td>2022</td>\n",
       "      <td>f</td>\n",
       "      <td>2022f</td>\n",
       "      <td>T</td>\n",
       "      <td>United Kingdom</td>\n",
       "      <td>Serbia</td>\n",
       "      <td>1</td>\n",
       "      <td>NaN</td>\n",
       "    </tr>\n",
       "    <tr>\n",
       "      <th>56308</th>\n",
       "      <td>2022</td>\n",
       "      <td>f</td>\n",
       "      <td>2022f</td>\n",
       "      <td>T</td>\n",
       "      <td>United Kingdom</td>\n",
       "      <td>Spain</td>\n",
       "      <td>5</td>\n",
       "      <td>NaN</td>\n",
       "    </tr>\n",
       "    <tr>\n",
       "      <th>56309</th>\n",
       "      <td>2022</td>\n",
       "      <td>f</td>\n",
       "      <td>2022f</td>\n",
       "      <td>T</td>\n",
       "      <td>United Kingdom</td>\n",
       "      <td>Sweden</td>\n",
       "      <td>4</td>\n",
       "      <td>NaN</td>\n",
       "    </tr>\n",
       "    <tr>\n",
       "      <th>56310</th>\n",
       "      <td>2022</td>\n",
       "      <td>f</td>\n",
       "      <td>2022f</td>\n",
       "      <td>T</td>\n",
       "      <td>United Kingdom</td>\n",
       "      <td>Switzerland</td>\n",
       "      <td>0</td>\n",
       "      <td>NaN</td>\n",
       "    </tr>\n",
       "    <tr>\n",
       "      <th>56311</th>\n",
       "      <td>2022</td>\n",
       "      <td>f</td>\n",
       "      <td>2022f</td>\n",
       "      <td>T</td>\n",
       "      <td>United Kingdom</td>\n",
       "      <td>Ukraine</td>\n",
       "      <td>12</td>\n",
       "      <td>NaN</td>\n",
       "    </tr>\n",
       "  </tbody>\n",
       "</table>\n",
       "<p>43942 rows × 8 columns</p>\n",
       "</div>"
      ],
      "text/plain": [
       "       year semi_final edition jury_or_televoting    from_country  \\\n",
       "11371  2000          f   2000f                  J         Austria   \n",
       "11372  2000          f   2000f                  J         Austria   \n",
       "11373  2000          f   2000f                  J         Austria   \n",
       "11374  2000          f   2000f                  J         Austria   \n",
       "11375  2000          f   2000f                  J         Austria   \n",
       "...     ...        ...     ...                ...             ...   \n",
       "56307  2022          f   2022f                  T  United Kingdom   \n",
       "56308  2022          f   2022f                  T  United Kingdom   \n",
       "56309  2022          f   2022f                  T  United Kingdom   \n",
       "56310  2022          f   2022f                  T  United Kingdom   \n",
       "56311  2022          f   2022f                  T  United Kingdom   \n",
       "\n",
       "        to_country  points duplicate  \n",
       "11371      Belgium       0       NaN  \n",
       "11372      Croatia       6       NaN  \n",
       "11373       Cyprus       0       NaN  \n",
       "11374      Denmark      10       NaN  \n",
       "11375      Estonia       3       NaN  \n",
       "...            ...     ...       ...  \n",
       "56307       Serbia       1       NaN  \n",
       "56308        Spain       5       NaN  \n",
       "56309       Sweden       4       NaN  \n",
       "56310  Switzerland       0       NaN  \n",
       "56311      Ukraine      12       NaN  \n",
       "\n",
       "[43942 rows x 8 columns]"
      ]
     },
     "execution_count": 12,
     "metadata": {},
     "output_type": "execute_result"
    }
   ],
   "source": [
    "df_reduced"
   ]
  },
  {
   "cell_type": "code",
   "execution_count": 13,
   "metadata": {},
   "outputs": [
    {
     "name": "stderr",
     "output_type": "stream",
     "text": [
      "C:\\Users\\shawn\\AppData\\Local\\Temp\\ipykernel_15104\\2714545491.py:2: SettingWithCopyWarning: \n",
      "A value is trying to be set on a copy of a slice from a DataFrame.\n",
      "Try using .loc[row_indexer,col_indexer] = value instead\n",
      "\n",
      "See the caveats in the documentation: https://pandas.pydata.org/pandas-docs/stable/user_guide/indexing.html#returning-a-view-versus-a-copy\n",
      "  df_reduced['vote_region']= df_reduced.apply(lambda x: 1 if x.from_country!=x.to_country else -1 , axis=1)\n"
     ]
    }
   ],
   "source": [
    "# 0 if same country, -1 if different\n",
    "df_reduced['vote_region']= df_reduced.apply(lambda x: 1 if x.from_country!=x.to_country else -1 , axis=1)"
   ]
  },
  {
   "cell_type": "code",
   "execution_count": 14,
   "metadata": {},
   "outputs": [
    {
     "data": {
      "text/html": [
       "<div>\n",
       "<style scoped>\n",
       "    .dataframe tbody tr th:only-of-type {\n",
       "        vertical-align: middle;\n",
       "    }\n",
       "\n",
       "    .dataframe tbody tr th {\n",
       "        vertical-align: top;\n",
       "    }\n",
       "\n",
       "    .dataframe thead th {\n",
       "        text-align: right;\n",
       "    }\n",
       "</style>\n",
       "<table border=\"1\" class=\"dataframe\">\n",
       "  <thead>\n",
       "    <tr style=\"text-align: right;\">\n",
       "      <th></th>\n",
       "      <th>year</th>\n",
       "      <th>semi_final</th>\n",
       "      <th>edition</th>\n",
       "      <th>jury_or_televoting</th>\n",
       "      <th>from_country</th>\n",
       "      <th>to_country</th>\n",
       "      <th>points</th>\n",
       "      <th>duplicate</th>\n",
       "      <th>vote_region</th>\n",
       "    </tr>\n",
       "  </thead>\n",
       "  <tbody>\n",
       "    <tr>\n",
       "      <th>11371</th>\n",
       "      <td>2000</td>\n",
       "      <td>f</td>\n",
       "      <td>2000f</td>\n",
       "      <td>J</td>\n",
       "      <td>Austria</td>\n",
       "      <td>Belgium</td>\n",
       "      <td>0</td>\n",
       "      <td>NaN</td>\n",
       "      <td>1</td>\n",
       "    </tr>\n",
       "    <tr>\n",
       "      <th>11372</th>\n",
       "      <td>2000</td>\n",
       "      <td>f</td>\n",
       "      <td>2000f</td>\n",
       "      <td>J</td>\n",
       "      <td>Austria</td>\n",
       "      <td>Croatia</td>\n",
       "      <td>6</td>\n",
       "      <td>NaN</td>\n",
       "      <td>1</td>\n",
       "    </tr>\n",
       "    <tr>\n",
       "      <th>11373</th>\n",
       "      <td>2000</td>\n",
       "      <td>f</td>\n",
       "      <td>2000f</td>\n",
       "      <td>J</td>\n",
       "      <td>Austria</td>\n",
       "      <td>Cyprus</td>\n",
       "      <td>0</td>\n",
       "      <td>NaN</td>\n",
       "      <td>1</td>\n",
       "    </tr>\n",
       "    <tr>\n",
       "      <th>11374</th>\n",
       "      <td>2000</td>\n",
       "      <td>f</td>\n",
       "      <td>2000f</td>\n",
       "      <td>J</td>\n",
       "      <td>Austria</td>\n",
       "      <td>Denmark</td>\n",
       "      <td>10</td>\n",
       "      <td>NaN</td>\n",
       "      <td>1</td>\n",
       "    </tr>\n",
       "    <tr>\n",
       "      <th>11375</th>\n",
       "      <td>2000</td>\n",
       "      <td>f</td>\n",
       "      <td>2000f</td>\n",
       "      <td>J</td>\n",
       "      <td>Austria</td>\n",
       "      <td>Estonia</td>\n",
       "      <td>3</td>\n",
       "      <td>NaN</td>\n",
       "      <td>1</td>\n",
       "    </tr>\n",
       "    <tr>\n",
       "      <th>...</th>\n",
       "      <td>...</td>\n",
       "      <td>...</td>\n",
       "      <td>...</td>\n",
       "      <td>...</td>\n",
       "      <td>...</td>\n",
       "      <td>...</td>\n",
       "      <td>...</td>\n",
       "      <td>...</td>\n",
       "      <td>...</td>\n",
       "    </tr>\n",
       "    <tr>\n",
       "      <th>56307</th>\n",
       "      <td>2022</td>\n",
       "      <td>f</td>\n",
       "      <td>2022f</td>\n",
       "      <td>T</td>\n",
       "      <td>United Kingdom</td>\n",
       "      <td>Serbia</td>\n",
       "      <td>1</td>\n",
       "      <td>NaN</td>\n",
       "      <td>1</td>\n",
       "    </tr>\n",
       "    <tr>\n",
       "      <th>56308</th>\n",
       "      <td>2022</td>\n",
       "      <td>f</td>\n",
       "      <td>2022f</td>\n",
       "      <td>T</td>\n",
       "      <td>United Kingdom</td>\n",
       "      <td>Spain</td>\n",
       "      <td>5</td>\n",
       "      <td>NaN</td>\n",
       "      <td>1</td>\n",
       "    </tr>\n",
       "    <tr>\n",
       "      <th>56309</th>\n",
       "      <td>2022</td>\n",
       "      <td>f</td>\n",
       "      <td>2022f</td>\n",
       "      <td>T</td>\n",
       "      <td>United Kingdom</td>\n",
       "      <td>Sweden</td>\n",
       "      <td>4</td>\n",
       "      <td>NaN</td>\n",
       "      <td>1</td>\n",
       "    </tr>\n",
       "    <tr>\n",
       "      <th>56310</th>\n",
       "      <td>2022</td>\n",
       "      <td>f</td>\n",
       "      <td>2022f</td>\n",
       "      <td>T</td>\n",
       "      <td>United Kingdom</td>\n",
       "      <td>Switzerland</td>\n",
       "      <td>0</td>\n",
       "      <td>NaN</td>\n",
       "      <td>1</td>\n",
       "    </tr>\n",
       "    <tr>\n",
       "      <th>56311</th>\n",
       "      <td>2022</td>\n",
       "      <td>f</td>\n",
       "      <td>2022f</td>\n",
       "      <td>T</td>\n",
       "      <td>United Kingdom</td>\n",
       "      <td>Ukraine</td>\n",
       "      <td>12</td>\n",
       "      <td>NaN</td>\n",
       "      <td>1</td>\n",
       "    </tr>\n",
       "  </tbody>\n",
       "</table>\n",
       "<p>43942 rows × 9 columns</p>\n",
       "</div>"
      ],
      "text/plain": [
       "       year semi_final edition jury_or_televoting    from_country  \\\n",
       "11371  2000          f   2000f                  J         Austria   \n",
       "11372  2000          f   2000f                  J         Austria   \n",
       "11373  2000          f   2000f                  J         Austria   \n",
       "11374  2000          f   2000f                  J         Austria   \n",
       "11375  2000          f   2000f                  J         Austria   \n",
       "...     ...        ...     ...                ...             ...   \n",
       "56307  2022          f   2022f                  T  United Kingdom   \n",
       "56308  2022          f   2022f                  T  United Kingdom   \n",
       "56309  2022          f   2022f                  T  United Kingdom   \n",
       "56310  2022          f   2022f                  T  United Kingdom   \n",
       "56311  2022          f   2022f                  T  United Kingdom   \n",
       "\n",
       "        to_country  points duplicate  vote_region  \n",
       "11371      Belgium       0       NaN            1  \n",
       "11372      Croatia       6       NaN            1  \n",
       "11373       Cyprus       0       NaN            1  \n",
       "11374      Denmark      10       NaN            1  \n",
       "11375      Estonia       3       NaN            1  \n",
       "...            ...     ...       ...          ...  \n",
       "56307       Serbia       1       NaN            1  \n",
       "56308        Spain       5       NaN            1  \n",
       "56309       Sweden       4       NaN            1  \n",
       "56310  Switzerland       0       NaN            1  \n",
       "56311      Ukraine      12       NaN            1  \n",
       "\n",
       "[43942 rows x 9 columns]"
      ]
     },
     "execution_count": 14,
     "metadata": {},
     "output_type": "execute_result"
    }
   ],
   "source": [
    "df_reduced"
   ]
  },
  {
   "cell_type": "markdown",
   "metadata": {},
   "source": [
    "A few ways of going with this <br/>\n",
    "* By number of votes <br/>\n",
    "* By sum of votes <br/>\n",
    "* By Weighted average of votes   <--- "
   ]
  },
  {
   "cell_type": "code",
   "execution_count": 18,
   "metadata": {},
   "outputs": [],
   "source": [
    "def weighted_average(df, values, weights):\n",
    "    return round(sum(df[weights] * df[values]) / df[weights].sum(),2)\n",
    "\n",
    "\n",
    "df_weighted= df_reduced.groupby(['year','from_country','to_country']).apply(weighted_average, 'points', 'vote_region').reset_index(name='weighted_avg')"
   ]
  },
  {
   "cell_type": "code",
   "execution_count": 69,
   "metadata": {},
   "outputs": [],
   "source": [
    "# Pulling the global coordinates \n",
    "# Special thanks to albertyw   : https://github.com/albertyw/avenews/blob/master/old/data/average-latitude-longitude-countries.csv\n",
    "df_country = pd.read_csv('https://raw.githubusercontent.com/albertyw/avenews/master/old/data/average-latitude-longitude-countries.csv')"
   ]
  },
  {
   "cell_type": "code",
   "execution_count": 70,
   "metadata": {},
   "outputs": [],
   "source": [
    "df_country.rename(columns={\"ISO 3166 Country Code\": \"Country Code\"},inplace=True)"
   ]
  },
  {
   "cell_type": "code",
   "execution_count": 71,
   "metadata": {},
   "outputs": [],
   "source": [
    "df_from_country_code =  df_country.add_suffix('_from_country_code')\n",
    "df_to_country_code=  df_country.add_suffix('_to_country_code')"
   ]
  },
  {
   "cell_type": "code",
   "execution_count": 72,
   "metadata": {},
   "outputs": [
    {
     "data": {
      "text/html": [
       "<div>\n",
       "<style scoped>\n",
       "    .dataframe tbody tr th:only-of-type {\n",
       "        vertical-align: middle;\n",
       "    }\n",
       "\n",
       "    .dataframe tbody tr th {\n",
       "        vertical-align: top;\n",
       "    }\n",
       "\n",
       "    .dataframe thead th {\n",
       "        text-align: right;\n",
       "    }\n",
       "</style>\n",
       "<table border=\"1\" class=\"dataframe\">\n",
       "  <thead>\n",
       "    <tr style=\"text-align: right;\">\n",
       "      <th></th>\n",
       "      <th>Country Code_from_country_code</th>\n",
       "      <th>Country_from_country_code</th>\n",
       "      <th>Latitude_from_country_code</th>\n",
       "      <th>Longitude_from_country_code</th>\n",
       "    </tr>\n",
       "  </thead>\n",
       "  <tbody>\n",
       "    <tr>\n",
       "      <th>0</th>\n",
       "      <td>AD</td>\n",
       "      <td>Andorra</td>\n",
       "      <td>42.50</td>\n",
       "      <td>1.50</td>\n",
       "    </tr>\n",
       "    <tr>\n",
       "      <th>1</th>\n",
       "      <td>AE</td>\n",
       "      <td>United Arab Emirates</td>\n",
       "      <td>24.00</td>\n",
       "      <td>54.00</td>\n",
       "    </tr>\n",
       "    <tr>\n",
       "      <th>2</th>\n",
       "      <td>AF</td>\n",
       "      <td>Afghanistan</td>\n",
       "      <td>33.00</td>\n",
       "      <td>65.00</td>\n",
       "    </tr>\n",
       "    <tr>\n",
       "      <th>3</th>\n",
       "      <td>AG</td>\n",
       "      <td>Antigua and Barbuda</td>\n",
       "      <td>17.05</td>\n",
       "      <td>-61.80</td>\n",
       "    </tr>\n",
       "    <tr>\n",
       "      <th>4</th>\n",
       "      <td>AI</td>\n",
       "      <td>Anguilla</td>\n",
       "      <td>18.25</td>\n",
       "      <td>-63.17</td>\n",
       "    </tr>\n",
       "  </tbody>\n",
       "</table>\n",
       "</div>"
      ],
      "text/plain": [
       "  Country Code_from_country_code Country_from_country_code  \\\n",
       "0                             AD                   Andorra   \n",
       "1                             AE      United Arab Emirates   \n",
       "2                             AF               Afghanistan   \n",
       "3                             AG       Antigua and Barbuda   \n",
       "4                             AI                  Anguilla   \n",
       "\n",
       "   Latitude_from_country_code  Longitude_from_country_code  \n",
       "0                       42.50                         1.50  \n",
       "1                       24.00                        54.00  \n",
       "2                       33.00                        65.00  \n",
       "3                       17.05                       -61.80  \n",
       "4                       18.25                       -63.17  "
      ]
     },
     "execution_count": 72,
     "metadata": {},
     "output_type": "execute_result"
    }
   ],
   "source": [
    "df_from_country_code.head()"
   ]
  },
  {
   "cell_type": "code",
   "execution_count": 106,
   "metadata": {},
   "outputs": [],
   "source": [
    "# Merging everything together\n",
    "full_df= df_weighted.merge(df_from_country_code,how='inner',left_on='from_country', right_on='Country_from_country_code')\n",
    "full_df= full_df.merge(df_to_country_code,how='inner',left_on='to_country', right_on='Country_to_country_code')"
   ]
  },
  {
   "cell_type": "code",
   "execution_count": 107,
   "metadata": {},
   "outputs": [
    {
     "data": {
      "text/html": [
       "<div>\n",
       "<style scoped>\n",
       "    .dataframe tbody tr th:only-of-type {\n",
       "        vertical-align: middle;\n",
       "    }\n",
       "\n",
       "    .dataframe tbody tr th {\n",
       "        vertical-align: top;\n",
       "    }\n",
       "\n",
       "    .dataframe thead th {\n",
       "        text-align: right;\n",
       "    }\n",
       "</style>\n",
       "<table border=\"1\" class=\"dataframe\">\n",
       "  <thead>\n",
       "    <tr style=\"text-align: right;\">\n",
       "      <th></th>\n",
       "      <th>year</th>\n",
       "      <th>from_country</th>\n",
       "      <th>to_country</th>\n",
       "      <th>weighted_avg</th>\n",
       "      <th>Country Code_from_country_code</th>\n",
       "      <th>Country_from_country_code</th>\n",
       "      <th>Latitude_from_country_code</th>\n",
       "      <th>Longitude_from_country_code</th>\n",
       "      <th>Country Code_to_country_code</th>\n",
       "      <th>Country_to_country_code</th>\n",
       "      <th>Latitude_to_country_code</th>\n",
       "      <th>Longitude_to_country_code</th>\n",
       "    </tr>\n",
       "  </thead>\n",
       "  <tbody>\n",
       "    <tr>\n",
       "      <th>0</th>\n",
       "      <td>2000</td>\n",
       "      <td>Austria</td>\n",
       "      <td>Belgium</td>\n",
       "      <td>0.0</td>\n",
       "      <td>AT</td>\n",
       "      <td>Austria</td>\n",
       "      <td>47.33</td>\n",
       "      <td>13.33</td>\n",
       "      <td>BE</td>\n",
       "      <td>Belgium</td>\n",
       "      <td>50.83</td>\n",
       "      <td>4.0</td>\n",
       "    </tr>\n",
       "    <tr>\n",
       "      <th>1</th>\n",
       "      <td>2002</td>\n",
       "      <td>Austria</td>\n",
       "      <td>Belgium</td>\n",
       "      <td>0.0</td>\n",
       "      <td>AT</td>\n",
       "      <td>Austria</td>\n",
       "      <td>47.33</td>\n",
       "      <td>13.33</td>\n",
       "      <td>BE</td>\n",
       "      <td>Belgium</td>\n",
       "      <td>50.83</td>\n",
       "      <td>4.0</td>\n",
       "    </tr>\n",
       "    <tr>\n",
       "      <th>2</th>\n",
       "      <td>2003</td>\n",
       "      <td>Austria</td>\n",
       "      <td>Belgium</td>\n",
       "      <td>4.0</td>\n",
       "      <td>AT</td>\n",
       "      <td>Austria</td>\n",
       "      <td>47.33</td>\n",
       "      <td>13.33</td>\n",
       "      <td>BE</td>\n",
       "      <td>Belgium</td>\n",
       "      <td>50.83</td>\n",
       "      <td>4.0</td>\n",
       "    </tr>\n",
       "    <tr>\n",
       "      <th>3</th>\n",
       "      <td>2004</td>\n",
       "      <td>Austria</td>\n",
       "      <td>Belgium</td>\n",
       "      <td>0.0</td>\n",
       "      <td>AT</td>\n",
       "      <td>Austria</td>\n",
       "      <td>47.33</td>\n",
       "      <td>13.33</td>\n",
       "      <td>BE</td>\n",
       "      <td>Belgium</td>\n",
       "      <td>50.83</td>\n",
       "      <td>4.0</td>\n",
       "    </tr>\n",
       "    <tr>\n",
       "      <th>4</th>\n",
       "      <td>2005</td>\n",
       "      <td>Austria</td>\n",
       "      <td>Belgium</td>\n",
       "      <td>0.0</td>\n",
       "      <td>AT</td>\n",
       "      <td>Austria</td>\n",
       "      <td>47.33</td>\n",
       "      <td>13.33</td>\n",
       "      <td>BE</td>\n",
       "      <td>Belgium</td>\n",
       "      <td>50.83</td>\n",
       "      <td>4.0</td>\n",
       "    </tr>\n",
       "  </tbody>\n",
       "</table>\n",
       "</div>"
      ],
      "text/plain": [
       "   year from_country to_country  weighted_avg Country Code_from_country_code  \\\n",
       "0  2000      Austria    Belgium           0.0                             AT   \n",
       "1  2002      Austria    Belgium           0.0                             AT   \n",
       "2  2003      Austria    Belgium           4.0                             AT   \n",
       "3  2004      Austria    Belgium           0.0                             AT   \n",
       "4  2005      Austria    Belgium           0.0                             AT   \n",
       "\n",
       "  Country_from_country_code  Latitude_from_country_code  \\\n",
       "0                   Austria                       47.33   \n",
       "1                   Austria                       47.33   \n",
       "2                   Austria                       47.33   \n",
       "3                   Austria                       47.33   \n",
       "4                   Austria                       47.33   \n",
       "\n",
       "   Longitude_from_country_code Country Code_to_country_code  \\\n",
       "0                        13.33                           BE   \n",
       "1                        13.33                           BE   \n",
       "2                        13.33                           BE   \n",
       "3                        13.33                           BE   \n",
       "4                        13.33                           BE   \n",
       "\n",
       "  Country_to_country_code  Latitude_to_country_code  Longitude_to_country_code  \n",
       "0                 Belgium                     50.83                        4.0  \n",
       "1                 Belgium                     50.83                        4.0  \n",
       "2                 Belgium                     50.83                        4.0  \n",
       "3                 Belgium                     50.83                        4.0  \n",
       "4                 Belgium                     50.83                        4.0  "
      ]
     },
     "execution_count": 107,
     "metadata": {},
     "output_type": "execute_result"
    }
   ],
   "source": [
    "full_df.head()"
   ]
  },
  {
   "cell_type": "code",
   "execution_count": 35,
   "metadata": {},
   "outputs": [],
   "source": [
    "full_df= full_df[full_df.year==2022].reset_index()"
   ]
  },
  {
   "cell_type": "code",
   "execution_count": 36,
   "metadata": {},
   "outputs": [
    {
     "data": {
      "text/html": [
       "<div>\n",
       "<style scoped>\n",
       "    .dataframe tbody tr th:only-of-type {\n",
       "        vertical-align: middle;\n",
       "    }\n",
       "\n",
       "    .dataframe tbody tr th {\n",
       "        vertical-align: top;\n",
       "    }\n",
       "\n",
       "    .dataframe thead th {\n",
       "        text-align: right;\n",
       "    }\n",
       "</style>\n",
       "<table border=\"1\" class=\"dataframe\">\n",
       "  <thead>\n",
       "    <tr style=\"text-align: right;\">\n",
       "      <th></th>\n",
       "      <th>index</th>\n",
       "      <th>year</th>\n",
       "      <th>from_country</th>\n",
       "      <th>to_country</th>\n",
       "      <th>weighted_avg</th>\n",
       "      <th>Country Code_from_country_code</th>\n",
       "      <th>Country_from_country_code</th>\n",
       "      <th>Latitude_from_country_code</th>\n",
       "      <th>Longitude_from_country_code</th>\n",
       "      <th>Country Code_to_country_code</th>\n",
       "      <th>Country_to_country_code</th>\n",
       "      <th>Latitude_to_country_code</th>\n",
       "      <th>Longitude_to_country_code</th>\n",
       "    </tr>\n",
       "  </thead>\n",
       "  <tbody>\n",
       "    <tr>\n",
       "      <th>0</th>\n",
       "      <td>14</td>\n",
       "      <td>2022</td>\n",
       "      <td>Austria</td>\n",
       "      <td>Belgium</td>\n",
       "      <td>0.00</td>\n",
       "      <td>AT</td>\n",
       "      <td>Austria</td>\n",
       "      <td>47.33</td>\n",
       "      <td>13.33</td>\n",
       "      <td>BE</td>\n",
       "      <td>Belgium</td>\n",
       "      <td>50.83</td>\n",
       "      <td>4.00</td>\n",
       "    </tr>\n",
       "    <tr>\n",
       "      <th>1</th>\n",
       "      <td>28</td>\n",
       "      <td>2022</td>\n",
       "      <td>Croatia</td>\n",
       "      <td>Belgium</td>\n",
       "      <td>0.00</td>\n",
       "      <td>HR</td>\n",
       "      <td>Croatia</td>\n",
       "      <td>45.17</td>\n",
       "      <td>15.50</td>\n",
       "      <td>BE</td>\n",
       "      <td>Belgium</td>\n",
       "      <td>50.83</td>\n",
       "      <td>4.00</td>\n",
       "    </tr>\n",
       "    <tr>\n",
       "      <th>2</th>\n",
       "      <td>46</td>\n",
       "      <td>2022</td>\n",
       "      <td>Cyprus</td>\n",
       "      <td>Belgium</td>\n",
       "      <td>2.75</td>\n",
       "      <td>CY</td>\n",
       "      <td>Cyprus</td>\n",
       "      <td>35.00</td>\n",
       "      <td>33.00</td>\n",
       "      <td>BE</td>\n",
       "      <td>Belgium</td>\n",
       "      <td>50.83</td>\n",
       "      <td>4.00</td>\n",
       "    </tr>\n",
       "    <tr>\n",
       "      <th>3</th>\n",
       "      <td>62</td>\n",
       "      <td>2022</td>\n",
       "      <td>Denmark</td>\n",
       "      <td>Belgium</td>\n",
       "      <td>0.00</td>\n",
       "      <td>DK</td>\n",
       "      <td>Denmark</td>\n",
       "      <td>56.00</td>\n",
       "      <td>10.00</td>\n",
       "      <td>BE</td>\n",
       "      <td>Belgium</td>\n",
       "      <td>50.83</td>\n",
       "      <td>4.00</td>\n",
       "    </tr>\n",
       "    <tr>\n",
       "      <th>4</th>\n",
       "      <td>81</td>\n",
       "      <td>2022</td>\n",
       "      <td>Estonia</td>\n",
       "      <td>Belgium</td>\n",
       "      <td>3.00</td>\n",
       "      <td>EE</td>\n",
       "      <td>Estonia</td>\n",
       "      <td>59.00</td>\n",
       "      <td>26.00</td>\n",
       "      <td>BE</td>\n",
       "      <td>Belgium</td>\n",
       "      <td>50.83</td>\n",
       "      <td>4.00</td>\n",
       "    </tr>\n",
       "    <tr>\n",
       "      <th>...</th>\n",
       "      <td>...</td>\n",
       "      <td>...</td>\n",
       "      <td>...</td>\n",
       "      <td>...</td>\n",
       "      <td>...</td>\n",
       "      <td>...</td>\n",
       "      <td>...</td>\n",
       "      <td>...</td>\n",
       "      <td>...</td>\n",
       "      <td>...</td>\n",
       "      <td>...</td>\n",
       "      <td>...</td>\n",
       "      <td>...</td>\n",
       "    </tr>\n",
       "    <tr>\n",
       "      <th>1135</th>\n",
       "      <td>20868</td>\n",
       "      <td>2022</td>\n",
       "      <td>Albania</td>\n",
       "      <td>Austria</td>\n",
       "      <td>2.00</td>\n",
       "      <td>AL</td>\n",
       "      <td>Albania</td>\n",
       "      <td>41.00</td>\n",
       "      <td>20.00</td>\n",
       "      <td>AT</td>\n",
       "      <td>Austria</td>\n",
       "      <td>47.33</td>\n",
       "      <td>13.33</td>\n",
       "    </tr>\n",
       "    <tr>\n",
       "      <th>1136</th>\n",
       "      <td>20891</td>\n",
       "      <td>2022</td>\n",
       "      <td>Bulgaria</td>\n",
       "      <td>Austria</td>\n",
       "      <td>0.00</td>\n",
       "      <td>BG</td>\n",
       "      <td>Bulgaria</td>\n",
       "      <td>43.00</td>\n",
       "      <td>25.00</td>\n",
       "      <td>AT</td>\n",
       "      <td>Austria</td>\n",
       "      <td>47.33</td>\n",
       "      <td>13.33</td>\n",
       "    </tr>\n",
       "    <tr>\n",
       "      <th>1137</th>\n",
       "      <td>20909</td>\n",
       "      <td>2022</td>\n",
       "      <td>Armenia</td>\n",
       "      <td>Austria</td>\n",
       "      <td>2.50</td>\n",
       "      <td>AM</td>\n",
       "      <td>Armenia</td>\n",
       "      <td>40.00</td>\n",
       "      <td>45.00</td>\n",
       "      <td>AT</td>\n",
       "      <td>Austria</td>\n",
       "      <td>47.33</td>\n",
       "      <td>13.33</td>\n",
       "    </tr>\n",
       "    <tr>\n",
       "      <th>1138</th>\n",
       "      <td>20966</td>\n",
       "      <td>2022</td>\n",
       "      <td>Italy</td>\n",
       "      <td>Austria</td>\n",
       "      <td>2.50</td>\n",
       "      <td>IT</td>\n",
       "      <td>Italy</td>\n",
       "      <td>42.83</td>\n",
       "      <td>12.83</td>\n",
       "      <td>AT</td>\n",
       "      <td>Austria</td>\n",
       "      <td>47.33</td>\n",
       "      <td>13.33</td>\n",
       "    </tr>\n",
       "    <tr>\n",
       "      <th>1139</th>\n",
       "      <td>20971</td>\n",
       "      <td>2022</td>\n",
       "      <td>Netherlands</td>\n",
       "      <td>Austria</td>\n",
       "      <td>0.00</td>\n",
       "      <td>NL</td>\n",
       "      <td>Netherlands</td>\n",
       "      <td>52.50</td>\n",
       "      <td>5.75</td>\n",
       "      <td>AT</td>\n",
       "      <td>Austria</td>\n",
       "      <td>47.33</td>\n",
       "      <td>13.33</td>\n",
       "    </tr>\n",
       "  </tbody>\n",
       "</table>\n",
       "<p>1140 rows × 13 columns</p>\n",
       "</div>"
      ],
      "text/plain": [
       "      index  year from_country to_country  weighted_avg  \\\n",
       "0        14  2022      Austria    Belgium          0.00   \n",
       "1        28  2022      Croatia    Belgium          0.00   \n",
       "2        46  2022       Cyprus    Belgium          2.75   \n",
       "3        62  2022      Denmark    Belgium          0.00   \n",
       "4        81  2022      Estonia    Belgium          3.00   \n",
       "...     ...   ...          ...        ...           ...   \n",
       "1135  20868  2022      Albania    Austria          2.00   \n",
       "1136  20891  2022     Bulgaria    Austria          0.00   \n",
       "1137  20909  2022      Armenia    Austria          2.50   \n",
       "1138  20966  2022        Italy    Austria          2.50   \n",
       "1139  20971  2022  Netherlands    Austria          0.00   \n",
       "\n",
       "     Country Code_from_country_code Country_from_country_code  \\\n",
       "0                                AT                   Austria   \n",
       "1                                HR                   Croatia   \n",
       "2                                CY                    Cyprus   \n",
       "3                                DK                   Denmark   \n",
       "4                                EE                   Estonia   \n",
       "...                             ...                       ...   \n",
       "1135                             AL                   Albania   \n",
       "1136                             BG                  Bulgaria   \n",
       "1137                             AM                   Armenia   \n",
       "1138                             IT                     Italy   \n",
       "1139                             NL               Netherlands   \n",
       "\n",
       "      Latitude_from_country_code  Longitude_from_country_code  \\\n",
       "0                          47.33                        13.33   \n",
       "1                          45.17                        15.50   \n",
       "2                          35.00                        33.00   \n",
       "3                          56.00                        10.00   \n",
       "4                          59.00                        26.00   \n",
       "...                          ...                          ...   \n",
       "1135                       41.00                        20.00   \n",
       "1136                       43.00                        25.00   \n",
       "1137                       40.00                        45.00   \n",
       "1138                       42.83                        12.83   \n",
       "1139                       52.50                         5.75   \n",
       "\n",
       "     Country Code_to_country_code Country_to_country_code  \\\n",
       "0                              BE                 Belgium   \n",
       "1                              BE                 Belgium   \n",
       "2                              BE                 Belgium   \n",
       "3                              BE                 Belgium   \n",
       "4                              BE                 Belgium   \n",
       "...                           ...                     ...   \n",
       "1135                           AT                 Austria   \n",
       "1136                           AT                 Austria   \n",
       "1137                           AT                 Austria   \n",
       "1138                           AT                 Austria   \n",
       "1139                           AT                 Austria   \n",
       "\n",
       "      Latitude_to_country_code  Longitude_to_country_code  \n",
       "0                        50.83                       4.00  \n",
       "1                        50.83                       4.00  \n",
       "2                        50.83                       4.00  \n",
       "3                        50.83                       4.00  \n",
       "4                        50.83                       4.00  \n",
       "...                        ...                        ...  \n",
       "1135                     47.33                      13.33  \n",
       "1136                     47.33                      13.33  \n",
       "1137                     47.33                      13.33  \n",
       "1138                     47.33                      13.33  \n",
       "1139                     47.33                      13.33  \n",
       "\n",
       "[1140 rows x 13 columns]"
      ]
     },
     "execution_count": 36,
     "metadata": {},
     "output_type": "execute_result"
    }
   ],
   "source": [
    "full_df"
   ]
  },
  {
   "cell_type": "code",
   "execution_count": 63,
   "metadata": {},
   "outputs": [],
   "source": [
    "df_country.rename(columns={\"ISO 3166 Country Code\": \"Country Code\"},inplace=True)"
   ]
  },
  {
   "cell_type": "code",
   "execution_count": 67,
   "metadata": {},
   "outputs": [],
   "source": [
    "df_sending_country_code =  df_country.add_suffix('_from_country_code')\n",
    "df_receiving_country_code=  df_country.add_suffix('_to_country_code')"
   ]
  },
  {
   "cell_type": "code",
   "execution_count": null,
   "metadata": {},
   "outputs": [],
   "source": [
    "# Merging everything together\n",
    "full_df= df_2019.merge(df_sending_country_code,how='inner',left_on='sending_country_code', right_on='Country Code_sending_country_code')\n",
    "full_df= full_df.merge(df_receiving_country_code,how='inner',left_on='receiving_country_code', right_on='Country Code_receiving_country_code')\n",
    "full_df= full_df.merge(df_counts,how='inner',left_on='participant_nationality', right_on='participant_nationality')"
   ]
  },
  {
   "cell_type": "code",
   "execution_count": 138,
   "metadata": {},
   "outputs": [
    {
     "data": {
      "application/vnd.plotly.v1+json": {
       "config": {
        "plotlyServerURL": "https://plot.ly"
       },
       "data": [
        {
         "hoverinfo": "text",
         "lat": [
          47.33,
          49
         ],
         "line": {
          "color": "red",
          "width": 1
         },
         "locationmode": "country names",
         "lon": [
          13.33,
          32
         ],
         "mode": "lines",
         "opacity": 0.06,
         "text": "Austria voted for Ukraine averaging 6.0 votes",
         "type": "scattergeo"
        },
        {
         "hoverinfo": "text",
         "lat": [
          50.83,
          49
         ],
         "line": {
          "color": "red",
          "width": 1
         },
         "locationmode": "country names",
         "lon": [
          4,
          32
         ],
         "mode": "lines",
         "opacity": 0.09,
         "text": "Belgium voted for Ukraine averaging 9.0 votes",
         "type": "scattergeo"
        },
        {
         "hoverinfo": "text",
         "lat": [
          45.17,
          49
         ],
         "line": {
          "color": "red",
          "width": 1
         },
         "locationmode": "country names",
         "lon": [
          15.5,
          32
         ],
         "mode": "lines",
         "opacity": 0.0925,
         "text": "Croatia voted for Ukraine averaging 9.25 votes",
         "type": "scattergeo"
        },
        {
         "hoverinfo": "text",
         "lat": [
          35,
          49
         ],
         "line": {
          "color": "red",
          "width": 1
         },
         "locationmode": "country names",
         "lon": [
          33,
          32
         ],
         "mode": "lines",
         "opacity": 0.095,
         "text": "Cyprus voted for Ukraine averaging 9.5 votes",
         "type": "scattergeo"
        },
        {
         "hoverinfo": "text",
         "lat": [
          56,
          49
         ],
         "line": {
          "color": "red",
          "width": 1
         },
         "locationmode": "country names",
         "lon": [
          10,
          32
         ],
         "mode": "lines",
         "opacity": 0.09,
         "text": "Denmark voted for Ukraine averaging 9.0 votes",
         "type": "scattergeo"
        },
        {
         "hoverinfo": "text",
         "lat": [
          59,
          49
         ],
         "line": {
          "color": "red",
          "width": 1
         },
         "locationmode": "country names",
         "lon": [
          26,
          32
         ],
         "mode": "lines",
         "opacity": 0.06,
         "text": "Estonia voted for Ukraine averaging 6.0 votes",
         "type": "scattergeo"
        },
        {
         "hoverinfo": "text",
         "lat": [
          64,
          49
         ],
         "line": {
          "color": "red",
          "width": 1
         },
         "locationmode": "country names",
         "lon": [
          26,
          32
         ],
         "mode": "lines",
         "opacity": 0.06,
         "text": "Finland voted for Ukraine averaging 6.0 votes",
         "type": "scattergeo"
        },
        {
         "hoverinfo": "text",
         "lat": [
          46,
          49
         ],
         "line": {
          "color": "red",
          "width": 1
         },
         "locationmode": "country names",
         "lon": [
          2,
          32
         ],
         "mode": "lines",
         "opacity": 0.105,
         "text": "France voted for Ukraine averaging 10.5 votes",
         "type": "scattergeo"
        },
        {
         "hoverinfo": "text",
         "lat": [
          51,
          49
         ],
         "line": {
          "color": "red",
          "width": 1
         },
         "locationmode": "country names",
         "lon": [
          9,
          32
         ],
         "mode": "lines",
         "opacity": 0.11,
         "text": "Germany voted for Ukraine averaging 11.0 votes",
         "type": "scattergeo"
        },
        {
         "hoverinfo": "text",
         "lat": [
          65,
          49
         ],
         "line": {
          "color": "red",
          "width": 1
         },
         "locationmode": "country names",
         "lon": [
          -18,
          32
         ],
         "mode": "lines",
         "opacity": 0.11,
         "text": "Iceland voted for Ukraine averaging 11.0 votes",
         "type": "scattergeo"
        },
        {
         "hoverinfo": "text",
         "lat": [
          53,
          49
         ],
         "line": {
          "color": "red",
          "width": 1
         },
         "locationmode": "country names",
         "lon": [
          -8,
          32
         ],
         "mode": "lines",
         "opacity": 0.075,
         "text": "Ireland voted for Ukraine averaging 7.5 votes",
         "type": "scattergeo"
        },
        {
         "hoverinfo": "text",
         "lat": [
          31.5,
          49
         ],
         "line": {
          "color": "red",
          "width": 1
         },
         "locationmode": "country names",
         "lon": [
          34.75,
          32
         ],
         "mode": "lines",
         "opacity": 0.095,
         "text": "Israel voted for Ukraine averaging 9.5 votes",
         "type": "scattergeo"
        },
        {
         "hoverinfo": "text",
         "lat": [
          57,
          49
         ],
         "line": {
          "color": "red",
          "width": 1
         },
         "locationmode": "country names",
         "lon": [
          25,
          32
         ],
         "mode": "lines",
         "opacity": 0.12,
         "text": "Latvia voted for Ukraine averaging 12.0 votes",
         "type": "scattergeo"
        },
        {
         "hoverinfo": "text",
         "lat": [
          35.83,
          49
         ],
         "line": {
          "color": "red",
          "width": 1
         },
         "locationmode": "country names",
         "lon": [
          14.58,
          32
         ],
         "mode": "lines",
         "opacity": 0.04,
         "text": "Malta voted for Ukraine averaging 4.0 votes",
         "type": "scattergeo"
        },
        {
         "hoverinfo": "text",
         "lat": [
          62,
          49
         ],
         "line": {
          "color": "red",
          "width": 1
         },
         "locationmode": "country names",
         "lon": [
          10,
          32
         ],
         "mode": "lines",
         "opacity": 0.0775,
         "text": "Norway voted for Ukraine averaging 7.75 votes",
         "type": "scattergeo"
        },
        {
         "hoverinfo": "text",
         "lat": [
          46,
          49
         ],
         "line": {
          "color": "red",
          "width": 1
         },
         "locationmode": "country names",
         "lon": [
          25,
          32
         ],
         "mode": "lines",
         "opacity": 0.11,
         "text": "Romania voted for Ukraine averaging 11.0 votes",
         "type": "scattergeo"
        },
        {
         "hoverinfo": "text",
         "lat": [
          40,
          49
         ],
         "line": {
          "color": "red",
          "width": 1
         },
         "locationmode": "country names",
         "lon": [
          -4,
          32
         ],
         "mode": "lines",
         "opacity": 0.06,
         "text": "Spain voted for Ukraine averaging 6.0 votes",
         "type": "scattergeo"
        },
        {
         "hoverinfo": "text",
         "lat": [
          62,
          49
         ],
         "line": {
          "color": "red",
          "width": 1
         },
         "locationmode": "country names",
         "lon": [
          15,
          32
         ],
         "mode": "lines",
         "opacity": 0.06,
         "text": "Sweden voted for Ukraine averaging 6.0 votes",
         "type": "scattergeo"
        },
        {
         "hoverinfo": "text",
         "lat": [
          47,
          49
         ],
         "line": {
          "color": "red",
          "width": 1
         },
         "locationmode": "country names",
         "lon": [
          8,
          32
         ],
         "mode": "lines",
         "opacity": 0.0775,
         "text": "Switzerland voted for Ukraine averaging 7.75 votes",
         "type": "scattergeo"
        },
        {
         "hoverinfo": "text",
         "lat": [
          54,
          49
         ],
         "line": {
          "color": "red",
          "width": 1
         },
         "locationmode": "country names",
         "lon": [
          -2,
          32
         ],
         "mode": "lines",
         "opacity": 0.06,
         "text": "United Kingdom voted for Ukraine averaging 6.0 votes",
         "type": "scattergeo"
        },
        {
         "hoverinfo": "text",
         "lat": [
          39,
          49
         ],
         "line": {
          "color": "red",
          "width": 1
         },
         "locationmode": "country names",
         "lon": [
          22,
          32
         ],
         "mode": "lines",
         "opacity": 0.0575,
         "text": "Greece voted for Ukraine averaging 5.75 votes",
         "type": "scattergeo"
        },
        {
         "hoverinfo": "text",
         "lat": [
          56,
          49
         ],
         "line": {
          "color": "red",
          "width": 1
         },
         "locationmode": "country names",
         "lon": [
          24,
          32
         ],
         "mode": "lines",
         "opacity": 0.12,
         "text": "Lithuania voted for Ukraine averaging 12.0 votes",
         "type": "scattergeo"
        },
        {
         "hoverinfo": "text",
         "lat": [
          52,
          49
         ],
         "line": {
          "color": "red",
          "width": 1
         },
         "locationmode": "country names",
         "lon": [
          20,
          32
         ],
         "mode": "lines",
         "opacity": 0.12,
         "text": "Poland voted for Ukraine averaging 12.0 votes",
         "type": "scattergeo"
        },
        {
         "hoverinfo": "text",
         "lat": [
          39.5,
          49
         ],
         "line": {
          "color": "red",
          "width": 1
         },
         "locationmode": "country names",
         "lon": [
          -8,
          32
         ],
         "mode": "lines",
         "opacity": 0.0975,
         "text": "Portugal voted for Ukraine averaging 9.75 votes",
         "type": "scattergeo"
        },
        {
         "hoverinfo": "text",
         "lat": [
          46,
          49
         ],
         "line": {
          "color": "red",
          "width": 1
         },
         "locationmode": "country names",
         "lon": [
          15,
          32
         ],
         "mode": "lines",
         "opacity": 0.0875,
         "text": "Slovenia voted for Ukraine averaging 8.75 votes",
         "type": "scattergeo"
        },
        {
         "hoverinfo": "text",
         "lat": [
          41,
          49
         ],
         "line": {
          "color": "red",
          "width": 1
         },
         "locationmode": "country names",
         "lon": [
          20,
          32
         ],
         "mode": "lines",
         "opacity": 0.0925,
         "text": "Albania voted for Ukraine averaging 9.25 votes",
         "type": "scattergeo"
        },
        {
         "hoverinfo": "text",
         "lat": [
          43,
          49
         ],
         "line": {
          "color": "red",
          "width": 1
         },
         "locationmode": "country names",
         "lon": [
          25,
          32
         ],
         "mode": "lines",
         "opacity": 0.06,
         "text": "Bulgaria voted for Ukraine averaging 6.0 votes",
         "type": "scattergeo"
        },
        {
         "hoverinfo": "text",
         "lat": [
          40,
          49
         ],
         "line": {
          "color": "red",
          "width": 1
         },
         "locationmode": "country names",
         "lon": [
          45,
          32
         ],
         "mode": "lines",
         "opacity": 0.0875,
         "text": "Armenia voted for Ukraine averaging 8.75 votes",
         "type": "scattergeo"
        },
        {
         "hoverinfo": "text",
         "lat": [
          49.75,
          49
         ],
         "line": {
          "color": "red",
          "width": 1
         },
         "locationmode": "country names",
         "lon": [
          15.5,
          32
         ],
         "mode": "lines",
         "opacity": 0.08,
         "text": "Czech Republic voted for Ukraine averaging 8.0 votes",
         "type": "scattergeo"
        },
        {
         "hoverinfo": "text",
         "lat": [
          42,
          49
         ],
         "line": {
          "color": "red",
          "width": 1
         },
         "locationmode": "country names",
         "lon": [
          43.5,
          32
         ],
         "mode": "lines",
         "opacity": 0.09,
         "text": "Georgia voted for Ukraine averaging 9.0 votes",
         "type": "scattergeo"
        },
        {
         "hoverinfo": "text",
         "lat": [
          42,
          49
         ],
         "line": {
          "color": "red",
          "width": 1
         },
         "locationmode": "country names",
         "lon": [
          19,
          32
         ],
         "mode": "lines",
         "opacity": 0.08,
         "text": "Montenegro voted for Ukraine averaging 8.0 votes",
         "type": "scattergeo"
        },
        {
         "hoverinfo": "text",
         "lat": [
          44,
          49
         ],
         "line": {
          "color": "red",
          "width": 1
         },
         "locationmode": "country names",
         "lon": [
          21,
          32
         ],
         "mode": "lines",
         "opacity": 0,
         "text": "Serbia voted for Ukraine averaging 0.0 votes",
         "type": "scattergeo"
        },
        {
         "hoverinfo": "text",
         "lat": [
          40.5,
          49
         ],
         "line": {
          "color": "red",
          "width": 1
         },
         "locationmode": "country names",
         "lon": [
          47.5,
          32
         ],
         "mode": "lines",
         "opacity": 0.09,
         "text": "Azerbaijan voted for Ukraine averaging 9.0 votes",
         "type": "scattergeo"
        },
        {
         "hoverinfo": "text",
         "lat": [
          43.77,
          49
         ],
         "line": {
          "color": "red",
          "width": 1
         },
         "locationmode": "country names",
         "lon": [
          12.42,
          32
         ],
         "mode": "lines",
         "opacity": 0.07,
         "text": "San Marino voted for Ukraine averaging 7.0 votes",
         "type": "scattergeo"
        },
        {
         "hoverinfo": "text",
         "lat": [
          42.83,
          49
         ],
         "line": {
          "color": "red",
          "width": 1
         },
         "locationmode": "country names",
         "lon": [
          12.83,
          32
         ],
         "mode": "lines",
         "opacity": 0.0775,
         "text": "Italy voted for Ukraine averaging 7.75 votes",
         "type": "scattergeo"
        },
        {
         "hoverinfo": "text",
         "lat": [
          -27,
          49
         ],
         "line": {
          "color": "red",
          "width": 1
         },
         "locationmode": "country names",
         "lon": [
          133,
          32
         ],
         "mode": "lines",
         "opacity": 0.095,
         "text": "Australia voted for Ukraine averaging 9.5 votes",
         "type": "scattergeo"
        },
        {
         "hoverinfo": "text",
         "lat": [
          52.5,
          49
         ],
         "line": {
          "color": "red",
          "width": 1
         },
         "locationmode": "country names",
         "lon": [
          5.75,
          32
         ],
         "mode": "lines",
         "opacity": 0.08,
         "text": "Netherlands voted for Ukraine averaging 8.0 votes",
         "type": "scattergeo"
        }
       ],
       "layout": {
        "geo": {
         "countrycolor": "rgb(204, 204, 204)",
         "landcolor": "rgb(243, 243, 243)",
         "showland": true
        },
        "showlegend": false,
        "template": {
         "data": {
          "bar": [
           {
            "error_x": {
             "color": "#2a3f5f"
            },
            "error_y": {
             "color": "#2a3f5f"
            },
            "marker": {
             "line": {
              "color": "#E5ECF6",
              "width": 0.5
             },
             "pattern": {
              "fillmode": "overlay",
              "size": 10,
              "solidity": 0.2
             }
            },
            "type": "bar"
           }
          ],
          "barpolar": [
           {
            "marker": {
             "line": {
              "color": "#E5ECF6",
              "width": 0.5
             },
             "pattern": {
              "fillmode": "overlay",
              "size": 10,
              "solidity": 0.2
             }
            },
            "type": "barpolar"
           }
          ],
          "carpet": [
           {
            "aaxis": {
             "endlinecolor": "#2a3f5f",
             "gridcolor": "white",
             "linecolor": "white",
             "minorgridcolor": "white",
             "startlinecolor": "#2a3f5f"
            },
            "baxis": {
             "endlinecolor": "#2a3f5f",
             "gridcolor": "white",
             "linecolor": "white",
             "minorgridcolor": "white",
             "startlinecolor": "#2a3f5f"
            },
            "type": "carpet"
           }
          ],
          "choropleth": [
           {
            "colorbar": {
             "outlinewidth": 0,
             "ticks": ""
            },
            "type": "choropleth"
           }
          ],
          "contour": [
           {
            "colorbar": {
             "outlinewidth": 0,
             "ticks": ""
            },
            "colorscale": [
             [
              0,
              "#0d0887"
             ],
             [
              0.1111111111111111,
              "#46039f"
             ],
             [
              0.2222222222222222,
              "#7201a8"
             ],
             [
              0.3333333333333333,
              "#9c179e"
             ],
             [
              0.4444444444444444,
              "#bd3786"
             ],
             [
              0.5555555555555556,
              "#d8576b"
             ],
             [
              0.6666666666666666,
              "#ed7953"
             ],
             [
              0.7777777777777778,
              "#fb9f3a"
             ],
             [
              0.8888888888888888,
              "#fdca26"
             ],
             [
              1,
              "#f0f921"
             ]
            ],
            "type": "contour"
           }
          ],
          "contourcarpet": [
           {
            "colorbar": {
             "outlinewidth": 0,
             "ticks": ""
            },
            "type": "contourcarpet"
           }
          ],
          "heatmap": [
           {
            "colorbar": {
             "outlinewidth": 0,
             "ticks": ""
            },
            "colorscale": [
             [
              0,
              "#0d0887"
             ],
             [
              0.1111111111111111,
              "#46039f"
             ],
             [
              0.2222222222222222,
              "#7201a8"
             ],
             [
              0.3333333333333333,
              "#9c179e"
             ],
             [
              0.4444444444444444,
              "#bd3786"
             ],
             [
              0.5555555555555556,
              "#d8576b"
             ],
             [
              0.6666666666666666,
              "#ed7953"
             ],
             [
              0.7777777777777778,
              "#fb9f3a"
             ],
             [
              0.8888888888888888,
              "#fdca26"
             ],
             [
              1,
              "#f0f921"
             ]
            ],
            "type": "heatmap"
           }
          ],
          "heatmapgl": [
           {
            "colorbar": {
             "outlinewidth": 0,
             "ticks": ""
            },
            "colorscale": [
             [
              0,
              "#0d0887"
             ],
             [
              0.1111111111111111,
              "#46039f"
             ],
             [
              0.2222222222222222,
              "#7201a8"
             ],
             [
              0.3333333333333333,
              "#9c179e"
             ],
             [
              0.4444444444444444,
              "#bd3786"
             ],
             [
              0.5555555555555556,
              "#d8576b"
             ],
             [
              0.6666666666666666,
              "#ed7953"
             ],
             [
              0.7777777777777778,
              "#fb9f3a"
             ],
             [
              0.8888888888888888,
              "#fdca26"
             ],
             [
              1,
              "#f0f921"
             ]
            ],
            "type": "heatmapgl"
           }
          ],
          "histogram": [
           {
            "marker": {
             "pattern": {
              "fillmode": "overlay",
              "size": 10,
              "solidity": 0.2
             }
            },
            "type": "histogram"
           }
          ],
          "histogram2d": [
           {
            "colorbar": {
             "outlinewidth": 0,
             "ticks": ""
            },
            "colorscale": [
             [
              0,
              "#0d0887"
             ],
             [
              0.1111111111111111,
              "#46039f"
             ],
             [
              0.2222222222222222,
              "#7201a8"
             ],
             [
              0.3333333333333333,
              "#9c179e"
             ],
             [
              0.4444444444444444,
              "#bd3786"
             ],
             [
              0.5555555555555556,
              "#d8576b"
             ],
             [
              0.6666666666666666,
              "#ed7953"
             ],
             [
              0.7777777777777778,
              "#fb9f3a"
             ],
             [
              0.8888888888888888,
              "#fdca26"
             ],
             [
              1,
              "#f0f921"
             ]
            ],
            "type": "histogram2d"
           }
          ],
          "histogram2dcontour": [
           {
            "colorbar": {
             "outlinewidth": 0,
             "ticks": ""
            },
            "colorscale": [
             [
              0,
              "#0d0887"
             ],
             [
              0.1111111111111111,
              "#46039f"
             ],
             [
              0.2222222222222222,
              "#7201a8"
             ],
             [
              0.3333333333333333,
              "#9c179e"
             ],
             [
              0.4444444444444444,
              "#bd3786"
             ],
             [
              0.5555555555555556,
              "#d8576b"
             ],
             [
              0.6666666666666666,
              "#ed7953"
             ],
             [
              0.7777777777777778,
              "#fb9f3a"
             ],
             [
              0.8888888888888888,
              "#fdca26"
             ],
             [
              1,
              "#f0f921"
             ]
            ],
            "type": "histogram2dcontour"
           }
          ],
          "mesh3d": [
           {
            "colorbar": {
             "outlinewidth": 0,
             "ticks": ""
            },
            "type": "mesh3d"
           }
          ],
          "parcoords": [
           {
            "line": {
             "colorbar": {
              "outlinewidth": 0,
              "ticks": ""
             }
            },
            "type": "parcoords"
           }
          ],
          "pie": [
           {
            "automargin": true,
            "type": "pie"
           }
          ],
          "scatter": [
           {
            "fillpattern": {
             "fillmode": "overlay",
             "size": 10,
             "solidity": 0.2
            },
            "type": "scatter"
           }
          ],
          "scatter3d": [
           {
            "line": {
             "colorbar": {
              "outlinewidth": 0,
              "ticks": ""
             }
            },
            "marker": {
             "colorbar": {
              "outlinewidth": 0,
              "ticks": ""
             }
            },
            "type": "scatter3d"
           }
          ],
          "scattercarpet": [
           {
            "marker": {
             "colorbar": {
              "outlinewidth": 0,
              "ticks": ""
             }
            },
            "type": "scattercarpet"
           }
          ],
          "scattergeo": [
           {
            "marker": {
             "colorbar": {
              "outlinewidth": 0,
              "ticks": ""
             }
            },
            "type": "scattergeo"
           }
          ],
          "scattergl": [
           {
            "marker": {
             "colorbar": {
              "outlinewidth": 0,
              "ticks": ""
             }
            },
            "type": "scattergl"
           }
          ],
          "scattermapbox": [
           {
            "marker": {
             "colorbar": {
              "outlinewidth": 0,
              "ticks": ""
             }
            },
            "type": "scattermapbox"
           }
          ],
          "scatterpolar": [
           {
            "marker": {
             "colorbar": {
              "outlinewidth": 0,
              "ticks": ""
             }
            },
            "type": "scatterpolar"
           }
          ],
          "scatterpolargl": [
           {
            "marker": {
             "colorbar": {
              "outlinewidth": 0,
              "ticks": ""
             }
            },
            "type": "scatterpolargl"
           }
          ],
          "scatterternary": [
           {
            "marker": {
             "colorbar": {
              "outlinewidth": 0,
              "ticks": ""
             }
            },
            "type": "scatterternary"
           }
          ],
          "surface": [
           {
            "colorbar": {
             "outlinewidth": 0,
             "ticks": ""
            },
            "colorscale": [
             [
              0,
              "#0d0887"
             ],
             [
              0.1111111111111111,
              "#46039f"
             ],
             [
              0.2222222222222222,
              "#7201a8"
             ],
             [
              0.3333333333333333,
              "#9c179e"
             ],
             [
              0.4444444444444444,
              "#bd3786"
             ],
             [
              0.5555555555555556,
              "#d8576b"
             ],
             [
              0.6666666666666666,
              "#ed7953"
             ],
             [
              0.7777777777777778,
              "#fb9f3a"
             ],
             [
              0.8888888888888888,
              "#fdca26"
             ],
             [
              1,
              "#f0f921"
             ]
            ],
            "type": "surface"
           }
          ],
          "table": [
           {
            "cells": {
             "fill": {
              "color": "#EBF0F8"
             },
             "line": {
              "color": "white"
             }
            },
            "header": {
             "fill": {
              "color": "#C8D4E3"
             },
             "line": {
              "color": "white"
             }
            },
            "type": "table"
           }
          ]
         },
         "layout": {
          "annotationdefaults": {
           "arrowcolor": "#2a3f5f",
           "arrowhead": 0,
           "arrowwidth": 1
          },
          "autotypenumbers": "strict",
          "coloraxis": {
           "colorbar": {
            "outlinewidth": 0,
            "ticks": ""
           }
          },
          "colorscale": {
           "diverging": [
            [
             0,
             "#8e0152"
            ],
            [
             0.1,
             "#c51b7d"
            ],
            [
             0.2,
             "#de77ae"
            ],
            [
             0.3,
             "#f1b6da"
            ],
            [
             0.4,
             "#fde0ef"
            ],
            [
             0.5,
             "#f7f7f7"
            ],
            [
             0.6,
             "#e6f5d0"
            ],
            [
             0.7,
             "#b8e186"
            ],
            [
             0.8,
             "#7fbc41"
            ],
            [
             0.9,
             "#4d9221"
            ],
            [
             1,
             "#276419"
            ]
           ],
           "sequential": [
            [
             0,
             "#0d0887"
            ],
            [
             0.1111111111111111,
             "#46039f"
            ],
            [
             0.2222222222222222,
             "#7201a8"
            ],
            [
             0.3333333333333333,
             "#9c179e"
            ],
            [
             0.4444444444444444,
             "#bd3786"
            ],
            [
             0.5555555555555556,
             "#d8576b"
            ],
            [
             0.6666666666666666,
             "#ed7953"
            ],
            [
             0.7777777777777778,
             "#fb9f3a"
            ],
            [
             0.8888888888888888,
             "#fdca26"
            ],
            [
             1,
             "#f0f921"
            ]
           ],
           "sequentialminus": [
            [
             0,
             "#0d0887"
            ],
            [
             0.1111111111111111,
             "#46039f"
            ],
            [
             0.2222222222222222,
             "#7201a8"
            ],
            [
             0.3333333333333333,
             "#9c179e"
            ],
            [
             0.4444444444444444,
             "#bd3786"
            ],
            [
             0.5555555555555556,
             "#d8576b"
            ],
            [
             0.6666666666666666,
             "#ed7953"
            ],
            [
             0.7777777777777778,
             "#fb9f3a"
            ],
            [
             0.8888888888888888,
             "#fdca26"
            ],
            [
             1,
             "#f0f921"
            ]
           ]
          },
          "colorway": [
           "#636efa",
           "#EF553B",
           "#00cc96",
           "#ab63fa",
           "#FFA15A",
           "#19d3f3",
           "#FF6692",
           "#B6E880",
           "#FF97FF",
           "#FECB52"
          ],
          "font": {
           "color": "#2a3f5f"
          },
          "geo": {
           "bgcolor": "white",
           "lakecolor": "white",
           "landcolor": "#E5ECF6",
           "showlakes": true,
           "showland": true,
           "subunitcolor": "white"
          },
          "hoverlabel": {
           "align": "left"
          },
          "hovermode": "closest",
          "mapbox": {
           "style": "light"
          },
          "paper_bgcolor": "white",
          "plot_bgcolor": "#E5ECF6",
          "polar": {
           "angularaxis": {
            "gridcolor": "white",
            "linecolor": "white",
            "ticks": ""
           },
           "bgcolor": "#E5ECF6",
           "radialaxis": {
            "gridcolor": "white",
            "linecolor": "white",
            "ticks": ""
           }
          },
          "scene": {
           "xaxis": {
            "backgroundcolor": "#E5ECF6",
            "gridcolor": "white",
            "gridwidth": 2,
            "linecolor": "white",
            "showbackground": true,
            "ticks": "",
            "zerolinecolor": "white"
           },
           "yaxis": {
            "backgroundcolor": "#E5ECF6",
            "gridcolor": "white",
            "gridwidth": 2,
            "linecolor": "white",
            "showbackground": true,
            "ticks": "",
            "zerolinecolor": "white"
           },
           "zaxis": {
            "backgroundcolor": "#E5ECF6",
            "gridcolor": "white",
            "gridwidth": 2,
            "linecolor": "white",
            "showbackground": true,
            "ticks": "",
            "zerolinecolor": "white"
           }
          },
          "shapedefaults": {
           "line": {
            "color": "#2a3f5f"
           }
          },
          "ternary": {
           "aaxis": {
            "gridcolor": "white",
            "linecolor": "white",
            "ticks": ""
           },
           "baxis": {
            "gridcolor": "white",
            "linecolor": "white",
            "ticks": ""
           },
           "bgcolor": "#E5ECF6",
           "caxis": {
            "gridcolor": "white",
            "linecolor": "white",
            "ticks": ""
           }
          },
          "title": {
           "x": 0.05
          },
          "xaxis": {
           "automargin": true,
           "gridcolor": "white",
           "linecolor": "white",
           "ticks": "",
           "title": {
            "standoff": 15
           },
           "zerolinecolor": "white",
           "zerolinewidth": 2
          },
          "yaxis": {
           "automargin": true,
           "gridcolor": "white",
           "linecolor": "white",
           "ticks": "",
           "title": {
            "standoff": 15
           },
           "zerolinecolor": "white",
           "zerolinewidth": 2
          }
         }
        },
        "title": {
         "text": "Who voted and for whom in Eurovison 2022?"
        }
       }
      }
     },
     "metadata": {},
     "output_type": "display_data"
    }
   ],
   "source": [
    "# With all users - With a gradient scale \n",
    "import plotly.graph_objects as go\n",
    "import pandas as pd\n",
    "\n",
    "fig = go.Figure()\n",
    "\n",
    "# fig.add_trace(go.Scattergeo(\n",
    "#     locationmode = 'country names' ,\n",
    "#     hoverinfo = 'text',\n",
    "#     text = full_df['company_location'],\n",
    "#     lon=full_df['Longitude_bean_origin'],\n",
    "#     lat=full_df['Latitude_bean_origin'],\n",
    "#     mode = 'markers',\n",
    "#     marker = dict(\n",
    "#         size = 2,\n",
    "#         color = 'rgb(255, 0, 0)',\n",
    "#         line = dict(\n",
    "#             width = 3,\n",
    "#             color = 'rgba(68, 68, 68, 0)'\n",
    "#         )\n",
    "#     )))\n",
    "\n",
    "for i in range(len(full_df)):\n",
    "    fig.add_trace(\n",
    "        go.Scattergeo(\n",
    "          #  locations=full_df['company_location'],\n",
    "            hoverinfo = 'text',\n",
    "            text = f'{full_df.from_country[i]} voted for {full_df.to_country[i]} averaging {full_df.weighted_avg[i]} votes',\n",
    "            locationmode = 'country names' ,\n",
    "            lon = [full_df['Longitude_from_country_code'][i], full_df['Longitude_to_country_code'][i]],\n",
    "            lat = [full_df['Latitude_from_country_code'][i], full_df['Latitude_to_country_code'][i]],\n",
    "            mode = 'lines',\n",
    "            line = dict(width = 1,color = 'red'),\n",
    "            opacity = float(full_df['weighted_avg'][i])/100\n",
    "        )\n",
    "    )\n",
    "\n",
    "fig.update_layout(\n",
    "    title_text = \"Who voted and for whom in Eurovison 2022?\",\n",
    "    showlegend = False,\n",
    "    geo = dict(\n",
    "        showland = True,\n",
    "        #scope = 'europe',\n",
    "        landcolor = 'rgb(243, 243, 243)',\n",
    "        countrycolor = 'rgb(204, 204, 204)',\n",
    "    ),\n",
    ")\n",
    "\n",
    "fig.show()"
   ]
  },
  {
   "cell_type": "code",
   "execution_count": 140,
   "metadata": {},
   "outputs": [
    {
     "data": {
      "application/vnd.plotly.v1+json": {
       "config": {
        "plotlyServerURL": "https://plot.ly"
       },
       "data": [
        {
         "hoverinfo": "text",
         "lat": [
          47.33,
          47.33
         ],
         "line": {
          "color": "blue",
          "width": 1
         },
         "locationmode": "country names",
         "lon": [
          13.33,
          13.33
         ],
         "mode": "lines",
         "opacity": 0.6,
         "text": "AAA",
         "type": "scattergeo"
        },
        {
         "hoverinfo": "text",
         "lat": [
          47.33,
          49
         ],
         "line": {
          "color": "red",
          "width": 1
         },
         "locationmode": "country names",
         "lon": [
          13.33,
          32
         ],
         "marker": {
          "symbol": "triangle-left"
         },
         "mode": "lines",
         "opacity": 0.06,
         "text": "Austria voted for Ukraine averaging 6.0 votes",
         "type": "scattergeo"
        },
        {
         "hoverinfo": "text",
         "lat": [
          50.83,
          49
         ],
         "line": {
          "color": "red",
          "width": 1
         },
         "locationmode": "country names",
         "lon": [
          4,
          32
         ],
         "mode": "lines",
         "opacity": 0.09,
         "text": "Belgium voted for Ukraine averaging 9.0 votes",
         "type": "scattergeo"
        },
        {
         "hoverinfo": "text",
         "lat": [
          45.17,
          49
         ],
         "line": {
          "color": "red",
          "width": 1
         },
         "locationmode": "country names",
         "lon": [
          15.5,
          32
         ],
         "mode": "lines",
         "opacity": 0.0925,
         "text": "Croatia voted for Ukraine averaging 9.25 votes",
         "type": "scattergeo"
        },
        {
         "hoverinfo": "text",
         "lat": [
          35,
          49
         ],
         "line": {
          "color": "red",
          "width": 1
         },
         "locationmode": "country names",
         "lon": [
          33,
          32
         ],
         "mode": "lines",
         "opacity": 0.095,
         "text": "Cyprus voted for Ukraine averaging 9.5 votes",
         "type": "scattergeo"
        },
        {
         "hoverinfo": "text",
         "lat": [
          56,
          49
         ],
         "line": {
          "color": "red",
          "width": 1
         },
         "locationmode": "country names",
         "lon": [
          10,
          32
         ],
         "mode": "lines",
         "opacity": 0.09,
         "text": "Denmark voted for Ukraine averaging 9.0 votes",
         "type": "scattergeo"
        },
        {
         "hoverinfo": "text",
         "lat": [
          59,
          49
         ],
         "line": {
          "color": "red",
          "width": 1
         },
         "locationmode": "country names",
         "lon": [
          26,
          32
         ],
         "mode": "lines",
         "opacity": 0.06,
         "text": "Estonia voted for Ukraine averaging 6.0 votes",
         "type": "scattergeo"
        },
        {
         "hoverinfo": "text",
         "lat": [
          64,
          49
         ],
         "line": {
          "color": "red",
          "width": 1
         },
         "locationmode": "country names",
         "lon": [
          26,
          32
         ],
         "mode": "lines",
         "opacity": 0.06,
         "text": "Finland voted for Ukraine averaging 6.0 votes",
         "type": "scattergeo"
        },
        {
         "hoverinfo": "text",
         "lat": [
          46,
          49
         ],
         "line": {
          "color": "red",
          "width": 1
         },
         "locationmode": "country names",
         "lon": [
          2,
          32
         ],
         "mode": "lines",
         "opacity": 0.105,
         "text": "France voted for Ukraine averaging 10.5 votes",
         "type": "scattergeo"
        },
        {
         "hoverinfo": "text",
         "lat": [
          51,
          49
         ],
         "line": {
          "color": "red",
          "width": 1
         },
         "locationmode": "country names",
         "lon": [
          9,
          32
         ],
         "mode": "lines",
         "opacity": 0.11,
         "text": "Germany voted for Ukraine averaging 11.0 votes",
         "type": "scattergeo"
        },
        {
         "hoverinfo": "text",
         "lat": [
          65,
          49
         ],
         "line": {
          "color": "red",
          "width": 1
         },
         "locationmode": "country names",
         "lon": [
          -18,
          32
         ],
         "mode": "lines",
         "opacity": 0.11,
         "text": "Iceland voted for Ukraine averaging 11.0 votes",
         "type": "scattergeo"
        },
        {
         "hoverinfo": "text",
         "lat": [
          53,
          49
         ],
         "line": {
          "color": "red",
          "width": 1
         },
         "locationmode": "country names",
         "lon": [
          -8,
          32
         ],
         "mode": "lines",
         "opacity": 0.075,
         "text": "Ireland voted for Ukraine averaging 7.5 votes",
         "type": "scattergeo"
        },
        {
         "hoverinfo": "text",
         "lat": [
          31.5,
          49
         ],
         "line": {
          "color": "red",
          "width": 1
         },
         "locationmode": "country names",
         "lon": [
          34.75,
          32
         ],
         "mode": "lines",
         "opacity": 0.095,
         "text": "Israel voted for Ukraine averaging 9.5 votes",
         "type": "scattergeo"
        },
        {
         "hoverinfo": "text",
         "lat": [
          57,
          49
         ],
         "line": {
          "color": "red",
          "width": 1
         },
         "locationmode": "country names",
         "lon": [
          25,
          32
         ],
         "mode": "lines",
         "opacity": 0.12,
         "text": "Latvia voted for Ukraine averaging 12.0 votes",
         "type": "scattergeo"
        },
        {
         "hoverinfo": "text",
         "lat": [
          35.83,
          49
         ],
         "line": {
          "color": "red",
          "width": 1
         },
         "locationmode": "country names",
         "lon": [
          14.58,
          32
         ],
         "mode": "lines",
         "opacity": 0.04,
         "text": "Malta voted for Ukraine averaging 4.0 votes",
         "type": "scattergeo"
        },
        {
         "hoverinfo": "text",
         "lat": [
          62,
          49
         ],
         "line": {
          "color": "red",
          "width": 1
         },
         "locationmode": "country names",
         "lon": [
          10,
          32
         ],
         "mode": "lines",
         "opacity": 0.0775,
         "text": "Norway voted for Ukraine averaging 7.75 votes",
         "type": "scattergeo"
        },
        {
         "hoverinfo": "text",
         "lat": [
          46,
          49
         ],
         "line": {
          "color": "red",
          "width": 1
         },
         "locationmode": "country names",
         "lon": [
          25,
          32
         ],
         "mode": "lines",
         "opacity": 0.11,
         "text": "Romania voted for Ukraine averaging 11.0 votes",
         "type": "scattergeo"
        },
        {
         "hoverinfo": "text",
         "lat": [
          40,
          49
         ],
         "line": {
          "color": "red",
          "width": 1
         },
         "locationmode": "country names",
         "lon": [
          -4,
          32
         ],
         "mode": "lines",
         "opacity": 0.06,
         "text": "Spain voted for Ukraine averaging 6.0 votes",
         "type": "scattergeo"
        },
        {
         "hoverinfo": "text",
         "lat": [
          62,
          49
         ],
         "line": {
          "color": "red",
          "width": 1
         },
         "locationmode": "country names",
         "lon": [
          15,
          32
         ],
         "mode": "lines",
         "opacity": 0.06,
         "text": "Sweden voted for Ukraine averaging 6.0 votes",
         "type": "scattergeo"
        },
        {
         "hoverinfo": "text",
         "lat": [
          47,
          49
         ],
         "line": {
          "color": "red",
          "width": 1
         },
         "locationmode": "country names",
         "lon": [
          8,
          32
         ],
         "mode": "lines",
         "opacity": 0.0775,
         "text": "Switzerland voted for Ukraine averaging 7.75 votes",
         "type": "scattergeo"
        },
        {
         "hoverinfo": "text",
         "lat": [
          54,
          49
         ],
         "line": {
          "color": "red",
          "width": 1
         },
         "locationmode": "country names",
         "lon": [
          -2,
          32
         ],
         "mode": "lines",
         "opacity": 0.06,
         "text": "United Kingdom voted for Ukraine averaging 6.0 votes",
         "type": "scattergeo"
        },
        {
         "hoverinfo": "text",
         "lat": [
          39,
          49
         ],
         "line": {
          "color": "red",
          "width": 1
         },
         "locationmode": "country names",
         "lon": [
          22,
          32
         ],
         "mode": "lines",
         "opacity": 0.0575,
         "text": "Greece voted for Ukraine averaging 5.75 votes",
         "type": "scattergeo"
        },
        {
         "hoverinfo": "text",
         "lat": [
          56,
          49
         ],
         "line": {
          "color": "red",
          "width": 1
         },
         "locationmode": "country names",
         "lon": [
          24,
          32
         ],
         "mode": "lines",
         "opacity": 0.12,
         "text": "Lithuania voted for Ukraine averaging 12.0 votes",
         "type": "scattergeo"
        },
        {
         "hoverinfo": "text",
         "lat": [
          52,
          49
         ],
         "line": {
          "color": "red",
          "width": 1
         },
         "locationmode": "country names",
         "lon": [
          20,
          32
         ],
         "mode": "lines",
         "opacity": 0.12,
         "text": "Poland voted for Ukraine averaging 12.0 votes",
         "type": "scattergeo"
        },
        {
         "hoverinfo": "text",
         "lat": [
          39.5,
          49
         ],
         "line": {
          "color": "red",
          "width": 1
         },
         "locationmode": "country names",
         "lon": [
          -8,
          32
         ],
         "mode": "lines",
         "opacity": 0.0975,
         "text": "Portugal voted for Ukraine averaging 9.75 votes",
         "type": "scattergeo"
        },
        {
         "hoverinfo": "text",
         "lat": [
          46,
          49
         ],
         "line": {
          "color": "red",
          "width": 1
         },
         "locationmode": "country names",
         "lon": [
          15,
          32
         ],
         "mode": "lines",
         "opacity": 0.0875,
         "text": "Slovenia voted for Ukraine averaging 8.75 votes",
         "type": "scattergeo"
        },
        {
         "hoverinfo": "text",
         "lat": [
          41,
          49
         ],
         "line": {
          "color": "red",
          "width": 1
         },
         "locationmode": "country names",
         "lon": [
          20,
          32
         ],
         "mode": "lines",
         "opacity": 0.0925,
         "text": "Albania voted for Ukraine averaging 9.25 votes",
         "type": "scattergeo"
        },
        {
         "hoverinfo": "text",
         "lat": [
          43,
          49
         ],
         "line": {
          "color": "red",
          "width": 1
         },
         "locationmode": "country names",
         "lon": [
          25,
          32
         ],
         "mode": "lines",
         "opacity": 0.06,
         "text": "Bulgaria voted for Ukraine averaging 6.0 votes",
         "type": "scattergeo"
        },
        {
         "hoverinfo": "text",
         "lat": [
          40,
          49
         ],
         "line": {
          "color": "red",
          "width": 1
         },
         "locationmode": "country names",
         "lon": [
          45,
          32
         ],
         "mode": "lines",
         "opacity": 0.0875,
         "text": "Armenia voted for Ukraine averaging 8.75 votes",
         "type": "scattergeo"
        },
        {
         "hoverinfo": "text",
         "lat": [
          49.75,
          49
         ],
         "line": {
          "color": "red",
          "width": 1
         },
         "locationmode": "country names",
         "lon": [
          15.5,
          32
         ],
         "mode": "lines",
         "opacity": 0.08,
         "text": "Czech Republic voted for Ukraine averaging 8.0 votes",
         "type": "scattergeo"
        },
        {
         "hoverinfo": "text",
         "lat": [
          42,
          49
         ],
         "line": {
          "color": "red",
          "width": 1
         },
         "locationmode": "country names",
         "lon": [
          43.5,
          32
         ],
         "mode": "lines",
         "opacity": 0.09,
         "text": "Georgia voted for Ukraine averaging 9.0 votes",
         "type": "scattergeo"
        },
        {
         "hoverinfo": "text",
         "lat": [
          42,
          49
         ],
         "line": {
          "color": "red",
          "width": 1
         },
         "locationmode": "country names",
         "lon": [
          19,
          32
         ],
         "mode": "lines",
         "opacity": 0.08,
         "text": "Montenegro voted for Ukraine averaging 8.0 votes",
         "type": "scattergeo"
        },
        {
         "hoverinfo": "text",
         "lat": [
          44,
          49
         ],
         "line": {
          "color": "red",
          "width": 1
         },
         "locationmode": "country names",
         "lon": [
          21,
          32
         ],
         "mode": "lines",
         "opacity": 0,
         "text": "Serbia voted for Ukraine averaging 0.0 votes",
         "type": "scattergeo"
        },
        {
         "hoverinfo": "text",
         "lat": [
          40.5,
          49
         ],
         "line": {
          "color": "red",
          "width": 1
         },
         "locationmode": "country names",
         "lon": [
          47.5,
          32
         ],
         "mode": "lines",
         "opacity": 0.09,
         "text": "Azerbaijan voted for Ukraine averaging 9.0 votes",
         "type": "scattergeo"
        },
        {
         "hoverinfo": "text",
         "lat": [
          43.77,
          49
         ],
         "line": {
          "color": "red",
          "width": 1
         },
         "locationmode": "country names",
         "lon": [
          12.42,
          32
         ],
         "mode": "lines",
         "opacity": 0.07,
         "text": "San Marino voted for Ukraine averaging 7.0 votes",
         "type": "scattergeo"
        },
        {
         "hoverinfo": "text",
         "lat": [
          42.83,
          49
         ],
         "line": {
          "color": "red",
          "width": 1
         },
         "locationmode": "country names",
         "lon": [
          12.83,
          32
         ],
         "mode": "lines",
         "opacity": 0.0775,
         "text": "Italy voted for Ukraine averaging 7.75 votes",
         "type": "scattergeo"
        },
        {
         "hoverinfo": "text",
         "lat": [
          -27,
          49
         ],
         "line": {
          "color": "red",
          "width": 1
         },
         "locationmode": "country names",
         "lon": [
          133,
          32
         ],
         "mode": "lines",
         "opacity": 0.095,
         "text": "Australia voted for Ukraine averaging 9.5 votes",
         "type": "scattergeo"
        },
        {
         "hoverinfo": "text",
         "lat": [
          52.5,
          49
         ],
         "line": {
          "color": "red",
          "width": 1
         },
         "locationmode": "country names",
         "lon": [
          5.75,
          32
         ],
         "mode": "lines",
         "opacity": 0.08,
         "text": "Netherlands voted for Ukraine averaging 8.0 votes",
         "type": "scattergeo"
        }
       ],
       "frames": [
        {
         "data": [
          {
           "lat": [
            47.33
           ],
           "lon": [
            13.33
           ],
           "type": "scattergeo"
          }
         ]
        },
        {
         "data": [
          {
           "lat": [
            47.33,
            47.33
           ],
           "lon": [
            13.33,
            13.33
           ],
           "type": "scattergeo"
          }
         ]
        },
        {
         "data": [
          {
           "lat": [
            47.33,
            47.33,
            50.83
           ],
           "lon": [
            13.33,
            13.33,
            4
           ],
           "type": "scattergeo"
          }
         ]
        },
        {
         "data": [
          {
           "lat": [
            47.33,
            47.33,
            50.83,
            45.17
           ],
           "lon": [
            13.33,
            13.33,
            4,
            15.5
           ],
           "type": "scattergeo"
          }
         ]
        },
        {
         "data": [
          {
           "lat": [
            47.33,
            47.33,
            50.83,
            45.17,
            35
           ],
           "lon": [
            13.33,
            13.33,
            4,
            15.5,
            33
           ],
           "type": "scattergeo"
          }
         ]
        },
        {
         "data": [
          {
           "lat": [
            47.33,
            47.33,
            50.83,
            45.17,
            35,
            56
           ],
           "lon": [
            13.33,
            13.33,
            4,
            15.5,
            33,
            10
           ],
           "type": "scattergeo"
          }
         ]
        },
        {
         "data": [
          {
           "lat": [
            47.33,
            47.33,
            50.83,
            45.17,
            35,
            56,
            59
           ],
           "lon": [
            13.33,
            13.33,
            4,
            15.5,
            33,
            10,
            26
           ],
           "type": "scattergeo"
          }
         ]
        },
        {
         "data": [
          {
           "lat": [
            47.33,
            47.33,
            50.83,
            45.17,
            35,
            56,
            59,
            64
           ],
           "lon": [
            13.33,
            13.33,
            4,
            15.5,
            33,
            10,
            26,
            26
           ],
           "type": "scattergeo"
          }
         ]
        },
        {
         "data": [
          {
           "lat": [
            47.33,
            47.33,
            50.83,
            45.17,
            35,
            56,
            59,
            64,
            46
           ],
           "lon": [
            13.33,
            13.33,
            4,
            15.5,
            33,
            10,
            26,
            26,
            2
           ],
           "type": "scattergeo"
          }
         ]
        },
        {
         "data": [
          {
           "lat": [
            47.33,
            47.33,
            50.83,
            45.17,
            35,
            56,
            59,
            64,
            46,
            51
           ],
           "lon": [
            13.33,
            13.33,
            4,
            15.5,
            33,
            10,
            26,
            26,
            2,
            9
           ],
           "type": "scattergeo"
          }
         ]
        },
        {
         "data": [
          {
           "lat": [
            47.33,
            47.33,
            50.83,
            45.17,
            35,
            56,
            59,
            64,
            46,
            51,
            65
           ],
           "lon": [
            13.33,
            13.33,
            4,
            15.5,
            33,
            10,
            26,
            26,
            2,
            9,
            -18
           ],
           "type": "scattergeo"
          }
         ]
        },
        {
         "data": [
          {
           "lat": [
            47.33,
            47.33,
            50.83,
            45.17,
            35,
            56,
            59,
            64,
            46,
            51,
            65,
            53
           ],
           "lon": [
            13.33,
            13.33,
            4,
            15.5,
            33,
            10,
            26,
            26,
            2,
            9,
            -18,
            -8
           ],
           "type": "scattergeo"
          }
         ]
        },
        {
         "data": [
          {
           "lat": [
            47.33,
            47.33,
            50.83,
            45.17,
            35,
            56,
            59,
            64,
            46,
            51,
            65,
            53,
            31.5
           ],
           "lon": [
            13.33,
            13.33,
            4,
            15.5,
            33,
            10,
            26,
            26,
            2,
            9,
            -18,
            -8,
            34.75
           ],
           "type": "scattergeo"
          }
         ]
        },
        {
         "data": [
          {
           "lat": [
            47.33,
            47.33,
            50.83,
            45.17,
            35,
            56,
            59,
            64,
            46,
            51,
            65,
            53,
            31.5,
            57
           ],
           "lon": [
            13.33,
            13.33,
            4,
            15.5,
            33,
            10,
            26,
            26,
            2,
            9,
            -18,
            -8,
            34.75,
            25
           ],
           "type": "scattergeo"
          }
         ]
        },
        {
         "data": [
          {
           "lat": [
            47.33,
            47.33,
            50.83,
            45.17,
            35,
            56,
            59,
            64,
            46,
            51,
            65,
            53,
            31.5,
            57,
            35.83
           ],
           "lon": [
            13.33,
            13.33,
            4,
            15.5,
            33,
            10,
            26,
            26,
            2,
            9,
            -18,
            -8,
            34.75,
            25,
            14.58
           ],
           "type": "scattergeo"
          }
         ]
        },
        {
         "data": [
          {
           "lat": [
            47.33,
            47.33,
            50.83,
            45.17,
            35,
            56,
            59,
            64,
            46,
            51,
            65,
            53,
            31.5,
            57,
            35.83,
            62
           ],
           "lon": [
            13.33,
            13.33,
            4,
            15.5,
            33,
            10,
            26,
            26,
            2,
            9,
            -18,
            -8,
            34.75,
            25,
            14.58,
            10
           ],
           "type": "scattergeo"
          }
         ]
        },
        {
         "data": [
          {
           "lat": [
            47.33,
            47.33,
            50.83,
            45.17,
            35,
            56,
            59,
            64,
            46,
            51,
            65,
            53,
            31.5,
            57,
            35.83,
            62,
            46
           ],
           "lon": [
            13.33,
            13.33,
            4,
            15.5,
            33,
            10,
            26,
            26,
            2,
            9,
            -18,
            -8,
            34.75,
            25,
            14.58,
            10,
            25
           ],
           "type": "scattergeo"
          }
         ]
        },
        {
         "data": [
          {
           "lat": [
            47.33,
            47.33,
            50.83,
            45.17,
            35,
            56,
            59,
            64,
            46,
            51,
            65,
            53,
            31.5,
            57,
            35.83,
            62,
            46,
            40
           ],
           "lon": [
            13.33,
            13.33,
            4,
            15.5,
            33,
            10,
            26,
            26,
            2,
            9,
            -18,
            -8,
            34.75,
            25,
            14.58,
            10,
            25,
            -4
           ],
           "type": "scattergeo"
          }
         ]
        },
        {
         "data": [
          {
           "lat": [
            47.33,
            47.33,
            50.83,
            45.17,
            35,
            56,
            59,
            64,
            46,
            51,
            65,
            53,
            31.5,
            57,
            35.83,
            62,
            46,
            40,
            62
           ],
           "lon": [
            13.33,
            13.33,
            4,
            15.5,
            33,
            10,
            26,
            26,
            2,
            9,
            -18,
            -8,
            34.75,
            25,
            14.58,
            10,
            25,
            -4,
            15
           ],
           "type": "scattergeo"
          }
         ]
        },
        {
         "data": [
          {
           "lat": [
            47.33,
            47.33,
            50.83,
            45.17,
            35,
            56,
            59,
            64,
            46,
            51,
            65,
            53,
            31.5,
            57,
            35.83,
            62,
            46,
            40,
            62,
            47
           ],
           "lon": [
            13.33,
            13.33,
            4,
            15.5,
            33,
            10,
            26,
            26,
            2,
            9,
            -18,
            -8,
            34.75,
            25,
            14.58,
            10,
            25,
            -4,
            15,
            8
           ],
           "type": "scattergeo"
          }
         ]
        },
        {
         "data": [
          {
           "lat": [
            47.33,
            47.33,
            50.83,
            45.17,
            35,
            56,
            59,
            64,
            46,
            51,
            65,
            53,
            31.5,
            57,
            35.83,
            62,
            46,
            40,
            62,
            47,
            54
           ],
           "lon": [
            13.33,
            13.33,
            4,
            15.5,
            33,
            10,
            26,
            26,
            2,
            9,
            -18,
            -8,
            34.75,
            25,
            14.58,
            10,
            25,
            -4,
            15,
            8,
            -2
           ],
           "type": "scattergeo"
          }
         ]
        },
        {
         "data": [
          {
           "lat": [
            47.33,
            47.33,
            50.83,
            45.17,
            35,
            56,
            59,
            64,
            46,
            51,
            65,
            53,
            31.5,
            57,
            35.83,
            62,
            46,
            40,
            62,
            47,
            54,
            39
           ],
           "lon": [
            13.33,
            13.33,
            4,
            15.5,
            33,
            10,
            26,
            26,
            2,
            9,
            -18,
            -8,
            34.75,
            25,
            14.58,
            10,
            25,
            -4,
            15,
            8,
            -2,
            22
           ],
           "type": "scattergeo"
          }
         ]
        },
        {
         "data": [
          {
           "lat": [
            47.33,
            47.33,
            50.83,
            45.17,
            35,
            56,
            59,
            64,
            46,
            51,
            65,
            53,
            31.5,
            57,
            35.83,
            62,
            46,
            40,
            62,
            47,
            54,
            39,
            56
           ],
           "lon": [
            13.33,
            13.33,
            4,
            15.5,
            33,
            10,
            26,
            26,
            2,
            9,
            -18,
            -8,
            34.75,
            25,
            14.58,
            10,
            25,
            -4,
            15,
            8,
            -2,
            22,
            24
           ],
           "type": "scattergeo"
          }
         ]
        },
        {
         "data": [
          {
           "lat": [
            47.33,
            47.33,
            50.83,
            45.17,
            35,
            56,
            59,
            64,
            46,
            51,
            65,
            53,
            31.5,
            57,
            35.83,
            62,
            46,
            40,
            62,
            47,
            54,
            39,
            56,
            52
           ],
           "lon": [
            13.33,
            13.33,
            4,
            15.5,
            33,
            10,
            26,
            26,
            2,
            9,
            -18,
            -8,
            34.75,
            25,
            14.58,
            10,
            25,
            -4,
            15,
            8,
            -2,
            22,
            24,
            20
           ],
           "type": "scattergeo"
          }
         ]
        },
        {
         "data": [
          {
           "lat": [
            47.33,
            47.33,
            50.83,
            45.17,
            35,
            56,
            59,
            64,
            46,
            51,
            65,
            53,
            31.5,
            57,
            35.83,
            62,
            46,
            40,
            62,
            47,
            54,
            39,
            56,
            52,
            39.5
           ],
           "lon": [
            13.33,
            13.33,
            4,
            15.5,
            33,
            10,
            26,
            26,
            2,
            9,
            -18,
            -8,
            34.75,
            25,
            14.58,
            10,
            25,
            -4,
            15,
            8,
            -2,
            22,
            24,
            20,
            -8
           ],
           "type": "scattergeo"
          }
         ]
        },
        {
         "data": [
          {
           "lat": [
            47.33,
            47.33,
            50.83,
            45.17,
            35,
            56,
            59,
            64,
            46,
            51,
            65,
            53,
            31.5,
            57,
            35.83,
            62,
            46,
            40,
            62,
            47,
            54,
            39,
            56,
            52,
            39.5,
            46
           ],
           "lon": [
            13.33,
            13.33,
            4,
            15.5,
            33,
            10,
            26,
            26,
            2,
            9,
            -18,
            -8,
            34.75,
            25,
            14.58,
            10,
            25,
            -4,
            15,
            8,
            -2,
            22,
            24,
            20,
            -8,
            15
           ],
           "type": "scattergeo"
          }
         ]
        },
        {
         "data": [
          {
           "lat": [
            47.33,
            47.33,
            50.83,
            45.17,
            35,
            56,
            59,
            64,
            46,
            51,
            65,
            53,
            31.5,
            57,
            35.83,
            62,
            46,
            40,
            62,
            47,
            54,
            39,
            56,
            52,
            39.5,
            46,
            41
           ],
           "lon": [
            13.33,
            13.33,
            4,
            15.5,
            33,
            10,
            26,
            26,
            2,
            9,
            -18,
            -8,
            34.75,
            25,
            14.58,
            10,
            25,
            -4,
            15,
            8,
            -2,
            22,
            24,
            20,
            -8,
            15,
            20
           ],
           "type": "scattergeo"
          }
         ]
        },
        {
         "data": [
          {
           "lat": [
            47.33,
            47.33,
            50.83,
            45.17,
            35,
            56,
            59,
            64,
            46,
            51,
            65,
            53,
            31.5,
            57,
            35.83,
            62,
            46,
            40,
            62,
            47,
            54,
            39,
            56,
            52,
            39.5,
            46,
            41,
            43
           ],
           "lon": [
            13.33,
            13.33,
            4,
            15.5,
            33,
            10,
            26,
            26,
            2,
            9,
            -18,
            -8,
            34.75,
            25,
            14.58,
            10,
            25,
            -4,
            15,
            8,
            -2,
            22,
            24,
            20,
            -8,
            15,
            20,
            25
           ],
           "type": "scattergeo"
          }
         ]
        },
        {
         "data": [
          {
           "lat": [
            47.33,
            47.33,
            50.83,
            45.17,
            35,
            56,
            59,
            64,
            46,
            51,
            65,
            53,
            31.5,
            57,
            35.83,
            62,
            46,
            40,
            62,
            47,
            54,
            39,
            56,
            52,
            39.5,
            46,
            41,
            43,
            40
           ],
           "lon": [
            13.33,
            13.33,
            4,
            15.5,
            33,
            10,
            26,
            26,
            2,
            9,
            -18,
            -8,
            34.75,
            25,
            14.58,
            10,
            25,
            -4,
            15,
            8,
            -2,
            22,
            24,
            20,
            -8,
            15,
            20,
            25,
            45
           ],
           "type": "scattergeo"
          }
         ]
        },
        {
         "data": [
          {
           "lat": [
            47.33,
            47.33,
            50.83,
            45.17,
            35,
            56,
            59,
            64,
            46,
            51,
            65,
            53,
            31.5,
            57,
            35.83,
            62,
            46,
            40,
            62,
            47,
            54,
            39,
            56,
            52,
            39.5,
            46,
            41,
            43,
            40,
            49.75
           ],
           "lon": [
            13.33,
            13.33,
            4,
            15.5,
            33,
            10,
            26,
            26,
            2,
            9,
            -18,
            -8,
            34.75,
            25,
            14.58,
            10,
            25,
            -4,
            15,
            8,
            -2,
            22,
            24,
            20,
            -8,
            15,
            20,
            25,
            45,
            15.5
           ],
           "type": "scattergeo"
          }
         ]
        },
        {
         "data": [
          {
           "lat": [
            47.33,
            47.33,
            50.83,
            45.17,
            35,
            56,
            59,
            64,
            46,
            51,
            65,
            53,
            31.5,
            57,
            35.83,
            62,
            46,
            40,
            62,
            47,
            54,
            39,
            56,
            52,
            39.5,
            46,
            41,
            43,
            40,
            49.75,
            42
           ],
           "lon": [
            13.33,
            13.33,
            4,
            15.5,
            33,
            10,
            26,
            26,
            2,
            9,
            -18,
            -8,
            34.75,
            25,
            14.58,
            10,
            25,
            -4,
            15,
            8,
            -2,
            22,
            24,
            20,
            -8,
            15,
            20,
            25,
            45,
            15.5,
            43.5
           ],
           "type": "scattergeo"
          }
         ]
        },
        {
         "data": [
          {
           "lat": [
            47.33,
            47.33,
            50.83,
            45.17,
            35,
            56,
            59,
            64,
            46,
            51,
            65,
            53,
            31.5,
            57,
            35.83,
            62,
            46,
            40,
            62,
            47,
            54,
            39,
            56,
            52,
            39.5,
            46,
            41,
            43,
            40,
            49.75,
            42,
            42
           ],
           "lon": [
            13.33,
            13.33,
            4,
            15.5,
            33,
            10,
            26,
            26,
            2,
            9,
            -18,
            -8,
            34.75,
            25,
            14.58,
            10,
            25,
            -4,
            15,
            8,
            -2,
            22,
            24,
            20,
            -8,
            15,
            20,
            25,
            45,
            15.5,
            43.5,
            19
           ],
           "type": "scattergeo"
          }
         ]
        },
        {
         "data": [
          {
           "lat": [
            47.33,
            47.33,
            50.83,
            45.17,
            35,
            56,
            59,
            64,
            46,
            51,
            65,
            53,
            31.5,
            57,
            35.83,
            62,
            46,
            40,
            62,
            47,
            54,
            39,
            56,
            52,
            39.5,
            46,
            41,
            43,
            40,
            49.75,
            42,
            42,
            44
           ],
           "lon": [
            13.33,
            13.33,
            4,
            15.5,
            33,
            10,
            26,
            26,
            2,
            9,
            -18,
            -8,
            34.75,
            25,
            14.58,
            10,
            25,
            -4,
            15,
            8,
            -2,
            22,
            24,
            20,
            -8,
            15,
            20,
            25,
            45,
            15.5,
            43.5,
            19,
            21
           ],
           "type": "scattergeo"
          }
         ]
        },
        {
         "data": [
          {
           "lat": [
            47.33,
            47.33,
            50.83,
            45.17,
            35,
            56,
            59,
            64,
            46,
            51,
            65,
            53,
            31.5,
            57,
            35.83,
            62,
            46,
            40,
            62,
            47,
            54,
            39,
            56,
            52,
            39.5,
            46,
            41,
            43,
            40,
            49.75,
            42,
            42,
            44,
            40.5
           ],
           "lon": [
            13.33,
            13.33,
            4,
            15.5,
            33,
            10,
            26,
            26,
            2,
            9,
            -18,
            -8,
            34.75,
            25,
            14.58,
            10,
            25,
            -4,
            15,
            8,
            -2,
            22,
            24,
            20,
            -8,
            15,
            20,
            25,
            45,
            15.5,
            43.5,
            19,
            21,
            47.5
           ],
           "type": "scattergeo"
          }
         ]
        },
        {
         "data": [
          {
           "lat": [
            47.33,
            47.33,
            50.83,
            45.17,
            35,
            56,
            59,
            64,
            46,
            51,
            65,
            53,
            31.5,
            57,
            35.83,
            62,
            46,
            40,
            62,
            47,
            54,
            39,
            56,
            52,
            39.5,
            46,
            41,
            43,
            40,
            49.75,
            42,
            42,
            44,
            40.5,
            43.77
           ],
           "lon": [
            13.33,
            13.33,
            4,
            15.5,
            33,
            10,
            26,
            26,
            2,
            9,
            -18,
            -8,
            34.75,
            25,
            14.58,
            10,
            25,
            -4,
            15,
            8,
            -2,
            22,
            24,
            20,
            -8,
            15,
            20,
            25,
            45,
            15.5,
            43.5,
            19,
            21,
            47.5,
            12.42
           ],
           "type": "scattergeo"
          }
         ]
        },
        {
         "data": [
          {
           "lat": [
            47.33,
            47.33,
            50.83,
            45.17,
            35,
            56,
            59,
            64,
            46,
            51,
            65,
            53,
            31.5,
            57,
            35.83,
            62,
            46,
            40,
            62,
            47,
            54,
            39,
            56,
            52,
            39.5,
            46,
            41,
            43,
            40,
            49.75,
            42,
            42,
            44,
            40.5,
            43.77,
            42.83
           ],
           "lon": [
            13.33,
            13.33,
            4,
            15.5,
            33,
            10,
            26,
            26,
            2,
            9,
            -18,
            -8,
            34.75,
            25,
            14.58,
            10,
            25,
            -4,
            15,
            8,
            -2,
            22,
            24,
            20,
            -8,
            15,
            20,
            25,
            45,
            15.5,
            43.5,
            19,
            21,
            47.5,
            12.42,
            12.83
           ],
           "type": "scattergeo"
          }
         ]
        },
        {
         "data": [
          {
           "lat": [
            47.33,
            47.33,
            50.83,
            45.17,
            35,
            56,
            59,
            64,
            46,
            51,
            65,
            53,
            31.5,
            57,
            35.83,
            62,
            46,
            40,
            62,
            47,
            54,
            39,
            56,
            52,
            39.5,
            46,
            41,
            43,
            40,
            49.75,
            42,
            42,
            44,
            40.5,
            43.77,
            42.83,
            -27
           ],
           "lon": [
            13.33,
            13.33,
            4,
            15.5,
            33,
            10,
            26,
            26,
            2,
            9,
            -18,
            -8,
            34.75,
            25,
            14.58,
            10,
            25,
            -4,
            15,
            8,
            -2,
            22,
            24,
            20,
            -8,
            15,
            20,
            25,
            45,
            15.5,
            43.5,
            19,
            21,
            47.5,
            12.42,
            12.83,
            133
           ],
           "type": "scattergeo"
          }
         ]
        },
        {
         "data": [
          {
           "lat": [
            47.33,
            47.33,
            50.83,
            45.17,
            35,
            56,
            59,
            64,
            46,
            51,
            65,
            53,
            31.5,
            57,
            35.83,
            62,
            46,
            40,
            62,
            47,
            54,
            39,
            56,
            52,
            39.5,
            46,
            41,
            43,
            40,
            49.75,
            42,
            42,
            44,
            40.5,
            43.77,
            42.83,
            -27,
            52.5
           ],
           "lon": [
            13.33,
            13.33,
            4,
            15.5,
            33,
            10,
            26,
            26,
            2,
            9,
            -18,
            -8,
            34.75,
            25,
            14.58,
            10,
            25,
            -4,
            15,
            8,
            -2,
            22,
            24,
            20,
            -8,
            15,
            20,
            25,
            45,
            15.5,
            43.5,
            19,
            21,
            47.5,
            12.42,
            12.83,
            133,
            5.75
           ],
           "type": "scattergeo"
          }
         ]
        }
       ],
       "layout": {
        "geo": {
         "countrycolor": "rgb(204, 204, 204)",
         "fitbounds": "locations",
         "landcolor": "rgb(243, 243, 243)",
         "showland": true
        },
        "template": {
         "data": {
          "bar": [
           {
            "error_x": {
             "color": "#2a3f5f"
            },
            "error_y": {
             "color": "#2a3f5f"
            },
            "marker": {
             "line": {
              "color": "#E5ECF6",
              "width": 0.5
             },
             "pattern": {
              "fillmode": "overlay",
              "size": 10,
              "solidity": 0.2
             }
            },
            "type": "bar"
           }
          ],
          "barpolar": [
           {
            "marker": {
             "line": {
              "color": "#E5ECF6",
              "width": 0.5
             },
             "pattern": {
              "fillmode": "overlay",
              "size": 10,
              "solidity": 0.2
             }
            },
            "type": "barpolar"
           }
          ],
          "carpet": [
           {
            "aaxis": {
             "endlinecolor": "#2a3f5f",
             "gridcolor": "white",
             "linecolor": "white",
             "minorgridcolor": "white",
             "startlinecolor": "#2a3f5f"
            },
            "baxis": {
             "endlinecolor": "#2a3f5f",
             "gridcolor": "white",
             "linecolor": "white",
             "minorgridcolor": "white",
             "startlinecolor": "#2a3f5f"
            },
            "type": "carpet"
           }
          ],
          "choropleth": [
           {
            "colorbar": {
             "outlinewidth": 0,
             "ticks": ""
            },
            "type": "choropleth"
           }
          ],
          "contour": [
           {
            "colorbar": {
             "outlinewidth": 0,
             "ticks": ""
            },
            "colorscale": [
             [
              0,
              "#0d0887"
             ],
             [
              0.1111111111111111,
              "#46039f"
             ],
             [
              0.2222222222222222,
              "#7201a8"
             ],
             [
              0.3333333333333333,
              "#9c179e"
             ],
             [
              0.4444444444444444,
              "#bd3786"
             ],
             [
              0.5555555555555556,
              "#d8576b"
             ],
             [
              0.6666666666666666,
              "#ed7953"
             ],
             [
              0.7777777777777778,
              "#fb9f3a"
             ],
             [
              0.8888888888888888,
              "#fdca26"
             ],
             [
              1,
              "#f0f921"
             ]
            ],
            "type": "contour"
           }
          ],
          "contourcarpet": [
           {
            "colorbar": {
             "outlinewidth": 0,
             "ticks": ""
            },
            "type": "contourcarpet"
           }
          ],
          "heatmap": [
           {
            "colorbar": {
             "outlinewidth": 0,
             "ticks": ""
            },
            "colorscale": [
             [
              0,
              "#0d0887"
             ],
             [
              0.1111111111111111,
              "#46039f"
             ],
             [
              0.2222222222222222,
              "#7201a8"
             ],
             [
              0.3333333333333333,
              "#9c179e"
             ],
             [
              0.4444444444444444,
              "#bd3786"
             ],
             [
              0.5555555555555556,
              "#d8576b"
             ],
             [
              0.6666666666666666,
              "#ed7953"
             ],
             [
              0.7777777777777778,
              "#fb9f3a"
             ],
             [
              0.8888888888888888,
              "#fdca26"
             ],
             [
              1,
              "#f0f921"
             ]
            ],
            "type": "heatmap"
           }
          ],
          "heatmapgl": [
           {
            "colorbar": {
             "outlinewidth": 0,
             "ticks": ""
            },
            "colorscale": [
             [
              0,
              "#0d0887"
             ],
             [
              0.1111111111111111,
              "#46039f"
             ],
             [
              0.2222222222222222,
              "#7201a8"
             ],
             [
              0.3333333333333333,
              "#9c179e"
             ],
             [
              0.4444444444444444,
              "#bd3786"
             ],
             [
              0.5555555555555556,
              "#d8576b"
             ],
             [
              0.6666666666666666,
              "#ed7953"
             ],
             [
              0.7777777777777778,
              "#fb9f3a"
             ],
             [
              0.8888888888888888,
              "#fdca26"
             ],
             [
              1,
              "#f0f921"
             ]
            ],
            "type": "heatmapgl"
           }
          ],
          "histogram": [
           {
            "marker": {
             "pattern": {
              "fillmode": "overlay",
              "size": 10,
              "solidity": 0.2
             }
            },
            "type": "histogram"
           }
          ],
          "histogram2d": [
           {
            "colorbar": {
             "outlinewidth": 0,
             "ticks": ""
            },
            "colorscale": [
             [
              0,
              "#0d0887"
             ],
             [
              0.1111111111111111,
              "#46039f"
             ],
             [
              0.2222222222222222,
              "#7201a8"
             ],
             [
              0.3333333333333333,
              "#9c179e"
             ],
             [
              0.4444444444444444,
              "#bd3786"
             ],
             [
              0.5555555555555556,
              "#d8576b"
             ],
             [
              0.6666666666666666,
              "#ed7953"
             ],
             [
              0.7777777777777778,
              "#fb9f3a"
             ],
             [
              0.8888888888888888,
              "#fdca26"
             ],
             [
              1,
              "#f0f921"
             ]
            ],
            "type": "histogram2d"
           }
          ],
          "histogram2dcontour": [
           {
            "colorbar": {
             "outlinewidth": 0,
             "ticks": ""
            },
            "colorscale": [
             [
              0,
              "#0d0887"
             ],
             [
              0.1111111111111111,
              "#46039f"
             ],
             [
              0.2222222222222222,
              "#7201a8"
             ],
             [
              0.3333333333333333,
              "#9c179e"
             ],
             [
              0.4444444444444444,
              "#bd3786"
             ],
             [
              0.5555555555555556,
              "#d8576b"
             ],
             [
              0.6666666666666666,
              "#ed7953"
             ],
             [
              0.7777777777777778,
              "#fb9f3a"
             ],
             [
              0.8888888888888888,
              "#fdca26"
             ],
             [
              1,
              "#f0f921"
             ]
            ],
            "type": "histogram2dcontour"
           }
          ],
          "mesh3d": [
           {
            "colorbar": {
             "outlinewidth": 0,
             "ticks": ""
            },
            "type": "mesh3d"
           }
          ],
          "parcoords": [
           {
            "line": {
             "colorbar": {
              "outlinewidth": 0,
              "ticks": ""
             }
            },
            "type": "parcoords"
           }
          ],
          "pie": [
           {
            "automargin": true,
            "type": "pie"
           }
          ],
          "scatter": [
           {
            "fillpattern": {
             "fillmode": "overlay",
             "size": 10,
             "solidity": 0.2
            },
            "type": "scatter"
           }
          ],
          "scatter3d": [
           {
            "line": {
             "colorbar": {
              "outlinewidth": 0,
              "ticks": ""
             }
            },
            "marker": {
             "colorbar": {
              "outlinewidth": 0,
              "ticks": ""
             }
            },
            "type": "scatter3d"
           }
          ],
          "scattercarpet": [
           {
            "marker": {
             "colorbar": {
              "outlinewidth": 0,
              "ticks": ""
             }
            },
            "type": "scattercarpet"
           }
          ],
          "scattergeo": [
           {
            "marker": {
             "colorbar": {
              "outlinewidth": 0,
              "ticks": ""
             }
            },
            "type": "scattergeo"
           }
          ],
          "scattergl": [
           {
            "marker": {
             "colorbar": {
              "outlinewidth": 0,
              "ticks": ""
             }
            },
            "type": "scattergl"
           }
          ],
          "scattermapbox": [
           {
            "marker": {
             "colorbar": {
              "outlinewidth": 0,
              "ticks": ""
             }
            },
            "type": "scattermapbox"
           }
          ],
          "scatterpolar": [
           {
            "marker": {
             "colorbar": {
              "outlinewidth": 0,
              "ticks": ""
             }
            },
            "type": "scatterpolar"
           }
          ],
          "scatterpolargl": [
           {
            "marker": {
             "colorbar": {
              "outlinewidth": 0,
              "ticks": ""
             }
            },
            "type": "scatterpolargl"
           }
          ],
          "scatterternary": [
           {
            "marker": {
             "colorbar": {
              "outlinewidth": 0,
              "ticks": ""
             }
            },
            "type": "scatterternary"
           }
          ],
          "surface": [
           {
            "colorbar": {
             "outlinewidth": 0,
             "ticks": ""
            },
            "colorscale": [
             [
              0,
              "#0d0887"
             ],
             [
              0.1111111111111111,
              "#46039f"
             ],
             [
              0.2222222222222222,
              "#7201a8"
             ],
             [
              0.3333333333333333,
              "#9c179e"
             ],
             [
              0.4444444444444444,
              "#bd3786"
             ],
             [
              0.5555555555555556,
              "#d8576b"
             ],
             [
              0.6666666666666666,
              "#ed7953"
             ],
             [
              0.7777777777777778,
              "#fb9f3a"
             ],
             [
              0.8888888888888888,
              "#fdca26"
             ],
             [
              1,
              "#f0f921"
             ]
            ],
            "type": "surface"
           }
          ],
          "table": [
           {
            "cells": {
             "fill": {
              "color": "#EBF0F8"
             },
             "line": {
              "color": "white"
             }
            },
            "header": {
             "fill": {
              "color": "#C8D4E3"
             },
             "line": {
              "color": "white"
             }
            },
            "type": "table"
           }
          ]
         },
         "layout": {
          "annotationdefaults": {
           "arrowcolor": "#2a3f5f",
           "arrowhead": 0,
           "arrowwidth": 1
          },
          "autotypenumbers": "strict",
          "coloraxis": {
           "colorbar": {
            "outlinewidth": 0,
            "ticks": ""
           }
          },
          "colorscale": {
           "diverging": [
            [
             0,
             "#8e0152"
            ],
            [
             0.1,
             "#c51b7d"
            ],
            [
             0.2,
             "#de77ae"
            ],
            [
             0.3,
             "#f1b6da"
            ],
            [
             0.4,
             "#fde0ef"
            ],
            [
             0.5,
             "#f7f7f7"
            ],
            [
             0.6,
             "#e6f5d0"
            ],
            [
             0.7,
             "#b8e186"
            ],
            [
             0.8,
             "#7fbc41"
            ],
            [
             0.9,
             "#4d9221"
            ],
            [
             1,
             "#276419"
            ]
           ],
           "sequential": [
            [
             0,
             "#0d0887"
            ],
            [
             0.1111111111111111,
             "#46039f"
            ],
            [
             0.2222222222222222,
             "#7201a8"
            ],
            [
             0.3333333333333333,
             "#9c179e"
            ],
            [
             0.4444444444444444,
             "#bd3786"
            ],
            [
             0.5555555555555556,
             "#d8576b"
            ],
            [
             0.6666666666666666,
             "#ed7953"
            ],
            [
             0.7777777777777778,
             "#fb9f3a"
            ],
            [
             0.8888888888888888,
             "#fdca26"
            ],
            [
             1,
             "#f0f921"
            ]
           ],
           "sequentialminus": [
            [
             0,
             "#0d0887"
            ],
            [
             0.1111111111111111,
             "#46039f"
            ],
            [
             0.2222222222222222,
             "#7201a8"
            ],
            [
             0.3333333333333333,
             "#9c179e"
            ],
            [
             0.4444444444444444,
             "#bd3786"
            ],
            [
             0.5555555555555556,
             "#d8576b"
            ],
            [
             0.6666666666666666,
             "#ed7953"
            ],
            [
             0.7777777777777778,
             "#fb9f3a"
            ],
            [
             0.8888888888888888,
             "#fdca26"
            ],
            [
             1,
             "#f0f921"
            ]
           ]
          },
          "colorway": [
           "#636efa",
           "#EF553B",
           "#00cc96",
           "#ab63fa",
           "#FFA15A",
           "#19d3f3",
           "#FF6692",
           "#B6E880",
           "#FF97FF",
           "#FECB52"
          ],
          "font": {
           "color": "#2a3f5f"
          },
          "geo": {
           "bgcolor": "white",
           "lakecolor": "white",
           "landcolor": "#E5ECF6",
           "showlakes": true,
           "showland": true,
           "subunitcolor": "white"
          },
          "hoverlabel": {
           "align": "left"
          },
          "hovermode": "closest",
          "mapbox": {
           "style": "light"
          },
          "paper_bgcolor": "white",
          "plot_bgcolor": "#E5ECF6",
          "polar": {
           "angularaxis": {
            "gridcolor": "white",
            "linecolor": "white",
            "ticks": ""
           },
           "bgcolor": "#E5ECF6",
           "radialaxis": {
            "gridcolor": "white",
            "linecolor": "white",
            "ticks": ""
           }
          },
          "scene": {
           "xaxis": {
            "backgroundcolor": "#E5ECF6",
            "gridcolor": "white",
            "gridwidth": 2,
            "linecolor": "white",
            "showbackground": true,
            "ticks": "",
            "zerolinecolor": "white"
           },
           "yaxis": {
            "backgroundcolor": "#E5ECF6",
            "gridcolor": "white",
            "gridwidth": 2,
            "linecolor": "white",
            "showbackground": true,
            "ticks": "",
            "zerolinecolor": "white"
           },
           "zaxis": {
            "backgroundcolor": "#E5ECF6",
            "gridcolor": "white",
            "gridwidth": 2,
            "linecolor": "white",
            "showbackground": true,
            "ticks": "",
            "zerolinecolor": "white"
           }
          },
          "shapedefaults": {
           "line": {
            "color": "#2a3f5f"
           }
          },
          "ternary": {
           "aaxis": {
            "gridcolor": "white",
            "linecolor": "white",
            "ticks": ""
           },
           "baxis": {
            "gridcolor": "white",
            "linecolor": "white",
            "ticks": ""
           },
           "bgcolor": "#E5ECF6",
           "caxis": {
            "gridcolor": "white",
            "linecolor": "white",
            "ticks": ""
           }
          },
          "title": {
           "x": 0.05
          },
          "xaxis": {
           "automargin": true,
           "gridcolor": "white",
           "linecolor": "white",
           "ticks": "",
           "title": {
            "standoff": 15
           },
           "zerolinecolor": "white",
           "zerolinewidth": 2
          },
          "yaxis": {
           "automargin": true,
           "gridcolor": "white",
           "linecolor": "white",
           "ticks": "",
           "title": {
            "standoff": 15
           },
           "zerolinecolor": "white",
           "zerolinewidth": 2
          }
         }
        },
        "title": {
         "text": "Who voted for Ukraine in 2022"
        },
        "updatemenus": [
         {
          "buttons": [
           {
            "args": [
             null
            ],
            "label": "Play",
            "method": "animate"
           }
          ],
          "type": "buttons"
         }
        ]
       }
      }
     },
     "metadata": {},
     "output_type": "display_data"
    }
   ],
   "source": [
    "# ========== ANIMATE TRAVEL PATHS ==========\n",
    "# FOR ONE TEAM\n",
    "\n",
    "import numpy as np\n",
    "\n",
    "teamname = 'Ukraine'\n",
    "# travel_team_df = travel_df[travel_df.teamname == teamname]\n",
    "team_col = (full_df['weighted_avg']/10).apply(float)\n",
    "\n",
    "countries = full_df.from_country.unique().tolist()\n",
    "lon_vals = np.append(full_df['Longitude_from_country_code'].values, full_df['Longitude_to_country_code'].values[-1])\n",
    "lat_vals = np.append(full_df['Latitude_from_country_code'].values, full_df['Latitude_to_country_code'].values[-1])\n",
    "\n",
    "frames = list()\n",
    "lon_data = np.array(lon_vals[0])\n",
    "lat_data = np.array(lat_vals[0])\n",
    "\n",
    "for i in range(len(lon_vals)):\n",
    "    frames.append(\n",
    "        go.Frame(data=[go.Scattergeo(lon=lon_data, lat=lat_data)])\n",
    "    )\n",
    "    lon_data = np.append(lon_data, lon_vals[i])\n",
    "    lat_data = np.append(lat_data, lat_vals[i])\n",
    "\n",
    "fig = go.Figure(\n",
    "    data=[\n",
    "        go.Scattergeo(\n",
    "            locationmode='country names'\n",
    "            , mode=\"lines\",\n",
    "            lon=np.append(lon_vals[0], lon_vals[0]),\n",
    "            lat=np.append(lat_vals[0], lat_vals[0]),\n",
    "            line=dict(width=1, color = 'blue')\n",
    "            #, color=team_col)\n",
    "            , opacity=team_col[0],\n",
    "            hoverinfo='text',\n",
    "            text='AAA',\n",
    "            #name=countries\n",
    "        )\n",
    "    ],\n",
    "    layout=go.Layout(\n",
    "        title=\"Start Title\",\n",
    "        updatemenus=[dict(\n",
    "            type=\"buttons\",\n",
    "            buttons=[dict(label=\"Play\", method=\"animate\", args=[None])])]\n",
    "    ),\n",
    "    frames=frames\n",
    ")\n",
    "\n",
    "\n",
    "# fig.add_trace(go.Scattergeo(\n",
    "#     lon=full_df['Longitude_from_country_code']\n",
    "#     , lat=full_df['Latitude_from_country_code']\n",
    "#     , marker=dict(size=8, color='slategray')\n",
    "#     # , hoverifo='text'\n",
    "#     # , text=f'{full_df.from_country[i]} voted for {full_df.to_country[i]} averaging {full_df.weighted_avg[i]} votes'\n",
    "#     , name='Arenas'\n",
    "# ))\n",
    "\n",
    "for i in range(len(full_df)):\n",
    "    fig.add_trace(\n",
    "        go.Scattergeo(\n",
    "          #  locations=full_df['company_location'],\n",
    "            hoverinfo = 'text',\n",
    "            text = f'{full_df.from_country[i]} voted for {full_df.to_country[i]} averaging {full_df.weighted_avg[i]} votes',\n",
    "            locationmode = 'country names' ,\n",
    "            lon = [full_df['Longitude_from_country_code'][i], full_df['Longitude_to_country_code'][i]],\n",
    "            lat = [full_df['Latitude_from_country_code'][i], full_df['Latitude_to_country_code'][i]],\n",
    "            mode = 'lines',\n",
    "            line = dict(width = 1,color = 'red'),\n",
    "            opacity = float(full_df['weighted_avg'][i])/100\n",
    "        )\n",
    "    )\n",
    "\n",
    "\n",
    "fig['data'][1]['marker']['symbol'] = 'triangle-left'\n",
    "fig.update_layout(\n",
    "    title_text='Who voted for Ukraine in 2022',\n",
    "    geo=dict(\n",
    "        #scope='north america',\n",
    "       # projection_type='azimuthal equal area',\n",
    "        showland=True,\n",
    "        fitbounds=\"locations\",\n",
    "        landcolor='rgb(243, 243, 243)',\n",
    "        countrycolor='rgb(204, 204, 204)',\n",
    "    ),\n",
    ")\n",
    "fig.show()"
   ]
  },
  {
   "cell_type": "code",
   "execution_count": null,
   "metadata": {},
   "outputs": [],
   "source": [
    "# ========== ANIMATE TRAVEL PATHS ==========\n",
    "# FOR ONE TEAM\n",
    "teamname = 'DALLAS_MAVERICKS'\n",
    "travel_team_df = travel_df[travel_df.teamname == teamname]\n",
    "team_col = teamcolor_dict[teamname]\n",
    "\n",
    "lon_vals = np.append(travel_team_df['orig_lon'].values, travel_team_df['dest_lon'].values[-1])\n",
    "lat_vals = np.append(travel_team_df['orig_lat'].values, travel_team_df['dest_lat'].values[-1])\n",
    "\n",
    "frames = list()\n",
    "lon_data = np.array(lon_vals[0])\n",
    "lat_data = np.array(lat_vals[0])\n",
    "\n",
    "for i in range(len(lon_vals)):\n",
    "    frames.append(\n",
    "        go.Frame(data=[go.Scattergeo(lon=lon_data, lat=lat_data)])\n",
    "    )\n",
    "    lon_data = np.append(lon_data, lon_vals[i])\n",
    "    lat_data = np.append(lat_data, lat_vals[i])\n",
    "\n",
    "fig = go.Figure(\n",
    "    data=[\n",
    "        go.Scattergeo(\n",
    "            locationmode='USA-states', mode=\"lines\",\n",
    "            lon=np.append(lon_vals[0], lon_vals[0]),\n",
    "            lat=np.append(lat_vals[0], lat_vals[0]),\n",
    "            line=dict(width=1, color=team_col), opacity=0.1,\n",
    "            hoverinfo='none', name=teamname\n",
    "        )\n",
    "    ],\n",
    "    layout=go.Layout(\n",
    "        title=\"Start Title\",\n",
    "        updatemenus=[dict(\n",
    "            type=\"buttons\",\n",
    "            buttons=[dict(label=\"Play\", method=\"animate\", args=[None])])]\n",
    "    ),\n",
    "    frames=frames\n",
    ")\n",
    "fig.add_trace(go.Scattergeo(\n",
    "    lon=arena_df['lon'], lat=arena_df['lat'], marker=dict(size=8, color='slategray'),\n",
    "    hoverinfo='text', text=arena_df['teamname'] + ' - ' + arena_df['arena_name'], name='Arenas'\n",
    "))\n",
    "fig['data'][1]['marker']['symbol'] = 'triangle-left'\n",
    "fig.update_layout(\n",
    "    title_text='NBA Travel paths',\n",
    "    geo=dict(\n",
    "        scope='north america',\n",
    "        projection_type='azimuthal equal area',\n",
    "        showland=True,\n",
    "        fitbounds=\"locations\",\n",
    "        landcolor='rgb(243, 243, 243)',\n",
    "        countrycolor='rgb(204, 204, 204)',\n",
    "    ),\n",
    ")\n",
    "fig.show()"
   ]
  }
 ],
 "metadata": {
  "interpreter": {
   "hash": "dd7abdec0c426186ee9fdc7af8b59e5619dca46fa455c611f2bc54b1036f4006"
  },
  "kernelspec": {
   "display_name": "Python 3.10.4 ('virtual_env')",
   "language": "python",
   "name": "python3"
  },
  "language_info": {
   "codemirror_mode": {
    "name": "ipython",
    "version": 3
   },
   "file_extension": ".py",
   "mimetype": "text/x-python",
   "name": "python",
   "nbconvert_exporter": "python",
   "pygments_lexer": "ipython3",
   "version": "3.10.4"
  },
  "orig_nbformat": 4
 },
 "nbformat": 4,
 "nbformat_minor": 2
}
