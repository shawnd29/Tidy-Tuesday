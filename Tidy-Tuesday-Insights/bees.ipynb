{
 "cells": [
  {
   "cell_type": "markdown",
   "metadata": {},
   "source": [
    "2022-01-11 <br/>\n",
    "Bee Colony Losses <br/>\n",
    "https://github.com/rfordatascience/tidytuesday/blob/master/data/2022/2022-01-11/readme.md"
   ]
  },
  {
   "cell_type": "markdown",
   "metadata": {},
   "source": [
    "Animated Hexbin Plot - Completed"
   ]
  },
  {
   "cell_type": "markdown",
   "metadata": {},
   "source": [
    "https://plotly.com/python/hexbin-mapbox/"
   ]
  },
  {
   "cell_type": "code",
   "execution_count": 86,
   "metadata": {},
   "outputs": [],
   "source": [
    "import pandas as pd\n",
    "import plotly.graph_objects as go\n",
    "import plotly.express as px\n",
    "import plotly.io as pio\n",
    "pio.renderers.default='jupyterlab'\n",
    "import os"
   ]
  },
  {
   "cell_type": "code",
   "execution_count": 87,
   "metadata": {},
   "outputs": [],
   "source": [
    "df=pd.read_csv('https://raw.githubusercontent.com/rfordatascience/tidytuesday/master/data/2022/2022-01-11/colony.csv')"
   ]
  },
  {
   "cell_type": "code",
   "execution_count": 88,
   "metadata": {},
   "outputs": [
    {
     "data": {
      "text/html": [
       "<div>\n",
       "<style scoped>\n",
       "    .dataframe tbody tr th:only-of-type {\n",
       "        vertical-align: middle;\n",
       "    }\n",
       "\n",
       "    .dataframe tbody tr th {\n",
       "        vertical-align: top;\n",
       "    }\n",
       "\n",
       "    .dataframe thead th {\n",
       "        text-align: right;\n",
       "    }\n",
       "</style>\n",
       "<table border=\"1\" class=\"dataframe\">\n",
       "  <thead>\n",
       "    <tr style=\"text-align: right;\">\n",
       "      <th></th>\n",
       "      <th>year</th>\n",
       "      <th>months</th>\n",
       "      <th>state</th>\n",
       "      <th>colony_n</th>\n",
       "      <th>colony_max</th>\n",
       "      <th>colony_lost</th>\n",
       "      <th>colony_lost_pct</th>\n",
       "      <th>colony_added</th>\n",
       "      <th>colony_reno</th>\n",
       "      <th>colony_reno_pct</th>\n",
       "    </tr>\n",
       "  </thead>\n",
       "  <tbody>\n",
       "    <tr>\n",
       "      <th>0</th>\n",
       "      <td>2015</td>\n",
       "      <td>January-March</td>\n",
       "      <td>Alabama</td>\n",
       "      <td>7000.0</td>\n",
       "      <td>7000.0</td>\n",
       "      <td>1800.0</td>\n",
       "      <td>26.0</td>\n",
       "      <td>2800.0</td>\n",
       "      <td>250.0</td>\n",
       "      <td>4.0</td>\n",
       "    </tr>\n",
       "    <tr>\n",
       "      <th>1</th>\n",
       "      <td>2015</td>\n",
       "      <td>January-March</td>\n",
       "      <td>Arizona</td>\n",
       "      <td>35000.0</td>\n",
       "      <td>35000.0</td>\n",
       "      <td>4600.0</td>\n",
       "      <td>13.0</td>\n",
       "      <td>3400.0</td>\n",
       "      <td>2100.0</td>\n",
       "      <td>6.0</td>\n",
       "    </tr>\n",
       "    <tr>\n",
       "      <th>2</th>\n",
       "      <td>2015</td>\n",
       "      <td>January-March</td>\n",
       "      <td>Arkansas</td>\n",
       "      <td>13000.0</td>\n",
       "      <td>14000.0</td>\n",
       "      <td>1500.0</td>\n",
       "      <td>11.0</td>\n",
       "      <td>1200.0</td>\n",
       "      <td>90.0</td>\n",
       "      <td>1.0</td>\n",
       "    </tr>\n",
       "    <tr>\n",
       "      <th>3</th>\n",
       "      <td>2015</td>\n",
       "      <td>January-March</td>\n",
       "      <td>California</td>\n",
       "      <td>1440000.0</td>\n",
       "      <td>1690000.0</td>\n",
       "      <td>255000.0</td>\n",
       "      <td>15.0</td>\n",
       "      <td>250000.0</td>\n",
       "      <td>124000.0</td>\n",
       "      <td>7.0</td>\n",
       "    </tr>\n",
       "    <tr>\n",
       "      <th>4</th>\n",
       "      <td>2015</td>\n",
       "      <td>January-March</td>\n",
       "      <td>Colorado</td>\n",
       "      <td>3500.0</td>\n",
       "      <td>12500.0</td>\n",
       "      <td>1500.0</td>\n",
       "      <td>12.0</td>\n",
       "      <td>200.0</td>\n",
       "      <td>140.0</td>\n",
       "      <td>1.0</td>\n",
       "    </tr>\n",
       "  </tbody>\n",
       "</table>\n",
       "</div>"
      ],
      "text/plain": [
       "   year         months       state   colony_n  colony_max  colony_lost  \\\n",
       "0  2015  January-March     Alabama     7000.0      7000.0       1800.0   \n",
       "1  2015  January-March     Arizona    35000.0     35000.0       4600.0   \n",
       "2  2015  January-March    Arkansas    13000.0     14000.0       1500.0   \n",
       "3  2015  January-March  California  1440000.0   1690000.0     255000.0   \n",
       "4  2015  January-March    Colorado     3500.0     12500.0       1500.0   \n",
       "\n",
       "   colony_lost_pct  colony_added  colony_reno  colony_reno_pct  \n",
       "0             26.0        2800.0        250.0              4.0  \n",
       "1             13.0        3400.0       2100.0              6.0  \n",
       "2             11.0        1200.0         90.0              1.0  \n",
       "3             15.0      250000.0     124000.0              7.0  \n",
       "4             12.0         200.0        140.0              1.0  "
      ]
     },
     "execution_count": 88,
     "metadata": {},
     "output_type": "execute_result"
    }
   ],
   "source": [
    "df.head()"
   ]
  },
  {
   "cell_type": "code",
   "execution_count": 93,
   "metadata": {},
   "outputs": [],
   "source": [
    "df[\"cololny_net\"]= df.colony_n + df.colony_added - df.colony_lost\n",
    "df[\"colony_net_pct\"] = round((df.cololny_net - df.colony_n ) *100/ df.colony_n,1)"
   ]
  },
  {
   "cell_type": "code",
   "execution_count": 94,
   "metadata": {},
   "outputs": [
    {
     "data": {
      "text/html": [
       "<div>\n",
       "<style scoped>\n",
       "    .dataframe tbody tr th:only-of-type {\n",
       "        vertical-align: middle;\n",
       "    }\n",
       "\n",
       "    .dataframe tbody tr th {\n",
       "        vertical-align: top;\n",
       "    }\n",
       "\n",
       "    .dataframe thead th {\n",
       "        text-align: right;\n",
       "    }\n",
       "</style>\n",
       "<table border=\"1\" class=\"dataframe\">\n",
       "  <thead>\n",
       "    <tr style=\"text-align: right;\">\n",
       "      <th></th>\n",
       "      <th>name</th>\n",
       "      <th>description</th>\n",
       "      <th>latitude</th>\n",
       "      <th>longitude</th>\n",
       "    </tr>\n",
       "  </thead>\n",
       "  <tbody>\n",
       "    <tr>\n",
       "      <th>0</th>\n",
       "      <td>Alabama</td>\n",
       "      <td>Montgomery</td>\n",
       "      <td>32.377716</td>\n",
       "      <td>-86.300568</td>\n",
       "    </tr>\n",
       "    <tr>\n",
       "      <th>1</th>\n",
       "      <td>Alaska</td>\n",
       "      <td>Juneau</td>\n",
       "      <td>58.301598</td>\n",
       "      <td>-134.420212</td>\n",
       "    </tr>\n",
       "    <tr>\n",
       "      <th>2</th>\n",
       "      <td>Arizona</td>\n",
       "      <td>Phoenix</td>\n",
       "      <td>33.448143</td>\n",
       "      <td>-112.096962</td>\n",
       "    </tr>\n",
       "    <tr>\n",
       "      <th>3</th>\n",
       "      <td>Arkansas</td>\n",
       "      <td>Little Rock</td>\n",
       "      <td>34.746613</td>\n",
       "      <td>-92.288986</td>\n",
       "    </tr>\n",
       "    <tr>\n",
       "      <th>4</th>\n",
       "      <td>California</td>\n",
       "      <td>Sacramento</td>\n",
       "      <td>38.576668</td>\n",
       "      <td>-121.493629</td>\n",
       "    </tr>\n",
       "  </tbody>\n",
       "</table>\n",
       "</div>"
      ],
      "text/plain": [
       "         name  description   latitude   longitude\n",
       "0     Alabama   Montgomery  32.377716  -86.300568\n",
       "1      Alaska       Juneau  58.301598 -134.420212\n",
       "2     Arizona      Phoenix  33.448143 -112.096962\n",
       "3    Arkansas  Little Rock  34.746613  -92.288986\n",
       "4  California   Sacramento  38.576668 -121.493629"
      ]
     },
     "execution_count": 94,
     "metadata": {},
     "output_type": "execute_result"
    }
   ],
   "source": [
    "# Pulling the states coordinates \n",
    "# Special thanks to jasperdebie   : https://github.com/jasperdebie/VisInfo\n",
    "\n",
    "df_state = pd.read_csv('https://raw.githubusercontent.com/jasperdebie/VisInfo/master/us-state-capitals.csv')\n",
    "\n",
    "df_state.head()"
   ]
  },
  {
   "cell_type": "code",
   "execution_count": 95,
   "metadata": {},
   "outputs": [],
   "source": [
    "df_combined= df.merge(df_state, how='left', left_on='state',right_on='name', validate=\"many_to_one\")"
   ]
  },
  {
   "cell_type": "code",
   "execution_count": 96,
   "metadata": {},
   "outputs": [
    {
     "data": {
      "text/html": [
       "<div>\n",
       "<style scoped>\n",
       "    .dataframe tbody tr th:only-of-type {\n",
       "        vertical-align: middle;\n",
       "    }\n",
       "\n",
       "    .dataframe tbody tr th {\n",
       "        vertical-align: top;\n",
       "    }\n",
       "\n",
       "    .dataframe thead th {\n",
       "        text-align: right;\n",
       "    }\n",
       "</style>\n",
       "<table border=\"1\" class=\"dataframe\">\n",
       "  <thead>\n",
       "    <tr style=\"text-align: right;\">\n",
       "      <th></th>\n",
       "      <th>year</th>\n",
       "      <th>months</th>\n",
       "      <th>state</th>\n",
       "      <th>colony_n</th>\n",
       "      <th>colony_max</th>\n",
       "      <th>colony_lost</th>\n",
       "      <th>colony_lost_pct</th>\n",
       "      <th>colony_added</th>\n",
       "      <th>colony_reno</th>\n",
       "      <th>colony_reno_pct</th>\n",
       "      <th>cololny_net</th>\n",
       "      <th>colony_net_pct</th>\n",
       "      <th>name</th>\n",
       "      <th>description</th>\n",
       "      <th>latitude</th>\n",
       "      <th>longitude</th>\n",
       "    </tr>\n",
       "  </thead>\n",
       "  <tbody>\n",
       "    <tr>\n",
       "      <th>0</th>\n",
       "      <td>2015</td>\n",
       "      <td>January-March</td>\n",
       "      <td>Alabama</td>\n",
       "      <td>7000.0</td>\n",
       "      <td>7000.0</td>\n",
       "      <td>1800.0</td>\n",
       "      <td>26.0</td>\n",
       "      <td>2800.0</td>\n",
       "      <td>250.0</td>\n",
       "      <td>4.0</td>\n",
       "      <td>8000.0</td>\n",
       "      <td>14.3</td>\n",
       "      <td>Alabama</td>\n",
       "      <td>Montgomery</td>\n",
       "      <td>32.377716</td>\n",
       "      <td>-86.300568</td>\n",
       "    </tr>\n",
       "    <tr>\n",
       "      <th>1</th>\n",
       "      <td>2015</td>\n",
       "      <td>January-March</td>\n",
       "      <td>Arizona</td>\n",
       "      <td>35000.0</td>\n",
       "      <td>35000.0</td>\n",
       "      <td>4600.0</td>\n",
       "      <td>13.0</td>\n",
       "      <td>3400.0</td>\n",
       "      <td>2100.0</td>\n",
       "      <td>6.0</td>\n",
       "      <td>33800.0</td>\n",
       "      <td>-3.4</td>\n",
       "      <td>Arizona</td>\n",
       "      <td>Phoenix</td>\n",
       "      <td>33.448143</td>\n",
       "      <td>-112.096962</td>\n",
       "    </tr>\n",
       "    <tr>\n",
       "      <th>2</th>\n",
       "      <td>2015</td>\n",
       "      <td>January-March</td>\n",
       "      <td>Arkansas</td>\n",
       "      <td>13000.0</td>\n",
       "      <td>14000.0</td>\n",
       "      <td>1500.0</td>\n",
       "      <td>11.0</td>\n",
       "      <td>1200.0</td>\n",
       "      <td>90.0</td>\n",
       "      <td>1.0</td>\n",
       "      <td>12700.0</td>\n",
       "      <td>-2.3</td>\n",
       "      <td>Arkansas</td>\n",
       "      <td>Little Rock</td>\n",
       "      <td>34.746613</td>\n",
       "      <td>-92.288986</td>\n",
       "    </tr>\n",
       "    <tr>\n",
       "      <th>3</th>\n",
       "      <td>2015</td>\n",
       "      <td>January-March</td>\n",
       "      <td>California</td>\n",
       "      <td>1440000.0</td>\n",
       "      <td>1690000.0</td>\n",
       "      <td>255000.0</td>\n",
       "      <td>15.0</td>\n",
       "      <td>250000.0</td>\n",
       "      <td>124000.0</td>\n",
       "      <td>7.0</td>\n",
       "      <td>1435000.0</td>\n",
       "      <td>-0.3</td>\n",
       "      <td>California</td>\n",
       "      <td>Sacramento</td>\n",
       "      <td>38.576668</td>\n",
       "      <td>-121.493629</td>\n",
       "    </tr>\n",
       "    <tr>\n",
       "      <th>4</th>\n",
       "      <td>2015</td>\n",
       "      <td>January-March</td>\n",
       "      <td>Colorado</td>\n",
       "      <td>3500.0</td>\n",
       "      <td>12500.0</td>\n",
       "      <td>1500.0</td>\n",
       "      <td>12.0</td>\n",
       "      <td>200.0</td>\n",
       "      <td>140.0</td>\n",
       "      <td>1.0</td>\n",
       "      <td>2200.0</td>\n",
       "      <td>-37.1</td>\n",
       "      <td>Colorado</td>\n",
       "      <td>Denver</td>\n",
       "      <td>39.739227</td>\n",
       "      <td>-104.984856</td>\n",
       "    </tr>\n",
       "  </tbody>\n",
       "</table>\n",
       "</div>"
      ],
      "text/plain": [
       "   year         months       state   colony_n  colony_max  colony_lost  \\\n",
       "0  2015  January-March     Alabama     7000.0      7000.0       1800.0   \n",
       "1  2015  January-March     Arizona    35000.0     35000.0       4600.0   \n",
       "2  2015  January-March    Arkansas    13000.0     14000.0       1500.0   \n",
       "3  2015  January-March  California  1440000.0   1690000.0     255000.0   \n",
       "4  2015  January-March    Colorado     3500.0     12500.0       1500.0   \n",
       "\n",
       "   colony_lost_pct  colony_added  colony_reno  colony_reno_pct  cololny_net  \\\n",
       "0             26.0        2800.0        250.0              4.0       8000.0   \n",
       "1             13.0        3400.0       2100.0              6.0      33800.0   \n",
       "2             11.0        1200.0         90.0              1.0      12700.0   \n",
       "3             15.0      250000.0     124000.0              7.0    1435000.0   \n",
       "4             12.0         200.0        140.0              1.0       2200.0   \n",
       "\n",
       "   colony_net_pct        name  description   latitude   longitude  \n",
       "0            14.3     Alabama   Montgomery  32.377716  -86.300568  \n",
       "1            -3.4     Arizona      Phoenix  33.448143 -112.096962  \n",
       "2            -2.3    Arkansas  Little Rock  34.746613  -92.288986  \n",
       "3            -0.3  California   Sacramento  38.576668 -121.493629  \n",
       "4           -37.1    Colorado       Denver  39.739227 -104.984856  "
      ]
     },
     "execution_count": 96,
     "metadata": {},
     "output_type": "execute_result"
    }
   ],
   "source": [
    "df_combined.head()"
   ]
  },
  {
   "cell_type": "code",
   "execution_count": 97,
   "metadata": {},
   "outputs": [],
   "source": [
    "df_grouped = df_combined.groupby(['year','state','latitude','longitude'])[['cololny_net','colony_net_pct']].agg(['mean'])"
   ]
  },
  {
   "cell_type": "code",
   "execution_count": 98,
   "metadata": {},
   "outputs": [
    {
     "data": {
      "text/html": [
       "<div>\n",
       "<style scoped>\n",
       "    .dataframe tbody tr th:only-of-type {\n",
       "        vertical-align: middle;\n",
       "    }\n",
       "\n",
       "    .dataframe tbody tr th {\n",
       "        vertical-align: top;\n",
       "    }\n",
       "\n",
       "    .dataframe thead tr th {\n",
       "        text-align: left;\n",
       "    }\n",
       "\n",
       "    .dataframe thead tr:last-of-type th {\n",
       "        text-align: right;\n",
       "    }\n",
       "</style>\n",
       "<table border=\"1\" class=\"dataframe\">\n",
       "  <thead>\n",
       "    <tr>\n",
       "      <th></th>\n",
       "      <th></th>\n",
       "      <th></th>\n",
       "      <th></th>\n",
       "      <th>cololny_net</th>\n",
       "      <th>colony_net_pct</th>\n",
       "    </tr>\n",
       "    <tr>\n",
       "      <th></th>\n",
       "      <th></th>\n",
       "      <th></th>\n",
       "      <th></th>\n",
       "      <th>mean</th>\n",
       "      <th>mean</th>\n",
       "    </tr>\n",
       "    <tr>\n",
       "      <th>year</th>\n",
       "      <th>state</th>\n",
       "      <th>latitude</th>\n",
       "      <th>longitude</th>\n",
       "      <th></th>\n",
       "      <th></th>\n",
       "    </tr>\n",
       "  </thead>\n",
       "  <tbody>\n",
       "    <tr>\n",
       "      <th rowspan=\"5\" valign=\"top\">2015</th>\n",
       "      <th>Alabama</th>\n",
       "      <th>32.377716</th>\n",
       "      <th>-86.300568</th>\n",
       "      <td>7817.5</td>\n",
       "      <td>1.75</td>\n",
       "    </tr>\n",
       "    <tr>\n",
       "      <th>Arizona</th>\n",
       "      <th>33.448143</th>\n",
       "      <th>-112.096962</th>\n",
       "      <td>36525.0</td>\n",
       "      <td>2.45</td>\n",
       "    </tr>\n",
       "    <tr>\n",
       "      <th>Arkansas</th>\n",
       "      <th>34.746613</th>\n",
       "      <th>-92.288986</th>\n",
       "      <td>18200.0</td>\n",
       "      <td>7.40</td>\n",
       "    </tr>\n",
       "    <tr>\n",
       "      <th>California</th>\n",
       "      <th>38.576668</th>\n",
       "      <th>-121.493629</th>\n",
       "      <td>968750.0</td>\n",
       "      <td>-3.40</td>\n",
       "    </tr>\n",
       "    <tr>\n",
       "      <th>Colorado</th>\n",
       "      <th>39.739227</th>\n",
       "      <th>-104.984856</th>\n",
       "      <td>17275.0</td>\n",
       "      <td>-2.45</td>\n",
       "    </tr>\n",
       "  </tbody>\n",
       "</table>\n",
       "</div>"
      ],
      "text/plain": [
       "                                      cololny_net colony_net_pct\n",
       "                                             mean           mean\n",
       "year state      latitude  longitude                             \n",
       "2015 Alabama    32.377716 -86.300568       7817.5           1.75\n",
       "     Arizona    33.448143 -112.096962     36525.0           2.45\n",
       "     Arkansas   34.746613 -92.288986      18200.0           7.40\n",
       "     California 38.576668 -121.493629    968750.0          -3.40\n",
       "     Colorado   39.739227 -104.984856     17275.0          -2.45"
      ]
     },
     "execution_count": 98,
     "metadata": {},
     "output_type": "execute_result"
    }
   ],
   "source": [
    "df_grouped.head()"
   ]
  },
  {
   "cell_type": "code",
   "execution_count": 99,
   "metadata": {},
   "outputs": [
    {
     "name": "stderr",
     "output_type": "stream",
     "text": [
      "d:\\Users\\DComputer\\Desktop\\learning\\Streamlined EDA and ML\\project_env\\lib\\site-packages\\ipykernel_launcher.py:3: FutureWarning:\n",
      "\n",
      "Index.ravel returning ndarray is deprecated; in a future version this will return a view on self.\n",
      "\n"
     ]
    }
   ],
   "source": [
    "# rename columns \n",
    "newidx = []\n",
    "for (n1,n2) in df_grouped.columns.ravel():\n",
    "    newidx.append(\"%s_%s\" % (n1,n2))\n",
    "df_grouped.columns=newidx"
   ]
  },
  {
   "cell_type": "code",
   "execution_count": 100,
   "metadata": {},
   "outputs": [],
   "source": [
    "df_cleaned= df_grouped.reset_index()"
   ]
  },
  {
   "cell_type": "code",
   "execution_count": 101,
   "metadata": {},
   "outputs": [
    {
     "data": {
      "text/html": [
       "<div>\n",
       "<style scoped>\n",
       "    .dataframe tbody tr th:only-of-type {\n",
       "        vertical-align: middle;\n",
       "    }\n",
       "\n",
       "    .dataframe tbody tr th {\n",
       "        vertical-align: top;\n",
       "    }\n",
       "\n",
       "    .dataframe thead th {\n",
       "        text-align: right;\n",
       "    }\n",
       "</style>\n",
       "<table border=\"1\" class=\"dataframe\">\n",
       "  <thead>\n",
       "    <tr style=\"text-align: right;\">\n",
       "      <th></th>\n",
       "      <th>year</th>\n",
       "      <th>state</th>\n",
       "      <th>latitude</th>\n",
       "      <th>longitude</th>\n",
       "      <th>cololny_net_mean</th>\n",
       "      <th>colony_net_pct_mean</th>\n",
       "    </tr>\n",
       "  </thead>\n",
       "  <tbody>\n",
       "    <tr>\n",
       "      <th>0</th>\n",
       "      <td>2015</td>\n",
       "      <td>Alabama</td>\n",
       "      <td>32.377716</td>\n",
       "      <td>-86.300568</td>\n",
       "      <td>7817.5</td>\n",
       "      <td>1.75</td>\n",
       "    </tr>\n",
       "    <tr>\n",
       "      <th>1</th>\n",
       "      <td>2015</td>\n",
       "      <td>Arizona</td>\n",
       "      <td>33.448143</td>\n",
       "      <td>-112.096962</td>\n",
       "      <td>36525.0</td>\n",
       "      <td>2.45</td>\n",
       "    </tr>\n",
       "    <tr>\n",
       "      <th>2</th>\n",
       "      <td>2015</td>\n",
       "      <td>Arkansas</td>\n",
       "      <td>34.746613</td>\n",
       "      <td>-92.288986</td>\n",
       "      <td>18200.0</td>\n",
       "      <td>7.40</td>\n",
       "    </tr>\n",
       "    <tr>\n",
       "      <th>3</th>\n",
       "      <td>2015</td>\n",
       "      <td>California</td>\n",
       "      <td>38.576668</td>\n",
       "      <td>-121.493629</td>\n",
       "      <td>968750.0</td>\n",
       "      <td>-3.40</td>\n",
       "    </tr>\n",
       "    <tr>\n",
       "      <th>4</th>\n",
       "      <td>2015</td>\n",
       "      <td>Colorado</td>\n",
       "      <td>39.739227</td>\n",
       "      <td>-104.984856</td>\n",
       "      <td>17275.0</td>\n",
       "      <td>-2.45</td>\n",
       "    </tr>\n",
       "  </tbody>\n",
       "</table>\n",
       "</div>"
      ],
      "text/plain": [
       "   year       state   latitude   longitude  cololny_net_mean  \\\n",
       "0  2015     Alabama  32.377716  -86.300568            7817.5   \n",
       "1  2015     Arizona  33.448143 -112.096962           36525.0   \n",
       "2  2015    Arkansas  34.746613  -92.288986           18200.0   \n",
       "3  2015  California  38.576668 -121.493629          968750.0   \n",
       "4  2015    Colorado  39.739227 -104.984856           17275.0   \n",
       "\n",
       "   colony_net_pct_mean  \n",
       "0                 1.75  \n",
       "1                 2.45  \n",
       "2                 7.40  \n",
       "3                -3.40  \n",
       "4                -2.45  "
      ]
     },
     "execution_count": 101,
     "metadata": {},
     "output_type": "execute_result"
    }
   ],
   "source": [
    "df_cleaned.head()"
   ]
  },
  {
   "cell_type": "code",
   "execution_count": 46,
   "metadata": {},
   "outputs": [
    {
     "data": {
      "text/html": [
       "<div>\n",
       "<style scoped>\n",
       "    .dataframe tbody tr th:only-of-type {\n",
       "        vertical-align: middle;\n",
       "    }\n",
       "\n",
       "    .dataframe tbody tr th {\n",
       "        vertical-align: top;\n",
       "    }\n",
       "\n",
       "    .dataframe thead th {\n",
       "        text-align: right;\n",
       "    }\n",
       "</style>\n",
       "<table border=\"1\" class=\"dataframe\">\n",
       "  <thead>\n",
       "    <tr style=\"text-align: right;\">\n",
       "      <th></th>\n",
       "      <th>year</th>\n",
       "      <th>state</th>\n",
       "      <th>latitude</th>\n",
       "      <th>longitude</th>\n",
       "      <th>cololny_net_mean</th>\n",
       "      <th>colony_net_pct_mean</th>\n",
       "    </tr>\n",
       "  </thead>\n",
       "  <tbody>\n",
       "    <tr>\n",
       "      <th>310</th>\n",
       "      <td>2021</td>\n",
       "      <td>Virginia</td>\n",
       "      <td>37.538857</td>\n",
       "      <td>-77.433640</td>\n",
       "      <td>9235.0</td>\n",
       "      <td>82.15</td>\n",
       "    </tr>\n",
       "    <tr>\n",
       "      <th>311</th>\n",
       "      <td>2021</td>\n",
       "      <td>Washington</td>\n",
       "      <td>47.035805</td>\n",
       "      <td>-122.905014</td>\n",
       "      <td>60050.0</td>\n",
       "      <td>96.00</td>\n",
       "    </tr>\n",
       "    <tr>\n",
       "      <th>312</th>\n",
       "      <td>2021</td>\n",
       "      <td>West Virginia</td>\n",
       "      <td>38.336246</td>\n",
       "      <td>-81.612328</td>\n",
       "      <td>8615.0</td>\n",
       "      <td>87.75</td>\n",
       "    </tr>\n",
       "    <tr>\n",
       "      <th>313</th>\n",
       "      <td>2021</td>\n",
       "      <td>Wisconsin</td>\n",
       "      <td>43.074684</td>\n",
       "      <td>-89.384445</td>\n",
       "      <td>39150.0</td>\n",
       "      <td>85.40</td>\n",
       "    </tr>\n",
       "    <tr>\n",
       "      <th>314</th>\n",
       "      <td>2021</td>\n",
       "      <td>Wyoming</td>\n",
       "      <td>41.140259</td>\n",
       "      <td>-104.820236</td>\n",
       "      <td>14700.0</td>\n",
       "      <td>93.45</td>\n",
       "    </tr>\n",
       "  </tbody>\n",
       "</table>\n",
       "</div>"
      ],
      "text/plain": [
       "     year          state   latitude   longitude  cololny_net_mean  \\\n",
       "310  2021       Virginia  37.538857  -77.433640            9235.0   \n",
       "311  2021     Washington  47.035805 -122.905014           60050.0   \n",
       "312  2021  West Virginia  38.336246  -81.612328            8615.0   \n",
       "313  2021      Wisconsin  43.074684  -89.384445           39150.0   \n",
       "314  2021        Wyoming  41.140259 -104.820236           14700.0   \n",
       "\n",
       "     colony_net_pct_mean  \n",
       "310                82.15  \n",
       "311                96.00  \n",
       "312                87.75  \n",
       "313                85.40  \n",
       "314                93.45  "
      ]
     },
     "execution_count": 46,
     "metadata": {},
     "output_type": "execute_result"
    }
   ],
   "source": [
    "df_cleaned.tail()"
   ]
  },
  {
   "cell_type": "code",
   "execution_count": 109,
   "metadata": {},
   "outputs": [],
   "source": [
    "df_cleaned_pct=df_cleaned.loc[:, df_cleaned.columns != 'cololny_net_mean']"
   ]
  },
  {
   "cell_type": "code",
   "execution_count": 112,
   "metadata": {},
   "outputs": [
    {
     "data": {
      "text/plain": [
       "197.0"
      ]
     },
     "execution_count": 112,
     "metadata": {},
     "output_type": "execute_result"
    }
   ],
   "source": [
    "df_cleaned_pct.colony_net_pct_mean.max()"
   ]
  },
  {
   "cell_type": "code",
   "execution_count": 115,
   "metadata": {},
   "outputs": [
    {
     "data": {
      "text/html": [
       "<div>\n",
       "<style scoped>\n",
       "    .dataframe tbody tr th:only-of-type {\n",
       "        vertical-align: middle;\n",
       "    }\n",
       "\n",
       "    .dataframe tbody tr th {\n",
       "        vertical-align: top;\n",
       "    }\n",
       "\n",
       "    .dataframe thead th {\n",
       "        text-align: right;\n",
       "    }\n",
       "</style>\n",
       "<table border=\"1\" class=\"dataframe\">\n",
       "  <thead>\n",
       "    <tr style=\"text-align: right;\">\n",
       "      <th></th>\n",
       "      <th>year</th>\n",
       "      <th>state</th>\n",
       "      <th>latitude</th>\n",
       "      <th>longitude</th>\n",
       "      <th>cololny_net_mean</th>\n",
       "      <th>colony_net_pct_mean</th>\n",
       "    </tr>\n",
       "  </thead>\n",
       "  <tbody>\n",
       "    <tr>\n",
       "      <th>0</th>\n",
       "      <td>2015</td>\n",
       "      <td>Alabama</td>\n",
       "      <td>32.377716</td>\n",
       "      <td>-86.300568</td>\n",
       "      <td>7817.5</td>\n",
       "      <td>1.75</td>\n",
       "    </tr>\n",
       "    <tr>\n",
       "      <th>1</th>\n",
       "      <td>2015</td>\n",
       "      <td>Arizona</td>\n",
       "      <td>33.448143</td>\n",
       "      <td>-112.096962</td>\n",
       "      <td>36525.0</td>\n",
       "      <td>2.45</td>\n",
       "    </tr>\n",
       "    <tr>\n",
       "      <th>2</th>\n",
       "      <td>2015</td>\n",
       "      <td>Arkansas</td>\n",
       "      <td>34.746613</td>\n",
       "      <td>-92.288986</td>\n",
       "      <td>18200.0</td>\n",
       "      <td>7.40</td>\n",
       "    </tr>\n",
       "    <tr>\n",
       "      <th>3</th>\n",
       "      <td>2015</td>\n",
       "      <td>California</td>\n",
       "      <td>38.576668</td>\n",
       "      <td>-121.493629</td>\n",
       "      <td>968750.0</td>\n",
       "      <td>-3.40</td>\n",
       "    </tr>\n",
       "    <tr>\n",
       "      <th>4</th>\n",
       "      <td>2015</td>\n",
       "      <td>Colorado</td>\n",
       "      <td>39.739227</td>\n",
       "      <td>-104.984856</td>\n",
       "      <td>17275.0</td>\n",
       "      <td>-2.45</td>\n",
       "    </tr>\n",
       "  </tbody>\n",
       "</table>\n",
       "</div>"
      ],
      "text/plain": [
       "   year       state   latitude   longitude  cololny_net_mean  \\\n",
       "0  2015     Alabama  32.377716  -86.300568            7817.5   \n",
       "1  2015     Arizona  33.448143 -112.096962           36525.0   \n",
       "2  2015    Arkansas  34.746613  -92.288986           18200.0   \n",
       "3  2015  California  38.576668 -121.493629          968750.0   \n",
       "4  2015    Colorado  39.739227 -104.984856           17275.0   \n",
       "\n",
       "   colony_net_pct_mean  \n",
       "0                 1.75  \n",
       "1                 2.45  \n",
       "2                 7.40  \n",
       "3                -3.40  \n",
       "4                -2.45  "
      ]
     },
     "execution_count": 115,
     "metadata": {},
     "output_type": "execute_result"
    }
   ],
   "source": [
    "df_cleaned.head()"
   ]
  },
  {
   "cell_type": "code",
   "execution_count": 136,
   "metadata": {},
   "outputs": [
    {
     "data": {
      "application/vnd.plotly.v1+json": {
       "config": {
        "plotlyServerURL": "https://plot.ly"
       },
       "data": [
        {
         "coloraxis": "coloraxis",
         "customdata": [
          [
           -0.2250000000000003,
           "-2.1402466963489997,0.8341587546478444",
           2015
          ],
          [
           -2.3749999999999996,
           "-2.0377659855245183,0.8341587546478444",
           2015
          ],
          [
           2.45,
           "-1.9352852747000373,0.6566569567040691",
           2015
          ],
          [
           -0.9999999999999998,
           "-1.832804563875556,0.6566569567040691",
           2015
          ],
          [
           5.699999999999999,
           "-1.832804563875556,0.8341587546478444",
           2015
          ],
          [
           -7.55,
           "-1.7303238530510747,0.6566569567040691",
           2015
          ],
          [
           -1.725,
           "-1.7303238530510747,0.8341587546478444",
           2015
          ],
          [
           7.3999999999999995,
           "-1.6278431422265935,0.6566569567040691",
           2015
          ],
          [
           -2.937500000000001,
           "-1.6278431422265935,0.8341587546478444",
           2015
          ],
          [
           2.1749999999999994,
           "-1.5253624314021124,0.6566569567040691",
           2015
          ],
          [
           -8.575,
           "-1.5253624314021124,0.8341587546478444",
           2015
          ],
          [
           0.6666666666666666,
           "-1.4228817205776312,0.6566569567040691",
           2015
          ],
          [
           1.4000000000000004,
           "-1.32040100975315,0.8341587546478444",
           2015
          ],
          [
           -1.0250000000000001,
           "-1.2179202989286688,0.8341587546478444",
           2015
          ],
          [
           10.325,
           "-2.7038906058836463,0.39040425978840626",
           2015
          ],
          [
           -2.525,
           "-2.19148705176124,0.9229096536197319",
           2015
          ],
          [
           -3.4,
           "-2.089006340936759,0.7454078556759567",
           2015
          ],
          [
           -3.3750000000000004,
           "-1.9865256301122778,0.7454078556759567",
           2015
          ],
          [
           1.2000000000000002,
           "-1.9865256301122778,0.9229096536197319",
           2015
          ],
          [
           -2.4499999999999993,
           "-1.7815642084633154,0.7454078556759567",
           2015
          ],
          [
           -5.35,
           "-1.7815642084633154,0.9229096536197319",
           2015
          ],
          [
           4.825,
           "-1.6790834976388342,0.5679060577321815",
           2015
          ],
          [
           -5.2875,
           "-1.6790834976388342,0.7454078556759567",
           2015
          ],
          [
           1.3750000000000002,
           "-1.576602786814353,0.5679060577321815",
           2015
          ],
          [
           1.4625,
           "-1.576602786814353,0.7454078556759567",
           2015
          ],
          [
           1.5750000000000002,
           "-1.4741220759898719,0.5679060577321815",
           2015
          ],
          [
           -0.05624999999999969,
           "-1.4741220759898719,0.7454078556759567",
           2015
          ],
          [
           -0.797222222222222,
           "-1.3716413651653907,0.7454078556759567",
           2015
          ],
          [
           1.1375000000000002,
           "-1.2691606543409095,0.7454078556759567",
           2015
          ]
         ],
         "geojson": {
          "features": [
           {
            "geometry": {
             "coordinates": [
              [
               [
                -122.62710281761514,
                40.52822397207221
               ],
               [
                -119.69124671174343,
                41.804172038148316
               ],
               [
                -119.69124671174343,
                44.28123296106526
               ],
               [
                -122.62710281761514,
                45.48219741496657
               ],
               [
                -125.56295892348685,
                44.28123296106526
               ],
               [
                -125.56295892348685,
                41.804172038148316
               ],
               [
                -122.62710281761514,
                40.52822397207221
               ]
              ]
             ],
             "type": "Polygon"
            },
            "id": "-2.1402466963489997,0.8341587546478444",
            "type": "Feature"
           },
           {
            "geometry": {
             "coordinates": [
              [
               [
                -116.7553906058717,
                40.52822397207221
               ],
               [
                -113.81953449999999,
                41.804172038148316
               ],
               [
                -113.81953449999999,
                44.28123296106526
               ],
               [
                -116.7553906058717,
                45.48219741496657
               ],
               [
                -119.6912467117434,
                44.28123296106526
               ],
               [
                -119.6912467117434,
                41.804172038148316
               ],
               [
                -116.7553906058717,
                40.52822397207221
               ]
              ]
             ],
             "type": "Polygon"
            },
            "id": "-2.0377659855245183,0.8341587546478444",
            "type": "Feature"
           },
           {
            "geometry": {
             "coordinates": [
              [
               [
                -110.8836783941283,
                32.36160531685386
               ],
               [
                -107.94782228825657,
                33.781941673869895
               ],
               [
                -107.94782228825657,
                36.55266761625044
               ],
               [
                -110.8836783941283,
                37.902241180783484
               ],
               [
                -113.8195345,
                36.55266761625044
               ],
               [
                -113.8195345,
                33.781941673869895
               ],
               [
                -110.8836783941283,
                32.36160531685386
               ]
              ]
             ],
             "type": "Polygon"
            },
            "id": "-1.9352852747000373,0.6566569567040691",
            "type": "Feature"
           },
           {
            "geometry": {
             "coordinates": [
              [
               [
                -105.01196618238485,
                32.36160531685386
               ],
               [
                -102.07611007651315,
                33.781941673869895
               ],
               [
                -102.07611007651315,
                36.55266761625044
               ],
               [
                -105.01196618238485,
                37.902241180783484
               ],
               [
                -107.94782228825657,
                36.55266761625044
               ],
               [
                -107.94782228825657,
                33.781941673869895
               ],
               [
                -105.01196618238485,
                32.36160531685386
               ]
              ]
             ],
             "type": "Polygon"
            },
            "id": "-1.832804563875556,0.6566569567040691",
            "type": "Feature"
           },
           {
            "geometry": {
             "coordinates": [
              [
               [
                -105.01196618238485,
                40.52822397207221
               ],
               [
                -102.07611007651315,
                41.804172038148316
               ],
               [
                -102.07611007651315,
                44.28123296106526
               ],
               [
                -105.01196618238485,
                45.48219741496657
               ],
               [
                -107.94782228825657,
                44.28123296106526
               ],
               [
                -107.94782228825657,
                41.804172038148316
               ],
               [
                -105.01196618238485,
                40.52822397207221
               ]
              ]
             ],
             "type": "Polygon"
            },
            "id": "-1.832804563875556,0.8341587546478444",
            "type": "Feature"
           },
           {
            "geometry": {
             "coordinates": [
              [
               [
                -99.14025397064144,
                32.36160531685386
               ],
               [
                -96.20439786476972,
                33.781941673869895
               ],
               [
                -96.20439786476972,
                36.55266761625044
               ],
               [
                -99.14025397064144,
                37.902241180783484
               ],
               [
                -102.07611007651316,
                36.55266761625044
               ],
               [
                -102.07611007651316,
                33.781941673869895
               ],
               [
                -99.14025397064144,
                32.36160531685386
               ]
              ]
             ],
             "type": "Polygon"
            },
            "id": "-1.7303238530510747,0.6566569567040691",
            "type": "Feature"
           },
           {
            "geometry": {
             "coordinates": [
              [
               [
                -99.14025397064144,
                40.52822397207221
               ],
               [
                -96.20439786476972,
                41.804172038148316
               ],
               [
                -96.20439786476972,
                44.28123296106526
               ],
               [
                -99.14025397064144,
                45.48219741496657
               ],
               [
                -102.07611007651316,
                44.28123296106526
               ],
               [
                -102.07611007651316,
                41.804172038148316
               ],
               [
                -99.14025397064144,
                40.52822397207221
               ]
              ]
             ],
             "type": "Polygon"
            },
            "id": "-1.7303238530510747,0.8341587546478444",
            "type": "Feature"
           },
           {
            "geometry": {
             "coordinates": [
              [
               [
                -93.26854175889801,
                32.36160531685386
               ],
               [
                -90.3326856530263,
                33.781941673869895
               ],
               [
                -90.3326856530263,
                36.55266761625044
               ],
               [
                -93.26854175889801,
                37.902241180783484
               ],
               [
                -96.20439786476973,
                36.55266761625044
               ],
               [
                -96.20439786476973,
                33.781941673869895
               ],
               [
                -93.26854175889801,
                32.36160531685386
               ]
              ]
             ],
             "type": "Polygon"
            },
            "id": "-1.6278431422265935,0.6566569567040691",
            "type": "Feature"
           },
           {
            "geometry": {
             "coordinates": [
              [
               [
                -93.26854175889801,
                40.52822397207221
               ],
               [
                -90.3326856530263,
                41.804172038148316
               ],
               [
                -90.3326856530263,
                44.28123296106526
               ],
               [
                -93.26854175889801,
                45.48219741496657
               ],
               [
                -96.20439786476973,
                44.28123296106526
               ],
               [
                -96.20439786476973,
                41.804172038148316
               ],
               [
                -93.26854175889801,
                40.52822397207221
               ]
              ]
             ],
             "type": "Polygon"
            },
            "id": "-1.6278431422265935,0.8341587546478444",
            "type": "Feature"
           },
           {
            "geometry": {
             "coordinates": [
              [
               [
                -87.3968295471546,
                32.36160531685386
               ],
               [
                -84.46097344128287,
                33.781941673869895
               ],
               [
                -84.46097344128287,
                36.55266761625044
               ],
               [
                -87.3968295471546,
                37.902241180783484
               ],
               [
                -90.3326856530263,
                36.55266761625044
               ],
               [
                -90.3326856530263,
                33.781941673869895
               ],
               [
                -87.3968295471546,
                32.36160531685386
               ]
              ]
             ],
             "type": "Polygon"
            },
            "id": "-1.5253624314021124,0.6566569567040691",
            "type": "Feature"
           },
           {
            "geometry": {
             "coordinates": [
              [
               [
                -87.3968295471546,
                40.52822397207221
               ],
               [
                -84.46097344128287,
                41.804172038148316
               ],
               [
                -84.46097344128287,
                44.28123296106526
               ],
               [
                -87.3968295471546,
                45.48219741496657
               ],
               [
                -90.3326856530263,
                44.28123296106526
               ],
               [
                -90.3326856530263,
                41.804172038148316
               ],
               [
                -87.3968295471546,
                40.52822397207221
               ]
              ]
             ],
             "type": "Polygon"
            },
            "id": "-1.5253624314021124,0.8341587546478444",
            "type": "Feature"
           },
           {
            "geometry": {
             "coordinates": [
              [
               [
                -81.52511733541117,
                32.36160531685386
               ],
               [
                -78.58926122953945,
                33.781941673869895
               ],
               [
                -78.58926122953945,
                36.55266761625044
               ],
               [
                -81.52511733541117,
                37.902241180783484
               ],
               [
                -84.46097344128289,
                36.55266761625044
               ],
               [
                -84.46097344128289,
                33.781941673869895
               ],
               [
                -81.52511733541117,
                32.36160531685386
               ]
              ]
             ],
             "type": "Polygon"
            },
            "id": "-1.4228817205776312,0.6566569567040691",
            "type": "Feature"
           },
           {
            "geometry": {
             "coordinates": [
              [
               [
                -75.65340512366775,
                40.52822397207221
               ],
               [
                -72.71754901779602,
                41.804172038148316
               ],
               [
                -72.71754901779602,
                44.28123296106526
               ],
               [
                -75.65340512366775,
                45.48219741496657
               ],
               [
                -78.58926122953946,
                44.28123296106526
               ],
               [
                -78.58926122953946,
                41.804172038148316
               ],
               [
                -75.65340512366775,
                40.52822397207221
               ]
              ]
             ],
             "type": "Polygon"
            },
            "id": "-1.32040100975315,0.8341587546478444",
            "type": "Feature"
           },
           {
            "geometry": {
             "coordinates": [
              [
               [
                -69.78169291192432,
                40.52822397207221
               ],
               [
                -66.8458368060526,
                41.804172038148316
               ],
               [
                -66.8458368060526,
                44.28123296106526
               ],
               [
                -69.78169291192432,
                45.48219741496657
               ],
               [
                -72.71754901779605,
                44.28123296106526
               ],
               [
                -72.71754901779605,
                41.804172038148316
               ],
               [
                -69.78169291192432,
                40.52822397207221
               ]
              ]
             ],
             "type": "Polygon"
            },
            "id": "-1.2179202989286688,0.8341587546478444",
            "type": "Feature"
           },
           {
            "geometry": {
             "coordinates": [
              [
               [
                -154.92151998220396,
                18.640661146696793
               ],
               [
                -151.98566387633227,
                20.238983440575865
               ],
               [
                -151.98566387633227,
                23.38578796224509
               ],
               [
                -154.92151998220396,
                24.932277923091085
               ],
               [
                -157.85737608807568,
                23.38578796224509
               ],
               [
                -157.85737608807568,
                20.238983440575865
               ],
               [
                -154.92151998220396,
                18.640661146696793
               ]
              ]
             ],
             "type": "Polygon"
            },
            "id": "-2.7038906058836463,0.39040425978840626",
            "type": "Feature"
           },
           {
            "geometry": {
             "coordinates": [
              [
               [
                -125.56295892348685,
                44.28123296106526
               ],
               [
                -122.62710281761514,
                45.48219741496657
               ],
               [
                -122.62710281761514,
                47.808968717213496
               ],
               [
                -125.56295892348685,
                48.93489198257946
               ],
               [
                -128.49881502935855,
                47.808968717213496
               ],
               [
                -128.49881502935855,
                45.48219741496657
               ],
               [
                -125.56295892348685,
                44.28123296106526
               ]
              ]
             ],
             "type": "Polygon"
            },
            "id": "-2.19148705176124,0.9229096536197319",
            "type": "Feature"
           },
           {
            "geometry": {
             "coordinates": [
              [
               [
                -119.69124671174343,
                36.55266761625044
               ],
               [
                -116.75539060587172,
                37.902241180783484
               ],
               [
                -116.75539060587172,
                40.52822397207221
               ],
               [
                -119.69124671174343,
                41.804172038148316
               ],
               [
                -122.62710281761514,
                40.52822397207221
               ],
               [
                -122.62710281761514,
                37.902241180783484
               ],
               [
                -119.69124671174343,
                36.55266761625044
               ]
              ]
             ],
             "type": "Polygon"
            },
            "id": "-2.089006340936759,0.7454078556759567",
            "type": "Feature"
           },
           {
            "geometry": {
             "coordinates": [
              [
               [
                -113.8195345,
                36.55266761625044
               ],
               [
                -110.88367839412828,
                37.902241180783484
               ],
               [
                -110.88367839412828,
                40.52822397207221
               ],
               [
                -113.8195345,
                41.804172038148316
               ],
               [
                -116.7553906058717,
                40.52822397207221
               ],
               [
                -116.7553906058717,
                37.902241180783484
               ],
               [
                -113.8195345,
                36.55266761625044
               ]
              ]
             ],
             "type": "Polygon"
            },
            "id": "-1.9865256301122778,0.7454078556759567",
            "type": "Feature"
           },
           {
            "geometry": {
             "coordinates": [
              [
               [
                -113.8195345,
                44.28123296106526
               ],
               [
                -110.88367839412828,
                45.48219741496657
               ],
               [
                -110.88367839412828,
                47.808968717213496
               ],
               [
                -113.8195345,
                48.93489198257946
               ],
               [
                -116.7553906058717,
                47.808968717213496
               ],
               [
                -116.7553906058717,
                45.48219741496657
               ],
               [
                -113.8195345,
                44.28123296106526
               ]
              ]
             ],
             "type": "Polygon"
            },
            "id": "-1.9865256301122778,0.9229096536197319",
            "type": "Feature"
           },
           {
            "geometry": {
             "coordinates": [
              [
               [
                -102.07611007651316,
                36.55266761625044
               ],
               [
                -99.14025397064144,
                37.902241180783484
               ],
               [
                -99.14025397064144,
                40.52822397207221
               ],
               [
                -102.07611007651316,
                41.804172038148316
               ],
               [
                -105.01196618238487,
                40.52822397207221
               ],
               [
                -105.01196618238487,
                37.902241180783484
               ],
               [
                -102.07611007651316,
                36.55266761625044
               ]
              ]
             ],
             "type": "Polygon"
            },
            "id": "-1.7815642084633154,0.7454078556759567",
            "type": "Feature"
           },
           {
            "geometry": {
             "coordinates": [
              [
               [
                -102.07611007651316,
                44.28123296106526
               ],
               [
                -99.14025397064144,
                45.48219741496657
               ],
               [
                -99.14025397064144,
                47.808968717213496
               ],
               [
                -102.07611007651316,
                48.93489198257946
               ],
               [
                -105.01196618238487,
                47.808968717213496
               ],
               [
                -105.01196618238487,
                45.48219741496657
               ],
               [
                -102.07611007651316,
                44.28123296106526
               ]
              ]
             ],
             "type": "Polygon"
            },
            "id": "-1.7815642084633154,0.9229096536197319",
            "type": "Feature"
           },
           {
            "geometry": {
             "coordinates": [
              [
               [
                -96.20439786476973,
                27.96693517573591
               ],
               [
                -93.26854175889801,
                29.45350119962571
               ],
               [
                -93.26854175889801,
                32.36160531685386
               ],
               [
                -96.20439786476973,
                33.781941673869895
               ],
               [
                -99.14025397064145,
                32.36160531685386
               ],
               [
                -99.14025397064145,
                29.45350119962571
               ],
               [
                -96.20439786476973,
                27.96693517573591
               ]
              ]
             ],
             "type": "Polygon"
            },
            "id": "-1.6790834976388342,0.5679060577321815",
            "type": "Feature"
           },
           {
            "geometry": {
             "coordinates": [
              [
               [
                -96.20439786476973,
                36.55266761625044
               ],
               [
                -93.26854175889801,
                37.902241180783484
               ],
               [
                -93.26854175889801,
                40.52822397207221
               ],
               [
                -96.20439786476973,
                41.804172038148316
               ],
               [
                -99.14025397064145,
                40.52822397207221
               ],
               [
                -99.14025397064145,
                37.902241180783484
               ],
               [
                -96.20439786476973,
                36.55266761625044
               ]
              ]
             ],
             "type": "Polygon"
            },
            "id": "-1.6790834976388342,0.7454078556759567",
            "type": "Feature"
           },
           {
            "geometry": {
             "coordinates": [
              [
               [
                -90.3326856530263,
                27.96693517573591
               ],
               [
                -87.3968295471546,
                29.45350119962571
               ],
               [
                -87.3968295471546,
                32.36160531685386
               ],
               [
                -90.3326856530263,
                33.781941673869895
               ],
               [
                -93.26854175889802,
                32.36160531685386
               ],
               [
                -93.26854175889802,
                29.45350119962571
               ],
               [
                -90.3326856530263,
                27.96693517573591
               ]
              ]
             ],
             "type": "Polygon"
            },
            "id": "-1.576602786814353,0.5679060577321815",
            "type": "Feature"
           },
           {
            "geometry": {
             "coordinates": [
              [
               [
                -90.3326856530263,
                36.55266761625044
               ],
               [
                -87.3968295471546,
                37.902241180783484
               ],
               [
                -87.3968295471546,
                40.52822397207221
               ],
               [
                -90.3326856530263,
                41.804172038148316
               ],
               [
                -93.26854175889802,
                40.52822397207221
               ],
               [
                -93.26854175889802,
                37.902241180783484
               ],
               [
                -90.3326856530263,
                36.55266761625044
               ]
              ]
             ],
             "type": "Polygon"
            },
            "id": "-1.576602786814353,0.7454078556759567",
            "type": "Feature"
           },
           {
            "geometry": {
             "coordinates": [
              [
               [
                -84.46097344128289,
                27.96693517573591
               ],
               [
                -81.52511733541117,
                29.45350119962571
               ],
               [
                -81.52511733541117,
                32.36160531685386
               ],
               [
                -84.46097344128289,
                33.781941673869895
               ],
               [
                -87.39682954715461,
                32.36160531685386
               ],
               [
                -87.39682954715461,
                29.45350119962571
               ],
               [
                -84.46097344128289,
                27.96693517573591
               ]
              ]
             ],
             "type": "Polygon"
            },
            "id": "-1.4741220759898719,0.5679060577321815",
            "type": "Feature"
           },
           {
            "geometry": {
             "coordinates": [
              [
               [
                -84.46097344128289,
                36.55266761625044
               ],
               [
                -81.52511733541117,
                37.902241180783484
               ],
               [
                -81.52511733541117,
                40.52822397207221
               ],
               [
                -84.46097344128289,
                41.804172038148316
               ],
               [
                -87.39682954715461,
                40.52822397207221
               ],
               [
                -87.39682954715461,
                37.902241180783484
               ],
               [
                -84.46097344128289,
                36.55266761625044
               ]
              ]
             ],
             "type": "Polygon"
            },
            "id": "-1.4741220759898719,0.7454078556759567",
            "type": "Feature"
           },
           {
            "geometry": {
             "coordinates": [
              [
               [
                -78.58926122953946,
                36.55266761625044
               ],
               [
                -75.65340512366775,
                37.902241180783484
               ],
               [
                -75.65340512366775,
                40.52822397207221
               ],
               [
                -78.58926122953946,
                41.804172038148316
               ],
               [
                -81.52511733541118,
                40.52822397207221
               ],
               [
                -81.52511733541118,
                37.902241180783484
               ],
               [
                -78.58926122953946,
                36.55266761625044
               ]
              ]
             ],
             "type": "Polygon"
            },
            "id": "-1.3716413651653907,0.7454078556759567",
            "type": "Feature"
           },
           {
            "geometry": {
             "coordinates": [
              [
               [
                -72.71754901779605,
                36.55266761625044
               ],
               [
                -69.78169291192432,
                37.902241180783484
               ],
               [
                -69.78169291192432,
                40.52822397207221
               ],
               [
                -72.71754901779605,
                41.804172038148316
               ],
               [
                -75.65340512366775,
                40.52822397207221
               ],
               [
                -75.65340512366775,
                37.902241180783484
               ],
               [
                -72.71754901779605,
                36.55266761625044
               ]
              ]
             ],
             "type": "Polygon"
            },
            "id": "-1.2691606543409095,0.7454078556759567",
            "type": "Feature"
           }
          ],
          "type": "FeatureCollection"
         },
         "hovertemplate": "Net Growth %=%{z}<extra></extra>",
         "locations": [
          "-2.1402466963489997,0.8341587546478444",
          "-2.0377659855245183,0.8341587546478444",
          "-1.9352852747000373,0.6566569567040691",
          "-1.832804563875556,0.6566569567040691",
          "-1.832804563875556,0.8341587546478444",
          "-1.7303238530510747,0.6566569567040691",
          "-1.7303238530510747,0.8341587546478444",
          "-1.6278431422265935,0.6566569567040691",
          "-1.6278431422265935,0.8341587546478444",
          "-1.5253624314021124,0.6566569567040691",
          "-1.5253624314021124,0.8341587546478444",
          "-1.4228817205776312,0.6566569567040691",
          "-1.32040100975315,0.8341587546478444",
          "-1.2179202989286688,0.8341587546478444",
          "-2.7038906058836463,0.39040425978840626",
          "-2.19148705176124,0.9229096536197319",
          "-2.089006340936759,0.7454078556759567",
          "-1.9865256301122778,0.7454078556759567",
          "-1.9865256301122778,0.9229096536197319",
          "-1.7815642084633154,0.7454078556759567",
          "-1.7815642084633154,0.9229096536197319",
          "-1.6790834976388342,0.5679060577321815",
          "-1.6790834976388342,0.7454078556759567",
          "-1.576602786814353,0.5679060577321815",
          "-1.576602786814353,0.7454078556759567",
          "-1.4741220759898719,0.5679060577321815",
          "-1.4741220759898719,0.7454078556759567",
          "-1.3716413651653907,0.7454078556759567",
          "-1.2691606543409095,0.7454078556759567"
         ],
         "marker": {
          "opacity": 0.5
         },
         "name": "",
         "subplot": "mapbox",
         "type": "choroplethmapbox",
         "z": [
          -0.2250000000000003,
          -2.3749999999999996,
          2.45,
          -0.9999999999999998,
          5.699999999999999,
          -7.55,
          -1.725,
          7.3999999999999995,
          -2.937500000000001,
          2.1749999999999994,
          -8.575,
          0.6666666666666666,
          1.4000000000000004,
          -1.0250000000000001,
          10.325,
          -2.525,
          -3.4,
          -3.3750000000000004,
          1.2000000000000002,
          -2.4499999999999993,
          -5.35,
          4.825,
          -5.2875,
          1.3750000000000002,
          1.4625,
          1.5750000000000002,
          -0.05624999999999969,
          -0.797222222222222,
          1.1375000000000002
         ]
        },
        {
         "hoverinfo": "skip",
         "lat": [
          32.377716,
          40.220596,
          35.68224,
          42.652843,
          35.78043,
          46.82085,
          39.961346,
          35.492207,
          44.938461,
          34.000343,
          44.367031,
          36.16581,
          30.27467,
          40.777477,
          44.262436,
          37.538857,
          47.035805,
          38.336246,
          43.074684,
          41.140259,
          40.808075,
          46.585709,
          40.264378,
          32.303848,
          38.579201,
          34.746613,
          38.576668,
          39.739227,
          41.764046,
          30.438118,
          33.749027,
          21.307442,
          43.617775,
          39.798363,
          33.448143,
          44.955097,
          41.591087,
          39.048191,
          38.186722,
          30.457069,
          44.307167,
          38.978764,
          42.358162,
          42.733635,
          39.768623
         ],
         "legendgroup": "",
         "lon": [
          -86.300568,
          -74.769913,
          -105.939728,
          -73.757874,
          -78.639099,
          -100.783318,
          -82.999069,
          -97.503342,
          -123.030403,
          -81.033211,
          -100.346405,
          -86.784241,
          -97.740349,
          -111.888237,
          -72.580536,
          -77.43364,
          -122.905014,
          -81.612328,
          -89.384445,
          -104.820236,
          -96.699654,
          -112.018417,
          -76.883598,
          -90.182106,
          -92.172935,
          -92.288986,
          -121.493629,
          -104.984856,
          -72.682198,
          -84.281296,
          -84.388229,
          -157.857376,
          -116.199722,
          -89.654961,
          -112.096962,
          -93.102211,
          -93.603729,
          -95.677956,
          -84.875374,
          -91.187393,
          -69.781693,
          -76.490936,
          -71.063698,
          -84.555328,
          -86.162643
         ],
         "marker": {
          "color": "deeppink",
          "opacity": 0.6,
          "size": 4
         },
         "mode": "markers",
         "name": "",
         "showlegend": false,
         "subplot": "mapbox",
         "type": "scattermapbox"
        }
       ],
       "frames": [
        {
         "data": [
          {
           "coloraxis": "coloraxis",
           "customdata": [
            [
             -0.2250000000000003,
             "-2.1402466963489997,0.8341587546478444",
             2015
            ],
            [
             -2.3749999999999996,
             "-2.0377659855245183,0.8341587546478444",
             2015
            ],
            [
             2.45,
             "-1.9352852747000373,0.6566569567040691",
             2015
            ],
            [
             -0.9999999999999998,
             "-1.832804563875556,0.6566569567040691",
             2015
            ],
            [
             5.699999999999999,
             "-1.832804563875556,0.8341587546478444",
             2015
            ],
            [
             -7.55,
             "-1.7303238530510747,0.6566569567040691",
             2015
            ],
            [
             -1.725,
             "-1.7303238530510747,0.8341587546478444",
             2015
            ],
            [
             7.3999999999999995,
             "-1.6278431422265935,0.6566569567040691",
             2015
            ],
            [
             -2.937500000000001,
             "-1.6278431422265935,0.8341587546478444",
             2015
            ],
            [
             2.1749999999999994,
             "-1.5253624314021124,0.6566569567040691",
             2015
            ],
            [
             -8.575,
             "-1.5253624314021124,0.8341587546478444",
             2015
            ],
            [
             0.6666666666666666,
             "-1.4228817205776312,0.6566569567040691",
             2015
            ],
            [
             1.4000000000000004,
             "-1.32040100975315,0.8341587546478444",
             2015
            ],
            [
             -1.0250000000000001,
             "-1.2179202989286688,0.8341587546478444",
             2015
            ],
            [
             10.325,
             "-2.7038906058836463,0.39040425978840626",
             2015
            ],
            [
             -2.525,
             "-2.19148705176124,0.9229096536197319",
             2015
            ],
            [
             -3.4,
             "-2.089006340936759,0.7454078556759567",
             2015
            ],
            [
             -3.3750000000000004,
             "-1.9865256301122778,0.7454078556759567",
             2015
            ],
            [
             1.2000000000000002,
             "-1.9865256301122778,0.9229096536197319",
             2015
            ],
            [
             -2.4499999999999993,
             "-1.7815642084633154,0.7454078556759567",
             2015
            ],
            [
             -5.35,
             "-1.7815642084633154,0.9229096536197319",
             2015
            ],
            [
             4.825,
             "-1.6790834976388342,0.5679060577321815",
             2015
            ],
            [
             -5.2875,
             "-1.6790834976388342,0.7454078556759567",
             2015
            ],
            [
             1.3750000000000002,
             "-1.576602786814353,0.5679060577321815",
             2015
            ],
            [
             1.4625,
             "-1.576602786814353,0.7454078556759567",
             2015
            ],
            [
             1.5750000000000002,
             "-1.4741220759898719,0.5679060577321815",
             2015
            ],
            [
             -0.05624999999999969,
             "-1.4741220759898719,0.7454078556759567",
             2015
            ],
            [
             -0.797222222222222,
             "-1.3716413651653907,0.7454078556759567",
             2015
            ],
            [
             1.1375000000000002,
             "-1.2691606543409095,0.7454078556759567",
             2015
            ]
           ],
           "geojson": {
            "features": [
             {
              "geometry": {
               "coordinates": [
                [
                 [
                  -122.62710281761514,
                  40.52822397207221
                 ],
                 [
                  -119.69124671174343,
                  41.804172038148316
                 ],
                 [
                  -119.69124671174343,
                  44.28123296106526
                 ],
                 [
                  -122.62710281761514,
                  45.48219741496657
                 ],
                 [
                  -125.56295892348685,
                  44.28123296106526
                 ],
                 [
                  -125.56295892348685,
                  41.804172038148316
                 ],
                 [
                  -122.62710281761514,
                  40.52822397207221
                 ]
                ]
               ],
               "type": "Polygon"
              },
              "id": "-2.1402466963489997,0.8341587546478444",
              "type": "Feature"
             },
             {
              "geometry": {
               "coordinates": [
                [
                 [
                  -116.7553906058717,
                  40.52822397207221
                 ],
                 [
                  -113.81953449999999,
                  41.804172038148316
                 ],
                 [
                  -113.81953449999999,
                  44.28123296106526
                 ],
                 [
                  -116.7553906058717,
                  45.48219741496657
                 ],
                 [
                  -119.6912467117434,
                  44.28123296106526
                 ],
                 [
                  -119.6912467117434,
                  41.804172038148316
                 ],
                 [
                  -116.7553906058717,
                  40.52822397207221
                 ]
                ]
               ],
               "type": "Polygon"
              },
              "id": "-2.0377659855245183,0.8341587546478444",
              "type": "Feature"
             },
             {
              "geometry": {
               "coordinates": [
                [
                 [
                  -110.8836783941283,
                  32.36160531685386
                 ],
                 [
                  -107.94782228825657,
                  33.781941673869895
                 ],
                 [
                  -107.94782228825657,
                  36.55266761625044
                 ],
                 [
                  -110.8836783941283,
                  37.902241180783484
                 ],
                 [
                  -113.8195345,
                  36.55266761625044
                 ],
                 [
                  -113.8195345,
                  33.781941673869895
                 ],
                 [
                  -110.8836783941283,
                  32.36160531685386
                 ]
                ]
               ],
               "type": "Polygon"
              },
              "id": "-1.9352852747000373,0.6566569567040691",
              "type": "Feature"
             },
             {
              "geometry": {
               "coordinates": [
                [
                 [
                  -105.01196618238485,
                  32.36160531685386
                 ],
                 [
                  -102.07611007651315,
                  33.781941673869895
                 ],
                 [
                  -102.07611007651315,
                  36.55266761625044
                 ],
                 [
                  -105.01196618238485,
                  37.902241180783484
                 ],
                 [
                  -107.94782228825657,
                  36.55266761625044
                 ],
                 [
                  -107.94782228825657,
                  33.781941673869895
                 ],
                 [
                  -105.01196618238485,
                  32.36160531685386
                 ]
                ]
               ],
               "type": "Polygon"
              },
              "id": "-1.832804563875556,0.6566569567040691",
              "type": "Feature"
             },
             {
              "geometry": {
               "coordinates": [
                [
                 [
                  -105.01196618238485,
                  40.52822397207221
                 ],
                 [
                  -102.07611007651315,
                  41.804172038148316
                 ],
                 [
                  -102.07611007651315,
                  44.28123296106526
                 ],
                 [
                  -105.01196618238485,
                  45.48219741496657
                 ],
                 [
                  -107.94782228825657,
                  44.28123296106526
                 ],
                 [
                  -107.94782228825657,
                  41.804172038148316
                 ],
                 [
                  -105.01196618238485,
                  40.52822397207221
                 ]
                ]
               ],
               "type": "Polygon"
              },
              "id": "-1.832804563875556,0.8341587546478444",
              "type": "Feature"
             },
             {
              "geometry": {
               "coordinates": [
                [
                 [
                  -99.14025397064144,
                  32.36160531685386
                 ],
                 [
                  -96.20439786476972,
                  33.781941673869895
                 ],
                 [
                  -96.20439786476972,
                  36.55266761625044
                 ],
                 [
                  -99.14025397064144,
                  37.902241180783484
                 ],
                 [
                  -102.07611007651316,
                  36.55266761625044
                 ],
                 [
                  -102.07611007651316,
                  33.781941673869895
                 ],
                 [
                  -99.14025397064144,
                  32.36160531685386
                 ]
                ]
               ],
               "type": "Polygon"
              },
              "id": "-1.7303238530510747,0.6566569567040691",
              "type": "Feature"
             },
             {
              "geometry": {
               "coordinates": [
                [
                 [
                  -99.14025397064144,
                  40.52822397207221
                 ],
                 [
                  -96.20439786476972,
                  41.804172038148316
                 ],
                 [
                  -96.20439786476972,
                  44.28123296106526
                 ],
                 [
                  -99.14025397064144,
                  45.48219741496657
                 ],
                 [
                  -102.07611007651316,
                  44.28123296106526
                 ],
                 [
                  -102.07611007651316,
                  41.804172038148316
                 ],
                 [
                  -99.14025397064144,
                  40.52822397207221
                 ]
                ]
               ],
               "type": "Polygon"
              },
              "id": "-1.7303238530510747,0.8341587546478444",
              "type": "Feature"
             },
             {
              "geometry": {
               "coordinates": [
                [
                 [
                  -93.26854175889801,
                  32.36160531685386
                 ],
                 [
                  -90.3326856530263,
                  33.781941673869895
                 ],
                 [
                  -90.3326856530263,
                  36.55266761625044
                 ],
                 [
                  -93.26854175889801,
                  37.902241180783484
                 ],
                 [
                  -96.20439786476973,
                  36.55266761625044
                 ],
                 [
                  -96.20439786476973,
                  33.781941673869895
                 ],
                 [
                  -93.26854175889801,
                  32.36160531685386
                 ]
                ]
               ],
               "type": "Polygon"
              },
              "id": "-1.6278431422265935,0.6566569567040691",
              "type": "Feature"
             },
             {
              "geometry": {
               "coordinates": [
                [
                 [
                  -93.26854175889801,
                  40.52822397207221
                 ],
                 [
                  -90.3326856530263,
                  41.804172038148316
                 ],
                 [
                  -90.3326856530263,
                  44.28123296106526
                 ],
                 [
                  -93.26854175889801,
                  45.48219741496657
                 ],
                 [
                  -96.20439786476973,
                  44.28123296106526
                 ],
                 [
                  -96.20439786476973,
                  41.804172038148316
                 ],
                 [
                  -93.26854175889801,
                  40.52822397207221
                 ]
                ]
               ],
               "type": "Polygon"
              },
              "id": "-1.6278431422265935,0.8341587546478444",
              "type": "Feature"
             },
             {
              "geometry": {
               "coordinates": [
                [
                 [
                  -87.3968295471546,
                  32.36160531685386
                 ],
                 [
                  -84.46097344128287,
                  33.781941673869895
                 ],
                 [
                  -84.46097344128287,
                  36.55266761625044
                 ],
                 [
                  -87.3968295471546,
                  37.902241180783484
                 ],
                 [
                  -90.3326856530263,
                  36.55266761625044
                 ],
                 [
                  -90.3326856530263,
                  33.781941673869895
                 ],
                 [
                  -87.3968295471546,
                  32.36160531685386
                 ]
                ]
               ],
               "type": "Polygon"
              },
              "id": "-1.5253624314021124,0.6566569567040691",
              "type": "Feature"
             },
             {
              "geometry": {
               "coordinates": [
                [
                 [
                  -87.3968295471546,
                  40.52822397207221
                 ],
                 [
                  -84.46097344128287,
                  41.804172038148316
                 ],
                 [
                  -84.46097344128287,
                  44.28123296106526
                 ],
                 [
                  -87.3968295471546,
                  45.48219741496657
                 ],
                 [
                  -90.3326856530263,
                  44.28123296106526
                 ],
                 [
                  -90.3326856530263,
                  41.804172038148316
                 ],
                 [
                  -87.3968295471546,
                  40.52822397207221
                 ]
                ]
               ],
               "type": "Polygon"
              },
              "id": "-1.5253624314021124,0.8341587546478444",
              "type": "Feature"
             },
             {
              "geometry": {
               "coordinates": [
                [
                 [
                  -81.52511733541117,
                  32.36160531685386
                 ],
                 [
                  -78.58926122953945,
                  33.781941673869895
                 ],
                 [
                  -78.58926122953945,
                  36.55266761625044
                 ],
                 [
                  -81.52511733541117,
                  37.902241180783484
                 ],
                 [
                  -84.46097344128289,
                  36.55266761625044
                 ],
                 [
                  -84.46097344128289,
                  33.781941673869895
                 ],
                 [
                  -81.52511733541117,
                  32.36160531685386
                 ]
                ]
               ],
               "type": "Polygon"
              },
              "id": "-1.4228817205776312,0.6566569567040691",
              "type": "Feature"
             },
             {
              "geometry": {
               "coordinates": [
                [
                 [
                  -75.65340512366775,
                  40.52822397207221
                 ],
                 [
                  -72.71754901779602,
                  41.804172038148316
                 ],
                 [
                  -72.71754901779602,
                  44.28123296106526
                 ],
                 [
                  -75.65340512366775,
                  45.48219741496657
                 ],
                 [
                  -78.58926122953946,
                  44.28123296106526
                 ],
                 [
                  -78.58926122953946,
                  41.804172038148316
                 ],
                 [
                  -75.65340512366775,
                  40.52822397207221
                 ]
                ]
               ],
               "type": "Polygon"
              },
              "id": "-1.32040100975315,0.8341587546478444",
              "type": "Feature"
             },
             {
              "geometry": {
               "coordinates": [
                [
                 [
                  -69.78169291192432,
                  40.52822397207221
                 ],
                 [
                  -66.8458368060526,
                  41.804172038148316
                 ],
                 [
                  -66.8458368060526,
                  44.28123296106526
                 ],
                 [
                  -69.78169291192432,
                  45.48219741496657
                 ],
                 [
                  -72.71754901779605,
                  44.28123296106526
                 ],
                 [
                  -72.71754901779605,
                  41.804172038148316
                 ],
                 [
                  -69.78169291192432,
                  40.52822397207221
                 ]
                ]
               ],
               "type": "Polygon"
              },
              "id": "-1.2179202989286688,0.8341587546478444",
              "type": "Feature"
             },
             {
              "geometry": {
               "coordinates": [
                [
                 [
                  -154.92151998220396,
                  18.640661146696793
                 ],
                 [
                  -151.98566387633227,
                  20.238983440575865
                 ],
                 [
                  -151.98566387633227,
                  23.38578796224509
                 ],
                 [
                  -154.92151998220396,
                  24.932277923091085
                 ],
                 [
                  -157.85737608807568,
                  23.38578796224509
                 ],
                 [
                  -157.85737608807568,
                  20.238983440575865
                 ],
                 [
                  -154.92151998220396,
                  18.640661146696793
                 ]
                ]
               ],
               "type": "Polygon"
              },
              "id": "-2.7038906058836463,0.39040425978840626",
              "type": "Feature"
             },
             {
              "geometry": {
               "coordinates": [
                [
                 [
                  -125.56295892348685,
                  44.28123296106526
                 ],
                 [
                  -122.62710281761514,
                  45.48219741496657
                 ],
                 [
                  -122.62710281761514,
                  47.808968717213496
                 ],
                 [
                  -125.56295892348685,
                  48.93489198257946
                 ],
                 [
                  -128.49881502935855,
                  47.808968717213496
                 ],
                 [
                  -128.49881502935855,
                  45.48219741496657
                 ],
                 [
                  -125.56295892348685,
                  44.28123296106526
                 ]
                ]
               ],
               "type": "Polygon"
              },
              "id": "-2.19148705176124,0.9229096536197319",
              "type": "Feature"
             },
             {
              "geometry": {
               "coordinates": [
                [
                 [
                  -119.69124671174343,
                  36.55266761625044
                 ],
                 [
                  -116.75539060587172,
                  37.902241180783484
                 ],
                 [
                  -116.75539060587172,
                  40.52822397207221
                 ],
                 [
                  -119.69124671174343,
                  41.804172038148316
                 ],
                 [
                  -122.62710281761514,
                  40.52822397207221
                 ],
                 [
                  -122.62710281761514,
                  37.902241180783484
                 ],
                 [
                  -119.69124671174343,
                  36.55266761625044
                 ]
                ]
               ],
               "type": "Polygon"
              },
              "id": "-2.089006340936759,0.7454078556759567",
              "type": "Feature"
             },
             {
              "geometry": {
               "coordinates": [
                [
                 [
                  -113.8195345,
                  36.55266761625044
                 ],
                 [
                  -110.88367839412828,
                  37.902241180783484
                 ],
                 [
                  -110.88367839412828,
                  40.52822397207221
                 ],
                 [
                  -113.8195345,
                  41.804172038148316
                 ],
                 [
                  -116.7553906058717,
                  40.52822397207221
                 ],
                 [
                  -116.7553906058717,
                  37.902241180783484
                 ],
                 [
                  -113.8195345,
                  36.55266761625044
                 ]
                ]
               ],
               "type": "Polygon"
              },
              "id": "-1.9865256301122778,0.7454078556759567",
              "type": "Feature"
             },
             {
              "geometry": {
               "coordinates": [
                [
                 [
                  -113.8195345,
                  44.28123296106526
                 ],
                 [
                  -110.88367839412828,
                  45.48219741496657
                 ],
                 [
                  -110.88367839412828,
                  47.808968717213496
                 ],
                 [
                  -113.8195345,
                  48.93489198257946
                 ],
                 [
                  -116.7553906058717,
                  47.808968717213496
                 ],
                 [
                  -116.7553906058717,
                  45.48219741496657
                 ],
                 [
                  -113.8195345,
                  44.28123296106526
                 ]
                ]
               ],
               "type": "Polygon"
              },
              "id": "-1.9865256301122778,0.9229096536197319",
              "type": "Feature"
             },
             {
              "geometry": {
               "coordinates": [
                [
                 [
                  -102.07611007651316,
                  36.55266761625044
                 ],
                 [
                  -99.14025397064144,
                  37.902241180783484
                 ],
                 [
                  -99.14025397064144,
                  40.52822397207221
                 ],
                 [
                  -102.07611007651316,
                  41.804172038148316
                 ],
                 [
                  -105.01196618238487,
                  40.52822397207221
                 ],
                 [
                  -105.01196618238487,
                  37.902241180783484
                 ],
                 [
                  -102.07611007651316,
                  36.55266761625044
                 ]
                ]
               ],
               "type": "Polygon"
              },
              "id": "-1.7815642084633154,0.7454078556759567",
              "type": "Feature"
             },
             {
              "geometry": {
               "coordinates": [
                [
                 [
                  -102.07611007651316,
                  44.28123296106526
                 ],
                 [
                  -99.14025397064144,
                  45.48219741496657
                 ],
                 [
                  -99.14025397064144,
                  47.808968717213496
                 ],
                 [
                  -102.07611007651316,
                  48.93489198257946
                 ],
                 [
                  -105.01196618238487,
                  47.808968717213496
                 ],
                 [
                  -105.01196618238487,
                  45.48219741496657
                 ],
                 [
                  -102.07611007651316,
                  44.28123296106526
                 ]
                ]
               ],
               "type": "Polygon"
              },
              "id": "-1.7815642084633154,0.9229096536197319",
              "type": "Feature"
             },
             {
              "geometry": {
               "coordinates": [
                [
                 [
                  -96.20439786476973,
                  27.96693517573591
                 ],
                 [
                  -93.26854175889801,
                  29.45350119962571
                 ],
                 [
                  -93.26854175889801,
                  32.36160531685386
                 ],
                 [
                  -96.20439786476973,
                  33.781941673869895
                 ],
                 [
                  -99.14025397064145,
                  32.36160531685386
                 ],
                 [
                  -99.14025397064145,
                  29.45350119962571
                 ],
                 [
                  -96.20439786476973,
                  27.96693517573591
                 ]
                ]
               ],
               "type": "Polygon"
              },
              "id": "-1.6790834976388342,0.5679060577321815",
              "type": "Feature"
             },
             {
              "geometry": {
               "coordinates": [
                [
                 [
                  -96.20439786476973,
                  36.55266761625044
                 ],
                 [
                  -93.26854175889801,
                  37.902241180783484
                 ],
                 [
                  -93.26854175889801,
                  40.52822397207221
                 ],
                 [
                  -96.20439786476973,
                  41.804172038148316
                 ],
                 [
                  -99.14025397064145,
                  40.52822397207221
                 ],
                 [
                  -99.14025397064145,
                  37.902241180783484
                 ],
                 [
                  -96.20439786476973,
                  36.55266761625044
                 ]
                ]
               ],
               "type": "Polygon"
              },
              "id": "-1.6790834976388342,0.7454078556759567",
              "type": "Feature"
             },
             {
              "geometry": {
               "coordinates": [
                [
                 [
                  -90.3326856530263,
                  27.96693517573591
                 ],
                 [
                  -87.3968295471546,
                  29.45350119962571
                 ],
                 [
                  -87.3968295471546,
                  32.36160531685386
                 ],
                 [
                  -90.3326856530263,
                  33.781941673869895
                 ],
                 [
                  -93.26854175889802,
                  32.36160531685386
                 ],
                 [
                  -93.26854175889802,
                  29.45350119962571
                 ],
                 [
                  -90.3326856530263,
                  27.96693517573591
                 ]
                ]
               ],
               "type": "Polygon"
              },
              "id": "-1.576602786814353,0.5679060577321815",
              "type": "Feature"
             },
             {
              "geometry": {
               "coordinates": [
                [
                 [
                  -90.3326856530263,
                  36.55266761625044
                 ],
                 [
                  -87.3968295471546,
                  37.902241180783484
                 ],
                 [
                  -87.3968295471546,
                  40.52822397207221
                 ],
                 [
                  -90.3326856530263,
                  41.804172038148316
                 ],
                 [
                  -93.26854175889802,
                  40.52822397207221
                 ],
                 [
                  -93.26854175889802,
                  37.902241180783484
                 ],
                 [
                  -90.3326856530263,
                  36.55266761625044
                 ]
                ]
               ],
               "type": "Polygon"
              },
              "id": "-1.576602786814353,0.7454078556759567",
              "type": "Feature"
             },
             {
              "geometry": {
               "coordinates": [
                [
                 [
                  -84.46097344128289,
                  27.96693517573591
                 ],
                 [
                  -81.52511733541117,
                  29.45350119962571
                 ],
                 [
                  -81.52511733541117,
                  32.36160531685386
                 ],
                 [
                  -84.46097344128289,
                  33.781941673869895
                 ],
                 [
                  -87.39682954715461,
                  32.36160531685386
                 ],
                 [
                  -87.39682954715461,
                  29.45350119962571
                 ],
                 [
                  -84.46097344128289,
                  27.96693517573591
                 ]
                ]
               ],
               "type": "Polygon"
              },
              "id": "-1.4741220759898719,0.5679060577321815",
              "type": "Feature"
             },
             {
              "geometry": {
               "coordinates": [
                [
                 [
                  -84.46097344128289,
                  36.55266761625044
                 ],
                 [
                  -81.52511733541117,
                  37.902241180783484
                 ],
                 [
                  -81.52511733541117,
                  40.52822397207221
                 ],
                 [
                  -84.46097344128289,
                  41.804172038148316
                 ],
                 [
                  -87.39682954715461,
                  40.52822397207221
                 ],
                 [
                  -87.39682954715461,
                  37.902241180783484
                 ],
                 [
                  -84.46097344128289,
                  36.55266761625044
                 ]
                ]
               ],
               "type": "Polygon"
              },
              "id": "-1.4741220759898719,0.7454078556759567",
              "type": "Feature"
             },
             {
              "geometry": {
               "coordinates": [
                [
                 [
                  -78.58926122953946,
                  36.55266761625044
                 ],
                 [
                  -75.65340512366775,
                  37.902241180783484
                 ],
                 [
                  -75.65340512366775,
                  40.52822397207221
                 ],
                 [
                  -78.58926122953946,
                  41.804172038148316
                 ],
                 [
                  -81.52511733541118,
                  40.52822397207221
                 ],
                 [
                  -81.52511733541118,
                  37.902241180783484
                 ],
                 [
                  -78.58926122953946,
                  36.55266761625044
                 ]
                ]
               ],
               "type": "Polygon"
              },
              "id": "-1.3716413651653907,0.7454078556759567",
              "type": "Feature"
             },
             {
              "geometry": {
               "coordinates": [
                [
                 [
                  -72.71754901779605,
                  36.55266761625044
                 ],
                 [
                  -69.78169291192432,
                  37.902241180783484
                 ],
                 [
                  -69.78169291192432,
                  40.52822397207221
                 ],
                 [
                  -72.71754901779605,
                  41.804172038148316
                 ],
                 [
                  -75.65340512366775,
                  40.52822397207221
                 ],
                 [
                  -75.65340512366775,
                  37.902241180783484
                 ],
                 [
                  -72.71754901779605,
                  36.55266761625044
                 ]
                ]
               ],
               "type": "Polygon"
              },
              "id": "-1.2691606543409095,0.7454078556759567",
              "type": "Feature"
             }
            ],
            "type": "FeatureCollection"
           },
           "hovertemplate": "Net Growth %=%{z}<extra></extra>",
           "locations": [
            "-2.1402466963489997,0.8341587546478444",
            "-2.0377659855245183,0.8341587546478444",
            "-1.9352852747000373,0.6566569567040691",
            "-1.832804563875556,0.6566569567040691",
            "-1.832804563875556,0.8341587546478444",
            "-1.7303238530510747,0.6566569567040691",
            "-1.7303238530510747,0.8341587546478444",
            "-1.6278431422265935,0.6566569567040691",
            "-1.6278431422265935,0.8341587546478444",
            "-1.5253624314021124,0.6566569567040691",
            "-1.5253624314021124,0.8341587546478444",
            "-1.4228817205776312,0.6566569567040691",
            "-1.32040100975315,0.8341587546478444",
            "-1.2179202989286688,0.8341587546478444",
            "-2.7038906058836463,0.39040425978840626",
            "-2.19148705176124,0.9229096536197319",
            "-2.089006340936759,0.7454078556759567",
            "-1.9865256301122778,0.7454078556759567",
            "-1.9865256301122778,0.9229096536197319",
            "-1.7815642084633154,0.7454078556759567",
            "-1.7815642084633154,0.9229096536197319",
            "-1.6790834976388342,0.5679060577321815",
            "-1.6790834976388342,0.7454078556759567",
            "-1.576602786814353,0.5679060577321815",
            "-1.576602786814353,0.7454078556759567",
            "-1.4741220759898719,0.5679060577321815",
            "-1.4741220759898719,0.7454078556759567",
            "-1.3716413651653907,0.7454078556759567",
            "-1.2691606543409095,0.7454078556759567"
           ],
           "marker": {
            "opacity": 0.5
           },
           "name": "",
           "subplot": "mapbox",
           "type": "choroplethmapbox",
           "z": [
            -0.2250000000000003,
            -2.3749999999999996,
            2.45,
            -0.9999999999999998,
            5.699999999999999,
            -7.55,
            -1.725,
            7.3999999999999995,
            -2.937500000000001,
            2.1749999999999994,
            -8.575,
            0.6666666666666666,
            1.4000000000000004,
            -1.0250000000000001,
            10.325,
            -2.525,
            -3.4,
            -3.3750000000000004,
            1.2000000000000002,
            -2.4499999999999993,
            -5.35,
            4.825,
            -5.2875,
            1.3750000000000002,
            1.4625,
            1.5750000000000002,
            -0.05624999999999969,
            -0.797222222222222,
            1.1375000000000002
           ]
          },
          {
           "hoverinfo": "skip",
           "lat": [
            32.377716,
            40.220596,
            35.68224,
            42.652843,
            35.78043,
            46.82085,
            39.961346,
            35.492207,
            44.938461,
            34.000343,
            44.367031,
            36.16581,
            30.27467,
            40.777477,
            44.262436,
            37.538857,
            47.035805,
            38.336246,
            43.074684,
            41.140259,
            40.808075,
            46.585709,
            40.264378,
            32.303848,
            38.579201,
            34.746613,
            38.576668,
            39.739227,
            41.764046,
            30.438118,
            33.749027,
            21.307442,
            43.617775,
            39.798363,
            33.448143,
            44.955097,
            41.591087,
            39.048191,
            38.186722,
            30.457069,
            44.307167,
            38.978764,
            42.358162,
            42.733635,
            39.768623
           ],
           "legendgroup": "",
           "lon": [
            -86.300568,
            -74.769913,
            -105.939728,
            -73.757874,
            -78.639099,
            -100.783318,
            -82.999069,
            -97.503342,
            -123.030403,
            -81.033211,
            -100.346405,
            -86.784241,
            -97.740349,
            -111.888237,
            -72.580536,
            -77.43364,
            -122.905014,
            -81.612328,
            -89.384445,
            -104.820236,
            -96.699654,
            -112.018417,
            -76.883598,
            -90.182106,
            -92.172935,
            -92.288986,
            -121.493629,
            -104.984856,
            -72.682198,
            -84.281296,
            -84.388229,
            -157.857376,
            -116.199722,
            -89.654961,
            -112.096962,
            -93.102211,
            -93.603729,
            -95.677956,
            -84.875374,
            -91.187393,
            -69.781693,
            -76.490936,
            -71.063698,
            -84.555328,
            -86.162643
           ],
           "marker": {
            "color": "deeppink",
            "opacity": 0.6,
            "size": 4
           },
           "mode": "markers",
           "name": "",
           "showlegend": false,
           "subplot": "mapbox",
           "type": "scattermapbox"
          }
         ],
         "name": "2015"
        },
        {
         "data": [
          {
           "coloraxis": "coloraxis",
           "customdata": [
            [
             13.075,
             "-2.1402466963489997,0.8341587546478444",
             2018
            ],
            [
             0.8750000000000002,
             "-2.0377659855245183,0.8341587546478444",
             2018
            ],
            [
             0.9249999999999989,
             "-1.9352852747000373,0.6566569567040691",
             2018
            ],
            [
             -7.65,
             "-1.832804563875556,0.6566569567040691",
             2018
            ],
            [
             -1.7000000000000004,
             "-1.832804563875556,0.8341587546478444",
             2018
            ],
            [
             -24.1,
             "-1.7303238530510747,0.6566569567040691",
             2018
            ],
            [
             15.800000000000002,
             "-1.7303238530510747,0.8341587546478444",
             2018
            ],
            [
             14.625000000000002,
             "-1.6278431422265935,0.6566569567040691",
             2018
            ],
            [
             6.25,
             "-1.6278431422265935,0.8341587546478444",
             2018
            ],
            [
             -6.6,
             "-1.5253624314021124,0.6566569567040691",
             2018
            ],
            [
             3.9625000000000004,
             "-1.5253624314021124,0.8341587546478444",
             2018
            ],
            [
             0.07500000000000002,
             "-1.4228817205776312,0.6566569567040691",
             2018
            ],
            [
             0.9750000000000001,
             "-1.32040100975315,0.8341587546478444",
             2018
            ],
            [
             -3.841666666666667,
             "-1.2179202989286688,0.8341587546478444",
             2018
            ],
            [
             0.3999999999999999,
             "-2.7038906058836463,0.39040425978840626",
             2018
            ],
            [
             3.575,
             "-2.19148705176124,0.9229096536197319",
             2018
            ],
            [
             -1.625,
             "-2.089006340936759,0.7454078556759567",
             2018
            ],
            [
             8.05,
             "-1.9865256301122778,0.7454078556759567",
             2018
            ],
            [
             7.85,
             "-1.9865256301122778,0.9229096536197319",
             2018
            ],
            [
             -0.9999999999999996,
             "-1.7815642084633154,0.7454078556759567",
             2018
            ],
            [
             3.15,
             "-1.7815642084633154,0.9229096536197319",
             2018
            ],
            [
             16.05,
             "-1.6790834976388342,0.5679060577321815",
             2018
            ],
            [
             3.0374999999999996,
             "-1.6790834976388342,0.7454078556759567",
             2018
            ],
            [
             14.3,
             "-1.576602786814353,0.5679060577321815",
             2018
            ],
            [
             2.075,
             "-1.576602786814353,0.7454078556759567",
             2018
            ],
            [
             3.5,
             "-1.4741220759898719,0.5679060577321815",
             2018
            ],
            [
             -3.9812499999999997,
             "-1.4741220759898719,0.7454078556759567",
             2018
            ],
            [
             5.144444444444445,
             "-1.3716413651653907,0.7454078556759567",
             2018
            ],
            [
             1.7041666666666668,
             "-1.2691606543409095,0.7454078556759567",
             2018
            ]
           ],
           "geojson": {
            "features": [
             {
              "geometry": {
               "coordinates": [
                [
                 [
                  -122.62710281761514,
                  40.52822397207221
                 ],
                 [
                  -119.69124671174343,
                  41.804172038148316
                 ],
                 [
                  -119.69124671174343,
                  44.28123296106526
                 ],
                 [
                  -122.62710281761514,
                  45.48219741496657
                 ],
                 [
                  -125.56295892348685,
                  44.28123296106526
                 ],
                 [
                  -125.56295892348685,
                  41.804172038148316
                 ],
                 [
                  -122.62710281761514,
                  40.52822397207221
                 ]
                ]
               ],
               "type": "Polygon"
              },
              "id": "-2.1402466963489997,0.8341587546478444",
              "type": "Feature"
             },
             {
              "geometry": {
               "coordinates": [
                [
                 [
                  -116.7553906058717,
                  40.52822397207221
                 ],
                 [
                  -113.81953449999999,
                  41.804172038148316
                 ],
                 [
                  -113.81953449999999,
                  44.28123296106526
                 ],
                 [
                  -116.7553906058717,
                  45.48219741496657
                 ],
                 [
                  -119.6912467117434,
                  44.28123296106526
                 ],
                 [
                  -119.6912467117434,
                  41.804172038148316
                 ],
                 [
                  -116.7553906058717,
                  40.52822397207221
                 ]
                ]
               ],
               "type": "Polygon"
              },
              "id": "-2.0377659855245183,0.8341587546478444",
              "type": "Feature"
             },
             {
              "geometry": {
               "coordinates": [
                [
                 [
                  -110.8836783941283,
                  32.36160531685386
                 ],
                 [
                  -107.94782228825657,
                  33.781941673869895
                 ],
                 [
                  -107.94782228825657,
                  36.55266761625044
                 ],
                 [
                  -110.8836783941283,
                  37.902241180783484
                 ],
                 [
                  -113.8195345,
                  36.55266761625044
                 ],
                 [
                  -113.8195345,
                  33.781941673869895
                 ],
                 [
                  -110.8836783941283,
                  32.36160531685386
                 ]
                ]
               ],
               "type": "Polygon"
              },
              "id": "-1.9352852747000373,0.6566569567040691",
              "type": "Feature"
             },
             {
              "geometry": {
               "coordinates": [
                [
                 [
                  -105.01196618238485,
                  32.36160531685386
                 ],
                 [
                  -102.07611007651315,
                  33.781941673869895
                 ],
                 [
                  -102.07611007651315,
                  36.55266761625044
                 ],
                 [
                  -105.01196618238485,
                  37.902241180783484
                 ],
                 [
                  -107.94782228825657,
                  36.55266761625044
                 ],
                 [
                  -107.94782228825657,
                  33.781941673869895
                 ],
                 [
                  -105.01196618238485,
                  32.36160531685386
                 ]
                ]
               ],
               "type": "Polygon"
              },
              "id": "-1.832804563875556,0.6566569567040691",
              "type": "Feature"
             },
             {
              "geometry": {
               "coordinates": [
                [
                 [
                  -105.01196618238485,
                  40.52822397207221
                 ],
                 [
                  -102.07611007651315,
                  41.804172038148316
                 ],
                 [
                  -102.07611007651315,
                  44.28123296106526
                 ],
                 [
                  -105.01196618238485,
                  45.48219741496657
                 ],
                 [
                  -107.94782228825657,
                  44.28123296106526
                 ],
                 [
                  -107.94782228825657,
                  41.804172038148316
                 ],
                 [
                  -105.01196618238485,
                  40.52822397207221
                 ]
                ]
               ],
               "type": "Polygon"
              },
              "id": "-1.832804563875556,0.8341587546478444",
              "type": "Feature"
             },
             {
              "geometry": {
               "coordinates": [
                [
                 [
                  -99.14025397064144,
                  32.36160531685386
                 ],
                 [
                  -96.20439786476972,
                  33.781941673869895
                 ],
                 [
                  -96.20439786476972,
                  36.55266761625044
                 ],
                 [
                  -99.14025397064144,
                  37.902241180783484
                 ],
                 [
                  -102.07611007651316,
                  36.55266761625044
                 ],
                 [
                  -102.07611007651316,
                  33.781941673869895
                 ],
                 [
                  -99.14025397064144,
                  32.36160531685386
                 ]
                ]
               ],
               "type": "Polygon"
              },
              "id": "-1.7303238530510747,0.6566569567040691",
              "type": "Feature"
             },
             {
              "geometry": {
               "coordinates": [
                [
                 [
                  -99.14025397064144,
                  40.52822397207221
                 ],
                 [
                  -96.20439786476972,
                  41.804172038148316
                 ],
                 [
                  -96.20439786476972,
                  44.28123296106526
                 ],
                 [
                  -99.14025397064144,
                  45.48219741496657
                 ],
                 [
                  -102.07611007651316,
                  44.28123296106526
                 ],
                 [
                  -102.07611007651316,
                  41.804172038148316
                 ],
                 [
                  -99.14025397064144,
                  40.52822397207221
                 ]
                ]
               ],
               "type": "Polygon"
              },
              "id": "-1.7303238530510747,0.8341587546478444",
              "type": "Feature"
             },
             {
              "geometry": {
               "coordinates": [
                [
                 [
                  -93.26854175889801,
                  32.36160531685386
                 ],
                 [
                  -90.3326856530263,
                  33.781941673869895
                 ],
                 [
                  -90.3326856530263,
                  36.55266761625044
                 ],
                 [
                  -93.26854175889801,
                  37.902241180783484
                 ],
                 [
                  -96.20439786476973,
                  36.55266761625044
                 ],
                 [
                  -96.20439786476973,
                  33.781941673869895
                 ],
                 [
                  -93.26854175889801,
                  32.36160531685386
                 ]
                ]
               ],
               "type": "Polygon"
              },
              "id": "-1.6278431422265935,0.6566569567040691",
              "type": "Feature"
             },
             {
              "geometry": {
               "coordinates": [
                [
                 [
                  -93.26854175889801,
                  40.52822397207221
                 ],
                 [
                  -90.3326856530263,
                  41.804172038148316
                 ],
                 [
                  -90.3326856530263,
                  44.28123296106526
                 ],
                 [
                  -93.26854175889801,
                  45.48219741496657
                 ],
                 [
                  -96.20439786476973,
                  44.28123296106526
                 ],
                 [
                  -96.20439786476973,
                  41.804172038148316
                 ],
                 [
                  -93.26854175889801,
                  40.52822397207221
                 ]
                ]
               ],
               "type": "Polygon"
              },
              "id": "-1.6278431422265935,0.8341587546478444",
              "type": "Feature"
             },
             {
              "geometry": {
               "coordinates": [
                [
                 [
                  -87.3968295471546,
                  32.36160531685386
                 ],
                 [
                  -84.46097344128287,
                  33.781941673869895
                 ],
                 [
                  -84.46097344128287,
                  36.55266761625044
                 ],
                 [
                  -87.3968295471546,
                  37.902241180783484
                 ],
                 [
                  -90.3326856530263,
                  36.55266761625044
                 ],
                 [
                  -90.3326856530263,
                  33.781941673869895
                 ],
                 [
                  -87.3968295471546,
                  32.36160531685386
                 ]
                ]
               ],
               "type": "Polygon"
              },
              "id": "-1.5253624314021124,0.6566569567040691",
              "type": "Feature"
             },
             {
              "geometry": {
               "coordinates": [
                [
                 [
                  -87.3968295471546,
                  40.52822397207221
                 ],
                 [
                  -84.46097344128287,
                  41.804172038148316
                 ],
                 [
                  -84.46097344128287,
                  44.28123296106526
                 ],
                 [
                  -87.3968295471546,
                  45.48219741496657
                 ],
                 [
                  -90.3326856530263,
                  44.28123296106526
                 ],
                 [
                  -90.3326856530263,
                  41.804172038148316
                 ],
                 [
                  -87.3968295471546,
                  40.52822397207221
                 ]
                ]
               ],
               "type": "Polygon"
              },
              "id": "-1.5253624314021124,0.8341587546478444",
              "type": "Feature"
             },
             {
              "geometry": {
               "coordinates": [
                [
                 [
                  -81.52511733541117,
                  32.36160531685386
                 ],
                 [
                  -78.58926122953945,
                  33.781941673869895
                 ],
                 [
                  -78.58926122953945,
                  36.55266761625044
                 ],
                 [
                  -81.52511733541117,
                  37.902241180783484
                 ],
                 [
                  -84.46097344128289,
                  36.55266761625044
                 ],
                 [
                  -84.46097344128289,
                  33.781941673869895
                 ],
                 [
                  -81.52511733541117,
                  32.36160531685386
                 ]
                ]
               ],
               "type": "Polygon"
              },
              "id": "-1.4228817205776312,0.6566569567040691",
              "type": "Feature"
             },
             {
              "geometry": {
               "coordinates": [
                [
                 [
                  -75.65340512366775,
                  40.52822397207221
                 ],
                 [
                  -72.71754901779602,
                  41.804172038148316
                 ],
                 [
                  -72.71754901779602,
                  44.28123296106526
                 ],
                 [
                  -75.65340512366775,
                  45.48219741496657
                 ],
                 [
                  -78.58926122953946,
                  44.28123296106526
                 ],
                 [
                  -78.58926122953946,
                  41.804172038148316
                 ],
                 [
                  -75.65340512366775,
                  40.52822397207221
                 ]
                ]
               ],
               "type": "Polygon"
              },
              "id": "-1.32040100975315,0.8341587546478444",
              "type": "Feature"
             },
             {
              "geometry": {
               "coordinates": [
                [
                 [
                  -69.78169291192432,
                  40.52822397207221
                 ],
                 [
                  -66.8458368060526,
                  41.804172038148316
                 ],
                 [
                  -66.8458368060526,
                  44.28123296106526
                 ],
                 [
                  -69.78169291192432,
                  45.48219741496657
                 ],
                 [
                  -72.71754901779605,
                  44.28123296106526
                 ],
                 [
                  -72.71754901779605,
                  41.804172038148316
                 ],
                 [
                  -69.78169291192432,
                  40.52822397207221
                 ]
                ]
               ],
               "type": "Polygon"
              },
              "id": "-1.2179202989286688,0.8341587546478444",
              "type": "Feature"
             },
             {
              "geometry": {
               "coordinates": [
                [
                 [
                  -154.92151998220396,
                  18.640661146696793
                 ],
                 [
                  -151.98566387633227,
                  20.238983440575865
                 ],
                 [
                  -151.98566387633227,
                  23.38578796224509
                 ],
                 [
                  -154.92151998220396,
                  24.932277923091085
                 ],
                 [
                  -157.85737608807568,
                  23.38578796224509
                 ],
                 [
                  -157.85737608807568,
                  20.238983440575865
                 ],
                 [
                  -154.92151998220396,
                  18.640661146696793
                 ]
                ]
               ],
               "type": "Polygon"
              },
              "id": "-2.7038906058836463,0.39040425978840626",
              "type": "Feature"
             },
             {
              "geometry": {
               "coordinates": [
                [
                 [
                  -125.56295892348685,
                  44.28123296106526
                 ],
                 [
                  -122.62710281761514,
                  45.48219741496657
                 ],
                 [
                  -122.62710281761514,
                  47.808968717213496
                 ],
                 [
                  -125.56295892348685,
                  48.93489198257946
                 ],
                 [
                  -128.49881502935855,
                  47.808968717213496
                 ],
                 [
                  -128.49881502935855,
                  45.48219741496657
                 ],
                 [
                  -125.56295892348685,
                  44.28123296106526
                 ]
                ]
               ],
               "type": "Polygon"
              },
              "id": "-2.19148705176124,0.9229096536197319",
              "type": "Feature"
             },
             {
              "geometry": {
               "coordinates": [
                [
                 [
                  -119.69124671174343,
                  36.55266761625044
                 ],
                 [
                  -116.75539060587172,
                  37.902241180783484
                 ],
                 [
                  -116.75539060587172,
                  40.52822397207221
                 ],
                 [
                  -119.69124671174343,
                  41.804172038148316
                 ],
                 [
                  -122.62710281761514,
                  40.52822397207221
                 ],
                 [
                  -122.62710281761514,
                  37.902241180783484
                 ],
                 [
                  -119.69124671174343,
                  36.55266761625044
                 ]
                ]
               ],
               "type": "Polygon"
              },
              "id": "-2.089006340936759,0.7454078556759567",
              "type": "Feature"
             },
             {
              "geometry": {
               "coordinates": [
                [
                 [
                  -113.8195345,
                  36.55266761625044
                 ],
                 [
                  -110.88367839412828,
                  37.902241180783484
                 ],
                 [
                  -110.88367839412828,
                  40.52822397207221
                 ],
                 [
                  -113.8195345,
                  41.804172038148316
                 ],
                 [
                  -116.7553906058717,
                  40.52822397207221
                 ],
                 [
                  -116.7553906058717,
                  37.902241180783484
                 ],
                 [
                  -113.8195345,
                  36.55266761625044
                 ]
                ]
               ],
               "type": "Polygon"
              },
              "id": "-1.9865256301122778,0.7454078556759567",
              "type": "Feature"
             },
             {
              "geometry": {
               "coordinates": [
                [
                 [
                  -113.8195345,
                  44.28123296106526
                 ],
                 [
                  -110.88367839412828,
                  45.48219741496657
                 ],
                 [
                  -110.88367839412828,
                  47.808968717213496
                 ],
                 [
                  -113.8195345,
                  48.93489198257946
                 ],
                 [
                  -116.7553906058717,
                  47.808968717213496
                 ],
                 [
                  -116.7553906058717,
                  45.48219741496657
                 ],
                 [
                  -113.8195345,
                  44.28123296106526
                 ]
                ]
               ],
               "type": "Polygon"
              },
              "id": "-1.9865256301122778,0.9229096536197319",
              "type": "Feature"
             },
             {
              "geometry": {
               "coordinates": [
                [
                 [
                  -102.07611007651316,
                  36.55266761625044
                 ],
                 [
                  -99.14025397064144,
                  37.902241180783484
                 ],
                 [
                  -99.14025397064144,
                  40.52822397207221
                 ],
                 [
                  -102.07611007651316,
                  41.804172038148316
                 ],
                 [
                  -105.01196618238487,
                  40.52822397207221
                 ],
                 [
                  -105.01196618238487,
                  37.902241180783484
                 ],
                 [
                  -102.07611007651316,
                  36.55266761625044
                 ]
                ]
               ],
               "type": "Polygon"
              },
              "id": "-1.7815642084633154,0.7454078556759567",
              "type": "Feature"
             },
             {
              "geometry": {
               "coordinates": [
                [
                 [
                  -102.07611007651316,
                  44.28123296106526
                 ],
                 [
                  -99.14025397064144,
                  45.48219741496657
                 ],
                 [
                  -99.14025397064144,
                  47.808968717213496
                 ],
                 [
                  -102.07611007651316,
                  48.93489198257946
                 ],
                 [
                  -105.01196618238487,
                  47.808968717213496
                 ],
                 [
                  -105.01196618238487,
                  45.48219741496657
                 ],
                 [
                  -102.07611007651316,
                  44.28123296106526
                 ]
                ]
               ],
               "type": "Polygon"
              },
              "id": "-1.7815642084633154,0.9229096536197319",
              "type": "Feature"
             },
             {
              "geometry": {
               "coordinates": [
                [
                 [
                  -96.20439786476973,
                  27.96693517573591
                 ],
                 [
                  -93.26854175889801,
                  29.45350119962571
                 ],
                 [
                  -93.26854175889801,
                  32.36160531685386
                 ],
                 [
                  -96.20439786476973,
                  33.781941673869895
                 ],
                 [
                  -99.14025397064145,
                  32.36160531685386
                 ],
                 [
                  -99.14025397064145,
                  29.45350119962571
                 ],
                 [
                  -96.20439786476973,
                  27.96693517573591
                 ]
                ]
               ],
               "type": "Polygon"
              },
              "id": "-1.6790834976388342,0.5679060577321815",
              "type": "Feature"
             },
             {
              "geometry": {
               "coordinates": [
                [
                 [
                  -96.20439786476973,
                  36.55266761625044
                 ],
                 [
                  -93.26854175889801,
                  37.902241180783484
                 ],
                 [
                  -93.26854175889801,
                  40.52822397207221
                 ],
                 [
                  -96.20439786476973,
                  41.804172038148316
                 ],
                 [
                  -99.14025397064145,
                  40.52822397207221
                 ],
                 [
                  -99.14025397064145,
                  37.902241180783484
                 ],
                 [
                  -96.20439786476973,
                  36.55266761625044
                 ]
                ]
               ],
               "type": "Polygon"
              },
              "id": "-1.6790834976388342,0.7454078556759567",
              "type": "Feature"
             },
             {
              "geometry": {
               "coordinates": [
                [
                 [
                  -90.3326856530263,
                  27.96693517573591
                 ],
                 [
                  -87.3968295471546,
                  29.45350119962571
                 ],
                 [
                  -87.3968295471546,
                  32.36160531685386
                 ],
                 [
                  -90.3326856530263,
                  33.781941673869895
                 ],
                 [
                  -93.26854175889802,
                  32.36160531685386
                 ],
                 [
                  -93.26854175889802,
                  29.45350119962571
                 ],
                 [
                  -90.3326856530263,
                  27.96693517573591
                 ]
                ]
               ],
               "type": "Polygon"
              },
              "id": "-1.576602786814353,0.5679060577321815",
              "type": "Feature"
             },
             {
              "geometry": {
               "coordinates": [
                [
                 [
                  -90.3326856530263,
                  36.55266761625044
                 ],
                 [
                  -87.3968295471546,
                  37.902241180783484
                 ],
                 [
                  -87.3968295471546,
                  40.52822397207221
                 ],
                 [
                  -90.3326856530263,
                  41.804172038148316
                 ],
                 [
                  -93.26854175889802,
                  40.52822397207221
                 ],
                 [
                  -93.26854175889802,
                  37.902241180783484
                 ],
                 [
                  -90.3326856530263,
                  36.55266761625044
                 ]
                ]
               ],
               "type": "Polygon"
              },
              "id": "-1.576602786814353,0.7454078556759567",
              "type": "Feature"
             },
             {
              "geometry": {
               "coordinates": [
                [
                 [
                  -84.46097344128289,
                  27.96693517573591
                 ],
                 [
                  -81.52511733541117,
                  29.45350119962571
                 ],
                 [
                  -81.52511733541117,
                  32.36160531685386
                 ],
                 [
                  -84.46097344128289,
                  33.781941673869895
                 ],
                 [
                  -87.39682954715461,
                  32.36160531685386
                 ],
                 [
                  -87.39682954715461,
                  29.45350119962571
                 ],
                 [
                  -84.46097344128289,
                  27.96693517573591
                 ]
                ]
               ],
               "type": "Polygon"
              },
              "id": "-1.4741220759898719,0.5679060577321815",
              "type": "Feature"
             },
             {
              "geometry": {
               "coordinates": [
                [
                 [
                  -84.46097344128289,
                  36.55266761625044
                 ],
                 [
                  -81.52511733541117,
                  37.902241180783484
                 ],
                 [
                  -81.52511733541117,
                  40.52822397207221
                 ],
                 [
                  -84.46097344128289,
                  41.804172038148316
                 ],
                 [
                  -87.39682954715461,
                  40.52822397207221
                 ],
                 [
                  -87.39682954715461,
                  37.902241180783484
                 ],
                 [
                  -84.46097344128289,
                  36.55266761625044
                 ]
                ]
               ],
               "type": "Polygon"
              },
              "id": "-1.4741220759898719,0.7454078556759567",
              "type": "Feature"
             },
             {
              "geometry": {
               "coordinates": [
                [
                 [
                  -78.58926122953946,
                  36.55266761625044
                 ],
                 [
                  -75.65340512366775,
                  37.902241180783484
                 ],
                 [
                  -75.65340512366775,
                  40.52822397207221
                 ],
                 [
                  -78.58926122953946,
                  41.804172038148316
                 ],
                 [
                  -81.52511733541118,
                  40.52822397207221
                 ],
                 [
                  -81.52511733541118,
                  37.902241180783484
                 ],
                 [
                  -78.58926122953946,
                  36.55266761625044
                 ]
                ]
               ],
               "type": "Polygon"
              },
              "id": "-1.3716413651653907,0.7454078556759567",
              "type": "Feature"
             },
             {
              "geometry": {
               "coordinates": [
                [
                 [
                  -72.71754901779605,
                  36.55266761625044
                 ],
                 [
                  -69.78169291192432,
                  37.902241180783484
                 ],
                 [
                  -69.78169291192432,
                  40.52822397207221
                 ],
                 [
                  -72.71754901779605,
                  41.804172038148316
                 ],
                 [
                  -75.65340512366775,
                  40.52822397207221
                 ],
                 [
                  -75.65340512366775,
                  37.902241180783484
                 ],
                 [
                  -72.71754901779605,
                  36.55266761625044
                 ]
                ]
               ],
               "type": "Polygon"
              },
              "id": "-1.2691606543409095,0.7454078556759567",
              "type": "Feature"
             }
            ],
            "type": "FeatureCollection"
           },
           "hovertemplate": "Net Growth %=%{z}<extra></extra>",
           "locations": [
            "-2.1402466963489997,0.8341587546478444",
            "-2.0377659855245183,0.8341587546478444",
            "-1.9352852747000373,0.6566569567040691",
            "-1.832804563875556,0.6566569567040691",
            "-1.832804563875556,0.8341587546478444",
            "-1.7303238530510747,0.6566569567040691",
            "-1.7303238530510747,0.8341587546478444",
            "-1.6278431422265935,0.6566569567040691",
            "-1.6278431422265935,0.8341587546478444",
            "-1.5253624314021124,0.6566569567040691",
            "-1.5253624314021124,0.8341587546478444",
            "-1.4228817205776312,0.6566569567040691",
            "-1.32040100975315,0.8341587546478444",
            "-1.2179202989286688,0.8341587546478444",
            "-2.7038906058836463,0.39040425978840626",
            "-2.19148705176124,0.9229096536197319",
            "-2.089006340936759,0.7454078556759567",
            "-1.9865256301122778,0.7454078556759567",
            "-1.9865256301122778,0.9229096536197319",
            "-1.7815642084633154,0.7454078556759567",
            "-1.7815642084633154,0.9229096536197319",
            "-1.6790834976388342,0.5679060577321815",
            "-1.6790834976388342,0.7454078556759567",
            "-1.576602786814353,0.5679060577321815",
            "-1.576602786814353,0.7454078556759567",
            "-1.4741220759898719,0.5679060577321815",
            "-1.4741220759898719,0.7454078556759567",
            "-1.3716413651653907,0.7454078556759567",
            "-1.2691606543409095,0.7454078556759567"
           ],
           "marker": {
            "opacity": 0.5
           },
           "name": "",
           "subplot": "mapbox",
           "type": "choroplethmapbox",
           "z": [
            13.075,
            0.8750000000000002,
            0.9249999999999989,
            -7.65,
            -1.7000000000000004,
            -24.1,
            15.800000000000002,
            14.625000000000002,
            6.25,
            -6.6,
            3.9625000000000004,
            0.07500000000000002,
            0.9750000000000001,
            -3.841666666666667,
            0.3999999999999999,
            3.575,
            -1.625,
            8.05,
            7.85,
            -0.9999999999999996,
            3.15,
            16.05,
            3.0374999999999996,
            14.3,
            2.075,
            3.5,
            -3.9812499999999997,
            5.144444444444445,
            1.7041666666666668
           ]
          },
          {
           "hoverinfo": "skip",
           "lat": [
            35.492207,
            39.961346,
            46.82085,
            40.808075,
            42.652843,
            35.68224,
            40.220596,
            44.938461,
            35.78043,
            40.264378,
            44.262436,
            44.367031,
            36.16581,
            30.27467,
            40.777477,
            37.538857,
            47.035805,
            38.336246,
            43.074684,
            41.140259,
            34.000343,
            46.585709,
            38.579201,
            32.303848,
            33.448143,
            34.746613,
            38.576668,
            39.739227,
            41.764046,
            30.438118,
            33.749027,
            21.307442,
            43.617775,
            39.798363,
            32.377716,
            41.591087,
            39.048191,
            38.186722,
            30.457069,
            44.307167,
            38.978764,
            42.358162,
            42.733635,
            44.955097,
            39.768623
           ],
           "legendgroup": "",
           "lon": [
            -97.503342,
            -82.999069,
            -100.783318,
            -96.699654,
            -73.757874,
            -105.939728,
            -74.769913,
            -123.030403,
            -78.639099,
            -76.883598,
            -72.580536,
            -100.346405,
            -86.784241,
            -97.740349,
            -111.888237,
            -77.43364,
            -122.905014,
            -81.612328,
            -89.384445,
            -104.820236,
            -81.033211,
            -112.018417,
            -92.172935,
            -90.182106,
            -112.096962,
            -92.288986,
            -121.493629,
            -104.984856,
            -72.682198,
            -84.281296,
            -84.388229,
            -157.857376,
            -116.199722,
            -89.654961,
            -86.300568,
            -93.603729,
            -95.677956,
            -84.875374,
            -91.187393,
            -69.781693,
            -76.490936,
            -71.063698,
            -84.555328,
            -93.102211,
            -86.162643
           ],
           "marker": {
            "color": "deeppink",
            "opacity": 0.6,
            "size": 4
           },
           "mode": "markers",
           "name": "",
           "showlegend": false,
           "subplot": "mapbox",
           "type": "scattermapbox"
          }
         ],
         "name": "2018"
        },
        {
         "data": [
          {
           "coloraxis": "coloraxis",
           "customdata": [
            [
             1.8250000000000002,
             "-2.1402466963489997,0.8341587546478444",
             2020
            ],
            [
             6.625,
             "-2.0377659855245183,0.8341587546478444",
             2020
            ],
            [
             3.3999999999999995,
             "-1.9352852747000373,0.6566569567040691",
             2020
            ],
            [
             8.525,
             "-1.832804563875556,0.6566569567040691",
             2020
            ],
            [
             -0.8749999999999998,
             "-1.832804563875556,0.8341587546478444",
             2020
            ],
            [
             8.975000000000001,
             "-1.7303238530510747,0.6566569567040691",
             2020
            ],
            [
             2.975000000000001,
             "-1.7303238530510747,0.8341587546478444",
             2020
            ],
            [
             1.5749999999999997,
             "-1.6278431422265935,0.6566569567040691",
             2020
            ],
            [
             5.7875,
             "-1.6278431422265935,0.8341587546478444",
             2020
            ],
            [
             -0.125,
             "-1.5253624314021124,0.6566569567040691",
             2020
            ],
            [
             2.775,
             "-1.5253624314021124,0.8341587546478444",
             2020
            ],
            [
             0.5000000000000001,
             "-1.4228817205776312,0.6566569567040691",
             2020
            ],
            [
             -1.85,
             "-1.32040100975315,0.8341587546478444",
             2020
            ],
            [
             -3.866666666666666,
             "-1.2179202989286688,0.8341587546478444",
             2020
            ],
            [
             1.4249999999999994,
             "-2.7038906058836463,0.39040425978840626",
             2020
            ],
            [
             -2.625,
             "-2.19148705176124,0.9229096536197319",
             2020
            ],
            [
             0.5999999999999996,
             "-2.089006340936759,0.7454078556759567",
             2020
            ],
            [
             10.8,
             "-1.9865256301122778,0.7454078556759567",
             2020
            ],
            [
             2.266666666666666,
             "-1.9865256301122778,0.9229096536197319",
             2020
            ],
            [
             -1.0999999999999996,
             "-1.7815642084633154,0.7454078556759567",
             2020
            ],
            [
             1.7499999999999998,
             "-1.7815642084633154,0.9229096536197319",
             2020
            ],
            [
             5.725,
             "-1.6790834976388342,0.5679060577321815",
             2020
            ],
            [
             -0.274999999999999,
             "-1.6790834976388342,0.7454078556759567",
             2020
            ],
            [
             4.999999999999999,
             "-1.576602786814353,0.5679060577321815",
             2020
            ],
            [
             -0.6749999999999996,
             "-1.576602786814353,0.7454078556759567",
             2020
            ],
            [
             1.1749999999999996,
             "-1.4741220759898719,0.5679060577321815",
             2020
            ],
            [
             2.19375,
             "-1.4741220759898719,0.7454078556759567",
             2020
            ],
            [
             9.955555555555556,
             "-1.3716413651653907,0.7454078556759567",
             2020
            ],
            [
             2.8125,
             "-1.2691606543409095,0.7454078556759567",
             2020
            ]
           ],
           "geojson": {
            "features": [
             {
              "geometry": {
               "coordinates": [
                [
                 [
                  -122.62710281761514,
                  40.52822397207221
                 ],
                 [
                  -119.69124671174343,
                  41.804172038148316
                 ],
                 [
                  -119.69124671174343,
                  44.28123296106526
                 ],
                 [
                  -122.62710281761514,
                  45.48219741496657
                 ],
                 [
                  -125.56295892348685,
                  44.28123296106526
                 ],
                 [
                  -125.56295892348685,
                  41.804172038148316
                 ],
                 [
                  -122.62710281761514,
                  40.52822397207221
                 ]
                ]
               ],
               "type": "Polygon"
              },
              "id": "-2.1402466963489997,0.8341587546478444",
              "type": "Feature"
             },
             {
              "geometry": {
               "coordinates": [
                [
                 [
                  -116.7553906058717,
                  40.52822397207221
                 ],
                 [
                  -113.81953449999999,
                  41.804172038148316
                 ],
                 [
                  -113.81953449999999,
                  44.28123296106526
                 ],
                 [
                  -116.7553906058717,
                  45.48219741496657
                 ],
                 [
                  -119.6912467117434,
                  44.28123296106526
                 ],
                 [
                  -119.6912467117434,
                  41.804172038148316
                 ],
                 [
                  -116.7553906058717,
                  40.52822397207221
                 ]
                ]
               ],
               "type": "Polygon"
              },
              "id": "-2.0377659855245183,0.8341587546478444",
              "type": "Feature"
             },
             {
              "geometry": {
               "coordinates": [
                [
                 [
                  -110.8836783941283,
                  32.36160531685386
                 ],
                 [
                  -107.94782228825657,
                  33.781941673869895
                 ],
                 [
                  -107.94782228825657,
                  36.55266761625044
                 ],
                 [
                  -110.8836783941283,
                  37.902241180783484
                 ],
                 [
                  -113.8195345,
                  36.55266761625044
                 ],
                 [
                  -113.8195345,
                  33.781941673869895
                 ],
                 [
                  -110.8836783941283,
                  32.36160531685386
                 ]
                ]
               ],
               "type": "Polygon"
              },
              "id": "-1.9352852747000373,0.6566569567040691",
              "type": "Feature"
             },
             {
              "geometry": {
               "coordinates": [
                [
                 [
                  -105.01196618238485,
                  32.36160531685386
                 ],
                 [
                  -102.07611007651315,
                  33.781941673869895
                 ],
                 [
                  -102.07611007651315,
                  36.55266761625044
                 ],
                 [
                  -105.01196618238485,
                  37.902241180783484
                 ],
                 [
                  -107.94782228825657,
                  36.55266761625044
                 ],
                 [
                  -107.94782228825657,
                  33.781941673869895
                 ],
                 [
                  -105.01196618238485,
                  32.36160531685386
                 ]
                ]
               ],
               "type": "Polygon"
              },
              "id": "-1.832804563875556,0.6566569567040691",
              "type": "Feature"
             },
             {
              "geometry": {
               "coordinates": [
                [
                 [
                  -105.01196618238485,
                  40.52822397207221
                 ],
                 [
                  -102.07611007651315,
                  41.804172038148316
                 ],
                 [
                  -102.07611007651315,
                  44.28123296106526
                 ],
                 [
                  -105.01196618238485,
                  45.48219741496657
                 ],
                 [
                  -107.94782228825657,
                  44.28123296106526
                 ],
                 [
                  -107.94782228825657,
                  41.804172038148316
                 ],
                 [
                  -105.01196618238485,
                  40.52822397207221
                 ]
                ]
               ],
               "type": "Polygon"
              },
              "id": "-1.832804563875556,0.8341587546478444",
              "type": "Feature"
             },
             {
              "geometry": {
               "coordinates": [
                [
                 [
                  -99.14025397064144,
                  32.36160531685386
                 ],
                 [
                  -96.20439786476972,
                  33.781941673869895
                 ],
                 [
                  -96.20439786476972,
                  36.55266761625044
                 ],
                 [
                  -99.14025397064144,
                  37.902241180783484
                 ],
                 [
                  -102.07611007651316,
                  36.55266761625044
                 ],
                 [
                  -102.07611007651316,
                  33.781941673869895
                 ],
                 [
                  -99.14025397064144,
                  32.36160531685386
                 ]
                ]
               ],
               "type": "Polygon"
              },
              "id": "-1.7303238530510747,0.6566569567040691",
              "type": "Feature"
             },
             {
              "geometry": {
               "coordinates": [
                [
                 [
                  -99.14025397064144,
                  40.52822397207221
                 ],
                 [
                  -96.20439786476972,
                  41.804172038148316
                 ],
                 [
                  -96.20439786476972,
                  44.28123296106526
                 ],
                 [
                  -99.14025397064144,
                  45.48219741496657
                 ],
                 [
                  -102.07611007651316,
                  44.28123296106526
                 ],
                 [
                  -102.07611007651316,
                  41.804172038148316
                 ],
                 [
                  -99.14025397064144,
                  40.52822397207221
                 ]
                ]
               ],
               "type": "Polygon"
              },
              "id": "-1.7303238530510747,0.8341587546478444",
              "type": "Feature"
             },
             {
              "geometry": {
               "coordinates": [
                [
                 [
                  -93.26854175889801,
                  32.36160531685386
                 ],
                 [
                  -90.3326856530263,
                  33.781941673869895
                 ],
                 [
                  -90.3326856530263,
                  36.55266761625044
                 ],
                 [
                  -93.26854175889801,
                  37.902241180783484
                 ],
                 [
                  -96.20439786476973,
                  36.55266761625044
                 ],
                 [
                  -96.20439786476973,
                  33.781941673869895
                 ],
                 [
                  -93.26854175889801,
                  32.36160531685386
                 ]
                ]
               ],
               "type": "Polygon"
              },
              "id": "-1.6278431422265935,0.6566569567040691",
              "type": "Feature"
             },
             {
              "geometry": {
               "coordinates": [
                [
                 [
                  -93.26854175889801,
                  40.52822397207221
                 ],
                 [
                  -90.3326856530263,
                  41.804172038148316
                 ],
                 [
                  -90.3326856530263,
                  44.28123296106526
                 ],
                 [
                  -93.26854175889801,
                  45.48219741496657
                 ],
                 [
                  -96.20439786476973,
                  44.28123296106526
                 ],
                 [
                  -96.20439786476973,
                  41.804172038148316
                 ],
                 [
                  -93.26854175889801,
                  40.52822397207221
                 ]
                ]
               ],
               "type": "Polygon"
              },
              "id": "-1.6278431422265935,0.8341587546478444",
              "type": "Feature"
             },
             {
              "geometry": {
               "coordinates": [
                [
                 [
                  -87.3968295471546,
                  32.36160531685386
                 ],
                 [
                  -84.46097344128287,
                  33.781941673869895
                 ],
                 [
                  -84.46097344128287,
                  36.55266761625044
                 ],
                 [
                  -87.3968295471546,
                  37.902241180783484
                 ],
                 [
                  -90.3326856530263,
                  36.55266761625044
                 ],
                 [
                  -90.3326856530263,
                  33.781941673869895
                 ],
                 [
                  -87.3968295471546,
                  32.36160531685386
                 ]
                ]
               ],
               "type": "Polygon"
              },
              "id": "-1.5253624314021124,0.6566569567040691",
              "type": "Feature"
             },
             {
              "geometry": {
               "coordinates": [
                [
                 [
                  -87.3968295471546,
                  40.52822397207221
                 ],
                 [
                  -84.46097344128287,
                  41.804172038148316
                 ],
                 [
                  -84.46097344128287,
                  44.28123296106526
                 ],
                 [
                  -87.3968295471546,
                  45.48219741496657
                 ],
                 [
                  -90.3326856530263,
                  44.28123296106526
                 ],
                 [
                  -90.3326856530263,
                  41.804172038148316
                 ],
                 [
                  -87.3968295471546,
                  40.52822397207221
                 ]
                ]
               ],
               "type": "Polygon"
              },
              "id": "-1.5253624314021124,0.8341587546478444",
              "type": "Feature"
             },
             {
              "geometry": {
               "coordinates": [
                [
                 [
                  -81.52511733541117,
                  32.36160531685386
                 ],
                 [
                  -78.58926122953945,
                  33.781941673869895
                 ],
                 [
                  -78.58926122953945,
                  36.55266761625044
                 ],
                 [
                  -81.52511733541117,
                  37.902241180783484
                 ],
                 [
                  -84.46097344128289,
                  36.55266761625044
                 ],
                 [
                  -84.46097344128289,
                  33.781941673869895
                 ],
                 [
                  -81.52511733541117,
                  32.36160531685386
                 ]
                ]
               ],
               "type": "Polygon"
              },
              "id": "-1.4228817205776312,0.6566569567040691",
              "type": "Feature"
             },
             {
              "geometry": {
               "coordinates": [
                [
                 [
                  -75.65340512366775,
                  40.52822397207221
                 ],
                 [
                  -72.71754901779602,
                  41.804172038148316
                 ],
                 [
                  -72.71754901779602,
                  44.28123296106526
                 ],
                 [
                  -75.65340512366775,
                  45.48219741496657
                 ],
                 [
                  -78.58926122953946,
                  44.28123296106526
                 ],
                 [
                  -78.58926122953946,
                  41.804172038148316
                 ],
                 [
                  -75.65340512366775,
                  40.52822397207221
                 ]
                ]
               ],
               "type": "Polygon"
              },
              "id": "-1.32040100975315,0.8341587546478444",
              "type": "Feature"
             },
             {
              "geometry": {
               "coordinates": [
                [
                 [
                  -69.78169291192432,
                  40.52822397207221
                 ],
                 [
                  -66.8458368060526,
                  41.804172038148316
                 ],
                 [
                  -66.8458368060526,
                  44.28123296106526
                 ],
                 [
                  -69.78169291192432,
                  45.48219741496657
                 ],
                 [
                  -72.71754901779605,
                  44.28123296106526
                 ],
                 [
                  -72.71754901779605,
                  41.804172038148316
                 ],
                 [
                  -69.78169291192432,
                  40.52822397207221
                 ]
                ]
               ],
               "type": "Polygon"
              },
              "id": "-1.2179202989286688,0.8341587546478444",
              "type": "Feature"
             },
             {
              "geometry": {
               "coordinates": [
                [
                 [
                  -154.92151998220396,
                  18.640661146696793
                 ],
                 [
                  -151.98566387633227,
                  20.238983440575865
                 ],
                 [
                  -151.98566387633227,
                  23.38578796224509
                 ],
                 [
                  -154.92151998220396,
                  24.932277923091085
                 ],
                 [
                  -157.85737608807568,
                  23.38578796224509
                 ],
                 [
                  -157.85737608807568,
                  20.238983440575865
                 ],
                 [
                  -154.92151998220396,
                  18.640661146696793
                 ]
                ]
               ],
               "type": "Polygon"
              },
              "id": "-2.7038906058836463,0.39040425978840626",
              "type": "Feature"
             },
             {
              "geometry": {
               "coordinates": [
                [
                 [
                  -125.56295892348685,
                  44.28123296106526
                 ],
                 [
                  -122.62710281761514,
                  45.48219741496657
                 ],
                 [
                  -122.62710281761514,
                  47.808968717213496
                 ],
                 [
                  -125.56295892348685,
                  48.93489198257946
                 ],
                 [
                  -128.49881502935855,
                  47.808968717213496
                 ],
                 [
                  -128.49881502935855,
                  45.48219741496657
                 ],
                 [
                  -125.56295892348685,
                  44.28123296106526
                 ]
                ]
               ],
               "type": "Polygon"
              },
              "id": "-2.19148705176124,0.9229096536197319",
              "type": "Feature"
             },
             {
              "geometry": {
               "coordinates": [
                [
                 [
                  -119.69124671174343,
                  36.55266761625044
                 ],
                 [
                  -116.75539060587172,
                  37.902241180783484
                 ],
                 [
                  -116.75539060587172,
                  40.52822397207221
                 ],
                 [
                  -119.69124671174343,
                  41.804172038148316
                 ],
                 [
                  -122.62710281761514,
                  40.52822397207221
                 ],
                 [
                  -122.62710281761514,
                  37.902241180783484
                 ],
                 [
                  -119.69124671174343,
                  36.55266761625044
                 ]
                ]
               ],
               "type": "Polygon"
              },
              "id": "-2.089006340936759,0.7454078556759567",
              "type": "Feature"
             },
             {
              "geometry": {
               "coordinates": [
                [
                 [
                  -113.8195345,
                  36.55266761625044
                 ],
                 [
                  -110.88367839412828,
                  37.902241180783484
                 ],
                 [
                  -110.88367839412828,
                  40.52822397207221
                 ],
                 [
                  -113.8195345,
                  41.804172038148316
                 ],
                 [
                  -116.7553906058717,
                  40.52822397207221
                 ],
                 [
                  -116.7553906058717,
                  37.902241180783484
                 ],
                 [
                  -113.8195345,
                  36.55266761625044
                 ]
                ]
               ],
               "type": "Polygon"
              },
              "id": "-1.9865256301122778,0.7454078556759567",
              "type": "Feature"
             },
             {
              "geometry": {
               "coordinates": [
                [
                 [
                  -113.8195345,
                  44.28123296106526
                 ],
                 [
                  -110.88367839412828,
                  45.48219741496657
                 ],
                 [
                  -110.88367839412828,
                  47.808968717213496
                 ],
                 [
                  -113.8195345,
                  48.93489198257946
                 ],
                 [
                  -116.7553906058717,
                  47.808968717213496
                 ],
                 [
                  -116.7553906058717,
                  45.48219741496657
                 ],
                 [
                  -113.8195345,
                  44.28123296106526
                 ]
                ]
               ],
               "type": "Polygon"
              },
              "id": "-1.9865256301122778,0.9229096536197319",
              "type": "Feature"
             },
             {
              "geometry": {
               "coordinates": [
                [
                 [
                  -102.07611007651316,
                  36.55266761625044
                 ],
                 [
                  -99.14025397064144,
                  37.902241180783484
                 ],
                 [
                  -99.14025397064144,
                  40.52822397207221
                 ],
                 [
                  -102.07611007651316,
                  41.804172038148316
                 ],
                 [
                  -105.01196618238487,
                  40.52822397207221
                 ],
                 [
                  -105.01196618238487,
                  37.902241180783484
                 ],
                 [
                  -102.07611007651316,
                  36.55266761625044
                 ]
                ]
               ],
               "type": "Polygon"
              },
              "id": "-1.7815642084633154,0.7454078556759567",
              "type": "Feature"
             },
             {
              "geometry": {
               "coordinates": [
                [
                 [
                  -102.07611007651316,
                  44.28123296106526
                 ],
                 [
                  -99.14025397064144,
                  45.48219741496657
                 ],
                 [
                  -99.14025397064144,
                  47.808968717213496
                 ],
                 [
                  -102.07611007651316,
                  48.93489198257946
                 ],
                 [
                  -105.01196618238487,
                  47.808968717213496
                 ],
                 [
                  -105.01196618238487,
                  45.48219741496657
                 ],
                 [
                  -102.07611007651316,
                  44.28123296106526
                 ]
                ]
               ],
               "type": "Polygon"
              },
              "id": "-1.7815642084633154,0.9229096536197319",
              "type": "Feature"
             },
             {
              "geometry": {
               "coordinates": [
                [
                 [
                  -96.20439786476973,
                  27.96693517573591
                 ],
                 [
                  -93.26854175889801,
                  29.45350119962571
                 ],
                 [
                  -93.26854175889801,
                  32.36160531685386
                 ],
                 [
                  -96.20439786476973,
                  33.781941673869895
                 ],
                 [
                  -99.14025397064145,
                  32.36160531685386
                 ],
                 [
                  -99.14025397064145,
                  29.45350119962571
                 ],
                 [
                  -96.20439786476973,
                  27.96693517573591
                 ]
                ]
               ],
               "type": "Polygon"
              },
              "id": "-1.6790834976388342,0.5679060577321815",
              "type": "Feature"
             },
             {
              "geometry": {
               "coordinates": [
                [
                 [
                  -96.20439786476973,
                  36.55266761625044
                 ],
                 [
                  -93.26854175889801,
                  37.902241180783484
                 ],
                 [
                  -93.26854175889801,
                  40.52822397207221
                 ],
                 [
                  -96.20439786476973,
                  41.804172038148316
                 ],
                 [
                  -99.14025397064145,
                  40.52822397207221
                 ],
                 [
                  -99.14025397064145,
                  37.902241180783484
                 ],
                 [
                  -96.20439786476973,
                  36.55266761625044
                 ]
                ]
               ],
               "type": "Polygon"
              },
              "id": "-1.6790834976388342,0.7454078556759567",
              "type": "Feature"
             },
             {
              "geometry": {
               "coordinates": [
                [
                 [
                  -90.3326856530263,
                  27.96693517573591
                 ],
                 [
                  -87.3968295471546,
                  29.45350119962571
                 ],
                 [
                  -87.3968295471546,
                  32.36160531685386
                 ],
                 [
                  -90.3326856530263,
                  33.781941673869895
                 ],
                 [
                  -93.26854175889802,
                  32.36160531685386
                 ],
                 [
                  -93.26854175889802,
                  29.45350119962571
                 ],
                 [
                  -90.3326856530263,
                  27.96693517573591
                 ]
                ]
               ],
               "type": "Polygon"
              },
              "id": "-1.576602786814353,0.5679060577321815",
              "type": "Feature"
             },
             {
              "geometry": {
               "coordinates": [
                [
                 [
                  -90.3326856530263,
                  36.55266761625044
                 ],
                 [
                  -87.3968295471546,
                  37.902241180783484
                 ],
                 [
                  -87.3968295471546,
                  40.52822397207221
                 ],
                 [
                  -90.3326856530263,
                  41.804172038148316
                 ],
                 [
                  -93.26854175889802,
                  40.52822397207221
                 ],
                 [
                  -93.26854175889802,
                  37.902241180783484
                 ],
                 [
                  -90.3326856530263,
                  36.55266761625044
                 ]
                ]
               ],
               "type": "Polygon"
              },
              "id": "-1.576602786814353,0.7454078556759567",
              "type": "Feature"
             },
             {
              "geometry": {
               "coordinates": [
                [
                 [
                  -84.46097344128289,
                  27.96693517573591
                 ],
                 [
                  -81.52511733541117,
                  29.45350119962571
                 ],
                 [
                  -81.52511733541117,
                  32.36160531685386
                 ],
                 [
                  -84.46097344128289,
                  33.781941673869895
                 ],
                 [
                  -87.39682954715461,
                  32.36160531685386
                 ],
                 [
                  -87.39682954715461,
                  29.45350119962571
                 ],
                 [
                  -84.46097344128289,
                  27.96693517573591
                 ]
                ]
               ],
               "type": "Polygon"
              },
              "id": "-1.4741220759898719,0.5679060577321815",
              "type": "Feature"
             },
             {
              "geometry": {
               "coordinates": [
                [
                 [
                  -84.46097344128289,
                  36.55266761625044
                 ],
                 [
                  -81.52511733541117,
                  37.902241180783484
                 ],
                 [
                  -81.52511733541117,
                  40.52822397207221
                 ],
                 [
                  -84.46097344128289,
                  41.804172038148316
                 ],
                 [
                  -87.39682954715461,
                  40.52822397207221
                 ],
                 [
                  -87.39682954715461,
                  37.902241180783484
                 ],
                 [
                  -84.46097344128289,
                  36.55266761625044
                 ]
                ]
               ],
               "type": "Polygon"
              },
              "id": "-1.4741220759898719,0.7454078556759567",
              "type": "Feature"
             },
             {
              "geometry": {
               "coordinates": [
                [
                 [
                  -78.58926122953946,
                  36.55266761625044
                 ],
                 [
                  -75.65340512366775,
                  37.902241180783484
                 ],
                 [
                  -75.65340512366775,
                  40.52822397207221
                 ],
                 [
                  -78.58926122953946,
                  41.804172038148316
                 ],
                 [
                  -81.52511733541118,
                  40.52822397207221
                 ],
                 [
                  -81.52511733541118,
                  37.902241180783484
                 ],
                 [
                  -78.58926122953946,
                  36.55266761625044
                 ]
                ]
               ],
               "type": "Polygon"
              },
              "id": "-1.3716413651653907,0.7454078556759567",
              "type": "Feature"
             },
             {
              "geometry": {
               "coordinates": [
                [
                 [
                  -72.71754901779605,
                  36.55266761625044
                 ],
                 [
                  -69.78169291192432,
                  37.902241180783484
                 ],
                 [
                  -69.78169291192432,
                  40.52822397207221
                 ],
                 [
                  -72.71754901779605,
                  41.804172038148316
                 ],
                 [
                  -75.65340512366775,
                  40.52822397207221
                 ],
                 [
                  -75.65340512366775,
                  37.902241180783484
                 ],
                 [
                  -72.71754901779605,
                  36.55266761625044
                 ]
                ]
               ],
               "type": "Polygon"
              },
              "id": "-1.2691606543409095,0.7454078556759567",
              "type": "Feature"
             }
            ],
            "type": "FeatureCollection"
           },
           "hovertemplate": "Net Growth %=%{z}<extra></extra>",
           "locations": [
            "-2.1402466963489997,0.8341587546478444",
            "-2.0377659855245183,0.8341587546478444",
            "-1.9352852747000373,0.6566569567040691",
            "-1.832804563875556,0.6566569567040691",
            "-1.832804563875556,0.8341587546478444",
            "-1.7303238530510747,0.6566569567040691",
            "-1.7303238530510747,0.8341587546478444",
            "-1.6278431422265935,0.6566569567040691",
            "-1.6278431422265935,0.8341587546478444",
            "-1.5253624314021124,0.6566569567040691",
            "-1.5253624314021124,0.8341587546478444",
            "-1.4228817205776312,0.6566569567040691",
            "-1.32040100975315,0.8341587546478444",
            "-1.2179202989286688,0.8341587546478444",
            "-2.7038906058836463,0.39040425978840626",
            "-2.19148705176124,0.9229096536197319",
            "-2.089006340936759,0.7454078556759567",
            "-1.9865256301122778,0.7454078556759567",
            "-1.9865256301122778,0.9229096536197319",
            "-1.7815642084633154,0.7454078556759567",
            "-1.7815642084633154,0.9229096536197319",
            "-1.6790834976388342,0.5679060577321815",
            "-1.6790834976388342,0.7454078556759567",
            "-1.576602786814353,0.5679060577321815",
            "-1.576602786814353,0.7454078556759567",
            "-1.4741220759898719,0.5679060577321815",
            "-1.4741220759898719,0.7454078556759567",
            "-1.3716413651653907,0.7454078556759567",
            "-1.2691606543409095,0.7454078556759567"
           ],
           "marker": {
            "opacity": 0.5
           },
           "name": "",
           "subplot": "mapbox",
           "type": "choroplethmapbox",
           "z": [
            1.8250000000000002,
            6.625,
            3.3999999999999995,
            8.525,
            -0.8749999999999998,
            8.975000000000001,
            2.975000000000001,
            1.5749999999999997,
            5.7875,
            -0.125,
            2.775,
            0.5000000000000001,
            -1.85,
            -3.866666666666666,
            1.4249999999999994,
            -2.625,
            0.5999999999999996,
            10.8,
            2.266666666666666,
            -1.0999999999999996,
            1.7499999999999998,
            5.725,
            -0.274999999999999,
            4.999999999999999,
            -0.6749999999999996,
            1.1749999999999996,
            2.19375,
            9.955555555555556,
            2.8125
           ]
          },
          {
           "hoverinfo": "skip",
           "lat": [
            39.961346,
            46.82085,
            35.78043,
            40.808075,
            35.68224,
            40.220596,
            35.492207,
            42.652843,
            44.938461,
            30.27467,
            34.000343,
            44.367031,
            36.16581,
            40.777477,
            44.262436,
            37.538857,
            47.035805,
            38.336246,
            46.585709,
            40.264378,
            38.579201,
            39.768623,
            44.955097,
            32.377716,
            33.448143,
            34.746613,
            38.576668,
            39.739227,
            41.764046,
            30.438118,
            33.749027,
            21.307442,
            32.303848,
            43.617775,
            43.074684,
            41.591087,
            39.048191,
            38.186722,
            30.457069,
            44.307167,
            38.978764,
            42.358162,
            42.733635,
            39.798363,
            41.140259
           ],
           "legendgroup": "",
           "lon": [
            -82.999069,
            -100.783318,
            -78.639099,
            -96.699654,
            -105.939728,
            -74.769913,
            -97.503342,
            -73.757874,
            -123.030403,
            -97.740349,
            -81.033211,
            -100.346405,
            -86.784241,
            -111.888237,
            -72.580536,
            -77.43364,
            -122.905014,
            -81.612328,
            -112.018417,
            -76.883598,
            -92.172935,
            -86.162643,
            -93.102211,
            -86.300568,
            -112.096962,
            -92.288986,
            -121.493629,
            -104.984856,
            -72.682198,
            -84.281296,
            -84.388229,
            -157.857376,
            -90.182106,
            -116.199722,
            -89.384445,
            -93.603729,
            -95.677956,
            -84.875374,
            -91.187393,
            -69.781693,
            -76.490936,
            -71.063698,
            -84.555328,
            -89.654961,
            -104.820236
           ],
           "marker": {
            "color": "deeppink",
            "opacity": 0.6,
            "size": 4
           },
           "mode": "markers",
           "name": "",
           "showlegend": false,
           "subplot": "mapbox",
           "type": "scattermapbox"
          }
         ],
         "name": "2020"
        }
       ],
       "layout": {
        "coloraxis": {
         "cmax": 16.05,
         "cmin": -24.1,
         "colorbar": {
          "title": {
           "text": "Net Growth %"
          }
         },
         "colorscale": [
          [
           0,
           "#000000"
          ],
          [
           0.0625,
           "#001f4d"
          ],
          [
           0.125,
           "#003786"
          ],
          [
           0.1875,
           "#0e58a8"
          ],
          [
           0.25,
           "#217eb8"
          ],
          [
           0.3125,
           "#30a4ca"
          ],
          [
           0.375,
           "#54c8df"
          ],
          [
           0.4375,
           "#9be4ef"
          ],
          [
           0.5,
           "#e1e9d1"
          ],
          [
           0.5625,
           "#f3d573"
          ],
          [
           0.625,
           "#e7b000"
          ],
          [
           0.6875,
           "#da8200"
          ],
          [
           0.75,
           "#c65400"
          ],
          [
           0.8125,
           "#ac2301"
          ],
          [
           0.875,
           "#820000"
          ],
          [
           0.9375,
           "#4c0000"
          ],
          [
           1,
           "#000000"
          ]
         ]
        },
        "legend": {
         "tracegroupgap": 0
        },
        "mapbox": {
         "accesstoken": "carto-darkmatter",
         "center": {
          "lat": 34.1716235,
          "lon": -113.8195345
         },
         "domain": {
          "x": [
           0,
           1
          ],
          "y": [
           0,
           1
          ]
         },
         "style": "carto-positron",
         "zoom": 1.752714313474838
        },
        "margin": {
         "b": 0,
         "l": 0,
         "r": 0,
         "t": 0
        },
        "sliders": [
         {
          "active": 0,
          "currentvalue": {
           "prefix": "Period="
          },
          "len": 0.9,
          "pad": {
           "b": 10,
           "t": 20
          },
          "steps": [
           {
            "args": [
             [
              "2015"
             ],
             {
              "frame": {
               "duration": 0,
               "redraw": true
              },
              "fromcurrent": true,
              "mode": "immediate",
              "transition": {
               "duration": 0,
               "easing": "linear"
              }
             }
            ],
            "label": "2015",
            "method": "animate"
           },
           {
            "args": [
             [
              "2018"
             ],
             {
              "frame": {
               "duration": 0,
               "redraw": true
              },
              "fromcurrent": true,
              "mode": "immediate",
              "transition": {
               "duration": 0,
               "easing": "linear"
              }
             }
            ],
            "label": "2018",
            "method": "animate"
           },
           {
            "args": [
             [
              "2020"
             ],
             {
              "frame": {
               "duration": 0,
               "redraw": true
              },
              "fromcurrent": true,
              "mode": "immediate",
              "transition": {
               "duration": 0,
               "easing": "linear"
              }
             }
            ],
            "label": "2020",
            "method": "animate"
           }
          ],
          "x": 0.1,
          "xanchor": "left",
          "y": 0,
          "yanchor": "top"
         }
        ],
        "template": {
         "data": {
          "bar": [
           {
            "error_x": {
             "color": "#2a3f5f"
            },
            "error_y": {
             "color": "#2a3f5f"
            },
            "marker": {
             "line": {
              "color": "#E5ECF6",
              "width": 0.5
             }
            },
            "type": "bar"
           }
          ],
          "barpolar": [
           {
            "marker": {
             "line": {
              "color": "#E5ECF6",
              "width": 0.5
             }
            },
            "type": "barpolar"
           }
          ],
          "carpet": [
           {
            "aaxis": {
             "endlinecolor": "#2a3f5f",
             "gridcolor": "white",
             "linecolor": "white",
             "minorgridcolor": "white",
             "startlinecolor": "#2a3f5f"
            },
            "baxis": {
             "endlinecolor": "#2a3f5f",
             "gridcolor": "white",
             "linecolor": "white",
             "minorgridcolor": "white",
             "startlinecolor": "#2a3f5f"
            },
            "type": "carpet"
           }
          ],
          "choropleth": [
           {
            "colorbar": {
             "outlinewidth": 0,
             "ticks": ""
            },
            "type": "choropleth"
           }
          ],
          "contour": [
           {
            "colorbar": {
             "outlinewidth": 0,
             "ticks": ""
            },
            "colorscale": [
             [
              0,
              "#0d0887"
             ],
             [
              0.1111111111111111,
              "#46039f"
             ],
             [
              0.2222222222222222,
              "#7201a8"
             ],
             [
              0.3333333333333333,
              "#9c179e"
             ],
             [
              0.4444444444444444,
              "#bd3786"
             ],
             [
              0.5555555555555556,
              "#d8576b"
             ],
             [
              0.6666666666666666,
              "#ed7953"
             ],
             [
              0.7777777777777778,
              "#fb9f3a"
             ],
             [
              0.8888888888888888,
              "#fdca26"
             ],
             [
              1,
              "#f0f921"
             ]
            ],
            "type": "contour"
           }
          ],
          "contourcarpet": [
           {
            "colorbar": {
             "outlinewidth": 0,
             "ticks": ""
            },
            "type": "contourcarpet"
           }
          ],
          "heatmap": [
           {
            "colorbar": {
             "outlinewidth": 0,
             "ticks": ""
            },
            "colorscale": [
             [
              0,
              "#0d0887"
             ],
             [
              0.1111111111111111,
              "#46039f"
             ],
             [
              0.2222222222222222,
              "#7201a8"
             ],
             [
              0.3333333333333333,
              "#9c179e"
             ],
             [
              0.4444444444444444,
              "#bd3786"
             ],
             [
              0.5555555555555556,
              "#d8576b"
             ],
             [
              0.6666666666666666,
              "#ed7953"
             ],
             [
              0.7777777777777778,
              "#fb9f3a"
             ],
             [
              0.8888888888888888,
              "#fdca26"
             ],
             [
              1,
              "#f0f921"
             ]
            ],
            "type": "heatmap"
           }
          ],
          "heatmapgl": [
           {
            "colorbar": {
             "outlinewidth": 0,
             "ticks": ""
            },
            "colorscale": [
             [
              0,
              "#0d0887"
             ],
             [
              0.1111111111111111,
              "#46039f"
             ],
             [
              0.2222222222222222,
              "#7201a8"
             ],
             [
              0.3333333333333333,
              "#9c179e"
             ],
             [
              0.4444444444444444,
              "#bd3786"
             ],
             [
              0.5555555555555556,
              "#d8576b"
             ],
             [
              0.6666666666666666,
              "#ed7953"
             ],
             [
              0.7777777777777778,
              "#fb9f3a"
             ],
             [
              0.8888888888888888,
              "#fdca26"
             ],
             [
              1,
              "#f0f921"
             ]
            ],
            "type": "heatmapgl"
           }
          ],
          "histogram": [
           {
            "marker": {
             "colorbar": {
              "outlinewidth": 0,
              "ticks": ""
             }
            },
            "type": "histogram"
           }
          ],
          "histogram2d": [
           {
            "colorbar": {
             "outlinewidth": 0,
             "ticks": ""
            },
            "colorscale": [
             [
              0,
              "#0d0887"
             ],
             [
              0.1111111111111111,
              "#46039f"
             ],
             [
              0.2222222222222222,
              "#7201a8"
             ],
             [
              0.3333333333333333,
              "#9c179e"
             ],
             [
              0.4444444444444444,
              "#bd3786"
             ],
             [
              0.5555555555555556,
              "#d8576b"
             ],
             [
              0.6666666666666666,
              "#ed7953"
             ],
             [
              0.7777777777777778,
              "#fb9f3a"
             ],
             [
              0.8888888888888888,
              "#fdca26"
             ],
             [
              1,
              "#f0f921"
             ]
            ],
            "type": "histogram2d"
           }
          ],
          "histogram2dcontour": [
           {
            "colorbar": {
             "outlinewidth": 0,
             "ticks": ""
            },
            "colorscale": [
             [
              0,
              "#0d0887"
             ],
             [
              0.1111111111111111,
              "#46039f"
             ],
             [
              0.2222222222222222,
              "#7201a8"
             ],
             [
              0.3333333333333333,
              "#9c179e"
             ],
             [
              0.4444444444444444,
              "#bd3786"
             ],
             [
              0.5555555555555556,
              "#d8576b"
             ],
             [
              0.6666666666666666,
              "#ed7953"
             ],
             [
              0.7777777777777778,
              "#fb9f3a"
             ],
             [
              0.8888888888888888,
              "#fdca26"
             ],
             [
              1,
              "#f0f921"
             ]
            ],
            "type": "histogram2dcontour"
           }
          ],
          "mesh3d": [
           {
            "colorbar": {
             "outlinewidth": 0,
             "ticks": ""
            },
            "type": "mesh3d"
           }
          ],
          "parcoords": [
           {
            "line": {
             "colorbar": {
              "outlinewidth": 0,
              "ticks": ""
             }
            },
            "type": "parcoords"
           }
          ],
          "pie": [
           {
            "automargin": true,
            "type": "pie"
           }
          ],
          "scatter": [
           {
            "marker": {
             "colorbar": {
              "outlinewidth": 0,
              "ticks": ""
             }
            },
            "type": "scatter"
           }
          ],
          "scatter3d": [
           {
            "line": {
             "colorbar": {
              "outlinewidth": 0,
              "ticks": ""
             }
            },
            "marker": {
             "colorbar": {
              "outlinewidth": 0,
              "ticks": ""
             }
            },
            "type": "scatter3d"
           }
          ],
          "scattercarpet": [
           {
            "marker": {
             "colorbar": {
              "outlinewidth": 0,
              "ticks": ""
             }
            },
            "type": "scattercarpet"
           }
          ],
          "scattergeo": [
           {
            "marker": {
             "colorbar": {
              "outlinewidth": 0,
              "ticks": ""
             }
            },
            "type": "scattergeo"
           }
          ],
          "scattergl": [
           {
            "marker": {
             "colorbar": {
              "outlinewidth": 0,
              "ticks": ""
             }
            },
            "type": "scattergl"
           }
          ],
          "scattermapbox": [
           {
            "marker": {
             "colorbar": {
              "outlinewidth": 0,
              "ticks": ""
             }
            },
            "type": "scattermapbox"
           }
          ],
          "scatterpolar": [
           {
            "marker": {
             "colorbar": {
              "outlinewidth": 0,
              "ticks": ""
             }
            },
            "type": "scatterpolar"
           }
          ],
          "scatterpolargl": [
           {
            "marker": {
             "colorbar": {
              "outlinewidth": 0,
              "ticks": ""
             }
            },
            "type": "scatterpolargl"
           }
          ],
          "scatterternary": [
           {
            "marker": {
             "colorbar": {
              "outlinewidth": 0,
              "ticks": ""
             }
            },
            "type": "scatterternary"
           }
          ],
          "surface": [
           {
            "colorbar": {
             "outlinewidth": 0,
             "ticks": ""
            },
            "colorscale": [
             [
              0,
              "#0d0887"
             ],
             [
              0.1111111111111111,
              "#46039f"
             ],
             [
              0.2222222222222222,
              "#7201a8"
             ],
             [
              0.3333333333333333,
              "#9c179e"
             ],
             [
              0.4444444444444444,
              "#bd3786"
             ],
             [
              0.5555555555555556,
              "#d8576b"
             ],
             [
              0.6666666666666666,
              "#ed7953"
             ],
             [
              0.7777777777777778,
              "#fb9f3a"
             ],
             [
              0.8888888888888888,
              "#fdca26"
             ],
             [
              1,
              "#f0f921"
             ]
            ],
            "type": "surface"
           }
          ],
          "table": [
           {
            "cells": {
             "fill": {
              "color": "#EBF0F8"
             },
             "line": {
              "color": "white"
             }
            },
            "header": {
             "fill": {
              "color": "#C8D4E3"
             },
             "line": {
              "color": "white"
             }
            },
            "type": "table"
           }
          ]
         },
         "layout": {
          "annotationdefaults": {
           "arrowcolor": "#2a3f5f",
           "arrowhead": 0,
           "arrowwidth": 1
          },
          "autotypenumbers": "strict",
          "coloraxis": {
           "colorbar": {
            "outlinewidth": 0,
            "ticks": ""
           }
          },
          "colorscale": {
           "diverging": [
            [
             0,
             "#8e0152"
            ],
            [
             0.1,
             "#c51b7d"
            ],
            [
             0.2,
             "#de77ae"
            ],
            [
             0.3,
             "#f1b6da"
            ],
            [
             0.4,
             "#fde0ef"
            ],
            [
             0.5,
             "#f7f7f7"
            ],
            [
             0.6,
             "#e6f5d0"
            ],
            [
             0.7,
             "#b8e186"
            ],
            [
             0.8,
             "#7fbc41"
            ],
            [
             0.9,
             "#4d9221"
            ],
            [
             1,
             "#276419"
            ]
           ],
           "sequential": [
            [
             0,
             "#0d0887"
            ],
            [
             0.1111111111111111,
             "#46039f"
            ],
            [
             0.2222222222222222,
             "#7201a8"
            ],
            [
             0.3333333333333333,
             "#9c179e"
            ],
            [
             0.4444444444444444,
             "#bd3786"
            ],
            [
             0.5555555555555556,
             "#d8576b"
            ],
            [
             0.6666666666666666,
             "#ed7953"
            ],
            [
             0.7777777777777778,
             "#fb9f3a"
            ],
            [
             0.8888888888888888,
             "#fdca26"
            ],
            [
             1,
             "#f0f921"
            ]
           ],
           "sequentialminus": [
            [
             0,
             "#0d0887"
            ],
            [
             0.1111111111111111,
             "#46039f"
            ],
            [
             0.2222222222222222,
             "#7201a8"
            ],
            [
             0.3333333333333333,
             "#9c179e"
            ],
            [
             0.4444444444444444,
             "#bd3786"
            ],
            [
             0.5555555555555556,
             "#d8576b"
            ],
            [
             0.6666666666666666,
             "#ed7953"
            ],
            [
             0.7777777777777778,
             "#fb9f3a"
            ],
            [
             0.8888888888888888,
             "#fdca26"
            ],
            [
             1,
             "#f0f921"
            ]
           ]
          },
          "colorway": [
           "#636efa",
           "#EF553B",
           "#00cc96",
           "#ab63fa",
           "#FFA15A",
           "#19d3f3",
           "#FF6692",
           "#B6E880",
           "#FF97FF",
           "#FECB52"
          ],
          "font": {
           "color": "#2a3f5f"
          },
          "geo": {
           "bgcolor": "white",
           "lakecolor": "white",
           "landcolor": "#E5ECF6",
           "showlakes": true,
           "showland": true,
           "subunitcolor": "white"
          },
          "hoverlabel": {
           "align": "left"
          },
          "hovermode": "closest",
          "mapbox": {
           "style": "light"
          },
          "paper_bgcolor": "white",
          "plot_bgcolor": "#E5ECF6",
          "polar": {
           "angularaxis": {
            "gridcolor": "white",
            "linecolor": "white",
            "ticks": ""
           },
           "bgcolor": "#E5ECF6",
           "radialaxis": {
            "gridcolor": "white",
            "linecolor": "white",
            "ticks": ""
           }
          },
          "scene": {
           "xaxis": {
            "backgroundcolor": "#E5ECF6",
            "gridcolor": "white",
            "gridwidth": 2,
            "linecolor": "white",
            "showbackground": true,
            "ticks": "",
            "zerolinecolor": "white"
           },
           "yaxis": {
            "backgroundcolor": "#E5ECF6",
            "gridcolor": "white",
            "gridwidth": 2,
            "linecolor": "white",
            "showbackground": true,
            "ticks": "",
            "zerolinecolor": "white"
           },
           "zaxis": {
            "backgroundcolor": "#E5ECF6",
            "gridcolor": "white",
            "gridwidth": 2,
            "linecolor": "white",
            "showbackground": true,
            "ticks": "",
            "zerolinecolor": "white"
           }
          },
          "shapedefaults": {
           "line": {
            "color": "#2a3f5f"
           }
          },
          "ternary": {
           "aaxis": {
            "gridcolor": "white",
            "linecolor": "white",
            "ticks": ""
           },
           "baxis": {
            "gridcolor": "white",
            "linecolor": "white",
            "ticks": ""
           },
           "bgcolor": "#E5ECF6",
           "caxis": {
            "gridcolor": "white",
            "linecolor": "white",
            "ticks": ""
           }
          },
          "title": {
           "x": 0.05
          },
          "xaxis": {
           "automargin": true,
           "gridcolor": "white",
           "linecolor": "white",
           "ticks": "",
           "title": {
            "standoff": 15
           },
           "zerolinecolor": "white",
           "zerolinewidth": 2
          },
          "yaxis": {
           "automargin": true,
           "gridcolor": "white",
           "linecolor": "white",
           "ticks": "",
           "title": {
            "standoff": 15
           },
           "zerolinecolor": "white",
           "zerolinewidth": 2
          }
         }
        },
        "title": {
         "text": "I Bee-lieve in growth"
        },
        "updatemenus": [
         {
          "buttons": [
           {
            "args": [
             null,
             {
              "frame": {
               "duration": 500,
               "redraw": true
              },
              "fromcurrent": true,
              "mode": "immediate",
              "transition": {
               "duration": 500,
               "easing": "linear"
              }
             }
            ],
            "label": "&#9654;",
            "method": "animate"
           },
           {
            "args": [
             [
              null
             ],
             {
              "frame": {
               "duration": 0,
               "redraw": true
              },
              "fromcurrent": true,
              "mode": "immediate",
              "transition": {
               "duration": 0,
               "easing": "linear"
              }
             }
            ],
            "label": "&#9724;",
            "method": "animate"
           }
          ],
          "direction": "left",
          "pad": {
           "r": 10,
           "t": 40
          },
          "showactive": false,
          "type": "buttons",
          "x": 0.1,
          "xanchor": "right",
          "y": 0,
          "yanchor": "top"
         }
        ]
       }
      }
     },
     "metadata": {},
     "output_type": "display_data"
    }
   ],
   "source": [
    "# Building an animated hexbin chart\n",
    "import plotly.figure_factory as ff\n",
    "import plotly.express as px\n",
    "\n",
    "\n",
    "px.set_mapbox_access_token(\"carto-darkmatter\")\n",
    "\n",
    "\n",
    "fig = ff.create_hexbin_mapbox(\n",
    "    df_cleaned[df_cleaned.year.isin([2015,2018,2020])], lat='latitude', lon='longitude', nx_hexagon=15, color='colony_net_pct_mean', animation_frame='year',\n",
    "    color_continuous_scale=\"icefire\", labels={\"color\": \"Net Growth %\", \"frame\": \"Period\"}, title= \"I Bee-lieve in growth\",\n",
    "    opacity=0.5, min_count=1,\n",
    "    show_original_data=True, original_data_marker=dict(opacity=0.6, size=4, color=\"deeppink\")\n",
    ")\n",
    "fig.update_layout(margin=dict(b=0, t=0, l=0, r=0), mapbox_style= \"carto-positron\")\n",
    "fig.layout.sliders[0].pad.t=20\n",
    "fig.layout.updatemenus[0].pad.t=40\n",
    "fig.show()"
   ]
  },
  {
   "cell_type": "code",
   "execution_count": 135,
   "metadata": {},
   "outputs": [
    {
     "data": {
      "image/png": "[encoded data removed]",
      "text/plain": [
       "<IPython.core.display.Image object>"
      ]
     },
     "execution_count": 135,
     "metadata": {},
     "output_type": "execute_result"
    }
   ],
   "source": [
    "# Display Output in production\n",
    "img_bytes = fig.to_image(format=\"png\")\n",
    "from IPython.display import Image\n",
    "Image(img_bytes)\n"
   ]
  }
 ],
 "metadata": {
  "interpreter": {
   "hash": "5752678d7f8bf2f9025b7583bc8bc045cfa703db6e2ec6c1e574ff04808384ee"
  },
  "kernelspec": {
   "display_name": "Python 3.7.6 64-bit ('project_env': venv)",
   "language": "python",
   "name": "python3"
  },
  "language_info": {
   "codemirror_mode": {
    "name": "ipython",
    "version": 3
   },
   "file_extension": ".py",
   "mimetype": "text/x-python",
   "name": "python",
   "nbconvert_exporter": "python",
   "pygments_lexer": "ipython3",
   "version": "3.7.6"
  },
  "orig_nbformat": 4
 },
 "nbformat": 4,
 "nbformat_minor": 2
}
