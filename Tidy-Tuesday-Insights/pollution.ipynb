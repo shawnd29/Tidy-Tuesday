{
 "cells": [
  {
   "cell_type": "markdown",
   "metadata": {},
   "source": [
    "2022-04-12 <br/>\n",
    "Indoor Air Pollution<br/>\n",
    "https://github.com/rfordatascience/tidytuesday/blob/master/data/2022/2022-04-12/readme.md"
   ]
  },
  {
   "cell_type": "markdown",
   "metadata": {},
   "source": [
    "Facet Plots - Completed "
   ]
  },
  {
   "cell_type": "code",
   "execution_count": 1,
   "metadata": {},
   "outputs": [],
   "source": [
    "import pandas as pd\n",
    "import plotly.graph_objects as go\n",
    "import plotly.express as px\n",
    "import plotly.io as pio\n",
    "pio.renderers.default='jupyterlab'\n",
    "import os"
   ]
  },
  {
   "cell_type": "code",
   "execution_count": 2,
   "metadata": {},
   "outputs": [],
   "source": [
    "import pandas as pd"
   ]
  },
  {
   "cell_type": "code",
   "execution_count": 3,
   "metadata": {},
   "outputs": [],
   "source": [
    "col_name = ['Entity', 'Code', 'Year','Deaths']"
   ]
  },
  {
   "cell_type": "code",
   "execution_count": 4,
   "metadata": {},
   "outputs": [],
   "source": [
    "df = pd.read_csv('https://raw.githubusercontent.com/rfordatascience/tidytuesday/master/data/2022/2022-04-12/indoor_pollution.csv',names=col_name,header=0)"
   ]
  },
  {
   "cell_type": "code",
   "execution_count": 5,
   "metadata": {},
   "outputs": [
    {
     "data": {
      "text/html": [
       "<div>\n",
       "<style scoped>\n",
       "    .dataframe tbody tr th:only-of-type {\n",
       "        vertical-align: middle;\n",
       "    }\n",
       "\n",
       "    .dataframe tbody tr th {\n",
       "        vertical-align: top;\n",
       "    }\n",
       "\n",
       "    .dataframe thead th {\n",
       "        text-align: right;\n",
       "    }\n",
       "</style>\n",
       "<table border=\"1\" class=\"dataframe\">\n",
       "  <thead>\n",
       "    <tr style=\"text-align: right;\">\n",
       "      <th></th>\n",
       "      <th>Entity</th>\n",
       "      <th>Code</th>\n",
       "      <th>Year</th>\n",
       "      <th>Deaths</th>\n",
       "    </tr>\n",
       "  </thead>\n",
       "  <tbody>\n",
       "    <tr>\n",
       "      <th>0</th>\n",
       "      <td>Afghanistan</td>\n",
       "      <td>AFG</td>\n",
       "      <td>1990</td>\n",
       "      <td>19.623001</td>\n",
       "    </tr>\n",
       "    <tr>\n",
       "      <th>1</th>\n",
       "      <td>Afghanistan</td>\n",
       "      <td>AFG</td>\n",
       "      <td>1991</td>\n",
       "      <td>19.335193</td>\n",
       "    </tr>\n",
       "    <tr>\n",
       "      <th>2</th>\n",
       "      <td>Afghanistan</td>\n",
       "      <td>AFG</td>\n",
       "      <td>1992</td>\n",
       "      <td>19.508785</td>\n",
       "    </tr>\n",
       "    <tr>\n",
       "      <th>3</th>\n",
       "      <td>Afghanistan</td>\n",
       "      <td>AFG</td>\n",
       "      <td>1993</td>\n",
       "      <td>19.677607</td>\n",
       "    </tr>\n",
       "    <tr>\n",
       "      <th>4</th>\n",
       "      <td>Afghanistan</td>\n",
       "      <td>AFG</td>\n",
       "      <td>1994</td>\n",
       "      <td>19.432528</td>\n",
       "    </tr>\n",
       "  </tbody>\n",
       "</table>\n",
       "</div>"
      ],
      "text/plain": [
       "        Entity Code  Year     Deaths\n",
       "0  Afghanistan  AFG  1990  19.623001\n",
       "1  Afghanistan  AFG  1991  19.335193\n",
       "2  Afghanistan  AFG  1992  19.508785\n",
       "3  Afghanistan  AFG  1993  19.677607\n",
       "4  Afghanistan  AFG  1994  19.432528"
      ]
     },
     "execution_count": 5,
     "metadata": {},
     "output_type": "execute_result"
    }
   ],
   "source": [
    "df.head()"
   ]
  },
  {
   "cell_type": "code",
   "execution_count": 6,
   "metadata": {},
   "outputs": [
    {
     "data": {
      "text/plain": [
       "AFG    30\n",
       "PRY    30\n",
       "PRK    30\n",
       "MKD    30\n",
       "MNP    30\n",
       "       ..\n",
       "GRD    30\n",
       "GUM    30\n",
       "GTM    30\n",
       "GIN    30\n",
       "ZWE    30\n",
       "Name: Code, Length: 205, dtype: int64"
      ]
     },
     "execution_count": 6,
     "metadata": {},
     "output_type": "execute_result"
    }
   ],
   "source": [
    "df.Code.value_counts()"
   ]
  },
  {
   "cell_type": "code",
   "execution_count": 7,
   "metadata": {},
   "outputs": [],
   "source": [
    "df_reduced=df[df.Code.isin(['AFG','USA','ARE','IND','CHN','SLB'])]"
   ]
  },
  {
   "cell_type": "code",
   "execution_count": 8,
   "metadata": {},
   "outputs": [],
   "source": [
    "df_reduced = df_reduced[df_reduced.Year>2009].reset_index(drop=True)"
   ]
  },
  {
   "cell_type": "code",
   "execution_count": 9,
   "metadata": {},
   "outputs": [
    {
     "data": {
      "text/plain": [
       "Index(['Entity', 'Code', 'Year', 'Deaths'], dtype='object')"
      ]
     },
     "execution_count": 9,
     "metadata": {},
     "output_type": "execute_result"
    }
   ],
   "source": [
    "df_reduced.columns"
   ]
  },
  {
   "cell_type": "code",
   "execution_count": 10,
   "metadata": {},
   "outputs": [
    {
     "data": {
      "text/html": [
       "<div>\n",
       "<style scoped>\n",
       "    .dataframe tbody tr th:only-of-type {\n",
       "        vertical-align: middle;\n",
       "    }\n",
       "\n",
       "    .dataframe tbody tr th {\n",
       "        vertical-align: top;\n",
       "    }\n",
       "\n",
       "    .dataframe thead th {\n",
       "        text-align: right;\n",
       "    }\n",
       "</style>\n",
       "<table border=\"1\" class=\"dataframe\">\n",
       "  <thead>\n",
       "    <tr style=\"text-align: right;\">\n",
       "      <th></th>\n",
       "      <th>Entity</th>\n",
       "      <th>Code</th>\n",
       "      <th>Year</th>\n",
       "      <th>Deaths</th>\n",
       "    </tr>\n",
       "  </thead>\n",
       "  <tbody>\n",
       "    <tr>\n",
       "      <th>0</th>\n",
       "      <td>Afghanistan</td>\n",
       "      <td>AFG</td>\n",
       "      <td>2010</td>\n",
       "      <td>17.400689</td>\n",
       "    </tr>\n",
       "    <tr>\n",
       "      <th>1</th>\n",
       "      <td>Afghanistan</td>\n",
       "      <td>AFG</td>\n",
       "      <td>2011</td>\n",
       "      <td>16.931885</td>\n",
       "    </tr>\n",
       "    <tr>\n",
       "      <th>2</th>\n",
       "      <td>Afghanistan</td>\n",
       "      <td>AFG</td>\n",
       "      <td>2012</td>\n",
       "      <td>16.341981</td>\n",
       "    </tr>\n",
       "    <tr>\n",
       "      <th>3</th>\n",
       "      <td>Afghanistan</td>\n",
       "      <td>AFG</td>\n",
       "      <td>2013</td>\n",
       "      <td>15.810533</td>\n",
       "    </tr>\n",
       "    <tr>\n",
       "      <th>4</th>\n",
       "      <td>Afghanistan</td>\n",
       "      <td>AFG</td>\n",
       "      <td>2014</td>\n",
       "      <td>15.077770</td>\n",
       "    </tr>\n",
       "    <tr>\n",
       "      <th>5</th>\n",
       "      <td>Afghanistan</td>\n",
       "      <td>AFG</td>\n",
       "      <td>2015</td>\n",
       "      <td>14.488496</td>\n",
       "    </tr>\n",
       "    <tr>\n",
       "      <th>6</th>\n",
       "      <td>Afghanistan</td>\n",
       "      <td>AFG</td>\n",
       "      <td>2016</td>\n",
       "      <td>14.052793</td>\n",
       "    </tr>\n",
       "    <tr>\n",
       "      <th>7</th>\n",
       "      <td>Afghanistan</td>\n",
       "      <td>AFG</td>\n",
       "      <td>2017</td>\n",
       "      <td>13.999306</td>\n",
       "    </tr>\n",
       "    <tr>\n",
       "      <th>8</th>\n",
       "      <td>Afghanistan</td>\n",
       "      <td>AFG</td>\n",
       "      <td>2018</td>\n",
       "      <td>12.697658</td>\n",
       "    </tr>\n",
       "    <tr>\n",
       "      <th>9</th>\n",
       "      <td>Afghanistan</td>\n",
       "      <td>AFG</td>\n",
       "      <td>2019</td>\n",
       "      <td>12.510844</td>\n",
       "    </tr>\n",
       "    <tr>\n",
       "      <th>10</th>\n",
       "      <td>China</td>\n",
       "      <td>CHN</td>\n",
       "      <td>2010</td>\n",
       "      <td>6.251498</td>\n",
       "    </tr>\n",
       "    <tr>\n",
       "      <th>11</th>\n",
       "      <td>China</td>\n",
       "      <td>CHN</td>\n",
       "      <td>2011</td>\n",
       "      <td>5.835791</td>\n",
       "    </tr>\n",
       "    <tr>\n",
       "      <th>12</th>\n",
       "      <td>China</td>\n",
       "      <td>CHN</td>\n",
       "      <td>2012</td>\n",
       "      <td>5.421846</td>\n",
       "    </tr>\n",
       "    <tr>\n",
       "      <th>13</th>\n",
       "      <td>China</td>\n",
       "      <td>CHN</td>\n",
       "      <td>2013</td>\n",
       "      <td>5.057729</td>\n",
       "    </tr>\n",
       "    <tr>\n",
       "      <th>14</th>\n",
       "      <td>China</td>\n",
       "      <td>CHN</td>\n",
       "      <td>2014</td>\n",
       "      <td>4.724048</td>\n",
       "    </tr>\n",
       "    <tr>\n",
       "      <th>15</th>\n",
       "      <td>China</td>\n",
       "      <td>CHN</td>\n",
       "      <td>2015</td>\n",
       "      <td>4.429638</td>\n",
       "    </tr>\n",
       "    <tr>\n",
       "      <th>16</th>\n",
       "      <td>China</td>\n",
       "      <td>CHN</td>\n",
       "      <td>2016</td>\n",
       "      <td>4.189269</td>\n",
       "    </tr>\n",
       "    <tr>\n",
       "      <th>17</th>\n",
       "      <td>China</td>\n",
       "      <td>CHN</td>\n",
       "      <td>2017</td>\n",
       "      <td>3.955713</td>\n",
       "    </tr>\n",
       "    <tr>\n",
       "      <th>18</th>\n",
       "      <td>China</td>\n",
       "      <td>CHN</td>\n",
       "      <td>2018</td>\n",
       "      <td>3.645834</td>\n",
       "    </tr>\n",
       "    <tr>\n",
       "      <th>19</th>\n",
       "      <td>China</td>\n",
       "      <td>CHN</td>\n",
       "      <td>2019</td>\n",
       "      <td>3.268294</td>\n",
       "    </tr>\n",
       "    <tr>\n",
       "      <th>20</th>\n",
       "      <td>India</td>\n",
       "      <td>IND</td>\n",
       "      <td>2010</td>\n",
       "      <td>9.810676</td>\n",
       "    </tr>\n",
       "    <tr>\n",
       "      <th>21</th>\n",
       "      <td>India</td>\n",
       "      <td>IND</td>\n",
       "      <td>2011</td>\n",
       "      <td>9.389897</td>\n",
       "    </tr>\n",
       "    <tr>\n",
       "      <th>22</th>\n",
       "      <td>India</td>\n",
       "      <td>IND</td>\n",
       "      <td>2012</td>\n",
       "      <td>9.031397</td>\n",
       "    </tr>\n",
       "    <tr>\n",
       "      <th>23</th>\n",
       "      <td>India</td>\n",
       "      <td>IND</td>\n",
       "      <td>2013</td>\n",
       "      <td>8.553600</td>\n",
       "    </tr>\n",
       "    <tr>\n",
       "      <th>24</th>\n",
       "      <td>India</td>\n",
       "      <td>IND</td>\n",
       "      <td>2014</td>\n",
       "      <td>8.115527</td>\n",
       "    </tr>\n",
       "    <tr>\n",
       "      <th>25</th>\n",
       "      <td>India</td>\n",
       "      <td>IND</td>\n",
       "      <td>2015</td>\n",
       "      <td>7.770866</td>\n",
       "    </tr>\n",
       "    <tr>\n",
       "      <th>26</th>\n",
       "      <td>India</td>\n",
       "      <td>IND</td>\n",
       "      <td>2016</td>\n",
       "      <td>7.516589</td>\n",
       "    </tr>\n",
       "    <tr>\n",
       "      <th>27</th>\n",
       "      <td>India</td>\n",
       "      <td>IND</td>\n",
       "      <td>2017</td>\n",
       "      <td>7.271043</td>\n",
       "    </tr>\n",
       "    <tr>\n",
       "      <th>28</th>\n",
       "      <td>India</td>\n",
       "      <td>IND</td>\n",
       "      <td>2018</td>\n",
       "      <td>6.958776</td>\n",
       "    </tr>\n",
       "    <tr>\n",
       "      <th>29</th>\n",
       "      <td>India</td>\n",
       "      <td>IND</td>\n",
       "      <td>2019</td>\n",
       "      <td>6.573051</td>\n",
       "    </tr>\n",
       "    <tr>\n",
       "      <th>30</th>\n",
       "      <td>Solomon Islands</td>\n",
       "      <td>SLB</td>\n",
       "      <td>2010</td>\n",
       "      <td>20.833500</td>\n",
       "    </tr>\n",
       "    <tr>\n",
       "      <th>31</th>\n",
       "      <td>Solomon Islands</td>\n",
       "      <td>SLB</td>\n",
       "      <td>2011</td>\n",
       "      <td>21.287668</td>\n",
       "    </tr>\n",
       "    <tr>\n",
       "      <th>32</th>\n",
       "      <td>Solomon Islands</td>\n",
       "      <td>SLB</td>\n",
       "      <td>2012</td>\n",
       "      <td>21.371218</td>\n",
       "    </tr>\n",
       "    <tr>\n",
       "      <th>33</th>\n",
       "      <td>Solomon Islands</td>\n",
       "      <td>SLB</td>\n",
       "      <td>2013</td>\n",
       "      <td>21.357138</td>\n",
       "    </tr>\n",
       "    <tr>\n",
       "      <th>34</th>\n",
       "      <td>Solomon Islands</td>\n",
       "      <td>SLB</td>\n",
       "      <td>2014</td>\n",
       "      <td>21.341885</td>\n",
       "    </tr>\n",
       "    <tr>\n",
       "      <th>35</th>\n",
       "      <td>Solomon Islands</td>\n",
       "      <td>SLB</td>\n",
       "      <td>2015</td>\n",
       "      <td>21.305691</td>\n",
       "    </tr>\n",
       "    <tr>\n",
       "      <th>36</th>\n",
       "      <td>Solomon Islands</td>\n",
       "      <td>SLB</td>\n",
       "      <td>2016</td>\n",
       "      <td>20.988993</td>\n",
       "    </tr>\n",
       "    <tr>\n",
       "      <th>37</th>\n",
       "      <td>Solomon Islands</td>\n",
       "      <td>SLB</td>\n",
       "      <td>2017</td>\n",
       "      <td>20.863696</td>\n",
       "    </tr>\n",
       "    <tr>\n",
       "      <th>38</th>\n",
       "      <td>Solomon Islands</td>\n",
       "      <td>SLB</td>\n",
       "      <td>2018</td>\n",
       "      <td>20.855393</td>\n",
       "    </tr>\n",
       "    <tr>\n",
       "      <th>39</th>\n",
       "      <td>Solomon Islands</td>\n",
       "      <td>SLB</td>\n",
       "      <td>2019</td>\n",
       "      <td>20.686017</td>\n",
       "    </tr>\n",
       "    <tr>\n",
       "      <th>40</th>\n",
       "      <td>United Arab Emirates</td>\n",
       "      <td>ARE</td>\n",
       "      <td>2010</td>\n",
       "      <td>0.001114</td>\n",
       "    </tr>\n",
       "    <tr>\n",
       "      <th>41</th>\n",
       "      <td>United Arab Emirates</td>\n",
       "      <td>ARE</td>\n",
       "      <td>2011</td>\n",
       "      <td>0.001003</td>\n",
       "    </tr>\n",
       "    <tr>\n",
       "      <th>42</th>\n",
       "      <td>United Arab Emirates</td>\n",
       "      <td>ARE</td>\n",
       "      <td>2012</td>\n",
       "      <td>0.000919</td>\n",
       "    </tr>\n",
       "    <tr>\n",
       "      <th>43</th>\n",
       "      <td>United Arab Emirates</td>\n",
       "      <td>ARE</td>\n",
       "      <td>2013</td>\n",
       "      <td>0.000838</td>\n",
       "    </tr>\n",
       "    <tr>\n",
       "      <th>44</th>\n",
       "      <td>United Arab Emirates</td>\n",
       "      <td>ARE</td>\n",
       "      <td>2014</td>\n",
       "      <td>0.000733</td>\n",
       "    </tr>\n",
       "    <tr>\n",
       "      <th>45</th>\n",
       "      <td>United Arab Emirates</td>\n",
       "      <td>ARE</td>\n",
       "      <td>2015</td>\n",
       "      <td>0.000692</td>\n",
       "    </tr>\n",
       "    <tr>\n",
       "      <th>46</th>\n",
       "      <td>United Arab Emirates</td>\n",
       "      <td>ARE</td>\n",
       "      <td>2016</td>\n",
       "      <td>0.000656</td>\n",
       "    </tr>\n",
       "    <tr>\n",
       "      <th>47</th>\n",
       "      <td>United Arab Emirates</td>\n",
       "      <td>ARE</td>\n",
       "      <td>2017</td>\n",
       "      <td>0.000621</td>\n",
       "    </tr>\n",
       "    <tr>\n",
       "      <th>48</th>\n",
       "      <td>United Arab Emirates</td>\n",
       "      <td>ARE</td>\n",
       "      <td>2018</td>\n",
       "      <td>0.000576</td>\n",
       "    </tr>\n",
       "    <tr>\n",
       "      <th>49</th>\n",
       "      <td>United Arab Emirates</td>\n",
       "      <td>ARE</td>\n",
       "      <td>2019</td>\n",
       "      <td>0.000524</td>\n",
       "    </tr>\n",
       "    <tr>\n",
       "      <th>50</th>\n",
       "      <td>United States</td>\n",
       "      <td>USA</td>\n",
       "      <td>2010</td>\n",
       "      <td>0.007879</td>\n",
       "    </tr>\n",
       "    <tr>\n",
       "      <th>51</th>\n",
       "      <td>United States</td>\n",
       "      <td>USA</td>\n",
       "      <td>2011</td>\n",
       "      <td>0.007446</td>\n",
       "    </tr>\n",
       "    <tr>\n",
       "      <th>52</th>\n",
       "      <td>United States</td>\n",
       "      <td>USA</td>\n",
       "      <td>2012</td>\n",
       "      <td>0.007033</td>\n",
       "    </tr>\n",
       "    <tr>\n",
       "      <th>53</th>\n",
       "      <td>United States</td>\n",
       "      <td>USA</td>\n",
       "      <td>2013</td>\n",
       "      <td>0.006616</td>\n",
       "    </tr>\n",
       "    <tr>\n",
       "      <th>54</th>\n",
       "      <td>United States</td>\n",
       "      <td>USA</td>\n",
       "      <td>2014</td>\n",
       "      <td>0.006248</td>\n",
       "    </tr>\n",
       "    <tr>\n",
       "      <th>55</th>\n",
       "      <td>United States</td>\n",
       "      <td>USA</td>\n",
       "      <td>2015</td>\n",
       "      <td>0.005879</td>\n",
       "    </tr>\n",
       "    <tr>\n",
       "      <th>56</th>\n",
       "      <td>United States</td>\n",
       "      <td>USA</td>\n",
       "      <td>2016</td>\n",
       "      <td>0.005494</td>\n",
       "    </tr>\n",
       "    <tr>\n",
       "      <th>57</th>\n",
       "      <td>United States</td>\n",
       "      <td>USA</td>\n",
       "      <td>2017</td>\n",
       "      <td>0.005245</td>\n",
       "    </tr>\n",
       "    <tr>\n",
       "      <th>58</th>\n",
       "      <td>United States</td>\n",
       "      <td>USA</td>\n",
       "      <td>2018</td>\n",
       "      <td>0.005144</td>\n",
       "    </tr>\n",
       "    <tr>\n",
       "      <th>59</th>\n",
       "      <td>United States</td>\n",
       "      <td>USA</td>\n",
       "      <td>2019</td>\n",
       "      <td>0.005066</td>\n",
       "    </tr>\n",
       "  </tbody>\n",
       "</table>\n",
       "</div>"
      ],
      "text/plain": [
       "                  Entity Code  Year     Deaths\n",
       "0            Afghanistan  AFG  2010  17.400689\n",
       "1            Afghanistan  AFG  2011  16.931885\n",
       "2            Afghanistan  AFG  2012  16.341981\n",
       "3            Afghanistan  AFG  2013  15.810533\n",
       "4            Afghanistan  AFG  2014  15.077770\n",
       "5            Afghanistan  AFG  2015  14.488496\n",
       "6            Afghanistan  AFG  2016  14.052793\n",
       "7            Afghanistan  AFG  2017  13.999306\n",
       "8            Afghanistan  AFG  2018  12.697658\n",
       "9            Afghanistan  AFG  2019  12.510844\n",
       "10                 China  CHN  2010   6.251498\n",
       "11                 China  CHN  2011   5.835791\n",
       "12                 China  CHN  2012   5.421846\n",
       "13                 China  CHN  2013   5.057729\n",
       "14                 China  CHN  2014   4.724048\n",
       "15                 China  CHN  2015   4.429638\n",
       "16                 China  CHN  2016   4.189269\n",
       "17                 China  CHN  2017   3.955713\n",
       "18                 China  CHN  2018   3.645834\n",
       "19                 China  CHN  2019   3.268294\n",
       "20                 India  IND  2010   9.810676\n",
       "21                 India  IND  2011   9.389897\n",
       "22                 India  IND  2012   9.031397\n",
       "23                 India  IND  2013   8.553600\n",
       "24                 India  IND  2014   8.115527\n",
       "25                 India  IND  2015   7.770866\n",
       "26                 India  IND  2016   7.516589\n",
       "27                 India  IND  2017   7.271043\n",
       "28                 India  IND  2018   6.958776\n",
       "29                 India  IND  2019   6.573051\n",
       "30       Solomon Islands  SLB  2010  20.833500\n",
       "31       Solomon Islands  SLB  2011  21.287668\n",
       "32       Solomon Islands  SLB  2012  21.371218\n",
       "33       Solomon Islands  SLB  2013  21.357138\n",
       "34       Solomon Islands  SLB  2014  21.341885\n",
       "35       Solomon Islands  SLB  2015  21.305691\n",
       "36       Solomon Islands  SLB  2016  20.988993\n",
       "37       Solomon Islands  SLB  2017  20.863696\n",
       "38       Solomon Islands  SLB  2018  20.855393\n",
       "39       Solomon Islands  SLB  2019  20.686017\n",
       "40  United Arab Emirates  ARE  2010   0.001114\n",
       "41  United Arab Emirates  ARE  2011   0.001003\n",
       "42  United Arab Emirates  ARE  2012   0.000919\n",
       "43  United Arab Emirates  ARE  2013   0.000838\n",
       "44  United Arab Emirates  ARE  2014   0.000733\n",
       "45  United Arab Emirates  ARE  2015   0.000692\n",
       "46  United Arab Emirates  ARE  2016   0.000656\n",
       "47  United Arab Emirates  ARE  2017   0.000621\n",
       "48  United Arab Emirates  ARE  2018   0.000576\n",
       "49  United Arab Emirates  ARE  2019   0.000524\n",
       "50         United States  USA  2010   0.007879\n",
       "51         United States  USA  2011   0.007446\n",
       "52         United States  USA  2012   0.007033\n",
       "53         United States  USA  2013   0.006616\n",
       "54         United States  USA  2014   0.006248\n",
       "55         United States  USA  2015   0.005879\n",
       "56         United States  USA  2016   0.005494\n",
       "57         United States  USA  2017   0.005245\n",
       "58         United States  USA  2018   0.005144\n",
       "59         United States  USA  2019   0.005066"
      ]
     },
     "execution_count": 10,
     "metadata": {},
     "output_type": "execute_result"
    }
   ],
   "source": [
    "df_reduced"
   ]
  },
  {
   "cell_type": "code",
   "execution_count": 11,
   "metadata": {},
   "outputs": [
    {
     "data": {
      "application/vnd.plotly.v1+json": {
       "config": {
        "plotlyServerURL": "https://plot.ly"
       },
       "data": [
        {
         "hovertemplate": "Entity=%{x}<br>Year=2010<br>Deaths=%{marker.size}<extra></extra>",
         "legendgroup": "Afghanistan",
         "marker": {
          "color": "#636efa",
          "size": [
           17.40068918418212
          ],
          "sizemode": "area",
          "sizeref": 0.053428044991716425,
          "symbol": "circle"
         },
         "mode": "markers",
         "name": "Afghanistan",
         "orientation": "v",
         "showlegend": true,
         "type": "scatter",
         "x": [
          "Afghanistan"
         ],
         "xaxis": "x9",
         "y": [
          17.40068918418212
         ],
         "yaxis": "y9"
        },
        {
         "hovertemplate": "Entity=%{x}<br>Year=2011<br>Deaths=%{marker.size}<extra></extra>",
         "legendgroup": "Afghanistan",
         "marker": {
          "color": "#636efa",
          "size": [
           16.93188525265915
          ],
          "sizemode": "area",
          "sizeref": 0.053428044991716425,
          "symbol": "circle"
         },
         "mode": "markers",
         "name": "Afghanistan",
         "orientation": "v",
         "showlegend": false,
         "type": "scatter",
         "x": [
          "Afghanistan"
         ],
         "xaxis": "x10",
         "y": [
          16.93188525265915
         ],
         "yaxis": "y10"
        },
        {
         "hovertemplate": "Entity=%{x}<br>Year=2012<br>Deaths=%{marker.size}<extra></extra>",
         "legendgroup": "Afghanistan",
         "marker": {
          "color": "#636efa",
          "size": [
           16.341981040576638
          ],
          "sizemode": "area",
          "sizeref": 0.053428044991716425,
          "symbol": "circle"
         },
         "mode": "markers",
         "name": "Afghanistan",
         "orientation": "v",
         "showlegend": false,
         "type": "scatter",
         "x": [
          "Afghanistan"
         ],
         "xaxis": "x11",
         "y": [
          16.341981040576638
         ],
         "yaxis": "y11"
        },
        {
         "hovertemplate": "Entity=%{x}<br>Year=2013<br>Deaths=%{marker.size}<extra></extra>",
         "legendgroup": "Afghanistan",
         "marker": {
          "color": "#636efa",
          "size": [
           15.81053330642035
          ],
          "sizemode": "area",
          "sizeref": 0.053428044991716425,
          "symbol": "circle"
         },
         "mode": "markers",
         "name": "Afghanistan",
         "orientation": "v",
         "showlegend": false,
         "type": "scatter",
         "x": [
          "Afghanistan"
         ],
         "xaxis": "x12",
         "y": [
          15.81053330642035
         ],
         "yaxis": "y12"
        },
        {
         "hovertemplate": "Entity=%{x}<br>Year=2014<br>Deaths=%{marker.size}<extra></extra>",
         "legendgroup": "Afghanistan",
         "marker": {
          "color": "#636efa",
          "size": [
           15.07776954596845
          ],
          "sizemode": "area",
          "sizeref": 0.053428044991716425,
          "symbol": "circle"
         },
         "mode": "markers",
         "name": "Afghanistan",
         "orientation": "v",
         "showlegend": false,
         "type": "scatter",
         "x": [
          "Afghanistan"
         ],
         "xaxis": "x5",
         "y": [
          15.07776954596845
         ],
         "yaxis": "y5"
        },
        {
         "hovertemplate": "Entity=%{x}<br>Year=2015<br>Deaths=%{marker.size}<extra></extra>",
         "legendgroup": "Afghanistan",
         "marker": {
          "color": "#636efa",
          "size": [
           14.48849625588466
          ],
          "sizemode": "area",
          "sizeref": 0.053428044991716425,
          "symbol": "circle"
         },
         "mode": "markers",
         "name": "Afghanistan",
         "orientation": "v",
         "showlegend": false,
         "type": "scatter",
         "x": [
          "Afghanistan"
         ],
         "xaxis": "x6",
         "y": [
          14.48849625588466
         ],
         "yaxis": "y6"
        },
        {
         "hovertemplate": "Entity=%{x}<br>Year=2016<br>Deaths=%{marker.size}<extra></extra>",
         "legendgroup": "Afghanistan",
         "marker": {
          "color": "#636efa",
          "size": [
           14.05279330237502
          ],
          "sizemode": "area",
          "sizeref": 0.053428044991716425,
          "symbol": "circle"
         },
         "mode": "markers",
         "name": "Afghanistan",
         "orientation": "v",
         "showlegend": false,
         "type": "scatter",
         "x": [
          "Afghanistan"
         ],
         "xaxis": "x7",
         "y": [
          14.05279330237502
         ],
         "yaxis": "y7"
        },
        {
         "hovertemplate": "Entity=%{x}<br>Year=2017<br>Deaths=%{marker.size}<extra></extra>",
         "legendgroup": "Afghanistan",
         "marker": {
          "color": "#636efa",
          "size": [
           13.999305521933362
          ],
          "sizemode": "area",
          "sizeref": 0.053428044991716425,
          "symbol": "circle"
         },
         "mode": "markers",
         "name": "Afghanistan",
         "orientation": "v",
         "showlegend": false,
         "type": "scatter",
         "x": [
          "Afghanistan"
         ],
         "xaxis": "x8",
         "y": [
          13.999305521933362
         ],
         "yaxis": "y8"
        },
        {
         "hovertemplate": "Entity=%{x}<br>Year=2018<br>Deaths=%{marker.size}<extra></extra>",
         "legendgroup": "Afghanistan",
         "marker": {
          "color": "#636efa",
          "size": [
           12.69765834040738
          ],
          "sizemode": "area",
          "sizeref": 0.053428044991716425,
          "symbol": "circle"
         },
         "mode": "markers",
         "name": "Afghanistan",
         "orientation": "v",
         "showlegend": false,
         "type": "scatter",
         "x": [
          "Afghanistan"
         ],
         "xaxis": "x",
         "y": [
          12.69765834040738
         ],
         "yaxis": "y"
        },
        {
         "hovertemplate": "Entity=%{x}<br>Year=2019<br>Deaths=%{marker.size}<extra></extra>",
         "legendgroup": "Afghanistan",
         "marker": {
          "color": "#636efa",
          "size": [
           12.51084370451403
          ],
          "sizemode": "area",
          "sizeref": 0.053428044991716425,
          "symbol": "circle"
         },
         "mode": "markers",
         "name": "Afghanistan",
         "orientation": "v",
         "showlegend": false,
         "type": "scatter",
         "x": [
          "Afghanistan"
         ],
         "xaxis": "x2",
         "y": [
          12.51084370451403
         ],
         "yaxis": "y2"
        },
        {
         "hovertemplate": "Entity=%{x}<br>Year=2010<br>Deaths=%{marker.size}<extra></extra>",
         "legendgroup": "China",
         "marker": {
          "color": "#EF553B",
          "size": [
           6.25149752299645
          ],
          "sizemode": "area",
          "sizeref": 0.053428044991716425,
          "symbol": "circle"
         },
         "mode": "markers",
         "name": "China",
         "orientation": "v",
         "showlegend": true,
         "type": "scatter",
         "x": [
          "China"
         ],
         "xaxis": "x9",
         "y": [
          6.25149752299645
         ],
         "yaxis": "y9"
        },
        {
         "hovertemplate": "Entity=%{x}<br>Year=2011<br>Deaths=%{marker.size}<extra></extra>",
         "legendgroup": "China",
         "marker": {
          "color": "#EF553B",
          "size": [
           5.83579080523618
          ],
          "sizemode": "area",
          "sizeref": 0.053428044991716425,
          "symbol": "circle"
         },
         "mode": "markers",
         "name": "China",
         "orientation": "v",
         "showlegend": false,
         "type": "scatter",
         "x": [
          "China"
         ],
         "xaxis": "x10",
         "y": [
          5.83579080523618
         ],
         "yaxis": "y10"
        },
        {
         "hovertemplate": "Entity=%{x}<br>Year=2012<br>Deaths=%{marker.size}<extra></extra>",
         "legendgroup": "China",
         "marker": {
          "color": "#EF553B",
          "size": [
           5.42184591817281
          ],
          "sizemode": "area",
          "sizeref": 0.053428044991716425,
          "symbol": "circle"
         },
         "mode": "markers",
         "name": "China",
         "orientation": "v",
         "showlegend": false,
         "type": "scatter",
         "x": [
          "China"
         ],
         "xaxis": "x11",
         "y": [
          5.42184591817281
         ],
         "yaxis": "y11"
        },
        {
         "hovertemplate": "Entity=%{x}<br>Year=2013<br>Deaths=%{marker.size}<extra></extra>",
         "legendgroup": "China",
         "marker": {
          "color": "#EF553B",
          "size": [
           5.057728519427189
          ],
          "sizemode": "area",
          "sizeref": 0.053428044991716425,
          "symbol": "circle"
         },
         "mode": "markers",
         "name": "China",
         "orientation": "v",
         "showlegend": false,
         "type": "scatter",
         "x": [
          "China"
         ],
         "xaxis": "x12",
         "y": [
          5.057728519427189
         ],
         "yaxis": "y12"
        },
        {
         "hovertemplate": "Entity=%{x}<br>Year=2014<br>Deaths=%{marker.size}<extra></extra>",
         "legendgroup": "China",
         "marker": {
          "color": "#EF553B",
          "size": [
           4.72404819140059
          ],
          "sizemode": "area",
          "sizeref": 0.053428044991716425,
          "symbol": "circle"
         },
         "mode": "markers",
         "name": "China",
         "orientation": "v",
         "showlegend": false,
         "type": "scatter",
         "x": [
          "China"
         ],
         "xaxis": "x5",
         "y": [
          4.72404819140059
         ],
         "yaxis": "y5"
        },
        {
         "hovertemplate": "Entity=%{x}<br>Year=2015<br>Deaths=%{marker.size}<extra></extra>",
         "legendgroup": "China",
         "marker": {
          "color": "#EF553B",
          "size": [
           4.4296377427606695
          ],
          "sizemode": "area",
          "sizeref": 0.053428044991716425,
          "symbol": "circle"
         },
         "mode": "markers",
         "name": "China",
         "orientation": "v",
         "showlegend": false,
         "type": "scatter",
         "x": [
          "China"
         ],
         "xaxis": "x6",
         "y": [
          4.4296377427606695
         ],
         "yaxis": "y6"
        },
        {
         "hovertemplate": "Entity=%{x}<br>Year=2016<br>Deaths=%{marker.size}<extra></extra>",
         "legendgroup": "China",
         "marker": {
          "color": "#EF553B",
          "size": [
           4.18926870335818
          ],
          "sizemode": "area",
          "sizeref": 0.053428044991716425,
          "symbol": "circle"
         },
         "mode": "markers",
         "name": "China",
         "orientation": "v",
         "showlegend": false,
         "type": "scatter",
         "x": [
          "China"
         ],
         "xaxis": "x7",
         "y": [
          4.18926870335818
         ],
         "yaxis": "y7"
        },
        {
         "hovertemplate": "Entity=%{x}<br>Year=2017<br>Deaths=%{marker.size}<extra></extra>",
         "legendgroup": "China",
         "marker": {
          "color": "#EF553B",
          "size": [
           3.95571302751052
          ],
          "sizemode": "area",
          "sizeref": 0.053428044991716425,
          "symbol": "circle"
         },
         "mode": "markers",
         "name": "China",
         "orientation": "v",
         "showlegend": false,
         "type": "scatter",
         "x": [
          "China"
         ],
         "xaxis": "x8",
         "y": [
          3.95571302751052
         ],
         "yaxis": "y8"
        },
        {
         "hovertemplate": "Entity=%{x}<br>Year=2018<br>Deaths=%{marker.size}<extra></extra>",
         "legendgroup": "China",
         "marker": {
          "color": "#EF553B",
          "size": [
           3.64583396844843
          ],
          "sizemode": "area",
          "sizeref": 0.053428044991716425,
          "symbol": "circle"
         },
         "mode": "markers",
         "name": "China",
         "orientation": "v",
         "showlegend": false,
         "type": "scatter",
         "x": [
          "China"
         ],
         "xaxis": "x",
         "y": [
          3.64583396844843
         ],
         "yaxis": "y"
        },
        {
         "hovertemplate": "Entity=%{x}<br>Year=2019<br>Deaths=%{marker.size}<extra></extra>",
         "legendgroup": "China",
         "marker": {
          "color": "#EF553B",
          "size": [
           3.26829383773548
          ],
          "sizemode": "area",
          "sizeref": 0.053428044991716425,
          "symbol": "circle"
         },
         "mode": "markers",
         "name": "China",
         "orientation": "v",
         "showlegend": false,
         "type": "scatter",
         "x": [
          "China"
         ],
         "xaxis": "x2",
         "y": [
          3.26829383773548
         ],
         "yaxis": "y2"
        },
        {
         "hovertemplate": "Entity=%{x}<br>Year=2010<br>Deaths=%{marker.size}<extra></extra>",
         "legendgroup": "India",
         "marker": {
          "color": "#00cc96",
          "size": [
           9.810676107185271
          ],
          "sizemode": "area",
          "sizeref": 0.053428044991716425,
          "symbol": "circle"
         },
         "mode": "markers",
         "name": "India",
         "orientation": "v",
         "showlegend": true,
         "type": "scatter",
         "x": [
          "India"
         ],
         "xaxis": "x9",
         "y": [
          9.810676107185271
         ],
         "yaxis": "y9"
        },
        {
         "hovertemplate": "Entity=%{x}<br>Year=2011<br>Deaths=%{marker.size}<extra></extra>",
         "legendgroup": "India",
         "marker": {
          "color": "#00cc96",
          "size": [
           9.38989658910364
          ],
          "sizemode": "area",
          "sizeref": 0.053428044991716425,
          "symbol": "circle"
         },
         "mode": "markers",
         "name": "India",
         "orientation": "v",
         "showlegend": false,
         "type": "scatter",
         "x": [
          "India"
         ],
         "xaxis": "x10",
         "y": [
          9.38989658910364
         ],
         "yaxis": "y10"
        },
        {
         "hovertemplate": "Entity=%{x}<br>Year=2012<br>Deaths=%{marker.size}<extra></extra>",
         "legendgroup": "India",
         "marker": {
          "color": "#00cc96",
          "size": [
           9.03139728867784
          ],
          "sizemode": "area",
          "sizeref": 0.053428044991716425,
          "symbol": "circle"
         },
         "mode": "markers",
         "name": "India",
         "orientation": "v",
         "showlegend": false,
         "type": "scatter",
         "x": [
          "India"
         ],
         "xaxis": "x11",
         "y": [
          9.03139728867784
         ],
         "yaxis": "y11"
        },
        {
         "hovertemplate": "Entity=%{x}<br>Year=2013<br>Deaths=%{marker.size}<extra></extra>",
         "legendgroup": "India",
         "marker": {
          "color": "#00cc96",
          "size": [
           8.553600322632999
          ],
          "sizemode": "area",
          "sizeref": 0.053428044991716425,
          "symbol": "circle"
         },
         "mode": "markers",
         "name": "India",
         "orientation": "v",
         "showlegend": false,
         "type": "scatter",
         "x": [
          "India"
         ],
         "xaxis": "x12",
         "y": [
          8.553600322632999
         ],
         "yaxis": "y12"
        },
        {
         "hovertemplate": "Entity=%{x}<br>Year=2014<br>Deaths=%{marker.size}<extra></extra>",
         "legendgroup": "India",
         "marker": {
          "color": "#00cc96",
          "size": [
           8.11552743699767
          ],
          "sizemode": "area",
          "sizeref": 0.053428044991716425,
          "symbol": "circle"
         },
         "mode": "markers",
         "name": "India",
         "orientation": "v",
         "showlegend": false,
         "type": "scatter",
         "x": [
          "India"
         ],
         "xaxis": "x5",
         "y": [
          8.11552743699767
         ],
         "yaxis": "y5"
        },
        {
         "hovertemplate": "Entity=%{x}<br>Year=2015<br>Deaths=%{marker.size}<extra></extra>",
         "legendgroup": "India",
         "marker": {
          "color": "#00cc96",
          "size": [
           7.77086604065412
          ],
          "sizemode": "area",
          "sizeref": 0.053428044991716425,
          "symbol": "circle"
         },
         "mode": "markers",
         "name": "India",
         "orientation": "v",
         "showlegend": false,
         "type": "scatter",
         "x": [
          "India"
         ],
         "xaxis": "x6",
         "y": [
          7.77086604065412
         ],
         "yaxis": "y6"
        },
        {
         "hovertemplate": "Entity=%{x}<br>Year=2016<br>Deaths=%{marker.size}<extra></extra>",
         "legendgroup": "India",
         "marker": {
          "color": "#00cc96",
          "size": [
           7.516589286775919
          ],
          "sizemode": "area",
          "sizeref": 0.053428044991716425,
          "symbol": "circle"
         },
         "mode": "markers",
         "name": "India",
         "orientation": "v",
         "showlegend": false,
         "type": "scatter",
         "x": [
          "India"
         ],
         "xaxis": "x7",
         "y": [
          7.516589286775919
         ],
         "yaxis": "y7"
        },
        {
         "hovertemplate": "Entity=%{x}<br>Year=2017<br>Deaths=%{marker.size}<extra></extra>",
         "legendgroup": "India",
         "marker": {
          "color": "#00cc96",
          "size": [
           7.27104292871461
          ],
          "sizemode": "area",
          "sizeref": 0.053428044991716425,
          "symbol": "circle"
         },
         "mode": "markers",
         "name": "India",
         "orientation": "v",
         "showlegend": false,
         "type": "scatter",
         "x": [
          "India"
         ],
         "xaxis": "x8",
         "y": [
          7.27104292871461
         ],
         "yaxis": "y8"
        },
        {
         "hovertemplate": "Entity=%{x}<br>Year=2018<br>Deaths=%{marker.size}<extra></extra>",
         "legendgroup": "India",
         "marker": {
          "color": "#00cc96",
          "size": [
           6.95877587825747
          ],
          "sizemode": "area",
          "sizeref": 0.053428044991716425,
          "symbol": "circle"
         },
         "mode": "markers",
         "name": "India",
         "orientation": "v",
         "showlegend": false,
         "type": "scatter",
         "x": [
          "India"
         ],
         "xaxis": "x",
         "y": [
          6.95877587825747
         ],
         "yaxis": "y"
        },
        {
         "hovertemplate": "Entity=%{x}<br>Year=2019<br>Deaths=%{marker.size}<extra></extra>",
         "legendgroup": "India",
         "marker": {
          "color": "#00cc96",
          "size": [
           6.57305121977325
          ],
          "sizemode": "area",
          "sizeref": 0.053428044991716425,
          "symbol": "circle"
         },
         "mode": "markers",
         "name": "India",
         "orientation": "v",
         "showlegend": false,
         "type": "scatter",
         "x": [
          "India"
         ],
         "xaxis": "x2",
         "y": [
          6.57305121977325
         ],
         "yaxis": "y2"
        },
        {
         "hovertemplate": "Entity=%{x}<br>Year=2010<br>Deaths=%{marker.size}<extra></extra>",
         "legendgroup": "Solomon Islands",
         "marker": {
          "color": "#ab63fa",
          "size": [
           20.8334998703
          ],
          "sizemode": "area",
          "sizeref": 0.053428044991716425,
          "symbol": "circle"
         },
         "mode": "markers",
         "name": "Solomon Islands",
         "orientation": "v",
         "showlegend": true,
         "type": "scatter",
         "x": [
          "Solomon Islands"
         ],
         "xaxis": "x9",
         "y": [
          20.8334998703
         ],
         "yaxis": "y9"
        },
        {
         "hovertemplate": "Entity=%{x}<br>Year=2011<br>Deaths=%{marker.size}<extra></extra>",
         "legendgroup": "Solomon Islands",
         "marker": {
          "color": "#ab63fa",
          "size": [
           21.28766796731301
          ],
          "sizemode": "area",
          "sizeref": 0.053428044991716425,
          "symbol": "circle"
         },
         "mode": "markers",
         "name": "Solomon Islands",
         "orientation": "v",
         "showlegend": false,
         "type": "scatter",
         "x": [
          "Solomon Islands"
         ],
         "xaxis": "x10",
         "y": [
          21.28766796731301
         ],
         "yaxis": "y10"
        },
        {
         "hovertemplate": "Entity=%{x}<br>Year=2012<br>Deaths=%{marker.size}<extra></extra>",
         "legendgroup": "Solomon Islands",
         "marker": {
          "color": "#ab63fa",
          "size": [
           21.37121799668657
          ],
          "sizemode": "area",
          "sizeref": 0.053428044991716425,
          "symbol": "circle"
         },
         "mode": "markers",
         "name": "Solomon Islands",
         "orientation": "v",
         "showlegend": false,
         "type": "scatter",
         "x": [
          "Solomon Islands"
         ],
         "xaxis": "x11",
         "y": [
          21.37121799668657
         ],
         "yaxis": "y11"
        },
        {
         "hovertemplate": "Entity=%{x}<br>Year=2013<br>Deaths=%{marker.size}<extra></extra>",
         "legendgroup": "Solomon Islands",
         "marker": {
          "color": "#ab63fa",
          "size": [
           21.35713793337966
          ],
          "sizemode": "area",
          "sizeref": 0.053428044991716425,
          "symbol": "circle"
         },
         "mode": "markers",
         "name": "Solomon Islands",
         "orientation": "v",
         "showlegend": false,
         "type": "scatter",
         "x": [
          "Solomon Islands"
         ],
         "xaxis": "x12",
         "y": [
          21.35713793337966
         ],
         "yaxis": "y12"
        },
        {
         "hovertemplate": "Entity=%{x}<br>Year=2014<br>Deaths=%{marker.size}<extra></extra>",
         "legendgroup": "Solomon Islands",
         "marker": {
          "color": "#ab63fa",
          "size": [
           21.34188467569662
          ],
          "sizemode": "area",
          "sizeref": 0.053428044991716425,
          "symbol": "circle"
         },
         "mode": "markers",
         "name": "Solomon Islands",
         "orientation": "v",
         "showlegend": false,
         "type": "scatter",
         "x": [
          "Solomon Islands"
         ],
         "xaxis": "x5",
         "y": [
          21.34188467569662
         ],
         "yaxis": "y5"
        },
        {
         "hovertemplate": "Entity=%{x}<br>Year=2015<br>Deaths=%{marker.size}<extra></extra>",
         "legendgroup": "Solomon Islands",
         "marker": {
          "color": "#ab63fa",
          "size": [
           21.30569125611024
          ],
          "sizemode": "area",
          "sizeref": 0.053428044991716425,
          "symbol": "circle"
         },
         "mode": "markers",
         "name": "Solomon Islands",
         "orientation": "v",
         "showlegend": false,
         "type": "scatter",
         "x": [
          "Solomon Islands"
         ],
         "xaxis": "x6",
         "y": [
          21.30569125611024
         ],
         "yaxis": "y6"
        },
        {
         "hovertemplate": "Entity=%{x}<br>Year=2016<br>Deaths=%{marker.size}<extra></extra>",
         "legendgroup": "Solomon Islands",
         "marker": {
          "color": "#ab63fa",
          "size": [
           20.98899274594052
          ],
          "sizemode": "area",
          "sizeref": 0.053428044991716425,
          "symbol": "circle"
         },
         "mode": "markers",
         "name": "Solomon Islands",
         "orientation": "v",
         "showlegend": false,
         "type": "scatter",
         "x": [
          "Solomon Islands"
         ],
         "xaxis": "x7",
         "y": [
          20.98899274594052
         ],
         "yaxis": "y7"
        },
        {
         "hovertemplate": "Entity=%{x}<br>Year=2017<br>Deaths=%{marker.size}<extra></extra>",
         "legendgroup": "Solomon Islands",
         "marker": {
          "color": "#ab63fa",
          "size": [
           20.86369591333521
          ],
          "sizemode": "area",
          "sizeref": 0.053428044991716425,
          "symbol": "circle"
         },
         "mode": "markers",
         "name": "Solomon Islands",
         "orientation": "v",
         "showlegend": false,
         "type": "scatter",
         "x": [
          "Solomon Islands"
         ],
         "xaxis": "x8",
         "y": [
          20.86369591333521
         ],
         "yaxis": "y8"
        },
        {
         "hovertemplate": "Entity=%{x}<br>Year=2018<br>Deaths=%{marker.size}<extra></extra>",
         "legendgroup": "Solomon Islands",
         "marker": {
          "color": "#ab63fa",
          "size": [
           20.85539300752936
          ],
          "sizemode": "area",
          "sizeref": 0.053428044991716425,
          "symbol": "circle"
         },
         "mode": "markers",
         "name": "Solomon Islands",
         "orientation": "v",
         "showlegend": false,
         "type": "scatter",
         "x": [
          "Solomon Islands"
         ],
         "xaxis": "x",
         "y": [
          20.85539300752936
         ],
         "yaxis": "y"
        },
        {
         "hovertemplate": "Entity=%{x}<br>Year=2019<br>Deaths=%{marker.size}<extra></extra>",
         "legendgroup": "Solomon Islands",
         "marker": {
          "color": "#ab63fa",
          "size": [
           20.68601733378117
          ],
          "sizemode": "area",
          "sizeref": 0.053428044991716425,
          "symbol": "circle"
         },
         "mode": "markers",
         "name": "Solomon Islands",
         "orientation": "v",
         "showlegend": false,
         "type": "scatter",
         "x": [
          "Solomon Islands"
         ],
         "xaxis": "x2",
         "y": [
          20.68601733378117
         ],
         "yaxis": "y2"
        },
        {
         "hovertemplate": "Entity=%{x}<br>Year=2010<br>Deaths=%{marker.size}<extra></extra>",
         "legendgroup": "United Arab Emirates",
         "marker": {
          "color": "#FFA15A",
          "size": [
           0.001113639707012
          ],
          "sizemode": "area",
          "sizeref": 0.053428044991716425,
          "symbol": "circle"
         },
         "mode": "markers",
         "name": "United Arab Emirates",
         "orientation": "v",
         "showlegend": true,
         "type": "scatter",
         "x": [
          "United Arab Emirates"
         ],
         "xaxis": "x9",
         "y": [
          0.001113639707012
         ],
         "yaxis": "y9"
        },
        {
         "hovertemplate": "Entity=%{x}<br>Year=2011<br>Deaths=%{marker.size}<extra></extra>",
         "legendgroup": "United Arab Emirates",
         "marker": {
          "color": "#FFA15A",
          "size": [
           0.0010027036496877
          ],
          "sizemode": "area",
          "sizeref": 0.053428044991716425,
          "symbol": "circle"
         },
         "mode": "markers",
         "name": "United Arab Emirates",
         "orientation": "v",
         "showlegend": false,
         "type": "scatter",
         "x": [
          "United Arab Emirates"
         ],
         "xaxis": "x10",
         "y": [
          0.0010027036496877
         ],
         "yaxis": "y10"
        },
        {
         "hovertemplate": "Entity=%{x}<br>Year=2012<br>Deaths=%{marker.size}<extra></extra>",
         "legendgroup": "United Arab Emirates",
         "marker": {
          "color": "#FFA15A",
          "size": [
           0.0009189385864516
          ],
          "sizemode": "area",
          "sizeref": 0.053428044991716425,
          "symbol": "circle"
         },
         "mode": "markers",
         "name": "United Arab Emirates",
         "orientation": "v",
         "showlegend": false,
         "type": "scatter",
         "x": [
          "United Arab Emirates"
         ],
         "xaxis": "x11",
         "y": [
          0.0009189385864516
         ],
         "yaxis": "y11"
        },
        {
         "hovertemplate": "Entity=%{x}<br>Year=2013<br>Deaths=%{marker.size}<extra></extra>",
         "legendgroup": "United Arab Emirates",
         "marker": {
          "color": "#FFA15A",
          "size": [
           0.0008376324144522
          ],
          "sizemode": "area",
          "sizeref": 0.053428044991716425,
          "symbol": "circle"
         },
         "mode": "markers",
         "name": "United Arab Emirates",
         "orientation": "v",
         "showlegend": false,
         "type": "scatter",
         "x": [
          "United Arab Emirates"
         ],
         "xaxis": "x12",
         "y": [
          0.0008376324144522
         ],
         "yaxis": "y12"
        },
        {
         "hovertemplate": "Entity=%{x}<br>Year=2014<br>Deaths=%{marker.size}<extra></extra>",
         "legendgroup": "United Arab Emirates",
         "marker": {
          "color": "#FFA15A",
          "size": [
           0.0007331897735597
          ],
          "sizemode": "area",
          "sizeref": 0.053428044991716425,
          "symbol": "circle"
         },
         "mode": "markers",
         "name": "United Arab Emirates",
         "orientation": "v",
         "showlegend": false,
         "type": "scatter",
         "x": [
          "United Arab Emirates"
         ],
         "xaxis": "x5",
         "y": [
          0.0007331897735597
         ],
         "yaxis": "y5"
        },
        {
         "hovertemplate": "Entity=%{x}<br>Year=2015<br>Deaths=%{marker.size}<extra></extra>",
         "legendgroup": "United Arab Emirates",
         "marker": {
          "color": "#FFA15A",
          "size": [
           0.0006919295128493
          ],
          "sizemode": "area",
          "sizeref": 0.053428044991716425,
          "symbol": "circle"
         },
         "mode": "markers",
         "name": "United Arab Emirates",
         "orientation": "v",
         "showlegend": false,
         "type": "scatter",
         "x": [
          "United Arab Emirates"
         ],
         "xaxis": "x6",
         "y": [
          0.0006919295128493
         ],
         "yaxis": "y6"
        },
        {
         "hovertemplate": "Entity=%{x}<br>Year=2016<br>Deaths=%{marker.size}<extra></extra>",
         "legendgroup": "United Arab Emirates",
         "marker": {
          "color": "#FFA15A",
          "size": [
           0.0006556656733943
          ],
          "sizemode": "area",
          "sizeref": 0.053428044991716425,
          "symbol": "circle"
         },
         "mode": "markers",
         "name": "United Arab Emirates",
         "orientation": "v",
         "showlegend": false,
         "type": "scatter",
         "x": [
          "United Arab Emirates"
         ],
         "xaxis": "x7",
         "y": [
          0.0006556656733943
         ],
         "yaxis": "y7"
        },
        {
         "hovertemplate": "Entity=%{x}<br>Year=2017<br>Deaths=%{marker.size}<extra></extra>",
         "legendgroup": "United Arab Emirates",
         "marker": {
          "color": "#FFA15A",
          "size": [
           0.0006213096501551
          ],
          "sizemode": "area",
          "sizeref": 0.053428044991716425,
          "symbol": "circle"
         },
         "mode": "markers",
         "name": "United Arab Emirates",
         "orientation": "v",
         "showlegend": false,
         "type": "scatter",
         "x": [
          "United Arab Emirates"
         ],
         "xaxis": "x8",
         "y": [
          0.0006213096501551
         ],
         "yaxis": "y8"
        },
        {
         "hovertemplate": "Entity=%{x}<br>Year=2018<br>Deaths=%{marker.size}<extra></extra>",
         "legendgroup": "United Arab Emirates",
         "marker": {
          "color": "#FFA15A",
          "size": [
           0.0005764234910705
          ],
          "sizemode": "area",
          "sizeref": 0.053428044991716425,
          "symbol": "circle"
         },
         "mode": "markers",
         "name": "United Arab Emirates",
         "orientation": "v",
         "showlegend": false,
         "type": "scatter",
         "x": [
          "United Arab Emirates"
         ],
         "xaxis": "x",
         "y": [
          0.0005764234910705
         ],
         "yaxis": "y"
        },
        {
         "hovertemplate": "Entity=%{x}<br>Year=2019<br>Deaths=%{marker.size}<extra></extra>",
         "legendgroup": "United Arab Emirates",
         "marker": {
          "color": "#FFA15A",
          "size": [
           0.0005241949644895
          ],
          "sizemode": "area",
          "sizeref": 0.053428044991716425,
          "symbol": "circle"
         },
         "mode": "markers",
         "name": "United Arab Emirates",
         "orientation": "v",
         "showlegend": false,
         "type": "scatter",
         "x": [
          "United Arab Emirates"
         ],
         "xaxis": "x2",
         "y": [
          0.0005241949644895
         ],
         "yaxis": "y2"
        },
        {
         "hovertemplate": "Entity=%{x}<br>Year=2010<br>Deaths=%{marker.size}<extra></extra>",
         "legendgroup": "United States",
         "marker": {
          "color": "#19d3f3",
          "size": [
           0.0078786305039367
          ],
          "sizemode": "area",
          "sizeref": 0.053428044991716425,
          "symbol": "circle"
         },
         "mode": "markers",
         "name": "United States",
         "orientation": "v",
         "showlegend": true,
         "type": "scatter",
         "x": [
          "United States"
         ],
         "xaxis": "x9",
         "y": [
          0.0078786305039367
         ],
         "yaxis": "y9"
        },
        {
         "hovertemplate": "Entity=%{x}<br>Year=2011<br>Deaths=%{marker.size}<extra></extra>",
         "legendgroup": "United States",
         "marker": {
          "color": "#19d3f3",
          "size": [
           0.0074456656191842
          ],
          "sizemode": "area",
          "sizeref": 0.053428044991716425,
          "symbol": "circle"
         },
         "mode": "markers",
         "name": "United States",
         "orientation": "v",
         "showlegend": false,
         "type": "scatter",
         "x": [
          "United States"
         ],
         "xaxis": "x10",
         "y": [
          0.0074456656191842
         ],
         "yaxis": "y10"
        },
        {
         "hovertemplate": "Entity=%{x}<br>Year=2012<br>Deaths=%{marker.size}<extra></extra>",
         "legendgroup": "United States",
         "marker": {
          "color": "#19d3f3",
          "size": [
           0.0070331774293822
          ],
          "sizemode": "area",
          "sizeref": 0.053428044991716425,
          "symbol": "circle"
         },
         "mode": "markers",
         "name": "United States",
         "orientation": "v",
         "showlegend": false,
         "type": "scatter",
         "x": [
          "United States"
         ],
         "xaxis": "x11",
         "y": [
          0.0070331774293822
         ],
         "yaxis": "y11"
        },
        {
         "hovertemplate": "Entity=%{x}<br>Year=2013<br>Deaths=%{marker.size}<extra></extra>",
         "legendgroup": "United States",
         "marker": {
          "color": "#19d3f3",
          "size": [
           0.006615945594172
          ],
          "sizemode": "area",
          "sizeref": 0.053428044991716425,
          "symbol": "circle"
         },
         "mode": "markers",
         "name": "United States",
         "orientation": "v",
         "showlegend": false,
         "type": "scatter",
         "x": [
          "United States"
         ],
         "xaxis": "x12",
         "y": [
          0.006615945594172
         ],
         "yaxis": "y12"
        },
        {
         "hovertemplate": "Entity=%{x}<br>Year=2014<br>Deaths=%{marker.size}<extra></extra>",
         "legendgroup": "United States",
         "marker": {
          "color": "#19d3f3",
          "size": [
           0.0062477983597175
          ],
          "sizemode": "area",
          "sizeref": 0.053428044991716425,
          "symbol": "circle"
         },
         "mode": "markers",
         "name": "United States",
         "orientation": "v",
         "showlegend": false,
         "type": "scatter",
         "x": [
          "United States"
         ],
         "xaxis": "x5",
         "y": [
          0.0062477983597175
         ],
         "yaxis": "y5"
        },
        {
         "hovertemplate": "Entity=%{x}<br>Year=2015<br>Deaths=%{marker.size}<extra></extra>",
         "legendgroup": "United States",
         "marker": {
          "color": "#19d3f3",
          "size": [
           0.0058794168416561
          ],
          "sizemode": "area",
          "sizeref": 0.053428044991716425,
          "symbol": "circle"
         },
         "mode": "markers",
         "name": "United States",
         "orientation": "v",
         "showlegend": false,
         "type": "scatter",
         "x": [
          "United States"
         ],
         "xaxis": "x6",
         "y": [
          0.0058794168416561
         ],
         "yaxis": "y6"
        },
        {
         "hovertemplate": "Entity=%{x}<br>Year=2016<br>Deaths=%{marker.size}<extra></extra>",
         "legendgroup": "United States",
         "marker": {
          "color": "#19d3f3",
          "size": [
           0.0054935116423043
          ],
          "sizemode": "area",
          "sizeref": 0.053428044991716425,
          "symbol": "circle"
         },
         "mode": "markers",
         "name": "United States",
         "orientation": "v",
         "showlegend": false,
         "type": "scatter",
         "x": [
          "United States"
         ],
         "xaxis": "x7",
         "y": [
          0.0054935116423043
         ],
         "yaxis": "y7"
        },
        {
         "hovertemplate": "Entity=%{x}<br>Year=2017<br>Deaths=%{marker.size}<extra></extra>",
         "legendgroup": "United States",
         "marker": {
          "color": "#19d3f3",
          "size": [
           0.0052447750104618
          ],
          "sizemode": "area",
          "sizeref": 0.053428044991716425,
          "symbol": "circle"
         },
         "mode": "markers",
         "name": "United States",
         "orientation": "v",
         "showlegend": false,
         "type": "scatter",
         "x": [
          "United States"
         ],
         "xaxis": "x8",
         "y": [
          0.0052447750104618
         ],
         "yaxis": "y8"
        },
        {
         "hovertemplate": "Entity=%{x}<br>Year=2018<br>Deaths=%{marker.size}<extra></extra>",
         "legendgroup": "United States",
         "marker": {
          "color": "#19d3f3",
          "size": [
           0.0051437048572823
          ],
          "sizemode": "area",
          "sizeref": 0.053428044991716425,
          "symbol": "circle"
         },
         "mode": "markers",
         "name": "United States",
         "orientation": "v",
         "showlegend": false,
         "type": "scatter",
         "x": [
          "United States"
         ],
         "xaxis": "x",
         "y": [
          0.0051437048572823
         ],
         "yaxis": "y"
        },
        {
         "hovertemplate": "Entity=%{x}<br>Year=2019<br>Deaths=%{marker.size}<extra></extra>",
         "legendgroup": "United States",
         "marker": {
          "color": "#19d3f3",
          "size": [
           0.0050658473142234
          ],
          "sizemode": "area",
          "sizeref": 0.053428044991716425,
          "symbol": "circle"
         },
         "mode": "markers",
         "name": "United States",
         "orientation": "v",
         "showlegend": false,
         "type": "scatter",
         "x": [
          "United States"
         ],
         "xaxis": "x2",
         "y": [
          0.0050658473142234
         ],
         "yaxis": "y2"
        }
       ],
       "layout": {
        "annotations": [
         {
          "font": {},
          "showarrow": false,
          "text": "Year=2018",
          "x": 0.1175,
          "xanchor": "center",
          "xref": "paper",
          "y": 0.2866666666666666,
          "yanchor": "bottom",
          "yref": "paper"
         },
         {
          "font": {},
          "showarrow": false,
          "text": "Year=2019",
          "x": 0.3725,
          "xanchor": "center",
          "xref": "paper",
          "y": 0.2866666666666666,
          "yanchor": "bottom",
          "yref": "paper"
         },
         {
          "font": {},
          "showarrow": false,
          "text": "Year=2014",
          "x": 0.1175,
          "xanchor": "center",
          "xref": "paper",
          "y": 0.6433333333333333,
          "yanchor": "bottom",
          "yref": "paper"
         },
         {
          "font": {},
          "showarrow": false,
          "text": "Year=2015",
          "x": 0.3725,
          "xanchor": "center",
          "xref": "paper",
          "y": 0.6433333333333333,
          "yanchor": "bottom",
          "yref": "paper"
         },
         {
          "font": {},
          "showarrow": false,
          "text": "Year=2016",
          "x": 0.6275,
          "xanchor": "center",
          "xref": "paper",
          "y": 0.6433333333333333,
          "yanchor": "bottom",
          "yref": "paper"
         },
         {
          "font": {},
          "showarrow": false,
          "text": "Year=2017",
          "x": 0.8824999999999998,
          "xanchor": "center",
          "xref": "paper",
          "y": 0.6433333333333333,
          "yanchor": "bottom",
          "yref": "paper"
         },
         {
          "font": {},
          "showarrow": false,
          "text": "Year=2010",
          "x": 0.1175,
          "xanchor": "center",
          "xref": "paper",
          "y": 0.9999999999999999,
          "yanchor": "bottom",
          "yref": "paper"
         },
         {
          "font": {},
          "showarrow": false,
          "text": "Year=2011",
          "x": 0.3725,
          "xanchor": "center",
          "xref": "paper",
          "y": 0.9999999999999999,
          "yanchor": "bottom",
          "yref": "paper"
         },
         {
          "font": {},
          "showarrow": false,
          "text": "Year=2012",
          "x": 0.6275,
          "xanchor": "center",
          "xref": "paper",
          "y": 0.9999999999999999,
          "yanchor": "bottom",
          "yref": "paper"
         },
         {
          "font": {},
          "showarrow": false,
          "text": "Year=2013",
          "x": 0.8824999999999998,
          "xanchor": "center",
          "xref": "paper",
          "y": 0.9999999999999999,
          "yanchor": "bottom",
          "yref": "paper"
         }
        ],
        "legend": {
         "itemsizing": "constant",
         "title": {
          "text": "Entity"
         },
         "tracegroupgap": 0
        },
        "template": {
         "data": {
          "bar": [
           {
            "error_x": {
             "color": "#2a3f5f"
            },
            "error_y": {
             "color": "#2a3f5f"
            },
            "marker": {
             "line": {
              "color": "#E5ECF6",
              "width": 0.5
             },
             "pattern": {
              "fillmode": "overlay",
              "size": 10,
              "solidity": 0.2
             }
            },
            "type": "bar"
           }
          ],
          "barpolar": [
           {
            "marker": {
             "line": {
              "color": "#E5ECF6",
              "width": 0.5
             },
             "pattern": {
              "fillmode": "overlay",
              "size": 10,
              "solidity": 0.2
             }
            },
            "type": "barpolar"
           }
          ],
          "carpet": [
           {
            "aaxis": {
             "endlinecolor": "#2a3f5f",
             "gridcolor": "white",
             "linecolor": "white",
             "minorgridcolor": "white",
             "startlinecolor": "#2a3f5f"
            },
            "baxis": {
             "endlinecolor": "#2a3f5f",
             "gridcolor": "white",
             "linecolor": "white",
             "minorgridcolor": "white",
             "startlinecolor": "#2a3f5f"
            },
            "type": "carpet"
           }
          ],
          "choropleth": [
           {
            "colorbar": {
             "outlinewidth": 0,
             "ticks": ""
            },
            "type": "choropleth"
           }
          ],
          "contour": [
           {
            "colorbar": {
             "outlinewidth": 0,
             "ticks": ""
            },
            "colorscale": [
             [
              0,
              "#0d0887"
             ],
             [
              0.1111111111111111,
              "#46039f"
             ],
             [
              0.2222222222222222,
              "#7201a8"
             ],
             [
              0.3333333333333333,
              "#9c179e"
             ],
             [
              0.4444444444444444,
              "#bd3786"
             ],
             [
              0.5555555555555556,
              "#d8576b"
             ],
             [
              0.6666666666666666,
              "#ed7953"
             ],
             [
              0.7777777777777778,
              "#fb9f3a"
             ],
             [
              0.8888888888888888,
              "#fdca26"
             ],
             [
              1,
              "#f0f921"
             ]
            ],
            "type": "contour"
           }
          ],
          "contourcarpet": [
           {
            "colorbar": {
             "outlinewidth": 0,
             "ticks": ""
            },
            "type": "contourcarpet"
           }
          ],
          "heatmap": [
           {
            "colorbar": {
             "outlinewidth": 0,
             "ticks": ""
            },
            "colorscale": [
             [
              0,
              "#0d0887"
             ],
             [
              0.1111111111111111,
              "#46039f"
             ],
             [
              0.2222222222222222,
              "#7201a8"
             ],
             [
              0.3333333333333333,
              "#9c179e"
             ],
             [
              0.4444444444444444,
              "#bd3786"
             ],
             [
              0.5555555555555556,
              "#d8576b"
             ],
             [
              0.6666666666666666,
              "#ed7953"
             ],
             [
              0.7777777777777778,
              "#fb9f3a"
             ],
             [
              0.8888888888888888,
              "#fdca26"
             ],
             [
              1,
              "#f0f921"
             ]
            ],
            "type": "heatmap"
           }
          ],
          "heatmapgl": [
           {
            "colorbar": {
             "outlinewidth": 0,
             "ticks": ""
            },
            "colorscale": [
             [
              0,
              "#0d0887"
             ],
             [
              0.1111111111111111,
              "#46039f"
             ],
             [
              0.2222222222222222,
              "#7201a8"
             ],
             [
              0.3333333333333333,
              "#9c179e"
             ],
             [
              0.4444444444444444,
              "#bd3786"
             ],
             [
              0.5555555555555556,
              "#d8576b"
             ],
             [
              0.6666666666666666,
              "#ed7953"
             ],
             [
              0.7777777777777778,
              "#fb9f3a"
             ],
             [
              0.8888888888888888,
              "#fdca26"
             ],
             [
              1,
              "#f0f921"
             ]
            ],
            "type": "heatmapgl"
           }
          ],
          "histogram": [
           {
            "marker": {
             "pattern": {
              "fillmode": "overlay",
              "size": 10,
              "solidity": 0.2
             }
            },
            "type": "histogram"
           }
          ],
          "histogram2d": [
           {
            "colorbar": {
             "outlinewidth": 0,
             "ticks": ""
            },
            "colorscale": [
             [
              0,
              "#0d0887"
             ],
             [
              0.1111111111111111,
              "#46039f"
             ],
             [
              0.2222222222222222,
              "#7201a8"
             ],
             [
              0.3333333333333333,
              "#9c179e"
             ],
             [
              0.4444444444444444,
              "#bd3786"
             ],
             [
              0.5555555555555556,
              "#d8576b"
             ],
             [
              0.6666666666666666,
              "#ed7953"
             ],
             [
              0.7777777777777778,
              "#fb9f3a"
             ],
             [
              0.8888888888888888,
              "#fdca26"
             ],
             [
              1,
              "#f0f921"
             ]
            ],
            "type": "histogram2d"
           }
          ],
          "histogram2dcontour": [
           {
            "colorbar": {
             "outlinewidth": 0,
             "ticks": ""
            },
            "colorscale": [
             [
              0,
              "#0d0887"
             ],
             [
              0.1111111111111111,
              "#46039f"
             ],
             [
              0.2222222222222222,
              "#7201a8"
             ],
             [
              0.3333333333333333,
              "#9c179e"
             ],
             [
              0.4444444444444444,
              "#bd3786"
             ],
             [
              0.5555555555555556,
              "#d8576b"
             ],
             [
              0.6666666666666666,
              "#ed7953"
             ],
             [
              0.7777777777777778,
              "#fb9f3a"
             ],
             [
              0.8888888888888888,
              "#fdca26"
             ],
             [
              1,
              "#f0f921"
             ]
            ],
            "type": "histogram2dcontour"
           }
          ],
          "mesh3d": [
           {
            "colorbar": {
             "outlinewidth": 0,
             "ticks": ""
            },
            "type": "mesh3d"
           }
          ],
          "parcoords": [
           {
            "line": {
             "colorbar": {
              "outlinewidth": 0,
              "ticks": ""
             }
            },
            "type": "parcoords"
           }
          ],
          "pie": [
           {
            "automargin": true,
            "type": "pie"
           }
          ],
          "scatter": [
           {
            "fillpattern": {
             "fillmode": "overlay",
             "size": 10,
             "solidity": 0.2
            },
            "type": "scatter"
           }
          ],
          "scatter3d": [
           {
            "line": {
             "colorbar": {
              "outlinewidth": 0,
              "ticks": ""
             }
            },
            "marker": {
             "colorbar": {
              "outlinewidth": 0,
              "ticks": ""
             }
            },
            "type": "scatter3d"
           }
          ],
          "scattercarpet": [
           {
            "marker": {
             "colorbar": {
              "outlinewidth": 0,
              "ticks": ""
             }
            },
            "type": "scattercarpet"
           }
          ],
          "scattergeo": [
           {
            "marker": {
             "colorbar": {
              "outlinewidth": 0,
              "ticks": ""
             }
            },
            "type": "scattergeo"
           }
          ],
          "scattergl": [
           {
            "marker": {
             "colorbar": {
              "outlinewidth": 0,
              "ticks": ""
             }
            },
            "type": "scattergl"
           }
          ],
          "scattermapbox": [
           {
            "marker": {
             "colorbar": {
              "outlinewidth": 0,
              "ticks": ""
             }
            },
            "type": "scattermapbox"
           }
          ],
          "scatterpolar": [
           {
            "marker": {
             "colorbar": {
              "outlinewidth": 0,
              "ticks": ""
             }
            },
            "type": "scatterpolar"
           }
          ],
          "scatterpolargl": [
           {
            "marker": {
             "colorbar": {
              "outlinewidth": 0,
              "ticks": ""
             }
            },
            "type": "scatterpolargl"
           }
          ],
          "scatterternary": [
           {
            "marker": {
             "colorbar": {
              "outlinewidth": 0,
              "ticks": ""
             }
            },
            "type": "scatterternary"
           }
          ],
          "surface": [
           {
            "colorbar": {
             "outlinewidth": 0,
             "ticks": ""
            },
            "colorscale": [
             [
              0,
              "#0d0887"
             ],
             [
              0.1111111111111111,
              "#46039f"
             ],
             [
              0.2222222222222222,
              "#7201a8"
             ],
             [
              0.3333333333333333,
              "#9c179e"
             ],
             [
              0.4444444444444444,
              "#bd3786"
             ],
             [
              0.5555555555555556,
              "#d8576b"
             ],
             [
              0.6666666666666666,
              "#ed7953"
             ],
             [
              0.7777777777777778,
              "#fb9f3a"
             ],
             [
              0.8888888888888888,
              "#fdca26"
             ],
             [
              1,
              "#f0f921"
             ]
            ],
            "type": "surface"
           }
          ],
          "table": [
           {
            "cells": {
             "fill": {
              "color": "#EBF0F8"
             },
             "line": {
              "color": "white"
             }
            },
            "header": {
             "fill": {
              "color": "#C8D4E3"
             },
             "line": {
              "color": "white"
             }
            },
            "type": "table"
           }
          ]
         },
         "layout": {
          "annotationdefaults": {
           "arrowcolor": "#2a3f5f",
           "arrowhead": 0,
           "arrowwidth": 1
          },
          "autotypenumbers": "strict",
          "coloraxis": {
           "colorbar": {
            "outlinewidth": 0,
            "ticks": ""
           }
          },
          "colorscale": {
           "diverging": [
            [
             0,
             "#8e0152"
            ],
            [
             0.1,
             "#c51b7d"
            ],
            [
             0.2,
             "#de77ae"
            ],
            [
             0.3,
             "#f1b6da"
            ],
            [
             0.4,
             "#fde0ef"
            ],
            [
             0.5,
             "#f7f7f7"
            ],
            [
             0.6,
             "#e6f5d0"
            ],
            [
             0.7,
             "#b8e186"
            ],
            [
             0.8,
             "#7fbc41"
            ],
            [
             0.9,
             "#4d9221"
            ],
            [
             1,
             "#276419"
            ]
           ],
           "sequential": [
            [
             0,
             "#0d0887"
            ],
            [
             0.1111111111111111,
             "#46039f"
            ],
            [
             0.2222222222222222,
             "#7201a8"
            ],
            [
             0.3333333333333333,
             "#9c179e"
            ],
            [
             0.4444444444444444,
             "#bd3786"
            ],
            [
             0.5555555555555556,
             "#d8576b"
            ],
            [
             0.6666666666666666,
             "#ed7953"
            ],
            [
             0.7777777777777778,
             "#fb9f3a"
            ],
            [
             0.8888888888888888,
             "#fdca26"
            ],
            [
             1,
             "#f0f921"
            ]
           ],
           "sequentialminus": [
            [
             0,
             "#0d0887"
            ],
            [
             0.1111111111111111,
             "#46039f"
            ],
            [
             0.2222222222222222,
             "#7201a8"
            ],
            [
             0.3333333333333333,
             "#9c179e"
            ],
            [
             0.4444444444444444,
             "#bd3786"
            ],
            [
             0.5555555555555556,
             "#d8576b"
            ],
            [
             0.6666666666666666,
             "#ed7953"
            ],
            [
             0.7777777777777778,
             "#fb9f3a"
            ],
            [
             0.8888888888888888,
             "#fdca26"
            ],
            [
             1,
             "#f0f921"
            ]
           ]
          },
          "colorway": [
           "#636efa",
           "#EF553B",
           "#00cc96",
           "#ab63fa",
           "#FFA15A",
           "#19d3f3",
           "#FF6692",
           "#B6E880",
           "#FF97FF",
           "#FECB52"
          ],
          "font": {
           "color": "#2a3f5f"
          },
          "geo": {
           "bgcolor": "white",
           "lakecolor": "white",
           "landcolor": "#E5ECF6",
           "showlakes": true,
           "showland": true,
           "subunitcolor": "white"
          },
          "hoverlabel": {
           "align": "left"
          },
          "hovermode": "closest",
          "mapbox": {
           "style": "light"
          },
          "paper_bgcolor": "white",
          "plot_bgcolor": "#E5ECF6",
          "polar": {
           "angularaxis": {
            "gridcolor": "white",
            "linecolor": "white",
            "ticks": ""
           },
           "bgcolor": "#E5ECF6",
           "radialaxis": {
            "gridcolor": "white",
            "linecolor": "white",
            "ticks": ""
           }
          },
          "scene": {
           "xaxis": {
            "backgroundcolor": "#E5ECF6",
            "gridcolor": "white",
            "gridwidth": 2,
            "linecolor": "white",
            "showbackground": true,
            "ticks": "",
            "zerolinecolor": "white"
           },
           "yaxis": {
            "backgroundcolor": "#E5ECF6",
            "gridcolor": "white",
            "gridwidth": 2,
            "linecolor": "white",
            "showbackground": true,
            "ticks": "",
            "zerolinecolor": "white"
           },
           "zaxis": {
            "backgroundcolor": "#E5ECF6",
            "gridcolor": "white",
            "gridwidth": 2,
            "linecolor": "white",
            "showbackground": true,
            "ticks": "",
            "zerolinecolor": "white"
           }
          },
          "shapedefaults": {
           "line": {
            "color": "#2a3f5f"
           }
          },
          "ternary": {
           "aaxis": {
            "gridcolor": "white",
            "linecolor": "white",
            "ticks": ""
           },
           "baxis": {
            "gridcolor": "white",
            "linecolor": "white",
            "ticks": ""
           },
           "bgcolor": "#E5ECF6",
           "caxis": {
            "gridcolor": "white",
            "linecolor": "white",
            "ticks": ""
           }
          },
          "title": {
           "x": 0.05
          },
          "xaxis": {
           "automargin": true,
           "gridcolor": "white",
           "linecolor": "white",
           "ticks": "",
           "title": {
            "standoff": 15
           },
           "zerolinecolor": "white",
           "zerolinewidth": 2
          },
          "yaxis": {
           "automargin": true,
           "gridcolor": "white",
           "linecolor": "white",
           "ticks": "",
           "title": {
            "standoff": 15
           },
           "zerolinecolor": "white",
           "zerolinewidth": 2
          }
         }
        },
        "title": {
         "text": "Are countries HIDING their overall polution rates?"
        },
        "xaxis": {
         "anchor": "y",
         "categoryarray": [
          "Afghanistan",
          "China",
          "India",
          "Solomon Islands",
          "United Arab Emirates",
          "United States"
         ],
         "categoryorder": "array",
         "domain": [
          0,
          0.235
         ],
         "title": {
          "text": "Entity"
         }
        },
        "xaxis10": {
         "anchor": "y10",
         "domain": [
          0.255,
          0.49
         ],
         "matches": "x",
         "showticklabels": false
        },
        "xaxis11": {
         "anchor": "y11",
         "domain": [
          0.51,
          0.745
         ],
         "matches": "x",
         "showticklabels": false
        },
        "xaxis12": {
         "anchor": "y12",
         "domain": [
          0.7649999999999999,
          0.9999999999999999
         ],
         "matches": "x",
         "showticklabels": false
        },
        "xaxis2": {
         "anchor": "y2",
         "categoryarray": [
          "Afghanistan",
          "China",
          "India",
          "Solomon Islands",
          "United Arab Emirates",
          "United States"
         ],
         "categoryorder": "array",
         "domain": [
          0.255,
          0.49
         ],
         "matches": "x",
         "title": {
          "text": "Entity"
         }
        },
        "xaxis3": {
         "anchor": "y3",
         "categoryarray": [
          "Afghanistan",
          "China",
          "India",
          "Solomon Islands",
          "United Arab Emirates",
          "United States"
         ],
         "categoryorder": "array",
         "domain": [
          0.51,
          0.745
         ],
         "matches": "x",
         "title": {
          "text": "Entity"
         }
        },
        "xaxis4": {
         "anchor": "y4",
         "categoryarray": [
          "Afghanistan",
          "China",
          "India",
          "Solomon Islands",
          "United Arab Emirates",
          "United States"
         ],
         "categoryorder": "array",
         "domain": [
          0.7649999999999999,
          0.9999999999999999
         ],
         "matches": "x",
         "title": {
          "text": "Entity"
         }
        },
        "xaxis5": {
         "anchor": "y5",
         "domain": [
          0,
          0.235
         ],
         "matches": "x",
         "showticklabels": false
        },
        "xaxis6": {
         "anchor": "y6",
         "domain": [
          0.255,
          0.49
         ],
         "matches": "x",
         "showticklabels": false
        },
        "xaxis7": {
         "anchor": "y7",
         "domain": [
          0.51,
          0.745
         ],
         "matches": "x",
         "showticklabels": false
        },
        "xaxis8": {
         "anchor": "y8",
         "domain": [
          0.7649999999999999,
          0.9999999999999999
         ],
         "matches": "x",
         "showticklabels": false
        },
        "xaxis9": {
         "anchor": "y9",
         "domain": [
          0,
          0.235
         ],
         "matches": "x",
         "showticklabels": false
        },
        "yaxis": {
         "anchor": "x",
         "domain": [
          0,
          0.2866666666666666
         ],
         "title": {
          "text": "Deaths"
         }
        },
        "yaxis10": {
         "anchor": "x10",
         "domain": [
          0.7133333333333333,
          0.9999999999999999
         ],
         "matches": "y",
         "showticklabels": false
        },
        "yaxis11": {
         "anchor": "x11",
         "domain": [
          0.7133333333333333,
          0.9999999999999999
         ],
         "matches": "y",
         "showticklabels": false
        },
        "yaxis12": {
         "anchor": "x12",
         "domain": [
          0.7133333333333333,
          0.9999999999999999
         ],
         "matches": "y",
         "showticklabels": false
        },
        "yaxis2": {
         "anchor": "x2",
         "domain": [
          0,
          0.2866666666666666
         ],
         "matches": "y",
         "showticklabels": false
        },
        "yaxis3": {
         "anchor": "x3",
         "domain": [
          0,
          0.2866666666666666
         ],
         "matches": "y",
         "showticklabels": false
        },
        "yaxis4": {
         "anchor": "x4",
         "domain": [
          0,
          0.2866666666666666
         ],
         "matches": "y",
         "showticklabels": false
        },
        "yaxis5": {
         "anchor": "x5",
         "domain": [
          0.35666666666666663,
          0.6433333333333333
         ],
         "matches": "y",
         "title": {
          "text": "Deaths"
         }
        },
        "yaxis6": {
         "anchor": "x6",
         "domain": [
          0.35666666666666663,
          0.6433333333333333
         ],
         "matches": "y",
         "showticklabels": false
        },
        "yaxis7": {
         "anchor": "x7",
         "domain": [
          0.35666666666666663,
          0.6433333333333333
         ],
         "matches": "y",
         "showticklabels": false
        },
        "yaxis8": {
         "anchor": "x8",
         "domain": [
          0.35666666666666663,
          0.6433333333333333
         ],
         "matches": "y",
         "showticklabels": false
        },
        "yaxis9": {
         "anchor": "x9",
         "domain": [
          0.7133333333333333,
          0.9999999999999999
         ],
         "matches": "y",
         "title": {
          "text": "Deaths"
         }
        }
       }
      }
     },
     "metadata": {},
     "output_type": "display_data"
    }
   ],
   "source": [
    "import plotly.express as px\n",
    "\n",
    "fig = px.scatter(df_reduced, x='Entity', y='Deaths', color='Entity',size='Deaths',\n",
    "                facet_col='Year', facet_col_wrap=4,title= \"Are countries HIDING their overall polution rates?\")\n",
    "\n",
    "fig.show()"
   ]
  },
  {
   "cell_type": "code",
   "execution_count": 12,
   "metadata": {},
   "outputs": [
    {
     "data": {
      "image/png": "[encoded data removed]",
      "text/plain": [
       "<IPython.core.display.Image object>"
      ]
     },
     "execution_count": 12,
     "metadata": {},
     "output_type": "execute_result"
    }
   ],
   "source": [
    "# Display Output in production\n",
    "img_bytes = fig.to_image(format=\"png\")\n",
    "from IPython.display import Image\n",
    "Image(img_bytes)"
   ]
  },
  {
   "cell_type": "code",
   "execution_count": null,
   "metadata": {},
   "outputs": [],
   "source": []
  }
 ],
 "metadata": {
  "interpreter": {
   "hash": "dc3717310721e78340b515d0b29579350c2500991242a417bdf5db6e28ba5586"
  },
  "kernelspec": {
   "display_name": "Python 3.10.4 ('virtual_env')",
   "language": "python",
   "name": "python3"
  },
  "language_info": {
   "codemirror_mode": {
    "name": "ipython",
    "version": 3
   },
   "file_extension": ".py",
   "mimetype": "text/x-python",
   "name": "python",
   "nbconvert_exporter": "python",
   "pygments_lexer": "ipython3",
   "version": "3.10.4"
  },
  "orig_nbformat": 4
 },
 "nbformat": 4,
 "nbformat_minor": 2
}
