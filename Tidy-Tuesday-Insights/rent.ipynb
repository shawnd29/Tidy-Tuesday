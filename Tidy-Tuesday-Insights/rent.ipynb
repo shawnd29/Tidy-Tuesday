{
 "cells": [
  {
   "cell_type": "markdown",
   "metadata": {},
   "source": [
    "2022-07-05 <br/>\n",
    "San Francisco Rentals <br/>\n",
    "https://github.com/rfordatascience/tidytuesday/blob/master/data/2022/2022-07-05"
   ]
  },
  {
   "cell_type": "markdown",
   "metadata": {},
   "source": [
    "Basic scatter plot - Completed"
   ]
  },
  {
   "cell_type": "markdown",
   "metadata": {},
   "source": [
    "Special Thanks to poncest: https://twitter.com/sponce1/status/1545174488962187264/photo/1"
   ]
  },
  {
   "cell_type": "code",
   "execution_count": 1,
   "metadata": {},
   "outputs": [],
   "source": [
    "import pandas as pd\n",
    "import plotly.graph_objects as go\n",
    "import plotly.express as px\n",
    "import plotly.io as pio\n",
    "pio.renderers.default=\"jupyterlab\"\n",
    "import os"
   ]
  },
  {
   "cell_type": "code",
   "execution_count": 2,
   "metadata": {},
   "outputs": [],
   "source": [
    "df = pd.read_csv('https://raw.githubusercontent.com/rfordatascience/tidytuesday/master/data/2022/2022-07-05/rent.csv')"
   ]
  },
  {
   "cell_type": "code",
   "execution_count": 3,
   "metadata": {},
   "outputs": [
    {
     "data": {
      "text/html": [
       "<div>\n",
       "<style scoped>\n",
       "    .dataframe tbody tr th:only-of-type {\n",
       "        vertical-align: middle;\n",
       "    }\n",
       "\n",
       "    .dataframe tbody tr th {\n",
       "        vertical-align: top;\n",
       "    }\n",
       "\n",
       "    .dataframe thead th {\n",
       "        text-align: right;\n",
       "    }\n",
       "</style>\n",
       "<table border=\"1\" class=\"dataframe\">\n",
       "  <thead>\n",
       "    <tr style=\"text-align: right;\">\n",
       "      <th></th>\n",
       "      <th>post_id</th>\n",
       "      <th>date</th>\n",
       "      <th>year</th>\n",
       "      <th>nhood</th>\n",
       "      <th>city</th>\n",
       "      <th>county</th>\n",
       "      <th>price</th>\n",
       "      <th>beds</th>\n",
       "      <th>baths</th>\n",
       "      <th>sqft</th>\n",
       "      <th>room_in_apt</th>\n",
       "      <th>address</th>\n",
       "      <th>lat</th>\n",
       "      <th>lon</th>\n",
       "      <th>title</th>\n",
       "      <th>descr</th>\n",
       "      <th>details</th>\n",
       "    </tr>\n",
       "  </thead>\n",
       "  <tbody>\n",
       "    <tr>\n",
       "      <th>0</th>\n",
       "      <td>pre2013_134138</td>\n",
       "      <td>20050111</td>\n",
       "      <td>2005</td>\n",
       "      <td>alameda</td>\n",
       "      <td>alameda</td>\n",
       "      <td>alameda</td>\n",
       "      <td>1250</td>\n",
       "      <td>2.0</td>\n",
       "      <td>2.0</td>\n",
       "      <td>NaN</td>\n",
       "      <td>0</td>\n",
       "      <td>NaN</td>\n",
       "      <td>NaN</td>\n",
       "      <td>NaN</td>\n",
       "      <td>$1250 / 2br - 2BR/2BA   1145 ALAMEDA DE LAS PU...</td>\n",
       "      <td>NaN</td>\n",
       "      <td>NaN</td>\n",
       "    </tr>\n",
       "    <tr>\n",
       "      <th>1</th>\n",
       "      <td>pre2013_135669</td>\n",
       "      <td>20050126</td>\n",
       "      <td>2005</td>\n",
       "      <td>alameda</td>\n",
       "      <td>alameda</td>\n",
       "      <td>alameda</td>\n",
       "      <td>1295</td>\n",
       "      <td>2.0</td>\n",
       "      <td>NaN</td>\n",
       "      <td>NaN</td>\n",
       "      <td>0</td>\n",
       "      <td>NaN</td>\n",
       "      <td>NaN</td>\n",
       "      <td>NaN</td>\n",
       "      <td>$1295 / 2br - Walk the Beach! 1 FREE MONTH + $...</td>\n",
       "      <td>NaN</td>\n",
       "      <td>NaN</td>\n",
       "    </tr>\n",
       "    <tr>\n",
       "      <th>2</th>\n",
       "      <td>pre2013_127127</td>\n",
       "      <td>20041017</td>\n",
       "      <td>2004</td>\n",
       "      <td>alameda</td>\n",
       "      <td>alameda</td>\n",
       "      <td>alameda</td>\n",
       "      <td>1100</td>\n",
       "      <td>2.0</td>\n",
       "      <td>NaN</td>\n",
       "      <td>NaN</td>\n",
       "      <td>0</td>\n",
       "      <td>NaN</td>\n",
       "      <td>NaN</td>\n",
       "      <td>NaN</td>\n",
       "      <td>$1100 / 2br - cottage</td>\n",
       "      <td>NaN</td>\n",
       "      <td>NaN</td>\n",
       "    </tr>\n",
       "    <tr>\n",
       "      <th>3</th>\n",
       "      <td>pre2013_68671</td>\n",
       "      <td>20120601</td>\n",
       "      <td>2012</td>\n",
       "      <td>alameda</td>\n",
       "      <td>alameda</td>\n",
       "      <td>alameda</td>\n",
       "      <td>1425</td>\n",
       "      <td>1.0</td>\n",
       "      <td>NaN</td>\n",
       "      <td>735.0</td>\n",
       "      <td>0</td>\n",
       "      <td>NaN</td>\n",
       "      <td>NaN</td>\n",
       "      <td>NaN</td>\n",
       "      <td>$1425 / 1br - 735ft² - BEST LOCATION SOUTHSHOR...</td>\n",
       "      <td>NaN</td>\n",
       "      <td>NaN</td>\n",
       "    </tr>\n",
       "    <tr>\n",
       "      <th>4</th>\n",
       "      <td>pre2013_127580</td>\n",
       "      <td>20041021</td>\n",
       "      <td>2004</td>\n",
       "      <td>alameda</td>\n",
       "      <td>alameda</td>\n",
       "      <td>alameda</td>\n",
       "      <td>890</td>\n",
       "      <td>1.0</td>\n",
       "      <td>NaN</td>\n",
       "      <td>NaN</td>\n",
       "      <td>0</td>\n",
       "      <td>NaN</td>\n",
       "      <td>NaN</td>\n",
       "      <td>NaN</td>\n",
       "      <td>$890 / 1br - Classy \"Painted Lady\" VICTORIAN -...</td>\n",
       "      <td>NaN</td>\n",
       "      <td>NaN</td>\n",
       "    </tr>\n",
       "  </tbody>\n",
       "</table>\n",
       "</div>"
      ],
      "text/plain": [
       "          post_id      date  year    nhood     city   county  price  beds  \\\n",
       "0  pre2013_134138  20050111  2005  alameda  alameda  alameda   1250   2.0   \n",
       "1  pre2013_135669  20050126  2005  alameda  alameda  alameda   1295   2.0   \n",
       "2  pre2013_127127  20041017  2004  alameda  alameda  alameda   1100   2.0   \n",
       "3   pre2013_68671  20120601  2012  alameda  alameda  alameda   1425   1.0   \n",
       "4  pre2013_127580  20041021  2004  alameda  alameda  alameda    890   1.0   \n",
       "\n",
       "   baths   sqft  room_in_apt address  lat  lon  \\\n",
       "0    2.0    NaN            0     NaN  NaN  NaN   \n",
       "1    NaN    NaN            0     NaN  NaN  NaN   \n",
       "2    NaN    NaN            0     NaN  NaN  NaN   \n",
       "3    NaN  735.0            0     NaN  NaN  NaN   \n",
       "4    NaN    NaN            0     NaN  NaN  NaN   \n",
       "\n",
       "                                               title descr details  \n",
       "0  $1250 / 2br - 2BR/2BA   1145 ALAMEDA DE LAS PU...   NaN     NaN  \n",
       "1  $1295 / 2br - Walk the Beach! 1 FREE MONTH + $...   NaN     NaN  \n",
       "2                              $1100 / 2br - cottage   NaN     NaN  \n",
       "3  $1425 / 1br - 735ft² - BEST LOCATION SOUTHSHOR...   NaN     NaN  \n",
       "4  $890 / 1br - Classy \"Painted Lady\" VICTORIAN -...   NaN     NaN  "
      ]
     },
     "execution_count": 3,
     "metadata": {},
     "output_type": "execute_result"
    }
   ],
   "source": [
    "df.head()"
   ]
  },
  {
   "cell_type": "code",
   "execution_count": 4,
   "metadata": {},
   "outputs": [],
   "source": [
    "df_cleaned = df [df.beds.notna() & df.baths.notna() & df.sqft.notna()]"
   ]
  },
  {
   "cell_type": "code",
   "execution_count": 5,
   "metadata": {},
   "outputs": [
    {
     "data": {
      "text/plain": [
       "(200796, 17)"
      ]
     },
     "execution_count": 5,
     "metadata": {},
     "output_type": "execute_result"
    }
   ],
   "source": [
    "df.shape"
   ]
  },
  {
   "cell_type": "code",
   "execution_count": 6,
   "metadata": {},
   "outputs": [
    {
     "data": {
      "text/plain": [
       "(14629, 17)"
      ]
     },
     "execution_count": 6,
     "metadata": {},
     "output_type": "execute_result"
    }
   ],
   "source": [
    "df_cleaned.shape"
   ]
  },
  {
   "cell_type": "code",
   "execution_count": 7,
   "metadata": {},
   "outputs": [
    {
     "data": {
      "text/plain": [
       "2.0    6287\n",
       "3.0    3632\n",
       "1.0    2668\n",
       "4.0    1416\n",
       "5.0     355\n",
       "0.0     209\n",
       "6.0      50\n",
       "7.0      10\n",
       "8.0       2\n",
       "Name: beds, dtype: int64"
      ]
     },
     "execution_count": 7,
     "metadata": {},
     "output_type": "execute_result"
    }
   ],
   "source": [
    "df_cleaned.beds.value_counts()"
   ]
  },
  {
   "cell_type": "code",
   "execution_count": 8,
   "metadata": {},
   "outputs": [
    {
     "data": {
      "text/plain": [
       "2.0    5648\n",
       "1.0    5477\n",
       "2.5    1396\n",
       "3.0     912\n",
       "1.5     777\n",
       "3.5     219\n",
       "4.0     108\n",
       "5.0      39\n",
       "4.5      36\n",
       "5.5       7\n",
       "6.0       4\n",
       "6.5       3\n",
       "7.0       2\n",
       "8.0       1\n",
       "Name: baths, dtype: int64"
      ]
     },
     "execution_count": 8,
     "metadata": {},
     "output_type": "execute_result"
    }
   ],
   "source": [
    "df_cleaned.baths.value_counts()"
   ]
  },
  {
   "cell_type": "code",
   "execution_count": 9,
   "metadata": {},
   "outputs": [],
   "source": [
    "# Limiting the beds and baths \n",
    "df_cleaned= df_cleaned[(df_cleaned.beds<=3) & (df_cleaned.baths<=3)]"
   ]
  },
  {
   "cell_type": "code",
   "execution_count": 10,
   "metadata": {},
   "outputs": [
    {
     "data": {
      "text/plain": [
       "(12708, 17)"
      ]
     },
     "execution_count": 10,
     "metadata": {},
     "output_type": "execute_result"
    }
   ],
   "source": [
    "df_cleaned.shape"
   ]
  },
  {
   "cell_type": "code",
   "execution_count": 11,
   "metadata": {},
   "outputs": [],
   "source": [
    "df_cleaned['bed_bath'] = df_cleaned.beds.astype(\"str\")+\" Beds - \"+df_cleaned.baths.astype(\"str\")+\" Baths\""
   ]
  },
  {
   "cell_type": "code",
   "execution_count": 12,
   "metadata": {},
   "outputs": [
    {
     "data": {
      "text/plain": [
       "2.0 Beds - 2.0 Baths    3134\n",
       "1.0 Beds - 1.0 Baths    2500\n",
       "2.0 Beds - 1.0 Baths    2313\n",
       "3.0 Beds - 2.0 Baths    1904\n",
       "3.0 Beds - 2.5 Baths     696\n",
       "2.0 Beds - 1.5 Baths     471\n",
       "3.0 Beds - 1.0 Baths     419\n",
       "2.0 Beds - 2.5 Baths     346\n",
       "3.0 Beds - 3.0 Baths     327\n",
       "3.0 Beds - 1.5 Baths     209\n",
       "0.0 Beds - 1.0 Baths     166\n",
       "1.0 Beds - 2.0 Baths      86\n",
       "1.0 Beds - 1.5 Baths      70\n",
       "0.0 Beds - 2.0 Baths      37\n",
       "2.0 Beds - 3.0 Baths      16\n",
       "1.0 Beds - 3.0 Baths       7\n",
       "1.0 Beds - 2.5 Baths       3\n",
       "0.0 Beds - 2.5 Baths       2\n",
       "0.0 Beds - 3.0 Baths       1\n",
       "0.0 Beds - 1.5 Baths       1\n",
       "Name: bed_bath, dtype: int64"
      ]
     },
     "execution_count": 12,
     "metadata": {},
     "output_type": "execute_result"
    }
   ],
   "source": [
    "df_cleaned.bed_bath.value_counts()"
   ]
  },
  {
   "cell_type": "code",
   "execution_count": 13,
   "metadata": {},
   "outputs": [],
   "source": [
    "df_reduced =df_cleaned[df_cleaned.bed_bath.isin([\"1.0 Beds - 1.0 Baths\", \"2.0 Beds - 1.0 Baths\", \n",
    "                               \"2.0 Beds - 2.0 Baths\", \"3.0 Beds - 2.0 Baths\", \n",
    "                               \"3.0 Beds - 1.0 Baths\"])]"
   ]
  },
  {
   "cell_type": "code",
   "execution_count": 14,
   "metadata": {},
   "outputs": [
    {
     "data": {
      "text/plain": [
       "(10270, 18)"
      ]
     },
     "execution_count": 14,
     "metadata": {},
     "output_type": "execute_result"
    }
   ],
   "source": [
    "df_reduced.shape"
   ]
  },
  {
   "cell_type": "code",
   "execution_count": 15,
   "metadata": {},
   "outputs": [],
   "source": [
    "# df_reduced= df_cleaned.groupby(\"bed_bath\")['price'].median()"
   ]
  },
  {
   "cell_type": "code",
   "execution_count": 17,
   "metadata": {},
   "outputs": [],
   "source": [
    "df_reduced_median = df_reduced.groupby(['year','county','bed_bath'])[[\"sqft\",\"price\"]].median().reset_index()"
   ]
  },
  {
   "cell_type": "code",
   "execution_count": 19,
   "metadata": {},
   "outputs": [
    {
     "data": {
      "application/vnd.plotly.v1+json": {
       "config": {
        "plotlyServerURL": "https://plot.ly"
       },
       "data": [
        {
         "customdata": [
          [
           "2.0 Beds - 1.0 Baths",
           "alameda"
          ],
          [
           "2.0 Beds - 1.0 Baths",
           "san francisco"
          ],
          [
           "2.0 Beds - 1.0 Baths",
           "san mateo"
          ],
          [
           "2.0 Beds - 1.0 Baths",
           "santa clara"
          ],
          [
           "2.0 Beds - 1.0 Baths",
           "santa cruz"
          ],
          [
           "2.0 Beds - 1.0 Baths",
           "alameda"
          ],
          [
           "2.0 Beds - 1.0 Baths",
           "san francisco"
          ],
          [
           "2.0 Beds - 1.0 Baths",
           "san mateo"
          ],
          [
           "2.0 Beds - 1.0 Baths",
           "santa clara"
          ],
          [
           "2.0 Beds - 1.0 Baths",
           "alameda"
          ],
          [
           "2.0 Beds - 1.0 Baths",
           "san francisco"
          ],
          [
           "2.0 Beds - 1.0 Baths",
           "santa clara"
          ],
          [
           "2.0 Beds - 1.0 Baths",
           "sonoma"
          ],
          [
           "2.0 Beds - 1.0 Baths",
           "san francisco"
          ],
          [
           "2.0 Beds - 1.0 Baths",
           "san mateo"
          ],
          [
           "2.0 Beds - 1.0 Baths",
           "santa cruz"
          ],
          [
           "2.0 Beds - 1.0 Baths",
           "alameda"
          ],
          [
           "2.0 Beds - 1.0 Baths",
           "san mateo"
          ],
          [
           "2.0 Beds - 1.0 Baths",
           "santa clara"
          ],
          [
           "2.0 Beds - 1.0 Baths",
           "santa clara"
          ],
          [
           "2.0 Beds - 1.0 Baths",
           "santa clara"
          ],
          [
           "2.0 Beds - 1.0 Baths",
           "alameda"
          ],
          [
           "2.0 Beds - 1.0 Baths",
           "contra costa"
          ],
          [
           "2.0 Beds - 1.0 Baths",
           "marin"
          ],
          [
           "2.0 Beds - 1.0 Baths",
           "napa"
          ],
          [
           "2.0 Beds - 1.0 Baths",
           "san francisco"
          ],
          [
           "2.0 Beds - 1.0 Baths",
           "san mateo"
          ],
          [
           "2.0 Beds - 1.0 Baths",
           "santa clara"
          ],
          [
           "2.0 Beds - 1.0 Baths",
           "solano"
          ],
          [
           "2.0 Beds - 1.0 Baths",
           "sonoma"
          ],
          [
           "2.0 Beds - 1.0 Baths",
           "alameda"
          ],
          [
           "2.0 Beds - 1.0 Baths",
           "contra costa"
          ],
          [
           "2.0 Beds - 1.0 Baths",
           "marin"
          ],
          [
           "2.0 Beds - 1.0 Baths",
           "napa"
          ],
          [
           "2.0 Beds - 1.0 Baths",
           "san francisco"
          ],
          [
           "2.0 Beds - 1.0 Baths",
           "san mateo"
          ],
          [
           "2.0 Beds - 1.0 Baths",
           "santa clara"
          ],
          [
           "2.0 Beds - 1.0 Baths",
           "santa cruz"
          ],
          [
           "2.0 Beds - 1.0 Baths",
           "solano"
          ],
          [
           "2.0 Beds - 1.0 Baths",
           "sonoma"
          ],
          [
           "2.0 Beds - 1.0 Baths",
           "alameda"
          ],
          [
           "2.0 Beds - 1.0 Baths",
           "contra costa"
          ],
          [
           "2.0 Beds - 1.0 Baths",
           "marin"
          ],
          [
           "2.0 Beds - 1.0 Baths",
           "napa"
          ],
          [
           "2.0 Beds - 1.0 Baths",
           "san francisco"
          ],
          [
           "2.0 Beds - 1.0 Baths",
           "san mateo"
          ],
          [
           "2.0 Beds - 1.0 Baths",
           "santa clara"
          ],
          [
           "2.0 Beds - 1.0 Baths",
           "santa cruz"
          ],
          [
           "2.0 Beds - 1.0 Baths",
           "solano"
          ],
          [
           "2.0 Beds - 1.0 Baths",
           "sonoma"
          ],
          [
           "2.0 Beds - 1.0 Baths",
           "alameda"
          ],
          [
           "2.0 Beds - 1.0 Baths",
           "contra costa"
          ],
          [
           "2.0 Beds - 1.0 Baths",
           "marin"
          ],
          [
           "2.0 Beds - 1.0 Baths",
           "napa"
          ],
          [
           "2.0 Beds - 1.0 Baths",
           "san francisco"
          ],
          [
           "2.0 Beds - 1.0 Baths",
           "san mateo"
          ],
          [
           "2.0 Beds - 1.0 Baths",
           "santa clara"
          ],
          [
           "2.0 Beds - 1.0 Baths",
           "santa cruz"
          ],
          [
           "2.0 Beds - 1.0 Baths",
           "solano"
          ],
          [
           "2.0 Beds - 1.0 Baths",
           "sonoma"
          ],
          [
           "2.0 Beds - 1.0 Baths",
           "alameda"
          ],
          [
           "2.0 Beds - 1.0 Baths",
           "contra costa"
          ],
          [
           "2.0 Beds - 1.0 Baths",
           "marin"
          ],
          [
           "2.0 Beds - 1.0 Baths",
           "napa"
          ],
          [
           "2.0 Beds - 1.0 Baths",
           "san francisco"
          ],
          [
           "2.0 Beds - 1.0 Baths",
           "san mateo"
          ],
          [
           "2.0 Beds - 1.0 Baths",
           "santa clara"
          ],
          [
           "2.0 Beds - 1.0 Baths",
           "santa cruz"
          ],
          [
           "2.0 Beds - 1.0 Baths",
           "solano"
          ],
          [
           "2.0 Beds - 1.0 Baths",
           "sonoma"
          ],
          [
           "2.0 Beds - 1.0 Baths",
           "alameda"
          ],
          [
           "2.0 Beds - 1.0 Baths",
           "contra costa"
          ],
          [
           "2.0 Beds - 1.0 Baths",
           "marin"
          ],
          [
           "2.0 Beds - 1.0 Baths",
           "napa"
          ],
          [
           "2.0 Beds - 1.0 Baths",
           "san francisco"
          ],
          [
           "2.0 Beds - 1.0 Baths",
           "san mateo"
          ],
          [
           "2.0 Beds - 1.0 Baths",
           "santa clara"
          ],
          [
           "2.0 Beds - 1.0 Baths",
           "santa cruz"
          ],
          [
           "2.0 Beds - 1.0 Baths",
           "solano"
          ],
          [
           "2.0 Beds - 1.0 Baths",
           "sonoma"
          ],
          [
           "2.0 Beds - 1.0 Baths",
           "alameda"
          ],
          [
           "2.0 Beds - 1.0 Baths",
           "contra costa"
          ],
          [
           "2.0 Beds - 1.0 Baths",
           "napa"
          ],
          [
           "2.0 Beds - 1.0 Baths",
           "san francisco"
          ],
          [
           "2.0 Beds - 1.0 Baths",
           "san mateo"
          ],
          [
           "2.0 Beds - 1.0 Baths",
           "santa clara"
          ],
          [
           "2.0 Beds - 1.0 Baths",
           "santa cruz"
          ],
          [
           "2.0 Beds - 1.0 Baths",
           "solano"
          ],
          [
           "2.0 Beds - 1.0 Baths",
           "sonoma"
          ],
          [
           "2.0 Beds - 1.0 Baths",
           "alameda"
          ],
          [
           "2.0 Beds - 1.0 Baths",
           "contra costa"
          ],
          [
           "2.0 Beds - 1.0 Baths",
           "marin"
          ],
          [
           "2.0 Beds - 1.0 Baths",
           "san francisco"
          ],
          [
           "2.0 Beds - 1.0 Baths",
           "san mateo"
          ],
          [
           "2.0 Beds - 1.0 Baths",
           "santa clara"
          ],
          [
           "2.0 Beds - 1.0 Baths",
           "santa cruz"
          ],
          [
           "2.0 Beds - 1.0 Baths",
           "solano"
          ],
          [
           "2.0 Beds - 1.0 Baths",
           "sonoma"
          ]
         ],
         "hovertemplate": "bed_bath=%{customdata[0]}<br>sqft=%{x}<br>price=%{y}<br>county=%{customdata[1]}<extra></extra>",
         "legendgroup": "2.0 Beds - 1.0 Baths",
         "marker": {
          "color": "#636efa",
          "symbol": "circle"
         },
         "mode": "markers",
         "name": "2.0 Beds - 1.0 Baths",
         "orientation": "v",
         "showlegend": true,
         "type": "scatter",
         "x": [
          800,
          1100,
          900,
          1000,
          1200,
          1053,
          1200,
          1300,
          900,
          950,
          1050,
          1000,
          1100,
          500,
          960,
          1000,
          820,
          925,
          1000,
          965,
          925,
          900,
          850,
          880,
          980,
          1075,
          850,
          900,
          820,
          800,
          879.5,
          875,
          942.5,
          932,
          1000,
          960,
          900,
          937.5,
          916,
          885,
          900,
          900,
          977,
          936,
          1000,
          900,
          900,
          1000,
          950,
          778.5,
          900,
          900,
          982,
          890,
          1000,
          950,
          907.5,
          900,
          950,
          920.5,
          902,
          870,
          950,
          912.5,
          1000,
          950,
          910,
          931,
          948,
          829.5,
          869,
          895,
          848,
          970,
          1000,
          900,
          900,
          850,
          725,
          900,
          923,
          899.5,
          870,
          850,
          952.5,
          855,
          1005,
          955,
          950,
          911.5,
          874,
          1036.5,
          900,
          920,
          909,
          942.5,
          1025,
          889
         ],
         "xaxis": "x",
         "y": [
          1395,
          1750,
          1550,
          1250,
          1450,
          1292.5,
          2195,
          1735,
          1100,
          1250,
          1450,
          1425,
          975,
          5000,
          1400,
          1450,
          1265,
          1750,
          1558.5,
          1645,
          1817,
          1374.5,
          1080,
          1718.5,
          1200,
          2450,
          2039,
          1715,
          1095,
          1200,
          1387.5,
          1288,
          1764.5,
          1350,
          2517.5,
          2113,
          1695,
          1500,
          1100,
          1285,
          1510,
          1617.5,
          1987.5,
          1750,
          2997,
          1875,
          1920,
          1800,
          960,
          1325,
          1895,
          1555,
          2225,
          1398.5,
          3400,
          2600,
          2297.5,
          2095,
          1261,
          1745,
          2165,
          2070,
          2425,
          1773,
          3600,
          2917,
          2500,
          2100,
          1345,
          1731.5,
          2295,
          1950,
          2754,
          2174,
          3725,
          2537.5,
          2431,
          2250,
          1250,
          1825,
          2400,
          2347.5,
          2055,
          3699,
          3108.5,
          2520,
          2322.5,
          1690,
          1830,
          2449,
          2212.5,
          2714,
          3510,
          3123,
          2490,
          2450,
          1787.5,
          2194.5
         ],
         "yaxis": "y"
        },
        {
         "customdata": [
          [
           "2.0 Beds - 2.0 Baths",
           "santa clara"
          ],
          [
           "2.0 Beds - 2.0 Baths",
           "santa clara"
          ],
          [
           "2.0 Beds - 2.0 Baths",
           "santa cruz"
          ],
          [
           "2.0 Beds - 2.0 Baths",
           "alameda"
          ],
          [
           "2.0 Beds - 2.0 Baths",
           "contra costa"
          ],
          [
           "2.0 Beds - 2.0 Baths",
           "san francisco"
          ],
          [
           "2.0 Beds - 2.0 Baths",
           "san mateo"
          ],
          [
           "2.0 Beds - 2.0 Baths",
           "santa clara"
          ],
          [
           "2.0 Beds - 2.0 Baths",
           "alameda"
          ],
          [
           "2.0 Beds - 2.0 Baths",
           "san francisco"
          ],
          [
           "2.0 Beds - 2.0 Baths",
           "san mateo"
          ],
          [
           "2.0 Beds - 2.0 Baths",
           "santa clara"
          ],
          [
           "2.0 Beds - 2.0 Baths",
           "alameda"
          ],
          [
           "2.0 Beds - 2.0 Baths",
           "contra costa"
          ],
          [
           "2.0 Beds - 2.0 Baths",
           "marin"
          ],
          [
           "2.0 Beds - 2.0 Baths",
           "san francisco"
          ],
          [
           "2.0 Beds - 2.0 Baths",
           "san mateo"
          ],
          [
           "2.0 Beds - 2.0 Baths",
           "santa clara"
          ],
          [
           "2.0 Beds - 2.0 Baths",
           "san francisco"
          ],
          [
           "2.0 Beds - 2.0 Baths",
           "santa clara"
          ],
          [
           "2.0 Beds - 2.0 Baths",
           "alameda"
          ],
          [
           "2.0 Beds - 2.0 Baths",
           "santa clara"
          ],
          [
           "2.0 Beds - 2.0 Baths",
           "santa clara"
          ],
          [
           "2.0 Beds - 2.0 Baths",
           "alameda"
          ],
          [
           "2.0 Beds - 2.0 Baths",
           "san francisco"
          ],
          [
           "2.0 Beds - 2.0 Baths",
           "santa clara"
          ],
          [
           "2.0 Beds - 2.0 Baths",
           "alameda"
          ],
          [
           "2.0 Beds - 2.0 Baths",
           "contra costa"
          ],
          [
           "2.0 Beds - 2.0 Baths",
           "marin"
          ],
          [
           "2.0 Beds - 2.0 Baths",
           "napa"
          ],
          [
           "2.0 Beds - 2.0 Baths",
           "san francisco"
          ],
          [
           "2.0 Beds - 2.0 Baths",
           "san mateo"
          ],
          [
           "2.0 Beds - 2.0 Baths",
           "santa clara"
          ],
          [
           "2.0 Beds - 2.0 Baths",
           "solano"
          ],
          [
           "2.0 Beds - 2.0 Baths",
           "sonoma"
          ],
          [
           "2.0 Beds - 2.0 Baths",
           "alameda"
          ],
          [
           "2.0 Beds - 2.0 Baths",
           "contra costa"
          ],
          [
           "2.0 Beds - 2.0 Baths",
           "marin"
          ],
          [
           "2.0 Beds - 2.0 Baths",
           "napa"
          ],
          [
           "2.0 Beds - 2.0 Baths",
           "san francisco"
          ],
          [
           "2.0 Beds - 2.0 Baths",
           "san mateo"
          ],
          [
           "2.0 Beds - 2.0 Baths",
           "santa clara"
          ],
          [
           "2.0 Beds - 2.0 Baths",
           "santa cruz"
          ],
          [
           "2.0 Beds - 2.0 Baths",
           "solano"
          ],
          [
           "2.0 Beds - 2.0 Baths",
           "sonoma"
          ],
          [
           "2.0 Beds - 2.0 Baths",
           "alameda"
          ],
          [
           "2.0 Beds - 2.0 Baths",
           "contra costa"
          ],
          [
           "2.0 Beds - 2.0 Baths",
           "marin"
          ],
          [
           "2.0 Beds - 2.0 Baths",
           "napa"
          ],
          [
           "2.0 Beds - 2.0 Baths",
           "san francisco"
          ],
          [
           "2.0 Beds - 2.0 Baths",
           "san mateo"
          ],
          [
           "2.0 Beds - 2.0 Baths",
           "santa clara"
          ],
          [
           "2.0 Beds - 2.0 Baths",
           "santa cruz"
          ],
          [
           "2.0 Beds - 2.0 Baths",
           "solano"
          ],
          [
           "2.0 Beds - 2.0 Baths",
           "sonoma"
          ],
          [
           "2.0 Beds - 2.0 Baths",
           "alameda"
          ],
          [
           "2.0 Beds - 2.0 Baths",
           "contra costa"
          ],
          [
           "2.0 Beds - 2.0 Baths",
           "marin"
          ],
          [
           "2.0 Beds - 2.0 Baths",
           "napa"
          ],
          [
           "2.0 Beds - 2.0 Baths",
           "san francisco"
          ],
          [
           "2.0 Beds - 2.0 Baths",
           "san mateo"
          ],
          [
           "2.0 Beds - 2.0 Baths",
           "santa clara"
          ],
          [
           "2.0 Beds - 2.0 Baths",
           "santa cruz"
          ],
          [
           "2.0 Beds - 2.0 Baths",
           "solano"
          ],
          [
           "2.0 Beds - 2.0 Baths",
           "sonoma"
          ],
          [
           "2.0 Beds - 2.0 Baths",
           "alameda"
          ],
          [
           "2.0 Beds - 2.0 Baths",
           "contra costa"
          ],
          [
           "2.0 Beds - 2.0 Baths",
           "marin"
          ],
          [
           "2.0 Beds - 2.0 Baths",
           "napa"
          ],
          [
           "2.0 Beds - 2.0 Baths",
           "san francisco"
          ],
          [
           "2.0 Beds - 2.0 Baths",
           "san mateo"
          ],
          [
           "2.0 Beds - 2.0 Baths",
           "santa clara"
          ],
          [
           "2.0 Beds - 2.0 Baths",
           "santa cruz"
          ],
          [
           "2.0 Beds - 2.0 Baths",
           "solano"
          ],
          [
           "2.0 Beds - 2.0 Baths",
           "sonoma"
          ],
          [
           "2.0 Beds - 2.0 Baths",
           "alameda"
          ],
          [
           "2.0 Beds - 2.0 Baths",
           "contra costa"
          ],
          [
           "2.0 Beds - 2.0 Baths",
           "marin"
          ],
          [
           "2.0 Beds - 2.0 Baths",
           "napa"
          ],
          [
           "2.0 Beds - 2.0 Baths",
           "san francisco"
          ],
          [
           "2.0 Beds - 2.0 Baths",
           "san mateo"
          ],
          [
           "2.0 Beds - 2.0 Baths",
           "santa clara"
          ],
          [
           "2.0 Beds - 2.0 Baths",
           "santa cruz"
          ],
          [
           "2.0 Beds - 2.0 Baths",
           "solano"
          ],
          [
           "2.0 Beds - 2.0 Baths",
           "sonoma"
          ],
          [
           "2.0 Beds - 2.0 Baths",
           "alameda"
          ],
          [
           "2.0 Beds - 2.0 Baths",
           "contra costa"
          ],
          [
           "2.0 Beds - 2.0 Baths",
           "marin"
          ],
          [
           "2.0 Beds - 2.0 Baths",
           "san francisco"
          ],
          [
           "2.0 Beds - 2.0 Baths",
           "san mateo"
          ],
          [
           "2.0 Beds - 2.0 Baths",
           "santa clara"
          ],
          [
           "2.0 Beds - 2.0 Baths",
           "santa cruz"
          ],
          [
           "2.0 Beds - 2.0 Baths",
           "solano"
          ],
          [
           "2.0 Beds - 2.0 Baths",
           "sonoma"
          ],
          [
           "2.0 Beds - 2.0 Baths",
           "alameda"
          ],
          [
           "2.0 Beds - 2.0 Baths",
           "contra costa"
          ],
          [
           "2.0 Beds - 2.0 Baths",
           "marin"
          ],
          [
           "2.0 Beds - 2.0 Baths",
           "san francisco"
          ],
          [
           "2.0 Beds - 2.0 Baths",
           "san mateo"
          ],
          [
           "2.0 Beds - 2.0 Baths",
           "santa clara"
          ],
          [
           "2.0 Beds - 2.0 Baths",
           "solano"
          ],
          [
           "2.0 Beds - 2.0 Baths",
           "sonoma"
          ]
         ],
         "hovertemplate": "bed_bath=%{customdata[0]}<br>sqft=%{x}<br>price=%{y}<br>county=%{customdata[1]}<extra></extra>",
         "legendgroup": "2.0 Beds - 2.0 Baths",
         "marker": {
          "color": "#EF553B",
          "symbol": "diamond"
         },
         "mode": "markers",
         "name": "2.0 Beds - 2.0 Baths",
         "orientation": "v",
         "showlegend": true,
         "type": "scatter",
         "x": [
          1087.5,
          1000,
          1400,
          1159,
          1000,
          1269,
          1350,
          1005,
          1108,
          2200,
          1320,
          1202.5,
          1050,
          1487.5,
          1500,
          1100,
          1500,
          1025,
          1500,
          1100,
          1200,
          1005,
          1005,
          1200,
          1200,
          1005,
          1000,
          1045,
          1000,
          1060,
          1140,
          1126,
          1060,
          1092,
          1186,
          1011.5,
          1000,
          1000,
          1205.5,
          1190,
          1111.5,
          1063,
          1100,
          1036,
          1036.5,
          1133,
          999,
          1080,
          871,
          1193,
          1165.5,
          1070,
          1275,
          1102,
          920,
          1087,
          1027,
          1025,
          984,
          1200,
          1110.5,
          1070,
          1550,
          1002,
          1168,
          1050,
          1020.5,
          1010,
          984,
          1200,
          1104,
          1064.5,
          1125,
          998,
          1055,
          1053,
          1025,
          967.5,
          1085,
          1200,
          1100,
          1046.5,
          1035,
          1002,
          1159,
          1011.5,
          988,
          1091.5,
          1089,
          1154,
          1020,
          1100,
          1105,
          1097.5,
          1074.5,
          975,
          1140,
          1175,
          1200,
          1141,
          904,
          1155.5
         ],
         "xaxis": "x",
         "y": [
          2172.5,
          1525,
          1650,
          1362.5,
          1075,
          2540,
          1650,
          1325,
          1490,
          3300,
          1550,
          1797.5,
          1695,
          1720,
          2750,
          1900,
          1850,
          1587,
          3000,
          1895,
          1750,
          1795,
          1745,
          1500,
          3800,
          1795,
          1600,
          1625,
          2100,
          1475,
          3050,
          2255,
          1950,
          1460,
          1338.5,
          1800,
          1535,
          2207.5,
          1780,
          3000,
          2495,
          2038,
          1985,
          1238,
          1424,
          2260,
          1869,
          3525,
          1675,
          4049.5,
          2572.5,
          2295,
          2000,
          1370,
          1433,
          2325,
          2320,
          2433,
          1901,
          4599,
          3257.5,
          2700,
          2422.5,
          1875,
          1885,
          2567,
          2155.5,
          2975,
          2132,
          4795,
          3236,
          2995,
          2400,
          1498,
          1924,
          2750,
          2400,
          3149.5,
          2250,
          4650,
          3295,
          2912,
          2800,
          1993,
          2270,
          2767.5,
          2220,
          2915.5,
          4647.5,
          3400,
          2725,
          3150,
          2005,
          2230,
          2719,
          2449,
          3402,
          4500,
          3521.5,
          3016,
          1927.5,
          2507.5
         ],
         "yaxis": "y"
        },
        {
         "customdata": [
          [
           "3.0 Beds - 2.0 Baths",
           "san francisco"
          ],
          [
           "3.0 Beds - 2.0 Baths",
           "santa clara"
          ],
          [
           "3.0 Beds - 2.0 Baths",
           "contra costa"
          ],
          [
           "3.0 Beds - 2.0 Baths",
           "san francisco"
          ],
          [
           "3.0 Beds - 2.0 Baths",
           "san mateo"
          ],
          [
           "3.0 Beds - 2.0 Baths",
           "alameda"
          ],
          [
           "3.0 Beds - 2.0 Baths",
           "san francisco"
          ],
          [
           "3.0 Beds - 2.0 Baths",
           "san mateo"
          ],
          [
           "3.0 Beds - 2.0 Baths",
           "santa clara"
          ],
          [
           "3.0 Beds - 2.0 Baths",
           "santa clara"
          ],
          [
           "3.0 Beds - 2.0 Baths",
           "alameda"
          ],
          [
           "3.0 Beds - 2.0 Baths",
           "san francisco"
          ],
          [
           "3.0 Beds - 2.0 Baths",
           "san mateo"
          ],
          [
           "3.0 Beds - 2.0 Baths",
           "santa clara"
          ],
          [
           "3.0 Beds - 2.0 Baths",
           "sonoma"
          ],
          [
           "3.0 Beds - 2.0 Baths",
           "san francisco"
          ],
          [
           "3.0 Beds - 2.0 Baths",
           "san mateo"
          ],
          [
           "3.0 Beds - 2.0 Baths",
           "santa clara"
          ],
          [
           "3.0 Beds - 2.0 Baths",
           "san mateo"
          ],
          [
           "3.0 Beds - 2.0 Baths",
           "santa clara"
          ],
          [
           "3.0 Beds - 2.0 Baths",
           "solano"
          ],
          [
           "3.0 Beds - 2.0 Baths",
           "alameda"
          ],
          [
           "3.0 Beds - 2.0 Baths",
           "santa clara"
          ],
          [
           "3.0 Beds - 2.0 Baths",
           "alameda"
          ],
          [
           "3.0 Beds - 2.0 Baths",
           "contra costa"
          ],
          [
           "3.0 Beds - 2.0 Baths",
           "marin"
          ],
          [
           "3.0 Beds - 2.0 Baths",
           "napa"
          ],
          [
           "3.0 Beds - 2.0 Baths",
           "san francisco"
          ],
          [
           "3.0 Beds - 2.0 Baths",
           "san mateo"
          ],
          [
           "3.0 Beds - 2.0 Baths",
           "santa clara"
          ],
          [
           "3.0 Beds - 2.0 Baths",
           "solano"
          ],
          [
           "3.0 Beds - 2.0 Baths",
           "sonoma"
          ],
          [
           "3.0 Beds - 2.0 Baths",
           "alameda"
          ],
          [
           "3.0 Beds - 2.0 Baths",
           "contra costa"
          ],
          [
           "3.0 Beds - 2.0 Baths",
           "marin"
          ],
          [
           "3.0 Beds - 2.0 Baths",
           "napa"
          ],
          [
           "3.0 Beds - 2.0 Baths",
           "san francisco"
          ],
          [
           "3.0 Beds - 2.0 Baths",
           "san mateo"
          ],
          [
           "3.0 Beds - 2.0 Baths",
           "santa clara"
          ],
          [
           "3.0 Beds - 2.0 Baths",
           "santa cruz"
          ],
          [
           "3.0 Beds - 2.0 Baths",
           "solano"
          ],
          [
           "3.0 Beds - 2.0 Baths",
           "sonoma"
          ],
          [
           "3.0 Beds - 2.0 Baths",
           "alameda"
          ],
          [
           "3.0 Beds - 2.0 Baths",
           "contra costa"
          ],
          [
           "3.0 Beds - 2.0 Baths",
           "marin"
          ],
          [
           "3.0 Beds - 2.0 Baths",
           "napa"
          ],
          [
           "3.0 Beds - 2.0 Baths",
           "san francisco"
          ],
          [
           "3.0 Beds - 2.0 Baths",
           "san mateo"
          ],
          [
           "3.0 Beds - 2.0 Baths",
           "santa clara"
          ],
          [
           "3.0 Beds - 2.0 Baths",
           "santa cruz"
          ],
          [
           "3.0 Beds - 2.0 Baths",
           "solano"
          ],
          [
           "3.0 Beds - 2.0 Baths",
           "sonoma"
          ],
          [
           "3.0 Beds - 2.0 Baths",
           "alameda"
          ],
          [
           "3.0 Beds - 2.0 Baths",
           "contra costa"
          ],
          [
           "3.0 Beds - 2.0 Baths",
           "marin"
          ],
          [
           "3.0 Beds - 2.0 Baths",
           "san francisco"
          ],
          [
           "3.0 Beds - 2.0 Baths",
           "san mateo"
          ],
          [
           "3.0 Beds - 2.0 Baths",
           "santa clara"
          ],
          [
           "3.0 Beds - 2.0 Baths",
           "santa cruz"
          ],
          [
           "3.0 Beds - 2.0 Baths",
           "solano"
          ],
          [
           "3.0 Beds - 2.0 Baths",
           "sonoma"
          ],
          [
           "3.0 Beds - 2.0 Baths",
           "alameda"
          ],
          [
           "3.0 Beds - 2.0 Baths",
           "contra costa"
          ],
          [
           "3.0 Beds - 2.0 Baths",
           "marin"
          ],
          [
           "3.0 Beds - 2.0 Baths",
           "napa"
          ],
          [
           "3.0 Beds - 2.0 Baths",
           "san francisco"
          ],
          [
           "3.0 Beds - 2.0 Baths",
           "san mateo"
          ],
          [
           "3.0 Beds - 2.0 Baths",
           "santa clara"
          ],
          [
           "3.0 Beds - 2.0 Baths",
           "santa cruz"
          ],
          [
           "3.0 Beds - 2.0 Baths",
           "solano"
          ],
          [
           "3.0 Beds - 2.0 Baths",
           "sonoma"
          ],
          [
           "3.0 Beds - 2.0 Baths",
           "alameda"
          ],
          [
           "3.0 Beds - 2.0 Baths",
           "contra costa"
          ],
          [
           "3.0 Beds - 2.0 Baths",
           "marin"
          ],
          [
           "3.0 Beds - 2.0 Baths",
           "napa"
          ],
          [
           "3.0 Beds - 2.0 Baths",
           "san francisco"
          ],
          [
           "3.0 Beds - 2.0 Baths",
           "san mateo"
          ],
          [
           "3.0 Beds - 2.0 Baths",
           "santa clara"
          ],
          [
           "3.0 Beds - 2.0 Baths",
           "santa cruz"
          ],
          [
           "3.0 Beds - 2.0 Baths",
           "solano"
          ],
          [
           "3.0 Beds - 2.0 Baths",
           "sonoma"
          ],
          [
           "3.0 Beds - 2.0 Baths",
           "alameda"
          ],
          [
           "3.0 Beds - 2.0 Baths",
           "contra costa"
          ],
          [
           "3.0 Beds - 2.0 Baths",
           "marin"
          ],
          [
           "3.0 Beds - 2.0 Baths",
           "napa"
          ],
          [
           "3.0 Beds - 2.0 Baths",
           "san francisco"
          ],
          [
           "3.0 Beds - 2.0 Baths",
           "san mateo"
          ],
          [
           "3.0 Beds - 2.0 Baths",
           "santa clara"
          ],
          [
           "3.0 Beds - 2.0 Baths",
           "santa cruz"
          ],
          [
           "3.0 Beds - 2.0 Baths",
           "solano"
          ],
          [
           "3.0 Beds - 2.0 Baths",
           "sonoma"
          ],
          [
           "3.0 Beds - 2.0 Baths",
           "alameda"
          ],
          [
           "3.0 Beds - 2.0 Baths",
           "contra costa"
          ],
          [
           "3.0 Beds - 2.0 Baths",
           "marin"
          ],
          [
           "3.0 Beds - 2.0 Baths",
           "napa"
          ],
          [
           "3.0 Beds - 2.0 Baths",
           "san francisco"
          ],
          [
           "3.0 Beds - 2.0 Baths",
           "san mateo"
          ],
          [
           "3.0 Beds - 2.0 Baths",
           "santa clara"
          ],
          [
           "3.0 Beds - 2.0 Baths",
           "santa cruz"
          ],
          [
           "3.0 Beds - 2.0 Baths",
           "solano"
          ],
          [
           "3.0 Beds - 2.0 Baths",
           "sonoma"
          ]
         ],
         "hovertemplate": "bed_bath=%{customdata[0]}<br>sqft=%{x}<br>price=%{y}<br>county=%{customdata[1]}<extra></extra>",
         "legendgroup": "3.0 Beds - 2.0 Baths",
         "marker": {
          "color": "#00cc96",
          "symbol": "square"
         },
         "mode": "markers",
         "name": "3.0 Beds - 2.0 Baths",
         "orientation": "v",
         "showlegend": true,
         "type": "scatter",
         "x": [
          1432,
          1300,
          1300,
          1500,
          1850,
          1400,
          1575,
          1717.5,
          1325,
          1325,
          1225,
          2000,
          1750,
          1451,
          1911,
          1500,
          1530,
          1130,
          2000,
          1285,
          1417,
          4000,
          1500,
          1300,
          1496.5,
          1282,
          1661,
          1500,
          1477,
          1300,
          1171,
          1400,
          1340,
          1340,
          1500,
          1548,
          1500,
          1477,
          1285,
          1400,
          1350,
          1400,
          1228.5,
          1485.5,
          1291.5,
          1400,
          1500,
          1500,
          1423.5,
          1625,
          1464,
          1235,
          1380,
          1376.5,
          1500,
          1500,
          1400,
          1323,
          1500,
          1710,
          1500,
          1270,
          1155.5,
          1544,
          1600,
          1440,
          1410,
          1345,
          1450,
          1299,
          1430,
          1255,
          1325,
          1549.5,
          1521,
          1431,
          1317.5,
          1350,
          1500,
          1470,
          1438,
          1207,
          1400,
          1160,
          1323,
          1425,
          1550,
          1377,
          1607,
          1600,
          1800,
          1260,
          1227.5,
          1905,
          1800,
          1425,
          1371,
          1200,
          1525,
          1120,
          1271
         ],
         "xaxis": "x",
         "y": [
          2550,
          1350,
          1820,
          2387.5,
          2100,
          1500,
          2200,
          1900,
          1895,
          1995,
          1772.5,
          3500,
          2097.5,
          2075,
          1800,
          2400,
          2425,
          2095,
          2495,
          2295,
          1400,
          1500,
          1750,
          1900,
          1625,
          2671.5,
          2258.5,
          2900,
          2500,
          2377,
          1400,
          1675,
          2072.5,
          1600,
          2800,
          2150,
          3000,
          2800,
          2295,
          2250,
          1450,
          1750,
          2350,
          1750,
          3725,
          2500,
          4000,
          3350,
          2774.5,
          2875,
          1500,
          1650,
          1950,
          1810,
          3600,
          5600,
          3800,
          3000,
          3000,
          1775,
          1999,
          2757,
          2975,
          3500,
          2695,
          4450,
          3695.5,
          3458,
          3150,
          1450,
          2200,
          3097.5,
          2400,
          3975,
          2599,
          4750,
          3100,
          3400,
          3100,
          1798,
          2668,
          3000,
          2650,
          2750,
          2443,
          4775,
          4652.5,
          3795,
          3247.5,
          2200,
          2495,
          2995,
          2300,
          1142,
          3400,
          5000,
          3547.5,
          3395,
          3175,
          1825,
          3158
         ],
         "yaxis": "y"
        },
        {
         "customdata": [
          [
           "3.0 Beds - 1.0 Baths",
           "contra costa"
          ],
          [
           "3.0 Beds - 1.0 Baths",
           "santa clara"
          ],
          [
           "3.0 Beds - 1.0 Baths",
           "san francisco"
          ],
          [
           "3.0 Beds - 1.0 Baths",
           "santa clara"
          ],
          [
           "3.0 Beds - 1.0 Baths",
           "contra costa"
          ],
          [
           "3.0 Beds - 1.0 Baths",
           "alameda"
          ],
          [
           "3.0 Beds - 1.0 Baths",
           "contra costa"
          ],
          [
           "3.0 Beds - 1.0 Baths",
           "marin"
          ],
          [
           "3.0 Beds - 1.0 Baths",
           "san francisco"
          ],
          [
           "3.0 Beds - 1.0 Baths",
           "san mateo"
          ],
          [
           "3.0 Beds - 1.0 Baths",
           "santa clara"
          ],
          [
           "3.0 Beds - 1.0 Baths",
           "solano"
          ],
          [
           "3.0 Beds - 1.0 Baths",
           "alameda"
          ],
          [
           "3.0 Beds - 1.0 Baths",
           "contra costa"
          ],
          [
           "3.0 Beds - 1.0 Baths",
           "marin"
          ],
          [
           "3.0 Beds - 1.0 Baths",
           "napa"
          ],
          [
           "3.0 Beds - 1.0 Baths",
           "san francisco"
          ],
          [
           "3.0 Beds - 1.0 Baths",
           "san mateo"
          ],
          [
           "3.0 Beds - 1.0 Baths",
           "santa clara"
          ],
          [
           "3.0 Beds - 1.0 Baths",
           "santa cruz"
          ],
          [
           "3.0 Beds - 1.0 Baths",
           "solano"
          ],
          [
           "3.0 Beds - 1.0 Baths",
           "sonoma"
          ],
          [
           "3.0 Beds - 1.0 Baths",
           "alameda"
          ],
          [
           "3.0 Beds - 1.0 Baths",
           "contra costa"
          ],
          [
           "3.0 Beds - 1.0 Baths",
           "san francisco"
          ],
          [
           "3.0 Beds - 1.0 Baths",
           "san mateo"
          ],
          [
           "3.0 Beds - 1.0 Baths",
           "santa clara"
          ],
          [
           "3.0 Beds - 1.0 Baths",
           "santa cruz"
          ],
          [
           "3.0 Beds - 1.0 Baths",
           "solano"
          ],
          [
           "3.0 Beds - 1.0 Baths",
           "alameda"
          ],
          [
           "3.0 Beds - 1.0 Baths",
           "contra costa"
          ],
          [
           "3.0 Beds - 1.0 Baths",
           "san francisco"
          ],
          [
           "3.0 Beds - 1.0 Baths",
           "san mateo"
          ],
          [
           "3.0 Beds - 1.0 Baths",
           "santa clara"
          ],
          [
           "3.0 Beds - 1.0 Baths",
           "santa cruz"
          ],
          [
           "3.0 Beds - 1.0 Baths",
           "solano"
          ],
          [
           "3.0 Beds - 1.0 Baths",
           "sonoma"
          ],
          [
           "3.0 Beds - 1.0 Baths",
           "alameda"
          ],
          [
           "3.0 Beds - 1.0 Baths",
           "contra costa"
          ],
          [
           "3.0 Beds - 1.0 Baths",
           "marin"
          ],
          [
           "3.0 Beds - 1.0 Baths",
           "napa"
          ],
          [
           "3.0 Beds - 1.0 Baths",
           "san francisco"
          ],
          [
           "3.0 Beds - 1.0 Baths",
           "san mateo"
          ],
          [
           "3.0 Beds - 1.0 Baths",
           "santa clara"
          ],
          [
           "3.0 Beds - 1.0 Baths",
           "santa cruz"
          ],
          [
           "3.0 Beds - 1.0 Baths",
           "solano"
          ],
          [
           "3.0 Beds - 1.0 Baths",
           "sonoma"
          ],
          [
           "3.0 Beds - 1.0 Baths",
           "alameda"
          ],
          [
           "3.0 Beds - 1.0 Baths",
           "contra costa"
          ],
          [
           "3.0 Beds - 1.0 Baths",
           "napa"
          ],
          [
           "3.0 Beds - 1.0 Baths",
           "san francisco"
          ],
          [
           "3.0 Beds - 1.0 Baths",
           "san mateo"
          ],
          [
           "3.0 Beds - 1.0 Baths",
           "santa clara"
          ],
          [
           "3.0 Beds - 1.0 Baths",
           "santa cruz"
          ],
          [
           "3.0 Beds - 1.0 Baths",
           "solano"
          ],
          [
           "3.0 Beds - 1.0 Baths",
           "sonoma"
          ],
          [
           "3.0 Beds - 1.0 Baths",
           "alameda"
          ],
          [
           "3.0 Beds - 1.0 Baths",
           "contra costa"
          ],
          [
           "3.0 Beds - 1.0 Baths",
           "san francisco"
          ],
          [
           "3.0 Beds - 1.0 Baths",
           "san mateo"
          ],
          [
           "3.0 Beds - 1.0 Baths",
           "santa clara"
          ],
          [
           "3.0 Beds - 1.0 Baths",
           "santa cruz"
          ],
          [
           "3.0 Beds - 1.0 Baths",
           "sonoma"
          ],
          [
           "3.0 Beds - 1.0 Baths",
           "alameda"
          ],
          [
           "3.0 Beds - 1.0 Baths",
           "marin"
          ],
          [
           "3.0 Beds - 1.0 Baths",
           "san francisco"
          ],
          [
           "3.0 Beds - 1.0 Baths",
           "san mateo"
          ],
          [
           "3.0 Beds - 1.0 Baths",
           "santa clara"
          ]
         ],
         "hovertemplate": "bed_bath=%{customdata[0]}<br>sqft=%{x}<br>price=%{y}<br>county=%{customdata[1]}<extra></extra>",
         "legendgroup": "3.0 Beds - 1.0 Baths",
         "marker": {
          "color": "#ab63fa",
          "symbol": "x"
         },
         "mode": "markers",
         "name": "3.0 Beds - 1.0 Baths",
         "orientation": "v",
         "showlegend": true,
         "type": "scatter",
         "x": [
          1400,
          1500,
          1800,
          1200,
          1500,
          1200,
          1086.5,
          1200,
          1414,
          1100,
          1150,
          988,
          1175,
          1052,
          1056,
          1150,
          1200,
          1180,
          1134,
          1100,
          990,
          1047,
          1100,
          1200,
          1500,
          1221,
          1100,
          1125,
          988,
          1500,
          1150,
          1608,
          1200,
          1406,
          1443,
          1430,
          1372,
          1243.5,
          1208,
          1650,
          1361,
          1735.5,
          1115,
          1441.5,
          1150,
          1090,
          1427,
          1081,
          1086,
          1322,
          1220,
          1110,
          1087.5,
          1200,
          977,
          1360.5,
          1367,
          1272,
          1700,
          1721,
          1355,
          1500,
          1277,
          1400,
          1000,
          1100,
          1637.5,
          1150
         ],
         "xaxis": "x",
         "y": [
          1500,
          1400,
          4800,
          1600,
          1600,
          1650,
          1337.5,
          2800,
          2900,
          2300,
          1675,
          995,
          1650,
          1295,
          1850,
          1800,
          2500,
          2300,
          2100,
          2085,
          1195,
          1195,
          1847.5,
          1375,
          2400,
          2797,
          2350,
          2250,
          1225,
          3100,
          1850,
          5000,
          2800,
          3206,
          3100,
          1650,
          2325,
          3137.5,
          2850,
          4950,
          2422.5,
          7000,
          3509,
          3629,
          2740,
          1442,
          2125,
          2400,
          2050,
          2593,
          5495,
          3950,
          2775,
          2675,
          1575,
          2250,
          2300,
          2397.5,
          4500,
          9000,
          3595,
          2000,
          2450,
          3000,
          2950,
          3797.5,
          2217,
          3295
         ],
         "yaxis": "y"
        },
        {
         "customdata": [
          [
           "1.0 Beds - 1.0 Baths",
           "marin"
          ],
          [
           "1.0 Beds - 1.0 Baths",
           "san francisco"
          ],
          [
           "1.0 Beds - 1.0 Baths",
           "san mateo"
          ],
          [
           "1.0 Beds - 1.0 Baths",
           "santa clara"
          ],
          [
           "1.0 Beds - 1.0 Baths",
           "alameda"
          ],
          [
           "1.0 Beds - 1.0 Baths",
           "san francisco"
          ],
          [
           "1.0 Beds - 1.0 Baths",
           "san mateo"
          ],
          [
           "1.0 Beds - 1.0 Baths",
           "santa clara"
          ],
          [
           "1.0 Beds - 1.0 Baths",
           "alameda"
          ],
          [
           "1.0 Beds - 1.0 Baths",
           "contra costa"
          ],
          [
           "1.0 Beds - 1.0 Baths",
           "san francisco"
          ],
          [
           "1.0 Beds - 1.0 Baths",
           "santa clara"
          ],
          [
           "1.0 Beds - 1.0 Baths",
           "sonoma"
          ],
          [
           "1.0 Beds - 1.0 Baths",
           "san mateo"
          ],
          [
           "1.0 Beds - 1.0 Baths",
           "alameda"
          ],
          [
           "1.0 Beds - 1.0 Baths",
           "san mateo"
          ],
          [
           "1.0 Beds - 1.0 Baths",
           "santa clara"
          ],
          [
           "1.0 Beds - 1.0 Baths",
           "san francisco"
          ],
          [
           "1.0 Beds - 1.0 Baths",
           "santa clara"
          ],
          [
           "1.0 Beds - 1.0 Baths",
           "alameda"
          ],
          [
           "1.0 Beds - 1.0 Baths",
           "contra costa"
          ],
          [
           "1.0 Beds - 1.0 Baths",
           "marin"
          ],
          [
           "1.0 Beds - 1.0 Baths",
           "san francisco"
          ],
          [
           "1.0 Beds - 1.0 Baths",
           "san mateo"
          ],
          [
           "1.0 Beds - 1.0 Baths",
           "santa clara"
          ],
          [
           "1.0 Beds - 1.0 Baths",
           "solano"
          ],
          [
           "1.0 Beds - 1.0 Baths",
           "sonoma"
          ],
          [
           "1.0 Beds - 1.0 Baths",
           "alameda"
          ],
          [
           "1.0 Beds - 1.0 Baths",
           "contra costa"
          ],
          [
           "1.0 Beds - 1.0 Baths",
           "marin"
          ],
          [
           "1.0 Beds - 1.0 Baths",
           "napa"
          ],
          [
           "1.0 Beds - 1.0 Baths",
           "san francisco"
          ],
          [
           "1.0 Beds - 1.0 Baths",
           "san mateo"
          ],
          [
           "1.0 Beds - 1.0 Baths",
           "santa clara"
          ],
          [
           "1.0 Beds - 1.0 Baths",
           "santa cruz"
          ],
          [
           "1.0 Beds - 1.0 Baths",
           "solano"
          ],
          [
           "1.0 Beds - 1.0 Baths",
           "sonoma"
          ],
          [
           "1.0 Beds - 1.0 Baths",
           "alameda"
          ],
          [
           "1.0 Beds - 1.0 Baths",
           "contra costa"
          ],
          [
           "1.0 Beds - 1.0 Baths",
           "marin"
          ],
          [
           "1.0 Beds - 1.0 Baths",
           "napa"
          ],
          [
           "1.0 Beds - 1.0 Baths",
           "san francisco"
          ],
          [
           "1.0 Beds - 1.0 Baths",
           "san mateo"
          ],
          [
           "1.0 Beds - 1.0 Baths",
           "santa clara"
          ],
          [
           "1.0 Beds - 1.0 Baths",
           "santa cruz"
          ],
          [
           "1.0 Beds - 1.0 Baths",
           "solano"
          ],
          [
           "1.0 Beds - 1.0 Baths",
           "sonoma"
          ],
          [
           "1.0 Beds - 1.0 Baths",
           "alameda"
          ],
          [
           "1.0 Beds - 1.0 Baths",
           "contra costa"
          ],
          [
           "1.0 Beds - 1.0 Baths",
           "marin"
          ],
          [
           "1.0 Beds - 1.0 Baths",
           "napa"
          ],
          [
           "1.0 Beds - 1.0 Baths",
           "san francisco"
          ],
          [
           "1.0 Beds - 1.0 Baths",
           "san mateo"
          ],
          [
           "1.0 Beds - 1.0 Baths",
           "santa clara"
          ],
          [
           "1.0 Beds - 1.0 Baths",
           "santa cruz"
          ],
          [
           "1.0 Beds - 1.0 Baths",
           "solano"
          ],
          [
           "1.0 Beds - 1.0 Baths",
           "sonoma"
          ],
          [
           "1.0 Beds - 1.0 Baths",
           "alameda"
          ],
          [
           "1.0 Beds - 1.0 Baths",
           "contra costa"
          ],
          [
           "1.0 Beds - 1.0 Baths",
           "marin"
          ],
          [
           "1.0 Beds - 1.0 Baths",
           "napa"
          ],
          [
           "1.0 Beds - 1.0 Baths",
           "san francisco"
          ],
          [
           "1.0 Beds - 1.0 Baths",
           "san mateo"
          ],
          [
           "1.0 Beds - 1.0 Baths",
           "santa clara"
          ],
          [
           "1.0 Beds - 1.0 Baths",
           "santa cruz"
          ],
          [
           "1.0 Beds - 1.0 Baths",
           "solano"
          ],
          [
           "1.0 Beds - 1.0 Baths",
           "sonoma"
          ],
          [
           "1.0 Beds - 1.0 Baths",
           "alameda"
          ],
          [
           "1.0 Beds - 1.0 Baths",
           "contra costa"
          ],
          [
           "1.0 Beds - 1.0 Baths",
           "marin"
          ],
          [
           "1.0 Beds - 1.0 Baths",
           "napa"
          ],
          [
           "1.0 Beds - 1.0 Baths",
           "san francisco"
          ],
          [
           "1.0 Beds - 1.0 Baths",
           "san mateo"
          ],
          [
           "1.0 Beds - 1.0 Baths",
           "santa clara"
          ],
          [
           "1.0 Beds - 1.0 Baths",
           "santa cruz"
          ],
          [
           "1.0 Beds - 1.0 Baths",
           "solano"
          ],
          [
           "1.0 Beds - 1.0 Baths",
           "sonoma"
          ],
          [
           "1.0 Beds - 1.0 Baths",
           "alameda"
          ],
          [
           "1.0 Beds - 1.0 Baths",
           "contra costa"
          ],
          [
           "1.0 Beds - 1.0 Baths",
           "marin"
          ],
          [
           "1.0 Beds - 1.0 Baths",
           "san francisco"
          ],
          [
           "1.0 Beds - 1.0 Baths",
           "san mateo"
          ],
          [
           "1.0 Beds - 1.0 Baths",
           "santa clara"
          ],
          [
           "1.0 Beds - 1.0 Baths",
           "santa cruz"
          ],
          [
           "1.0 Beds - 1.0 Baths",
           "sonoma"
          ],
          [
           "1.0 Beds - 1.0 Baths",
           "alameda"
          ],
          [
           "1.0 Beds - 1.0 Baths",
           "contra costa"
          ],
          [
           "1.0 Beds - 1.0 Baths",
           "marin"
          ],
          [
           "1.0 Beds - 1.0 Baths",
           "napa"
          ],
          [
           "1.0 Beds - 1.0 Baths",
           "san francisco"
          ],
          [
           "1.0 Beds - 1.0 Baths",
           "san mateo"
          ],
          [
           "1.0 Beds - 1.0 Baths",
           "santa clara"
          ],
          [
           "1.0 Beds - 1.0 Baths",
           "santa cruz"
          ],
          [
           "1.0 Beds - 1.0 Baths",
           "solano"
          ],
          [
           "1.0 Beds - 1.0 Baths",
           "sonoma"
          ]
         ],
         "hovertemplate": "bed_bath=%{customdata[0]}<br>sqft=%{x}<br>price=%{y}<br>county=%{customdata[1]}<extra></extra>",
         "legendgroup": "1.0 Beds - 1.0 Baths",
         "marker": {
          "color": "#FFA15A",
          "symbol": "cross"
         },
         "mode": "markers",
         "name": "1.0 Beds - 1.0 Baths",
         "orientation": "v",
         "showlegend": true,
         "type": "scatter",
         "x": [
          1200,
          1100,
          950,
          705,
          704,
          625,
          900,
          705,
          704,
          756,
          780,
          705,
          750,
          700,
          900,
          752.5,
          727.5,
          1000,
          650,
          796,
          600,
          708,
          740,
          710,
          700,
          715,
          650,
          700,
          672,
          652.5,
          820,
          750,
          700,
          715.5,
          779,
          735,
          650,
          700,
          617,
          700,
          700,
          750,
          638,
          690,
          500,
          650,
          624,
          713,
          665,
          749,
          725,
          798,
          690,
          720,
          575,
          596,
          626,
          670,
          706,
          698,
          715,
          723,
          700,
          700,
          650,
          710,
          624,
          715,
          690,
          650,
          830.5,
          706,
          700,
          700,
          616.5,
          795,
          625.5,
          750,
          715,
          660,
          730.5,
          722,
          647,
          589,
          750,
          661,
          660,
          650,
          690,
          750,
          680,
          675,
          576,
          792,
          600.5
         ],
         "xaxis": "x",
         "y": [
          2000,
          1850,
          1150,
          1025,
          1105,
          1244.5,
          1195,
          1145,
          1275,
          1100,
          1600,
          1470,
          1195,
          1250,
          1465,
          1372.5,
          1397,
          1600,
          1295,
          1100,
          850,
          1595,
          2150,
          1635,
          1420,
          847.5,
          977,
          1390,
          1200,
          1600,
          1179,
          2395,
          1783,
          1555,
          1000,
          945,
          1100,
          1525,
          1435,
          1600,
          1295,
          2970,
          1950,
          1828,
          1150,
          795,
          1179,
          1888.5,
          1622,
          3000,
          850,
          3100,
          1800,
          1860,
          1487.5,
          1050,
          1633,
          1989.5,
          1678.5,
          2075,
          1623,
          3347,
          2495,
          2177.5,
          1700,
          1511.5,
          1604.5,
          2195,
          1700,
          2295,
          1977,
          3200,
          2495,
          2095,
          1800,
          1636.5,
          1718,
          2300,
          1780,
          2010,
          3075,
          2500,
          2095,
          1995,
          1600,
          1975,
          1925,
          2300,
          1690,
          3114,
          2497.5,
          2130,
          2000,
          1595,
          1885
         ],
         "yaxis": "y"
        }
       ],
       "layout": {
        "legend": {
         "title": {
          "text": "bed_bath"
         },
         "tracegroupgap": 0
        },
        "template": {
         "data": {
          "bar": [
           {
            "error_x": {
             "color": "#2a3f5f"
            },
            "error_y": {
             "color": "#2a3f5f"
            },
            "marker": {
             "line": {
              "color": "#E5ECF6",
              "width": 0.5
             },
             "pattern": {
              "fillmode": "overlay",
              "size": 10,
              "solidity": 0.2
             }
            },
            "type": "bar"
           }
          ],
          "barpolar": [
           {
            "marker": {
             "line": {
              "color": "#E5ECF6",
              "width": 0.5
             },
             "pattern": {
              "fillmode": "overlay",
              "size": 10,
              "solidity": 0.2
             }
            },
            "type": "barpolar"
           }
          ],
          "carpet": [
           {
            "aaxis": {
             "endlinecolor": "#2a3f5f",
             "gridcolor": "white",
             "linecolor": "white",
             "minorgridcolor": "white",
             "startlinecolor": "#2a3f5f"
            },
            "baxis": {
             "endlinecolor": "#2a3f5f",
             "gridcolor": "white",
             "linecolor": "white",
             "minorgridcolor": "white",
             "startlinecolor": "#2a3f5f"
            },
            "type": "carpet"
           }
          ],
          "choropleth": [
           {
            "colorbar": {
             "outlinewidth": 0,
             "ticks": ""
            },
            "type": "choropleth"
           }
          ],
          "contour": [
           {
            "colorbar": {
             "outlinewidth": 0,
             "ticks": ""
            },
            "colorscale": [
             [
              0,
              "#0d0887"
             ],
             [
              0.1111111111111111,
              "#46039f"
             ],
             [
              0.2222222222222222,
              "#7201a8"
             ],
             [
              0.3333333333333333,
              "#9c179e"
             ],
             [
              0.4444444444444444,
              "#bd3786"
             ],
             [
              0.5555555555555556,
              "#d8576b"
             ],
             [
              0.6666666666666666,
              "#ed7953"
             ],
             [
              0.7777777777777778,
              "#fb9f3a"
             ],
             [
              0.8888888888888888,
              "#fdca26"
             ],
             [
              1,
              "#f0f921"
             ]
            ],
            "type": "contour"
           }
          ],
          "contourcarpet": [
           {
            "colorbar": {
             "outlinewidth": 0,
             "ticks": ""
            },
            "type": "contourcarpet"
           }
          ],
          "heatmap": [
           {
            "colorbar": {
             "outlinewidth": 0,
             "ticks": ""
            },
            "colorscale": [
             [
              0,
              "#0d0887"
             ],
             [
              0.1111111111111111,
              "#46039f"
             ],
             [
              0.2222222222222222,
              "#7201a8"
             ],
             [
              0.3333333333333333,
              "#9c179e"
             ],
             [
              0.4444444444444444,
              "#bd3786"
             ],
             [
              0.5555555555555556,
              "#d8576b"
             ],
             [
              0.6666666666666666,
              "#ed7953"
             ],
             [
              0.7777777777777778,
              "#fb9f3a"
             ],
             [
              0.8888888888888888,
              "#fdca26"
             ],
             [
              1,
              "#f0f921"
             ]
            ],
            "type": "heatmap"
           }
          ],
          "heatmapgl": [
           {
            "colorbar": {
             "outlinewidth": 0,
             "ticks": ""
            },
            "colorscale": [
             [
              0,
              "#0d0887"
             ],
             [
              0.1111111111111111,
              "#46039f"
             ],
             [
              0.2222222222222222,
              "#7201a8"
             ],
             [
              0.3333333333333333,
              "#9c179e"
             ],
             [
              0.4444444444444444,
              "#bd3786"
             ],
             [
              0.5555555555555556,
              "#d8576b"
             ],
             [
              0.6666666666666666,
              "#ed7953"
             ],
             [
              0.7777777777777778,
              "#fb9f3a"
             ],
             [
              0.8888888888888888,
              "#fdca26"
             ],
             [
              1,
              "#f0f921"
             ]
            ],
            "type": "heatmapgl"
           }
          ],
          "histogram": [
           {
            "marker": {
             "pattern": {
              "fillmode": "overlay",
              "size": 10,
              "solidity": 0.2
             }
            },
            "type": "histogram"
           }
          ],
          "histogram2d": [
           {
            "colorbar": {
             "outlinewidth": 0,
             "ticks": ""
            },
            "colorscale": [
             [
              0,
              "#0d0887"
             ],
             [
              0.1111111111111111,
              "#46039f"
             ],
             [
              0.2222222222222222,
              "#7201a8"
             ],
             [
              0.3333333333333333,
              "#9c179e"
             ],
             [
              0.4444444444444444,
              "#bd3786"
             ],
             [
              0.5555555555555556,
              "#d8576b"
             ],
             [
              0.6666666666666666,
              "#ed7953"
             ],
             [
              0.7777777777777778,
              "#fb9f3a"
             ],
             [
              0.8888888888888888,
              "#fdca26"
             ],
             [
              1,
              "#f0f921"
             ]
            ],
            "type": "histogram2d"
           }
          ],
          "histogram2dcontour": [
           {
            "colorbar": {
             "outlinewidth": 0,
             "ticks": ""
            },
            "colorscale": [
             [
              0,
              "#0d0887"
             ],
             [
              0.1111111111111111,
              "#46039f"
             ],
             [
              0.2222222222222222,
              "#7201a8"
             ],
             [
              0.3333333333333333,
              "#9c179e"
             ],
             [
              0.4444444444444444,
              "#bd3786"
             ],
             [
              0.5555555555555556,
              "#d8576b"
             ],
             [
              0.6666666666666666,
              "#ed7953"
             ],
             [
              0.7777777777777778,
              "#fb9f3a"
             ],
             [
              0.8888888888888888,
              "#fdca26"
             ],
             [
              1,
              "#f0f921"
             ]
            ],
            "type": "histogram2dcontour"
           }
          ],
          "mesh3d": [
           {
            "colorbar": {
             "outlinewidth": 0,
             "ticks": ""
            },
            "type": "mesh3d"
           }
          ],
          "parcoords": [
           {
            "line": {
             "colorbar": {
              "outlinewidth": 0,
              "ticks": ""
             }
            },
            "type": "parcoords"
           }
          ],
          "pie": [
           {
            "automargin": true,
            "type": "pie"
           }
          ],
          "scatter": [
           {
            "fillpattern": {
             "fillmode": "overlay",
             "size": 10,
             "solidity": 0.2
            },
            "type": "scatter"
           }
          ],
          "scatter3d": [
           {
            "line": {
             "colorbar": {
              "outlinewidth": 0,
              "ticks": ""
             }
            },
            "marker": {
             "colorbar": {
              "outlinewidth": 0,
              "ticks": ""
             }
            },
            "type": "scatter3d"
           }
          ],
          "scattercarpet": [
           {
            "marker": {
             "colorbar": {
              "outlinewidth": 0,
              "ticks": ""
             }
            },
            "type": "scattercarpet"
           }
          ],
          "scattergeo": [
           {
            "marker": {
             "colorbar": {
              "outlinewidth": 0,
              "ticks": ""
             }
            },
            "type": "scattergeo"
           }
          ],
          "scattergl": [
           {
            "marker": {
             "colorbar": {
              "outlinewidth": 0,
              "ticks": ""
             }
            },
            "type": "scattergl"
           }
          ],
          "scattermapbox": [
           {
            "marker": {
             "colorbar": {
              "outlinewidth": 0,
              "ticks": ""
             }
            },
            "type": "scattermapbox"
           }
          ],
          "scatterpolar": [
           {
            "marker": {
             "colorbar": {
              "outlinewidth": 0,
              "ticks": ""
             }
            },
            "type": "scatterpolar"
           }
          ],
          "scatterpolargl": [
           {
            "marker": {
             "colorbar": {
              "outlinewidth": 0,
              "ticks": ""
             }
            },
            "type": "scatterpolargl"
           }
          ],
          "scatterternary": [
           {
            "marker": {
             "colorbar": {
              "outlinewidth": 0,
              "ticks": ""
             }
            },
            "type": "scatterternary"
           }
          ],
          "surface": [
           {
            "colorbar": {
             "outlinewidth": 0,
             "ticks": ""
            },
            "colorscale": [
             [
              0,
              "#0d0887"
             ],
             [
              0.1111111111111111,
              "#46039f"
             ],
             [
              0.2222222222222222,
              "#7201a8"
             ],
             [
              0.3333333333333333,
              "#9c179e"
             ],
             [
              0.4444444444444444,
              "#bd3786"
             ],
             [
              0.5555555555555556,
              "#d8576b"
             ],
             [
              0.6666666666666666,
              "#ed7953"
             ],
             [
              0.7777777777777778,
              "#fb9f3a"
             ],
             [
              0.8888888888888888,
              "#fdca26"
             ],
             [
              1,
              "#f0f921"
             ]
            ],
            "type": "surface"
           }
          ],
          "table": [
           {
            "cells": {
             "fill": {
              "color": "#EBF0F8"
             },
             "line": {
              "color": "white"
             }
            },
            "header": {
             "fill": {
              "color": "#C8D4E3"
             },
             "line": {
              "color": "white"
             }
            },
            "type": "table"
           }
          ]
         },
         "layout": {
          "annotationdefaults": {
           "arrowcolor": "#2a3f5f",
           "arrowhead": 0,
           "arrowwidth": 1
          },
          "autotypenumbers": "strict",
          "coloraxis": {
           "colorbar": {
            "outlinewidth": 0,
            "ticks": ""
           }
          },
          "colorscale": {
           "diverging": [
            [
             0,
             "#8e0152"
            ],
            [
             0.1,
             "#c51b7d"
            ],
            [
             0.2,
             "#de77ae"
            ],
            [
             0.3,
             "#f1b6da"
            ],
            [
             0.4,
             "#fde0ef"
            ],
            [
             0.5,
             "#f7f7f7"
            ],
            [
             0.6,
             "#e6f5d0"
            ],
            [
             0.7,
             "#b8e186"
            ],
            [
             0.8,
             "#7fbc41"
            ],
            [
             0.9,
             "#4d9221"
            ],
            [
             1,
             "#276419"
            ]
           ],
           "sequential": [
            [
             0,
             "#0d0887"
            ],
            [
             0.1111111111111111,
             "#46039f"
            ],
            [
             0.2222222222222222,
             "#7201a8"
            ],
            [
             0.3333333333333333,
             "#9c179e"
            ],
            [
             0.4444444444444444,
             "#bd3786"
            ],
            [
             0.5555555555555556,
             "#d8576b"
            ],
            [
             0.6666666666666666,
             "#ed7953"
            ],
            [
             0.7777777777777778,
             "#fb9f3a"
            ],
            [
             0.8888888888888888,
             "#fdca26"
            ],
            [
             1,
             "#f0f921"
            ]
           ],
           "sequentialminus": [
            [
             0,
             "#0d0887"
            ],
            [
             0.1111111111111111,
             "#46039f"
            ],
            [
             0.2222222222222222,
             "#7201a8"
            ],
            [
             0.3333333333333333,
             "#9c179e"
            ],
            [
             0.4444444444444444,
             "#bd3786"
            ],
            [
             0.5555555555555556,
             "#d8576b"
            ],
            [
             0.6666666666666666,
             "#ed7953"
            ],
            [
             0.7777777777777778,
             "#fb9f3a"
            ],
            [
             0.8888888888888888,
             "#fdca26"
            ],
            [
             1,
             "#f0f921"
            ]
           ]
          },
          "colorway": [
           "#636efa",
           "#EF553B",
           "#00cc96",
           "#ab63fa",
           "#FFA15A",
           "#19d3f3",
           "#FF6692",
           "#B6E880",
           "#FF97FF",
           "#FECB52"
          ],
          "font": {
           "color": "#2a3f5f"
          },
          "geo": {
           "bgcolor": "white",
           "lakecolor": "white",
           "landcolor": "#E5ECF6",
           "showlakes": true,
           "showland": true,
           "subunitcolor": "white"
          },
          "hoverlabel": {
           "align": "left"
          },
          "hovermode": "closest",
          "mapbox": {
           "style": "light"
          },
          "paper_bgcolor": "white",
          "plot_bgcolor": "#E5ECF6",
          "polar": {
           "angularaxis": {
            "gridcolor": "white",
            "linecolor": "white",
            "ticks": ""
           },
           "bgcolor": "#E5ECF6",
           "radialaxis": {
            "gridcolor": "white",
            "linecolor": "white",
            "ticks": ""
           }
          },
          "scene": {
           "xaxis": {
            "backgroundcolor": "#E5ECF6",
            "gridcolor": "white",
            "gridwidth": 2,
            "linecolor": "white",
            "showbackground": true,
            "ticks": "",
            "zerolinecolor": "white"
           },
           "yaxis": {
            "backgroundcolor": "#E5ECF6",
            "gridcolor": "white",
            "gridwidth": 2,
            "linecolor": "white",
            "showbackground": true,
            "ticks": "",
            "zerolinecolor": "white"
           },
           "zaxis": {
            "backgroundcolor": "#E5ECF6",
            "gridcolor": "white",
            "gridwidth": 2,
            "linecolor": "white",
            "showbackground": true,
            "ticks": "",
            "zerolinecolor": "white"
           }
          },
          "shapedefaults": {
           "line": {
            "color": "#2a3f5f"
           }
          },
          "ternary": {
           "aaxis": {
            "gridcolor": "white",
            "linecolor": "white",
            "ticks": ""
           },
           "baxis": {
            "gridcolor": "white",
            "linecolor": "white",
            "ticks": ""
           },
           "bgcolor": "#E5ECF6",
           "caxis": {
            "gridcolor": "white",
            "linecolor": "white",
            "ticks": ""
           }
          },
          "title": {
           "x": 0.05
          },
          "xaxis": {
           "automargin": true,
           "gridcolor": "white",
           "linecolor": "white",
           "ticks": "",
           "title": {
            "standoff": 15
           },
           "zerolinecolor": "white",
           "zerolinewidth": 2
          },
          "yaxis": {
           "automargin": true,
           "gridcolor": "white",
           "linecolor": "white",
           "ticks": "",
           "title": {
            "standoff": 15
           },
           "zerolinecolor": "white",
           "zerolinewidth": 2
          }
         }
        },
        "title": {
         "text": "Median cost per queare feet by Room dimensions"
        },
        "xaxis": {
         "anchor": "y",
         "domain": [
          0,
          1
         ],
         "title": {
          "text": "sqft"
         }
        },
        "yaxis": {
         "anchor": "x",
         "domain": [
          0,
          1
         ],
         "title": {
          "text": "price"
         }
        }
       }
      }
     },
     "metadata": {},
     "output_type": "display_data"
    }
   ],
   "source": [
    "fig = px.scatter(df_reduced_median, x=\"sqft\", y=\"price\", color=\"bed_bath\", symbol=\"bed_bath\",hover_data=['bed_bath', 'sqft',\"price\",\"county\"], title= \"Median cost per queare feet by Room dimensions\")\n",
    "fig.show()"
   ]
  },
  {
   "cell_type": "code",
   "execution_count": 22,
   "metadata": {},
   "outputs": [
    {
     "data": {
      "image/png": "[encoded data removed]",
      "text/plain": [
       "<IPython.core.display.Image object>"
      ]
     },
     "execution_count": 22,
     "metadata": {},
     "output_type": "execute_result"
    }
   ],
   "source": [
    "# Display Output in production\n",
    "img_bytes = fig.to_image(format=\"png\")\n",
    "from IPython.display import Image\n",
    "Image(img_bytes)"
   ]
  }
 ],
 "metadata": {
  "kernelspec": {
   "display_name": "Python 3.10.4 ('virtual_env')",
   "language": "python",
   "name": "python3"
  },
  "language_info": {
   "codemirror_mode": {
    "name": "ipython",
    "version": 3
   },
   "file_extension": ".py",
   "mimetype": "text/x-python",
   "name": "python",
   "nbconvert_exporter": "python",
   "pygments_lexer": "ipython3",
   "version": "3.10.4"
  },
  "orig_nbformat": 4,
  "vscode": {
   "interpreter": {
    "hash": "dd7abdec0c426186ee9fdc7af8b59e5619dca46fa455c611f2bc54b1036f4006"
   }
  }
 },
 "nbformat": 4,
 "nbformat_minor": 2
}
