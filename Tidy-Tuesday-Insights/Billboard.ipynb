{
 "cells": [
  {
   "cell_type": "markdown",
   "metadata": {},
   "source": [
    "2021-09-14\t<br/>\n",
    "Billboard Top 100 <br/>\n",
    "https://github.com/rfordatascience/tidytuesday/blob/master/data/2021/2021-09-14/readme.md"
   ]
  },
  {
   "cell_type": "markdown",
   "metadata": {},
   "source": [
    "Radar Chart - Completed"
   ]
  },
  {
   "cell_type": "code",
   "execution_count": 7,
   "metadata": {},
   "outputs": [],
   "source": [
    "import pandas as pd\n",
    "import plotly.graph_objects as go\n",
    "import plotly.io as pio\n",
    "pio.renderers.default='jupyterlab'\n",
    "import os"
   ]
  },
  {
   "cell_type": "code",
   "execution_count": 8,
   "metadata": {},
   "outputs": [],
   "source": [
    "df = pd.read_excel(\n",
    "    'https://github.com/rfordatascience/tidytuesday/blob/master/data/2021/2021-09-14/Hot%20100%20Audio%20Features.xlsx?raw=true',\n",
    "     engine='openpyxl',\n",
    ")"
   ]
  },
  {
   "cell_type": "code",
   "execution_count": 9,
   "metadata": {},
   "outputs": [
    {
     "data": {
      "text/html": [
       "<div>\n",
       "<style scoped>\n",
       "    .dataframe tbody tr th:only-of-type {\n",
       "        vertical-align: middle;\n",
       "    }\n",
       "\n",
       "    .dataframe tbody tr th {\n",
       "        vertical-align: top;\n",
       "    }\n",
       "\n",
       "    .dataframe thead th {\n",
       "        text-align: right;\n",
       "    }\n",
       "</style>\n",
       "<table border=\"1\" class=\"dataframe\">\n",
       "  <thead>\n",
       "    <tr style=\"text-align: right;\">\n",
       "      <th></th>\n",
       "      <th>SongID</th>\n",
       "      <th>Performer</th>\n",
       "      <th>Song</th>\n",
       "      <th>spotify_genre</th>\n",
       "      <th>spotify_track_id</th>\n",
       "      <th>spotify_track_preview_url</th>\n",
       "      <th>spotify_track_duration_ms</th>\n",
       "      <th>spotify_track_explicit</th>\n",
       "      <th>spotify_track_album</th>\n",
       "      <th>danceability</th>\n",
       "      <th>...</th>\n",
       "      <th>loudness</th>\n",
       "      <th>mode</th>\n",
       "      <th>speechiness</th>\n",
       "      <th>acousticness</th>\n",
       "      <th>instrumentalness</th>\n",
       "      <th>liveness</th>\n",
       "      <th>valence</th>\n",
       "      <th>tempo</th>\n",
       "      <th>time_signature</th>\n",
       "      <th>spotify_track_popularity</th>\n",
       "    </tr>\n",
       "  </thead>\n",
       "  <tbody>\n",
       "    <tr>\n",
       "      <th>0</th>\n",
       "      <td>-twistin'-White Silver SandsBill Black's Combo</td>\n",
       "      <td>Bill Black's Combo</td>\n",
       "      <td>-twistin'-White Silver Sands</td>\n",
       "      <td>[]</td>\n",
       "      <td>NaN</td>\n",
       "      <td>NaN</td>\n",
       "      <td>NaN</td>\n",
       "      <td>NaN</td>\n",
       "      <td>NaN</td>\n",
       "      <td>NaN</td>\n",
       "      <td>...</td>\n",
       "      <td>NaN</td>\n",
       "      <td>NaN</td>\n",
       "      <td>NaN</td>\n",
       "      <td>NaN</td>\n",
       "      <td>NaN</td>\n",
       "      <td>NaN</td>\n",
       "      <td>NaN</td>\n",
       "      <td>NaN</td>\n",
       "      <td>NaN</td>\n",
       "      <td>NaN</td>\n",
       "    </tr>\n",
       "    <tr>\n",
       "      <th>1</th>\n",
       "      <td>¿Dònde Està Santa Claus? (Where Is Santa Claus...</td>\n",
       "      <td>Augie Rios</td>\n",
       "      <td>¿Dònde Està Santa Claus? (Where Is Santa Claus?)</td>\n",
       "      <td>['novelty']</td>\n",
       "      <td>NaN</td>\n",
       "      <td>NaN</td>\n",
       "      <td>NaN</td>\n",
       "      <td>NaN</td>\n",
       "      <td>NaN</td>\n",
       "      <td>NaN</td>\n",
       "      <td>...</td>\n",
       "      <td>NaN</td>\n",
       "      <td>NaN</td>\n",
       "      <td>NaN</td>\n",
       "      <td>NaN</td>\n",
       "      <td>NaN</td>\n",
       "      <td>NaN</td>\n",
       "      <td>NaN</td>\n",
       "      <td>NaN</td>\n",
       "      <td>NaN</td>\n",
       "      <td>NaN</td>\n",
       "    </tr>\n",
       "    <tr>\n",
       "      <th>2</th>\n",
       "      <td>......And Roses And RosesAndy Williams</td>\n",
       "      <td>Andy Williams</td>\n",
       "      <td>......And Roses And Roses</td>\n",
       "      <td>['adult standards', 'brill building pop', 'eas...</td>\n",
       "      <td>3tvqPPpXyIgKrm4PR9HCf0</td>\n",
       "      <td>https://p.scdn.co/mp3-preview/cef4883cfd1e0e53...</td>\n",
       "      <td>166106.0</td>\n",
       "      <td>0.0</td>\n",
       "      <td>The Essential Andy Williams</td>\n",
       "      <td>0.154</td>\n",
       "      <td>...</td>\n",
       "      <td>-14.063</td>\n",
       "      <td>1.0</td>\n",
       "      <td>0.0315</td>\n",
       "      <td>0.91100</td>\n",
       "      <td>0.000267</td>\n",
       "      <td>0.112</td>\n",
       "      <td>0.150</td>\n",
       "      <td>83.969</td>\n",
       "      <td>4.0</td>\n",
       "      <td>38.0</td>\n",
       "    </tr>\n",
       "    <tr>\n",
       "      <th>3</th>\n",
       "      <td>...And Then There Were DrumsSandy Nelson</td>\n",
       "      <td>Sandy Nelson</td>\n",
       "      <td>...And Then There Were Drums</td>\n",
       "      <td>['rock-and-roll', 'space age pop', 'surf music']</td>\n",
       "      <td>1fHHq3qHU8wpRKHzhojZ4a</td>\n",
       "      <td>NaN</td>\n",
       "      <td>172066.0</td>\n",
       "      <td>0.0</td>\n",
       "      <td>Compelling Percussion</td>\n",
       "      <td>0.588</td>\n",
       "      <td>...</td>\n",
       "      <td>-17.278</td>\n",
       "      <td>0.0</td>\n",
       "      <td>0.0361</td>\n",
       "      <td>0.00256</td>\n",
       "      <td>0.745000</td>\n",
       "      <td>0.145</td>\n",
       "      <td>0.801</td>\n",
       "      <td>121.962</td>\n",
       "      <td>4.0</td>\n",
       "      <td>11.0</td>\n",
       "    </tr>\n",
       "    <tr>\n",
       "      <th>4</th>\n",
       "      <td>...Baby One More TimeBritney Spears</td>\n",
       "      <td>Britney Spears</td>\n",
       "      <td>...Baby One More Time</td>\n",
       "      <td>['dance pop', 'pop', 'post-teen pop']</td>\n",
       "      <td>3MjUtNVVq3C8Fn0MP3zhXa</td>\n",
       "      <td>https://p.scdn.co/mp3-preview/da2134a161f1cb34...</td>\n",
       "      <td>211066.0</td>\n",
       "      <td>0.0</td>\n",
       "      <td>...Baby One More Time (Digital Deluxe Version)</td>\n",
       "      <td>0.759</td>\n",
       "      <td>...</td>\n",
       "      <td>-5.745</td>\n",
       "      <td>0.0</td>\n",
       "      <td>0.0307</td>\n",
       "      <td>0.20200</td>\n",
       "      <td>0.000131</td>\n",
       "      <td>0.443</td>\n",
       "      <td>0.907</td>\n",
       "      <td>92.960</td>\n",
       "      <td>4.0</td>\n",
       "      <td>77.0</td>\n",
       "    </tr>\n",
       "  </tbody>\n",
       "</table>\n",
       "<p>5 rows × 22 columns</p>\n",
       "</div>"
      ],
      "text/plain": [
       "                                              SongID           Performer  \\\n",
       "0     -twistin'-White Silver SandsBill Black's Combo  Bill Black's Combo   \n",
       "1  ¿Dònde Està Santa Claus? (Where Is Santa Claus...          Augie Rios   \n",
       "2             ......And Roses And RosesAndy Williams       Andy Williams   \n",
       "3           ...And Then There Were DrumsSandy Nelson        Sandy Nelson   \n",
       "4                ...Baby One More TimeBritney Spears      Britney Spears   \n",
       "\n",
       "                                               Song  \\\n",
       "0                      -twistin'-White Silver Sands   \n",
       "1  ¿Dònde Està Santa Claus? (Where Is Santa Claus?)   \n",
       "2                         ......And Roses And Roses   \n",
       "3                      ...And Then There Were Drums   \n",
       "4                             ...Baby One More Time   \n",
       "\n",
       "                                       spotify_genre        spotify_track_id  \\\n",
       "0                                                 []                     NaN   \n",
       "1                                        ['novelty']                     NaN   \n",
       "2  ['adult standards', 'brill building pop', 'eas...  3tvqPPpXyIgKrm4PR9HCf0   \n",
       "3   ['rock-and-roll', 'space age pop', 'surf music']  1fHHq3qHU8wpRKHzhojZ4a   \n",
       "4              ['dance pop', 'pop', 'post-teen pop']  3MjUtNVVq3C8Fn0MP3zhXa   \n",
       "\n",
       "                           spotify_track_preview_url  \\\n",
       "0                                                NaN   \n",
       "1                                                NaN   \n",
       "2  https://p.scdn.co/mp3-preview/cef4883cfd1e0e53...   \n",
       "3                                                NaN   \n",
       "4  https://p.scdn.co/mp3-preview/da2134a161f1cb34...   \n",
       "\n",
       "   spotify_track_duration_ms  spotify_track_explicit  \\\n",
       "0                        NaN                     NaN   \n",
       "1                        NaN                     NaN   \n",
       "2                   166106.0                     0.0   \n",
       "3                   172066.0                     0.0   \n",
       "4                   211066.0                     0.0   \n",
       "\n",
       "                              spotify_track_album  danceability  ...  \\\n",
       "0                                             NaN           NaN  ...   \n",
       "1                                             NaN           NaN  ...   \n",
       "2                     The Essential Andy Williams         0.154  ...   \n",
       "3                           Compelling Percussion         0.588  ...   \n",
       "4  ...Baby One More Time (Digital Deluxe Version)         0.759  ...   \n",
       "\n",
       "   loudness  mode  speechiness  acousticness  instrumentalness  liveness  \\\n",
       "0       NaN   NaN          NaN           NaN               NaN       NaN   \n",
       "1       NaN   NaN          NaN           NaN               NaN       NaN   \n",
       "2   -14.063   1.0       0.0315       0.91100          0.000267     0.112   \n",
       "3   -17.278   0.0       0.0361       0.00256          0.745000     0.145   \n",
       "4    -5.745   0.0       0.0307       0.20200          0.000131     0.443   \n",
       "\n",
       "   valence    tempo  time_signature  spotify_track_popularity  \n",
       "0      NaN      NaN             NaN                       NaN  \n",
       "1      NaN      NaN             NaN                       NaN  \n",
       "2    0.150   83.969             4.0                      38.0  \n",
       "3    0.801  121.962             4.0                      11.0  \n",
       "4    0.907   92.960             4.0                      77.0  \n",
       "\n",
       "[5 rows x 22 columns]"
      ]
     },
     "execution_count": 9,
     "metadata": {},
     "output_type": "execute_result"
    }
   ],
   "source": [
    "df.head()"
   ]
  },
  {
   "cell_type": "code",
   "execution_count": 10,
   "metadata": {},
   "outputs": [
    {
     "data": {
      "text/plain": [
       "Index(['SongID', 'Performer', 'Song', 'spotify_genre', 'spotify_track_id',\n",
       "       'spotify_track_preview_url', 'spotify_track_duration_ms',\n",
       "       'spotify_track_explicit', 'spotify_track_album', 'danceability',\n",
       "       'energy', 'key', 'loudness', 'mode', 'speechiness', 'acousticness',\n",
       "       'instrumentalness', 'liveness', 'valence', 'tempo', 'time_signature',\n",
       "       'spotify_track_popularity'],\n",
       "      dtype='object')"
      ]
     },
     "execution_count": 10,
     "metadata": {},
     "output_type": "execute_result"
    }
   ],
   "source": [
    "df.columns"
   ]
  },
  {
   "cell_type": "code",
   "execution_count": 11,
   "metadata": {},
   "outputs": [],
   "source": [
    "df_big=df[['SongID','spotify_genre','spotify_track_duration_ms','danceability','energy', 'key', 'loudness', 'mode', 'speechiness', 'acousticness',\n",
    "       'instrumentalness', 'liveness', 'valence', 'tempo', 'time_signature',\n",
    "       'spotify_track_popularity']]"
   ]
  },
  {
   "cell_type": "code",
   "execution_count": 12,
   "metadata": {},
   "outputs": [
    {
     "data": {
      "text/html": [
       "<div>\n",
       "<style scoped>\n",
       "    .dataframe tbody tr th:only-of-type {\n",
       "        vertical-align: middle;\n",
       "    }\n",
       "\n",
       "    .dataframe tbody tr th {\n",
       "        vertical-align: top;\n",
       "    }\n",
       "\n",
       "    .dataframe thead th {\n",
       "        text-align: right;\n",
       "    }\n",
       "</style>\n",
       "<table border=\"1\" class=\"dataframe\">\n",
       "  <thead>\n",
       "    <tr style=\"text-align: right;\">\n",
       "      <th></th>\n",
       "      <th>SongID</th>\n",
       "      <th>Performer</th>\n",
       "      <th>Song</th>\n",
       "      <th>spotify_genre</th>\n",
       "      <th>spotify_track_id</th>\n",
       "      <th>spotify_track_preview_url</th>\n",
       "      <th>spotify_track_duration_ms</th>\n",
       "      <th>spotify_track_explicit</th>\n",
       "      <th>spotify_track_album</th>\n",
       "      <th>danceability</th>\n",
       "      <th>...</th>\n",
       "      <th>loudness</th>\n",
       "      <th>mode</th>\n",
       "      <th>speechiness</th>\n",
       "      <th>acousticness</th>\n",
       "      <th>instrumentalness</th>\n",
       "      <th>liveness</th>\n",
       "      <th>valence</th>\n",
       "      <th>tempo</th>\n",
       "      <th>time_signature</th>\n",
       "      <th>spotify_track_popularity</th>\n",
       "    </tr>\n",
       "  </thead>\n",
       "  <tbody>\n",
       "    <tr>\n",
       "      <th>29498</th>\n",
       "      <td>Zoo YorkLil Tjay Featuring Fivio Foreign &amp; Pop...</td>\n",
       "      <td>Lil Tjay Featuring Fivio Foreign &amp; Pop Smoke</td>\n",
       "      <td>Zoo York</td>\n",
       "      <td>NaN</td>\n",
       "      <td>NaN</td>\n",
       "      <td>NaN</td>\n",
       "      <td>NaN</td>\n",
       "      <td>NaN</td>\n",
       "      <td>NaN</td>\n",
       "      <td>NaN</td>\n",
       "      <td>...</td>\n",
       "      <td>NaN</td>\n",
       "      <td>NaN</td>\n",
       "      <td>NaN</td>\n",
       "      <td>NaN</td>\n",
       "      <td>NaN</td>\n",
       "      <td>NaN</td>\n",
       "      <td>NaN</td>\n",
       "      <td>NaN</td>\n",
       "      <td>NaN</td>\n",
       "      <td>NaN</td>\n",
       "    </tr>\n",
       "    <tr>\n",
       "      <th>29499</th>\n",
       "      <td>ZoomFuture</td>\n",
       "      <td>Future</td>\n",
       "      <td>Zoom</td>\n",
       "      <td>['atl hip hop', 'hip hop', 'pop rap', 'rap', '...</td>\n",
       "      <td>2IG6Te7JyvrtqhFeOF7le4</td>\n",
       "      <td>https://p.scdn.co/mp3-preview/cb8fde6edc08e70a...</td>\n",
       "      <td>278429.0</td>\n",
       "      <td>1.0</td>\n",
       "      <td>FUTURE</td>\n",
       "      <td>0.852</td>\n",
       "      <td>...</td>\n",
       "      <td>-7.673</td>\n",
       "      <td>1.0</td>\n",
       "      <td>0.426</td>\n",
       "      <td>0.0145</td>\n",
       "      <td>0.000000</td>\n",
       "      <td>0.2630</td>\n",
       "      <td>0.627</td>\n",
       "      <td>150.945</td>\n",
       "      <td>4.0</td>\n",
       "      <td>51.0</td>\n",
       "    </tr>\n",
       "    <tr>\n",
       "      <th>29500</th>\n",
       "      <td>ZoomLil' Boosie Featuring Yung Joc</td>\n",
       "      <td>Lil' Boosie Featuring Yung Joc</td>\n",
       "      <td>Zoom</td>\n",
       "      <td>['baton rouge rap', 'deep southern trap']</td>\n",
       "      <td>NaN</td>\n",
       "      <td>NaN</td>\n",
       "      <td>NaN</td>\n",
       "      <td>NaN</td>\n",
       "      <td>NaN</td>\n",
       "      <td>NaN</td>\n",
       "      <td>...</td>\n",
       "      <td>NaN</td>\n",
       "      <td>NaN</td>\n",
       "      <td>NaN</td>\n",
       "      <td>NaN</td>\n",
       "      <td>NaN</td>\n",
       "      <td>NaN</td>\n",
       "      <td>NaN</td>\n",
       "      <td>NaN</td>\n",
       "      <td>NaN</td>\n",
       "      <td>NaN</td>\n",
       "    </tr>\n",
       "    <tr>\n",
       "      <th>29501</th>\n",
       "      <td>Zorba The GreekHerb Alpert &amp; The Tijuana Brass</td>\n",
       "      <td>Herb Alpert &amp; The Tijuana Brass</td>\n",
       "      <td>Zorba The Greek</td>\n",
       "      <td>['adult standards', 'easy listening', 'lounge']</td>\n",
       "      <td>3WLEVNohakzZmMpN5W7mHK</td>\n",
       "      <td>https://p.scdn.co/mp3-preview/1841a4034ba42fc0...</td>\n",
       "      <td>264853.0</td>\n",
       "      <td>0.0</td>\n",
       "      <td>!!!Going Places!!!</td>\n",
       "      <td>0.531</td>\n",
       "      <td>...</td>\n",
       "      <td>-12.702</td>\n",
       "      <td>1.0</td>\n",
       "      <td>0.323</td>\n",
       "      <td>0.1540</td>\n",
       "      <td>0.279000</td>\n",
       "      <td>0.0584</td>\n",
       "      <td>0.192</td>\n",
       "      <td>82.107</td>\n",
       "      <td>4.0</td>\n",
       "      <td>35.0</td>\n",
       "    </tr>\n",
       "    <tr>\n",
       "      <th>29502</th>\n",
       "      <td>Zunga ZengK7</td>\n",
       "      <td>K7</td>\n",
       "      <td>Zunga Zeng</td>\n",
       "      <td>['freestyle']</td>\n",
       "      <td>0XevPPcCBPovknaBw3lFvh</td>\n",
       "      <td>https://p.scdn.co/mp3-preview/8d5174aeb7d6b740...</td>\n",
       "      <td>273000.0</td>\n",
       "      <td>0.0</td>\n",
       "      <td>Swing Batta Swing!</td>\n",
       "      <td>0.846</td>\n",
       "      <td>...</td>\n",
       "      <td>-9.642</td>\n",
       "      <td>1.0</td>\n",
       "      <td>0.140</td>\n",
       "      <td>0.0478</td>\n",
       "      <td>0.000363</td>\n",
       "      <td>0.0392</td>\n",
       "      <td>0.619</td>\n",
       "      <td>103.743</td>\n",
       "      <td>4.0</td>\n",
       "      <td>28.0</td>\n",
       "    </tr>\n",
       "  </tbody>\n",
       "</table>\n",
       "<p>5 rows × 22 columns</p>\n",
       "</div>"
      ],
      "text/plain": [
       "                                                  SongID  \\\n",
       "29498  Zoo YorkLil Tjay Featuring Fivio Foreign & Pop...   \n",
       "29499                                         ZoomFuture   \n",
       "29500                 ZoomLil' Boosie Featuring Yung Joc   \n",
       "29501     Zorba The GreekHerb Alpert & The Tijuana Brass   \n",
       "29502                                       Zunga ZengK7   \n",
       "\n",
       "                                          Performer             Song  \\\n",
       "29498  Lil Tjay Featuring Fivio Foreign & Pop Smoke         Zoo York   \n",
       "29499                                        Future             Zoom   \n",
       "29500                Lil' Boosie Featuring Yung Joc             Zoom   \n",
       "29501               Herb Alpert & The Tijuana Brass  Zorba The Greek   \n",
       "29502                                            K7       Zunga Zeng   \n",
       "\n",
       "                                           spotify_genre  \\\n",
       "29498                                                NaN   \n",
       "29499  ['atl hip hop', 'hip hop', 'pop rap', 'rap', '...   \n",
       "29500          ['baton rouge rap', 'deep southern trap']   \n",
       "29501    ['adult standards', 'easy listening', 'lounge']   \n",
       "29502                                      ['freestyle']   \n",
       "\n",
       "             spotify_track_id  \\\n",
       "29498                     NaN   \n",
       "29499  2IG6Te7JyvrtqhFeOF7le4   \n",
       "29500                     NaN   \n",
       "29501  3WLEVNohakzZmMpN5W7mHK   \n",
       "29502  0XevPPcCBPovknaBw3lFvh   \n",
       "\n",
       "                               spotify_track_preview_url  \\\n",
       "29498                                                NaN   \n",
       "29499  https://p.scdn.co/mp3-preview/cb8fde6edc08e70a...   \n",
       "29500                                                NaN   \n",
       "29501  https://p.scdn.co/mp3-preview/1841a4034ba42fc0...   \n",
       "29502  https://p.scdn.co/mp3-preview/8d5174aeb7d6b740...   \n",
       "\n",
       "       spotify_track_duration_ms  spotify_track_explicit spotify_track_album  \\\n",
       "29498                        NaN                     NaN                 NaN   \n",
       "29499                   278429.0                     1.0              FUTURE   \n",
       "29500                        NaN                     NaN                 NaN   \n",
       "29501                   264853.0                     0.0  !!!Going Places!!!   \n",
       "29502                   273000.0                     0.0  Swing Batta Swing!   \n",
       "\n",
       "       danceability  ...  loudness  mode  speechiness  acousticness  \\\n",
       "29498           NaN  ...       NaN   NaN          NaN           NaN   \n",
       "29499         0.852  ...    -7.673   1.0        0.426        0.0145   \n",
       "29500           NaN  ...       NaN   NaN          NaN           NaN   \n",
       "29501         0.531  ...   -12.702   1.0        0.323        0.1540   \n",
       "29502         0.846  ...    -9.642   1.0        0.140        0.0478   \n",
       "\n",
       "       instrumentalness  liveness  valence    tempo  time_signature  \\\n",
       "29498               NaN       NaN      NaN      NaN             NaN   \n",
       "29499          0.000000    0.2630    0.627  150.945             4.0   \n",
       "29500               NaN       NaN      NaN      NaN             NaN   \n",
       "29501          0.279000    0.0584    0.192   82.107             4.0   \n",
       "29502          0.000363    0.0392    0.619  103.743             4.0   \n",
       "\n",
       "       spotify_track_popularity  \n",
       "29498                       NaN  \n",
       "29499                      51.0  \n",
       "29500                       NaN  \n",
       "29501                      35.0  \n",
       "29502                      28.0  \n",
       "\n",
       "[5 rows x 22 columns]"
      ]
     },
     "execution_count": 12,
     "metadata": {},
     "output_type": "execute_result"
    }
   ],
   "source": [
    "df.tail()"
   ]
  },
  {
   "cell_type": "code",
   "execution_count": 13,
   "metadata": {},
   "outputs": [
    {
     "data": {
      "text/plain": [
       "\"['adult standards', 'brill building pop', 'easy listening', 'mellow gold']\""
      ]
     },
     "execution_count": 13,
     "metadata": {},
     "output_type": "execute_result"
    }
   ],
   "source": [
    "df.spotify_genre[2]"
   ]
  },
  {
   "cell_type": "code",
   "execution_count": 15,
   "metadata": {},
   "outputs": [],
   "source": [
    "import ast\n",
    "p=ast.literal_eval(df.spotify_genre[2])\n",
    "p=[i.strip() for i in p]"
   ]
  },
  {
   "cell_type": "code",
   "execution_count": 16,
   "metadata": {},
   "outputs": [
    {
     "data": {
      "text/html": [
       "<div>\n",
       "<style scoped>\n",
       "    .dataframe tbody tr th:only-of-type {\n",
       "        vertical-align: middle;\n",
       "    }\n",
       "\n",
       "    .dataframe tbody tr th {\n",
       "        vertical-align: top;\n",
       "    }\n",
       "\n",
       "    .dataframe thead th {\n",
       "        text-align: right;\n",
       "    }\n",
       "</style>\n",
       "<table border=\"1\" class=\"dataframe\">\n",
       "  <thead>\n",
       "    <tr style=\"text-align: right;\">\n",
       "      <th></th>\n",
       "      <th>SongID</th>\n",
       "      <th>Performer</th>\n",
       "      <th>Song</th>\n",
       "      <th>spotify_genre</th>\n",
       "      <th>spotify_track_id</th>\n",
       "      <th>spotify_track_preview_url</th>\n",
       "      <th>spotify_track_duration_ms</th>\n",
       "      <th>spotify_track_explicit</th>\n",
       "      <th>spotify_track_album</th>\n",
       "      <th>danceability</th>\n",
       "      <th>...</th>\n",
       "      <th>loudness</th>\n",
       "      <th>mode</th>\n",
       "      <th>speechiness</th>\n",
       "      <th>acousticness</th>\n",
       "      <th>instrumentalness</th>\n",
       "      <th>liveness</th>\n",
       "      <th>valence</th>\n",
       "      <th>tempo</th>\n",
       "      <th>time_signature</th>\n",
       "      <th>spotify_track_popularity</th>\n",
       "    </tr>\n",
       "  </thead>\n",
       "  <tbody>\n",
       "    <tr>\n",
       "      <th>0</th>\n",
       "      <td>-twistin'-White Silver SandsBill Black's Combo</td>\n",
       "      <td>Bill Black's Combo</td>\n",
       "      <td>-twistin'-White Silver Sands</td>\n",
       "      <td>[]</td>\n",
       "      <td>NaN</td>\n",
       "      <td>NaN</td>\n",
       "      <td>NaN</td>\n",
       "      <td>NaN</td>\n",
       "      <td>NaN</td>\n",
       "      <td>NaN</td>\n",
       "      <td>...</td>\n",
       "      <td>NaN</td>\n",
       "      <td>NaN</td>\n",
       "      <td>NaN</td>\n",
       "      <td>NaN</td>\n",
       "      <td>NaN</td>\n",
       "      <td>NaN</td>\n",
       "      <td>NaN</td>\n",
       "      <td>NaN</td>\n",
       "      <td>NaN</td>\n",
       "      <td>NaN</td>\n",
       "    </tr>\n",
       "    <tr>\n",
       "      <th>1</th>\n",
       "      <td>¿Dònde Està Santa Claus? (Where Is Santa Claus...</td>\n",
       "      <td>Augie Rios</td>\n",
       "      <td>¿Dònde Està Santa Claus? (Where Is Santa Claus?)</td>\n",
       "      <td>['novelty']</td>\n",
       "      <td>NaN</td>\n",
       "      <td>NaN</td>\n",
       "      <td>NaN</td>\n",
       "      <td>NaN</td>\n",
       "      <td>NaN</td>\n",
       "      <td>NaN</td>\n",
       "      <td>...</td>\n",
       "      <td>NaN</td>\n",
       "      <td>NaN</td>\n",
       "      <td>NaN</td>\n",
       "      <td>NaN</td>\n",
       "      <td>NaN</td>\n",
       "      <td>NaN</td>\n",
       "      <td>NaN</td>\n",
       "      <td>NaN</td>\n",
       "      <td>NaN</td>\n",
       "      <td>NaN</td>\n",
       "    </tr>\n",
       "    <tr>\n",
       "      <th>2</th>\n",
       "      <td>......And Roses And RosesAndy Williams</td>\n",
       "      <td>Andy Williams</td>\n",
       "      <td>......And Roses And Roses</td>\n",
       "      <td>['adult standards', 'brill building pop', 'eas...</td>\n",
       "      <td>3tvqPPpXyIgKrm4PR9HCf0</td>\n",
       "      <td>https://p.scdn.co/mp3-preview/cef4883cfd1e0e53...</td>\n",
       "      <td>166106.0</td>\n",
       "      <td>0.0</td>\n",
       "      <td>The Essential Andy Williams</td>\n",
       "      <td>0.154</td>\n",
       "      <td>...</td>\n",
       "      <td>-14.063</td>\n",
       "      <td>1.0</td>\n",
       "      <td>0.0315</td>\n",
       "      <td>0.91100</td>\n",
       "      <td>0.000267</td>\n",
       "      <td>0.1120</td>\n",
       "      <td>0.150</td>\n",
       "      <td>83.969</td>\n",
       "      <td>4.0</td>\n",
       "      <td>38.0</td>\n",
       "    </tr>\n",
       "    <tr>\n",
       "      <th>3</th>\n",
       "      <td>...And Then There Were DrumsSandy Nelson</td>\n",
       "      <td>Sandy Nelson</td>\n",
       "      <td>...And Then There Were Drums</td>\n",
       "      <td>['rock-and-roll', 'space age pop', 'surf music']</td>\n",
       "      <td>1fHHq3qHU8wpRKHzhojZ4a</td>\n",
       "      <td>NaN</td>\n",
       "      <td>172066.0</td>\n",
       "      <td>0.0</td>\n",
       "      <td>Compelling Percussion</td>\n",
       "      <td>0.588</td>\n",
       "      <td>...</td>\n",
       "      <td>-17.278</td>\n",
       "      <td>0.0</td>\n",
       "      <td>0.0361</td>\n",
       "      <td>0.00256</td>\n",
       "      <td>0.745000</td>\n",
       "      <td>0.1450</td>\n",
       "      <td>0.801</td>\n",
       "      <td>121.962</td>\n",
       "      <td>4.0</td>\n",
       "      <td>11.0</td>\n",
       "    </tr>\n",
       "    <tr>\n",
       "      <th>4</th>\n",
       "      <td>...Baby One More TimeBritney Spears</td>\n",
       "      <td>Britney Spears</td>\n",
       "      <td>...Baby One More Time</td>\n",
       "      <td>['dance pop', 'pop', 'post-teen pop']</td>\n",
       "      <td>3MjUtNVVq3C8Fn0MP3zhXa</td>\n",
       "      <td>https://p.scdn.co/mp3-preview/da2134a161f1cb34...</td>\n",
       "      <td>211066.0</td>\n",
       "      <td>0.0</td>\n",
       "      <td>...Baby One More Time (Digital Deluxe Version)</td>\n",
       "      <td>0.759</td>\n",
       "      <td>...</td>\n",
       "      <td>-5.745</td>\n",
       "      <td>0.0</td>\n",
       "      <td>0.0307</td>\n",
       "      <td>0.20200</td>\n",
       "      <td>0.000131</td>\n",
       "      <td>0.4430</td>\n",
       "      <td>0.907</td>\n",
       "      <td>92.960</td>\n",
       "      <td>4.0</td>\n",
       "      <td>77.0</td>\n",
       "    </tr>\n",
       "    <tr>\n",
       "      <th>...</th>\n",
       "      <td>...</td>\n",
       "      <td>...</td>\n",
       "      <td>...</td>\n",
       "      <td>...</td>\n",
       "      <td>...</td>\n",
       "      <td>...</td>\n",
       "      <td>...</td>\n",
       "      <td>...</td>\n",
       "      <td>...</td>\n",
       "      <td>...</td>\n",
       "      <td>...</td>\n",
       "      <td>...</td>\n",
       "      <td>...</td>\n",
       "      <td>...</td>\n",
       "      <td>...</td>\n",
       "      <td>...</td>\n",
       "      <td>...</td>\n",
       "      <td>...</td>\n",
       "      <td>...</td>\n",
       "      <td>...</td>\n",
       "      <td>...</td>\n",
       "    </tr>\n",
       "    <tr>\n",
       "      <th>29498</th>\n",
       "      <td>Zoo YorkLil Tjay Featuring Fivio Foreign &amp; Pop...</td>\n",
       "      <td>Lil Tjay Featuring Fivio Foreign &amp; Pop Smoke</td>\n",
       "      <td>Zoo York</td>\n",
       "      <td>NaN</td>\n",
       "      <td>NaN</td>\n",
       "      <td>NaN</td>\n",
       "      <td>NaN</td>\n",
       "      <td>NaN</td>\n",
       "      <td>NaN</td>\n",
       "      <td>NaN</td>\n",
       "      <td>...</td>\n",
       "      <td>NaN</td>\n",
       "      <td>NaN</td>\n",
       "      <td>NaN</td>\n",
       "      <td>NaN</td>\n",
       "      <td>NaN</td>\n",
       "      <td>NaN</td>\n",
       "      <td>NaN</td>\n",
       "      <td>NaN</td>\n",
       "      <td>NaN</td>\n",
       "      <td>NaN</td>\n",
       "    </tr>\n",
       "    <tr>\n",
       "      <th>29499</th>\n",
       "      <td>ZoomFuture</td>\n",
       "      <td>Future</td>\n",
       "      <td>Zoom</td>\n",
       "      <td>['atl hip hop', 'hip hop', 'pop rap', 'rap', '...</td>\n",
       "      <td>2IG6Te7JyvrtqhFeOF7le4</td>\n",
       "      <td>https://p.scdn.co/mp3-preview/cb8fde6edc08e70a...</td>\n",
       "      <td>278429.0</td>\n",
       "      <td>1.0</td>\n",
       "      <td>FUTURE</td>\n",
       "      <td>0.852</td>\n",
       "      <td>...</td>\n",
       "      <td>-7.673</td>\n",
       "      <td>1.0</td>\n",
       "      <td>0.4260</td>\n",
       "      <td>0.01450</td>\n",
       "      <td>0.000000</td>\n",
       "      <td>0.2630</td>\n",
       "      <td>0.627</td>\n",
       "      <td>150.945</td>\n",
       "      <td>4.0</td>\n",
       "      <td>51.0</td>\n",
       "    </tr>\n",
       "    <tr>\n",
       "      <th>29500</th>\n",
       "      <td>ZoomLil' Boosie Featuring Yung Joc</td>\n",
       "      <td>Lil' Boosie Featuring Yung Joc</td>\n",
       "      <td>Zoom</td>\n",
       "      <td>['baton rouge rap', 'deep southern trap']</td>\n",
       "      <td>NaN</td>\n",
       "      <td>NaN</td>\n",
       "      <td>NaN</td>\n",
       "      <td>NaN</td>\n",
       "      <td>NaN</td>\n",
       "      <td>NaN</td>\n",
       "      <td>...</td>\n",
       "      <td>NaN</td>\n",
       "      <td>NaN</td>\n",
       "      <td>NaN</td>\n",
       "      <td>NaN</td>\n",
       "      <td>NaN</td>\n",
       "      <td>NaN</td>\n",
       "      <td>NaN</td>\n",
       "      <td>NaN</td>\n",
       "      <td>NaN</td>\n",
       "      <td>NaN</td>\n",
       "    </tr>\n",
       "    <tr>\n",
       "      <th>29501</th>\n",
       "      <td>Zorba The GreekHerb Alpert &amp; The Tijuana Brass</td>\n",
       "      <td>Herb Alpert &amp; The Tijuana Brass</td>\n",
       "      <td>Zorba The Greek</td>\n",
       "      <td>['adult standards', 'easy listening', 'lounge']</td>\n",
       "      <td>3WLEVNohakzZmMpN5W7mHK</td>\n",
       "      <td>https://p.scdn.co/mp3-preview/1841a4034ba42fc0...</td>\n",
       "      <td>264853.0</td>\n",
       "      <td>0.0</td>\n",
       "      <td>!!!Going Places!!!</td>\n",
       "      <td>0.531</td>\n",
       "      <td>...</td>\n",
       "      <td>-12.702</td>\n",
       "      <td>1.0</td>\n",
       "      <td>0.3230</td>\n",
       "      <td>0.15400</td>\n",
       "      <td>0.279000</td>\n",
       "      <td>0.0584</td>\n",
       "      <td>0.192</td>\n",
       "      <td>82.107</td>\n",
       "      <td>4.0</td>\n",
       "      <td>35.0</td>\n",
       "    </tr>\n",
       "    <tr>\n",
       "      <th>29502</th>\n",
       "      <td>Zunga ZengK7</td>\n",
       "      <td>K7</td>\n",
       "      <td>Zunga Zeng</td>\n",
       "      <td>['freestyle']</td>\n",
       "      <td>0XevPPcCBPovknaBw3lFvh</td>\n",
       "      <td>https://p.scdn.co/mp3-preview/8d5174aeb7d6b740...</td>\n",
       "      <td>273000.0</td>\n",
       "      <td>0.0</td>\n",
       "      <td>Swing Batta Swing!</td>\n",
       "      <td>0.846</td>\n",
       "      <td>...</td>\n",
       "      <td>-9.642</td>\n",
       "      <td>1.0</td>\n",
       "      <td>0.1400</td>\n",
       "      <td>0.04780</td>\n",
       "      <td>0.000363</td>\n",
       "      <td>0.0392</td>\n",
       "      <td>0.619</td>\n",
       "      <td>103.743</td>\n",
       "      <td>4.0</td>\n",
       "      <td>28.0</td>\n",
       "    </tr>\n",
       "  </tbody>\n",
       "</table>\n",
       "<p>29503 rows × 22 columns</p>\n",
       "</div>"
      ],
      "text/plain": [
       "                                                  SongID  \\\n",
       "0         -twistin'-White Silver SandsBill Black's Combo   \n",
       "1      ¿Dònde Està Santa Claus? (Where Is Santa Claus...   \n",
       "2                 ......And Roses And RosesAndy Williams   \n",
       "3               ...And Then There Were DrumsSandy Nelson   \n",
       "4                    ...Baby One More TimeBritney Spears   \n",
       "...                                                  ...   \n",
       "29498  Zoo YorkLil Tjay Featuring Fivio Foreign & Pop...   \n",
       "29499                                         ZoomFuture   \n",
       "29500                 ZoomLil' Boosie Featuring Yung Joc   \n",
       "29501     Zorba The GreekHerb Alpert & The Tijuana Brass   \n",
       "29502                                       Zunga ZengK7   \n",
       "\n",
       "                                          Performer  \\\n",
       "0                                Bill Black's Combo   \n",
       "1                                        Augie Rios   \n",
       "2                                     Andy Williams   \n",
       "3                                      Sandy Nelson   \n",
       "4                                    Britney Spears   \n",
       "...                                             ...   \n",
       "29498  Lil Tjay Featuring Fivio Foreign & Pop Smoke   \n",
       "29499                                        Future   \n",
       "29500                Lil' Boosie Featuring Yung Joc   \n",
       "29501               Herb Alpert & The Tijuana Brass   \n",
       "29502                                            K7   \n",
       "\n",
       "                                                   Song  \\\n",
       "0                          -twistin'-White Silver Sands   \n",
       "1      ¿Dònde Està Santa Claus? (Where Is Santa Claus?)   \n",
       "2                             ......And Roses And Roses   \n",
       "3                          ...And Then There Were Drums   \n",
       "4                                 ...Baby One More Time   \n",
       "...                                                 ...   \n",
       "29498                                          Zoo York   \n",
       "29499                                              Zoom   \n",
       "29500                                              Zoom   \n",
       "29501                                   Zorba The Greek   \n",
       "29502                                        Zunga Zeng   \n",
       "\n",
       "                                           spotify_genre  \\\n",
       "0                                                     []   \n",
       "1                                            ['novelty']   \n",
       "2      ['adult standards', 'brill building pop', 'eas...   \n",
       "3       ['rock-and-roll', 'space age pop', 'surf music']   \n",
       "4                  ['dance pop', 'pop', 'post-teen pop']   \n",
       "...                                                  ...   \n",
       "29498                                                NaN   \n",
       "29499  ['atl hip hop', 'hip hop', 'pop rap', 'rap', '...   \n",
       "29500          ['baton rouge rap', 'deep southern trap']   \n",
       "29501    ['adult standards', 'easy listening', 'lounge']   \n",
       "29502                                      ['freestyle']   \n",
       "\n",
       "             spotify_track_id  \\\n",
       "0                         NaN   \n",
       "1                         NaN   \n",
       "2      3tvqPPpXyIgKrm4PR9HCf0   \n",
       "3      1fHHq3qHU8wpRKHzhojZ4a   \n",
       "4      3MjUtNVVq3C8Fn0MP3zhXa   \n",
       "...                       ...   \n",
       "29498                     NaN   \n",
       "29499  2IG6Te7JyvrtqhFeOF7le4   \n",
       "29500                     NaN   \n",
       "29501  3WLEVNohakzZmMpN5W7mHK   \n",
       "29502  0XevPPcCBPovknaBw3lFvh   \n",
       "\n",
       "                               spotify_track_preview_url  \\\n",
       "0                                                    NaN   \n",
       "1                                                    NaN   \n",
       "2      https://p.scdn.co/mp3-preview/cef4883cfd1e0e53...   \n",
       "3                                                    NaN   \n",
       "4      https://p.scdn.co/mp3-preview/da2134a161f1cb34...   \n",
       "...                                                  ...   \n",
       "29498                                                NaN   \n",
       "29499  https://p.scdn.co/mp3-preview/cb8fde6edc08e70a...   \n",
       "29500                                                NaN   \n",
       "29501  https://p.scdn.co/mp3-preview/1841a4034ba42fc0...   \n",
       "29502  https://p.scdn.co/mp3-preview/8d5174aeb7d6b740...   \n",
       "\n",
       "       spotify_track_duration_ms  spotify_track_explicit  \\\n",
       "0                            NaN                     NaN   \n",
       "1                            NaN                     NaN   \n",
       "2                       166106.0                     0.0   \n",
       "3                       172066.0                     0.0   \n",
       "4                       211066.0                     0.0   \n",
       "...                          ...                     ...   \n",
       "29498                        NaN                     NaN   \n",
       "29499                   278429.0                     1.0   \n",
       "29500                        NaN                     NaN   \n",
       "29501                   264853.0                     0.0   \n",
       "29502                   273000.0                     0.0   \n",
       "\n",
       "                                  spotify_track_album  danceability  ...  \\\n",
       "0                                                 NaN           NaN  ...   \n",
       "1                                                 NaN           NaN  ...   \n",
       "2                         The Essential Andy Williams         0.154  ...   \n",
       "3                               Compelling Percussion         0.588  ...   \n",
       "4      ...Baby One More Time (Digital Deluxe Version)         0.759  ...   \n",
       "...                                               ...           ...  ...   \n",
       "29498                                             NaN           NaN  ...   \n",
       "29499                                          FUTURE         0.852  ...   \n",
       "29500                                             NaN           NaN  ...   \n",
       "29501                              !!!Going Places!!!         0.531  ...   \n",
       "29502                              Swing Batta Swing!         0.846  ...   \n",
       "\n",
       "       loudness  mode  speechiness  acousticness  instrumentalness  liveness  \\\n",
       "0           NaN   NaN          NaN           NaN               NaN       NaN   \n",
       "1           NaN   NaN          NaN           NaN               NaN       NaN   \n",
       "2       -14.063   1.0       0.0315       0.91100          0.000267    0.1120   \n",
       "3       -17.278   0.0       0.0361       0.00256          0.745000    0.1450   \n",
       "4        -5.745   0.0       0.0307       0.20200          0.000131    0.4430   \n",
       "...         ...   ...          ...           ...               ...       ...   \n",
       "29498       NaN   NaN          NaN           NaN               NaN       NaN   \n",
       "29499    -7.673   1.0       0.4260       0.01450          0.000000    0.2630   \n",
       "29500       NaN   NaN          NaN           NaN               NaN       NaN   \n",
       "29501   -12.702   1.0       0.3230       0.15400          0.279000    0.0584   \n",
       "29502    -9.642   1.0       0.1400       0.04780          0.000363    0.0392   \n",
       "\n",
       "       valence    tempo  time_signature  spotify_track_popularity  \n",
       "0          NaN      NaN             NaN                       NaN  \n",
       "1          NaN      NaN             NaN                       NaN  \n",
       "2        0.150   83.969             4.0                      38.0  \n",
       "3        0.801  121.962             4.0                      11.0  \n",
       "4        0.907   92.960             4.0                      77.0  \n",
       "...        ...      ...             ...                       ...  \n",
       "29498      NaN      NaN             NaN                       NaN  \n",
       "29499    0.627  150.945             4.0                      51.0  \n",
       "29500      NaN      NaN             NaN                       NaN  \n",
       "29501    0.192   82.107             4.0                      35.0  \n",
       "29502    0.619  103.743             4.0                      28.0  \n",
       "\n",
       "[29503 rows x 22 columns]"
      ]
     },
     "execution_count": 16,
     "metadata": {},
     "output_type": "execute_result"
    }
   ],
   "source": [
    "df"
   ]
  },
  {
   "cell_type": "code",
   "execution_count": 17,
   "metadata": {},
   "outputs": [],
   "source": [
    "#df_big.spotify_genre = df_big.spotify_genre.fillna({i: [] for i in df_big.index})\n",
    "df_big = df_big.dropna(axis=0, subset=['spotify_genre'])\n"
   ]
  },
  {
   "cell_type": "code",
   "execution_count": 18,
   "metadata": {
    "tags": []
   },
   "outputs": [],
   "source": [
    "import ast\n",
    "p=df.dropna(axis=0, subset=['spotify_genre'])\n",
    "l = df_big.spotify_genre.apply(lambda x: ast.literal_eval(x))\n",
    "l = l.apply(lambda x: [i.strip() for i in x]) \n",
    "df_big['spotify_genre_cleaned']=l\n"
   ]
  },
  {
   "cell_type": "code",
   "execution_count": 19,
   "metadata": {},
   "outputs": [],
   "source": [
    "df_big=df_big.explode('spotify_genre_cleaned')"
   ]
  },
  {
   "cell_type": "code",
   "execution_count": 20,
   "metadata": {},
   "outputs": [
    {
     "data": {
      "text/plain": [
       "[]                                                                                                 2557\n",
       "['contemporary country', 'country', 'country road']                                                 326\n",
       "['contemporary country', 'country', 'country road', 'modern country rock']                          294\n",
       "['dance pop', 'pop', 'post-teen pop']                                                               285\n",
       "['glee club', 'hollywood', 'post-teen pop']                                                         206\n",
       "                                                                                                   ... \n",
       "['big band', 'cool jazz', 'swing']                                                                    1\n",
       "['brass band', 'new orleans funk', 'second line', 'street band']                                      1\n",
       "['britpop', 'dance rock', 'madchester', 'new romantic', 'new wave', 'new wave pop', 'synthpop']       1\n",
       "['afrobeat', 'afropop', 'highlife']                                                                   1\n",
       "['bolero', 'grupera', 'mariachi', 'norteno', 'ranchera', 'regional mexican']                          1\n",
       "Name: spotify_genre, Length: 3375, dtype: int64"
      ]
     },
     "execution_count": 20,
     "metadata": {},
     "output_type": "execute_result"
    }
   ],
   "source": [
    "df.spotify_genre.value_counts()"
   ]
  },
  {
   "cell_type": "code",
   "execution_count": 21,
   "metadata": {},
   "outputs": [
    {
     "data": {
      "text/plain": [
       "mellow gold               3961\n",
       "soft rock                 3782\n",
       "adult standards           3724\n",
       "brill building pop        3305\n",
       "rock                      3236\n",
       "                          ... \n",
       "halloween                    1\n",
       "library music                1\n",
       "trova                        1\n",
       "classic opm                  1\n",
       "bc underground hip hop       1\n",
       "Name: spotify_genre_cleaned, Length: 1145, dtype: int64"
      ]
     },
     "execution_count": 21,
     "metadata": {},
     "output_type": "execute_result"
    }
   ],
   "source": [
    "#Get top 3 Genres \n",
    "df_big.spotify_genre_cleaned.value_counts()\n"
   ]
  },
  {
   "cell_type": "code",
   "execution_count": 22,
   "metadata": {},
   "outputs": [],
   "source": [
    "p=df_big.loc[df_big.spotify_genre_cleaned=='mellow gold']"
   ]
  },
  {
   "cell_type": "code",
   "execution_count": 23,
   "metadata": {},
   "outputs": [
    {
     "name": "stderr",
     "output_type": "stream",
     "text": [
      "d:\\Users\\DComputer\\Desktop\\learning\\Streamlined EDA and ML\\project_env\\lib\\site-packages\\ipykernel_launcher.py:1: FutureWarning:\n",
      "\n",
      "Indexing with multiple keys (implicitly converted to a tuple of keys) will be deprecated, use a list instead.\n",
      "\n"
     ]
    }
   ],
   "source": [
    "q= p.groupby(['spotify_genre_cleaned'])['danceability','energy', 'key', 'loudness', 'mode', 'speechiness', 'acousticness',\n",
    "       'instrumentalness', 'liveness', 'valence', 'tempo', 'time_signature',\n",
    "       'spotify_track_popularity'].mean()"
   ]
  },
  {
   "cell_type": "code",
   "execution_count": 24,
   "metadata": {},
   "outputs": [],
   "source": [
    "col_names= ['danceability','energy', 'key', 'loudness', 'mode']\n",
    "col_vals= q[['danceability','energy', 'key', 'loudness', 'mode']].values.tolist()[0]"
   ]
  },
  {
   "cell_type": "code",
   "execution_count": 25,
   "metadata": {},
   "outputs": [
    {
     "data": {
      "text/html": [
       "<div>\n",
       "<style scoped>\n",
       "    .dataframe tbody tr th:only-of-type {\n",
       "        vertical-align: middle;\n",
       "    }\n",
       "\n",
       "    .dataframe tbody tr th {\n",
       "        vertical-align: top;\n",
       "    }\n",
       "\n",
       "    .dataframe thead th {\n",
       "        text-align: right;\n",
       "    }\n",
       "</style>\n",
       "<table border=\"1\" class=\"dataframe\">\n",
       "  <thead>\n",
       "    <tr style=\"text-align: right;\">\n",
       "      <th></th>\n",
       "      <th>danceability</th>\n",
       "      <th>energy</th>\n",
       "      <th>key</th>\n",
       "      <th>loudness</th>\n",
       "      <th>mode</th>\n",
       "      <th>speechiness</th>\n",
       "      <th>acousticness</th>\n",
       "      <th>instrumentalness</th>\n",
       "      <th>liveness</th>\n",
       "      <th>valence</th>\n",
       "      <th>tempo</th>\n",
       "      <th>time_signature</th>\n",
       "      <th>spotify_track_popularity</th>\n",
       "    </tr>\n",
       "    <tr>\n",
       "      <th>spotify_genre_cleaned</th>\n",
       "      <th></th>\n",
       "      <th></th>\n",
       "      <th></th>\n",
       "      <th></th>\n",
       "      <th></th>\n",
       "      <th></th>\n",
       "      <th></th>\n",
       "      <th></th>\n",
       "      <th></th>\n",
       "      <th></th>\n",
       "      <th></th>\n",
       "      <th></th>\n",
       "      <th></th>\n",
       "    </tr>\n",
       "  </thead>\n",
       "  <tbody>\n",
       "    <tr>\n",
       "      <th>mellow gold</th>\n",
       "      <td>0.561471</td>\n",
       "      <td>0.592204</td>\n",
       "      <td>5.143902</td>\n",
       "      <td>-10.077541</td>\n",
       "      <td>0.791599</td>\n",
       "      <td>0.042577</td>\n",
       "      <td>0.312561</td>\n",
       "      <td>0.018147</td>\n",
       "      <td>0.187794</td>\n",
       "      <td>0.624368</td>\n",
       "      <td>121.052637</td>\n",
       "      <td>3.949051</td>\n",
       "      <td>38.94288</td>\n",
       "    </tr>\n",
       "  </tbody>\n",
       "</table>\n",
       "</div>"
      ],
      "text/plain": [
       "                       danceability    energy       key   loudness      mode  \\\n",
       "spotify_genre_cleaned                                                          \n",
       "mellow gold                0.561471  0.592204  5.143902 -10.077541  0.791599   \n",
       "\n",
       "                       speechiness  acousticness  instrumentalness  liveness  \\\n",
       "spotify_genre_cleaned                                                          \n",
       "mellow gold               0.042577      0.312561          0.018147  0.187794   \n",
       "\n",
       "                        valence       tempo  time_signature  \\\n",
       "spotify_genre_cleaned                                         \n",
       "mellow gold            0.624368  121.052637        3.949051   \n",
       "\n",
       "                       spotify_track_popularity  \n",
       "spotify_genre_cleaned                            \n",
       "mellow gold                            38.94288  "
      ]
     },
     "execution_count": 25,
     "metadata": {},
     "output_type": "execute_result"
    }
   ],
   "source": [
    "q"
   ]
  },
  {
   "cell_type": "code",
   "execution_count": 26,
   "metadata": {},
   "outputs": [
    {
     "data": {
      "text/plain": [
       "0.5614712737127353"
      ]
     },
     "execution_count": 26,
     "metadata": {},
     "output_type": "execute_result"
    }
   ],
   "source": [
    "col_vals[0]"
   ]
  },
  {
   "cell_type": "code",
   "execution_count": 27,
   "metadata": {},
   "outputs": [
    {
     "data": {
      "application/vnd.plotly.v1+json": {
       "config": {
        "plotlyServerURL": "https://plot.ly"
       },
       "data": [
        {
         "fill": "toself",
         "hovertemplate": "r=%{r}<br>theta=%{theta}<extra></extra>",
         "legendgroup": "",
         "line": {
          "color": "#636efa",
          "dash": "solid"
         },
         "mode": "lines",
         "name": "",
         "r": [
          0.5614712737127353,
          0.5922044173441735,
          5.14390243902439,
          -10.077540650406506,
          0.7915989159891599,
          0.5614712737127353
         ],
         "showlegend": false,
         "subplot": "polar",
         "theta": [
          "danceability",
          "energy",
          "key",
          "loudness",
          "mode",
          "danceability"
         ],
         "type": "scatterpolar"
        }
       ],
       "layout": {
        "legend": {
         "tracegroupgap": 0
        },
        "margin": {
         "t": 60
        },
        "polar": {
         "angularaxis": {
          "direction": "clockwise",
          "rotation": 90
         },
         "domain": {
          "x": [
           0,
           1
          ],
          "y": [
           0,
           1
          ]
         }
        },
        "template": {
         "data": {
          "bar": [
           {
            "error_x": {
             "color": "#2a3f5f"
            },
            "error_y": {
             "color": "#2a3f5f"
            },
            "marker": {
             "line": {
              "color": "#E5ECF6",
              "width": 0.5
             }
            },
            "type": "bar"
           }
          ],
          "barpolar": [
           {
            "marker": {
             "line": {
              "color": "#E5ECF6",
              "width": 0.5
             }
            },
            "type": "barpolar"
           }
          ],
          "carpet": [
           {
            "aaxis": {
             "endlinecolor": "#2a3f5f",
             "gridcolor": "white",
             "linecolor": "white",
             "minorgridcolor": "white",
             "startlinecolor": "#2a3f5f"
            },
            "baxis": {
             "endlinecolor": "#2a3f5f",
             "gridcolor": "white",
             "linecolor": "white",
             "minorgridcolor": "white",
             "startlinecolor": "#2a3f5f"
            },
            "type": "carpet"
           }
          ],
          "choropleth": [
           {
            "colorbar": {
             "outlinewidth": 0,
             "ticks": ""
            },
            "type": "choropleth"
           }
          ],
          "contour": [
           {
            "colorbar": {
             "outlinewidth": 0,
             "ticks": ""
            },
            "colorscale": [
             [
              0,
              "#0d0887"
             ],
             [
              0.1111111111111111,
              "#46039f"
             ],
             [
              0.2222222222222222,
              "#7201a8"
             ],
             [
              0.3333333333333333,
              "#9c179e"
             ],
             [
              0.4444444444444444,
              "#bd3786"
             ],
             [
              0.5555555555555556,
              "#d8576b"
             ],
             [
              0.6666666666666666,
              "#ed7953"
             ],
             [
              0.7777777777777778,
              "#fb9f3a"
             ],
             [
              0.8888888888888888,
              "#fdca26"
             ],
             [
              1,
              "#f0f921"
             ]
            ],
            "type": "contour"
           }
          ],
          "contourcarpet": [
           {
            "colorbar": {
             "outlinewidth": 0,
             "ticks": ""
            },
            "type": "contourcarpet"
           }
          ],
          "heatmap": [
           {
            "colorbar": {
             "outlinewidth": 0,
             "ticks": ""
            },
            "colorscale": [
             [
              0,
              "#0d0887"
             ],
             [
              0.1111111111111111,
              "#46039f"
             ],
             [
              0.2222222222222222,
              "#7201a8"
             ],
             [
              0.3333333333333333,
              "#9c179e"
             ],
             [
              0.4444444444444444,
              "#bd3786"
             ],
             [
              0.5555555555555556,
              "#d8576b"
             ],
             [
              0.6666666666666666,
              "#ed7953"
             ],
             [
              0.7777777777777778,
              "#fb9f3a"
             ],
             [
              0.8888888888888888,
              "#fdca26"
             ],
             [
              1,
              "#f0f921"
             ]
            ],
            "type": "heatmap"
           }
          ],
          "heatmapgl": [
           {
            "colorbar": {
             "outlinewidth": 0,
             "ticks": ""
            },
            "colorscale": [
             [
              0,
              "#0d0887"
             ],
             [
              0.1111111111111111,
              "#46039f"
             ],
             [
              0.2222222222222222,
              "#7201a8"
             ],
             [
              0.3333333333333333,
              "#9c179e"
             ],
             [
              0.4444444444444444,
              "#bd3786"
             ],
             [
              0.5555555555555556,
              "#d8576b"
             ],
             [
              0.6666666666666666,
              "#ed7953"
             ],
             [
              0.7777777777777778,
              "#fb9f3a"
             ],
             [
              0.8888888888888888,
              "#fdca26"
             ],
             [
              1,
              "#f0f921"
             ]
            ],
            "type": "heatmapgl"
           }
          ],
          "histogram": [
           {
            "marker": {
             "colorbar": {
              "outlinewidth": 0,
              "ticks": ""
             }
            },
            "type": "histogram"
           }
          ],
          "histogram2d": [
           {
            "colorbar": {
             "outlinewidth": 0,
             "ticks": ""
            },
            "colorscale": [
             [
              0,
              "#0d0887"
             ],
             [
              0.1111111111111111,
              "#46039f"
             ],
             [
              0.2222222222222222,
              "#7201a8"
             ],
             [
              0.3333333333333333,
              "#9c179e"
             ],
             [
              0.4444444444444444,
              "#bd3786"
             ],
             [
              0.5555555555555556,
              "#d8576b"
             ],
             [
              0.6666666666666666,
              "#ed7953"
             ],
             [
              0.7777777777777778,
              "#fb9f3a"
             ],
             [
              0.8888888888888888,
              "#fdca26"
             ],
             [
              1,
              "#f0f921"
             ]
            ],
            "type": "histogram2d"
           }
          ],
          "histogram2dcontour": [
           {
            "colorbar": {
             "outlinewidth": 0,
             "ticks": ""
            },
            "colorscale": [
             [
              0,
              "#0d0887"
             ],
             [
              0.1111111111111111,
              "#46039f"
             ],
             [
              0.2222222222222222,
              "#7201a8"
             ],
             [
              0.3333333333333333,
              "#9c179e"
             ],
             [
              0.4444444444444444,
              "#bd3786"
             ],
             [
              0.5555555555555556,
              "#d8576b"
             ],
             [
              0.6666666666666666,
              "#ed7953"
             ],
             [
              0.7777777777777778,
              "#fb9f3a"
             ],
             [
              0.8888888888888888,
              "#fdca26"
             ],
             [
              1,
              "#f0f921"
             ]
            ],
            "type": "histogram2dcontour"
           }
          ],
          "mesh3d": [
           {
            "colorbar": {
             "outlinewidth": 0,
             "ticks": ""
            },
            "type": "mesh3d"
           }
          ],
          "parcoords": [
           {
            "line": {
             "colorbar": {
              "outlinewidth": 0,
              "ticks": ""
             }
            },
            "type": "parcoords"
           }
          ],
          "pie": [
           {
            "automargin": true,
            "type": "pie"
           }
          ],
          "scatter": [
           {
            "marker": {
             "colorbar": {
              "outlinewidth": 0,
              "ticks": ""
             }
            },
            "type": "scatter"
           }
          ],
          "scatter3d": [
           {
            "line": {
             "colorbar": {
              "outlinewidth": 0,
              "ticks": ""
             }
            },
            "marker": {
             "colorbar": {
              "outlinewidth": 0,
              "ticks": ""
             }
            },
            "type": "scatter3d"
           }
          ],
          "scattercarpet": [
           {
            "marker": {
             "colorbar": {
              "outlinewidth": 0,
              "ticks": ""
             }
            },
            "type": "scattercarpet"
           }
          ],
          "scattergeo": [
           {
            "marker": {
             "colorbar": {
              "outlinewidth": 0,
              "ticks": ""
             }
            },
            "type": "scattergeo"
           }
          ],
          "scattergl": [
           {
            "marker": {
             "colorbar": {
              "outlinewidth": 0,
              "ticks": ""
             }
            },
            "type": "scattergl"
           }
          ],
          "scattermapbox": [
           {
            "marker": {
             "colorbar": {
              "outlinewidth": 0,
              "ticks": ""
             }
            },
            "type": "scattermapbox"
           }
          ],
          "scatterpolar": [
           {
            "marker": {
             "colorbar": {
              "outlinewidth": 0,
              "ticks": ""
             }
            },
            "type": "scatterpolar"
           }
          ],
          "scatterpolargl": [
           {
            "marker": {
             "colorbar": {
              "outlinewidth": 0,
              "ticks": ""
             }
            },
            "type": "scatterpolargl"
           }
          ],
          "scatterternary": [
           {
            "marker": {
             "colorbar": {
              "outlinewidth": 0,
              "ticks": ""
             }
            },
            "type": "scatterternary"
           }
          ],
          "surface": [
           {
            "colorbar": {
             "outlinewidth": 0,
             "ticks": ""
            },
            "colorscale": [
             [
              0,
              "#0d0887"
             ],
             [
              0.1111111111111111,
              "#46039f"
             ],
             [
              0.2222222222222222,
              "#7201a8"
             ],
             [
              0.3333333333333333,
              "#9c179e"
             ],
             [
              0.4444444444444444,
              "#bd3786"
             ],
             [
              0.5555555555555556,
              "#d8576b"
             ],
             [
              0.6666666666666666,
              "#ed7953"
             ],
             [
              0.7777777777777778,
              "#fb9f3a"
             ],
             [
              0.8888888888888888,
              "#fdca26"
             ],
             [
              1,
              "#f0f921"
             ]
            ],
            "type": "surface"
           }
          ],
          "table": [
           {
            "cells": {
             "fill": {
              "color": "#EBF0F8"
             },
             "line": {
              "color": "white"
             }
            },
            "header": {
             "fill": {
              "color": "#C8D4E3"
             },
             "line": {
              "color": "white"
             }
            },
            "type": "table"
           }
          ]
         },
         "layout": {
          "annotationdefaults": {
           "arrowcolor": "#2a3f5f",
           "arrowhead": 0,
           "arrowwidth": 1
          },
          "autotypenumbers": "strict",
          "coloraxis": {
           "colorbar": {
            "outlinewidth": 0,
            "ticks": ""
           }
          },
          "colorscale": {
           "diverging": [
            [
             0,
             "#8e0152"
            ],
            [
             0.1,
             "#c51b7d"
            ],
            [
             0.2,
             "#de77ae"
            ],
            [
             0.3,
             "#f1b6da"
            ],
            [
             0.4,
             "#fde0ef"
            ],
            [
             0.5,
             "#f7f7f7"
            ],
            [
             0.6,
             "#e6f5d0"
            ],
            [
             0.7,
             "#b8e186"
            ],
            [
             0.8,
             "#7fbc41"
            ],
            [
             0.9,
             "#4d9221"
            ],
            [
             1,
             "#276419"
            ]
           ],
           "sequential": [
            [
             0,
             "#0d0887"
            ],
            [
             0.1111111111111111,
             "#46039f"
            ],
            [
             0.2222222222222222,
             "#7201a8"
            ],
            [
             0.3333333333333333,
             "#9c179e"
            ],
            [
             0.4444444444444444,
             "#bd3786"
            ],
            [
             0.5555555555555556,
             "#d8576b"
            ],
            [
             0.6666666666666666,
             "#ed7953"
            ],
            [
             0.7777777777777778,
             "#fb9f3a"
            ],
            [
             0.8888888888888888,
             "#fdca26"
            ],
            [
             1,
             "#f0f921"
            ]
           ],
           "sequentialminus": [
            [
             0,
             "#0d0887"
            ],
            [
             0.1111111111111111,
             "#46039f"
            ],
            [
             0.2222222222222222,
             "#7201a8"
            ],
            [
             0.3333333333333333,
             "#9c179e"
            ],
            [
             0.4444444444444444,
             "#bd3786"
            ],
            [
             0.5555555555555556,
             "#d8576b"
            ],
            [
             0.6666666666666666,
             "#ed7953"
            ],
            [
             0.7777777777777778,
             "#fb9f3a"
            ],
            [
             0.8888888888888888,
             "#fdca26"
            ],
            [
             1,
             "#f0f921"
            ]
           ]
          },
          "colorway": [
           "#636efa",
           "#EF553B",
           "#00cc96",
           "#ab63fa",
           "#FFA15A",
           "#19d3f3",
           "#FF6692",
           "#B6E880",
           "#FF97FF",
           "#FECB52"
          ],
          "font": {
           "color": "#2a3f5f"
          },
          "geo": {
           "bgcolor": "white",
           "lakecolor": "white",
           "landcolor": "#E5ECF6",
           "showlakes": true,
           "showland": true,
           "subunitcolor": "white"
          },
          "hoverlabel": {
           "align": "left"
          },
          "hovermode": "closest",
          "mapbox": {
           "style": "light"
          },
          "paper_bgcolor": "white",
          "plot_bgcolor": "#E5ECF6",
          "polar": {
           "angularaxis": {
            "gridcolor": "white",
            "linecolor": "white",
            "ticks": ""
           },
           "bgcolor": "#E5ECF6",
           "radialaxis": {
            "gridcolor": "white",
            "linecolor": "white",
            "ticks": ""
           }
          },
          "scene": {
           "xaxis": {
            "backgroundcolor": "#E5ECF6",
            "gridcolor": "white",
            "gridwidth": 2,
            "linecolor": "white",
            "showbackground": true,
            "ticks": "",
            "zerolinecolor": "white"
           },
           "yaxis": {
            "backgroundcolor": "#E5ECF6",
            "gridcolor": "white",
            "gridwidth": 2,
            "linecolor": "white",
            "showbackground": true,
            "ticks": "",
            "zerolinecolor": "white"
           },
           "zaxis": {
            "backgroundcolor": "#E5ECF6",
            "gridcolor": "white",
            "gridwidth": 2,
            "linecolor": "white",
            "showbackground": true,
            "ticks": "",
            "zerolinecolor": "white"
           }
          },
          "shapedefaults": {
           "line": {
            "color": "#2a3f5f"
           }
          },
          "ternary": {
           "aaxis": {
            "gridcolor": "white",
            "linecolor": "white",
            "ticks": ""
           },
           "baxis": {
            "gridcolor": "white",
            "linecolor": "white",
            "ticks": ""
           },
           "bgcolor": "#E5ECF6",
           "caxis": {
            "gridcolor": "white",
            "linecolor": "white",
            "ticks": ""
           }
          },
          "title": {
           "x": 0.05
          },
          "xaxis": {
           "automargin": true,
           "gridcolor": "white",
           "linecolor": "white",
           "ticks": "",
           "title": {
            "standoff": 15
           },
           "zerolinecolor": "white",
           "zerolinewidth": 2
          },
          "yaxis": {
           "automargin": true,
           "gridcolor": "white",
           "linecolor": "white",
           "ticks": "",
           "title": {
            "standoff": 15
           },
           "zerolinecolor": "white",
           "zerolinewidth": 2
          }
         }
        }
       }
      }
     },
     "metadata": {},
     "output_type": "display_data"
    }
   ],
   "source": [
    "# Radar Chart \n",
    "import plotly.express as px\n",
    "\n",
    "fig = px.line_polar(q ,r=col_vals, theta=col_names, line_close=True)\n",
    "fig.update_traces(fill='toself')\n",
    "fig.show()"
   ]
  },
  {
   "cell_type": "code",
   "execution_count": 28,
   "metadata": {},
   "outputs": [
    {
     "data": {
      "image/png": "[encoded data removed]",
      "text/plain": [
       "<IPython.core.display.Image object>"
      ]
     },
     "execution_count": 28,
     "metadata": {},
     "output_type": "execute_result"
    }
   ],
   "source": [
    "# Display Output in production\n",
    "img_bytes = fig.to_image(format=\"png\")\n",
    "from IPython.display import Image\n",
    "Image(img_bytes)\n"
   ]
  }
 ],
 "metadata": {
  "kernelspec": {
   "display_name": "Python 3.10.4 64-bit",
   "language": "python",
   "name": "python3"
  },
  "language_info": {
   "codemirror_mode": {
    "name": "ipython",
    "version": 3
   },
   "file_extension": ".py",
   "mimetype": "text/x-python",
   "name": "python",
   "nbconvert_exporter": "python",
   "pygments_lexer": "ipython3",
   "version": "3.10.4"
  },
  "vscode": {
   "interpreter": {
    "hash": "31b470faf5963e5f083d957aa53d150867d19ea2bfa3ae5b2d64fda0f3a22448"
   }
  }
 },
 "nbformat": 4,
 "nbformat_minor": 5
}
